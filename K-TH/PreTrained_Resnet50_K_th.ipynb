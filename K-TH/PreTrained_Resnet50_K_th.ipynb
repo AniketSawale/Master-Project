{
  "nbformat": 4,
  "nbformat_minor": 0,
  "metadata": {
    "colab": {
      "name": "PreTrained_Resnet50_K-th.ipynb",
      "provenance": [],
      "collapsed_sections": []
    },
    "kernelspec": {
      "name": "python3",
      "display_name": "Python 3"
    }
  },
  "cells": [
    {
      "cell_type": "code",
      "metadata": {
        "id": "Dpvl5Z2ZBshK",
        "colab_type": "code",
        "colab": {
          "base_uri": "https://localhost:8080/",
          "height": 122
        },
        "outputId": "dbc3e553-33f4-4f7a-bf58-2d63e6f5ef92"
      },
      "source": [
        "from google.colab import drive\n",
        "drive.mount('/content/drive')"
      ],
      "execution_count": null,
      "outputs": [
        {
          "output_type": "stream",
          "text": [
            "Go to this URL in a browser: https://accounts.google.com/o/oauth2/auth?client_id=947318989803-6bn6qk8qdgf4n4g3pfee6491hc0brc4i.apps.googleusercontent.com&redirect_uri=urn%3aietf%3awg%3aoauth%3a2.0%3aoob&response_type=code&scope=email%20https%3a%2f%2fwww.googleapis.com%2fauth%2fdocs.test%20https%3a%2f%2fwww.googleapis.com%2fauth%2fdrive%20https%3a%2f%2fwww.googleapis.com%2fauth%2fdrive.photos.readonly%20https%3a%2f%2fwww.googleapis.com%2fauth%2fpeopleapi.readonly\n",
            "\n",
            "Enter your authorization code:\n",
            "··········\n",
            "Mounted at /content/drive\n"
          ],
          "name": "stdout"
        }
      ]
    },
    {
      "cell_type": "code",
      "metadata": {
        "id": "PS63Xh4PB4Fm",
        "colab_type": "code",
        "colab": {}
      },
      "source": [
        "# Importing the Libraries.\n",
        "import keras\n",
        "import os\n",
        "from keras.models import Sequential\n",
        "from keras.layers import Dense, Conv2D, MaxPool2D, Flatten, Dropout\n",
        "from keras.preprocessing.image import ImageDataGenerator\n",
        "import numpy as np\n",
        "#import keras.backend as K\n",
        "import tensorflow.keras.backend as K\n",
        "import tensorflow.compat.v1 as tf\n",
        "from os import listdir\n",
        "from os.path import isfile, join\n",
        "import numpy as np\n",
        "import sys\n",
        "import os\n",
        "import shutil\n",
        "import pandas as pd\n",
        "from PIL import Image\n",
        "import cv2\n",
        "import keras\n",
        "import glob\n",
        "from PIL import Image\n",
        "from keras.preprocessing.image import img_to_array\n",
        "from sklearn.preprocessing import MultiLabelBinarizer\n",
        "from keras import models, regularizers, layers, optimizers, losses, metrics\n",
        "from keras.applications.resnet50 import ResNet50\n",
        "from keras.preprocessing.image import ImageDataGenerator\n",
        "from keras.models import Sequential\n",
        "from keras.layers import Dense, Dropout, Activation, Flatten, MaxPool2D\n",
        "from keras.layers import Convolution2D, MaxPooling2D, ZeroPadding2D\n",
        "from keras.layers import AveragePooling2D\n",
        "from keras.models import load_model\n",
        "from keras.layers.pooling import GlobalAveragePooling2D\n",
        "from keras.layers.normalization import BatchNormalization\n",
        "from keras.models import Model\n",
        "from keras.optimizers import Adam\n",
        "from keras.callbacks import ModelCheckpoint, EarlyStopping\n",
        "from sklearn.preprocessing import LabelEncoder, OneHotEncoder\n",
        "from PIL import ImageFile\n",
        "\n",
        "tf.enable_eager_execution()"
      ],
      "execution_count": null,
      "outputs": []
    },
    {
      "cell_type": "code",
      "metadata": {
        "id": "82Iu_xpCB8e_",
        "colab_type": "code",
        "colab": {}
      },
      "source": [
        "ImageFile.LOAD_TRUNCATED_IMAGES = True"
      ],
      "execution_count": null,
      "outputs": []
    },
    {
      "cell_type": "code",
      "metadata": {
        "id": "fH8nEYrhB-3O",
        "colab_type": "code",
        "colab": {}
      },
      "source": [
        "# Data Augmentation.\n",
        "DataGenerator = ImageDataGenerator(horizontal_flip=True, vertical_flip=True, rescale=1./255, brightness_range=[0.2,0.7])"
      ],
      "execution_count": null,
      "outputs": []
    },
    {
      "cell_type": "code",
      "metadata": {
        "id": "MvXKwWTNCBly",
        "colab_type": "code",
        "colab": {}
      },
      "source": [
        "TestGenerator = ImageDataGenerator(rescale=1./255)"
      ],
      "execution_count": null,
      "outputs": []
    },
    {
      "cell_type": "code",
      "metadata": {
        "id": "wFUUMI0sCDZN",
        "colab_type": "code",
        "colab": {
          "base_uri": "https://localhost:8080/",
          "height": 34
        },
        "outputId": "d5d276bc-4bed-402a-d67a-1f6f496c6100"
      },
      "source": [
        "Grey_TrainingData = DataGenerator.flow_from_directory('/content/drive/My Drive/KTH-Colour/Train-dataset/', target_size=(224,224), batch_size=8, color_mode='grayscale')"
      ],
      "execution_count": null,
      "outputs": [
        {
          "output_type": "stream",
          "text": [
            "Found 2868 images belonging to 11 classes.\n"
          ],
          "name": "stdout"
        }
      ]
    },
    {
      "cell_type": "code",
      "metadata": {
        "id": "q-WOOVu6CGBq",
        "colab_type": "code",
        "colab": {
          "base_uri": "https://localhost:8080/",
          "height": 34
        },
        "outputId": "aa97ef43-957b-402c-803f-24a50531145a"
      },
      "source": [
        "Grey_ValidData = TestGenerator.flow_from_directory('/content/drive/My Drive/KTH-Colour/valid/', target_size=(224,224),batch_size=8, color_mode='grayscale')"
      ],
      "execution_count": null,
      "outputs": [
        {
          "output_type": "stream",
          "text": [
            "Found 161 images belonging to 11 classes.\n"
          ],
          "name": "stdout"
        }
      ]
    },
    {
      "cell_type": "code",
      "metadata": {
        "id": "LKlNFBRmCI-Y",
        "colab_type": "code",
        "colab": {}
      },
      "source": [
        "gpu_options = tf.GPUOptions(allow_growth=True)\n",
        "session = tf.InteractiveSession(config=tf.ConfigProto(gpu_options=gpu_options))"
      ],
      "execution_count": null,
      "outputs": []
    },
    {
      "cell_type": "code",
      "metadata": {
        "id": "1pDJRiBFCKxk",
        "colab_type": "code",
        "colab": {}
      },
      "source": [
        "from keras.applications import ResNet50"
      ],
      "execution_count": null,
      "outputs": []
    },
    {
      "cell_type": "code",
      "metadata": {
        "id": "UFFpMafbCUnF",
        "colab_type": "code",
        "colab": {
          "base_uri": "https://localhost:8080/",
          "height": 71
        },
        "outputId": "8555bd99-a97b-4bc9-a06f-33330e1f87a4"
      },
      "source": [
        "# Convoluted Base Model.\n",
        "conv_base = ResNet50(weights='imagenet', include_top=False)"
      ],
      "execution_count": null,
      "outputs": [
        {
          "output_type": "stream",
          "text": [
            "Downloading data from https://storage.googleapis.com/tensorflow/keras-applications/resnet/resnet50_weights_tf_dim_ordering_tf_kernels_notop.h5\n",
            "94773248/94765736 [==============================] - 1s 0us/step\n"
          ],
          "name": "stdout"
        }
      ]
    },
    {
      "cell_type": "code",
      "metadata": {
        "id": "TN-UEFTdCYKD",
        "colab_type": "code",
        "colab": {}
      },
      "source": [
        "# Make last block of the conv_base trainable:\n",
        "\n",
        "for layer in conv_base.layers[:165]:\n",
        "   layer.trainable = False\n",
        "for layer in conv_base.layers[165:]:\n",
        "   layer.trainable = True\n",
        "for layer in conv_base.layers:\n",
        "  if isinstance(layer, BatchNormalization):\n",
        "    layer.trainable = True"
      ],
      "execution_count": null,
      "outputs": []
    },
    {
      "cell_type": "code",
      "metadata": {
        "id": "hcplHakrCbXb",
        "colab_type": "code",
        "colab": {}
      },
      "source": [
        "model = Sequential()"
      ],
      "execution_count": null,
      "outputs": []
    },
    {
      "cell_type": "code",
      "metadata": {
        "id": "2AZB6GUvDGQ9",
        "colab_type": "code",
        "colab": {}
      },
      "source": [
        "from keras.layers import Input "
      ],
      "execution_count": null,
      "outputs": []
    },
    {
      "cell_type": "code",
      "metadata": {
        "id": "gZj1lE7kDIRI",
        "colab_type": "code",
        "colab": {}
      },
      "source": [
        "input_tensor = Input(shape=(224,224,1))\n",
        "x = Conv2D(3,(3,3), padding='same')(input_tensor)\n",
        "out = conv_base(x)"
      ],
      "execution_count": null,
      "outputs": []
    },
    {
      "cell_type": "code",
      "metadata": {
        "id": "pqA0ahTrDKqH",
        "colab_type": "code",
        "colab": {}
      },
      "source": [
        "models = Model(inputs = input_tensor, outputs = out)"
      ],
      "execution_count": null,
      "outputs": []
    },
    {
      "cell_type": "code",
      "metadata": {
        "id": "atIk3ipxCenT",
        "colab_type": "code",
        "colab": {}
      },
      "source": [
        "model.add(models)"
      ],
      "execution_count": null,
      "outputs": []
    },
    {
      "cell_type": "code",
      "metadata": {
        "id": "vFs6FSHRCgdm",
        "colab_type": "code",
        "colab": {}
      },
      "source": [
        "# Adding layers.\n",
        "model.add(Flatten())\n",
        "model.add(Dense(2048, activation='relu', kernel_regularizer= regularizers.l2(0.001)))\n",
        "model.add(Dropout(0.5))\n",
        "model.add(Dense(11, activation='softmax'))"
      ],
      "execution_count": null,
      "outputs": []
    },
    {
      "cell_type": "code",
      "metadata": {
        "id": "kLKn-eRjClDb",
        "colab_type": "code",
        "colab": {}
      },
      "source": [
        "from keras.optimizers import Adam"
      ],
      "execution_count": null,
      "outputs": []
    },
    {
      "cell_type": "code",
      "metadata": {
        "id": "brB60eqJCm13",
        "colab_type": "code",
        "colab": {}
      },
      "source": [
        "model.compile(loss='categorical_crossentropy',\n",
        "              optimizer=Adam(lr=0.001),\n",
        "              metrics=['accuracy'])"
      ],
      "execution_count": null,
      "outputs": []
    },
    {
      "cell_type": "code",
      "metadata": {
        "id": "6hby48lNCo7W",
        "colab_type": "code",
        "colab": {}
      },
      "source": [
        "from keras.callbacks import ModelCheckpoint, EarlyStopping, ReduceLROnPlateau\n",
        "checkpoint = ModelCheckpoint(\"/content/drive/My Drive/KTH-Colour/Resnet_50_GrayScale.h5\",\n",
        "                             monitor=\"val_loss\",\n",
        "                             mode=\"min\",\n",
        "                             save_best_only = True,\n",
        "                             verbose=1)\n",
        "\n",
        "earlystop = EarlyStopping(monitor = 'val_loss', \n",
        "                          min_delta = 0, \n",
        "                          patience = 50,\n",
        "                          verbose = 1,\n",
        "                          restore_best_weights = True)\n",
        "\n",
        "reduce_lr = ReduceLROnPlateau(monitor = 'val_loss',\n",
        "                              factor = 0.2,\n",
        "                              patience = 50,\n",
        "                              verbose = 1,\n",
        "                              min_delta = 0.00001)\n",
        "\n",
        "callBacks = [earlystop, checkpoint, reduce_lr]"
      ],
      "execution_count": null,
      "outputs": []
    },
    {
      "cell_type": "code",
      "metadata": {
        "id": "N8WD8nPtCv2I",
        "colab_type": "code",
        "colab": {
          "base_uri": "https://localhost:8080/",
          "height": 1000
        },
        "outputId": "19a2b3d0-2be5-4618-e290-19d00d6ae862"
      },
      "source": [
        "hist = model.fit_generator(steps_per_epoch=359,generator= Grey_TrainingData, validation_data= Grey_ValidData, validation_steps=20,epochs=150,callbacks=callBacks)"
      ],
      "execution_count": null,
      "outputs": [
        {
          "output_type": "stream",
          "text": [
            "WARNING:tensorflow:From <ipython-input-30-5081a945304c>:1: Model.fit_generator (from tensorflow.python.keras.engine.training) is deprecated and will be removed in a future version.\n",
            "Instructions for updating:\n",
            "Please use Model.fit, which supports generators.\n",
            "Epoch 1/150\n",
            "359/359 [==============================] - ETA: 0s - loss: 18.4297 - accuracy: 0.6834\n",
            "Epoch 00001: val_loss improved from inf to 235.43396, saving model to /content/drive/My Drive/KTH-Colour/Resnet_50_GrayScale.h5\n",
            "359/359 [==============================] - 1372s 4s/step - loss: 18.4297 - accuracy: 0.6834 - val_loss: 235.4340 - val_accuracy: 0.0188\n",
            "Epoch 2/150\n",
            "359/359 [==============================] - ETA: 0s - loss: 8.5572 - accuracy: 0.7918\n",
            "Epoch 00002: val_loss did not improve from 235.43396\n",
            "359/359 [==============================] - 51s 143ms/step - loss: 8.5572 - accuracy: 0.7918 - val_loss: 523.6974 - val_accuracy: 0.1125\n",
            "Epoch 3/150\n",
            "359/359 [==============================] - ETA: 0s - loss: 7.5275 - accuracy: 0.8358\n",
            "Epoch 00003: val_loss improved from 235.43396 to 48.81634, saving model to /content/drive/My Drive/KTH-Colour/Resnet_50_GrayScale.h5\n",
            "359/359 [==============================] - 55s 153ms/step - loss: 7.5275 - accuracy: 0.8358 - val_loss: 48.8163 - val_accuracy: 0.2438\n",
            "Epoch 4/150\n",
            "359/359 [==============================] - ETA: 0s - loss: 6.8528 - accuracy: 0.8438\n",
            "Epoch 00004: val_loss improved from 48.81634 to 11.21990, saving model to /content/drive/My Drive/KTH-Colour/Resnet_50_GrayScale.h5\n",
            "359/359 [==============================] - 68s 189ms/step - loss: 6.8528 - accuracy: 0.8438 - val_loss: 11.2199 - val_accuracy: 0.8313\n",
            "Epoch 5/150\n",
            "359/359 [==============================] - ETA: 0s - loss: 6.8053 - accuracy: 0.8483\n",
            "Epoch 00005: val_loss did not improve from 11.21990\n",
            "359/359 [==============================] - 55s 153ms/step - loss: 6.8053 - accuracy: 0.8483 - val_loss: 14.6390 - val_accuracy: 0.7437\n",
            "Epoch 6/150\n",
            "359/359 [==============================] - ETA: 0s - loss: 6.7321 - accuracy: 0.8476\n",
            "Epoch 00006: val_loss did not improve from 11.21990\n",
            "359/359 [==============================] - 33s 93ms/step - loss: 6.7321 - accuracy: 0.8476 - val_loss: 24.6662 - val_accuracy: 0.7000\n",
            "Epoch 7/150\n",
            "359/359 [==============================] - ETA: 0s - loss: 7.8264 - accuracy: 0.8361\n",
            "Epoch 00007: val_loss did not improve from 11.21990\n",
            "359/359 [==============================] - 33s 93ms/step - loss: 7.8264 - accuracy: 0.8361 - val_loss: 31.4075 - val_accuracy: 0.7063\n",
            "Epoch 8/150\n",
            "359/359 [==============================] - ETA: 0s - loss: 7.9207 - accuracy: 0.8389\n",
            "Epoch 00008: val_loss did not improve from 11.21990\n",
            "359/359 [==============================] - 33s 93ms/step - loss: 7.9207 - accuracy: 0.8389 - val_loss: 35.8801 - val_accuracy: 0.6812\n",
            "Epoch 9/150\n",
            "359/359 [==============================] - ETA: 0s - loss: 6.5872 - accuracy: 0.8846\n",
            "Epoch 00009: val_loss did not improve from 11.21990\n",
            "359/359 [==============================] - 33s 93ms/step - loss: 6.5872 - accuracy: 0.8846 - val_loss: 23.7035 - val_accuracy: 0.7063\n",
            "Epoch 10/150\n",
            "359/359 [==============================] - ETA: 0s - loss: 6.3530 - accuracy: 0.8699\n",
            "Epoch 00010: val_loss did not improve from 11.21990\n",
            "359/359 [==============================] - 33s 93ms/step - loss: 6.3530 - accuracy: 0.8699 - val_loss: 39.2102 - val_accuracy: 0.7437\n",
            "Epoch 11/150\n",
            "359/359 [==============================] - ETA: 0s - loss: 6.2072 - accuracy: 0.8790\n",
            "Epoch 00011: val_loss did not improve from 11.21990\n",
            "359/359 [==============================] - 33s 93ms/step - loss: 6.2072 - accuracy: 0.8790 - val_loss: 24.1262 - val_accuracy: 0.8125\n",
            "Epoch 12/150\n",
            "359/359 [==============================] - ETA: 0s - loss: 5.5861 - accuracy: 0.8912\n",
            "Epoch 00012: val_loss did not improve from 11.21990\n",
            "359/359 [==============================] - 33s 93ms/step - loss: 5.5861 - accuracy: 0.8912 - val_loss: 15.0203 - val_accuracy: 0.8062\n",
            "Epoch 13/150\n",
            "359/359 [==============================] - ETA: 0s - loss: 5.2056 - accuracy: 0.8978\n",
            "Epoch 00013: val_loss did not improve from 11.21990\n",
            "359/359 [==============================] - 33s 93ms/step - loss: 5.2056 - accuracy: 0.8978 - val_loss: 29.2662 - val_accuracy: 0.7937\n",
            "Epoch 14/150\n",
            "359/359 [==============================] - ETA: 0s - loss: 5.4106 - accuracy: 0.8877\n",
            "Epoch 00014: val_loss did not improve from 11.21990\n",
            "359/359 [==============================] - 33s 93ms/step - loss: 5.4106 - accuracy: 0.8877 - val_loss: 23.6899 - val_accuracy: 0.7250\n",
            "Epoch 15/150\n",
            "359/359 [==============================] - ETA: 0s - loss: 4.7568 - accuracy: 0.9048\n",
            "Epoch 00015: val_loss did not improve from 11.21990\n",
            "359/359 [==============================] - 33s 93ms/step - loss: 4.7568 - accuracy: 0.9048 - val_loss: 14.3437 - val_accuracy: 0.6687\n",
            "Epoch 16/150\n",
            "359/359 [==============================] - ETA: 0s - loss: 4.8434 - accuracy: 0.8898\n",
            "Epoch 00016: val_loss improved from 11.21990 to 10.57691, saving model to /content/drive/My Drive/KTH-Colour/Resnet_50_GrayScale.h5\n",
            "359/359 [==============================] - 53s 149ms/step - loss: 4.8434 - accuracy: 0.8898 - val_loss: 10.5769 - val_accuracy: 0.7812\n",
            "Epoch 17/150\n",
            "359/359 [==============================] - ETA: 0s - loss: 4.8050 - accuracy: 0.9059\n",
            "Epoch 00017: val_loss did not improve from 10.57691\n",
            "359/359 [==============================] - 47s 131ms/step - loss: 4.8050 - accuracy: 0.9059 - val_loss: 12.0877 - val_accuracy: 0.7750\n",
            "Epoch 18/150\n",
            "359/359 [==============================] - ETA: 0s - loss: 3.9968 - accuracy: 0.9100\n",
            "Epoch 00018: val_loss did not improve from 10.57691\n",
            "359/359 [==============================] - 33s 93ms/step - loss: 3.9968 - accuracy: 0.9100 - val_loss: 34.4585 - val_accuracy: 0.7250\n",
            "Epoch 19/150\n",
            "359/359 [==============================] - ETA: 0s - loss: 4.1005 - accuracy: 0.9052\n",
            "Epoch 00019: val_loss did not improve from 10.57691\n",
            "359/359 [==============================] - 33s 93ms/step - loss: 4.1005 - accuracy: 0.9052 - val_loss: 13.4237 - val_accuracy: 0.7375\n",
            "Epoch 20/150\n",
            "359/359 [==============================] - ETA: 0s - loss: 4.0834 - accuracy: 0.9170\n",
            "Epoch 00020: val_loss improved from 10.57691 to 8.04731, saving model to /content/drive/My Drive/KTH-Colour/Resnet_50_GrayScale.h5\n",
            "359/359 [==============================] - 53s 146ms/step - loss: 4.0834 - accuracy: 0.9170 - val_loss: 8.0473 - val_accuracy: 0.8188\n",
            "Epoch 21/150\n",
            "359/359 [==============================] - ETA: 0s - loss: 3.3843 - accuracy: 0.9261\n",
            "Epoch 00021: val_loss improved from 8.04731 to 5.02739, saving model to /content/drive/My Drive/KTH-Colour/Resnet_50_GrayScale.h5\n",
            "359/359 [==============================] - 77s 215ms/step - loss: 3.3843 - accuracy: 0.9261 - val_loss: 5.0274 - val_accuracy: 0.8000\n",
            "Epoch 22/150\n",
            "359/359 [==============================] - ETA: 0s - loss: 3.1094 - accuracy: 0.9243\n",
            "Epoch 00022: val_loss improved from 5.02739 to 4.60619, saving model to /content/drive/My Drive/KTH-Colour/Resnet_50_GrayScale.h5\n",
            "359/359 [==============================] - 75s 209ms/step - loss: 3.1094 - accuracy: 0.9243 - val_loss: 4.6062 - val_accuracy: 0.8062\n",
            "Epoch 23/150\n",
            "359/359 [==============================] - ETA: 0s - loss: 3.0892 - accuracy: 0.9292\n",
            "Epoch 00023: val_loss did not improve from 4.60619\n",
            "359/359 [==============================] - 56s 155ms/step - loss: 3.0892 - accuracy: 0.9292 - val_loss: 5.5806 - val_accuracy: 0.7875\n",
            "Epoch 24/150\n",
            "359/359 [==============================] - ETA: 0s - loss: 2.7940 - accuracy: 0.9351\n",
            "Epoch 00024: val_loss did not improve from 4.60619\n",
            "359/359 [==============================] - 33s 93ms/step - loss: 2.7940 - accuracy: 0.9351 - val_loss: 6.0665 - val_accuracy: 0.8375\n",
            "Epoch 25/150\n",
            "359/359 [==============================] - ETA: 0s - loss: 2.8456 - accuracy: 0.9338\n",
            "Epoch 00025: val_loss did not improve from 4.60619\n",
            "359/359 [==============================] - 33s 93ms/step - loss: 2.8456 - accuracy: 0.9338 - val_loss: 6.7465 - val_accuracy: 0.8438\n",
            "Epoch 26/150\n",
            "359/359 [==============================] - ETA: 0s - loss: 2.8071 - accuracy: 0.9358\n",
            "Epoch 00026: val_loss did not improve from 4.60619\n",
            "359/359 [==============================] - 33s 93ms/step - loss: 2.8071 - accuracy: 0.9358 - val_loss: 5.6591 - val_accuracy: 0.8687\n",
            "Epoch 27/150\n",
            "359/359 [==============================] - ETA: 0s - loss: 3.1252 - accuracy: 0.9215\n",
            "Epoch 00027: val_loss did not improve from 4.60619\n",
            "359/359 [==============================] - 33s 93ms/step - loss: 3.1252 - accuracy: 0.9215 - val_loss: 9.6721 - val_accuracy: 0.7937\n",
            "Epoch 28/150\n",
            "359/359 [==============================] - ETA: 0s - loss: 2.8006 - accuracy: 0.9341\n",
            "Epoch 00028: val_loss did not improve from 4.60619\n",
            "359/359 [==============================] - 33s 93ms/step - loss: 2.8006 - accuracy: 0.9341 - val_loss: 5.7655 - val_accuracy: 0.8250\n",
            "Epoch 29/150\n",
            "359/359 [==============================] - ETA: 0s - loss: 2.2556 - accuracy: 0.9501\n",
            "Epoch 00029: val_loss did not improve from 4.60619\n",
            "359/359 [==============================] - 33s 93ms/step - loss: 2.2556 - accuracy: 0.9501 - val_loss: 8.5047 - val_accuracy: 0.8000\n",
            "Epoch 30/150\n",
            "359/359 [==============================] - ETA: 0s - loss: 2.2956 - accuracy: 0.9421\n",
            "Epoch 00030: val_loss improved from 4.60619 to 3.11108, saving model to /content/drive/My Drive/KTH-Colour/Resnet_50_GrayScale.h5\n",
            "359/359 [==============================] - 53s 146ms/step - loss: 2.2956 - accuracy: 0.9421 - val_loss: 3.1111 - val_accuracy: 0.8875\n",
            "Epoch 31/150\n",
            "359/359 [==============================] - ETA: 0s - loss: 2.0361 - accuracy: 0.9550\n",
            "Epoch 00031: val_loss did not improve from 3.11108\n",
            "359/359 [==============================] - 56s 156ms/step - loss: 2.0361 - accuracy: 0.9550 - val_loss: 3.3163 - val_accuracy: 0.8687\n",
            "Epoch 32/150\n",
            "359/359 [==============================] - ETA: 0s - loss: 2.1136 - accuracy: 0.9383\n",
            "Epoch 00032: val_loss did not improve from 3.11108\n",
            "359/359 [==============================] - 33s 93ms/step - loss: 2.1136 - accuracy: 0.9383 - val_loss: 3.5732 - val_accuracy: 0.8500\n",
            "Epoch 33/150\n",
            "359/359 [==============================] - ETA: 0s - loss: 2.1861 - accuracy: 0.9411\n",
            "Epoch 00033: val_loss did not improve from 3.11108\n",
            "359/359 [==============================] - 33s 93ms/step - loss: 2.1861 - accuracy: 0.9411 - val_loss: 3.4967 - val_accuracy: 0.8438\n",
            "Epoch 34/150\n",
            "359/359 [==============================] - ETA: 0s - loss: 2.0955 - accuracy: 0.9460\n",
            "Epoch 00034: val_loss did not improve from 3.11108\n",
            "359/359 [==============================] - 33s 93ms/step - loss: 2.0955 - accuracy: 0.9460 - val_loss: 8.7051 - val_accuracy: 0.6938\n",
            "Epoch 35/150\n",
            "359/359 [==============================] - ETA: 0s - loss: 2.1487 - accuracy: 0.9428\n",
            "Epoch 00035: val_loss did not improve from 3.11108\n",
            "359/359 [==============================] - 33s 93ms/step - loss: 2.1487 - accuracy: 0.9428 - val_loss: 3.5514 - val_accuracy: 0.8438\n",
            "Epoch 36/150\n",
            "359/359 [==============================] - ETA: 0s - loss: 2.0939 - accuracy: 0.9494\n",
            "Epoch 00036: val_loss did not improve from 3.11108\n",
            "359/359 [==============================] - 33s 93ms/step - loss: 2.0939 - accuracy: 0.9494 - val_loss: 6.1820 - val_accuracy: 0.8188\n",
            "Epoch 37/150\n",
            "359/359 [==============================] - ETA: 0s - loss: 2.2193 - accuracy: 0.9432\n",
            "Epoch 00037: val_loss did not improve from 3.11108\n",
            "359/359 [==============================] - 33s 93ms/step - loss: 2.2193 - accuracy: 0.9432 - val_loss: 4.1648 - val_accuracy: 0.8500\n",
            "Epoch 38/150\n",
            "359/359 [==============================] - ETA: 0s - loss: 1.8676 - accuracy: 0.9536\n",
            "Epoch 00038: val_loss did not improve from 3.11108\n",
            "359/359 [==============================] - 33s 93ms/step - loss: 1.8676 - accuracy: 0.9536 - val_loss: 5.6513 - val_accuracy: 0.8438\n",
            "Epoch 39/150\n",
            "359/359 [==============================] - ETA: 0s - loss: 1.8116 - accuracy: 0.9491\n",
            "Epoch 00039: val_loss did not improve from 3.11108\n",
            "359/359 [==============================] - 33s 92ms/step - loss: 1.8116 - accuracy: 0.9491 - val_loss: 4.2609 - val_accuracy: 0.8125\n",
            "Epoch 40/150\n",
            "359/359 [==============================] - ETA: 0s - loss: 1.5912 - accuracy: 0.9623\n",
            "Epoch 00040: val_loss did not improve from 3.11108\n",
            "359/359 [==============================] - 33s 92ms/step - loss: 1.5912 - accuracy: 0.9623 - val_loss: 7.5985 - val_accuracy: 0.7625\n",
            "Epoch 41/150\n",
            "359/359 [==============================] - ETA: 0s - loss: 1.8072 - accuracy: 0.9491\n",
            "Epoch 00041: val_loss did not improve from 3.11108\n",
            "359/359 [==============================] - 33s 92ms/step - loss: 1.8072 - accuracy: 0.9491 - val_loss: 5.1156 - val_accuracy: 0.8000\n",
            "Epoch 42/150\n",
            "359/359 [==============================] - ETA: 0s - loss: 1.7631 - accuracy: 0.9582\n",
            "Epoch 00042: val_loss did not improve from 3.11108\n",
            "359/359 [==============================] - 33s 92ms/step - loss: 1.7631 - accuracy: 0.9582 - val_loss: 6.7219 - val_accuracy: 0.7937\n",
            "Epoch 43/150\n",
            "359/359 [==============================] - ETA: 0s - loss: 1.5536 - accuracy: 0.9589\n",
            "Epoch 00043: val_loss improved from 3.11108 to 2.52728, saving model to /content/drive/My Drive/KTH-Colour/Resnet_50_GrayScale.h5\n",
            "359/359 [==============================] - 53s 147ms/step - loss: 1.5536 - accuracy: 0.9589 - val_loss: 2.5273 - val_accuracy: 0.8375\n",
            "Epoch 44/150\n",
            "359/359 [==============================] - ETA: 0s - loss: 1.3409 - accuracy: 0.9630\n",
            "Epoch 00044: val_loss did not improve from 2.52728\n",
            "359/359 [==============================] - 58s 161ms/step - loss: 1.3409 - accuracy: 0.9630 - val_loss: 5.6014 - val_accuracy: 0.7875\n",
            "Epoch 45/150\n",
            "359/359 [==============================] - ETA: 0s - loss: 1.4181 - accuracy: 0.9596\n",
            "Epoch 00045: val_loss did not improve from 2.52728\n",
            "359/359 [==============================] - 33s 92ms/step - loss: 1.4181 - accuracy: 0.9596 - val_loss: 23.2971 - val_accuracy: 0.6375\n",
            "Epoch 46/150\n",
            "359/359 [==============================] - ETA: 0s - loss: 1.6046 - accuracy: 0.9547\n",
            "Epoch 00046: val_loss did not improve from 2.52728\n",
            "359/359 [==============================] - 33s 92ms/step - loss: 1.6046 - accuracy: 0.9547 - val_loss: 2.7181 - val_accuracy: 0.8438\n",
            "Epoch 47/150\n",
            "359/359 [==============================] - ETA: 0s - loss: 1.3748 - accuracy: 0.9627\n",
            "Epoch 00047: val_loss did not improve from 2.52728\n",
            "359/359 [==============================] - 33s 92ms/step - loss: 1.3748 - accuracy: 0.9627 - val_loss: 8.5129 - val_accuracy: 0.7375\n",
            "Epoch 48/150\n",
            "359/359 [==============================] - ETA: 0s - loss: 1.5533 - accuracy: 0.9540\n",
            "Epoch 00048: val_loss did not improve from 2.52728\n",
            "359/359 [==============================] - 33s 92ms/step - loss: 1.5533 - accuracy: 0.9540 - val_loss: 2.8718 - val_accuracy: 0.8500\n",
            "Epoch 49/150\n",
            "359/359 [==============================] - ETA: 0s - loss: 1.3593 - accuracy: 0.9634\n",
            "Epoch 00049: val_loss improved from 2.52728 to 2.23665, saving model to /content/drive/My Drive/KTH-Colour/Resnet_50_GrayScale.h5\n",
            "359/359 [==============================] - 52s 145ms/step - loss: 1.3593 - accuracy: 0.9634 - val_loss: 2.2366 - val_accuracy: 0.8500\n",
            "Epoch 50/150\n",
            "359/359 [==============================] - ETA: 0s - loss: 1.3030 - accuracy: 0.9672\n",
            "Epoch 00050: val_loss did not improve from 2.23665\n",
            "359/359 [==============================] - 55s 153ms/step - loss: 1.3030 - accuracy: 0.9672 - val_loss: 3.1257 - val_accuracy: 0.8750\n",
            "Epoch 51/150\n",
            "359/359 [==============================] - ETA: 0s - loss: 1.4336 - accuracy: 0.9616\n",
            "Epoch 00051: val_loss did not improve from 2.23665\n",
            "359/359 [==============================] - 33s 92ms/step - loss: 1.4336 - accuracy: 0.9616 - val_loss: 5.9977 - val_accuracy: 0.7937\n",
            "Epoch 52/150\n",
            "359/359 [==============================] - ETA: 0s - loss: 1.5112 - accuracy: 0.9578\n",
            "Epoch 00052: val_loss did not improve from 2.23665\n",
            "359/359 [==============================] - 33s 92ms/step - loss: 1.5112 - accuracy: 0.9578 - val_loss: 4.2425 - val_accuracy: 0.8313\n",
            "Epoch 53/150\n",
            "359/359 [==============================] - ETA: 0s - loss: 1.4916 - accuracy: 0.9550\n",
            "Epoch 00053: val_loss did not improve from 2.23665\n",
            "359/359 [==============================] - 33s 92ms/step - loss: 1.4916 - accuracy: 0.9550 - val_loss: 3.7095 - val_accuracy: 0.8375\n",
            "Epoch 54/150\n",
            "359/359 [==============================] - ETA: 0s - loss: 1.3297 - accuracy: 0.9623\n",
            "Epoch 00054: val_loss did not improve from 2.23665\n",
            "359/359 [==============================] - 33s 92ms/step - loss: 1.3297 - accuracy: 0.9623 - val_loss: 6.4084 - val_accuracy: 0.8375\n",
            "Epoch 55/150\n",
            "359/359 [==============================] - ETA: 0s - loss: 1.3324 - accuracy: 0.9651\n",
            "Epoch 00055: val_loss did not improve from 2.23665\n",
            "359/359 [==============================] - 33s 92ms/step - loss: 1.3324 - accuracy: 0.9651 - val_loss: 5.7086 - val_accuracy: 0.8500\n",
            "Epoch 56/150\n",
            "359/359 [==============================] - ETA: 0s - loss: 1.4906 - accuracy: 0.9606\n",
            "Epoch 00056: val_loss did not improve from 2.23665\n",
            "359/359 [==============================] - 33s 92ms/step - loss: 1.4906 - accuracy: 0.9606 - val_loss: 2.6262 - val_accuracy: 0.8813\n",
            "Epoch 57/150\n",
            "359/359 [==============================] - ETA: 0s - loss: 1.2233 - accuracy: 0.9665\n",
            "Epoch 00057: val_loss did not improve from 2.23665\n",
            "359/359 [==============================] - 33s 92ms/step - loss: 1.2233 - accuracy: 0.9665 - val_loss: 5.2564 - val_accuracy: 0.7937\n",
            "Epoch 58/150\n",
            "359/359 [==============================] - ETA: 0s - loss: 1.1234 - accuracy: 0.9658\n",
            "Epoch 00058: val_loss did not improve from 2.23665\n",
            "359/359 [==============================] - 33s 92ms/step - loss: 1.1234 - accuracy: 0.9658 - val_loss: 3.9935 - val_accuracy: 0.8313\n",
            "Epoch 59/150\n",
            "359/359 [==============================] - ETA: 0s - loss: 1.1352 - accuracy: 0.9707\n",
            "Epoch 00059: val_loss did not improve from 2.23665\n",
            "359/359 [==============================] - 33s 92ms/step - loss: 1.1352 - accuracy: 0.9707 - val_loss: 2.3451 - val_accuracy: 0.8438\n",
            "Epoch 60/150\n",
            "359/359 [==============================] - ETA: 0s - loss: 0.9658 - accuracy: 0.9749\n",
            "Epoch 00060: val_loss improved from 2.23665 to 1.98070, saving model to /content/drive/My Drive/KTH-Colour/Resnet_50_GrayScale.h5\n",
            "359/359 [==============================] - 53s 148ms/step - loss: 0.9658 - accuracy: 0.9749 - val_loss: 1.9807 - val_accuracy: 0.8562\n",
            "Epoch 61/150\n",
            "359/359 [==============================] - ETA: 0s - loss: 1.0370 - accuracy: 0.9672\n",
            "Epoch 00061: val_loss did not improve from 1.98070\n",
            "359/359 [==============================] - 53s 148ms/step - loss: 1.0370 - accuracy: 0.9672 - val_loss: 4.1924 - val_accuracy: 0.8375\n",
            "Epoch 62/150\n",
            "359/359 [==============================] - ETA: 0s - loss: 1.1257 - accuracy: 0.9690\n",
            "Epoch 00062: val_loss improved from 1.98070 to 1.47056, saving model to /content/drive/My Drive/KTH-Colour/Resnet_50_GrayScale.h5\n",
            "359/359 [==============================] - 53s 148ms/step - loss: 1.1257 - accuracy: 0.9690 - val_loss: 1.4706 - val_accuracy: 0.9125\n",
            "Epoch 63/150\n",
            "359/359 [==============================] - ETA: 0s - loss: 1.0264 - accuracy: 0.9735\n",
            "Epoch 00063: val_loss did not improve from 1.47056\n",
            "359/359 [==============================] - 51s 142ms/step - loss: 1.0264 - accuracy: 0.9735 - val_loss: 1.9543 - val_accuracy: 0.8625\n",
            "Epoch 64/150\n",
            "359/359 [==============================] - ETA: 0s - loss: 1.0218 - accuracy: 0.9669\n",
            "Epoch 00064: val_loss did not improve from 1.47056\n",
            "359/359 [==============================] - 33s 92ms/step - loss: 1.0218 - accuracy: 0.9669 - val_loss: 1.8749 - val_accuracy: 0.9000\n",
            "Epoch 65/150\n",
            "359/359 [==============================] - ETA: 0s - loss: 1.1196 - accuracy: 0.9672\n",
            "Epoch 00065: val_loss did not improve from 1.47056\n",
            "359/359 [==============================] - 33s 92ms/step - loss: 1.1196 - accuracy: 0.9672 - val_loss: 5.2286 - val_accuracy: 0.8687\n",
            "Epoch 66/150\n",
            "359/359 [==============================] - ETA: 0s - loss: 0.9883 - accuracy: 0.9735\n",
            "Epoch 00066: val_loss did not improve from 1.47056\n",
            "359/359 [==============================] - 33s 92ms/step - loss: 0.9883 - accuracy: 0.9735 - val_loss: 2.2914 - val_accuracy: 0.8750\n",
            "Epoch 67/150\n",
            "359/359 [==============================] - ETA: 0s - loss: 0.9432 - accuracy: 0.9745\n",
            "Epoch 00067: val_loss did not improve from 1.47056\n",
            "359/359 [==============================] - 33s 92ms/step - loss: 0.9432 - accuracy: 0.9745 - val_loss: 1.8234 - val_accuracy: 0.9500\n",
            "Epoch 68/150\n",
            "359/359 [==============================] - ETA: 0s - loss: 0.9214 - accuracy: 0.9718\n",
            "Epoch 00068: val_loss did not improve from 1.47056\n",
            "359/359 [==============================] - 33s 92ms/step - loss: 0.9214 - accuracy: 0.9718 - val_loss: 3.1674 - val_accuracy: 0.8938\n",
            "Epoch 69/150\n",
            "359/359 [==============================] - ETA: 0s - loss: 1.0423 - accuracy: 0.9714\n",
            "Epoch 00069: val_loss did not improve from 1.47056\n",
            "359/359 [==============================] - 33s 92ms/step - loss: 1.0423 - accuracy: 0.9714 - val_loss: 4.1039 - val_accuracy: 0.8813\n",
            "Epoch 70/150\n",
            "359/359 [==============================] - ETA: 0s - loss: 0.9530 - accuracy: 0.9721\n",
            "Epoch 00070: val_loss did not improve from 1.47056\n",
            "359/359 [==============================] - 33s 92ms/step - loss: 0.9530 - accuracy: 0.9721 - val_loss: 1.7236 - val_accuracy: 0.8875\n",
            "Epoch 71/150\n",
            "359/359 [==============================] - ETA: 0s - loss: 0.8872 - accuracy: 0.9759\n",
            "Epoch 00071: val_loss did not improve from 1.47056\n",
            "359/359 [==============================] - 33s 92ms/step - loss: 0.8872 - accuracy: 0.9759 - val_loss: 1.5356 - val_accuracy: 0.9250\n",
            "Epoch 72/150\n",
            "359/359 [==============================] - ETA: 0s - loss: 0.7984 - accuracy: 0.9798\n",
            "Epoch 00072: val_loss did not improve from 1.47056\n",
            "359/359 [==============================] - 33s 92ms/step - loss: 0.7984 - accuracy: 0.9798 - val_loss: 4.8092 - val_accuracy: 0.8625\n",
            "Epoch 73/150\n",
            "359/359 [==============================] - ETA: 0s - loss: 0.8918 - accuracy: 0.9732\n",
            "Epoch 00073: val_loss did not improve from 1.47056\n",
            "359/359 [==============================] - 33s 92ms/step - loss: 0.8918 - accuracy: 0.9732 - val_loss: 11.6612 - val_accuracy: 0.8250\n",
            "Epoch 74/150\n",
            "359/359 [==============================] - ETA: 0s - loss: 0.8532 - accuracy: 0.9728\n",
            "Epoch 00074: val_loss did not improve from 1.47056\n",
            "359/359 [==============================] - 33s 92ms/step - loss: 0.8532 - accuracy: 0.9728 - val_loss: 3.8411 - val_accuracy: 0.8562\n",
            "Epoch 75/150\n",
            "359/359 [==============================] - ETA: 0s - loss: 0.8656 - accuracy: 0.9749\n",
            "Epoch 00075: val_loss did not improve from 1.47056\n",
            "359/359 [==============================] - 33s 92ms/step - loss: 0.8656 - accuracy: 0.9749 - val_loss: 2.6070 - val_accuracy: 0.8687\n",
            "Epoch 76/150\n",
            "359/359 [==============================] - ETA: 0s - loss: 0.8701 - accuracy: 0.9745\n",
            "Epoch 00076: val_loss did not improve from 1.47056\n",
            "359/359 [==============================] - 33s 92ms/step - loss: 0.8701 - accuracy: 0.9745 - val_loss: 1.9604 - val_accuracy: 0.8687\n",
            "Epoch 77/150\n",
            "359/359 [==============================] - ETA: 0s - loss: 0.8071 - accuracy: 0.9777\n",
            "Epoch 00077: val_loss did not improve from 1.47056\n",
            "359/359 [==============================] - 33s 92ms/step - loss: 0.8071 - accuracy: 0.9777 - val_loss: 4.2804 - val_accuracy: 0.8000\n",
            "Epoch 78/150\n",
            "359/359 [==============================] - ETA: 0s - loss: 0.8740 - accuracy: 0.9770\n",
            "Epoch 00078: val_loss did not improve from 1.47056\n",
            "359/359 [==============================] - 33s 92ms/step - loss: 0.8740 - accuracy: 0.9770 - val_loss: 1.9763 - val_accuracy: 0.8813\n",
            "Epoch 79/150\n",
            "359/359 [==============================] - ETA: 0s - loss: 0.8277 - accuracy: 0.9745\n",
            "Epoch 00079: val_loss did not improve from 1.47056\n",
            "359/359 [==============================] - 33s 92ms/step - loss: 0.8277 - accuracy: 0.9745 - val_loss: 3.5824 - val_accuracy: 0.8500\n",
            "Epoch 80/150\n",
            "359/359 [==============================] - ETA: 0s - loss: 0.7601 - accuracy: 0.9787\n",
            "Epoch 00080: val_loss did not improve from 1.47056\n",
            "359/359 [==============================] - 33s 92ms/step - loss: 0.7601 - accuracy: 0.9787 - val_loss: 3.5077 - val_accuracy: 0.8438\n",
            "Epoch 81/150\n",
            "359/359 [==============================] - ETA: 0s - loss: 0.9967 - accuracy: 0.9711\n",
            "Epoch 00081: val_loss did not improve from 1.47056\n",
            "359/359 [==============================] - 33s 92ms/step - loss: 0.9967 - accuracy: 0.9711 - val_loss: 3.7697 - val_accuracy: 0.8625\n",
            "Epoch 82/150\n",
            "359/359 [==============================] - ETA: 0s - loss: 0.8709 - accuracy: 0.9812\n",
            "Epoch 00082: val_loss did not improve from 1.47056\n",
            "359/359 [==============================] - 33s 92ms/step - loss: 0.8709 - accuracy: 0.9812 - val_loss: 3.4310 - val_accuracy: 0.8687\n",
            "Epoch 83/150\n",
            "359/359 [==============================] - ETA: 0s - loss: 0.7917 - accuracy: 0.9808\n",
            "Epoch 00083: val_loss did not improve from 1.47056\n",
            "359/359 [==============================] - 33s 91ms/step - loss: 0.7917 - accuracy: 0.9808 - val_loss: 2.8570 - val_accuracy: 0.8687\n",
            "Epoch 84/150\n",
            "359/359 [==============================] - ETA: 0s - loss: 0.8416 - accuracy: 0.9745\n",
            "Epoch 00084: val_loss did not improve from 1.47056\n",
            "359/359 [==============================] - 33s 92ms/step - loss: 0.8416 - accuracy: 0.9745 - val_loss: 3.5238 - val_accuracy: 0.8000\n",
            "Epoch 85/150\n",
            "359/359 [==============================] - ETA: 0s - loss: 0.7919 - accuracy: 0.9805\n",
            "Epoch 00085: val_loss did not improve from 1.47056\n",
            "359/359 [==============================] - 33s 91ms/step - loss: 0.7919 - accuracy: 0.9805 - val_loss: 2.1785 - val_accuracy: 0.8625\n",
            "Epoch 86/150\n",
            "359/359 [==============================] - ETA: 0s - loss: 0.7397 - accuracy: 0.9784\n",
            "Epoch 00086: val_loss did not improve from 1.47056\n",
            "359/359 [==============================] - 33s 91ms/step - loss: 0.7397 - accuracy: 0.9784 - val_loss: 6.4443 - val_accuracy: 0.7812\n",
            "Epoch 87/150\n",
            "359/359 [==============================] - ETA: 0s - loss: 0.8101 - accuracy: 0.9794\n",
            "Epoch 00087: val_loss did not improve from 1.47056\n",
            "359/359 [==============================] - 33s 92ms/step - loss: 0.8101 - accuracy: 0.9794 - val_loss: 2.8323 - val_accuracy: 0.8562\n",
            "Epoch 88/150\n",
            "359/359 [==============================] - ETA: 0s - loss: 0.7154 - accuracy: 0.9791\n",
            "Epoch 00088: val_loss did not improve from 1.47056\n",
            "359/359 [==============================] - 33s 91ms/step - loss: 0.7154 - accuracy: 0.9791 - val_loss: 2.7054 - val_accuracy: 0.8625\n",
            "Epoch 89/150\n",
            "359/359 [==============================] - ETA: 0s - loss: 0.8228 - accuracy: 0.9752\n",
            "Epoch 00089: val_loss did not improve from 1.47056\n",
            "359/359 [==============================] - 33s 92ms/step - loss: 0.8228 - accuracy: 0.9752 - val_loss: 2.2116 - val_accuracy: 0.8625\n",
            "Epoch 90/150\n",
            "359/359 [==============================] - ETA: 0s - loss: 0.7268 - accuracy: 0.9819\n",
            "Epoch 00090: val_loss did not improve from 1.47056\n",
            "359/359 [==============================] - 33s 92ms/step - loss: 0.7268 - accuracy: 0.9819 - val_loss: 1.9813 - val_accuracy: 0.8500\n",
            "Epoch 91/150\n",
            "359/359 [==============================] - ETA: 0s - loss: 0.7213 - accuracy: 0.9808\n",
            "Epoch 00091: val_loss did not improve from 1.47056\n",
            "359/359 [==============================] - 33s 92ms/step - loss: 0.7213 - accuracy: 0.9808 - val_loss: 1.7865 - val_accuracy: 0.9000\n",
            "Epoch 92/150\n",
            "359/359 [==============================] - ETA: 0s - loss: 0.7077 - accuracy: 0.9773\n",
            "Epoch 00092: val_loss did not improve from 1.47056\n",
            "359/359 [==============================] - 33s 92ms/step - loss: 0.7077 - accuracy: 0.9773 - val_loss: 1.5145 - val_accuracy: 0.8750\n",
            "Epoch 93/150\n",
            "359/359 [==============================] - ETA: 0s - loss: 0.6886 - accuracy: 0.9826\n",
            "Epoch 00093: val_loss did not improve from 1.47056\n",
            "359/359 [==============================] - 33s 92ms/step - loss: 0.6886 - accuracy: 0.9826 - val_loss: 1.7860 - val_accuracy: 0.8687\n",
            "Epoch 94/150\n",
            "359/359 [==============================] - ETA: 0s - loss: 0.6627 - accuracy: 0.9812\n",
            "Epoch 00094: val_loss improved from 1.47056 to 1.24825, saving model to /content/drive/My Drive/KTH-Colour/Resnet_50_GrayScale.h5\n",
            "359/359 [==============================] - 54s 151ms/step - loss: 0.6627 - accuracy: 0.9812 - val_loss: 1.2482 - val_accuracy: 0.9062\n",
            "Epoch 95/150\n",
            "359/359 [==============================] - ETA: 0s - loss: 0.6055 - accuracy: 0.9808\n",
            "Epoch 00095: val_loss did not improve from 1.24825\n",
            "359/359 [==============================] - 58s 161ms/step - loss: 0.6055 - accuracy: 0.9808 - val_loss: 1.3624 - val_accuracy: 0.9062\n",
            "Epoch 96/150\n",
            "359/359 [==============================] - ETA: 0s - loss: 0.5889 - accuracy: 0.9836\n",
            "Epoch 00096: val_loss did not improve from 1.24825\n",
            "359/359 [==============================] - 33s 92ms/step - loss: 0.5889 - accuracy: 0.9836 - val_loss: 1.7411 - val_accuracy: 0.8938\n",
            "Epoch 97/150\n",
            "359/359 [==============================] - ETA: 0s - loss: 0.5744 - accuracy: 0.9822\n",
            "Epoch 00097: val_loss did not improve from 1.24825\n",
            "359/359 [==============================] - 33s 92ms/step - loss: 0.5744 - accuracy: 0.9822 - val_loss: 2.0984 - val_accuracy: 0.8562\n",
            "Epoch 98/150\n",
            "359/359 [==============================] - ETA: 0s - loss: 0.6267 - accuracy: 0.9826\n",
            "Epoch 00098: val_loss did not improve from 1.24825\n",
            "359/359 [==============================] - 33s 92ms/step - loss: 0.6267 - accuracy: 0.9826 - val_loss: 5.3486 - val_accuracy: 0.8250\n",
            "Epoch 99/150\n",
            "359/359 [==============================] - ETA: 0s - loss: 0.7695 - accuracy: 0.9777\n",
            "Epoch 00099: val_loss did not improve from 1.24825\n",
            "359/359 [==============================] - 33s 92ms/step - loss: 0.7695 - accuracy: 0.9777 - val_loss: 1.8974 - val_accuracy: 0.9000\n",
            "Epoch 100/150\n",
            "359/359 [==============================] - ETA: 0s - loss: 0.6302 - accuracy: 0.9843\n",
            "Epoch 00100: val_loss did not improve from 1.24825\n",
            "359/359 [==============================] - 33s 92ms/step - loss: 0.6302 - accuracy: 0.9843 - val_loss: 1.3194 - val_accuracy: 0.9250\n",
            "Epoch 101/150\n",
            "359/359 [==============================] - ETA: 0s - loss: 0.6476 - accuracy: 0.9773\n",
            "Epoch 00101: val_loss did not improve from 1.24825\n",
            "359/359 [==============================] - 33s 92ms/step - loss: 0.6476 - accuracy: 0.9773 - val_loss: 1.4614 - val_accuracy: 0.8813\n",
            "Epoch 102/150\n",
            "359/359 [==============================] - ETA: 0s - loss: 0.5628 - accuracy: 0.9864\n",
            "Epoch 00102: val_loss did not improve from 1.24825\n",
            "359/359 [==============================] - 33s 92ms/step - loss: 0.5628 - accuracy: 0.9864 - val_loss: 2.5979 - val_accuracy: 0.8625\n",
            "Epoch 103/150\n",
            "359/359 [==============================] - ETA: 0s - loss: 0.5567 - accuracy: 0.9826\n",
            "Epoch 00103: val_loss did not improve from 1.24825\n",
            "359/359 [==============================] - 33s 92ms/step - loss: 0.5567 - accuracy: 0.9826 - val_loss: 2.0751 - val_accuracy: 0.8813\n",
            "Epoch 104/150\n",
            "359/359 [==============================] - ETA: 0s - loss: 0.6501 - accuracy: 0.9756\n",
            "Epoch 00104: val_loss did not improve from 1.24825\n",
            "359/359 [==============================] - 33s 92ms/step - loss: 0.6501 - accuracy: 0.9756 - val_loss: 7.0892 - val_accuracy: 0.8250\n",
            "Epoch 105/150\n",
            "359/359 [==============================] - ETA: 0s - loss: 0.7719 - accuracy: 0.9808\n",
            "Epoch 00105: val_loss did not improve from 1.24825\n",
            "359/359 [==============================] - 33s 92ms/step - loss: 0.7719 - accuracy: 0.9808 - val_loss: 1.7503 - val_accuracy: 0.8938\n",
            "Epoch 106/150\n",
            "359/359 [==============================] - ETA: 0s - loss: 0.5576 - accuracy: 0.9878\n",
            "Epoch 00106: val_loss did not improve from 1.24825\n",
            "359/359 [==============================] - 33s 92ms/step - loss: 0.5576 - accuracy: 0.9878 - val_loss: 2.3174 - val_accuracy: 0.9125\n",
            "Epoch 107/150\n",
            "359/359 [==============================] - ETA: 0s - loss: 0.4930 - accuracy: 0.9861\n",
            "Epoch 00107: val_loss did not improve from 1.24825\n",
            "359/359 [==============================] - 33s 92ms/step - loss: 0.4930 - accuracy: 0.9861 - val_loss: 1.7835 - val_accuracy: 0.8875\n",
            "Epoch 108/150\n",
            "359/359 [==============================] - ETA: 0s - loss: 0.5325 - accuracy: 0.9777\n",
            "Epoch 00108: val_loss did not improve from 1.24825\n",
            "359/359 [==============================] - 33s 92ms/step - loss: 0.5325 - accuracy: 0.9777 - val_loss: 1.3943 - val_accuracy: 0.9125\n",
            "Epoch 109/150\n",
            "359/359 [==============================] - ETA: 0s - loss: 0.6084 - accuracy: 0.9808\n",
            "Epoch 00109: val_loss did not improve from 1.24825\n",
            "359/359 [==============================] - 33s 92ms/step - loss: 0.6084 - accuracy: 0.9808 - val_loss: 2.3723 - val_accuracy: 0.8562\n",
            "Epoch 110/150\n",
            "359/359 [==============================] - ETA: 0s - loss: 0.5818 - accuracy: 0.9773\n",
            "Epoch 00110: val_loss did not improve from 1.24825\n",
            "359/359 [==============================] - 33s 92ms/step - loss: 0.5818 - accuracy: 0.9773 - val_loss: 2.6177 - val_accuracy: 0.8813\n",
            "Epoch 111/150\n",
            "359/359 [==============================] - ETA: 0s - loss: 0.5453 - accuracy: 0.9854\n",
            "Epoch 00111: val_loss did not improve from 1.24825\n",
            "359/359 [==============================] - 33s 92ms/step - loss: 0.5453 - accuracy: 0.9854 - val_loss: 1.8912 - val_accuracy: 0.9187\n",
            "Epoch 112/150\n",
            "359/359 [==============================] - ETA: 0s - loss: 0.5568 - accuracy: 0.9777\n",
            "Epoch 00112: val_loss did not improve from 1.24825\n",
            "359/359 [==============================] - 33s 92ms/step - loss: 0.5568 - accuracy: 0.9777 - val_loss: 2.4176 - val_accuracy: 0.8625\n",
            "Epoch 113/150\n",
            "359/359 [==============================] - ETA: 0s - loss: 0.5436 - accuracy: 0.9805\n",
            "Epoch 00113: val_loss did not improve from 1.24825\n",
            "359/359 [==============================] - 33s 92ms/step - loss: 0.5436 - accuracy: 0.9805 - val_loss: 3.1530 - val_accuracy: 0.8625\n",
            "Epoch 114/150\n",
            "359/359 [==============================] - ETA: 0s - loss: 0.6554 - accuracy: 0.9808\n",
            "Epoch 00114: val_loss did not improve from 1.24825\n",
            "359/359 [==============================] - 33s 92ms/step - loss: 0.6554 - accuracy: 0.9808 - val_loss: 3.8048 - val_accuracy: 0.8562\n",
            "Epoch 115/150\n",
            "359/359 [==============================] - ETA: 0s - loss: 0.5361 - accuracy: 0.9854\n",
            "Epoch 00115: val_loss did not improve from 1.24825\n",
            "359/359 [==============================] - 33s 92ms/step - loss: 0.5361 - accuracy: 0.9854 - val_loss: 3.2489 - val_accuracy: 0.8313\n",
            "Epoch 116/150\n",
            "359/359 [==============================] - ETA: 0s - loss: 0.4353 - accuracy: 0.9885\n",
            "Epoch 00116: val_loss improved from 1.24825 to 1.17737, saving model to /content/drive/My Drive/KTH-Colour/Resnet_50_GrayScale.h5\n",
            "359/359 [==============================] - 52s 145ms/step - loss: 0.4353 - accuracy: 0.9885 - val_loss: 1.1774 - val_accuracy: 0.9000\n",
            "Epoch 117/150\n",
            "359/359 [==============================] - ETA: 0s - loss: 0.4250 - accuracy: 0.9847\n",
            "Epoch 00117: val_loss did not improve from 1.17737\n",
            "359/359 [==============================] - 52s 144ms/step - loss: 0.4250 - accuracy: 0.9847 - val_loss: 1.8943 - val_accuracy: 0.8500\n",
            "Epoch 118/150\n",
            "359/359 [==============================] - ETA: 0s - loss: 0.4301 - accuracy: 0.9885\n",
            "Epoch 00118: val_loss improved from 1.17737 to 1.01481, saving model to /content/drive/My Drive/KTH-Colour/Resnet_50_GrayScale.h5\n",
            "359/359 [==============================] - 52s 146ms/step - loss: 0.4301 - accuracy: 0.9885 - val_loss: 1.0148 - val_accuracy: 0.9250\n",
            "Epoch 119/150\n",
            "359/359 [==============================] - ETA: 0s - loss: 0.4850 - accuracy: 0.9864\n",
            "Epoch 00119: val_loss did not improve from 1.01481\n",
            "359/359 [==============================] - 50s 140ms/step - loss: 0.4850 - accuracy: 0.9864 - val_loss: 1.5856 - val_accuracy: 0.8562\n",
            "Epoch 120/150\n",
            "359/359 [==============================] - ETA: 0s - loss: 0.4993 - accuracy: 0.9850\n",
            "Epoch 00120: val_loss did not improve from 1.01481\n",
            "359/359 [==============================] - 33s 92ms/step - loss: 0.4993 - accuracy: 0.9850 - val_loss: 1.4078 - val_accuracy: 0.8938\n",
            "Epoch 121/150\n",
            "359/359 [==============================] - ETA: 0s - loss: 0.5247 - accuracy: 0.9843\n",
            "Epoch 00121: val_loss did not improve from 1.01481\n",
            "359/359 [==============================] - 33s 92ms/step - loss: 0.5247 - accuracy: 0.9843 - val_loss: 1.9584 - val_accuracy: 0.8438\n",
            "Epoch 122/150\n",
            "359/359 [==============================] - ETA: 0s - loss: 0.5773 - accuracy: 0.9787\n",
            "Epoch 00122: val_loss did not improve from 1.01481\n",
            "359/359 [==============================] - 33s 92ms/step - loss: 0.5773 - accuracy: 0.9787 - val_loss: 1.4583 - val_accuracy: 0.8875\n",
            "Epoch 123/150\n",
            "359/359 [==============================] - ETA: 0s - loss: 0.5979 - accuracy: 0.9798\n",
            "Epoch 00123: val_loss did not improve from 1.01481\n",
            "359/359 [==============================] - 33s 92ms/step - loss: 0.5979 - accuracy: 0.9798 - val_loss: 2.1112 - val_accuracy: 0.8813\n",
            "Epoch 124/150\n",
            "359/359 [==============================] - ETA: 0s - loss: 0.5033 - accuracy: 0.9857\n",
            "Epoch 00124: val_loss did not improve from 1.01481\n",
            "359/359 [==============================] - 33s 92ms/step - loss: 0.5033 - accuracy: 0.9857 - val_loss: 2.8577 - val_accuracy: 0.8250\n",
            "Epoch 125/150\n",
            "359/359 [==============================] - ETA: 0s - loss: 0.5316 - accuracy: 0.9840\n",
            "Epoch 00125: val_loss did not improve from 1.01481\n",
            "359/359 [==============================] - 33s 92ms/step - loss: 0.5316 - accuracy: 0.9840 - val_loss: 1.7282 - val_accuracy: 0.9250\n",
            "Epoch 126/150\n",
            "359/359 [==============================] - ETA: 0s - loss: 0.5262 - accuracy: 0.9871\n",
            "Epoch 00126: val_loss did not improve from 1.01481\n",
            "359/359 [==============================] - 33s 92ms/step - loss: 0.5262 - accuracy: 0.9871 - val_loss: 1.7710 - val_accuracy: 0.8750\n",
            "Epoch 127/150\n",
            "359/359 [==============================] - ETA: 0s - loss: 0.4832 - accuracy: 0.9822\n",
            "Epoch 00127: val_loss did not improve from 1.01481\n",
            "359/359 [==============================] - 33s 92ms/step - loss: 0.4832 - accuracy: 0.9822 - val_loss: 1.2099 - val_accuracy: 0.9187\n",
            "Epoch 128/150\n",
            "359/359 [==============================] - ETA: 0s - loss: 0.4199 - accuracy: 0.9881\n",
            "Epoch 00128: val_loss did not improve from 1.01481\n",
            "359/359 [==============================] - 33s 92ms/step - loss: 0.4199 - accuracy: 0.9881 - val_loss: 3.3995 - val_accuracy: 0.8188\n",
            "Epoch 129/150\n",
            "359/359 [==============================] - ETA: 0s - loss: 0.4819 - accuracy: 0.9895\n",
            "Epoch 00129: val_loss did not improve from 1.01481\n",
            "359/359 [==============================] - 33s 92ms/step - loss: 0.4819 - accuracy: 0.9895 - val_loss: 5.6124 - val_accuracy: 0.8625\n",
            "Epoch 130/150\n",
            "359/359 [==============================] - ETA: 0s - loss: 0.4758 - accuracy: 0.9864\n",
            "Epoch 00130: val_loss did not improve from 1.01481\n",
            "359/359 [==============================] - 33s 92ms/step - loss: 0.4758 - accuracy: 0.9864 - val_loss: 4.3319 - val_accuracy: 0.8562\n",
            "Epoch 131/150\n",
            "359/359 [==============================] - ETA: 0s - loss: 0.3912 - accuracy: 0.9888\n",
            "Epoch 00131: val_loss did not improve from 1.01481\n",
            "359/359 [==============================] - 33s 92ms/step - loss: 0.3912 - accuracy: 0.9888 - val_loss: 4.6779 - val_accuracy: 0.8562\n",
            "Epoch 132/150\n",
            "359/359 [==============================] - ETA: 0s - loss: 0.3989 - accuracy: 0.9854\n",
            "Epoch 00132: val_loss did not improve from 1.01481\n",
            "359/359 [==============================] - 33s 92ms/step - loss: 0.3989 - accuracy: 0.9854 - val_loss: 4.2585 - val_accuracy: 0.8938\n",
            "Epoch 133/150\n",
            "359/359 [==============================] - ETA: 0s - loss: 0.4202 - accuracy: 0.9857\n",
            "Epoch 00133: val_loss did not improve from 1.01481\n",
            "359/359 [==============================] - 33s 92ms/step - loss: 0.4202 - accuracy: 0.9857 - val_loss: 18.0503 - val_accuracy: 0.7750\n",
            "Epoch 134/150\n",
            "359/359 [==============================] - ETA: 0s - loss: 0.6659 - accuracy: 0.9749\n",
            "Epoch 00134: val_loss did not improve from 1.01481\n",
            "359/359 [==============================] - 33s 92ms/step - loss: 0.6659 - accuracy: 0.9749 - val_loss: 4.3028 - val_accuracy: 0.8750\n",
            "Epoch 135/150\n",
            "359/359 [==============================] - ETA: 0s - loss: 0.5916 - accuracy: 0.9871\n",
            "Epoch 00135: val_loss did not improve from 1.01481\n",
            "359/359 [==============================] - 33s 92ms/step - loss: 0.5916 - accuracy: 0.9871 - val_loss: 2.5103 - val_accuracy: 0.9000\n",
            "Epoch 136/150\n",
            "359/359 [==============================] - ETA: 0s - loss: 0.4664 - accuracy: 0.9854\n",
            "Epoch 00136: val_loss did not improve from 1.01481\n",
            "359/359 [==============================] - 33s 92ms/step - loss: 0.4664 - accuracy: 0.9854 - val_loss: 2.5598 - val_accuracy: 0.8813\n",
            "Epoch 137/150\n",
            "359/359 [==============================] - ETA: 0s - loss: 0.4439 - accuracy: 0.9871\n",
            "Epoch 00137: val_loss did not improve from 1.01481\n",
            "359/359 [==============================] - 33s 92ms/step - loss: 0.4439 - accuracy: 0.9871 - val_loss: 1.4042 - val_accuracy: 0.9375\n",
            "Epoch 138/150\n",
            "359/359 [==============================] - ETA: 0s - loss: 0.4327 - accuracy: 0.9843\n",
            "Epoch 00138: val_loss did not improve from 1.01481\n",
            "359/359 [==============================] - 33s 92ms/step - loss: 0.4327 - accuracy: 0.9843 - val_loss: 1.4615 - val_accuracy: 0.8938\n",
            "Epoch 139/150\n",
            "359/359 [==============================] - ETA: 0s - loss: 0.4954 - accuracy: 0.9833\n",
            "Epoch 00139: val_loss did not improve from 1.01481\n",
            "359/359 [==============================] - 33s 92ms/step - loss: 0.4954 - accuracy: 0.9833 - val_loss: 1.7878 - val_accuracy: 0.8500\n",
            "Epoch 140/150\n",
            "359/359 [==============================] - ETA: 0s - loss: 0.5196 - accuracy: 0.9847\n",
            "Epoch 00140: val_loss did not improve from 1.01481\n",
            "359/359 [==============================] - 33s 92ms/step - loss: 0.5196 - accuracy: 0.9847 - val_loss: 1.8911 - val_accuracy: 0.9125\n",
            "Epoch 141/150\n",
            "359/359 [==============================] - ETA: 0s - loss: 0.4346 - accuracy: 0.9857\n",
            "Epoch 00141: val_loss did not improve from 1.01481\n",
            "359/359 [==============================] - 33s 92ms/step - loss: 0.4346 - accuracy: 0.9857 - val_loss: 2.0520 - val_accuracy: 0.8625\n",
            "Epoch 142/150\n",
            "359/359 [==============================] - ETA: 0s - loss: 0.4686 - accuracy: 0.9808\n",
            "Epoch 00142: val_loss did not improve from 1.01481\n",
            "359/359 [==============================] - 33s 92ms/step - loss: 0.4686 - accuracy: 0.9808 - val_loss: 4.1512 - val_accuracy: 0.8250\n",
            "Epoch 143/150\n",
            "359/359 [==============================] - ETA: 0s - loss: 0.4031 - accuracy: 0.9913\n",
            "Epoch 00143: val_loss did not improve from 1.01481\n",
            "359/359 [==============================] - 33s 92ms/step - loss: 0.4031 - accuracy: 0.9913 - val_loss: 2.3959 - val_accuracy: 0.9000\n",
            "Epoch 144/150\n",
            "359/359 [==============================] - ETA: 0s - loss: 0.4054 - accuracy: 0.9826\n",
            "Epoch 00144: val_loss did not improve from 1.01481\n",
            "359/359 [==============================] - 33s 92ms/step - loss: 0.4054 - accuracy: 0.9826 - val_loss: 2.9673 - val_accuracy: 0.8750\n",
            "Epoch 145/150\n",
            "359/359 [==============================] - ETA: 0s - loss: 0.3781 - accuracy: 0.9895\n",
            "Epoch 00145: val_loss did not improve from 1.01481\n",
            "359/359 [==============================] - 33s 92ms/step - loss: 0.3781 - accuracy: 0.9895 - val_loss: 2.3489 - val_accuracy: 0.8875\n",
            "Epoch 146/150\n",
            "359/359 [==============================] - ETA: 0s - loss: 0.4706 - accuracy: 0.9812\n",
            "Epoch 00146: val_loss did not improve from 1.01481\n",
            "359/359 [==============================] - 33s 92ms/step - loss: 0.4706 - accuracy: 0.9812 - val_loss: 4.0152 - val_accuracy: 0.8500\n",
            "Epoch 147/150\n",
            "359/359 [==============================] - ETA: 0s - loss: 0.4478 - accuracy: 0.9878\n",
            "Epoch 00147: val_loss did not improve from 1.01481\n",
            "359/359 [==============================] - 33s 92ms/step - loss: 0.4478 - accuracy: 0.9878 - val_loss: 2.1195 - val_accuracy: 0.8625\n",
            "Epoch 148/150\n",
            "359/359 [==============================] - ETA: 0s - loss: 0.4848 - accuracy: 0.9881\n",
            "Epoch 00148: val_loss did not improve from 1.01481\n",
            "359/359 [==============================] - 33s 92ms/step - loss: 0.4848 - accuracy: 0.9881 - val_loss: 2.1697 - val_accuracy: 0.8813\n",
            "Epoch 149/150\n",
            "359/359 [==============================] - ETA: 0s - loss: 0.4079 - accuracy: 0.9871\n",
            "Epoch 00149: val_loss did not improve from 1.01481\n",
            "359/359 [==============================] - 33s 92ms/step - loss: 0.4079 - accuracy: 0.9871 - val_loss: 2.0980 - val_accuracy: 0.9250\n",
            "Epoch 150/150\n",
            "359/359 [==============================] - ETA: 0s - loss: 0.4251 - accuracy: 0.9847\n",
            "Epoch 00150: val_loss did not improve from 1.01481\n",
            "359/359 [==============================] - 33s 92ms/step - loss: 0.4251 - accuracy: 0.9847 - val_loss: 1.9789 - val_accuracy: 0.8938\n"
          ],
          "name": "stdout"
        }
      ]
    },
    {
      "cell_type": "code",
      "metadata": {
        "id": "EnmI9WxLDgYE",
        "colab_type": "code",
        "colab": {
          "base_uri": "https://localhost:8080/",
          "height": 295
        },
        "outputId": "de3a3f33-7926-44ae-978e-25c8d887a59a"
      },
      "source": [
        "import matplotlib.pyplot as plt\n",
        "plt.plot(hist.history[\"accuracy\"])\n",
        "plt.plot(hist.history['val_accuracy'])\n",
        "plt.title(\"model accuracy\")\n",
        "plt.ylabel(\"Accuracy\")\n",
        "plt.xlabel(\"Epoch\")\n",
        "plt.legend([\"Accuracy\",\"Validation Accuracy\"])\n",
        "plt.show()"
      ],
      "execution_count": null,
      "outputs": [
        {
          "output_type": "display_data",
          "data": {
            "image/png": "[encoded data removed]",
            "text/plain": [
              "<Figure size 432x288 with 1 Axes>"
            ]
          },
          "metadata": {
            "tags": [],
            "needs_background": "light"
          }
        }
      ]
    },
    {
      "cell_type": "code",
      "metadata": {
        "id": "wve75R3hDjNi",
        "colab_type": "code",
        "colab": {
          "base_uri": "https://localhost:8080/",
          "height": 295
        },
        "outputId": "45405436-b109-4b9d-ee1e-3e7574d43180"
      },
      "source": [
        "plt.plot(hist.history['loss'])\n",
        "plt.plot(hist.history['val_loss'])\n",
        "plt.title(\"model Loss\")\n",
        "plt.ylabel(\"Loss\")\n",
        "plt.xlabel(\"Epoch\")\n",
        "plt.legend([\"Loss\",\"Validation Loss\"])\n",
        "plt.show()"
      ],
      "execution_count": null,
      "outputs": [
        {
          "output_type": "display_data",
          "data": {
            "image/png": "[encoded data removed]",
            "text/plain": [
              "<Figure size 432x288 with 1 Axes>"
            ]
          },
          "metadata": {
            "tags": [],
            "needs_background": "light"
          }
        }
      ]
    },
    {
      "cell_type": "code",
      "metadata": {
        "id": "nd3_7zZRDmJa",
        "colab_type": "code",
        "colab": {
          "base_uri": "https://localhost:8080/",
          "height": 34
        },
        "outputId": "42f15b67-1c0f-4c05-adb7-66d15f6c5a96"
      },
      "source": [
        "GreyTestData = TestGenerator.flow_from_directory('/content/drive/My Drive/KTH-Colour/Test/', target_size=(224,224), batch_size = 8, shuffle = False, color_mode='grayscale')"
      ],
      "execution_count": null,
      "outputs": [
        {
          "output_type": "stream",
          "text": [
            "Found 166 images belonging to 11 classes.\n"
          ],
          "name": "stdout"
        }
      ]
    },
    {
      "cell_type": "code",
      "metadata": {
        "id": "s1BSE5W-DpV3",
        "colab_type": "code",
        "colab": {}
      },
      "source": [
        "Grey_predict = model.predict(GreyTestData)"
      ],
      "execution_count": null,
      "outputs": []
    },
    {
      "cell_type": "code",
      "metadata": {
        "id": "BVsf8W-_Dr5d",
        "colab_type": "code",
        "colab": {}
      },
      "source": [
        "Grey_predict_classes = np.argmax(Grey_predict, axis=1)"
      ],
      "execution_count": null,
      "outputs": []
    },
    {
      "cell_type": "code",
      "metadata": {
        "id": "n_kZc807DvE2",
        "colab_type": "code",
        "colab": {
          "base_uri": "https://localhost:8080/",
          "height": 187
        },
        "outputId": "334f0b0f-f398-42da-ed12-a6cda5069273"
      },
      "source": [
        "Grey_predict_classes"
      ],
      "execution_count": null,
      "outputs": [
        {
          "output_type": "execute_result",
          "data": {
            "text/plain": [
              "array([ 0,  0,  0,  0,  0,  0,  0,  0,  0,  0,  0,  0,  0,  0,  0,  0,  0,\n",
              "        0,  0,  0,  0,  0,  1,  1,  1,  1,  1,  2,  2,  2,  2,  2,  2,  2,\n",
              "        2,  2,  2,  2,  2,  2,  2,  2,  2,  2,  2,  2,  2,  2,  2,  2,  2,\n",
              "        2,  2,  3,  3,  3,  3,  3,  3,  3,  4,  3,  3,  3,  3,  3,  3,  3,\n",
              "        3,  3,  4,  3,  3,  3,  3,  4,  4,  0,  0,  4,  4,  4,  4,  4,  4,\n",
              "        4,  4,  4,  4,  4,  4,  4,  4,  4,  4,  4,  4,  4,  4,  4,  4,  5,\n",
              "        5,  5,  5,  4,  6,  6,  6,  6,  6,  6,  6,  6,  6,  6,  6,  6,  6,\n",
              "        6,  6,  6,  6,  6,  4,  6,  6,  0,  6,  4,  6,  7,  7,  7,  8,  8,\n",
              "        8,  8,  8,  9,  9,  9,  9,  9, 10, 10,  4,  4, 10, 10, 10, 10, 10,\n",
              "       10, 10, 10, 10, 10, 10, 10, 10, 10, 10, 10, 10, 10])"
            ]
          },
          "metadata": {
            "tags": []
          },
          "execution_count": 36
        }
      ]
    },
    {
      "cell_type": "code",
      "metadata": {
        "id": "5CD6KbGPDxll",
        "colab_type": "code",
        "colab": {}
      },
      "source": [
        "from sklearn.metrics import accuracy_score\n",
        "from sklearn.metrics import precision_score\n",
        "from sklearn.metrics import recall_score\n",
        "from sklearn.metrics import f1_score\n",
        "from sklearn.metrics import cohen_kappa_score\n",
        "from sklearn.metrics import roc_auc_score"
      ],
      "execution_count": null,
      "outputs": []
    },
    {
      "cell_type": "code",
      "metadata": {
        "id": "FzkbGfkfD0jy",
        "colab_type": "code",
        "colab": {
          "base_uri": "https://localhost:8080/",
          "height": 34
        },
        "outputId": "20d78c02-ca24-4cf5-854d-7295de230b4d"
      },
      "source": [
        "Grey_accuracy = accuracy_score(GreyTestData.classes, Grey_predict_classes)\n",
        "print(\"Grey Accuracy: \", Grey_accuracy)"
      ],
      "execution_count": null,
      "outputs": [
        {
          "output_type": "stream",
          "text": [
            "Grey Accuracy:  0.9397590361445783\n"
          ],
          "name": "stdout"
        }
      ]
    },
    {
      "cell_type": "code",
      "metadata": {
        "id": "k5kJMdhqD25F",
        "colab_type": "code",
        "colab": {
          "base_uri": "https://localhost:8080/",
          "height": 34
        },
        "outputId": "93db36ba-60fc-4569-dabf-436546c6ea7c"
      },
      "source": [
        "Grey_precision = precision_score(GreyTestData.classes, Grey_predict_classes,average=\"weighted\")\n",
        "print(\"Grey Precision: \", Grey_precision)"
      ],
      "execution_count": null,
      "outputs": [
        {
          "output_type": "stream",
          "text": [
            "Grey Precision:  0.9487291099883405\n"
          ],
          "name": "stdout"
        }
      ]
    },
    {
      "cell_type": "code",
      "metadata": {
        "id": "jlXPnnLND5nG",
        "colab_type": "code",
        "colab": {
          "base_uri": "https://localhost:8080/",
          "height": 34
        },
        "outputId": "2ee2cec4-d50d-41b1-cbb2-9459d707cd69"
      },
      "source": [
        "Grey_recall = recall_score(GreyTestData.classes, Grey_predict_classes, average=\"weighted\")\n",
        "print(\"Grey Recall:\", Grey_recall)"
      ],
      "execution_count": null,
      "outputs": [
        {
          "output_type": "stream",
          "text": [
            "Grey Recall: 0.9397590361445783\n"
          ],
          "name": "stdout"
        }
      ]
    },
    {
      "cell_type": "code",
      "metadata": {
        "id": "-XWYJe3HD8Br",
        "colab_type": "code",
        "colab": {
          "base_uri": "https://localhost:8080/",
          "height": 34
        },
        "outputId": "0161503d-e4b4-48cb-83fe-82eeeb1c3eb7"
      },
      "source": [
        "Grey_f1_score = f1_score(GreyTestData.classes, Grey_predict_classes, average=\"weighted\")\n",
        "print(\"F1 score for Grey: \", Grey_f1_score)"
      ],
      "execution_count": null,
      "outputs": [
        {
          "output_type": "stream",
          "text": [
            "F1 score for Grey:  0.941136004584648\n"
          ],
          "name": "stdout"
        }
      ]
    },
    {
      "cell_type": "code",
      "metadata": {
        "id": "FpboyI5NEAew",
        "colab_type": "code",
        "colab": {
          "base_uri": "https://localhost:8080/",
          "height": 34
        },
        "outputId": "c55fd890-15e1-416c-e85e-02aaa848611e"
      },
      "source": [
        "Colour_TrainingData =  DataGenerator.flow_from_directory('/content/drive/My Drive/KTH-Colour/Train-dataset/', target_size=(224,224), batch_size=8)"
      ],
      "execution_count": null,
      "outputs": [
        {
          "output_type": "stream",
          "text": [
            "Found 2868 images belonging to 11 classes.\n"
          ],
          "name": "stdout"
        }
      ]
    },
    {
      "cell_type": "code",
      "metadata": {
        "id": "rE3R-2awEDcY",
        "colab_type": "code",
        "colab": {
          "base_uri": "https://localhost:8080/",
          "height": 34
        },
        "outputId": "79798ebc-1016-4212-bac2-3d03a89f3da5"
      },
      "source": [
        "Colour_ValidData =  DataGenerator.flow_from_directory('/content/drive/My Drive/KTH-Colour/valid/', target_size=(224,224), batch_size=8)"
      ],
      "execution_count": null,
      "outputs": [
        {
          "output_type": "stream",
          "text": [
            "Found 161 images belonging to 11 classes.\n"
          ],
          "name": "stdout"
        }
      ]
    },
    {
      "cell_type": "code",
      "metadata": {
        "id": "4AbngqvyEFw1",
        "colab_type": "code",
        "colab": {}
      },
      "source": [
        "# Convoluted Base Model.\n",
        "conv_base = ResNet50(weights='imagenet', include_top=False, input_shape=(224,224,3))"
      ],
      "execution_count": null,
      "outputs": []
    },
    {
      "cell_type": "code",
      "metadata": {
        "id": "nzmHjxk9ES5m",
        "colab_type": "code",
        "colab": {}
      },
      "source": [
        "# Make last block of the conv_base trainable:\n",
        "\n",
        "for layer in conv_base.layers[:165]:\n",
        "   layer.trainable = False\n",
        "for layer in conv_base.layers[165:]:\n",
        "   layer.trainable = True\n",
        "for layer in conv_base.layers:\n",
        "  if isinstance(layer, BatchNormalization):\n",
        "    layer.trainable = True\n"
      ],
      "execution_count": null,
      "outputs": []
    },
    {
      "cell_type": "code",
      "metadata": {
        "id": "p1E-Hu_REWzo",
        "colab_type": "code",
        "colab": {}
      },
      "source": [
        "colour_model = Sequential()"
      ],
      "execution_count": null,
      "outputs": []
    },
    {
      "cell_type": "code",
      "metadata": {
        "id": "bjyWBvYtEZzt",
        "colab_type": "code",
        "colab": {}
      },
      "source": [
        "colour_model.add(conv_base)"
      ],
      "execution_count": null,
      "outputs": []
    },
    {
      "cell_type": "code",
      "metadata": {
        "id": "nRHmx_rTEf9j",
        "colab_type": "code",
        "colab": {}
      },
      "source": [
        "# Adding layers.\n",
        "colour_model.add(Flatten())\n",
        "colour_model.add(Dense(2048, activation='relu', kernel_regularizer= regularizers.l2(0.001)))\n",
        "colour_model.add(Dropout(0.5))\n",
        "colour_model.add(Dense(11, activation='softmax'))"
      ],
      "execution_count": null,
      "outputs": []
    },
    {
      "cell_type": "code",
      "metadata": {
        "id": "AsGwUuqrEiEV",
        "colab_type": "code",
        "colab": {}
      },
      "source": [
        "from keras.optimizers import Adam"
      ],
      "execution_count": null,
      "outputs": []
    },
    {
      "cell_type": "code",
      "metadata": {
        "id": "18O2jCTxElrM",
        "colab_type": "code",
        "colab": {}
      },
      "source": [
        "colour_model.compile(loss='categorical_crossentropy',\n",
        "              optimizer=Adam(lr=0.001),\n",
        "              metrics=['accuracy'])"
      ],
      "execution_count": null,
      "outputs": []
    },
    {
      "cell_type": "code",
      "metadata": {
        "id": "tQNo3erKEmYQ",
        "colab_type": "code",
        "colab": {}
      },
      "source": [
        "from keras.callbacks import ModelCheckpoint, EarlyStopping, ReduceLROnPlateau\n",
        "checkpoint = ModelCheckpoint(\"/content/drive/My Drive/KTH-Colour/Resnet_Colour.h5\",\n",
        "                             monitor=\"val_loss\",\n",
        "                             mode=\"min\",\n",
        "                             save_best_only = True,\n",
        "                             verbose=1)\n",
        "\n",
        "earlystop = EarlyStopping(monitor = 'val_loss', \n",
        "                          min_delta = 0, \n",
        "                          patience = 50,\n",
        "                          verbose = 1,\n",
        "                          restore_best_weights = True)\n",
        "\n",
        "reduce_lr = ReduceLROnPlateau(monitor = 'val_loss',\n",
        "                              factor = 0.2,\n",
        "                              patience = 50,\n",
        "                              verbose = 1,\n",
        "                              min_delta = 0.00001)\n",
        "\n",
        "callBacks = [earlystop, checkpoint, reduce_lr]"
      ],
      "execution_count": null,
      "outputs": []
    },
    {
      "cell_type": "code",
      "metadata": {
        "id": "qPEIT2IZEyBK",
        "colab_type": "code",
        "colab": {
          "base_uri": "https://localhost:8080/",
          "height": 1000
        },
        "outputId": "8a37dc8b-8332-4c17-dcba-ca2361a235d2"
      },
      "source": [
        "hist = colour_model.fit_generator(steps_per_epoch=359,generator= Colour_TrainingData, validation_data= Colour_ValidData, validation_steps=20,epochs=150,callbacks=callBacks)"
      ],
      "execution_count": null,
      "outputs": [
        {
          "output_type": "stream",
          "text": [
            "Epoch 1/150\n",
            "359/359 [==============================] - ETA: 0s - loss: 16.0971 - accuracy: 0.7200\n",
            "Epoch 00001: val_loss improved from inf to 719.38306, saving model to /content/drive/My Drive/KTH-Colour/Resnet_Colour.h5\n",
            "359/359 [==============================] - 54s 150ms/step - loss: 16.0971 - accuracy: 0.7200 - val_loss: 719.3831 - val_accuracy: 0.0250\n",
            "Epoch 2/150\n",
            "359/359 [==============================] - ETA: 0s - loss: 10.0849 - accuracy: 0.8504\n",
            "Epoch 00002: val_loss improved from 719.38306 to 201.98560, saving model to /content/drive/My Drive/KTH-Colour/Resnet_Colour.h5\n",
            "359/359 [==============================] - 82s 229ms/step - loss: 10.0849 - accuracy: 0.8504 - val_loss: 201.9856 - val_accuracy: 0.1625\n",
            "Epoch 3/150\n",
            "359/359 [==============================] - ETA: 0s - loss: 9.2983 - accuracy: 0.8699\n",
            "Epoch 00003: val_loss improved from 201.98560 to 13.85450, saving model to /content/drive/My Drive/KTH-Colour/Resnet_Colour.h5\n",
            "359/359 [==============================] - 73s 204ms/step - loss: 9.2983 - accuracy: 0.8699 - val_loss: 13.8545 - val_accuracy: 0.6938\n",
            "Epoch 4/150\n",
            "359/359 [==============================] - ETA: 0s - loss: 8.0483 - accuracy: 0.8884\n",
            "Epoch 00004: val_loss improved from 13.85450 to 7.99840, saving model to /content/drive/My Drive/KTH-Colour/Resnet_Colour.h5\n",
            "359/359 [==============================] - 71s 199ms/step - loss: 8.0483 - accuracy: 0.8884 - val_loss: 7.9984 - val_accuracy: 0.9688\n",
            "Epoch 5/150\n",
            "359/359 [==============================] - ETA: 0s - loss: 7.6641 - accuracy: 0.8860\n",
            "Epoch 00005: val_loss improved from 7.99840 to 7.09145, saving model to /content/drive/My Drive/KTH-Colour/Resnet_Colour.h5\n",
            "359/359 [==============================] - 70s 195ms/step - loss: 7.6641 - accuracy: 0.8860 - val_loss: 7.0915 - val_accuracy: 0.9688\n",
            "Epoch 6/150\n",
            "359/359 [==============================] - ETA: 0s - loss: 7.1367 - accuracy: 0.9038\n",
            "Epoch 00006: val_loss did not improve from 7.09145\n",
            "359/359 [==============================] - 52s 145ms/step - loss: 7.1367 - accuracy: 0.9038 - val_loss: 7.4139 - val_accuracy: 0.9187\n",
            "Epoch 7/150\n",
            "359/359 [==============================] - ETA: 0s - loss: 8.3749 - accuracy: 0.8672\n",
            "Epoch 00007: val_loss did not improve from 7.09145\n",
            "359/359 [==============================] - 33s 93ms/step - loss: 8.3749 - accuracy: 0.8672 - val_loss: 8.7261 - val_accuracy: 0.9500\n",
            "Epoch 8/150\n",
            "359/359 [==============================] - ETA: 0s - loss: 8.4004 - accuracy: 0.8985\n",
            "Epoch 00008: val_loss did not improve from 7.09145\n",
            "359/359 [==============================] - 33s 93ms/step - loss: 8.4004 - accuracy: 0.8985 - val_loss: 9.1468 - val_accuracy: 0.9375\n",
            "Epoch 9/150\n",
            "359/359 [==============================] - ETA: 0s - loss: 7.9697 - accuracy: 0.9034\n",
            "Epoch 00009: val_loss did not improve from 7.09145\n",
            "359/359 [==============================] - 33s 93ms/step - loss: 7.9697 - accuracy: 0.9034 - val_loss: 8.4917 - val_accuracy: 0.9625\n",
            "Epoch 10/150\n",
            "359/359 [==============================] - ETA: 0s - loss: 7.3668 - accuracy: 0.9132\n",
            "Epoch 00010: val_loss improved from 7.09145 to 6.41803, saving model to /content/drive/My Drive/KTH-Colour/Resnet_Colour.h5\n",
            "359/359 [==============================] - 55s 152ms/step - loss: 7.3668 - accuracy: 0.9132 - val_loss: 6.4180 - val_accuracy: 0.9625\n",
            "Epoch 11/150\n",
            "359/359 [==============================] - ETA: 0s - loss: 6.8884 - accuracy: 0.9100\n",
            "Epoch 00011: val_loss did not improve from 6.41803\n",
            "359/359 [==============================] - 52s 145ms/step - loss: 6.8884 - accuracy: 0.9100 - val_loss: 6.7962 - val_accuracy: 0.9750\n",
            "Epoch 12/150\n",
            "359/359 [==============================] - ETA: 0s - loss: 6.4618 - accuracy: 0.9174\n",
            "Epoch 00012: val_loss improved from 6.41803 to 5.79942, saving model to /content/drive/My Drive/KTH-Colour/Resnet_Colour.h5\n",
            "359/359 [==============================] - 52s 146ms/step - loss: 6.4618 - accuracy: 0.9174 - val_loss: 5.7994 - val_accuracy: 0.9688\n",
            "Epoch 13/150\n",
            "359/359 [==============================] - ETA: 0s - loss: 5.6046 - accuracy: 0.9268\n",
            "Epoch 00013: val_loss improved from 5.79942 to 5.65463, saving model to /content/drive/My Drive/KTH-Colour/Resnet_Colour.h5\n",
            "359/359 [==============================] - 81s 226ms/step - loss: 5.6046 - accuracy: 0.9268 - val_loss: 5.6546 - val_accuracy: 0.9750\n",
            "Epoch 14/150\n",
            "359/359 [==============================] - ETA: 0s - loss: 5.8295 - accuracy: 0.9097\n",
            "Epoch 00014: val_loss did not improve from 5.65463\n",
            "359/359 [==============================] - 56s 155ms/step - loss: 5.8295 - accuracy: 0.9097 - val_loss: 5.7882 - val_accuracy: 0.9563\n",
            "Epoch 15/150\n",
            "359/359 [==============================] - ETA: 0s - loss: 5.3196 - accuracy: 0.9195\n",
            "Epoch 00015: val_loss improved from 5.65463 to 5.42744, saving model to /content/drive/My Drive/KTH-Colour/Resnet_Colour.h5\n",
            "359/359 [==============================] - 54s 150ms/step - loss: 5.3196 - accuracy: 0.9195 - val_loss: 5.4274 - val_accuracy: 0.9500\n",
            "Epoch 16/150\n",
            "359/359 [==============================] - ETA: 0s - loss: 4.8250 - accuracy: 0.9296\n",
            "Epoch 00016: val_loss improved from 5.42744 to 5.40714, saving model to /content/drive/My Drive/KTH-Colour/Resnet_Colour.h5\n",
            "359/359 [==============================] - 80s 222ms/step - loss: 4.8250 - accuracy: 0.9296 - val_loss: 5.4071 - val_accuracy: 0.9812\n",
            "Epoch 17/150\n",
            "359/359 [==============================] - ETA: 0s - loss: 3.8946 - accuracy: 0.9365\n",
            "Epoch 00017: val_loss improved from 5.40714 to 4.24203, saving model to /content/drive/My Drive/KTH-Colour/Resnet_Colour.h5\n",
            "359/359 [==============================] - 81s 225ms/step - loss: 3.8946 - accuracy: 0.9365 - val_loss: 4.2420 - val_accuracy: 0.9688\n",
            "Epoch 18/150\n",
            "359/359 [==============================] - ETA: 0s - loss: 4.2958 - accuracy: 0.9254\n",
            "Epoch 00018: val_loss did not improve from 4.24203\n",
            "359/359 [==============================] - 59s 163ms/step - loss: 4.2958 - accuracy: 0.9254 - val_loss: 7.4106 - val_accuracy: 0.9812\n",
            "Epoch 19/150\n",
            "359/359 [==============================] - ETA: 0s - loss: 4.0039 - accuracy: 0.9414\n",
            "Epoch 00019: val_loss improved from 4.24203 to 3.50489, saving model to /content/drive/My Drive/KTH-Colour/Resnet_Colour.h5\n",
            "359/359 [==============================] - 52s 146ms/step - loss: 4.0039 - accuracy: 0.9414 - val_loss: 3.5049 - val_accuracy: 0.9875\n",
            "Epoch 20/150\n",
            "359/359 [==============================] - ETA: 0s - loss: 3.4391 - accuracy: 0.9390\n",
            "Epoch 00020: val_loss did not improve from 3.50489\n",
            "359/359 [==============================] - 59s 166ms/step - loss: 3.4391 - accuracy: 0.9390 - val_loss: 3.6856 - val_accuracy: 0.9500\n",
            "Epoch 21/150\n",
            "359/359 [==============================] - ETA: 0s - loss: 3.5628 - accuracy: 0.9369\n",
            "Epoch 00021: val_loss improved from 3.50489 to 3.23805, saving model to /content/drive/My Drive/KTH-Colour/Resnet_Colour.h5\n",
            "359/359 [==============================] - 54s 151ms/step - loss: 3.5628 - accuracy: 0.9369 - val_loss: 3.2381 - val_accuracy: 0.9688\n",
            "Epoch 22/150\n",
            "359/359 [==============================] - ETA: 0s - loss: 3.5319 - accuracy: 0.9386\n",
            "Epoch 00022: val_loss did not improve from 3.23805\n",
            "359/359 [==============================] - 60s 167ms/step - loss: 3.5319 - accuracy: 0.9386 - val_loss: 3.4972 - val_accuracy: 0.9750\n",
            "Epoch 23/150\n",
            "359/359 [==============================] - ETA: 0s - loss: 3.5168 - accuracy: 0.9351\n",
            "Epoch 00023: val_loss did not improve from 3.23805\n",
            "359/359 [==============================] - 33s 93ms/step - loss: 3.5168 - accuracy: 0.9351 - val_loss: 3.4192 - val_accuracy: 0.9875\n",
            "Epoch 24/150\n",
            "359/359 [==============================] - ETA: 0s - loss: 3.2666 - accuracy: 0.9376\n",
            "Epoch 00024: val_loss improved from 3.23805 to 2.87875, saving model to /content/drive/My Drive/KTH-Colour/Resnet_Colour.h5\n",
            "359/359 [==============================] - 52s 146ms/step - loss: 3.2666 - accuracy: 0.9376 - val_loss: 2.8788 - val_accuracy: 0.9937\n",
            "Epoch 25/150\n",
            "359/359 [==============================] - ETA: 0s - loss: 2.7659 - accuracy: 0.9418\n",
            "Epoch 00025: val_loss did not improve from 2.87875\n",
            "359/359 [==============================] - 59s 164ms/step - loss: 2.7659 - accuracy: 0.9418 - val_loss: 3.0018 - val_accuracy: 0.9875\n",
            "Epoch 26/150\n",
            "359/359 [==============================] - ETA: 0s - loss: 2.9148 - accuracy: 0.9460\n",
            "Epoch 00026: val_loss improved from 2.87875 to 2.86235, saving model to /content/drive/My Drive/KTH-Colour/Resnet_Colour.h5\n",
            "359/359 [==============================] - 52s 146ms/step - loss: 2.9148 - accuracy: 0.9460 - val_loss: 2.8624 - val_accuracy: 0.9875\n",
            "Epoch 27/150\n",
            "359/359 [==============================] - ETA: 0s - loss: 2.7469 - accuracy: 0.9446\n",
            "Epoch 00027: val_loss did not improve from 2.86235\n",
            "359/359 [==============================] - 61s 170ms/step - loss: 2.7469 - accuracy: 0.9446 - val_loss: 3.3034 - val_accuracy: 0.9688\n",
            "Epoch 28/150\n",
            "359/359 [==============================] - ETA: 0s - loss: 2.8153 - accuracy: 0.9474\n",
            "Epoch 00028: val_loss improved from 2.86235 to 2.78643, saving model to /content/drive/My Drive/KTH-Colour/Resnet_Colour.h5\n",
            "359/359 [==============================] - 55s 152ms/step - loss: 2.8153 - accuracy: 0.9474 - val_loss: 2.7864 - val_accuracy: 0.9875\n",
            "Epoch 29/150\n",
            "359/359 [==============================] - ETA: 0s - loss: 2.6872 - accuracy: 0.9449\n",
            "Epoch 00029: val_loss improved from 2.78643 to 2.64846, saving model to /content/drive/My Drive/KTH-Colour/Resnet_Colour.h5\n",
            "359/359 [==============================] - 79s 221ms/step - loss: 2.6872 - accuracy: 0.9449 - val_loss: 2.6485 - val_accuracy: 0.9937\n",
            "Epoch 30/150\n",
            "359/359 [==============================] - ETA: 0s - loss: 2.4053 - accuracy: 0.9519\n",
            "Epoch 00030: val_loss improved from 2.64846 to 2.24513, saving model to /content/drive/My Drive/KTH-Colour/Resnet_Colour.h5\n",
            "359/359 [==============================] - 80s 223ms/step - loss: 2.4053 - accuracy: 0.9519 - val_loss: 2.2451 - val_accuracy: 1.0000\n",
            "Epoch 31/150\n",
            "359/359 [==============================] - ETA: 0s - loss: 2.6867 - accuracy: 0.9456\n",
            "Epoch 00031: val_loss did not improve from 2.24513\n",
            "359/359 [==============================] - 60s 167ms/step - loss: 2.6867 - accuracy: 0.9456 - val_loss: 2.8815 - val_accuracy: 0.9625\n",
            "Epoch 32/150\n",
            "359/359 [==============================] - ETA: 0s - loss: 2.3507 - accuracy: 0.9575\n",
            "Epoch 00032: val_loss did not improve from 2.24513\n",
            "359/359 [==============================] - 33s 93ms/step - loss: 2.3507 - accuracy: 0.9575 - val_loss: 2.3366 - val_accuracy: 0.9750\n",
            "Epoch 33/150\n",
            "359/359 [==============================] - ETA: 0s - loss: 2.2974 - accuracy: 0.9505\n",
            "Epoch 00033: val_loss did not improve from 2.24513\n",
            "359/359 [==============================] - 33s 93ms/step - loss: 2.2974 - accuracy: 0.9505 - val_loss: 2.4656 - val_accuracy: 0.9625\n",
            "Epoch 34/150\n",
            "359/359 [==============================] - ETA: 0s - loss: 2.3105 - accuracy: 0.9554\n",
            "Epoch 00034: val_loss improved from 2.24513 to 2.19984, saving model to /content/drive/My Drive/KTH-Colour/Resnet_Colour.h5\n",
            "359/359 [==============================] - 53s 146ms/step - loss: 2.3105 - accuracy: 0.9554 - val_loss: 2.1998 - val_accuracy: 0.9875\n",
            "Epoch 35/150\n",
            "359/359 [==============================] - ETA: 0s - loss: 2.5323 - accuracy: 0.9474\n",
            "Epoch 00035: val_loss did not improve from 2.19984\n",
            "359/359 [==============================] - 61s 169ms/step - loss: 2.5323 - accuracy: 0.9474 - val_loss: 2.5879 - val_accuracy: 0.9937\n",
            "Epoch 36/150\n",
            "359/359 [==============================] - ETA: 0s - loss: 1.9678 - accuracy: 0.9623\n",
            "Epoch 00036: val_loss did not improve from 2.19984\n",
            "359/359 [==============================] - 33s 93ms/step - loss: 1.9678 - accuracy: 0.9623 - val_loss: 2.6756 - val_accuracy: 0.9875\n",
            "Epoch 37/150\n",
            "359/359 [==============================] - ETA: 0s - loss: 1.9011 - accuracy: 0.9533\n",
            "Epoch 00037: val_loss improved from 2.19984 to 1.99649, saving model to /content/drive/My Drive/KTH-Colour/Resnet_Colour.h5\n",
            "359/359 [==============================] - 52s 145ms/step - loss: 1.9011 - accuracy: 0.9533 - val_loss: 1.9965 - val_accuracy: 0.9875\n",
            "Epoch 38/150\n",
            "359/359 [==============================] - ETA: 0s - loss: 1.9141 - accuracy: 0.9589\n",
            "Epoch 00038: val_loss improved from 1.99649 to 1.89060, saving model to /content/drive/My Drive/KTH-Colour/Resnet_Colour.h5\n",
            "359/359 [==============================] - 81s 225ms/step - loss: 1.9141 - accuracy: 0.9589 - val_loss: 1.8906 - val_accuracy: 0.9875\n",
            "Epoch 39/150\n",
            "359/359 [==============================] - ETA: 0s - loss: 1.7730 - accuracy: 0.9620\n",
            "Epoch 00039: val_loss improved from 1.89060 to 1.80849, saving model to /content/drive/My Drive/KTH-Colour/Resnet_Colour.h5\n",
            "359/359 [==============================] - 79s 220ms/step - loss: 1.7730 - accuracy: 0.9620 - val_loss: 1.8085 - val_accuracy: 0.9937\n",
            "Epoch 40/150\n",
            "359/359 [==============================] - ETA: 0s - loss: 1.8628 - accuracy: 0.9616\n",
            "Epoch 00040: val_loss improved from 1.80849 to 1.78589, saving model to /content/drive/My Drive/KTH-Colour/Resnet_Colour.h5\n",
            "359/359 [==============================] - 83s 230ms/step - loss: 1.8628 - accuracy: 0.9616 - val_loss: 1.7859 - val_accuracy: 0.9875\n",
            "Epoch 41/150\n",
            "359/359 [==============================] - ETA: 0s - loss: 1.6840 - accuracy: 0.9630\n",
            "Epoch 00041: val_loss improved from 1.78589 to 1.70847, saving model to /content/drive/My Drive/KTH-Colour/Resnet_Colour.h5\n",
            "359/359 [==============================] - 79s 219ms/step - loss: 1.6840 - accuracy: 0.9630 - val_loss: 1.7085 - val_accuracy: 0.9812\n",
            "Epoch 42/150\n",
            "359/359 [==============================] - ETA: 0s - loss: 1.6823 - accuracy: 0.9637\n",
            "Epoch 00042: val_loss did not improve from 1.70847\n",
            "359/359 [==============================] - 57s 158ms/step - loss: 1.6823 - accuracy: 0.9637 - val_loss: 2.4392 - val_accuracy: 0.9438\n",
            "Epoch 43/150\n",
            "359/359 [==============================] - ETA: 0s - loss: 2.0190 - accuracy: 0.9547\n",
            "Epoch 00043: val_loss did not improve from 1.70847\n",
            "359/359 [==============================] - 33s 93ms/step - loss: 2.0190 - accuracy: 0.9547 - val_loss: 1.7679 - val_accuracy: 0.9875\n",
            "Epoch 44/150\n",
            "359/359 [==============================] - ETA: 0s - loss: 1.6375 - accuracy: 0.9676\n",
            "Epoch 00044: val_loss improved from 1.70847 to 1.59843, saving model to /content/drive/My Drive/KTH-Colour/Resnet_Colour.h5\n",
            "359/359 [==============================] - 53s 148ms/step - loss: 1.6375 - accuracy: 0.9676 - val_loss: 1.5984 - val_accuracy: 0.9875\n",
            "Epoch 45/150\n",
            "359/359 [==============================] - ETA: 0s - loss: 1.4981 - accuracy: 0.9648\n",
            "Epoch 00045: val_loss improved from 1.59843 to 1.41646, saving model to /content/drive/My Drive/KTH-Colour/Resnet_Colour.h5\n",
            "359/359 [==============================] - 81s 226ms/step - loss: 1.4981 - accuracy: 0.9648 - val_loss: 1.4165 - val_accuracy: 0.9875\n",
            "Epoch 46/150\n",
            "359/359 [==============================] - ETA: 0s - loss: 1.3889 - accuracy: 0.9665\n",
            "Epoch 00046: val_loss did not improve from 1.41646\n",
            "359/359 [==============================] - 56s 157ms/step - loss: 1.3889 - accuracy: 0.9665 - val_loss: 1.9896 - val_accuracy: 0.9812\n",
            "Epoch 47/150\n",
            "359/359 [==============================] - ETA: 0s - loss: 1.4945 - accuracy: 0.9732\n",
            "Epoch 00047: val_loss improved from 1.41646 to 1.37878, saving model to /content/drive/My Drive/KTH-Colour/Resnet_Colour.h5\n",
            "359/359 [==============================] - 53s 148ms/step - loss: 1.4945 - accuracy: 0.9732 - val_loss: 1.3788 - val_accuracy: 0.9875\n",
            "Epoch 48/150\n",
            "359/359 [==============================] - ETA: 0s - loss: 1.6190 - accuracy: 0.9630\n",
            "Epoch 00048: val_loss did not improve from 1.37878\n",
            "359/359 [==============================] - 53s 149ms/step - loss: 1.6190 - accuracy: 0.9630 - val_loss: 1.6153 - val_accuracy: 0.9750\n",
            "Epoch 49/150\n",
            "359/359 [==============================] - ETA: 0s - loss: 1.6498 - accuracy: 0.9589\n",
            "Epoch 00049: val_loss did not improve from 1.37878\n",
            "359/359 [==============================] - 33s 93ms/step - loss: 1.6498 - accuracy: 0.9589 - val_loss: 1.6721 - val_accuracy: 0.9937\n",
            "Epoch 50/150\n",
            "359/359 [==============================] - ETA: 0s - loss: 1.4973 - accuracy: 0.9728\n",
            "Epoch 00050: val_loss did not improve from 1.37878\n",
            "359/359 [==============================] - 34s 94ms/step - loss: 1.4973 - accuracy: 0.9728 - val_loss: 1.8583 - val_accuracy: 0.9812\n",
            "Epoch 51/150\n",
            "359/359 [==============================] - ETA: 0s - loss: 1.4838 - accuracy: 0.9679\n",
            "Epoch 00051: val_loss improved from 1.37878 to 1.33792, saving model to /content/drive/My Drive/KTH-Colour/Resnet_Colour.h5\n",
            "359/359 [==============================] - 54s 152ms/step - loss: 1.4838 - accuracy: 0.9679 - val_loss: 1.3379 - val_accuracy: 0.9875\n",
            "Epoch 52/150\n",
            "359/359 [==============================] - ETA: 0s - loss: 1.2540 - accuracy: 0.9728\n",
            "Epoch 00052: val_loss improved from 1.33792 to 1.21887, saving model to /content/drive/My Drive/KTH-Colour/Resnet_Colour.h5\n",
            "359/359 [==============================] - 83s 231ms/step - loss: 1.2540 - accuracy: 0.9728 - val_loss: 1.2189 - val_accuracy: 0.9750\n",
            "Epoch 53/150\n",
            "359/359 [==============================] - ETA: 0s - loss: 1.2336 - accuracy: 0.9683\n",
            "Epoch 00053: val_loss improved from 1.21887 to 1.17953, saving model to /content/drive/My Drive/KTH-Colour/Resnet_Colour.h5\n",
            "359/359 [==============================] - 73s 202ms/step - loss: 1.2336 - accuracy: 0.9683 - val_loss: 1.1795 - val_accuracy: 0.9937\n",
            "Epoch 54/150\n",
            "359/359 [==============================] - ETA: 0s - loss: 1.0911 - accuracy: 0.9773\n",
            "Epoch 00054: val_loss did not improve from 1.17953\n",
            "359/359 [==============================] - 52s 146ms/step - loss: 1.0911 - accuracy: 0.9773 - val_loss: 1.3290 - val_accuracy: 0.9750\n",
            "Epoch 55/150\n",
            "359/359 [==============================] - ETA: 0s - loss: 1.6672 - accuracy: 0.9589\n",
            "Epoch 00055: val_loss did not improve from 1.17953\n",
            "359/359 [==============================] - 33s 93ms/step - loss: 1.6672 - accuracy: 0.9589 - val_loss: 1.5660 - val_accuracy: 0.9812\n",
            "Epoch 56/150\n",
            "359/359 [==============================] - ETA: 0s - loss: 1.3637 - accuracy: 0.9728\n",
            "Epoch 00056: val_loss did not improve from 1.17953\n",
            "359/359 [==============================] - 33s 93ms/step - loss: 1.3637 - accuracy: 0.9728 - val_loss: 1.2829 - val_accuracy: 0.9937\n",
            "Epoch 57/150\n",
            "359/359 [==============================] - ETA: 0s - loss: 1.3614 - accuracy: 0.9662\n",
            "Epoch 00057: val_loss did not improve from 1.17953\n",
            "359/359 [==============================] - 33s 93ms/step - loss: 1.3614 - accuracy: 0.9662 - val_loss: 1.6296 - val_accuracy: 0.9875\n",
            "Epoch 58/150\n",
            "359/359 [==============================] - ETA: 0s - loss: 1.2311 - accuracy: 0.9752\n",
            "Epoch 00058: val_loss did not improve from 1.17953\n",
            "359/359 [==============================] - 33s 93ms/step - loss: 1.2311 - accuracy: 0.9752 - val_loss: 1.2480 - val_accuracy: 0.9875\n",
            "Epoch 59/150\n",
            "359/359 [==============================] - ETA: 0s - loss: 1.0126 - accuracy: 0.9805\n",
            "Epoch 00059: val_loss improved from 1.17953 to 0.87180, saving model to /content/drive/My Drive/KTH-Colour/Resnet_Colour.h5\n",
            "359/359 [==============================] - 53s 148ms/step - loss: 1.0126 - accuracy: 0.9805 - val_loss: 0.8718 - val_accuracy: 1.0000\n",
            "Epoch 60/150\n",
            "359/359 [==============================] - ETA: 0s - loss: 1.1249 - accuracy: 0.9714\n",
            "Epoch 00060: val_loss did not improve from 0.87180\n",
            "359/359 [==============================] - 62s 172ms/step - loss: 1.1249 - accuracy: 0.9714 - val_loss: 1.3918 - val_accuracy: 0.9812\n",
            "Epoch 61/150\n",
            "359/359 [==============================] - ETA: 0s - loss: 1.1980 - accuracy: 0.9756\n",
            "Epoch 00061: val_loss did not improve from 0.87180\n",
            "359/359 [==============================] - 33s 93ms/step - loss: 1.1980 - accuracy: 0.9756 - val_loss: 1.1957 - val_accuracy: 0.9750\n",
            "Epoch 62/150\n",
            "359/359 [==============================] - ETA: 0s - loss: 1.2482 - accuracy: 0.9711\n",
            "Epoch 00062: val_loss did not improve from 0.87180\n",
            "359/359 [==============================] - 34s 93ms/step - loss: 1.2482 - accuracy: 0.9711 - val_loss: 1.2269 - val_accuracy: 0.9937\n",
            "Epoch 63/150\n",
            "359/359 [==============================] - ETA: 0s - loss: 1.1489 - accuracy: 0.9714\n",
            "Epoch 00063: val_loss did not improve from 0.87180\n",
            "359/359 [==============================] - 33s 93ms/step - loss: 1.1489 - accuracy: 0.9714 - val_loss: 1.1874 - val_accuracy: 0.9750\n",
            "Epoch 64/150\n",
            "359/359 [==============================] - ETA: 0s - loss: 1.2449 - accuracy: 0.9745\n",
            "Epoch 00064: val_loss did not improve from 0.87180\n",
            "359/359 [==============================] - 33s 93ms/step - loss: 1.2449 - accuracy: 0.9745 - val_loss: 1.1689 - val_accuracy: 0.9812\n",
            "Epoch 65/150\n",
            "359/359 [==============================] - ETA: 0s - loss: 1.1287 - accuracy: 0.9766\n",
            "Epoch 00065: val_loss did not improve from 0.87180\n",
            "359/359 [==============================] - 34s 93ms/step - loss: 1.1287 - accuracy: 0.9766 - val_loss: 1.1436 - val_accuracy: 0.9812\n",
            "Epoch 66/150\n",
            "359/359 [==============================] - ETA: 0s - loss: 1.0839 - accuracy: 0.9732\n",
            "Epoch 00066: val_loss did not improve from 0.87180\n",
            "359/359 [==============================] - 34s 93ms/step - loss: 1.0839 - accuracy: 0.9732 - val_loss: 1.4214 - val_accuracy: 0.9875\n",
            "Epoch 67/150\n",
            "359/359 [==============================] - ETA: 0s - loss: 1.2871 - accuracy: 0.9679\n",
            "Epoch 00067: val_loss did not improve from 0.87180\n",
            "359/359 [==============================] - 33s 93ms/step - loss: 1.2871 - accuracy: 0.9679 - val_loss: 1.1193 - val_accuracy: 0.9937\n",
            "Epoch 68/150\n",
            "359/359 [==============================] - ETA: 0s - loss: 1.0405 - accuracy: 0.9780\n",
            "Epoch 00068: val_loss did not improve from 0.87180\n",
            "359/359 [==============================] - 33s 93ms/step - loss: 1.0405 - accuracy: 0.9780 - val_loss: 0.8982 - val_accuracy: 0.9937\n",
            "Epoch 69/150\n",
            "359/359 [==============================] - ETA: 0s - loss: 0.8778 - accuracy: 0.9752\n",
            "Epoch 00069: val_loss did not improve from 0.87180\n",
            "359/359 [==============================] - 33s 93ms/step - loss: 0.8778 - accuracy: 0.9752 - val_loss: 1.0049 - val_accuracy: 0.9875\n",
            "Epoch 70/150\n",
            "359/359 [==============================] - ETA: 0s - loss: 0.7700 - accuracy: 0.9812\n",
            "Epoch 00070: val_loss improved from 0.87180 to 0.68368, saving model to /content/drive/My Drive/KTH-Colour/Resnet_Colour.h5\n",
            "359/359 [==============================] - 53s 147ms/step - loss: 0.7700 - accuracy: 0.9812 - val_loss: 0.6837 - val_accuracy: 0.9937\n",
            "Epoch 71/150\n",
            "359/359 [==============================] - ETA: 0s - loss: 0.8780 - accuracy: 0.9759\n",
            "Epoch 00071: val_loss did not improve from 0.68368\n",
            "359/359 [==============================] - 52s 146ms/step - loss: 0.8780 - accuracy: 0.9759 - val_loss: 1.0176 - val_accuracy: 0.9875\n",
            "Epoch 72/150\n",
            "359/359 [==============================] - ETA: 0s - loss: 1.0121 - accuracy: 0.9787\n",
            "Epoch 00072: val_loss did not improve from 0.68368\n",
            "359/359 [==============================] - 33s 93ms/step - loss: 1.0121 - accuracy: 0.9787 - val_loss: 0.9274 - val_accuracy: 0.9875\n",
            "Epoch 73/150\n",
            "359/359 [==============================] - ETA: 0s - loss: 0.9611 - accuracy: 0.9745\n",
            "Epoch 00073: val_loss did not improve from 0.68368\n",
            "359/359 [==============================] - 34s 93ms/step - loss: 0.9611 - accuracy: 0.9745 - val_loss: 1.7114 - val_accuracy: 0.9875\n",
            "Epoch 74/150\n",
            "359/359 [==============================] - ETA: 0s - loss: 0.9154 - accuracy: 0.9759\n",
            "Epoch 00074: val_loss did not improve from 0.68368\n",
            "359/359 [==============================] - 33s 93ms/step - loss: 0.9154 - accuracy: 0.9759 - val_loss: 1.1529 - val_accuracy: 0.9875\n",
            "Epoch 75/150\n",
            "359/359 [==============================] - ETA: 0s - loss: 0.8498 - accuracy: 0.9819\n",
            "Epoch 00075: val_loss did not improve from 0.68368\n",
            "359/359 [==============================] - 33s 93ms/step - loss: 0.8498 - accuracy: 0.9819 - val_loss: 1.1213 - val_accuracy: 0.9937\n",
            "Epoch 76/150\n",
            "359/359 [==============================] - ETA: 0s - loss: 0.7834 - accuracy: 0.9798\n",
            "Epoch 00076: val_loss did not improve from 0.68368\n",
            "359/359 [==============================] - 34s 93ms/step - loss: 0.7834 - accuracy: 0.9798 - val_loss: 1.4084 - val_accuracy: 0.9688\n",
            "Epoch 77/150\n",
            "359/359 [==============================] - ETA: 0s - loss: 0.7316 - accuracy: 0.9805\n",
            "Epoch 00077: val_loss did not improve from 0.68368\n",
            "359/359 [==============================] - 34s 94ms/step - loss: 0.7316 - accuracy: 0.9805 - val_loss: 0.9467 - val_accuracy: 0.9875\n",
            "Epoch 78/150\n",
            "359/359 [==============================] - ETA: 0s - loss: 0.7640 - accuracy: 0.9749\n",
            "Epoch 00078: val_loss did not improve from 0.68368\n",
            "359/359 [==============================] - 34s 94ms/step - loss: 0.7640 - accuracy: 0.9749 - val_loss: 1.0390 - val_accuracy: 0.9812\n",
            "Epoch 79/150\n",
            "359/359 [==============================] - ETA: 0s - loss: 0.9308 - accuracy: 0.9763\n",
            "Epoch 00079: val_loss did not improve from 0.68368\n",
            "359/359 [==============================] - 34s 93ms/step - loss: 0.9308 - accuracy: 0.9763 - val_loss: 1.0309 - val_accuracy: 0.9875\n",
            "Epoch 80/150\n",
            "359/359 [==============================] - ETA: 0s - loss: 0.7296 - accuracy: 0.9836\n",
            "Epoch 00080: val_loss did not improve from 0.68368\n",
            "359/359 [==============================] - 33s 93ms/step - loss: 0.7296 - accuracy: 0.9836 - val_loss: 0.8974 - val_accuracy: 0.9875\n",
            "Epoch 81/150\n",
            "359/359 [==============================] - ETA: 0s - loss: 0.7670 - accuracy: 0.9801\n",
            "Epoch 00081: val_loss did not improve from 0.68368\n",
            "359/359 [==============================] - 33s 93ms/step - loss: 0.7670 - accuracy: 0.9801 - val_loss: 0.9370 - val_accuracy: 0.9875\n",
            "Epoch 82/150\n",
            "359/359 [==============================] - ETA: 0s - loss: 0.9095 - accuracy: 0.9763\n",
            "Epoch 00082: val_loss did not improve from 0.68368\n",
            "359/359 [==============================] - 34s 94ms/step - loss: 0.9095 - accuracy: 0.9763 - val_loss: 0.9838 - val_accuracy: 0.9875\n",
            "Epoch 83/150\n",
            "359/359 [==============================] - ETA: 0s - loss: 0.7459 - accuracy: 0.9840\n",
            "Epoch 00083: val_loss improved from 0.68368 to 0.65347, saving model to /content/drive/My Drive/KTH-Colour/Resnet_Colour.h5\n",
            "359/359 [==============================] - 53s 148ms/step - loss: 0.7459 - accuracy: 0.9840 - val_loss: 0.6535 - val_accuracy: 0.9875\n",
            "Epoch 84/150\n",
            "359/359 [==============================] - ETA: 0s - loss: 0.8158 - accuracy: 0.9777\n",
            "Epoch 00084: val_loss did not improve from 0.65347\n",
            "359/359 [==============================] - 53s 147ms/step - loss: 0.8158 - accuracy: 0.9777 - val_loss: 1.2740 - val_accuracy: 0.9750\n",
            "Epoch 85/150\n",
            "359/359 [==============================] - ETA: 0s - loss: 0.7829 - accuracy: 0.9805\n",
            "Epoch 00085: val_loss did not improve from 0.65347\n",
            "359/359 [==============================] - 33s 93ms/step - loss: 0.7829 - accuracy: 0.9805 - val_loss: 0.7088 - val_accuracy: 0.9937\n",
            "Epoch 86/150\n",
            "359/359 [==============================] - ETA: 0s - loss: 0.7511 - accuracy: 0.9801\n",
            "Epoch 00086: val_loss did not improve from 0.65347\n",
            "359/359 [==============================] - 33s 93ms/step - loss: 0.7511 - accuracy: 0.9801 - val_loss: 0.6742 - val_accuracy: 0.9875\n",
            "Epoch 87/150\n",
            "359/359 [==============================] - ETA: 0s - loss: 0.7310 - accuracy: 0.9801\n",
            "Epoch 00087: val_loss improved from 0.65347 to 0.63882, saving model to /content/drive/My Drive/KTH-Colour/Resnet_Colour.h5\n",
            "359/359 [==============================] - 55s 154ms/step - loss: 0.7310 - accuracy: 0.9801 - val_loss: 0.6388 - val_accuracy: 0.9937\n",
            "Epoch 88/150\n",
            "359/359 [==============================] - ETA: 0s - loss: 0.7589 - accuracy: 0.9819\n",
            "Epoch 00088: val_loss did not improve from 0.63882\n",
            "359/359 [==============================] - 61s 170ms/step - loss: 0.7589 - accuracy: 0.9819 - val_loss: 0.6512 - val_accuracy: 1.0000\n",
            "Epoch 89/150\n",
            "359/359 [==============================] - ETA: 0s - loss: 0.7619 - accuracy: 0.9777\n",
            "Epoch 00089: val_loss did not improve from 0.63882\n",
            "359/359 [==============================] - 33s 93ms/step - loss: 0.7619 - accuracy: 0.9777 - val_loss: 0.7609 - val_accuracy: 0.9812\n",
            "Epoch 90/150\n",
            "359/359 [==============================] - ETA: 0s - loss: 0.7170 - accuracy: 0.9861\n",
            "Epoch 00090: val_loss did not improve from 0.63882\n",
            "359/359 [==============================] - 34s 93ms/step - loss: 0.7170 - accuracy: 0.9861 - val_loss: 0.6408 - val_accuracy: 0.9812\n",
            "Epoch 91/150\n",
            "359/359 [==============================] - ETA: 0s - loss: 0.5594 - accuracy: 0.9833\n",
            "Epoch 00091: val_loss did not improve from 0.63882\n",
            "359/359 [==============================] - 33s 93ms/step - loss: 0.5594 - accuracy: 0.9833 - val_loss: 0.8502 - val_accuracy: 0.9812\n",
            "Epoch 92/150\n",
            "359/359 [==============================] - ETA: 0s - loss: 0.6187 - accuracy: 0.9822\n",
            "Epoch 00092: val_loss did not improve from 0.63882\n",
            "359/359 [==============================] - 33s 93ms/step - loss: 0.6187 - accuracy: 0.9822 - val_loss: 0.6908 - val_accuracy: 0.9937\n",
            "Epoch 93/150\n",
            "359/359 [==============================] - ETA: 0s - loss: 0.6901 - accuracy: 0.9815\n",
            "Epoch 00093: val_loss did not improve from 0.63882\n",
            "359/359 [==============================] - 33s 93ms/step - loss: 0.6901 - accuracy: 0.9815 - val_loss: 0.9188 - val_accuracy: 0.9875\n",
            "Epoch 94/150\n",
            "359/359 [==============================] - ETA: 0s - loss: 0.6638 - accuracy: 0.9819\n",
            "Epoch 00094: val_loss did not improve from 0.63882\n",
            "359/359 [==============================] - 33s 93ms/step - loss: 0.6638 - accuracy: 0.9819 - val_loss: 1.0994 - val_accuracy: 0.9875\n",
            "Epoch 95/150\n",
            "359/359 [==============================] - ETA: 0s - loss: 0.6946 - accuracy: 0.9808\n",
            "Epoch 00095: val_loss did not improve from 0.63882\n",
            "359/359 [==============================] - 33s 93ms/step - loss: 0.6946 - accuracy: 0.9808 - val_loss: 0.7814 - val_accuracy: 0.9937\n",
            "Epoch 96/150\n",
            "359/359 [==============================] - ETA: 0s - loss: 0.7242 - accuracy: 0.9801\n",
            "Epoch 00096: val_loss did not improve from 0.63882\n",
            "359/359 [==============================] - 33s 93ms/step - loss: 0.7242 - accuracy: 0.9801 - val_loss: 0.8067 - val_accuracy: 0.9750\n",
            "Epoch 97/150\n",
            "359/359 [==============================] - ETA: 0s - loss: 0.6475 - accuracy: 0.9833\n",
            "Epoch 00097: val_loss did not improve from 0.63882\n",
            "359/359 [==============================] - 33s 93ms/step - loss: 0.6475 - accuracy: 0.9833 - val_loss: 1.3103 - val_accuracy: 0.9875\n",
            "Epoch 98/150\n",
            "359/359 [==============================] - ETA: 0s - loss: 0.6396 - accuracy: 0.9826\n",
            "Epoch 00098: val_loss improved from 0.63882 to 0.56523, saving model to /content/drive/My Drive/KTH-Colour/Resnet_Colour.h5\n",
            "359/359 [==============================] - 54s 150ms/step - loss: 0.6396 - accuracy: 0.9826 - val_loss: 0.5652 - val_accuracy: 0.9937\n",
            "Epoch 99/150\n",
            "359/359 [==============================] - ETA: 0s - loss: 0.7131 - accuracy: 0.9787\n",
            "Epoch 00099: val_loss did not improve from 0.56523\n",
            "359/359 [==============================] - 55s 152ms/step - loss: 0.7131 - accuracy: 0.9787 - val_loss: 1.0459 - val_accuracy: 0.9812\n",
            "Epoch 100/150\n",
            "359/359 [==============================] - ETA: 0s - loss: 0.6767 - accuracy: 0.9864\n",
            "Epoch 00100: val_loss did not improve from 0.56523\n",
            "359/359 [==============================] - 33s 93ms/step - loss: 0.6767 - accuracy: 0.9864 - val_loss: 0.7786 - val_accuracy: 0.9875\n",
            "Epoch 101/150\n",
            "359/359 [==============================] - ETA: 0s - loss: 0.5282 - accuracy: 0.9895\n",
            "Epoch 00101: val_loss did not improve from 0.56523\n",
            "359/359 [==============================] - 33s 93ms/step - loss: 0.5282 - accuracy: 0.9895 - val_loss: 0.5717 - val_accuracy: 0.9875\n",
            "Epoch 102/150\n",
            "359/359 [==============================] - ETA: 0s - loss: 0.6924 - accuracy: 0.9819\n",
            "Epoch 00102: val_loss did not improve from 0.56523\n",
            "359/359 [==============================] - 33s 93ms/step - loss: 0.6924 - accuracy: 0.9819 - val_loss: 0.8170 - val_accuracy: 0.9875\n",
            "Epoch 103/150\n",
            "359/359 [==============================] - ETA: 0s - loss: 0.6405 - accuracy: 0.9854\n",
            "Epoch 00103: val_loss did not improve from 0.56523\n",
            "359/359 [==============================] - 33s 93ms/step - loss: 0.6405 - accuracy: 0.9854 - val_loss: 0.5865 - val_accuracy: 0.9875\n",
            "Epoch 104/150\n",
            "359/359 [==============================] - ETA: 0s - loss: 0.6392 - accuracy: 0.9822\n",
            "Epoch 00104: val_loss did not improve from 0.56523\n",
            "359/359 [==============================] - 33s 93ms/step - loss: 0.6392 - accuracy: 0.9822 - val_loss: 1.0831 - val_accuracy: 0.9812\n",
            "Epoch 105/150\n",
            "359/359 [==============================] - ETA: 0s - loss: 0.5816 - accuracy: 0.9868\n",
            "Epoch 00105: val_loss did not improve from 0.56523\n",
            "359/359 [==============================] - 33s 93ms/step - loss: 0.5816 - accuracy: 0.9868 - val_loss: 0.9315 - val_accuracy: 0.9812\n",
            "Epoch 106/150\n",
            "359/359 [==============================] - ETA: 0s - loss: 0.7067 - accuracy: 0.9791\n",
            "Epoch 00106: val_loss did not improve from 0.56523\n",
            "359/359 [==============================] - 33s 93ms/step - loss: 0.7067 - accuracy: 0.9791 - val_loss: 1.5091 - val_accuracy: 0.9875\n",
            "Epoch 107/150\n",
            "359/359 [==============================] - ETA: 0s - loss: 0.5993 - accuracy: 0.9864\n",
            "Epoch 00107: val_loss improved from 0.56523 to 0.55738, saving model to /content/drive/My Drive/KTH-Colour/Resnet_Colour.h5\n",
            "359/359 [==============================] - 53s 147ms/step - loss: 0.5993 - accuracy: 0.9864 - val_loss: 0.5574 - val_accuracy: 0.9750\n",
            "Epoch 108/150\n",
            "359/359 [==============================] - ETA: 0s - loss: 0.5337 - accuracy: 0.9854\n",
            "Epoch 00108: val_loss did not improve from 0.55738\n",
            "359/359 [==============================] - 57s 159ms/step - loss: 0.5337 - accuracy: 0.9854 - val_loss: 0.8497 - val_accuracy: 0.9812\n",
            "Epoch 109/150\n",
            "359/359 [==============================] - ETA: 0s - loss: 0.5643 - accuracy: 0.9857\n",
            "Epoch 00109: val_loss did not improve from 0.55738\n",
            "359/359 [==============================] - 34s 94ms/step - loss: 0.5643 - accuracy: 0.9857 - val_loss: 0.7350 - val_accuracy: 0.9875\n",
            "Epoch 110/150\n",
            "359/359 [==============================] - ETA: 0s - loss: 0.5747 - accuracy: 0.9861\n",
            "Epoch 00110: val_loss did not improve from 0.55738\n",
            "359/359 [==============================] - 33s 93ms/step - loss: 0.5747 - accuracy: 0.9861 - val_loss: 0.6411 - val_accuracy: 0.9937\n",
            "Epoch 111/150\n",
            "359/359 [==============================] - ETA: 0s - loss: 0.5897 - accuracy: 0.9850\n",
            "Epoch 00111: val_loss did not improve from 0.55738\n",
            "359/359 [==============================] - 34s 93ms/step - loss: 0.5897 - accuracy: 0.9850 - val_loss: 0.7396 - val_accuracy: 0.9875\n",
            "Epoch 112/150\n",
            "359/359 [==============================] - ETA: 0s - loss: 0.5933 - accuracy: 0.9833\n",
            "Epoch 00112: val_loss did not improve from 0.55738\n",
            "359/359 [==============================] - 34s 93ms/step - loss: 0.5933 - accuracy: 0.9833 - val_loss: 1.4961 - val_accuracy: 0.9812\n",
            "Epoch 113/150\n",
            "359/359 [==============================] - ETA: 0s - loss: 0.5695 - accuracy: 0.9868\n",
            "Epoch 00113: val_loss did not improve from 0.55738\n",
            "359/359 [==============================] - 33s 93ms/step - loss: 0.5695 - accuracy: 0.9868 - val_loss: 3.1444 - val_accuracy: 0.9625\n",
            "Epoch 114/150\n",
            "359/359 [==============================] - ETA: 0s - loss: 0.6188 - accuracy: 0.9808\n",
            "Epoch 00114: val_loss did not improve from 0.55738\n",
            "359/359 [==============================] - 33s 93ms/step - loss: 0.6188 - accuracy: 0.9808 - val_loss: 0.7745 - val_accuracy: 0.9750\n",
            "Epoch 115/150\n",
            "359/359 [==============================] - ETA: 0s - loss: 0.5360 - accuracy: 0.9864\n",
            "Epoch 00115: val_loss did not improve from 0.55738\n",
            "359/359 [==============================] - 33s 93ms/step - loss: 0.5360 - accuracy: 0.9864 - val_loss: 1.3118 - val_accuracy: 0.9875\n",
            "Epoch 116/150\n",
            "359/359 [==============================] - ETA: 0s - loss: 0.4642 - accuracy: 0.9864\n",
            "Epoch 00116: val_loss improved from 0.55738 to 0.43521, saving model to /content/drive/My Drive/KTH-Colour/Resnet_Colour.h5\n",
            "359/359 [==============================] - 54s 151ms/step - loss: 0.4642 - accuracy: 0.9864 - val_loss: 0.4352 - val_accuracy: 0.9937\n",
            "Epoch 117/150\n",
            "359/359 [==============================] - ETA: 0s - loss: 0.4995 - accuracy: 0.9819\n",
            "Epoch 00117: val_loss did not improve from 0.43521\n",
            "359/359 [==============================] - 60s 168ms/step - loss: 0.4995 - accuracy: 0.9819 - val_loss: 0.4956 - val_accuracy: 1.0000\n",
            "Epoch 118/150\n",
            "359/359 [==============================] - ETA: 0s - loss: 0.4556 - accuracy: 0.9906\n",
            "Epoch 00118: val_loss improved from 0.43521 to 0.35367, saving model to /content/drive/My Drive/KTH-Colour/Resnet_Colour.h5\n",
            "359/359 [==============================] - 53s 147ms/step - loss: 0.4556 - accuracy: 0.9906 - val_loss: 0.3537 - val_accuracy: 1.0000\n",
            "Epoch 119/150\n",
            "359/359 [==============================] - ETA: 0s - loss: 0.4195 - accuracy: 0.9850\n",
            "Epoch 00119: val_loss did not improve from 0.35367\n",
            "359/359 [==============================] - 56s 156ms/step - loss: 0.4195 - accuracy: 0.9850 - val_loss: 0.7203 - val_accuracy: 0.9875\n",
            "Epoch 120/150\n",
            "359/359 [==============================] - ETA: 0s - loss: 0.4348 - accuracy: 0.9888\n",
            "Epoch 00120: val_loss did not improve from 0.35367\n",
            "359/359 [==============================] - 33s 93ms/step - loss: 0.4348 - accuracy: 0.9888 - val_loss: 0.4541 - val_accuracy: 0.9937\n",
            "Epoch 121/150\n",
            "359/359 [==============================] - ETA: 0s - loss: 0.4789 - accuracy: 0.9833\n",
            "Epoch 00121: val_loss did not improve from 0.35367\n",
            "359/359 [==============================] - 33s 93ms/step - loss: 0.4789 - accuracy: 0.9833 - val_loss: 0.7539 - val_accuracy: 0.9875\n",
            "Epoch 122/150\n",
            "359/359 [==============================] - ETA: 0s - loss: 0.6707 - accuracy: 0.9836\n",
            "Epoch 00122: val_loss did not improve from 0.35367\n",
            "359/359 [==============================] - 34s 94ms/step - loss: 0.6707 - accuracy: 0.9836 - val_loss: 1.0026 - val_accuracy: 0.9937\n",
            "Epoch 123/150\n",
            "359/359 [==============================] - ETA: 0s - loss: 0.5771 - accuracy: 0.9861\n",
            "Epoch 00123: val_loss did not improve from 0.35367\n",
            "359/359 [==============================] - 34s 93ms/step - loss: 0.5771 - accuracy: 0.9861 - val_loss: 0.4663 - val_accuracy: 0.9937\n",
            "Epoch 124/150\n",
            "359/359 [==============================] - ETA: 0s - loss: 0.5095 - accuracy: 0.9861\n",
            "Epoch 00124: val_loss did not improve from 0.35367\n",
            "359/359 [==============================] - 33s 93ms/step - loss: 0.5095 - accuracy: 0.9861 - val_loss: 0.4962 - val_accuracy: 0.9875\n",
            "Epoch 125/150\n",
            "359/359 [==============================] - ETA: 0s - loss: 0.5296 - accuracy: 0.9857\n",
            "Epoch 00125: val_loss did not improve from 0.35367\n",
            "359/359 [==============================] - 33s 93ms/step - loss: 0.5296 - accuracy: 0.9857 - val_loss: 0.4808 - val_accuracy: 0.9937\n",
            "Epoch 126/150\n",
            "359/359 [==============================] - ETA: 0s - loss: 0.4556 - accuracy: 0.9920\n",
            "Epoch 00126: val_loss did not improve from 0.35367\n",
            "359/359 [==============================] - 33s 93ms/step - loss: 0.4556 - accuracy: 0.9920 - val_loss: 0.8688 - val_accuracy: 0.9812\n",
            "Epoch 127/150\n",
            "359/359 [==============================] - ETA: 0s - loss: 0.4772 - accuracy: 0.9885\n",
            "Epoch 00127: val_loss did not improve from 0.35367\n",
            "359/359 [==============================] - 34s 94ms/step - loss: 0.4772 - accuracy: 0.9885 - val_loss: 0.4186 - val_accuracy: 1.0000\n",
            "Epoch 128/150\n",
            "359/359 [==============================] - ETA: 0s - loss: 0.4796 - accuracy: 0.9861\n",
            "Epoch 00128: val_loss did not improve from 0.35367\n",
            "359/359 [==============================] - 34s 93ms/step - loss: 0.4796 - accuracy: 0.9861 - val_loss: 0.4671 - val_accuracy: 1.0000\n",
            "Epoch 129/150\n",
            "359/359 [==============================] - ETA: 0s - loss: 0.4614 - accuracy: 0.9902\n",
            "Epoch 00129: val_loss did not improve from 0.35367\n",
            "359/359 [==============================] - 33s 93ms/step - loss: 0.4614 - accuracy: 0.9902 - val_loss: 0.4044 - val_accuracy: 1.0000\n",
            "Epoch 130/150\n",
            "359/359 [==============================] - ETA: 0s - loss: 0.5296 - accuracy: 0.9843\n",
            "Epoch 00130: val_loss did not improve from 0.35367\n",
            "359/359 [==============================] - 33s 93ms/step - loss: 0.5296 - accuracy: 0.9843 - val_loss: 0.5016 - val_accuracy: 0.9937\n",
            "Epoch 131/150\n",
            "359/359 [==============================] - ETA: 0s - loss: 0.5318 - accuracy: 0.9868\n",
            "Epoch 00131: val_loss did not improve from 0.35367\n",
            "359/359 [==============================] - 34s 93ms/step - loss: 0.5318 - accuracy: 0.9868 - val_loss: 1.2163 - val_accuracy: 0.9812\n",
            "Epoch 132/150\n",
            "359/359 [==============================] - ETA: 0s - loss: 0.4938 - accuracy: 0.9864\n",
            "Epoch 00132: val_loss did not improve from 0.35367\n",
            "359/359 [==============================] - 34s 93ms/step - loss: 0.4938 - accuracy: 0.9864 - val_loss: 0.4002 - val_accuracy: 1.0000\n",
            "Epoch 133/150\n",
            "359/359 [==============================] - ETA: 0s - loss: 0.4521 - accuracy: 0.9888\n",
            "Epoch 00133: val_loss did not improve from 0.35367\n",
            "359/359 [==============================] - 33s 93ms/step - loss: 0.4521 - accuracy: 0.9888 - val_loss: 0.4768 - val_accuracy: 0.9875\n",
            "Epoch 134/150\n",
            "359/359 [==============================] - ETA: 0s - loss: 0.5187 - accuracy: 0.9864\n",
            "Epoch 00134: val_loss did not improve from 0.35367\n",
            "359/359 [==============================] - 33s 93ms/step - loss: 0.5187 - accuracy: 0.9864 - val_loss: 0.4631 - val_accuracy: 0.9937\n",
            "Epoch 135/150\n",
            "359/359 [==============================] - ETA: 0s - loss: 0.4125 - accuracy: 0.9934\n",
            "Epoch 00135: val_loss improved from 0.35367 to 0.33176, saving model to /content/drive/My Drive/KTH-Colour/Resnet_Colour.h5\n",
            "359/359 [==============================] - 53s 147ms/step - loss: 0.4125 - accuracy: 0.9934 - val_loss: 0.3318 - val_accuracy: 0.9937\n",
            "Epoch 136/150\n",
            "359/359 [==============================] - ETA: 0s - loss: 0.3919 - accuracy: 0.9857\n",
            "Epoch 00136: val_loss did not improve from 0.33176\n",
            "359/359 [==============================] - 56s 157ms/step - loss: 0.3919 - accuracy: 0.9857 - val_loss: 0.3937 - val_accuracy: 1.0000\n",
            "Epoch 137/150\n",
            "359/359 [==============================] - ETA: 0s - loss: 0.4577 - accuracy: 0.9881\n",
            "Epoch 00137: val_loss did not improve from 0.33176\n",
            "359/359 [==============================] - 34s 93ms/step - loss: 0.4577 - accuracy: 0.9881 - val_loss: 0.3886 - val_accuracy: 1.0000\n",
            "Epoch 138/150\n",
            "359/359 [==============================] - ETA: 0s - loss: 0.4455 - accuracy: 0.9868\n",
            "Epoch 00138: val_loss did not improve from 0.33176\n",
            "359/359 [==============================] - 34s 93ms/step - loss: 0.4455 - accuracy: 0.9868 - val_loss: 0.4700 - val_accuracy: 0.9875\n",
            "Epoch 139/150\n",
            "359/359 [==============================] - ETA: 0s - loss: 0.4449 - accuracy: 0.9857\n",
            "Epoch 00139: val_loss did not improve from 0.33176\n",
            "359/359 [==============================] - 34s 94ms/step - loss: 0.4449 - accuracy: 0.9857 - val_loss: 0.5121 - val_accuracy: 0.9875\n",
            "Epoch 140/150\n",
            "359/359 [==============================] - ETA: 0s - loss: 0.5145 - accuracy: 0.9857\n",
            "Epoch 00140: val_loss did not improve from 0.33176\n",
            "359/359 [==============================] - 33s 93ms/step - loss: 0.5145 - accuracy: 0.9857 - val_loss: 0.4299 - val_accuracy: 0.9875\n",
            "Epoch 141/150\n",
            "359/359 [==============================] - ETA: 0s - loss: 0.4593 - accuracy: 0.9840\n",
            "Epoch 00141: val_loss did not improve from 0.33176\n",
            "359/359 [==============================] - 34s 93ms/step - loss: 0.4593 - accuracy: 0.9840 - val_loss: 0.3903 - val_accuracy: 0.9937\n",
            "Epoch 142/150\n",
            "359/359 [==============================] - ETA: 0s - loss: 0.4150 - accuracy: 0.9899\n",
            "Epoch 00142: val_loss did not improve from 0.33176\n",
            "359/359 [==============================] - 33s 93ms/step - loss: 0.4150 - accuracy: 0.9899 - val_loss: 0.6533 - val_accuracy: 0.9937\n",
            "Epoch 143/150\n",
            "359/359 [==============================] - ETA: 0s - loss: 0.3813 - accuracy: 0.9895\n",
            "Epoch 00143: val_loss did not improve from 0.33176\n",
            "359/359 [==============================] - 33s 93ms/step - loss: 0.3813 - accuracy: 0.9895 - val_loss: 0.4700 - val_accuracy: 0.9937\n",
            "Epoch 144/150\n",
            "359/359 [==============================] - ETA: 0s - loss: 0.5578 - accuracy: 0.9850\n",
            "Epoch 00144: val_loss did not improve from 0.33176\n",
            "359/359 [==============================] - 34s 93ms/step - loss: 0.5578 - accuracy: 0.9850 - val_loss: 0.5197 - val_accuracy: 0.9875\n",
            "Epoch 145/150\n",
            "359/359 [==============================] - ETA: 0s - loss: 0.4698 - accuracy: 0.9881\n",
            "Epoch 00145: val_loss did not improve from 0.33176\n",
            "359/359 [==============================] - 33s 93ms/step - loss: 0.4698 - accuracy: 0.9881 - val_loss: 0.7134 - val_accuracy: 0.9937\n",
            "Epoch 146/150\n",
            "359/359 [==============================] - ETA: 0s - loss: 0.3880 - accuracy: 0.9895\n",
            "Epoch 00146: val_loss did not improve from 0.33176\n",
            "359/359 [==============================] - 33s 93ms/step - loss: 0.3880 - accuracy: 0.9895 - val_loss: 0.3811 - val_accuracy: 0.9937\n",
            "Epoch 147/150\n",
            "359/359 [==============================] - ETA: 0s - loss: 0.3726 - accuracy: 0.9874\n",
            "Epoch 00147: val_loss did not improve from 0.33176\n",
            "359/359 [==============================] - 33s 93ms/step - loss: 0.3726 - accuracy: 0.9874 - val_loss: 0.3799 - val_accuracy: 0.9937\n",
            "Epoch 148/150\n",
            "359/359 [==============================] - ETA: 0s - loss: 0.4102 - accuracy: 0.9874\n",
            "Epoch 00148: val_loss did not improve from 0.33176\n",
            "359/359 [==============================] - 33s 93ms/step - loss: 0.4102 - accuracy: 0.9874 - val_loss: 0.4371 - val_accuracy: 0.9937\n",
            "Epoch 149/150\n",
            "359/359 [==============================] - ETA: 0s - loss: 0.3969 - accuracy: 0.9864\n",
            "Epoch 00149: val_loss did not improve from 0.33176\n",
            "359/359 [==============================] - 33s 93ms/step - loss: 0.3969 - accuracy: 0.9864 - val_loss: 0.3983 - val_accuracy: 0.9937\n",
            "Epoch 150/150\n",
            "359/359 [==============================] - ETA: 0s - loss: 0.4586 - accuracy: 0.9878\n",
            "Epoch 00150: val_loss did not improve from 0.33176\n",
            "359/359 [==============================] - 33s 93ms/step - loss: 0.4586 - accuracy: 0.9878 - val_loss: 0.8209 - val_accuracy: 0.9937\n"
          ],
          "name": "stdout"
        }
      ]
    },
    {
      "cell_type": "code",
      "metadata": {
        "id": "_LMDtJRmFBgs",
        "colab_type": "code",
        "colab": {
          "base_uri": "https://localhost:8080/",
          "height": 295
        },
        "outputId": "7bbbf622-454b-4c62-e3ef-7d111c15dfbc"
      },
      "source": [
        "import matplotlib.pyplot as plt\n",
        "plt.plot(hist.history[\"accuracy\"])\n",
        "plt.plot(hist.history['val_accuracy'])\n",
        "plt.title(\"model accuracy\")\n",
        "plt.ylabel(\"Accuracy\")\n",
        "plt.xlabel(\"Epoch\")\n",
        "plt.legend([\"Accuracy\",\"Validation Accuracy\"])\n",
        "plt.show()"
      ],
      "execution_count": null,
      "outputs": [
        {
          "output_type": "display_data",
          "data": {
            "image/png": "[encoded data removed]",
            "text/plain": [
              "<Figure size 432x288 with 1 Axes>"
            ]
          },
          "metadata": {
            "tags": [],
            "needs_background": "light"
          }
        }
      ]
    },
    {
      "cell_type": "code",
      "metadata": {
        "id": "-_BMGblYFGf0",
        "colab_type": "code",
        "colab": {
          "base_uri": "https://localhost:8080/",
          "height": 295
        },
        "outputId": "b06fb333-82c9-4ee6-b154-b59468dfcb7e"
      },
      "source": [
        "plt.plot(hist.history['loss'])\n",
        "plt.plot(hist.history['val_loss'])\n",
        "plt.title(\"model Loss\")\n",
        "plt.ylabel(\"Loss\")\n",
        "plt.xlabel(\"Epoch\")\n",
        "plt.legend([\"Loss\",\"Validation Loss\"])\n",
        "plt.show()"
      ],
      "execution_count": null,
      "outputs": [
        {
          "output_type": "display_data",
          "data": {
            "image/png": "[encoded data removed]",
            "text/plain": [
              "<Figure size 432x288 with 1 Axes>"
            ]
          },
          "metadata": {
            "tags": [],
            "needs_background": "light"
          }
        }
      ]
    },
    {
      "cell_type": "code",
      "metadata": {
        "id": "2Q2wPr4WFHR_",
        "colab_type": "code",
        "colab": {
          "base_uri": "https://localhost:8080/",
          "height": 34
        },
        "outputId": "89806c4a-9388-41e5-b04a-6b860ae212a2"
      },
      "source": [
        "Colour_TestData = TestGenerator.flow_from_directory('/content/drive/My Drive/KTH-Colour/Test/', target_size=(224,224), batch_size = 8, shuffle = False)"
      ],
      "execution_count": null,
      "outputs": [
        {
          "output_type": "stream",
          "text": [
            "Found 166 images belonging to 11 classes.\n"
          ],
          "name": "stdout"
        }
      ]
    },
    {
      "cell_type": "code",
      "metadata": {
        "id": "FmdcSZ43FKgZ",
        "colab_type": "code",
        "colab": {}
      },
      "source": [
        "Colour_predict = colour_model.predict(Colour_TestData)"
      ],
      "execution_count": null,
      "outputs": []
    },
    {
      "cell_type": "code",
      "metadata": {
        "id": "0dWD3bkCFRr_",
        "colab_type": "code",
        "colab": {}
      },
      "source": [
        "Colour_predict_classes = np.argmax(Colour_predict, axis=1)"
      ],
      "execution_count": null,
      "outputs": []
    },
    {
      "cell_type": "code",
      "metadata": {
        "id": "HPU0PEnXFUpQ",
        "colab_type": "code",
        "colab": {
          "base_uri": "https://localhost:8080/",
          "height": 187
        },
        "outputId": "9871e653-ce27-4d52-c4cb-7fafb738ab0d"
      },
      "source": [
        "Colour_predict_classes"
      ],
      "execution_count": null,
      "outputs": [
        {
          "output_type": "execute_result",
          "data": {
            "text/plain": [
              "array([ 0,  0,  0,  0,  0,  0,  0,  0,  0,  0,  0,  1,  0,  0,  0,  0,  0,\n",
              "        0,  6,  0,  0,  0,  1,  1,  1,  1,  1,  2,  2,  2,  2,  2,  2,  2,\n",
              "        2,  2,  2,  2,  2,  2,  2,  2,  2,  2,  2,  2,  2,  2,  2,  2,  2,\n",
              "        2,  7,  3,  3,  3,  3,  3,  3,  3,  3,  3,  3,  3,  3,  3,  3,  3,\n",
              "        3,  3,  3,  3,  3,  3,  3,  4,  4,  4,  4,  4,  4,  4,  4,  4,  4,\n",
              "        4,  4,  4,  4,  4,  4,  4,  4,  4,  4,  4,  4,  4,  4,  4,  4,  5,\n",
              "        5,  5,  5,  4,  6,  6,  6,  6,  6,  6,  6,  6,  6,  6,  6,  6,  6,\n",
              "        6,  6,  6,  6,  6,  0,  0,  6,  6,  6,  6,  6,  7,  7,  7,  8,  8,\n",
              "        8,  8,  8,  9,  9,  9,  4,  9, 10, 10, 10,  6, 10, 10, 10, 10, 10,\n",
              "       10, 10, 10, 10, 10, 10, 10, 10, 10, 10, 10, 10, 10])"
            ]
          },
          "metadata": {
            "tags": []
          },
          "execution_count": 58
        }
      ]
    },
    {
      "cell_type": "code",
      "metadata": {
        "id": "KEaXlzr7FVXP",
        "colab_type": "code",
        "colab": {
          "base_uri": "https://localhost:8080/",
          "height": 34
        },
        "outputId": "80788800-46cf-426a-a9bd-60f656ba8894"
      },
      "source": [
        "Colour_accuracy = accuracy_score(Colour_TestData.classes, Colour_predict_classes)\n",
        "print(\"Colour Accuracy: \", Colour_accuracy)"
      ],
      "execution_count": null,
      "outputs": [
        {
          "output_type": "stream",
          "text": [
            "Colour Accuracy:  0.9518072289156626\n"
          ],
          "name": "stdout"
        }
      ]
    },
    {
      "cell_type": "code",
      "metadata": {
        "id": "rLmRGn70FbMM",
        "colab_type": "code",
        "colab": {
          "base_uri": "https://localhost:8080/",
          "height": 34
        },
        "outputId": "f9442d8d-1cb1-487d-bc54-a99b405b3e96"
      },
      "source": [
        "Colour_precision = precision_score(Colour_TestData.classes, Colour_predict_classes,average=\"weighted\")\n",
        "print(\"Colour Precision: \", Colour_precision)"
      ],
      "execution_count": null,
      "outputs": [
        {
          "output_type": "stream",
          "text": [
            "Colour Precision:  0.9546959265633964\n"
          ],
          "name": "stdout"
        }
      ]
    },
    {
      "cell_type": "code",
      "metadata": {
        "id": "yPsLeETdFjPV",
        "colab_type": "code",
        "colab": {
          "base_uri": "https://localhost:8080/",
          "height": 34
        },
        "outputId": "9195f128-5c80-4a89-a646-0b259baa1d95"
      },
      "source": [
        "Colour_recall = recall_score(Colour_TestData.classes, Colour_predict_classes, average=\"weighted\")\n",
        "print(\"Colour Recall:\", Colour_recall)"
      ],
      "execution_count": null,
      "outputs": [
        {
          "output_type": "stream",
          "text": [
            "Colour Recall: 0.9518072289156626\n"
          ],
          "name": "stdout"
        }
      ]
    },
    {
      "cell_type": "code",
      "metadata": {
        "id": "GKF4V9MGFlXH",
        "colab_type": "code",
        "colab": {
          "base_uri": "https://localhost:8080/",
          "height": 34
        },
        "outputId": "85b72de5-2625-4f41-eed3-005b47a162a3"
      },
      "source": [
        "Colour_f1_score = f1_score(Colour_TestData.classes, Colour_predict_classes, average=\"weighted\")\n",
        "print(\"F1 score for colour: \", Colour_f1_score)"
      ],
      "execution_count": null,
      "outputs": [
        {
          "output_type": "stream",
          "text": [
            "F1 score for colour:  0.9519753804938319\n"
          ],
          "name": "stdout"
        }
      ]
    },
    {
      "cell_type": "code",
      "metadata": {
        "id": "UydpFWLXFnYP",
        "colab_type": "code",
        "colab": {}
      },
      "source": [
        "Final = 0.6* Colour_predict + 0.4* Grey_predict"
      ],
      "execution_count": null,
      "outputs": []
    },
    {
      "cell_type": "code",
      "metadata": {
        "id": "0a2Y2ZpqFq0m",
        "colab_type": "code",
        "colab": {}
      },
      "source": [
        "Final_Predict_classes = np.argmax(Final, axis=1)"
      ],
      "execution_count": null,
      "outputs": []
    },
    {
      "cell_type": "code",
      "metadata": {
        "id": "_9-D19iXFreK",
        "colab_type": "code",
        "colab": {
          "base_uri": "https://localhost:8080/",
          "height": 34
        },
        "outputId": "1f698c58-17ed-4d7f-e1e7-740a989650ae"
      },
      "source": [
        "Final_accuracy = accuracy_score(Colour_TestData.classes, Final_Predict_classes)\n",
        "print(\"Colour Accuracy: \", Final_accuracy)"
      ],
      "execution_count": null,
      "outputs": [
        {
          "output_type": "stream",
          "text": [
            "Colour Accuracy:  0.963855421686747\n"
          ],
          "name": "stdout"
        }
      ]
    },
    {
      "cell_type": "code",
      "metadata": {
        "id": "pyhLev-OFt7B",
        "colab_type": "code",
        "colab": {
          "base_uri": "https://localhost:8080/",
          "height": 34
        },
        "outputId": "52823648-18ff-460f-d242-cf4c5fd844d4"
      },
      "source": [
        "Final_precision = precision_score(Colour_TestData.classes, Final_Predict_classes,average=\"weighted\")\n",
        "print(\"Colour Precision: \", Final_precision)"
      ],
      "execution_count": null,
      "outputs": [
        {
          "output_type": "stream",
          "text": [
            "Colour Precision:  0.9672528193734458\n"
          ],
          "name": "stdout"
        }
      ]
    },
    {
      "cell_type": "code",
      "metadata": {
        "id": "qIxYZ09MFv-S",
        "colab_type": "code",
        "colab": {
          "base_uri": "https://localhost:8080/",
          "height": 34
        },
        "outputId": "ae02ca52-bf31-4399-cc0c-1db7eeb8b26e"
      },
      "source": [
        "Final_recall = recall_score(Colour_TestData.classes, Final_Predict_classes, average=\"weighted\")\n",
        "print(\"Colour Recall:\", Final_recall)"
      ],
      "execution_count": null,
      "outputs": [
        {
          "output_type": "stream",
          "text": [
            "Colour Recall: 0.963855421686747\n"
          ],
          "name": "stdout"
        }
      ]
    },
    {
      "cell_type": "code",
      "metadata": {
        "id": "iWWxWzy1FyuX",
        "colab_type": "code",
        "colab": {
          "base_uri": "https://localhost:8080/",
          "height": 34
        },
        "outputId": "6ab5ce76-e93f-446d-d1b8-4c1750b19f59"
      },
      "source": [
        "Final_f1_score = f1_score(Colour_TestData.classes, Final_Predict_classes, average=\"weighted\")\n",
        "print(\"F1 score for colour: \", Final_f1_score)"
      ],
      "execution_count": null,
      "outputs": [
        {
          "output_type": "stream",
          "text": [
            "F1 score for colour:  0.9638649750806018\n"
          ],
          "name": "stdout"
        }
      ]
    },
    {
      "cell_type": "code",
      "metadata": {
        "id": "BeAS4-FGF1LR",
        "colab_type": "code",
        "colab": {}
      },
      "source": [
        "Second_final = 0.5* Colour_predict + 0.5* Grey_predict"
      ],
      "execution_count": null,
      "outputs": []
    },
    {
      "cell_type": "markdown",
      "metadata": {
        "id": "1oMTQPru-Lrb",
        "colab_type": "text"
      },
      "source": [
        ""
      ]
    },
    {
      "cell_type": "code",
      "metadata": {
        "id": "tvR972PsF3OV",
        "colab_type": "code",
        "colab": {}
      },
      "source": [
        "Second_Final_Predict_classes = np.argmax(Second_final, axis=1)"
      ],
      "execution_count": null,
      "outputs": []
    },
    {
      "cell_type": "code",
      "metadata": {
        "id": "Bggi428OF5fW",
        "colab_type": "code",
        "colab": {
          "base_uri": "https://localhost:8080/",
          "height": 34
        },
        "outputId": "aac30a9a-83be-4393-9c9f-dbd398ede28f"
      },
      "source": [
        "Mean_Final_accuracy = accuracy_score(Colour_TestData.classes, Second_Final_Predict_classes)\n",
        "print(\"Colour Accuracy: \", Mean_Final_accuracy)"
      ],
      "execution_count": null,
      "outputs": [
        {
          "output_type": "stream",
          "text": [
            "Colour Accuracy:  0.9759036144578314\n"
          ],
          "name": "stdout"
        }
      ]
    },
    {
      "cell_type": "code",
      "metadata": {
        "id": "STKAtHxQF7iN",
        "colab_type": "code",
        "colab": {
          "base_uri": "https://localhost:8080/",
          "height": 34
        },
        "outputId": "3e73948d-00d1-4507-b3f9-ee6e20f0fb67"
      },
      "source": [
        "Mean_Precision = precision_score(Colour_TestData.classes, Second_Final_Predict_classes, average=\"weighted\")\n",
        "Mean_Precision"
      ],
      "execution_count": null,
      "outputs": [
        {
          "output_type": "execute_result",
          "data": {
            "text/plain": [
              "0.9773538598839803"
            ]
          },
          "metadata": {
            "tags": []
          },
          "execution_count": 72
        }
      ]
    },
    {
      "cell_type": "code",
      "metadata": {
        "id": "tQzFKsN6F_lv",
        "colab_type": "code",
        "colab": {
          "base_uri": "https://localhost:8080/",
          "height": 34
        },
        "outputId": "f1ba5dd4-e652-4c5a-c324-77d7b38c2fd4"
      },
      "source": [
        "Mean_Recall = recall_score(Colour_TestData.classes, Second_Final_Predict_classes, average=\"weighted\")\n",
        "Mean_Recall"
      ],
      "execution_count": null,
      "outputs": [
        {
          "output_type": "execute_result",
          "data": {
            "text/plain": [
              "0.9759036144578314"
            ]
          },
          "metadata": {
            "tags": []
          },
          "execution_count": 73
        }
      ]
    },
    {
      "cell_type": "code",
      "metadata": {
        "id": "v-N2RVK3GBEq",
        "colab_type": "code",
        "colab": {
          "base_uri": "https://localhost:8080/",
          "height": 34
        },
        "outputId": "23cd2568-b359-438e-eec1-b0d38b9f1077"
      },
      "source": [
        "Mean_F1Score = f1_score(Colour_TestData.classes, Second_Final_Predict_classes, average=\"weighted\")\n",
        "Mean_F1Score"
      ],
      "execution_count": null,
      "outputs": [
        {
          "output_type": "execute_result",
          "data": {
            "text/plain": [
              "0.976025013498104"
            ]
          },
          "metadata": {
            "tags": []
          },
          "execution_count": 74
        }
      ]
    }
  ]
}