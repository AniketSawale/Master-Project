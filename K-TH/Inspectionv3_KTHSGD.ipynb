{
  "nbformat": 4,
  "nbformat_minor": 0,
  "metadata": {
    "colab": {
      "name": "Inspectionv3_KTHSGD.ipynb",
      "provenance": [],
      "collapsed_sections": [],
      "machine_shape": "hm"
    },
    "kernelspec": {
      "name": "python3",
      "display_name": "Python 3"
    },
    "accelerator": "GPU"
  },
  "cells": [
    {
      "cell_type": "code",
      "metadata": {
        "id": "gwrnn9RDGRWn",
        "colab_type": "code",
        "colab": {
          "base_uri": "https://localhost:8080/",
          "height": 122
        },
        "outputId": "4cf83dbf-b3ed-4ca2-8c0b-e4a08f65bb85"
      },
      "source": [
        "from google.colab import drive\n",
        "drive.mount('/content/drive')"
      ],
      "execution_count": 1,
      "outputs": [
        {
          "output_type": "stream",
          "text": [
            "Go to this URL in a browser: https://accounts.google.com/o/oauth2/auth?client_id=947318989803-6bn6qk8qdgf4n4g3pfee6491hc0brc4i.apps.googleusercontent.com&redirect_uri=urn%3aietf%3awg%3aoauth%3a2.0%3aoob&scope=email%20https%3a%2f%2fwww.googleapis.com%2fauth%2fdocs.test%20https%3a%2f%2fwww.googleapis.com%2fauth%2fdrive%20https%3a%2f%2fwww.googleapis.com%2fauth%2fdrive.photos.readonly%20https%3a%2f%2fwww.googleapis.com%2fauth%2fpeopleapi.readonly&response_type=code\n",
            "\n",
            "Enter your authorization code:\n",
            "··········\n",
            "Mounted at /content/drive\n"
          ],
          "name": "stdout"
        }
      ]
    },
    {
      "cell_type": "code",
      "metadata": {
        "id": "S1Ru2TIyG8zm",
        "colab_type": "code",
        "colab": {}
      },
      "source": [
        "# Importing the Libraries.\n",
        "import keras\n",
        "import os\n",
        "from keras.models import Sequential\n",
        "from keras.layers import Dense, Conv2D, MaxPool2D, Flatten, Dropout\n",
        "from keras.preprocessing.image import ImageDataGenerator\n",
        "import numpy as np\n",
        "#import keras.backend as K\n",
        "import tensorflow.keras.backend as K\n",
        "import tensorflow.compat.v1 as tf\n",
        "from os import listdir\n",
        "from os.path import isfile, join\n",
        "import numpy as np\n",
        "import sys\n",
        "import os\n",
        "import shutil\n",
        "import pandas as pd\n",
        "from PIL import Image\n",
        "import cv2\n",
        "import keras\n",
        "import glob\n",
        "from PIL import Image\n",
        "from keras.preprocessing.image import img_to_array\n",
        "from sklearn.preprocessing import MultiLabelBinarizer\n",
        "from keras import models, regularizers, layers, optimizers, losses, metrics\n",
        "from keras.applications.resnet50 import ResNet50\n",
        "from keras.preprocessing.image import ImageDataGenerator\n",
        "from keras.models import Sequential\n",
        "from keras.layers import Dense, Dropout, Activation, Flatten, MaxPool2D\n",
        "from keras.layers import Convolution2D, MaxPooling2D, ZeroPadding2D\n",
        "from keras.layers import AveragePooling2D\n",
        "from keras.models import load_model\n",
        "from keras.layers.pooling import GlobalAveragePooling2D\n",
        "from keras.layers.normalization import BatchNormalization\n",
        "from keras.models import Model\n",
        "from keras.optimizers import Adam, SGD\n",
        "from keras.callbacks import ModelCheckpoint, EarlyStopping\n",
        "from sklearn.preprocessing import LabelEncoder, OneHotEncoder\n",
        "from PIL import ImageFile\n",
        "\n",
        "tf.enable_eager_execution()"
      ],
      "execution_count": 2,
      "outputs": []
    },
    {
      "cell_type": "code",
      "metadata": {
        "id": "H8uThe6GHIz4",
        "colab_type": "code",
        "colab": {}
      },
      "source": [
        "ImageFile.LOAD_TRUNCATED_IMAGES = True"
      ],
      "execution_count": 3,
      "outputs": []
    },
    {
      "cell_type": "code",
      "metadata": {
        "id": "6rFm4Cu0HLWH",
        "colab_type": "code",
        "colab": {}
      },
      "source": [
        "# Data Augmentation.\n",
        "DataGenerator = ImageDataGenerator(horizontal_flip=True, vertical_flip=True, rescale=1./255, brightness_range=[0.2,0.7])"
      ],
      "execution_count": 4,
      "outputs": []
    },
    {
      "cell_type": "code",
      "metadata": {
        "id": "FkFMyChNHOhL",
        "colab_type": "code",
        "colab": {}
      },
      "source": [
        "TestGenerator = ImageDataGenerator(rescale=1./255)"
      ],
      "execution_count": 5,
      "outputs": []
    },
    {
      "cell_type": "code",
      "metadata": {
        "id": "6RosFDArHQjf",
        "colab_type": "code",
        "colab": {
          "base_uri": "https://localhost:8080/",
          "height": 34
        },
        "outputId": "cf2a105e-36bf-4d30-ec9d-ad74db33eadb"
      },
      "source": [
        "Grey_TrainingData = DataGenerator.flow_from_directory('/content/drive/My Drive/KTH-Colour/Train-dataset/', target_size=(224,224), batch_size=8, color_mode='grayscale')"
      ],
      "execution_count": 6,
      "outputs": [
        {
          "output_type": "stream",
          "text": [
            "Found 2868 images belonging to 11 classes.\n"
          ],
          "name": "stdout"
        }
      ]
    },
    {
      "cell_type": "code",
      "metadata": {
        "id": "vbyNJFttHTH8",
        "colab_type": "code",
        "colab": {
          "base_uri": "https://localhost:8080/",
          "height": 34
        },
        "outputId": "024459fc-8f42-4a1e-8431-45f6f240a431"
      },
      "source": [
        "Grey_ValidData = TestGenerator.flow_from_directory('/content/drive/My Drive/KTH-Colour/valid/', target_size=(224,224), batch_size=8, color_mode='grayscale')"
      ],
      "execution_count": 7,
      "outputs": [
        {
          "output_type": "stream",
          "text": [
            "Found 161 images belonging to 11 classes.\n"
          ],
          "name": "stdout"
        }
      ]
    },
    {
      "cell_type": "code",
      "metadata": {
        "id": "roMORhNzHatK",
        "colab_type": "code",
        "colab": {}
      },
      "source": [
        "gpu_options = tf.GPUOptions(allow_growth=True)\n",
        "session = tf.InteractiveSession(config=tf.ConfigProto(gpu_options=gpu_options))"
      ],
      "execution_count": 8,
      "outputs": []
    },
    {
      "cell_type": "code",
      "metadata": {
        "id": "MhjF0A4pHkdh",
        "colab_type": "code",
        "colab": {}
      },
      "source": [
        "from keras.applications.inception_v3 import InceptionV3"
      ],
      "execution_count": 9,
      "outputs": []
    },
    {
      "cell_type": "code",
      "metadata": {
        "id": "wWL9JBVbICYY",
        "colab_type": "code",
        "colab": {
          "base_uri": "https://localhost:8080/",
          "height": 51
        },
        "outputId": "149d5944-f96e-49a9-9cf2-14d336b88cc8"
      },
      "source": [
        "conv_base = InceptionV3(weights = 'imagenet', include_top = False, pooling = 'avg')"
      ],
      "execution_count": 10,
      "outputs": [
        {
          "output_type": "stream",
          "text": [
            "Downloading data from https://storage.googleapis.com/tensorflow/keras-applications/inception_v3/inception_v3_weights_tf_dim_ordering_tf_kernels_notop.h5\n",
            "87916544/87910968 [==============================] - 1s 0us/step\n"
          ],
          "name": "stdout"
        }
      ]
    },
    {
      "cell_type": "code",
      "metadata": {
        "id": "0tw3QqY2IFb1",
        "colab_type": "code",
        "colab": {
          "base_uri": "https://localhost:8080/",
          "height": 34
        },
        "outputId": "9d2ebc65-243a-4d60-b002-b40063d3c3e2"
      },
      "source": [
        "for layer in conv_base.layers[:299]:\n",
        "  layer.trainable = False\n",
        "for layer in conv_base.layers[299:]:\n",
        "  layer.trainable = True\n",
        "for layer in conv_base.layers:\n",
        "  if isinstance(layer, BatchNormalization):\n",
        "    layer.trainable = True\n",
        "\n",
        "print(\"Done\")"
      ],
      "execution_count": 11,
      "outputs": [
        {
          "output_type": "stream",
          "text": [
            "Done\n"
          ],
          "name": "stdout"
        }
      ]
    },
    {
      "cell_type": "code",
      "metadata": {
        "id": "TPqTlCfaIIzT",
        "colab_type": "code",
        "colab": {
          "base_uri": "https://localhost:8080/",
          "height": 1000
        },
        "outputId": "dddcb573-3be9-4ceb-d1c3-a36b2808a9e5"
      },
      "source": [
        "for i, layer in enumerate(conv_base.layers):\n",
        "   print(i, layer.name, layer.trainable)"
      ],
      "execution_count": 12,
      "outputs": [
        {
          "output_type": "stream",
          "text": [
            "0 input_1 False\n",
            "1 conv2d False\n",
            "2 batch_normalization True\n",
            "3 activation False\n",
            "4 conv2d_1 False\n",
            "5 batch_normalization_1 True\n",
            "6 activation_1 False\n",
            "7 conv2d_2 False\n",
            "8 batch_normalization_2 True\n",
            "9 activation_2 False\n",
            "10 max_pooling2d False\n",
            "11 conv2d_3 False\n",
            "12 batch_normalization_3 True\n",
            "13 activation_3 False\n",
            "14 conv2d_4 False\n",
            "15 batch_normalization_4 True\n",
            "16 activation_4 False\n",
            "17 max_pooling2d_1 False\n",
            "18 conv2d_8 False\n",
            "19 batch_normalization_8 True\n",
            "20 activation_8 False\n",
            "21 conv2d_6 False\n",
            "22 conv2d_9 False\n",
            "23 batch_normalization_6 True\n",
            "24 batch_normalization_9 True\n",
            "25 activation_6 False\n",
            "26 activation_9 False\n",
            "27 average_pooling2d False\n",
            "28 conv2d_5 False\n",
            "29 conv2d_7 False\n",
            "30 conv2d_10 False\n",
            "31 conv2d_11 False\n",
            "32 batch_normalization_5 True\n",
            "33 batch_normalization_7 True\n",
            "34 batch_normalization_10 True\n",
            "35 batch_normalization_11 True\n",
            "36 activation_5 False\n",
            "37 activation_7 False\n",
            "38 activation_10 False\n",
            "39 activation_11 False\n",
            "40 mixed0 False\n",
            "41 conv2d_15 False\n",
            "42 batch_normalization_15 True\n",
            "43 activation_15 False\n",
            "44 conv2d_13 False\n",
            "45 conv2d_16 False\n",
            "46 batch_normalization_13 True\n",
            "47 batch_normalization_16 True\n",
            "48 activation_13 False\n",
            "49 activation_16 False\n",
            "50 average_pooling2d_1 False\n",
            "51 conv2d_12 False\n",
            "52 conv2d_14 False\n",
            "53 conv2d_17 False\n",
            "54 conv2d_18 False\n",
            "55 batch_normalization_12 True\n",
            "56 batch_normalization_14 True\n",
            "57 batch_normalization_17 True\n",
            "58 batch_normalization_18 True\n",
            "59 activation_12 False\n",
            "60 activation_14 False\n",
            "61 activation_17 False\n",
            "62 activation_18 False\n",
            "63 mixed1 False\n",
            "64 conv2d_22 False\n",
            "65 batch_normalization_22 True\n",
            "66 activation_22 False\n",
            "67 conv2d_20 False\n",
            "68 conv2d_23 False\n",
            "69 batch_normalization_20 True\n",
            "70 batch_normalization_23 True\n",
            "71 activation_20 False\n",
            "72 activation_23 False\n",
            "73 average_pooling2d_2 False\n",
            "74 conv2d_19 False\n",
            "75 conv2d_21 False\n",
            "76 conv2d_24 False\n",
            "77 conv2d_25 False\n",
            "78 batch_normalization_19 True\n",
            "79 batch_normalization_21 True\n",
            "80 batch_normalization_24 True\n",
            "81 batch_normalization_25 True\n",
            "82 activation_19 False\n",
            "83 activation_21 False\n",
            "84 activation_24 False\n",
            "85 activation_25 False\n",
            "86 mixed2 False\n",
            "87 conv2d_27 False\n",
            "88 batch_normalization_27 True\n",
            "89 activation_27 False\n",
            "90 conv2d_28 False\n",
            "91 batch_normalization_28 True\n",
            "92 activation_28 False\n",
            "93 conv2d_26 False\n",
            "94 conv2d_29 False\n",
            "95 batch_normalization_26 True\n",
            "96 batch_normalization_29 True\n",
            "97 activation_26 False\n",
            "98 activation_29 False\n",
            "99 max_pooling2d_2 False\n",
            "100 mixed3 False\n",
            "101 conv2d_34 False\n",
            "102 batch_normalization_34 True\n",
            "103 activation_34 False\n",
            "104 conv2d_35 False\n",
            "105 batch_normalization_35 True\n",
            "106 activation_35 False\n",
            "107 conv2d_31 False\n",
            "108 conv2d_36 False\n",
            "109 batch_normalization_31 True\n",
            "110 batch_normalization_36 True\n",
            "111 activation_31 False\n",
            "112 activation_36 False\n",
            "113 conv2d_32 False\n",
            "114 conv2d_37 False\n",
            "115 batch_normalization_32 True\n",
            "116 batch_normalization_37 True\n",
            "117 activation_32 False\n",
            "118 activation_37 False\n",
            "119 average_pooling2d_3 False\n",
            "120 conv2d_30 False\n",
            "121 conv2d_33 False\n",
            "122 conv2d_38 False\n",
            "123 conv2d_39 False\n",
            "124 batch_normalization_30 True\n",
            "125 batch_normalization_33 True\n",
            "126 batch_normalization_38 True\n",
            "127 batch_normalization_39 True\n",
            "128 activation_30 False\n",
            "129 activation_33 False\n",
            "130 activation_38 False\n",
            "131 activation_39 False\n",
            "132 mixed4 False\n",
            "133 conv2d_44 False\n",
            "134 batch_normalization_44 True\n",
            "135 activation_44 False\n",
            "136 conv2d_45 False\n",
            "137 batch_normalization_45 True\n",
            "138 activation_45 False\n",
            "139 conv2d_41 False\n",
            "140 conv2d_46 False\n",
            "141 batch_normalization_41 True\n",
            "142 batch_normalization_46 True\n",
            "143 activation_41 False\n",
            "144 activation_46 False\n",
            "145 conv2d_42 False\n",
            "146 conv2d_47 False\n",
            "147 batch_normalization_42 True\n",
            "148 batch_normalization_47 True\n",
            "149 activation_42 False\n",
            "150 activation_47 False\n",
            "151 average_pooling2d_4 False\n",
            "152 conv2d_40 False\n",
            "153 conv2d_43 False\n",
            "154 conv2d_48 False\n",
            "155 conv2d_49 False\n",
            "156 batch_normalization_40 True\n",
            "157 batch_normalization_43 True\n",
            "158 batch_normalization_48 True\n",
            "159 batch_normalization_49 True\n",
            "160 activation_40 False\n",
            "161 activation_43 False\n",
            "162 activation_48 False\n",
            "163 activation_49 False\n",
            "164 mixed5 False\n",
            "165 conv2d_54 False\n",
            "166 batch_normalization_54 True\n",
            "167 activation_54 False\n",
            "168 conv2d_55 False\n",
            "169 batch_normalization_55 True\n",
            "170 activation_55 False\n",
            "171 conv2d_51 False\n",
            "172 conv2d_56 False\n",
            "173 batch_normalization_51 True\n",
            "174 batch_normalization_56 True\n",
            "175 activation_51 False\n",
            "176 activation_56 False\n",
            "177 conv2d_52 False\n",
            "178 conv2d_57 False\n",
            "179 batch_normalization_52 True\n",
            "180 batch_normalization_57 True\n",
            "181 activation_52 False\n",
            "182 activation_57 False\n",
            "183 average_pooling2d_5 False\n",
            "184 conv2d_50 False\n",
            "185 conv2d_53 False\n",
            "186 conv2d_58 False\n",
            "187 conv2d_59 False\n",
            "188 batch_normalization_50 True\n",
            "189 batch_normalization_53 True\n",
            "190 batch_normalization_58 True\n",
            "191 batch_normalization_59 True\n",
            "192 activation_50 False\n",
            "193 activation_53 False\n",
            "194 activation_58 False\n",
            "195 activation_59 False\n",
            "196 mixed6 False\n",
            "197 conv2d_64 False\n",
            "198 batch_normalization_64 True\n",
            "199 activation_64 False\n",
            "200 conv2d_65 False\n",
            "201 batch_normalization_65 True\n",
            "202 activation_65 False\n",
            "203 conv2d_61 False\n",
            "204 conv2d_66 False\n",
            "205 batch_normalization_61 True\n",
            "206 batch_normalization_66 True\n",
            "207 activation_61 False\n",
            "208 activation_66 False\n",
            "209 conv2d_62 False\n",
            "210 conv2d_67 False\n",
            "211 batch_normalization_62 True\n",
            "212 batch_normalization_67 True\n",
            "213 activation_62 False\n",
            "214 activation_67 False\n",
            "215 average_pooling2d_6 False\n",
            "216 conv2d_60 False\n",
            "217 conv2d_63 False\n",
            "218 conv2d_68 False\n",
            "219 conv2d_69 False\n",
            "220 batch_normalization_60 True\n",
            "221 batch_normalization_63 True\n",
            "222 batch_normalization_68 True\n",
            "223 batch_normalization_69 True\n",
            "224 activation_60 False\n",
            "225 activation_63 False\n",
            "226 activation_68 False\n",
            "227 activation_69 False\n",
            "228 mixed7 False\n",
            "229 conv2d_72 False\n",
            "230 batch_normalization_72 True\n",
            "231 activation_72 False\n",
            "232 conv2d_73 False\n",
            "233 batch_normalization_73 True\n",
            "234 activation_73 False\n",
            "235 conv2d_70 False\n",
            "236 conv2d_74 False\n",
            "237 batch_normalization_70 True\n",
            "238 batch_normalization_74 True\n",
            "239 activation_70 False\n",
            "240 activation_74 False\n",
            "241 conv2d_71 False\n",
            "242 conv2d_75 False\n",
            "243 batch_normalization_71 True\n",
            "244 batch_normalization_75 True\n",
            "245 activation_71 False\n",
            "246 activation_75 False\n",
            "247 max_pooling2d_3 False\n",
            "248 mixed8 False\n",
            "249 conv2d_80 False\n",
            "250 batch_normalization_80 True\n",
            "251 activation_80 False\n",
            "252 conv2d_77 False\n",
            "253 conv2d_81 False\n",
            "254 batch_normalization_77 True\n",
            "255 batch_normalization_81 True\n",
            "256 activation_77 False\n",
            "257 activation_81 False\n",
            "258 conv2d_78 False\n",
            "259 conv2d_79 False\n",
            "260 conv2d_82 False\n",
            "261 conv2d_83 False\n",
            "262 average_pooling2d_7 False\n",
            "263 conv2d_76 False\n",
            "264 batch_normalization_78 True\n",
            "265 batch_normalization_79 True\n",
            "266 batch_normalization_82 True\n",
            "267 batch_normalization_83 True\n",
            "268 conv2d_84 False\n",
            "269 batch_normalization_76 True\n",
            "270 activation_78 False\n",
            "271 activation_79 False\n",
            "272 activation_82 False\n",
            "273 activation_83 False\n",
            "274 batch_normalization_84 True\n",
            "275 activation_76 False\n",
            "276 mixed9_0 False\n",
            "277 concatenate False\n",
            "278 activation_84 False\n",
            "279 mixed9 False\n",
            "280 conv2d_89 False\n",
            "281 batch_normalization_89 True\n",
            "282 activation_89 False\n",
            "283 conv2d_86 False\n",
            "284 conv2d_90 False\n",
            "285 batch_normalization_86 True\n",
            "286 batch_normalization_90 True\n",
            "287 activation_86 False\n",
            "288 activation_90 False\n",
            "289 conv2d_87 False\n",
            "290 conv2d_88 False\n",
            "291 conv2d_91 False\n",
            "292 conv2d_92 False\n",
            "293 average_pooling2d_8 False\n",
            "294 conv2d_85 False\n",
            "295 batch_normalization_87 True\n",
            "296 batch_normalization_88 True\n",
            "297 batch_normalization_91 True\n",
            "298 batch_normalization_92 True\n",
            "299 conv2d_93 True\n",
            "300 batch_normalization_85 True\n",
            "301 activation_87 True\n",
            "302 activation_88 True\n",
            "303 activation_91 True\n",
            "304 activation_92 True\n",
            "305 batch_normalization_93 True\n",
            "306 activation_85 True\n",
            "307 mixed9_1 True\n",
            "308 concatenate_1 True\n",
            "309 activation_93 True\n",
            "310 mixed10 True\n",
            "311 global_average_pooling2d True\n"
          ],
          "name": "stdout"
        }
      ]
    },
    {
      "cell_type": "code",
      "metadata": {
        "id": "LRgJzzTkILvk",
        "colab_type": "code",
        "colab": {}
      },
      "source": [
        "from keras.layers import Input "
      ],
      "execution_count": 13,
      "outputs": []
    },
    {
      "cell_type": "code",
      "metadata": {
        "id": "6XwhmneUIOz4",
        "colab_type": "code",
        "colab": {}
      },
      "source": [
        "input_tensor = Input(shape=(224,224,1))\n",
        "x = Conv2D(3,(3,3), padding='same')(input_tensor)"
      ],
      "execution_count": 14,
      "outputs": []
    },
    {
      "cell_type": "code",
      "metadata": {
        "id": "im_uZPYCIQ_d",
        "colab_type": "code",
        "colab": {}
      },
      "source": [
        "x = conv_base(x)"
      ],
      "execution_count": 15,
      "outputs": []
    },
    {
      "cell_type": "code",
      "metadata": {
        "id": "ATK3uMnWIUdW",
        "colab_type": "code",
        "colab": {}
      },
      "source": [
        "x = Dense(2048, activation='relu', kernel_regularizer= regularizers.l2(0.001))(x)\n",
        "x = Dropout(0.5)(x)"
      ],
      "execution_count": 16,
      "outputs": []
    },
    {
      "cell_type": "code",
      "metadata": {
        "id": "ucYVzkNJIWuk",
        "colab_type": "code",
        "colab": {}
      },
      "source": [
        "ouput = Dense(11, activation='softmax')(x)"
      ],
      "execution_count": 17,
      "outputs": []
    },
    {
      "cell_type": "code",
      "metadata": {
        "id": "qlek0DDqId2e",
        "colab_type": "code",
        "colab": {}
      },
      "source": [
        "model = Model(inputs = input_tensor, outputs = ouput )"
      ],
      "execution_count": 18,
      "outputs": []
    },
    {
      "cell_type": "code",
      "metadata": {
        "id": "c234MRM8IhIy",
        "colab_type": "code",
        "colab": {
          "base_uri": "https://localhost:8080/",
          "height": 357
        },
        "outputId": "7a8887ca-b3f0-41d1-8c29-cd02e8a352fa"
      },
      "source": [
        "model.summary()"
      ],
      "execution_count": 19,
      "outputs": [
        {
          "output_type": "stream",
          "text": [
            "Model: \"functional_1\"\n",
            "_________________________________________________________________\n",
            "Layer (type)                 Output Shape              Param #   \n",
            "=================================================================\n",
            "input_2 (InputLayer)         [(None, 224, 224, 1)]     0         \n",
            "_________________________________________________________________\n",
            "conv2d_94 (Conv2D)           (None, 224, 224, 3)       30        \n",
            "_________________________________________________________________\n",
            "inception_v3 (Functional)    (None, 2048)              21802784  \n",
            "_________________________________________________________________\n",
            "dense (Dense)                (None, 2048)              4196352   \n",
            "_________________________________________________________________\n",
            "dropout (Dropout)            (None, 2048)              0         \n",
            "_________________________________________________________________\n",
            "dense_1 (Dense)              (None, 11)                22539     \n",
            "=================================================================\n",
            "Total params: 26,021,705\n",
            "Trainable params: 4,629,353\n",
            "Non-trainable params: 21,392,352\n",
            "_________________________________________________________________\n"
          ],
          "name": "stdout"
        }
      ]
    },
    {
      "cell_type": "code",
      "metadata": {
        "id": "YKHF6ZDtIj7X",
        "colab_type": "code",
        "colab": {}
      },
      "source": [
        "model.compile(loss='categorical_crossentropy',\n",
        "              optimizer=SGD(lr=0.001),\n",
        "              metrics=['accuracy'])"
      ],
      "execution_count": 20,
      "outputs": []
    },
    {
      "cell_type": "code",
      "metadata": {
        "id": "QFrUnTWdIm1x",
        "colab_type": "code",
        "colab": {}
      },
      "source": [
        "from keras.callbacks import ModelCheckpoint, EarlyStopping, ReduceLROnPlateau\n",
        "checkpoint = ModelCheckpoint(\"/content/drive/My Drive/KTH-Colour/Inspection3_GreyScale_SGDK-Th.h5\",\n",
        "                             monitor=\"val_loss\",\n",
        "                             mode=\"min\",\n",
        "                             save_best_only = True,\n",
        "                             verbose=1)\n",
        "\n",
        "earlystop = EarlyStopping(monitor = 'val_loss', \n",
        "                          min_delta = 0, \n",
        "                          patience = 40,\n",
        "                          verbose = 1,\n",
        "                          restore_best_weights = True)\n",
        "\n",
        "reduce_lr = ReduceLROnPlateau(monitor = 'val_loss',\n",
        "                              factor = 0.2,\n",
        "                              patience = 40,\n",
        "                              verbose = 1,\n",
        "                              min_delta = 0.00001)\n",
        "\n",
        "callBacks = [earlystop, checkpoint, reduce_lr]"
      ],
      "execution_count": 21,
      "outputs": []
    },
    {
      "cell_type": "code",
      "metadata": {
        "id": "Silp66FDJEvF",
        "colab_type": "code",
        "colab": {
          "base_uri": "https://localhost:8080/",
          "height": 1000
        },
        "outputId": "ae1cac0c-7b72-42a9-ac4b-19c1a7bd0c2a"
      },
      "source": [
        "hist = model.fit_generator(steps_per_epoch=359,generator= Grey_TrainingData, validation_data= Grey_ValidData, validation_steps=20,epochs=120,callbacks=callBacks)"
      ],
      "execution_count": 22,
      "outputs": [
        {
          "output_type": "stream",
          "text": [
            "WARNING:tensorflow:From <ipython-input-22-824327de9dc8>:1: Model.fit_generator (from tensorflow.python.keras.engine.training) is deprecated and will be removed in a future version.\n",
            "Instructions for updating:\n",
            "Please use Model.fit, which supports generators.\n",
            "Epoch 1/120\n",
            "359/359 [==============================] - ETA: 0s - loss: 4.0528 - accuracy: 0.3093\n",
            "Epoch 00001: val_loss improved from inf to 3.84169, saving model to /content/drive/My Drive/KTH-Colour/Inspection3_GreyScale_SGDK-Th.h5\n",
            "359/359 [==============================] - 1026s 3s/step - loss: 4.0528 - accuracy: 0.3093 - val_loss: 3.8417 - val_accuracy: 0.4313\n",
            "Epoch 2/120\n",
            "358/359 [============================>.] - ETA: 0s - loss: 3.7007 - accuracy: 0.4818\n",
            "Epoch 00002: val_loss did not improve from 3.84169\n",
            "359/359 [==============================] - 17s 49ms/step - loss: 3.6997 - accuracy: 0.4826 - val_loss: 3.8637 - val_accuracy: 0.4125\n",
            "Epoch 3/120\n",
            "358/359 [============================>.] - ETA: 0s - loss: 3.4751 - accuracy: 0.5619\n",
            "Epoch 00003: val_loss improved from 3.84169 to 3.78606, saving model to /content/drive/My Drive/KTH-Colour/Inspection3_GreyScale_SGDK-Th.h5\n",
            "359/359 [==============================] - 19s 52ms/step - loss: 3.4759 - accuracy: 0.5621 - val_loss: 3.7861 - val_accuracy: 0.4812\n",
            "Epoch 4/120\n",
            "358/359 [============================>.] - ETA: 0s - loss: 3.3446 - accuracy: 0.5850\n",
            "Epoch 00004: val_loss did not improve from 3.78606\n",
            "359/359 [==============================] - 17s 48ms/step - loss: 3.3436 - accuracy: 0.5851 - val_loss: 3.8458 - val_accuracy: 0.4187\n",
            "Epoch 5/120\n",
            "358/359 [============================>.] - ETA: 0s - loss: 3.2409 - accuracy: 0.6066\n",
            "Epoch 00005: val_loss improved from 3.78606 to 3.48305, saving model to /content/drive/My Drive/KTH-Colour/Inspection3_GreyScale_SGDK-Th.h5\n",
            "359/359 [==============================] - 19s 52ms/step - loss: 3.2393 - accuracy: 0.6070 - val_loss: 3.4831 - val_accuracy: 0.5312\n",
            "Epoch 6/120\n",
            "358/359 [============================>.] - ETA: 0s - loss: 3.1596 - accuracy: 0.6325\n",
            "Epoch 00006: val_loss did not improve from 3.48305\n",
            "359/359 [==============================] - 17s 48ms/step - loss: 3.1589 - accuracy: 0.6325 - val_loss: 3.5924 - val_accuracy: 0.5063\n",
            "Epoch 7/120\n",
            "359/359 [==============================] - ETA: 0s - loss: 3.0993 - accuracy: 0.6437\n",
            "Epoch 00007: val_loss did not improve from 3.48305\n",
            "359/359 [==============================] - 17s 48ms/step - loss: 3.0993 - accuracy: 0.6437 - val_loss: 3.5837 - val_accuracy: 0.4875\n",
            "Epoch 8/120\n",
            "358/359 [============================>.] - ETA: 0s - loss: 3.0572 - accuracy: 0.6469\n",
            "Epoch 00008: val_loss did not improve from 3.48305\n",
            "359/359 [==============================] - 17s 48ms/step - loss: 3.0579 - accuracy: 0.6461 - val_loss: 3.4919 - val_accuracy: 0.5688\n",
            "Epoch 9/120\n",
            "358/359 [============================>.] - ETA: 0s - loss: 3.0109 - accuracy: 0.6629\n",
            "Epoch 00009: val_loss did not improve from 3.48305\n",
            "359/359 [==============================] - 17s 48ms/step - loss: 3.0098 - accuracy: 0.6632 - val_loss: 3.6009 - val_accuracy: 0.5063\n",
            "Epoch 10/120\n",
            "359/359 [==============================] - ETA: 0s - loss: 2.9817 - accuracy: 0.6736\n",
            "Epoch 00010: val_loss improved from 3.48305 to 3.34138, saving model to /content/drive/My Drive/KTH-Colour/Inspection3_GreyScale_SGDK-Th.h5\n",
            "359/359 [==============================] - 19s 52ms/step - loss: 2.9817 - accuracy: 0.6736 - val_loss: 3.3414 - val_accuracy: 0.6000\n",
            "Epoch 11/120\n",
            "358/359 [============================>.] - ETA: 0s - loss: 2.9186 - accuracy: 0.6885\n",
            "Epoch 00011: val_loss improved from 3.34138 to 3.25808, saving model to /content/drive/My Drive/KTH-Colour/Inspection3_GreyScale_SGDK-Th.h5\n",
            "359/359 [==============================] - 18s 51ms/step - loss: 2.9197 - accuracy: 0.6879 - val_loss: 3.2581 - val_accuracy: 0.6250\n",
            "Epoch 12/120\n",
            "359/359 [==============================] - ETA: 0s - loss: 2.8734 - accuracy: 0.7130\n",
            "Epoch 00012: val_loss did not improve from 3.25808\n",
            "359/359 [==============================] - 17s 48ms/step - loss: 2.8734 - accuracy: 0.7130 - val_loss: 3.4287 - val_accuracy: 0.5312\n",
            "Epoch 13/120\n",
            "358/359 [============================>.] - ETA: 0s - loss: 2.8776 - accuracy: 0.7108\n",
            "Epoch 00013: val_loss did not improve from 3.25808\n",
            "359/359 [==============================] - 17s 47ms/step - loss: 2.8785 - accuracy: 0.7106 - val_loss: 3.4827 - val_accuracy: 0.5125\n",
            "Epoch 14/120\n",
            "358/359 [============================>.] - ETA: 0s - loss: 2.8387 - accuracy: 0.7182\n",
            "Epoch 00014: val_loss did not improve from 3.25808\n",
            "359/359 [==============================] - 17s 47ms/step - loss: 2.8374 - accuracy: 0.7186 - val_loss: 3.4128 - val_accuracy: 0.5562\n",
            "Epoch 15/120\n",
            "359/359 [==============================] - ETA: 0s - loss: 2.8064 - accuracy: 0.7301\n",
            "Epoch 00015: val_loss did not improve from 3.25808\n",
            "359/359 [==============================] - 17s 47ms/step - loss: 2.8064 - accuracy: 0.7301 - val_loss: 3.3316 - val_accuracy: 0.5625\n",
            "Epoch 16/120\n",
            "359/359 [==============================] - ETA: 0s - loss: 2.8084 - accuracy: 0.7228\n",
            "Epoch 00016: val_loss improved from 3.25808 to 3.24855, saving model to /content/drive/My Drive/KTH-Colour/Inspection3_GreyScale_SGDK-Th.h5\n",
            "359/359 [==============================] - 18s 51ms/step - loss: 2.8084 - accuracy: 0.7228 - val_loss: 3.2486 - val_accuracy: 0.6187\n",
            "Epoch 17/120\n",
            "359/359 [==============================] - ETA: 0s - loss: 2.7742 - accuracy: 0.7413\n",
            "Epoch 00017: val_loss did not improve from 3.24855\n",
            "359/359 [==============================] - 17s 48ms/step - loss: 2.7742 - accuracy: 0.7413 - val_loss: 3.2722 - val_accuracy: 0.5938\n",
            "Epoch 18/120\n",
            "359/359 [==============================] - ETA: 0s - loss: 2.7531 - accuracy: 0.7437\n",
            "Epoch 00018: val_loss did not improve from 3.24855\n",
            "359/359 [==============================] - 17s 47ms/step - loss: 2.7531 - accuracy: 0.7437 - val_loss: 3.6686 - val_accuracy: 0.4500\n",
            "Epoch 19/120\n",
            "359/359 [==============================] - ETA: 0s - loss: 2.7091 - accuracy: 0.7660\n",
            "Epoch 00019: val_loss did not improve from 3.24855\n",
            "359/359 [==============================] - 17s 47ms/step - loss: 2.7091 - accuracy: 0.7660 - val_loss: 3.3608 - val_accuracy: 0.5562\n",
            "Epoch 20/120\n",
            "359/359 [==============================] - ETA: 0s - loss: 2.7247 - accuracy: 0.7465\n",
            "Epoch 00020: val_loss did not improve from 3.24855\n",
            "359/359 [==============================] - 17s 47ms/step - loss: 2.7247 - accuracy: 0.7465 - val_loss: 3.4299 - val_accuracy: 0.5250\n",
            "Epoch 21/120\n",
            "359/359 [==============================] - ETA: 0s - loss: 2.7015 - accuracy: 0.7685\n",
            "Epoch 00021: val_loss did not improve from 3.24855\n",
            "359/359 [==============================] - 17s 47ms/step - loss: 2.7015 - accuracy: 0.7685 - val_loss: 3.2539 - val_accuracy: 0.6125\n",
            "Epoch 22/120\n",
            "359/359 [==============================] - ETA: 0s - loss: 2.6695 - accuracy: 0.7727\n",
            "Epoch 00022: val_loss improved from 3.24855 to 3.22790, saving model to /content/drive/My Drive/KTH-Colour/Inspection3_GreyScale_SGDK-Th.h5\n",
            "359/359 [==============================] - 18s 52ms/step - loss: 2.6695 - accuracy: 0.7727 - val_loss: 3.2279 - val_accuracy: 0.5938\n",
            "Epoch 23/120\n",
            "359/359 [==============================] - ETA: 0s - loss: 2.6803 - accuracy: 0.7636\n",
            "Epoch 00023: val_loss did not improve from 3.22790\n",
            "359/359 [==============================] - 17s 47ms/step - loss: 2.6803 - accuracy: 0.7636 - val_loss: 3.4436 - val_accuracy: 0.5063\n",
            "Epoch 24/120\n",
            "358/359 [============================>.] - ETA: 0s - loss: 2.6997 - accuracy: 0.7430\n",
            "Epoch 00024: val_loss did not improve from 3.22790\n",
            "359/359 [==============================] - 17s 47ms/step - loss: 2.6987 - accuracy: 0.7434 - val_loss: 3.4906 - val_accuracy: 0.5063\n",
            "Epoch 25/120\n",
            "359/359 [==============================] - ETA: 0s - loss: 2.6341 - accuracy: 0.7852\n",
            "Epoch 00025: val_loss did not improve from 3.22790\n",
            "359/359 [==============================] - 17s 47ms/step - loss: 2.6341 - accuracy: 0.7852 - val_loss: 3.3418 - val_accuracy: 0.5375\n",
            "Epoch 26/120\n",
            "359/359 [==============================] - ETA: 0s - loss: 2.6179 - accuracy: 0.7796\n",
            "Epoch 00026: val_loss improved from 3.22790 to 3.21283, saving model to /content/drive/My Drive/KTH-Colour/Inspection3_GreyScale_SGDK-Th.h5\n",
            "359/359 [==============================] - 18s 51ms/step - loss: 2.6179 - accuracy: 0.7796 - val_loss: 3.2128 - val_accuracy: 0.5875\n",
            "Epoch 27/120\n",
            "358/359 [============================>.] - ETA: 0s - loss: 2.6260 - accuracy: 0.7776\n",
            "Epoch 00027: val_loss improved from 3.21283 to 3.13201, saving model to /content/drive/My Drive/KTH-Colour/Inspection3_GreyScale_SGDK-Th.h5\n",
            "359/359 [==============================] - 18s 51ms/step - loss: 2.6275 - accuracy: 0.7768 - val_loss: 3.1320 - val_accuracy: 0.5813\n",
            "Epoch 28/120\n",
            "359/359 [==============================] - ETA: 0s - loss: 2.6318 - accuracy: 0.7758\n",
            "Epoch 00028: val_loss improved from 3.13201 to 3.13156, saving model to /content/drive/My Drive/KTH-Colour/Inspection3_GreyScale_SGDK-Th.h5\n",
            "359/359 [==============================] - 18s 51ms/step - loss: 2.6318 - accuracy: 0.7758 - val_loss: 3.1316 - val_accuracy: 0.6500\n",
            "Epoch 29/120\n",
            "359/359 [==============================] - ETA: 0s - loss: 2.6206 - accuracy: 0.7734\n",
            "Epoch 00029: val_loss did not improve from 3.13156\n",
            "359/359 [==============================] - 17s 47ms/step - loss: 2.6206 - accuracy: 0.7734 - val_loss: 3.5380 - val_accuracy: 0.5188\n",
            "Epoch 30/120\n",
            "359/359 [==============================] - ETA: 0s - loss: 2.5682 - accuracy: 0.7936\n",
            "Epoch 00030: val_loss did not improve from 3.13156\n",
            "359/359 [==============================] - 17s 47ms/step - loss: 2.5682 - accuracy: 0.7936 - val_loss: 3.2780 - val_accuracy: 0.5750\n",
            "Epoch 31/120\n",
            "359/359 [==============================] - ETA: 0s - loss: 2.5572 - accuracy: 0.8047\n",
            "Epoch 00031: val_loss did not improve from 3.13156\n",
            "359/359 [==============================] - 17s 47ms/step - loss: 2.5572 - accuracy: 0.8047 - val_loss: 3.6473 - val_accuracy: 0.4812\n",
            "Epoch 32/120\n",
            "359/359 [==============================] - ETA: 0s - loss: 2.5697 - accuracy: 0.7964\n",
            "Epoch 00032: val_loss improved from 3.13156 to 3.06773, saving model to /content/drive/My Drive/KTH-Colour/Inspection3_GreyScale_SGDK-Th.h5\n",
            "359/359 [==============================] - 18s 51ms/step - loss: 2.5697 - accuracy: 0.7964 - val_loss: 3.0677 - val_accuracy: 0.6687\n",
            "Epoch 33/120\n",
            "359/359 [==============================] - ETA: 0s - loss: 2.5383 - accuracy: 0.8086\n",
            "Epoch 00033: val_loss did not improve from 3.06773\n",
            "359/359 [==============================] - 17s 47ms/step - loss: 2.5383 - accuracy: 0.8086 - val_loss: 3.1006 - val_accuracy: 0.6250\n",
            "Epoch 34/120\n",
            "358/359 [============================>.] - ETA: 0s - loss: 2.5332 - accuracy: 0.8000\n",
            "Epoch 00034: val_loss improved from 3.06773 to 3.04877, saving model to /content/drive/My Drive/KTH-Colour/Inspection3_GreyScale_SGDK-Th.h5\n",
            "359/359 [==============================] - 18s 51ms/step - loss: 2.5330 - accuracy: 0.7999 - val_loss: 3.0488 - val_accuracy: 0.6250\n",
            "Epoch 35/120\n",
            "359/359 [==============================] - ETA: 0s - loss: 2.5058 - accuracy: 0.8142\n",
            "Epoch 00035: val_loss did not improve from 3.04877\n",
            "359/359 [==============================] - 17s 48ms/step - loss: 2.5058 - accuracy: 0.8142 - val_loss: 3.1822 - val_accuracy: 0.6313\n",
            "Epoch 36/120\n",
            "358/359 [============================>.] - ETA: 0s - loss: 2.5177 - accuracy: 0.8147\n",
            "Epoch 00036: val_loss did not improve from 3.04877\n",
            "359/359 [==============================] - 17s 47ms/step - loss: 2.5164 - accuracy: 0.8152 - val_loss: 3.3283 - val_accuracy: 0.5688\n",
            "Epoch 37/120\n",
            "358/359 [============================>.] - ETA: 0s - loss: 2.5027 - accuracy: 0.8105\n",
            "Epoch 00037: val_loss did not improve from 3.04877\n",
            "359/359 [==============================] - 17s 47ms/step - loss: 2.5023 - accuracy: 0.8103 - val_loss: 3.0780 - val_accuracy: 0.6187\n",
            "Epoch 38/120\n",
            "358/359 [============================>.] - ETA: 0s - loss: 2.5066 - accuracy: 0.8150\n",
            "Epoch 00038: val_loss improved from 3.04877 to 3.01759, saving model to /content/drive/My Drive/KTH-Colour/Inspection3_GreyScale_SGDK-Th.h5\n",
            "359/359 [==============================] - 18s 51ms/step - loss: 2.5079 - accuracy: 0.8142 - val_loss: 3.0176 - val_accuracy: 0.6187\n",
            "Epoch 39/120\n",
            "359/359 [==============================] - ETA: 0s - loss: 2.4955 - accuracy: 0.8162\n",
            "Epoch 00039: val_loss did not improve from 3.01759\n",
            "359/359 [==============================] - 17s 47ms/step - loss: 2.4955 - accuracy: 0.8162 - val_loss: 3.1552 - val_accuracy: 0.6250\n",
            "Epoch 40/120\n",
            "359/359 [==============================] - ETA: 0s - loss: 2.4895 - accuracy: 0.8142\n",
            "Epoch 00040: val_loss improved from 3.01759 to 2.93822, saving model to /content/drive/My Drive/KTH-Colour/Inspection3_GreyScale_SGDK-Th.h5\n",
            "359/359 [==============================] - 19s 53ms/step - loss: 2.4895 - accuracy: 0.8142 - val_loss: 2.9382 - val_accuracy: 0.6562\n",
            "Epoch 41/120\n",
            "359/359 [==============================] - ETA: 0s - loss: 2.4678 - accuracy: 0.8243\n",
            "Epoch 00041: val_loss did not improve from 2.93822\n",
            "359/359 [==============================] - 17s 47ms/step - loss: 2.4678 - accuracy: 0.8243 - val_loss: 2.9837 - val_accuracy: 0.6687\n",
            "Epoch 42/120\n",
            "359/359 [==============================] - ETA: 0s - loss: 2.4807 - accuracy: 0.8114\n",
            "Epoch 00042: val_loss improved from 2.93822 to 2.92095, saving model to /content/drive/My Drive/KTH-Colour/Inspection3_GreyScale_SGDK-Th.h5\n",
            "359/359 [==============================] - 18s 51ms/step - loss: 2.4807 - accuracy: 0.8114 - val_loss: 2.9210 - val_accuracy: 0.6625\n",
            "Epoch 43/120\n",
            "359/359 [==============================] - ETA: 0s - loss: 2.4322 - accuracy: 0.8288\n",
            "Epoch 00043: val_loss did not improve from 2.92095\n",
            "359/359 [==============================] - 17s 47ms/step - loss: 2.4322 - accuracy: 0.8288 - val_loss: 3.1429 - val_accuracy: 0.6250\n",
            "Epoch 44/120\n",
            "358/359 [============================>.] - ETA: 0s - loss: 2.4539 - accuracy: 0.8199\n",
            "Epoch 00044: val_loss did not improve from 2.92095\n",
            "359/359 [==============================] - 17s 47ms/step - loss: 2.4535 - accuracy: 0.8201 - val_loss: 3.2184 - val_accuracy: 0.6313\n",
            "Epoch 45/120\n",
            "359/359 [==============================] - ETA: 0s - loss: 2.4102 - accuracy: 0.8354\n",
            "Epoch 00045: val_loss did not improve from 2.92095\n",
            "359/359 [==============================] - 17s 47ms/step - loss: 2.4102 - accuracy: 0.8354 - val_loss: 3.1495 - val_accuracy: 0.6062\n",
            "Epoch 46/120\n",
            "359/359 [==============================] - ETA: 0s - loss: 2.4633 - accuracy: 0.8169\n",
            "Epoch 00046: val_loss did not improve from 2.92095\n",
            "359/359 [==============================] - 17s 47ms/step - loss: 2.4633 - accuracy: 0.8169 - val_loss: 3.2240 - val_accuracy: 0.6438\n",
            "Epoch 47/120\n",
            "359/359 [==============================] - ETA: 0s - loss: 2.4462 - accuracy: 0.8190\n",
            "Epoch 00047: val_loss did not improve from 2.92095\n",
            "359/359 [==============================] - 17s 47ms/step - loss: 2.4462 - accuracy: 0.8190 - val_loss: 3.2084 - val_accuracy: 0.6250\n",
            "Epoch 48/120\n",
            "359/359 [==============================] - ETA: 0s - loss: 2.3920 - accuracy: 0.8358\n",
            "Epoch 00048: val_loss did not improve from 2.92095\n",
            "359/359 [==============================] - 17s 47ms/step - loss: 2.3920 - accuracy: 0.8358 - val_loss: 3.2955 - val_accuracy: 0.6000\n",
            "Epoch 49/120\n",
            "359/359 [==============================] - ETA: 0s - loss: 2.3995 - accuracy: 0.8354\n",
            "Epoch 00049: val_loss did not improve from 2.92095\n",
            "359/359 [==============================] - 17s 47ms/step - loss: 2.3995 - accuracy: 0.8354 - val_loss: 3.2533 - val_accuracy: 0.5750\n",
            "Epoch 50/120\n",
            "359/359 [==============================] - ETA: 0s - loss: 2.4053 - accuracy: 0.8330\n",
            "Epoch 00050: val_loss did not improve from 2.92095\n",
            "359/359 [==============================] - 17s 47ms/step - loss: 2.4053 - accuracy: 0.8330 - val_loss: 3.1648 - val_accuracy: 0.6438\n",
            "Epoch 51/120\n",
            "359/359 [==============================] - ETA: 0s - loss: 2.3784 - accuracy: 0.8410\n",
            "Epoch 00051: val_loss did not improve from 2.92095\n",
            "359/359 [==============================] - 17s 47ms/step - loss: 2.3784 - accuracy: 0.8410 - val_loss: 3.1565 - val_accuracy: 0.6375\n",
            "Epoch 52/120\n",
            "359/359 [==============================] - ETA: 0s - loss: 2.3777 - accuracy: 0.8375\n",
            "Epoch 00052: val_loss did not improve from 2.92095\n",
            "359/359 [==============================] - 17s 47ms/step - loss: 2.3777 - accuracy: 0.8375 - val_loss: 3.1245 - val_accuracy: 0.5938\n",
            "Epoch 53/120\n",
            "359/359 [==============================] - ETA: 0s - loss: 2.3861 - accuracy: 0.8305\n",
            "Epoch 00053: val_loss did not improve from 2.92095\n",
            "359/359 [==============================] - 17s 47ms/step - loss: 2.3861 - accuracy: 0.8305 - val_loss: 3.3558 - val_accuracy: 0.5813\n",
            "Epoch 54/120\n",
            "359/359 [==============================] - ETA: 0s - loss: 2.3917 - accuracy: 0.8305\n",
            "Epoch 00054: val_loss did not improve from 2.92095\n",
            "359/359 [==============================] - 17s 47ms/step - loss: 2.3917 - accuracy: 0.8305 - val_loss: 3.2343 - val_accuracy: 0.5750\n",
            "Epoch 55/120\n",
            "359/359 [==============================] - ETA: 0s - loss: 2.3856 - accuracy: 0.8396\n",
            "Epoch 00055: val_loss did not improve from 2.92095\n",
            "359/359 [==============================] - 17s 47ms/step - loss: 2.3856 - accuracy: 0.8396 - val_loss: 3.6449 - val_accuracy: 0.4688\n",
            "Epoch 56/120\n",
            "358/359 [============================>.] - ETA: 0s - loss: 2.3631 - accuracy: 0.8304\n",
            "Epoch 00056: val_loss did not improve from 2.92095\n",
            "359/359 [==============================] - 17s 47ms/step - loss: 2.3638 - accuracy: 0.8302 - val_loss: 3.2436 - val_accuracy: 0.5875\n",
            "Epoch 57/120\n",
            "359/359 [==============================] - ETA: 0s - loss: 2.3615 - accuracy: 0.8389\n",
            "Epoch 00057: val_loss did not improve from 2.92095\n",
            "359/359 [==============================] - 17s 47ms/step - loss: 2.3615 - accuracy: 0.8389 - val_loss: 3.1924 - val_accuracy: 0.6125\n",
            "Epoch 58/120\n",
            "358/359 [============================>.] - ETA: 0s - loss: 2.3410 - accuracy: 0.8455\n",
            "Epoch 00058: val_loss did not improve from 2.92095\n",
            "359/359 [==============================] - 17s 47ms/step - loss: 2.3399 - accuracy: 0.8459 - val_loss: 3.2475 - val_accuracy: 0.6125\n",
            "Epoch 59/120\n",
            "358/359 [============================>.] - ETA: 0s - loss: 2.3732 - accuracy: 0.8357\n",
            "Epoch 00059: val_loss did not improve from 2.92095\n",
            "359/359 [==============================] - 17s 47ms/step - loss: 2.3740 - accuracy: 0.8358 - val_loss: 3.3483 - val_accuracy: 0.5813\n",
            "Epoch 60/120\n",
            "359/359 [==============================] - ETA: 0s - loss: 2.3370 - accuracy: 0.8469\n",
            "Epoch 00060: val_loss did not improve from 2.92095\n",
            "359/359 [==============================] - 17s 47ms/step - loss: 2.3370 - accuracy: 0.8469 - val_loss: 3.4208 - val_accuracy: 0.5813\n",
            "Epoch 61/120\n",
            "359/359 [==============================] - ETA: 0s - loss: 2.3404 - accuracy: 0.8462\n",
            "Epoch 00061: val_loss did not improve from 2.92095\n",
            "359/359 [==============================] - 17s 47ms/step - loss: 2.3404 - accuracy: 0.8462 - val_loss: 3.1309 - val_accuracy: 0.6000\n",
            "Epoch 62/120\n",
            "359/359 [==============================] - ETA: 0s - loss: 2.3298 - accuracy: 0.8511\n",
            "Epoch 00062: val_loss did not improve from 2.92095\n",
            "359/359 [==============================] - 17s 47ms/step - loss: 2.3298 - accuracy: 0.8511 - val_loss: 3.0512 - val_accuracy: 0.6562\n",
            "Epoch 63/120\n",
            "358/359 [============================>.] - ETA: 0s - loss: 2.3120 - accuracy: 0.8573\n",
            "Epoch 00063: val_loss did not improve from 2.92095\n",
            "359/359 [==============================] - 17s 47ms/step - loss: 2.3138 - accuracy: 0.8570 - val_loss: 3.0595 - val_accuracy: 0.6438\n",
            "Epoch 64/120\n",
            "359/359 [==============================] - ETA: 0s - loss: 2.3188 - accuracy: 0.8508\n",
            "Epoch 00064: val_loss did not improve from 2.92095\n",
            "359/359 [==============================] - 17s 47ms/step - loss: 2.3188 - accuracy: 0.8508 - val_loss: 3.2111 - val_accuracy: 0.6250\n",
            "Epoch 65/120\n",
            "358/359 [============================>.] - ETA: 0s - loss: 2.3213 - accuracy: 0.8469\n",
            "Epoch 00065: val_loss did not improve from 2.92095\n",
            "359/359 [==============================] - 17s 47ms/step - loss: 2.3212 - accuracy: 0.8469 - val_loss: 3.2241 - val_accuracy: 0.5875\n",
            "Epoch 66/120\n",
            "359/359 [==============================] - ETA: 0s - loss: 2.3121 - accuracy: 0.8452\n",
            "Epoch 00066: val_loss did not improve from 2.92095\n",
            "359/359 [==============================] - 17s 47ms/step - loss: 2.3121 - accuracy: 0.8452 - val_loss: 3.1272 - val_accuracy: 0.6687\n",
            "Epoch 67/120\n",
            "359/359 [==============================] - ETA: 0s - loss: 2.3285 - accuracy: 0.8448\n",
            "Epoch 00067: val_loss did not improve from 2.92095\n",
            "359/359 [==============================] - 17s 47ms/step - loss: 2.3285 - accuracy: 0.8448 - val_loss: 3.0741 - val_accuracy: 0.6687\n",
            "Epoch 68/120\n",
            "358/359 [============================>.] - ETA: 0s - loss: 2.2866 - accuracy: 0.8490\n",
            "Epoch 00068: val_loss did not improve from 2.92095\n",
            "359/359 [==============================] - 17s 47ms/step - loss: 2.2859 - accuracy: 0.8494 - val_loss: 3.1434 - val_accuracy: 0.6562\n",
            "Epoch 69/120\n",
            "359/359 [==============================] - ETA: 0s - loss: 2.2662 - accuracy: 0.8637\n",
            "Epoch 00069: val_loss did not improve from 2.92095\n",
            "359/359 [==============================] - 17s 47ms/step - loss: 2.2662 - accuracy: 0.8637 - val_loss: 3.1949 - val_accuracy: 0.6062\n",
            "Epoch 70/120\n",
            "359/359 [==============================] - ETA: 0s - loss: 2.2667 - accuracy: 0.8577\n",
            "Epoch 00070: val_loss did not improve from 2.92095\n",
            "359/359 [==============================] - 17s 47ms/step - loss: 2.2667 - accuracy: 0.8577 - val_loss: 3.0885 - val_accuracy: 0.6250\n",
            "Epoch 71/120\n",
            "359/359 [==============================] - ETA: 0s - loss: 2.3104 - accuracy: 0.8427\n",
            "Epoch 00071: val_loss did not improve from 2.92095\n",
            "359/359 [==============================] - 17s 48ms/step - loss: 2.3104 - accuracy: 0.8427 - val_loss: 3.1283 - val_accuracy: 0.6313\n",
            "Epoch 72/120\n",
            "359/359 [==============================] - ETA: 0s - loss: 2.2858 - accuracy: 0.8574\n",
            "Epoch 00072: val_loss did not improve from 2.92095\n",
            "359/359 [==============================] - 17s 47ms/step - loss: 2.2858 - accuracy: 0.8574 - val_loss: 3.2179 - val_accuracy: 0.6438\n",
            "Epoch 73/120\n",
            "359/359 [==============================] - ETA: 0s - loss: 2.2714 - accuracy: 0.8532\n",
            "Epoch 00073: val_loss did not improve from 2.92095\n",
            "359/359 [==============================] - 17s 47ms/step - loss: 2.2714 - accuracy: 0.8532 - val_loss: 3.2293 - val_accuracy: 0.6187\n",
            "Epoch 74/120\n",
            "359/359 [==============================] - ETA: 0s - loss: 2.2470 - accuracy: 0.8633\n",
            "Epoch 00074: val_loss did not improve from 2.92095\n",
            "359/359 [==============================] - 17s 47ms/step - loss: 2.2470 - accuracy: 0.8633 - val_loss: 3.1429 - val_accuracy: 0.6313\n",
            "Epoch 75/120\n",
            "359/359 [==============================] - ETA: 0s - loss: 2.2542 - accuracy: 0.8546\n",
            "Epoch 00075: val_loss did not improve from 2.92095\n",
            "359/359 [==============================] - 17s 47ms/step - loss: 2.2542 - accuracy: 0.8546 - val_loss: 3.0891 - val_accuracy: 0.6250\n",
            "Epoch 76/120\n",
            "359/359 [==============================] - ETA: 0s - loss: 2.2889 - accuracy: 0.8494\n",
            "Epoch 00076: val_loss improved from 2.92095 to 2.91244, saving model to /content/drive/My Drive/KTH-Colour/Inspection3_GreyScale_SGDK-Th.h5\n",
            "359/359 [==============================] - 18s 51ms/step - loss: 2.2889 - accuracy: 0.8494 - val_loss: 2.9124 - val_accuracy: 0.6875\n",
            "Epoch 77/120\n",
            "359/359 [==============================] - ETA: 0s - loss: 2.2288 - accuracy: 0.8720\n",
            "Epoch 00077: val_loss did not improve from 2.91244\n",
            "359/359 [==============================] - 17s 47ms/step - loss: 2.2288 - accuracy: 0.8720 - val_loss: 2.9412 - val_accuracy: 0.6875\n",
            "Epoch 78/120\n",
            "358/359 [============================>.] - ETA: 0s - loss: 2.2528 - accuracy: 0.8559\n",
            "Epoch 00078: val_loss did not improve from 2.91244\n",
            "359/359 [==============================] - 17s 47ms/step - loss: 2.2524 - accuracy: 0.8560 - val_loss: 2.9932 - val_accuracy: 0.6500\n",
            "Epoch 79/120\n",
            "359/359 [==============================] - ETA: 0s - loss: 2.2324 - accuracy: 0.8658\n",
            "Epoch 00079: val_loss did not improve from 2.91244\n",
            "359/359 [==============================] - 17s 47ms/step - loss: 2.2324 - accuracy: 0.8658 - val_loss: 3.0794 - val_accuracy: 0.6000\n",
            "Epoch 80/120\n",
            "358/359 [============================>.] - ETA: 0s - loss: 2.2001 - accuracy: 0.8759\n",
            "Epoch 00080: val_loss did not improve from 2.91244\n",
            "359/359 [==============================] - 17s 47ms/step - loss: 2.2004 - accuracy: 0.8759 - val_loss: 3.0690 - val_accuracy: 0.6562\n",
            "Epoch 81/120\n",
            "359/359 [==============================] - ETA: 0s - loss: 2.2366 - accuracy: 0.8689\n",
            "Epoch 00081: val_loss did not improve from 2.91244\n",
            "359/359 [==============================] - 17s 47ms/step - loss: 2.2366 - accuracy: 0.8689 - val_loss: 3.0489 - val_accuracy: 0.6438\n",
            "Epoch 82/120\n",
            "359/359 [==============================] - ETA: 0s - loss: 2.2274 - accuracy: 0.8602\n",
            "Epoch 00082: val_loss did not improve from 2.91244\n",
            "359/359 [==============================] - 17s 47ms/step - loss: 2.2274 - accuracy: 0.8602 - val_loss: 2.9541 - val_accuracy: 0.6812\n",
            "Epoch 83/120\n",
            "358/359 [============================>.] - ETA: 0s - loss: 2.2191 - accuracy: 0.8724\n",
            "Epoch 00083: val_loss did not improve from 2.91244\n",
            "359/359 [==============================] - 17s 47ms/step - loss: 2.2193 - accuracy: 0.8720 - val_loss: 3.0554 - val_accuracy: 0.6313\n",
            "Epoch 84/120\n",
            "359/359 [==============================] - ETA: 0s - loss: 2.2198 - accuracy: 0.8623\n",
            "Epoch 00084: val_loss did not improve from 2.91244\n",
            "359/359 [==============================] - 17s 47ms/step - loss: 2.2198 - accuracy: 0.8623 - val_loss: 3.1872 - val_accuracy: 0.6187\n",
            "Epoch 85/120\n",
            "359/359 [==============================] - ETA: 0s - loss: 2.2330 - accuracy: 0.8574\n",
            "Epoch 00085: val_loss did not improve from 2.91244\n",
            "359/359 [==============================] - 17s 47ms/step - loss: 2.2330 - accuracy: 0.8574 - val_loss: 3.2176 - val_accuracy: 0.5938\n",
            "Epoch 86/120\n",
            "359/359 [==============================] - ETA: 0s - loss: 2.1965 - accuracy: 0.8637\n",
            "Epoch 00086: val_loss did not improve from 2.91244\n",
            "359/359 [==============================] - 17s 47ms/step - loss: 2.1965 - accuracy: 0.8637 - val_loss: 3.1295 - val_accuracy: 0.6125\n",
            "Epoch 87/120\n",
            "359/359 [==============================] - ETA: 0s - loss: 2.1942 - accuracy: 0.8692\n",
            "Epoch 00087: val_loss did not improve from 2.91244\n",
            "359/359 [==============================] - 17s 47ms/step - loss: 2.1942 - accuracy: 0.8692 - val_loss: 3.0370 - val_accuracy: 0.6687\n",
            "Epoch 88/120\n",
            "359/359 [==============================] - ETA: 0s - loss: 2.2091 - accuracy: 0.8637\n",
            "Epoch 00088: val_loss did not improve from 2.91244\n",
            "359/359 [==============================] - 17s 47ms/step - loss: 2.2091 - accuracy: 0.8637 - val_loss: 3.0010 - val_accuracy: 0.6875\n",
            "Epoch 89/120\n",
            "359/359 [==============================] - ETA: 0s - loss: 2.1960 - accuracy: 0.8710\n",
            "Epoch 00089: val_loss did not improve from 2.91244\n",
            "359/359 [==============================] - 17s 47ms/step - loss: 2.1960 - accuracy: 0.8710 - val_loss: 3.0173 - val_accuracy: 0.6438\n",
            "Epoch 90/120\n",
            "359/359 [==============================] - ETA: 0s - loss: 2.1990 - accuracy: 0.8741\n",
            "Epoch 00090: val_loss did not improve from 2.91244\n",
            "359/359 [==============================] - 17s 47ms/step - loss: 2.1990 - accuracy: 0.8741 - val_loss: 3.0455 - val_accuracy: 0.6562\n",
            "Epoch 91/120\n",
            "359/359 [==============================] - ETA: 0s - loss: 2.1651 - accuracy: 0.8794\n",
            "Epoch 00091: val_loss did not improve from 2.91244\n",
            "359/359 [==============================] - 17s 47ms/step - loss: 2.1651 - accuracy: 0.8794 - val_loss: 2.9988 - val_accuracy: 0.6625\n",
            "Epoch 92/120\n",
            "359/359 [==============================] - ETA: 0s - loss: 2.1871 - accuracy: 0.8616\n",
            "Epoch 00092: val_loss did not improve from 2.91244\n",
            "359/359 [==============================] - 17s 47ms/step - loss: 2.1871 - accuracy: 0.8616 - val_loss: 3.2495 - val_accuracy: 0.5750\n",
            "Epoch 93/120\n",
            "359/359 [==============================] - ETA: 0s - loss: 2.1641 - accuracy: 0.8734\n",
            "Epoch 00093: val_loss did not improve from 2.91244\n",
            "359/359 [==============================] - 17s 47ms/step - loss: 2.1641 - accuracy: 0.8734 - val_loss: 3.1125 - val_accuracy: 0.6125\n",
            "Epoch 94/120\n",
            "359/359 [==============================] - ETA: 0s - loss: 2.1676 - accuracy: 0.8745\n",
            "Epoch 00094: val_loss did not improve from 2.91244\n",
            "359/359 [==============================] - 17s 47ms/step - loss: 2.1676 - accuracy: 0.8745 - val_loss: 3.0780 - val_accuracy: 0.6062\n",
            "Epoch 95/120\n",
            "359/359 [==============================] - ETA: 0s - loss: 2.1604 - accuracy: 0.8794\n",
            "Epoch 00095: val_loss improved from 2.91244 to 2.85741, saving model to /content/drive/My Drive/KTH-Colour/Inspection3_GreyScale_SGDK-Th.h5\n",
            "359/359 [==============================] - 18s 51ms/step - loss: 2.1604 - accuracy: 0.8794 - val_loss: 2.8574 - val_accuracy: 0.6875\n",
            "Epoch 96/120\n",
            "359/359 [==============================] - ETA: 0s - loss: 2.1763 - accuracy: 0.8692\n",
            "Epoch 00096: val_loss did not improve from 2.85741\n",
            "359/359 [==============================] - 17s 47ms/step - loss: 2.1763 - accuracy: 0.8692 - val_loss: 3.0269 - val_accuracy: 0.6250\n",
            "Epoch 97/120\n",
            "359/359 [==============================] - ETA: 0s - loss: 2.1716 - accuracy: 0.8651\n",
            "Epoch 00097: val_loss did not improve from 2.85741\n",
            "359/359 [==============================] - 17s 47ms/step - loss: 2.1716 - accuracy: 0.8651 - val_loss: 3.0400 - val_accuracy: 0.6313\n",
            "Epoch 98/120\n",
            "358/359 [============================>.] - ETA: 0s - loss: 2.1649 - accuracy: 0.8748\n",
            "Epoch 00098: val_loss did not improve from 2.85741\n",
            "359/359 [==============================] - 17s 47ms/step - loss: 2.1648 - accuracy: 0.8748 - val_loss: 3.1736 - val_accuracy: 0.6187\n",
            "Epoch 99/120\n",
            "359/359 [==============================] - ETA: 0s - loss: 2.1461 - accuracy: 0.8762\n",
            "Epoch 00099: val_loss did not improve from 2.85741\n",
            "359/359 [==============================] - 17s 47ms/step - loss: 2.1461 - accuracy: 0.8762 - val_loss: 3.1436 - val_accuracy: 0.6125\n",
            "Epoch 100/120\n",
            "359/359 [==============================] - ETA: 0s - loss: 2.1480 - accuracy: 0.8773\n",
            "Epoch 00100: val_loss did not improve from 2.85741\n",
            "359/359 [==============================] - 17s 47ms/step - loss: 2.1480 - accuracy: 0.8773 - val_loss: 3.1335 - val_accuracy: 0.6375\n",
            "Epoch 101/120\n",
            "358/359 [============================>.] - ETA: 0s - loss: 2.1581 - accuracy: 0.8724\n",
            "Epoch 00101: val_loss did not improve from 2.85741\n",
            "359/359 [==============================] - 17s 47ms/step - loss: 2.1576 - accuracy: 0.8724 - val_loss: 3.1723 - val_accuracy: 0.6187\n",
            "Epoch 102/120\n",
            "359/359 [==============================] - ETA: 0s - loss: 2.1421 - accuracy: 0.8821\n",
            "Epoch 00102: val_loss did not improve from 2.85741\n",
            "359/359 [==============================] - 17s 47ms/step - loss: 2.1421 - accuracy: 0.8821 - val_loss: 3.3251 - val_accuracy: 0.5625\n",
            "Epoch 103/120\n",
            "359/359 [==============================] - ETA: 0s - loss: 2.1236 - accuracy: 0.8794\n",
            "Epoch 00103: val_loss did not improve from 2.85741\n",
            "359/359 [==============================] - 17s 47ms/step - loss: 2.1236 - accuracy: 0.8794 - val_loss: 3.0693 - val_accuracy: 0.6313\n",
            "Epoch 104/120\n",
            "359/359 [==============================] - ETA: 0s - loss: 2.0837 - accuracy: 0.9020\n",
            "Epoch 00104: val_loss did not improve from 2.85741\n",
            "359/359 [==============================] - 17s 47ms/step - loss: 2.0837 - accuracy: 0.9020 - val_loss: 2.9521 - val_accuracy: 0.6687\n",
            "Epoch 105/120\n",
            "359/359 [==============================] - ETA: 0s - loss: 2.1401 - accuracy: 0.8745\n",
            "Epoch 00105: val_loss did not improve from 2.85741\n",
            "359/359 [==============================] - 17s 47ms/step - loss: 2.1401 - accuracy: 0.8745 - val_loss: 3.1380 - val_accuracy: 0.6438\n",
            "Epoch 106/120\n",
            "359/359 [==============================] - ETA: 0s - loss: 2.1193 - accuracy: 0.8825\n",
            "Epoch 00106: val_loss did not improve from 2.85741\n",
            "359/359 [==============================] - 17s 47ms/step - loss: 2.1193 - accuracy: 0.8825 - val_loss: 3.0973 - val_accuracy: 0.6125\n",
            "Epoch 107/120\n",
            "359/359 [==============================] - ETA: 0s - loss: 2.1151 - accuracy: 0.8842\n",
            "Epoch 00107: val_loss did not improve from 2.85741\n",
            "359/359 [==============================] - 17s 47ms/step - loss: 2.1151 - accuracy: 0.8842 - val_loss: 3.1426 - val_accuracy: 0.6062\n",
            "Epoch 108/120\n",
            "359/359 [==============================] - ETA: 0s - loss: 2.1380 - accuracy: 0.8699\n",
            "Epoch 00108: val_loss did not improve from 2.85741\n",
            "359/359 [==============================] - 17s 47ms/step - loss: 2.1380 - accuracy: 0.8699 - val_loss: 2.9831 - val_accuracy: 0.6500\n",
            "Epoch 109/120\n",
            "359/359 [==============================] - ETA: 0s - loss: 2.1086 - accuracy: 0.8832\n",
            "Epoch 00109: val_loss did not improve from 2.85741\n",
            "359/359 [==============================] - 17s 47ms/step - loss: 2.1086 - accuracy: 0.8832 - val_loss: 3.2160 - val_accuracy: 0.6187\n",
            "Epoch 110/120\n",
            "359/359 [==============================] - ETA: 0s - loss: 2.1192 - accuracy: 0.8804\n",
            "Epoch 00110: val_loss did not improve from 2.85741\n",
            "359/359 [==============================] - 17s 47ms/step - loss: 2.1192 - accuracy: 0.8804 - val_loss: 2.9406 - val_accuracy: 0.6687\n",
            "Epoch 111/120\n",
            "359/359 [==============================] - ETA: 0s - loss: 2.1153 - accuracy: 0.8741\n",
            "Epoch 00111: val_loss did not improve from 2.85741\n",
            "359/359 [==============================] - 17s 47ms/step - loss: 2.1153 - accuracy: 0.8741 - val_loss: 3.3354 - val_accuracy: 0.5500\n",
            "Epoch 112/120\n",
            "359/359 [==============================] - ETA: 0s - loss: 2.0941 - accuracy: 0.8874\n",
            "Epoch 00112: val_loss did not improve from 2.85741\n",
            "359/359 [==============================] - 17s 47ms/step - loss: 2.0941 - accuracy: 0.8874 - val_loss: 3.4151 - val_accuracy: 0.5875\n",
            "Epoch 113/120\n",
            "359/359 [==============================] - ETA: 0s - loss: 2.1015 - accuracy: 0.8745\n",
            "Epoch 00113: val_loss did not improve from 2.85741\n",
            "359/359 [==============================] - 17s 47ms/step - loss: 2.1015 - accuracy: 0.8745 - val_loss: 3.0580 - val_accuracy: 0.6313\n",
            "Epoch 114/120\n",
            "359/359 [==============================] - ETA: 0s - loss: 2.0718 - accuracy: 0.8884\n",
            "Epoch 00114: val_loss did not improve from 2.85741\n",
            "359/359 [==============================] - 17s 47ms/step - loss: 2.0718 - accuracy: 0.8884 - val_loss: 3.2127 - val_accuracy: 0.6125\n",
            "Epoch 115/120\n",
            "359/359 [==============================] - ETA: 0s - loss: 2.0748 - accuracy: 0.8950\n",
            "Epoch 00115: val_loss did not improve from 2.85741\n",
            "359/359 [==============================] - 17s 47ms/step - loss: 2.0748 - accuracy: 0.8950 - val_loss: 3.1437 - val_accuracy: 0.6187\n",
            "Epoch 116/120\n",
            "359/359 [==============================] - ETA: 0s - loss: 2.1097 - accuracy: 0.8713\n",
            "Epoch 00116: val_loss did not improve from 2.85741\n",
            "359/359 [==============================] - 17s 47ms/step - loss: 2.1097 - accuracy: 0.8713 - val_loss: 3.2082 - val_accuracy: 0.6125\n",
            "Epoch 117/120\n",
            "359/359 [==============================] - ETA: 0s - loss: 2.0826 - accuracy: 0.8815\n",
            "Epoch 00117: val_loss did not improve from 2.85741\n",
            "359/359 [==============================] - 17s 47ms/step - loss: 2.0826 - accuracy: 0.8815 - val_loss: 3.1689 - val_accuracy: 0.6438\n",
            "Epoch 118/120\n",
            "358/359 [============================>.] - ETA: 0s - loss: 2.0860 - accuracy: 0.8818\n",
            "Epoch 00118: val_loss did not improve from 2.85741\n",
            "359/359 [==============================] - 17s 47ms/step - loss: 2.0853 - accuracy: 0.8818 - val_loss: 3.2284 - val_accuracy: 0.6313\n",
            "Epoch 119/120\n",
            "359/359 [==============================] - ETA: 0s - loss: 2.0700 - accuracy: 0.8947\n",
            "Epoch 00119: val_loss did not improve from 2.85741\n",
            "359/359 [==============================] - 17s 47ms/step - loss: 2.0700 - accuracy: 0.8947 - val_loss: 3.1231 - val_accuracy: 0.6313\n",
            "Epoch 120/120\n",
            "359/359 [==============================] - ETA: 0s - loss: 2.0591 - accuracy: 0.8916\n",
            "Epoch 00120: val_loss did not improve from 2.85741\n",
            "359/359 [==============================] - 17s 47ms/step - loss: 2.0591 - accuracy: 0.8916 - val_loss: 3.2599 - val_accuracy: 0.5875\n"
          ],
          "name": "stdout"
        }
      ]
    },
    {
      "cell_type": "code",
      "metadata": {
        "id": "7rddNBrFJWH5",
        "colab_type": "code",
        "colab": {
          "base_uri": "https://localhost:8080/",
          "height": 295
        },
        "outputId": "4138d032-1b58-4ff3-9c2a-91b37736c846"
      },
      "source": [
        "import matplotlib.pyplot as plt\n",
        "plt.plot(hist.history[\"accuracy\"])\n",
        "plt.plot(hist.history['val_accuracy'])\n",
        "plt.title(\"model accuracy\")\n",
        "plt.ylabel(\"Accuracy\")\n",
        "plt.xlabel(\"Epoch\")\n",
        "plt.legend([\"Accuracy\",\"Validation Accuracy\"])\n",
        "plt.show()"
      ],
      "execution_count": 23,
      "outputs": [
        {
          "output_type": "display_data",
          "data": {
            "image/png": "[encoded data removed]",
            "text/plain": [
              "<Figure size 432x288 with 1 Axes>"
            ]
          },
          "metadata": {
            "tags": [],
            "needs_background": "light"
          }
        }
      ]
    },
    {
      "cell_type": "code",
      "metadata": {
        "id": "Tk4bvR-UJbm1",
        "colab_type": "code",
        "colab": {
          "base_uri": "https://localhost:8080/",
          "height": 295
        },
        "outputId": "2a63e7b7-ae38-475c-ae4b-852ed794098e"
      },
      "source": [
        "plt.plot(hist.history['loss'])\n",
        "plt.plot(hist.history['val_loss'])\n",
        "plt.title(\"model Loss\")\n",
        "plt.ylabel(\"Loss\")\n",
        "plt.xlabel(\"Epoch\")\n",
        "plt.legend([\"Loss\",\"Validation Loss\"])\n",
        "plt.show()"
      ],
      "execution_count": 24,
      "outputs": [
        {
          "output_type": "display_data",
          "data": {
            "image/png": "[encoded data removed]",
            "text/plain": [
              "<Figure size 432x288 with 1 Axes>"
            ]
          },
          "metadata": {
            "tags": [],
            "needs_background": "light"
          }
        }
      ]
    },
    {
      "cell_type": "code",
      "metadata": {
        "id": "YnKgsbT2Jn1K",
        "colab_type": "code",
        "colab": {
          "base_uri": "https://localhost:8080/",
          "height": 34
        },
        "outputId": "e4caaa26-3e03-4759-816c-946e2ffd8345"
      },
      "source": [
        "GreyTestData = TestGenerator.flow_from_directory('/content/drive/My Drive/KTH-Colour/Test/', target_size=(224,224), batch_size = 8, shuffle = False, color_mode='grayscale')"
      ],
      "execution_count": 25,
      "outputs": [
        {
          "output_type": "stream",
          "text": [
            "Found 166 images belonging to 11 classes.\n"
          ],
          "name": "stdout"
        }
      ]
    },
    {
      "cell_type": "code",
      "metadata": {
        "id": "I8Gg_F49Jw28",
        "colab_type": "code",
        "colab": {}
      },
      "source": [
        "Grey_predict = model.predict(GreyTestData)"
      ],
      "execution_count": 26,
      "outputs": []
    },
    {
      "cell_type": "code",
      "metadata": {
        "id": "O37PVgcGJ4YO",
        "colab_type": "code",
        "colab": {}
      },
      "source": [
        "Grey_predict_classes = np.argmax(Grey_predict, axis=1)"
      ],
      "execution_count": 27,
      "outputs": []
    },
    {
      "cell_type": "code",
      "metadata": {
        "id": "ssASZqHcKCdz",
        "colab_type": "code",
        "colab": {
          "base_uri": "https://localhost:8080/",
          "height": 187
        },
        "outputId": "5a5f16fa-a795-473a-8070-6153a3f33892"
      },
      "source": [
        "Grey_predict_classes"
      ],
      "execution_count": 28,
      "outputs": [
        {
          "output_type": "execute_result",
          "data": {
            "text/plain": [
              "array([ 0,  9,  0,  0,  6,  0,  6,  3,  0,  6,  6,  6,  4,  6,  6,  0,  6,\n",
              "        6,  6,  6,  6,  0,  4,  1,  1,  1,  1,  2,  2,  2,  2,  2,  2,  2,\n",
              "        2,  2,  2,  2,  2,  2,  2,  2,  2,  2,  2,  2,  2,  2,  2,  2,  2,\n",
              "        2,  2,  4,  5,  6,  4,  4,  2,  4,  4,  9,  6,  8,  4,  2,  3,  4,\n",
              "        4,  4,  4,  3,  3,  9,  4,  4,  4,  4,  4,  4,  4,  4,  4,  4,  4,\n",
              "        4,  4,  4,  4,  4,  4,  4,  4,  4,  4,  4,  4,  4,  4,  4,  4,  1,\n",
              "        4,  5,  5,  4,  4,  6,  6,  4,  4,  4,  6,  6,  4,  6,  6,  6,  4,\n",
              "        4,  6,  6,  6,  6,  4,  6,  4,  4,  6,  2,  4,  4,  4,  4,  4,  4,\n",
              "        8,  4,  4,  9,  9,  4,  4,  4, 10, 10,  4,  4, 10,  6,  6, 10,  9,\n",
              "       10, 10, 10,  2, 10, 10, 10, 10, 10, 10, 10, 10,  6])"
            ]
          },
          "metadata": {
            "tags": []
          },
          "execution_count": 28
        }
      ]
    },
    {
      "cell_type": "code",
      "metadata": {
        "id": "HvCrugUfKG0L",
        "colab_type": "code",
        "colab": {}
      },
      "source": [
        "from sklearn.metrics import accuracy_score\n",
        "from sklearn.metrics import precision_score\n",
        "from sklearn.metrics import recall_score\n",
        "from sklearn.metrics import f1_score\n",
        "from sklearn.metrics import cohen_kappa_score\n",
        "from sklearn.metrics import roc_auc_score"
      ],
      "execution_count": 29,
      "outputs": []
    },
    {
      "cell_type": "code",
      "metadata": {
        "id": "eOWWlroCKJXK",
        "colab_type": "code",
        "colab": {
          "base_uri": "https://localhost:8080/",
          "height": 34
        },
        "outputId": "e30ac441-4a5f-48c6-ae4d-071e1fd6e6fd"
      },
      "source": [
        "Grey_accuracy = accuracy_score(GreyTestData.classes, Grey_predict_classes)\n",
        "print(\"Grey Accuracy: \", Grey_accuracy)"
      ],
      "execution_count": 30,
      "outputs": [
        {
          "output_type": "stream",
          "text": [
            "Grey Accuracy:  0.5963855421686747\n"
          ],
          "name": "stdout"
        }
      ]
    },
    {
      "cell_type": "code",
      "metadata": {
        "id": "qT8GZ8SWKQsZ",
        "colab_type": "code",
        "colab": {
          "base_uri": "https://localhost:8080/",
          "height": 88
        },
        "outputId": "afefe82f-a49d-40d4-94f9-5fb8431368f8"
      },
      "source": [
        "Grey_precision = precision_score(GreyTestData.classes, Grey_predict_classes,average=\"weighted\")\n",
        "print(\"Grey Precision: \", Grey_precision)"
      ],
      "execution_count": 31,
      "outputs": [
        {
          "output_type": "stream",
          "text": [
            "Grey Precision:  0.6969628514056225\n"
          ],
          "name": "stdout"
        },
        {
          "output_type": "stream",
          "text": [
            "/usr/local/lib/python3.6/dist-packages/sklearn/metrics/_classification.py:1272: UndefinedMetricWarning: Precision is ill-defined and being set to 0.0 in labels with no predicted samples. Use `zero_division` parameter to control this behavior.\n",
            "  _warn_prf(average, modifier, msg_start, len(result))\n"
          ],
          "name": "stderr"
        }
      ]
    },
    {
      "cell_type": "code",
      "metadata": {
        "id": "4vaMESfPKXYT",
        "colab_type": "code",
        "colab": {
          "base_uri": "https://localhost:8080/",
          "height": 34
        },
        "outputId": "d8ba08b5-c58e-4ae8-9a95-b72fb887af72"
      },
      "source": [
        "Grey_recall = recall_score(GreyTestData.classes, Grey_predict_classes, average=\"weighted\")\n",
        "print(\"Grey Recall:\", Grey_recall)"
      ],
      "execution_count": 32,
      "outputs": [
        {
          "output_type": "stream",
          "text": [
            "Grey Recall: 0.5963855421686747\n"
          ],
          "name": "stdout"
        }
      ]
    },
    {
      "cell_type": "code",
      "metadata": {
        "id": "ArX8LkQ3KbDn",
        "colab_type": "code",
        "colab": {
          "base_uri": "https://localhost:8080/",
          "height": 34
        },
        "outputId": "802ababb-cb01-4b48-fdf1-421a2012c4e6"
      },
      "source": [
        "Grey_f1_score = f1_score(GreyTestData.classes, Grey_predict_classes, average=\"weighted\")\n",
        "print(\"F1 score for Grey: \", Grey_f1_score)"
      ],
      "execution_count": 33,
      "outputs": [
        {
          "output_type": "stream",
          "text": [
            "F1 score for Grey:  0.5680989520416193\n"
          ],
          "name": "stdout"
        }
      ]
    },
    {
      "cell_type": "markdown",
      "metadata": {
        "id": "JE2Pmwq4KvbW",
        "colab_type": "text"
      },
      "source": [
        "**Processing for colour Data.**"
      ]
    },
    {
      "cell_type": "code",
      "metadata": {
        "id": "eI7an7B8K1Iy",
        "colab_type": "code",
        "colab": {
          "base_uri": "https://localhost:8080/",
          "height": 34
        },
        "outputId": "f2f1ffba-fa29-4e8f-85ca-adaba6edfc9a"
      },
      "source": [
        "Colour_TrainingData =  DataGenerator.flow_from_directory('/content/drive/My Drive/KTH-Colour/Train-dataset/', target_size=(224,224), batch_size=8)"
      ],
      "execution_count": 34,
      "outputs": [
        {
          "output_type": "stream",
          "text": [
            "Found 2868 images belonging to 11 classes.\n"
          ],
          "name": "stdout"
        }
      ]
    },
    {
      "cell_type": "code",
      "metadata": {
        "id": "XZrczUjKLUa7",
        "colab_type": "code",
        "colab": {
          "base_uri": "https://localhost:8080/",
          "height": 34
        },
        "outputId": "11e8c80c-1232-4a55-a925-4d9a3acf3baa"
      },
      "source": [
        "Colour_ValidData =  TestGenerator.flow_from_directory('/content/drive/My Drive/KTH-Colour/valid/', target_size=(224,224), batch_size=8)"
      ],
      "execution_count": 35,
      "outputs": [
        {
          "output_type": "stream",
          "text": [
            "Found 161 images belonging to 11 classes.\n"
          ],
          "name": "stdout"
        }
      ]
    },
    {
      "cell_type": "code",
      "metadata": {
        "id": "uOOU7KB1LhAX",
        "colab_type": "code",
        "colab": {}
      },
      "source": [
        "conv_base_colour = InceptionV3(weights = 'imagenet', include_top = False, pooling = 'avg')"
      ],
      "execution_count": 36,
      "outputs": []
    },
    {
      "cell_type": "code",
      "metadata": {
        "id": "SvVV5qnxLpMI",
        "colab_type": "code",
        "colab": {
          "base_uri": "https://localhost:8080/",
          "height": 34
        },
        "outputId": "d0539c16-2de3-40da-9a19-f35c1a0f629a"
      },
      "source": [
        "for layer in conv_base_colour.layers[:299]:\n",
        "  layer.trainable = False\n",
        "for layer in conv_base_colour.layers[299:]:\n",
        "  layer.trainable = True\n",
        "for layer in conv_base_colour.layers:\n",
        "  if isinstance(layer, BatchNormalization):\n",
        "    layer.trainable = True\n",
        "\n",
        "print(\"Done\")"
      ],
      "execution_count": 37,
      "outputs": [
        {
          "output_type": "stream",
          "text": [
            "Done\n"
          ],
          "name": "stdout"
        }
      ]
    },
    {
      "cell_type": "code",
      "metadata": {
        "id": "u4DVU5NALssh",
        "colab_type": "code",
        "colab": {
          "base_uri": "https://localhost:8080/",
          "height": 1000
        },
        "outputId": "eaf81e37-e5a9-4e95-fc86-88de1f7487bd"
      },
      "source": [
        "for i, layer in enumerate(conv_base_colour.layers):\n",
        "   print(i, layer.name, layer.trainable)"
      ],
      "execution_count": 38,
      "outputs": [
        {
          "output_type": "stream",
          "text": [
            "0 input_3 False\n",
            "1 conv2d_95 False\n",
            "2 batch_normalization_94 True\n",
            "3 activation_94 False\n",
            "4 conv2d_96 False\n",
            "5 batch_normalization_95 True\n",
            "6 activation_95 False\n",
            "7 conv2d_97 False\n",
            "8 batch_normalization_96 True\n",
            "9 activation_96 False\n",
            "10 max_pooling2d_4 False\n",
            "11 conv2d_98 False\n",
            "12 batch_normalization_97 True\n",
            "13 activation_97 False\n",
            "14 conv2d_99 False\n",
            "15 batch_normalization_98 True\n",
            "16 activation_98 False\n",
            "17 max_pooling2d_5 False\n",
            "18 conv2d_103 False\n",
            "19 batch_normalization_102 True\n",
            "20 activation_102 False\n",
            "21 conv2d_101 False\n",
            "22 conv2d_104 False\n",
            "23 batch_normalization_100 True\n",
            "24 batch_normalization_103 True\n",
            "25 activation_100 False\n",
            "26 activation_103 False\n",
            "27 average_pooling2d_9 False\n",
            "28 conv2d_100 False\n",
            "29 conv2d_102 False\n",
            "30 conv2d_105 False\n",
            "31 conv2d_106 False\n",
            "32 batch_normalization_99 True\n",
            "33 batch_normalization_101 True\n",
            "34 batch_normalization_104 True\n",
            "35 batch_normalization_105 True\n",
            "36 activation_99 False\n",
            "37 activation_101 False\n",
            "38 activation_104 False\n",
            "39 activation_105 False\n",
            "40 mixed0 False\n",
            "41 conv2d_110 False\n",
            "42 batch_normalization_109 True\n",
            "43 activation_109 False\n",
            "44 conv2d_108 False\n",
            "45 conv2d_111 False\n",
            "46 batch_normalization_107 True\n",
            "47 batch_normalization_110 True\n",
            "48 activation_107 False\n",
            "49 activation_110 False\n",
            "50 average_pooling2d_10 False\n",
            "51 conv2d_107 False\n",
            "52 conv2d_109 False\n",
            "53 conv2d_112 False\n",
            "54 conv2d_113 False\n",
            "55 batch_normalization_106 True\n",
            "56 batch_normalization_108 True\n",
            "57 batch_normalization_111 True\n",
            "58 batch_normalization_112 True\n",
            "59 activation_106 False\n",
            "60 activation_108 False\n",
            "61 activation_111 False\n",
            "62 activation_112 False\n",
            "63 mixed1 False\n",
            "64 conv2d_117 False\n",
            "65 batch_normalization_116 True\n",
            "66 activation_116 False\n",
            "67 conv2d_115 False\n",
            "68 conv2d_118 False\n",
            "69 batch_normalization_114 True\n",
            "70 batch_normalization_117 True\n",
            "71 activation_114 False\n",
            "72 activation_117 False\n",
            "73 average_pooling2d_11 False\n",
            "74 conv2d_114 False\n",
            "75 conv2d_116 False\n",
            "76 conv2d_119 False\n",
            "77 conv2d_120 False\n",
            "78 batch_normalization_113 True\n",
            "79 batch_normalization_115 True\n",
            "80 batch_normalization_118 True\n",
            "81 batch_normalization_119 True\n",
            "82 activation_113 False\n",
            "83 activation_115 False\n",
            "84 activation_118 False\n",
            "85 activation_119 False\n",
            "86 mixed2 False\n",
            "87 conv2d_122 False\n",
            "88 batch_normalization_121 True\n",
            "89 activation_121 False\n",
            "90 conv2d_123 False\n",
            "91 batch_normalization_122 True\n",
            "92 activation_122 False\n",
            "93 conv2d_121 False\n",
            "94 conv2d_124 False\n",
            "95 batch_normalization_120 True\n",
            "96 batch_normalization_123 True\n",
            "97 activation_120 False\n",
            "98 activation_123 False\n",
            "99 max_pooling2d_6 False\n",
            "100 mixed3 False\n",
            "101 conv2d_129 False\n",
            "102 batch_normalization_128 True\n",
            "103 activation_128 False\n",
            "104 conv2d_130 False\n",
            "105 batch_normalization_129 True\n",
            "106 activation_129 False\n",
            "107 conv2d_126 False\n",
            "108 conv2d_131 False\n",
            "109 batch_normalization_125 True\n",
            "110 batch_normalization_130 True\n",
            "111 activation_125 False\n",
            "112 activation_130 False\n",
            "113 conv2d_127 False\n",
            "114 conv2d_132 False\n",
            "115 batch_normalization_126 True\n",
            "116 batch_normalization_131 True\n",
            "117 activation_126 False\n",
            "118 activation_131 False\n",
            "119 average_pooling2d_12 False\n",
            "120 conv2d_125 False\n",
            "121 conv2d_128 False\n",
            "122 conv2d_133 False\n",
            "123 conv2d_134 False\n",
            "124 batch_normalization_124 True\n",
            "125 batch_normalization_127 True\n",
            "126 batch_normalization_132 True\n",
            "127 batch_normalization_133 True\n",
            "128 activation_124 False\n",
            "129 activation_127 False\n",
            "130 activation_132 False\n",
            "131 activation_133 False\n",
            "132 mixed4 False\n",
            "133 conv2d_139 False\n",
            "134 batch_normalization_138 True\n",
            "135 activation_138 False\n",
            "136 conv2d_140 False\n",
            "137 batch_normalization_139 True\n",
            "138 activation_139 False\n",
            "139 conv2d_136 False\n",
            "140 conv2d_141 False\n",
            "141 batch_normalization_135 True\n",
            "142 batch_normalization_140 True\n",
            "143 activation_135 False\n",
            "144 activation_140 False\n",
            "145 conv2d_137 False\n",
            "146 conv2d_142 False\n",
            "147 batch_normalization_136 True\n",
            "148 batch_normalization_141 True\n",
            "149 activation_136 False\n",
            "150 activation_141 False\n",
            "151 average_pooling2d_13 False\n",
            "152 conv2d_135 False\n",
            "153 conv2d_138 False\n",
            "154 conv2d_143 False\n",
            "155 conv2d_144 False\n",
            "156 batch_normalization_134 True\n",
            "157 batch_normalization_137 True\n",
            "158 batch_normalization_142 True\n",
            "159 batch_normalization_143 True\n",
            "160 activation_134 False\n",
            "161 activation_137 False\n",
            "162 activation_142 False\n",
            "163 activation_143 False\n",
            "164 mixed5 False\n",
            "165 conv2d_149 False\n",
            "166 batch_normalization_148 True\n",
            "167 activation_148 False\n",
            "168 conv2d_150 False\n",
            "169 batch_normalization_149 True\n",
            "170 activation_149 False\n",
            "171 conv2d_146 False\n",
            "172 conv2d_151 False\n",
            "173 batch_normalization_145 True\n",
            "174 batch_normalization_150 True\n",
            "175 activation_145 False\n",
            "176 activation_150 False\n",
            "177 conv2d_147 False\n",
            "178 conv2d_152 False\n",
            "179 batch_normalization_146 True\n",
            "180 batch_normalization_151 True\n",
            "181 activation_146 False\n",
            "182 activation_151 False\n",
            "183 average_pooling2d_14 False\n",
            "184 conv2d_145 False\n",
            "185 conv2d_148 False\n",
            "186 conv2d_153 False\n",
            "187 conv2d_154 False\n",
            "188 batch_normalization_144 True\n",
            "189 batch_normalization_147 True\n",
            "190 batch_normalization_152 True\n",
            "191 batch_normalization_153 True\n",
            "192 activation_144 False\n",
            "193 activation_147 False\n",
            "194 activation_152 False\n",
            "195 activation_153 False\n",
            "196 mixed6 False\n",
            "197 conv2d_159 False\n",
            "198 batch_normalization_158 True\n",
            "199 activation_158 False\n",
            "200 conv2d_160 False\n",
            "201 batch_normalization_159 True\n",
            "202 activation_159 False\n",
            "203 conv2d_156 False\n",
            "204 conv2d_161 False\n",
            "205 batch_normalization_155 True\n",
            "206 batch_normalization_160 True\n",
            "207 activation_155 False\n",
            "208 activation_160 False\n",
            "209 conv2d_157 False\n",
            "210 conv2d_162 False\n",
            "211 batch_normalization_156 True\n",
            "212 batch_normalization_161 True\n",
            "213 activation_156 False\n",
            "214 activation_161 False\n",
            "215 average_pooling2d_15 False\n",
            "216 conv2d_155 False\n",
            "217 conv2d_158 False\n",
            "218 conv2d_163 False\n",
            "219 conv2d_164 False\n",
            "220 batch_normalization_154 True\n",
            "221 batch_normalization_157 True\n",
            "222 batch_normalization_162 True\n",
            "223 batch_normalization_163 True\n",
            "224 activation_154 False\n",
            "225 activation_157 False\n",
            "226 activation_162 False\n",
            "227 activation_163 False\n",
            "228 mixed7 False\n",
            "229 conv2d_167 False\n",
            "230 batch_normalization_166 True\n",
            "231 activation_166 False\n",
            "232 conv2d_168 False\n",
            "233 batch_normalization_167 True\n",
            "234 activation_167 False\n",
            "235 conv2d_165 False\n",
            "236 conv2d_169 False\n",
            "237 batch_normalization_164 True\n",
            "238 batch_normalization_168 True\n",
            "239 activation_164 False\n",
            "240 activation_168 False\n",
            "241 conv2d_166 False\n",
            "242 conv2d_170 False\n",
            "243 batch_normalization_165 True\n",
            "244 batch_normalization_169 True\n",
            "245 activation_165 False\n",
            "246 activation_169 False\n",
            "247 max_pooling2d_7 False\n",
            "248 mixed8 False\n",
            "249 conv2d_175 False\n",
            "250 batch_normalization_174 True\n",
            "251 activation_174 False\n",
            "252 conv2d_172 False\n",
            "253 conv2d_176 False\n",
            "254 batch_normalization_171 True\n",
            "255 batch_normalization_175 True\n",
            "256 activation_171 False\n",
            "257 activation_175 False\n",
            "258 conv2d_173 False\n",
            "259 conv2d_174 False\n",
            "260 conv2d_177 False\n",
            "261 conv2d_178 False\n",
            "262 average_pooling2d_16 False\n",
            "263 conv2d_171 False\n",
            "264 batch_normalization_172 True\n",
            "265 batch_normalization_173 True\n",
            "266 batch_normalization_176 True\n",
            "267 batch_normalization_177 True\n",
            "268 conv2d_179 False\n",
            "269 batch_normalization_170 True\n",
            "270 activation_172 False\n",
            "271 activation_173 False\n",
            "272 activation_176 False\n",
            "273 activation_177 False\n",
            "274 batch_normalization_178 True\n",
            "275 activation_170 False\n",
            "276 mixed9_0 False\n",
            "277 concatenate_2 False\n",
            "278 activation_178 False\n",
            "279 mixed9 False\n",
            "280 conv2d_184 False\n",
            "281 batch_normalization_183 True\n",
            "282 activation_183 False\n",
            "283 conv2d_181 False\n",
            "284 conv2d_185 False\n",
            "285 batch_normalization_180 True\n",
            "286 batch_normalization_184 True\n",
            "287 activation_180 False\n",
            "288 activation_184 False\n",
            "289 conv2d_182 False\n",
            "290 conv2d_183 False\n",
            "291 conv2d_186 False\n",
            "292 conv2d_187 False\n",
            "293 average_pooling2d_17 False\n",
            "294 conv2d_180 False\n",
            "295 batch_normalization_181 True\n",
            "296 batch_normalization_182 True\n",
            "297 batch_normalization_185 True\n",
            "298 batch_normalization_186 True\n",
            "299 conv2d_188 True\n",
            "300 batch_normalization_179 True\n",
            "301 activation_181 True\n",
            "302 activation_182 True\n",
            "303 activation_185 True\n",
            "304 activation_186 True\n",
            "305 batch_normalization_187 True\n",
            "306 activation_179 True\n",
            "307 mixed9_1 True\n",
            "308 concatenate_3 True\n",
            "309 activation_187 True\n",
            "310 mixed10 True\n",
            "311 global_average_pooling2d_1 True\n"
          ],
          "name": "stdout"
        }
      ]
    },
    {
      "cell_type": "code",
      "metadata": {
        "id": "lPX3WjtrL6rb",
        "colab_type": "code",
        "colab": {}
      },
      "source": [
        "from keras.layers import Input "
      ],
      "execution_count": 39,
      "outputs": []
    },
    {
      "cell_type": "code",
      "metadata": {
        "id": "KBEiiUIqL80Y",
        "colab_type": "code",
        "colab": {}
      },
      "source": [
        "input_tensor = Input(shape=(224,224,3))\n",
        "x = conv_base_colour(input_tensor)"
      ],
      "execution_count": 40,
      "outputs": []
    },
    {
      "cell_type": "code",
      "metadata": {
        "id": "q3uttgFYMEQj",
        "colab_type": "code",
        "colab": {}
      },
      "source": [
        "x = Dense(2048, activation='relu', kernel_regularizer= regularizers.l2(0.001))(x)\n",
        "x = Dropout(0.5)(x)"
      ],
      "execution_count": 41,
      "outputs": []
    },
    {
      "cell_type": "code",
      "metadata": {
        "id": "H9XGPFSfMHfI",
        "colab_type": "code",
        "colab": {}
      },
      "source": [
        "ouput = Dense(11, activation='softmax')(x)"
      ],
      "execution_count": 42,
      "outputs": []
    },
    {
      "cell_type": "code",
      "metadata": {
        "id": "yklGm-IGMLKi",
        "colab_type": "code",
        "colab": {}
      },
      "source": [
        "colour_model = Model(inputs = input_tensor, outputs = ouput )"
      ],
      "execution_count": 43,
      "outputs": []
    },
    {
      "cell_type": "code",
      "metadata": {
        "id": "cI4OUhkgMQTN",
        "colab_type": "code",
        "colab": {}
      },
      "source": [
        "colour_model.compile(loss='categorical_crossentropy',\n",
        "              optimizer=SGD(lr=0.001),\n",
        "              metrics=['accuracy'])"
      ],
      "execution_count": 44,
      "outputs": []
    },
    {
      "cell_type": "code",
      "metadata": {
        "id": "V4v7B5i7Mf33",
        "colab_type": "code",
        "colab": {}
      },
      "source": [
        "from keras.callbacks import ModelCheckpoint, EarlyStopping, ReduceLROnPlateau\n",
        "checkpoint = ModelCheckpoint(\"/content/drive/My Drive/KTH-Colour/Inspectionv3_SGDKTh-colour.h5\",\n",
        "                             monitor=\"val_loss\",\n",
        "                             mode=\"min\",\n",
        "                             save_best_only = True,\n",
        "                             verbose=1)\n",
        "\n",
        "earlystop = EarlyStopping(monitor = 'val_loss', \n",
        "                          min_delta = 0, \n",
        "                          patience = 40,\n",
        "                          verbose = 1,\n",
        "                          restore_best_weights = True)\n",
        "\n",
        "reduce_lr = ReduceLROnPlateau(monitor = 'val_loss',\n",
        "                              factor = 0.2,\n",
        "                              patience = 40,\n",
        "                              verbose = 1,\n",
        "                              min_delta = 0.00001)\n",
        "\n",
        "callBacks = [earlystop, checkpoint, reduce_lr]"
      ],
      "execution_count": 45,
      "outputs": []
    },
    {
      "cell_type": "code",
      "metadata": {
        "id": "yaMZLpsAMz7e",
        "colab_type": "code",
        "colab": {
          "base_uri": "https://localhost:8080/",
          "height": 1000
        },
        "outputId": "407bd9d2-a22d-43a5-d613-147105e13419"
      },
      "source": [
        "hist = colour_model.fit_generator(steps_per_epoch=359,generator= Colour_TrainingData, validation_data= Colour_ValidData, validation_steps=20,epochs=120,callbacks=callBacks)"
      ],
      "execution_count": 46,
      "outputs": [
        {
          "output_type": "stream",
          "text": [
            "Epoch 1/120\n",
            "359/359 [==============================] - ETA: 0s - loss: 4.0244 - accuracy: 0.3264\n",
            "Epoch 00001: val_loss improved from inf to 3.81524, saving model to /content/drive/My Drive/KTH-Colour/Inspectionv3_SGDKTh-colour.h5\n",
            "359/359 [==============================] - 20s 55ms/step - loss: 4.0244 - accuracy: 0.3264 - val_loss: 3.8152 - val_accuracy: 0.4062\n",
            "Epoch 2/120\n",
            "358/359 [============================>.] - ETA: 0s - loss: 3.6135 - accuracy: 0.5325\n",
            "Epoch 00002: val_loss improved from 3.81524 to 3.67066, saving model to /content/drive/My Drive/KTH-Colour/Inspectionv3_SGDKTh-colour.h5\n",
            "359/359 [==============================] - 20s 56ms/step - loss: 3.6135 - accuracy: 0.5324 - val_loss: 3.6707 - val_accuracy: 0.5125\n",
            "Epoch 3/120\n",
            "358/359 [============================>.] - ETA: 0s - loss: 3.3914 - accuracy: 0.5923\n",
            "Epoch 00003: val_loss improved from 3.67066 to 3.54103, saving model to /content/drive/My Drive/KTH-Colour/Inspectionv3_SGDKTh-colour.h5\n",
            "359/359 [==============================] - 19s 54ms/step - loss: 3.3895 - accuracy: 0.5934 - val_loss: 3.5410 - val_accuracy: 0.5125\n",
            "Epoch 4/120\n",
            "358/359 [============================>.] - ETA: 0s - loss: 3.1937 - accuracy: 0.6455\n",
            "Epoch 00004: val_loss improved from 3.54103 to 3.51532, saving model to /content/drive/My Drive/KTH-Colour/Inspectionv3_SGDKTh-colour.h5\n",
            "359/359 [==============================] - 19s 54ms/step - loss: 3.1937 - accuracy: 0.6454 - val_loss: 3.5153 - val_accuracy: 0.5063\n",
            "Epoch 5/120\n",
            "359/359 [==============================] - ETA: 0s - loss: 3.1051 - accuracy: 0.6552\n",
            "Epoch 00005: val_loss improved from 3.51532 to 3.48326, saving model to /content/drive/My Drive/KTH-Colour/Inspectionv3_SGDKTh-colour.h5\n",
            "359/359 [==============================] - 19s 53ms/step - loss: 3.1051 - accuracy: 0.6552 - val_loss: 3.4833 - val_accuracy: 0.5250\n",
            "Epoch 6/120\n",
            "359/359 [==============================] - ETA: 0s - loss: 3.0026 - accuracy: 0.6897\n",
            "Epoch 00006: val_loss improved from 3.48326 to 3.38653, saving model to /content/drive/My Drive/KTH-Colour/Inspectionv3_SGDKTh-colour.h5\n",
            "359/359 [==============================] - 19s 53ms/step - loss: 3.0026 - accuracy: 0.6897 - val_loss: 3.3865 - val_accuracy: 0.5437\n",
            "Epoch 7/120\n",
            "359/359 [==============================] - ETA: 0s - loss: 2.9618 - accuracy: 0.6928\n",
            "Epoch 00007: val_loss improved from 3.38653 to 3.29525, saving model to /content/drive/My Drive/KTH-Colour/Inspectionv3_SGDKTh-colour.h5\n",
            "359/359 [==============================] - 19s 53ms/step - loss: 2.9618 - accuracy: 0.6928 - val_loss: 3.2952 - val_accuracy: 0.5562\n",
            "Epoch 8/120\n",
            "358/359 [============================>.] - ETA: 0s - loss: 2.8891 - accuracy: 0.7150\n",
            "Epoch 00008: val_loss did not improve from 3.29525\n",
            "359/359 [==============================] - 18s 51ms/step - loss: 2.8886 - accuracy: 0.7148 - val_loss: 3.4061 - val_accuracy: 0.5312\n",
            "Epoch 9/120\n",
            "358/359 [============================>.] - ETA: 0s - loss: 2.8503 - accuracy: 0.7346\n",
            "Epoch 00009: val_loss improved from 3.29525 to 3.26494, saving model to /content/drive/My Drive/KTH-Colour/Inspectionv3_SGDKTh-colour.h5\n",
            "359/359 [==============================] - 19s 54ms/step - loss: 2.8516 - accuracy: 0.7340 - val_loss: 3.2649 - val_accuracy: 0.5625\n",
            "Epoch 10/120\n",
            "358/359 [============================>.] - ETA: 0s - loss: 2.8227 - accuracy: 0.7374\n",
            "Epoch 00010: val_loss did not improve from 3.26494\n",
            "359/359 [==============================] - 18s 50ms/step - loss: 2.8252 - accuracy: 0.7364 - val_loss: 3.4380 - val_accuracy: 0.5250\n",
            "Epoch 11/120\n",
            "358/359 [============================>.] - ETA: 0s - loss: 2.7842 - accuracy: 0.7451\n",
            "Epoch 00011: val_loss improved from 3.26494 to 3.22768, saving model to /content/drive/My Drive/KTH-Colour/Inspectionv3_SGDKTh-colour.h5\n",
            "359/359 [==============================] - 19s 53ms/step - loss: 2.7827 - accuracy: 0.7458 - val_loss: 3.2277 - val_accuracy: 0.5813\n",
            "Epoch 12/120\n",
            "359/359 [==============================] - ETA: 0s - loss: 2.7427 - accuracy: 0.7608\n",
            "Epoch 00012: val_loss improved from 3.22768 to 3.21421, saving model to /content/drive/My Drive/KTH-Colour/Inspectionv3_SGDKTh-colour.h5\n",
            "359/359 [==============================] - 19s 53ms/step - loss: 2.7427 - accuracy: 0.7608 - val_loss: 3.2142 - val_accuracy: 0.5688\n",
            "Epoch 13/120\n",
            "358/359 [============================>.] - ETA: 0s - loss: 2.7010 - accuracy: 0.7769\n",
            "Epoch 00013: val_loss did not improve from 3.21421\n",
            "359/359 [==============================] - 18s 50ms/step - loss: 2.7014 - accuracy: 0.7765 - val_loss: 3.2235 - val_accuracy: 0.5625\n",
            "Epoch 14/120\n",
            "358/359 [============================>.] - ETA: 0s - loss: 2.7190 - accuracy: 0.7685\n",
            "Epoch 00014: val_loss did not improve from 3.21421\n",
            "359/359 [==============================] - 18s 50ms/step - loss: 2.7191 - accuracy: 0.7685 - val_loss: 3.3564 - val_accuracy: 0.5063\n",
            "Epoch 15/120\n",
            "358/359 [============================>.] - ETA: 0s - loss: 2.7023 - accuracy: 0.7664\n",
            "Epoch 00015: val_loss did not improve from 3.21421\n",
            "359/359 [==============================] - 18s 51ms/step - loss: 2.7011 - accuracy: 0.7667 - val_loss: 3.2400 - val_accuracy: 0.5750\n",
            "Epoch 16/120\n",
            "359/359 [==============================] - ETA: 0s - loss: 2.6437 - accuracy: 0.7856\n",
            "Epoch 00016: val_loss did not improve from 3.21421\n",
            "359/359 [==============================] - 18s 51ms/step - loss: 2.6437 - accuracy: 0.7856 - val_loss: 3.2535 - val_accuracy: 0.5625\n",
            "Epoch 17/120\n",
            "359/359 [==============================] - ETA: 0s - loss: 2.6328 - accuracy: 0.7936\n",
            "Epoch 00017: val_loss did not improve from 3.21421\n",
            "359/359 [==============================] - 19s 52ms/step - loss: 2.6328 - accuracy: 0.7936 - val_loss: 3.2872 - val_accuracy: 0.5250\n",
            "Epoch 18/120\n",
            "359/359 [==============================] - ETA: 0s - loss: 2.6270 - accuracy: 0.7925\n",
            "Epoch 00018: val_loss did not improve from 3.21421\n",
            "359/359 [==============================] - 19s 53ms/step - loss: 2.6270 - accuracy: 0.7925 - val_loss: 3.2706 - val_accuracy: 0.5375\n",
            "Epoch 19/120\n",
            "359/359 [==============================] - ETA: 0s - loss: 2.6270 - accuracy: 0.7939\n",
            "Epoch 00019: val_loss improved from 3.21421 to 3.21131, saving model to /content/drive/My Drive/KTH-Colour/Inspectionv3_SGDKTh-colour.h5\n",
            "359/359 [==============================] - 19s 54ms/step - loss: 2.6270 - accuracy: 0.7939 - val_loss: 3.2113 - val_accuracy: 0.5625\n",
            "Epoch 20/120\n",
            "359/359 [==============================] - ETA: 0s - loss: 2.5850 - accuracy: 0.8107\n",
            "Epoch 00020: val_loss improved from 3.21131 to 3.12817, saving model to /content/drive/My Drive/KTH-Colour/Inspectionv3_SGDKTh-colour.h5\n",
            "359/359 [==============================] - 19s 54ms/step - loss: 2.5850 - accuracy: 0.8107 - val_loss: 3.1282 - val_accuracy: 0.5875\n",
            "Epoch 21/120\n",
            "359/359 [==============================] - ETA: 0s - loss: 2.5952 - accuracy: 0.8023\n",
            "Epoch 00021: val_loss did not improve from 3.12817\n",
            "359/359 [==============================] - 18s 50ms/step - loss: 2.5952 - accuracy: 0.8023 - val_loss: 3.1969 - val_accuracy: 0.5750\n",
            "Epoch 22/120\n",
            "359/359 [==============================] - ETA: 0s - loss: 2.5504 - accuracy: 0.8096\n",
            "Epoch 00022: val_loss did not improve from 3.12817\n",
            "359/359 [==============================] - 18s 50ms/step - loss: 2.5504 - accuracy: 0.8096 - val_loss: 3.2289 - val_accuracy: 0.5500\n",
            "Epoch 23/120\n",
            "358/359 [============================>.] - ETA: 0s - loss: 2.5618 - accuracy: 0.8112\n",
            "Epoch 00023: val_loss did not improve from 3.12817\n",
            "359/359 [==============================] - 18s 50ms/step - loss: 2.5622 - accuracy: 0.8110 - val_loss: 3.1346 - val_accuracy: 0.5750\n",
            "Epoch 24/120\n",
            "359/359 [==============================] - ETA: 0s - loss: 2.5460 - accuracy: 0.8100\n",
            "Epoch 00024: val_loss did not improve from 3.12817\n",
            "359/359 [==============================] - 18s 50ms/step - loss: 2.5460 - accuracy: 0.8100 - val_loss: 3.2043 - val_accuracy: 0.5750\n",
            "Epoch 25/120\n",
            "359/359 [==============================] - ETA: 0s - loss: 2.5425 - accuracy: 0.8051\n",
            "Epoch 00025: val_loss did not improve from 3.12817\n",
            "359/359 [==============================] - 18s 50ms/step - loss: 2.5425 - accuracy: 0.8051 - val_loss: 3.2813 - val_accuracy: 0.5375\n",
            "Epoch 26/120\n",
            "358/359 [============================>.] - ETA: 0s - loss: 2.5064 - accuracy: 0.8231\n",
            "Epoch 00026: val_loss did not improve from 3.12817\n",
            "359/359 [==============================] - 18s 50ms/step - loss: 2.5064 - accuracy: 0.8229 - val_loss: 3.1778 - val_accuracy: 0.5500\n",
            "Epoch 27/120\n",
            "359/359 [==============================] - ETA: 0s - loss: 2.4800 - accuracy: 0.8319\n",
            "Epoch 00027: val_loss did not improve from 3.12817\n",
            "359/359 [==============================] - 18s 50ms/step - loss: 2.4800 - accuracy: 0.8319 - val_loss: 3.2308 - val_accuracy: 0.5562\n",
            "Epoch 28/120\n",
            "358/359 [============================>.] - ETA: 0s - loss: 2.4783 - accuracy: 0.8357\n",
            "Epoch 00028: val_loss did not improve from 3.12817\n",
            "359/359 [==============================] - 18s 50ms/step - loss: 2.4801 - accuracy: 0.8354 - val_loss: 3.2119 - val_accuracy: 0.5500\n",
            "Epoch 29/120\n",
            "359/359 [==============================] - ETA: 0s - loss: 2.5046 - accuracy: 0.8183\n",
            "Epoch 00029: val_loss did not improve from 3.12817\n",
            "359/359 [==============================] - 18s 50ms/step - loss: 2.5046 - accuracy: 0.8183 - val_loss: 3.1772 - val_accuracy: 0.5750\n",
            "Epoch 30/120\n",
            "359/359 [==============================] - ETA: 0s - loss: 2.4739 - accuracy: 0.8305\n",
            "Epoch 00030: val_loss did not improve from 3.12817\n",
            "359/359 [==============================] - 18s 51ms/step - loss: 2.4739 - accuracy: 0.8305 - val_loss: 3.1447 - val_accuracy: 0.5750\n",
            "Epoch 31/120\n",
            "359/359 [==============================] - ETA: 0s - loss: 2.4489 - accuracy: 0.8431\n",
            "Epoch 00031: val_loss improved from 3.12817 to 3.10039, saving model to /content/drive/My Drive/KTH-Colour/Inspectionv3_SGDKTh-colour.h5\n",
            "359/359 [==============================] - 20s 56ms/step - loss: 2.4489 - accuracy: 0.8431 - val_loss: 3.1004 - val_accuracy: 0.6062\n",
            "Epoch 32/120\n",
            "358/359 [============================>.] - ETA: 0s - loss: 2.4467 - accuracy: 0.8353\n",
            "Epoch 00032: val_loss improved from 3.10039 to 3.09673, saving model to /content/drive/My Drive/KTH-Colour/Inspectionv3_SGDKTh-colour.h5\n",
            "359/359 [==============================] - 20s 56ms/step - loss: 2.4464 - accuracy: 0.8354 - val_loss: 3.0967 - val_accuracy: 0.6000\n",
            "Epoch 33/120\n",
            "358/359 [============================>.] - ETA: 0s - loss: 2.4162 - accuracy: 0.8430\n",
            "Epoch 00033: val_loss did not improve from 3.09673\n",
            "359/359 [==============================] - 18s 51ms/step - loss: 2.4159 - accuracy: 0.8427 - val_loss: 3.1634 - val_accuracy: 0.5750\n",
            "Epoch 34/120\n",
            "359/359 [==============================] - ETA: 0s - loss: 2.4128 - accuracy: 0.8459\n",
            "Epoch 00034: val_loss improved from 3.09673 to 3.06676, saving model to /content/drive/My Drive/KTH-Colour/Inspectionv3_SGDKTh-colour.h5\n",
            "359/359 [==============================] - 20s 56ms/step - loss: 2.4128 - accuracy: 0.8459 - val_loss: 3.0668 - val_accuracy: 0.6187\n",
            "Epoch 35/120\n",
            "359/359 [==============================] - ETA: 0s - loss: 2.4184 - accuracy: 0.8431\n",
            "Epoch 00035: val_loss improved from 3.06676 to 3.04633, saving model to /content/drive/My Drive/KTH-Colour/Inspectionv3_SGDKTh-colour.h5\n",
            "359/359 [==============================] - 20s 57ms/step - loss: 2.4184 - accuracy: 0.8431 - val_loss: 3.0463 - val_accuracy: 0.6187\n",
            "Epoch 36/120\n",
            "358/359 [============================>.] - ETA: 0s - loss: 2.4102 - accuracy: 0.8448\n",
            "Epoch 00036: val_loss did not improve from 3.04633\n",
            "359/359 [==============================] - 18s 50ms/step - loss: 2.4092 - accuracy: 0.8452 - val_loss: 3.0866 - val_accuracy: 0.6375\n",
            "Epoch 37/120\n",
            "358/359 [============================>.] - ETA: 0s - loss: 2.3992 - accuracy: 0.8434\n",
            "Epoch 00037: val_loss did not improve from 3.04633\n",
            "359/359 [==============================] - 18s 50ms/step - loss: 2.4007 - accuracy: 0.8424 - val_loss: 3.1108 - val_accuracy: 0.6187\n",
            "Epoch 38/120\n",
            "359/359 [==============================] - ETA: 0s - loss: 2.3950 - accuracy: 0.8407\n",
            "Epoch 00038: val_loss did not improve from 3.04633\n",
            "359/359 [==============================] - 18s 50ms/step - loss: 2.3950 - accuracy: 0.8407 - val_loss: 3.1141 - val_accuracy: 0.6313\n",
            "Epoch 39/120\n",
            "359/359 [==============================] - ETA: 0s - loss: 2.3927 - accuracy: 0.8469\n",
            "Epoch 00039: val_loss did not improve from 3.04633\n",
            "359/359 [==============================] - 18s 50ms/step - loss: 2.3927 - accuracy: 0.8469 - val_loss: 3.1776 - val_accuracy: 0.5875\n",
            "Epoch 40/120\n",
            "358/359 [============================>.] - ETA: 0s - loss: 2.3941 - accuracy: 0.8472\n",
            "Epoch 00040: val_loss improved from 3.04633 to 3.02680, saving model to /content/drive/My Drive/KTH-Colour/Inspectionv3_SGDKTh-colour.h5\n",
            "359/359 [==============================] - 19s 54ms/step - loss: 2.3954 - accuracy: 0.8469 - val_loss: 3.0268 - val_accuracy: 0.6500\n",
            "Epoch 41/120\n",
            "358/359 [============================>.] - ETA: 0s - loss: 2.3636 - accuracy: 0.8549\n",
            "Epoch 00041: val_loss did not improve from 3.02680\n",
            "359/359 [==============================] - 18s 50ms/step - loss: 2.3627 - accuracy: 0.8553 - val_loss: 3.0768 - val_accuracy: 0.6125\n",
            "Epoch 42/120\n",
            "358/359 [============================>.] - ETA: 0s - loss: 2.3941 - accuracy: 0.8406\n",
            "Epoch 00042: val_loss did not improve from 3.02680\n",
            "359/359 [==============================] - 18s 49ms/step - loss: 2.3932 - accuracy: 0.8407 - val_loss: 3.1978 - val_accuracy: 0.5875\n",
            "Epoch 43/120\n",
            "359/359 [==============================] - ETA: 0s - loss: 2.3666 - accuracy: 0.8508\n",
            "Epoch 00043: val_loss did not improve from 3.02680\n",
            "359/359 [==============================] - 18s 50ms/step - loss: 2.3666 - accuracy: 0.8508 - val_loss: 3.1683 - val_accuracy: 0.5750\n",
            "Epoch 44/120\n",
            "358/359 [============================>.] - ETA: 0s - loss: 2.3686 - accuracy: 0.8542\n",
            "Epoch 00044: val_loss did not improve from 3.02680\n",
            "359/359 [==============================] - 18s 50ms/step - loss: 2.3679 - accuracy: 0.8543 - val_loss: 3.1464 - val_accuracy: 0.5938\n",
            "Epoch 45/120\n",
            "358/359 [============================>.] - ETA: 0s - loss: 2.3544 - accuracy: 0.8542\n",
            "Epoch 00045: val_loss did not improve from 3.02680\n",
            "359/359 [==============================] - 18s 50ms/step - loss: 2.3535 - accuracy: 0.8546 - val_loss: 3.0938 - val_accuracy: 0.6187\n",
            "Epoch 46/120\n",
            "358/359 [============================>.] - ETA: 0s - loss: 2.3388 - accuracy: 0.8622\n",
            "Epoch 00046: val_loss did not improve from 3.02680\n",
            "359/359 [==============================] - 18s 50ms/step - loss: 2.3394 - accuracy: 0.8623 - val_loss: 3.1779 - val_accuracy: 0.5688\n",
            "Epoch 47/120\n",
            "359/359 [==============================] - ETA: 0s - loss: 2.3413 - accuracy: 0.8609\n",
            "Epoch 00047: val_loss did not improve from 3.02680\n",
            "359/359 [==============================] - 18s 50ms/step - loss: 2.3413 - accuracy: 0.8609 - val_loss: 3.1231 - val_accuracy: 0.6062\n",
            "Epoch 48/120\n",
            "358/359 [============================>.] - ETA: 0s - loss: 2.3014 - accuracy: 0.8738\n",
            "Epoch 00048: val_loss improved from 3.02680 to 2.98954, saving model to /content/drive/My Drive/KTH-Colour/Inspectionv3_SGDKTh-colour.h5\n",
            "359/359 [==============================] - 19s 54ms/step - loss: 2.3014 - accuracy: 0.8741 - val_loss: 2.9895 - val_accuracy: 0.6500\n",
            "Epoch 49/120\n",
            "359/359 [==============================] - ETA: 0s - loss: 2.3135 - accuracy: 0.8665\n",
            "Epoch 00049: val_loss did not improve from 2.98954\n",
            "359/359 [==============================] - 18s 50ms/step - loss: 2.3135 - accuracy: 0.8665 - val_loss: 3.1166 - val_accuracy: 0.6000\n",
            "Epoch 50/120\n",
            "359/359 [==============================] - ETA: 0s - loss: 2.2953 - accuracy: 0.8755\n",
            "Epoch 00050: val_loss did not improve from 2.98954\n",
            "359/359 [==============================] - 18s 50ms/step - loss: 2.2953 - accuracy: 0.8755 - val_loss: 3.1757 - val_accuracy: 0.5875\n",
            "Epoch 51/120\n",
            "359/359 [==============================] - ETA: 0s - loss: 2.3214 - accuracy: 0.8612\n",
            "Epoch 00051: val_loss did not improve from 2.98954\n",
            "359/359 [==============================] - 18s 50ms/step - loss: 2.3214 - accuracy: 0.8612 - val_loss: 3.1309 - val_accuracy: 0.5750\n",
            "Epoch 52/120\n",
            "358/359 [============================>.] - ETA: 0s - loss: 2.2830 - accuracy: 0.8759\n",
            "Epoch 00052: val_loss improved from 2.98954 to 2.92441, saving model to /content/drive/My Drive/KTH-Colour/Inspectionv3_SGDKTh-colour.h5\n",
            "359/359 [==============================] - 20s 56ms/step - loss: 2.2822 - accuracy: 0.8762 - val_loss: 2.9244 - val_accuracy: 0.6438\n",
            "Epoch 53/120\n",
            "359/359 [==============================] - ETA: 0s - loss: 2.3080 - accuracy: 0.8651\n",
            "Epoch 00053: val_loss did not improve from 2.92441\n",
            "359/359 [==============================] - 18s 50ms/step - loss: 2.3080 - accuracy: 0.8651 - val_loss: 3.1153 - val_accuracy: 0.6000\n",
            "Epoch 54/120\n",
            "359/359 [==============================] - ETA: 0s - loss: 2.2826 - accuracy: 0.8745\n",
            "Epoch 00054: val_loss did not improve from 2.92441\n",
            "359/359 [==============================] - 18s 50ms/step - loss: 2.2826 - accuracy: 0.8745 - val_loss: 3.1082 - val_accuracy: 0.6250\n",
            "Epoch 55/120\n",
            "358/359 [============================>.] - ETA: 0s - loss: 2.2970 - accuracy: 0.8657\n",
            "Epoch 00055: val_loss did not improve from 2.92441\n",
            "359/359 [==============================] - 18s 50ms/step - loss: 2.2971 - accuracy: 0.8654 - val_loss: 3.1657 - val_accuracy: 0.5875\n",
            "Epoch 56/120\n",
            "359/359 [==============================] - ETA: 0s - loss: 2.3176 - accuracy: 0.8577\n",
            "Epoch 00056: val_loss did not improve from 2.92441\n",
            "359/359 [==============================] - 18s 51ms/step - loss: 2.3176 - accuracy: 0.8577 - val_loss: 3.1876 - val_accuracy: 0.5813\n",
            "Epoch 57/120\n",
            "359/359 [==============================] - ETA: 0s - loss: 2.2815 - accuracy: 0.8727\n",
            "Epoch 00057: val_loss did not improve from 2.92441\n",
            "359/359 [==============================] - 18s 50ms/step - loss: 2.2815 - accuracy: 0.8727 - val_loss: 3.0976 - val_accuracy: 0.6000\n",
            "Epoch 58/120\n",
            "358/359 [============================>.] - ETA: 0s - loss: 2.2880 - accuracy: 0.8748\n",
            "Epoch 00058: val_loss did not improve from 2.92441\n",
            "359/359 [==============================] - 18s 49ms/step - loss: 2.2878 - accuracy: 0.8748 - val_loss: 3.0944 - val_accuracy: 0.6062\n",
            "Epoch 59/120\n",
            "359/359 [==============================] - ETA: 0s - loss: 2.2722 - accuracy: 0.8769\n",
            "Epoch 00059: val_loss did not improve from 2.92441\n",
            "359/359 [==============================] - 18s 50ms/step - loss: 2.2722 - accuracy: 0.8769 - val_loss: 2.9891 - val_accuracy: 0.6250\n",
            "Epoch 60/120\n",
            "358/359 [============================>.] - ETA: 0s - loss: 2.2597 - accuracy: 0.8731\n",
            "Epoch 00060: val_loss did not improve from 2.92441\n",
            "359/359 [==============================] - 18s 50ms/step - loss: 2.2590 - accuracy: 0.8734 - val_loss: 3.0450 - val_accuracy: 0.6187\n",
            "Epoch 61/120\n",
            "359/359 [==============================] - ETA: 0s - loss: 2.2337 - accuracy: 0.8839\n",
            "Epoch 00061: val_loss did not improve from 2.92441\n",
            "359/359 [==============================] - 18s 50ms/step - loss: 2.2337 - accuracy: 0.8839 - val_loss: 3.1338 - val_accuracy: 0.6000\n",
            "Epoch 62/120\n",
            "358/359 [============================>.] - ETA: 0s - loss: 2.2436 - accuracy: 0.8769\n",
            "Epoch 00062: val_loss did not improve from 2.92441\n",
            "359/359 [==============================] - 18s 50ms/step - loss: 2.2429 - accuracy: 0.8773 - val_loss: 3.1472 - val_accuracy: 0.5875\n",
            "Epoch 63/120\n",
            "358/359 [============================>.] - ETA: 0s - loss: 2.2318 - accuracy: 0.8811\n",
            "Epoch 00063: val_loss did not improve from 2.92441\n",
            "359/359 [==============================] - 18s 49ms/step - loss: 2.2327 - accuracy: 0.8804 - val_loss: 3.0568 - val_accuracy: 0.6187\n",
            "Epoch 64/120\n",
            "358/359 [============================>.] - ETA: 0s - loss: 2.2730 - accuracy: 0.8661\n",
            "Epoch 00064: val_loss did not improve from 2.92441\n",
            "359/359 [==============================] - 18s 50ms/step - loss: 2.2722 - accuracy: 0.8665 - val_loss: 2.9594 - val_accuracy: 0.6500\n",
            "Epoch 65/120\n",
            "358/359 [============================>.] - ETA: 0s - loss: 2.2341 - accuracy: 0.8699\n",
            "Epoch 00065: val_loss did not improve from 2.92441\n",
            "359/359 [==============================] - 18s 50ms/step - loss: 2.2332 - accuracy: 0.8703 - val_loss: 3.1220 - val_accuracy: 0.6000\n",
            "Epoch 66/120\n",
            "359/359 [==============================] - ETA: 0s - loss: 2.2053 - accuracy: 0.8902\n",
            "Epoch 00066: val_loss did not improve from 2.92441\n",
            "359/359 [==============================] - 18s 50ms/step - loss: 2.2053 - accuracy: 0.8902 - val_loss: 3.1376 - val_accuracy: 0.5938\n",
            "Epoch 67/120\n",
            "359/359 [==============================] - ETA: 0s - loss: 2.2321 - accuracy: 0.8762\n",
            "Epoch 00067: val_loss did not improve from 2.92441\n",
            "359/359 [==============================] - 18s 50ms/step - loss: 2.2321 - accuracy: 0.8762 - val_loss: 3.2405 - val_accuracy: 0.5938\n",
            "Epoch 68/120\n",
            "359/359 [==============================] - ETA: 0s - loss: 2.2078 - accuracy: 0.8863\n",
            "Epoch 00068: val_loss did not improve from 2.92441\n",
            "359/359 [==============================] - 18s 49ms/step - loss: 2.2078 - accuracy: 0.8863 - val_loss: 3.1288 - val_accuracy: 0.6250\n",
            "Epoch 69/120\n",
            "358/359 [============================>.] - ETA: 0s - loss: 2.2200 - accuracy: 0.8801\n",
            "Epoch 00069: val_loss did not improve from 2.92441\n",
            "359/359 [==============================] - 18s 51ms/step - loss: 2.2220 - accuracy: 0.8797 - val_loss: 3.2280 - val_accuracy: 0.5938\n",
            "Epoch 70/120\n",
            "359/359 [==============================] - ETA: 0s - loss: 2.2131 - accuracy: 0.8797\n",
            "Epoch 00070: val_loss did not improve from 2.92441\n",
            "359/359 [==============================] - 18s 50ms/step - loss: 2.2131 - accuracy: 0.8797 - val_loss: 3.0394 - val_accuracy: 0.6313\n",
            "Epoch 71/120\n",
            "359/359 [==============================] - ETA: 0s - loss: 2.2109 - accuracy: 0.8839\n",
            "Epoch 00071: val_loss did not improve from 2.92441\n",
            "359/359 [==============================] - 18s 49ms/step - loss: 2.2109 - accuracy: 0.8839 - val_loss: 3.1277 - val_accuracy: 0.6187\n",
            "Epoch 72/120\n",
            "359/359 [==============================] - ETA: 0s - loss: 2.1982 - accuracy: 0.8909\n",
            "Epoch 00072: val_loss did not improve from 2.92441\n",
            "359/359 [==============================] - 18s 49ms/step - loss: 2.1982 - accuracy: 0.8909 - val_loss: 2.9975 - val_accuracy: 0.6562\n",
            "Epoch 73/120\n",
            "358/359 [============================>.] - ETA: 0s - loss: 2.1996 - accuracy: 0.8780\n",
            "Epoch 00073: val_loss improved from 2.92441 to 2.89389, saving model to /content/drive/My Drive/KTH-Colour/Inspectionv3_SGDKTh-colour.h5\n",
            "359/359 [==============================] - 19s 54ms/step - loss: 2.2001 - accuracy: 0.8780 - val_loss: 2.8939 - val_accuracy: 0.6562\n",
            "Epoch 74/120\n",
            "359/359 [==============================] - ETA: 0s - loss: 2.1731 - accuracy: 0.8905\n",
            "Epoch 00074: val_loss did not improve from 2.89389\n",
            "359/359 [==============================] - 18s 51ms/step - loss: 2.1731 - accuracy: 0.8905 - val_loss: 3.2264 - val_accuracy: 0.5875\n",
            "Epoch 75/120\n",
            "359/359 [==============================] - ETA: 0s - loss: 2.1791 - accuracy: 0.8916\n",
            "Epoch 00075: val_loss did not improve from 2.89389\n",
            "359/359 [==============================] - 18s 50ms/step - loss: 2.1791 - accuracy: 0.8916 - val_loss: 3.2588 - val_accuracy: 0.5875\n",
            "Epoch 76/120\n",
            "359/359 [==============================] - ETA: 0s - loss: 2.2136 - accuracy: 0.8706\n",
            "Epoch 00076: val_loss did not improve from 2.89389\n",
            "359/359 [==============================] - 18s 50ms/step - loss: 2.2136 - accuracy: 0.8706 - val_loss: 3.2008 - val_accuracy: 0.5688\n",
            "Epoch 77/120\n",
            "359/359 [==============================] - ETA: 0s - loss: 2.1623 - accuracy: 0.8954\n",
            "Epoch 00077: val_loss did not improve from 2.89389\n",
            "359/359 [==============================] - 18s 50ms/step - loss: 2.1623 - accuracy: 0.8954 - val_loss: 3.1179 - val_accuracy: 0.6313\n",
            "Epoch 78/120\n",
            "358/359 [============================>.] - ETA: 0s - loss: 2.1780 - accuracy: 0.8843\n",
            "Epoch 00078: val_loss did not improve from 2.89389\n",
            "359/359 [==============================] - 18s 50ms/step - loss: 2.1781 - accuracy: 0.8839 - val_loss: 3.1297 - val_accuracy: 0.6187\n",
            "Epoch 79/120\n",
            "359/359 [==============================] - ETA: 0s - loss: 2.1586 - accuracy: 0.8909\n",
            "Epoch 00079: val_loss did not improve from 2.89389\n",
            "359/359 [==============================] - 18s 50ms/step - loss: 2.1586 - accuracy: 0.8909 - val_loss: 3.0422 - val_accuracy: 0.6250\n",
            "Epoch 80/120\n",
            "358/359 [============================>.] - ETA: 0s - loss: 2.1576 - accuracy: 0.8944\n",
            "Epoch 00080: val_loss did not improve from 2.89389\n",
            "359/359 [==============================] - 18s 49ms/step - loss: 2.1573 - accuracy: 0.8947 - val_loss: 3.2166 - val_accuracy: 0.5750\n",
            "Epoch 81/120\n",
            "358/359 [============================>.] - ETA: 0s - loss: 2.1463 - accuracy: 0.8941\n",
            "Epoch 00081: val_loss did not improve from 2.89389\n",
            "359/359 [==============================] - 18s 50ms/step - loss: 2.1466 - accuracy: 0.8944 - val_loss: 3.1429 - val_accuracy: 0.6125\n",
            "Epoch 82/120\n",
            "358/359 [============================>.] - ETA: 0s - loss: 2.1413 - accuracy: 0.8958\n",
            "Epoch 00082: val_loss did not improve from 2.89389\n",
            "359/359 [==============================] - 18s 50ms/step - loss: 2.1406 - accuracy: 0.8961 - val_loss: 3.1168 - val_accuracy: 0.6125\n",
            "Epoch 83/120\n",
            "358/359 [============================>.] - ETA: 0s - loss: 2.1492 - accuracy: 0.8948\n",
            "Epoch 00083: val_loss did not improve from 2.89389\n",
            "359/359 [==============================] - 18s 50ms/step - loss: 2.1493 - accuracy: 0.8944 - val_loss: 3.0309 - val_accuracy: 0.6187\n",
            "Epoch 84/120\n",
            "358/359 [============================>.] - ETA: 0s - loss: 2.1555 - accuracy: 0.8874\n",
            "Epoch 00084: val_loss did not improve from 2.89389\n",
            "359/359 [==============================] - 18s 50ms/step - loss: 2.1549 - accuracy: 0.8877 - val_loss: 3.2798 - val_accuracy: 0.5688\n",
            "Epoch 85/120\n",
            "359/359 [==============================] - ETA: 0s - loss: 2.1293 - accuracy: 0.8989\n",
            "Epoch 00085: val_loss did not improve from 2.89389\n",
            "359/359 [==============================] - 18s 49ms/step - loss: 2.1293 - accuracy: 0.8989 - val_loss: 3.1028 - val_accuracy: 0.6125\n",
            "Epoch 86/120\n",
            "359/359 [==============================] - ETA: 0s - loss: 2.1277 - accuracy: 0.9006\n",
            "Epoch 00086: val_loss did not improve from 2.89389\n",
            "359/359 [==============================] - 19s 52ms/step - loss: 2.1277 - accuracy: 0.9006 - val_loss: 3.0514 - val_accuracy: 0.6375\n",
            "Epoch 87/120\n",
            "358/359 [============================>.] - ETA: 0s - loss: 2.1498 - accuracy: 0.8895\n",
            "Epoch 00087: val_loss did not improve from 2.89389\n",
            "359/359 [==============================] - 18s 49ms/step - loss: 2.1496 - accuracy: 0.8895 - val_loss: 3.1744 - val_accuracy: 0.5875\n",
            "Epoch 88/120\n",
            "359/359 [==============================] - ETA: 0s - loss: 2.1221 - accuracy: 0.8950\n",
            "Epoch 00088: val_loss did not improve from 2.89389\n",
            "359/359 [==============================] - 18s 50ms/step - loss: 2.1221 - accuracy: 0.8950 - val_loss: 2.9736 - val_accuracy: 0.6375\n",
            "Epoch 89/120\n",
            "359/359 [==============================] - ETA: 0s - loss: 2.1409 - accuracy: 0.8937\n",
            "Epoch 00089: val_loss did not improve from 2.89389\n",
            "359/359 [==============================] - 18s 49ms/step - loss: 2.1409 - accuracy: 0.8937 - val_loss: 3.0571 - val_accuracy: 0.6250\n",
            "Epoch 90/120\n",
            "358/359 [============================>.] - ETA: 0s - loss: 2.1374 - accuracy: 0.8846\n",
            "Epoch 00090: val_loss did not improve from 2.89389\n",
            "359/359 [==============================] - 18s 49ms/step - loss: 2.1370 - accuracy: 0.8846 - val_loss: 3.0460 - val_accuracy: 0.6187\n",
            "Epoch 91/120\n",
            "359/359 [==============================] - ETA: 0s - loss: 2.1229 - accuracy: 0.8926\n",
            "Epoch 00091: val_loss did not improve from 2.89389\n",
            "359/359 [==============================] - 19s 54ms/step - loss: 2.1229 - accuracy: 0.8926 - val_loss: 3.0507 - val_accuracy: 0.6313\n",
            "Epoch 92/120\n",
            "359/359 [==============================] - ETA: 0s - loss: 2.1090 - accuracy: 0.8940\n",
            "Epoch 00092: val_loss did not improve from 2.89389\n",
            "359/359 [==============================] - 18s 50ms/step - loss: 2.1090 - accuracy: 0.8940 - val_loss: 3.2196 - val_accuracy: 0.5875\n",
            "Epoch 93/120\n",
            "358/359 [============================>.] - ETA: 0s - loss: 2.0994 - accuracy: 0.9003\n",
            "Epoch 00093: val_loss did not improve from 2.89389\n",
            "359/359 [==============================] - 18s 49ms/step - loss: 2.0995 - accuracy: 0.9003 - val_loss: 3.0519 - val_accuracy: 0.6250\n",
            "Epoch 94/120\n",
            "359/359 [==============================] - ETA: 0s - loss: 2.1213 - accuracy: 0.8996\n",
            "Epoch 00094: val_loss did not improve from 2.89389\n",
            "359/359 [==============================] - 18s 49ms/step - loss: 2.1213 - accuracy: 0.8996 - val_loss: 3.3153 - val_accuracy: 0.5750\n",
            "Epoch 95/120\n",
            "359/359 [==============================] - ETA: 0s - loss: 2.0951 - accuracy: 0.8926\n",
            "Epoch 00095: val_loss did not improve from 2.89389\n",
            "359/359 [==============================] - 18s 50ms/step - loss: 2.0951 - accuracy: 0.8926 - val_loss: 3.1895 - val_accuracy: 0.6062\n",
            "Epoch 96/120\n",
            "359/359 [==============================] - ETA: 0s - loss: 2.0792 - accuracy: 0.9066\n",
            "Epoch 00096: val_loss did not improve from 2.89389\n",
            "359/359 [==============================] - 18s 50ms/step - loss: 2.0792 - accuracy: 0.9066 - val_loss: 3.1444 - val_accuracy: 0.5938\n",
            "Epoch 97/120\n",
            "358/359 [============================>.] - ETA: 0s - loss: 2.0943 - accuracy: 0.9042\n",
            "Epoch 00097: val_loss did not improve from 2.89389\n",
            "359/359 [==============================] - 18s 49ms/step - loss: 2.0938 - accuracy: 0.9045 - val_loss: 3.2863 - val_accuracy: 0.5813\n",
            "Epoch 98/120\n",
            "359/359 [==============================] - ETA: 0s - loss: 2.0847 - accuracy: 0.9010\n",
            "Epoch 00098: val_loss did not improve from 2.89389\n",
            "359/359 [==============================] - 18s 49ms/step - loss: 2.0847 - accuracy: 0.9010 - val_loss: 3.0932 - val_accuracy: 0.6125\n",
            "Epoch 99/120\n",
            "358/359 [============================>.] - ETA: 0s - loss: 2.0887 - accuracy: 0.8972\n",
            "Epoch 00099: val_loss did not improve from 2.89389\n",
            "359/359 [==============================] - 18s 49ms/step - loss: 2.0886 - accuracy: 0.8975 - val_loss: 3.0444 - val_accuracy: 0.6187\n",
            "Epoch 100/120\n",
            "359/359 [==============================] - ETA: 0s - loss: 2.0659 - accuracy: 0.9062\n",
            "Epoch 00100: val_loss did not improve from 2.89389\n",
            "359/359 [==============================] - 18s 50ms/step - loss: 2.0659 - accuracy: 0.9062 - val_loss: 2.9937 - val_accuracy: 0.6500\n",
            "Epoch 101/120\n",
            "358/359 [============================>.] - ETA: 0s - loss: 2.1121 - accuracy: 0.8899\n",
            "Epoch 00101: val_loss did not improve from 2.89389\n",
            "359/359 [==============================] - 18s 50ms/step - loss: 2.1120 - accuracy: 0.8898 - val_loss: 3.0006 - val_accuracy: 0.6562\n",
            "Epoch 102/120\n",
            "359/359 [==============================] - ETA: 0s - loss: 2.0620 - accuracy: 0.9048\n",
            "Epoch 00102: val_loss did not improve from 2.89389\n",
            "359/359 [==============================] - 18s 49ms/step - loss: 2.0620 - accuracy: 0.9048 - val_loss: 3.2056 - val_accuracy: 0.5813\n",
            "Epoch 103/120\n",
            "359/359 [==============================] - ETA: 0s - loss: 2.0565 - accuracy: 0.9069\n",
            "Epoch 00103: val_loss did not improve from 2.89389\n",
            "359/359 [==============================] - 18s 51ms/step - loss: 2.0565 - accuracy: 0.9069 - val_loss: 3.2569 - val_accuracy: 0.5688\n",
            "Epoch 104/120\n",
            "359/359 [==============================] - ETA: 0s - loss: 2.0584 - accuracy: 0.9062\n",
            "Epoch 00104: val_loss did not improve from 2.89389\n",
            "359/359 [==============================] - 18s 50ms/step - loss: 2.0584 - accuracy: 0.9062 - val_loss: 3.0785 - val_accuracy: 0.6375\n",
            "Epoch 105/120\n",
            "358/359 [============================>.] - ETA: 0s - loss: 2.0585 - accuracy: 0.9049\n",
            "Epoch 00105: val_loss did not improve from 2.89389\n",
            "359/359 [==============================] - 18s 49ms/step - loss: 2.0581 - accuracy: 0.9048 - val_loss: 3.1039 - val_accuracy: 0.6313\n",
            "Epoch 106/120\n",
            "359/359 [==============================] - ETA: 0s - loss: 2.0863 - accuracy: 0.8947\n",
            "Epoch 00106: val_loss did not improve from 2.89389\n",
            "359/359 [==============================] - 18s 49ms/step - loss: 2.0863 - accuracy: 0.8947 - val_loss: 3.0116 - val_accuracy: 0.6313\n",
            "Epoch 107/120\n",
            "358/359 [============================>.] - ETA: 0s - loss: 2.0613 - accuracy: 0.9007\n",
            "Epoch 00107: val_loss did not improve from 2.89389\n",
            "359/359 [==============================] - 18s 50ms/step - loss: 2.0607 - accuracy: 0.9010 - val_loss: 3.0418 - val_accuracy: 0.6125\n",
            "Epoch 108/120\n",
            "359/359 [==============================] - ETA: 0s - loss: 2.0551 - accuracy: 0.9045\n",
            "Epoch 00108: val_loss did not improve from 2.89389\n",
            "359/359 [==============================] - 18s 50ms/step - loss: 2.0551 - accuracy: 0.9045 - val_loss: 3.0654 - val_accuracy: 0.6250\n",
            "Epoch 109/120\n",
            "359/359 [==============================] - ETA: 0s - loss: 2.0773 - accuracy: 0.8909\n",
            "Epoch 00109: val_loss did not improve from 2.89389\n",
            "359/359 [==============================] - 18s 50ms/step - loss: 2.0773 - accuracy: 0.8909 - val_loss: 3.1291 - val_accuracy: 0.5938\n",
            "Epoch 110/120\n",
            "359/359 [==============================] - ETA: 0s - loss: 2.0670 - accuracy: 0.8992\n",
            "Epoch 00110: val_loss did not improve from 2.89389\n",
            "359/359 [==============================] - 18s 50ms/step - loss: 2.0670 - accuracy: 0.8992 - val_loss: 2.9277 - val_accuracy: 0.6375\n",
            "Epoch 111/120\n",
            "359/359 [==============================] - ETA: 0s - loss: 2.0132 - accuracy: 0.9128\n",
            "Epoch 00111: val_loss did not improve from 2.89389\n",
            "359/359 [==============================] - 18s 50ms/step - loss: 2.0132 - accuracy: 0.9128 - val_loss: 3.0177 - val_accuracy: 0.6438\n",
            "Epoch 112/120\n",
            "359/359 [==============================] - ETA: 0s - loss: 2.0433 - accuracy: 0.8968\n",
            "Epoch 00112: val_loss did not improve from 2.89389\n",
            "359/359 [==============================] - 18s 49ms/step - loss: 2.0433 - accuracy: 0.8968 - val_loss: 3.1794 - val_accuracy: 0.5750\n",
            "Epoch 113/120\n",
            "359/359 [==============================] - ETA: 0s - loss: 2.0280 - accuracy: 0.9066Restoring model weights from the end of the best epoch.\n",
            "\n",
            "Epoch 00113: val_loss did not improve from 2.89389\n",
            "\n",
            "Epoch 00113: ReduceLROnPlateau reducing learning rate to 0.00020000000949949026.\n",
            "359/359 [==============================] - 18s 50ms/step - loss: 2.0280 - accuracy: 0.9066 - val_loss: 3.2747 - val_accuracy: 0.5688\n",
            "Epoch 00113: early stopping\n"
          ],
          "name": "stdout"
        }
      ]
    },
    {
      "cell_type": "code",
      "metadata": {
        "id": "SZD3o1_jNFdU",
        "colab_type": "code",
        "colab": {
          "base_uri": "https://localhost:8080/",
          "height": 295
        },
        "outputId": "c0e9a547-e59b-4bff-c0be-64d2eccb3410"
      },
      "source": [
        "import matplotlib.pyplot as plt\n",
        "plt.plot(hist.history[\"accuracy\"])\n",
        "plt.plot(hist.history['val_accuracy'])\n",
        "plt.title(\"model accuracy\")\n",
        "plt.ylabel(\"Accuracy\")\n",
        "plt.xlabel(\"Epoch\")\n",
        "plt.legend([\"Accuracy\",\"Validation Accuracy\"])\n",
        "plt.show()"
      ],
      "execution_count": 47,
      "outputs": [
        {
          "output_type": "display_data",
          "data": {
            "image/png": "[encoded data removed]",
            "text/plain": [
              "<Figure size 432x288 with 1 Axes>"
            ]
          },
          "metadata": {
            "tags": [],
            "needs_background": "light"
          }
        }
      ]
    },
    {
      "cell_type": "code",
      "metadata": {
        "id": "pIX7hNiiNKiC",
        "colab_type": "code",
        "colab": {
          "base_uri": "https://localhost:8080/",
          "height": 295
        },
        "outputId": "ecea2185-fda7-488d-c6f7-0608c0ed5d2c"
      },
      "source": [
        "plt.plot(hist.history['loss'])\n",
        "plt.plot(hist.history['val_loss'])\n",
        "plt.title(\"model Loss\")\n",
        "plt.ylabel(\"Loss\")\n",
        "plt.xlabel(\"Epoch\")\n",
        "plt.legend([\"Loss\",\"Validation Loss\"])\n",
        "plt.show()"
      ],
      "execution_count": 48,
      "outputs": [
        {
          "output_type": "display_data",
          "data": {
            "image/png": "[encoded data removed]",
            "text/plain": [
              "<Figure size 432x288 with 1 Axes>"
            ]
          },
          "metadata": {
            "tags": [],
            "needs_background": "light"
          }
        }
      ]
    },
    {
      "cell_type": "code",
      "metadata": {
        "id": "Ty3i6zFRNMNS",
        "colab_type": "code",
        "colab": {
          "base_uri": "https://localhost:8080/",
          "height": 34
        },
        "outputId": "f83d75d8-52a8-4080-a352-103e375a99df"
      },
      "source": [
        "Colour_TestData = TestGenerator.flow_from_directory('/content/drive/My Drive/KTH-Colour/Test/', target_size=(224,224), batch_size = 8, shuffle = False)"
      ],
      "execution_count": 49,
      "outputs": [
        {
          "output_type": "stream",
          "text": [
            "Found 166 images belonging to 11 classes.\n"
          ],
          "name": "stdout"
        }
      ]
    },
    {
      "cell_type": "code",
      "metadata": {
        "id": "Nq_iPyotOgaL",
        "colab_type": "code",
        "colab": {}
      },
      "source": [
        "Colour_predict = colour_model.predict(Colour_TestData)"
      ],
      "execution_count": 50,
      "outputs": []
    },
    {
      "cell_type": "code",
      "metadata": {
        "id": "TsPBSBl8OndK",
        "colab_type": "code",
        "colab": {}
      },
      "source": [
        "Colour_predict_classes = np.argmax(Colour_predict, axis=1)"
      ],
      "execution_count": 51,
      "outputs": []
    },
    {
      "cell_type": "code",
      "metadata": {
        "id": "Rvyl2C1yOqD_",
        "colab_type": "code",
        "colab": {
          "base_uri": "https://localhost:8080/",
          "height": 187
        },
        "outputId": "6b5f1d9e-b9a7-431b-c9b4-e3565a6d240d"
      },
      "source": [
        "Colour_predict_classes"
      ],
      "execution_count": 52,
      "outputs": [
        {
          "output_type": "execute_result",
          "data": {
            "text/plain": [
              "array([ 6,  0,  0,  0,  0,  0,  0,  0,  0,  0,  0,  6,  0,  6,  0,  0, 10,\n",
              "        6,  6,  2,  0,  0,  1,  1,  1,  1,  1,  2,  2,  2,  2,  2,  2,  2,\n",
              "        2,  2,  2,  2,  2,  2,  2,  2,  2,  2,  2,  2,  2,  2,  2,  2,  2,\n",
              "        2,  2,  3,  3,  3,  4,  3,  3,  4,  4,  3,  3,  3,  4,  3,  3,  3,\n",
              "        3,  3,  4,  3,  3,  3,  4,  2,  4,  4,  4,  4,  4,  4,  4,  4,  4,\n",
              "        4,  2,  4,  4,  2,  4,  4,  4,  4,  4,  4,  2,  4,  4,  4,  4,  5,\n",
              "        5,  5,  5,  6,  6,  6,  4,  6,  6,  6,  2,  2,  6,  6,  6,  6,  6,\n",
              "        4,  4,  6,  6,  6,  2,  6,  2,  4,  6,  4,  6,  4,  4,  4,  8,  8,\n",
              "        8,  8,  8,  4,  9,  9,  4,  9,  4, 10,  7,  4, 10, 10,  6,  4, 10,\n",
              "       10, 10, 10, 10, 10, 10,  4, 10, 10,  4,  4,  4, 10])"
            ]
          },
          "metadata": {
            "tags": []
          },
          "execution_count": 52
        }
      ]
    },
    {
      "cell_type": "code",
      "metadata": {
        "id": "meFyvYOrOr9L",
        "colab_type": "code",
        "colab": {
          "base_uri": "https://localhost:8080/",
          "height": 34
        },
        "outputId": "3dd7740a-3972-4c7c-f849-7cddd7b6ae3b"
      },
      "source": [
        "Colour_accuracy = accuracy_score(Colour_TestData.classes, Colour_predict_classes)\n",
        "print(\"Colour Accuracy: \", Colour_accuracy)"
      ],
      "execution_count": 53,
      "outputs": [
        {
          "output_type": "stream",
          "text": [
            "Colour Accuracy:  0.7590361445783133\n"
          ],
          "name": "stdout"
        }
      ]
    },
    {
      "cell_type": "code",
      "metadata": {
        "id": "V-4hFVOkPpsd",
        "colab_type": "code",
        "colab": {
          "base_uri": "https://localhost:8080/",
          "height": 34
        },
        "outputId": "63f86375-2e65-457b-8c3b-f4718bd159ef"
      },
      "source": [
        "Colour_precision = precision_score(Colour_TestData.classes, Colour_predict_classes,average=\"weighted\")\n",
        "print(\"Colour Precision: \", Colour_precision)"
      ],
      "execution_count": 54,
      "outputs": [
        {
          "output_type": "stream",
          "text": [
            "Colour Precision:  0.8112732503513017\n"
          ],
          "name": "stdout"
        }
      ]
    },
    {
      "cell_type": "code",
      "metadata": {
        "id": "VkgJCVPqPu3t",
        "colab_type": "code",
        "colab": {
          "base_uri": "https://localhost:8080/",
          "height": 34
        },
        "outputId": "154016ea-55cd-41d7-a217-df0e18eae96a"
      },
      "source": [
        "Colour_recall = recall_score(Colour_TestData.classes, Colour_predict_classes, average=\"weighted\")\n",
        "print(\"Colour Recall:\", Colour_recall)"
      ],
      "execution_count": 55,
      "outputs": [
        {
          "output_type": "stream",
          "text": [
            "Colour Recall: 0.7590361445783133\n"
          ],
          "name": "stdout"
        }
      ]
    },
    {
      "cell_type": "code",
      "metadata": {
        "id": "sGzTOJ5VPydq",
        "colab_type": "code",
        "colab": {
          "base_uri": "https://localhost:8080/",
          "height": 34
        },
        "outputId": "141f165a-4453-440f-8775-5c873cd1a78a"
      },
      "source": [
        "Colour_f1_score = f1_score(Colour_TestData.classes, Colour_predict_classes, average=\"weighted\")\n",
        "print(\"F1 score for colour: \", Colour_f1_score)"
      ],
      "execution_count": 56,
      "outputs": [
        {
          "output_type": "stream",
          "text": [
            "F1 score for colour:  0.7609666826825213\n"
          ],
          "name": "stdout"
        }
      ]
    },
    {
      "cell_type": "markdown",
      "metadata": {
        "id": "A3QNKcw2P5wD",
        "colab_type": "text"
      },
      "source": [
        "**Emsemble**"
      ]
    },
    {
      "cell_type": "code",
      "metadata": {
        "id": "01-hknWtP-OV",
        "colab_type": "code",
        "colab": {}
      },
      "source": [
        "Final = 0.6* Colour_predict + 0.4* Grey_predict"
      ],
      "execution_count": 57,
      "outputs": []
    },
    {
      "cell_type": "code",
      "metadata": {
        "id": "CnzKZmW8QB1Y",
        "colab_type": "code",
        "colab": {}
      },
      "source": [
        "Final_Predict_classes = np.argmax(Final, axis=1)"
      ],
      "execution_count": 58,
      "outputs": []
    },
    {
      "cell_type": "code",
      "metadata": {
        "id": "ez9pZ_95QFPT",
        "colab_type": "code",
        "colab": {
          "base_uri": "https://localhost:8080/",
          "height": 187
        },
        "outputId": "69187fa5-d976-460c-dc40-d9f216527cf2"
      },
      "source": [
        "Final_Predict_classes"
      ],
      "execution_count": 59,
      "outputs": [
        {
          "output_type": "execute_result",
          "data": {
            "text/plain": [
              "array([ 6,  0,  0,  0,  0,  0,  0,  0,  0,  0,  0,  6,  0,  6,  0,  0,  6,\n",
              "        6,  6,  6,  0,  0,  4,  1,  1,  1,  1,  2,  2,  2,  2,  2,  2,  2,\n",
              "        2,  2,  2,  2,  2,  2,  2,  2,  2,  2,  2,  2,  2,  2,  2,  2,  2,\n",
              "        2,  2,  3,  3,  3,  4,  3,  4,  4,  4,  3,  3,  3,  4,  3,  3,  3,\n",
              "        3,  4,  4,  3,  3,  3,  4,  4,  4,  4,  4,  4,  4,  4,  4,  4,  4,\n",
              "        4,  4,  4,  4,  4,  4,  4,  4,  4,  4,  4,  2,  4,  4,  4,  4,  5,\n",
              "        5,  5,  5,  4,  6,  6,  6,  6,  6,  4,  6,  6,  6,  6,  6,  6,  6,\n",
              "        4,  6,  6,  6,  6,  2,  6,  2,  4,  6,  4,  6,  4,  4,  4,  8,  8,\n",
              "        8,  8,  8,  4,  9,  9,  4,  9,  4, 10,  4,  4, 10,  6,  6, 10, 10,\n",
              "       10, 10, 10, 10, 10, 10, 10, 10, 10, 10, 10, 10, 10])"
            ]
          },
          "metadata": {
            "tags": []
          },
          "execution_count": 59
        }
      ]
    },
    {
      "cell_type": "code",
      "metadata": {
        "id": "uIIiaLeAQHCz",
        "colab_type": "code",
        "colab": {
          "base_uri": "https://localhost:8080/",
          "height": 34
        },
        "outputId": "60a7a561-099d-406d-8ee8-987296d5d399"
      },
      "source": [
        "Final_accuracy = accuracy_score(Colour_TestData.classes, Final_Predict_classes)\n",
        "print(\"Colour Accuracy: \", Final_accuracy)"
      ],
      "execution_count": 60,
      "outputs": [
        {
          "output_type": "stream",
          "text": [
            "Colour Accuracy:  0.7951807228915663\n"
          ],
          "name": "stdout"
        }
      ]
    },
    {
      "cell_type": "code",
      "metadata": {
        "id": "0xWh0QU4QKfi",
        "colab_type": "code",
        "colab": {
          "base_uri": "https://localhost:8080/",
          "height": 88
        },
        "outputId": "14810123-9793-471b-e6a9-1c930bc9ba87"
      },
      "source": [
        "Final_precision = precision_score(Colour_TestData.classes, Final_Predict_classes,average=\"weighted\")\n",
        "print(\"Colour Precision: \", Final_precision)"
      ],
      "execution_count": 61,
      "outputs": [
        {
          "output_type": "stream",
          "text": [
            "Colour Precision:  0.8420662000270234\n"
          ],
          "name": "stdout"
        },
        {
          "output_type": "stream",
          "text": [
            "/usr/local/lib/python3.6/dist-packages/sklearn/metrics/_classification.py:1272: UndefinedMetricWarning: Precision is ill-defined and being set to 0.0 in labels with no predicted samples. Use `zero_division` parameter to control this behavior.\n",
            "  _warn_prf(average, modifier, msg_start, len(result))\n"
          ],
          "name": "stderr"
        }
      ]
    },
    {
      "cell_type": "code",
      "metadata": {
        "id": "SUe0YMKmQS0f",
        "colab_type": "code",
        "colab": {
          "base_uri": "https://localhost:8080/",
          "height": 34
        },
        "outputId": "f2ce107e-9c91-4361-a26d-54c355c7308b"
      },
      "source": [
        "Final_recall = recall_score(Colour_TestData.classes, Final_Predict_classes, average=\"weighted\")\n",
        "print(\"Colour Recall:\", Final_recall)"
      ],
      "execution_count": 62,
      "outputs": [
        {
          "output_type": "stream",
          "text": [
            "Colour Recall: 0.7951807228915663\n"
          ],
          "name": "stdout"
        }
      ]
    },
    {
      "cell_type": "code",
      "metadata": {
        "id": "pJraKXWUQVt_",
        "colab_type": "code",
        "colab": {
          "base_uri": "https://localhost:8080/",
          "height": 34
        },
        "outputId": "cb4c961c-904a-494c-a578-8d90d6b76629"
      },
      "source": [
        "Final_f1_score = f1_score(Colour_TestData.classes, Final_Predict_classes, average=\"weighted\")\n",
        "print(\"F1 score for colour: \", Final_f1_score)"
      ],
      "execution_count": 63,
      "outputs": [
        {
          "output_type": "stream",
          "text": [
            "F1 score for colour:  0.7952362302956459\n"
          ],
          "name": "stdout"
        }
      ]
    },
    {
      "cell_type": "code",
      "metadata": {
        "id": "0qEgDAK36qj-",
        "colab_type": "code",
        "colab": {}
      },
      "source": [
        "Second_Final = 0.5* Colour_predict + 0.5 * Grey_predict"
      ],
      "execution_count": 64,
      "outputs": []
    },
    {
      "cell_type": "code",
      "metadata": {
        "id": "z5J1_SGc63t7",
        "colab_type": "code",
        "colab": {}
      },
      "source": [
        "Second_predict_classes = np.argmax(Second_Final, axis=1)"
      ],
      "execution_count": 65,
      "outputs": []
    },
    {
      "cell_type": "code",
      "metadata": {
        "id": "hmdwqtuo7A63",
        "colab_type": "code",
        "colab": {
          "base_uri": "https://localhost:8080/",
          "height": 187
        },
        "outputId": "ec2a48b7-0360-4015-fba7-9bb6b182274e"
      },
      "source": [
        "Second_predict_classes"
      ],
      "execution_count": 66,
      "outputs": [
        {
          "output_type": "execute_result",
          "data": {
            "text/plain": [
              "array([ 6,  0,  0,  0,  0,  0,  0,  0,  0,  0,  0,  6,  0,  6,  0,  0,  6,\n",
              "        6,  6,  6,  0,  0,  4,  1,  1,  1,  1,  2,  2,  2,  2,  2,  2,  2,\n",
              "        2,  2,  2,  2,  2,  2,  2,  2,  2,  2,  2,  2,  2,  2,  2,  2,  2,\n",
              "        2,  2,  3,  3,  3,  4,  3,  2,  4,  4,  3,  3,  3,  4,  3,  3,  3,\n",
              "        3,  4,  4,  3,  3,  3,  4,  4,  4,  4,  4,  4,  4,  4,  4,  4,  4,\n",
              "        4,  4,  4,  4,  4,  4,  4,  4,  4,  4,  4,  2,  4,  4,  4,  4,  5,\n",
              "        4,  5,  5,  4,  6,  6,  6,  4,  6,  4,  6,  6,  4,  6,  6,  6,  6,\n",
              "        4,  6,  6,  6,  6,  4,  6,  4,  4,  6,  4,  6,  4,  4,  4,  4,  4,\n",
              "        8,  8,  8,  4,  9,  4,  4,  9, 10, 10,  4,  4, 10,  6,  6, 10, 10,\n",
              "       10, 10, 10, 10, 10, 10, 10, 10, 10, 10, 10, 10, 10])"
            ]
          },
          "metadata": {
            "tags": []
          },
          "execution_count": 66
        }
      ]
    },
    {
      "cell_type": "code",
      "metadata": {
        "id": "6hhnNOD07EsP",
        "colab_type": "code",
        "colab": {
          "base_uri": "https://localhost:8080/",
          "height": 34
        },
        "outputId": "f3aac84b-6979-44ea-b9b1-c9c45b88a89f"
      },
      "source": [
        "Second_Final_accuracy = accuracy_score(Colour_TestData.classes, Second_predict_classes)\n",
        "Second_Final_accuracy"
      ],
      "execution_count": 67,
      "outputs": [
        {
          "output_type": "execute_result",
          "data": {
            "text/plain": [
              "0.7650602409638554"
            ]
          },
          "metadata": {
            "tags": []
          },
          "execution_count": 67
        }
      ]
    }
  ]
}