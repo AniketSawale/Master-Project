{
  "nbformat": 4,
  "nbformat_minor": 0,
  "metadata": {
    "colab": {
      "name": "Inspectionv3_KTH.ipynb",
      "provenance": [],
      "collapsed_sections": []
    },
    "kernelspec": {
      "name": "python3",
      "display_name": "Python 3"
    }
  },
  "cells": [
    {
      "cell_type": "code",
      "metadata": {
        "id": "gwrnn9RDGRWn",
        "colab_type": "code",
        "colab": {
          "base_uri": "https://localhost:8080/",
          "height": 34
        },
        "outputId": "2e4437d5-fe9d-41d9-bdbb-60922e169f6f"
      },
      "source": [
        "from google.colab import drive\n",
        "drive.mount('/content/drive')"
      ],
      "execution_count": null,
      "outputs": [
        {
          "output_type": "stream",
          "text": [
            "Drive already mounted at /content/drive; to attempt to forcibly remount, call drive.mount(\"/content/drive\", force_remount=True).\n"
          ],
          "name": "stdout"
        }
      ]
    },
    {
      "cell_type": "code",
      "metadata": {
        "id": "S1Ru2TIyG8zm",
        "colab_type": "code",
        "colab": {}
      },
      "source": [
        "# Importing the Libraries.\n",
        "import keras\n",
        "import os\n",
        "from keras.models import Sequential\n",
        "from keras.layers import Dense, Conv2D, MaxPool2D, Flatten, Dropout\n",
        "from keras.preprocessing.image import ImageDataGenerator\n",
        "import numpy as np\n",
        "#import keras.backend as K\n",
        "import tensorflow.keras.backend as K\n",
        "import tensorflow.compat.v1 as tf\n",
        "from os import listdir\n",
        "from os.path import isfile, join\n",
        "import numpy as np\n",
        "import sys\n",
        "import os\n",
        "import shutil\n",
        "import pandas as pd\n",
        "from PIL import Image\n",
        "import cv2\n",
        "import keras\n",
        "import glob\n",
        "from PIL import Image\n",
        "from keras.preprocessing.image import img_to_array\n",
        "from sklearn.preprocessing import MultiLabelBinarizer\n",
        "from keras import models, regularizers, layers, optimizers, losses, metrics\n",
        "from keras.applications.resnet50 import ResNet50\n",
        "from keras.preprocessing.image import ImageDataGenerator\n",
        "from keras.models import Sequential\n",
        "from keras.layers import Dense, Dropout, Activation, Flatten, MaxPool2D\n",
        "from keras.layers import Convolution2D, MaxPooling2D, ZeroPadding2D\n",
        "from keras.layers import AveragePooling2D\n",
        "from keras.models import load_model\n",
        "from keras.layers.pooling import GlobalAveragePooling2D\n",
        "from keras.layers.normalization import BatchNormalization\n",
        "from keras.models import Model\n",
        "from keras.optimizers import Adam\n",
        "from keras.callbacks import ModelCheckpoint, EarlyStopping\n",
        "from sklearn.preprocessing import LabelEncoder, OneHotEncoder\n",
        "from PIL import ImageFile\n",
        "\n",
        "tf.enable_eager_execution()"
      ],
      "execution_count": null,
      "outputs": []
    },
    {
      "cell_type": "code",
      "metadata": {
        "id": "H8uThe6GHIz4",
        "colab_type": "code",
        "colab": {}
      },
      "source": [
        "ImageFile.LOAD_TRUNCATED_IMAGES = True"
      ],
      "execution_count": null,
      "outputs": []
    },
    {
      "cell_type": "code",
      "metadata": {
        "id": "6rFm4Cu0HLWH",
        "colab_type": "code",
        "colab": {}
      },
      "source": [
        "# Data Augmentation.\n",
        "DataGenerator = ImageDataGenerator(horizontal_flip=True, vertical_flip=True, rescale=1./255, brightness_range=[0.2,0.7])"
      ],
      "execution_count": null,
      "outputs": []
    },
    {
      "cell_type": "code",
      "metadata": {
        "id": "FkFMyChNHOhL",
        "colab_type": "code",
        "colab": {}
      },
      "source": [
        "TestGenerator = ImageDataGenerator(rescale=1./255)"
      ],
      "execution_count": null,
      "outputs": []
    },
    {
      "cell_type": "code",
      "metadata": {
        "id": "6RosFDArHQjf",
        "colab_type": "code",
        "colab": {
          "base_uri": "https://localhost:8080/",
          "height": 34
        },
        "outputId": "7a83a464-2616-4b19-8ca0-370dc4d10956"
      },
      "source": [
        "Grey_TrainingData = DataGenerator.flow_from_directory('/content/drive/My Drive/KTH-Colour/Train-dataset/', target_size=(224,224), batch_size=8, color_mode='grayscale')"
      ],
      "execution_count": null,
      "outputs": [
        {
          "output_type": "stream",
          "text": [
            "Found 2868 images belonging to 11 classes.\n"
          ],
          "name": "stdout"
        }
      ]
    },
    {
      "cell_type": "code",
      "metadata": {
        "id": "vbyNJFttHTH8",
        "colab_type": "code",
        "colab": {
          "base_uri": "https://localhost:8080/",
          "height": 34
        },
        "outputId": "103fc661-e076-401a-ccca-b5b0251553c2"
      },
      "source": [
        "Grey_ValidData = TestGenerator.flow_from_directory('/content/drive/My Drive/KTH-Colour/valid/', target_size=(224,224), batch_size=8, color_mode='grayscale')"
      ],
      "execution_count": null,
      "outputs": [
        {
          "output_type": "stream",
          "text": [
            "Found 161 images belonging to 11 classes.\n"
          ],
          "name": "stdout"
        }
      ]
    },
    {
      "cell_type": "code",
      "metadata": {
        "id": "roMORhNzHatK",
        "colab_type": "code",
        "colab": {
          "base_uri": "https://localhost:8080/",
          "height": 71
        },
        "outputId": "040c2741-4ed9-446c-864b-ca5aa11ba528"
      },
      "source": [
        "gpu_options = tf.GPUOptions(allow_growth=True)\n",
        "session = tf.InteractiveSession(config=tf.ConfigProto(gpu_options=gpu_options))"
      ],
      "execution_count": null,
      "outputs": [
        {
          "output_type": "stream",
          "text": [
            "/usr/local/lib/python3.6/dist-packages/tensorflow/python/client/session.py:1751: UserWarning: An interactive session is already active. This can cause out-of-memory errors in some cases. You must explicitly call `InteractiveSession.close()` to release resources held by the other session(s).\n",
            "  warnings.warn('An interactive session is already active. This can '\n"
          ],
          "name": "stderr"
        }
      ]
    },
    {
      "cell_type": "code",
      "metadata": {
        "id": "MhjF0A4pHkdh",
        "colab_type": "code",
        "colab": {}
      },
      "source": [
        "from keras.applications.inception_v3 import InceptionV3"
      ],
      "execution_count": null,
      "outputs": []
    },
    {
      "cell_type": "code",
      "metadata": {
        "id": "wWL9JBVbICYY",
        "colab_type": "code",
        "colab": {}
      },
      "source": [
        "conv_base = InceptionV3(weights = 'imagenet', include_top = False, pooling = 'avg')"
      ],
      "execution_count": null,
      "outputs": []
    },
    {
      "cell_type": "code",
      "metadata": {
        "id": "0tw3QqY2IFb1",
        "colab_type": "code",
        "colab": {
          "base_uri": "https://localhost:8080/",
          "height": 34
        },
        "outputId": "a130982f-234c-4348-c489-5bb326529720"
      },
      "source": [
        "for layer in conv_base.layers[:299]:\n",
        "  layer.trainable = False\n",
        "for layer in conv_base.layers[299:]:\n",
        "  layer.trainable = True\n",
        "for layer in conv_base.layers:\n",
        "  if isinstance(layer, BatchNormalization):\n",
        "    layer.trainable = True\n",
        "\n",
        "print(\"Done\")"
      ],
      "execution_count": null,
      "outputs": [
        {
          "output_type": "stream",
          "text": [
            "Done\n"
          ],
          "name": "stdout"
        }
      ]
    },
    {
      "cell_type": "code",
      "metadata": {
        "id": "TPqTlCfaIIzT",
        "colab_type": "code",
        "colab": {
          "base_uri": "https://localhost:8080/",
          "height": 1000
        },
        "outputId": "834052cf-0078-4103-b889-ff21880fe58c"
      },
      "source": [
        "for i, layer in enumerate(conv_base.layers):\n",
        "   print(i, layer.name, layer.trainable)"
      ],
      "execution_count": null,
      "outputs": [
        {
          "output_type": "stream",
          "text": [
            "0 input_3 False\n",
            "1 conv2d_95 False\n",
            "2 batch_normalization_94 True\n",
            "3 activation_94 False\n",
            "4 conv2d_96 False\n",
            "5 batch_normalization_95 True\n",
            "6 activation_95 False\n",
            "7 conv2d_97 False\n",
            "8 batch_normalization_96 True\n",
            "9 activation_96 False\n",
            "10 max_pooling2d_4 False\n",
            "11 conv2d_98 False\n",
            "12 batch_normalization_97 True\n",
            "13 activation_97 False\n",
            "14 conv2d_99 False\n",
            "15 batch_normalization_98 True\n",
            "16 activation_98 False\n",
            "17 max_pooling2d_5 False\n",
            "18 conv2d_103 False\n",
            "19 batch_normalization_102 True\n",
            "20 activation_102 False\n",
            "21 conv2d_101 False\n",
            "22 conv2d_104 False\n",
            "23 batch_normalization_100 True\n",
            "24 batch_normalization_103 True\n",
            "25 activation_100 False\n",
            "26 activation_103 False\n",
            "27 average_pooling2d_9 False\n",
            "28 conv2d_100 False\n",
            "29 conv2d_102 False\n",
            "30 conv2d_105 False\n",
            "31 conv2d_106 False\n",
            "32 batch_normalization_99 True\n",
            "33 batch_normalization_101 True\n",
            "34 batch_normalization_104 True\n",
            "35 batch_normalization_105 True\n",
            "36 activation_99 False\n",
            "37 activation_101 False\n",
            "38 activation_104 False\n",
            "39 activation_105 False\n",
            "40 mixed0 False\n",
            "41 conv2d_110 False\n",
            "42 batch_normalization_109 True\n",
            "43 activation_109 False\n",
            "44 conv2d_108 False\n",
            "45 conv2d_111 False\n",
            "46 batch_normalization_107 True\n",
            "47 batch_normalization_110 True\n",
            "48 activation_107 False\n",
            "49 activation_110 False\n",
            "50 average_pooling2d_10 False\n",
            "51 conv2d_107 False\n",
            "52 conv2d_109 False\n",
            "53 conv2d_112 False\n",
            "54 conv2d_113 False\n",
            "55 batch_normalization_106 True\n",
            "56 batch_normalization_108 True\n",
            "57 batch_normalization_111 True\n",
            "58 batch_normalization_112 True\n",
            "59 activation_106 False\n",
            "60 activation_108 False\n",
            "61 activation_111 False\n",
            "62 activation_112 False\n",
            "63 mixed1 False\n",
            "64 conv2d_117 False\n",
            "65 batch_normalization_116 True\n",
            "66 activation_116 False\n",
            "67 conv2d_115 False\n",
            "68 conv2d_118 False\n",
            "69 batch_normalization_114 True\n",
            "70 batch_normalization_117 True\n",
            "71 activation_114 False\n",
            "72 activation_117 False\n",
            "73 average_pooling2d_11 False\n",
            "74 conv2d_114 False\n",
            "75 conv2d_116 False\n",
            "76 conv2d_119 False\n",
            "77 conv2d_120 False\n",
            "78 batch_normalization_113 True\n",
            "79 batch_normalization_115 True\n",
            "80 batch_normalization_118 True\n",
            "81 batch_normalization_119 True\n",
            "82 activation_113 False\n",
            "83 activation_115 False\n",
            "84 activation_118 False\n",
            "85 activation_119 False\n",
            "86 mixed2 False\n",
            "87 conv2d_122 False\n",
            "88 batch_normalization_121 True\n",
            "89 activation_121 False\n",
            "90 conv2d_123 False\n",
            "91 batch_normalization_122 True\n",
            "92 activation_122 False\n",
            "93 conv2d_121 False\n",
            "94 conv2d_124 False\n",
            "95 batch_normalization_120 True\n",
            "96 batch_normalization_123 True\n",
            "97 activation_120 False\n",
            "98 activation_123 False\n",
            "99 max_pooling2d_6 False\n",
            "100 mixed3 False\n",
            "101 conv2d_129 False\n",
            "102 batch_normalization_128 True\n",
            "103 activation_128 False\n",
            "104 conv2d_130 False\n",
            "105 batch_normalization_129 True\n",
            "106 activation_129 False\n",
            "107 conv2d_126 False\n",
            "108 conv2d_131 False\n",
            "109 batch_normalization_125 True\n",
            "110 batch_normalization_130 True\n",
            "111 activation_125 False\n",
            "112 activation_130 False\n",
            "113 conv2d_127 False\n",
            "114 conv2d_132 False\n",
            "115 batch_normalization_126 True\n",
            "116 batch_normalization_131 True\n",
            "117 activation_126 False\n",
            "118 activation_131 False\n",
            "119 average_pooling2d_12 False\n",
            "120 conv2d_125 False\n",
            "121 conv2d_128 False\n",
            "122 conv2d_133 False\n",
            "123 conv2d_134 False\n",
            "124 batch_normalization_124 True\n",
            "125 batch_normalization_127 True\n",
            "126 batch_normalization_132 True\n",
            "127 batch_normalization_133 True\n",
            "128 activation_124 False\n",
            "129 activation_127 False\n",
            "130 activation_132 False\n",
            "131 activation_133 False\n",
            "132 mixed4 False\n",
            "133 conv2d_139 False\n",
            "134 batch_normalization_138 True\n",
            "135 activation_138 False\n",
            "136 conv2d_140 False\n",
            "137 batch_normalization_139 True\n",
            "138 activation_139 False\n",
            "139 conv2d_136 False\n",
            "140 conv2d_141 False\n",
            "141 batch_normalization_135 True\n",
            "142 batch_normalization_140 True\n",
            "143 activation_135 False\n",
            "144 activation_140 False\n",
            "145 conv2d_137 False\n",
            "146 conv2d_142 False\n",
            "147 batch_normalization_136 True\n",
            "148 batch_normalization_141 True\n",
            "149 activation_136 False\n",
            "150 activation_141 False\n",
            "151 average_pooling2d_13 False\n",
            "152 conv2d_135 False\n",
            "153 conv2d_138 False\n",
            "154 conv2d_143 False\n",
            "155 conv2d_144 False\n",
            "156 batch_normalization_134 True\n",
            "157 batch_normalization_137 True\n",
            "158 batch_normalization_142 True\n",
            "159 batch_normalization_143 True\n",
            "160 activation_134 False\n",
            "161 activation_137 False\n",
            "162 activation_142 False\n",
            "163 activation_143 False\n",
            "164 mixed5 False\n",
            "165 conv2d_149 False\n",
            "166 batch_normalization_148 True\n",
            "167 activation_148 False\n",
            "168 conv2d_150 False\n",
            "169 batch_normalization_149 True\n",
            "170 activation_149 False\n",
            "171 conv2d_146 False\n",
            "172 conv2d_151 False\n",
            "173 batch_normalization_145 True\n",
            "174 batch_normalization_150 True\n",
            "175 activation_145 False\n",
            "176 activation_150 False\n",
            "177 conv2d_147 False\n",
            "178 conv2d_152 False\n",
            "179 batch_normalization_146 True\n",
            "180 batch_normalization_151 True\n",
            "181 activation_146 False\n",
            "182 activation_151 False\n",
            "183 average_pooling2d_14 False\n",
            "184 conv2d_145 False\n",
            "185 conv2d_148 False\n",
            "186 conv2d_153 False\n",
            "187 conv2d_154 False\n",
            "188 batch_normalization_144 True\n",
            "189 batch_normalization_147 True\n",
            "190 batch_normalization_152 True\n",
            "191 batch_normalization_153 True\n",
            "192 activation_144 False\n",
            "193 activation_147 False\n",
            "194 activation_152 False\n",
            "195 activation_153 False\n",
            "196 mixed6 False\n",
            "197 conv2d_159 False\n",
            "198 batch_normalization_158 True\n",
            "199 activation_158 False\n",
            "200 conv2d_160 False\n",
            "201 batch_normalization_159 True\n",
            "202 activation_159 False\n",
            "203 conv2d_156 False\n",
            "204 conv2d_161 False\n",
            "205 batch_normalization_155 True\n",
            "206 batch_normalization_160 True\n",
            "207 activation_155 False\n",
            "208 activation_160 False\n",
            "209 conv2d_157 False\n",
            "210 conv2d_162 False\n",
            "211 batch_normalization_156 True\n",
            "212 batch_normalization_161 True\n",
            "213 activation_156 False\n",
            "214 activation_161 False\n",
            "215 average_pooling2d_15 False\n",
            "216 conv2d_155 False\n",
            "217 conv2d_158 False\n",
            "218 conv2d_163 False\n",
            "219 conv2d_164 False\n",
            "220 batch_normalization_154 True\n",
            "221 batch_normalization_157 True\n",
            "222 batch_normalization_162 True\n",
            "223 batch_normalization_163 True\n",
            "224 activation_154 False\n",
            "225 activation_157 False\n",
            "226 activation_162 False\n",
            "227 activation_163 False\n",
            "228 mixed7 False\n",
            "229 conv2d_167 False\n",
            "230 batch_normalization_166 True\n",
            "231 activation_166 False\n",
            "232 conv2d_168 False\n",
            "233 batch_normalization_167 True\n",
            "234 activation_167 False\n",
            "235 conv2d_165 False\n",
            "236 conv2d_169 False\n",
            "237 batch_normalization_164 True\n",
            "238 batch_normalization_168 True\n",
            "239 activation_164 False\n",
            "240 activation_168 False\n",
            "241 conv2d_166 False\n",
            "242 conv2d_170 False\n",
            "243 batch_normalization_165 True\n",
            "244 batch_normalization_169 True\n",
            "245 activation_165 False\n",
            "246 activation_169 False\n",
            "247 max_pooling2d_7 False\n",
            "248 mixed8 False\n",
            "249 conv2d_175 False\n",
            "250 batch_normalization_174 True\n",
            "251 activation_174 False\n",
            "252 conv2d_172 False\n",
            "253 conv2d_176 False\n",
            "254 batch_normalization_171 True\n",
            "255 batch_normalization_175 True\n",
            "256 activation_171 False\n",
            "257 activation_175 False\n",
            "258 conv2d_173 False\n",
            "259 conv2d_174 False\n",
            "260 conv2d_177 False\n",
            "261 conv2d_178 False\n",
            "262 average_pooling2d_16 False\n",
            "263 conv2d_171 False\n",
            "264 batch_normalization_172 True\n",
            "265 batch_normalization_173 True\n",
            "266 batch_normalization_176 True\n",
            "267 batch_normalization_177 True\n",
            "268 conv2d_179 False\n",
            "269 batch_normalization_170 True\n",
            "270 activation_172 False\n",
            "271 activation_173 False\n",
            "272 activation_176 False\n",
            "273 activation_177 False\n",
            "274 batch_normalization_178 True\n",
            "275 activation_170 False\n",
            "276 mixed9_0 False\n",
            "277 concatenate_2 False\n",
            "278 activation_178 False\n",
            "279 mixed9 False\n",
            "280 conv2d_184 False\n",
            "281 batch_normalization_183 True\n",
            "282 activation_183 False\n",
            "283 conv2d_181 False\n",
            "284 conv2d_185 False\n",
            "285 batch_normalization_180 True\n",
            "286 batch_normalization_184 True\n",
            "287 activation_180 False\n",
            "288 activation_184 False\n",
            "289 conv2d_182 False\n",
            "290 conv2d_183 False\n",
            "291 conv2d_186 False\n",
            "292 conv2d_187 False\n",
            "293 average_pooling2d_17 False\n",
            "294 conv2d_180 False\n",
            "295 batch_normalization_181 True\n",
            "296 batch_normalization_182 True\n",
            "297 batch_normalization_185 True\n",
            "298 batch_normalization_186 True\n",
            "299 conv2d_188 True\n",
            "300 batch_normalization_179 True\n",
            "301 activation_181 True\n",
            "302 activation_182 True\n",
            "303 activation_185 True\n",
            "304 activation_186 True\n",
            "305 batch_normalization_187 True\n",
            "306 activation_179 True\n",
            "307 mixed9_1 True\n",
            "308 concatenate_3 True\n",
            "309 activation_187 True\n",
            "310 mixed10 True\n",
            "311 global_average_pooling2d_1 True\n"
          ],
          "name": "stdout"
        }
      ]
    },
    {
      "cell_type": "code",
      "metadata": {
        "id": "LRgJzzTkILvk",
        "colab_type": "code",
        "colab": {}
      },
      "source": [
        "from keras.layers import Input "
      ],
      "execution_count": null,
      "outputs": []
    },
    {
      "cell_type": "code",
      "metadata": {
        "id": "6XwhmneUIOz4",
        "colab_type": "code",
        "colab": {}
      },
      "source": [
        "input_tensor = Input(shape=(224,224,1))\n",
        "x = Conv2D(3,(3,3), padding='same')(input_tensor)"
      ],
      "execution_count": null,
      "outputs": []
    },
    {
      "cell_type": "code",
      "metadata": {
        "id": "im_uZPYCIQ_d",
        "colab_type": "code",
        "colab": {}
      },
      "source": [
        "x = conv_base(x)"
      ],
      "execution_count": null,
      "outputs": []
    },
    {
      "cell_type": "code",
      "metadata": {
        "id": "ATK3uMnWIUdW",
        "colab_type": "code",
        "colab": {}
      },
      "source": [
        "x = Dense(2048, activation='relu', kernel_regularizer= regularizers.l2(0.001))(x)\n",
        "x = Dropout(0.5)(x)"
      ],
      "execution_count": null,
      "outputs": []
    },
    {
      "cell_type": "code",
      "metadata": {
        "id": "ucYVzkNJIWuk",
        "colab_type": "code",
        "colab": {}
      },
      "source": [
        "ouput = Dense(11, activation='softmax')(x)"
      ],
      "execution_count": null,
      "outputs": []
    },
    {
      "cell_type": "code",
      "metadata": {
        "id": "qlek0DDqId2e",
        "colab_type": "code",
        "colab": {}
      },
      "source": [
        "model = Model(inputs = input_tensor, outputs = ouput )"
      ],
      "execution_count": null,
      "outputs": []
    },
    {
      "cell_type": "code",
      "metadata": {
        "id": "c234MRM8IhIy",
        "colab_type": "code",
        "colab": {
          "base_uri": "https://localhost:8080/",
          "height": 357
        },
        "outputId": "1e9b5a95-da8d-44ce-a472-2ace3c0af3a1"
      },
      "source": [
        "model.summary()"
      ],
      "execution_count": null,
      "outputs": [
        {
          "output_type": "stream",
          "text": [
            "Model: \"functional_1\"\n",
            "_________________________________________________________________\n",
            "Layer (type)                 Output Shape              Param #   \n",
            "=================================================================\n",
            "input_4 (InputLayer)         [(None, 224, 224, 1)]     0         \n",
            "_________________________________________________________________\n",
            "conv2d_189 (Conv2D)          (None, 224, 224, 3)       30        \n",
            "_________________________________________________________________\n",
            "inception_v3 (Functional)    (None, 2048)              21802784  \n",
            "_________________________________________________________________\n",
            "dense_2 (Dense)              (None, 2048)              4196352   \n",
            "_________________________________________________________________\n",
            "dropout_1 (Dropout)          (None, 2048)              0         \n",
            "_________________________________________________________________\n",
            "dense_3 (Dense)              (None, 11)                22539     \n",
            "=================================================================\n",
            "Total params: 26,021,705\n",
            "Trainable params: 4,629,353\n",
            "Non-trainable params: 21,392,352\n",
            "_________________________________________________________________\n"
          ],
          "name": "stdout"
        }
      ]
    },
    {
      "cell_type": "code",
      "metadata": {
        "id": "YKHF6ZDtIj7X",
        "colab_type": "code",
        "colab": {}
      },
      "source": [
        "model.compile(loss='categorical_crossentropy',\n",
        "              optimizer=Adam(lr=0.001),\n",
        "              metrics=['accuracy'])"
      ],
      "execution_count": null,
      "outputs": []
    },
    {
      "cell_type": "code",
      "metadata": {
        "id": "QFrUnTWdIm1x",
        "colab_type": "code",
        "colab": {}
      },
      "source": [
        "from keras.callbacks import ModelCheckpoint, EarlyStopping, ReduceLROnPlateau\n",
        "checkpoint = ModelCheckpoint(\"/content/drive/My Drive/KTH-Colour/Inspection3_GreyScale_K-Th.h5\",\n",
        "                             monitor=\"val_loss\",\n",
        "                             mode=\"min\",\n",
        "                             save_best_only = True,\n",
        "                             verbose=1)\n",
        "\n",
        "earlystop = EarlyStopping(monitor = 'val_loss', \n",
        "                          min_delta = 0, \n",
        "                          patience = 40,\n",
        "                          verbose = 1,\n",
        "                          restore_best_weights = True)\n",
        "\n",
        "reduce_lr = ReduceLROnPlateau(monitor = 'val_loss',\n",
        "                              factor = 0.2,\n",
        "                              patience = 40,\n",
        "                              verbose = 1,\n",
        "                              min_delta = 0.00001)\n",
        "\n",
        "callBacks = [earlystop, checkpoint, reduce_lr]"
      ],
      "execution_count": null,
      "outputs": []
    },
    {
      "cell_type": "code",
      "metadata": {
        "id": "Silp66FDJEvF",
        "colab_type": "code",
        "colab": {
          "base_uri": "https://localhost:8080/",
          "height": 1000
        },
        "outputId": "1cb9b745-19e6-4726-b5ee-f42ed2adde50"
      },
      "source": [
        "hist = model.fit_generator(steps_per_epoch=359,generator= Grey_TrainingData, validation_data= Grey_ValidData, validation_steps=20,epochs=120,callbacks=callBacks)"
      ],
      "execution_count": null,
      "outputs": [
        {
          "output_type": "stream",
          "text": [
            "WARNING:tensorflow:From <ipython-input-47-824327de9dc8>:1: Model.fit_generator (from tensorflow.python.keras.engine.training) is deprecated and will be removed in a future version.\n",
            "Instructions for updating:\n",
            "Please use Model.fit, which supports generators.\n",
            "Epoch 1/120\n",
            "359/359 [==============================] - ETA: 0s - loss: 2.5483 - accuracy: 0.5875\n",
            "Epoch 00001: val_loss improved from inf to 1.75719, saving model to /content/drive/My Drive/KTH-Colour/Inspection3_GreyScale_K-Th.h5\n",
            "359/359 [==============================] - 2680s 7s/step - loss: 2.5483 - accuracy: 0.5875 - val_loss: 1.7572 - val_accuracy: 0.6938\n",
            "Epoch 2/120\n",
            "358/359 [============================>.] - ETA: 0s - loss: 1.3482 - accuracy: 0.7353\n",
            "Epoch 00002: val_loss did not improve from 1.75719\n",
            "359/359 [==============================] - 18s 49ms/step - loss: 1.3480 - accuracy: 0.7350 - val_loss: 3.0259 - val_accuracy: 0.3812\n",
            "Epoch 3/120\n",
            "359/359 [==============================] - ETA: 0s - loss: 1.0703 - accuracy: 0.7681\n",
            "Epoch 00003: val_loss did not improve from 1.75719\n",
            "359/359 [==============================] - 17s 49ms/step - loss: 1.0703 - accuracy: 0.7681 - val_loss: 3.4899 - val_accuracy: 0.4437\n",
            "Epoch 4/120\n",
            "359/359 [==============================] - ETA: 0s - loss: 0.9064 - accuracy: 0.7891\n",
            "Epoch 00004: val_loss did not improve from 1.75719\n",
            "359/359 [==============================] - 17s 49ms/step - loss: 0.9064 - accuracy: 0.7891 - val_loss: 3.5483 - val_accuracy: 0.4375\n",
            "Epoch 5/120\n",
            "359/359 [==============================] - ETA: 0s - loss: 0.8167 - accuracy: 0.8065\n",
            "Epoch 00005: val_loss did not improve from 1.75719\n",
            "359/359 [==============================] - 18s 49ms/step - loss: 0.8167 - accuracy: 0.8065 - val_loss: 2.1602 - val_accuracy: 0.5688\n",
            "Epoch 6/120\n",
            "359/359 [==============================] - ETA: 0s - loss: 0.6988 - accuracy: 0.8326\n",
            "Epoch 00006: val_loss did not improve from 1.75719\n",
            "359/359 [==============================] - 18s 49ms/step - loss: 0.6988 - accuracy: 0.8326 - val_loss: 4.5635 - val_accuracy: 0.3375\n",
            "Epoch 7/120\n",
            "359/359 [==============================] - ETA: 0s - loss: 0.6893 - accuracy: 0.8427\n",
            "Epoch 00007: val_loss did not improve from 1.75719\n",
            "359/359 [==============================] - 18s 49ms/step - loss: 0.6893 - accuracy: 0.8427 - val_loss: 2.6822 - val_accuracy: 0.5437\n",
            "Epoch 8/120\n",
            "358/359 [============================>.] - ETA: 0s - loss: 0.6502 - accuracy: 0.8507\n",
            "Epoch 00008: val_loss did not improve from 1.75719\n",
            "359/359 [==============================] - 18s 49ms/step - loss: 0.6507 - accuracy: 0.8508 - val_loss: 3.5022 - val_accuracy: 0.5188\n",
            "Epoch 9/120\n",
            "358/359 [============================>.] - ETA: 0s - loss: 0.6315 - accuracy: 0.8538\n",
            "Epoch 00009: val_loss did not improve from 1.75719\n",
            "359/359 [==============================] - 18s 49ms/step - loss: 0.6306 - accuracy: 0.8543 - val_loss: 2.7841 - val_accuracy: 0.4688\n",
            "Epoch 10/120\n",
            "359/359 [==============================] - ETA: 0s - loss: 0.6310 - accuracy: 0.8546\n",
            "Epoch 00010: val_loss did not improve from 1.75719\n",
            "359/359 [==============================] - 17s 49ms/step - loss: 0.6310 - accuracy: 0.8546 - val_loss: 3.1683 - val_accuracy: 0.5188\n",
            "Epoch 11/120\n",
            "359/359 [==============================] - ETA: 0s - loss: 0.5566 - accuracy: 0.8675\n",
            "Epoch 00011: val_loss did not improve from 1.75719\n",
            "359/359 [==============================] - 18s 49ms/step - loss: 0.5566 - accuracy: 0.8675 - val_loss: 2.8918 - val_accuracy: 0.5500\n",
            "Epoch 12/120\n",
            "359/359 [==============================] - ETA: 0s - loss: 0.5512 - accuracy: 0.8710\n",
            "Epoch 00012: val_loss did not improve from 1.75719\n",
            "359/359 [==============================] - 18s 49ms/step - loss: 0.5512 - accuracy: 0.8710 - val_loss: 4.2013 - val_accuracy: 0.4313\n",
            "Epoch 13/120\n",
            "359/359 [==============================] - ETA: 0s - loss: 0.4995 - accuracy: 0.8909\n",
            "Epoch 00013: val_loss did not improve from 1.75719\n",
            "359/359 [==============================] - 17s 49ms/step - loss: 0.4995 - accuracy: 0.8909 - val_loss: 3.2104 - val_accuracy: 0.4812\n",
            "Epoch 14/120\n",
            "359/359 [==============================] - ETA: 0s - loss: 0.4991 - accuracy: 0.8891\n",
            "Epoch 00014: val_loss improved from 1.75719 to 1.69696, saving model to /content/drive/My Drive/KTH-Colour/Inspection3_GreyScale_K-Th.h5\n",
            "359/359 [==============================] - 20s 57ms/step - loss: 0.4991 - accuracy: 0.8891 - val_loss: 1.6970 - val_accuracy: 0.6313\n",
            "Epoch 15/120\n",
            "359/359 [==============================] - ETA: 0s - loss: 0.5048 - accuracy: 0.8801\n",
            "Epoch 00015: val_loss did not improve from 1.69696\n",
            "359/359 [==============================] - 18s 49ms/step - loss: 0.5048 - accuracy: 0.8801 - val_loss: 1.7135 - val_accuracy: 0.6187\n",
            "Epoch 16/120\n",
            "358/359 [============================>.] - ETA: 0s - loss: 0.4576 - accuracy: 0.8930\n",
            "Epoch 00016: val_loss did not improve from 1.69696\n",
            "359/359 [==============================] - 18s 49ms/step - loss: 0.4576 - accuracy: 0.8930 - val_loss: 2.1768 - val_accuracy: 0.5938\n",
            "Epoch 17/120\n",
            "358/359 [============================>.] - ETA: 0s - loss: 0.4399 - accuracy: 0.9052\n",
            "Epoch 00017: val_loss did not improve from 1.69696\n",
            "359/359 [==============================] - 17s 49ms/step - loss: 0.4391 - accuracy: 0.9055 - val_loss: 2.4998 - val_accuracy: 0.5375\n",
            "Epoch 18/120\n",
            "359/359 [==============================] - ETA: 0s - loss: 0.4054 - accuracy: 0.9121\n",
            "Epoch 00018: val_loss did not improve from 1.69696\n",
            "359/359 [==============================] - 18s 49ms/step - loss: 0.4054 - accuracy: 0.9121 - val_loss: 2.1347 - val_accuracy: 0.6562\n",
            "Epoch 19/120\n",
            "359/359 [==============================] - ETA: 0s - loss: 0.4056 - accuracy: 0.9111\n",
            "Epoch 00019: val_loss did not improve from 1.69696\n",
            "359/359 [==============================] - 17s 49ms/step - loss: 0.4056 - accuracy: 0.9111 - val_loss: 2.9185 - val_accuracy: 0.4812\n",
            "Epoch 20/120\n",
            "359/359 [==============================] - ETA: 0s - loss: 0.3983 - accuracy: 0.9149\n",
            "Epoch 00020: val_loss did not improve from 1.69696\n",
            "359/359 [==============================] - 18s 49ms/step - loss: 0.3983 - accuracy: 0.9149 - val_loss: 2.6532 - val_accuracy: 0.6313\n",
            "Epoch 21/120\n",
            "359/359 [==============================] - ETA: 0s - loss: 0.3721 - accuracy: 0.9146\n",
            "Epoch 00021: val_loss did not improve from 1.69696\n",
            "359/359 [==============================] - 18s 49ms/step - loss: 0.3721 - accuracy: 0.9146 - val_loss: 2.3514 - val_accuracy: 0.6687\n",
            "Epoch 22/120\n",
            "359/359 [==============================] - ETA: 0s - loss: 0.3551 - accuracy: 0.9212\n",
            "Epoch 00022: val_loss did not improve from 1.69696\n",
            "359/359 [==============================] - 17s 49ms/step - loss: 0.3551 - accuracy: 0.9212 - val_loss: 2.0517 - val_accuracy: 0.6000\n",
            "Epoch 23/120\n",
            "358/359 [============================>.] - ETA: 0s - loss: 0.3586 - accuracy: 0.9192\n",
            "Epoch 00023: val_loss did not improve from 1.69696\n",
            "359/359 [==============================] - 18s 49ms/step - loss: 0.3589 - accuracy: 0.9191 - val_loss: 2.0137 - val_accuracy: 0.6313\n",
            "Epoch 24/120\n",
            "358/359 [============================>.] - ETA: 0s - loss: 0.3643 - accuracy: 0.9098\n",
            "Epoch 00024: val_loss did not improve from 1.69696\n",
            "359/359 [==============================] - 18s 49ms/step - loss: 0.3638 - accuracy: 0.9100 - val_loss: 3.8655 - val_accuracy: 0.5063\n",
            "Epoch 25/120\n",
            "359/359 [==============================] - ETA: 0s - loss: 0.3318 - accuracy: 0.9282\n",
            "Epoch 00025: val_loss did not improve from 1.69696\n",
            "359/359 [==============================] - 18s 49ms/step - loss: 0.3318 - accuracy: 0.9282 - val_loss: 4.5412 - val_accuracy: 0.4500\n",
            "Epoch 26/120\n",
            "358/359 [============================>.] - ETA: 0s - loss: 0.3260 - accuracy: 0.9206\n",
            "Epoch 00026: val_loss did not improve from 1.69696\n",
            "359/359 [==============================] - 17s 49ms/step - loss: 0.3256 - accuracy: 0.9209 - val_loss: 2.8120 - val_accuracy: 0.6750\n",
            "Epoch 27/120\n",
            "359/359 [==============================] - ETA: 0s - loss: 0.3401 - accuracy: 0.9205\n",
            "Epoch 00027: val_loss did not improve from 1.69696\n",
            "359/359 [==============================] - 18s 49ms/step - loss: 0.3401 - accuracy: 0.9205 - val_loss: 2.8222 - val_accuracy: 0.5938\n",
            "Epoch 28/120\n",
            "359/359 [==============================] - ETA: 0s - loss: 0.3360 - accuracy: 0.9198\n",
            "Epoch 00028: val_loss did not improve from 1.69696\n",
            "359/359 [==============================] - 18s 49ms/step - loss: 0.3360 - accuracy: 0.9198 - val_loss: 4.1310 - val_accuracy: 0.4437\n",
            "Epoch 29/120\n",
            "359/359 [==============================] - ETA: 0s - loss: 0.3102 - accuracy: 0.9369\n",
            "Epoch 00029: val_loss did not improve from 1.69696\n",
            "359/359 [==============================] - 18s 49ms/step - loss: 0.3102 - accuracy: 0.9369 - val_loss: 4.0445 - val_accuracy: 0.4688\n",
            "Epoch 30/120\n",
            "359/359 [==============================] - ETA: 0s - loss: 0.2744 - accuracy: 0.9365\n",
            "Epoch 00030: val_loss did not improve from 1.69696\n",
            "359/359 [==============================] - 17s 49ms/step - loss: 0.2744 - accuracy: 0.9365 - val_loss: 2.1237 - val_accuracy: 0.6125\n",
            "Epoch 31/120\n",
            "359/359 [==============================] - ETA: 0s - loss: 0.3006 - accuracy: 0.9317\n",
            "Epoch 00031: val_loss did not improve from 1.69696\n",
            "359/359 [==============================] - 18s 49ms/step - loss: 0.3006 - accuracy: 0.9317 - val_loss: 1.9889 - val_accuracy: 0.6187\n",
            "Epoch 32/120\n",
            "359/359 [==============================] - ETA: 0s - loss: 0.2831 - accuracy: 0.9331\n",
            "Epoch 00032: val_loss did not improve from 1.69696\n",
            "359/359 [==============================] - 18s 49ms/step - loss: 0.2831 - accuracy: 0.9331 - val_loss: 3.8295 - val_accuracy: 0.5250\n",
            "Epoch 33/120\n",
            "358/359 [============================>.] - ETA: 0s - loss: 0.3101 - accuracy: 0.9311\n",
            "Epoch 00033: val_loss did not improve from 1.69696\n",
            "359/359 [==============================] - 18s 49ms/step - loss: 0.3103 - accuracy: 0.9310 - val_loss: 1.8153 - val_accuracy: 0.6687\n",
            "Epoch 34/120\n",
            "358/359 [============================>.] - ETA: 0s - loss: 0.2761 - accuracy: 0.9402\n",
            "Epoch 00034: val_loss did not improve from 1.69696\n",
            "359/359 [==============================] - 18s 49ms/step - loss: 0.2758 - accuracy: 0.9404 - val_loss: 3.3318 - val_accuracy: 0.4938\n",
            "Epoch 35/120\n",
            "358/359 [============================>.] - ETA: 0s - loss: 0.2871 - accuracy: 0.9381\n",
            "Epoch 00035: val_loss did not improve from 1.69696\n",
            "359/359 [==============================] - 18s 49ms/step - loss: 0.2870 - accuracy: 0.9379 - val_loss: 6.4425 - val_accuracy: 0.3812\n",
            "Epoch 36/120\n",
            "359/359 [==============================] - ETA: 0s - loss: 0.2638 - accuracy: 0.9428\n",
            "Epoch 00036: val_loss did not improve from 1.69696\n",
            "359/359 [==============================] - 18s 49ms/step - loss: 0.2638 - accuracy: 0.9428 - val_loss: 2.3178 - val_accuracy: 0.5875\n",
            "Epoch 37/120\n",
            "359/359 [==============================] - ETA: 0s - loss: 0.2375 - accuracy: 0.9529\n",
            "Epoch 00037: val_loss did not improve from 1.69696\n",
            "359/359 [==============================] - 18s 49ms/step - loss: 0.2375 - accuracy: 0.9529 - val_loss: 3.2809 - val_accuracy: 0.6125\n",
            "Epoch 38/120\n",
            "358/359 [============================>.] - ETA: 0s - loss: 0.2643 - accuracy: 0.9406\n",
            "Epoch 00038: val_loss did not improve from 1.69696\n",
            "359/359 [==============================] - 18s 49ms/step - loss: 0.2644 - accuracy: 0.9404 - val_loss: 1.9994 - val_accuracy: 0.6500\n",
            "Epoch 39/120\n",
            "359/359 [==============================] - ETA: 0s - loss: 0.2455 - accuracy: 0.9501\n",
            "Epoch 00039: val_loss did not improve from 1.69696\n",
            "359/359 [==============================] - 18s 49ms/step - loss: 0.2455 - accuracy: 0.9501 - val_loss: 2.5745 - val_accuracy: 0.6062\n",
            "Epoch 40/120\n",
            "358/359 [============================>.] - ETA: 0s - loss: 0.2606 - accuracy: 0.9409\n",
            "Epoch 00040: val_loss did not improve from 1.69696\n",
            "359/359 [==============================] - 18s 49ms/step - loss: 0.2625 - accuracy: 0.9407 - val_loss: 4.1585 - val_accuracy: 0.5500\n",
            "Epoch 41/120\n",
            "358/359 [============================>.] - ETA: 0s - loss: 0.2545 - accuracy: 0.9441\n",
            "Epoch 00041: val_loss improved from 1.69696 to 1.57139, saving model to /content/drive/My Drive/KTH-Colour/Inspection3_GreyScale_K-Th.h5\n",
            "359/359 [==============================] - 20s 55ms/step - loss: 0.2557 - accuracy: 0.9439 - val_loss: 1.5714 - val_accuracy: 0.6812\n",
            "Epoch 42/120\n",
            "358/359 [============================>.] - ETA: 0s - loss: 0.2517 - accuracy: 0.9479\n",
            "Epoch 00042: val_loss did not improve from 1.57139\n",
            "359/359 [==============================] - 18s 49ms/step - loss: 0.2513 - accuracy: 0.9480 - val_loss: 2.6517 - val_accuracy: 0.5938\n",
            "Epoch 43/120\n",
            "359/359 [==============================] - ETA: 0s - loss: 0.2314 - accuracy: 0.9470\n",
            "Epoch 00043: val_loss did not improve from 1.57139\n",
            "359/359 [==============================] - 18s 49ms/step - loss: 0.2314 - accuracy: 0.9470 - val_loss: 2.4763 - val_accuracy: 0.6250\n",
            "Epoch 44/120\n",
            "359/359 [==============================] - ETA: 0s - loss: 0.2058 - accuracy: 0.9575\n",
            "Epoch 00044: val_loss did not improve from 1.57139\n",
            "359/359 [==============================] - 18s 49ms/step - loss: 0.2058 - accuracy: 0.9575 - val_loss: 3.1967 - val_accuracy: 0.5250\n",
            "Epoch 45/120\n",
            "359/359 [==============================] - ETA: 0s - loss: 0.2465 - accuracy: 0.9463\n",
            "Epoch 00045: val_loss did not improve from 1.57139\n",
            "359/359 [==============================] - 18s 49ms/step - loss: 0.2465 - accuracy: 0.9463 - val_loss: 1.9214 - val_accuracy: 0.6750\n",
            "Epoch 46/120\n",
            "359/359 [==============================] - ETA: 0s - loss: 0.2291 - accuracy: 0.9536\n",
            "Epoch 00046: val_loss did not improve from 1.57139\n",
            "359/359 [==============================] - 18s 49ms/step - loss: 0.2291 - accuracy: 0.9536 - val_loss: 2.4704 - val_accuracy: 0.5875\n",
            "Epoch 47/120\n",
            "358/359 [============================>.] - ETA: 0s - loss: 0.2291 - accuracy: 0.9497\n",
            "Epoch 00047: val_loss did not improve from 1.57139\n",
            "359/359 [==============================] - 18s 49ms/step - loss: 0.2306 - accuracy: 0.9491 - val_loss: 2.5545 - val_accuracy: 0.6500\n",
            "Epoch 48/120\n",
            "358/359 [============================>.] - ETA: 0s - loss: 0.2137 - accuracy: 0.9503\n",
            "Epoch 00048: val_loss did not improve from 1.57139\n",
            "359/359 [==============================] - 18s 49ms/step - loss: 0.2134 - accuracy: 0.9505 - val_loss: 2.8826 - val_accuracy: 0.6812\n",
            "Epoch 49/120\n",
            "359/359 [==============================] - ETA: 0s - loss: 0.2265 - accuracy: 0.9512\n",
            "Epoch 00049: val_loss did not improve from 1.57139\n",
            "359/359 [==============================] - 18s 49ms/step - loss: 0.2265 - accuracy: 0.9512 - val_loss: 2.4339 - val_accuracy: 0.5875\n",
            "Epoch 50/120\n",
            "359/359 [==============================] - ETA: 0s - loss: 0.2264 - accuracy: 0.9543\n",
            "Epoch 00050: val_loss did not improve from 1.57139\n",
            "359/359 [==============================] - 18s 49ms/step - loss: 0.2264 - accuracy: 0.9543 - val_loss: 2.0544 - val_accuracy: 0.6375\n",
            "Epoch 51/120\n",
            "358/359 [============================>.] - ETA: 0s - loss: 0.2033 - accuracy: 0.9577\n",
            "Epoch 00051: val_loss did not improve from 1.57139\n",
            "359/359 [==============================] - 18s 49ms/step - loss: 0.2031 - accuracy: 0.9578 - val_loss: 1.7808 - val_accuracy: 0.6938\n",
            "Epoch 52/120\n",
            "358/359 [============================>.] - ETA: 0s - loss: 0.2350 - accuracy: 0.9514\n",
            "Epoch 00052: val_loss did not improve from 1.57139\n",
            "359/359 [==============================] - 18s 49ms/step - loss: 0.2348 - accuracy: 0.9515 - val_loss: 3.1480 - val_accuracy: 0.5312\n",
            "Epoch 53/120\n",
            "359/359 [==============================] - ETA: 0s - loss: 0.2259 - accuracy: 0.9526\n",
            "Epoch 00053: val_loss did not improve from 1.57139\n",
            "359/359 [==============================] - 17s 49ms/step - loss: 0.2259 - accuracy: 0.9526 - val_loss: 3.2615 - val_accuracy: 0.6000\n",
            "Epoch 54/120\n",
            "359/359 [==============================] - ETA: 0s - loss: 0.2261 - accuracy: 0.9508\n",
            "Epoch 00054: val_loss did not improve from 1.57139\n",
            "359/359 [==============================] - 18s 49ms/step - loss: 0.2261 - accuracy: 0.9508 - val_loss: 2.7666 - val_accuracy: 0.6313\n",
            "Epoch 55/120\n",
            "359/359 [==============================] - ETA: 0s - loss: 0.2096 - accuracy: 0.9561\n",
            "Epoch 00055: val_loss did not improve from 1.57139\n",
            "359/359 [==============================] - 17s 49ms/step - loss: 0.2096 - accuracy: 0.9561 - val_loss: 2.6538 - val_accuracy: 0.6250\n",
            "Epoch 56/120\n",
            "358/359 [============================>.] - ETA: 0s - loss: 0.1933 - accuracy: 0.9619\n",
            "Epoch 00056: val_loss did not improve from 1.57139\n",
            "359/359 [==============================] - 18s 49ms/step - loss: 0.1930 - accuracy: 0.9620 - val_loss: 2.5576 - val_accuracy: 0.6500\n",
            "Epoch 57/120\n",
            "358/359 [============================>.] - ETA: 0s - loss: 0.2291 - accuracy: 0.9510\n",
            "Epoch 00057: val_loss did not improve from 1.57139\n",
            "359/359 [==============================] - 18s 49ms/step - loss: 0.2293 - accuracy: 0.9508 - val_loss: 1.9404 - val_accuracy: 0.6938\n",
            "Epoch 58/120\n",
            "359/359 [==============================] - ETA: 0s - loss: 0.2205 - accuracy: 0.9585\n",
            "Epoch 00058: val_loss did not improve from 1.57139\n",
            "359/359 [==============================] - 18s 49ms/step - loss: 0.2205 - accuracy: 0.9585 - val_loss: 2.6963 - val_accuracy: 0.6438\n",
            "Epoch 59/120\n",
            "358/359 [============================>.] - ETA: 0s - loss: 0.1912 - accuracy: 0.9619\n",
            "Epoch 00059: val_loss improved from 1.57139 to 1.53306, saving model to /content/drive/My Drive/KTH-Colour/Inspection3_GreyScale_K-Th.h5\n",
            "359/359 [==============================] - 20s 56ms/step - loss: 0.1909 - accuracy: 0.9620 - val_loss: 1.5331 - val_accuracy: 0.7500\n",
            "Epoch 60/120\n",
            "359/359 [==============================] - ETA: 0s - loss: 0.1924 - accuracy: 0.9613\n",
            "Epoch 00060: val_loss did not improve from 1.53306\n",
            "359/359 [==============================] - 17s 49ms/step - loss: 0.1924 - accuracy: 0.9613 - val_loss: 2.2422 - val_accuracy: 0.6562\n",
            "Epoch 61/120\n",
            "359/359 [==============================] - ETA: 0s - loss: 0.2024 - accuracy: 0.9582\n",
            "Epoch 00061: val_loss did not improve from 1.53306\n",
            "359/359 [==============================] - 17s 49ms/step - loss: 0.2024 - accuracy: 0.9582 - val_loss: 2.7791 - val_accuracy: 0.5938\n",
            "Epoch 62/120\n",
            "359/359 [==============================] - ETA: 0s - loss: 0.2085 - accuracy: 0.9582\n",
            "Epoch 00062: val_loss did not improve from 1.53306\n",
            "359/359 [==============================] - 17s 49ms/step - loss: 0.2085 - accuracy: 0.9582 - val_loss: 2.2356 - val_accuracy: 0.6687\n",
            "Epoch 63/120\n",
            "359/359 [==============================] - ETA: 0s - loss: 0.1989 - accuracy: 0.9582\n",
            "Epoch 00063: val_loss did not improve from 1.53306\n",
            "359/359 [==============================] - 18s 49ms/step - loss: 0.1989 - accuracy: 0.9582 - val_loss: 2.0452 - val_accuracy: 0.7000\n",
            "Epoch 64/120\n",
            "358/359 [============================>.] - ETA: 0s - loss: 0.1909 - accuracy: 0.9608\n",
            "Epoch 00064: val_loss did not improve from 1.53306\n",
            "359/359 [==============================] - 17s 49ms/step - loss: 0.1909 - accuracy: 0.9609 - val_loss: 2.3585 - val_accuracy: 0.6687\n",
            "Epoch 65/120\n",
            "359/359 [==============================] - ETA: 0s - loss: 0.2044 - accuracy: 0.9585\n",
            "Epoch 00065: val_loss did not improve from 1.53306\n",
            "359/359 [==============================] - 17s 49ms/step - loss: 0.2044 - accuracy: 0.9585 - val_loss: 2.4060 - val_accuracy: 0.6375\n",
            "Epoch 66/120\n",
            "359/359 [==============================] - ETA: 0s - loss: 0.1981 - accuracy: 0.9616\n",
            "Epoch 00066: val_loss improved from 1.53306 to 1.38277, saving model to /content/drive/My Drive/KTH-Colour/Inspection3_GreyScale_K-Th.h5\n",
            "359/359 [==============================] - 20s 57ms/step - loss: 0.1981 - accuracy: 0.9616 - val_loss: 1.3828 - val_accuracy: 0.8062\n",
            "Epoch 67/120\n",
            "359/359 [==============================] - ETA: 0s - loss: 0.1762 - accuracy: 0.9658\n",
            "Epoch 00067: val_loss did not improve from 1.38277\n",
            "359/359 [==============================] - 17s 49ms/step - loss: 0.1762 - accuracy: 0.9658 - val_loss: 2.7418 - val_accuracy: 0.6500\n",
            "Epoch 68/120\n",
            "359/359 [==============================] - ETA: 0s - loss: 0.2125 - accuracy: 0.9582\n",
            "Epoch 00068: val_loss did not improve from 1.38277\n",
            "359/359 [==============================] - 17s 49ms/step - loss: 0.2125 - accuracy: 0.9582 - val_loss: 1.6725 - val_accuracy: 0.7188\n",
            "Epoch 69/120\n",
            "358/359 [============================>.] - ETA: 0s - loss: 0.2100 - accuracy: 0.9545\n",
            "Epoch 00069: val_loss did not improve from 1.38277\n",
            "359/359 [==============================] - 17s 49ms/step - loss: 0.2114 - accuracy: 0.9543 - val_loss: 2.3366 - val_accuracy: 0.6687\n",
            "Epoch 70/120\n",
            "359/359 [==============================] - ETA: 0s - loss: 0.1796 - accuracy: 0.9623\n",
            "Epoch 00070: val_loss did not improve from 1.38277\n",
            "359/359 [==============================] - 17s 49ms/step - loss: 0.1796 - accuracy: 0.9623 - val_loss: 1.6254 - val_accuracy: 0.7437\n",
            "Epoch 71/120\n",
            "359/359 [==============================] - ETA: 0s - loss: 0.1810 - accuracy: 0.9648\n",
            "Epoch 00071: val_loss did not improve from 1.38277\n",
            "359/359 [==============================] - 17s 49ms/step - loss: 0.1810 - accuracy: 0.9648 - val_loss: 3.2733 - val_accuracy: 0.6375\n",
            "Epoch 72/120\n",
            "359/359 [==============================] - ETA: 0s - loss: 0.1826 - accuracy: 0.9578\n",
            "Epoch 00072: val_loss did not improve from 1.38277\n",
            "359/359 [==============================] - 17s 49ms/step - loss: 0.1826 - accuracy: 0.9578 - val_loss: 2.1400 - val_accuracy: 0.7000\n",
            "Epoch 73/120\n",
            "359/359 [==============================] - ETA: 0s - loss: 0.1828 - accuracy: 0.9637\n",
            "Epoch 00073: val_loss did not improve from 1.38277\n",
            "359/359 [==============================] - 17s 49ms/step - loss: 0.1828 - accuracy: 0.9637 - val_loss: 2.6460 - val_accuracy: 0.6000\n",
            "Epoch 74/120\n",
            "359/359 [==============================] - ETA: 0s - loss: 0.1638 - accuracy: 0.9676\n",
            "Epoch 00074: val_loss did not improve from 1.38277\n",
            "359/359 [==============================] - 17s 49ms/step - loss: 0.1638 - accuracy: 0.9676 - val_loss: 1.6155 - val_accuracy: 0.7500\n",
            "Epoch 75/120\n",
            "359/359 [==============================] - ETA: 0s - loss: 0.1751 - accuracy: 0.9634\n",
            "Epoch 00075: val_loss did not improve from 1.38277\n",
            "359/359 [==============================] - 18s 49ms/step - loss: 0.1751 - accuracy: 0.9634 - val_loss: 3.1711 - val_accuracy: 0.5875\n",
            "Epoch 76/120\n",
            "358/359 [============================>.] - ETA: 0s - loss: 0.1573 - accuracy: 0.9699\n",
            "Epoch 00076: val_loss did not improve from 1.38277\n",
            "359/359 [==============================] - 17s 49ms/step - loss: 0.1578 - accuracy: 0.9697 - val_loss: 2.3402 - val_accuracy: 0.6938\n",
            "Epoch 77/120\n",
            "358/359 [============================>.] - ETA: 0s - loss: 0.1613 - accuracy: 0.9678\n",
            "Epoch 00077: val_loss improved from 1.38277 to 1.25933, saving model to /content/drive/My Drive/KTH-Colour/Inspection3_GreyScale_K-Th.h5\n",
            "359/359 [==============================] - 20s 55ms/step - loss: 0.1611 - accuracy: 0.9679 - val_loss: 1.2593 - val_accuracy: 0.8062\n",
            "Epoch 78/120\n",
            "359/359 [==============================] - ETA: 0s - loss: 0.1644 - accuracy: 0.9665\n",
            "Epoch 00078: val_loss did not improve from 1.25933\n",
            "359/359 [==============================] - 17s 49ms/step - loss: 0.1644 - accuracy: 0.9665 - val_loss: 3.0708 - val_accuracy: 0.6438\n",
            "Epoch 79/120\n",
            "359/359 [==============================] - ETA: 0s - loss: 0.2008 - accuracy: 0.9603\n",
            "Epoch 00079: val_loss did not improve from 1.25933\n",
            "359/359 [==============================] - 17s 49ms/step - loss: 0.2008 - accuracy: 0.9603 - val_loss: 2.8223 - val_accuracy: 0.6313\n",
            "Epoch 80/120\n",
            "359/359 [==============================] - ETA: 0s - loss: 0.1643 - accuracy: 0.9669\n",
            "Epoch 00080: val_loss did not improve from 1.25933\n",
            "359/359 [==============================] - 17s 49ms/step - loss: 0.1643 - accuracy: 0.9669 - val_loss: 2.2073 - val_accuracy: 0.7125\n",
            "Epoch 81/120\n",
            "359/359 [==============================] - ETA: 0s - loss: 0.1742 - accuracy: 0.9641\n",
            "Epoch 00081: val_loss did not improve from 1.25933\n",
            "359/359 [==============================] - 17s 49ms/step - loss: 0.1742 - accuracy: 0.9641 - val_loss: 2.5210 - val_accuracy: 0.6687\n",
            "Epoch 82/120\n",
            "359/359 [==============================] - ETA: 0s - loss: 0.1778 - accuracy: 0.9641\n",
            "Epoch 00082: val_loss did not improve from 1.25933\n",
            "359/359 [==============================] - 17s 49ms/step - loss: 0.1778 - accuracy: 0.9641 - val_loss: 2.0709 - val_accuracy: 0.7125\n",
            "Epoch 83/120\n",
            "359/359 [==============================] - ETA: 0s - loss: 0.1947 - accuracy: 0.9603\n",
            "Epoch 00083: val_loss did not improve from 1.25933\n",
            "359/359 [==============================] - 17s 49ms/step - loss: 0.1947 - accuracy: 0.9603 - val_loss: 2.6348 - val_accuracy: 0.6938\n",
            "Epoch 84/120\n",
            "359/359 [==============================] - ETA: 0s - loss: 0.1577 - accuracy: 0.9711\n",
            "Epoch 00084: val_loss did not improve from 1.25933\n",
            "359/359 [==============================] - 17s 49ms/step - loss: 0.1577 - accuracy: 0.9711 - val_loss: 3.4591 - val_accuracy: 0.5625\n",
            "Epoch 85/120\n",
            "359/359 [==============================] - ETA: 0s - loss: 0.1452 - accuracy: 0.9732\n",
            "Epoch 00085: val_loss did not improve from 1.25933\n",
            "359/359 [==============================] - 17s 48ms/step - loss: 0.1452 - accuracy: 0.9732 - val_loss: 2.8981 - val_accuracy: 0.5938\n",
            "Epoch 86/120\n",
            "359/359 [==============================] - ETA: 0s - loss: 0.1786 - accuracy: 0.9700\n",
            "Epoch 00086: val_loss did not improve from 1.25933\n",
            "359/359 [==============================] - 17s 48ms/step - loss: 0.1786 - accuracy: 0.9700 - val_loss: 2.0741 - val_accuracy: 0.6938\n",
            "Epoch 87/120\n",
            "359/359 [==============================] - ETA: 0s - loss: 0.1501 - accuracy: 0.9728\n",
            "Epoch 00087: val_loss did not improve from 1.25933\n",
            "359/359 [==============================] - 17s 49ms/step - loss: 0.1501 - accuracy: 0.9728 - val_loss: 2.7868 - val_accuracy: 0.6187\n",
            "Epoch 88/120\n",
            "359/359 [==============================] - ETA: 0s - loss: 0.1380 - accuracy: 0.9742\n",
            "Epoch 00088: val_loss did not improve from 1.25933\n",
            "359/359 [==============================] - 17s 49ms/step - loss: 0.1380 - accuracy: 0.9742 - val_loss: 2.5417 - val_accuracy: 0.6750\n",
            "Epoch 89/120\n",
            "359/359 [==============================] - ETA: 0s - loss: 0.1358 - accuracy: 0.9742\n",
            "Epoch 00089: val_loss did not improve from 1.25933\n",
            "359/359 [==============================] - 17s 49ms/step - loss: 0.1358 - accuracy: 0.9742 - val_loss: 2.0858 - val_accuracy: 0.7125\n",
            "Epoch 90/120\n",
            "359/359 [==============================] - ETA: 0s - loss: 0.1684 - accuracy: 0.9637\n",
            "Epoch 00090: val_loss did not improve from 1.25933\n",
            "359/359 [==============================] - 17s 48ms/step - loss: 0.1684 - accuracy: 0.9637 - val_loss: 1.9323 - val_accuracy: 0.7188\n",
            "Epoch 91/120\n",
            "359/359 [==============================] - ETA: 0s - loss: 0.1356 - accuracy: 0.9794\n",
            "Epoch 00091: val_loss did not improve from 1.25933\n",
            "359/359 [==============================] - 17s 49ms/step - loss: 0.1356 - accuracy: 0.9794 - val_loss: 2.0904 - val_accuracy: 0.7312\n",
            "Epoch 92/120\n",
            "359/359 [==============================] - ETA: 0s - loss: 0.1623 - accuracy: 0.9697\n",
            "Epoch 00092: val_loss did not improve from 1.25933\n",
            "359/359 [==============================] - 17s 49ms/step - loss: 0.1623 - accuracy: 0.9697 - val_loss: 2.6601 - val_accuracy: 0.6750\n",
            "Epoch 93/120\n",
            "359/359 [==============================] - ETA: 0s - loss: 0.1544 - accuracy: 0.9686\n",
            "Epoch 00093: val_loss did not improve from 1.25933\n",
            "359/359 [==============================] - 18s 49ms/step - loss: 0.1544 - accuracy: 0.9686 - val_loss: 2.9603 - val_accuracy: 0.6125\n",
            "Epoch 94/120\n",
            "358/359 [============================>.] - ETA: 0s - loss: 0.1411 - accuracy: 0.9745\n",
            "Epoch 00094: val_loss did not improve from 1.25933\n",
            "359/359 [==============================] - 17s 49ms/step - loss: 0.1410 - accuracy: 0.9745 - val_loss: 3.7702 - val_accuracy: 0.5813\n",
            "Epoch 95/120\n",
            "358/359 [============================>.] - ETA: 0s - loss: 0.1706 - accuracy: 0.9636\n",
            "Epoch 00095: val_loss did not improve from 1.25933\n",
            "359/359 [==============================] - 17s 49ms/step - loss: 0.1707 - accuracy: 0.9634 - val_loss: 3.1111 - val_accuracy: 0.6875\n",
            "Epoch 96/120\n",
            "359/359 [==============================] - ETA: 0s - loss: 0.1665 - accuracy: 0.9683\n",
            "Epoch 00096: val_loss did not improve from 1.25933\n",
            "359/359 [==============================] - 17s 48ms/step - loss: 0.1665 - accuracy: 0.9683 - val_loss: 1.7713 - val_accuracy: 0.7563\n",
            "Epoch 97/120\n",
            "358/359 [============================>.] - ETA: 0s - loss: 0.1555 - accuracy: 0.9738\n",
            "Epoch 00097: val_loss did not improve from 1.25933\n",
            "359/359 [==============================] - 17s 49ms/step - loss: 0.1553 - accuracy: 0.9738 - val_loss: 2.2950 - val_accuracy: 0.7000\n",
            "Epoch 98/120\n",
            "358/359 [============================>.] - ETA: 0s - loss: 0.1511 - accuracy: 0.9724\n",
            "Epoch 00098: val_loss did not improve from 1.25933\n",
            "359/359 [==============================] - 17s 49ms/step - loss: 0.1509 - accuracy: 0.9725 - val_loss: 3.8543 - val_accuracy: 0.6375\n",
            "Epoch 99/120\n",
            "359/359 [==============================] - ETA: 0s - loss: 0.1664 - accuracy: 0.9651\n",
            "Epoch 00099: val_loss did not improve from 1.25933\n",
            "359/359 [==============================] - 17s 48ms/step - loss: 0.1664 - accuracy: 0.9651 - val_loss: 2.9043 - val_accuracy: 0.6250\n",
            "Epoch 100/120\n",
            "358/359 [============================>.] - ETA: 0s - loss: 0.1507 - accuracy: 0.9741\n",
            "Epoch 00100: val_loss did not improve from 1.25933\n",
            "359/359 [==============================] - 17s 48ms/step - loss: 0.1505 - accuracy: 0.9742 - val_loss: 3.8486 - val_accuracy: 0.6062\n",
            "Epoch 101/120\n",
            "359/359 [==============================] - ETA: 0s - loss: 0.1520 - accuracy: 0.9697\n",
            "Epoch 00101: val_loss did not improve from 1.25933\n",
            "359/359 [==============================] - 17s 49ms/step - loss: 0.1520 - accuracy: 0.9697 - val_loss: 3.1206 - val_accuracy: 0.6313\n",
            "Epoch 102/120\n",
            "359/359 [==============================] - ETA: 0s - loss: 0.1633 - accuracy: 0.9679\n",
            "Epoch 00102: val_loss did not improve from 1.25933\n",
            "359/359 [==============================] - 17s 49ms/step - loss: 0.1633 - accuracy: 0.9679 - val_loss: 3.0186 - val_accuracy: 0.6812\n",
            "Epoch 103/120\n",
            "359/359 [==============================] - ETA: 0s - loss: 0.1308 - accuracy: 0.9756\n",
            "Epoch 00103: val_loss did not improve from 1.25933\n",
            "359/359 [==============================] - 17s 49ms/step - loss: 0.1308 - accuracy: 0.9756 - val_loss: 2.9757 - val_accuracy: 0.7063\n",
            "Epoch 104/120\n",
            "359/359 [==============================] - ETA: 0s - loss: 0.1605 - accuracy: 0.9704\n",
            "Epoch 00104: val_loss did not improve from 1.25933\n",
            "359/359 [==============================] - 17s 49ms/step - loss: 0.1605 - accuracy: 0.9704 - val_loss: 3.4184 - val_accuracy: 0.6125\n",
            "Epoch 105/120\n",
            "359/359 [==============================] - ETA: 0s - loss: 0.1534 - accuracy: 0.9714\n",
            "Epoch 00105: val_loss did not improve from 1.25933\n",
            "359/359 [==============================] - 17s 49ms/step - loss: 0.1534 - accuracy: 0.9714 - val_loss: 2.0793 - val_accuracy: 0.7188\n",
            "Epoch 106/120\n",
            "359/359 [==============================] - ETA: 0s - loss: 0.1565 - accuracy: 0.9693\n",
            "Epoch 00106: val_loss did not improve from 1.25933\n",
            "359/359 [==============================] - 17s 49ms/step - loss: 0.1565 - accuracy: 0.9693 - val_loss: 2.7907 - val_accuracy: 0.6812\n",
            "Epoch 107/120\n",
            "359/359 [==============================] - ETA: 0s - loss: 0.1343 - accuracy: 0.9752\n",
            "Epoch 00107: val_loss did not improve from 1.25933\n",
            "359/359 [==============================] - 17s 49ms/step - loss: 0.1343 - accuracy: 0.9752 - val_loss: 2.4255 - val_accuracy: 0.7312\n",
            "Epoch 108/120\n",
            "359/359 [==============================] - ETA: 0s - loss: 0.1360 - accuracy: 0.9763\n",
            "Epoch 00108: val_loss did not improve from 1.25933\n",
            "359/359 [==============================] - 17s 48ms/step - loss: 0.1360 - accuracy: 0.9763 - val_loss: 2.4730 - val_accuracy: 0.6812\n",
            "Epoch 109/120\n",
            "359/359 [==============================] - ETA: 0s - loss: 0.1349 - accuracy: 0.9766\n",
            "Epoch 00109: val_loss did not improve from 1.25933\n",
            "359/359 [==============================] - 17s 49ms/step - loss: 0.1349 - accuracy: 0.9766 - val_loss: 2.3886 - val_accuracy: 0.7063\n",
            "Epoch 110/120\n",
            "359/359 [==============================] - ETA: 0s - loss: 0.1352 - accuracy: 0.9752\n",
            "Epoch 00110: val_loss did not improve from 1.25933\n",
            "359/359 [==============================] - 17s 49ms/step - loss: 0.1352 - accuracy: 0.9752 - val_loss: 3.5599 - val_accuracy: 0.6750\n",
            "Epoch 111/120\n",
            "358/359 [============================>.] - ETA: 0s - loss: 0.1630 - accuracy: 0.9692\n",
            "Epoch 00111: val_loss did not improve from 1.25933\n",
            "359/359 [==============================] - 18s 49ms/step - loss: 0.1628 - accuracy: 0.9693 - val_loss: 3.3435 - val_accuracy: 0.6313\n",
            "Epoch 112/120\n",
            "359/359 [==============================] - ETA: 0s - loss: 0.1551 - accuracy: 0.9707\n",
            "Epoch 00112: val_loss did not improve from 1.25933\n",
            "359/359 [==============================] - 17s 48ms/step - loss: 0.1551 - accuracy: 0.9707 - val_loss: 2.8074 - val_accuracy: 0.6875\n",
            "Epoch 113/120\n",
            "359/359 [==============================] - ETA: 0s - loss: 0.1427 - accuracy: 0.9745\n",
            "Epoch 00113: val_loss did not improve from 1.25933\n",
            "359/359 [==============================] - 17s 48ms/step - loss: 0.1427 - accuracy: 0.9745 - val_loss: 1.7828 - val_accuracy: 0.7688\n",
            "Epoch 114/120\n",
            "359/359 [==============================] - ETA: 0s - loss: 0.1455 - accuracy: 0.9732\n",
            "Epoch 00114: val_loss did not improve from 1.25933\n",
            "359/359 [==============================] - 17s 49ms/step - loss: 0.1455 - accuracy: 0.9732 - val_loss: 2.5252 - val_accuracy: 0.7188\n",
            "Epoch 115/120\n",
            "358/359 [============================>.] - ETA: 0s - loss: 0.1437 - accuracy: 0.9734\n",
            "Epoch 00115: val_loss did not improve from 1.25933\n",
            "359/359 [==============================] - 17s 49ms/step - loss: 0.1437 - accuracy: 0.9735 - val_loss: 2.1941 - val_accuracy: 0.7125\n",
            "Epoch 116/120\n",
            "359/359 [==============================] - ETA: 0s - loss: 0.1337 - accuracy: 0.9749\n",
            "Epoch 00116: val_loss did not improve from 1.25933\n",
            "359/359 [==============================] - 17s 49ms/step - loss: 0.1337 - accuracy: 0.9749 - val_loss: 2.9945 - val_accuracy: 0.6687\n",
            "Epoch 117/120\n",
            "358/359 [============================>.] - ETA: 0s - loss: 0.1389 - accuracy: 0.9745Restoring model weights from the end of the best epoch.\n",
            "\n",
            "Epoch 00117: val_loss did not improve from 1.25933\n",
            "\n",
            "Epoch 00117: ReduceLROnPlateau reducing learning rate to 0.00020000000949949026.\n",
            "359/359 [==============================] - 18s 49ms/step - loss: 0.1397 - accuracy: 0.9742 - val_loss: 2.4893 - val_accuracy: 0.7188\n",
            "Epoch 00117: early stopping\n"
          ],
          "name": "stdout"
        }
      ]
    },
    {
      "cell_type": "code",
      "metadata": {
        "id": "7rddNBrFJWH5",
        "colab_type": "code",
        "colab": {
          "base_uri": "https://localhost:8080/",
          "height": 295
        },
        "outputId": "f2eed6ec-9b71-49e1-d50a-3aeb96503e94"
      },
      "source": [
        "import matplotlib.pyplot as plt\n",
        "plt.plot(hist.history[\"accuracy\"])\n",
        "plt.plot(hist.history['val_accuracy'])\n",
        "plt.title(\"model accuracy\")\n",
        "plt.ylabel(\"Accuracy\")\n",
        "plt.xlabel(\"Epoch\")\n",
        "plt.legend([\"Accuracy\",\"Validation Accuracy\"])\n",
        "plt.show()"
      ],
      "execution_count": null,
      "outputs": [
        {
          "output_type": "display_data",
          "data": {
            "image/png": "[encoded data removed]",
            "text/plain": [
              "<Figure size 432x288 with 1 Axes>"
            ]
          },
          "metadata": {
            "tags": [],
            "needs_background": "light"
          }
        }
      ]
    },
    {
      "cell_type": "code",
      "metadata": {
        "id": "Tk4bvR-UJbm1",
        "colab_type": "code",
        "colab": {
          "base_uri": "https://localhost:8080/",
          "height": 295
        },
        "outputId": "c1cb4091-e5c6-4aba-b1a5-8ce296b5763b"
      },
      "source": [
        "plt.plot(hist.history['loss'])\n",
        "plt.plot(hist.history['val_loss'])\n",
        "plt.title(\"model Loss\")\n",
        "plt.ylabel(\"Loss\")\n",
        "plt.xlabel(\"Epoch\")\n",
        "plt.legend([\"Loss\",\"Validation Loss\"])\n",
        "plt.show()"
      ],
      "execution_count": null,
      "outputs": [
        {
          "output_type": "display_data",
          "data": {
            "image/png": "[encoded data removed]",
            "text/plain": [
              "<Figure size 432x288 with 1 Axes>"
            ]
          },
          "metadata": {
            "tags": [],
            "needs_background": "light"
          }
        }
      ]
    },
    {
      "cell_type": "code",
      "metadata": {
        "id": "YnKgsbT2Jn1K",
        "colab_type": "code",
        "colab": {
          "base_uri": "https://localhost:8080/",
          "height": 34
        },
        "outputId": "5898397f-87dd-4f74-fef1-7d37d474d108"
      },
      "source": [
        "GreyTestData = TestGenerator.flow_from_directory('/content/drive/My Drive/KTH-Colour/Test/', target_size=(224,224), batch_size = 8, shuffle = False, color_mode='grayscale')"
      ],
      "execution_count": null,
      "outputs": [
        {
          "output_type": "stream",
          "text": [
            "Found 166 images belonging to 11 classes.\n"
          ],
          "name": "stdout"
        }
      ]
    },
    {
      "cell_type": "code",
      "metadata": {
        "id": "I8Gg_F49Jw28",
        "colab_type": "code",
        "colab": {}
      },
      "source": [
        "Grey_predict = model.predict(GreyTestData)"
      ],
      "execution_count": null,
      "outputs": []
    },
    {
      "cell_type": "code",
      "metadata": {
        "id": "O37PVgcGJ4YO",
        "colab_type": "code",
        "colab": {}
      },
      "source": [
        "Grey_predict_classes = np.argmax(Grey_predict, axis=1)"
      ],
      "execution_count": null,
      "outputs": []
    },
    {
      "cell_type": "code",
      "metadata": {
        "id": "ssASZqHcKCdz",
        "colab_type": "code",
        "colab": {
          "base_uri": "https://localhost:8080/",
          "height": 187
        },
        "outputId": "6d326d07-e03b-4878-84e7-930955c84462"
      },
      "source": [
        "Grey_predict_classes"
      ],
      "execution_count": null,
      "outputs": [
        {
          "output_type": "execute_result",
          "data": {
            "text/plain": [
              "array([ 0,  0,  0,  0,  0,  0,  0,  0,  0,  0,  7,  0,  0,  0,  0,  0,  9,\n",
              "        0,  0,  6,  2,  0,  1,  1,  1,  1,  1,  2,  2,  2,  2,  2,  2,  2,\n",
              "        2,  2,  2,  2,  2,  2,  2,  2,  2,  2,  2,  2,  2,  2,  2,  2,  2,\n",
              "        2,  2,  3,  3,  3,  3,  3,  3,  4,  3,  3,  3,  3,  3,  3,  3,  3,\n",
              "        3,  3,  6,  3,  3,  3,  3,  2,  4, 10, 10,  4,  4,  4,  4,  4,  4,\n",
              "        4,  4,  4,  4,  4,  4,  4,  4,  4,  4,  4,  2, 10,  4, 10,  4,  5,\n",
              "        8,  5,  5,  2,  6,  6,  6,  6,  6,  4,  6,  6,  6,  6,  6,  6,  6,\n",
              "        6,  6,  6,  6,  6,  2,  6,  2,  2,  6,  6,  6,  7,  9,  9,  8,  8,\n",
              "        8,  8,  8,  9,  9,  9,  9,  9, 10, 10,  4,  9, 10,  0,  9, 10, 10,\n",
              "       10, 10, 10, 10, 10, 10, 10, 10, 10, 10, 10, 10, 10])"
            ]
          },
          "metadata": {
            "tags": []
          },
          "execution_count": 53
        }
      ]
    },
    {
      "cell_type": "code",
      "metadata": {
        "id": "HvCrugUfKG0L",
        "colab_type": "code",
        "colab": {}
      },
      "source": [
        "from sklearn.metrics import accuracy_score\n",
        "from sklearn.metrics import precision_score\n",
        "from sklearn.metrics import recall_score\n",
        "from sklearn.metrics import f1_score\n",
        "from sklearn.metrics import cohen_kappa_score\n",
        "from sklearn.metrics import roc_auc_score"
      ],
      "execution_count": null,
      "outputs": []
    },
    {
      "cell_type": "code",
      "metadata": {
        "id": "eOWWlroCKJXK",
        "colab_type": "code",
        "colab": {
          "base_uri": "https://localhost:8080/",
          "height": 34
        },
        "outputId": "c2545c84-1483-4e5e-868e-4ede75042d7a"
      },
      "source": [
        "Grey_accuracy = accuracy_score(GreyTestData.classes, Grey_predict_classes)\n",
        "print(\"Grey Accuracy: \", Grey_accuracy)"
      ],
      "execution_count": null,
      "outputs": [
        {
          "output_type": "stream",
          "text": [
            "Grey Accuracy:  0.8554216867469879\n"
          ],
          "name": "stdout"
        }
      ]
    },
    {
      "cell_type": "code",
      "metadata": {
        "id": "qT8GZ8SWKQsZ",
        "colab_type": "code",
        "colab": {
          "base_uri": "https://localhost:8080/",
          "height": 34
        },
        "outputId": "6d2a4aed-a54b-4e7b-bf4e-badf25850f6d"
      },
      "source": [
        "Grey_precision = precision_score(GreyTestData.classes, Grey_predict_classes,average=\"weighted\")\n",
        "print(\"Grey Precision: \", Grey_precision)"
      ],
      "execution_count": null,
      "outputs": [
        {
          "output_type": "stream",
          "text": [
            "Grey Precision:  0.872538834347166\n"
          ],
          "name": "stdout"
        }
      ]
    },
    {
      "cell_type": "code",
      "metadata": {
        "id": "4vaMESfPKXYT",
        "colab_type": "code",
        "colab": {
          "base_uri": "https://localhost:8080/",
          "height": 34
        },
        "outputId": "91d1e816-433e-4131-db06-019619b492ae"
      },
      "source": [
        "Grey_recall = recall_score(GreyTestData.classes, Grey_predict_classes, average=\"weighted\")\n",
        "print(\"Grey Recall:\", Grey_recall)"
      ],
      "execution_count": null,
      "outputs": [
        {
          "output_type": "stream",
          "text": [
            "Grey Recall: 0.8554216867469879\n"
          ],
          "name": "stdout"
        }
      ]
    },
    {
      "cell_type": "code",
      "metadata": {
        "id": "ArX8LkQ3KbDn",
        "colab_type": "code",
        "colab": {
          "base_uri": "https://localhost:8080/",
          "height": 34
        },
        "outputId": "113290dd-41c1-4867-ec67-f8191020708c"
      },
      "source": [
        "Grey_f1_score = f1_score(GreyTestData.classes, Grey_predict_classes, average=\"weighted\")\n",
        "print(\"F1 score for Grey: \", Grey_f1_score)"
      ],
      "execution_count": null,
      "outputs": [
        {
          "output_type": "stream",
          "text": [
            "F1 score for Grey:  0.8566401912614022\n"
          ],
          "name": "stdout"
        }
      ]
    },
    {
      "cell_type": "markdown",
      "metadata": {
        "id": "JE2Pmwq4KvbW",
        "colab_type": "text"
      },
      "source": [
        "**Processing for colour Data.**"
      ]
    },
    {
      "cell_type": "code",
      "metadata": {
        "id": "eI7an7B8K1Iy",
        "colab_type": "code",
        "colab": {
          "base_uri": "https://localhost:8080/",
          "height": 34
        },
        "outputId": "c1ce88ba-09f4-441e-ee0d-e716ae3b828c"
      },
      "source": [
        "Colour_TrainingData =  DataGenerator.flow_from_directory('/content/drive/My Drive/KTH-Colour/Train-dataset/', target_size=(224,224), batch_size=8)"
      ],
      "execution_count": null,
      "outputs": [
        {
          "output_type": "stream",
          "text": [
            "Found 2868 images belonging to 11 classes.\n"
          ],
          "name": "stdout"
        }
      ]
    },
    {
      "cell_type": "code",
      "metadata": {
        "id": "XZrczUjKLUa7",
        "colab_type": "code",
        "colab": {
          "base_uri": "https://localhost:8080/",
          "height": 34
        },
        "outputId": "01219bcb-a0d6-4ec8-ff6e-a92faecda9e9"
      },
      "source": [
        "Colour_ValidData =  TestGenerator.flow_from_directory('/content/drive/My Drive/KTH-Colour/valid/', target_size=(224,224), batch_size=8)"
      ],
      "execution_count": null,
      "outputs": [
        {
          "output_type": "stream",
          "text": [
            "Found 161 images belonging to 11 classes.\n"
          ],
          "name": "stdout"
        }
      ]
    },
    {
      "cell_type": "code",
      "metadata": {
        "id": "uOOU7KB1LhAX",
        "colab_type": "code",
        "colab": {}
      },
      "source": [
        "conv_base_colour = InceptionV3(weights = 'imagenet', include_top = False, pooling = 'avg')"
      ],
      "execution_count": null,
      "outputs": []
    },
    {
      "cell_type": "code",
      "metadata": {
        "id": "SvVV5qnxLpMI",
        "colab_type": "code",
        "colab": {
          "base_uri": "https://localhost:8080/",
          "height": 34
        },
        "outputId": "4d006632-fe6d-4302-952b-33e0cf048cbd"
      },
      "source": [
        "for layer in conv_base_colour.layers[:299]:\n",
        "  layer.trainable = False\n",
        "for layer in conv_base_colour.layers[299:]:\n",
        "  layer.trainable = True\n",
        "for layer in conv_base_colour.layers:\n",
        "  if isinstance(layer, BatchNormalization):\n",
        "    layer.trainable = True\n",
        "\n",
        "print(\"Done\")"
      ],
      "execution_count": null,
      "outputs": [
        {
          "output_type": "stream",
          "text": [
            "Done\n"
          ],
          "name": "stdout"
        }
      ]
    },
    {
      "cell_type": "code",
      "metadata": {
        "id": "u4DVU5NALssh",
        "colab_type": "code",
        "colab": {
          "base_uri": "https://localhost:8080/",
          "height": 1000
        },
        "outputId": "fc1f0ac6-a3b1-4623-a630-5189d09332ae"
      },
      "source": [
        "for i, layer in enumerate(conv_base_colour.layers):\n",
        "   print(i, layer.name, layer.trainable)"
      ],
      "execution_count": null,
      "outputs": [
        {
          "output_type": "stream",
          "text": [
            "0 input_5 False\n",
            "1 conv2d_190 False\n",
            "2 batch_normalization_188 True\n",
            "3 activation_188 False\n",
            "4 conv2d_191 False\n",
            "5 batch_normalization_189 True\n",
            "6 activation_189 False\n",
            "7 conv2d_192 False\n",
            "8 batch_normalization_190 True\n",
            "9 activation_190 False\n",
            "10 max_pooling2d_8 False\n",
            "11 conv2d_193 False\n",
            "12 batch_normalization_191 True\n",
            "13 activation_191 False\n",
            "14 conv2d_194 False\n",
            "15 batch_normalization_192 True\n",
            "16 activation_192 False\n",
            "17 max_pooling2d_9 False\n",
            "18 conv2d_198 False\n",
            "19 batch_normalization_196 True\n",
            "20 activation_196 False\n",
            "21 conv2d_196 False\n",
            "22 conv2d_199 False\n",
            "23 batch_normalization_194 True\n",
            "24 batch_normalization_197 True\n",
            "25 activation_194 False\n",
            "26 activation_197 False\n",
            "27 average_pooling2d_18 False\n",
            "28 conv2d_195 False\n",
            "29 conv2d_197 False\n",
            "30 conv2d_200 False\n",
            "31 conv2d_201 False\n",
            "32 batch_normalization_193 True\n",
            "33 batch_normalization_195 True\n",
            "34 batch_normalization_198 True\n",
            "35 batch_normalization_199 True\n",
            "36 activation_193 False\n",
            "37 activation_195 False\n",
            "38 activation_198 False\n",
            "39 activation_199 False\n",
            "40 mixed0 False\n",
            "41 conv2d_205 False\n",
            "42 batch_normalization_203 True\n",
            "43 activation_203 False\n",
            "44 conv2d_203 False\n",
            "45 conv2d_206 False\n",
            "46 batch_normalization_201 True\n",
            "47 batch_normalization_204 True\n",
            "48 activation_201 False\n",
            "49 activation_204 False\n",
            "50 average_pooling2d_19 False\n",
            "51 conv2d_202 False\n",
            "52 conv2d_204 False\n",
            "53 conv2d_207 False\n",
            "54 conv2d_208 False\n",
            "55 batch_normalization_200 True\n",
            "56 batch_normalization_202 True\n",
            "57 batch_normalization_205 True\n",
            "58 batch_normalization_206 True\n",
            "59 activation_200 False\n",
            "60 activation_202 False\n",
            "61 activation_205 False\n",
            "62 activation_206 False\n",
            "63 mixed1 False\n",
            "64 conv2d_212 False\n",
            "65 batch_normalization_210 True\n",
            "66 activation_210 False\n",
            "67 conv2d_210 False\n",
            "68 conv2d_213 False\n",
            "69 batch_normalization_208 True\n",
            "70 batch_normalization_211 True\n",
            "71 activation_208 False\n",
            "72 activation_211 False\n",
            "73 average_pooling2d_20 False\n",
            "74 conv2d_209 False\n",
            "75 conv2d_211 False\n",
            "76 conv2d_214 False\n",
            "77 conv2d_215 False\n",
            "78 batch_normalization_207 True\n",
            "79 batch_normalization_209 True\n",
            "80 batch_normalization_212 True\n",
            "81 batch_normalization_213 True\n",
            "82 activation_207 False\n",
            "83 activation_209 False\n",
            "84 activation_212 False\n",
            "85 activation_213 False\n",
            "86 mixed2 False\n",
            "87 conv2d_217 False\n",
            "88 batch_normalization_215 True\n",
            "89 activation_215 False\n",
            "90 conv2d_218 False\n",
            "91 batch_normalization_216 True\n",
            "92 activation_216 False\n",
            "93 conv2d_216 False\n",
            "94 conv2d_219 False\n",
            "95 batch_normalization_214 True\n",
            "96 batch_normalization_217 True\n",
            "97 activation_214 False\n",
            "98 activation_217 False\n",
            "99 max_pooling2d_10 False\n",
            "100 mixed3 False\n",
            "101 conv2d_224 False\n",
            "102 batch_normalization_222 True\n",
            "103 activation_222 False\n",
            "104 conv2d_225 False\n",
            "105 batch_normalization_223 True\n",
            "106 activation_223 False\n",
            "107 conv2d_221 False\n",
            "108 conv2d_226 False\n",
            "109 batch_normalization_219 True\n",
            "110 batch_normalization_224 True\n",
            "111 activation_219 False\n",
            "112 activation_224 False\n",
            "113 conv2d_222 False\n",
            "114 conv2d_227 False\n",
            "115 batch_normalization_220 True\n",
            "116 batch_normalization_225 True\n",
            "117 activation_220 False\n",
            "118 activation_225 False\n",
            "119 average_pooling2d_21 False\n",
            "120 conv2d_220 False\n",
            "121 conv2d_223 False\n",
            "122 conv2d_228 False\n",
            "123 conv2d_229 False\n",
            "124 batch_normalization_218 True\n",
            "125 batch_normalization_221 True\n",
            "126 batch_normalization_226 True\n",
            "127 batch_normalization_227 True\n",
            "128 activation_218 False\n",
            "129 activation_221 False\n",
            "130 activation_226 False\n",
            "131 activation_227 False\n",
            "132 mixed4 False\n",
            "133 conv2d_234 False\n",
            "134 batch_normalization_232 True\n",
            "135 activation_232 False\n",
            "136 conv2d_235 False\n",
            "137 batch_normalization_233 True\n",
            "138 activation_233 False\n",
            "139 conv2d_231 False\n",
            "140 conv2d_236 False\n",
            "141 batch_normalization_229 True\n",
            "142 batch_normalization_234 True\n",
            "143 activation_229 False\n",
            "144 activation_234 False\n",
            "145 conv2d_232 False\n",
            "146 conv2d_237 False\n",
            "147 batch_normalization_230 True\n",
            "148 batch_normalization_235 True\n",
            "149 activation_230 False\n",
            "150 activation_235 False\n",
            "151 average_pooling2d_22 False\n",
            "152 conv2d_230 False\n",
            "153 conv2d_233 False\n",
            "154 conv2d_238 False\n",
            "155 conv2d_239 False\n",
            "156 batch_normalization_228 True\n",
            "157 batch_normalization_231 True\n",
            "158 batch_normalization_236 True\n",
            "159 batch_normalization_237 True\n",
            "160 activation_228 False\n",
            "161 activation_231 False\n",
            "162 activation_236 False\n",
            "163 activation_237 False\n",
            "164 mixed5 False\n",
            "165 conv2d_244 False\n",
            "166 batch_normalization_242 True\n",
            "167 activation_242 False\n",
            "168 conv2d_245 False\n",
            "169 batch_normalization_243 True\n",
            "170 activation_243 False\n",
            "171 conv2d_241 False\n",
            "172 conv2d_246 False\n",
            "173 batch_normalization_239 True\n",
            "174 batch_normalization_244 True\n",
            "175 activation_239 False\n",
            "176 activation_244 False\n",
            "177 conv2d_242 False\n",
            "178 conv2d_247 False\n",
            "179 batch_normalization_240 True\n",
            "180 batch_normalization_245 True\n",
            "181 activation_240 False\n",
            "182 activation_245 False\n",
            "183 average_pooling2d_23 False\n",
            "184 conv2d_240 False\n",
            "185 conv2d_243 False\n",
            "186 conv2d_248 False\n",
            "187 conv2d_249 False\n",
            "188 batch_normalization_238 True\n",
            "189 batch_normalization_241 True\n",
            "190 batch_normalization_246 True\n",
            "191 batch_normalization_247 True\n",
            "192 activation_238 False\n",
            "193 activation_241 False\n",
            "194 activation_246 False\n",
            "195 activation_247 False\n",
            "196 mixed6 False\n",
            "197 conv2d_254 False\n",
            "198 batch_normalization_252 True\n",
            "199 activation_252 False\n",
            "200 conv2d_255 False\n",
            "201 batch_normalization_253 True\n",
            "202 activation_253 False\n",
            "203 conv2d_251 False\n",
            "204 conv2d_256 False\n",
            "205 batch_normalization_249 True\n",
            "206 batch_normalization_254 True\n",
            "207 activation_249 False\n",
            "208 activation_254 False\n",
            "209 conv2d_252 False\n",
            "210 conv2d_257 False\n",
            "211 batch_normalization_250 True\n",
            "212 batch_normalization_255 True\n",
            "213 activation_250 False\n",
            "214 activation_255 False\n",
            "215 average_pooling2d_24 False\n",
            "216 conv2d_250 False\n",
            "217 conv2d_253 False\n",
            "218 conv2d_258 False\n",
            "219 conv2d_259 False\n",
            "220 batch_normalization_248 True\n",
            "221 batch_normalization_251 True\n",
            "222 batch_normalization_256 True\n",
            "223 batch_normalization_257 True\n",
            "224 activation_248 False\n",
            "225 activation_251 False\n",
            "226 activation_256 False\n",
            "227 activation_257 False\n",
            "228 mixed7 False\n",
            "229 conv2d_262 False\n",
            "230 batch_normalization_260 True\n",
            "231 activation_260 False\n",
            "232 conv2d_263 False\n",
            "233 batch_normalization_261 True\n",
            "234 activation_261 False\n",
            "235 conv2d_260 False\n",
            "236 conv2d_264 False\n",
            "237 batch_normalization_258 True\n",
            "238 batch_normalization_262 True\n",
            "239 activation_258 False\n",
            "240 activation_262 False\n",
            "241 conv2d_261 False\n",
            "242 conv2d_265 False\n",
            "243 batch_normalization_259 True\n",
            "244 batch_normalization_263 True\n",
            "245 activation_259 False\n",
            "246 activation_263 False\n",
            "247 max_pooling2d_11 False\n",
            "248 mixed8 False\n",
            "249 conv2d_270 False\n",
            "250 batch_normalization_268 True\n",
            "251 activation_268 False\n",
            "252 conv2d_267 False\n",
            "253 conv2d_271 False\n",
            "254 batch_normalization_265 True\n",
            "255 batch_normalization_269 True\n",
            "256 activation_265 False\n",
            "257 activation_269 False\n",
            "258 conv2d_268 False\n",
            "259 conv2d_269 False\n",
            "260 conv2d_272 False\n",
            "261 conv2d_273 False\n",
            "262 average_pooling2d_25 False\n",
            "263 conv2d_266 False\n",
            "264 batch_normalization_266 True\n",
            "265 batch_normalization_267 True\n",
            "266 batch_normalization_270 True\n",
            "267 batch_normalization_271 True\n",
            "268 conv2d_274 False\n",
            "269 batch_normalization_264 True\n",
            "270 activation_266 False\n",
            "271 activation_267 False\n",
            "272 activation_270 False\n",
            "273 activation_271 False\n",
            "274 batch_normalization_272 True\n",
            "275 activation_264 False\n",
            "276 mixed9_0 False\n",
            "277 concatenate_4 False\n",
            "278 activation_272 False\n",
            "279 mixed9 False\n",
            "280 conv2d_279 False\n",
            "281 batch_normalization_277 True\n",
            "282 activation_277 False\n",
            "283 conv2d_276 False\n",
            "284 conv2d_280 False\n",
            "285 batch_normalization_274 True\n",
            "286 batch_normalization_278 True\n",
            "287 activation_274 False\n",
            "288 activation_278 False\n",
            "289 conv2d_277 False\n",
            "290 conv2d_278 False\n",
            "291 conv2d_281 False\n",
            "292 conv2d_282 False\n",
            "293 average_pooling2d_26 False\n",
            "294 conv2d_275 False\n",
            "295 batch_normalization_275 True\n",
            "296 batch_normalization_276 True\n",
            "297 batch_normalization_279 True\n",
            "298 batch_normalization_280 True\n",
            "299 conv2d_283 True\n",
            "300 batch_normalization_273 True\n",
            "301 activation_275 True\n",
            "302 activation_276 True\n",
            "303 activation_279 True\n",
            "304 activation_280 True\n",
            "305 batch_normalization_281 True\n",
            "306 activation_273 True\n",
            "307 mixed9_1 True\n",
            "308 concatenate_5 True\n",
            "309 activation_281 True\n",
            "310 mixed10 True\n",
            "311 global_average_pooling2d_2 True\n"
          ],
          "name": "stdout"
        }
      ]
    },
    {
      "cell_type": "code",
      "metadata": {
        "id": "lPX3WjtrL6rb",
        "colab_type": "code",
        "colab": {}
      },
      "source": [
        "from keras.layers import Input "
      ],
      "execution_count": null,
      "outputs": []
    },
    {
      "cell_type": "code",
      "metadata": {
        "id": "KBEiiUIqL80Y",
        "colab_type": "code",
        "colab": {}
      },
      "source": [
        "input_tensor = Input(shape=(224,224,3))\n",
        "x = conv_base_colour(input_tensor)"
      ],
      "execution_count": null,
      "outputs": []
    },
    {
      "cell_type": "code",
      "metadata": {
        "id": "q3uttgFYMEQj",
        "colab_type": "code",
        "colab": {}
      },
      "source": [
        "x = Dense(2048, activation='relu', kernel_regularizer= regularizers.l2(0.001))(x)\n",
        "x = Dropout(0.5)(x)"
      ],
      "execution_count": null,
      "outputs": []
    },
    {
      "cell_type": "code",
      "metadata": {
        "id": "H9XGPFSfMHfI",
        "colab_type": "code",
        "colab": {}
      },
      "source": [
        "ouput = Dense(11, activation='softmax')(x)"
      ],
      "execution_count": null,
      "outputs": []
    },
    {
      "cell_type": "code",
      "metadata": {
        "id": "yklGm-IGMLKi",
        "colab_type": "code",
        "colab": {}
      },
      "source": [
        "colour_model = Model(inputs = input_tensor, outputs = ouput )"
      ],
      "execution_count": null,
      "outputs": []
    },
    {
      "cell_type": "code",
      "metadata": {
        "id": "cI4OUhkgMQTN",
        "colab_type": "code",
        "colab": {}
      },
      "source": [
        "colour_model.compile(loss='categorical_crossentropy',\n",
        "              optimizer=Adam(lr=0.001),\n",
        "              metrics=['accuracy'])"
      ],
      "execution_count": null,
      "outputs": []
    },
    {
      "cell_type": "code",
      "metadata": {
        "id": "V4v7B5i7Mf33",
        "colab_type": "code",
        "colab": {}
      },
      "source": [
        "from keras.callbacks import ModelCheckpoint, EarlyStopping, ReduceLROnPlateau\n",
        "checkpoint = ModelCheckpoint(\"/content/drive/My Drive/KTH-Colour/Inspectionv3_KTh-colour.h5\",\n",
        "                             monitor=\"val_loss\",\n",
        "                             mode=\"min\",\n",
        "                             save_best_only = True,\n",
        "                             verbose=1)\n",
        "\n",
        "earlystop = EarlyStopping(monitor = 'val_loss', \n",
        "                          min_delta = 0, \n",
        "                          patience = 40,\n",
        "                          verbose = 1,\n",
        "                          restore_best_weights = True)\n",
        "\n",
        "reduce_lr = ReduceLROnPlateau(monitor = 'val_loss',\n",
        "                              factor = 0.2,\n",
        "                              patience = 40,\n",
        "                              verbose = 1,\n",
        "                              min_delta = 0.00001)\n",
        "\n",
        "callBacks = [earlystop, checkpoint, reduce_lr]"
      ],
      "execution_count": null,
      "outputs": []
    },
    {
      "cell_type": "code",
      "metadata": {
        "id": "yaMZLpsAMz7e",
        "colab_type": "code",
        "colab": {
          "base_uri": "https://localhost:8080/",
          "height": 1000
        },
        "outputId": "a1bbaf04-f59b-4c99-94a0-e4cd2ba52995"
      },
      "source": [
        "hist = colour_model.fit_generator(steps_per_epoch=359,generator= Colour_TrainingData, validation_data= Colour_ValidData, validation_steps=20,epochs=120,callbacks=callBacks)"
      ],
      "execution_count": null,
      "outputs": [
        {
          "output_type": "stream",
          "text": [
            "Epoch 1/120\n",
            "359/359 [==============================] - ETA: 0s - loss: 2.4002 - accuracy: 0.6294\n",
            "Epoch 00001: val_loss improved from inf to 1.66022, saving model to /content/drive/My Drive/KTH-Colour/Inspectionv3_KTh-colour.h5\n",
            "359/359 [==============================] - 20s 56ms/step - loss: 2.4002 - accuracy: 0.6294 - val_loss: 1.6602 - val_accuracy: 0.6812\n",
            "Epoch 2/120\n",
            "358/359 [============================>.] - ETA: 0s - loss: 1.1444 - accuracy: 0.7948\n",
            "Epoch 00002: val_loss did not improve from 1.66022\n",
            "359/359 [==============================] - 18s 51ms/step - loss: 1.1430 - accuracy: 0.7950 - val_loss: 1.7300 - val_accuracy: 0.6250\n",
            "Epoch 3/120\n",
            "359/359 [==============================] - ETA: 0s - loss: 0.9800 - accuracy: 0.7929\n",
            "Epoch 00003: val_loss improved from 1.66022 to 1.49645, saving model to /content/drive/My Drive/KTH-Colour/Inspectionv3_KTh-colour.h5\n",
            "359/359 [==============================] - 21s 57ms/step - loss: 0.9800 - accuracy: 0.7929 - val_loss: 1.4965 - val_accuracy: 0.6750\n",
            "Epoch 4/120\n",
            "359/359 [==============================] - ETA: 0s - loss: 0.8292 - accuracy: 0.8236\n",
            "Epoch 00004: val_loss improved from 1.49645 to 1.26974, saving model to /content/drive/My Drive/KTH-Colour/Inspectionv3_KTh-colour.h5\n",
            "359/359 [==============================] - 21s 57ms/step - loss: 0.8292 - accuracy: 0.8236 - val_loss: 1.2697 - val_accuracy: 0.7063\n",
            "Epoch 5/120\n",
            "359/359 [==============================] - ETA: 0s - loss: 0.7254 - accuracy: 0.8431\n",
            "Epoch 00005: val_loss did not improve from 1.26974\n",
            "359/359 [==============================] - 18s 51ms/step - loss: 0.7254 - accuracy: 0.8431 - val_loss: 1.2889 - val_accuracy: 0.7188\n",
            "Epoch 6/120\n",
            "359/359 [==============================] - ETA: 0s - loss: 0.6819 - accuracy: 0.8487\n",
            "Epoch 00006: val_loss did not improve from 1.26974\n",
            "359/359 [==============================] - 18s 51ms/step - loss: 0.6819 - accuracy: 0.8487 - val_loss: 1.6277 - val_accuracy: 0.6500\n",
            "Epoch 7/120\n",
            "359/359 [==============================] - ETA: 0s - loss: 0.6381 - accuracy: 0.8633\n",
            "Epoch 00007: val_loss did not improve from 1.26974\n",
            "359/359 [==============================] - 18s 51ms/step - loss: 0.6381 - accuracy: 0.8633 - val_loss: 1.8231 - val_accuracy: 0.6687\n",
            "Epoch 8/120\n",
            "359/359 [==============================] - ETA: 0s - loss: 0.5504 - accuracy: 0.8881\n",
            "Epoch 00008: val_loss did not improve from 1.26974\n",
            "359/359 [==============================] - 18s 51ms/step - loss: 0.5504 - accuracy: 0.8881 - val_loss: 1.6708 - val_accuracy: 0.7000\n",
            "Epoch 9/120\n",
            "359/359 [==============================] - ETA: 0s - loss: 0.5600 - accuracy: 0.8839\n",
            "Epoch 00009: val_loss did not improve from 1.26974\n",
            "359/359 [==============================] - 19s 53ms/step - loss: 0.5600 - accuracy: 0.8839 - val_loss: 1.5373 - val_accuracy: 0.6938\n",
            "Epoch 10/120\n",
            "358/359 [============================>.] - ETA: 0s - loss: 0.5134 - accuracy: 0.8930\n",
            "Epoch 00010: val_loss did not improve from 1.26974\n",
            "359/359 [==============================] - 19s 53ms/step - loss: 0.5138 - accuracy: 0.8926 - val_loss: 1.4444 - val_accuracy: 0.7188\n",
            "Epoch 11/120\n",
            "358/359 [============================>.] - ETA: 0s - loss: 0.4864 - accuracy: 0.9010\n",
            "Epoch 00011: val_loss did not improve from 1.26974\n",
            "359/359 [==============================] - 18s 51ms/step - loss: 0.4881 - accuracy: 0.9006 - val_loss: 1.5908 - val_accuracy: 0.6750\n",
            "Epoch 12/120\n",
            "358/359 [============================>.] - ETA: 0s - loss: 0.4620 - accuracy: 0.8990\n",
            "Epoch 00012: val_loss did not improve from 1.26974\n",
            "359/359 [==============================] - 18s 51ms/step - loss: 0.4617 - accuracy: 0.8992 - val_loss: 1.4890 - val_accuracy: 0.6812\n",
            "Epoch 13/120\n",
            "359/359 [==============================] - ETA: 0s - loss: 0.4647 - accuracy: 0.9017\n",
            "Epoch 00013: val_loss did not improve from 1.26974\n",
            "359/359 [==============================] - 18s 50ms/step - loss: 0.4647 - accuracy: 0.9017 - val_loss: 1.6355 - val_accuracy: 0.6562\n",
            "Epoch 14/120\n",
            "359/359 [==============================] - ETA: 0s - loss: 0.4402 - accuracy: 0.9041\n",
            "Epoch 00014: val_loss improved from 1.26974 to 1.09348, saving model to /content/drive/My Drive/KTH-Colour/Inspectionv3_KTh-colour.h5\n",
            "359/359 [==============================] - 20s 56ms/step - loss: 0.4402 - accuracy: 0.9041 - val_loss: 1.0935 - val_accuracy: 0.7812\n",
            "Epoch 15/120\n",
            "358/359 [============================>.] - ETA: 0s - loss: 0.4168 - accuracy: 0.9084\n",
            "Epoch 00015: val_loss improved from 1.09348 to 0.92367, saving model to /content/drive/My Drive/KTH-Colour/Inspectionv3_KTh-colour.h5\n",
            "359/359 [==============================] - 20s 56ms/step - loss: 0.4171 - accuracy: 0.9079 - val_loss: 0.9237 - val_accuracy: 0.8000\n",
            "Epoch 16/120\n",
            "358/359 [============================>.] - ETA: 0s - loss: 0.3843 - accuracy: 0.9171\n",
            "Epoch 00016: val_loss did not improve from 0.92367\n",
            "359/359 [==============================] - 19s 52ms/step - loss: 0.3840 - accuracy: 0.9170 - val_loss: 1.0785 - val_accuracy: 0.7937\n",
            "Epoch 17/120\n",
            "359/359 [==============================] - ETA: 0s - loss: 0.3595 - accuracy: 0.9254\n",
            "Epoch 00017: val_loss did not improve from 0.92367\n",
            "359/359 [==============================] - 18s 51ms/step - loss: 0.3595 - accuracy: 0.9254 - val_loss: 1.0805 - val_accuracy: 0.7750\n",
            "Epoch 18/120\n",
            "359/359 [==============================] - ETA: 0s - loss: 0.3983 - accuracy: 0.9048\n",
            "Epoch 00018: val_loss did not improve from 0.92367\n",
            "359/359 [==============================] - 18s 51ms/step - loss: 0.3983 - accuracy: 0.9048 - val_loss: 1.4753 - val_accuracy: 0.7188\n",
            "Epoch 19/120\n",
            "359/359 [==============================] - ETA: 0s - loss: 0.3632 - accuracy: 0.9236\n",
            "Epoch 00019: val_loss did not improve from 0.92367\n",
            "359/359 [==============================] - 18s 50ms/step - loss: 0.3632 - accuracy: 0.9236 - val_loss: 1.4613 - val_accuracy: 0.6875\n",
            "Epoch 20/120\n",
            "359/359 [==============================] - ETA: 0s - loss: 0.3541 - accuracy: 0.9240\n",
            "Epoch 00020: val_loss did not improve from 0.92367\n",
            "359/359 [==============================] - 18s 51ms/step - loss: 0.3541 - accuracy: 0.9240 - val_loss: 1.0404 - val_accuracy: 0.7563\n",
            "Epoch 21/120\n",
            "359/359 [==============================] - ETA: 0s - loss: 0.3544 - accuracy: 0.9195\n",
            "Epoch 00021: val_loss did not improve from 0.92367\n",
            "359/359 [==============================] - 18s 51ms/step - loss: 0.3544 - accuracy: 0.9195 - val_loss: 1.0404 - val_accuracy: 0.7875\n",
            "Epoch 22/120\n",
            "358/359 [============================>.] - ETA: 0s - loss: 0.3530 - accuracy: 0.9206\n",
            "Epoch 00022: val_loss did not improve from 0.92367\n",
            "359/359 [==============================] - 18s 51ms/step - loss: 0.3525 - accuracy: 0.9209 - val_loss: 1.2328 - val_accuracy: 0.7000\n",
            "Epoch 23/120\n",
            "358/359 [============================>.] - ETA: 0s - loss: 0.3160 - accuracy: 0.9304\n",
            "Epoch 00023: val_loss did not improve from 0.92367\n",
            "359/359 [==============================] - 18s 50ms/step - loss: 0.3155 - accuracy: 0.9306 - val_loss: 1.0019 - val_accuracy: 0.7937\n",
            "Epoch 24/120\n",
            "358/359 [============================>.] - ETA: 0s - loss: 0.2863 - accuracy: 0.9406\n",
            "Epoch 00024: val_loss did not improve from 0.92367\n",
            "359/359 [==============================] - 18s 51ms/step - loss: 0.2860 - accuracy: 0.9407 - val_loss: 1.6201 - val_accuracy: 0.6562\n",
            "Epoch 25/120\n",
            "359/359 [==============================] - ETA: 0s - loss: 0.2880 - accuracy: 0.9355\n",
            "Epoch 00025: val_loss did not improve from 0.92367\n",
            "359/359 [==============================] - 18s 51ms/step - loss: 0.2880 - accuracy: 0.9355 - val_loss: 2.3501 - val_accuracy: 0.6187\n",
            "Epoch 26/120\n",
            "358/359 [============================>.] - ETA: 0s - loss: 0.3047 - accuracy: 0.9367\n",
            "Epoch 00026: val_loss did not improve from 0.92367\n",
            "359/359 [==============================] - 19s 53ms/step - loss: 0.3043 - accuracy: 0.9369 - val_loss: 1.6864 - val_accuracy: 0.6438\n",
            "Epoch 27/120\n",
            "358/359 [============================>.] - ETA: 0s - loss: 0.2762 - accuracy: 0.9392\n",
            "Epoch 00027: val_loss did not improve from 0.92367\n",
            "359/359 [==============================] - 18s 51ms/step - loss: 0.2761 - accuracy: 0.9393 - val_loss: 1.7012 - val_accuracy: 0.7125\n",
            "Epoch 28/120\n",
            "358/359 [============================>.] - ETA: 0s - loss: 0.2771 - accuracy: 0.9423\n",
            "Epoch 00028: val_loss did not improve from 0.92367\n",
            "359/359 [==============================] - 18s 50ms/step - loss: 0.2766 - accuracy: 0.9425 - val_loss: 1.5603 - val_accuracy: 0.6750\n",
            "Epoch 29/120\n",
            "358/359 [============================>.] - ETA: 0s - loss: 0.2746 - accuracy: 0.9374\n",
            "Epoch 00029: val_loss did not improve from 0.92367\n",
            "359/359 [==============================] - 18s 50ms/step - loss: 0.2745 - accuracy: 0.9376 - val_loss: 0.9981 - val_accuracy: 0.8250\n",
            "Epoch 30/120\n",
            "358/359 [============================>.] - ETA: 0s - loss: 0.2621 - accuracy: 0.9416\n",
            "Epoch 00030: val_loss did not improve from 0.92367\n",
            "359/359 [==============================] - 18s 50ms/step - loss: 0.2616 - accuracy: 0.9418 - val_loss: 1.1679 - val_accuracy: 0.7250\n",
            "Epoch 31/120\n",
            "358/359 [============================>.] - ETA: 0s - loss: 0.2600 - accuracy: 0.9423\n",
            "Epoch 00031: val_loss did not improve from 0.92367\n",
            "359/359 [==============================] - 18s 50ms/step - loss: 0.2602 - accuracy: 0.9421 - val_loss: 1.2447 - val_accuracy: 0.7312\n",
            "Epoch 32/120\n",
            "359/359 [==============================] - ETA: 0s - loss: 0.2611 - accuracy: 0.9442\n",
            "Epoch 00032: val_loss did not improve from 0.92367\n",
            "359/359 [==============================] - 18s 50ms/step - loss: 0.2611 - accuracy: 0.9442 - val_loss: 1.1500 - val_accuracy: 0.7750\n",
            "Epoch 33/120\n",
            "359/359 [==============================] - ETA: 0s - loss: 0.2753 - accuracy: 0.9358\n",
            "Epoch 00033: val_loss did not improve from 0.92367\n",
            "359/359 [==============================] - 18s 51ms/step - loss: 0.2753 - accuracy: 0.9358 - val_loss: 1.8979 - val_accuracy: 0.6750\n",
            "Epoch 34/120\n",
            "359/359 [==============================] - ETA: 0s - loss: 0.2496 - accuracy: 0.9515\n",
            "Epoch 00034: val_loss did not improve from 0.92367\n",
            "359/359 [==============================] - 18s 50ms/step - loss: 0.2496 - accuracy: 0.9515 - val_loss: 1.1108 - val_accuracy: 0.7563\n",
            "Epoch 35/120\n",
            "359/359 [==============================] - ETA: 0s - loss: 0.2504 - accuracy: 0.9484\n",
            "Epoch 00035: val_loss did not improve from 0.92367\n",
            "359/359 [==============================] - 18s 50ms/step - loss: 0.2504 - accuracy: 0.9484 - val_loss: 1.4740 - val_accuracy: 0.6938\n",
            "Epoch 36/120\n",
            "359/359 [==============================] - ETA: 0s - loss: 0.2400 - accuracy: 0.9526\n",
            "Epoch 00036: val_loss did not improve from 0.92367\n",
            "359/359 [==============================] - 18s 50ms/step - loss: 0.2400 - accuracy: 0.9526 - val_loss: 1.3615 - val_accuracy: 0.8000\n",
            "Epoch 37/120\n",
            "358/359 [============================>.] - ETA: 0s - loss: 0.2424 - accuracy: 0.9507\n",
            "Epoch 00037: val_loss did not improve from 0.92367\n",
            "359/359 [==============================] - 18s 50ms/step - loss: 0.2421 - accuracy: 0.9508 - val_loss: 1.6094 - val_accuracy: 0.6812\n",
            "Epoch 38/120\n",
            "359/359 [==============================] - ETA: 0s - loss: 0.2096 - accuracy: 0.9578\n",
            "Epoch 00038: val_loss did not improve from 0.92367\n",
            "359/359 [==============================] - 18s 50ms/step - loss: 0.2096 - accuracy: 0.9578 - val_loss: 1.2841 - val_accuracy: 0.7500\n",
            "Epoch 39/120\n",
            "358/359 [============================>.] - ETA: 0s - loss: 0.2439 - accuracy: 0.9469\n",
            "Epoch 00039: val_loss did not improve from 0.92367\n",
            "359/359 [==============================] - 18s 50ms/step - loss: 0.2437 - accuracy: 0.9470 - val_loss: 1.6217 - val_accuracy: 0.6687\n",
            "Epoch 40/120\n",
            "358/359 [============================>.] - ETA: 0s - loss: 0.2270 - accuracy: 0.9535\n",
            "Epoch 00040: val_loss did not improve from 0.92367\n",
            "359/359 [==============================] - 18s 50ms/step - loss: 0.2269 - accuracy: 0.9536 - val_loss: 1.2417 - val_accuracy: 0.7750\n",
            "Epoch 41/120\n",
            "359/359 [==============================] - ETA: 0s - loss: 0.2085 - accuracy: 0.9613\n",
            "Epoch 00041: val_loss did not improve from 0.92367\n",
            "359/359 [==============================] - 18s 50ms/step - loss: 0.2085 - accuracy: 0.9613 - val_loss: 1.1563 - val_accuracy: 0.7875\n",
            "Epoch 42/120\n",
            "358/359 [============================>.] - ETA: 0s - loss: 0.2457 - accuracy: 0.9451\n",
            "Epoch 00042: val_loss did not improve from 0.92367\n",
            "359/359 [==============================] - 18s 50ms/step - loss: 0.2456 - accuracy: 0.9453 - val_loss: 2.2261 - val_accuracy: 0.6187\n",
            "Epoch 43/120\n",
            "359/359 [==============================] - ETA: 0s - loss: 0.2297 - accuracy: 0.9484\n",
            "Epoch 00043: val_loss did not improve from 0.92367\n",
            "359/359 [==============================] - 19s 53ms/step - loss: 0.2297 - accuracy: 0.9484 - val_loss: 1.6246 - val_accuracy: 0.6625\n",
            "Epoch 44/120\n",
            "359/359 [==============================] - ETA: 0s - loss: 0.2115 - accuracy: 0.9613\n",
            "Epoch 00044: val_loss did not improve from 0.92367\n",
            "359/359 [==============================] - 18s 50ms/step - loss: 0.2115 - accuracy: 0.9613 - val_loss: 1.9143 - val_accuracy: 0.6750\n",
            "Epoch 45/120\n",
            "359/359 [==============================] - ETA: 0s - loss: 0.1957 - accuracy: 0.9648\n",
            "Epoch 00045: val_loss did not improve from 0.92367\n",
            "359/359 [==============================] - 18s 50ms/step - loss: 0.1957 - accuracy: 0.9648 - val_loss: 1.4052 - val_accuracy: 0.7563\n",
            "Epoch 46/120\n",
            "358/359 [============================>.] - ETA: 0s - loss: 0.2019 - accuracy: 0.9605\n",
            "Epoch 00046: val_loss did not improve from 0.92367\n",
            "359/359 [==============================] - 18s 50ms/step - loss: 0.2016 - accuracy: 0.9606 - val_loss: 1.3298 - val_accuracy: 0.7563\n",
            "Epoch 47/120\n",
            "358/359 [============================>.] - ETA: 0s - loss: 0.2123 - accuracy: 0.9580\n",
            "Epoch 00047: val_loss did not improve from 0.92367\n",
            "359/359 [==============================] - 18s 51ms/step - loss: 0.2120 - accuracy: 0.9582 - val_loss: 1.2025 - val_accuracy: 0.7500\n",
            "Epoch 48/120\n",
            "358/359 [============================>.] - ETA: 0s - loss: 0.2009 - accuracy: 0.9601\n",
            "Epoch 00048: val_loss did not improve from 0.92367\n",
            "359/359 [==============================] - 18s 50ms/step - loss: 0.2006 - accuracy: 0.9603 - val_loss: 1.2138 - val_accuracy: 0.7375\n",
            "Epoch 49/120\n",
            "359/359 [==============================] - ETA: 0s - loss: 0.2079 - accuracy: 0.9564\n",
            "Epoch 00049: val_loss did not improve from 0.92367\n",
            "359/359 [==============================] - 18s 50ms/step - loss: 0.2079 - accuracy: 0.9564 - val_loss: 1.0429 - val_accuracy: 0.8000\n",
            "Epoch 50/120\n",
            "358/359 [============================>.] - ETA: 0s - loss: 0.2114 - accuracy: 0.9587\n",
            "Epoch 00050: val_loss did not improve from 0.92367\n",
            "359/359 [==============================] - 18s 50ms/step - loss: 0.2117 - accuracy: 0.9585 - val_loss: 1.3111 - val_accuracy: 0.7500\n",
            "Epoch 51/120\n",
            "359/359 [==============================] - ETA: 0s - loss: 0.1767 - accuracy: 0.9669\n",
            "Epoch 00051: val_loss did not improve from 0.92367\n",
            "359/359 [==============================] - 18s 51ms/step - loss: 0.1767 - accuracy: 0.9669 - val_loss: 1.0505 - val_accuracy: 0.7937\n",
            "Epoch 52/120\n",
            "359/359 [==============================] - ETA: 0s - loss: 0.1767 - accuracy: 0.9655\n",
            "Epoch 00052: val_loss did not improve from 0.92367\n",
            "359/359 [==============================] - 18s 50ms/step - loss: 0.1767 - accuracy: 0.9655 - val_loss: 1.0319 - val_accuracy: 0.8250\n",
            "Epoch 53/120\n",
            "359/359 [==============================] - ETA: 0s - loss: 0.2217 - accuracy: 0.9505\n",
            "Epoch 00053: val_loss did not improve from 0.92367\n",
            "359/359 [==============================] - 18s 50ms/step - loss: 0.2217 - accuracy: 0.9505 - val_loss: 1.6637 - val_accuracy: 0.7563\n",
            "Epoch 54/120\n",
            "359/359 [==============================] - ETA: 0s - loss: 0.1756 - accuracy: 0.9697\n",
            "Epoch 00054: val_loss did not improve from 0.92367\n",
            "359/359 [==============================] - 18s 50ms/step - loss: 0.1756 - accuracy: 0.9697 - val_loss: 1.0685 - val_accuracy: 0.8313\n",
            "Epoch 55/120\n",
            "359/359 [==============================] - ETA: 0s - loss: 0.2054 - accuracy: 0.9571Restoring model weights from the end of the best epoch.\n",
            "\n",
            "Epoch 00055: val_loss did not improve from 0.92367\n",
            "\n",
            "Epoch 00055: ReduceLROnPlateau reducing learning rate to 0.00020000000949949026.\n",
            "359/359 [==============================] - 18s 51ms/step - loss: 0.2054 - accuracy: 0.9571 - val_loss: 1.5279 - val_accuracy: 0.7688\n",
            "Epoch 00055: early stopping\n"
          ],
          "name": "stdout"
        }
      ]
    },
    {
      "cell_type": "code",
      "metadata": {
        "id": "SZD3o1_jNFdU",
        "colab_type": "code",
        "colab": {
          "base_uri": "https://localhost:8080/",
          "height": 295
        },
        "outputId": "950b6cb1-a0ef-4f31-aa26-2ce0a66a3321"
      },
      "source": [
        "import matplotlib.pyplot as plt\n",
        "plt.plot(hist.history[\"accuracy\"])\n",
        "plt.plot(hist.history['val_accuracy'])\n",
        "plt.title(\"model accuracy\")\n",
        "plt.ylabel(\"Accuracy\")\n",
        "plt.xlabel(\"Epoch\")\n",
        "plt.legend([\"Accuracy\",\"Validation Accuracy\"])\n",
        "plt.show()"
      ],
      "execution_count": null,
      "outputs": [
        {
          "output_type": "display_data",
          "data": {
            "image/png": "[encoded data removed]",
            "text/plain": [
              "<Figure size 432x288 with 1 Axes>"
            ]
          },
          "metadata": {
            "tags": [],
            "needs_background": "light"
          }
        }
      ]
    },
    {
      "cell_type": "code",
      "metadata": {
        "id": "pIX7hNiiNKiC",
        "colab_type": "code",
        "colab": {
          "base_uri": "https://localhost:8080/",
          "height": 295
        },
        "outputId": "ad890839-4698-40fc-fd6d-48eada211501"
      },
      "source": [
        "plt.plot(hist.history['loss'])\n",
        "plt.plot(hist.history['val_loss'])\n",
        "plt.title(\"model Loss\")\n",
        "plt.ylabel(\"Loss\")\n",
        "plt.xlabel(\"Epoch\")\n",
        "plt.legend([\"Loss\",\"Validation Loss\"])\n",
        "plt.show()"
      ],
      "execution_count": null,
      "outputs": [
        {
          "output_type": "display_data",
          "data": {
            "image/png": "[encoded data removed]",
            "text/plain": [
              "<Figure size 432x288 with 1 Axes>"
            ]
          },
          "metadata": {
            "tags": [],
            "needs_background": "light"
          }
        }
      ]
    },
    {
      "cell_type": "code",
      "metadata": {
        "id": "Ty3i6zFRNMNS",
        "colab_type": "code",
        "colab": {
          "base_uri": "https://localhost:8080/",
          "height": 34
        },
        "outputId": "4e529d18-5e09-40f2-f75b-79541e7797e7"
      },
      "source": [
        "Colour_TestData = TestGenerator.flow_from_directory('/content/drive/My Drive/KTH-Colour/Test/', target_size=(224,224), batch_size = 8, shuffle = False)"
      ],
      "execution_count": null,
      "outputs": [
        {
          "output_type": "stream",
          "text": [
            "Found 166 images belonging to 11 classes.\n"
          ],
          "name": "stdout"
        }
      ]
    },
    {
      "cell_type": "code",
      "metadata": {
        "id": "Nq_iPyotOgaL",
        "colab_type": "code",
        "colab": {}
      },
      "source": [
        "Colour_predict = colour_model.predict(Colour_TestData)"
      ],
      "execution_count": null,
      "outputs": []
    },
    {
      "cell_type": "code",
      "metadata": {
        "id": "TsPBSBl8OndK",
        "colab_type": "code",
        "colab": {}
      },
      "source": [
        "Colour_predict_classes = np.argmax(Colour_predict, axis=1)"
      ],
      "execution_count": null,
      "outputs": []
    },
    {
      "cell_type": "code",
      "metadata": {
        "id": "Rvyl2C1yOqD_",
        "colab_type": "code",
        "colab": {
          "base_uri": "https://localhost:8080/",
          "height": 187
        },
        "outputId": "50ddee0d-c171-4db2-dd38-7fd8209217c3"
      },
      "source": [
        "Colour_predict_classes"
      ],
      "execution_count": null,
      "outputs": [
        {
          "output_type": "execute_result",
          "data": {
            "text/plain": [
              "array([ 0,  0,  0,  0,  0,  0,  0,  0,  0,  0,  0,  9,  0,  6,  0,  0, 10,\n",
              "        9,  9,  2,  0,  0,  1,  1,  1,  1,  1,  2,  2,  2,  2,  2,  2,  2,\n",
              "        2,  2,  2,  2,  2,  2,  2,  2,  2,  2,  2,  2,  2,  2,  2, 10,  2,\n",
              "        2,  2,  3,  3,  3,  4,  3,  3,  4,  4,  4,  3,  3,  3,  3,  3,  3,\n",
              "        3,  3,  4,  3,  3,  3,  3,  4,  4,  4,  0,  4,  4,  4,  4,  4,  4,\n",
              "        4,  4,  4,  4,  2,  4,  4,  4,  4,  4,  4,  2,  2,  4,  4,  4,  5,\n",
              "        5,  5,  5,  4,  6,  6,  4,  6,  6,  4,  2,  6,  6,  6,  6,  6,  6,\n",
              "        6,  6,  6,  6,  6,  6,  6,  6,  6,  6,  6,  6,  7,  6,  2,  8,  8,\n",
              "        8,  8,  8,  9,  9,  9,  9,  9,  4, 10,  4,  4, 10, 10,  4, 10,  9,\n",
              "       10, 10, 10, 10, 10, 10, 10, 10, 10, 10, 10,  4, 10])"
            ]
          },
          "metadata": {
            "tags": []
          },
          "execution_count": 78
        }
      ]
    },
    {
      "cell_type": "code",
      "metadata": {
        "id": "meFyvYOrOr9L",
        "colab_type": "code",
        "colab": {
          "base_uri": "https://localhost:8080/",
          "height": 34
        },
        "outputId": "a544e224-0cb5-4f51-b450-6bbbc2e47a8c"
      },
      "source": [
        "Colour_accuracy = accuracy_score(Colour_TestData.classes, Colour_predict_classes)\n",
        "print(\"Colour Accuracy: \", Colour_accuracy)"
      ],
      "execution_count": null,
      "outputs": [
        {
          "output_type": "stream",
          "text": [
            "Colour Accuracy:  0.8313253012048193\n"
          ],
          "name": "stdout"
        }
      ]
    },
    {
      "cell_type": "code",
      "metadata": {
        "id": "V-4hFVOkPpsd",
        "colab_type": "code",
        "colab": {
          "base_uri": "https://localhost:8080/",
          "height": 34
        },
        "outputId": "67fe37c6-b01b-43ab-97e3-10a512eef425"
      },
      "source": [
        "Colour_precision = precision_score(Colour_TestData.classes, Colour_predict_classes,average=\"weighted\")\n",
        "print(\"Colour Precision: \", Colour_precision)"
      ],
      "execution_count": null,
      "outputs": [
        {
          "output_type": "stream",
          "text": [
            "Colour Precision:  0.8625490849274027\n"
          ],
          "name": "stdout"
        }
      ]
    },
    {
      "cell_type": "code",
      "metadata": {
        "id": "VkgJCVPqPu3t",
        "colab_type": "code",
        "colab": {
          "base_uri": "https://localhost:8080/",
          "height": 34
        },
        "outputId": "e7429dd1-1f68-4674-9aed-08574ba5a36a"
      },
      "source": [
        "Colour_recall = recall_score(Colour_TestData.classes, Colour_predict_classes, average=\"weighted\")\n",
        "print(\"Colour Recall:\", Colour_recall)"
      ],
      "execution_count": null,
      "outputs": [
        {
          "output_type": "stream",
          "text": [
            "Colour Recall: 0.8313253012048193\n"
          ],
          "name": "stdout"
        }
      ]
    },
    {
      "cell_type": "code",
      "metadata": {
        "id": "sGzTOJ5VPydq",
        "colab_type": "code",
        "colab": {
          "base_uri": "https://localhost:8080/",
          "height": 34
        },
        "outputId": "f85ad8f6-823a-488d-896f-e0f9ee591f7c"
      },
      "source": [
        "Colour_f1_score = f1_score(Colour_TestData.classes, Colour_predict_classes, average=\"weighted\")\n",
        "print(\"F1 score for colour: \", Colour_f1_score)"
      ],
      "execution_count": null,
      "outputs": [
        {
          "output_type": "stream",
          "text": [
            "F1 score for colour:  0.8333934560645371\n"
          ],
          "name": "stdout"
        }
      ]
    },
    {
      "cell_type": "markdown",
      "metadata": {
        "id": "A3QNKcw2P5wD",
        "colab_type": "text"
      },
      "source": [
        "**Emsemble**"
      ]
    },
    {
      "cell_type": "code",
      "metadata": {
        "id": "01-hknWtP-OV",
        "colab_type": "code",
        "colab": {}
      },
      "source": [
        "Final = 0.6* Colour_predict + 0.4* Grey_predict"
      ],
      "execution_count": null,
      "outputs": []
    },
    {
      "cell_type": "code",
      "metadata": {
        "id": "CnzKZmW8QB1Y",
        "colab_type": "code",
        "colab": {}
      },
      "source": [
        "Final_Predict_classes = np.argmax(Final, axis=1)"
      ],
      "execution_count": null,
      "outputs": []
    },
    {
      "cell_type": "code",
      "metadata": {
        "id": "ez9pZ_95QFPT",
        "colab_type": "code",
        "colab": {
          "base_uri": "https://localhost:8080/",
          "height": 187
        },
        "outputId": "685f8dee-bf9b-4988-8e03-3320956749ee"
      },
      "source": [
        "Final_Predict_classes"
      ],
      "execution_count": null,
      "outputs": [
        {
          "output_type": "execute_result",
          "data": {
            "text/plain": [
              "array([ 0,  0,  0,  0,  0,  0,  0,  0,  0,  0,  0,  9,  0,  0,  0,  0, 10,\n",
              "        0,  9,  6,  0,  0,  1,  1,  1,  1,  1,  2,  2,  2,  2,  2,  2,  2,\n",
              "        2,  2,  2,  2,  2,  2,  2,  2,  2,  2,  2,  2,  2,  2,  2, 10,  2,\n",
              "        2,  2,  3,  3,  3,  3,  3,  3,  4,  4,  3,  3,  3,  3,  3,  3,  3,\n",
              "        3,  3,  4,  3,  3,  3,  3,  4,  4,  4, 10,  4,  4,  4,  4,  4,  4,\n",
              "        4,  4,  4,  4,  4,  4,  4,  4,  4,  4,  4,  2,  2,  4,  4,  4,  5,\n",
              "        5,  5,  5,  4,  6,  6,  6,  6,  6,  4,  6,  6,  6,  6,  6,  6,  6,\n",
              "        6,  6,  6,  6,  6,  6,  6,  6,  6,  6,  6,  6,  7,  6,  2,  8,  8,\n",
              "        8,  8,  8,  9,  9,  9,  9,  9,  4, 10,  4,  4, 10, 10,  9, 10, 10,\n",
              "       10, 10, 10, 10, 10, 10, 10, 10, 10, 10, 10, 10, 10])"
            ]
          },
          "metadata": {
            "tags": []
          },
          "execution_count": 85
        }
      ]
    },
    {
      "cell_type": "code",
      "metadata": {
        "id": "uIIiaLeAQHCz",
        "colab_type": "code",
        "colab": {
          "base_uri": "https://localhost:8080/",
          "height": 34
        },
        "outputId": "65ca46e5-86d3-4c1b-954a-9bca45c10a7e"
      },
      "source": [
        "Final_accuracy = accuracy_score(Colour_TestData.classes, Final_Predict_classes)\n",
        "print(\"Colour Accuracy: \", Final_accuracy)"
      ],
      "execution_count": null,
      "outputs": [
        {
          "output_type": "stream",
          "text": [
            "Colour Accuracy:  0.8855421686746988\n"
          ],
          "name": "stdout"
        }
      ]
    },
    {
      "cell_type": "code",
      "metadata": {
        "id": "0xWh0QU4QKfi",
        "colab_type": "code",
        "colab": {
          "base_uri": "https://localhost:8080/",
          "height": 34
        },
        "outputId": "5bb27905-ba20-4f01-c482-154d1db2a51b"
      },
      "source": [
        "Final_precision = precision_score(Colour_TestData.classes, Final_Predict_classes,average=\"weighted\")\n",
        "print(\"Colour Precision: \", Final_precision)"
      ],
      "execution_count": null,
      "outputs": [
        {
          "output_type": "stream",
          "text": [
            "Colour Precision:  0.900522597301649\n"
          ],
          "name": "stdout"
        }
      ]
    },
    {
      "cell_type": "code",
      "metadata": {
        "id": "SUe0YMKmQS0f",
        "colab_type": "code",
        "colab": {
          "base_uri": "https://localhost:8080/",
          "height": 34
        },
        "outputId": "273b9ef4-8169-4b3e-ba80-96f698ba0532"
      },
      "source": [
        "Final_recall = recall_score(Colour_TestData.classes, Final_Predict_classes, average=\"weighted\")\n",
        "print(\"Colour Recall:\", Final_recall)"
      ],
      "execution_count": null,
      "outputs": [
        {
          "output_type": "stream",
          "text": [
            "Colour Recall: 0.8855421686746988\n"
          ],
          "name": "stdout"
        }
      ]
    },
    {
      "cell_type": "code",
      "metadata": {
        "id": "pJraKXWUQVt_",
        "colab_type": "code",
        "colab": {
          "base_uri": "https://localhost:8080/",
          "height": 34
        },
        "outputId": "054558bf-cdf0-41fa-d077-10599fd85513"
      },
      "source": [
        "Final_f1_score = f1_score(Colour_TestData.classes, Final_Predict_classes, average=\"weighted\")\n",
        "print(\"F1 score for colour: \", Final_f1_score)"
      ],
      "execution_count": null,
      "outputs": [
        {
          "output_type": "stream",
          "text": [
            "F1 score for colour:  0.8856116422540999\n"
          ],
          "name": "stdout"
        }
      ]
    },
    {
      "cell_type": "code",
      "metadata": {
        "id": "0qEgDAK36qj-",
        "colab_type": "code",
        "colab": {}
      },
      "source": [
        "Second_Final = 0.5* Colour_predict + 0.5 * Grey_predict"
      ],
      "execution_count": null,
      "outputs": []
    },
    {
      "cell_type": "code",
      "metadata": {
        "id": "z5J1_SGc63t7",
        "colab_type": "code",
        "colab": {}
      },
      "source": [
        "Second_predict_classes = np.argmax(Second_Final, axis=1)"
      ],
      "execution_count": null,
      "outputs": []
    },
    {
      "cell_type": "code",
      "metadata": {
        "id": "hmdwqtuo7A63",
        "colab_type": "code",
        "colab": {
          "base_uri": "https://localhost:8080/",
          "height": 187
        },
        "outputId": "59426aa3-9a08-48ff-c905-97aee117fd7a"
      },
      "source": [
        "Second_predict_classes"
      ],
      "execution_count": null,
      "outputs": [
        {
          "output_type": "execute_result",
          "data": {
            "text/plain": [
              "array([ 0,  0,  0,  0,  0,  0,  0,  0,  0,  0,  0,  9,  0,  0,  0,  0, 10,\n",
              "        0,  0,  6,  0,  0,  1,  1,  1,  1,  1,  2,  2,  2,  2,  2,  2,  2,\n",
              "        2,  2,  2,  2,  2,  2,  2,  2,  2,  2,  2,  2,  2,  2,  2,  2,  2,\n",
              "        2,  2,  3,  3,  3,  3,  3,  3,  4,  4,  3,  3,  3,  3,  3,  3,  3,\n",
              "        3,  3,  4,  3,  3,  3,  3,  4,  4,  4, 10,  4,  4,  4,  4,  4,  4,\n",
              "        4,  4,  4,  4,  4,  4,  4,  4,  4,  4,  4,  2, 10,  4,  4,  4,  5,\n",
              "        5,  5,  5,  2,  6,  6,  6,  6,  6,  4,  6,  6,  6,  6,  6,  6,  6,\n",
              "        6,  6,  6,  6,  6,  2,  6,  2,  2,  6,  6,  6,  7,  9,  9,  8,  8,\n",
              "        8,  8,  8,  9,  9,  9,  9,  9, 10, 10,  4,  4, 10,  0,  9, 10, 10,\n",
              "       10, 10, 10, 10, 10, 10, 10, 10, 10, 10, 10, 10, 10])"
            ]
          },
          "metadata": {
            "tags": []
          },
          "execution_count": 92
        }
      ]
    },
    {
      "cell_type": "code",
      "metadata": {
        "id": "6hhnNOD07EsP",
        "colab_type": "code",
        "colab": {
          "base_uri": "https://localhost:8080/",
          "height": 34
        },
        "outputId": "c7642a3f-3ff6-4fb8-9a9b-b3ac3acd95af"
      },
      "source": [
        "Second_Final_accuracy = accuracy_score(Colour_TestData.classes, Second_predict_classes)\n",
        "Second_Final_accuracy"
      ],
      "execution_count": null,
      "outputs": [
        {
          "output_type": "execute_result",
          "data": {
            "text/plain": [
              "0.8795180722891566"
            ]
          },
          "metadata": {
            "tags": []
          },
          "execution_count": 93
        }
      ]
    }
  ]
}