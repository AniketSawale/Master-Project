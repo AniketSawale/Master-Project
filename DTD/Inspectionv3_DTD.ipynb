{
  "nbformat": 4,
  "nbformat_minor": 0,
  "metadata": {
    "colab": {
      "name": "Inspectionv3_DTD.ipynb",
      "provenance": [],
      "collapsed_sections": []
    },
    "kernelspec": {
      "name": "python3",
      "display_name": "Python 3"
    },
    "accelerator": "GPU"
  },
  "cells": [
    {
      "cell_type": "code",
      "metadata": {
        "id": "gwrnn9RDGRWn",
        "colab_type": "code",
        "colab": {
          "base_uri": "https://localhost:8080/",
          "height": 122
        },
        "outputId": "9fd9fcb1-b05d-4771-918e-1debaf3d9ab2"
      },
      "source": [
        "from google.colab import drive\n",
        "drive.mount('/content/drive')"
      ],
      "execution_count": null,
      "outputs": [
        {
          "output_type": "stream",
          "text": [
            "Go to this URL in a browser: https://accounts.google.com/o/oauth2/auth?client_id=947318989803-6bn6qk8qdgf4n4g3pfee6491hc0brc4i.apps.googleusercontent.com&redirect_uri=urn%3aietf%3awg%3aoauth%3a2.0%3aoob&scope=email%20https%3a%2f%2fwww.googleapis.com%2fauth%2fdocs.test%20https%3a%2f%2fwww.googleapis.com%2fauth%2fdrive%20https%3a%2f%2fwww.googleapis.com%2fauth%2fdrive.photos.readonly%20https%3a%2f%2fwww.googleapis.com%2fauth%2fpeopleapi.readonly&response_type=code\n",
            "\n",
            "Enter your authorization code:\n",
            "··········\n",
            "Mounted at /content/drive\n"
          ],
          "name": "stdout"
        }
      ]
    },
    {
      "cell_type": "code",
      "metadata": {
        "id": "S1Ru2TIyG8zm",
        "colab_type": "code",
        "colab": {}
      },
      "source": [
        "# Importing the Libraries.\n",
        "import keras\n",
        "import os\n",
        "from keras.models import Sequential\n",
        "from keras.layers import Dense, Conv2D, MaxPool2D, Flatten, Dropout\n",
        "from keras.preprocessing.image import ImageDataGenerator\n",
        "import numpy as np\n",
        "#import keras.backend as K\n",
        "import tensorflow.keras.backend as K\n",
        "import tensorflow.compat.v1 as tf\n",
        "from os import listdir\n",
        "from os.path import isfile, join\n",
        "import numpy as np\n",
        "import sys\n",
        "import os\n",
        "import shutil\n",
        "import pandas as pd\n",
        "from PIL import Image\n",
        "import cv2\n",
        "import keras\n",
        "import glob\n",
        "from PIL import Image\n",
        "from keras.preprocessing.image import img_to_array\n",
        "from sklearn.preprocessing import MultiLabelBinarizer\n",
        "from keras import models, regularizers, layers, optimizers, losses, metrics\n",
        "from keras.applications.resnet50 import ResNet50\n",
        "from keras.preprocessing.image import ImageDataGenerator\n",
        "from keras.models import Sequential\n",
        "from keras.layers import Dense, Dropout, Activation, Flatten, MaxPool2D\n",
        "from keras.layers import Convolution2D, MaxPooling2D, ZeroPadding2D\n",
        "from keras.layers import AveragePooling2D\n",
        "from keras.models import load_model\n",
        "from keras.layers.pooling import GlobalAveragePooling2D\n",
        "from keras.layers.normalization import BatchNormalization\n",
        "from keras.models import Model\n",
        "from keras.optimizers import Adam\n",
        "from keras.callbacks import ModelCheckpoint, EarlyStopping\n",
        "from sklearn.preprocessing import LabelEncoder, OneHotEncoder\n",
        "from PIL import ImageFile\n",
        "\n",
        "tf.enable_eager_execution()"
      ],
      "execution_count": null,
      "outputs": []
    },
    {
      "cell_type": "code",
      "metadata": {
        "id": "H8uThe6GHIz4",
        "colab_type": "code",
        "colab": {}
      },
      "source": [
        "ImageFile.LOAD_TRUNCATED_IMAGES = True"
      ],
      "execution_count": null,
      "outputs": []
    },
    {
      "cell_type": "code",
      "metadata": {
        "id": "6rFm4Cu0HLWH",
        "colab_type": "code",
        "colab": {}
      },
      "source": [
        "# Data Augmentation.\n",
        "DataGenerator = ImageDataGenerator(horizontal_flip=True, vertical_flip=True, brightness_range = [0.2,0.75], zoom_range = [0.5,1.0], rescale=1./255)"
      ],
      "execution_count": null,
      "outputs": []
    },
    {
      "cell_type": "code",
      "metadata": {
        "id": "FkFMyChNHOhL",
        "colab_type": "code",
        "colab": {}
      },
      "source": [
        "TestGenerator = ImageDataGenerator(rescale=1./255)"
      ],
      "execution_count": null,
      "outputs": []
    },
    {
      "cell_type": "code",
      "metadata": {
        "id": "6RosFDArHQjf",
        "colab_type": "code",
        "colab": {
          "base_uri": "https://localhost:8080/",
          "height": 34
        },
        "outputId": "8d4108a1-fd3b-4548-e317-a3fe99ac5c99"
      },
      "source": [
        "Grey_TrainingData = DataGenerator.flow_from_directory('/content/drive/My Drive/DTD dataset/dtd/Train/', target_size=(224,224), batch_size=8, color_mode='grayscale')"
      ],
      "execution_count": null,
      "outputs": [
        {
          "output_type": "stream",
          "text": [
            "Found 5075 images belonging to 47 classes.\n"
          ],
          "name": "stdout"
        }
      ]
    },
    {
      "cell_type": "code",
      "metadata": {
        "id": "vbyNJFttHTH8",
        "colab_type": "code",
        "colab": {
          "base_uri": "https://localhost:8080/",
          "height": 34
        },
        "outputId": "9685aa25-f9fe-49dd-faba-b2975a02dbbf"
      },
      "source": [
        "Grey_ValidData = TestGenerator.flow_from_directory('/content/drive/My Drive/DTD dataset/dtd/Valid/', target_size=(224,224), batch_size=8, color_mode='grayscale')"
      ],
      "execution_count": null,
      "outputs": [
        {
          "output_type": "stream",
          "text": [
            "Found 282 images belonging to 47 classes.\n"
          ],
          "name": "stdout"
        }
      ]
    },
    {
      "cell_type": "code",
      "metadata": {
        "id": "roMORhNzHatK",
        "colab_type": "code",
        "colab": {}
      },
      "source": [
        "gpu_options = tf.GPUOptions(allow_growth=True)\n",
        "session = tf.InteractiveSession(config=tf.ConfigProto(gpu_options=gpu_options))"
      ],
      "execution_count": null,
      "outputs": []
    },
    {
      "cell_type": "code",
      "metadata": {
        "id": "MhjF0A4pHkdh",
        "colab_type": "code",
        "colab": {}
      },
      "source": [
        "from keras.applications.inception_v3 import InceptionV3"
      ],
      "execution_count": null,
      "outputs": []
    },
    {
      "cell_type": "code",
      "metadata": {
        "id": "wWL9JBVbICYY",
        "colab_type": "code",
        "colab": {
          "base_uri": "https://localhost:8080/",
          "height": 51
        },
        "outputId": "90b52d2e-6acc-45a8-bb48-9e3b853c8704"
      },
      "source": [
        "conv_base = InceptionV3(weights = 'imagenet', include_top = False, pooling = 'avg')"
      ],
      "execution_count": null,
      "outputs": [
        {
          "output_type": "stream",
          "text": [
            "Downloading data from https://storage.googleapis.com/tensorflow/keras-applications/inception_v3/inception_v3_weights_tf_dim_ordering_tf_kernels_notop.h5\n",
            "87916544/87910968 [==============================] - 0s 0us/step\n"
          ],
          "name": "stdout"
        }
      ]
    },
    {
      "cell_type": "code",
      "metadata": {
        "id": "0tw3QqY2IFb1",
        "colab_type": "code",
        "colab": {
          "base_uri": "https://localhost:8080/",
          "height": 34
        },
        "outputId": "82973c4b-f0a6-490e-bd4f-f0bb6e8f26b4"
      },
      "source": [
        "for layer in conv_base.layers[:299]:\n",
        "  layer.trainable = False\n",
        "for layer in conv_base.layers[299:]:\n",
        "  layer.trainable = True\n",
        "for layer in conv_base.layers:\n",
        "  if isinstance(layer, BatchNormalization):\n",
        "    layer.trainable = True\n",
        "\n",
        "print(\"Done\")"
      ],
      "execution_count": null,
      "outputs": [
        {
          "output_type": "stream",
          "text": [
            "Done\n"
          ],
          "name": "stdout"
        }
      ]
    },
    {
      "cell_type": "code",
      "metadata": {
        "id": "TPqTlCfaIIzT",
        "colab_type": "code",
        "colab": {
          "base_uri": "https://localhost:8080/",
          "height": 1000
        },
        "outputId": "45b13ac9-02df-4297-984f-f44c7f3eb3ee"
      },
      "source": [
        "for i, layer in enumerate(conv_base.layers):\n",
        "   print(i, layer.name, layer.trainable)"
      ],
      "execution_count": null,
      "outputs": [
        {
          "output_type": "stream",
          "text": [
            "0 input_1 False\n",
            "1 conv2d False\n",
            "2 batch_normalization True\n",
            "3 activation False\n",
            "4 conv2d_1 False\n",
            "5 batch_normalization_1 True\n",
            "6 activation_1 False\n",
            "7 conv2d_2 False\n",
            "8 batch_normalization_2 True\n",
            "9 activation_2 False\n",
            "10 max_pooling2d False\n",
            "11 conv2d_3 False\n",
            "12 batch_normalization_3 True\n",
            "13 activation_3 False\n",
            "14 conv2d_4 False\n",
            "15 batch_normalization_4 True\n",
            "16 activation_4 False\n",
            "17 max_pooling2d_1 False\n",
            "18 conv2d_8 False\n",
            "19 batch_normalization_8 True\n",
            "20 activation_8 False\n",
            "21 conv2d_6 False\n",
            "22 conv2d_9 False\n",
            "23 batch_normalization_6 True\n",
            "24 batch_normalization_9 True\n",
            "25 activation_6 False\n",
            "26 activation_9 False\n",
            "27 average_pooling2d False\n",
            "28 conv2d_5 False\n",
            "29 conv2d_7 False\n",
            "30 conv2d_10 False\n",
            "31 conv2d_11 False\n",
            "32 batch_normalization_5 True\n",
            "33 batch_normalization_7 True\n",
            "34 batch_normalization_10 True\n",
            "35 batch_normalization_11 True\n",
            "36 activation_5 False\n",
            "37 activation_7 False\n",
            "38 activation_10 False\n",
            "39 activation_11 False\n",
            "40 mixed0 False\n",
            "41 conv2d_15 False\n",
            "42 batch_normalization_15 True\n",
            "43 activation_15 False\n",
            "44 conv2d_13 False\n",
            "45 conv2d_16 False\n",
            "46 batch_normalization_13 True\n",
            "47 batch_normalization_16 True\n",
            "48 activation_13 False\n",
            "49 activation_16 False\n",
            "50 average_pooling2d_1 False\n",
            "51 conv2d_12 False\n",
            "52 conv2d_14 False\n",
            "53 conv2d_17 False\n",
            "54 conv2d_18 False\n",
            "55 batch_normalization_12 True\n",
            "56 batch_normalization_14 True\n",
            "57 batch_normalization_17 True\n",
            "58 batch_normalization_18 True\n",
            "59 activation_12 False\n",
            "60 activation_14 False\n",
            "61 activation_17 False\n",
            "62 activation_18 False\n",
            "63 mixed1 False\n",
            "64 conv2d_22 False\n",
            "65 batch_normalization_22 True\n",
            "66 activation_22 False\n",
            "67 conv2d_20 False\n",
            "68 conv2d_23 False\n",
            "69 batch_normalization_20 True\n",
            "70 batch_normalization_23 True\n",
            "71 activation_20 False\n",
            "72 activation_23 False\n",
            "73 average_pooling2d_2 False\n",
            "74 conv2d_19 False\n",
            "75 conv2d_21 False\n",
            "76 conv2d_24 False\n",
            "77 conv2d_25 False\n",
            "78 batch_normalization_19 True\n",
            "79 batch_normalization_21 True\n",
            "80 batch_normalization_24 True\n",
            "81 batch_normalization_25 True\n",
            "82 activation_19 False\n",
            "83 activation_21 False\n",
            "84 activation_24 False\n",
            "85 activation_25 False\n",
            "86 mixed2 False\n",
            "87 conv2d_27 False\n",
            "88 batch_normalization_27 True\n",
            "89 activation_27 False\n",
            "90 conv2d_28 False\n",
            "91 batch_normalization_28 True\n",
            "92 activation_28 False\n",
            "93 conv2d_26 False\n",
            "94 conv2d_29 False\n",
            "95 batch_normalization_26 True\n",
            "96 batch_normalization_29 True\n",
            "97 activation_26 False\n",
            "98 activation_29 False\n",
            "99 max_pooling2d_2 False\n",
            "100 mixed3 False\n",
            "101 conv2d_34 False\n",
            "102 batch_normalization_34 True\n",
            "103 activation_34 False\n",
            "104 conv2d_35 False\n",
            "105 batch_normalization_35 True\n",
            "106 activation_35 False\n",
            "107 conv2d_31 False\n",
            "108 conv2d_36 False\n",
            "109 batch_normalization_31 True\n",
            "110 batch_normalization_36 True\n",
            "111 activation_31 False\n",
            "112 activation_36 False\n",
            "113 conv2d_32 False\n",
            "114 conv2d_37 False\n",
            "115 batch_normalization_32 True\n",
            "116 batch_normalization_37 True\n",
            "117 activation_32 False\n",
            "118 activation_37 False\n",
            "119 average_pooling2d_3 False\n",
            "120 conv2d_30 False\n",
            "121 conv2d_33 False\n",
            "122 conv2d_38 False\n",
            "123 conv2d_39 False\n",
            "124 batch_normalization_30 True\n",
            "125 batch_normalization_33 True\n",
            "126 batch_normalization_38 True\n",
            "127 batch_normalization_39 True\n",
            "128 activation_30 False\n",
            "129 activation_33 False\n",
            "130 activation_38 False\n",
            "131 activation_39 False\n",
            "132 mixed4 False\n",
            "133 conv2d_44 False\n",
            "134 batch_normalization_44 True\n",
            "135 activation_44 False\n",
            "136 conv2d_45 False\n",
            "137 batch_normalization_45 True\n",
            "138 activation_45 False\n",
            "139 conv2d_41 False\n",
            "140 conv2d_46 False\n",
            "141 batch_normalization_41 True\n",
            "142 batch_normalization_46 True\n",
            "143 activation_41 False\n",
            "144 activation_46 False\n",
            "145 conv2d_42 False\n",
            "146 conv2d_47 False\n",
            "147 batch_normalization_42 True\n",
            "148 batch_normalization_47 True\n",
            "149 activation_42 False\n",
            "150 activation_47 False\n",
            "151 average_pooling2d_4 False\n",
            "152 conv2d_40 False\n",
            "153 conv2d_43 False\n",
            "154 conv2d_48 False\n",
            "155 conv2d_49 False\n",
            "156 batch_normalization_40 True\n",
            "157 batch_normalization_43 True\n",
            "158 batch_normalization_48 True\n",
            "159 batch_normalization_49 True\n",
            "160 activation_40 False\n",
            "161 activation_43 False\n",
            "162 activation_48 False\n",
            "163 activation_49 False\n",
            "164 mixed5 False\n",
            "165 conv2d_54 False\n",
            "166 batch_normalization_54 True\n",
            "167 activation_54 False\n",
            "168 conv2d_55 False\n",
            "169 batch_normalization_55 True\n",
            "170 activation_55 False\n",
            "171 conv2d_51 False\n",
            "172 conv2d_56 False\n",
            "173 batch_normalization_51 True\n",
            "174 batch_normalization_56 True\n",
            "175 activation_51 False\n",
            "176 activation_56 False\n",
            "177 conv2d_52 False\n",
            "178 conv2d_57 False\n",
            "179 batch_normalization_52 True\n",
            "180 batch_normalization_57 True\n",
            "181 activation_52 False\n",
            "182 activation_57 False\n",
            "183 average_pooling2d_5 False\n",
            "184 conv2d_50 False\n",
            "185 conv2d_53 False\n",
            "186 conv2d_58 False\n",
            "187 conv2d_59 False\n",
            "188 batch_normalization_50 True\n",
            "189 batch_normalization_53 True\n",
            "190 batch_normalization_58 True\n",
            "191 batch_normalization_59 True\n",
            "192 activation_50 False\n",
            "193 activation_53 False\n",
            "194 activation_58 False\n",
            "195 activation_59 False\n",
            "196 mixed6 False\n",
            "197 conv2d_64 False\n",
            "198 batch_normalization_64 True\n",
            "199 activation_64 False\n",
            "200 conv2d_65 False\n",
            "201 batch_normalization_65 True\n",
            "202 activation_65 False\n",
            "203 conv2d_61 False\n",
            "204 conv2d_66 False\n",
            "205 batch_normalization_61 True\n",
            "206 batch_normalization_66 True\n",
            "207 activation_61 False\n",
            "208 activation_66 False\n",
            "209 conv2d_62 False\n",
            "210 conv2d_67 False\n",
            "211 batch_normalization_62 True\n",
            "212 batch_normalization_67 True\n",
            "213 activation_62 False\n",
            "214 activation_67 False\n",
            "215 average_pooling2d_6 False\n",
            "216 conv2d_60 False\n",
            "217 conv2d_63 False\n",
            "218 conv2d_68 False\n",
            "219 conv2d_69 False\n",
            "220 batch_normalization_60 True\n",
            "221 batch_normalization_63 True\n",
            "222 batch_normalization_68 True\n",
            "223 batch_normalization_69 True\n",
            "224 activation_60 False\n",
            "225 activation_63 False\n",
            "226 activation_68 False\n",
            "227 activation_69 False\n",
            "228 mixed7 False\n",
            "229 conv2d_72 False\n",
            "230 batch_normalization_72 True\n",
            "231 activation_72 False\n",
            "232 conv2d_73 False\n",
            "233 batch_normalization_73 True\n",
            "234 activation_73 False\n",
            "235 conv2d_70 False\n",
            "236 conv2d_74 False\n",
            "237 batch_normalization_70 True\n",
            "238 batch_normalization_74 True\n",
            "239 activation_70 False\n",
            "240 activation_74 False\n",
            "241 conv2d_71 False\n",
            "242 conv2d_75 False\n",
            "243 batch_normalization_71 True\n",
            "244 batch_normalization_75 True\n",
            "245 activation_71 False\n",
            "246 activation_75 False\n",
            "247 max_pooling2d_3 False\n",
            "248 mixed8 False\n",
            "249 conv2d_80 False\n",
            "250 batch_normalization_80 True\n",
            "251 activation_80 False\n",
            "252 conv2d_77 False\n",
            "253 conv2d_81 False\n",
            "254 batch_normalization_77 True\n",
            "255 batch_normalization_81 True\n",
            "256 activation_77 False\n",
            "257 activation_81 False\n",
            "258 conv2d_78 False\n",
            "259 conv2d_79 False\n",
            "260 conv2d_82 False\n",
            "261 conv2d_83 False\n",
            "262 average_pooling2d_7 False\n",
            "263 conv2d_76 False\n",
            "264 batch_normalization_78 True\n",
            "265 batch_normalization_79 True\n",
            "266 batch_normalization_82 True\n",
            "267 batch_normalization_83 True\n",
            "268 conv2d_84 False\n",
            "269 batch_normalization_76 True\n",
            "270 activation_78 False\n",
            "271 activation_79 False\n",
            "272 activation_82 False\n",
            "273 activation_83 False\n",
            "274 batch_normalization_84 True\n",
            "275 activation_76 False\n",
            "276 mixed9_0 False\n",
            "277 concatenate False\n",
            "278 activation_84 False\n",
            "279 mixed9 False\n",
            "280 conv2d_89 False\n",
            "281 batch_normalization_89 True\n",
            "282 activation_89 False\n",
            "283 conv2d_86 False\n",
            "284 conv2d_90 False\n",
            "285 batch_normalization_86 True\n",
            "286 batch_normalization_90 True\n",
            "287 activation_86 False\n",
            "288 activation_90 False\n",
            "289 conv2d_87 False\n",
            "290 conv2d_88 False\n",
            "291 conv2d_91 False\n",
            "292 conv2d_92 False\n",
            "293 average_pooling2d_8 False\n",
            "294 conv2d_85 False\n",
            "295 batch_normalization_87 True\n",
            "296 batch_normalization_88 True\n",
            "297 batch_normalization_91 True\n",
            "298 batch_normalization_92 True\n",
            "299 conv2d_93 True\n",
            "300 batch_normalization_85 True\n",
            "301 activation_87 True\n",
            "302 activation_88 True\n",
            "303 activation_91 True\n",
            "304 activation_92 True\n",
            "305 batch_normalization_93 True\n",
            "306 activation_85 True\n",
            "307 mixed9_1 True\n",
            "308 concatenate_1 True\n",
            "309 activation_93 True\n",
            "310 mixed10 True\n",
            "311 global_average_pooling2d True\n"
          ],
          "name": "stdout"
        }
      ]
    },
    {
      "cell_type": "code",
      "metadata": {
        "id": "LRgJzzTkILvk",
        "colab_type": "code",
        "colab": {}
      },
      "source": [
        "from keras.layers import Input "
      ],
      "execution_count": null,
      "outputs": []
    },
    {
      "cell_type": "code",
      "metadata": {
        "id": "6XwhmneUIOz4",
        "colab_type": "code",
        "colab": {}
      },
      "source": [
        "input_tensor = Input(shape=(224,224,1))\n",
        "x = Conv2D(3,(3,3), padding='same')(input_tensor)"
      ],
      "execution_count": null,
      "outputs": []
    },
    {
      "cell_type": "code",
      "metadata": {
        "id": "im_uZPYCIQ_d",
        "colab_type": "code",
        "colab": {}
      },
      "source": [
        "x = conv_base(x)"
      ],
      "execution_count": null,
      "outputs": []
    },
    {
      "cell_type": "code",
      "metadata": {
        "id": "ATK3uMnWIUdW",
        "colab_type": "code",
        "colab": {}
      },
      "source": [
        "x = Dense(2048, activation='relu', kernel_regularizer= regularizers.l2(0.001))(x)\n",
        "x = Dropout(0.5)(x)"
      ],
      "execution_count": null,
      "outputs": []
    },
    {
      "cell_type": "code",
      "metadata": {
        "id": "ucYVzkNJIWuk",
        "colab_type": "code",
        "colab": {}
      },
      "source": [
        "ouput = Dense(47, activation='softmax')(x)"
      ],
      "execution_count": null,
      "outputs": []
    },
    {
      "cell_type": "code",
      "metadata": {
        "id": "qlek0DDqId2e",
        "colab_type": "code",
        "colab": {}
      },
      "source": [
        "model = Model(inputs = input_tensor, outputs = ouput )"
      ],
      "execution_count": null,
      "outputs": []
    },
    {
      "cell_type": "code",
      "metadata": {
        "id": "c234MRM8IhIy",
        "colab_type": "code",
        "colab": {
          "base_uri": "https://localhost:8080/",
          "height": 357
        },
        "outputId": "1263cc43-2eb3-42fc-acbb-b3fc0869ec0b"
      },
      "source": [
        "model.summary()"
      ],
      "execution_count": null,
      "outputs": [
        {
          "output_type": "stream",
          "text": [
            "Model: \"functional_1\"\n",
            "_________________________________________________________________\n",
            "Layer (type)                 Output Shape              Param #   \n",
            "=================================================================\n",
            "input_2 (InputLayer)         [(None, 224, 224, 1)]     0         \n",
            "_________________________________________________________________\n",
            "conv2d_94 (Conv2D)           (None, 224, 224, 3)       30        \n",
            "_________________________________________________________________\n",
            "inception_v3 (Functional)    (None, 2048)              21802784  \n",
            "_________________________________________________________________\n",
            "dense (Dense)                (None, 2048)              4196352   \n",
            "_________________________________________________________________\n",
            "dropout (Dropout)            (None, 2048)              0         \n",
            "_________________________________________________________________\n",
            "dense_1 (Dense)              (None, 47)                96303     \n",
            "=================================================================\n",
            "Total params: 26,095,469\n",
            "Trainable params: 4,703,117\n",
            "Non-trainable params: 21,392,352\n",
            "_________________________________________________________________\n"
          ],
          "name": "stdout"
        }
      ]
    },
    {
      "cell_type": "code",
      "metadata": {
        "id": "YKHF6ZDtIj7X",
        "colab_type": "code",
        "colab": {}
      },
      "source": [
        "model.compile(loss='categorical_crossentropy',\n",
        "              optimizer=Adam(lr=0.001),\n",
        "              metrics=['accuracy'])"
      ],
      "execution_count": null,
      "outputs": []
    },
    {
      "cell_type": "code",
      "metadata": {
        "id": "QFrUnTWdIm1x",
        "colab_type": "code",
        "colab": {}
      },
      "source": [
        "from keras.callbacks import ModelCheckpoint, EarlyStopping, ReduceLROnPlateau\n",
        "checkpoint = ModelCheckpoint(\"/content/drive/My Drive/DTD dataset/dtd/InspectionV3_DTD_Greyscale.h5\",\n",
        "                             monitor=\"val_loss\",\n",
        "                             mode=\"min\",\n",
        "                             save_best_only = True,\n",
        "                             verbose=1)\n",
        "\n",
        "earlystop = EarlyStopping(monitor = 'val_loss', \n",
        "                          min_delta = 0, \n",
        "                          patience = 40,\n",
        "                          verbose = 1,\n",
        "                          restore_best_weights = True)\n",
        "\n",
        "reduce_lr = ReduceLROnPlateau(monitor = 'val_loss',\n",
        "                              factor = 0.2,\n",
        "                              patience = 40,\n",
        "                              verbose = 1,\n",
        "                              min_delta = 0.00001)\n",
        "\n",
        "callBacks = [earlystop, checkpoint, reduce_lr]"
      ],
      "execution_count": null,
      "outputs": []
    },
    {
      "cell_type": "code",
      "metadata": {
        "id": "Silp66FDJEvF",
        "colab_type": "code",
        "colab": {
          "base_uri": "https://localhost:8080/",
          "height": 1000
        },
        "outputId": "7b20ba53-833a-49d4-8f59-a0ca772e1b25"
      },
      "source": [
        "hist = model.fit_generator(steps_per_epoch=634,generator= Grey_TrainingData, validation_data= Grey_ValidData, validation_steps=35,epochs=75,callbacks=callBacks)"
      ],
      "execution_count": null,
      "outputs": [
        {
          "output_type": "stream",
          "text": [
            "WARNING:tensorflow:From <ipython-input-23-775fe6d0744d>:1: Model.fit_generator (from tensorflow.python.keras.engine.training) is deprecated and will be removed in a future version.\n",
            "Instructions for updating:\n",
            "Please use Model.fit, which supports generators.\n",
            "Epoch 1/75\n",
            "634/634 [==============================] - ETA: 0s - loss: 4.2200 - accuracy: 0.1498\n",
            "Epoch 00001: val_loss improved from inf to 3.03203, saving model to /content/drive/My Drive/DTD dataset/dtd/InspectionV3_DTD_Greyscale.h5\n",
            "634/634 [==============================] - 3185s 5s/step - loss: 4.2200 - accuracy: 0.1498 - val_loss: 3.0320 - val_accuracy: 0.3071\n",
            "Epoch 2/75\n",
            "634/634 [==============================] - ETA: 0s - loss: 3.0269 - accuracy: 0.2532\n",
            "Epoch 00002: val_loss did not improve from 3.03203\n",
            "634/634 [==============================] - 61s 97ms/step - loss: 3.0269 - accuracy: 0.2532 - val_loss: 3.0650 - val_accuracy: 0.3071\n",
            "Epoch 3/75\n",
            "634/634 [==============================] - ETA: 0s - loss: 2.7571 - accuracy: 0.3120\n",
            "Epoch 00003: val_loss improved from 3.03203 to 2.83880, saving model to /content/drive/My Drive/DTD dataset/dtd/InspectionV3_DTD_Greyscale.h5\n",
            "634/634 [==============================] - 63s 100ms/step - loss: 2.7571 - accuracy: 0.3120 - val_loss: 2.8388 - val_accuracy: 0.2929\n",
            "Epoch 4/75\n",
            "634/634 [==============================] - ETA: 0s - loss: 2.6636 - accuracy: 0.3361\n",
            "Epoch 00004: val_loss did not improve from 2.83880\n",
            "634/634 [==============================] - 62s 97ms/step - loss: 2.6636 - accuracy: 0.3361 - val_loss: 2.9845 - val_accuracy: 0.2750\n",
            "Epoch 5/75\n",
            "634/634 [==============================] - ETA: 0s - loss: 2.5663 - accuracy: 0.3582\n",
            "Epoch 00005: val_loss did not improve from 2.83880\n",
            "634/634 [==============================] - 61s 97ms/step - loss: 2.5663 - accuracy: 0.3582 - val_loss: 3.2126 - val_accuracy: 0.3357\n",
            "Epoch 6/75\n",
            "634/634 [==============================] - ETA: 0s - loss: 2.4729 - accuracy: 0.3841\n",
            "Epoch 00006: val_loss improved from 2.83880 to 2.79250, saving model to /content/drive/My Drive/DTD dataset/dtd/InspectionV3_DTD_Greyscale.h5\n",
            "634/634 [==============================] - 63s 100ms/step - loss: 2.4729 - accuracy: 0.3841 - val_loss: 2.7925 - val_accuracy: 0.3750\n",
            "Epoch 7/75\n",
            "634/634 [==============================] - ETA: 0s - loss: 2.4358 - accuracy: 0.3858\n",
            "Epoch 00007: val_loss did not improve from 2.79250\n",
            "634/634 [==============================] - 61s 97ms/step - loss: 2.4358 - accuracy: 0.3858 - val_loss: 2.8222 - val_accuracy: 0.3821\n",
            "Epoch 8/75\n",
            "634/634 [==============================] - ETA: 0s - loss: 2.3971 - accuracy: 0.3989\n",
            "Epoch 00008: val_loss improved from 2.79250 to 2.74708, saving model to /content/drive/My Drive/DTD dataset/dtd/InspectionV3_DTD_Greyscale.h5\n",
            "634/634 [==============================] - 64s 101ms/step - loss: 2.3971 - accuracy: 0.3989 - val_loss: 2.7471 - val_accuracy: 0.3607\n",
            "Epoch 9/75\n",
            "634/634 [==============================] - ETA: 0s - loss: 2.3211 - accuracy: 0.4194\n",
            "Epoch 00009: val_loss improved from 2.74708 to 2.66219, saving model to /content/drive/My Drive/DTD dataset/dtd/InspectionV3_DTD_Greyscale.h5\n",
            "634/634 [==============================] - 64s 100ms/step - loss: 2.3211 - accuracy: 0.4194 - val_loss: 2.6622 - val_accuracy: 0.3821\n",
            "Epoch 10/75\n",
            "634/634 [==============================] - ETA: 0s - loss: 2.2505 - accuracy: 0.4308\n",
            "Epoch 00010: val_loss did not improve from 2.66219\n",
            "634/634 [==============================] - 61s 97ms/step - loss: 2.2505 - accuracy: 0.4308 - val_loss: 2.9717 - val_accuracy: 0.3571\n",
            "Epoch 11/75\n",
            "634/634 [==============================] - ETA: 0s - loss: 2.1919 - accuracy: 0.4460\n",
            "Epoch 00011: val_loss improved from 2.66219 to 2.46061, saving model to /content/drive/My Drive/DTD dataset/dtd/InspectionV3_DTD_Greyscale.h5\n",
            "634/634 [==============================] - 63s 99ms/step - loss: 2.1919 - accuracy: 0.4460 - val_loss: 2.4606 - val_accuracy: 0.4500\n",
            "Epoch 12/75\n",
            "634/634 [==============================] - ETA: 0s - loss: 2.1747 - accuracy: 0.4423\n",
            "Epoch 00012: val_loss did not improve from 2.46061\n",
            "634/634 [==============================] - 61s 96ms/step - loss: 2.1747 - accuracy: 0.4423 - val_loss: 2.9999 - val_accuracy: 0.3714\n",
            "Epoch 13/75\n",
            "634/634 [==============================] - ETA: 0s - loss: 2.1290 - accuracy: 0.4612\n",
            "Epoch 00013: val_loss did not improve from 2.46061\n",
            "634/634 [==============================] - 62s 97ms/step - loss: 2.1290 - accuracy: 0.4612 - val_loss: 3.2583 - val_accuracy: 0.3500\n",
            "Epoch 14/75\n",
            "634/634 [==============================] - ETA: 0s - loss: 2.0839 - accuracy: 0.4671\n",
            "Epoch 00014: val_loss did not improve from 2.46061\n",
            "634/634 [==============================] - 61s 96ms/step - loss: 2.0839 - accuracy: 0.4671 - val_loss: 2.8532 - val_accuracy: 0.3750\n",
            "Epoch 15/75\n",
            "634/634 [==============================] - ETA: 0s - loss: 2.0647 - accuracy: 0.4758\n",
            "Epoch 00015: val_loss improved from 2.46061 to 2.42511, saving model to /content/drive/My Drive/DTD dataset/dtd/InspectionV3_DTD_Greyscale.h5\n",
            "634/634 [==============================] - 63s 99ms/step - loss: 2.0647 - accuracy: 0.4758 - val_loss: 2.4251 - val_accuracy: 0.4143\n",
            "Epoch 16/75\n",
            "634/634 [==============================] - ETA: 0s - loss: 2.0085 - accuracy: 0.4896\n",
            "Epoch 00016: val_loss did not improve from 2.42511\n",
            "634/634 [==============================] - 61s 96ms/step - loss: 2.0085 - accuracy: 0.4896 - val_loss: 2.8032 - val_accuracy: 0.4179\n",
            "Epoch 17/75\n",
            "634/634 [==============================] - ETA: 0s - loss: 1.9840 - accuracy: 0.4770\n",
            "Epoch 00017: val_loss did not improve from 2.42511\n",
            "634/634 [==============================] - 61s 96ms/step - loss: 1.9840 - accuracy: 0.4770 - val_loss: 2.6278 - val_accuracy: 0.4179\n",
            "Epoch 18/75\n",
            "634/634 [==============================] - ETA: 0s - loss: 1.9421 - accuracy: 0.4971\n",
            "Epoch 00018: val_loss did not improve from 2.42511\n",
            "634/634 [==============================] - 61s 96ms/step - loss: 1.9421 - accuracy: 0.4971 - val_loss: 3.0119 - val_accuracy: 0.3857\n",
            "Epoch 19/75\n",
            "634/634 [==============================] - ETA: 0s - loss: 1.9248 - accuracy: 0.5078\n",
            "Epoch 00019: val_loss did not improve from 2.42511\n",
            "634/634 [==============================] - 61s 96ms/step - loss: 1.9248 - accuracy: 0.5078 - val_loss: 3.0603 - val_accuracy: 0.3929\n",
            "Epoch 20/75\n",
            "634/634 [==============================] - ETA: 0s - loss: 1.8955 - accuracy: 0.5027\n",
            "Epoch 00020: val_loss did not improve from 2.42511\n",
            "634/634 [==============================] - 61s 96ms/step - loss: 1.8955 - accuracy: 0.5027 - val_loss: 2.8100 - val_accuracy: 0.4143\n",
            "Epoch 21/75\n",
            "634/634 [==============================] - ETA: 0s - loss: 1.8497 - accuracy: 0.5147\n",
            "Epoch 00021: val_loss did not improve from 2.42511\n",
            "634/634 [==============================] - 61s 96ms/step - loss: 1.8497 - accuracy: 0.5147 - val_loss: 2.9746 - val_accuracy: 0.4107\n",
            "Epoch 22/75\n",
            "634/634 [==============================] - ETA: 0s - loss: 1.8608 - accuracy: 0.5131\n",
            "Epoch 00022: val_loss did not improve from 2.42511\n",
            "634/634 [==============================] - 61s 96ms/step - loss: 1.8608 - accuracy: 0.5131 - val_loss: 3.2631 - val_accuracy: 0.4429\n",
            "Epoch 23/75\n",
            "634/634 [==============================] - ETA: 0s - loss: 1.8545 - accuracy: 0.5230\n",
            "Epoch 00023: val_loss did not improve from 2.42511\n",
            "634/634 [==============================] - 61s 97ms/step - loss: 1.8545 - accuracy: 0.5230 - val_loss: 3.3548 - val_accuracy: 0.3964\n",
            "Epoch 24/75\n",
            "634/634 [==============================] - ETA: 0s - loss: 1.8466 - accuracy: 0.5157\n",
            "Epoch 00024: val_loss did not improve from 2.42511\n",
            "634/634 [==============================] - 61s 96ms/step - loss: 1.8466 - accuracy: 0.5157 - val_loss: 3.0946 - val_accuracy: 0.4250\n",
            "Epoch 25/75\n",
            "634/634 [==============================] - ETA: 0s - loss: 1.7861 - accuracy: 0.5338\n",
            "Epoch 00025: val_loss did not improve from 2.42511\n",
            "634/634 [==============================] - 61s 96ms/step - loss: 1.7861 - accuracy: 0.5338 - val_loss: 3.1166 - val_accuracy: 0.4071\n",
            "Epoch 26/75\n",
            "634/634 [==============================] - ETA: 0s - loss: 1.8294 - accuracy: 0.5265\n",
            "Epoch 00026: val_loss did not improve from 2.42511\n",
            "634/634 [==============================] - 61s 96ms/step - loss: 1.8294 - accuracy: 0.5265 - val_loss: 2.6732 - val_accuracy: 0.4286\n",
            "Epoch 27/75\n",
            "634/634 [==============================] - ETA: 0s - loss: 1.7616 - accuracy: 0.5506\n",
            "Epoch 00027: val_loss did not improve from 2.42511\n",
            "634/634 [==============================] - 61s 96ms/step - loss: 1.7616 - accuracy: 0.5506 - val_loss: 3.1386 - val_accuracy: 0.3857\n",
            "Epoch 28/75\n",
            "634/634 [==============================] - ETA: 0s - loss: 1.7869 - accuracy: 0.5309\n",
            "Epoch 00028: val_loss did not improve from 2.42511\n",
            "634/634 [==============================] - 62s 97ms/step - loss: 1.7869 - accuracy: 0.5309 - val_loss: 2.9327 - val_accuracy: 0.4143\n",
            "Epoch 29/75\n",
            "634/634 [==============================] - ETA: 0s - loss: 1.7561 - accuracy: 0.5445\n",
            "Epoch 00029: val_loss did not improve from 2.42511\n",
            "634/634 [==============================] - 61s 96ms/step - loss: 1.7561 - accuracy: 0.5445 - val_loss: 2.7677 - val_accuracy: 0.4464\n",
            "Epoch 30/75\n",
            "634/634 [==============================] - ETA: 0s - loss: 1.7588 - accuracy: 0.5376\n",
            "Epoch 00030: val_loss did not improve from 2.42511\n",
            "634/634 [==============================] - 61s 96ms/step - loss: 1.7588 - accuracy: 0.5376 - val_loss: 3.2064 - val_accuracy: 0.4357\n",
            "Epoch 31/75\n",
            "634/634 [==============================] - ETA: 0s - loss: 1.7788 - accuracy: 0.5366\n",
            "Epoch 00031: val_loss did not improve from 2.42511\n",
            "634/634 [==============================] - 61s 96ms/step - loss: 1.7788 - accuracy: 0.5366 - val_loss: 2.8918 - val_accuracy: 0.4429\n",
            "Epoch 32/75\n",
            "634/634 [==============================] - ETA: 0s - loss: 1.7153 - accuracy: 0.5449\n",
            "Epoch 00032: val_loss did not improve from 2.42511\n",
            "634/634 [==============================] - 61s 96ms/step - loss: 1.7153 - accuracy: 0.5449 - val_loss: 2.9373 - val_accuracy: 0.4357\n",
            "Epoch 33/75\n",
            "634/634 [==============================] - ETA: 0s - loss: 1.7391 - accuracy: 0.5435\n",
            "Epoch 00033: val_loss did not improve from 2.42511\n",
            "634/634 [==============================] - 61s 97ms/step - loss: 1.7391 - accuracy: 0.5435 - val_loss: 2.5401 - val_accuracy: 0.4571\n",
            "Epoch 34/75\n",
            "634/634 [==============================] - ETA: 0s - loss: 1.7158 - accuracy: 0.5477\n",
            "Epoch 00034: val_loss did not improve from 2.42511\n",
            "634/634 [==============================] - 61s 96ms/step - loss: 1.7158 - accuracy: 0.5477 - val_loss: 2.9191 - val_accuracy: 0.4214\n",
            "Epoch 35/75\n",
            "634/634 [==============================] - ETA: 0s - loss: 1.7097 - accuracy: 0.5607\n",
            "Epoch 00035: val_loss did not improve from 2.42511\n",
            "634/634 [==============================] - 61s 97ms/step - loss: 1.7097 - accuracy: 0.5607 - val_loss: 2.8088 - val_accuracy: 0.4571\n",
            "Epoch 36/75\n",
            "634/634 [==============================] - ETA: 0s - loss: 1.6576 - accuracy: 0.5613\n",
            "Epoch 00036: val_loss did not improve from 2.42511\n",
            "634/634 [==============================] - 61s 97ms/step - loss: 1.6576 - accuracy: 0.5613 - val_loss: 3.0348 - val_accuracy: 0.4393\n",
            "Epoch 37/75\n",
            "634/634 [==============================] - ETA: 0s - loss: 1.6922 - accuracy: 0.5629\n",
            "Epoch 00037: val_loss did not improve from 2.42511\n",
            "634/634 [==============================] - 61s 96ms/step - loss: 1.6922 - accuracy: 0.5629 - val_loss: 3.1336 - val_accuracy: 0.4393\n",
            "Epoch 38/75\n",
            "634/634 [==============================] - ETA: 0s - loss: 1.6827 - accuracy: 0.5579\n",
            "Epoch 00038: val_loss did not improve from 2.42511\n",
            "634/634 [==============================] - 62s 98ms/step - loss: 1.6827 - accuracy: 0.5579 - val_loss: 2.9137 - val_accuracy: 0.4643\n",
            "Epoch 39/75\n",
            "634/634 [==============================] - ETA: 0s - loss: 1.6615 - accuracy: 0.5583\n",
            "Epoch 00039: val_loss did not improve from 2.42511\n",
            "634/634 [==============================] - 61s 97ms/step - loss: 1.6615 - accuracy: 0.5583 - val_loss: 3.5277 - val_accuracy: 0.4179\n",
            "Epoch 40/75\n",
            "634/634 [==============================] - ETA: 0s - loss: 1.6615 - accuracy: 0.5636\n",
            "Epoch 00040: val_loss did not improve from 2.42511\n",
            "634/634 [==============================] - 61s 96ms/step - loss: 1.6615 - accuracy: 0.5636 - val_loss: 3.0111 - val_accuracy: 0.4500\n",
            "Epoch 41/75\n",
            "634/634 [==============================] - ETA: 0s - loss: 1.6398 - accuracy: 0.5674\n",
            "Epoch 00041: val_loss did not improve from 2.42511\n",
            "634/634 [==============================] - 61s 96ms/step - loss: 1.6398 - accuracy: 0.5674 - val_loss: 2.9886 - val_accuracy: 0.4179\n",
            "Epoch 42/75\n",
            "634/634 [==============================] - ETA: 0s - loss: 1.6223 - accuracy: 0.5741\n",
            "Epoch 00042: val_loss did not improve from 2.42511\n",
            "634/634 [==============================] - 61s 96ms/step - loss: 1.6223 - accuracy: 0.5741 - val_loss: 3.4307 - val_accuracy: 0.4464\n",
            "Epoch 43/75\n",
            "634/634 [==============================] - ETA: 0s - loss: 1.6225 - accuracy: 0.5790\n",
            "Epoch 00043: val_loss did not improve from 2.42511\n",
            "634/634 [==============================] - 62s 97ms/step - loss: 1.6225 - accuracy: 0.5790 - val_loss: 3.0600 - val_accuracy: 0.4643\n",
            "Epoch 44/75\n",
            "634/634 [==============================] - ETA: 0s - loss: 1.6076 - accuracy: 0.5796\n",
            "Epoch 00044: val_loss did not improve from 2.42511\n",
            "634/634 [==============================] - 62s 97ms/step - loss: 1.6076 - accuracy: 0.5796 - val_loss: 2.9711 - val_accuracy: 0.4464\n",
            "Epoch 45/75\n",
            "634/634 [==============================] - ETA: 0s - loss: 1.6090 - accuracy: 0.5755\n",
            "Epoch 00045: val_loss did not improve from 2.42511\n",
            "634/634 [==============================] - 62s 98ms/step - loss: 1.6090 - accuracy: 0.5755 - val_loss: 3.0962 - val_accuracy: 0.4536\n",
            "Epoch 46/75\n",
            "634/634 [==============================] - ETA: 0s - loss: 1.6001 - accuracy: 0.5838\n",
            "Epoch 00046: val_loss did not improve from 2.42511\n",
            "634/634 [==============================] - 61s 97ms/step - loss: 1.6001 - accuracy: 0.5838 - val_loss: 3.4201 - val_accuracy: 0.4250\n",
            "Epoch 47/75\n",
            "634/634 [==============================] - ETA: 0s - loss: 1.5845 - accuracy: 0.5887\n",
            "Epoch 00047: val_loss did not improve from 2.42511\n",
            "634/634 [==============================] - 61s 97ms/step - loss: 1.5845 - accuracy: 0.5887 - val_loss: 3.1946 - val_accuracy: 0.4357\n",
            "Epoch 48/75\n",
            "634/634 [==============================] - ETA: 0s - loss: 1.5980 - accuracy: 0.5830\n",
            "Epoch 00048: val_loss did not improve from 2.42511\n",
            "634/634 [==============================] - 62s 98ms/step - loss: 1.5980 - accuracy: 0.5830 - val_loss: 3.2206 - val_accuracy: 0.4286\n",
            "Epoch 49/75\n",
            "634/634 [==============================] - ETA: 0s - loss: 1.5976 - accuracy: 0.5850\n",
            "Epoch 00049: val_loss did not improve from 2.42511\n",
            "634/634 [==============================] - 61s 96ms/step - loss: 1.5976 - accuracy: 0.5850 - val_loss: 2.7752 - val_accuracy: 0.4786\n",
            "Epoch 50/75\n",
            "634/634 [==============================] - ETA: 0s - loss: 1.5709 - accuracy: 0.5915\n",
            "Epoch 00050: val_loss did not improve from 2.42511\n",
            "634/634 [==============================] - 61s 96ms/step - loss: 1.5709 - accuracy: 0.5915 - val_loss: 2.8746 - val_accuracy: 0.4393\n",
            "Epoch 51/75\n",
            "634/634 [==============================] - ETA: 0s - loss: 1.5960 - accuracy: 0.5818\n",
            "Epoch 00051: val_loss did not improve from 2.42511\n",
            "634/634 [==============================] - 61s 96ms/step - loss: 1.5960 - accuracy: 0.5818 - val_loss: 3.2559 - val_accuracy: 0.4393\n",
            "Epoch 52/75\n",
            "634/634 [==============================] - ETA: 0s - loss: 1.5705 - accuracy: 0.5873\n",
            "Epoch 00052: val_loss did not improve from 2.42511\n",
            "634/634 [==============================] - 61s 97ms/step - loss: 1.5705 - accuracy: 0.5873 - val_loss: 2.7538 - val_accuracy: 0.4821\n",
            "Epoch 53/75\n",
            "634/634 [==============================] - ETA: 0s - loss: 1.5507 - accuracy: 0.5948\n",
            "Epoch 00053: val_loss did not improve from 2.42511\n",
            "634/634 [==============================] - 62s 97ms/step - loss: 1.5507 - accuracy: 0.5948 - val_loss: 3.1603 - val_accuracy: 0.4214\n",
            "Epoch 54/75\n",
            "634/634 [==============================] - ETA: 0s - loss: 1.5533 - accuracy: 0.5942\n",
            "Epoch 00054: val_loss did not improve from 2.42511\n",
            "634/634 [==============================] - 61s 96ms/step - loss: 1.5533 - accuracy: 0.5942 - val_loss: 3.2419 - val_accuracy: 0.4429\n",
            "Epoch 55/75\n",
            "634/634 [==============================] - ETA: 0s - loss: 1.5736 - accuracy: 0.5875Restoring model weights from the end of the best epoch.\n",
            "\n",
            "Epoch 00055: val_loss did not improve from 2.42511\n",
            "\n",
            "Epoch 00055: ReduceLROnPlateau reducing learning rate to 0.00020000000949949026.\n",
            "634/634 [==============================] - 61s 97ms/step - loss: 1.5736 - accuracy: 0.5875 - val_loss: 3.0813 - val_accuracy: 0.4464\n",
            "Epoch 00055: early stopping\n"
          ],
          "name": "stdout"
        }
      ]
    },
    {
      "cell_type": "code",
      "metadata": {
        "id": "7rddNBrFJWH5",
        "colab_type": "code",
        "colab": {
          "base_uri": "https://localhost:8080/",
          "height": 295
        },
        "outputId": "e2161555-6c46-4b3d-f2c3-24a9b627ca55"
      },
      "source": [
        "import matplotlib.pyplot as plt\n",
        "plt.plot(hist.history[\"accuracy\"])\n",
        "plt.plot(hist.history['val_accuracy'])\n",
        "plt.title(\"model accuracy\")\n",
        "plt.ylabel(\"Accuracy\")\n",
        "plt.xlabel(\"Epoch\")\n",
        "plt.legend([\"Accuracy\",\"Validation Accuracy\"])\n",
        "plt.show()"
      ],
      "execution_count": null,
      "outputs": [
        {
          "output_type": "display_data",
          "data": {
            "image/png": "[encoded data removed]",
            "text/plain": [
              "<Figure size 432x288 with 1 Axes>"
            ]
          },
          "metadata": {
            "tags": [],
            "needs_background": "light"
          }
        }
      ]
    },
    {
      "cell_type": "code",
      "metadata": {
        "id": "Tk4bvR-UJbm1",
        "colab_type": "code",
        "colab": {
          "base_uri": "https://localhost:8080/",
          "height": 295
        },
        "outputId": "862dbc69-a92d-43b0-f4c4-22d1de25d77c"
      },
      "source": [
        "plt.plot(hist.history['loss'])\n",
        "plt.plot(hist.history['val_loss'])\n",
        "plt.title(\"model Loss\")\n",
        "plt.ylabel(\"Loss\")\n",
        "plt.xlabel(\"Epoch\")\n",
        "plt.legend([\"Loss\",\"Validation Loss\"])\n",
        "plt.show()"
      ],
      "execution_count": null,
      "outputs": [
        {
          "output_type": "display_data",
          "data": {
            "image/png": "[encoded data removed]",
            "text/plain": [
              "<Figure size 432x288 with 1 Axes>"
            ]
          },
          "metadata": {
            "tags": [],
            "needs_background": "light"
          }
        }
      ]
    },
    {
      "cell_type": "code",
      "metadata": {
        "id": "YnKgsbT2Jn1K",
        "colab_type": "code",
        "colab": {
          "base_uri": "https://localhost:8080/",
          "height": 34
        },
        "outputId": "95b7b9ea-307f-4af9-9212-cb662d431ec3"
      },
      "source": [
        "GreyTestData = TestGenerator.flow_from_directory('/content/drive/My Drive/DTD dataset/dtd/Test/', target_size=(224,224), batch_size = 8, shuffle = False, color_mode='grayscale')"
      ],
      "execution_count": null,
      "outputs": [
        {
          "output_type": "stream",
          "text": [
            "Found 283 images belonging to 47 classes.\n"
          ],
          "name": "stdout"
        }
      ]
    },
    {
      "cell_type": "code",
      "metadata": {
        "id": "a0yW_xf0PnKn",
        "colab_type": "code",
        "colab": {}
      },
      "source": [
        "model.load_weights('/content/drive/My Drive/DTD dataset/dtd/InspectionV3_DTD_Greyscale.h5')"
      ],
      "execution_count": null,
      "outputs": []
    },
    {
      "cell_type": "code",
      "metadata": {
        "id": "I8Gg_F49Jw28",
        "colab_type": "code",
        "colab": {}
      },
      "source": [
        "Grey_predict = model.predict(GreyTestData)"
      ],
      "execution_count": null,
      "outputs": []
    },
    {
      "cell_type": "code",
      "metadata": {
        "id": "O37PVgcGJ4YO",
        "colab_type": "code",
        "colab": {}
      },
      "source": [
        "Grey_predict_classes = np.argmax(Grey_predict, axis=1)"
      ],
      "execution_count": null,
      "outputs": []
    },
    {
      "cell_type": "code",
      "metadata": {
        "id": "ssASZqHcKCdz",
        "colab_type": "code",
        "colab": {
          "base_uri": "https://localhost:8080/",
          "height": 306
        },
        "outputId": "753d7094-0de8-4d69-e979-f08f10576266"
      },
      "source": [
        "Grey_predict_classes"
      ],
      "execution_count": null,
      "outputs": [
        {
          "output_type": "execute_result",
          "data": {
            "text/plain": [
              "array([ 0, 29,  0,  0, 15,  5, 12, 14, 31, 29,  7, 36,  2,  2, 44,  2,  2,\n",
              "        2,  3, 36, 13,  3, 13, 32, 33,  4, 28, 40, 27,  3, 12, 16,  5,  5,\n",
              "       27, 30,  6,  6,  6,  6,  6,  6,  7,  7, 36,  7, 28, 18,  6,  8,  8,\n",
              "        8,  4,  8, 34,  9,  9,  9,  9, 12, 10, 30, 30, 10, 10, 41, 12, 11,\n",
              "       11, 24, 11, 41, 12, 12, 12, 12, 30, 12, 13, 13, 13, 36, 13, 13, 14,\n",
              "       14, 14, 12, 36, 14,  0, 15, 22, 12, 14, 36, 10, 16, 16, 25, 16, 16,\n",
              "       17, 17, 23, 35, 22, 17, 18, 18, 21, 18, 18, 18, 35, 16, 19, 45, 19,\n",
              "       41, 12, 20, 33, 20, 18,  8, 41, 12, 12, 34, 21,  8, 13, 12,  0, 27,\n",
              "       17, 22, 14, 12, 12, 36, 11,  9,  1, 28, 37, 12, 17, 24, 25, 16, 16,\n",
              "       25, 43, 25, 41,  3, 41,  3,  3, 26, 27, 16, 16, 10, 29, 18,  3, 12,\n",
              "       36, 12, 28, 12, 29, 22, 17, 17, 17, 33, 27, 10, 44, 30, 30, 10, 12,\n",
              "       12, 12, 13, 36, 36, 32, 32, 32, 32, 32, 23, 18, 27, 12, 27, 33, 12,\n",
              "       43, 12, 34, 24, 32, 13, 35, 31, 45, 35,  6, 35, 36, 13,  8, 36, 36,\n",
              "       36, 13, 36, 41, 36,  1,  8, 32, 24,  8, 29, 45, 38, 39, 15, 39, 39,\n",
              "       39, 39, 40, 40, 40, 40, 40, 16, 41, 35, 41, 41, 41, 41, 42, 42, 29,\n",
              "       42, 42,  8, 14, 43, 43, 43, 43, 43, 43,  2, 17, 25, 27, 16, 16, 45,\n",
              "       12, 29, 45, 45, 45, 17, 25, 46, 16, 46, 16])"
            ]
          },
          "metadata": {
            "tags": []
          },
          "execution_count": 29
        }
      ]
    },
    {
      "cell_type": "code",
      "metadata": {
        "id": "HvCrugUfKG0L",
        "colab_type": "code",
        "colab": {}
      },
      "source": [
        "from sklearn.metrics import accuracy_score\n",
        "from sklearn.metrics import precision_score\n",
        "from sklearn.metrics import recall_score\n",
        "from sklearn.metrics import f1_score\n",
        "from sklearn.metrics import cohen_kappa_score\n",
        "from sklearn.metrics import roc_auc_score"
      ],
      "execution_count": null,
      "outputs": []
    },
    {
      "cell_type": "code",
      "metadata": {
        "id": "eOWWlroCKJXK",
        "colab_type": "code",
        "colab": {
          "base_uri": "https://localhost:8080/",
          "height": 34
        },
        "outputId": "7ae82998-f7ad-4a17-b0dc-772bb833a487"
      },
      "source": [
        "Grey_accuracy = accuracy_score(GreyTestData.classes, Grey_predict_classes)\n",
        "print(\"Grey Accuracy: \", Grey_accuracy)"
      ],
      "execution_count": null,
      "outputs": [
        {
          "output_type": "stream",
          "text": [
            "Grey Accuracy:  0.4416961130742049\n"
          ],
          "name": "stdout"
        }
      ]
    },
    {
      "cell_type": "code",
      "metadata": {
        "id": "qT8GZ8SWKQsZ",
        "colab_type": "code",
        "colab": {
          "base_uri": "https://localhost:8080/",
          "height": 34
        },
        "outputId": "836f6400-3de0-4805-c5b5-e9eb92163f66"
      },
      "source": [
        "Grey_precision = precision_score(GreyTestData.classes, Grey_predict_classes,average=\"weighted\")\n",
        "print(\"Grey Precision: \", Grey_precision)"
      ],
      "execution_count": null,
      "outputs": [
        {
          "output_type": "stream",
          "text": [
            "Grey Precision:  0.4944388356049133\n"
          ],
          "name": "stdout"
        }
      ]
    },
    {
      "cell_type": "code",
      "metadata": {
        "id": "4vaMESfPKXYT",
        "colab_type": "code",
        "colab": {
          "base_uri": "https://localhost:8080/",
          "height": 34
        },
        "outputId": "642279bc-f73d-4c21-e876-611614ee73b7"
      },
      "source": [
        "Grey_recall = recall_score(GreyTestData.classes, Grey_predict_classes, average=\"weighted\")\n",
        "print(\"Grey Recall:\", Grey_recall)"
      ],
      "execution_count": null,
      "outputs": [
        {
          "output_type": "stream",
          "text": [
            "Grey Recall: 0.4416961130742049\n"
          ],
          "name": "stdout"
        }
      ]
    },
    {
      "cell_type": "code",
      "metadata": {
        "id": "ArX8LkQ3KbDn",
        "colab_type": "code",
        "colab": {
          "base_uri": "https://localhost:8080/",
          "height": 34
        },
        "outputId": "8e728954-bad4-4816-ac0d-5142fd387b2b"
      },
      "source": [
        "Grey_f1_score = f1_score(GreyTestData.classes, Grey_predict_classes, average=\"weighted\")\n",
        "print(\"F1 score for Grey: \", Grey_f1_score)"
      ],
      "execution_count": null,
      "outputs": [
        {
          "output_type": "stream",
          "text": [
            "F1 score for Grey:  0.42172004881420794\n"
          ],
          "name": "stdout"
        }
      ]
    },
    {
      "cell_type": "markdown",
      "metadata": {
        "id": "JE2Pmwq4KvbW",
        "colab_type": "text"
      },
      "source": [
        "**Processing for colour Data.**"
      ]
    },
    {
      "cell_type": "code",
      "metadata": {
        "id": "eI7an7B8K1Iy",
        "colab_type": "code",
        "colab": {
          "base_uri": "https://localhost:8080/",
          "height": 34
        },
        "outputId": "8e7574cc-0be1-4220-f4ab-7e75a7f49f6a"
      },
      "source": [
        "Colour_TrainingData =  DataGenerator.flow_from_directory('/content/drive/My Drive/DTD dataset/dtd/Train/', target_size=(224,224), batch_size=8)"
      ],
      "execution_count": null,
      "outputs": [
        {
          "output_type": "stream",
          "text": [
            "Found 5075 images belonging to 47 classes.\n"
          ],
          "name": "stdout"
        }
      ]
    },
    {
      "cell_type": "code",
      "metadata": {
        "id": "XZrczUjKLUa7",
        "colab_type": "code",
        "colab": {
          "base_uri": "https://localhost:8080/",
          "height": 34
        },
        "outputId": "c5ff8dca-3e40-4609-d855-4986a9566db7"
      },
      "source": [
        "Colour_ValidData =  TestGenerator.flow_from_directory('/content/drive/My Drive/DTD dataset/dtd/Valid/', target_size=(224,224), batch_size=8)"
      ],
      "execution_count": null,
      "outputs": [
        {
          "output_type": "stream",
          "text": [
            "Found 282 images belonging to 47 classes.\n"
          ],
          "name": "stdout"
        }
      ]
    },
    {
      "cell_type": "code",
      "metadata": {
        "id": "uOOU7KB1LhAX",
        "colab_type": "code",
        "colab": {}
      },
      "source": [
        "conv_base_colour = InceptionV3(weights = 'imagenet', include_top = False, pooling = 'avg')"
      ],
      "execution_count": null,
      "outputs": []
    },
    {
      "cell_type": "code",
      "metadata": {
        "id": "SvVV5qnxLpMI",
        "colab_type": "code",
        "colab": {
          "base_uri": "https://localhost:8080/",
          "height": 34
        },
        "outputId": "2d3ef5df-48ca-4e79-8543-04f5fb7c7d12"
      },
      "source": [
        "for layer in conv_base_colour.layers[:299]:\n",
        "  layer.trainable = False\n",
        "for layer in conv_base_colour.layers[299:]:\n",
        "  layer.trainable = True\n",
        "for layer in conv_base_colour.layers:\n",
        "  if isinstance(layer, BatchNormalization):\n",
        "    layer.trainable = True\n",
        "\n",
        "print(\"Done\")"
      ],
      "execution_count": null,
      "outputs": [
        {
          "output_type": "stream",
          "text": [
            "Done\n"
          ],
          "name": "stdout"
        }
      ]
    },
    {
      "cell_type": "code",
      "metadata": {
        "id": "u4DVU5NALssh",
        "colab_type": "code",
        "colab": {
          "base_uri": "https://localhost:8080/",
          "height": 1000
        },
        "outputId": "ecc02f89-f854-454a-9c87-97ee04b61de0"
      },
      "source": [
        "for i, layer in enumerate(conv_base_colour.layers):\n",
        "   print(i, layer.name, layer.trainable)"
      ],
      "execution_count": null,
      "outputs": [
        {
          "output_type": "stream",
          "text": [
            "0 input_3 False\n",
            "1 conv2d_95 False\n",
            "2 batch_normalization_94 True\n",
            "3 activation_94 False\n",
            "4 conv2d_96 False\n",
            "5 batch_normalization_95 True\n",
            "6 activation_95 False\n",
            "7 conv2d_97 False\n",
            "8 batch_normalization_96 True\n",
            "9 activation_96 False\n",
            "10 max_pooling2d_4 False\n",
            "11 conv2d_98 False\n",
            "12 batch_normalization_97 True\n",
            "13 activation_97 False\n",
            "14 conv2d_99 False\n",
            "15 batch_normalization_98 True\n",
            "16 activation_98 False\n",
            "17 max_pooling2d_5 False\n",
            "18 conv2d_103 False\n",
            "19 batch_normalization_102 True\n",
            "20 activation_102 False\n",
            "21 conv2d_101 False\n",
            "22 conv2d_104 False\n",
            "23 batch_normalization_100 True\n",
            "24 batch_normalization_103 True\n",
            "25 activation_100 False\n",
            "26 activation_103 False\n",
            "27 average_pooling2d_9 False\n",
            "28 conv2d_100 False\n",
            "29 conv2d_102 False\n",
            "30 conv2d_105 False\n",
            "31 conv2d_106 False\n",
            "32 batch_normalization_99 True\n",
            "33 batch_normalization_101 True\n",
            "34 batch_normalization_104 True\n",
            "35 batch_normalization_105 True\n",
            "36 activation_99 False\n",
            "37 activation_101 False\n",
            "38 activation_104 False\n",
            "39 activation_105 False\n",
            "40 mixed0 False\n",
            "41 conv2d_110 False\n",
            "42 batch_normalization_109 True\n",
            "43 activation_109 False\n",
            "44 conv2d_108 False\n",
            "45 conv2d_111 False\n",
            "46 batch_normalization_107 True\n",
            "47 batch_normalization_110 True\n",
            "48 activation_107 False\n",
            "49 activation_110 False\n",
            "50 average_pooling2d_10 False\n",
            "51 conv2d_107 False\n",
            "52 conv2d_109 False\n",
            "53 conv2d_112 False\n",
            "54 conv2d_113 False\n",
            "55 batch_normalization_106 True\n",
            "56 batch_normalization_108 True\n",
            "57 batch_normalization_111 True\n",
            "58 batch_normalization_112 True\n",
            "59 activation_106 False\n",
            "60 activation_108 False\n",
            "61 activation_111 False\n",
            "62 activation_112 False\n",
            "63 mixed1 False\n",
            "64 conv2d_117 False\n",
            "65 batch_normalization_116 True\n",
            "66 activation_116 False\n",
            "67 conv2d_115 False\n",
            "68 conv2d_118 False\n",
            "69 batch_normalization_114 True\n",
            "70 batch_normalization_117 True\n",
            "71 activation_114 False\n",
            "72 activation_117 False\n",
            "73 average_pooling2d_11 False\n",
            "74 conv2d_114 False\n",
            "75 conv2d_116 False\n",
            "76 conv2d_119 False\n",
            "77 conv2d_120 False\n",
            "78 batch_normalization_113 True\n",
            "79 batch_normalization_115 True\n",
            "80 batch_normalization_118 True\n",
            "81 batch_normalization_119 True\n",
            "82 activation_113 False\n",
            "83 activation_115 False\n",
            "84 activation_118 False\n",
            "85 activation_119 False\n",
            "86 mixed2 False\n",
            "87 conv2d_122 False\n",
            "88 batch_normalization_121 True\n",
            "89 activation_121 False\n",
            "90 conv2d_123 False\n",
            "91 batch_normalization_122 True\n",
            "92 activation_122 False\n",
            "93 conv2d_121 False\n",
            "94 conv2d_124 False\n",
            "95 batch_normalization_120 True\n",
            "96 batch_normalization_123 True\n",
            "97 activation_120 False\n",
            "98 activation_123 False\n",
            "99 max_pooling2d_6 False\n",
            "100 mixed3 False\n",
            "101 conv2d_129 False\n",
            "102 batch_normalization_128 True\n",
            "103 activation_128 False\n",
            "104 conv2d_130 False\n",
            "105 batch_normalization_129 True\n",
            "106 activation_129 False\n",
            "107 conv2d_126 False\n",
            "108 conv2d_131 False\n",
            "109 batch_normalization_125 True\n",
            "110 batch_normalization_130 True\n",
            "111 activation_125 False\n",
            "112 activation_130 False\n",
            "113 conv2d_127 False\n",
            "114 conv2d_132 False\n",
            "115 batch_normalization_126 True\n",
            "116 batch_normalization_131 True\n",
            "117 activation_126 False\n",
            "118 activation_131 False\n",
            "119 average_pooling2d_12 False\n",
            "120 conv2d_125 False\n",
            "121 conv2d_128 False\n",
            "122 conv2d_133 False\n",
            "123 conv2d_134 False\n",
            "124 batch_normalization_124 True\n",
            "125 batch_normalization_127 True\n",
            "126 batch_normalization_132 True\n",
            "127 batch_normalization_133 True\n",
            "128 activation_124 False\n",
            "129 activation_127 False\n",
            "130 activation_132 False\n",
            "131 activation_133 False\n",
            "132 mixed4 False\n",
            "133 conv2d_139 False\n",
            "134 batch_normalization_138 True\n",
            "135 activation_138 False\n",
            "136 conv2d_140 False\n",
            "137 batch_normalization_139 True\n",
            "138 activation_139 False\n",
            "139 conv2d_136 False\n",
            "140 conv2d_141 False\n",
            "141 batch_normalization_135 True\n",
            "142 batch_normalization_140 True\n",
            "143 activation_135 False\n",
            "144 activation_140 False\n",
            "145 conv2d_137 False\n",
            "146 conv2d_142 False\n",
            "147 batch_normalization_136 True\n",
            "148 batch_normalization_141 True\n",
            "149 activation_136 False\n",
            "150 activation_141 False\n",
            "151 average_pooling2d_13 False\n",
            "152 conv2d_135 False\n",
            "153 conv2d_138 False\n",
            "154 conv2d_143 False\n",
            "155 conv2d_144 False\n",
            "156 batch_normalization_134 True\n",
            "157 batch_normalization_137 True\n",
            "158 batch_normalization_142 True\n",
            "159 batch_normalization_143 True\n",
            "160 activation_134 False\n",
            "161 activation_137 False\n",
            "162 activation_142 False\n",
            "163 activation_143 False\n",
            "164 mixed5 False\n",
            "165 conv2d_149 False\n",
            "166 batch_normalization_148 True\n",
            "167 activation_148 False\n",
            "168 conv2d_150 False\n",
            "169 batch_normalization_149 True\n",
            "170 activation_149 False\n",
            "171 conv2d_146 False\n",
            "172 conv2d_151 False\n",
            "173 batch_normalization_145 True\n",
            "174 batch_normalization_150 True\n",
            "175 activation_145 False\n",
            "176 activation_150 False\n",
            "177 conv2d_147 False\n",
            "178 conv2d_152 False\n",
            "179 batch_normalization_146 True\n",
            "180 batch_normalization_151 True\n",
            "181 activation_146 False\n",
            "182 activation_151 False\n",
            "183 average_pooling2d_14 False\n",
            "184 conv2d_145 False\n",
            "185 conv2d_148 False\n",
            "186 conv2d_153 False\n",
            "187 conv2d_154 False\n",
            "188 batch_normalization_144 True\n",
            "189 batch_normalization_147 True\n",
            "190 batch_normalization_152 True\n",
            "191 batch_normalization_153 True\n",
            "192 activation_144 False\n",
            "193 activation_147 False\n",
            "194 activation_152 False\n",
            "195 activation_153 False\n",
            "196 mixed6 False\n",
            "197 conv2d_159 False\n",
            "198 batch_normalization_158 True\n",
            "199 activation_158 False\n",
            "200 conv2d_160 False\n",
            "201 batch_normalization_159 True\n",
            "202 activation_159 False\n",
            "203 conv2d_156 False\n",
            "204 conv2d_161 False\n",
            "205 batch_normalization_155 True\n",
            "206 batch_normalization_160 True\n",
            "207 activation_155 False\n",
            "208 activation_160 False\n",
            "209 conv2d_157 False\n",
            "210 conv2d_162 False\n",
            "211 batch_normalization_156 True\n",
            "212 batch_normalization_161 True\n",
            "213 activation_156 False\n",
            "214 activation_161 False\n",
            "215 average_pooling2d_15 False\n",
            "216 conv2d_155 False\n",
            "217 conv2d_158 False\n",
            "218 conv2d_163 False\n",
            "219 conv2d_164 False\n",
            "220 batch_normalization_154 True\n",
            "221 batch_normalization_157 True\n",
            "222 batch_normalization_162 True\n",
            "223 batch_normalization_163 True\n",
            "224 activation_154 False\n",
            "225 activation_157 False\n",
            "226 activation_162 False\n",
            "227 activation_163 False\n",
            "228 mixed7 False\n",
            "229 conv2d_167 False\n",
            "230 batch_normalization_166 True\n",
            "231 activation_166 False\n",
            "232 conv2d_168 False\n",
            "233 batch_normalization_167 True\n",
            "234 activation_167 False\n",
            "235 conv2d_165 False\n",
            "236 conv2d_169 False\n",
            "237 batch_normalization_164 True\n",
            "238 batch_normalization_168 True\n",
            "239 activation_164 False\n",
            "240 activation_168 False\n",
            "241 conv2d_166 False\n",
            "242 conv2d_170 False\n",
            "243 batch_normalization_165 True\n",
            "244 batch_normalization_169 True\n",
            "245 activation_165 False\n",
            "246 activation_169 False\n",
            "247 max_pooling2d_7 False\n",
            "248 mixed8 False\n",
            "249 conv2d_175 False\n",
            "250 batch_normalization_174 True\n",
            "251 activation_174 False\n",
            "252 conv2d_172 False\n",
            "253 conv2d_176 False\n",
            "254 batch_normalization_171 True\n",
            "255 batch_normalization_175 True\n",
            "256 activation_171 False\n",
            "257 activation_175 False\n",
            "258 conv2d_173 False\n",
            "259 conv2d_174 False\n",
            "260 conv2d_177 False\n",
            "261 conv2d_178 False\n",
            "262 average_pooling2d_16 False\n",
            "263 conv2d_171 False\n",
            "264 batch_normalization_172 True\n",
            "265 batch_normalization_173 True\n",
            "266 batch_normalization_176 True\n",
            "267 batch_normalization_177 True\n",
            "268 conv2d_179 False\n",
            "269 batch_normalization_170 True\n",
            "270 activation_172 False\n",
            "271 activation_173 False\n",
            "272 activation_176 False\n",
            "273 activation_177 False\n",
            "274 batch_normalization_178 True\n",
            "275 activation_170 False\n",
            "276 mixed9_0 False\n",
            "277 concatenate_2 False\n",
            "278 activation_178 False\n",
            "279 mixed9 False\n",
            "280 conv2d_184 False\n",
            "281 batch_normalization_183 True\n",
            "282 activation_183 False\n",
            "283 conv2d_181 False\n",
            "284 conv2d_185 False\n",
            "285 batch_normalization_180 True\n",
            "286 batch_normalization_184 True\n",
            "287 activation_180 False\n",
            "288 activation_184 False\n",
            "289 conv2d_182 False\n",
            "290 conv2d_183 False\n",
            "291 conv2d_186 False\n",
            "292 conv2d_187 False\n",
            "293 average_pooling2d_17 False\n",
            "294 conv2d_180 False\n",
            "295 batch_normalization_181 True\n",
            "296 batch_normalization_182 True\n",
            "297 batch_normalization_185 True\n",
            "298 batch_normalization_186 True\n",
            "299 conv2d_188 True\n",
            "300 batch_normalization_179 True\n",
            "301 activation_181 True\n",
            "302 activation_182 True\n",
            "303 activation_185 True\n",
            "304 activation_186 True\n",
            "305 batch_normalization_187 True\n",
            "306 activation_179 True\n",
            "307 mixed9_1 True\n",
            "308 concatenate_3 True\n",
            "309 activation_187 True\n",
            "310 mixed10 True\n",
            "311 global_average_pooling2d_1 True\n"
          ],
          "name": "stdout"
        }
      ]
    },
    {
      "cell_type": "code",
      "metadata": {
        "id": "lPX3WjtrL6rb",
        "colab_type": "code",
        "colab": {}
      },
      "source": [
        "from keras.layers import Input "
      ],
      "execution_count": null,
      "outputs": []
    },
    {
      "cell_type": "code",
      "metadata": {
        "id": "KBEiiUIqL80Y",
        "colab_type": "code",
        "colab": {}
      },
      "source": [
        "input_tensor = Input(shape=(224,224,3))\n",
        "x = conv_base_colour(input_tensor)"
      ],
      "execution_count": null,
      "outputs": []
    },
    {
      "cell_type": "code",
      "metadata": {
        "id": "q3uttgFYMEQj",
        "colab_type": "code",
        "colab": {}
      },
      "source": [
        "x = Dense(2048, activation='relu', kernel_regularizer= regularizers.l2(0.001))(x)\n",
        "x = Dropout(0.5)(x)"
      ],
      "execution_count": null,
      "outputs": []
    },
    {
      "cell_type": "code",
      "metadata": {
        "id": "H9XGPFSfMHfI",
        "colab_type": "code",
        "colab": {}
      },
      "source": [
        "ouput = Dense(47, activation='softmax')(x)"
      ],
      "execution_count": null,
      "outputs": []
    },
    {
      "cell_type": "code",
      "metadata": {
        "id": "yklGm-IGMLKi",
        "colab_type": "code",
        "colab": {}
      },
      "source": [
        "colour_model = Model(inputs = input_tensor, outputs = ouput )"
      ],
      "execution_count": null,
      "outputs": []
    },
    {
      "cell_type": "code",
      "metadata": {
        "id": "cI4OUhkgMQTN",
        "colab_type": "code",
        "colab": {}
      },
      "source": [
        "colour_model.compile(loss='categorical_crossentropy',\n",
        "              optimizer=Adam(lr=0.001),\n",
        "              metrics=['accuracy'])"
      ],
      "execution_count": null,
      "outputs": []
    },
    {
      "cell_type": "code",
      "metadata": {
        "id": "V4v7B5i7Mf33",
        "colab_type": "code",
        "colab": {}
      },
      "source": [
        "from keras.callbacks import ModelCheckpoint, EarlyStopping, ReduceLROnPlateau\n",
        "checkpoint = ModelCheckpoint(\"/content/drive/My Drive/DTD dataset/dtd/InspectionV3_DTD_Colour.h5/\",\n",
        "                             monitor=\"val_loss\",\n",
        "                             mode=\"min\",\n",
        "                             save_best_only = True,\n",
        "                             verbose=1)\n",
        "\n",
        "earlystop = EarlyStopping(monitor = 'val_loss', \n",
        "                          min_delta = 0, \n",
        "                          patience = 40,\n",
        "                          verbose = 1,\n",
        "                          restore_best_weights = True)\n",
        "\n",
        "reduce_lr = ReduceLROnPlateau(monitor = 'val_loss',\n",
        "                              factor = 0.2,\n",
        "                              patience = 40,\n",
        "                              verbose = 1,\n",
        "                              min_delta = 0.00001)\n",
        "\n",
        "callBacks = [earlystop, checkpoint, reduce_lr]"
      ],
      "execution_count": null,
      "outputs": []
    },
    {
      "cell_type": "code",
      "metadata": {
        "id": "yaMZLpsAMz7e",
        "colab_type": "code",
        "colab": {
          "base_uri": "https://localhost:8080/",
          "height": 1000
        },
        "outputId": "88277978-3a43-44b2-9528-9daa5f5ba9a8"
      },
      "source": [
        "hist = colour_model.fit_generator(steps_per_epoch=634,generator= Colour_TrainingData, validation_data= Colour_ValidData, validation_steps=35,epochs=75,callbacks=callBacks)"
      ],
      "execution_count": null,
      "outputs": [
        {
          "output_type": "stream",
          "text": [
            "Epoch 1/75\n",
            "634/634 [==============================] - ETA: 0s - loss: 4.1545 - accuracy: 0.1751\n",
            "Epoch 00001: val_loss improved from inf to 2.90957, saving model to /content/drive/My Drive/DTD dataset/dtd/InspectionV3_DTD_Colour.h5\n",
            "634/634 [==============================] - 103s 163ms/step - loss: 4.1545 - accuracy: 0.1751 - val_loss: 2.9096 - val_accuracy: 0.3429\n",
            "Epoch 2/75\n",
            "634/634 [==============================] - ETA: 0s - loss: 2.8792 - accuracy: 0.3154\n",
            "Epoch 00002: val_loss improved from 2.90957 to 2.41680, saving model to /content/drive/My Drive/DTD dataset/dtd/InspectionV3_DTD_Colour.h5\n",
            "634/634 [==============================] - 102s 160ms/step - loss: 2.8792 - accuracy: 0.3154 - val_loss: 2.4168 - val_accuracy: 0.4000\n",
            "Epoch 3/75\n",
            "634/634 [==============================] - ETA: 0s - loss: 2.6106 - accuracy: 0.3748\n",
            "Epoch 00003: val_loss did not improve from 2.41680\n",
            "634/634 [==============================] - 100s 157ms/step - loss: 2.6106 - accuracy: 0.3748 - val_loss: 2.4669 - val_accuracy: 0.3964\n",
            "Epoch 4/75\n",
            "634/634 [==============================] - ETA: 0s - loss: 2.4437 - accuracy: 0.4060\n",
            "Epoch 00004: val_loss improved from 2.41680 to 2.33205, saving model to /content/drive/My Drive/DTD dataset/dtd/InspectionV3_DTD_Colour.h5\n",
            "634/634 [==============================] - 102s 161ms/step - loss: 2.4437 - accuracy: 0.4060 - val_loss: 2.3321 - val_accuracy: 0.4536\n",
            "Epoch 5/75\n",
            "634/634 [==============================] - ETA: 0s - loss: 2.4150 - accuracy: 0.4192\n",
            "Epoch 00005: val_loss did not improve from 2.33205\n",
            "634/634 [==============================] - 100s 157ms/step - loss: 2.4150 - accuracy: 0.4192 - val_loss: 2.3495 - val_accuracy: 0.4357\n",
            "Epoch 6/75\n",
            "634/634 [==============================] - ETA: 0s - loss: 2.3511 - accuracy: 0.4223\n",
            "Epoch 00006: val_loss improved from 2.33205 to 2.32613, saving model to /content/drive/My Drive/DTD dataset/dtd/InspectionV3_DTD_Colour.h5\n",
            "634/634 [==============================] - 101s 159ms/step - loss: 2.3511 - accuracy: 0.4223 - val_loss: 2.3261 - val_accuracy: 0.4679\n",
            "Epoch 7/75\n",
            "634/634 [==============================] - ETA: 0s - loss: 2.2627 - accuracy: 0.4529\n",
            "Epoch 00007: val_loss did not improve from 2.32613\n",
            "634/634 [==============================] - 100s 158ms/step - loss: 2.2627 - accuracy: 0.4529 - val_loss: 2.4001 - val_accuracy: 0.4786\n",
            "Epoch 8/75\n",
            "634/634 [==============================] - ETA: 0s - loss: 2.2164 - accuracy: 0.4646\n",
            "Epoch 00008: val_loss did not improve from 2.32613\n",
            "634/634 [==============================] - 99s 157ms/step - loss: 2.2164 - accuracy: 0.4646 - val_loss: 2.4275 - val_accuracy: 0.4679\n",
            "Epoch 9/75\n",
            "634/634 [==============================] - ETA: 0s - loss: 2.1681 - accuracy: 0.4729\n",
            "Epoch 00009: val_loss improved from 2.32613 to 2.17900, saving model to /content/drive/My Drive/DTD dataset/dtd/InspectionV3_DTD_Colour.h5\n",
            "634/634 [==============================] - 102s 161ms/step - loss: 2.1681 - accuracy: 0.4729 - val_loss: 2.1790 - val_accuracy: 0.4929\n",
            "Epoch 10/75\n",
            "634/634 [==============================] - ETA: 0s - loss: 2.1137 - accuracy: 0.4796\n",
            "Epoch 00010: val_loss did not improve from 2.17900\n",
            "634/634 [==============================] - 100s 158ms/step - loss: 2.1137 - accuracy: 0.4796 - val_loss: 2.2190 - val_accuracy: 0.4964\n",
            "Epoch 11/75\n",
            "634/634 [==============================] - ETA: 0s - loss: 2.0215 - accuracy: 0.5072\n",
            "Epoch 00011: val_loss did not improve from 2.17900\n",
            "634/634 [==============================] - 101s 159ms/step - loss: 2.0215 - accuracy: 0.5072 - val_loss: 2.2240 - val_accuracy: 0.5000\n",
            "Epoch 12/75\n",
            "634/634 [==============================] - ETA: 0s - loss: 2.0441 - accuracy: 0.5139\n",
            "Epoch 00012: val_loss improved from 2.17900 to 2.17846, saving model to /content/drive/My Drive/DTD dataset/dtd/InspectionV3_DTD_Colour.h5\n",
            "634/634 [==============================] - 102s 160ms/step - loss: 2.0441 - accuracy: 0.5139 - val_loss: 2.1785 - val_accuracy: 0.5250\n",
            "Epoch 13/75\n",
            "634/634 [==============================] - ETA: 0s - loss: 1.9591 - accuracy: 0.5185\n",
            "Epoch 00013: val_loss did not improve from 2.17846\n",
            "634/634 [==============================] - 100s 158ms/step - loss: 1.9591 - accuracy: 0.5185 - val_loss: 2.2124 - val_accuracy: 0.4893\n",
            "Epoch 14/75\n",
            "634/634 [==============================] - ETA: 0s - loss: 1.9284 - accuracy: 0.5183\n",
            "Epoch 00014: val_loss did not improve from 2.17846\n",
            "634/634 [==============================] - 99s 156ms/step - loss: 1.9284 - accuracy: 0.5183 - val_loss: 2.2712 - val_accuracy: 0.5036\n",
            "Epoch 15/75\n",
            "634/634 [==============================] - ETA: 0s - loss: 1.8915 - accuracy: 0.5297\n",
            "Epoch 00015: val_loss did not improve from 2.17846\n",
            "634/634 [==============================] - 100s 157ms/step - loss: 1.8915 - accuracy: 0.5297 - val_loss: 2.2470 - val_accuracy: 0.5143\n",
            "Epoch 16/75\n",
            "634/634 [==============================] - ETA: 0s - loss: 1.8475 - accuracy: 0.5431\n",
            "Epoch 00016: val_loss did not improve from 2.17846\n",
            "634/634 [==============================] - 99s 157ms/step - loss: 1.8475 - accuracy: 0.5431 - val_loss: 2.2211 - val_accuracy: 0.4929\n",
            "Epoch 17/75\n",
            "634/634 [==============================] - ETA: 0s - loss: 1.8335 - accuracy: 0.5427\n",
            "Epoch 00017: val_loss did not improve from 2.17846\n",
            "634/634 [==============================] - 100s 157ms/step - loss: 1.8335 - accuracy: 0.5427 - val_loss: 2.3064 - val_accuracy: 0.5143\n",
            "Epoch 18/75\n",
            "634/634 [==============================] - ETA: 0s - loss: 1.7807 - accuracy: 0.5498\n",
            "Epoch 00018: val_loss did not improve from 2.17846\n",
            "634/634 [==============================] - 99s 157ms/step - loss: 1.7807 - accuracy: 0.5498 - val_loss: 2.1926 - val_accuracy: 0.5179\n",
            "Epoch 19/75\n",
            "634/634 [==============================] - ETA: 0s - loss: 1.7527 - accuracy: 0.5593\n",
            "Epoch 00019: val_loss improved from 2.17846 to 2.16354, saving model to /content/drive/My Drive/DTD dataset/dtd/InspectionV3_DTD_Colour.h5\n",
            "634/634 [==============================] - 102s 161ms/step - loss: 1.7527 - accuracy: 0.5593 - val_loss: 2.1635 - val_accuracy: 0.5214\n",
            "Epoch 20/75\n",
            "634/634 [==============================] - ETA: 0s - loss: 1.7707 - accuracy: 0.5490\n",
            "Epoch 00020: val_loss did not improve from 2.16354\n",
            "634/634 [==============================] - 100s 158ms/step - loss: 1.7707 - accuracy: 0.5490 - val_loss: 2.2040 - val_accuracy: 0.5071\n",
            "Epoch 21/75\n",
            "634/634 [==============================] - ETA: 0s - loss: 1.7166 - accuracy: 0.5696\n",
            "Epoch 00021: val_loss improved from 2.16354 to 2.13946, saving model to /content/drive/My Drive/DTD dataset/dtd/InspectionV3_DTD_Colour.h5\n",
            "634/634 [==============================] - 103s 163ms/step - loss: 1.7166 - accuracy: 0.5696 - val_loss: 2.1395 - val_accuracy: 0.5393\n",
            "Epoch 22/75\n",
            "634/634 [==============================] - ETA: 0s - loss: 1.6916 - accuracy: 0.5783\n",
            "Epoch 00022: val_loss did not improve from 2.13946\n",
            "634/634 [==============================] - 101s 160ms/step - loss: 1.6916 - accuracy: 0.5783 - val_loss: 2.2006 - val_accuracy: 0.5214\n",
            "Epoch 23/75\n",
            "634/634 [==============================] - ETA: 0s - loss: 1.6621 - accuracy: 0.5767\n",
            "Epoch 00023: val_loss did not improve from 2.13946\n",
            "634/634 [==============================] - 100s 158ms/step - loss: 1.6621 - accuracy: 0.5767 - val_loss: 2.2145 - val_accuracy: 0.5179\n",
            "Epoch 24/75\n",
            "634/634 [==============================] - ETA: 0s - loss: 1.6474 - accuracy: 0.5838\n",
            "Epoch 00024: val_loss did not improve from 2.13946\n",
            "634/634 [==============================] - 101s 159ms/step - loss: 1.6474 - accuracy: 0.5838 - val_loss: 2.3355 - val_accuracy: 0.5107\n",
            "Epoch 25/75\n",
            "634/634 [==============================] - ETA: 0s - loss: 1.6385 - accuracy: 0.5863\n",
            "Epoch 00025: val_loss did not improve from 2.13946\n",
            "634/634 [==============================] - 101s 160ms/step - loss: 1.6385 - accuracy: 0.5863 - val_loss: 2.2284 - val_accuracy: 0.5107\n",
            "Epoch 26/75\n",
            "634/634 [==============================] - ETA: 0s - loss: 1.6316 - accuracy: 0.5838\n",
            "Epoch 00026: val_loss did not improve from 2.13946\n",
            "634/634 [==============================] - 100s 158ms/step - loss: 1.6316 - accuracy: 0.5838 - val_loss: 2.3357 - val_accuracy: 0.5321\n",
            "Epoch 27/75\n",
            "634/634 [==============================] - ETA: 0s - loss: 1.5895 - accuracy: 0.5931\n",
            "Epoch 00027: val_loss did not improve from 2.13946\n",
            "634/634 [==============================] - 101s 159ms/step - loss: 1.5895 - accuracy: 0.5931 - val_loss: 2.3084 - val_accuracy: 0.5357\n",
            "Epoch 28/75\n",
            "634/634 [==============================] - ETA: 0s - loss: 1.6033 - accuracy: 0.5903\n",
            "Epoch 00028: val_loss did not improve from 2.13946\n",
            "634/634 [==============================] - 102s 161ms/step - loss: 1.6033 - accuracy: 0.5903 - val_loss: 2.3722 - val_accuracy: 0.4893\n",
            "Epoch 29/75\n",
            "634/634 [==============================] - ETA: 0s - loss: 1.5729 - accuracy: 0.5988\n",
            "Epoch 00029: val_loss did not improve from 2.13946\n",
            "634/634 [==============================] - 100s 158ms/step - loss: 1.5729 - accuracy: 0.5988 - val_loss: 2.2369 - val_accuracy: 0.5429\n",
            "Epoch 30/75\n",
            "634/634 [==============================] - ETA: 0s - loss: 1.5588 - accuracy: 0.6009\n",
            "Epoch 00030: val_loss improved from 2.13946 to 2.10459, saving model to /content/drive/My Drive/DTD dataset/dtd/InspectionV3_DTD_Colour.h5\n",
            "634/634 [==============================] - 104s 163ms/step - loss: 1.5588 - accuracy: 0.6009 - val_loss: 2.1046 - val_accuracy: 0.5286\n",
            "Epoch 31/75\n",
            "634/634 [==============================] - ETA: 0s - loss: 1.5295 - accuracy: 0.6039\n",
            "Epoch 00031: val_loss did not improve from 2.10459\n",
            "634/634 [==============================] - 104s 163ms/step - loss: 1.5295 - accuracy: 0.6039 - val_loss: 2.3020 - val_accuracy: 0.5214\n",
            "Epoch 32/75\n",
            "634/634 [==============================] - ETA: 0s - loss: 1.5184 - accuracy: 0.6065\n",
            "Epoch 00032: val_loss did not improve from 2.10459\n",
            "634/634 [==============================] - 103s 163ms/step - loss: 1.5184 - accuracy: 0.6065 - val_loss: 2.3645 - val_accuracy: 0.5143\n",
            "Epoch 33/75\n",
            "634/634 [==============================] - ETA: 0s - loss: 1.4853 - accuracy: 0.6173\n",
            "Epoch 00033: val_loss did not improve from 2.10459\n",
            "634/634 [==============================] - 103s 163ms/step - loss: 1.4853 - accuracy: 0.6173 - val_loss: 2.3174 - val_accuracy: 0.5071\n",
            "Epoch 34/75\n",
            "634/634 [==============================] - ETA: 0s - loss: 1.5113 - accuracy: 0.6173\n",
            "Epoch 00034: val_loss did not improve from 2.10459\n",
            "634/634 [==============================] - 104s 163ms/step - loss: 1.5113 - accuracy: 0.6173 - val_loss: 2.2405 - val_accuracy: 0.5179\n",
            "Epoch 35/75\n",
            "634/634 [==============================] - ETA: 0s - loss: 1.5094 - accuracy: 0.6084\n",
            "Epoch 00035: val_loss did not improve from 2.10459\n",
            "634/634 [==============================] - 103s 162ms/step - loss: 1.5094 - accuracy: 0.6084 - val_loss: 2.2351 - val_accuracy: 0.5179\n",
            "Epoch 36/75\n",
            "634/634 [==============================] - ETA: 0s - loss: 1.4922 - accuracy: 0.6181\n",
            "Epoch 00036: val_loss did not improve from 2.10459\n",
            "634/634 [==============================] - 103s 162ms/step - loss: 1.4922 - accuracy: 0.6181 - val_loss: 2.3225 - val_accuracy: 0.5286\n",
            "Epoch 37/75\n",
            "634/634 [==============================] - ETA: 0s - loss: 1.4826 - accuracy: 0.6219\n",
            "Epoch 00037: val_loss did not improve from 2.10459\n",
            "634/634 [==============================] - 103s 163ms/step - loss: 1.4826 - accuracy: 0.6219 - val_loss: 2.3262 - val_accuracy: 0.5143\n",
            "Epoch 38/75\n",
            "634/634 [==============================] - ETA: 0s - loss: 1.4849 - accuracy: 0.6217\n",
            "Epoch 00038: val_loss did not improve from 2.10459\n",
            "634/634 [==============================] - 102s 161ms/step - loss: 1.4849 - accuracy: 0.6217 - val_loss: 2.2414 - val_accuracy: 0.5464\n",
            "Epoch 39/75\n",
            "634/634 [==============================] - ETA: 0s - loss: 1.4934 - accuracy: 0.6187\n",
            "Epoch 00039: val_loss did not improve from 2.10459\n",
            "634/634 [==============================] - 102s 161ms/step - loss: 1.4934 - accuracy: 0.6187 - val_loss: 2.2831 - val_accuracy: 0.5250\n",
            "Epoch 40/75\n",
            "634/634 [==============================] - ETA: 0s - loss: 1.4302 - accuracy: 0.6367\n",
            "Epoch 00040: val_loss improved from 2.10459 to 2.06116, saving model to /content/drive/My Drive/DTD dataset/dtd/InspectionV3_DTD_Colour.h5\n",
            "634/634 [==============================] - 103s 163ms/step - loss: 1.4302 - accuracy: 0.6367 - val_loss: 2.0612 - val_accuracy: 0.5464\n",
            "Epoch 41/75\n",
            "634/634 [==============================] - ETA: 0s - loss: 1.4145 - accuracy: 0.6371\n",
            "Epoch 00041: val_loss did not improve from 2.06116\n",
            "634/634 [==============================] - 98s 155ms/step - loss: 1.4145 - accuracy: 0.6371 - val_loss: 2.2755 - val_accuracy: 0.5286\n",
            "Epoch 42/75\n",
            "634/634 [==============================] - ETA: 0s - loss: 1.4435 - accuracy: 0.6307\n",
            "Epoch 00042: val_loss did not improve from 2.06116\n",
            "634/634 [==============================] - 98s 154ms/step - loss: 1.4435 - accuracy: 0.6307 - val_loss: 2.1783 - val_accuracy: 0.5643\n",
            "Epoch 43/75\n",
            "634/634 [==============================] - ETA: 0s - loss: 1.4356 - accuracy: 0.6353\n",
            "Epoch 00043: val_loss did not improve from 2.06116\n",
            "634/634 [==============================] - 98s 155ms/step - loss: 1.4356 - accuracy: 0.6353 - val_loss: 2.1611 - val_accuracy: 0.5607\n",
            "Epoch 44/75\n",
            "634/634 [==============================] - ETA: 0s - loss: 1.4078 - accuracy: 0.6432\n",
            "Epoch 00044: val_loss did not improve from 2.06116\n",
            "634/634 [==============================] - 98s 154ms/step - loss: 1.4078 - accuracy: 0.6432 - val_loss: 2.3176 - val_accuracy: 0.5429\n",
            "Epoch 45/75\n",
            "634/634 [==============================] - ETA: 0s - loss: 1.4330 - accuracy: 0.6345\n",
            "Epoch 00045: val_loss did not improve from 2.06116\n",
            "634/634 [==============================] - 98s 154ms/step - loss: 1.4330 - accuracy: 0.6345 - val_loss: 2.4041 - val_accuracy: 0.5321\n",
            "Epoch 46/75\n",
            "634/634 [==============================] - ETA: 0s - loss: 1.4081 - accuracy: 0.6438\n",
            "Epoch 00046: val_loss did not improve from 2.06116\n",
            "634/634 [==============================] - 97s 152ms/step - loss: 1.4081 - accuracy: 0.6438 - val_loss: 2.3360 - val_accuracy: 0.5393\n",
            "Epoch 47/75\n",
            "634/634 [==============================] - ETA: 0s - loss: 1.3955 - accuracy: 0.6418\n",
            "Epoch 00047: val_loss did not improve from 2.06116\n",
            "634/634 [==============================] - 97s 153ms/step - loss: 1.3955 - accuracy: 0.6418 - val_loss: 2.3091 - val_accuracy: 0.5393\n",
            "Epoch 48/75\n",
            "634/634 [==============================] - ETA: 0s - loss: 1.4178 - accuracy: 0.6371\n",
            "Epoch 00048: val_loss did not improve from 2.06116\n",
            "634/634 [==============================] - 97s 153ms/step - loss: 1.4178 - accuracy: 0.6371 - val_loss: 2.4075 - val_accuracy: 0.5357\n",
            "Epoch 49/75\n",
            "634/634 [==============================] - ETA: 0s - loss: 1.3870 - accuracy: 0.6388\n",
            "Epoch 00049: val_loss did not improve from 2.06116\n",
            "634/634 [==============================] - 96s 152ms/step - loss: 1.3870 - accuracy: 0.6388 - val_loss: 2.3992 - val_accuracy: 0.5464\n",
            "Epoch 50/75\n",
            "634/634 [==============================] - ETA: 0s - loss: 1.3863 - accuracy: 0.6477\n",
            "Epoch 00050: val_loss did not improve from 2.06116\n",
            "634/634 [==============================] - 98s 154ms/step - loss: 1.3863 - accuracy: 0.6477 - val_loss: 2.3011 - val_accuracy: 0.5464\n",
            "Epoch 51/75\n",
            "634/634 [==============================] - ETA: 0s - loss: 1.3599 - accuracy: 0.6517\n",
            "Epoch 00051: val_loss did not improve from 2.06116\n",
            "634/634 [==============================] - 97s 153ms/step - loss: 1.3599 - accuracy: 0.6517 - val_loss: 2.3413 - val_accuracy: 0.5571\n",
            "Epoch 52/75\n",
            "634/634 [==============================] - ETA: 0s - loss: 1.3369 - accuracy: 0.6576\n",
            "Epoch 00052: val_loss did not improve from 2.06116\n",
            "634/634 [==============================] - 98s 154ms/step - loss: 1.3369 - accuracy: 0.6576 - val_loss: 2.2863 - val_accuracy: 0.5714\n",
            "Epoch 53/75\n",
            "634/634 [==============================] - ETA: 0s - loss: 1.3665 - accuracy: 0.6422\n",
            "Epoch 00053: val_loss did not improve from 2.06116\n",
            "634/634 [==============================] - 98s 155ms/step - loss: 1.3665 - accuracy: 0.6422 - val_loss: 2.3495 - val_accuracy: 0.5286\n",
            "Epoch 54/75\n",
            "634/634 [==============================] - ETA: 0s - loss: 1.3486 - accuracy: 0.6562\n",
            "Epoch 00054: val_loss did not improve from 2.06116\n",
            "634/634 [==============================] - 97s 153ms/step - loss: 1.3486 - accuracy: 0.6562 - val_loss: 2.4506 - val_accuracy: 0.5500\n",
            "Epoch 55/75\n",
            "634/634 [==============================] - ETA: 0s - loss: 1.3348 - accuracy: 0.6592\n",
            "Epoch 00055: val_loss did not improve from 2.06116\n",
            "634/634 [==============================] - 98s 154ms/step - loss: 1.3348 - accuracy: 0.6592 - val_loss: 2.3440 - val_accuracy: 0.5714\n",
            "Epoch 56/75\n",
            "634/634 [==============================] - ETA: 0s - loss: 1.3451 - accuracy: 0.6600\n",
            "Epoch 00056: val_loss did not improve from 2.06116\n",
            "634/634 [==============================] - 98s 155ms/step - loss: 1.3451 - accuracy: 0.6600 - val_loss: 2.3158 - val_accuracy: 0.5429\n",
            "Epoch 57/75\n",
            "634/634 [==============================] - ETA: 0s - loss: 1.3562 - accuracy: 0.6546\n",
            "Epoch 00057: val_loss did not improve from 2.06116\n",
            "634/634 [==============================] - 97s 154ms/step - loss: 1.3562 - accuracy: 0.6546 - val_loss: 2.3773 - val_accuracy: 0.5607\n",
            "Epoch 58/75\n",
            "634/634 [==============================] - ETA: 0s - loss: 1.3356 - accuracy: 0.6568\n",
            "Epoch 00058: val_loss did not improve from 2.06116\n",
            "634/634 [==============================] - 97s 153ms/step - loss: 1.3356 - accuracy: 0.6568 - val_loss: 2.5815 - val_accuracy: 0.5286\n",
            "Epoch 59/75\n",
            "634/634 [==============================] - ETA: 0s - loss: 1.3150 - accuracy: 0.6613\n",
            "Epoch 00059: val_loss did not improve from 2.06116\n",
            "634/634 [==============================] - 97s 154ms/step - loss: 1.3150 - accuracy: 0.6613 - val_loss: 2.4947 - val_accuracy: 0.5464\n",
            "Epoch 60/75\n",
            "634/634 [==============================] - ETA: 0s - loss: 1.2982 - accuracy: 0.6688\n",
            "Epoch 00060: val_loss did not improve from 2.06116\n",
            "634/634 [==============================] - 97s 153ms/step - loss: 1.2982 - accuracy: 0.6688 - val_loss: 2.5601 - val_accuracy: 0.5357\n",
            "Epoch 61/75\n",
            "634/634 [==============================] - ETA: 0s - loss: 1.2932 - accuracy: 0.6726\n",
            "Epoch 00061: val_loss did not improve from 2.06116\n",
            "634/634 [==============================] - 97s 153ms/step - loss: 1.2932 - accuracy: 0.6726 - val_loss: 2.5268 - val_accuracy: 0.5214\n",
            "Epoch 62/75\n",
            "634/634 [==============================] - ETA: 0s - loss: 1.2876 - accuracy: 0.6684\n",
            "Epoch 00062: val_loss did not improve from 2.06116\n",
            "634/634 [==============================] - 97s 153ms/step - loss: 1.2876 - accuracy: 0.6684 - val_loss: 2.4799 - val_accuracy: 0.5571\n",
            "Epoch 63/75\n",
            "634/634 [==============================] - ETA: 0s - loss: 1.3234 - accuracy: 0.6635\n",
            "Epoch 00063: val_loss did not improve from 2.06116\n",
            "634/634 [==============================] - 97s 153ms/step - loss: 1.3234 - accuracy: 0.6635 - val_loss: 2.3015 - val_accuracy: 0.5750\n",
            "Epoch 64/75\n",
            "634/634 [==============================] - ETA: 0s - loss: 1.2909 - accuracy: 0.6671\n",
            "Epoch 00064: val_loss did not improve from 2.06116\n",
            "634/634 [==============================] - 97s 153ms/step - loss: 1.2909 - accuracy: 0.6671 - val_loss: 2.5490 - val_accuracy: 0.5536\n",
            "Epoch 65/75\n",
            "634/634 [==============================] - ETA: 0s - loss: 1.2815 - accuracy: 0.6732\n",
            "Epoch 00065: val_loss did not improve from 2.06116\n",
            "634/634 [==============================] - 96s 152ms/step - loss: 1.2815 - accuracy: 0.6732 - val_loss: 2.4350 - val_accuracy: 0.5643\n",
            "Epoch 66/75\n",
            "634/634 [==============================] - ETA: 0s - loss: 1.2517 - accuracy: 0.6789\n",
            "Epoch 00066: val_loss did not improve from 2.06116\n",
            "634/634 [==============================] - 97s 153ms/step - loss: 1.2517 - accuracy: 0.6789 - val_loss: 2.5224 - val_accuracy: 0.5429\n",
            "Epoch 67/75\n",
            "634/634 [==============================] - ETA: 0s - loss: 1.2711 - accuracy: 0.6755\n",
            "Epoch 00067: val_loss did not improve from 2.06116\n",
            "634/634 [==============================] - 97s 153ms/step - loss: 1.2711 - accuracy: 0.6755 - val_loss: 2.3396 - val_accuracy: 0.5607\n",
            "Epoch 68/75\n",
            "634/634 [==============================] - ETA: 0s - loss: 1.2706 - accuracy: 0.6777\n",
            "Epoch 00068: val_loss did not improve from 2.06116\n",
            "634/634 [==============================] - 97s 152ms/step - loss: 1.2706 - accuracy: 0.6777 - val_loss: 2.6181 - val_accuracy: 0.5393\n",
            "Epoch 69/75\n",
            "634/634 [==============================] - ETA: 0s - loss: 1.2633 - accuracy: 0.6769\n",
            "Epoch 00069: val_loss did not improve from 2.06116\n",
            "634/634 [==============================] - 97s 153ms/step - loss: 1.2633 - accuracy: 0.6769 - val_loss: 2.5246 - val_accuracy: 0.5643\n",
            "Epoch 70/75\n",
            "634/634 [==============================] - ETA: 0s - loss: 1.2642 - accuracy: 0.6767\n",
            "Epoch 00070: val_loss did not improve from 2.06116\n",
            "634/634 [==============================] - 97s 152ms/step - loss: 1.2642 - accuracy: 0.6767 - val_loss: 2.3936 - val_accuracy: 0.5750\n",
            "Epoch 71/75\n",
            "634/634 [==============================] - ETA: 0s - loss: 1.2639 - accuracy: 0.6777\n",
            "Epoch 00071: val_loss did not improve from 2.06116\n",
            "634/634 [==============================] - 97s 153ms/step - loss: 1.2639 - accuracy: 0.6777 - val_loss: 2.3492 - val_accuracy: 0.5500\n",
            "Epoch 72/75\n",
            "634/634 [==============================] - ETA: 0s - loss: 1.2695 - accuracy: 0.6832\n",
            "Epoch 00072: val_loss did not improve from 2.06116\n",
            "634/634 [==============================] - 97s 153ms/step - loss: 1.2695 - accuracy: 0.6832 - val_loss: 2.3845 - val_accuracy: 0.5607\n",
            "Epoch 73/75\n",
            "634/634 [==============================] - ETA: 0s - loss: 1.2395 - accuracy: 0.6911\n",
            "Epoch 00073: val_loss did not improve from 2.06116\n",
            "634/634 [==============================] - 96s 152ms/step - loss: 1.2395 - accuracy: 0.6911 - val_loss: 2.5242 - val_accuracy: 0.5357\n",
            "Epoch 74/75\n",
            "634/634 [==============================] - ETA: 0s - loss: 1.2346 - accuracy: 0.6805\n",
            "Epoch 00074: val_loss did not improve from 2.06116\n",
            "634/634 [==============================] - 97s 152ms/step - loss: 1.2346 - accuracy: 0.6805 - val_loss: 2.5202 - val_accuracy: 0.5607\n",
            "Epoch 75/75\n",
            "634/634 [==============================] - ETA: 0s - loss: 1.2147 - accuracy: 0.6909\n",
            "Epoch 00075: val_loss did not improve from 2.06116\n",
            "634/634 [==============================] - 97s 153ms/step - loss: 1.2147 - accuracy: 0.6909 - val_loss: 2.4023 - val_accuracy: 0.5500\n"
          ],
          "name": "stdout"
        }
      ]
    },
    {
      "cell_type": "code",
      "metadata": {
        "id": "SZD3o1_jNFdU",
        "colab_type": "code",
        "colab": {
          "base_uri": "https://localhost:8080/",
          "height": 295
        },
        "outputId": "5d1a6c94-006b-468f-bbca-0cb81c79434e"
      },
      "source": [
        "import matplotlib.pyplot as plt\n",
        "plt.plot(hist.history[\"accuracy\"])\n",
        "plt.plot(hist.history['val_accuracy'])\n",
        "plt.title(\"model accuracy\")\n",
        "plt.ylabel(\"Accuracy\")\n",
        "plt.xlabel(\"Epoch\")\n",
        "plt.legend([\"Accuracy\",\"Validation Accuracy\"])\n",
        "plt.show()"
      ],
      "execution_count": null,
      "outputs": [
        {
          "output_type": "display_data",
          "data": {
            "image/png": "[encoded data removed]",
            "text/plain": [
              "<Figure size 432x288 with 1 Axes>"
            ]
          },
          "metadata": {
            "tags": [],
            "needs_background": "light"
          }
        }
      ]
    },
    {
      "cell_type": "code",
      "metadata": {
        "id": "pIX7hNiiNKiC",
        "colab_type": "code",
        "colab": {
          "base_uri": "https://localhost:8080/",
          "height": 295
        },
        "outputId": "53976666-abc7-4084-fd6e-3d64203972a8"
      },
      "source": [
        "plt.plot(hist.history['loss'])\n",
        "plt.plot(hist.history['val_loss'])\n",
        "plt.title(\"model Loss\")\n",
        "plt.ylabel(\"Loss\")\n",
        "plt.xlabel(\"Epoch\")\n",
        "plt.legend([\"Loss\",\"Validation Loss\"])\n",
        "plt.show()"
      ],
      "execution_count": null,
      "outputs": [
        {
          "output_type": "display_data",
          "data": {
            "image/png": "[encoded data removed]",
            "text/plain": [
              "<Figure size 432x288 with 1 Axes>"
            ]
          },
          "metadata": {
            "tags": [],
            "needs_background": "light"
          }
        }
      ]
    },
    {
      "cell_type": "code",
      "metadata": {
        "id": "Ty3i6zFRNMNS",
        "colab_type": "code",
        "colab": {
          "base_uri": "https://localhost:8080/",
          "height": 34
        },
        "outputId": "841140fa-2b64-4bb9-e36b-d2d502bac43b"
      },
      "source": [
        "Colour_TestData = TestGenerator.flow_from_directory('/content/drive/My Drive/DTD dataset/dtd/Test/', target_size=(224,224), batch_size = 8, shuffle = False)"
      ],
      "execution_count": null,
      "outputs": [
        {
          "output_type": "stream",
          "text": [
            "Found 283 images belonging to 47 classes.\n"
          ],
          "name": "stdout"
        }
      ]
    },
    {
      "cell_type": "code",
      "metadata": {
        "id": "tzcMf6xeP8bu",
        "colab_type": "code",
        "colab": {}
      },
      "source": [
        "colour_model.load_weights('/content/drive/My Drive/DTD dataset/dtd/InspectionV3_DTD_Colour.h5')"
      ],
      "execution_count": null,
      "outputs": []
    },
    {
      "cell_type": "code",
      "metadata": {
        "id": "Nq_iPyotOgaL",
        "colab_type": "code",
        "colab": {}
      },
      "source": [
        "Colour_predict = colour_model.predict(Colour_TestData)"
      ],
      "execution_count": null,
      "outputs": []
    },
    {
      "cell_type": "code",
      "metadata": {
        "id": "TsPBSBl8OndK",
        "colab_type": "code",
        "colab": {}
      },
      "source": [
        "Colour_predict_classes = np.argmax(Colour_predict, axis=1)"
      ],
      "execution_count": null,
      "outputs": []
    },
    {
      "cell_type": "code",
      "metadata": {
        "id": "Rvyl2C1yOqD_",
        "colab_type": "code",
        "colab": {
          "base_uri": "https://localhost:8080/",
          "height": 306
        },
        "outputId": "884f30f1-b4e1-47d4-feac-c04dfd2709f6"
      },
      "source": [
        "Colour_predict_classes"
      ],
      "execution_count": null,
      "outputs": [
        {
          "output_type": "execute_result",
          "data": {
            "text/plain": [
              "array([22,  0,  0, 22,  0,  0, 24,  1,  1, 29, 28, 13,  2,  2, 46,  2,  2,\n",
              "        2,  3,  3, 27,  3, 27, 37, 33,  4,  4, 27,  4,  4, 16,  0,  5,  5,\n",
              "       17, 16,  6,  6,  6, 16,  6,  6,  7,  7,  7,  7, 31,  7,  8,  8, 25,\n",
              "        8, 18,  8, 34,  9,  9,  9,  9, 12, 30, 30, 10, 30, 10,  3, 44, 11,\n",
              "       11, 24, 24, 11, 12, 12, 12, 12, 22, 12, 13, 13, 13,  3, 13, 13, 45,\n",
              "       14, 14, 22, 14, 14, 15, 15, 17,  3, 15,  5, 18, 30, 16, 16, 18, 30,\n",
              "        0, 17, 17, 17, 17, 17, 18, 18, 10, 18, 18, 18,  2,  8, 19, 19, 19,\n",
              "       41,  8, 20, 44, 20, 20, 35, 41,  8, 41, 21, 21, 30, 44, 18,  0, 25,\n",
              "       17,  3, 21, 12,  1,  3, 23,  9, 32, 24, 24, 41, 11, 24, 25, 18, 16,\n",
              "       25, 27, 16, 21,  3, 41, 41, 26, 26, 27, 30, 30, 10, 27, 27, 28, 28,\n",
              "       28, 31, 20, 12, 29,  0, 29, 17, 18, 15, 30, 10, 27, 30, 30, 30, 31,\n",
              "       28, 12, 31, 13, 31, 32, 32, 32, 32, 32, 34, 33, 20, 29, 33, 33, 35,\n",
              "       37,  1, 29, 34, 34, 13, 35, 36,  8, 35, 35, 35, 32, 17, 16, 36, 36,\n",
              "       36,  8,  9, 34, 37, 34, 34,  0, 38, 38, 38, 38, 38, 17, 39, 39, 39,\n",
              "       39, 39, 40, 40, 40, 40, 40, 27, 41, 41, 41, 41, 41, 34, 42, 42, 35,\n",
              "       42, 42, 38,  4, 43, 43, 43, 43, 43, 43, 44, 27, 44, 30, 44, 44, 45,\n",
              "       45, 45, 45, 45, 45, 46, 46, 18, 46, 46, 46])"
            ]
          },
          "metadata": {
            "tags": []
          },
          "execution_count": 53
        }
      ]
    },
    {
      "cell_type": "code",
      "metadata": {
        "id": "meFyvYOrOr9L",
        "colab_type": "code",
        "colab": {
          "base_uri": "https://localhost:8080/",
          "height": 34
        },
        "outputId": "e62cadd3-17f3-4b57-9098-5b66c1a5b2f9"
      },
      "source": [
        "Colour_accuracy = accuracy_score(Colour_TestData.classes, Colour_predict_classes)\n",
        "print(\"Colour Accuracy: \", Colour_accuracy)"
      ],
      "execution_count": null,
      "outputs": [
        {
          "output_type": "stream",
          "text": [
            "Colour Accuracy:  0.5865724381625441\n"
          ],
          "name": "stdout"
        }
      ]
    },
    {
      "cell_type": "code",
      "metadata": {
        "id": "V-4hFVOkPpsd",
        "colab_type": "code",
        "colab": {
          "base_uri": "https://localhost:8080/",
          "height": 34
        },
        "outputId": "694081b1-5222-488e-8ebe-8c08d874c83f"
      },
      "source": [
        "Colour_precision = precision_score(Colour_TestData.classes, Colour_predict_classes,average=\"weighted\")\n",
        "print(\"Colour Precision: \", Colour_precision)"
      ],
      "execution_count": null,
      "outputs": [
        {
          "output_type": "stream",
          "text": [
            "Colour Precision:  0.6420603542511669\n"
          ],
          "name": "stdout"
        }
      ]
    },
    {
      "cell_type": "code",
      "metadata": {
        "id": "VkgJCVPqPu3t",
        "colab_type": "code",
        "colab": {
          "base_uri": "https://localhost:8080/",
          "height": 34
        },
        "outputId": "8859d7b2-cb94-42af-8a45-0bc3a2320318"
      },
      "source": [
        "Colour_recall = recall_score(Colour_TestData.classes, Colour_predict_classes, average=\"weighted\")\n",
        "print(\"Colour Recall:\", Colour_recall)"
      ],
      "execution_count": null,
      "outputs": [
        {
          "output_type": "stream",
          "text": [
            "Colour Recall: 0.5865724381625441\n"
          ],
          "name": "stdout"
        }
      ]
    },
    {
      "cell_type": "code",
      "metadata": {
        "id": "sGzTOJ5VPydq",
        "colab_type": "code",
        "colab": {
          "base_uri": "https://localhost:8080/",
          "height": 34
        },
        "outputId": "7086db05-2097-4429-ba0f-8c06ba250382"
      },
      "source": [
        "Colour_f1_score = f1_score(Colour_TestData.classes, Colour_predict_classes, average=\"weighted\")\n",
        "print(\"F1 score for colour: \", Colour_f1_score)"
      ],
      "execution_count": null,
      "outputs": [
        {
          "output_type": "stream",
          "text": [
            "F1 score for colour:  0.5864334998036276\n"
          ],
          "name": "stdout"
        }
      ]
    },
    {
      "cell_type": "markdown",
      "metadata": {
        "id": "A3QNKcw2P5wD",
        "colab_type": "text"
      },
      "source": [
        "**Emsemble**"
      ]
    },
    {
      "cell_type": "code",
      "metadata": {
        "id": "01-hknWtP-OV",
        "colab_type": "code",
        "colab": {}
      },
      "source": [
        "Final = 0.6* Colour_predict + 0.4* Grey_predict"
      ],
      "execution_count": null,
      "outputs": []
    },
    {
      "cell_type": "code",
      "metadata": {
        "id": "CnzKZmW8QB1Y",
        "colab_type": "code",
        "colab": {}
      },
      "source": [
        "Final_Predict_classes = np.argmax(Final, axis=1)"
      ],
      "execution_count": null,
      "outputs": []
    },
    {
      "cell_type": "code",
      "metadata": {
        "id": "ez9pZ_95QFPT",
        "colab_type": "code",
        "colab": {
          "base_uri": "https://localhost:8080/",
          "height": 306
        },
        "outputId": "652fb020-d66e-48f8-eab3-0338cd92c4b5"
      },
      "source": [
        "Final_Predict_classes"
      ],
      "execution_count": null,
      "outputs": [
        {
          "output_type": "execute_result",
          "data": {
            "text/plain": [
              "array([22,  0,  0,  0,  0,  0, 24,  1,  1, 29, 28, 36,  2,  2, 46,  2,  2,\n",
              "        2,  3,  3, 27,  3, 27, 37, 33,  4,  4, 27,  4,  4, 16,  0,  5,  5,\n",
              "       17, 30,  6,  6,  6, 16,  6,  6,  7,  7,  7,  7, 31,  7,  8,  8, 25,\n",
              "        8, 18,  8, 34,  9,  9,  9,  9, 12, 10, 30, 10, 30, 10,  3, 44, 11,\n",
              "       11, 24, 11, 11, 12, 12, 12, 12, 30, 12, 13, 13, 13,  3, 13, 13, 45,\n",
              "       14, 14, 22, 14, 14, 15, 15, 17,  3, 15,  5, 18, 30, 16, 16, 18, 30,\n",
              "       17, 17, 17, 17, 17, 17, 18, 18, 10, 18, 18, 18,  2,  8, 19, 19, 19,\n",
              "       41, 12, 20, 44, 20, 20, 35, 41,  8, 41, 21, 21, 30, 44, 12,  0, 27,\n",
              "       17,  3, 21, 12,  1,  3, 23,  9, 32, 24, 24, 41, 11, 24, 25, 16, 16,\n",
              "       25, 27, 16, 21,  3, 41, 41, 26, 26, 27, 30, 30, 10, 16, 27, 28, 12,\n",
              "       28, 12, 20, 12, 29,  0, 29, 17, 18, 15, 30, 10, 27, 30, 30, 30, 31,\n",
              "       12, 12, 13, 36, 31, 32, 32, 32, 32, 32, 32, 33, 33, 29, 33, 33, 35,\n",
              "       37,  1, 29, 34, 34, 13, 35, 36,  8, 35, 35, 35, 37, 17, 16, 36, 36,\n",
              "       36,  8,  9, 41, 37, 34, 34,  0, 38, 38, 38, 38, 38, 17, 39, 39, 39,\n",
              "       39, 39, 40, 40, 40, 40, 40, 27, 41, 41, 41, 41, 41, 41, 42, 42, 35,\n",
              "       42, 42, 38,  4, 43, 43, 43, 43, 43, 43, 44, 27, 44, 30, 44, 44, 45,\n",
              "       45, 45, 45, 45, 45, 46, 46, 18, 46, 46, 46])"
            ]
          },
          "metadata": {
            "tags": []
          },
          "execution_count": 60
        }
      ]
    },
    {
      "cell_type": "code",
      "metadata": {
        "id": "uIIiaLeAQHCz",
        "colab_type": "code",
        "colab": {
          "base_uri": "https://localhost:8080/",
          "height": 34
        },
        "outputId": "62fc8d96-1107-4f0e-ce1d-5a9b3ff9a1b1"
      },
      "source": [
        "Final_accuracy = accuracy_score(Colour_TestData.classes, Final_Predict_classes)\n",
        "print(\"Colour Accuracy: \", Final_accuracy)"
      ],
      "execution_count": null,
      "outputs": [
        {
          "output_type": "stream",
          "text": [
            "Colour Accuracy:  0.6007067137809188\n"
          ],
          "name": "stdout"
        }
      ]
    },
    {
      "cell_type": "code",
      "metadata": {
        "id": "0xWh0QU4QKfi",
        "colab_type": "code",
        "colab": {
          "base_uri": "https://localhost:8080/",
          "height": 34
        },
        "outputId": "db5529a3-2216-450f-9302-3c6975cdaca1"
      },
      "source": [
        "Final_precision = precision_score(Colour_TestData.classes, Final_Predict_classes,average=\"weighted\")\n",
        "print(\"Colour Precision: \", Final_precision)"
      ],
      "execution_count": null,
      "outputs": [
        {
          "output_type": "stream",
          "text": [
            "Colour Precision:  0.6580268965427974\n"
          ],
          "name": "stdout"
        }
      ]
    },
    {
      "cell_type": "code",
      "metadata": {
        "id": "SUe0YMKmQS0f",
        "colab_type": "code",
        "colab": {
          "base_uri": "https://localhost:8080/",
          "height": 34
        },
        "outputId": "4a9fa133-d16f-4163-df81-4091f8bd9df9"
      },
      "source": [
        "Final_recall = recall_score(Colour_TestData.classes, Final_Predict_classes, average=\"weighted\")\n",
        "print(\"Colour Recall:\", Final_recall)"
      ],
      "execution_count": null,
      "outputs": [
        {
          "output_type": "stream",
          "text": [
            "Colour Recall: 0.6007067137809188\n"
          ],
          "name": "stdout"
        }
      ]
    },
    {
      "cell_type": "code",
      "metadata": {
        "id": "pJraKXWUQVt_",
        "colab_type": "code",
        "colab": {
          "base_uri": "https://localhost:8080/",
          "height": 34
        },
        "outputId": "b5a8738a-ea3f-4f39-fffc-2bd87a3e3705"
      },
      "source": [
        "Final_f1_score = f1_score(Colour_TestData.classes, Final_Predict_classes, average=\"weighted\")\n",
        "print(\"F1 score for colour: \", Final_f1_score)"
      ],
      "execution_count": null,
      "outputs": [
        {
          "output_type": "stream",
          "text": [
            "F1 score for colour:  0.5976428041613089\n"
          ],
          "name": "stdout"
        }
      ]
    },
    {
      "cell_type": "code",
      "metadata": {
        "id": "0qEgDAK36qj-",
        "colab_type": "code",
        "colab": {}
      },
      "source": [
        "Second_Final = 0.5* Colour_predict + 0.5 * Grey_predict"
      ],
      "execution_count": null,
      "outputs": []
    },
    {
      "cell_type": "code",
      "metadata": {
        "id": "z5J1_SGc63t7",
        "colab_type": "code",
        "colab": {}
      },
      "source": [
        "Second_predict_classes = np.argmax(Second_Final, axis=1)"
      ],
      "execution_count": null,
      "outputs": []
    },
    {
      "cell_type": "code",
      "metadata": {
        "id": "hmdwqtuo7A63",
        "colab_type": "code",
        "colab": {
          "base_uri": "https://localhost:8080/",
          "height": 306
        },
        "outputId": "1bfc59bf-a761-495c-d093-1d448fb1b0cc"
      },
      "source": [
        "Second_predict_classes"
      ],
      "execution_count": null,
      "outputs": [
        {
          "output_type": "execute_result",
          "data": {
            "text/plain": [
              "array([22,  0,  0,  0,  0,  0, 24, 14, 31, 29, 28, 36,  2,  2, 46,  2,  2,\n",
              "        2,  3,  3, 27,  3, 27, 37, 33,  4,  4, 27,  4,  4, 16,  0,  5,  5,\n",
              "       27, 30,  6,  6,  6,  6,  6,  6,  7,  7,  7,  7, 28,  7,  8,  8, 25,\n",
              "        8, 18,  8, 34,  9,  9,  9,  9, 12, 10, 30, 10, 30, 10,  3, 12, 11,\n",
              "       11, 24, 11, 11, 12, 12, 12, 12, 30, 12, 13, 13, 13,  3, 13, 13, 45,\n",
              "       14, 14, 22, 14, 14, 15, 15, 17, 12, 15,  5, 18, 30, 16, 16, 16, 30,\n",
              "       17, 17, 17, 17, 17, 17, 18, 18, 10, 18, 18, 18,  2,  8, 19, 19, 19,\n",
              "       41, 12, 20, 44, 20, 20, 35, 41,  8, 41, 21, 21, 30, 44, 12,  0, 27,\n",
              "       17,  3, 21, 12,  1,  3, 23,  9, 32, 24, 24, 41, 11, 24, 25, 16, 16,\n",
              "       25, 27, 16, 41,  3, 41, 41, 26, 26, 27, 30, 30, 10, 16, 27, 28, 12,\n",
              "       28, 12, 20, 12, 29,  0, 29, 17, 18, 15, 30, 10, 27, 30, 30, 30, 31,\n",
              "       12, 12, 13, 36, 31, 32, 32, 32, 32, 32, 32, 33, 33, 29, 33, 33, 35,\n",
              "       43, 12, 29, 34, 34, 13, 35, 36,  8, 35,  6, 35, 36, 17, 16, 36, 36,\n",
              "       36, 13,  9, 41, 37, 34,  8,  0, 38, 38, 38, 38, 38, 17, 39, 39, 39,\n",
              "       39, 39, 40, 40, 40, 40, 40, 27, 41, 41, 41, 41, 41, 41, 42, 42, 35,\n",
              "       42, 42, 38, 14, 43, 43, 43, 43, 43, 43, 44, 27, 44, 30, 44, 44, 45,\n",
              "       45, 45, 45, 45, 45, 46, 46, 18, 46, 46, 46])"
            ]
          },
          "metadata": {
            "tags": []
          },
          "execution_count": 67
        }
      ]
    },
    {
      "cell_type": "code",
      "metadata": {
        "id": "6hhnNOD07EsP",
        "colab_type": "code",
        "colab": {
          "base_uri": "https://localhost:8080/",
          "height": 34
        },
        "outputId": "6cc6468f-9f07-4b32-ec81-f32db770e04d"
      },
      "source": [
        "Second_Final_accuracy = accuracy_score(Colour_TestData.classes, Second_predict_classes)\n",
        "Second_Final_accuracy"
      ],
      "execution_count": null,
      "outputs": [
        {
          "output_type": "execute_result",
          "data": {
            "text/plain": [
              "0.6007067137809188"
            ]
          },
          "metadata": {
            "tags": []
          },
          "execution_count": 68
        }
      ]
    },
    {
      "cell_type": "code",
      "metadata": {
        "id": "XlK4AtRWQD1v",
        "colab_type": "code",
        "colab": {}
      },
      "source": [
        "Final = 0.8* Colour_predict + 0.2* Grey_predict"
      ],
      "execution_count": null,
      "outputs": []
    },
    {
      "cell_type": "code",
      "metadata": {
        "id": "P32ycM8bQKSw",
        "colab_type": "code",
        "colab": {}
      },
      "source": [
        "Final_Predict_classes = np.argmax(Final, axis=1)"
      ],
      "execution_count": null,
      "outputs": []
    },
    {
      "cell_type": "code",
      "metadata": {
        "id": "TFKG4vpjQN1o",
        "colab_type": "code",
        "colab": {
          "base_uri": "https://localhost:8080/",
          "height": 34
        },
        "outputId": "6e83548a-2206-4d70-a026-210621be514f"
      },
      "source": [
        "Final_accuracy = accuracy_score(Colour_TestData.classes, Final_Predict_classes)\n",
        "print(\"Colour Accuracy: \", Final_accuracy)"
      ],
      "execution_count": null,
      "outputs": [
        {
          "output_type": "stream",
          "text": [
            "Colour Accuracy:  0.5653710247349824\n"
          ],
          "name": "stdout"
        }
      ]
    }
  ]
}