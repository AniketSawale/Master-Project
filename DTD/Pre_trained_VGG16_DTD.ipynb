{
  "nbformat": 4,
  "nbformat_minor": 0,
  "metadata": {
    "colab": {
      "name": "Pre_trained_VGG16_DTD.ipynb",
      "provenance": [],
      "collapsed_sections": [],
      "machine_shape": "hm"
    },
    "kernelspec": {
      "name": "python3",
      "display_name": "Python 3"
    },
    "accelerator": "GPU"
  },
  "cells": [
    {
      "cell_type": "code",
      "metadata": {
        "id": "0R7q-DOyhwjE",
        "colab_type": "code",
        "colab": {
          "base_uri": "https://localhost:8080/",
          "height": 122
        },
        "outputId": "aafaefb5-61eb-4efc-e1e3-52b0c0448b07"
      },
      "source": [
        "from google.colab import drive\n",
        "drive.mount('/content/drive')"
      ],
      "execution_count": null,
      "outputs": [
        {
          "output_type": "stream",
          "text": [
            "Go to this URL in a browser: https://accounts.google.com/o/oauth2/auth?client_id=947318989803-6bn6qk8qdgf4n4g3pfee6491hc0brc4i.apps.googleusercontent.com&redirect_uri=urn%3aietf%3awg%3aoauth%3a2.0%3aoob&scope=email%20https%3a%2f%2fwww.googleapis.com%2fauth%2fdocs.test%20https%3a%2f%2fwww.googleapis.com%2fauth%2fdrive%20https%3a%2f%2fwww.googleapis.com%2fauth%2fdrive.photos.readonly%20https%3a%2f%2fwww.googleapis.com%2fauth%2fpeopleapi.readonly&response_type=code\n",
            "\n",
            "Enter your authorization code:\n",
            "··········\n",
            "Mounted at /content/drive\n"
          ],
          "name": "stdout"
        }
      ]
    },
    {
      "cell_type": "code",
      "metadata": {
        "id": "JoWcCCpKkScn",
        "colab_type": "code",
        "colab": {}
      },
      "source": [
        "# Importing the Libraries.\n",
        "import keras\n",
        "import os\n",
        "from keras.models import Sequential\n",
        "from keras.layers import Dense, Conv2D, MaxPool2D, Flatten, Dropout\n",
        "from keras.preprocessing.image import ImageDataGenerator\n",
        "import numpy as np\n",
        "#import keras.backend as K\n",
        "import tensorflow.keras.backend as K\n",
        "import tensorflow.compat.v1 as tf\n",
        "from os import listdir\n",
        "from os.path import isfile, join\n",
        "import numpy as np\n",
        "import sys\n",
        "import os\n",
        "import shutil\n",
        "import pandas as pd\n",
        "from PIL import Image\n",
        "import cv2\n",
        "import keras\n",
        "import glob\n",
        "from PIL import Image\n",
        "from keras.preprocessing.image import img_to_array\n",
        "from sklearn.preprocessing import MultiLabelBinarizer\n",
        "from keras import models, regularizers, layers, optimizers, losses, metrics\n",
        "from keras.applications.resnet50 import ResNet50\n",
        "from keras.preprocessing.image import ImageDataGenerator\n",
        "from keras.models import Sequential\n",
        "from keras.layers import Dense, Dropout, Activation, Flatten, MaxPool2D\n",
        "from keras.layers import Convolution2D, MaxPooling2D, ZeroPadding2D\n",
        "from keras.layers import AveragePooling2D\n",
        "from keras.models import load_model\n",
        "from keras.layers.pooling import GlobalAveragePooling2D\n",
        "from keras.layers.normalization import BatchNormalization\n",
        "from keras.models import Model\n",
        "from keras.optimizers import Adam\n",
        "from keras.callbacks import ModelCheckpoint, EarlyStopping\n",
        "from sklearn.preprocessing import LabelEncoder, OneHotEncoder\n",
        "from PIL import ImageFile\n",
        "\n",
        "tf.enable_eager_execution()"
      ],
      "execution_count": null,
      "outputs": []
    },
    {
      "cell_type": "code",
      "metadata": {
        "id": "UTbk0hYnk0CJ",
        "colab_type": "code",
        "colab": {}
      },
      "source": [
        "ImageFile.LOAD_TRUNCATED_IMAGES = True"
      ],
      "execution_count": null,
      "outputs": []
    },
    {
      "cell_type": "code",
      "metadata": {
        "id": "myAKBEyck3r4",
        "colab_type": "code",
        "colab": {}
      },
      "source": [
        "# Data Augmentation.\n",
        "DataGenerator = ImageDataGenerator(horizontal_flip=True, vertical_flip=True, rescale=1./255, brightness_range=[0.2,0.7], zoom_range=[0.5,1.0])"
      ],
      "execution_count": null,
      "outputs": []
    },
    {
      "cell_type": "code",
      "metadata": {
        "id": "NYjZOJMLk6bk",
        "colab_type": "code",
        "colab": {}
      },
      "source": [
        "TestGenerator = ImageDataGenerator(rescale=1./255)"
      ],
      "execution_count": null,
      "outputs": []
    },
    {
      "cell_type": "code",
      "metadata": {
        "id": "yj25Wwsek9Pn",
        "colab_type": "code",
        "colab": {
          "base_uri": "https://localhost:8080/",
          "height": 34
        },
        "outputId": "20578aea-21ac-4ee1-b995-a96910d486eb"
      },
      "source": [
        "Grey_TrainingData = DataGenerator.flow_from_directory('/content/drive/My Drive/DTD dataset/dtd/Train/', target_size=(224,224), batch_size=8, color_mode='grayscale')"
      ],
      "execution_count": null,
      "outputs": [
        {
          "output_type": "stream",
          "text": [
            "Found 5075 images belonging to 47 classes.\n"
          ],
          "name": "stdout"
        }
      ]
    },
    {
      "cell_type": "code",
      "metadata": {
        "id": "SiZT9izhlBl_",
        "colab_type": "code",
        "colab": {
          "base_uri": "https://localhost:8080/",
          "height": 34
        },
        "outputId": "0ba7e870-55a2-4180-fd79-8b1d6e198360"
      },
      "source": [
        "Grey_ValidData = TestGenerator.flow_from_directory('/content/drive/My Drive/DTD dataset/dtd/Valid/', target_size=(224,224), batch_size=8, color_mode='grayscale')"
      ],
      "execution_count": null,
      "outputs": [
        {
          "output_type": "stream",
          "text": [
            "Found 282 images belonging to 47 classes.\n"
          ],
          "name": "stdout"
        }
      ]
    },
    {
      "cell_type": "code",
      "metadata": {
        "id": "Nv9_pr6qlEu8",
        "colab_type": "code",
        "colab": {}
      },
      "source": [
        "gpu_options = tf.GPUOptions(allow_growth=True)\n",
        "session = tf.InteractiveSession(config=tf.ConfigProto(gpu_options=gpu_options))"
      ],
      "execution_count": null,
      "outputs": []
    },
    {
      "cell_type": "code",
      "metadata": {
        "id": "xNii8OLNlH24",
        "colab_type": "code",
        "colab": {}
      },
      "source": [
        "from keras.applications import VGG16"
      ],
      "execution_count": null,
      "outputs": []
    },
    {
      "cell_type": "code",
      "metadata": {
        "id": "ehpHp33Kljfb",
        "colab_type": "code",
        "colab": {
          "base_uri": "https://localhost:8080/",
          "height": 51
        },
        "outputId": "677ef5ab-e3be-49b1-a45a-0b9b6477d5b4"
      },
      "source": [
        "conv_base = VGG16(weights='imagenet', include_top= False )"
      ],
      "execution_count": null,
      "outputs": [
        {
          "output_type": "stream",
          "text": [
            "Downloading data from https://storage.googleapis.com/tensorflow/keras-applications/vgg16/vgg16_weights_tf_dim_ordering_tf_kernels_notop.h5\n",
            "58892288/58889256 [==============================] - 1s 0us/step\n"
          ],
          "name": "stdout"
        }
      ]
    },
    {
      "cell_type": "code",
      "metadata": {
        "id": "kEXMI0mEoYym",
        "colab_type": "code",
        "colab": {}
      },
      "source": [
        "for layer in conv_base.layers[:15]:\n",
        "  layer.trainable = False\n",
        "for layer in conv_base.layers[15:]:\n",
        "  layer.trainable = True"
      ],
      "execution_count": null,
      "outputs": []
    },
    {
      "cell_type": "code",
      "metadata": {
        "id": "v0_hAxaYmYcE",
        "colab_type": "code",
        "colab": {
          "base_uri": "https://localhost:8080/",
          "height": 340
        },
        "outputId": "39283505-a603-481f-d127-754342a1f8ca"
      },
      "source": [
        "for i, layer in enumerate(conv_base.layers):\n",
        "   print(i, layer.name, layer.trainable)"
      ],
      "execution_count": null,
      "outputs": [
        {
          "output_type": "stream",
          "text": [
            "0 input_1 False\n",
            "1 block1_conv1 False\n",
            "2 block1_conv2 False\n",
            "3 block1_pool False\n",
            "4 block2_conv1 False\n",
            "5 block2_conv2 False\n",
            "6 block2_pool False\n",
            "7 block3_conv1 False\n",
            "8 block3_conv2 False\n",
            "9 block3_conv3 False\n",
            "10 block3_pool False\n",
            "11 block4_conv1 False\n",
            "12 block4_conv2 False\n",
            "13 block4_conv3 False\n",
            "14 block4_pool False\n",
            "15 block5_conv1 True\n",
            "16 block5_conv2 True\n",
            "17 block5_conv3 True\n",
            "18 block5_pool True\n"
          ],
          "name": "stdout"
        }
      ]
    },
    {
      "cell_type": "code",
      "metadata": {
        "id": "pSHTSzapomW2",
        "colab_type": "code",
        "colab": {}
      },
      "source": [
        "from keras.layers import Input"
      ],
      "execution_count": null,
      "outputs": []
    },
    {
      "cell_type": "code",
      "metadata": {
        "id": "3Z64chSlotQq",
        "colab_type": "code",
        "colab": {}
      },
      "source": [
        "input_tensor = Input(shape=(224,224,1))\n",
        "x =Conv2D(3,(3,3), padding='same')(input_tensor)\n",
        "x = conv_base(x)\n",
        "x = Flatten()(x)"
      ],
      "execution_count": null,
      "outputs": []
    },
    {
      "cell_type": "code",
      "metadata": {
        "id": "NIF5L-iqo-JJ",
        "colab_type": "code",
        "colab": {}
      },
      "source": [
        "x = Dense(2048, activation='relu', kernel_regularizer= regularizers.l2(0.001))(x)\n",
        "x = BatchNormalization()(x)\n",
        "x = Dropout(0.5)(x)"
      ],
      "execution_count": null,
      "outputs": []
    },
    {
      "cell_type": "code",
      "metadata": {
        "id": "YE9g-g_WpIMu",
        "colab_type": "code",
        "colab": {}
      },
      "source": [
        "ouput = Dense(47, activation='softmax')(x)"
      ],
      "execution_count": null,
      "outputs": []
    },
    {
      "cell_type": "code",
      "metadata": {
        "id": "D0yI4Sw5pKnu",
        "colab_type": "code",
        "colab": {}
      },
      "source": [
        "model = Model(inputs = input_tensor, outputs = ouput )"
      ],
      "execution_count": null,
      "outputs": []
    },
    {
      "cell_type": "code",
      "metadata": {
        "id": "7iy7_usKpNqS",
        "colab_type": "code",
        "colab": {
          "base_uri": "https://localhost:8080/",
          "height": 425
        },
        "outputId": "7fae4203-60f8-4db0-dee2-610ceb2dd616"
      },
      "source": [
        "model.summary()"
      ],
      "execution_count": null,
      "outputs": [
        {
          "output_type": "stream",
          "text": [
            "Model: \"functional_1\"\n",
            "_________________________________________________________________\n",
            "Layer (type)                 Output Shape              Param #   \n",
            "=================================================================\n",
            "input_2 (InputLayer)         [(None, 224, 224, 1)]     0         \n",
            "_________________________________________________________________\n",
            "conv2d (Conv2D)              (None, 224, 224, 3)       30        \n",
            "_________________________________________________________________\n",
            "vgg16 (Functional)           (None, None, None, 512)   14714688  \n",
            "_________________________________________________________________\n",
            "flatten (Flatten)            (None, 25088)             0         \n",
            "_________________________________________________________________\n",
            "dense (Dense)                (None, 2048)              51382272  \n",
            "_________________________________________________________________\n",
            "batch_normalization (BatchNo (None, 2048)              8192      \n",
            "_________________________________________________________________\n",
            "dropout (Dropout)            (None, 2048)              0         \n",
            "_________________________________________________________________\n",
            "dense_1 (Dense)              (None, 47)                96303     \n",
            "=================================================================\n",
            "Total params: 66,201,485\n",
            "Trainable params: 58,562,125\n",
            "Non-trainable params: 7,639,360\n",
            "_________________________________________________________________\n"
          ],
          "name": "stdout"
        }
      ]
    },
    {
      "cell_type": "code",
      "metadata": {
        "id": "Ct3E8v7PpQjR",
        "colab_type": "code",
        "colab": {}
      },
      "source": [
        "model.compile(loss='categorical_crossentropy',\n",
        "              optimizer=Adam(lr=0.001),\n",
        "              metrics=['accuracy'])"
      ],
      "execution_count": null,
      "outputs": []
    },
    {
      "cell_type": "code",
      "metadata": {
        "id": "Y520QRdvpTue",
        "colab_type": "code",
        "colab": {}
      },
      "source": [
        "from keras.callbacks import ModelCheckpoint, EarlyStopping, ReduceLROnPlateau\n",
        "checkpoint = ModelCheckpoint(\"/content/drive/My Drive/1-piece/Hardwood/VGG16_DTD.h5\",\n",
        "                             monitor=\"val_loss\",\n",
        "                             mode=\"min\",\n",
        "                             save_best_only = True,\n",
        "                             verbose=1)\n",
        "\n",
        "earlystop = EarlyStopping(monitor = 'val_loss', \n",
        "                          min_delta = 0, \n",
        "                          patience = 20,\n",
        "                          verbose = 1,\n",
        "                          restore_best_weights = True)\n",
        "\n",
        "reduce_lr = ReduceLROnPlateau(monitor = 'val_loss',\n",
        "                              factor = 0.2,\n",
        "                              patience = 20,\n",
        "                              verbose = 1,\n",
        "                              min_delta = 0.00001)\n",
        "\n",
        "callBacks = [earlystop, checkpoint, reduce_lr]"
      ],
      "execution_count": null,
      "outputs": []
    },
    {
      "cell_type": "code",
      "metadata": {
        "id": "hcoJl7A_peOH",
        "colab_type": "code",
        "colab": {
          "base_uri": "https://localhost:8080/",
          "height": 1000
        },
        "outputId": "03785320-ddaa-4b72-e37f-768de80a3b54"
      },
      "source": [
        "hist = model.fit_generator(steps_per_epoch=634,generator= Grey_TrainingData, validation_data= Grey_ValidData, validation_steps=35,epochs=100,callbacks=callBacks)"
      ],
      "execution_count": null,
      "outputs": [
        {
          "output_type": "stream",
          "text": [
            "WARNING:tensorflow:From <ipython-input-31-3bfc21f94cc5>:1: Model.fit_generator (from tensorflow.python.keras.engine.training) is deprecated and will be removed in a future version.\n",
            "Instructions for updating:\n",
            "Please use Model.fit, which supports generators.\n",
            "Epoch 1/100\n",
            "634/634 [==============================] - ETA: 0s - loss: 5.2847 - accuracy: 0.0543\n",
            "Epoch 00001: val_loss improved from inf to 5.41061, saving model to /content/drive/My Drive/1-piece/Hardwood/VGG16_DTD.h5\n",
            "634/634 [==============================] - 1927s 3s/step - loss: 5.2847 - accuracy: 0.0543 - val_loss: 5.4106 - val_accuracy: 0.1214\n",
            "Epoch 2/100\n",
            "634/634 [==============================] - ETA: 0s - loss: 4.0653 - accuracy: 0.0894\n",
            "Epoch 00002: val_loss did not improve from 5.41061\n",
            "634/634 [==============================] - 69s 109ms/step - loss: 4.0653 - accuracy: 0.0894 - val_loss: 31.0611 - val_accuracy: 0.0250\n",
            "Epoch 3/100\n",
            "634/634 [==============================] - ETA: 0s - loss: 3.9643 - accuracy: 0.0963\n",
            "Epoch 00003: val_loss did not improve from 5.41061\n",
            "634/634 [==============================] - 66s 103ms/step - loss: 3.9643 - accuracy: 0.0963 - val_loss: 7.0412 - val_accuracy: 0.0464\n",
            "Epoch 4/100\n",
            "634/634 [==============================] - ETA: 0s - loss: 3.8657 - accuracy: 0.1212\n",
            "Epoch 00004: val_loss did not improve from 5.41061\n",
            "634/634 [==============================] - 64s 102ms/step - loss: 3.8657 - accuracy: 0.1212 - val_loss: 19.1892 - val_accuracy: 0.0214\n",
            "Epoch 5/100\n",
            "634/634 [==============================] - ETA: 0s - loss: 3.8595 - accuracy: 0.1403\n",
            "Epoch 00005: val_loss did not improve from 5.41061\n",
            "634/634 [==============================] - 64s 100ms/step - loss: 3.8595 - accuracy: 0.1403 - val_loss: 55.1759 - val_accuracy: 0.0821\n",
            "Epoch 6/100\n",
            "634/634 [==============================] - ETA: 0s - loss: 3.8404 - accuracy: 0.1788\n",
            "Epoch 00006: val_loss improved from 5.41061 to 4.03956, saving model to /content/drive/My Drive/1-piece/Hardwood/VGG16_DTD.h5\n",
            "634/634 [==============================] - 66s 105ms/step - loss: 3.8404 - accuracy: 0.1788 - val_loss: 4.0396 - val_accuracy: 0.2000\n",
            "Epoch 7/100\n",
            "634/634 [==============================] - ETA: 0s - loss: 3.7805 - accuracy: 0.2084\n",
            "Epoch 00007: val_loss did not improve from 4.03956\n",
            "634/634 [==============================] - 64s 102ms/step - loss: 3.7805 - accuracy: 0.2084 - val_loss: 5.8624 - val_accuracy: 0.1786\n",
            "Epoch 8/100\n",
            "634/634 [==============================] - ETA: 0s - loss: 3.7370 - accuracy: 0.2250\n",
            "Epoch 00008: val_loss improved from 4.03956 to 3.82775, saving model to /content/drive/My Drive/1-piece/Hardwood/VGG16_DTD.h5\n",
            "634/634 [==============================] - 66s 105ms/step - loss: 3.7370 - accuracy: 0.2250 - val_loss: 3.8278 - val_accuracy: 0.2429\n",
            "Epoch 9/100\n",
            "634/634 [==============================] - ETA: 0s - loss: 3.7714 - accuracy: 0.2427\n",
            "Epoch 00009: val_loss did not improve from 3.82775\n",
            "634/634 [==============================] - 64s 102ms/step - loss: 3.7714 - accuracy: 0.2427 - val_loss: 9.5261 - val_accuracy: 0.2464\n",
            "Epoch 10/100\n",
            "634/634 [==============================] - ETA: 0s - loss: 4.0166 - accuracy: 0.1944\n",
            "Epoch 00010: val_loss did not improve from 3.82775\n",
            "634/634 [==============================] - 63s 99ms/step - loss: 4.0166 - accuracy: 0.1944 - val_loss: 21.1299 - val_accuracy: 0.1643\n",
            "Epoch 11/100\n",
            "634/634 [==============================] - ETA: 0s - loss: 3.6902 - accuracy: 0.2485\n",
            "Epoch 00011: val_loss did not improve from 3.82775\n",
            "634/634 [==============================] - 63s 99ms/step - loss: 3.6902 - accuracy: 0.2485 - val_loss: 8.3513 - val_accuracy: 0.2357\n",
            "Epoch 12/100\n",
            "634/634 [==============================] - ETA: 0s - loss: 3.6164 - accuracy: 0.2706\n",
            "Epoch 00012: val_loss did not improve from 3.82775\n",
            "634/634 [==============================] - 63s 99ms/step - loss: 3.6164 - accuracy: 0.2706 - val_loss: 4.0856 - val_accuracy: 0.3286\n",
            "Epoch 13/100\n",
            "634/634 [==============================] - ETA: 0s - loss: 3.4866 - accuracy: 0.2895\n",
            "Epoch 00013: val_loss improved from 3.82775 to 3.50515, saving model to /content/drive/My Drive/1-piece/Hardwood/VGG16_DTD.h5\n",
            "634/634 [==============================] - 67s 105ms/step - loss: 3.4866 - accuracy: 0.2895 - val_loss: 3.5051 - val_accuracy: 0.3000\n",
            "Epoch 14/100\n",
            "634/634 [==============================] - ETA: 0s - loss: 3.5124 - accuracy: 0.2933\n",
            "Epoch 00014: val_loss did not improve from 3.50515\n",
            "634/634 [==============================] - 64s 101ms/step - loss: 3.5124 - accuracy: 0.2933 - val_loss: 11.4505 - val_accuracy: 0.0214\n",
            "Epoch 15/100\n",
            "634/634 [==============================] - ETA: 0s - loss: 3.9984 - accuracy: 0.1784\n",
            "Epoch 00015: val_loss did not improve from 3.50515\n",
            "634/634 [==============================] - 63s 99ms/step - loss: 3.9984 - accuracy: 0.1784 - val_loss: 4.3743 - val_accuracy: 0.1714\n",
            "Epoch 16/100\n",
            "634/634 [==============================] - ETA: 0s - loss: 3.5376 - accuracy: 0.2536\n",
            "Epoch 00016: val_loss did not improve from 3.50515\n",
            "634/634 [==============================] - 63s 99ms/step - loss: 3.5376 - accuracy: 0.2536 - val_loss: 4.4259 - val_accuracy: 0.2000\n",
            "Epoch 17/100\n",
            "634/634 [==============================] - ETA: 0s - loss: 3.3956 - accuracy: 0.2887\n",
            "Epoch 00017: val_loss did not improve from 3.50515\n",
            "634/634 [==============================] - 63s 99ms/step - loss: 3.3956 - accuracy: 0.2887 - val_loss: 94.6951 - val_accuracy: 0.1857\n",
            "Epoch 18/100\n",
            "634/634 [==============================] - ETA: 0s - loss: 3.3601 - accuracy: 0.2998\n",
            "Epoch 00018: val_loss did not improve from 3.50515\n",
            "634/634 [==============================] - 63s 100ms/step - loss: 3.3601 - accuracy: 0.2998 - val_loss: 35.3390 - val_accuracy: 0.1321\n",
            "Epoch 19/100\n",
            "634/634 [==============================] - ETA: 0s - loss: 3.2994 - accuracy: 0.3132\n",
            "Epoch 00019: val_loss did not improve from 3.50515\n",
            "634/634 [==============================] - 63s 99ms/step - loss: 3.2994 - accuracy: 0.3132 - val_loss: 4.0788 - val_accuracy: 0.3143\n",
            "Epoch 20/100\n",
            "634/634 [==============================] - ETA: 0s - loss: 3.2369 - accuracy: 0.3201\n",
            "Epoch 00020: val_loss improved from 3.50515 to 3.44149, saving model to /content/drive/My Drive/1-piece/Hardwood/VGG16_DTD.h5\n",
            "634/634 [==============================] - 66s 104ms/step - loss: 3.2369 - accuracy: 0.3201 - val_loss: 3.4415 - val_accuracy: 0.3429\n",
            "Epoch 21/100\n",
            "634/634 [==============================] - ETA: 0s - loss: 3.5558 - accuracy: 0.2674\n",
            "Epoch 00021: val_loss did not improve from 3.44149\n",
            "634/634 [==============================] - 64s 101ms/step - loss: 3.5558 - accuracy: 0.2674 - val_loss: 11.6221 - val_accuracy: 0.2786\n",
            "Epoch 22/100\n",
            "634/634 [==============================] - ETA: 0s - loss: 3.2445 - accuracy: 0.3276\n",
            "Epoch 00022: val_loss improved from 3.44149 to 3.27106, saving model to /content/drive/My Drive/1-piece/Hardwood/VGG16_DTD.h5\n",
            "634/634 [==============================] - 66s 104ms/step - loss: 3.2445 - accuracy: 0.3276 - val_loss: 3.2711 - val_accuracy: 0.3571\n",
            "Epoch 23/100\n",
            "634/634 [==============================] - ETA: 0s - loss: 3.1136 - accuracy: 0.3505\n",
            "Epoch 00023: val_loss did not improve from 3.27106\n",
            "634/634 [==============================] - 64s 101ms/step - loss: 3.1136 - accuracy: 0.3505 - val_loss: 4.3949 - val_accuracy: 0.2464\n",
            "Epoch 24/100\n",
            "634/634 [==============================] - ETA: 0s - loss: 3.0448 - accuracy: 0.3525\n",
            "Epoch 00024: val_loss did not improve from 3.27106\n",
            "634/634 [==============================] - 63s 99ms/step - loss: 3.0448 - accuracy: 0.3525 - val_loss: 13.5968 - val_accuracy: 0.1143\n",
            "Epoch 25/100\n",
            "634/634 [==============================] - ETA: 0s - loss: 2.9421 - accuracy: 0.3730\n",
            "Epoch 00025: val_loss did not improve from 3.27106\n",
            "634/634 [==============================] - 63s 99ms/step - loss: 2.9421 - accuracy: 0.3730 - val_loss: 4.5368 - val_accuracy: 0.3857\n",
            "Epoch 26/100\n",
            "634/634 [==============================] - ETA: 0s - loss: 3.4534 - accuracy: 0.2765\n",
            "Epoch 00026: val_loss did not improve from 3.27106\n",
            "634/634 [==============================] - 63s 99ms/step - loss: 3.4534 - accuracy: 0.2765 - val_loss: 6908.0825 - val_accuracy: 0.0214\n",
            "Epoch 27/100\n",
            "634/634 [==============================] - ETA: 0s - loss: 3.1565 - accuracy: 0.3272\n",
            "Epoch 00027: val_loss did not improve from 3.27106\n",
            "634/634 [==============================] - 63s 100ms/step - loss: 3.1565 - accuracy: 0.3272 - val_loss: 4.2429 - val_accuracy: 0.2143\n",
            "Epoch 28/100\n",
            "634/634 [==============================] - ETA: 0s - loss: 3.0065 - accuracy: 0.3471\n",
            "Epoch 00028: val_loss did not improve from 3.27106\n",
            "634/634 [==============================] - 63s 99ms/step - loss: 3.0065 - accuracy: 0.3471 - val_loss: 8.1222 - val_accuracy: 0.3107\n",
            "Epoch 29/100\n",
            "634/634 [==============================] - ETA: 0s - loss: 2.9093 - accuracy: 0.3675\n",
            "Epoch 00029: val_loss did not improve from 3.27106\n",
            "634/634 [==============================] - 63s 99ms/step - loss: 2.9093 - accuracy: 0.3675 - val_loss: 33.9462 - val_accuracy: 0.2214\n",
            "Epoch 30/100\n",
            "634/634 [==============================] - ETA: 0s - loss: 2.8460 - accuracy: 0.3777\n",
            "Epoch 00030: val_loss did not improve from 3.27106\n",
            "634/634 [==============================] - 63s 99ms/step - loss: 2.8460 - accuracy: 0.3777 - val_loss: 6.3757 - val_accuracy: 0.2179\n",
            "Epoch 31/100\n",
            "634/634 [==============================] - ETA: 0s - loss: 2.7828 - accuracy: 0.3831\n",
            "Epoch 00031: val_loss did not improve from 3.27106\n",
            "634/634 [==============================] - 62s 99ms/step - loss: 2.7828 - accuracy: 0.3831 - val_loss: 3.9464 - val_accuracy: 0.3286\n",
            "Epoch 32/100\n",
            "634/634 [==============================] - ETA: 0s - loss: 2.7114 - accuracy: 0.3993\n",
            "Epoch 00032: val_loss improved from 3.27106 to 2.98829, saving model to /content/drive/My Drive/1-piece/Hardwood/VGG16_DTD.h5\n",
            "634/634 [==============================] - 66s 104ms/step - loss: 2.7114 - accuracy: 0.3993 - val_loss: 2.9883 - val_accuracy: 0.3643\n",
            "Epoch 33/100\n",
            "634/634 [==============================] - ETA: 0s - loss: 2.6255 - accuracy: 0.4109\n",
            "Epoch 00033: val_loss did not improve from 2.98829\n",
            "634/634 [==============================] - 64s 101ms/step - loss: 2.6255 - accuracy: 0.4109 - val_loss: 160.1715 - val_accuracy: 0.2679\n",
            "Epoch 34/100\n",
            "634/634 [==============================] - ETA: 0s - loss: 2.5979 - accuracy: 0.4176\n",
            "Epoch 00034: val_loss did not improve from 2.98829\n",
            "634/634 [==============================] - 63s 99ms/step - loss: 2.5979 - accuracy: 0.4176 - val_loss: 663.4880 - val_accuracy: 0.3929\n",
            "Epoch 35/100\n",
            "634/634 [==============================] - ETA: 0s - loss: 2.5051 - accuracy: 0.4338\n",
            "Epoch 00035: val_loss did not improve from 2.98829\n",
            "634/634 [==============================] - 63s 99ms/step - loss: 2.5051 - accuracy: 0.4338 - val_loss: 3.0117 - val_accuracy: 0.4036\n",
            "Epoch 36/100\n",
            "634/634 [==============================] - ETA: 0s - loss: 2.4451 - accuracy: 0.4486\n",
            "Epoch 00036: val_loss did not improve from 2.98829\n",
            "634/634 [==============================] - 63s 99ms/step - loss: 2.4451 - accuracy: 0.4486 - val_loss: 3.5242 - val_accuracy: 0.3286\n",
            "Epoch 37/100\n",
            "634/634 [==============================] - ETA: 0s - loss: 2.4636 - accuracy: 0.4261\n",
            "Epoch 00037: val_loss did not improve from 2.98829\n",
            "634/634 [==============================] - 63s 100ms/step - loss: 2.4636 - accuracy: 0.4261 - val_loss: 3.0057 - val_accuracy: 0.3929\n",
            "Epoch 38/100\n",
            "634/634 [==============================] - ETA: 0s - loss: 2.4144 - accuracy: 0.4545\n",
            "Epoch 00038: val_loss improved from 2.98829 to 2.71759, saving model to /content/drive/My Drive/1-piece/Hardwood/VGG16_DTD.h5\n",
            "634/634 [==============================] - 66s 104ms/step - loss: 2.4144 - accuracy: 0.4545 - val_loss: 2.7176 - val_accuracy: 0.4214\n",
            "Epoch 39/100\n",
            "634/634 [==============================] - ETA: 0s - loss: 2.3597 - accuracy: 0.4618\n",
            "Epoch 00039: val_loss did not improve from 2.71759\n",
            "634/634 [==============================] - 64s 101ms/step - loss: 2.3597 - accuracy: 0.4618 - val_loss: 2.7386 - val_accuracy: 0.4679\n",
            "Epoch 40/100\n",
            "634/634 [==============================] - ETA: 0s - loss: 2.2816 - accuracy: 0.4727\n",
            "Epoch 00040: val_loss did not improve from 2.71759\n",
            "634/634 [==============================] - 63s 99ms/step - loss: 2.2816 - accuracy: 0.4727 - val_loss: 4.3189 - val_accuracy: 0.2821\n",
            "Epoch 41/100\n",
            "634/634 [==============================] - ETA: 0s - loss: 2.2634 - accuracy: 0.4821\n",
            "Epoch 00041: val_loss improved from 2.71759 to 2.63631, saving model to /content/drive/My Drive/1-piece/Hardwood/VGG16_DTD.h5\n",
            "634/634 [==============================] - 66s 104ms/step - loss: 2.2634 - accuracy: 0.4821 - val_loss: 2.6363 - val_accuracy: 0.4536\n",
            "Epoch 42/100\n",
            "634/634 [==============================] - ETA: 0s - loss: 2.1709 - accuracy: 0.5037\n",
            "Epoch 00042: val_loss did not improve from 2.63631\n",
            "634/634 [==============================] - 64s 102ms/step - loss: 2.1709 - accuracy: 0.5037 - val_loss: 2.7913 - val_accuracy: 0.4679\n",
            "Epoch 43/100\n",
            "634/634 [==============================] - ETA: 0s - loss: 2.1542 - accuracy: 0.4879\n",
            "Epoch 00043: val_loss did not improve from 2.63631\n",
            "634/634 [==============================] - 63s 99ms/step - loss: 2.1542 - accuracy: 0.4879 - val_loss: 53.5795 - val_accuracy: 0.3714\n",
            "Epoch 44/100\n",
            "634/634 [==============================] - ETA: 0s - loss: 2.0766 - accuracy: 0.5188\n",
            "Epoch 00044: val_loss did not improve from 2.63631\n",
            "634/634 [==============================] - 63s 99ms/step - loss: 2.0766 - accuracy: 0.5188 - val_loss: 3.5401 - val_accuracy: 0.4143\n",
            "Epoch 45/100\n",
            "634/634 [==============================] - ETA: 0s - loss: 2.0817 - accuracy: 0.5090\n",
            "Epoch 00045: val_loss improved from 2.63631 to 2.52843, saving model to /content/drive/My Drive/1-piece/Hardwood/VGG16_DTD.h5\n",
            "634/634 [==============================] - 66s 104ms/step - loss: 2.0817 - accuracy: 0.5090 - val_loss: 2.5284 - val_accuracy: 0.4536\n",
            "Epoch 46/100\n",
            "634/634 [==============================] - ETA: 0s - loss: 2.0577 - accuracy: 0.5210\n",
            "Epoch 00046: val_loss improved from 2.52843 to 2.33962, saving model to /content/drive/My Drive/1-piece/Hardwood/VGG16_DTD.h5\n",
            "634/634 [==============================] - 67s 106ms/step - loss: 2.0577 - accuracy: 0.5210 - val_loss: 2.3396 - val_accuracy: 0.4964\n",
            "Epoch 47/100\n",
            "634/634 [==============================] - ETA: 0s - loss: 1.9647 - accuracy: 0.5510\n",
            "Epoch 00047: val_loss did not improve from 2.33962\n",
            "634/634 [==============================] - 64s 102ms/step - loss: 1.9647 - accuracy: 0.5510 - val_loss: 2.4602 - val_accuracy: 0.5071\n",
            "Epoch 48/100\n",
            "634/634 [==============================] - ETA: 0s - loss: 1.9804 - accuracy: 0.5429\n",
            "Epoch 00048: val_loss did not improve from 2.33962\n",
            "634/634 [==============================] - 63s 99ms/step - loss: 1.9804 - accuracy: 0.5429 - val_loss: 2.4915 - val_accuracy: 0.4929\n",
            "Epoch 49/100\n",
            "634/634 [==============================] - ETA: 0s - loss: 1.9827 - accuracy: 0.5437\n",
            "Epoch 00049: val_loss did not improve from 2.33962\n",
            "634/634 [==============================] - 63s 99ms/step - loss: 1.9827 - accuracy: 0.5437 - val_loss: 2.4216 - val_accuracy: 0.4929\n",
            "Epoch 50/100\n",
            "634/634 [==============================] - ETA: 0s - loss: 1.9246 - accuracy: 0.5613\n",
            "Epoch 00050: val_loss did not improve from 2.33962\n",
            "634/634 [==============================] - 63s 99ms/step - loss: 1.9246 - accuracy: 0.5613 - val_loss: 32.0651 - val_accuracy: 0.4786\n",
            "Epoch 51/100\n",
            "634/634 [==============================] - ETA: 0s - loss: 1.8770 - accuracy: 0.5725\n",
            "Epoch 00051: val_loss did not improve from 2.33962\n",
            "634/634 [==============================] - 63s 99ms/step - loss: 1.8770 - accuracy: 0.5725 - val_loss: 2.4387 - val_accuracy: 0.5143\n",
            "Epoch 52/100\n",
            "634/634 [==============================] - ETA: 0s - loss: 1.8368 - accuracy: 0.5763\n",
            "Epoch 00052: val_loss did not improve from 2.33962\n",
            "634/634 [==============================] - 63s 100ms/step - loss: 1.8368 - accuracy: 0.5763 - val_loss: 2.6293 - val_accuracy: 0.4929\n",
            "Epoch 53/100\n",
            "634/634 [==============================] - ETA: 0s - loss: 1.8327 - accuracy: 0.5802\n",
            "Epoch 00053: val_loss did not improve from 2.33962\n",
            "634/634 [==============================] - 63s 99ms/step - loss: 1.8327 - accuracy: 0.5802 - val_loss: 2.7480 - val_accuracy: 0.4964\n",
            "Epoch 54/100\n",
            "634/634 [==============================] - ETA: 0s - loss: 1.8247 - accuracy: 0.5838\n",
            "Epoch 00054: val_loss did not improve from 2.33962\n",
            "634/634 [==============================] - 63s 99ms/step - loss: 1.8247 - accuracy: 0.5838 - val_loss: 3.6057 - val_accuracy: 0.4464\n",
            "Epoch 55/100\n",
            "634/634 [==============================] - ETA: 0s - loss: 1.7551 - accuracy: 0.5950\n",
            "Epoch 00055: val_loss did not improve from 2.33962\n",
            "634/634 [==============================] - 63s 99ms/step - loss: 1.7551 - accuracy: 0.5950 - val_loss: 2.7644 - val_accuracy: 0.4893\n",
            "Epoch 56/100\n",
            "634/634 [==============================] - ETA: 0s - loss: 1.7016 - accuracy: 0.6120\n",
            "Epoch 00056: val_loss did not improve from 2.33962\n",
            "634/634 [==============================] - 63s 99ms/step - loss: 1.7016 - accuracy: 0.6120 - val_loss: 2.7851 - val_accuracy: 0.5250\n",
            "Epoch 57/100\n",
            "634/634 [==============================] - ETA: 0s - loss: 1.7030 - accuracy: 0.6090\n",
            "Epoch 00057: val_loss did not improve from 2.33962\n",
            "634/634 [==============================] - 63s 100ms/step - loss: 1.7030 - accuracy: 0.6090 - val_loss: 2.5674 - val_accuracy: 0.5214\n",
            "Epoch 58/100\n",
            "634/634 [==============================] - ETA: 0s - loss: 1.7638 - accuracy: 0.5897\n",
            "Epoch 00058: val_loss did not improve from 2.33962\n",
            "634/634 [==============================] - 63s 99ms/step - loss: 1.7638 - accuracy: 0.5897 - val_loss: 2.7840 - val_accuracy: 0.4964\n",
            "Epoch 59/100\n",
            "634/634 [==============================] - ETA: 0s - loss: 1.6789 - accuracy: 0.6234\n",
            "Epoch 00059: val_loss did not improve from 2.33962\n",
            "634/634 [==============================] - 63s 99ms/step - loss: 1.6789 - accuracy: 0.6234 - val_loss: 2.4334 - val_accuracy: 0.5250\n",
            "Epoch 60/100\n",
            "634/634 [==============================] - ETA: 0s - loss: 1.6447 - accuracy: 0.6315\n",
            "Epoch 00060: val_loss did not improve from 2.33962\n",
            "634/634 [==============================] - 63s 99ms/step - loss: 1.6447 - accuracy: 0.6315 - val_loss: 6.1036 - val_accuracy: 0.2750\n",
            "Epoch 61/100\n",
            "634/634 [==============================] - ETA: 0s - loss: 1.6034 - accuracy: 0.6408\n",
            "Epoch 00061: val_loss did not improve from 2.33962\n",
            "634/634 [==============================] - 63s 100ms/step - loss: 1.6034 - accuracy: 0.6408 - val_loss: 3.0096 - val_accuracy: 0.5500\n",
            "Epoch 62/100\n",
            "634/634 [==============================] - ETA: 0s - loss: 1.5736 - accuracy: 0.6381\n",
            "Epoch 00062: val_loss did not improve from 2.33962\n",
            "634/634 [==============================] - 63s 99ms/step - loss: 1.5736 - accuracy: 0.6381 - val_loss: 3.1023 - val_accuracy: 0.5071\n",
            "Epoch 63/100\n",
            "634/634 [==============================] - ETA: 0s - loss: 1.5508 - accuracy: 0.6499\n",
            "Epoch 00063: val_loss did not improve from 2.33962\n",
            "634/634 [==============================] - 63s 99ms/step - loss: 1.5508 - accuracy: 0.6499 - val_loss: 15.9116 - val_accuracy: 0.5679\n",
            "Epoch 64/100\n",
            "634/634 [==============================] - ETA: 0s - loss: 1.5609 - accuracy: 0.6420\n",
            "Epoch 00064: val_loss did not improve from 2.33962\n",
            "634/634 [==============================] - 63s 99ms/step - loss: 1.5609 - accuracy: 0.6420 - val_loss: 7.7887 - val_accuracy: 0.4821\n",
            "Epoch 65/100\n",
            "634/634 [==============================] - ETA: 0s - loss: 1.5130 - accuracy: 0.6554\n",
            "Epoch 00065: val_loss did not improve from 2.33962\n",
            "634/634 [==============================] - 63s 99ms/step - loss: 1.5130 - accuracy: 0.6554 - val_loss: 3.8445 - val_accuracy: 0.5714\n",
            "Epoch 66/100\n",
            "634/634 [==============================] - ETA: 0s - loss: 1.4931 - accuracy: 0.6619Restoring model weights from the end of the best epoch.\n",
            "\n",
            "Epoch 00066: val_loss did not improve from 2.33962\n",
            "\n",
            "Epoch 00066: ReduceLROnPlateau reducing learning rate to 0.00020000000949949026.\n",
            "634/634 [==============================] - 63s 100ms/step - loss: 1.4931 - accuracy: 0.6619 - val_loss: 6.4348 - val_accuracy: 0.5571\n",
            "Epoch 00066: early stopping\n"
          ],
          "name": "stdout"
        }
      ]
    },
    {
      "cell_type": "code",
      "metadata": {
        "id": "w978N1IZpiqs",
        "colab_type": "code",
        "colab": {
          "base_uri": "https://localhost:8080/",
          "height": 295
        },
        "outputId": "0ebe935d-f65d-46e2-d192-cc438d8b37d7"
      },
      "source": [
        "import matplotlib.pyplot as plt\n",
        "plt.plot(hist.history[\"accuracy\"])\n",
        "plt.plot(hist.history['val_accuracy'])\n",
        "plt.title(\"model accuracy\")\n",
        "plt.ylabel(\"Accuracy\")\n",
        "plt.xlabel(\"Epoch\")\n",
        "plt.legend([\"Accuracy\",\"Validation Accuracy\"])\n",
        "plt.show()"
      ],
      "execution_count": null,
      "outputs": [
        {
          "output_type": "display_data",
          "data": {
            "image/png": "[encoded data removed]",
            "text/plain": [
              "<Figure size 432x288 with 1 Axes>"
            ]
          },
          "metadata": {
            "tags": [],
            "needs_background": "light"
          }
        }
      ]
    },
    {
      "cell_type": "code",
      "metadata": {
        "id": "137E95DWqB4H",
        "colab_type": "code",
        "colab": {
          "base_uri": "https://localhost:8080/",
          "height": 295
        },
        "outputId": "5cb3b1f3-f2f6-4990-9a4d-c3baf7f78656"
      },
      "source": [
        "plt.plot(hist.history['loss'])\n",
        "plt.plot(hist.history['val_loss'])\n",
        "plt.title(\"model Loss\")\n",
        "plt.ylabel(\"Loss\")\n",
        "plt.xlabel(\"Epoch\")\n",
        "plt.legend([\"Loss\",\"Validation Loss\"])\n",
        "plt.show()"
      ],
      "execution_count": null,
      "outputs": [
        {
          "output_type": "display_data",
          "data": {
            "image/png": "[encoded data removed]",
            "text/plain": [
              "<Figure size 432x288 with 1 Axes>"
            ]
          },
          "metadata": {
            "tags": [],
            "needs_background": "light"
          }
        }
      ]
    },
    {
      "cell_type": "code",
      "metadata": {
        "id": "7b72ruFeqEtC",
        "colab_type": "code",
        "colab": {
          "base_uri": "https://localhost:8080/",
          "height": 34
        },
        "outputId": "249ca9c4-11ed-422b-a0af-6513aa9ed07e"
      },
      "source": [
        "GreyTestData = TestGenerator.flow_from_directory('/content/drive/My Drive/DTD dataset/dtd/Test/', target_size=(224,224), batch_size = 8, shuffle = False, color_mode='grayscale')"
      ],
      "execution_count": null,
      "outputs": [
        {
          "output_type": "stream",
          "text": [
            "Found 283 images belonging to 47 classes.\n"
          ],
          "name": "stdout"
        }
      ]
    },
    {
      "cell_type": "code",
      "metadata": {
        "id": "pYnrDr1UNQPH",
        "colab_type": "code",
        "colab": {}
      },
      "source": [
        "model.load_weights('/content/drive/My Drive/1-piece/Hardwood/VGG16_DTD.h5')"
      ],
      "execution_count": null,
      "outputs": []
    },
    {
      "cell_type": "code",
      "metadata": {
        "id": "ZvqZO0nEqJ-F",
        "colab_type": "code",
        "colab": {}
      },
      "source": [
        "Grey_predict = model.predict(GreyTestData)"
      ],
      "execution_count": null,
      "outputs": []
    },
    {
      "cell_type": "code",
      "metadata": {
        "id": "6ojfqUjnqMo8",
        "colab_type": "code",
        "colab": {}
      },
      "source": [
        "Grey_predict_classes = np.argmax(Grey_predict, axis=1)"
      ],
      "execution_count": null,
      "outputs": []
    },
    {
      "cell_type": "code",
      "metadata": {
        "id": "r0OaVhWUqQGl",
        "colab_type": "code",
        "colab": {
          "base_uri": "https://localhost:8080/",
          "height": 306
        },
        "outputId": "a0e36211-3a18-4d31-98d2-31ef9605bbf0"
      },
      "source": [
        "Grey_predict_classes"
      ],
      "execution_count": null,
      "outputs": [
        {
          "output_type": "execute_result",
          "data": {
            "text/plain": [
              "array([22, 29,  0,  0, 29,  0, 23,  9,  3, 29, 23, 37,  2, 45, 45, 44, 45,\n",
              "        4,  9,  9, 23,  3,  3, 32, 20, 31,  4, 40,  3,  3,  9, 16,  5,  5,\n",
              "       18,  5,  6,  6,  6,  6,  6,  6,  7, 32,  7,  7, 38, 21, 19, 25, 12,\n",
              "        8, 45,  8,  9,  9,  9,  9,  9,  3, 10, 30, 10, 18, 10,  3, 24, 23,\n",
              "       23, 24, 11, 11,  8, 12, 12, 12, 30, 12, 13, 13, 36,  3, 32, 37,  9,\n",
              "       14, 14, 45, 14, 14, 22, 15, 29,  9, 14,  6, 27, 25, 16, 25, 25,  5,\n",
              "       17, 17, 29, 35, 17, 17, 18, 18, 18, 25, 18,  3, 35, 19, 19, 19, 19,\n",
              "       41, 12, 44, 20, 20, 44, 38, 41, 21, 29, 14, 21, 26, 22, 22, 22, 22,\n",
              "       29, 22, 21, 12,  1,  9, 23,  9, 32,  1, 38, 38, 24, 24, 25, 18, 16,\n",
              "       44, 43, 25, 26,  3, 26, 26, 26, 41, 27, 27, 44, 10, 40, 10,  3,  3,\n",
              "        1, 12,  4,  3, 29, 29,  5, 29, 29, 29, 10, 10,  5, 30, 30, 10, 12,\n",
              "        1, 12, 20, 36, 28, 32, 32,  9, 32, 32, 32, 33, 20,  5, 44, 18,  7,\n",
              "        9,  1, 45, 11, 32, 32, 35, 32, 45, 35, 35, 35, 28, 12, 44,  3, 36,\n",
              "       26,  9, 32, 32, 37,  9, 23,  3, 29,  7, 38, 45, 38, 39, 29, 39, 41,\n",
              "       39, 39, 40, 40,  3, 40, 40, 40, 41, 35, 18, 26, 41, 34, 42, 42, 45,\n",
              "       42, 42, 38,  9, 43, 16, 42,  9,  9, 43, 44, 44, 25,  5, 44, 44, 45,\n",
              "        9,  9, 45, 45, 45, 46, 46, 46, 46, 46, 46])"
            ]
          },
          "metadata": {
            "tags": []
          },
          "execution_count": 37
        }
      ]
    },
    {
      "cell_type": "code",
      "metadata": {
        "id": "Tbm5TUI0qS4p",
        "colab_type": "code",
        "colab": {}
      },
      "source": [
        "from sklearn.metrics import accuracy_score\n",
        "from sklearn.metrics import precision_score\n",
        "from sklearn.metrics import recall_score\n",
        "from sklearn.metrics import f1_score\n",
        "from sklearn.metrics import cohen_kappa_score\n",
        "from sklearn.metrics import roc_auc_score"
      ],
      "execution_count": null,
      "outputs": []
    },
    {
      "cell_type": "code",
      "metadata": {
        "id": "DuTucrUBqV79",
        "colab_type": "code",
        "colab": {
          "base_uri": "https://localhost:8080/",
          "height": 34
        },
        "outputId": "405cfa09-8107-4a5b-bc51-3a961e9597fc"
      },
      "source": [
        "Grey_accuracy = accuracy_score(GreyTestData.classes, Grey_predict_classes)\n",
        "print(\"Grey Accuracy: \", Grey_accuracy)"
      ],
      "execution_count": null,
      "outputs": [
        {
          "output_type": "stream",
          "text": [
            "Grey Accuracy:  0.44876325088339225\n"
          ],
          "name": "stdout"
        }
      ]
    },
    {
      "cell_type": "code",
      "metadata": {
        "id": "2nlVDCf5qYH9",
        "colab_type": "code",
        "colab": {
          "base_uri": "https://localhost:8080/",
          "height": 34
        },
        "outputId": "fd6d7abe-2b67-4c21-892a-7727a16ef606"
      },
      "source": [
        "Grey_precision = precision_score(GreyTestData.classes, Grey_predict_classes,average=\"weighted\")\n",
        "print(\"Grey Precision: \", Grey_precision)"
      ],
      "execution_count": null,
      "outputs": [
        {
          "output_type": "stream",
          "text": [
            "Grey Precision:  0.5200895100188385\n"
          ],
          "name": "stdout"
        }
      ]
    },
    {
      "cell_type": "code",
      "metadata": {
        "id": "HnSW_2ROqaYb",
        "colab_type": "code",
        "colab": {
          "base_uri": "https://localhost:8080/",
          "height": 34
        },
        "outputId": "d5ff2807-3853-468b-e06b-25502a2371f4"
      },
      "source": [
        "Grey_recall = recall_score(GreyTestData.classes, Grey_predict_classes, average=\"weighted\")\n",
        "print(\"Grey Recall:\", Grey_recall)"
      ],
      "execution_count": null,
      "outputs": [
        {
          "output_type": "stream",
          "text": [
            "Grey Recall: 0.44876325088339225\n"
          ],
          "name": "stdout"
        }
      ]
    },
    {
      "cell_type": "code",
      "metadata": {
        "id": "dyV6gxhQqdPX",
        "colab_type": "code",
        "colab": {
          "base_uri": "https://localhost:8080/",
          "height": 34
        },
        "outputId": "bc561b82-619a-45be-9ef8-fd9107106f75"
      },
      "source": [
        "Grey_f1_score = f1_score(GreyTestData.classes, Grey_predict_classes, average=\"weighted\")\n",
        "print(\"F1 score for Grey: \", Grey_f1_score)"
      ],
      "execution_count": null,
      "outputs": [
        {
          "output_type": "stream",
          "text": [
            "F1 score for Grey:  0.4364382895818531\n"
          ],
          "name": "stdout"
        }
      ]
    },
    {
      "cell_type": "markdown",
      "metadata": {
        "id": "F1fZRMi0qvJg",
        "colab_type": "text"
      },
      "source": [
        "**Processinf for Colour Data.**"
      ]
    },
    {
      "cell_type": "code",
      "metadata": {
        "id": "MejZSik6qujf",
        "colab_type": "code",
        "colab": {
          "base_uri": "https://localhost:8080/",
          "height": 34
        },
        "outputId": "50c37d78-f308-4f32-d60e-ddf9570d4317"
      },
      "source": [
        "Colour_TrainingData =  DataGenerator.flow_from_directory('/content/drive/My Drive/DTD dataset/dtd/Train/', target_size=(224,224), batch_size=8)"
      ],
      "execution_count": null,
      "outputs": [
        {
          "output_type": "stream",
          "text": [
            "Found 5075 images belonging to 47 classes.\n"
          ],
          "name": "stdout"
        }
      ]
    },
    {
      "cell_type": "code",
      "metadata": {
        "id": "6Tv-MlCaqqwy",
        "colab_type": "code",
        "colab": {
          "base_uri": "https://localhost:8080/",
          "height": 34
        },
        "outputId": "39b93183-cca1-4dfc-ee53-5f9e413d3277"
      },
      "source": [
        "Colour_ValidData =  TestGenerator.flow_from_directory('/content/drive/My Drive/DTD dataset/dtd/Valid/', target_size=(224,224), batch_size=8)"
      ],
      "execution_count": null,
      "outputs": [
        {
          "output_type": "stream",
          "text": [
            "Found 282 images belonging to 47 classes.\n"
          ],
          "name": "stdout"
        }
      ]
    },
    {
      "cell_type": "code",
      "metadata": {
        "id": "8P7y8te7rYha",
        "colab_type": "code",
        "colab": {}
      },
      "source": [
        "conv_base_colour = VGG16(weights = \"imagenet\", include_top = False)"
      ],
      "execution_count": null,
      "outputs": []
    },
    {
      "cell_type": "code",
      "metadata": {
        "id": "huyzUAHGro7w",
        "colab_type": "code",
        "colab": {}
      },
      "source": [
        "for layer in conv_base_colour.layers[:15]:\n",
        "  layer.trainable = False\n",
        "for layer in conv_base_colour.layers[15:]:\n",
        "  layer.trainable = True"
      ],
      "execution_count": null,
      "outputs": []
    },
    {
      "cell_type": "code",
      "metadata": {
        "id": "4uU6cctfr3wV",
        "colab_type": "code",
        "colab": {}
      },
      "source": [
        "from keras.layers import Input "
      ],
      "execution_count": null,
      "outputs": []
    },
    {
      "cell_type": "code",
      "metadata": {
        "id": "7gDr9ABIr-qX",
        "colab_type": "code",
        "colab": {}
      },
      "source": [
        "input_tensor = Input(shape=(224,224,3))\n",
        "x = conv_base_colour(input_tensor)\n",
        "x = Flatten()(x)\n",
        "x = Dense(2048, activation='relu', kernel_regularizer= regularizers.l2(0.001))(x)\n",
        "x = BatchNormalization()(x)\n",
        "x = Dropout(0.5)(x)\n",
        "ouput = Dense(47, activation='softmax')(x)"
      ],
      "execution_count": null,
      "outputs": []
    },
    {
      "cell_type": "code",
      "metadata": {
        "id": "E9ZzwZgNsg_v",
        "colab_type": "code",
        "colab": {}
      },
      "source": [
        "colour_model = Model(inputs = input_tensor, outputs = ouput )"
      ],
      "execution_count": null,
      "outputs": []
    },
    {
      "cell_type": "code",
      "metadata": {
        "id": "CMJ0-W89WVAq",
        "colab_type": "code",
        "colab": {}
      },
      "source": [
        ""
      ],
      "execution_count": null,
      "outputs": []
    },
    {
      "cell_type": "code",
      "metadata": {
        "id": "VzXH6-o6skUb",
        "colab_type": "code",
        "colab": {}
      },
      "source": [
        "colour_model.compile(loss='categorical_crossentropy',\n",
        "              optimizer=Adam(lr=0.001),\n",
        "              metrics=['accuracy'])"
      ],
      "execution_count": null,
      "outputs": []
    },
    {
      "cell_type": "code",
      "metadata": {
        "id": "b5atmCntsnHN",
        "colab_type": "code",
        "colab": {}
      },
      "source": [
        "from keras.callbacks import ModelCheckpoint, EarlyStopping, ReduceLROnPlateau\n",
        "checkpoint = ModelCheckpoint(\"/content/drive/My Drive/DTD dataset/dtd/Colour_VGG16.h5\",\n",
        "                             monitor=\"val_loss\",\n",
        "                             mode=\"min\",\n",
        "                             save_best_only = True,\n",
        "                             verbose=1)\n",
        "\n",
        "earlystop = EarlyStopping(monitor = 'val_loss', \n",
        "                          min_delta = 0, \n",
        "                          patience = 20,\n",
        "                          verbose = 1,\n",
        "                          restore_best_weights = True)\n",
        "\n",
        "reduce_lr = ReduceLROnPlateau(monitor = 'val_loss',\n",
        "                              factor = 0.2,\n",
        "                              patience = 20,\n",
        "                              verbose = 1,\n",
        "                              min_delta = 0.00001)\n",
        "\n",
        "callBacks = [earlystop, checkpoint, reduce_lr]"
      ],
      "execution_count": null,
      "outputs": []
    },
    {
      "cell_type": "code",
      "metadata": {
        "id": "cjSkaPQXssrc",
        "colab_type": "code",
        "colab": {
          "base_uri": "https://localhost:8080/",
          "height": 1000
        },
        "outputId": "07b169a1-160a-4d46-c5e3-adb5be279fc7"
      },
      "source": [
        "hist = colour_model.fit_generator(steps_per_epoch=634,generator= Colour_TrainingData, validation_data= Colour_ValidData, validation_steps=35,epochs=100,callbacks=callBacks)"
      ],
      "execution_count": null,
      "outputs": [
        {
          "output_type": "stream",
          "text": [
            "Epoch 1/100\n",
            "634/634 [==============================] - ETA: 0s - loss: 5.0425 - accuracy: 0.0663\n",
            "Epoch 00001: val_loss improved from inf to 5.08255, saving model to /content/drive/My Drive/DTD dataset/dtd/Colour_VGG16.h5\n",
            "634/634 [==============================] - 98s 155ms/step - loss: 5.0425 - accuracy: 0.0663 - val_loss: 5.0826 - val_accuracy: 0.0750\n",
            "Epoch 2/100\n",
            "634/634 [==============================] - ETA: 0s - loss: 4.1059 - accuracy: 0.0961\n",
            "Epoch 00002: val_loss did not improve from 5.08255\n",
            "634/634 [==============================] - 96s 152ms/step - loss: 4.1059 - accuracy: 0.0961 - val_loss: 8.3278 - val_accuracy: 0.0571\n",
            "Epoch 3/100\n",
            "634/634 [==============================] - ETA: 0s - loss: 3.8369 - accuracy: 0.1123\n",
            "Epoch 00003: val_loss improved from 5.08255 to 3.85247, saving model to /content/drive/My Drive/DTD dataset/dtd/Colour_VGG16.h5\n",
            "634/634 [==============================] - 98s 155ms/step - loss: 3.8369 - accuracy: 0.1123 - val_loss: 3.8525 - val_accuracy: 0.1357\n",
            "Epoch 4/100\n",
            "634/634 [==============================] - ETA: 0s - loss: 3.5252 - accuracy: 0.1614\n",
            "Epoch 00004: val_loss did not improve from 3.85247\n",
            "634/634 [==============================] - 96s 151ms/step - loss: 3.5252 - accuracy: 0.1614 - val_loss: 7.3385 - val_accuracy: 0.1143\n",
            "Epoch 5/100\n",
            "634/634 [==============================] - ETA: 0s - loss: 3.4411 - accuracy: 0.1790\n",
            "Epoch 00005: val_loss did not improve from 3.85247\n",
            "634/634 [==============================] - 95s 149ms/step - loss: 3.4411 - accuracy: 0.1790 - val_loss: 31221.7188 - val_accuracy: 0.0214\n",
            "Epoch 6/100\n",
            "634/634 [==============================] - ETA: 0s - loss: 4.1930 - accuracy: 0.1429\n",
            "Epoch 00006: val_loss did not improve from 3.85247\n",
            "634/634 [==============================] - 95s 150ms/step - loss: 4.1930 - accuracy: 0.1429 - val_loss: 11.1447 - val_accuracy: 0.1321\n",
            "Epoch 7/100\n",
            "634/634 [==============================] - ETA: 0s - loss: 4.1268 - accuracy: 0.1833\n",
            "Epoch 00007: val_loss did not improve from 3.85247\n",
            "634/634 [==============================] - 95s 149ms/step - loss: 4.1268 - accuracy: 0.1833 - val_loss: 3153.8064 - val_accuracy: 0.0214\n",
            "Epoch 8/100\n",
            "634/634 [==============================] - ETA: 0s - loss: 4.0511 - accuracy: 0.2120\n",
            "Epoch 00008: val_loss did not improve from 3.85247\n",
            "634/634 [==============================] - 95s 149ms/step - loss: 4.0511 - accuracy: 0.2120 - val_loss: 4.0770 - val_accuracy: 0.2179\n",
            "Epoch 9/100\n",
            "634/634 [==============================] - ETA: 0s - loss: 4.1796 - accuracy: 0.2118\n",
            "Epoch 00009: val_loss did not improve from 3.85247\n",
            "634/634 [==============================] - 95s 150ms/step - loss: 4.1796 - accuracy: 0.2118 - val_loss: 5.0714 - val_accuracy: 0.2429\n",
            "Epoch 10/100\n",
            "634/634 [==============================] - ETA: 0s - loss: 4.3062 - accuracy: 0.2368\n",
            "Epoch 00010: val_loss did not improve from 3.85247\n",
            "634/634 [==============================] - 94s 149ms/step - loss: 4.3062 - accuracy: 0.2368 - val_loss: 4.2303 - val_accuracy: 0.2714\n",
            "Epoch 11/100\n",
            "634/634 [==============================] - ETA: 0s - loss: 4.0390 - accuracy: 0.2666\n",
            "Epoch 00011: val_loss improved from 3.85247 to 3.83261, saving model to /content/drive/My Drive/DTD dataset/dtd/Colour_VGG16.h5\n",
            "634/634 [==============================] - 97s 154ms/step - loss: 4.0390 - accuracy: 0.2666 - val_loss: 3.8326 - val_accuracy: 0.3321\n",
            "Epoch 12/100\n",
            "634/634 [==============================] - ETA: 0s - loss: 4.1196 - accuracy: 0.2465\n",
            "Epoch 00012: val_loss did not improve from 3.83261\n",
            "634/634 [==============================] - 96s 152ms/step - loss: 4.1196 - accuracy: 0.2465 - val_loss: 4.4662 - val_accuracy: 0.2607\n",
            "Epoch 13/100\n",
            "634/634 [==============================] - ETA: 0s - loss: 4.1623 - accuracy: 0.2408\n",
            "Epoch 00013: val_loss did not improve from 3.83261\n",
            "634/634 [==============================] - 94s 149ms/step - loss: 4.1623 - accuracy: 0.2408 - val_loss: 5.1813 - val_accuracy: 0.1464\n",
            "Epoch 14/100\n",
            "634/634 [==============================] - ETA: 0s - loss: 3.9634 - accuracy: 0.2343\n",
            "Epoch 00014: val_loss did not improve from 3.83261\n",
            "634/634 [==============================] - 95s 149ms/step - loss: 3.9634 - accuracy: 0.2343 - val_loss: 5.5940 - val_accuracy: 0.1607\n",
            "Epoch 15/100\n",
            "634/634 [==============================] - ETA: 0s - loss: 3.7672 - accuracy: 0.2714\n",
            "Epoch 00015: val_loss did not improve from 3.83261\n",
            "634/634 [==============================] - 94s 149ms/step - loss: 3.7672 - accuracy: 0.2714 - val_loss: 6.5980 - val_accuracy: 0.2536\n",
            "Epoch 16/100\n",
            "634/634 [==============================] - ETA: 0s - loss: 3.6265 - accuracy: 0.2925\n",
            "Epoch 00016: val_loss did not improve from 3.83261\n",
            "634/634 [==============================] - 95s 150ms/step - loss: 3.6265 - accuracy: 0.2925 - val_loss: 7.4528 - val_accuracy: 0.1929\n",
            "Epoch 17/100\n",
            "634/634 [==============================] - ETA: 0s - loss: 3.6282 - accuracy: 0.3071\n",
            "Epoch 00017: val_loss did not improve from 3.83261\n",
            "634/634 [==============================] - 94s 149ms/step - loss: 3.6282 - accuracy: 0.3071 - val_loss: 4.4412 - val_accuracy: 0.2857\n",
            "Epoch 18/100\n",
            "634/634 [==============================] - ETA: 0s - loss: 3.6324 - accuracy: 0.3203\n",
            "Epoch 00018: val_loss did not improve from 3.83261\n",
            "634/634 [==============================] - 94s 149ms/step - loss: 3.6324 - accuracy: 0.3203 - val_loss: 5.6778 - val_accuracy: 0.2214\n",
            "Epoch 19/100\n",
            "634/634 [==============================] - ETA: 0s - loss: 3.5660 - accuracy: 0.3375\n",
            "Epoch 00019: val_loss did not improve from 3.83261\n",
            "634/634 [==============================] - 95s 150ms/step - loss: 3.5660 - accuracy: 0.3375 - val_loss: 6.9640 - val_accuracy: 0.2964\n",
            "Epoch 20/100\n",
            "634/634 [==============================] - ETA: 0s - loss: 3.4689 - accuracy: 0.3509\n",
            "Epoch 00020: val_loss improved from 3.83261 to 3.66382, saving model to /content/drive/My Drive/DTD dataset/dtd/Colour_VGG16.h5\n",
            "634/634 [==============================] - 97s 153ms/step - loss: 3.4689 - accuracy: 0.3509 - val_loss: 3.6638 - val_accuracy: 0.3357\n",
            "Epoch 21/100\n",
            "634/634 [==============================] - ETA: 0s - loss: 3.3701 - accuracy: 0.3578\n",
            "Epoch 00021: val_loss improved from 3.66382 to 3.44545, saving model to /content/drive/My Drive/DTD dataset/dtd/Colour_VGG16.h5\n",
            "634/634 [==============================] - 99s 156ms/step - loss: 3.3701 - accuracy: 0.3578 - val_loss: 3.4454 - val_accuracy: 0.3893\n",
            "Epoch 22/100\n",
            "634/634 [==============================] - ETA: 0s - loss: 3.3008 - accuracy: 0.3706\n",
            "Epoch 00022: val_loss did not improve from 3.44545\n",
            "634/634 [==============================] - 96s 152ms/step - loss: 3.3008 - accuracy: 0.3706 - val_loss: 3.5853 - val_accuracy: 0.3857\n",
            "Epoch 23/100\n",
            "634/634 [==============================] - ETA: 0s - loss: 3.2433 - accuracy: 0.3732\n",
            "Epoch 00023: val_loss did not improve from 3.44545\n",
            "634/634 [==============================] - 94s 149ms/step - loss: 3.2433 - accuracy: 0.3732 - val_loss: 4.1824 - val_accuracy: 0.3964\n",
            "Epoch 24/100\n",
            "634/634 [==============================] - ETA: 0s - loss: 3.1987 - accuracy: 0.3754\n",
            "Epoch 00024: val_loss improved from 3.44545 to 3.08274, saving model to /content/drive/My Drive/DTD dataset/dtd/Colour_VGG16.h5\n",
            "634/634 [==============================] - 97s 154ms/step - loss: 3.1987 - accuracy: 0.3754 - val_loss: 3.0827 - val_accuracy: 0.3964\n",
            "Epoch 25/100\n",
            "634/634 [==============================] - ETA: 0s - loss: 3.1639 - accuracy: 0.3886\n",
            "Epoch 00025: val_loss did not improve from 3.08274\n",
            "634/634 [==============================] - 97s 153ms/step - loss: 3.1639 - accuracy: 0.3886 - val_loss: 3.0881 - val_accuracy: 0.4536\n",
            "Epoch 26/100\n",
            "634/634 [==============================] - ETA: 0s - loss: 3.0156 - accuracy: 0.4067\n",
            "Epoch 00026: val_loss did not improve from 3.08274\n",
            "634/634 [==============================] - 95s 149ms/step - loss: 3.0156 - accuracy: 0.4067 - val_loss: 3.2871 - val_accuracy: 0.4321\n",
            "Epoch 27/100\n",
            "634/634 [==============================] - ETA: 0s - loss: 2.9461 - accuracy: 0.4135\n",
            "Epoch 00027: val_loss improved from 3.08274 to 2.94564, saving model to /content/drive/My Drive/DTD dataset/dtd/Colour_VGG16.h5\n",
            "634/634 [==============================] - 98s 154ms/step - loss: 2.9461 - accuracy: 0.4135 - val_loss: 2.9456 - val_accuracy: 0.4393\n",
            "Epoch 28/100\n",
            "634/634 [==============================] - ETA: 0s - loss: 2.8544 - accuracy: 0.4221\n",
            "Epoch 00028: val_loss did not improve from 2.94564\n",
            "634/634 [==============================] - 96s 152ms/step - loss: 2.8544 - accuracy: 0.4221 - val_loss: 6.9226 - val_accuracy: 0.2214\n",
            "Epoch 29/100\n",
            "634/634 [==============================] - ETA: 0s - loss: 2.7803 - accuracy: 0.4371\n",
            "Epoch 00029: val_loss improved from 2.94564 to 2.90185, saving model to /content/drive/My Drive/DTD dataset/dtd/Colour_VGG16.h5\n",
            "634/634 [==============================] - 98s 154ms/step - loss: 2.7803 - accuracy: 0.4371 - val_loss: 2.9019 - val_accuracy: 0.4464\n",
            "Epoch 30/100\n",
            "634/634 [==============================] - ETA: 0s - loss: 2.6913 - accuracy: 0.4563\n",
            "Epoch 00030: val_loss improved from 2.90185 to 2.84727, saving model to /content/drive/My Drive/DTD dataset/dtd/Colour_VGG16.h5\n",
            "634/634 [==============================] - 99s 156ms/step - loss: 2.6913 - accuracy: 0.4563 - val_loss: 2.8473 - val_accuracy: 0.4393\n",
            "Epoch 31/100\n",
            "634/634 [==============================] - ETA: 0s - loss: 2.9260 - accuracy: 0.4127\n",
            "Epoch 00031: val_loss did not improve from 2.84727\n",
            "634/634 [==============================] - 96s 151ms/step - loss: 2.9260 - accuracy: 0.4127 - val_loss: 3.1576 - val_accuracy: 0.4286\n",
            "Epoch 32/100\n",
            "634/634 [==============================] - ETA: 0s - loss: 2.6630 - accuracy: 0.4470\n",
            "Epoch 00032: val_loss did not improve from 2.84727\n",
            "634/634 [==============================] - 95s 150ms/step - loss: 2.6630 - accuracy: 0.4470 - val_loss: 2.9077 - val_accuracy: 0.4250\n",
            "Epoch 33/100\n",
            "634/634 [==============================] - ETA: 0s - loss: 2.5497 - accuracy: 0.4539\n",
            "Epoch 00033: val_loss improved from 2.84727 to 2.72544, saving model to /content/drive/My Drive/DTD dataset/dtd/Colour_VGG16.h5\n",
            "634/634 [==============================] - 99s 155ms/step - loss: 2.5497 - accuracy: 0.4539 - val_loss: 2.7254 - val_accuracy: 0.4857\n",
            "Epoch 34/100\n",
            "634/634 [==============================] - ETA: 0s - loss: 2.5700 - accuracy: 0.4563\n",
            "Epoch 00034: val_loss did not improve from 2.72544\n",
            "634/634 [==============================] - 96s 151ms/step - loss: 2.5700 - accuracy: 0.4563 - val_loss: 3.0945 - val_accuracy: 0.4536\n",
            "Epoch 35/100\n",
            "634/634 [==============================] - ETA: 0s - loss: 2.4581 - accuracy: 0.4612\n",
            "Epoch 00035: val_loss did not improve from 2.72544\n",
            "634/634 [==============================] - 95s 150ms/step - loss: 2.4581 - accuracy: 0.4612 - val_loss: 3.7339 - val_accuracy: 0.4607\n",
            "Epoch 36/100\n",
            "634/634 [==============================] - ETA: 0s - loss: 2.3737 - accuracy: 0.4829\n",
            "Epoch 00036: val_loss did not improve from 2.72544\n",
            "634/634 [==============================] - 94s 149ms/step - loss: 2.3737 - accuracy: 0.4829 - val_loss: 2.8638 - val_accuracy: 0.4607\n",
            "Epoch 37/100\n",
            "634/634 [==============================] - ETA: 0s - loss: 2.3472 - accuracy: 0.4916\n",
            "Epoch 00037: val_loss did not improve from 2.72544\n",
            "634/634 [==============================] - 95s 150ms/step - loss: 2.3472 - accuracy: 0.4916 - val_loss: 2.8214 - val_accuracy: 0.4571\n",
            "Epoch 38/100\n",
            "634/634 [==============================] - ETA: 0s - loss: 2.3156 - accuracy: 0.4932\n",
            "Epoch 00038: val_loss did not improve from 2.72544\n",
            "634/634 [==============================] - 95s 150ms/step - loss: 2.3156 - accuracy: 0.4932 - val_loss: 6.2050 - val_accuracy: 0.4429\n",
            "Epoch 39/100\n",
            "634/634 [==============================] - ETA: 0s - loss: 2.2669 - accuracy: 0.5005\n",
            "Epoch 00039: val_loss did not improve from 2.72544\n",
            "634/634 [==============================] - 94s 149ms/step - loss: 2.2669 - accuracy: 0.5005 - val_loss: 2.7269 - val_accuracy: 0.4464\n",
            "Epoch 40/100\n",
            "634/634 [==============================] - ETA: 0s - loss: 2.2576 - accuracy: 0.4940\n",
            "Epoch 00040: val_loss improved from 2.72544 to 2.59008, saving model to /content/drive/My Drive/DTD dataset/dtd/Colour_VGG16.h5\n",
            "634/634 [==============================] - 98s 154ms/step - loss: 2.2576 - accuracy: 0.4940 - val_loss: 2.5901 - val_accuracy: 0.4536\n",
            "Epoch 41/100\n",
            "634/634 [==============================] - ETA: 0s - loss: 2.2994 - accuracy: 0.4762\n",
            "Epoch 00041: val_loss improved from 2.59008 to 2.44288, saving model to /content/drive/My Drive/DTD dataset/dtd/Colour_VGG16.h5\n",
            "634/634 [==============================] - 99s 157ms/step - loss: 2.2994 - accuracy: 0.4762 - val_loss: 2.4429 - val_accuracy: 0.5000\n",
            "Epoch 42/100\n",
            "634/634 [==============================] - ETA: 0s - loss: 2.1940 - accuracy: 0.5100\n",
            "Epoch 00042: val_loss did not improve from 2.44288\n",
            "634/634 [==============================] - 96s 151ms/step - loss: 2.1940 - accuracy: 0.5100 - val_loss: 2.9191 - val_accuracy: 0.4643\n",
            "Epoch 43/100\n",
            "634/634 [==============================] - ETA: 0s - loss: 2.1746 - accuracy: 0.5110\n",
            "Epoch 00043: val_loss did not improve from 2.44288\n",
            "634/634 [==============================] - 94s 149ms/step - loss: 2.1746 - accuracy: 0.5110 - val_loss: 2.5259 - val_accuracy: 0.4464\n",
            "Epoch 44/100\n",
            "634/634 [==============================] - ETA: 0s - loss: 2.3120 - accuracy: 0.4744\n",
            "Epoch 00044: val_loss did not improve from 2.44288\n",
            "634/634 [==============================] - 94s 149ms/step - loss: 2.3120 - accuracy: 0.4744 - val_loss: 3.1556 - val_accuracy: 0.4250\n",
            "Epoch 45/100\n",
            "634/634 [==============================] - ETA: 0s - loss: 2.5113 - accuracy: 0.4178\n",
            "Epoch 00045: val_loss did not improve from 2.44288\n",
            "634/634 [==============================] - 95s 149ms/step - loss: 2.5113 - accuracy: 0.4178 - val_loss: 2.6006 - val_accuracy: 0.4321\n",
            "Epoch 46/100\n",
            "634/634 [==============================] - ETA: 0s - loss: 2.2810 - accuracy: 0.4658\n",
            "Epoch 00046: val_loss did not improve from 2.44288\n",
            "634/634 [==============================] - 94s 148ms/step - loss: 2.2810 - accuracy: 0.4658 - val_loss: 2.8033 - val_accuracy: 0.4321\n",
            "Epoch 47/100\n",
            "634/634 [==============================] - ETA: 0s - loss: 2.1704 - accuracy: 0.4979\n",
            "Epoch 00047: val_loss did not improve from 2.44288\n",
            "634/634 [==============================] - 94s 149ms/step - loss: 2.1704 - accuracy: 0.4979 - val_loss: 2.6041 - val_accuracy: 0.4893\n",
            "Epoch 48/100\n",
            "634/634 [==============================] - ETA: 0s - loss: 2.1081 - accuracy: 0.5141\n",
            "Epoch 00048: val_loss did not improve from 2.44288\n",
            "634/634 [==============================] - 95s 150ms/step - loss: 2.1081 - accuracy: 0.5141 - val_loss: 2.6160 - val_accuracy: 0.4750\n",
            "Epoch 49/100\n",
            "634/634 [==============================] - ETA: 0s - loss: 2.0574 - accuracy: 0.5206\n",
            "Epoch 00049: val_loss did not improve from 2.44288\n",
            "634/634 [==============================] - 94s 149ms/step - loss: 2.0574 - accuracy: 0.5206 - val_loss: 2.5368 - val_accuracy: 0.4679\n",
            "Epoch 50/100\n",
            "634/634 [==============================] - ETA: 0s - loss: 2.0717 - accuracy: 0.5242\n",
            "Epoch 00050: val_loss did not improve from 2.44288\n",
            "634/634 [==============================] - 95s 149ms/step - loss: 2.0717 - accuracy: 0.5242 - val_loss: 3.0214 - val_accuracy: 0.4607\n",
            "Epoch 51/100\n",
            "634/634 [==============================] - ETA: 0s - loss: 2.3694 - accuracy: 0.4523\n",
            "Epoch 00051: val_loss did not improve from 2.44288\n",
            "634/634 [==============================] - 95s 150ms/step - loss: 2.3694 - accuracy: 0.4523 - val_loss: 2.7182 - val_accuracy: 0.4750\n",
            "Epoch 52/100\n",
            "634/634 [==============================] - ETA: 0s - loss: 2.3215 - accuracy: 0.4794\n",
            "Epoch 00052: val_loss did not improve from 2.44288\n",
            "634/634 [==============================] - 95s 150ms/step - loss: 2.3215 - accuracy: 0.4794 - val_loss: 2.8518 - val_accuracy: 0.4393\n",
            "Epoch 53/100\n",
            "634/634 [==============================] - ETA: 0s - loss: 2.4760 - accuracy: 0.4440\n",
            "Epoch 00053: val_loss did not improve from 2.44288\n",
            "634/634 [==============================] - 94s 149ms/step - loss: 2.4760 - accuracy: 0.4440 - val_loss: 2.7474 - val_accuracy: 0.4500\n",
            "Epoch 54/100\n",
            "634/634 [==============================] - ETA: 0s - loss: 2.1768 - accuracy: 0.5035\n",
            "Epoch 00054: val_loss did not improve from 2.44288\n",
            "634/634 [==============================] - 95s 149ms/step - loss: 2.1768 - accuracy: 0.5035 - val_loss: 2.7982 - val_accuracy: 0.4786\n",
            "Epoch 55/100\n",
            "634/634 [==============================] - ETA: 0s - loss: 2.0556 - accuracy: 0.5374\n",
            "Epoch 00055: val_loss did not improve from 2.44288\n",
            "634/634 [==============================] - 95s 149ms/step - loss: 2.0556 - accuracy: 0.5374 - val_loss: 2.9230 - val_accuracy: 0.4464\n",
            "Epoch 56/100\n",
            "634/634 [==============================] - ETA: 0s - loss: 2.0132 - accuracy: 0.5384\n",
            "Epoch 00056: val_loss did not improve from 2.44288\n",
            "634/634 [==============================] - 94s 149ms/step - loss: 2.0132 - accuracy: 0.5384 - val_loss: 2.7502 - val_accuracy: 0.4714\n",
            "Epoch 57/100\n",
            "634/634 [==============================] - ETA: 0s - loss: 1.9880 - accuracy: 0.5455\n",
            "Epoch 00057: val_loss did not improve from 2.44288\n",
            "634/634 [==============================] - 95s 149ms/step - loss: 1.9880 - accuracy: 0.5455 - val_loss: 2.6187 - val_accuracy: 0.4679\n",
            "Epoch 58/100\n",
            "634/634 [==============================] - ETA: 0s - loss: 2.0850 - accuracy: 0.5382\n",
            "Epoch 00058: val_loss did not improve from 2.44288\n",
            "634/634 [==============================] - 95s 150ms/step - loss: 2.0850 - accuracy: 0.5382 - val_loss: 2.6814 - val_accuracy: 0.4964\n",
            "Epoch 59/100\n",
            "634/634 [==============================] - ETA: 0s - loss: 2.0352 - accuracy: 0.5538\n",
            "Epoch 00059: val_loss did not improve from 2.44288\n",
            "634/634 [==============================] - 95s 150ms/step - loss: 2.0352 - accuracy: 0.5538 - val_loss: 2.5995 - val_accuracy: 0.4964\n",
            "Epoch 60/100\n",
            "634/634 [==============================] - ETA: 0s - loss: 1.9724 - accuracy: 0.5569\n",
            "Epoch 00060: val_loss did not improve from 2.44288\n",
            "634/634 [==============================] - 95s 149ms/step - loss: 1.9724 - accuracy: 0.5569 - val_loss: 2.5170 - val_accuracy: 0.4857\n",
            "Epoch 61/100\n",
            "634/634 [==============================] - ETA: 0s - loss: 1.9666 - accuracy: 0.5571Restoring model weights from the end of the best epoch.\n",
            "\n",
            "Epoch 00061: val_loss did not improve from 2.44288\n",
            "\n",
            "Epoch 00061: ReduceLROnPlateau reducing learning rate to 0.00020000000949949026.\n",
            "634/634 [==============================] - 95s 150ms/step - loss: 1.9666 - accuracy: 0.5571 - val_loss: 2.5051 - val_accuracy: 0.5071\n",
            "Epoch 00061: early stopping\n"
          ],
          "name": "stdout"
        }
      ]
    },
    {
      "cell_type": "code",
      "metadata": {
        "id": "-UEGFUxkswRb",
        "colab_type": "code",
        "colab": {
          "base_uri": "https://localhost:8080/",
          "height": 295
        },
        "outputId": "ebf9801c-f3a1-4952-f508-053c006957c6"
      },
      "source": [
        "import matplotlib.pyplot as plt\n",
        "plt.plot(hist.history[\"accuracy\"])\n",
        "plt.plot(hist.history['val_accuracy'])\n",
        "plt.title(\"model accuracy\")\n",
        "plt.ylabel(\"Accuracy\")\n",
        "plt.xlabel(\"Epoch\")\n",
        "plt.legend([\"Accuracy\",\"Validation Accuracy\"])\n",
        "plt.show()"
      ],
      "execution_count": null,
      "outputs": [
        {
          "output_type": "display_data",
          "data": {
            "image/png": "[encoded data removed]",
            "text/plain": [
              "<Figure size 432x288 with 1 Axes>"
            ]
          },
          "metadata": {
            "tags": [],
            "needs_background": "light"
          }
        }
      ]
    },
    {
      "cell_type": "code",
      "metadata": {
        "id": "KlsUF2wssyp5",
        "colab_type": "code",
        "colab": {
          "base_uri": "https://localhost:8080/",
          "height": 295
        },
        "outputId": "deb5cd45-d40e-4e3f-cde5-4f1fd97b8a0a"
      },
      "source": [
        "plt.plot(hist.history['loss'])\n",
        "plt.plot(hist.history['val_loss'])\n",
        "plt.title(\"model Loss\")\n",
        "plt.ylabel(\"Loss\")\n",
        "plt.xlabel(\"Epoch\")\n",
        "plt.legend([\"Loss\",\"Validation Loss\"])\n",
        "plt.show()"
      ],
      "execution_count": null,
      "outputs": [
        {
          "output_type": "display_data",
          "data": {
            "image/png": "[encoded data removed]",
            "text/plain": [
              "<Figure size 432x288 with 1 Axes>"
            ]
          },
          "metadata": {
            "tags": [],
            "needs_background": "light"
          }
        }
      ]
    },
    {
      "cell_type": "code",
      "metadata": {
        "id": "JoUyaqSjs0Za",
        "colab_type": "code",
        "colab": {
          "base_uri": "https://localhost:8080/",
          "height": 34
        },
        "outputId": "9fffeb10-1099-4481-c73c-5cc5ece53a1f"
      },
      "source": [
        "Colour_TestData = TestGenerator.flow_from_directory('/content/drive/My Drive/DTD dataset/dtd/Test/', target_size=(224,224), batch_size = 8, shuffle = False)"
      ],
      "execution_count": null,
      "outputs": [
        {
          "output_type": "stream",
          "text": [
            "Found 283 images belonging to 47 classes.\n"
          ],
          "name": "stdout"
        }
      ]
    },
    {
      "cell_type": "code",
      "metadata": {
        "id": "gdP2WfcJNeQr",
        "colab_type": "code",
        "colab": {}
      },
      "source": [
        "colour_model.load_weights('/content/drive/My Drive/DTD dataset/dtd/Colour_VGG16.h5')"
      ],
      "execution_count": null,
      "outputs": []
    },
    {
      "cell_type": "code",
      "metadata": {
        "id": "mw0g0j51s2pH",
        "colab_type": "code",
        "colab": {}
      },
      "source": [
        "Colour_predict = colour_model.predict(Colour_TestData)"
      ],
      "execution_count": null,
      "outputs": []
    },
    {
      "cell_type": "code",
      "metadata": {
        "id": "cNUbOHXGs4ce",
        "colab_type": "code",
        "colab": {}
      },
      "source": [
        "Colour_predict_classes = np.argmax(Colour_predict, axis=1)"
      ],
      "execution_count": null,
      "outputs": []
    },
    {
      "cell_type": "code",
      "metadata": {
        "id": "2I3mZNGjs6YL",
        "colab_type": "code",
        "colab": {
          "base_uri": "https://localhost:8080/",
          "height": 306
        },
        "outputId": "c69e8b66-78c1-45cf-b013-200a8279d9e5"
      },
      "source": [
        "Colour_predict_classes"
      ],
      "execution_count": null,
      "outputs": [
        {
          "output_type": "execute_result",
          "data": {
            "text/plain": [
              "array([ 0,  0,  0,  0,  5,  0, 23, 14, 14, 41, 23, 33,  2,  2, 20, 44,  2,\n",
              "       13,  3, 14, 41, 40,  3, 36, 33,  4, 36, 40,  3,  4,  5,  5,  5,  5,\n",
              "       18,  5,  6,  6,  6, 17,  6,  6,  7, 32,  7,  7, 23,  7, 19, 44,  8,\n",
              "        8,  2,  8, 23,  9,  9,  9,  9, 14, 10, 30, 30, 10, 10, 10, 26, 23,\n",
              "       23, 24, 11, 26, 12, 12,  3, 32, 17,  3, 13, 13, 36, 36, 13, 13, 14,\n",
              "       14, 14, 35, 14, 14, 15, 15, 17,  9, 33, 15, 16, 16, 16, 16, 16,  5,\n",
              "       17, 17, 42, 39, 17, 17,  9, 18, 42, 25,  5, 18, 19,  6, 26, 19, 21,\n",
              "       26, 20, 20, 20, 20, 21, 20, 26, 21, 21, 21, 21, 26, 17, 22, 22, 22,\n",
              "       22, 22,  3, 28, 15, 14, 23, 23,  3, 24, 23,  1, 24, 39, 25, 25, 16,\n",
              "       27, 16, 25, 26,  3, 26, 26, 26, 26, 16, 30, 27, 10, 40, 30,  3, 31,\n",
              "       36, 28, 36, 31, 29, 17, 17, 17, 29, 29, 27, 10, 30, 30, 30, 10, 32,\n",
              "       12, 23, 28, 13, 28, 32, 32, 32, 32, 32, 32, 18, 44, 20, 33, 33,  6,\n",
              "        9, 36, 42, 24, 36, 13, 35, 14, 45, 35, 35, 35, 36, 12, 16, 36, 36,\n",
              "       36, 15,  9, 35,  1,  1, 23, 32, 24, 38, 17, 38, 38, 17, 42, 39, 39,\n",
              "       39, 39, 40, 40, 40, 40, 40, 40, 41, 41, 41, 26, 26, 42, 42, 42, 42,\n",
              "       42, 42, 38, 43, 43, 16, 42, 43, 43, 43, 38, 44, 16, 27, 16, 44, 45,\n",
              "       14, 23, 45, 45, 45, 46, 46, 46,  5, 46, 46])"
            ]
          },
          "metadata": {
            "tags": []
          },
          "execution_count": 58
        }
      ]
    },
    {
      "cell_type": "code",
      "metadata": {
        "id": "rW4GMRbYs9oC",
        "colab_type": "code",
        "colab": {
          "base_uri": "https://localhost:8080/",
          "height": 34
        },
        "outputId": "f5156474-9a18-4dcd-99bb-4399f519c116"
      },
      "source": [
        "Colour_accuracy = accuracy_score(Colour_TestData.classes, Colour_predict_classes)\n",
        "print(\"Colour Accuracy: \", Colour_accuracy)"
      ],
      "execution_count": null,
      "outputs": [
        {
          "output_type": "stream",
          "text": [
            "Colour Accuracy:  0.5371024734982333\n"
          ],
          "name": "stdout"
        }
      ]
    },
    {
      "cell_type": "code",
      "metadata": {
        "id": "8bzqgPcps_Jq",
        "colab_type": "code",
        "colab": {
          "base_uri": "https://localhost:8080/",
          "height": 88
        },
        "outputId": "86ad28d2-ba1b-4bd8-d5bb-ab1883da61aa"
      },
      "source": [
        "Colour_precision = precision_score(Colour_TestData.classes, Colour_predict_classes,average=\"weighted\")\n",
        "print(\"Colour Precision: \", Colour_precision)"
      ],
      "execution_count": null,
      "outputs": [
        {
          "output_type": "stream",
          "text": [
            "Colour Precision:  0.565186521370267\n"
          ],
          "name": "stdout"
        },
        {
          "output_type": "stream",
          "text": [
            "/usr/local/lib/python3.6/dist-packages/sklearn/metrics/_classification.py:1272: UndefinedMetricWarning: Precision is ill-defined and being set to 0.0 in labels with no predicted samples. Use `zero_division` parameter to control this behavior.\n",
            "  _warn_prf(average, modifier, msg_start, len(result))\n"
          ],
          "name": "stderr"
        }
      ]
    },
    {
      "cell_type": "code",
      "metadata": {
        "id": "P9zzsu-QtBAq",
        "colab_type": "code",
        "colab": {
          "base_uri": "https://localhost:8080/",
          "height": 34
        },
        "outputId": "ac8642be-8a2a-49fa-a337-bf9db601c2a5"
      },
      "source": [
        "Colour_recall = recall_score(Colour_TestData.classes, Colour_predict_classes, average=\"weighted\")\n",
        "print(\"Colour Recall:\", Colour_recall)"
      ],
      "execution_count": null,
      "outputs": [
        {
          "output_type": "stream",
          "text": [
            "Colour Recall: 0.5371024734982333\n"
          ],
          "name": "stdout"
        }
      ]
    },
    {
      "cell_type": "code",
      "metadata": {
        "id": "onT8nQFrtFr7",
        "colab_type": "code",
        "colab": {
          "base_uri": "https://localhost:8080/",
          "height": 34
        },
        "outputId": "7a848a66-5f24-44f6-d848-07d2c3bd749a"
      },
      "source": [
        "Colour_f1_score = f1_score(Colour_TestData.classes, Colour_predict_classes, average=\"weighted\")\n",
        "print(\"F1 score for colour: \", Colour_f1_score)"
      ],
      "execution_count": null,
      "outputs": [
        {
          "output_type": "stream",
          "text": [
            "F1 score for colour:  0.5197832882546642\n"
          ],
          "name": "stdout"
        }
      ]
    },
    {
      "cell_type": "code",
      "metadata": {
        "id": "D7-3CnzytUDt",
        "colab_type": "code",
        "colab": {}
      },
      "source": [
        "Final = 0.6* Colour_predict + 0.4* Grey_predict"
      ],
      "execution_count": null,
      "outputs": []
    },
    {
      "cell_type": "code",
      "metadata": {
        "id": "bR9VQJCBtWZd",
        "colab_type": "code",
        "colab": {}
      },
      "source": [
        "Final_Predict_classes = np.argmax(Final, axis=1)"
      ],
      "execution_count": null,
      "outputs": []
    },
    {
      "cell_type": "code",
      "metadata": {
        "id": "a_TZEm44tZVX",
        "colab_type": "code",
        "colab": {
          "base_uri": "https://localhost:8080/",
          "height": 34
        },
        "outputId": "2ec95b45-9a41-4c68-a2b1-23bf4f823073"
      },
      "source": [
        "Final_accuracy = accuracy_score(Colour_TestData.classes, Final_Predict_classes)\n",
        "print(\"Colour Accuracy: \", Final_accuracy)"
      ],
      "execution_count": null,
      "outputs": [
        {
          "output_type": "stream",
          "text": [
            "Colour Accuracy:  0.568904593639576\n"
          ],
          "name": "stdout"
        }
      ]
    },
    {
      "cell_type": "code",
      "metadata": {
        "id": "w7Cxr4SStaWy",
        "colab_type": "code",
        "colab": {
          "base_uri": "https://localhost:8080/",
          "height": 88
        },
        "outputId": "d8fd4f64-cae6-4feb-de92-f8a28350665b"
      },
      "source": [
        "Final_precision = precision_score(Colour_TestData.classes, Final_Predict_classes,average=\"weighted\")\n",
        "print(\"Colour Precision: \", Final_precision)"
      ],
      "execution_count": null,
      "outputs": [
        {
          "output_type": "stream",
          "text": [
            "Colour Precision:  0.594601864566529\n"
          ],
          "name": "stdout"
        },
        {
          "output_type": "stream",
          "text": [
            "/usr/local/lib/python3.6/dist-packages/sklearn/metrics/_classification.py:1272: UndefinedMetricWarning: Precision is ill-defined and being set to 0.0 in labels with no predicted samples. Use `zero_division` parameter to control this behavior.\n",
            "  _warn_prf(average, modifier, msg_start, len(result))\n"
          ],
          "name": "stderr"
        }
      ]
    },
    {
      "cell_type": "code",
      "metadata": {
        "id": "ic6zEgqltciJ",
        "colab_type": "code",
        "colab": {
          "base_uri": "https://localhost:8080/",
          "height": 34
        },
        "outputId": "8a8d4db2-df8a-4271-8942-f49ffd631c44"
      },
      "source": [
        "Final_recall = recall_score(Colour_TestData.classes, Final_Predict_classes, average=\"weighted\")\n",
        "print(\"Colour Recall:\", Final_recall)"
      ],
      "execution_count": null,
      "outputs": [
        {
          "output_type": "stream",
          "text": [
            "Colour Recall: 0.568904593639576\n"
          ],
          "name": "stdout"
        }
      ]
    },
    {
      "cell_type": "code",
      "metadata": {
        "id": "IvZe1zlXtelX",
        "colab_type": "code",
        "colab": {
          "base_uri": "https://localhost:8080/",
          "height": 34
        },
        "outputId": "8522ac3e-a8df-48e1-a97b-26ee2c7f24ab"
      },
      "source": [
        "Final_f1_score = f1_score(Colour_TestData.classes, Final_Predict_classes, average=\"weighted\")\n",
        "print(\"F1 score for colour: \", Final_f1_score)"
      ],
      "execution_count": null,
      "outputs": [
        {
          "output_type": "stream",
          "text": [
            "F1 score for colour:  0.5469212702280563\n"
          ],
          "name": "stdout"
        }
      ]
    },
    {
      "cell_type": "code",
      "metadata": {
        "id": "5iNFaHHDjQhI",
        "colab_type": "code",
        "colab": {}
      },
      "source": [
        "Second_final = 0.5* Colour_predict + 0.5* Grey_predict"
      ],
      "execution_count": null,
      "outputs": []
    },
    {
      "cell_type": "code",
      "metadata": {
        "id": "Zdi2PO5tjZqN",
        "colab_type": "code",
        "colab": {}
      },
      "source": [
        "Second_Final_Predict_classes = np.argmax(Second_final, axis=1)"
      ],
      "execution_count": null,
      "outputs": []
    },
    {
      "cell_type": "code",
      "metadata": {
        "id": "cV7YFSNkjlCO",
        "colab_type": "code",
        "colab": {
          "base_uri": "https://localhost:8080/",
          "height": 34
        },
        "outputId": "8ba690f6-2ad5-45c4-dea3-7658d005fec1"
      },
      "source": [
        "Mean_Final_accuracy = accuracy_score(Colour_TestData.classes, Second_Final_Predict_classes)\n",
        "print(\"Colour Accuracy: \", Mean_Final_accuracy)"
      ],
      "execution_count": null,
      "outputs": [
        {
          "output_type": "stream",
          "text": [
            "Colour Accuracy:  0.5547703180212014\n"
          ],
          "name": "stdout"
        }
      ]
    },
    {
      "cell_type": "code",
      "metadata": {
        "id": "G6nv3XoY3VJR",
        "colab_type": "code",
        "colab": {
          "base_uri": "https://localhost:8080/",
          "height": 88
        },
        "outputId": "f4a57130-56a1-4206-bd98-4ff2e47fbd32"
      },
      "source": [
        "Mean_Precision = precision_score(Colour_TestData.classes, Second_Final_Predict_classes, average=\"weighted\")\n",
        "Mean_Precision"
      ],
      "execution_count": null,
      "outputs": [
        {
          "output_type": "stream",
          "text": [
            "/usr/local/lib/python3.6/dist-packages/sklearn/metrics/_classification.py:1272: UndefinedMetricWarning: Precision is ill-defined and being set to 0.0 in labels with no predicted samples. Use `zero_division` parameter to control this behavior.\n",
            "  _warn_prf(average, modifier, msg_start, len(result))\n"
          ],
          "name": "stderr"
        },
        {
          "output_type": "execute_result",
          "data": {
            "text/plain": [
              "0.5724538418001316"
            ]
          },
          "metadata": {
            "tags": []
          },
          "execution_count": 72
        }
      ]
    },
    {
      "cell_type": "code",
      "metadata": {
        "id": "Pacf3YdS3qCv",
        "colab_type": "code",
        "colab": {
          "base_uri": "https://localhost:8080/",
          "height": 34
        },
        "outputId": "51c91493-ff42-421a-a024-db49ce32937b"
      },
      "source": [
        "Mean_Recall = recall_score(Colour_TestData.classes, Second_Final_Predict_classes, average=\"weighted\")\n",
        "Mean_Recall"
      ],
      "execution_count": null,
      "outputs": [
        {
          "output_type": "execute_result",
          "data": {
            "text/plain": [
              "0.5547703180212014"
            ]
          },
          "metadata": {
            "tags": []
          },
          "execution_count": 73
        }
      ]
    },
    {
      "cell_type": "code",
      "metadata": {
        "id": "-7gPBv5i36IA",
        "colab_type": "code",
        "colab": {
          "base_uri": "https://localhost:8080/",
          "height": 34
        },
        "outputId": "9919b725-706e-4717-bfc0-25d03ec139e1"
      },
      "source": [
        "Mean_F1Score = f1_score(Colour_TestData.classes, Second_Final_Predict_classes, average=\"weighted\")\n",
        "Mean_F1Score"
      ],
      "execution_count": null,
      "outputs": [
        {
          "output_type": "execute_result",
          "data": {
            "text/plain": [
              "0.5342075578408981"
            ]
          },
          "metadata": {
            "tags": []
          },
          "execution_count": 74
        }
      ]
    },
    {
      "cell_type": "code",
      "metadata": {
        "id": "t9ORL0NfNkm3",
        "colab_type": "code",
        "colab": {}
      },
      "source": [
        "Final = 0.8* Colour_predict + 0.2* Grey_predict"
      ],
      "execution_count": null,
      "outputs": []
    },
    {
      "cell_type": "code",
      "metadata": {
        "id": "PFNcH0FqNrS1",
        "colab_type": "code",
        "colab": {}
      },
      "source": [
        "Final_Predict_classes = np.argmax(Final, axis=1)"
      ],
      "execution_count": null,
      "outputs": []
    },
    {
      "cell_type": "code",
      "metadata": {
        "id": "_QrJ9RSINvab",
        "colab_type": "code",
        "colab": {
          "base_uri": "https://localhost:8080/",
          "height": 34
        },
        "outputId": "b1ce0108-2979-437b-ff46-ab9e203e0239"
      },
      "source": [
        "Final_accuracy = accuracy_score(Colour_TestData.classes, Final_Predict_classes)\n",
        "print(\"Colour Accuracy: \", Final_accuracy)"
      ],
      "execution_count": null,
      "outputs": [
        {
          "output_type": "stream",
          "text": [
            "Colour Accuracy:  0.5406360424028268\n"
          ],
          "name": "stdout"
        }
      ]
    }
  ]
}