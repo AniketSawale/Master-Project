{
  "nbformat": 4,
  "nbformat_minor": 0,
  "metadata": {
    "colab": {
      "name": "Inception_Resnet_v2_DTD.ipynb",
      "provenance": [],
      "collapsed_sections": [],
      "machine_shape": "hm"
    },
    "kernelspec": {
      "name": "python3",
      "display_name": "Python 3"
    },
    "accelerator": "GPU"
  },
  "cells": [
    {
      "cell_type": "code",
      "metadata": {
        "id": "Rol3LfN3uqPl",
        "colab_type": "code",
        "colab": {
          "base_uri": "https://localhost:8080/",
          "height": 122
        },
        "outputId": "92a5e77f-74d7-41ab-812e-3b4a3560951f"
      },
      "source": [
        "from google.colab import drive\n",
        "drive.mount('/content/drive')"
      ],
      "execution_count": null,
      "outputs": [
        {
          "output_type": "stream",
          "text": [
            "Go to this URL in a browser: https://accounts.google.com/o/oauth2/auth?client_id=947318989803-6bn6qk8qdgf4n4g3pfee6491hc0brc4i.apps.googleusercontent.com&redirect_uri=urn%3aietf%3awg%3aoauth%3a2.0%3aoob&scope=email%20https%3a%2f%2fwww.googleapis.com%2fauth%2fdocs.test%20https%3a%2f%2fwww.googleapis.com%2fauth%2fdrive%20https%3a%2f%2fwww.googleapis.com%2fauth%2fdrive.photos.readonly%20https%3a%2f%2fwww.googleapis.com%2fauth%2fpeopleapi.readonly&response_type=code\n",
            "\n",
            "Enter your authorization code:\n",
            "··········\n",
            "Mounted at /content/drive\n"
          ],
          "name": "stdout"
        }
      ]
    },
    {
      "cell_type": "code",
      "metadata": {
        "id": "50u3cEInvIVG",
        "colab_type": "code",
        "colab": {}
      },
      "source": [
        "# Importing the Libraries.\n",
        "import keras\n",
        "import os\n",
        "from keras.models import Sequential\n",
        "from keras.layers import Dense, Conv2D, MaxPool2D, Flatten, Dropout\n",
        "from keras.preprocessing.image import ImageDataGenerator\n",
        "import numpy as np\n",
        "#import keras.backend as K\n",
        "import tensorflow.keras.backend as K\n",
        "import tensorflow.compat.v1 as tf\n",
        "from os import listdir\n",
        "from os.path import isfile, join\n",
        "import numpy as np\n",
        "import sys\n",
        "import os\n",
        "import shutil\n",
        "import pandas as pd\n",
        "from PIL import Image\n",
        "import cv2\n",
        "import keras\n",
        "import glob\n",
        "from PIL import Image\n",
        "from keras.preprocessing.image import img_to_array\n",
        "from sklearn.preprocessing import MultiLabelBinarizer\n",
        "from keras import models, regularizers, layers, optimizers, losses, metrics\n",
        "from keras.applications.resnet50 import ResNet50\n",
        "from keras.preprocessing.image import ImageDataGenerator\n",
        "from keras.models import Sequential\n",
        "from keras.layers import Dense, Dropout, Activation, Flatten, MaxPool2D\n",
        "from keras.layers import Convolution2D, MaxPooling2D, ZeroPadding2D\n",
        "from keras.layers import AveragePooling2D\n",
        "from keras.models import load_model\n",
        "from keras.layers.pooling import GlobalAveragePooling2D\n",
        "from keras.layers.normalization import BatchNormalization\n",
        "from keras.models import Model\n",
        "from keras.optimizers import Adam, SGD\n",
        "from keras.callbacks import ModelCheckpoint, EarlyStopping\n",
        "from sklearn.preprocessing import LabelEncoder, OneHotEncoder\n",
        "from PIL import ImageFile"
      ],
      "execution_count": null,
      "outputs": []
    },
    {
      "cell_type": "code",
      "metadata": {
        "id": "Xbxl1Zn_vN5A",
        "colab_type": "code",
        "colab": {}
      },
      "source": [
        "tf.enable_eager_execution()"
      ],
      "execution_count": null,
      "outputs": []
    },
    {
      "cell_type": "code",
      "metadata": {
        "id": "BkKt62czvRnk",
        "colab_type": "code",
        "colab": {}
      },
      "source": [
        "ImageFile.LOAD_TRUNCATED_IMAGES = True"
      ],
      "execution_count": null,
      "outputs": []
    },
    {
      "cell_type": "code",
      "metadata": {
        "id": "8HAO1Ue3vUOc",
        "colab_type": "code",
        "colab": {}
      },
      "source": [
        "# Data Augmentation.\n",
        "DataGenerator = ImageDataGenerator(horizontal_flip=True, vertical_flip=True, brightness_range=[0.2,0.7], rescale=1./255, zoom_range = [0.5,1.0])"
      ],
      "execution_count": null,
      "outputs": []
    },
    {
      "cell_type": "code",
      "metadata": {
        "id": "lRbErZmBvYTK",
        "colab_type": "code",
        "colab": {}
      },
      "source": [
        "TestGenerator = ImageDataGenerator(rescale=1./255)"
      ],
      "execution_count": null,
      "outputs": []
    },
    {
      "cell_type": "code",
      "metadata": {
        "id": "ByuD91mKvbDt",
        "colab_type": "code",
        "colab": {
          "base_uri": "https://localhost:8080/",
          "height": 34
        },
        "outputId": "9d9e3368-03c8-4ddb-c74a-eb1abf908574"
      },
      "source": [
        "Grey_TrainingData = DataGenerator.flow_from_directory('/content/drive/My Drive/DTD dataset/dtd/Train/', target_size=(224,224), batch_size=8, color_mode='grayscale')"
      ],
      "execution_count": null,
      "outputs": [
        {
          "output_type": "stream",
          "text": [
            "Found 5075 images belonging to 47 classes.\n"
          ],
          "name": "stdout"
        }
      ]
    },
    {
      "cell_type": "code",
      "metadata": {
        "id": "hPvS2jDhvg29",
        "colab_type": "code",
        "colab": {
          "base_uri": "https://localhost:8080/",
          "height": 34
        },
        "outputId": "cd735762-0e7e-4114-c6d2-14793b16fb6a"
      },
      "source": [
        "Grey_ValidData = TestGenerator.flow_from_directory('/content/drive/My Drive/DTD dataset/dtd/Valid/', target_size=(224,224), batch_size=8, color_mode='grayscale')"
      ],
      "execution_count": null,
      "outputs": [
        {
          "output_type": "stream",
          "text": [
            "Found 282 images belonging to 47 classes.\n"
          ],
          "name": "stdout"
        }
      ]
    },
    {
      "cell_type": "code",
      "metadata": {
        "id": "9cIY40F0vkZ_",
        "colab_type": "code",
        "colab": {}
      },
      "source": [
        "gpu_options = tf.GPUOptions(allow_growth=True)\n",
        "session = tf.InteractiveSession(config=tf.ConfigProto(gpu_options=gpu_options))"
      ],
      "execution_count": null,
      "outputs": []
    },
    {
      "cell_type": "code",
      "metadata": {
        "id": "qotSK1tyvnln",
        "colab_type": "code",
        "colab": {}
      },
      "source": [
        "from keras.applications.inception_resnet_v2 import InceptionResNetV2"
      ],
      "execution_count": null,
      "outputs": []
    },
    {
      "cell_type": "code",
      "metadata": {
        "id": "A3yrfGQVwxTC",
        "colab_type": "code",
        "colab": {
          "base_uri": "https://localhost:8080/",
          "height": 51
        },
        "outputId": "ac7bf67a-9b9d-45b9-8885-4d4983d4b9c7"
      },
      "source": [
        "conv_base = InceptionResNetV2(weights = 'imagenet', include_top = False, pooling = 'avg')"
      ],
      "execution_count": null,
      "outputs": [
        {
          "output_type": "stream",
          "text": [
            "Downloading data from https://storage.googleapis.com/tensorflow/keras-applications/inception_resnet_v2/inception_resnet_v2_weights_tf_dim_ordering_tf_kernels_notop.h5\n",
            "219062272/219055592 [==============================] - 5s 0us/step\n"
          ],
          "name": "stdout"
        }
      ]
    },
    {
      "cell_type": "code",
      "metadata": {
        "id": "nGlTaIpwyQ9u",
        "colab_type": "code",
        "colab": {}
      },
      "source": [
        "for layer in conv_base.layers[:765]:\n",
        "  layer.trainable = False\n",
        "for layer in conv_base.layers[765:]:\n",
        "  layer.trainable = True\n",
        "for layer in conv_base.layers:\n",
        "  if isinstance(layer, BatchNormalization):\n",
        "    layer.trainable = True"
      ],
      "execution_count": null,
      "outputs": []
    },
    {
      "cell_type": "code",
      "metadata": {
        "id": "TwI81Maa5eZI",
        "colab_type": "code",
        "colab": {
          "base_uri": "https://localhost:8080/",
          "height": 1000
        },
        "outputId": "b6709f1c-8dd3-495f-9a71-c6a894104dd9"
      },
      "source": [
        "for i, layer in enumerate(conv_base.layers):\n",
        "  print(i, layer.name, layer.trainable)"
      ],
      "execution_count": null,
      "outputs": [
        {
          "output_type": "stream",
          "text": [
            "0 input_1 False\n",
            "1 conv2d False\n",
            "2 batch_normalization True\n",
            "3 activation False\n",
            "4 conv2d_1 False\n",
            "5 batch_normalization_1 True\n",
            "6 activation_1 False\n",
            "7 conv2d_2 False\n",
            "8 batch_normalization_2 True\n",
            "9 activation_2 False\n",
            "10 max_pooling2d False\n",
            "11 conv2d_3 False\n",
            "12 batch_normalization_3 True\n",
            "13 activation_3 False\n",
            "14 conv2d_4 False\n",
            "15 batch_normalization_4 True\n",
            "16 activation_4 False\n",
            "17 max_pooling2d_1 False\n",
            "18 conv2d_8 False\n",
            "19 batch_normalization_8 True\n",
            "20 activation_8 False\n",
            "21 conv2d_6 False\n",
            "22 conv2d_9 False\n",
            "23 batch_normalization_6 True\n",
            "24 batch_normalization_9 True\n",
            "25 activation_6 False\n",
            "26 activation_9 False\n",
            "27 average_pooling2d False\n",
            "28 conv2d_5 False\n",
            "29 conv2d_7 False\n",
            "30 conv2d_10 False\n",
            "31 conv2d_11 False\n",
            "32 batch_normalization_5 True\n",
            "33 batch_normalization_7 True\n",
            "34 batch_normalization_10 True\n",
            "35 batch_normalization_11 True\n",
            "36 activation_5 False\n",
            "37 activation_7 False\n",
            "38 activation_10 False\n",
            "39 activation_11 False\n",
            "40 mixed_5b False\n",
            "41 conv2d_15 False\n",
            "42 batch_normalization_15 True\n",
            "43 activation_15 False\n",
            "44 conv2d_13 False\n",
            "45 conv2d_16 False\n",
            "46 batch_normalization_13 True\n",
            "47 batch_normalization_16 True\n",
            "48 activation_13 False\n",
            "49 activation_16 False\n",
            "50 conv2d_12 False\n",
            "51 conv2d_14 False\n",
            "52 conv2d_17 False\n",
            "53 batch_normalization_12 True\n",
            "54 batch_normalization_14 True\n",
            "55 batch_normalization_17 True\n",
            "56 activation_12 False\n",
            "57 activation_14 False\n",
            "58 activation_17 False\n",
            "59 block35_1_mixed False\n",
            "60 block35_1_conv False\n",
            "61 block35_1 False\n",
            "62 block35_1_ac False\n",
            "63 conv2d_21 False\n",
            "64 batch_normalization_21 True\n",
            "65 activation_21 False\n",
            "66 conv2d_19 False\n",
            "67 conv2d_22 False\n",
            "68 batch_normalization_19 True\n",
            "69 batch_normalization_22 True\n",
            "70 activation_19 False\n",
            "71 activation_22 False\n",
            "72 conv2d_18 False\n",
            "73 conv2d_20 False\n",
            "74 conv2d_23 False\n",
            "75 batch_normalization_18 True\n",
            "76 batch_normalization_20 True\n",
            "77 batch_normalization_23 True\n",
            "78 activation_18 False\n",
            "79 activation_20 False\n",
            "80 activation_23 False\n",
            "81 block35_2_mixed False\n",
            "82 block35_2_conv False\n",
            "83 block35_2 False\n",
            "84 block35_2_ac False\n",
            "85 conv2d_27 False\n",
            "86 batch_normalization_27 True\n",
            "87 activation_27 False\n",
            "88 conv2d_25 False\n",
            "89 conv2d_28 False\n",
            "90 batch_normalization_25 True\n",
            "91 batch_normalization_28 True\n",
            "92 activation_25 False\n",
            "93 activation_28 False\n",
            "94 conv2d_24 False\n",
            "95 conv2d_26 False\n",
            "96 conv2d_29 False\n",
            "97 batch_normalization_24 True\n",
            "98 batch_normalization_26 True\n",
            "99 batch_normalization_29 True\n",
            "100 activation_24 False\n",
            "101 activation_26 False\n",
            "102 activation_29 False\n",
            "103 block35_3_mixed False\n",
            "104 block35_3_conv False\n",
            "105 block35_3 False\n",
            "106 block35_3_ac False\n",
            "107 conv2d_33 False\n",
            "108 batch_normalization_33 True\n",
            "109 activation_33 False\n",
            "110 conv2d_31 False\n",
            "111 conv2d_34 False\n",
            "112 batch_normalization_31 True\n",
            "113 batch_normalization_34 True\n",
            "114 activation_31 False\n",
            "115 activation_34 False\n",
            "116 conv2d_30 False\n",
            "117 conv2d_32 False\n",
            "118 conv2d_35 False\n",
            "119 batch_normalization_30 True\n",
            "120 batch_normalization_32 True\n",
            "121 batch_normalization_35 True\n",
            "122 activation_30 False\n",
            "123 activation_32 False\n",
            "124 activation_35 False\n",
            "125 block35_4_mixed False\n",
            "126 block35_4_conv False\n",
            "127 block35_4 False\n",
            "128 block35_4_ac False\n",
            "129 conv2d_39 False\n",
            "130 batch_normalization_39 True\n",
            "131 activation_39 False\n",
            "132 conv2d_37 False\n",
            "133 conv2d_40 False\n",
            "134 batch_normalization_37 True\n",
            "135 batch_normalization_40 True\n",
            "136 activation_37 False\n",
            "137 activation_40 False\n",
            "138 conv2d_36 False\n",
            "139 conv2d_38 False\n",
            "140 conv2d_41 False\n",
            "141 batch_normalization_36 True\n",
            "142 batch_normalization_38 True\n",
            "143 batch_normalization_41 True\n",
            "144 activation_36 False\n",
            "145 activation_38 False\n",
            "146 activation_41 False\n",
            "147 block35_5_mixed False\n",
            "148 block35_5_conv False\n",
            "149 block35_5 False\n",
            "150 block35_5_ac False\n",
            "151 conv2d_45 False\n",
            "152 batch_normalization_45 True\n",
            "153 activation_45 False\n",
            "154 conv2d_43 False\n",
            "155 conv2d_46 False\n",
            "156 batch_normalization_43 True\n",
            "157 batch_normalization_46 True\n",
            "158 activation_43 False\n",
            "159 activation_46 False\n",
            "160 conv2d_42 False\n",
            "161 conv2d_44 False\n",
            "162 conv2d_47 False\n",
            "163 batch_normalization_42 True\n",
            "164 batch_normalization_44 True\n",
            "165 batch_normalization_47 True\n",
            "166 activation_42 False\n",
            "167 activation_44 False\n",
            "168 activation_47 False\n",
            "169 block35_6_mixed False\n",
            "170 block35_6_conv False\n",
            "171 block35_6 False\n",
            "172 block35_6_ac False\n",
            "173 conv2d_51 False\n",
            "174 batch_normalization_51 True\n",
            "175 activation_51 False\n",
            "176 conv2d_49 False\n",
            "177 conv2d_52 False\n",
            "178 batch_normalization_49 True\n",
            "179 batch_normalization_52 True\n",
            "180 activation_49 False\n",
            "181 activation_52 False\n",
            "182 conv2d_48 False\n",
            "183 conv2d_50 False\n",
            "184 conv2d_53 False\n",
            "185 batch_normalization_48 True\n",
            "186 batch_normalization_50 True\n",
            "187 batch_normalization_53 True\n",
            "188 activation_48 False\n",
            "189 activation_50 False\n",
            "190 activation_53 False\n",
            "191 block35_7_mixed False\n",
            "192 block35_7_conv False\n",
            "193 block35_7 False\n",
            "194 block35_7_ac False\n",
            "195 conv2d_57 False\n",
            "196 batch_normalization_57 True\n",
            "197 activation_57 False\n",
            "198 conv2d_55 False\n",
            "199 conv2d_58 False\n",
            "200 batch_normalization_55 True\n",
            "201 batch_normalization_58 True\n",
            "202 activation_55 False\n",
            "203 activation_58 False\n",
            "204 conv2d_54 False\n",
            "205 conv2d_56 False\n",
            "206 conv2d_59 False\n",
            "207 batch_normalization_54 True\n",
            "208 batch_normalization_56 True\n",
            "209 batch_normalization_59 True\n",
            "210 activation_54 False\n",
            "211 activation_56 False\n",
            "212 activation_59 False\n",
            "213 block35_8_mixed False\n",
            "214 block35_8_conv False\n",
            "215 block35_8 False\n",
            "216 block35_8_ac False\n",
            "217 conv2d_63 False\n",
            "218 batch_normalization_63 True\n",
            "219 activation_63 False\n",
            "220 conv2d_61 False\n",
            "221 conv2d_64 False\n",
            "222 batch_normalization_61 True\n",
            "223 batch_normalization_64 True\n",
            "224 activation_61 False\n",
            "225 activation_64 False\n",
            "226 conv2d_60 False\n",
            "227 conv2d_62 False\n",
            "228 conv2d_65 False\n",
            "229 batch_normalization_60 True\n",
            "230 batch_normalization_62 True\n",
            "231 batch_normalization_65 True\n",
            "232 activation_60 False\n",
            "233 activation_62 False\n",
            "234 activation_65 False\n",
            "235 block35_9_mixed False\n",
            "236 block35_9_conv False\n",
            "237 block35_9 False\n",
            "238 block35_9_ac False\n",
            "239 conv2d_69 False\n",
            "240 batch_normalization_69 True\n",
            "241 activation_69 False\n",
            "242 conv2d_67 False\n",
            "243 conv2d_70 False\n",
            "244 batch_normalization_67 True\n",
            "245 batch_normalization_70 True\n",
            "246 activation_67 False\n",
            "247 activation_70 False\n",
            "248 conv2d_66 False\n",
            "249 conv2d_68 False\n",
            "250 conv2d_71 False\n",
            "251 batch_normalization_66 True\n",
            "252 batch_normalization_68 True\n",
            "253 batch_normalization_71 True\n",
            "254 activation_66 False\n",
            "255 activation_68 False\n",
            "256 activation_71 False\n",
            "257 block35_10_mixed False\n",
            "258 block35_10_conv False\n",
            "259 block35_10 False\n",
            "260 block35_10_ac False\n",
            "261 conv2d_73 False\n",
            "262 batch_normalization_73 True\n",
            "263 activation_73 False\n",
            "264 conv2d_74 False\n",
            "265 batch_normalization_74 True\n",
            "266 activation_74 False\n",
            "267 conv2d_72 False\n",
            "268 conv2d_75 False\n",
            "269 batch_normalization_72 True\n",
            "270 batch_normalization_75 True\n",
            "271 activation_72 False\n",
            "272 activation_75 False\n",
            "273 max_pooling2d_2 False\n",
            "274 mixed_6a False\n",
            "275 conv2d_77 False\n",
            "276 batch_normalization_77 True\n",
            "277 activation_77 False\n",
            "278 conv2d_78 False\n",
            "279 batch_normalization_78 True\n",
            "280 activation_78 False\n",
            "281 conv2d_76 False\n",
            "282 conv2d_79 False\n",
            "283 batch_normalization_76 True\n",
            "284 batch_normalization_79 True\n",
            "285 activation_76 False\n",
            "286 activation_79 False\n",
            "287 block17_1_mixed False\n",
            "288 block17_1_conv False\n",
            "289 block17_1 False\n",
            "290 block17_1_ac False\n",
            "291 conv2d_81 False\n",
            "292 batch_normalization_81 True\n",
            "293 activation_81 False\n",
            "294 conv2d_82 False\n",
            "295 batch_normalization_82 True\n",
            "296 activation_82 False\n",
            "297 conv2d_80 False\n",
            "298 conv2d_83 False\n",
            "299 batch_normalization_80 True\n",
            "300 batch_normalization_83 True\n",
            "301 activation_80 False\n",
            "302 activation_83 False\n",
            "303 block17_2_mixed False\n",
            "304 block17_2_conv False\n",
            "305 block17_2 False\n",
            "306 block17_2_ac False\n",
            "307 conv2d_85 False\n",
            "308 batch_normalization_85 True\n",
            "309 activation_85 False\n",
            "310 conv2d_86 False\n",
            "311 batch_normalization_86 True\n",
            "312 activation_86 False\n",
            "313 conv2d_84 False\n",
            "314 conv2d_87 False\n",
            "315 batch_normalization_84 True\n",
            "316 batch_normalization_87 True\n",
            "317 activation_84 False\n",
            "318 activation_87 False\n",
            "319 block17_3_mixed False\n",
            "320 block17_3_conv False\n",
            "321 block17_3 False\n",
            "322 block17_3_ac False\n",
            "323 conv2d_89 False\n",
            "324 batch_normalization_89 True\n",
            "325 activation_89 False\n",
            "326 conv2d_90 False\n",
            "327 batch_normalization_90 True\n",
            "328 activation_90 False\n",
            "329 conv2d_88 False\n",
            "330 conv2d_91 False\n",
            "331 batch_normalization_88 True\n",
            "332 batch_normalization_91 True\n",
            "333 activation_88 False\n",
            "334 activation_91 False\n",
            "335 block17_4_mixed False\n",
            "336 block17_4_conv False\n",
            "337 block17_4 False\n",
            "338 block17_4_ac False\n",
            "339 conv2d_93 False\n",
            "340 batch_normalization_93 True\n",
            "341 activation_93 False\n",
            "342 conv2d_94 False\n",
            "343 batch_normalization_94 True\n",
            "344 activation_94 False\n",
            "345 conv2d_92 False\n",
            "346 conv2d_95 False\n",
            "347 batch_normalization_92 True\n",
            "348 batch_normalization_95 True\n",
            "349 activation_92 False\n",
            "350 activation_95 False\n",
            "351 block17_5_mixed False\n",
            "352 block17_5_conv False\n",
            "353 block17_5 False\n",
            "354 block17_5_ac False\n",
            "355 conv2d_97 False\n",
            "356 batch_normalization_97 True\n",
            "357 activation_97 False\n",
            "358 conv2d_98 False\n",
            "359 batch_normalization_98 True\n",
            "360 activation_98 False\n",
            "361 conv2d_96 False\n",
            "362 conv2d_99 False\n",
            "363 batch_normalization_96 True\n",
            "364 batch_normalization_99 True\n",
            "365 activation_96 False\n",
            "366 activation_99 False\n",
            "367 block17_6_mixed False\n",
            "368 block17_6_conv False\n",
            "369 block17_6 False\n",
            "370 block17_6_ac False\n",
            "371 conv2d_101 False\n",
            "372 batch_normalization_101 True\n",
            "373 activation_101 False\n",
            "374 conv2d_102 False\n",
            "375 batch_normalization_102 True\n",
            "376 activation_102 False\n",
            "377 conv2d_100 False\n",
            "378 conv2d_103 False\n",
            "379 batch_normalization_100 True\n",
            "380 batch_normalization_103 True\n",
            "381 activation_100 False\n",
            "382 activation_103 False\n",
            "383 block17_7_mixed False\n",
            "384 block17_7_conv False\n",
            "385 block17_7 False\n",
            "386 block17_7_ac False\n",
            "387 conv2d_105 False\n",
            "388 batch_normalization_105 True\n",
            "389 activation_105 False\n",
            "390 conv2d_106 False\n",
            "391 batch_normalization_106 True\n",
            "392 activation_106 False\n",
            "393 conv2d_104 False\n",
            "394 conv2d_107 False\n",
            "395 batch_normalization_104 True\n",
            "396 batch_normalization_107 True\n",
            "397 activation_104 False\n",
            "398 activation_107 False\n",
            "399 block17_8_mixed False\n",
            "400 block17_8_conv False\n",
            "401 block17_8 False\n",
            "402 block17_8_ac False\n",
            "403 conv2d_109 False\n",
            "404 batch_normalization_109 True\n",
            "405 activation_109 False\n",
            "406 conv2d_110 False\n",
            "407 batch_normalization_110 True\n",
            "408 activation_110 False\n",
            "409 conv2d_108 False\n",
            "410 conv2d_111 False\n",
            "411 batch_normalization_108 True\n",
            "412 batch_normalization_111 True\n",
            "413 activation_108 False\n",
            "414 activation_111 False\n",
            "415 block17_9_mixed False\n",
            "416 block17_9_conv False\n",
            "417 block17_9 False\n",
            "418 block17_9_ac False\n",
            "419 conv2d_113 False\n",
            "420 batch_normalization_113 True\n",
            "421 activation_113 False\n",
            "422 conv2d_114 False\n",
            "423 batch_normalization_114 True\n",
            "424 activation_114 False\n",
            "425 conv2d_112 False\n",
            "426 conv2d_115 False\n",
            "427 batch_normalization_112 True\n",
            "428 batch_normalization_115 True\n",
            "429 activation_112 False\n",
            "430 activation_115 False\n",
            "431 block17_10_mixed False\n",
            "432 block17_10_conv False\n",
            "433 block17_10 False\n",
            "434 block17_10_ac False\n",
            "435 conv2d_117 False\n",
            "436 batch_normalization_117 True\n",
            "437 activation_117 False\n",
            "438 conv2d_118 False\n",
            "439 batch_normalization_118 True\n",
            "440 activation_118 False\n",
            "441 conv2d_116 False\n",
            "442 conv2d_119 False\n",
            "443 batch_normalization_116 True\n",
            "444 batch_normalization_119 True\n",
            "445 activation_116 False\n",
            "446 activation_119 False\n",
            "447 block17_11_mixed False\n",
            "448 block17_11_conv False\n",
            "449 block17_11 False\n",
            "450 block17_11_ac False\n",
            "451 conv2d_121 False\n",
            "452 batch_normalization_121 True\n",
            "453 activation_121 False\n",
            "454 conv2d_122 False\n",
            "455 batch_normalization_122 True\n",
            "456 activation_122 False\n",
            "457 conv2d_120 False\n",
            "458 conv2d_123 False\n",
            "459 batch_normalization_120 True\n",
            "460 batch_normalization_123 True\n",
            "461 activation_120 False\n",
            "462 activation_123 False\n",
            "463 block17_12_mixed False\n",
            "464 block17_12_conv False\n",
            "465 block17_12 False\n",
            "466 block17_12_ac False\n",
            "467 conv2d_125 False\n",
            "468 batch_normalization_125 True\n",
            "469 activation_125 False\n",
            "470 conv2d_126 False\n",
            "471 batch_normalization_126 True\n",
            "472 activation_126 False\n",
            "473 conv2d_124 False\n",
            "474 conv2d_127 False\n",
            "475 batch_normalization_124 True\n",
            "476 batch_normalization_127 True\n",
            "477 activation_124 False\n",
            "478 activation_127 False\n",
            "479 block17_13_mixed False\n",
            "480 block17_13_conv False\n",
            "481 block17_13 False\n",
            "482 block17_13_ac False\n",
            "483 conv2d_129 False\n",
            "484 batch_normalization_129 True\n",
            "485 activation_129 False\n",
            "486 conv2d_130 False\n",
            "487 batch_normalization_130 True\n",
            "488 activation_130 False\n",
            "489 conv2d_128 False\n",
            "490 conv2d_131 False\n",
            "491 batch_normalization_128 True\n",
            "492 batch_normalization_131 True\n",
            "493 activation_128 False\n",
            "494 activation_131 False\n",
            "495 block17_14_mixed False\n",
            "496 block17_14_conv False\n",
            "497 block17_14 False\n",
            "498 block17_14_ac False\n",
            "499 conv2d_133 False\n",
            "500 batch_normalization_133 True\n",
            "501 activation_133 False\n",
            "502 conv2d_134 False\n",
            "503 batch_normalization_134 True\n",
            "504 activation_134 False\n",
            "505 conv2d_132 False\n",
            "506 conv2d_135 False\n",
            "507 batch_normalization_132 True\n",
            "508 batch_normalization_135 True\n",
            "509 activation_132 False\n",
            "510 activation_135 False\n",
            "511 block17_15_mixed False\n",
            "512 block17_15_conv False\n",
            "513 block17_15 False\n",
            "514 block17_15_ac False\n",
            "515 conv2d_137 False\n",
            "516 batch_normalization_137 True\n",
            "517 activation_137 False\n",
            "518 conv2d_138 False\n",
            "519 batch_normalization_138 True\n",
            "520 activation_138 False\n",
            "521 conv2d_136 False\n",
            "522 conv2d_139 False\n",
            "523 batch_normalization_136 True\n",
            "524 batch_normalization_139 True\n",
            "525 activation_136 False\n",
            "526 activation_139 False\n",
            "527 block17_16_mixed False\n",
            "528 block17_16_conv False\n",
            "529 block17_16 False\n",
            "530 block17_16_ac False\n",
            "531 conv2d_141 False\n",
            "532 batch_normalization_141 True\n",
            "533 activation_141 False\n",
            "534 conv2d_142 False\n",
            "535 batch_normalization_142 True\n",
            "536 activation_142 False\n",
            "537 conv2d_140 False\n",
            "538 conv2d_143 False\n",
            "539 batch_normalization_140 True\n",
            "540 batch_normalization_143 True\n",
            "541 activation_140 False\n",
            "542 activation_143 False\n",
            "543 block17_17_mixed False\n",
            "544 block17_17_conv False\n",
            "545 block17_17 False\n",
            "546 block17_17_ac False\n",
            "547 conv2d_145 False\n",
            "548 batch_normalization_145 True\n",
            "549 activation_145 False\n",
            "550 conv2d_146 False\n",
            "551 batch_normalization_146 True\n",
            "552 activation_146 False\n",
            "553 conv2d_144 False\n",
            "554 conv2d_147 False\n",
            "555 batch_normalization_144 True\n",
            "556 batch_normalization_147 True\n",
            "557 activation_144 False\n",
            "558 activation_147 False\n",
            "559 block17_18_mixed False\n",
            "560 block17_18_conv False\n",
            "561 block17_18 False\n",
            "562 block17_18_ac False\n",
            "563 conv2d_149 False\n",
            "564 batch_normalization_149 True\n",
            "565 activation_149 False\n",
            "566 conv2d_150 False\n",
            "567 batch_normalization_150 True\n",
            "568 activation_150 False\n",
            "569 conv2d_148 False\n",
            "570 conv2d_151 False\n",
            "571 batch_normalization_148 True\n",
            "572 batch_normalization_151 True\n",
            "573 activation_148 False\n",
            "574 activation_151 False\n",
            "575 block17_19_mixed False\n",
            "576 block17_19_conv False\n",
            "577 block17_19 False\n",
            "578 block17_19_ac False\n",
            "579 conv2d_153 False\n",
            "580 batch_normalization_153 True\n",
            "581 activation_153 False\n",
            "582 conv2d_154 False\n",
            "583 batch_normalization_154 True\n",
            "584 activation_154 False\n",
            "585 conv2d_152 False\n",
            "586 conv2d_155 False\n",
            "587 batch_normalization_152 True\n",
            "588 batch_normalization_155 True\n",
            "589 activation_152 False\n",
            "590 activation_155 False\n",
            "591 block17_20_mixed False\n",
            "592 block17_20_conv False\n",
            "593 block17_20 False\n",
            "594 block17_20_ac False\n",
            "595 conv2d_160 False\n",
            "596 batch_normalization_160 True\n",
            "597 activation_160 False\n",
            "598 conv2d_156 False\n",
            "599 conv2d_158 False\n",
            "600 conv2d_161 False\n",
            "601 batch_normalization_156 True\n",
            "602 batch_normalization_158 True\n",
            "603 batch_normalization_161 True\n",
            "604 activation_156 False\n",
            "605 activation_158 False\n",
            "606 activation_161 False\n",
            "607 conv2d_157 False\n",
            "608 conv2d_159 False\n",
            "609 conv2d_162 False\n",
            "610 batch_normalization_157 True\n",
            "611 batch_normalization_159 True\n",
            "612 batch_normalization_162 True\n",
            "613 activation_157 False\n",
            "614 activation_159 False\n",
            "615 activation_162 False\n",
            "616 max_pooling2d_3 False\n",
            "617 mixed_7a False\n",
            "618 conv2d_164 False\n",
            "619 batch_normalization_164 True\n",
            "620 activation_164 False\n",
            "621 conv2d_165 False\n",
            "622 batch_normalization_165 True\n",
            "623 activation_165 False\n",
            "624 conv2d_163 False\n",
            "625 conv2d_166 False\n",
            "626 batch_normalization_163 True\n",
            "627 batch_normalization_166 True\n",
            "628 activation_163 False\n",
            "629 activation_166 False\n",
            "630 block8_1_mixed False\n",
            "631 block8_1_conv False\n",
            "632 block8_1 False\n",
            "633 block8_1_ac False\n",
            "634 conv2d_168 False\n",
            "635 batch_normalization_168 True\n",
            "636 activation_168 False\n",
            "637 conv2d_169 False\n",
            "638 batch_normalization_169 True\n",
            "639 activation_169 False\n",
            "640 conv2d_167 False\n",
            "641 conv2d_170 False\n",
            "642 batch_normalization_167 True\n",
            "643 batch_normalization_170 True\n",
            "644 activation_167 False\n",
            "645 activation_170 False\n",
            "646 block8_2_mixed False\n",
            "647 block8_2_conv False\n",
            "648 block8_2 False\n",
            "649 block8_2_ac False\n",
            "650 conv2d_172 False\n",
            "651 batch_normalization_172 True\n",
            "652 activation_172 False\n",
            "653 conv2d_173 False\n",
            "654 batch_normalization_173 True\n",
            "655 activation_173 False\n",
            "656 conv2d_171 False\n",
            "657 conv2d_174 False\n",
            "658 batch_normalization_171 True\n",
            "659 batch_normalization_174 True\n",
            "660 activation_171 False\n",
            "661 activation_174 False\n",
            "662 block8_3_mixed False\n",
            "663 block8_3_conv False\n",
            "664 block8_3 False\n",
            "665 block8_3_ac False\n",
            "666 conv2d_176 False\n",
            "667 batch_normalization_176 True\n",
            "668 activation_176 False\n",
            "669 conv2d_177 False\n",
            "670 batch_normalization_177 True\n",
            "671 activation_177 False\n",
            "672 conv2d_175 False\n",
            "673 conv2d_178 False\n",
            "674 batch_normalization_175 True\n",
            "675 batch_normalization_178 True\n",
            "676 activation_175 False\n",
            "677 activation_178 False\n",
            "678 block8_4_mixed False\n",
            "679 block8_4_conv False\n",
            "680 block8_4 False\n",
            "681 block8_4_ac False\n",
            "682 conv2d_180 False\n",
            "683 batch_normalization_180 True\n",
            "684 activation_180 False\n",
            "685 conv2d_181 False\n",
            "686 batch_normalization_181 True\n",
            "687 activation_181 False\n",
            "688 conv2d_179 False\n",
            "689 conv2d_182 False\n",
            "690 batch_normalization_179 True\n",
            "691 batch_normalization_182 True\n",
            "692 activation_179 False\n",
            "693 activation_182 False\n",
            "694 block8_5_mixed False\n",
            "695 block8_5_conv False\n",
            "696 block8_5 False\n",
            "697 block8_5_ac False\n",
            "698 conv2d_184 False\n",
            "699 batch_normalization_184 True\n",
            "700 activation_184 False\n",
            "701 conv2d_185 False\n",
            "702 batch_normalization_185 True\n",
            "703 activation_185 False\n",
            "704 conv2d_183 False\n",
            "705 conv2d_186 False\n",
            "706 batch_normalization_183 True\n",
            "707 batch_normalization_186 True\n",
            "708 activation_183 False\n",
            "709 activation_186 False\n",
            "710 block8_6_mixed False\n",
            "711 block8_6_conv False\n",
            "712 block8_6 False\n",
            "713 block8_6_ac False\n",
            "714 conv2d_188 False\n",
            "715 batch_normalization_188 True\n",
            "716 activation_188 False\n",
            "717 conv2d_189 False\n",
            "718 batch_normalization_189 True\n",
            "719 activation_189 False\n",
            "720 conv2d_187 False\n",
            "721 conv2d_190 False\n",
            "722 batch_normalization_187 True\n",
            "723 batch_normalization_190 True\n",
            "724 activation_187 False\n",
            "725 activation_190 False\n",
            "726 block8_7_mixed False\n",
            "727 block8_7_conv False\n",
            "728 block8_7 False\n",
            "729 block8_7_ac False\n",
            "730 conv2d_192 False\n",
            "731 batch_normalization_192 True\n",
            "732 activation_192 False\n",
            "733 conv2d_193 False\n",
            "734 batch_normalization_193 True\n",
            "735 activation_193 False\n",
            "736 conv2d_191 False\n",
            "737 conv2d_194 False\n",
            "738 batch_normalization_191 True\n",
            "739 batch_normalization_194 True\n",
            "740 activation_191 False\n",
            "741 activation_194 False\n",
            "742 block8_8_mixed False\n",
            "743 block8_8_conv False\n",
            "744 block8_8 False\n",
            "745 block8_8_ac False\n",
            "746 conv2d_196 False\n",
            "747 batch_normalization_196 True\n",
            "748 activation_196 False\n",
            "749 conv2d_197 False\n",
            "750 batch_normalization_197 True\n",
            "751 activation_197 False\n",
            "752 conv2d_195 False\n",
            "753 conv2d_198 False\n",
            "754 batch_normalization_195 True\n",
            "755 batch_normalization_198 True\n",
            "756 activation_195 False\n",
            "757 activation_198 False\n",
            "758 block8_9_mixed False\n",
            "759 block8_9_conv False\n",
            "760 block8_9 False\n",
            "761 block8_9_ac False\n",
            "762 conv2d_200 False\n",
            "763 batch_normalization_200 True\n",
            "764 activation_200 False\n",
            "765 conv2d_201 True\n",
            "766 batch_normalization_201 True\n",
            "767 activation_201 True\n",
            "768 conv2d_199 True\n",
            "769 conv2d_202 True\n",
            "770 batch_normalization_199 True\n",
            "771 batch_normalization_202 True\n",
            "772 activation_199 True\n",
            "773 activation_202 True\n",
            "774 block8_10_mixed True\n",
            "775 block8_10_conv True\n",
            "776 block8_10 True\n",
            "777 conv_7b True\n",
            "778 conv_7b_bn True\n",
            "779 conv_7b_ac True\n",
            "780 global_average_pooling2d True\n"
          ],
          "name": "stdout"
        }
      ]
    },
    {
      "cell_type": "code",
      "metadata": {
        "id": "pzWqYI8J5hGS",
        "colab_type": "code",
        "colab": {}
      },
      "source": [
        "from keras.layers import Input"
      ],
      "execution_count": null,
      "outputs": []
    },
    {
      "cell_type": "code",
      "metadata": {
        "id": "dqBP288D5vug",
        "colab_type": "code",
        "colab": {}
      },
      "source": [
        "input_tensor = Input(shape=(224,224,1))"
      ],
      "execution_count": null,
      "outputs": []
    },
    {
      "cell_type": "code",
      "metadata": {
        "id": "IMnkL3bw5-s_",
        "colab_type": "code",
        "colab": {}
      },
      "source": [
        "x = Conv2D(3,(3,3), padding='same')(input_tensor)"
      ],
      "execution_count": null,
      "outputs": []
    },
    {
      "cell_type": "code",
      "metadata": {
        "id": "De0lHrbi6I5Q",
        "colab_type": "code",
        "colab": {}
      },
      "source": [
        "x = conv_base(x)"
      ],
      "execution_count": null,
      "outputs": []
    },
    {
      "cell_type": "code",
      "metadata": {
        "id": "G_Rq-OhQ6Nuf",
        "colab_type": "code",
        "colab": {}
      },
      "source": [
        "x = Dense(2048, activation='relu', kernel_regularizer=regularizers.l2(0.001))(x)\n",
        "x = Dropout(0.5)(x)\n",
        "out = Dense(47, activation='softmax')(x)"
      ],
      "execution_count": null,
      "outputs": []
    },
    {
      "cell_type": "code",
      "metadata": {
        "id": "puwW1wKf6nYQ",
        "colab_type": "code",
        "colab": {}
      },
      "source": [
        "model = Model(inputs = input_tensor, outputs = out)"
      ],
      "execution_count": null,
      "outputs": []
    },
    {
      "cell_type": "code",
      "metadata": {
        "id": "MUkDF-Sj7Iia",
        "colab_type": "code",
        "colab": {
          "base_uri": "https://localhost:8080/",
          "height": 357
        },
        "outputId": "ab292332-b0f9-43f6-9c27-4b392754f61e"
      },
      "source": [
        "model.summary()"
      ],
      "execution_count": null,
      "outputs": [
        {
          "output_type": "stream",
          "text": [
            "Model: \"functional_1\"\n",
            "_________________________________________________________________\n",
            "Layer (type)                 Output Shape              Param #   \n",
            "=================================================================\n",
            "input_2 (InputLayer)         [(None, 224, 224, 1)]     0         \n",
            "_________________________________________________________________\n",
            "conv2d_203 (Conv2D)          (None, 224, 224, 3)       30        \n",
            "_________________________________________________________________\n",
            "inception_resnet_v2 (Functio (None, 1536)              54336736  \n",
            "_________________________________________________________________\n",
            "dense (Dense)                (None, 2048)              3147776   \n",
            "_________________________________________________________________\n",
            "dropout (Dropout)            (None, 2048)              0         \n",
            "_________________________________________________________________\n",
            "dense_1 (Dense)              (None, 47)                96303     \n",
            "=================================================================\n",
            "Total params: 57,580,845\n",
            "Trainable params: 8,103,597\n",
            "Non-trainable params: 49,477,248\n",
            "_________________________________________________________________\n"
          ],
          "name": "stdout"
        }
      ]
    },
    {
      "cell_type": "code",
      "metadata": {
        "id": "nHdoLuda7LbU",
        "colab_type": "code",
        "colab": {}
      },
      "source": [
        "model.compile(loss='categorical_crossentropy',\n",
        "              optimizer=Adam(lr=0.001),\n",
        "              metrics=['accuracy'])"
      ],
      "execution_count": null,
      "outputs": []
    },
    {
      "cell_type": "code",
      "metadata": {
        "id": "5Dc78Rf97QXu",
        "colab_type": "code",
        "colab": {}
      },
      "source": [
        "from keras.callbacks import ModelCheckpoint, EarlyStopping, ReduceLROnPlateau\n",
        "checkpoint = ModelCheckpoint(\"/content/drive/My Drive/DTD dataset/dtd/Inception_ResnetV2_DTD_SGDGreyscale.h5\",\n",
        "                             monitor=\"val_loss\",\n",
        "                             mode=\"min\",\n",
        "                             save_best_only = True,\n",
        "                             verbose=1)\n",
        "\n",
        "earlystop = EarlyStopping(monitor = 'val_loss', \n",
        "                          min_delta = 0, \n",
        "                          patience = 20,\n",
        "                          verbose = 1,\n",
        "                          restore_best_weights = True)\n",
        "\n",
        "reduce_lr = ReduceLROnPlateau(monitor = 'val_loss',\n",
        "                              factor = 0.2,\n",
        "                              patience = 20,\n",
        "                              verbose = 1,\n",
        "                              min_delta = 0.00001)\n",
        "\n",
        "callBacks = [earlystop, checkpoint, reduce_lr]"
      ],
      "execution_count": null,
      "outputs": []
    },
    {
      "cell_type": "code",
      "metadata": {
        "id": "RCbK8gbZ7cpK",
        "colab_type": "code",
        "colab": {
          "base_uri": "https://localhost:8080/",
          "height": 1000
        },
        "outputId": "e1df6927-3a47-4683-8aab-ce24c331ed60"
      },
      "source": [
        "hist = model.fit_generator(steps_per_epoch=634,generator= Grey_TrainingData, validation_data= Grey_ValidData, validation_steps=35,epochs=100,callbacks=callBacks)"
      ],
      "execution_count": null,
      "outputs": [
        {
          "output_type": "stream",
          "text": [
            "WARNING:tensorflow:From <ipython-input-23-3bfc21f94cc5>:1: Model.fit_generator (from tensorflow.python.keras.engine.training) is deprecated and will be removed in a future version.\n",
            "Instructions for updating:\n",
            "Please use Model.fit, which supports generators.\n",
            "Epoch 1/100\n",
            "634/634 [==============================] - ETA: 0s - loss: 5.5852 - accuracy: 0.0381\n",
            "Epoch 00001: val_loss improved from inf to 8.57262, saving model to /content/drive/My Drive/DTD dataset/dtd/Inception_ResnetV2_DTD_SGDGreyscale.h5\n",
            "634/634 [==============================] - 2043s 3s/step - loss: 5.5852 - accuracy: 0.0381 - val_loss: 8.5726 - val_accuracy: 0.0857\n",
            "Epoch 2/100\n",
            "634/634 [==============================] - ETA: 0s - loss: 5.4170 - accuracy: 0.0989\n",
            "Epoch 00002: val_loss improved from 8.57262 to 6.40762, saving model to /content/drive/My Drive/DTD dataset/dtd/Inception_ResnetV2_DTD_SGDGreyscale.h5\n",
            "634/634 [==============================] - 73s 115ms/step - loss: 5.4170 - accuracy: 0.0989 - val_loss: 6.4076 - val_accuracy: 0.1536\n",
            "Epoch 3/100\n",
            "634/634 [==============================] - ETA: 0s - loss: 5.2614 - accuracy: 0.1535\n",
            "Epoch 00003: val_loss did not improve from 6.40762\n",
            "634/634 [==============================] - 70s 110ms/step - loss: 5.2614 - accuracy: 0.1535 - val_loss: 6.4406 - val_accuracy: 0.2429\n",
            "Epoch 4/100\n",
            "634/634 [==============================] - ETA: 0s - loss: 5.1019 - accuracy: 0.2096\n",
            "Epoch 00004: val_loss improved from 6.40762 to 6.10406, saving model to /content/drive/My Drive/DTD dataset/dtd/Inception_ResnetV2_DTD_SGDGreyscale.h5\n",
            "634/634 [==============================] - 73s 115ms/step - loss: 5.1019 - accuracy: 0.2096 - val_loss: 6.1041 - val_accuracy: 0.2357\n",
            "Epoch 5/100\n",
            "634/634 [==============================] - ETA: 0s - loss: 4.9467 - accuracy: 0.2394\n",
            "Epoch 00005: val_loss did not improve from 6.10406\n",
            "634/634 [==============================] - 70s 110ms/step - loss: 4.9467 - accuracy: 0.2394 - val_loss: 7.2830 - val_accuracy: 0.3036\n",
            "Epoch 6/100\n",
            "634/634 [==============================] - ETA: 0s - loss: 4.7695 - accuracy: 0.2765\n",
            "Epoch 00006: val_loss did not improve from 6.10406\n",
            "634/634 [==============================] - 70s 110ms/step - loss: 4.7695 - accuracy: 0.2765 - val_loss: 6.6913 - val_accuracy: 0.3000\n",
            "Epoch 7/100\n",
            "634/634 [==============================] - ETA: 0s - loss: 4.6505 - accuracy: 0.2915\n",
            "Epoch 00007: val_loss did not improve from 6.10406\n",
            "634/634 [==============================] - 70s 110ms/step - loss: 4.6505 - accuracy: 0.2915 - val_loss: 7.7676 - val_accuracy: 0.3036\n",
            "Epoch 8/100\n",
            "634/634 [==============================] - ETA: 0s - loss: 4.5394 - accuracy: 0.3093\n",
            "Epoch 00008: val_loss did not improve from 6.10406\n",
            "634/634 [==============================] - 70s 110ms/step - loss: 4.5394 - accuracy: 0.3093 - val_loss: 10.9795 - val_accuracy: 0.3250\n",
            "Epoch 9/100\n",
            "634/634 [==============================] - ETA: 0s - loss: 4.4074 - accuracy: 0.3256\n",
            "Epoch 00009: val_loss did not improve from 6.10406\n",
            "634/634 [==============================] - 70s 110ms/step - loss: 4.4074 - accuracy: 0.3256 - val_loss: 12.6535 - val_accuracy: 0.3643\n",
            "Epoch 10/100\n",
            "634/634 [==============================] - ETA: 0s - loss: 4.3100 - accuracy: 0.3416\n",
            "Epoch 00010: val_loss did not improve from 6.10406\n",
            "634/634 [==============================] - 70s 110ms/step - loss: 4.3100 - accuracy: 0.3416 - val_loss: 12.9262 - val_accuracy: 0.3536\n",
            "Epoch 11/100\n",
            "634/634 [==============================] - ETA: 0s - loss: 4.2424 - accuracy: 0.3507\n",
            "Epoch 00011: val_loss did not improve from 6.10406\n",
            "634/634 [==============================] - 70s 110ms/step - loss: 4.2424 - accuracy: 0.3507 - val_loss: 7.4641 - val_accuracy: 0.3750\n",
            "Epoch 12/100\n",
            "634/634 [==============================] - ETA: 0s - loss: 4.1617 - accuracy: 0.3633\n",
            "Epoch 00012: val_loss did not improve from 6.10406\n",
            "634/634 [==============================] - 70s 110ms/step - loss: 4.1617 - accuracy: 0.3633 - val_loss: 9.6728 - val_accuracy: 0.3607\n",
            "Epoch 13/100\n",
            "634/634 [==============================] - ETA: 0s - loss: 4.0850 - accuracy: 0.3829\n",
            "Epoch 00013: val_loss did not improve from 6.10406\n",
            "634/634 [==============================] - 70s 110ms/step - loss: 4.0850 - accuracy: 0.3829 - val_loss: 8.8180 - val_accuracy: 0.4107\n",
            "Epoch 14/100\n",
            "634/634 [==============================] - ETA: 0s - loss: 4.0282 - accuracy: 0.3894\n",
            "Epoch 00014: val_loss did not improve from 6.10406\n",
            "634/634 [==============================] - 70s 110ms/step - loss: 4.0282 - accuracy: 0.3894 - val_loss: 10.3093 - val_accuracy: 0.4071\n",
            "Epoch 15/100\n",
            "634/634 [==============================] - ETA: 0s - loss: 3.9663 - accuracy: 0.4012\n",
            "Epoch 00015: val_loss did not improve from 6.10406\n",
            "634/634 [==============================] - 70s 110ms/step - loss: 3.9663 - accuracy: 0.4012 - val_loss: 9.5214 - val_accuracy: 0.4000\n",
            "Epoch 16/100\n",
            "634/634 [==============================] - ETA: 0s - loss: 3.9290 - accuracy: 0.4109\n",
            "Epoch 00016: val_loss did not improve from 6.10406\n",
            "634/634 [==============================] - 70s 110ms/step - loss: 3.9290 - accuracy: 0.4109 - val_loss: 10.1619 - val_accuracy: 0.4179\n",
            "Epoch 17/100\n",
            "634/634 [==============================] - ETA: 0s - loss: 3.8796 - accuracy: 0.4123\n",
            "Epoch 00017: val_loss did not improve from 6.10406\n",
            "634/634 [==============================] - 70s 110ms/step - loss: 3.8796 - accuracy: 0.4123 - val_loss: 14.1619 - val_accuracy: 0.4179\n",
            "Epoch 18/100\n",
            "634/634 [==============================] - ETA: 0s - loss: 3.8406 - accuracy: 0.4229\n",
            "Epoch 00018: val_loss did not improve from 6.10406\n",
            "634/634 [==============================] - 70s 110ms/step - loss: 3.8406 - accuracy: 0.4229 - val_loss: 8.7558 - val_accuracy: 0.4357\n",
            "Epoch 19/100\n",
            "634/634 [==============================] - ETA: 0s - loss: 3.8091 - accuracy: 0.4217\n",
            "Epoch 00019: val_loss did not improve from 6.10406\n",
            "634/634 [==============================] - 70s 110ms/step - loss: 3.8091 - accuracy: 0.4217 - val_loss: 6.1666 - val_accuracy: 0.4143\n",
            "Epoch 20/100\n",
            "634/634 [==============================] - ETA: 0s - loss: 3.7826 - accuracy: 0.4296\n",
            "Epoch 00020: val_loss did not improve from 6.10406\n",
            "634/634 [==============================] - 70s 110ms/step - loss: 3.7826 - accuracy: 0.4296 - val_loss: 6.3210 - val_accuracy: 0.4321\n",
            "Epoch 21/100\n",
            "634/634 [==============================] - ETA: 0s - loss: 3.7499 - accuracy: 0.4421\n",
            "Epoch 00021: val_loss did not improve from 6.10406\n",
            "634/634 [==============================] - 70s 110ms/step - loss: 3.7499 - accuracy: 0.4421 - val_loss: 6.2971 - val_accuracy: 0.3964\n",
            "Epoch 22/100\n",
            "634/634 [==============================] - ETA: 0s - loss: 3.7032 - accuracy: 0.4517\n",
            "Epoch 00022: val_loss did not improve from 6.10406\n",
            "634/634 [==============================] - 70s 110ms/step - loss: 3.7032 - accuracy: 0.4517 - val_loss: 9.8521 - val_accuracy: 0.4429\n",
            "Epoch 23/100\n",
            "634/634 [==============================] - ETA: 0s - loss: 3.6598 - accuracy: 0.4577\n",
            "Epoch 00023: val_loss did not improve from 6.10406\n",
            "634/634 [==============================] - 70s 110ms/step - loss: 3.6598 - accuracy: 0.4577 - val_loss: 8.6398 - val_accuracy: 0.4143\n",
            "Epoch 24/100\n",
            "634/634 [==============================] - ETA: 0s - loss: 3.6411 - accuracy: 0.4517Restoring model weights from the end of the best epoch.\n",
            "\n",
            "Epoch 00024: val_loss did not improve from 6.10406\n",
            "\n",
            "Epoch 00024: ReduceLROnPlateau reducing learning rate to 0.00020000000949949026.\n",
            "634/634 [==============================] - 70s 111ms/step - loss: 3.6411 - accuracy: 0.4517 - val_loss: 13.7543 - val_accuracy: 0.4357\n",
            "Epoch 00024: early stopping\n"
          ],
          "name": "stdout"
        }
      ]
    },
    {
      "cell_type": "code",
      "metadata": {
        "id": "yOPu_IUM8Pl0",
        "colab_type": "code",
        "colab": {
          "base_uri": "https://localhost:8080/",
          "height": 295
        },
        "outputId": "02727d4f-2951-471f-f991-ea1712c21328"
      },
      "source": [
        "import matplotlib.pyplot as plt\n",
        "plt.plot(hist.history[\"accuracy\"])\n",
        "plt.plot(hist.history['val_accuracy'])\n",
        "plt.title(\"model accuracy\")\n",
        "plt.ylabel(\"Accuracy\")\n",
        "plt.xlabel(\"Epoch\")\n",
        "plt.legend([\"Accuracy\",\"Validation Accuracy\"])\n",
        "plt.show()"
      ],
      "execution_count": null,
      "outputs": [
        {
          "output_type": "display_data",
          "data": {
            "image/png": "[encoded data removed]",
            "text/plain": [
              "<Figure size 432x288 with 1 Axes>"
            ]
          },
          "metadata": {
            "tags": [],
            "needs_background": "light"
          }
        }
      ]
    },
    {
      "cell_type": "code",
      "metadata": {
        "id": "tOCNL9oW8TaP",
        "colab_type": "code",
        "colab": {
          "base_uri": "https://localhost:8080/",
          "height": 295
        },
        "outputId": "2c40b282-186f-404e-fe21-72dce0206d0b"
      },
      "source": [
        "plt.plot(hist.history['loss'])\n",
        "plt.plot(hist.history['val_loss'])\n",
        "plt.title(\"model Loss\")\n",
        "plt.ylabel(\"Loss\")\n",
        "plt.xlabel(\"Epoch\")\n",
        "plt.legend([\"Loss\",\"Validation Loss\"])\n",
        "plt.show()"
      ],
      "execution_count": null,
      "outputs": [
        {
          "output_type": "display_data",
          "data": {
            "image/png": "[encoded data removed]",
            "text/plain": [
              "<Figure size 432x288 with 1 Axes>"
            ]
          },
          "metadata": {
            "tags": [],
            "needs_background": "light"
          }
        }
      ]
    },
    {
      "cell_type": "code",
      "metadata": {
        "id": "r4KDTBLb8WAw",
        "colab_type": "code",
        "colab": {
          "base_uri": "https://localhost:8080/",
          "height": 34
        },
        "outputId": "3b9c424f-1483-4ced-8c2c-7fb3db489798"
      },
      "source": [
        "GreyTestData = TestGenerator.flow_from_directory('/content/drive/My Drive/DTD dataset/dtd/Test/', target_size=(224,224), batch_size = 8, shuffle = False, color_mode='grayscale')"
      ],
      "execution_count": null,
      "outputs": [
        {
          "output_type": "stream",
          "text": [
            "Found 283 images belonging to 47 classes.\n"
          ],
          "name": "stdout"
        }
      ]
    },
    {
      "cell_type": "code",
      "metadata": {
        "id": "MRR9eAbUOcF3",
        "colab_type": "code",
        "colab": {}
      },
      "source": [
        "model.load_weights('/content/drive/My Drive/DTD dataset/dtd/Inception_ResnetV2_DTD_Greyscale.h5')"
      ],
      "execution_count": null,
      "outputs": []
    },
    {
      "cell_type": "code",
      "metadata": {
        "id": "H5IHoWvG8ZSE",
        "colab_type": "code",
        "colab": {}
      },
      "source": [
        "Grey_predict = model.predict(GreyTestData)"
      ],
      "execution_count": null,
      "outputs": []
    },
    {
      "cell_type": "code",
      "metadata": {
        "id": "1s-tRf1X8bXg",
        "colab_type": "code",
        "colab": {}
      },
      "source": [
        "Grey_predict_classes = np.argmax(Grey_predict, axis=1)"
      ],
      "execution_count": null,
      "outputs": []
    },
    {
      "cell_type": "code",
      "metadata": {
        "id": "QSkMj7ZF8dSi",
        "colab_type": "code",
        "colab": {
          "base_uri": "https://localhost:8080/",
          "height": 306
        },
        "outputId": "fb506d03-37d4-4219-bc38-0cb7a9ff8289"
      },
      "source": [
        "Grey_predict_classes"
      ],
      "execution_count": null,
      "outputs": [
        {
          "output_type": "execute_result",
          "data": {
            "text/plain": [
              "array([ 0, 17, 22,  0, 42, 39, 42, 37, 42, 39, 37, 42, 39, 35, 41, 22,  6,\n",
              "       22, 35, 43, 36,  3, 42,  9, 44, 35, 14,  6, 30, 30,  0, 16,  5,  5,\n",
              "        5,  5,  6,  6,  6,  6,  6,  6, 42, 37, 42, 42, 37, 42,  6, 16,  0,\n",
              "       42, 41, 29, 23, 42,  6,  9, 35, 42, 30, 30, 10, 42, 30, 16, 42,  6,\n",
              "       11, 35, 11, 11,  9, 42, 42, 29,  0, 42, 13, 34, 11,  8, 13, 37, 26,\n",
              "       11, 29, 35, 15, 26,  0, 42,  0, 39, 41, 39,  0,  5, 22, 16,  0, 44,\n",
              "        0, 12, 46, 22, 22,  0, 18,  6,  5, 16, 18, 16, 19, 26, 19, 42, 29,\n",
              "       41, 42, 21,  0, 11,  6, 35, 26, 11, 42, 11, 26, 39,  0,  0,  0,  0,\n",
              "       39,  0, 23, 42, 22, 35, 42,  6, 11, 42, 42, 11,  1, 42, 16, 16, 16,\n",
              "       42, 16,  6, 26, 10, 26, 42, 26, 26, 25, 32,  0, 10, 16, 30, 15, 42,\n",
              "       11, 42, 29, 42, 29, 22, 16, 29,  0, 39, 30, 27, 33, 30, 30, 10, 42,\n",
              "       42, 42, 41, 35, 42, 32, 40, 42, 42, 34, 37, 41, 42, 17,  8, 16,  6,\n",
              "       42, 37, 42, 11, 42, 13, 35, 35,  6, 26,  6, 16, 42,  0,  0,  4, 40,\n",
              "        6, 15, 41, 41, 37,  6, 37, 42, 39,  8, 11, 37,  6, 39, 29, 39, 39,\n",
              "       39, 39,  6, 15, 40, 40, 16, 16,  6, 41, 41, 26, 41,  6,  6,  6, 35,\n",
              "       42,  6,  6, 43,  6, 16, 42,  5, 43,  6, 44,  0, 42,  0,  0,  0, 42,\n",
              "       15,  6, 42, 45, 11, 46, 42, 18, 30, 46, 16])"
            ]
          },
          "metadata": {
            "tags": []
          },
          "execution_count": 29
        }
      ]
    },
    {
      "cell_type": "code",
      "metadata": {
        "id": "WR5JjoUf8fO2",
        "colab_type": "code",
        "colab": {}
      },
      "source": [
        "from sklearn.metrics import accuracy_score\n",
        "from sklearn.metrics import precision_score\n",
        "from sklearn.metrics import recall_score\n",
        "from sklearn.metrics import f1_score\n",
        "from sklearn.metrics import cohen_kappa_score\n",
        "from sklearn.metrics import roc_auc_score"
      ],
      "execution_count": null,
      "outputs": []
    },
    {
      "cell_type": "code",
      "metadata": {
        "id": "QPdBV1ie8h2Y",
        "colab_type": "code",
        "colab": {
          "base_uri": "https://localhost:8080/",
          "height": 34
        },
        "outputId": "8cbd6a86-42e0-4563-dcde-dcb5a6abaed8"
      },
      "source": [
        "Grey_accuracy = accuracy_score(GreyTestData.classes, Grey_predict_classes)\n",
        "print(\"Grey Accuracy: \", Grey_accuracy)"
      ],
      "execution_count": null,
      "outputs": [
        {
          "output_type": "stream",
          "text": [
            "Grey Accuracy:  0.20141342756183744\n"
          ],
          "name": "stdout"
        }
      ]
    },
    {
      "cell_type": "code",
      "metadata": {
        "id": "7NiliKD18jqU",
        "colab_type": "code",
        "colab": {
          "base_uri": "https://localhost:8080/",
          "height": 88
        },
        "outputId": "0f020618-5a23-4b0f-b625-15965c029e85"
      },
      "source": [
        "Grey_precision = precision_score(GreyTestData.classes, Grey_predict_classes,average=\"weighted\")\n",
        "print(\"Grey Precision: \", Grey_precision)"
      ],
      "execution_count": null,
      "outputs": [
        {
          "output_type": "stream",
          "text": [
            "Grey Precision:  0.23830057942578495\n"
          ],
          "name": "stdout"
        },
        {
          "output_type": "stream",
          "text": [
            "/usr/local/lib/python3.6/dist-packages/sklearn/metrics/_classification.py:1272: UndefinedMetricWarning: Precision is ill-defined and being set to 0.0 in labels with no predicted samples. Use `zero_division` parameter to control this behavior.\n",
            "  _warn_prf(average, modifier, msg_start, len(result))\n"
          ],
          "name": "stderr"
        }
      ]
    },
    {
      "cell_type": "code",
      "metadata": {
        "id": "b3jL4TNW8mPr",
        "colab_type": "code",
        "colab": {
          "base_uri": "https://localhost:8080/",
          "height": 34
        },
        "outputId": "1175736c-eb9e-407d-d2f4-cb1cb88fd21d"
      },
      "source": [
        "Grey_recall = recall_score(GreyTestData.classes, Grey_predict_classes, average=\"weighted\")\n",
        "print(\"Grey Recall:\", Grey_recall)"
      ],
      "execution_count": null,
      "outputs": [
        {
          "output_type": "stream",
          "text": [
            "Grey Recall: 0.20141342756183744\n"
          ],
          "name": "stdout"
        }
      ]
    },
    {
      "cell_type": "code",
      "metadata": {
        "id": "z7DmNdV88o7H",
        "colab_type": "code",
        "colab": {
          "base_uri": "https://localhost:8080/",
          "height": 34
        },
        "outputId": "da5ed333-d99e-4ca1-a64c-ee1215ba3ac7"
      },
      "source": [
        "Grey_f1_score = f1_score(GreyTestData.classes, Grey_predict_classes, average=\"weighted\")\n",
        "print(\"F1 score for Grey: \", Grey_f1_score)"
      ],
      "execution_count": null,
      "outputs": [
        {
          "output_type": "stream",
          "text": [
            "F1 score for Grey:  0.1772602919373425\n"
          ],
          "name": "stdout"
        }
      ]
    },
    {
      "cell_type": "code",
      "metadata": {
        "id": "w1E2CI9V8rK6",
        "colab_type": "code",
        "colab": {
          "base_uri": "https://localhost:8080/",
          "height": 34
        },
        "outputId": "113b8335-ebe4-49f4-c7e3-e1cd6b6ec7d9"
      },
      "source": [
        "Colour_TrainingData =  DataGenerator.flow_from_directory('/content/drive/My Drive/DTD dataset/dtd/Train/', target_size=(224,224), batch_size=8)"
      ],
      "execution_count": null,
      "outputs": [
        {
          "output_type": "stream",
          "text": [
            "Found 5075 images belonging to 47 classes.\n"
          ],
          "name": "stdout"
        }
      ]
    },
    {
      "cell_type": "code",
      "metadata": {
        "id": "cm6wcs9_8xNl",
        "colab_type": "code",
        "colab": {
          "base_uri": "https://localhost:8080/",
          "height": 34
        },
        "outputId": "10edb011-3ead-4265-b338-be2aaf71a0f6"
      },
      "source": [
        "Colour_ValidData =  TestGenerator.flow_from_directory('/content/drive/My Drive/DTD dataset/dtd/Valid/', target_size=(224,224), batch_size=8)"
      ],
      "execution_count": null,
      "outputs": [
        {
          "output_type": "stream",
          "text": [
            "Found 282 images belonging to 47 classes.\n"
          ],
          "name": "stdout"
        }
      ]
    },
    {
      "cell_type": "code",
      "metadata": {
        "id": "lRoP3DQE81Bn",
        "colab_type": "code",
        "colab": {}
      },
      "source": [
        "conv_base_colour = InceptionResNetV2(weights = 'imagenet', include_top = False, pooling = 'avg')"
      ],
      "execution_count": null,
      "outputs": []
    },
    {
      "cell_type": "code",
      "metadata": {
        "id": "iw3YDI5w9HoA",
        "colab_type": "code",
        "colab": {}
      },
      "source": [
        "for layer in conv_base.layers[:765]:\n",
        "  layer.trainable = False\n",
        "for layer in conv_base.layers[765:]:\n",
        "  layer.trainable = True\n",
        "for layer in conv_base.layers:\n",
        "  if isinstance(layer, BatchNormalization):\n",
        "    layer.trainable = True"
      ],
      "execution_count": null,
      "outputs": []
    },
    {
      "cell_type": "code",
      "metadata": {
        "id": "tTSM8DzJ9xsf",
        "colab_type": "code",
        "colab": {
          "base_uri": "https://localhost:8080/",
          "height": 1000
        },
        "outputId": "7cdc0f3a-53ac-4228-c788-ba73cf720337"
      },
      "source": [
        "for i, layer in enumerate(conv_base.layers):\n",
        "  print(i, layer.name, layer.trainable)"
      ],
      "execution_count": null,
      "outputs": [
        {
          "output_type": "stream",
          "text": [
            "0 input_1 False\n",
            "1 conv2d False\n",
            "2 batch_normalization True\n",
            "3 activation False\n",
            "4 conv2d_1 False\n",
            "5 batch_normalization_1 True\n",
            "6 activation_1 False\n",
            "7 conv2d_2 False\n",
            "8 batch_normalization_2 True\n",
            "9 activation_2 False\n",
            "10 max_pooling2d False\n",
            "11 conv2d_3 False\n",
            "12 batch_normalization_3 True\n",
            "13 activation_3 False\n",
            "14 conv2d_4 False\n",
            "15 batch_normalization_4 True\n",
            "16 activation_4 False\n",
            "17 max_pooling2d_1 False\n",
            "18 conv2d_8 False\n",
            "19 batch_normalization_8 True\n",
            "20 activation_8 False\n",
            "21 conv2d_6 False\n",
            "22 conv2d_9 False\n",
            "23 batch_normalization_6 True\n",
            "24 batch_normalization_9 True\n",
            "25 activation_6 False\n",
            "26 activation_9 False\n",
            "27 average_pooling2d False\n",
            "28 conv2d_5 False\n",
            "29 conv2d_7 False\n",
            "30 conv2d_10 False\n",
            "31 conv2d_11 False\n",
            "32 batch_normalization_5 True\n",
            "33 batch_normalization_7 True\n",
            "34 batch_normalization_10 True\n",
            "35 batch_normalization_11 True\n",
            "36 activation_5 False\n",
            "37 activation_7 False\n",
            "38 activation_10 False\n",
            "39 activation_11 False\n",
            "40 mixed_5b False\n",
            "41 conv2d_15 False\n",
            "42 batch_normalization_15 True\n",
            "43 activation_15 False\n",
            "44 conv2d_13 False\n",
            "45 conv2d_16 False\n",
            "46 batch_normalization_13 True\n",
            "47 batch_normalization_16 True\n",
            "48 activation_13 False\n",
            "49 activation_16 False\n",
            "50 conv2d_12 False\n",
            "51 conv2d_14 False\n",
            "52 conv2d_17 False\n",
            "53 batch_normalization_12 True\n",
            "54 batch_normalization_14 True\n",
            "55 batch_normalization_17 True\n",
            "56 activation_12 False\n",
            "57 activation_14 False\n",
            "58 activation_17 False\n",
            "59 block35_1_mixed False\n",
            "60 block35_1_conv False\n",
            "61 block35_1 False\n",
            "62 block35_1_ac False\n",
            "63 conv2d_21 False\n",
            "64 batch_normalization_21 True\n",
            "65 activation_21 False\n",
            "66 conv2d_19 False\n",
            "67 conv2d_22 False\n",
            "68 batch_normalization_19 True\n",
            "69 batch_normalization_22 True\n",
            "70 activation_19 False\n",
            "71 activation_22 False\n",
            "72 conv2d_18 False\n",
            "73 conv2d_20 False\n",
            "74 conv2d_23 False\n",
            "75 batch_normalization_18 True\n",
            "76 batch_normalization_20 True\n",
            "77 batch_normalization_23 True\n",
            "78 activation_18 False\n",
            "79 activation_20 False\n",
            "80 activation_23 False\n",
            "81 block35_2_mixed False\n",
            "82 block35_2_conv False\n",
            "83 block35_2 False\n",
            "84 block35_2_ac False\n",
            "85 conv2d_27 False\n",
            "86 batch_normalization_27 True\n",
            "87 activation_27 False\n",
            "88 conv2d_25 False\n",
            "89 conv2d_28 False\n",
            "90 batch_normalization_25 True\n",
            "91 batch_normalization_28 True\n",
            "92 activation_25 False\n",
            "93 activation_28 False\n",
            "94 conv2d_24 False\n",
            "95 conv2d_26 False\n",
            "96 conv2d_29 False\n",
            "97 batch_normalization_24 True\n",
            "98 batch_normalization_26 True\n",
            "99 batch_normalization_29 True\n",
            "100 activation_24 False\n",
            "101 activation_26 False\n",
            "102 activation_29 False\n",
            "103 block35_3_mixed False\n",
            "104 block35_3_conv False\n",
            "105 block35_3 False\n",
            "106 block35_3_ac False\n",
            "107 conv2d_33 False\n",
            "108 batch_normalization_33 True\n",
            "109 activation_33 False\n",
            "110 conv2d_31 False\n",
            "111 conv2d_34 False\n",
            "112 batch_normalization_31 True\n",
            "113 batch_normalization_34 True\n",
            "114 activation_31 False\n",
            "115 activation_34 False\n",
            "116 conv2d_30 False\n",
            "117 conv2d_32 False\n",
            "118 conv2d_35 False\n",
            "119 batch_normalization_30 True\n",
            "120 batch_normalization_32 True\n",
            "121 batch_normalization_35 True\n",
            "122 activation_30 False\n",
            "123 activation_32 False\n",
            "124 activation_35 False\n",
            "125 block35_4_mixed False\n",
            "126 block35_4_conv False\n",
            "127 block35_4 False\n",
            "128 block35_4_ac False\n",
            "129 conv2d_39 False\n",
            "130 batch_normalization_39 True\n",
            "131 activation_39 False\n",
            "132 conv2d_37 False\n",
            "133 conv2d_40 False\n",
            "134 batch_normalization_37 True\n",
            "135 batch_normalization_40 True\n",
            "136 activation_37 False\n",
            "137 activation_40 False\n",
            "138 conv2d_36 False\n",
            "139 conv2d_38 False\n",
            "140 conv2d_41 False\n",
            "141 batch_normalization_36 True\n",
            "142 batch_normalization_38 True\n",
            "143 batch_normalization_41 True\n",
            "144 activation_36 False\n",
            "145 activation_38 False\n",
            "146 activation_41 False\n",
            "147 block35_5_mixed False\n",
            "148 block35_5_conv False\n",
            "149 block35_5 False\n",
            "150 block35_5_ac False\n",
            "151 conv2d_45 False\n",
            "152 batch_normalization_45 True\n",
            "153 activation_45 False\n",
            "154 conv2d_43 False\n",
            "155 conv2d_46 False\n",
            "156 batch_normalization_43 True\n",
            "157 batch_normalization_46 True\n",
            "158 activation_43 False\n",
            "159 activation_46 False\n",
            "160 conv2d_42 False\n",
            "161 conv2d_44 False\n",
            "162 conv2d_47 False\n",
            "163 batch_normalization_42 True\n",
            "164 batch_normalization_44 True\n",
            "165 batch_normalization_47 True\n",
            "166 activation_42 False\n",
            "167 activation_44 False\n",
            "168 activation_47 False\n",
            "169 block35_6_mixed False\n",
            "170 block35_6_conv False\n",
            "171 block35_6 False\n",
            "172 block35_6_ac False\n",
            "173 conv2d_51 False\n",
            "174 batch_normalization_51 True\n",
            "175 activation_51 False\n",
            "176 conv2d_49 False\n",
            "177 conv2d_52 False\n",
            "178 batch_normalization_49 True\n",
            "179 batch_normalization_52 True\n",
            "180 activation_49 False\n",
            "181 activation_52 False\n",
            "182 conv2d_48 False\n",
            "183 conv2d_50 False\n",
            "184 conv2d_53 False\n",
            "185 batch_normalization_48 True\n",
            "186 batch_normalization_50 True\n",
            "187 batch_normalization_53 True\n",
            "188 activation_48 False\n",
            "189 activation_50 False\n",
            "190 activation_53 False\n",
            "191 block35_7_mixed False\n",
            "192 block35_7_conv False\n",
            "193 block35_7 False\n",
            "194 block35_7_ac False\n",
            "195 conv2d_57 False\n",
            "196 batch_normalization_57 True\n",
            "197 activation_57 False\n",
            "198 conv2d_55 False\n",
            "199 conv2d_58 False\n",
            "200 batch_normalization_55 True\n",
            "201 batch_normalization_58 True\n",
            "202 activation_55 False\n",
            "203 activation_58 False\n",
            "204 conv2d_54 False\n",
            "205 conv2d_56 False\n",
            "206 conv2d_59 False\n",
            "207 batch_normalization_54 True\n",
            "208 batch_normalization_56 True\n",
            "209 batch_normalization_59 True\n",
            "210 activation_54 False\n",
            "211 activation_56 False\n",
            "212 activation_59 False\n",
            "213 block35_8_mixed False\n",
            "214 block35_8_conv False\n",
            "215 block35_8 False\n",
            "216 block35_8_ac False\n",
            "217 conv2d_63 False\n",
            "218 batch_normalization_63 True\n",
            "219 activation_63 False\n",
            "220 conv2d_61 False\n",
            "221 conv2d_64 False\n",
            "222 batch_normalization_61 True\n",
            "223 batch_normalization_64 True\n",
            "224 activation_61 False\n",
            "225 activation_64 False\n",
            "226 conv2d_60 False\n",
            "227 conv2d_62 False\n",
            "228 conv2d_65 False\n",
            "229 batch_normalization_60 True\n",
            "230 batch_normalization_62 True\n",
            "231 batch_normalization_65 True\n",
            "232 activation_60 False\n",
            "233 activation_62 False\n",
            "234 activation_65 False\n",
            "235 block35_9_mixed False\n",
            "236 block35_9_conv False\n",
            "237 block35_9 False\n",
            "238 block35_9_ac False\n",
            "239 conv2d_69 False\n",
            "240 batch_normalization_69 True\n",
            "241 activation_69 False\n",
            "242 conv2d_67 False\n",
            "243 conv2d_70 False\n",
            "244 batch_normalization_67 True\n",
            "245 batch_normalization_70 True\n",
            "246 activation_67 False\n",
            "247 activation_70 False\n",
            "248 conv2d_66 False\n",
            "249 conv2d_68 False\n",
            "250 conv2d_71 False\n",
            "251 batch_normalization_66 True\n",
            "252 batch_normalization_68 True\n",
            "253 batch_normalization_71 True\n",
            "254 activation_66 False\n",
            "255 activation_68 False\n",
            "256 activation_71 False\n",
            "257 block35_10_mixed False\n",
            "258 block35_10_conv False\n",
            "259 block35_10 False\n",
            "260 block35_10_ac False\n",
            "261 conv2d_73 False\n",
            "262 batch_normalization_73 True\n",
            "263 activation_73 False\n",
            "264 conv2d_74 False\n",
            "265 batch_normalization_74 True\n",
            "266 activation_74 False\n",
            "267 conv2d_72 False\n",
            "268 conv2d_75 False\n",
            "269 batch_normalization_72 True\n",
            "270 batch_normalization_75 True\n",
            "271 activation_72 False\n",
            "272 activation_75 False\n",
            "273 max_pooling2d_2 False\n",
            "274 mixed_6a False\n",
            "275 conv2d_77 False\n",
            "276 batch_normalization_77 True\n",
            "277 activation_77 False\n",
            "278 conv2d_78 False\n",
            "279 batch_normalization_78 True\n",
            "280 activation_78 False\n",
            "281 conv2d_76 False\n",
            "282 conv2d_79 False\n",
            "283 batch_normalization_76 True\n",
            "284 batch_normalization_79 True\n",
            "285 activation_76 False\n",
            "286 activation_79 False\n",
            "287 block17_1_mixed False\n",
            "288 block17_1_conv False\n",
            "289 block17_1 False\n",
            "290 block17_1_ac False\n",
            "291 conv2d_81 False\n",
            "292 batch_normalization_81 True\n",
            "293 activation_81 False\n",
            "294 conv2d_82 False\n",
            "295 batch_normalization_82 True\n",
            "296 activation_82 False\n",
            "297 conv2d_80 False\n",
            "298 conv2d_83 False\n",
            "299 batch_normalization_80 True\n",
            "300 batch_normalization_83 True\n",
            "301 activation_80 False\n",
            "302 activation_83 False\n",
            "303 block17_2_mixed False\n",
            "304 block17_2_conv False\n",
            "305 block17_2 False\n",
            "306 block17_2_ac False\n",
            "307 conv2d_85 False\n",
            "308 batch_normalization_85 True\n",
            "309 activation_85 False\n",
            "310 conv2d_86 False\n",
            "311 batch_normalization_86 True\n",
            "312 activation_86 False\n",
            "313 conv2d_84 False\n",
            "314 conv2d_87 False\n",
            "315 batch_normalization_84 True\n",
            "316 batch_normalization_87 True\n",
            "317 activation_84 False\n",
            "318 activation_87 False\n",
            "319 block17_3_mixed False\n",
            "320 block17_3_conv False\n",
            "321 block17_3 False\n",
            "322 block17_3_ac False\n",
            "323 conv2d_89 False\n",
            "324 batch_normalization_89 True\n",
            "325 activation_89 False\n",
            "326 conv2d_90 False\n",
            "327 batch_normalization_90 True\n",
            "328 activation_90 False\n",
            "329 conv2d_88 False\n",
            "330 conv2d_91 False\n",
            "331 batch_normalization_88 True\n",
            "332 batch_normalization_91 True\n",
            "333 activation_88 False\n",
            "334 activation_91 False\n",
            "335 block17_4_mixed False\n",
            "336 block17_4_conv False\n",
            "337 block17_4 False\n",
            "338 block17_4_ac False\n",
            "339 conv2d_93 False\n",
            "340 batch_normalization_93 True\n",
            "341 activation_93 False\n",
            "342 conv2d_94 False\n",
            "343 batch_normalization_94 True\n",
            "344 activation_94 False\n",
            "345 conv2d_92 False\n",
            "346 conv2d_95 False\n",
            "347 batch_normalization_92 True\n",
            "348 batch_normalization_95 True\n",
            "349 activation_92 False\n",
            "350 activation_95 False\n",
            "351 block17_5_mixed False\n",
            "352 block17_5_conv False\n",
            "353 block17_5 False\n",
            "354 block17_5_ac False\n",
            "355 conv2d_97 False\n",
            "356 batch_normalization_97 True\n",
            "357 activation_97 False\n",
            "358 conv2d_98 False\n",
            "359 batch_normalization_98 True\n",
            "360 activation_98 False\n",
            "361 conv2d_96 False\n",
            "362 conv2d_99 False\n",
            "363 batch_normalization_96 True\n",
            "364 batch_normalization_99 True\n",
            "365 activation_96 False\n",
            "366 activation_99 False\n",
            "367 block17_6_mixed False\n",
            "368 block17_6_conv False\n",
            "369 block17_6 False\n",
            "370 block17_6_ac False\n",
            "371 conv2d_101 False\n",
            "372 batch_normalization_101 True\n",
            "373 activation_101 False\n",
            "374 conv2d_102 False\n",
            "375 batch_normalization_102 True\n",
            "376 activation_102 False\n",
            "377 conv2d_100 False\n",
            "378 conv2d_103 False\n",
            "379 batch_normalization_100 True\n",
            "380 batch_normalization_103 True\n",
            "381 activation_100 False\n",
            "382 activation_103 False\n",
            "383 block17_7_mixed False\n",
            "384 block17_7_conv False\n",
            "385 block17_7 False\n",
            "386 block17_7_ac False\n",
            "387 conv2d_105 False\n",
            "388 batch_normalization_105 True\n",
            "389 activation_105 False\n",
            "390 conv2d_106 False\n",
            "391 batch_normalization_106 True\n",
            "392 activation_106 False\n",
            "393 conv2d_104 False\n",
            "394 conv2d_107 False\n",
            "395 batch_normalization_104 True\n",
            "396 batch_normalization_107 True\n",
            "397 activation_104 False\n",
            "398 activation_107 False\n",
            "399 block17_8_mixed False\n",
            "400 block17_8_conv False\n",
            "401 block17_8 False\n",
            "402 block17_8_ac False\n",
            "403 conv2d_109 False\n",
            "404 batch_normalization_109 True\n",
            "405 activation_109 False\n",
            "406 conv2d_110 False\n",
            "407 batch_normalization_110 True\n",
            "408 activation_110 False\n",
            "409 conv2d_108 False\n",
            "410 conv2d_111 False\n",
            "411 batch_normalization_108 True\n",
            "412 batch_normalization_111 True\n",
            "413 activation_108 False\n",
            "414 activation_111 False\n",
            "415 block17_9_mixed False\n",
            "416 block17_9_conv False\n",
            "417 block17_9 False\n",
            "418 block17_9_ac False\n",
            "419 conv2d_113 False\n",
            "420 batch_normalization_113 True\n",
            "421 activation_113 False\n",
            "422 conv2d_114 False\n",
            "423 batch_normalization_114 True\n",
            "424 activation_114 False\n",
            "425 conv2d_112 False\n",
            "426 conv2d_115 False\n",
            "427 batch_normalization_112 True\n",
            "428 batch_normalization_115 True\n",
            "429 activation_112 False\n",
            "430 activation_115 False\n",
            "431 block17_10_mixed False\n",
            "432 block17_10_conv False\n",
            "433 block17_10 False\n",
            "434 block17_10_ac False\n",
            "435 conv2d_117 False\n",
            "436 batch_normalization_117 True\n",
            "437 activation_117 False\n",
            "438 conv2d_118 False\n",
            "439 batch_normalization_118 True\n",
            "440 activation_118 False\n",
            "441 conv2d_116 False\n",
            "442 conv2d_119 False\n",
            "443 batch_normalization_116 True\n",
            "444 batch_normalization_119 True\n",
            "445 activation_116 False\n",
            "446 activation_119 False\n",
            "447 block17_11_mixed False\n",
            "448 block17_11_conv False\n",
            "449 block17_11 False\n",
            "450 block17_11_ac False\n",
            "451 conv2d_121 False\n",
            "452 batch_normalization_121 True\n",
            "453 activation_121 False\n",
            "454 conv2d_122 False\n",
            "455 batch_normalization_122 True\n",
            "456 activation_122 False\n",
            "457 conv2d_120 False\n",
            "458 conv2d_123 False\n",
            "459 batch_normalization_120 True\n",
            "460 batch_normalization_123 True\n",
            "461 activation_120 False\n",
            "462 activation_123 False\n",
            "463 block17_12_mixed False\n",
            "464 block17_12_conv False\n",
            "465 block17_12 False\n",
            "466 block17_12_ac False\n",
            "467 conv2d_125 False\n",
            "468 batch_normalization_125 True\n",
            "469 activation_125 False\n",
            "470 conv2d_126 False\n",
            "471 batch_normalization_126 True\n",
            "472 activation_126 False\n",
            "473 conv2d_124 False\n",
            "474 conv2d_127 False\n",
            "475 batch_normalization_124 True\n",
            "476 batch_normalization_127 True\n",
            "477 activation_124 False\n",
            "478 activation_127 False\n",
            "479 block17_13_mixed False\n",
            "480 block17_13_conv False\n",
            "481 block17_13 False\n",
            "482 block17_13_ac False\n",
            "483 conv2d_129 False\n",
            "484 batch_normalization_129 True\n",
            "485 activation_129 False\n",
            "486 conv2d_130 False\n",
            "487 batch_normalization_130 True\n",
            "488 activation_130 False\n",
            "489 conv2d_128 False\n",
            "490 conv2d_131 False\n",
            "491 batch_normalization_128 True\n",
            "492 batch_normalization_131 True\n",
            "493 activation_128 False\n",
            "494 activation_131 False\n",
            "495 block17_14_mixed False\n",
            "496 block17_14_conv False\n",
            "497 block17_14 False\n",
            "498 block17_14_ac False\n",
            "499 conv2d_133 False\n",
            "500 batch_normalization_133 True\n",
            "501 activation_133 False\n",
            "502 conv2d_134 False\n",
            "503 batch_normalization_134 True\n",
            "504 activation_134 False\n",
            "505 conv2d_132 False\n",
            "506 conv2d_135 False\n",
            "507 batch_normalization_132 True\n",
            "508 batch_normalization_135 True\n",
            "509 activation_132 False\n",
            "510 activation_135 False\n",
            "511 block17_15_mixed False\n",
            "512 block17_15_conv False\n",
            "513 block17_15 False\n",
            "514 block17_15_ac False\n",
            "515 conv2d_137 False\n",
            "516 batch_normalization_137 True\n",
            "517 activation_137 False\n",
            "518 conv2d_138 False\n",
            "519 batch_normalization_138 True\n",
            "520 activation_138 False\n",
            "521 conv2d_136 False\n",
            "522 conv2d_139 False\n",
            "523 batch_normalization_136 True\n",
            "524 batch_normalization_139 True\n",
            "525 activation_136 False\n",
            "526 activation_139 False\n",
            "527 block17_16_mixed False\n",
            "528 block17_16_conv False\n",
            "529 block17_16 False\n",
            "530 block17_16_ac False\n",
            "531 conv2d_141 False\n",
            "532 batch_normalization_141 True\n",
            "533 activation_141 False\n",
            "534 conv2d_142 False\n",
            "535 batch_normalization_142 True\n",
            "536 activation_142 False\n",
            "537 conv2d_140 False\n",
            "538 conv2d_143 False\n",
            "539 batch_normalization_140 True\n",
            "540 batch_normalization_143 True\n",
            "541 activation_140 False\n",
            "542 activation_143 False\n",
            "543 block17_17_mixed False\n",
            "544 block17_17_conv False\n",
            "545 block17_17 False\n",
            "546 block17_17_ac False\n",
            "547 conv2d_145 False\n",
            "548 batch_normalization_145 True\n",
            "549 activation_145 False\n",
            "550 conv2d_146 False\n",
            "551 batch_normalization_146 True\n",
            "552 activation_146 False\n",
            "553 conv2d_144 False\n",
            "554 conv2d_147 False\n",
            "555 batch_normalization_144 True\n",
            "556 batch_normalization_147 True\n",
            "557 activation_144 False\n",
            "558 activation_147 False\n",
            "559 block17_18_mixed False\n",
            "560 block17_18_conv False\n",
            "561 block17_18 False\n",
            "562 block17_18_ac False\n",
            "563 conv2d_149 False\n",
            "564 batch_normalization_149 True\n",
            "565 activation_149 False\n",
            "566 conv2d_150 False\n",
            "567 batch_normalization_150 True\n",
            "568 activation_150 False\n",
            "569 conv2d_148 False\n",
            "570 conv2d_151 False\n",
            "571 batch_normalization_148 True\n",
            "572 batch_normalization_151 True\n",
            "573 activation_148 False\n",
            "574 activation_151 False\n",
            "575 block17_19_mixed False\n",
            "576 block17_19_conv False\n",
            "577 block17_19 False\n",
            "578 block17_19_ac False\n",
            "579 conv2d_153 False\n",
            "580 batch_normalization_153 True\n",
            "581 activation_153 False\n",
            "582 conv2d_154 False\n",
            "583 batch_normalization_154 True\n",
            "584 activation_154 False\n",
            "585 conv2d_152 False\n",
            "586 conv2d_155 False\n",
            "587 batch_normalization_152 True\n",
            "588 batch_normalization_155 True\n",
            "589 activation_152 False\n",
            "590 activation_155 False\n",
            "591 block17_20_mixed False\n",
            "592 block17_20_conv False\n",
            "593 block17_20 False\n",
            "594 block17_20_ac False\n",
            "595 conv2d_160 False\n",
            "596 batch_normalization_160 True\n",
            "597 activation_160 False\n",
            "598 conv2d_156 False\n",
            "599 conv2d_158 False\n",
            "600 conv2d_161 False\n",
            "601 batch_normalization_156 True\n",
            "602 batch_normalization_158 True\n",
            "603 batch_normalization_161 True\n",
            "604 activation_156 False\n",
            "605 activation_158 False\n",
            "606 activation_161 False\n",
            "607 conv2d_157 False\n",
            "608 conv2d_159 False\n",
            "609 conv2d_162 False\n",
            "610 batch_normalization_157 True\n",
            "611 batch_normalization_159 True\n",
            "612 batch_normalization_162 True\n",
            "613 activation_157 False\n",
            "614 activation_159 False\n",
            "615 activation_162 False\n",
            "616 max_pooling2d_3 False\n",
            "617 mixed_7a False\n",
            "618 conv2d_164 False\n",
            "619 batch_normalization_164 True\n",
            "620 activation_164 False\n",
            "621 conv2d_165 False\n",
            "622 batch_normalization_165 True\n",
            "623 activation_165 False\n",
            "624 conv2d_163 False\n",
            "625 conv2d_166 False\n",
            "626 batch_normalization_163 True\n",
            "627 batch_normalization_166 True\n",
            "628 activation_163 False\n",
            "629 activation_166 False\n",
            "630 block8_1_mixed False\n",
            "631 block8_1_conv False\n",
            "632 block8_1 False\n",
            "633 block8_1_ac False\n",
            "634 conv2d_168 False\n",
            "635 batch_normalization_168 True\n",
            "636 activation_168 False\n",
            "637 conv2d_169 False\n",
            "638 batch_normalization_169 True\n",
            "639 activation_169 False\n",
            "640 conv2d_167 False\n",
            "641 conv2d_170 False\n",
            "642 batch_normalization_167 True\n",
            "643 batch_normalization_170 True\n",
            "644 activation_167 False\n",
            "645 activation_170 False\n",
            "646 block8_2_mixed False\n",
            "647 block8_2_conv False\n",
            "648 block8_2 False\n",
            "649 block8_2_ac False\n",
            "650 conv2d_172 False\n",
            "651 batch_normalization_172 True\n",
            "652 activation_172 False\n",
            "653 conv2d_173 False\n",
            "654 batch_normalization_173 True\n",
            "655 activation_173 False\n",
            "656 conv2d_171 False\n",
            "657 conv2d_174 False\n",
            "658 batch_normalization_171 True\n",
            "659 batch_normalization_174 True\n",
            "660 activation_171 False\n",
            "661 activation_174 False\n",
            "662 block8_3_mixed False\n",
            "663 block8_3_conv False\n",
            "664 block8_3 False\n",
            "665 block8_3_ac False\n",
            "666 conv2d_176 False\n",
            "667 batch_normalization_176 True\n",
            "668 activation_176 False\n",
            "669 conv2d_177 False\n",
            "670 batch_normalization_177 True\n",
            "671 activation_177 False\n",
            "672 conv2d_175 False\n",
            "673 conv2d_178 False\n",
            "674 batch_normalization_175 True\n",
            "675 batch_normalization_178 True\n",
            "676 activation_175 False\n",
            "677 activation_178 False\n",
            "678 block8_4_mixed False\n",
            "679 block8_4_conv False\n",
            "680 block8_4 False\n",
            "681 block8_4_ac False\n",
            "682 conv2d_180 False\n",
            "683 batch_normalization_180 True\n",
            "684 activation_180 False\n",
            "685 conv2d_181 False\n",
            "686 batch_normalization_181 True\n",
            "687 activation_181 False\n",
            "688 conv2d_179 False\n",
            "689 conv2d_182 False\n",
            "690 batch_normalization_179 True\n",
            "691 batch_normalization_182 True\n",
            "692 activation_179 False\n",
            "693 activation_182 False\n",
            "694 block8_5_mixed False\n",
            "695 block8_5_conv False\n",
            "696 block8_5 False\n",
            "697 block8_5_ac False\n",
            "698 conv2d_184 False\n",
            "699 batch_normalization_184 True\n",
            "700 activation_184 False\n",
            "701 conv2d_185 False\n",
            "702 batch_normalization_185 True\n",
            "703 activation_185 False\n",
            "704 conv2d_183 False\n",
            "705 conv2d_186 False\n",
            "706 batch_normalization_183 True\n",
            "707 batch_normalization_186 True\n",
            "708 activation_183 False\n",
            "709 activation_186 False\n",
            "710 block8_6_mixed False\n",
            "711 block8_6_conv False\n",
            "712 block8_6 False\n",
            "713 block8_6_ac False\n",
            "714 conv2d_188 False\n",
            "715 batch_normalization_188 True\n",
            "716 activation_188 False\n",
            "717 conv2d_189 False\n",
            "718 batch_normalization_189 True\n",
            "719 activation_189 False\n",
            "720 conv2d_187 False\n",
            "721 conv2d_190 False\n",
            "722 batch_normalization_187 True\n",
            "723 batch_normalization_190 True\n",
            "724 activation_187 False\n",
            "725 activation_190 False\n",
            "726 block8_7_mixed False\n",
            "727 block8_7_conv False\n",
            "728 block8_7 False\n",
            "729 block8_7_ac False\n",
            "730 conv2d_192 False\n",
            "731 batch_normalization_192 True\n",
            "732 activation_192 False\n",
            "733 conv2d_193 False\n",
            "734 batch_normalization_193 True\n",
            "735 activation_193 False\n",
            "736 conv2d_191 False\n",
            "737 conv2d_194 False\n",
            "738 batch_normalization_191 True\n",
            "739 batch_normalization_194 True\n",
            "740 activation_191 False\n",
            "741 activation_194 False\n",
            "742 block8_8_mixed False\n",
            "743 block8_8_conv False\n",
            "744 block8_8 False\n",
            "745 block8_8_ac False\n",
            "746 conv2d_196 False\n",
            "747 batch_normalization_196 True\n",
            "748 activation_196 False\n",
            "749 conv2d_197 False\n",
            "750 batch_normalization_197 True\n",
            "751 activation_197 False\n",
            "752 conv2d_195 False\n",
            "753 conv2d_198 False\n",
            "754 batch_normalization_195 True\n",
            "755 batch_normalization_198 True\n",
            "756 activation_195 False\n",
            "757 activation_198 False\n",
            "758 block8_9_mixed False\n",
            "759 block8_9_conv False\n",
            "760 block8_9 False\n",
            "761 block8_9_ac False\n",
            "762 conv2d_200 False\n",
            "763 batch_normalization_200 True\n",
            "764 activation_200 False\n",
            "765 conv2d_201 True\n",
            "766 batch_normalization_201 True\n",
            "767 activation_201 True\n",
            "768 conv2d_199 True\n",
            "769 conv2d_202 True\n",
            "770 batch_normalization_199 True\n",
            "771 batch_normalization_202 True\n",
            "772 activation_199 True\n",
            "773 activation_202 True\n",
            "774 block8_10_mixed True\n",
            "775 block8_10_conv True\n",
            "776 block8_10 True\n",
            "777 conv_7b True\n",
            "778 conv_7b_bn True\n",
            "779 conv_7b_ac True\n",
            "780 global_average_pooling2d True\n"
          ],
          "name": "stdout"
        }
      ]
    },
    {
      "cell_type": "code",
      "metadata": {
        "id": "E2waEzcK92d2",
        "colab_type": "code",
        "colab": {}
      },
      "source": [
        "from keras.layers import Input"
      ],
      "execution_count": null,
      "outputs": []
    },
    {
      "cell_type": "code",
      "metadata": {
        "id": "rHch9MVY-FGJ",
        "colab_type": "code",
        "colab": {}
      },
      "source": [
        "input_tensor = Input(shape=(224,224,3))"
      ],
      "execution_count": null,
      "outputs": []
    },
    {
      "cell_type": "code",
      "metadata": {
        "id": "zwcHRHrn-E1S",
        "colab_type": "code",
        "colab": {}
      },
      "source": [
        "x = conv_base_colour(input_tensor)"
      ],
      "execution_count": null,
      "outputs": []
    },
    {
      "cell_type": "code",
      "metadata": {
        "id": "qdDFqF8tQaGa",
        "colab_type": "code",
        "colab": {}
      },
      "source": [
        "x = Dense(2048, activation='relu', kernel_regularizer=regularizers.l2(0.001))(x)\n",
        "x = Dropout(0.5)(x)\n",
        "out = Dense(47, activation='softmax')(x)"
      ],
      "execution_count": null,
      "outputs": []
    },
    {
      "cell_type": "code",
      "metadata": {
        "id": "rbc25w-t-ujn",
        "colab_type": "code",
        "colab": {}
      },
      "source": [
        "model_colour = Model(inputs = input_tensor, outputs = out)"
      ],
      "execution_count": null,
      "outputs": []
    },
    {
      "cell_type": "code",
      "metadata": {
        "id": "fOT3FZcP-5fI",
        "colab_type": "code",
        "colab": {
          "base_uri": "https://localhost:8080/",
          "height": 323
        },
        "outputId": "bb37b05c-628c-4ac4-925d-a060a7ff030b"
      },
      "source": [
        "model_colour.summary()"
      ],
      "execution_count": null,
      "outputs": [
        {
          "output_type": "stream",
          "text": [
            "Model: \"functional_3\"\n",
            "_________________________________________________________________\n",
            "Layer (type)                 Output Shape              Param #   \n",
            "=================================================================\n",
            "input_4 (InputLayer)         [(None, 224, 224, 3)]     0         \n",
            "_________________________________________________________________\n",
            "inception_resnet_v2 (Functio (None, 1536)              54336736  \n",
            "_________________________________________________________________\n",
            "dense_2 (Dense)              (None, 2048)              3147776   \n",
            "_________________________________________________________________\n",
            "dropout_1 (Dropout)          (None, 2048)              0         \n",
            "_________________________________________________________________\n",
            "dense_3 (Dense)              (None, 47)                96303     \n",
            "=================================================================\n",
            "Total params: 57,580,815\n",
            "Trainable params: 57,520,271\n",
            "Non-trainable params: 60,544\n",
            "_________________________________________________________________\n"
          ],
          "name": "stdout"
        }
      ]
    },
    {
      "cell_type": "code",
      "metadata": {
        "id": "Lqpn5go5-8v5",
        "colab_type": "code",
        "colab": {}
      },
      "source": [
        "model_colour.compile(loss='categorical_crossentropy',\n",
        "              optimizer=Adam(lr=0.001),\n",
        "              metrics=['accuracy'])"
      ],
      "execution_count": null,
      "outputs": []
    },
    {
      "cell_type": "code",
      "metadata": {
        "id": "af4WkeVK_ARA",
        "colab_type": "code",
        "colab": {}
      },
      "source": [
        "from keras.callbacks import ModelCheckpoint, EarlyStopping, ReduceLROnPlateau\n",
        "checkpoint = ModelCheckpoint(\"/content/drive/My Drive/DTD dataset/dtd/Inception_ResnetV2_DTDSGD_Colour.h5\",\n",
        "                             monitor=\"val_loss\",\n",
        "                             mode=\"min\",\n",
        "                             save_best_only = True,\n",
        "                             verbose=1)\n",
        "\n",
        "earlystop = EarlyStopping(monitor = 'val_loss', \n",
        "                          min_delta = 0, \n",
        "                          patience = 20,\n",
        "                          verbose = 1,\n",
        "                          restore_best_weights = True)\n",
        "\n",
        "reduce_lr = ReduceLROnPlateau(monitor = 'val_loss',\n",
        "                              factor = 0.2,\n",
        "                              patience = 20,\n",
        "                              verbose = 1,\n",
        "                              min_delta = 0.00001)\n",
        "\n",
        "callBacks = [earlystop, checkpoint, reduce_lr]"
      ],
      "execution_count": null,
      "outputs": []
    },
    {
      "cell_type": "code",
      "metadata": {
        "id": "X3sUkRZ1_Jcx",
        "colab_type": "code",
        "colab": {
          "base_uri": "https://localhost:8080/",
          "height": 1000
        },
        "outputId": "5955e8fa-2fb3-4dd0-d1ad-97f4cca445fc"
      },
      "source": [
        "hist = model_colour.fit_generator(steps_per_epoch=634,generator= Colour_TrainingData, validation_data= Colour_ValidData, validation_steps=35,epochs=100,callbacks=callBacks)"
      ],
      "execution_count": null,
      "outputs": [
        {
          "output_type": "stream",
          "text": [
            "Epoch 1/100\n",
            "634/634 [==============================] - ETA: 0s - loss: 5.5780 - accuracy: 0.0485\n",
            "Epoch 00001: val_loss improved from inf to 5.98233, saving model to /content/drive/My Drive/DTD dataset/dtd/Inception_ResnetV2_DTDSGD_Colour.h5\n",
            "634/634 [==============================] - 101s 159ms/step - loss: 5.5780 - accuracy: 0.0485 - val_loss: 5.9823 - val_accuracy: 0.1500\n",
            "Epoch 2/100\n",
            "634/634 [==============================] - ETA: 0s - loss: 5.3137 - accuracy: 0.1251\n",
            "Epoch 00002: val_loss did not improve from 5.98233\n",
            "634/634 [==============================] - 96s 151ms/step - loss: 5.3137 - accuracy: 0.1251 - val_loss: 6.8381 - val_accuracy: 0.2071\n",
            "Epoch 3/100\n",
            "634/634 [==============================] - ETA: 0s - loss: 4.9495 - accuracy: 0.2309\n",
            "Epoch 00003: val_loss improved from 5.98233 to 5.77524, saving model to /content/drive/My Drive/DTD dataset/dtd/Inception_ResnetV2_DTDSGD_Colour.h5\n",
            "634/634 [==============================] - 99s 156ms/step - loss: 4.9495 - accuracy: 0.2309 - val_loss: 5.7752 - val_accuracy: 0.3071\n",
            "Epoch 4/100\n",
            "634/634 [==============================] - ETA: 0s - loss: 4.5732 - accuracy: 0.3055\n",
            "Epoch 00004: val_loss did not improve from 5.77524\n",
            "634/634 [==============================] - 96s 152ms/step - loss: 4.5732 - accuracy: 0.3055 - val_loss: 6.0713 - val_accuracy: 0.3964\n",
            "Epoch 5/100\n",
            "634/634 [==============================] - ETA: 0s - loss: 4.2925 - accuracy: 0.3568\n",
            "Epoch 00005: val_loss improved from 5.77524 to 4.57923, saving model to /content/drive/My Drive/DTD dataset/dtd/Inception_ResnetV2_DTDSGD_Colour.h5\n",
            "634/634 [==============================] - 99s 156ms/step - loss: 4.2925 - accuracy: 0.3568 - val_loss: 4.5792 - val_accuracy: 0.4321\n",
            "Epoch 6/100\n",
            "634/634 [==============================] - ETA: 0s - loss: 4.0430 - accuracy: 0.4119\n",
            "Epoch 00006: val_loss improved from 4.57923 to 4.49571, saving model to /content/drive/My Drive/DTD dataset/dtd/Inception_ResnetV2_DTDSGD_Colour.h5\n",
            "634/634 [==============================] - 99s 156ms/step - loss: 4.0430 - accuracy: 0.4119 - val_loss: 4.4957 - val_accuracy: 0.4429\n",
            "Epoch 7/100\n",
            "634/634 [==============================] - ETA: 0s - loss: 3.8532 - accuracy: 0.4431\n",
            "Epoch 00007: val_loss improved from 4.49571 to 4.22154, saving model to /content/drive/My Drive/DTD dataset/dtd/Inception_ResnetV2_DTDSGD_Colour.h5\n",
            "634/634 [==============================] - 100s 158ms/step - loss: 3.8532 - accuracy: 0.4431 - val_loss: 4.2215 - val_accuracy: 0.4750\n",
            "Epoch 8/100\n",
            "634/634 [==============================] - ETA: 0s - loss: 3.7255 - accuracy: 0.4626\n",
            "Epoch 00008: val_loss did not improve from 4.22154\n",
            "634/634 [==============================] - 97s 152ms/step - loss: 3.7255 - accuracy: 0.4626 - val_loss: 4.5869 - val_accuracy: 0.4821\n",
            "Epoch 9/100\n",
            "634/634 [==============================] - ETA: 0s - loss: 3.6274 - accuracy: 0.4804\n",
            "Epoch 00009: val_loss did not improve from 4.22154\n",
            "634/634 [==============================] - 96s 151ms/step - loss: 3.6274 - accuracy: 0.4804 - val_loss: 5.2295 - val_accuracy: 0.4857\n",
            "Epoch 10/100\n",
            "634/634 [==============================] - ETA: 0s - loss: 3.5282 - accuracy: 0.5021\n",
            "Epoch 00010: val_loss improved from 4.22154 to 3.75083, saving model to /content/drive/My Drive/DTD dataset/dtd/Inception_ResnetV2_DTDSGD_Colour.h5\n",
            "634/634 [==============================] - 100s 157ms/step - loss: 3.5282 - accuracy: 0.5021 - val_loss: 3.7508 - val_accuracy: 0.5250\n",
            "Epoch 11/100\n",
            "634/634 [==============================] - ETA: 0s - loss: 3.4671 - accuracy: 0.5169\n",
            "Epoch 00011: val_loss did not improve from 3.75083\n",
            "634/634 [==============================] - 97s 153ms/step - loss: 3.4671 - accuracy: 0.5169 - val_loss: 4.2756 - val_accuracy: 0.5143\n",
            "Epoch 12/100\n",
            "634/634 [==============================] - ETA: 0s - loss: 3.3802 - accuracy: 0.5323\n",
            "Epoch 00012: val_loss did not improve from 3.75083\n",
            "634/634 [==============================] - 97s 152ms/step - loss: 3.3802 - accuracy: 0.5323 - val_loss: 4.4771 - val_accuracy: 0.5286\n",
            "Epoch 13/100\n",
            "634/634 [==============================] - ETA: 0s - loss: 3.3327 - accuracy: 0.5382\n",
            "Epoch 00013: val_loss did not improve from 3.75083\n",
            "634/634 [==============================] - 96s 152ms/step - loss: 3.3327 - accuracy: 0.5382 - val_loss: 4.5941 - val_accuracy: 0.5286\n",
            "Epoch 14/100\n",
            "634/634 [==============================] - ETA: 0s - loss: 3.2742 - accuracy: 0.5595\n",
            "Epoch 00014: val_loss did not improve from 3.75083\n",
            "634/634 [==============================] - 97s 152ms/step - loss: 3.2742 - accuracy: 0.5595 - val_loss: 4.5121 - val_accuracy: 0.5321\n",
            "Epoch 15/100\n",
            "634/634 [==============================] - ETA: 0s - loss: 3.2216 - accuracy: 0.5658\n",
            "Epoch 00015: val_loss did not improve from 3.75083\n",
            "634/634 [==============================] - 96s 152ms/step - loss: 3.2216 - accuracy: 0.5658 - val_loss: 6.0309 - val_accuracy: 0.5321\n",
            "Epoch 16/100\n",
            "634/634 [==============================] - ETA: 0s - loss: 3.1982 - accuracy: 0.5781\n",
            "Epoch 00016: val_loss did not improve from 3.75083\n",
            "634/634 [==============================] - 97s 152ms/step - loss: 3.1982 - accuracy: 0.5781 - val_loss: 5.9646 - val_accuracy: 0.5321\n",
            "Epoch 17/100\n",
            "634/634 [==============================] - ETA: 0s - loss: 3.1249 - accuracy: 0.5895\n",
            "Epoch 00017: val_loss did not improve from 3.75083\n",
            "634/634 [==============================] - 97s 153ms/step - loss: 3.1249 - accuracy: 0.5895 - val_loss: 6.8822 - val_accuracy: 0.5357\n",
            "Epoch 18/100\n",
            "634/634 [==============================] - ETA: 0s - loss: 3.1223 - accuracy: 0.5893\n",
            "Epoch 00018: val_loss did not improve from 3.75083\n",
            "634/634 [==============================] - 97s 153ms/step - loss: 3.1223 - accuracy: 0.5893 - val_loss: 6.0072 - val_accuracy: 0.5714\n",
            "Epoch 19/100\n",
            "634/634 [==============================] - ETA: 0s - loss: 3.0542 - accuracy: 0.6086\n",
            "Epoch 00019: val_loss did not improve from 3.75083\n",
            "634/634 [==============================] - 97s 152ms/step - loss: 3.0542 - accuracy: 0.6086 - val_loss: 7.3947 - val_accuracy: 0.5714\n",
            "Epoch 20/100\n",
            "634/634 [==============================] - ETA: 0s - loss: 3.0292 - accuracy: 0.6140\n",
            "Epoch 00020: val_loss did not improve from 3.75083\n",
            "634/634 [==============================] - 97s 153ms/step - loss: 3.0292 - accuracy: 0.6140 - val_loss: 5.8469 - val_accuracy: 0.5857\n",
            "Epoch 21/100\n",
            "634/634 [==============================] - ETA: 0s - loss: 3.0138 - accuracy: 0.6090\n",
            "Epoch 00021: val_loss did not improve from 3.75083\n",
            "634/634 [==============================] - 97s 153ms/step - loss: 3.0138 - accuracy: 0.6090 - val_loss: 8.9327 - val_accuracy: 0.5821\n",
            "Epoch 22/100\n",
            "634/634 [==============================] - ETA: 0s - loss: 2.9507 - accuracy: 0.6238\n",
            "Epoch 00022: val_loss did not improve from 3.75083\n",
            "634/634 [==============================] - 97s 153ms/step - loss: 2.9507 - accuracy: 0.6238 - val_loss: 7.2859 - val_accuracy: 0.5929\n",
            "Epoch 23/100\n",
            "634/634 [==============================] - ETA: 0s - loss: 2.9415 - accuracy: 0.6349\n",
            "Epoch 00023: val_loss did not improve from 3.75083\n",
            "634/634 [==============================] - 98s 154ms/step - loss: 2.9415 - accuracy: 0.6349 - val_loss: 8.5570 - val_accuracy: 0.5857\n",
            "Epoch 24/100\n",
            "634/634 [==============================] - ETA: 0s - loss: 2.8963 - accuracy: 0.6430\n",
            "Epoch 00024: val_loss did not improve from 3.75083\n",
            "634/634 [==============================] - 97s 154ms/step - loss: 2.8963 - accuracy: 0.6430 - val_loss: 9.6019 - val_accuracy: 0.6107\n",
            "Epoch 25/100\n",
            "634/634 [==============================] - ETA: 0s - loss: 2.8846 - accuracy: 0.6434\n",
            "Epoch 00025: val_loss did not improve from 3.75083\n",
            "634/634 [==============================] - 97s 153ms/step - loss: 2.8846 - accuracy: 0.6434 - val_loss: 7.8882 - val_accuracy: 0.5964\n",
            "Epoch 26/100\n",
            "634/634 [==============================] - ETA: 0s - loss: 2.8474 - accuracy: 0.6477\n",
            "Epoch 00026: val_loss did not improve from 3.75083\n",
            "634/634 [==============================] - 97s 153ms/step - loss: 2.8474 - accuracy: 0.6477 - val_loss: 11.9556 - val_accuracy: 0.5893\n",
            "Epoch 27/100\n",
            "634/634 [==============================] - ETA: 0s - loss: 2.8168 - accuracy: 0.6586\n",
            "Epoch 00027: val_loss did not improve from 3.75083\n",
            "634/634 [==============================] - 97s 153ms/step - loss: 2.8168 - accuracy: 0.6586 - val_loss: 13.5479 - val_accuracy: 0.6143\n",
            "Epoch 28/100\n",
            "634/634 [==============================] - ETA: 0s - loss: 2.7989 - accuracy: 0.6647\n",
            "Epoch 00028: val_loss did not improve from 3.75083\n",
            "634/634 [==============================] - 97s 152ms/step - loss: 2.7989 - accuracy: 0.6647 - val_loss: 12.1340 - val_accuracy: 0.6107\n",
            "Epoch 29/100\n",
            "634/634 [==============================] - ETA: 0s - loss: 2.7664 - accuracy: 0.6759\n",
            "Epoch 00029: val_loss did not improve from 3.75083\n",
            "634/634 [==============================] - 97s 153ms/step - loss: 2.7664 - accuracy: 0.6759 - val_loss: 10.2145 - val_accuracy: 0.5964\n",
            "Epoch 30/100\n",
            "634/634 [==============================] - ETA: 0s - loss: 2.7780 - accuracy: 0.6665Restoring model weights from the end of the best epoch.\n",
            "\n",
            "Epoch 00030: val_loss did not improve from 3.75083\n",
            "\n",
            "Epoch 00030: ReduceLROnPlateau reducing learning rate to 0.00020000000949949026.\n",
            "634/634 [==============================] - 98s 154ms/step - loss: 2.7780 - accuracy: 0.6665 - val_loss: 11.7024 - val_accuracy: 0.6036\n",
            "Epoch 00030: early stopping\n"
          ],
          "name": "stdout"
        }
      ]
    },
    {
      "cell_type": "code",
      "metadata": {
        "id": "uMLD4IMUCmf3",
        "colab_type": "code",
        "colab": {
          "base_uri": "https://localhost:8080/",
          "height": 295
        },
        "outputId": "54fdf1e1-9734-4b7d-9c56-bdebf7cfb347"
      },
      "source": [
        "import matplotlib.pyplot as plt\n",
        "plt.plot(hist.history[\"accuracy\"])\n",
        "plt.plot(hist.history['val_accuracy'])\n",
        "plt.title(\"model accuracy\")\n",
        "plt.ylabel(\"Accuracy\")\n",
        "plt.xlabel(\"Epoch\")\n",
        "plt.legend([\"Accuracy\",\"Validation Accuracy\"])\n",
        "plt.show()"
      ],
      "execution_count": null,
      "outputs": [
        {
          "output_type": "display_data",
          "data": {
            "image/png": "[encoded data removed]",
            "text/plain": [
              "<Figure size 432x288 with 1 Axes>"
            ]
          },
          "metadata": {
            "tags": [],
            "needs_background": "light"
          }
        }
      ]
    },
    {
      "cell_type": "code",
      "metadata": {
        "id": "jc0kbAi4Cxa8",
        "colab_type": "code",
        "colab": {
          "base_uri": "https://localhost:8080/",
          "height": 295
        },
        "outputId": "5272e97b-657f-4d4c-876b-ff1c761dfe2e"
      },
      "source": [
        "plt.plot(hist.history['loss'])\n",
        "plt.plot(hist.history['val_loss'])\n",
        "plt.title(\"model Loss\")\n",
        "plt.ylabel(\"Loss\")\n",
        "plt.xlabel(\"Epoch\")\n",
        "plt.legend([\"Loss\",\"Validation Loss\"])\n",
        "plt.show()"
      ],
      "execution_count": null,
      "outputs": [
        {
          "output_type": "display_data",
          "data": {
            "image/png": "[encoded data removed]",
            "text/plain": [
              "<Figure size 432x288 with 1 Axes>"
            ]
          },
          "metadata": {
            "tags": [],
            "needs_background": "light"
          }
        }
      ]
    },
    {
      "cell_type": "code",
      "metadata": {
        "id": "LvKgX9gXCzau",
        "colab_type": "code",
        "colab": {
          "base_uri": "https://localhost:8080/",
          "height": 34
        },
        "outputId": "db2d7551-c5c0-4490-f528-4f15fc3fa320"
      },
      "source": [
        "Colour_TestData = TestGenerator.flow_from_directory('/content/drive/My Drive/DTD dataset/dtd/Test/', target_size=(224,224), batch_size = 8, shuffle = False)"
      ],
      "execution_count": null,
      "outputs": [
        {
          "output_type": "stream",
          "text": [
            "Found 283 images belonging to 47 classes.\n"
          ],
          "name": "stdout"
        }
      ]
    },
    {
      "cell_type": "code",
      "metadata": {
        "id": "YQ1wScCLOvn2",
        "colab_type": "code",
        "colab": {}
      },
      "source": [
        "model_colour.load_weights('/content/drive/My Drive/DTD dataset/dtd/Inception_ResnetV2_DTD_Colour.h5')"
      ],
      "execution_count": null,
      "outputs": []
    },
    {
      "cell_type": "code",
      "metadata": {
        "id": "3eWaWhTCC3Gb",
        "colab_type": "code",
        "colab": {}
      },
      "source": [
        "Colour_predict = model_colour.predict(Colour_TestData)"
      ],
      "execution_count": null,
      "outputs": []
    },
    {
      "cell_type": "code",
      "metadata": {
        "id": "hvkRpKFiC5nf",
        "colab_type": "code",
        "colab": {}
      },
      "source": [
        "Colour_predict_classes = np.argmax(Colour_predict, axis=1)"
      ],
      "execution_count": null,
      "outputs": []
    },
    {
      "cell_type": "code",
      "metadata": {
        "id": "LbEtb9-FC74e",
        "colab_type": "code",
        "colab": {
          "base_uri": "https://localhost:8080/",
          "height": 306
        },
        "outputId": "4c9add25-1625-4ea3-ef08-f8e8a25540cb"
      },
      "source": [
        "Colour_predict_classes"
      ],
      "execution_count": null,
      "outputs": [
        {
          "output_type": "execute_result",
          "data": {
            "text/plain": [
              "array([ 0, 22,  0,  0, 39,  0,  1, 34, 31, 29, 28, 31,  2,  2,  2, 46,  2,\n",
              "       33,  3,  3, 15,  3,  3, 36, 33, 43,  4, 27, 30, 40, 41, 17,  5,  5,\n",
              "        5,  5,  6,  6,  6,  6,  6,  6,  7, 31,  7,  7, 31,  6,  8, 16, 17,\n",
              "        8, 29,  8,  9, 34,  9,  9, 34,  9, 10, 30, 30, 30, 30,  3, 31, 11,\n",
              "       11, 24, 11,  6, 12, 12, 12, 12,  8, 12, 13, 13, 36,  3, 13, 13, 14,\n",
              "       14, 25, 35, 14, 14,  0, 15, 22, 41, 15, 41, 16, 16, 17, 25, 16, 16,\n",
              "       17, 17, 17, 35, 22, 17, 18, 18, 18, 18, 18,  3, 19, 19, 19, 19, 18,\n",
              "       41, 17, 20, 20, 20,  8, 20, 41, 21,  8, 15, 21, 21,  0, 41,  0, 22,\n",
              "       22,  0,  7, 31, 17,  3, 23, 15, 32, 28, 24,  8, 17, 24, 25, 25, 16,\n",
              "       27, 16, 25, 26, 40, 41, 26, 26, 26, 27, 18, 27, 27, 16, 27,  3, 12,\n",
              "       31, 28, 33, 12, 29, 22, 17, 17, 22, 15, 27, 10, 25, 30, 30, 10, 31,\n",
              "       12, 31, 31, 32, 31, 32, 32, 32, 32, 32, 32, 33, 20, 39, 25, 33, 25,\n",
              "       43, 12, 42, 38, 34, 13, 35, 12,  2, 41,  6, 35, 28, 17,  8, 36, 36,\n",
              "       36, 41,  9, 26, 37, 41, 13, 31, 29, 38, 17, 38, 38, 39, 33, 39, 39,\n",
              "       39, 39, 40, 40, 40, 40, 40, 40,  6, 35, 41, 26, 41, 42, 42, 42, 42,\n",
              "       42,  6,  8, 43, 43, 16, 43, 43, 43, 43, 44, 22, 25, 27, 44, 16, 45,\n",
              "       40, 45, 45, 45, 45, 46, 25, 46,  5, 46, 46])"
            ]
          },
          "metadata": {
            "tags": []
          },
          "execution_count": 54
        }
      ]
    },
    {
      "cell_type": "code",
      "metadata": {
        "id": "Iw1lsUfjC-D_",
        "colab_type": "code",
        "colab": {
          "base_uri": "https://localhost:8080/",
          "height": 34
        },
        "outputId": "5d783898-1cdc-43d9-8ba1-4977e2cad5a9"
      },
      "source": [
        "Colour_accuracy = accuracy_score(Colour_TestData.classes, Colour_predict_classes)\n",
        "print(\"Colour Accuracy: \", Colour_accuracy)"
      ],
      "execution_count": null,
      "outputs": [
        {
          "output_type": "stream",
          "text": [
            "Colour Accuracy:  0.5406360424028268\n"
          ],
          "name": "stdout"
        }
      ]
    },
    {
      "cell_type": "code",
      "metadata": {
        "id": "ApnHQXetDAeM",
        "colab_type": "code",
        "colab": {
          "base_uri": "https://localhost:8080/",
          "height": 34
        },
        "outputId": "7bc8ad06-80a8-406e-853d-cfe876d7eba2"
      },
      "source": [
        "Colour_precision = precision_score(Colour_TestData.classes, Colour_predict_classes,average=\"weighted\")\n",
        "print(\"Colour Precision: \", Colour_precision)"
      ],
      "execution_count": null,
      "outputs": [
        {
          "output_type": "stream",
          "text": [
            "Colour Precision:  0.625050861976657\n"
          ],
          "name": "stdout"
        }
      ]
    },
    {
      "cell_type": "code",
      "metadata": {
        "id": "RmbpPJzhDClB",
        "colab_type": "code",
        "colab": {
          "base_uri": "https://localhost:8080/",
          "height": 34
        },
        "outputId": "f5ce8236-0b21-4f45-b54f-d2643bb50c96"
      },
      "source": [
        "Colour_recall = recall_score(Colour_TestData.classes, Colour_predict_classes, average=\"weighted\")\n",
        "print(\"Colour Recall:\", Colour_recall)"
      ],
      "execution_count": null,
      "outputs": [
        {
          "output_type": "stream",
          "text": [
            "Colour Recall: 0.5406360424028268\n"
          ],
          "name": "stdout"
        }
      ]
    },
    {
      "cell_type": "code",
      "metadata": {
        "id": "fzfH4Lf2DE9V",
        "colab_type": "code",
        "colab": {
          "base_uri": "https://localhost:8080/",
          "height": 34
        },
        "outputId": "7d4e06b4-2c4c-46bc-8dc5-9906479de0bd"
      },
      "source": [
        "Colour_f1_score = f1_score(Colour_TestData.classes, Colour_predict_classes, average=\"weighted\")\n",
        "print(\"F1 score for colour: \", Colour_f1_score)"
      ],
      "execution_count": null,
      "outputs": [
        {
          "output_type": "stream",
          "text": [
            "F1 score for colour:  0.5350209134037861\n"
          ],
          "name": "stdout"
        }
      ]
    },
    {
      "cell_type": "code",
      "metadata": {
        "id": "CQl0dS6LDHn8",
        "colab_type": "code",
        "colab": {}
      },
      "source": [
        "Final = 0.6* Colour_predict + 0.4* Grey_predict"
      ],
      "execution_count": null,
      "outputs": []
    },
    {
      "cell_type": "code",
      "metadata": {
        "id": "0JqWWHGjDKDB",
        "colab_type": "code",
        "colab": {}
      },
      "source": [
        "Final_Predict_classes = np.argmax(Final, axis=1)"
      ],
      "execution_count": null,
      "outputs": []
    },
    {
      "cell_type": "code",
      "metadata": {
        "id": "Slbh9VckDMZ8",
        "colab_type": "code",
        "colab": {
          "base_uri": "https://localhost:8080/",
          "height": 306
        },
        "outputId": "60577036-9d62-44c1-effe-9cd8e0ee7f4a"
      },
      "source": [
        "Final_Predict_classes"
      ],
      "execution_count": null,
      "outputs": [
        {
          "output_type": "execute_result",
          "data": {
            "text/plain": [
              "array([ 0, 22,  0,  0, 39,  0,  1, 34, 31, 29, 28, 31,  2,  2,  2, 46,  2,\n",
              "       33,  3,  3, 15,  3,  3, 36, 33, 43,  4, 27, 30, 40, 41, 17,  5,  5,\n",
              "        5,  5,  6,  6,  6,  6,  6,  6,  7, 31,  7,  7, 31,  6,  8, 16, 17,\n",
              "        8, 41,  8,  9, 34,  9,  9, 34,  9, 10, 30, 30, 30, 30,  3, 31, 11,\n",
              "       11, 24, 11,  6, 12, 12, 12, 12,  0, 12, 13, 13, 36,  3, 13, 13, 14,\n",
              "       14, 25, 35, 14, 14,  0, 15, 22, 41, 15, 41, 16,  5, 17, 25, 16, 16,\n",
              "       17, 17, 17, 35, 22, 17, 18, 18, 18, 18, 18,  3, 19, 19, 19, 19, 18,\n",
              "       41, 17, 20, 20, 20,  8, 20, 41, 21,  8, 15, 21, 21,  0, 41,  0, 22,\n",
              "       22,  0,  7, 31, 17,  3, 23, 15, 32, 28, 24,  8, 17, 24, 25, 25, 16,\n",
              "       27, 16, 25, 26, 40, 41, 26, 26, 26, 27, 18, 27, 27, 16, 27,  3, 12,\n",
              "       31, 28, 33, 12, 29, 22, 17, 17, 22, 15, 27, 10, 25, 30, 30, 10, 31,\n",
              "       12, 31, 31, 32, 31, 32, 32, 32, 32, 32, 32, 33, 20, 39, 25, 33, 25,\n",
              "       43, 12, 42, 38, 34, 13, 35, 12,  2, 41,  6, 35, 28, 17,  8, 36, 36,\n",
              "       36, 41,  9, 26, 37, 41, 13, 31, 29, 38, 17, 38, 38, 39, 15, 39, 39,\n",
              "       39, 39, 40, 40, 40, 40, 40, 40,  6, 35, 41, 26, 41, 42, 42, 42, 42,\n",
              "       42,  6,  8, 43, 43, 16, 43, 43, 43, 43, 44, 22, 25, 27, 44, 16, 45,\n",
              "       15, 45, 45, 45, 45, 46, 25, 46,  5, 46, 46])"
            ]
          },
          "metadata": {
            "tags": []
          },
          "execution_count": 61
        }
      ]
    },
    {
      "cell_type": "code",
      "metadata": {
        "id": "OLWfl9CGDPrf",
        "colab_type": "code",
        "colab": {
          "base_uri": "https://localhost:8080/",
          "height": 34
        },
        "outputId": "7689f1bd-3c53-4e56-954a-c3adcf87361e"
      },
      "source": [
        "Final_accuracy = accuracy_score(Colour_TestData.classes, Final_Predict_classes)\n",
        "print(\"Colour Accuracy: \", Final_accuracy)"
      ],
      "execution_count": null,
      "outputs": [
        {
          "output_type": "stream",
          "text": [
            "Colour Accuracy:  0.5371024734982333\n"
          ],
          "name": "stdout"
        }
      ]
    },
    {
      "cell_type": "code",
      "metadata": {
        "id": "pZJKf__NDQcy",
        "colab_type": "code",
        "colab": {
          "base_uri": "https://localhost:8080/",
          "height": 34
        },
        "outputId": "7c4bc744-8e00-487b-feaa-570295a8bb2b"
      },
      "source": [
        "Final_precision = precision_score(Colour_TestData.classes, Final_Predict_classes,average=\"weighted\")\n",
        "print(\"Colour Precision: \", Final_precision)"
      ],
      "execution_count": null,
      "outputs": [
        {
          "output_type": "stream",
          "text": [
            "Colour Precision:  0.6234245142372351\n"
          ],
          "name": "stdout"
        }
      ]
    },
    {
      "cell_type": "code",
      "metadata": {
        "id": "MKGLdsciDSZI",
        "colab_type": "code",
        "colab": {
          "base_uri": "https://localhost:8080/",
          "height": 34
        },
        "outputId": "734698ad-eb59-4cb2-8129-4fff0a7e2a32"
      },
      "source": [
        "Final_recall = recall_score(Colour_TestData.classes, Final_Predict_classes, average=\"weighted\")\n",
        "print(\"Colour Recall:\", Final_recall)"
      ],
      "execution_count": null,
      "outputs": [
        {
          "output_type": "stream",
          "text": [
            "Colour Recall: 0.5371024734982333\n"
          ],
          "name": "stdout"
        }
      ]
    },
    {
      "cell_type": "code",
      "metadata": {
        "id": "EA6IUfpfDUJV",
        "colab_type": "code",
        "colab": {
          "base_uri": "https://localhost:8080/",
          "height": 34
        },
        "outputId": "075039d2-08dc-4145-e8ee-90fed5167315"
      },
      "source": [
        "Final_f1_score = f1_score(Colour_TestData.classes, Final_Predict_classes, average=\"weighted\")\n",
        "print(\"F1 score for colour: \", Final_f1_score)"
      ],
      "execution_count": null,
      "outputs": [
        {
          "output_type": "stream",
          "text": [
            "F1 score for colour:  0.532481477760389\n"
          ],
          "name": "stdout"
        }
      ]
    },
    {
      "cell_type": "code",
      "metadata": {
        "id": "G_O45FS7DWRs",
        "colab_type": "code",
        "colab": {}
      },
      "source": [
        "Second_Final = 0.5* Colour_predict + 0.5 * Grey_predict"
      ],
      "execution_count": null,
      "outputs": []
    },
    {
      "cell_type": "code",
      "metadata": {
        "id": "vMbahIDZDY8A",
        "colab_type": "code",
        "colab": {}
      },
      "source": [
        "Second_predict_classes = np.argmax(Second_Final, axis=1)"
      ],
      "execution_count": null,
      "outputs": []
    },
    {
      "cell_type": "code",
      "metadata": {
        "id": "ZDZGtRCMDbiM",
        "colab_type": "code",
        "colab": {
          "base_uri": "https://localhost:8080/",
          "height": 306
        },
        "outputId": "3b8e7086-610e-4b52-e6b6-4f3ac612117e"
      },
      "source": [
        "Second_predict_classes"
      ],
      "execution_count": null,
      "outputs": [
        {
          "output_type": "execute_result",
          "data": {
            "text/plain": [
              "array([ 0, 22,  0,  0, 39,  0,  1, 34, 31, 29, 28, 31,  2,  2,  2, 46,  2,\n",
              "       33,  3,  3, 15,  3,  3, 36, 33, 43,  4, 27, 30, 40, 41, 17,  5,  5,\n",
              "        5,  5,  6,  6,  6,  6,  6,  6,  7, 31,  7,  7, 31,  6,  8, 16, 17,\n",
              "        8, 41,  8,  9, 34,  9,  9, 34,  9, 10, 30, 30, 30, 30,  3, 31, 11,\n",
              "       11, 24, 11,  6, 12, 12, 12, 12,  0, 12, 13, 13, 36,  3, 13, 13, 14,\n",
              "       14, 25, 35, 14, 14,  0, 15, 22, 41, 15, 41, 16,  5, 17, 25, 16, 16,\n",
              "       17, 17, 17, 35, 22, 17, 18, 18, 18, 18, 18,  3, 19, 19, 19, 19, 18,\n",
              "       41, 17, 20, 20, 20,  8, 20, 41, 21,  8, 15, 21, 21,  0, 41,  0, 22,\n",
              "       22,  0,  7, 31, 17,  3, 23, 15, 32, 28, 24,  8, 17, 24, 25, 25, 16,\n",
              "       27, 16, 25, 26, 40, 41, 26, 26, 26, 27, 18, 27, 10, 16, 27,  3, 12,\n",
              "       31, 28, 33, 12, 29, 22, 17, 17, 22, 15, 27, 10, 25, 30, 30, 10, 31,\n",
              "       12, 31, 31,  4, 31, 32, 32, 32, 32, 32, 32, 33, 20, 39, 25, 33, 25,\n",
              "       43, 12, 42, 38, 34, 13, 35, 12,  2, 41,  6, 35, 28, 17,  8, 36, 36,\n",
              "       36, 41,  9, 26, 37, 41, 13, 31, 29, 38, 17, 38, 38, 39, 15, 39, 39,\n",
              "       39, 39, 40, 40, 40, 40, 40, 40,  6, 35, 41, 26, 41, 42, 42, 42, 42,\n",
              "       42,  6,  8, 43, 43, 16, 43, 43, 43, 43, 44, 22, 25, 27, 44, 16, 45,\n",
              "       15, 45, 45, 45, 45, 46, 25, 46,  5, 46, 46])"
            ]
          },
          "metadata": {
            "tags": []
          },
          "execution_count": 68
        }
      ]
    },
    {
      "cell_type": "code",
      "metadata": {
        "id": "_xFjn41jDdzl",
        "colab_type": "code",
        "colab": {
          "base_uri": "https://localhost:8080/",
          "height": 34
        },
        "outputId": "778297a7-9478-432b-ea02-819cfa521fc4"
      },
      "source": [
        "Second_Final_accuracy = accuracy_score(Colour_TestData.classes, Second_predict_classes)\n",
        "Second_Final_accuracy"
      ],
      "execution_count": null,
      "outputs": [
        {
          "output_type": "execute_result",
          "data": {
            "text/plain": [
              "0.5335689045936396"
            ]
          },
          "metadata": {
            "tags": []
          },
          "execution_count": 69
        }
      ]
    },
    {
      "cell_type": "code",
      "metadata": {
        "id": "NlH0WyKbO4p4",
        "colab_type": "code",
        "colab": {}
      },
      "source": [
        "Final = 0.8* Colour_predict + 0.2* Grey_predict"
      ],
      "execution_count": null,
      "outputs": []
    },
    {
      "cell_type": "code",
      "metadata": {
        "id": "Mju_bQwrO9Yd",
        "colab_type": "code",
        "colab": {}
      },
      "source": [
        "Final_Predict_classes = np.argmax(Final, axis=1)"
      ],
      "execution_count": null,
      "outputs": []
    },
    {
      "cell_type": "code",
      "metadata": {
        "id": "ZtxvxOEgPBjl",
        "colab_type": "code",
        "colab": {
          "base_uri": "https://localhost:8080/",
          "height": 34
        },
        "outputId": "3a32a3a7-0f8a-40c3-f070-94def75445f1"
      },
      "source": [
        "Final_accuracy = accuracy_score(Colour_TestData.classes, Final_Predict_classes)\n",
        "print(\"Colour Accuracy: \", Final_accuracy)"
      ],
      "execution_count": null,
      "outputs": [
        {
          "output_type": "stream",
          "text": [
            "Colour Accuracy:  0.4416961130742049\n"
          ],
          "name": "stdout"
        }
      ]
    }
  ]
}