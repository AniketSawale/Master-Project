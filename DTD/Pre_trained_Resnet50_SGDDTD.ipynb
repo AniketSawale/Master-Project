{
  "nbformat": 4,
  "nbformat_minor": 0,
  "metadata": {
    "colab": {
      "name": "Pre-trained_Resnet50_SGDDTD.ipynb",
      "provenance": [],
      "collapsed_sections": [],
      "machine_shape": "hm"
    },
    "kernelspec": {
      "name": "python3",
      "display_name": "Python 3"
    },
    "accelerator": "GPU"
  },
  "cells": [
    {
      "cell_type": "code",
      "metadata": {
        "id": "_GU1W1WdK6Lq",
        "colab_type": "code",
        "colab": {
          "base_uri": "https://localhost:8080/",
          "height": 34
        },
        "outputId": "3aaaf561-0035-4e89-b83a-d4b64fd6958d"
      },
      "source": [
        "from google.colab import drive\n",
        "drive.mount('/content/drive')"
      ],
      "execution_count": null,
      "outputs": [
        {
          "output_type": "stream",
          "text": [
            "Drive already mounted at /content/drive; to attempt to forcibly remount, call drive.mount(\"/content/drive\", force_remount=True).\n"
          ],
          "name": "stdout"
        }
      ]
    },
    {
      "cell_type": "code",
      "metadata": {
        "id": "ZkK8fCs6LMO4",
        "colab_type": "code",
        "colab": {}
      },
      "source": [
        "# Importing the Libraries.\n",
        "import keras\n",
        "import os\n",
        "from keras.models import Sequential\n",
        "from keras.layers import Dense, Conv2D, MaxPool2D, Flatten, Dropout\n",
        "from keras.preprocessing.image import ImageDataGenerator\n",
        "import numpy as np\n",
        "#import keras.backend as K\n",
        "import tensorflow.keras.backend as K\n",
        "import tensorflow.compat.v1 as tf\n",
        "from os import listdir\n",
        "from os.path import isfile, join\n",
        "import numpy as np\n",
        "import sys\n",
        "import os\n",
        "import shutil\n",
        "import pandas as pd\n",
        "from PIL import Image\n",
        "import cv2\n",
        "import keras\n",
        "import glob\n",
        "from PIL import Image\n",
        "from keras.preprocessing.image import img_to_array\n",
        "from sklearn.preprocessing import MultiLabelBinarizer\n",
        "from keras import models, regularizers, layers, optimizers, losses, metrics\n",
        "from keras.applications.resnet50 import ResNet50\n",
        "from keras.preprocessing.image import ImageDataGenerator\n",
        "from keras.models import Sequential\n",
        "from keras.layers import Dense, Dropout, Activation, Flatten, MaxPool2D\n",
        "from keras.layers import Convolution2D, MaxPooling2D, ZeroPadding2D\n",
        "from keras.layers import AveragePooling2D\n",
        "from keras.models import load_model\n",
        "from keras.layers.pooling import GlobalAveragePooling2D\n",
        "from keras.layers.normalization import BatchNormalization\n",
        "from keras.models import Model\n",
        "from keras.optimizers import Adam, SGD\n",
        "from keras.callbacks import ModelCheckpoint, EarlyStopping\n",
        "from sklearn.preprocessing import LabelEncoder, OneHotEncoder\n",
        "from PIL import ImageFile\n",
        "\n",
        "tf.enable_eager_execution()"
      ],
      "execution_count": null,
      "outputs": []
    },
    {
      "cell_type": "code",
      "metadata": {
        "id": "IaRAgO4aLQvu",
        "colab_type": "code",
        "colab": {}
      },
      "source": [
        "ImageFile.LOAD_TRUNCATED_IMAGES = True"
      ],
      "execution_count": null,
      "outputs": []
    },
    {
      "cell_type": "code",
      "metadata": {
        "id": "9mWUJYhCLTfN",
        "colab_type": "code",
        "colab": {}
      },
      "source": [
        "# Data Augmentation.\n",
        "DataGenerator = ImageDataGenerator(horizontal_flip=True, vertical_flip=True, brightness_range=[0.2,0.7], rescale=1./255, zoom_range = [0.5,1.0])"
      ],
      "execution_count": null,
      "outputs": []
    },
    {
      "cell_type": "code",
      "metadata": {
        "id": "O-P3LcJtLWwK",
        "colab_type": "code",
        "colab": {}
      },
      "source": [
        "TestGenerator = ImageDataGenerator(rescale=1./255)"
      ],
      "execution_count": null,
      "outputs": []
    },
    {
      "cell_type": "code",
      "metadata": {
        "id": "nr8NAEZ7LZJX",
        "colab_type": "code",
        "colab": {
          "base_uri": "https://localhost:8080/",
          "height": 34
        },
        "outputId": "47264c09-7cd1-414b-fecd-f9f437942d82"
      },
      "source": [
        "Grey_TrainingData = DataGenerator.flow_from_directory('/content/drive/My Drive/DTD dataset/dtd/Train/', target_size=(224,224), batch_size=8, color_mode='grayscale')"
      ],
      "execution_count": null,
      "outputs": [
        {
          "output_type": "stream",
          "text": [
            "Found 5075 images belonging to 47 classes.\n"
          ],
          "name": "stdout"
        }
      ]
    },
    {
      "cell_type": "code",
      "metadata": {
        "id": "H11zLixsLcJv",
        "colab_type": "code",
        "colab": {
          "base_uri": "https://localhost:8080/",
          "height": 34
        },
        "outputId": "15664285-fce9-4fe7-a925-e5c24a60a01c"
      },
      "source": [
        "Grey_ValidData = TestGenerator.flow_from_directory('/content/drive/My Drive/DTD dataset/dtd/Valid/', target_size=(224,224), batch_size=8, color_mode='grayscale')"
      ],
      "execution_count": null,
      "outputs": [
        {
          "output_type": "stream",
          "text": [
            "Found 282 images belonging to 47 classes.\n"
          ],
          "name": "stdout"
        }
      ]
    },
    {
      "cell_type": "code",
      "metadata": {
        "id": "WrKeO-2qmfO6",
        "colab_type": "code",
        "colab": {
          "base_uri": "https://localhost:8080/",
          "height": 71
        },
        "outputId": "d63eb60a-0e7c-4348-977b-920a8bb407b5"
      },
      "source": [
        "gpu_options = tf.GPUOptions(allow_growth=True)\n",
        "session = tf.InteractiveSession(config=tf.ConfigProto(gpu_options=gpu_options))"
      ],
      "execution_count": null,
      "outputs": [
        {
          "output_type": "stream",
          "text": [
            "/usr/local/lib/python3.6/dist-packages/tensorflow/python/client/session.py:1751: UserWarning: An interactive session is already active. This can cause out-of-memory errors in some cases. You must explicitly call `InteractiveSession.close()` to release resources held by the other session(s).\n",
            "  warnings.warn('An interactive session is already active. This can '\n"
          ],
          "name": "stderr"
        }
      ]
    },
    {
      "cell_type": "code",
      "metadata": {
        "id": "REL0E8Tsmhp1",
        "colab_type": "code",
        "colab": {}
      },
      "source": [
        "from keras.applications.resnet50 import ResNet50"
      ],
      "execution_count": null,
      "outputs": []
    },
    {
      "cell_type": "code",
      "metadata": {
        "id": "YVhUcKS5mprR",
        "colab_type": "code",
        "colab": {}
      },
      "source": [
        "conv_base = ResNet50(weights = 'imagenet', include_top = False)"
      ],
      "execution_count": null,
      "outputs": []
    },
    {
      "cell_type": "code",
      "metadata": {
        "id": "Q9toBa4NnA3C",
        "colab_type": "code",
        "colab": {}
      },
      "source": [
        "for layer in conv_base.layers[:165]:\n",
        "  layer.trainable = False\n",
        "for layer in conv_base.layers[165:]:\n",
        "  layer.trainable = True\n",
        "for layer in conv_base.layers:\n",
        "  if isinstance(layer, BatchNormalization):\n",
        "    layer.trainable = True"
      ],
      "execution_count": null,
      "outputs": []
    },
    {
      "cell_type": "code",
      "metadata": {
        "id": "94ptcjkDm3Ca",
        "colab_type": "code",
        "colab": {
          "base_uri": "https://localhost:8080/",
          "height": 1000
        },
        "outputId": "17fbb98c-243c-4d51-99d6-6b119dcaa4ab"
      },
      "source": [
        "for i, layer in enumerate(conv_base.layers):\n",
        "  print(i, layer.name, layer.trainable)"
      ],
      "execution_count": null,
      "outputs": [
        {
          "output_type": "stream",
          "text": [
            "0 input_3 False\n",
            "1 conv1_pad False\n",
            "2 conv1_conv False\n",
            "3 conv1_bn True\n",
            "4 conv1_relu False\n",
            "5 pool1_pad False\n",
            "6 pool1_pool False\n",
            "7 conv2_block1_1_conv False\n",
            "8 conv2_block1_1_bn True\n",
            "9 conv2_block1_1_relu False\n",
            "10 conv2_block1_2_conv False\n",
            "11 conv2_block1_2_bn True\n",
            "12 conv2_block1_2_relu False\n",
            "13 conv2_block1_0_conv False\n",
            "14 conv2_block1_3_conv False\n",
            "15 conv2_block1_0_bn True\n",
            "16 conv2_block1_3_bn True\n",
            "17 conv2_block1_add False\n",
            "18 conv2_block1_out False\n",
            "19 conv2_block2_1_conv False\n",
            "20 conv2_block2_1_bn True\n",
            "21 conv2_block2_1_relu False\n",
            "22 conv2_block2_2_conv False\n",
            "23 conv2_block2_2_bn True\n",
            "24 conv2_block2_2_relu False\n",
            "25 conv2_block2_3_conv False\n",
            "26 conv2_block2_3_bn True\n",
            "27 conv2_block2_add False\n",
            "28 conv2_block2_out False\n",
            "29 conv2_block3_1_conv False\n",
            "30 conv2_block3_1_bn True\n",
            "31 conv2_block3_1_relu False\n",
            "32 conv2_block3_2_conv False\n",
            "33 conv2_block3_2_bn True\n",
            "34 conv2_block3_2_relu False\n",
            "35 conv2_block3_3_conv False\n",
            "36 conv2_block3_3_bn True\n",
            "37 conv2_block3_add False\n",
            "38 conv2_block3_out False\n",
            "39 conv3_block1_1_conv False\n",
            "40 conv3_block1_1_bn True\n",
            "41 conv3_block1_1_relu False\n",
            "42 conv3_block1_2_conv False\n",
            "43 conv3_block1_2_bn True\n",
            "44 conv3_block1_2_relu False\n",
            "45 conv3_block1_0_conv False\n",
            "46 conv3_block1_3_conv False\n",
            "47 conv3_block1_0_bn True\n",
            "48 conv3_block1_3_bn True\n",
            "49 conv3_block1_add False\n",
            "50 conv3_block1_out False\n",
            "51 conv3_block2_1_conv False\n",
            "52 conv3_block2_1_bn True\n",
            "53 conv3_block2_1_relu False\n",
            "54 conv3_block2_2_conv False\n",
            "55 conv3_block2_2_bn True\n",
            "56 conv3_block2_2_relu False\n",
            "57 conv3_block2_3_conv False\n",
            "58 conv3_block2_3_bn True\n",
            "59 conv3_block2_add False\n",
            "60 conv3_block2_out False\n",
            "61 conv3_block3_1_conv False\n",
            "62 conv3_block3_1_bn True\n",
            "63 conv3_block3_1_relu False\n",
            "64 conv3_block3_2_conv False\n",
            "65 conv3_block3_2_bn True\n",
            "66 conv3_block3_2_relu False\n",
            "67 conv3_block3_3_conv False\n",
            "68 conv3_block3_3_bn True\n",
            "69 conv3_block3_add False\n",
            "70 conv3_block3_out False\n",
            "71 conv3_block4_1_conv False\n",
            "72 conv3_block4_1_bn True\n",
            "73 conv3_block4_1_relu False\n",
            "74 conv3_block4_2_conv False\n",
            "75 conv3_block4_2_bn True\n",
            "76 conv3_block4_2_relu False\n",
            "77 conv3_block4_3_conv False\n",
            "78 conv3_block4_3_bn True\n",
            "79 conv3_block4_add False\n",
            "80 conv3_block4_out False\n",
            "81 conv4_block1_1_conv False\n",
            "82 conv4_block1_1_bn True\n",
            "83 conv4_block1_1_relu False\n",
            "84 conv4_block1_2_conv False\n",
            "85 conv4_block1_2_bn True\n",
            "86 conv4_block1_2_relu False\n",
            "87 conv4_block1_0_conv False\n",
            "88 conv4_block1_3_conv False\n",
            "89 conv4_block1_0_bn True\n",
            "90 conv4_block1_3_bn True\n",
            "91 conv4_block1_add False\n",
            "92 conv4_block1_out False\n",
            "93 conv4_block2_1_conv False\n",
            "94 conv4_block2_1_bn True\n",
            "95 conv4_block2_1_relu False\n",
            "96 conv4_block2_2_conv False\n",
            "97 conv4_block2_2_bn True\n",
            "98 conv4_block2_2_relu False\n",
            "99 conv4_block2_3_conv False\n",
            "100 conv4_block2_3_bn True\n",
            "101 conv4_block2_add False\n",
            "102 conv4_block2_out False\n",
            "103 conv4_block3_1_conv False\n",
            "104 conv4_block3_1_bn True\n",
            "105 conv4_block3_1_relu False\n",
            "106 conv4_block3_2_conv False\n",
            "107 conv4_block3_2_bn True\n",
            "108 conv4_block3_2_relu False\n",
            "109 conv4_block3_3_conv False\n",
            "110 conv4_block3_3_bn True\n",
            "111 conv4_block3_add False\n",
            "112 conv4_block3_out False\n",
            "113 conv4_block4_1_conv False\n",
            "114 conv4_block4_1_bn True\n",
            "115 conv4_block4_1_relu False\n",
            "116 conv4_block4_2_conv False\n",
            "117 conv4_block4_2_bn True\n",
            "118 conv4_block4_2_relu False\n",
            "119 conv4_block4_3_conv False\n",
            "120 conv4_block4_3_bn True\n",
            "121 conv4_block4_add False\n",
            "122 conv4_block4_out False\n",
            "123 conv4_block5_1_conv False\n",
            "124 conv4_block5_1_bn True\n",
            "125 conv4_block5_1_relu False\n",
            "126 conv4_block5_2_conv False\n",
            "127 conv4_block5_2_bn True\n",
            "128 conv4_block5_2_relu False\n",
            "129 conv4_block5_3_conv False\n",
            "130 conv4_block5_3_bn True\n",
            "131 conv4_block5_add False\n",
            "132 conv4_block5_out False\n",
            "133 conv4_block6_1_conv False\n",
            "134 conv4_block6_1_bn True\n",
            "135 conv4_block6_1_relu False\n",
            "136 conv4_block6_2_conv False\n",
            "137 conv4_block6_2_bn True\n",
            "138 conv4_block6_2_relu False\n",
            "139 conv4_block6_3_conv False\n",
            "140 conv4_block6_3_bn True\n",
            "141 conv4_block6_add False\n",
            "142 conv4_block6_out False\n",
            "143 conv5_block1_1_conv False\n",
            "144 conv5_block1_1_bn True\n",
            "145 conv5_block1_1_relu False\n",
            "146 conv5_block1_2_conv False\n",
            "147 conv5_block1_2_bn True\n",
            "148 conv5_block1_2_relu False\n",
            "149 conv5_block1_0_conv False\n",
            "150 conv5_block1_3_conv False\n",
            "151 conv5_block1_0_bn True\n",
            "152 conv5_block1_3_bn True\n",
            "153 conv5_block1_add False\n",
            "154 conv5_block1_out False\n",
            "155 conv5_block2_1_conv False\n",
            "156 conv5_block2_1_bn True\n",
            "157 conv5_block2_1_relu False\n",
            "158 conv5_block2_2_conv False\n",
            "159 conv5_block2_2_bn True\n",
            "160 conv5_block2_2_relu False\n",
            "161 conv5_block2_3_conv False\n",
            "162 conv5_block2_3_bn True\n",
            "163 conv5_block2_add False\n",
            "164 conv5_block2_out False\n",
            "165 conv5_block3_1_conv True\n",
            "166 conv5_block3_1_bn True\n",
            "167 conv5_block3_1_relu True\n",
            "168 conv5_block3_2_conv True\n",
            "169 conv5_block3_2_bn True\n",
            "170 conv5_block3_2_relu True\n",
            "171 conv5_block3_3_conv True\n",
            "172 conv5_block3_3_bn True\n",
            "173 conv5_block3_add True\n",
            "174 conv5_block3_out True\n"
          ],
          "name": "stdout"
        }
      ]
    },
    {
      "cell_type": "code",
      "metadata": {
        "id": "6tbdBavxnJwB",
        "colab_type": "code",
        "colab": {}
      },
      "source": [
        "from keras.layers import Input"
      ],
      "execution_count": null,
      "outputs": []
    },
    {
      "cell_type": "code",
      "metadata": {
        "id": "iQA70-pPnNBN",
        "colab_type": "code",
        "colab": {}
      },
      "source": [
        "input_tensor = Input(shape=(224,224,1))"
      ],
      "execution_count": null,
      "outputs": []
    },
    {
      "cell_type": "code",
      "metadata": {
        "id": "EQ7RsgwgnP03",
        "colab_type": "code",
        "colab": {}
      },
      "source": [
        "x = Conv2D(3,(3,3), padding='same')(input_tensor)"
      ],
      "execution_count": null,
      "outputs": []
    },
    {
      "cell_type": "code",
      "metadata": {
        "id": "DKo8yXiLnStY",
        "colab_type": "code",
        "colab": {}
      },
      "source": [
        "x = conv_base(x)"
      ],
      "execution_count": null,
      "outputs": []
    },
    {
      "cell_type": "code",
      "metadata": {
        "id": "KNUbbS5inU9E",
        "colab_type": "code",
        "colab": {}
      },
      "source": [
        "x = Flatten()(x)"
      ],
      "execution_count": null,
      "outputs": []
    },
    {
      "cell_type": "code",
      "metadata": {
        "id": "4RJVa-YWnYVG",
        "colab_type": "code",
        "colab": {}
      },
      "source": [
        "x = Dense(2048, activation='relu', kernel_regularizer=regularizers.l2(0.001))(x)\n",
        "x = Dropout(0.5)(x)\n",
        "out = Dense(47, activation='softmax')(x)"
      ],
      "execution_count": null,
      "outputs": []
    },
    {
      "cell_type": "code",
      "metadata": {
        "id": "x0yNN9X3nbEv",
        "colab_type": "code",
        "colab": {}
      },
      "source": [
        "model = Model(inputs = input_tensor, outputs = out)"
      ],
      "execution_count": null,
      "outputs": []
    },
    {
      "cell_type": "code",
      "metadata": {
        "id": "FdtuDDC4nhx4",
        "colab_type": "code",
        "colab": {
          "base_uri": "https://localhost:8080/",
          "height": 391
        },
        "outputId": "2591e108-db2b-4fe7-fb61-8d68e684dcfc"
      },
      "source": [
        "model.summary()"
      ],
      "execution_count": null,
      "outputs": [
        {
          "output_type": "stream",
          "text": [
            "Model: \"functional_1\"\n",
            "_________________________________________________________________\n",
            "Layer (type)                 Output Shape              Param #   \n",
            "=================================================================\n",
            "input_4 (InputLayer)         [(None, 224, 224, 1)]     0         \n",
            "_________________________________________________________________\n",
            "conv2d_1 (Conv2D)            (None, 224, 224, 3)       30        \n",
            "_________________________________________________________________\n",
            "resnet50 (Functional)        (None, None, None, 2048)  23587712  \n",
            "_________________________________________________________________\n",
            "flatten_1 (Flatten)          (None, 100352)            0         \n",
            "_________________________________________________________________\n",
            "dense_2 (Dense)              (None, 2048)              205522944 \n",
            "_________________________________________________________________\n",
            "dropout_1 (Dropout)          (None, 2048)              0         \n",
            "_________________________________________________________________\n",
            "dense_3 (Dense)              (None, 47)                96303     \n",
            "=================================================================\n",
            "Total params: 229,206,989\n",
            "Trainable params: 210,131,917\n",
            "Non-trainable params: 19,075,072\n",
            "_________________________________________________________________\n"
          ],
          "name": "stdout"
        }
      ]
    },
    {
      "cell_type": "code",
      "metadata": {
        "id": "FxUZaT4Pnkqq",
        "colab_type": "code",
        "colab": {}
      },
      "source": [
        "model.compile(loss='categorical_crossentropy',\n",
        "              optimizer=SGD(lr=0.001),\n",
        "              metrics=['accuracy'])"
      ],
      "execution_count": null,
      "outputs": []
    },
    {
      "cell_type": "code",
      "metadata": {
        "id": "2pLWnqsCnn86",
        "colab_type": "code",
        "colab": {}
      },
      "source": [
        "from keras.callbacks import ModelCheckpoint, EarlyStopping, ReduceLROnPlateau\n",
        "checkpoint = ModelCheckpoint(\"/content/drive/My Drive/DTD dataset/dtd/Resnet50_DTD_SGDGreyscale.h5\",\n",
        "                             monitor=\"val_loss\",\n",
        "                             mode=\"min\",\n",
        "                             save_best_only = True,\n",
        "                             verbose=1)\n",
        "\n",
        "earlystop = EarlyStopping(monitor = 'val_loss', \n",
        "                          min_delta = 0, \n",
        "                          patience = 40,\n",
        "                          verbose = 1,\n",
        "                          restore_best_weights = True)\n",
        "\n",
        "reduce_lr = ReduceLROnPlateau(monitor = 'val_loss',\n",
        "                              factor = 0.2,\n",
        "                              patience = 40,\n",
        "                              verbose = 1,\n",
        "                              min_delta = 0.00001)\n",
        "\n",
        "callBacks = [earlystop, checkpoint, reduce_lr]"
      ],
      "execution_count": null,
      "outputs": []
    },
    {
      "cell_type": "code",
      "metadata": {
        "id": "KlIIxMO4nvX8",
        "colab_type": "code",
        "colab": {
          "base_uri": "https://localhost:8080/",
          "height": 1000
        },
        "outputId": "851809ff-de04-41c2-85f5-fc8091d50575"
      },
      "source": [
        "hist = model.fit_generator(steps_per_epoch=634,generator= Grey_TrainingData, validation_data= Grey_ValidData, validation_steps=35,epochs=75,callbacks=callBacks)"
      ],
      "execution_count": null,
      "outputs": [
        {
          "output_type": "stream",
          "text": [
            "WARNING:tensorflow:From <ipython-input-42-775fe6d0744d>:1: Model.fit_generator (from tensorflow.python.keras.engine.training) is deprecated and will be removed in a future version.\n",
            "Instructions for updating:\n",
            "Please use Model.fit, which supports generators.\n",
            "Epoch 1/75\n",
            "634/634 [==============================] - ETA: 0s - loss: 7.5240 - accuracy: 0.2303\n",
            "Epoch 00001: val_loss improved from inf to 14.14573, saving model to /content/drive/My Drive/DTD dataset/dtd/Resnet50_DTD_SGDGreyscale.h5\n",
            "634/634 [==============================] - 1733s 3s/step - loss: 7.5240 - accuracy: 0.2303 - val_loss: 14.1457 - val_accuracy: 0.0464\n",
            "Epoch 2/75\n",
            "634/634 [==============================] - ETA: 0s - loss: 6.4764 - accuracy: 0.3558\n",
            "Epoch 00002: val_loss improved from 14.14573 to 6.17725, saving model to /content/drive/My Drive/DTD dataset/dtd/Resnet50_DTD_SGDGreyscale.h5\n",
            "634/634 [==============================] - 69s 109ms/step - loss: 6.4764 - accuracy: 0.3558 - val_loss: 6.1773 - val_accuracy: 0.4429\n",
            "Epoch 3/75\n",
            "634/634 [==============================] - ETA: 0s - loss: 6.2146 - accuracy: 0.4073\n",
            "Epoch 00003: val_loss did not improve from 6.17725\n",
            "634/634 [==============================] - 64s 102ms/step - loss: 6.2146 - accuracy: 0.4073 - val_loss: 6.8790 - val_accuracy: 0.4071\n",
            "Epoch 4/75\n",
            "634/634 [==============================] - ETA: 0s - loss: 6.0252 - accuracy: 0.4399\n",
            "Epoch 00004: val_loss did not improve from 6.17725\n",
            "634/634 [==============================] - 63s 99ms/step - loss: 6.0252 - accuracy: 0.4399 - val_loss: 7.2445 - val_accuracy: 0.4286\n",
            "Epoch 5/75\n",
            "634/634 [==============================] - ETA: 0s - loss: 5.9100 - accuracy: 0.4758\n",
            "Epoch 00005: val_loss did not improve from 6.17725\n",
            "634/634 [==============================] - 63s 99ms/step - loss: 5.9100 - accuracy: 0.4758 - val_loss: 6.7367 - val_accuracy: 0.4750\n",
            "Epoch 6/75\n",
            "634/634 [==============================] - ETA: 0s - loss: 5.8110 - accuracy: 0.4936\n",
            "Epoch 00006: val_loss did not improve from 6.17725\n",
            "634/634 [==============================] - 63s 100ms/step - loss: 5.8110 - accuracy: 0.4936 - val_loss: 7.5860 - val_accuracy: 0.4393\n",
            "Epoch 7/75\n",
            "634/634 [==============================] - ETA: 0s - loss: 5.7050 - accuracy: 0.5139\n",
            "Epoch 00007: val_loss did not improve from 6.17725\n",
            "634/634 [==============================] - 63s 99ms/step - loss: 5.7050 - accuracy: 0.5139 - val_loss: 7.6537 - val_accuracy: 0.4214\n",
            "Epoch 8/75\n",
            "634/634 [==============================] - ETA: 0s - loss: 5.6198 - accuracy: 0.5236\n",
            "Epoch 00008: val_loss did not improve from 6.17725\n",
            "634/634 [==============================] - 63s 99ms/step - loss: 5.6198 - accuracy: 0.5236 - val_loss: 7.1914 - val_accuracy: 0.4679\n",
            "Epoch 9/75\n",
            "634/634 [==============================] - ETA: 0s - loss: 5.5734 - accuracy: 0.5425\n",
            "Epoch 00009: val_loss did not improve from 6.17725\n",
            "634/634 [==============================] - 63s 99ms/step - loss: 5.5734 - accuracy: 0.5425 - val_loss: 7.2164 - val_accuracy: 0.4643\n",
            "Epoch 10/75\n",
            "634/634 [==============================] - ETA: 0s - loss: 5.5008 - accuracy: 0.5567\n",
            "Epoch 00010: val_loss did not improve from 6.17725\n",
            "634/634 [==============================] - 63s 100ms/step - loss: 5.5008 - accuracy: 0.5567 - val_loss: 7.3034 - val_accuracy: 0.4750\n",
            "Epoch 11/75\n",
            "634/634 [==============================] - ETA: 0s - loss: 5.4720 - accuracy: 0.5627\n",
            "Epoch 00011: val_loss did not improve from 6.17725\n",
            "634/634 [==============================] - 63s 100ms/step - loss: 5.4720 - accuracy: 0.5627 - val_loss: 7.8236 - val_accuracy: 0.4321\n",
            "Epoch 12/75\n",
            "634/634 [==============================] - ETA: 0s - loss: 5.4105 - accuracy: 0.5745\n",
            "Epoch 00012: val_loss did not improve from 6.17725\n",
            "634/634 [==============================] - 63s 100ms/step - loss: 5.4105 - accuracy: 0.5745 - val_loss: 7.3885 - val_accuracy: 0.4893\n",
            "Epoch 13/75\n",
            "634/634 [==============================] - ETA: 0s - loss: 5.3390 - accuracy: 0.5936\n",
            "Epoch 00013: val_loss did not improve from 6.17725\n",
            "634/634 [==============================] - 63s 100ms/step - loss: 5.3390 - accuracy: 0.5936 - val_loss: 7.4811 - val_accuracy: 0.4679\n",
            "Epoch 14/75\n",
            "634/634 [==============================] - ETA: 0s - loss: 5.3273 - accuracy: 0.5964\n",
            "Epoch 00014: val_loss did not improve from 6.17725\n",
            "634/634 [==============================] - 63s 99ms/step - loss: 5.3273 - accuracy: 0.5964 - val_loss: 7.6501 - val_accuracy: 0.4643\n",
            "Epoch 15/75\n",
            "634/634 [==============================] - ETA: 0s - loss: 5.2546 - accuracy: 0.6106\n",
            "Epoch 00015: val_loss did not improve from 6.17725\n",
            "634/634 [==============================] - 63s 99ms/step - loss: 5.2546 - accuracy: 0.6106 - val_loss: 7.9801 - val_accuracy: 0.4429\n",
            "Epoch 16/75\n",
            "634/634 [==============================] - ETA: 0s - loss: 5.2126 - accuracy: 0.6197\n",
            "Epoch 00016: val_loss did not improve from 6.17725\n",
            "634/634 [==============================] - 63s 100ms/step - loss: 5.2126 - accuracy: 0.6197 - val_loss: 8.0768 - val_accuracy: 0.4786\n",
            "Epoch 17/75\n",
            "634/634 [==============================] - ETA: 0s - loss: 5.1897 - accuracy: 0.6266\n",
            "Epoch 00017: val_loss did not improve from 6.17725\n",
            "634/634 [==============================] - 63s 99ms/step - loss: 5.1897 - accuracy: 0.6266 - val_loss: 7.1331 - val_accuracy: 0.4964\n",
            "Epoch 18/75\n",
            "634/634 [==============================] - ETA: 0s - loss: 5.1261 - accuracy: 0.6440\n",
            "Epoch 00018: val_loss did not improve from 6.17725\n",
            "634/634 [==============================] - 63s 99ms/step - loss: 5.1261 - accuracy: 0.6440 - val_loss: 7.7593 - val_accuracy: 0.4643\n",
            "Epoch 19/75\n",
            "634/634 [==============================] - ETA: 0s - loss: 5.1015 - accuracy: 0.6446\n",
            "Epoch 00019: val_loss did not improve from 6.17725\n",
            "634/634 [==============================] - 63s 99ms/step - loss: 5.1015 - accuracy: 0.6446 - val_loss: 7.8741 - val_accuracy: 0.4821\n",
            "Epoch 20/75\n",
            "634/634 [==============================] - ETA: 0s - loss: 5.0417 - accuracy: 0.6598\n",
            "Epoch 00020: val_loss did not improve from 6.17725\n",
            "634/634 [==============================] - 62s 98ms/step - loss: 5.0417 - accuracy: 0.6598 - val_loss: 7.4794 - val_accuracy: 0.4964\n",
            "Epoch 21/75\n",
            "634/634 [==============================] - ETA: 0s - loss: 5.0203 - accuracy: 0.6580\n",
            "Epoch 00021: val_loss did not improve from 6.17725\n",
            "634/634 [==============================] - 63s 100ms/step - loss: 5.0203 - accuracy: 0.6580 - val_loss: 7.9694 - val_accuracy: 0.5000\n",
            "Epoch 22/75\n",
            "634/634 [==============================] - ETA: 0s - loss: 4.9887 - accuracy: 0.6690\n",
            "Epoch 00022: val_loss did not improve from 6.17725\n",
            "634/634 [==============================] - 63s 99ms/step - loss: 4.9887 - accuracy: 0.6690 - val_loss: 8.2485 - val_accuracy: 0.4964\n",
            "Epoch 23/75\n",
            "634/634 [==============================] - ETA: 0s - loss: 4.9321 - accuracy: 0.6734\n",
            "Epoch 00023: val_loss did not improve from 6.17725\n",
            "634/634 [==============================] - 63s 99ms/step - loss: 4.9321 - accuracy: 0.6734 - val_loss: 8.2744 - val_accuracy: 0.5036\n",
            "Epoch 24/75\n",
            "634/634 [==============================] - ETA: 0s - loss: 4.9303 - accuracy: 0.6815\n",
            "Epoch 00024: val_loss did not improve from 6.17725\n",
            "634/634 [==============================] - 62s 98ms/step - loss: 4.9303 - accuracy: 0.6815 - val_loss: 7.4795 - val_accuracy: 0.4679\n",
            "Epoch 25/75\n",
            "634/634 [==============================] - ETA: 0s - loss: 4.9366 - accuracy: 0.6732\n",
            "Epoch 00025: val_loss did not improve from 6.17725\n",
            "634/634 [==============================] - 63s 99ms/step - loss: 4.9366 - accuracy: 0.6732 - val_loss: 7.5315 - val_accuracy: 0.4536\n",
            "Epoch 26/75\n",
            "634/634 [==============================] - ETA: 0s - loss: 4.8961 - accuracy: 0.6793\n",
            "Epoch 00026: val_loss did not improve from 6.17725\n",
            "634/634 [==============================] - 63s 100ms/step - loss: 4.8961 - accuracy: 0.6793 - val_loss: 7.5596 - val_accuracy: 0.5143\n",
            "Epoch 27/75\n",
            "634/634 [==============================] - ETA: 0s - loss: 4.8779 - accuracy: 0.6842\n",
            "Epoch 00027: val_loss did not improve from 6.17725\n",
            "634/634 [==============================] - 62s 98ms/step - loss: 4.8779 - accuracy: 0.6842 - val_loss: 7.7383 - val_accuracy: 0.4714\n",
            "Epoch 28/75\n",
            "634/634 [==============================] - ETA: 0s - loss: 4.8218 - accuracy: 0.6929\n",
            "Epoch 00028: val_loss did not improve from 6.17725\n",
            "634/634 [==============================] - 63s 99ms/step - loss: 4.8218 - accuracy: 0.6929 - val_loss: 7.6598 - val_accuracy: 0.4786\n",
            "Epoch 29/75\n",
            "634/634 [==============================] - ETA: 0s - loss: 4.7993 - accuracy: 0.6986\n",
            "Epoch 00029: val_loss did not improve from 6.17725\n",
            "634/634 [==============================] - 62s 98ms/step - loss: 4.7993 - accuracy: 0.6986 - val_loss: 8.6760 - val_accuracy: 0.4929\n",
            "Epoch 30/75\n",
            "634/634 [==============================] - ETA: 0s - loss: 4.7728 - accuracy: 0.7087\n",
            "Epoch 00030: val_loss did not improve from 6.17725\n",
            "634/634 [==============================] - 62s 98ms/step - loss: 4.7728 - accuracy: 0.7087 - val_loss: 7.9078 - val_accuracy: 0.5143\n",
            "Epoch 31/75\n",
            "634/634 [==============================] - ETA: 0s - loss: 4.7468 - accuracy: 0.7093\n",
            "Epoch 00031: val_loss did not improve from 6.17725\n",
            "634/634 [==============================] - 63s 100ms/step - loss: 4.7468 - accuracy: 0.7093 - val_loss: 8.0967 - val_accuracy: 0.5000\n",
            "Epoch 32/75\n",
            "634/634 [==============================] - ETA: 0s - loss: 4.7404 - accuracy: 0.7215\n",
            "Epoch 00032: val_loss did not improve from 6.17725\n",
            "634/634 [==============================] - 63s 99ms/step - loss: 4.7404 - accuracy: 0.7215 - val_loss: 8.0811 - val_accuracy: 0.4571\n",
            "Epoch 33/75\n",
            "634/634 [==============================] - ETA: 0s - loss: 4.6835 - accuracy: 0.7243\n",
            "Epoch 00033: val_loss did not improve from 6.17725\n",
            "634/634 [==============================] - 63s 99ms/step - loss: 4.6835 - accuracy: 0.7243 - val_loss: 7.9688 - val_accuracy: 0.4679\n",
            "Epoch 34/75\n",
            "634/634 [==============================] - ETA: 0s - loss: 4.6782 - accuracy: 0.7239\n",
            "Epoch 00034: val_loss did not improve from 6.17725\n",
            "634/634 [==============================] - 63s 99ms/step - loss: 4.6782 - accuracy: 0.7239 - val_loss: 7.3662 - val_accuracy: 0.4964\n",
            "Epoch 35/75\n",
            "634/634 [==============================] - ETA: 0s - loss: 4.6474 - accuracy: 0.7328\n",
            "Epoch 00035: val_loss did not improve from 6.17725\n",
            "634/634 [==============================] - 63s 99ms/step - loss: 4.6474 - accuracy: 0.7328 - val_loss: 7.7497 - val_accuracy: 0.4964\n",
            "Epoch 36/75\n",
            "634/634 [==============================] - ETA: 0s - loss: 4.6377 - accuracy: 0.7342\n",
            "Epoch 00036: val_loss did not improve from 6.17725\n",
            "634/634 [==============================] - 64s 101ms/step - loss: 4.6377 - accuracy: 0.7342 - val_loss: 8.1227 - val_accuracy: 0.4964\n",
            "Epoch 37/75\n",
            "634/634 [==============================] - ETA: 0s - loss: 4.5828 - accuracy: 0.7462\n",
            "Epoch 00037: val_loss did not improve from 6.17725\n",
            "634/634 [==============================] - 63s 100ms/step - loss: 4.5828 - accuracy: 0.7462 - val_loss: 7.5397 - val_accuracy: 0.4964\n",
            "Epoch 38/75\n",
            "634/634 [==============================] - ETA: 0s - loss: 4.5533 - accuracy: 0.7498\n",
            "Epoch 00038: val_loss did not improve from 6.17725\n",
            "634/634 [==============================] - 63s 99ms/step - loss: 4.5533 - accuracy: 0.7498 - val_loss: 7.6311 - val_accuracy: 0.5000\n",
            "Epoch 39/75\n",
            "634/634 [==============================] - ETA: 0s - loss: 4.5338 - accuracy: 0.7569\n",
            "Epoch 00039: val_loss did not improve from 6.17725\n",
            "634/634 [==============================] - 63s 99ms/step - loss: 4.5338 - accuracy: 0.7569 - val_loss: 8.7638 - val_accuracy: 0.5036\n",
            "Epoch 40/75\n",
            "634/634 [==============================] - ETA: 0s - loss: 4.5265 - accuracy: 0.7519\n",
            "Epoch 00040: val_loss did not improve from 6.17725\n",
            "634/634 [==============================] - 63s 99ms/step - loss: 4.5265 - accuracy: 0.7519 - val_loss: 8.2339 - val_accuracy: 0.5250\n",
            "Epoch 41/75\n",
            "634/634 [==============================] - ETA: 0s - loss: 4.5078 - accuracy: 0.7596\n",
            "Epoch 00041: val_loss did not improve from 6.17725\n",
            "634/634 [==============================] - 63s 100ms/step - loss: 4.5078 - accuracy: 0.7596 - val_loss: 8.4119 - val_accuracy: 0.4964\n",
            "Epoch 42/75\n",
            "634/634 [==============================] - ETA: 0s - loss: 4.5036 - accuracy: 0.7602Restoring model weights from the end of the best epoch.\n",
            "\n",
            "Epoch 00042: val_loss did not improve from 6.17725\n",
            "\n",
            "Epoch 00042: ReduceLROnPlateau reducing learning rate to 0.00020000000949949026.\n",
            "634/634 [==============================] - 63s 99ms/step - loss: 4.5036 - accuracy: 0.7602 - val_loss: 7.6808 - val_accuracy: 0.5071\n",
            "Epoch 00042: early stopping\n"
          ],
          "name": "stdout"
        }
      ]
    },
    {
      "cell_type": "code",
      "metadata": {
        "id": "3MDoO7vVn19o",
        "colab_type": "code",
        "colab": {
          "base_uri": "https://localhost:8080/",
          "height": 295
        },
        "outputId": "8a3e17aa-64c0-4e05-a1d2-ab84e0364ed3"
      },
      "source": [
        "import matplotlib.pyplot as plt\n",
        "plt.plot(hist.history[\"accuracy\"])\n",
        "plt.plot(hist.history['val_accuracy'])\n",
        "plt.title(\"model accuracy\")\n",
        "plt.ylabel(\"Accuracy\")\n",
        "plt.xlabel(\"Epoch\")\n",
        "plt.legend([\"Accuracy\",\"Validation Accuracy\"])\n",
        "plt.show()"
      ],
      "execution_count": null,
      "outputs": [
        {
          "output_type": "display_data",
          "data": {
            "image/png": "[encoded data removed]",
            "text/plain": [
              "<Figure size 432x288 with 1 Axes>"
            ]
          },
          "metadata": {
            "tags": [],
            "needs_background": "light"
          }
        }
      ]
    },
    {
      "cell_type": "code",
      "metadata": {
        "id": "oq9pYuItn4ns",
        "colab_type": "code",
        "colab": {
          "base_uri": "https://localhost:8080/",
          "height": 295
        },
        "outputId": "8d2130e1-0ed0-49a6-d80a-d7280b612b5a"
      },
      "source": [
        "plt.plot(hist.history['loss'])\n",
        "plt.plot(hist.history['val_loss'])\n",
        "plt.title(\"model Loss\")\n",
        "plt.ylabel(\"Loss\")\n",
        "plt.xlabel(\"Epoch\")\n",
        "plt.legend([\"Loss\",\"Validation Loss\"])\n",
        "plt.show()"
      ],
      "execution_count": null,
      "outputs": [
        {
          "output_type": "display_data",
          "data": {
            "image/png": "[encoded data removed]",
            "text/plain": [
              "<Figure size 432x288 with 1 Axes>"
            ]
          },
          "metadata": {
            "tags": [],
            "needs_background": "light"
          }
        }
      ]
    },
    {
      "cell_type": "code",
      "metadata": {
        "id": "qI9kqwwqUfXj",
        "colab_type": "code",
        "colab": {
          "base_uri": "https://localhost:8080/",
          "height": 34
        },
        "outputId": "ba4927bd-a5c1-4c60-80fc-1ceffc75ab29"
      },
      "source": [
        "GreyTestData = TestGenerator.flow_from_directory('/content/drive/My Drive/DTD dataset/dtd/Test/', target_size=(224,224), batch_size = 8, shuffle = False, color_mode='grayscale')"
      ],
      "execution_count": null,
      "outputs": [
        {
          "output_type": "stream",
          "text": [
            "Found 283 images belonging to 47 classes.\n"
          ],
          "name": "stdout"
        }
      ]
    },
    {
      "cell_type": "code",
      "metadata": {
        "id": "kd_M1ALan_T0",
        "colab_type": "code",
        "colab": {}
      },
      "source": [
        "Grey_predict = model.predict(GreyTestData)"
      ],
      "execution_count": null,
      "outputs": []
    },
    {
      "cell_type": "code",
      "metadata": {
        "id": "7T6LpGNwoBqd",
        "colab_type": "code",
        "colab": {}
      },
      "source": [
        "Grey_predict_classes = np.argmax(Grey_predict, axis=1)"
      ],
      "execution_count": null,
      "outputs": []
    },
    {
      "cell_type": "code",
      "metadata": {
        "id": "-r6fM_AsoD3W",
        "colab_type": "code",
        "colab": {
          "base_uri": "https://localhost:8080/",
          "height": 306
        },
        "outputId": "b5d9893c-2fc0-4005-e814-141a5177a2b1"
      },
      "source": [
        "Grey_predict_classes"
      ],
      "execution_count": null,
      "outputs": [
        {
          "output_type": "execute_result",
          "data": {
            "text/plain": [
              "array([ 0, 17,  0,  0, 15,  0,  8,  9, 28, 15, 28,  1, 11,  2, 29,  2, 11,\n",
              "        4,  8,  8,  8,  3, 13, 36, 27, 43, 36, 16, 27,  3, 27, 16,  5,  5,\n",
              "       16, 16,  6,  6,  6,  8,  6,  6,  7,  7,  7,  7,  1, 25, 19, 16, 15,\n",
              "        8, 41,  8,  9,  9,  9,  9,  9, 36, 27, 30, 10, 27, 30,  3, 36, 11,\n",
              "       11, 37, 11, 11,  8, 32, 12,  8, 27, 12, 13, 27, 36, 32, 13, 13, 24,\n",
              "       14, 25, 41, 21, 14, 15, 15, 17, 15, 34, 15, 16, 16, 16, 16, 16, 16,\n",
              "        8,  8, 15, 35, 17, 17, 18, 18, 25, 25, 18,  6, 35, 19, 19, 19, 19,\n",
              "       41, 31, 27, 27, 20, 20, 44, 11, 21,  8, 21, 21, 21,  8,  8, 15, 22,\n",
              "       22, 17, 21, 28, 17, 28, 42,  9, 32, 28,  8, 28, 24, 24, 16, 25, 16,\n",
              "       27, 25, 16, 26, 26, 26, 11, 26, 26, 27, 27, 27, 27, 16, 27,  4, 12,\n",
              "        1,  8, 44, 12, 29, 22, 17, 29, 29, 15, 27, 27, 27, 30, 27, 10, 27,\n",
              "        8,  8, 13, 36, 28, 32, 32, 32, 34, 32, 23, 33, 20,  8, 27, 44, 25,\n",
              "        9,  8, 45,  6, 34, 32, 35,  8,  2, 41, 35, 35, 28, 27, 16, 36,  3,\n",
              "       36, 15, 27, 34, 37, 37,  8,  0, 22, 42, 17, 38, 38, 39,  2, 39, 39,\n",
              "       41, 39, 40, 40,  3, 40, 27, 27, 41, 35, 41,  3, 41,  6, 42, 25, 42,\n",
              "       42, 25, 17,  9, 43, 16, 42, 13, 43, 43, 44, 27, 16,  8, 16, 16, 45,\n",
              "       42,  6, 45, 42, 11, 46, 44, 46, 46, 46, 46])"
            ]
          },
          "metadata": {
            "tags": []
          },
          "execution_count": 48
        }
      ]
    },
    {
      "cell_type": "code",
      "metadata": {
        "id": "jv0w9FOFoGNi",
        "colab_type": "code",
        "colab": {}
      },
      "source": [
        "from sklearn.metrics import accuracy_score\n",
        "from sklearn.metrics import precision_score\n",
        "from sklearn.metrics import recall_score\n",
        "from sklearn.metrics import f1_score\n",
        "from sklearn.metrics import cohen_kappa_score\n",
        "from sklearn.metrics import roc_auc_score"
      ],
      "execution_count": null,
      "outputs": []
    },
    {
      "cell_type": "code",
      "metadata": {
        "id": "dohobzTDoJuz",
        "colab_type": "code",
        "colab": {
          "base_uri": "https://localhost:8080/",
          "height": 34
        },
        "outputId": "092c2ee0-c5b4-4d2c-9ae2-647a917b2f1f"
      },
      "source": [
        "Grey_accuracy = accuracy_score(GreyTestData.classes, Grey_predict_classes)\n",
        "print(\"Grey Accuracy: \", Grey_accuracy)"
      ],
      "execution_count": null,
      "outputs": [
        {
          "output_type": "stream",
          "text": [
            "Grey Accuracy:  0.43109540636042404\n"
          ],
          "name": "stdout"
        }
      ]
    },
    {
      "cell_type": "code",
      "metadata": {
        "id": "paOJQoHgoL1P",
        "colab_type": "code",
        "colab": {
          "base_uri": "https://localhost:8080/",
          "height": 34
        },
        "outputId": "04dc7258-cc40-4640-85c6-efa770d98d98"
      },
      "source": [
        "Grey_precision = precision_score(GreyTestData.classes, Grey_predict_classes,average=\"weighted\")\n",
        "print(\"Grey Precision: \", Grey_precision)"
      ],
      "execution_count": null,
      "outputs": [
        {
          "output_type": "stream",
          "text": [
            "Grey Precision:  0.5360685634844491\n"
          ],
          "name": "stdout"
        }
      ]
    },
    {
      "cell_type": "code",
      "metadata": {
        "id": "c92U1PvJoN5s",
        "colab_type": "code",
        "colab": {
          "base_uri": "https://localhost:8080/",
          "height": 34
        },
        "outputId": "114be22c-771d-4cbc-910e-aa86fb3e8144"
      },
      "source": [
        "Grey_recall = recall_score(GreyTestData.classes, Grey_predict_classes, average=\"weighted\")\n",
        "print(\"Grey Recall:\", Grey_recall)"
      ],
      "execution_count": null,
      "outputs": [
        {
          "output_type": "stream",
          "text": [
            "Grey Recall: 0.43109540636042404\n"
          ],
          "name": "stdout"
        }
      ]
    },
    {
      "cell_type": "code",
      "metadata": {
        "id": "1De9CWGaoQIY",
        "colab_type": "code",
        "colab": {
          "base_uri": "https://localhost:8080/",
          "height": 34
        },
        "outputId": "f536394d-82aa-4c2d-973c-5bdcd28df47d"
      },
      "source": [
        "Grey_f1_score = f1_score(GreyTestData.classes, Grey_predict_classes, average=\"weighted\")\n",
        "print(\"F1 score for Grey: \", Grey_f1_score)"
      ],
      "execution_count": null,
      "outputs": [
        {
          "output_type": "stream",
          "text": [
            "F1 score for Grey:  0.43701107514727877\n"
          ],
          "name": "stdout"
        }
      ]
    },
    {
      "cell_type": "code",
      "metadata": {
        "id": "DeVdkD6xoTLd",
        "colab_type": "code",
        "colab": {
          "base_uri": "https://localhost:8080/",
          "height": 34
        },
        "outputId": "8804ae25-b94d-430b-d31e-cc4f303a9e4a"
      },
      "source": [
        "Colour_TrainingData =  DataGenerator.flow_from_directory('/content/drive/My Drive/DTD dataset/dtd/Train/', target_size=(224,224), batch_size=8)"
      ],
      "execution_count": null,
      "outputs": [
        {
          "output_type": "stream",
          "text": [
            "Found 5075 images belonging to 47 classes.\n"
          ],
          "name": "stdout"
        }
      ]
    },
    {
      "cell_type": "code",
      "metadata": {
        "id": "f7S_s2yyoVq6",
        "colab_type": "code",
        "colab": {
          "base_uri": "https://localhost:8080/",
          "height": 34
        },
        "outputId": "1dcada6e-90f1-4334-bedb-227505df8d6e"
      },
      "source": [
        "Colour_ValidData =  TestGenerator.flow_from_directory('/content/drive/My Drive/DTD dataset/dtd/Valid/', target_size=(224,224), batch_size=8)"
      ],
      "execution_count": null,
      "outputs": [
        {
          "output_type": "stream",
          "text": [
            "Found 282 images belonging to 47 classes.\n"
          ],
          "name": "stdout"
        }
      ]
    },
    {
      "cell_type": "code",
      "metadata": {
        "id": "ZT5KgsKPoYLD",
        "colab_type": "code",
        "colab": {}
      },
      "source": [
        "conv_base_colour = ResNet50(weights = 'imagenet', include_top = False)"
      ],
      "execution_count": null,
      "outputs": []
    },
    {
      "cell_type": "code",
      "metadata": {
        "id": "a3Ta8d54oqPD",
        "colab_type": "code",
        "colab": {}
      },
      "source": [
        "for layer in conv_base.layers[:165]:\n",
        "  layer.trainable = False\n",
        "for layer in conv_base.layers[165:]:\n",
        "  layer.trainable = True\n",
        "for layer in conv_base.layers:\n",
        "  if isinstance(layer, BatchNormalization):\n",
        "    layer.trainable = True"
      ],
      "execution_count": null,
      "outputs": []
    },
    {
      "cell_type": "code",
      "metadata": {
        "id": "qE7dH0sfowHr",
        "colab_type": "code",
        "colab": {}
      },
      "source": [
        "from keras.layers import Input"
      ],
      "execution_count": null,
      "outputs": []
    },
    {
      "cell_type": "code",
      "metadata": {
        "id": "BTkD3tJfoy2t",
        "colab_type": "code",
        "colab": {}
      },
      "source": [
        "input_tensor = Input(shape=(224,224,3))"
      ],
      "execution_count": null,
      "outputs": []
    },
    {
      "cell_type": "code",
      "metadata": {
        "id": "TYI-DSV-o1h3",
        "colab_type": "code",
        "colab": {}
      },
      "source": [
        "x = conv_base_colour(input_tensor)"
      ],
      "execution_count": null,
      "outputs": []
    },
    {
      "cell_type": "code",
      "metadata": {
        "id": "aRWTUdTXo3j4",
        "colab_type": "code",
        "colab": {}
      },
      "source": [
        "x = Flatten()(x)"
      ],
      "execution_count": null,
      "outputs": []
    },
    {
      "cell_type": "code",
      "metadata": {
        "id": "GnptG6ayo828",
        "colab_type": "code",
        "colab": {}
      },
      "source": [
        "x = Dense(2048, activation='relu', kernel_regularizer=regularizers.l2(0.001))(x)\n",
        "x = Dropout(0.5)(x)\n",
        "out = Dense(47, activation='softmax')(x)"
      ],
      "execution_count": null,
      "outputs": []
    },
    {
      "cell_type": "code",
      "metadata": {
        "id": "8O7Ui0ZKo_Te",
        "colab_type": "code",
        "colab": {}
      },
      "source": [
        "model_colour = Model(inputs = input_tensor, outputs = out)"
      ],
      "execution_count": null,
      "outputs": []
    },
    {
      "cell_type": "code",
      "metadata": {
        "id": "Rqd0_mNGpETZ",
        "colab_type": "code",
        "colab": {}
      },
      "source": [
        "model_colour.compile(loss='categorical_crossentropy',\n",
        "              optimizer=SGD(lr=0.001),\n",
        "              metrics=['accuracy'])"
      ],
      "execution_count": null,
      "outputs": []
    },
    {
      "cell_type": "code",
      "metadata": {
        "id": "EWQ6ImjFpHKF",
        "colab_type": "code",
        "colab": {}
      },
      "source": [
        "from keras.callbacks import ModelCheckpoint, EarlyStopping, ReduceLROnPlateau\n",
        "checkpoint = ModelCheckpoint(\"/content/drive/My Drive/DTD dataset/dtd/ResNet50_DTD_SGDColour.h5\",\n",
        "                             monitor=\"val_loss\",\n",
        "                             mode=\"min\",\n",
        "                             save_best_only = True,\n",
        "                             verbose=1)\n",
        "\n",
        "earlystop = EarlyStopping(monitor = 'val_loss', \n",
        "                          min_delta = 0, \n",
        "                          patience = 40,\n",
        "                          verbose = 1,\n",
        "                          restore_best_weights = True)\n",
        "\n",
        "reduce_lr = ReduceLROnPlateau(monitor = 'val_loss',\n",
        "                              factor = 0.2,\n",
        "                              patience = 40,\n",
        "                              verbose = 1,\n",
        "                              min_delta = 0.00001)\n",
        "\n",
        "callBacks = [earlystop, checkpoint, reduce_lr]"
      ],
      "execution_count": null,
      "outputs": []
    },
    {
      "cell_type": "code",
      "metadata": {
        "id": "CgTraRCspOee",
        "colab_type": "code",
        "colab": {
          "base_uri": "https://localhost:8080/",
          "height": 1000
        },
        "outputId": "e48f4878-77a4-4a50-8aed-5677e6feb1c1"
      },
      "source": [
        "hist = model_colour.fit_generator(steps_per_epoch=634,generator= Colour_TrainingData, validation_data= Colour_ValidData, validation_steps=35,epochs=75,callbacks=callBacks)"
      ],
      "execution_count": null,
      "outputs": [
        {
          "output_type": "stream",
          "text": [
            "Epoch 1/75\n",
            "634/634 [==============================] - ETA: 0s - loss: 7.5055 - accuracy: 0.2287\n",
            "Epoch 00001: val_loss improved from inf to 8.24403, saving model to /content/drive/My Drive/DTD dataset/dtd/ResNet50_DTD_SGDColour.h5\n",
            "634/634 [==============================] - 109s 172ms/step - loss: 7.5055 - accuracy: 0.2287 - val_loss: 8.2440 - val_accuracy: 0.1536\n",
            "Epoch 2/75\n",
            "634/634 [==============================] - ETA: 0s - loss: 6.3346 - accuracy: 0.3848\n",
            "Epoch 00002: val_loss improved from 8.24403 to 6.62042, saving model to /content/drive/My Drive/DTD dataset/dtd/ResNet50_DTD_SGDColour.h5\n",
            "634/634 [==============================] - 110s 173ms/step - loss: 6.3346 - accuracy: 0.3848 - val_loss: 6.6204 - val_accuracy: 0.4000\n",
            "Epoch 3/75\n",
            "634/634 [==============================] - ETA: 0s - loss: 6.0115 - accuracy: 0.4494\n",
            "Epoch 00003: val_loss did not improve from 6.62042\n",
            "634/634 [==============================] - 105s 165ms/step - loss: 6.0115 - accuracy: 0.4494 - val_loss: 8.5254 - val_accuracy: 0.2786\n",
            "Epoch 4/75\n",
            "634/634 [==============================] - ETA: 0s - loss: 5.7853 - accuracy: 0.5082\n",
            "Epoch 00004: val_loss improved from 6.62042 to 6.56569, saving model to /content/drive/My Drive/DTD dataset/dtd/ResNet50_DTD_SGDColour.h5\n",
            "634/634 [==============================] - 110s 173ms/step - loss: 5.7853 - accuracy: 0.5082 - val_loss: 6.5657 - val_accuracy: 0.4071\n",
            "Epoch 5/75\n",
            "634/634 [==============================] - ETA: 0s - loss: 5.6350 - accuracy: 0.5356\n",
            "Epoch 00005: val_loss improved from 6.56569 to 6.43325, saving model to /content/drive/My Drive/DTD dataset/dtd/ResNet50_DTD_SGDColour.h5\n",
            "634/634 [==============================] - 111s 175ms/step - loss: 5.6350 - accuracy: 0.5356 - val_loss: 6.4333 - val_accuracy: 0.4071\n",
            "Epoch 6/75\n",
            "634/634 [==============================] - ETA: 0s - loss: 5.4839 - accuracy: 0.5737\n",
            "Epoch 00006: val_loss did not improve from 6.43325\n",
            "634/634 [==============================] - 106s 168ms/step - loss: 5.4839 - accuracy: 0.5737 - val_loss: 6.4992 - val_accuracy: 0.4536\n",
            "Epoch 7/75\n",
            "634/634 [==============================] - ETA: 0s - loss: 5.3898 - accuracy: 0.5901\n",
            "Epoch 00007: val_loss did not improve from 6.43325\n",
            "634/634 [==============================] - 105s 166ms/step - loss: 5.3898 - accuracy: 0.5901 - val_loss: 6.4950 - val_accuracy: 0.4679\n",
            "Epoch 8/75\n",
            "634/634 [==============================] - ETA: 0s - loss: 5.3115 - accuracy: 0.6104\n",
            "Epoch 00008: val_loss improved from 6.43325 to 6.40275, saving model to /content/drive/My Drive/DTD dataset/dtd/ResNet50_DTD_SGDColour.h5\n",
            "634/634 [==============================] - 110s 173ms/step - loss: 5.3115 - accuracy: 0.6104 - val_loss: 6.4027 - val_accuracy: 0.4821\n",
            "Epoch 9/75\n",
            "634/634 [==============================] - ETA: 0s - loss: 5.2085 - accuracy: 0.6331\n",
            "Epoch 00009: val_loss improved from 6.40275 to 6.39427, saving model to /content/drive/My Drive/DTD dataset/dtd/ResNet50_DTD_SGDColour.h5\n",
            "634/634 [==============================] - 110s 174ms/step - loss: 5.2085 - accuracy: 0.6331 - val_loss: 6.3943 - val_accuracy: 0.4750\n",
            "Epoch 10/75\n",
            "634/634 [==============================] - ETA: 0s - loss: 5.0898 - accuracy: 0.6637\n",
            "Epoch 00010: val_loss did not improve from 6.39427\n",
            "634/634 [==============================] - 107s 169ms/step - loss: 5.0898 - accuracy: 0.6637 - val_loss: 6.5021 - val_accuracy: 0.4750\n",
            "Epoch 11/75\n",
            "634/634 [==============================] - ETA: 0s - loss: 5.0321 - accuracy: 0.6710\n",
            "Epoch 00011: val_loss did not improve from 6.39427\n",
            "634/634 [==============================] - 105s 166ms/step - loss: 5.0321 - accuracy: 0.6710 - val_loss: 6.7672 - val_accuracy: 0.4464\n",
            "Epoch 12/75\n",
            "634/634 [==============================] - ETA: 0s - loss: 4.9515 - accuracy: 0.6949\n",
            "Epoch 00012: val_loss did not improve from 6.39427\n",
            "634/634 [==============================] - 105s 165ms/step - loss: 4.9515 - accuracy: 0.6949 - val_loss: 6.5467 - val_accuracy: 0.5036\n",
            "Epoch 13/75\n",
            "634/634 [==============================] - ETA: 0s - loss: 4.9120 - accuracy: 0.7083\n",
            "Epoch 00013: val_loss did not improve from 6.39427\n",
            "634/634 [==============================] - 105s 166ms/step - loss: 4.9120 - accuracy: 0.7083 - val_loss: 6.7789 - val_accuracy: 0.4714\n",
            "Epoch 14/75\n",
            "634/634 [==============================] - ETA: 0s - loss: 4.8099 - accuracy: 0.7330\n",
            "Epoch 00014: val_loss did not improve from 6.39427\n",
            "634/634 [==============================] - 105s 165ms/step - loss: 4.8099 - accuracy: 0.7330 - val_loss: 6.5661 - val_accuracy: 0.4857\n",
            "Epoch 15/75\n",
            "634/634 [==============================] - ETA: 0s - loss: 4.7789 - accuracy: 0.7257\n",
            "Epoch 00015: val_loss did not improve from 6.39427\n",
            "634/634 [==============================] - 105s 165ms/step - loss: 4.7789 - accuracy: 0.7257 - val_loss: 6.4456 - val_accuracy: 0.5214\n",
            "Epoch 16/75\n",
            "634/634 [==============================] - ETA: 0s - loss: 4.7376 - accuracy: 0.7440\n",
            "Epoch 00016: val_loss did not improve from 6.39427\n",
            "634/634 [==============================] - 105s 166ms/step - loss: 4.7376 - accuracy: 0.7440 - val_loss: 6.6027 - val_accuracy: 0.5179\n",
            "Epoch 17/75\n",
            "634/634 [==============================] - ETA: 0s - loss: 4.6793 - accuracy: 0.7594\n",
            "Epoch 00017: val_loss did not improve from 6.39427\n",
            "634/634 [==============================] - 104s 165ms/step - loss: 4.6793 - accuracy: 0.7594 - val_loss: 6.6603 - val_accuracy: 0.5036\n",
            "Epoch 18/75\n",
            "634/634 [==============================] - ETA: 0s - loss: 4.6167 - accuracy: 0.7703\n",
            "Epoch 00018: val_loss did not improve from 6.39427\n",
            "634/634 [==============================] - 105s 165ms/step - loss: 4.6167 - accuracy: 0.7703 - val_loss: 6.4758 - val_accuracy: 0.5071\n",
            "Epoch 19/75\n",
            "634/634 [==============================] - ETA: 0s - loss: 4.5754 - accuracy: 0.7857\n",
            "Epoch 00019: val_loss did not improve from 6.39427\n",
            "634/634 [==============================] - 105s 166ms/step - loss: 4.5754 - accuracy: 0.7857 - val_loss: 6.5173 - val_accuracy: 0.5214\n",
            "Epoch 20/75\n",
            "634/634 [==============================] - ETA: 0s - loss: 4.5326 - accuracy: 0.7955\n",
            "Epoch 00020: val_loss did not improve from 6.39427\n",
            "634/634 [==============================] - 104s 164ms/step - loss: 4.5326 - accuracy: 0.7955 - val_loss: 6.5613 - val_accuracy: 0.5357\n",
            "Epoch 21/75\n",
            "634/634 [==============================] - ETA: 0s - loss: 4.4946 - accuracy: 0.8072\n",
            "Epoch 00021: val_loss did not improve from 6.39427\n",
            "634/634 [==============================] - 104s 164ms/step - loss: 4.4946 - accuracy: 0.8072 - val_loss: 6.8130 - val_accuracy: 0.5214\n",
            "Epoch 22/75\n",
            "634/634 [==============================] - ETA: 0s - loss: 4.4673 - accuracy: 0.8090\n",
            "Epoch 00022: val_loss did not improve from 6.39427\n",
            "634/634 [==============================] - 105s 166ms/step - loss: 4.4673 - accuracy: 0.8090 - val_loss: 6.6031 - val_accuracy: 0.5250\n",
            "Epoch 23/75\n",
            "634/634 [==============================] - ETA: 0s - loss: 4.4196 - accuracy: 0.8271\n",
            "Epoch 00023: val_loss did not improve from 6.39427\n",
            "634/634 [==============================] - 104s 164ms/step - loss: 4.4196 - accuracy: 0.8271 - val_loss: 6.4382 - val_accuracy: 0.5429\n",
            "Epoch 24/75\n",
            "634/634 [==============================] - ETA: 0s - loss: 4.3880 - accuracy: 0.8216\n",
            "Epoch 00024: val_loss did not improve from 6.39427\n",
            "634/634 [==============================] - 104s 165ms/step - loss: 4.3880 - accuracy: 0.8216 - val_loss: 6.5530 - val_accuracy: 0.5321\n",
            "Epoch 25/75\n",
            "634/634 [==============================] - ETA: 0s - loss: 4.3505 - accuracy: 0.8277\n",
            "Epoch 00025: val_loss did not improve from 6.39427\n",
            "634/634 [==============================] - 105s 165ms/step - loss: 4.3505 - accuracy: 0.8277 - val_loss: 6.5098 - val_accuracy: 0.5393\n",
            "Epoch 26/75\n",
            "634/634 [==============================] - ETA: 0s - loss: 4.3312 - accuracy: 0.8415\n",
            "Epoch 00026: val_loss did not improve from 6.39427\n",
            "634/634 [==============================] - 104s 164ms/step - loss: 4.3312 - accuracy: 0.8415 - val_loss: 6.5856 - val_accuracy: 0.5286\n",
            "Epoch 27/75\n",
            "634/634 [==============================] - ETA: 0s - loss: 4.3024 - accuracy: 0.8528\n",
            "Epoch 00027: val_loss did not improve from 6.39427\n",
            "634/634 [==============================] - 104s 164ms/step - loss: 4.3024 - accuracy: 0.8528 - val_loss: 6.7184 - val_accuracy: 0.5071\n",
            "Epoch 28/75\n",
            "634/634 [==============================] - ETA: 0s - loss: 4.2512 - accuracy: 0.8619\n",
            "Epoch 00028: val_loss did not improve from 6.39427\n",
            "634/634 [==============================] - 105s 165ms/step - loss: 4.2512 - accuracy: 0.8619 - val_loss: 6.4701 - val_accuracy: 0.5536\n",
            "Epoch 29/75\n",
            "634/634 [==============================] - ETA: 0s - loss: 4.2201 - accuracy: 0.8654\n",
            "Epoch 00029: val_loss did not improve from 6.39427\n",
            "634/634 [==============================] - 104s 164ms/step - loss: 4.2201 - accuracy: 0.8654 - val_loss: 6.5055 - val_accuracy: 0.5321\n",
            "Epoch 30/75\n",
            "634/634 [==============================] - ETA: 0s - loss: 4.2052 - accuracy: 0.8656\n",
            "Epoch 00030: val_loss did not improve from 6.39427\n",
            "634/634 [==============================] - 105s 165ms/step - loss: 4.2052 - accuracy: 0.8656 - val_loss: 6.6879 - val_accuracy: 0.5000\n",
            "Epoch 31/75\n",
            "634/634 [==============================] - ETA: 0s - loss: 4.1910 - accuracy: 0.8703\n",
            "Epoch 00031: val_loss did not improve from 6.39427\n",
            "634/634 [==============================] - 103s 163ms/step - loss: 4.1910 - accuracy: 0.8703 - val_loss: 6.6615 - val_accuracy: 0.5179\n",
            "Epoch 32/75\n",
            "634/634 [==============================] - ETA: 0s - loss: 4.1523 - accuracy: 0.8780\n",
            "Epoch 00032: val_loss did not improve from 6.39427\n",
            "634/634 [==============================] - 102s 161ms/step - loss: 4.1523 - accuracy: 0.8780 - val_loss: 6.6944 - val_accuracy: 0.5036\n",
            "Epoch 33/75\n",
            "634/634 [==============================] - ETA: 0s - loss: 4.1464 - accuracy: 0.8733\n",
            "Epoch 00033: val_loss did not improve from 6.39427\n",
            "634/634 [==============================] - 103s 162ms/step - loss: 4.1464 - accuracy: 0.8733 - val_loss: 6.6706 - val_accuracy: 0.5250\n",
            "Epoch 34/75\n",
            "634/634 [==============================] - ETA: 0s - loss: 4.1183 - accuracy: 0.8851\n",
            "Epoch 00034: val_loss did not improve from 6.39427\n",
            "634/634 [==============================] - 103s 163ms/step - loss: 4.1183 - accuracy: 0.8851 - val_loss: 6.5439 - val_accuracy: 0.5429\n",
            "Epoch 35/75\n",
            "634/634 [==============================] - ETA: 0s - loss: 4.0985 - accuracy: 0.8869\n",
            "Epoch 00035: val_loss did not improve from 6.39427\n",
            "634/634 [==============================] - 103s 162ms/step - loss: 4.0985 - accuracy: 0.8869 - val_loss: 6.5646 - val_accuracy: 0.5536\n",
            "Epoch 36/75\n",
            "634/634 [==============================] - ETA: 0s - loss: 4.0782 - accuracy: 0.8889\n",
            "Epoch 00036: val_loss did not improve from 6.39427\n",
            "634/634 [==============================] - 103s 163ms/step - loss: 4.0782 - accuracy: 0.8889 - val_loss: 6.6497 - val_accuracy: 0.5607\n",
            "Epoch 37/75\n",
            "634/634 [==============================] - ETA: 0s - loss: 4.0626 - accuracy: 0.8970\n",
            "Epoch 00037: val_loss did not improve from 6.39427\n",
            "634/634 [==============================] - 100s 157ms/step - loss: 4.0626 - accuracy: 0.8970 - val_loss: 6.6983 - val_accuracy: 0.5393\n",
            "Epoch 38/75\n",
            "634/634 [==============================] - ETA: 0s - loss: 4.0381 - accuracy: 0.9003\n",
            "Epoch 00038: val_loss did not improve from 6.39427\n",
            "634/634 [==============================] - 98s 154ms/step - loss: 4.0381 - accuracy: 0.9003 - val_loss: 6.6262 - val_accuracy: 0.5250\n",
            "Epoch 39/75\n",
            "634/634 [==============================] - ETA: 0s - loss: 4.0057 - accuracy: 0.9055\n",
            "Epoch 00039: val_loss did not improve from 6.39427\n",
            "634/634 [==============================] - 98s 154ms/step - loss: 4.0057 - accuracy: 0.9055 - val_loss: 7.0906 - val_accuracy: 0.4714\n",
            "Epoch 40/75\n",
            "634/634 [==============================] - ETA: 0s - loss: 4.0088 - accuracy: 0.9053\n",
            "Epoch 00040: val_loss did not improve from 6.39427\n",
            "634/634 [==============================] - 103s 162ms/step - loss: 4.0088 - accuracy: 0.9053 - val_loss: 6.6080 - val_accuracy: 0.5321\n",
            "Epoch 41/75\n",
            "634/634 [==============================] - ETA: 0s - loss: 3.9687 - accuracy: 0.9122\n",
            "Epoch 00041: val_loss did not improve from 6.39427\n",
            "634/634 [==============================] - 100s 157ms/step - loss: 3.9687 - accuracy: 0.9122 - val_loss: 6.7255 - val_accuracy: 0.5179\n",
            "Epoch 42/75\n",
            "634/634 [==============================] - ETA: 0s - loss: 3.9456 - accuracy: 0.9171\n",
            "Epoch 00042: val_loss did not improve from 6.39427\n",
            "634/634 [==============================] - 100s 157ms/step - loss: 3.9456 - accuracy: 0.9171 - val_loss: 6.6677 - val_accuracy: 0.5429\n",
            "Epoch 43/75\n",
            "634/634 [==============================] - ETA: 0s - loss: 3.9423 - accuracy: 0.9173\n",
            "Epoch 00043: val_loss did not improve from 6.39427\n",
            "634/634 [==============================] - 100s 158ms/step - loss: 3.9423 - accuracy: 0.9173 - val_loss: 6.4822 - val_accuracy: 0.5607\n",
            "Epoch 44/75\n",
            "634/634 [==============================] - ETA: 0s - loss: 3.9263 - accuracy: 0.9215\n",
            "Epoch 00044: val_loss did not improve from 6.39427\n",
            "634/634 [==============================] - 100s 157ms/step - loss: 3.9263 - accuracy: 0.9215 - val_loss: 6.6248 - val_accuracy: 0.5321\n",
            "Epoch 45/75\n",
            "634/634 [==============================] - ETA: 0s - loss: 3.9047 - accuracy: 0.9215\n",
            "Epoch 00045: val_loss did not improve from 6.39427\n",
            "634/634 [==============================] - 100s 157ms/step - loss: 3.9047 - accuracy: 0.9215 - val_loss: 6.5763 - val_accuracy: 0.5214\n",
            "Epoch 46/75\n",
            "634/634 [==============================] - ETA: 0s - loss: 3.8962 - accuracy: 0.9244\n",
            "Epoch 00046: val_loss did not improve from 6.39427\n",
            "634/634 [==============================] - 100s 158ms/step - loss: 3.8962 - accuracy: 0.9244 - val_loss: 6.7098 - val_accuracy: 0.5429\n",
            "Epoch 47/75\n",
            "634/634 [==============================] - ETA: 0s - loss: 3.8685 - accuracy: 0.9309\n",
            "Epoch 00047: val_loss did not improve from 6.39427\n",
            "634/634 [==============================] - 100s 158ms/step - loss: 3.8685 - accuracy: 0.9309 - val_loss: 6.7706 - val_accuracy: 0.5607\n",
            "Epoch 48/75\n",
            "634/634 [==============================] - ETA: 0s - loss: 3.8554 - accuracy: 0.9315\n",
            "Epoch 00048: val_loss did not improve from 6.39427\n",
            "634/634 [==============================] - 100s 157ms/step - loss: 3.8554 - accuracy: 0.9315 - val_loss: 6.7301 - val_accuracy: 0.5500\n",
            "Epoch 49/75\n",
            "634/634 [==============================] - ETA: 0s - loss: 3.8550 - accuracy: 0.9291Restoring model weights from the end of the best epoch.\n",
            "\n",
            "Epoch 00049: val_loss did not improve from 6.39427\n",
            "\n",
            "Epoch 00049: ReduceLROnPlateau reducing learning rate to 0.00020000000949949026.\n",
            "634/634 [==============================] - 100s 158ms/step - loss: 3.8550 - accuracy: 0.9291 - val_loss: 6.6749 - val_accuracy: 0.5679\n",
            "Epoch 00049: early stopping\n"
          ],
          "name": "stdout"
        }
      ]
    },
    {
      "cell_type": "code",
      "metadata": {
        "id": "BtnBnzyNpT7X",
        "colab_type": "code",
        "colab": {
          "base_uri": "https://localhost:8080/",
          "height": 295
        },
        "outputId": "0f09c59f-48be-47cf-d813-f6cf7a9f4391"
      },
      "source": [
        "import matplotlib.pyplot as plt\n",
        "plt.plot(hist.history[\"accuracy\"])\n",
        "plt.plot(hist.history['val_accuracy'])\n",
        "plt.title(\"model accuracy\")\n",
        "plt.ylabel(\"Accuracy\")\n",
        "plt.xlabel(\"Epoch\")\n",
        "plt.legend([\"Accuracy\",\"Validation Accuracy\"])\n",
        "plt.show()"
      ],
      "execution_count": null,
      "outputs": [
        {
          "output_type": "display_data",
          "data": {
            "image/png": "[encoded data removed]",
            "text/plain": [
              "<Figure size 432x288 with 1 Axes>"
            ]
          },
          "metadata": {
            "tags": [],
            "needs_background": "light"
          }
        }
      ]
    },
    {
      "cell_type": "code",
      "metadata": {
        "id": "QKPdkggCpXTr",
        "colab_type": "code",
        "colab": {
          "base_uri": "https://localhost:8080/",
          "height": 295
        },
        "outputId": "fc9f807d-da3a-40df-c77f-cb29fb596dc1"
      },
      "source": [
        "plt.plot(hist.history['loss'])\n",
        "plt.plot(hist.history['val_loss'])\n",
        "plt.title(\"model Loss\")\n",
        "plt.ylabel(\"Loss\")\n",
        "plt.xlabel(\"Epoch\")\n",
        "plt.legend([\"Loss\",\"Validation Loss\"])\n",
        "plt.show()"
      ],
      "execution_count": null,
      "outputs": [
        {
          "output_type": "display_data",
          "data": {
            "image/png": "[encoded data removed]",
            "text/plain": [
              "<Figure size 432x288 with 1 Axes>"
            ]
          },
          "metadata": {
            "tags": [],
            "needs_background": "light"
          }
        }
      ]
    },
    {
      "cell_type": "code",
      "metadata": {
        "id": "MjkKUZ1hpZnE",
        "colab_type": "code",
        "colab": {
          "base_uri": "https://localhost:8080/",
          "height": 34
        },
        "outputId": "e3c7074a-7db8-427f-f812-c5573d735748"
      },
      "source": [
        "Colour_TestData = TestGenerator.flow_from_directory('/content/drive/My Drive/DTD dataset/dtd/Test/', target_size=(224,224), batch_size = 8, shuffle = False)"
      ],
      "execution_count": null,
      "outputs": [
        {
          "output_type": "stream",
          "text": [
            "Found 283 images belonging to 47 classes.\n"
          ],
          "name": "stdout"
        }
      ]
    },
    {
      "cell_type": "code",
      "metadata": {
        "id": "olBQ71aApcpk",
        "colab_type": "code",
        "colab": {}
      },
      "source": [
        "Colour_predict = model_colour.predict(Colour_TestData)"
      ],
      "execution_count": null,
      "outputs": []
    },
    {
      "cell_type": "code",
      "metadata": {
        "id": "2UC8gCJCpfGV",
        "colab_type": "code",
        "colab": {}
      },
      "source": [
        "Colour_predict_classes = np.argmax(Colour_predict, axis=1)"
      ],
      "execution_count": null,
      "outputs": []
    },
    {
      "cell_type": "code",
      "metadata": {
        "id": "fNsBCKfrphLS",
        "colab_type": "code",
        "colab": {
          "base_uri": "https://localhost:8080/",
          "height": 306
        },
        "outputId": "70bc489a-1339-4326-c50f-07c66582bd22"
      },
      "source": [
        "Colour_predict_classes"
      ],
      "execution_count": null,
      "outputs": [
        {
          "output_type": "execute_result",
          "data": {
            "text/plain": [
              "array([ 0, 17,  0,  0,  5,  0, 24,  1, 25, 34, 28, 36,  2,  2, 42, 44, 11,\n",
              "       36,  3,  3, 30,  3, 36,  3, 25, 43, 36, 27,  4, 36,  3, 10,  5,  5,\n",
              "        5,  5,  6,  6,  6,  6,  6,  6,  7,  8,  7,  7, 28,  7,  8, 25,  8,\n",
              "       27,  8,  8, 34,  9,  9, 34,  8, 36, 10, 30, 10, 27, 10, 10, 25, 11,\n",
              "       11, 24, 11,  6,  8,  8, 12, 27, 27, 12, 13, 13, 13,  3, 13, 13, 45,\n",
              "       14, 14, 41, 36, 14,  8, 15, 17,  3, 20,  8,  5, 27, 30, 25, 21, 16,\n",
              "       17, 17, 22, 35, 41, 16, 18, 18, 18, 16, 18,  6, 19, 19, 19, 19, 19,\n",
              "       21, 12,  8, 27, 20, 20, 45, 41, 21, 41, 21, 21, 27,  3,  3, 22,  3,\n",
              "       29,  0, 26, 28,  1, 36, 23, 15, 28, 28, 25,  8,  8, 24, 16, 16, 16,\n",
              "       25, 16, 16,  8, 41, 41, 46, 41, 41, 27, 27, 27, 27, 16, 27,  4, 12,\n",
              "       36, 27, 33,  8, 29, 22, 17, 29, 22, 29, 27, 10, 27, 30, 30, 10, 27,\n",
              "       27, 28, 31,  8, 31,  8, 32, 32, 32, 32, 32, 33, 25,  8, 36, 18, 33,\n",
              "       36, 36, 34, 24, 34, 36, 35,  3, 38, 35,  6, 35, 36, 36,  3, 36, 36,\n",
              "       36,  3, 15, 41,  8,  3,  8, 36, 29, 38, 29, 38, 38, 29, 39, 39, 39,\n",
              "       35, 39, 40, 40,  3, 40, 40, 40, 41, 35, 41, 41, 41, 41, 42, 42, 35,\n",
              "        1, 42, 38, 14, 43, 16, 45, 43, 43,  9, 44, 27, 27, 27, 25, 44, 45,\n",
              "       36, 29, 45, 45, 45, 46, 25, 46,  5, 46, 46])"
            ]
          },
          "metadata": {
            "tags": []
          },
          "execution_count": 72
        }
      ]
    },
    {
      "cell_type": "code",
      "metadata": {
        "id": "TBWdCNjnpk82",
        "colab_type": "code",
        "colab": {
          "base_uri": "https://localhost:8080/",
          "height": 34
        },
        "outputId": "c495019e-a572-4e42-ad08-708a27932830"
      },
      "source": [
        "Colour_accuracy = accuracy_score(Colour_TestData.classes, Colour_predict_classes)\n",
        "print(\"Colour Accuracy: \", Colour_accuracy)"
      ],
      "execution_count": null,
      "outputs": [
        {
          "output_type": "stream",
          "text": [
            "Colour Accuracy:  0.46996466431095407\n"
          ],
          "name": "stdout"
        }
      ]
    },
    {
      "cell_type": "code",
      "metadata": {
        "id": "QfL5Hn9bpmjk",
        "colab_type": "code",
        "colab": {
          "base_uri": "https://localhost:8080/",
          "height": 88
        },
        "outputId": "6714915d-9b67-4b1e-8247-94f7bb8da2cd"
      },
      "source": [
        "Colour_precision = precision_score(Colour_TestData.classes, Colour_predict_classes,average=\"weighted\")\n",
        "print(\"Colour Precision: \", Colour_precision)"
      ],
      "execution_count": null,
      "outputs": [
        {
          "output_type": "stream",
          "text": [
            "Colour Precision:  0.5608783442705704\n"
          ],
          "name": "stdout"
        },
        {
          "output_type": "stream",
          "text": [
            "/usr/local/lib/python3.6/dist-packages/sklearn/metrics/_classification.py:1272: UndefinedMetricWarning: Precision is ill-defined and being set to 0.0 in labels with no predicted samples. Use `zero_division` parameter to control this behavior.\n",
            "  _warn_prf(average, modifier, msg_start, len(result))\n"
          ],
          "name": "stderr"
        }
      ]
    },
    {
      "cell_type": "code",
      "metadata": {
        "id": "GYlpO80JpowX",
        "colab_type": "code",
        "colab": {
          "base_uri": "https://localhost:8080/",
          "height": 34
        },
        "outputId": "f511fdfa-f93b-4bc0-b3d0-24dec7fb0147"
      },
      "source": [
        "Colour_recall = recall_score(Colour_TestData.classes, Colour_predict_classes, average=\"weighted\")\n",
        "print(\"Colour Recall:\", Colour_recall)"
      ],
      "execution_count": null,
      "outputs": [
        {
          "output_type": "stream",
          "text": [
            "Colour Recall: 0.46996466431095407\n"
          ],
          "name": "stdout"
        }
      ]
    },
    {
      "cell_type": "code",
      "metadata": {
        "id": "Kh000A58prPN",
        "colab_type": "code",
        "colab": {
          "base_uri": "https://localhost:8080/",
          "height": 34
        },
        "outputId": "4451df31-5536-4641-a58c-2bccafb18b34"
      },
      "source": [
        "Colour_f1_score = f1_score(Colour_TestData.classes, Colour_predict_classes, average=\"weighted\")\n",
        "print(\"F1 score for colour: \", Colour_f1_score)"
      ],
      "execution_count": null,
      "outputs": [
        {
          "output_type": "stream",
          "text": [
            "F1 score for colour:  0.4733044733044733\n"
          ],
          "name": "stdout"
        }
      ]
    },
    {
      "cell_type": "code",
      "metadata": {
        "id": "2hboKz06puM3",
        "colab_type": "code",
        "colab": {}
      },
      "source": [
        "Final = 0.6* Colour_predict + 0.4* Grey_predict"
      ],
      "execution_count": null,
      "outputs": []
    },
    {
      "cell_type": "code",
      "metadata": {
        "id": "MUBB-VI2pwbb",
        "colab_type": "code",
        "colab": {}
      },
      "source": [
        "Final_Predict_classes = np.argmax(Final, axis=1)"
      ],
      "execution_count": null,
      "outputs": []
    },
    {
      "cell_type": "code",
      "metadata": {
        "id": "6ZjRAWOrpycP",
        "colab_type": "code",
        "colab": {
          "base_uri": "https://localhost:8080/",
          "height": 306
        },
        "outputId": "3ca54195-3e2a-4f1c-b779-ffd73516b9d2"
      },
      "source": [
        "Final_Predict_classes"
      ],
      "execution_count": null,
      "outputs": [
        {
          "output_type": "execute_result",
          "data": {
            "text/plain": [
              "array([ 0, 17,  0,  0,  5,  0, 24,  9, 25, 34, 28, 36,  2,  2, 42, 44, 11,\n",
              "       36,  3,  3, 30,  3, 36, 36, 25, 43, 36, 27, 27,  3,  3, 16,  5,  5,\n",
              "        5,  5,  6,  6,  6,  6,  6,  6,  7,  8,  7,  7, 28,  7, 19, 16,  8,\n",
              "       27,  8,  8, 34,  9,  9,  9,  8, 36, 10, 30, 10, 27, 10, 10, 25, 11,\n",
              "       11, 24, 11,  6,  8,  8, 12, 27, 27, 12, 13, 13, 36,  3, 13, 13, 45,\n",
              "       14, 14, 41, 21, 14, 15, 15, 17,  3, 20,  8, 16, 16, 16, 25, 16, 16,\n",
              "       17, 17, 22, 35, 17, 16, 18, 18, 18, 16, 18,  6, 35, 19, 19, 19, 19,\n",
              "       41, 12,  8, 27, 20, 20, 45, 41, 21, 41, 21, 21, 27,  8,  8, 15,  3,\n",
              "       22,  0, 26, 28,  1, 36, 23, 15, 36, 28,  8,  8,  8, 24, 16, 25, 16,\n",
              "       25, 16, 16,  8, 41, 26, 46, 41, 26, 27, 27, 27, 27, 16, 27,  4, 12,\n",
              "       36, 27, 33,  8, 29, 22, 17, 29, 29, 29, 27, 10, 27, 30, 30, 10, 27,\n",
              "       27, 28, 13, 13, 31,  8, 32, 32, 32, 32, 32, 33, 25,  8, 27, 18, 33,\n",
              "        9, 36, 34, 24, 34, 36, 35,  8, 38, 41,  6, 35, 36, 36,  8, 36, 36,\n",
              "       36,  3, 15, 41,  8,  3,  8, 36, 29, 38, 29, 38, 38, 29, 15, 39, 39,\n",
              "       35, 39, 40, 40,  3, 40, 40, 27, 41, 35, 41, 41, 41, 41, 42, 42, 42,\n",
              "       42, 42, 38, 14, 43, 16, 42, 43, 43, 43, 44, 27, 27, 27, 25, 44, 45,\n",
              "       36,  6, 45, 45, 45, 46, 25, 46,  5, 46, 46])"
            ]
          },
          "metadata": {
            "tags": []
          },
          "execution_count": 79
        }
      ]
    },
    {
      "cell_type": "code",
      "metadata": {
        "id": "vgTJSPvMp2L7",
        "colab_type": "code",
        "colab": {
          "base_uri": "https://localhost:8080/",
          "height": 34
        },
        "outputId": "dd45a0e7-d99d-499f-8690-3588ff4da4d1"
      },
      "source": [
        "Final_accuracy = accuracy_score(Colour_TestData.classes, Final_Predict_classes)\n",
        "print(\"Colour Accuracy: \", Final_accuracy)"
      ],
      "execution_count": null,
      "outputs": [
        {
          "output_type": "stream",
          "text": [
            "Colour Accuracy:  0.4840989399293286\n"
          ],
          "name": "stdout"
        }
      ]
    },
    {
      "cell_type": "code",
      "metadata": {
        "id": "M0Bvo0wQp3d4",
        "colab_type": "code",
        "colab": {
          "base_uri": "https://localhost:8080/",
          "height": 88
        },
        "outputId": "35660605-a1d8-4759-83bc-5a05f786970b"
      },
      "source": [
        "Final_precision = precision_score(Colour_TestData.classes, Final_Predict_classes,average=\"weighted\")\n",
        "print(\"Colour Precision: \", Final_precision)"
      ],
      "execution_count": null,
      "outputs": [
        {
          "output_type": "stream",
          "text": [
            "Colour Precision:  0.5699404664465189\n"
          ],
          "name": "stdout"
        },
        {
          "output_type": "stream",
          "text": [
            "/usr/local/lib/python3.6/dist-packages/sklearn/metrics/_classification.py:1272: UndefinedMetricWarning: Precision is ill-defined and being set to 0.0 in labels with no predicted samples. Use `zero_division` parameter to control this behavior.\n",
            "  _warn_prf(average, modifier, msg_start, len(result))\n"
          ],
          "name": "stderr"
        }
      ]
    },
    {
      "cell_type": "code",
      "metadata": {
        "id": "48e2f9fkp5vJ",
        "colab_type": "code",
        "colab": {
          "base_uri": "https://localhost:8080/",
          "height": 34
        },
        "outputId": "ba935229-5bfb-48e0-fc79-bd9ec022385e"
      },
      "source": [
        "Final_recall = recall_score(Colour_TestData.classes, Final_Predict_classes, average=\"weighted\")\n",
        "print(\"Colour Recall:\", Final_recall)"
      ],
      "execution_count": null,
      "outputs": [
        {
          "output_type": "stream",
          "text": [
            "Colour Recall: 0.4840989399293286\n"
          ],
          "name": "stdout"
        }
      ]
    },
    {
      "cell_type": "code",
      "metadata": {
        "id": "gX1HRAeRp7tz",
        "colab_type": "code",
        "colab": {
          "base_uri": "https://localhost:8080/",
          "height": 34
        },
        "outputId": "7e131808-fd1e-4850-9db6-11f72e9ce165"
      },
      "source": [
        "Final_f1_score = f1_score(Colour_TestData.classes, Final_Predict_classes, average=\"weighted\")\n",
        "print(\"F1 score for colour: \", Final_f1_score)"
      ],
      "execution_count": null,
      "outputs": [
        {
          "output_type": "stream",
          "text": [
            "F1 score for colour:  0.48284395870402835\n"
          ],
          "name": "stdout"
        }
      ]
    },
    {
      "cell_type": "code",
      "metadata": {
        "id": "U8bB9bDpqBM-",
        "colab_type": "code",
        "colab": {}
      },
      "source": [
        "Second_Final = 0.5* Colour_predict + 0.5 * Grey_predict"
      ],
      "execution_count": null,
      "outputs": []
    },
    {
      "cell_type": "code",
      "metadata": {
        "id": "k_0nVvCsqDUe",
        "colab_type": "code",
        "colab": {}
      },
      "source": [
        "Second_predict_classes = np.argmax(Second_Final, axis=1)"
      ],
      "execution_count": null,
      "outputs": []
    },
    {
      "cell_type": "code",
      "metadata": {
        "id": "TQ1KS3-CqHpl",
        "colab_type": "code",
        "colab": {
          "base_uri": "https://localhost:8080/",
          "height": 306
        },
        "outputId": "2f6a6dbe-5f9e-47ea-c57c-2f4db5b507ad"
      },
      "source": [
        "Second_predict_classes"
      ],
      "execution_count": null,
      "outputs": [
        {
          "output_type": "execute_result",
          "data": {
            "text/plain": [
              "array([ 0, 17,  0,  0,  5,  0, 24,  9, 25, 34, 28, 36,  2,  2, 42, 44, 11,\n",
              "       36,  3,  3, 30,  3, 36, 36, 25, 43, 36, 27, 27,  3,  3, 16,  5,  5,\n",
              "        5, 16,  6,  6,  6,  6,  6,  6,  7,  8,  7,  7, 28,  7, 19, 16,  8,\n",
              "       27,  8,  8, 34,  9,  9,  9,  9, 36, 10, 30, 10, 27, 10, 10, 25, 11,\n",
              "       11, 24, 11,  6,  8,  8, 12, 27, 27, 12, 13, 13, 36,  3, 13, 13, 45,\n",
              "       14, 14, 41, 21, 14, 15, 15, 17,  3, 20, 15, 16, 16, 16, 16, 16, 16,\n",
              "       17, 17, 22, 35, 17, 16, 18, 18, 18, 16, 18,  6, 35, 19, 19, 19, 19,\n",
              "       41, 12,  8, 27, 20, 20, 45, 41, 21, 41, 21, 21, 27,  8,  8, 15, 22,\n",
              "       22,  0, 21, 28,  1, 36, 23, 15, 36, 28,  8,  8,  8, 24, 16, 25, 16,\n",
              "       27, 16, 16,  8, 41, 26, 46, 41, 26, 27, 27, 27, 27, 16, 27,  4, 12,\n",
              "       36, 27, 33,  8, 29, 22, 17, 29, 29, 29, 27, 10, 27, 30, 30, 10, 27,\n",
              "       27, 28, 13, 13, 31,  8, 32, 32, 32, 32, 32, 33, 20,  8, 27, 18, 25,\n",
              "        9, 36, 34, 24, 34, 36, 35,  8, 38, 41,  6, 35, 36, 36,  8, 36,  3,\n",
              "       36, 15, 15, 41, 37,  3,  8, 36, 29, 38, 29, 38, 38, 39, 15, 39, 39,\n",
              "       35, 39, 40, 40,  3, 40, 40, 27, 41, 35, 41, 41, 41, 41, 42, 42, 42,\n",
              "       42, 42, 38, 14, 43, 16, 42, 43, 43, 43, 44, 27, 27, 27, 25, 44, 45,\n",
              "       36,  6, 45, 45, 45, 46, 25, 46,  5, 46, 46])"
            ]
          },
          "metadata": {
            "tags": []
          },
          "execution_count": 86
        }
      ]
    },
    {
      "cell_type": "code",
      "metadata": {
        "id": "-_SMnTIdqJ0K",
        "colab_type": "code",
        "colab": {
          "base_uri": "https://localhost:8080/",
          "height": 34
        },
        "outputId": "3fa94118-6dac-45a9-b69e-eedbc33dc655"
      },
      "source": [
        "Second_Final_accuracy = accuracy_score(Colour_TestData.classes, Second_predict_classes)\n",
        "Second_Final_accuracy"
      ],
      "execution_count": null,
      "outputs": [
        {
          "output_type": "execute_result",
          "data": {
            "text/plain": [
              "0.4911660777385159"
            ]
          },
          "metadata": {
            "tags": []
          },
          "execution_count": 87
        }
      ]
    }
  ]
}