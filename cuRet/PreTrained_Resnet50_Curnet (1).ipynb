{
  "nbformat": 4,
  "nbformat_minor": 0,
  "metadata": {
    "colab": {
      "name": "PreTrained_Resnet50_Curnet.ipynb",
      "provenance": [],
      "collapsed_sections": [],
      "machine_shape": "hm"
    },
    "kernelspec": {
      "name": "python3",
      "display_name": "Python 3"
    },
    "accelerator": "GPU"
  },
  "cells": [
    {
      "cell_type": "code",
      "metadata": {
        "id": "Dpvl5Z2ZBshK",
        "colab_type": "code",
        "colab": {
          "base_uri": "https://localhost:8080/",
          "height": 122
        },
        "outputId": "b3edd4d0-a30c-43bc-e086-e9bfef8b20a7"
      },
      "source": [
        "from google.colab import drive\n",
        "drive.mount('/content/drive')"
      ],
      "execution_count": null,
      "outputs": [
        {
          "output_type": "stream",
          "text": [
            "Go to this URL in a browser: https://accounts.google.com/o/oauth2/auth?client_id=947318989803-6bn6qk8qdgf4n4g3pfee6491hc0brc4i.apps.googleusercontent.com&redirect_uri=urn%3aietf%3awg%3aoauth%3a2.0%3aoob&scope=email%20https%3a%2f%2fwww.googleapis.com%2fauth%2fdocs.test%20https%3a%2f%2fwww.googleapis.com%2fauth%2fdrive%20https%3a%2f%2fwww.googleapis.com%2fauth%2fdrive.photos.readonly%20https%3a%2f%2fwww.googleapis.com%2fauth%2fpeopleapi.readonly&response_type=code\n",
            "\n",
            "Enter your authorization code:\n",
            "··········\n",
            "Mounted at /content/drive\n"
          ],
          "name": "stdout"
        }
      ]
    },
    {
      "cell_type": "code",
      "metadata": {
        "id": "PS63Xh4PB4Fm",
        "colab_type": "code",
        "colab": {}
      },
      "source": [
        "# Importing the Libraries.\n",
        "import keras\n",
        "import os\n",
        "from keras.models import Sequential\n",
        "from keras.layers import Dense, Conv2D, MaxPool2D, Flatten, Dropout\n",
        "from keras.preprocessing.image import ImageDataGenerator\n",
        "import numpy as np\n",
        "#import keras.backend as K\n",
        "import tensorflow.keras.backend as K\n",
        "import tensorflow.compat.v1 as tf\n",
        "from os import listdir\n",
        "from os.path import isfile, join\n",
        "import numpy as np\n",
        "import sys\n",
        "import os\n",
        "import shutil\n",
        "import pandas as pd\n",
        "from PIL import Image\n",
        "import cv2\n",
        "import keras\n",
        "import glob\n",
        "from PIL import Image\n",
        "from keras.preprocessing.image import img_to_array\n",
        "from sklearn.preprocessing import MultiLabelBinarizer\n",
        "from keras import models, regularizers, layers, optimizers, losses, metrics\n",
        "from keras.applications.resnet50 import ResNet50\n",
        "from keras.preprocessing.image import ImageDataGenerator\n",
        "from keras.models import Sequential\n",
        "from keras.layers import Dense, Dropout, Activation, Flatten, MaxPool2D\n",
        "from keras.layers import Convolution2D, MaxPooling2D, ZeroPadding2D\n",
        "from keras.layers import AveragePooling2D\n",
        "from keras.models import load_model\n",
        "from keras.layers.pooling import GlobalAveragePooling2D\n",
        "from keras.layers.normalization import BatchNormalization\n",
        "from keras.models import Model\n",
        "from keras.optimizers import Adam, SGD\n",
        "from keras.callbacks import ModelCheckpoint, EarlyStopping\n",
        "from sklearn.preprocessing import LabelEncoder, OneHotEncoder\n",
        "from PIL import ImageFile\n",
        "\n",
        "tf.enable_eager_execution()"
      ],
      "execution_count": null,
      "outputs": []
    },
    {
      "cell_type": "code",
      "metadata": {
        "id": "82Iu_xpCB8e_",
        "colab_type": "code",
        "colab": {}
      },
      "source": [
        "ImageFile.LOAD_TRUNCATED_IMAGES = True"
      ],
      "execution_count": null,
      "outputs": []
    },
    {
      "cell_type": "code",
      "metadata": {
        "id": "fH8nEYrhB-3O",
        "colab_type": "code",
        "colab": {}
      },
      "source": [
        "# Data Augmentation.\n",
        "DataGenerator = ImageDataGenerator(horizontal_flip=True, vertical_flip=True, rescale=1./255)"
      ],
      "execution_count": null,
      "outputs": []
    },
    {
      "cell_type": "code",
      "metadata": {
        "id": "MvXKwWTNCBly",
        "colab_type": "code",
        "colab": {}
      },
      "source": [
        "TestGenerator = ImageDataGenerator(rescale=1./255)"
      ],
      "execution_count": null,
      "outputs": []
    },
    {
      "cell_type": "code",
      "metadata": {
        "id": "wFUUMI0sCDZN",
        "colab_type": "code",
        "colab": {
          "base_uri": "https://localhost:8080/",
          "height": 34
        },
        "outputId": "21e8dbe4-55bc-42e2-969b-aaab421e393d"
      },
      "source": [
        "Grey_TrainingData = DataGenerator.flow_from_directory('/content/drive/My Drive/curetDataSet/Train/', target_size=(224,224), batch_size=8, color_mode='grayscale')"
      ],
      "execution_count": null,
      "outputs": [
        {
          "output_type": "stream",
          "text": [
            "Found 12733 images belonging to 60 classes.\n"
          ],
          "name": "stdout"
        }
      ]
    },
    {
      "cell_type": "code",
      "metadata": {
        "id": "q-WOOVu6CGBq",
        "colab_type": "code",
        "colab": {
          "base_uri": "https://localhost:8080/",
          "height": 34
        },
        "outputId": "76119567-188b-4f1b-f5e0-e985f9eeed3c"
      },
      "source": [
        "Grey_ValidData = TestGenerator.flow_from_directory('/content/drive/My Drive/curetDataSet/Valid/', target_size=(224,224), batch_size=8, color_mode='grayscale')"
      ],
      "execution_count": null,
      "outputs": [
        {
          "output_type": "stream",
          "text": [
            "Found 693 images belonging to 60 classes.\n"
          ],
          "name": "stdout"
        }
      ]
    },
    {
      "cell_type": "code",
      "metadata": {
        "id": "LKlNFBRmCI-Y",
        "colab_type": "code",
        "colab": {
          "base_uri": "https://localhost:8080/",
          "height": 71
        },
        "outputId": "b93274ee-239e-44f6-a410-105907856464"
      },
      "source": [
        "gpu_options = tf.GPUOptions(allow_growth=True)\n",
        "session = tf.InteractiveSession(config=tf.ConfigProto(gpu_options=gpu_options))"
      ],
      "execution_count": null,
      "outputs": [
        {
          "output_type": "stream",
          "text": [
            "/usr/local/lib/python3.6/dist-packages/tensorflow/python/client/session.py:1751: UserWarning: An interactive session is already active. This can cause out-of-memory errors in some cases. You must explicitly call `InteractiveSession.close()` to release resources held by the other session(s).\n",
            "  warnings.warn('An interactive session is already active. This can '\n"
          ],
          "name": "stderr"
        }
      ]
    },
    {
      "cell_type": "code",
      "metadata": {
        "id": "1pDJRiBFCKxk",
        "colab_type": "code",
        "colab": {}
      },
      "source": [
        "from keras.applications import ResNet50"
      ],
      "execution_count": null,
      "outputs": []
    },
    {
      "cell_type": "code",
      "metadata": {
        "id": "UFFpMafbCUnF",
        "colab_type": "code",
        "colab": {
          "base_uri": "https://localhost:8080/",
          "height": 51
        },
        "outputId": "00a4903d-9add-4ffe-885a-0b010a5df0c1"
      },
      "source": [
        "# Convoluted Base Model.\n",
        "conv_base_grey = ResNet50(weights='imagenet', include_top=False)"
      ],
      "execution_count": null,
      "outputs": [
        {
          "output_type": "stream",
          "text": [
            "Downloading data from https://storage.googleapis.com/tensorflow/keras-applications/resnet/resnet50_weights_tf_dim_ordering_tf_kernels_notop.h5\n",
            "94773248/94765736 [==============================] - 1s 0us/step\n"
          ],
          "name": "stdout"
        }
      ]
    },
    {
      "cell_type": "code",
      "metadata": {
        "id": "TN-UEFTdCYKD",
        "colab_type": "code",
        "colab": {}
      },
      "source": [
        "# Make last block of the conv_base trainable:\n",
        "\n",
        "for layer in conv_base_grey.layers[:165]:\n",
        "   layer.trainable = False\n",
        "for layer in conv_base_grey.layers[165:]:\n",
        "   layer.trainable = True\n",
        "for layer in conv_base_grey.layers:\n",
        "  if isinstance(layer, BatchNormalization):\n",
        "    layer.trainable = True"
      ],
      "execution_count": null,
      "outputs": []
    },
    {
      "cell_type": "code",
      "metadata": {
        "id": "hcplHakrCbXb",
        "colab_type": "code",
        "colab": {}
      },
      "source": [
        "model_grey = Sequential()"
      ],
      "execution_count": null,
      "outputs": []
    },
    {
      "cell_type": "code",
      "metadata": {
        "id": "2AZB6GUvDGQ9",
        "colab_type": "code",
        "colab": {}
      },
      "source": [
        "from keras.layers import Input "
      ],
      "execution_count": null,
      "outputs": []
    },
    {
      "cell_type": "code",
      "metadata": {
        "id": "gZj1lE7kDIRI",
        "colab_type": "code",
        "colab": {}
      },
      "source": [
        "input_tensor = Input(shape=(224,224,1))\n",
        "x = Conv2D(3,(3,3), padding='same')(input_tensor)\n",
        "out = conv_base_grey(x)"
      ],
      "execution_count": null,
      "outputs": []
    },
    {
      "cell_type": "code",
      "metadata": {
        "id": "pqA0ahTrDKqH",
        "colab_type": "code",
        "colab": {}
      },
      "source": [
        "models = Model(inputs = input_tensor, outputs = out)"
      ],
      "execution_count": null,
      "outputs": []
    },
    {
      "cell_type": "code",
      "metadata": {
        "id": "atIk3ipxCenT",
        "colab_type": "code",
        "colab": {}
      },
      "source": [
        "model_grey.add(models)"
      ],
      "execution_count": null,
      "outputs": []
    },
    {
      "cell_type": "code",
      "metadata": {
        "id": "vFs6FSHRCgdm",
        "colab_type": "code",
        "colab": {}
      },
      "source": [
        "# Adding layers.\n",
        "model_grey.add(Flatten())\n",
        "model_grey.add(Dense(2048, activation='relu', kernel_regularizer= regularizers.l2(0.001)))\n",
        "model_grey.add(Dropout(0.5))\n",
        "model_grey.add(Dense(60, activation='softmax'))"
      ],
      "execution_count": null,
      "outputs": []
    },
    {
      "cell_type": "code",
      "metadata": {
        "id": "kLKn-eRjClDb",
        "colab_type": "code",
        "colab": {}
      },
      "source": [
        "from keras.optimizers import Adam"
      ],
      "execution_count": null,
      "outputs": []
    },
    {
      "cell_type": "code",
      "metadata": {
        "id": "brB60eqJCm13",
        "colab_type": "code",
        "colab": {}
      },
      "source": [
        "model_grey.compile(loss='categorical_crossentropy',\n",
        "              optimizer=Adam(lr=0.001),\n",
        "              metrics=['accuracy'])"
      ],
      "execution_count": null,
      "outputs": []
    },
    {
      "cell_type": "code",
      "metadata": {
        "id": "6hby48lNCo7W",
        "colab_type": "code",
        "colab": {}
      },
      "source": [
        "from keras.callbacks import ModelCheckpoint, EarlyStopping, ReduceLROnPlateau\n",
        "checkpoint = ModelCheckpoint(\"/content/drive/My Drive/curetDataSet/Curnet_GreyScale_SGDResnet50.h5\",\n",
        "                             monitor=\"val_loss\",\n",
        "                             mode=\"min\",\n",
        "                             save_best_only = True,\n",
        "                             verbose=1)\n",
        "\n",
        "earlystop = EarlyStopping(monitor = 'val_loss', \n",
        "                          min_delta = 0, \n",
        "                          patience = 50,\n",
        "                          verbose = 1,\n",
        "                          restore_best_weights = True)\n",
        "\n",
        "reduce_lr = ReduceLROnPlateau(monitor = 'val_loss',\n",
        "                              factor = 0.2,\n",
        "                              patience = 50,\n",
        "                              verbose = 1,\n",
        "                              min_delta = 0.00001)\n",
        "\n",
        "callBacks = [earlystop, checkpoint, reduce_lr]"
      ],
      "execution_count": null,
      "outputs": []
    },
    {
      "cell_type": "code",
      "metadata": {
        "id": "N8WD8nPtCv2I",
        "colab_type": "code",
        "colab": {
          "base_uri": "https://localhost:8080/",
          "height": 1000
        },
        "outputId": "e8b9f380-873c-45a5-cce2-81d5bf6050d4"
      },
      "source": [
        "hist = model_grey.fit_generator(steps_per_epoch=1592,generator= Grey_TrainingData, validation_data= Grey_ValidData, validation_steps=87,epochs=35,callbacks=callBacks)"
      ],
      "execution_count": null,
      "outputs": [
        {
          "output_type": "stream",
          "text": [
            "WARNING:tensorflow:From <ipython-input-42-d8868f43311b>:1: Model.fit_generator (from tensorflow.python.keras.engine.training) is deprecated and will be removed in a future version.\n",
            "Instructions for updating:\n",
            "Please use Model.fit, which supports generators.\n",
            "Epoch 1/35\n",
            "1592/1592 [==============================] - ETA: 0s - loss: 5.9146 - accuracy: 0.5437\n",
            "Epoch 00001: val_loss improved from inf to 5.00683, saving model to /content/drive/My Drive/curetDataSet/Curnet_GreyScale_SGDResnet50.h5\n",
            "1592/1592 [==============================] - 3956s 2s/step - loss: 5.9146 - accuracy: 0.5437 - val_loss: 5.0068 - val_accuracy: 0.6898\n",
            "Epoch 2/35\n",
            "1592/1592 [==============================] - ETA: 0s - loss: 4.6675 - accuracy: 0.8065\n",
            "Epoch 00002: val_loss improved from 5.00683 to 4.27422, saving model to /content/drive/My Drive/curetDataSet/Curnet_GreyScale_SGDResnet50.h5\n",
            "1592/1592 [==============================] - 311s 195ms/step - loss: 4.6675 - accuracy: 0.8065 - val_loss: 4.2742 - val_accuracy: 0.9134\n",
            "Epoch 3/35\n",
            "1592/1592 [==============================] - ETA: 0s - loss: 4.4166 - accuracy: 0.8704\n",
            "Epoch 00003: val_loss improved from 4.27422 to 4.16827, saving model to /content/drive/My Drive/curetDataSet/Curnet_GreyScale_SGDResnet50.h5\n",
            "1592/1592 [==============================] - 293s 184ms/step - loss: 4.4166 - accuracy: 0.8704 - val_loss: 4.1683 - val_accuracy: 0.9351\n",
            "Epoch 4/35\n",
            "1592/1592 [==============================] - ETA: 0s - loss: 4.2724 - accuracy: 0.9019\n",
            "Epoch 00004: val_loss improved from 4.16827 to 4.11473, saving model to /content/drive/My Drive/curetDataSet/Curnet_GreyScale_SGDResnet50.h5\n",
            "1592/1592 [==============================] - 303s 190ms/step - loss: 4.2724 - accuracy: 0.9019 - val_loss: 4.1147 - val_accuracy: 0.9495\n",
            "Epoch 5/35\n",
            "1592/1592 [==============================] - ETA: 0s - loss: 4.1947 - accuracy: 0.9221\n",
            "Epoch 00005: val_loss improved from 4.11473 to 4.07601, saving model to /content/drive/My Drive/curetDataSet/Curnet_GreyScale_SGDResnet50.h5\n",
            "1592/1592 [==============================] - 314s 197ms/step - loss: 4.1947 - accuracy: 0.9221 - val_loss: 4.0760 - val_accuracy: 0.9567\n",
            "Epoch 6/35\n",
            "1592/1592 [==============================] - ETA: 0s - loss: 4.1235 - accuracy: 0.9337\n",
            "Epoch 00006: val_loss improved from 4.07601 to 4.03150, saving model to /content/drive/My Drive/curetDataSet/Curnet_GreyScale_SGDResnet50.h5\n",
            "1592/1592 [==============================] - 317s 199ms/step - loss: 4.1235 - accuracy: 0.9337 - val_loss: 4.0315 - val_accuracy: 0.9596\n",
            "Epoch 7/35\n",
            "1592/1592 [==============================] - ETA: 0s - loss: 4.0684 - accuracy: 0.9448\n",
            "Epoch 00007: val_loss improved from 4.03150 to 3.97041, saving model to /content/drive/My Drive/curetDataSet/Curnet_GreyScale_SGDResnet50.h5\n",
            "1592/1592 [==============================] - 323s 203ms/step - loss: 4.0684 - accuracy: 0.9448 - val_loss: 3.9704 - val_accuracy: 0.9711\n",
            "Epoch 8/35\n",
            "1592/1592 [==============================] - ETA: 0s - loss: 4.0240 - accuracy: 0.9504\n",
            "Epoch 00008: val_loss improved from 3.97041 to 3.94601, saving model to /content/drive/My Drive/curetDataSet/Curnet_GreyScale_SGDResnet50.h5\n",
            "1592/1592 [==============================] - 325s 204ms/step - loss: 4.0240 - accuracy: 0.9504 - val_loss: 3.9460 - val_accuracy: 0.9639\n",
            "Epoch 9/35\n",
            "1592/1592 [==============================] - ETA: 0s - loss: 3.9611 - accuracy: 0.9635\n",
            "Epoch 00009: val_loss did not improve from 3.94601\n",
            "1592/1592 [==============================] - 318s 200ms/step - loss: 3.9611 - accuracy: 0.9635 - val_loss: 3.9469 - val_accuracy: 0.9683\n",
            "Epoch 10/35\n",
            "1592/1592 [==============================] - ETA: 0s - loss: 3.9434 - accuracy: 0.9604\n",
            "Epoch 00010: val_loss improved from 3.94601 to 3.90034, saving model to /content/drive/My Drive/curetDataSet/Curnet_GreyScale_SGDResnet50.h5\n",
            "1592/1592 [==============================] - 293s 184ms/step - loss: 3.9434 - accuracy: 0.9604 - val_loss: 3.9003 - val_accuracy: 0.9697\n",
            "Epoch 11/35\n",
            "1592/1592 [==============================] - ETA: 0s - loss: 3.9033 - accuracy: 0.9654\n",
            "Epoch 00011: val_loss improved from 3.90034 to 3.87643, saving model to /content/drive/My Drive/curetDataSet/Curnet_GreyScale_SGDResnet50.h5\n",
            "1592/1592 [==============================] - 314s 197ms/step - loss: 3.9033 - accuracy: 0.9654 - val_loss: 3.8764 - val_accuracy: 0.9726\n",
            "Epoch 12/35\n",
            "1592/1592 [==============================] - ETA: 0s - loss: 3.8624 - accuracy: 0.9711\n",
            "Epoch 00012: val_loss improved from 3.87643 to 3.84235, saving model to /content/drive/My Drive/curetDataSet/Curnet_GreyScale_SGDResnet50.h5\n",
            "1592/1592 [==============================] - 322s 202ms/step - loss: 3.8624 - accuracy: 0.9711 - val_loss: 3.8423 - val_accuracy: 0.9784\n",
            "Epoch 13/35\n",
            "1592/1592 [==============================] - ETA: 0s - loss: 3.8438 - accuracy: 0.9719\n",
            "Epoch 00013: val_loss improved from 3.84235 to 3.80961, saving model to /content/drive/My Drive/curetDataSet/Curnet_GreyScale_SGDResnet50.h5\n",
            "1592/1592 [==============================] - 323s 203ms/step - loss: 3.8438 - accuracy: 0.9719 - val_loss: 3.8096 - val_accuracy: 0.9798\n",
            "Epoch 14/35\n",
            "1592/1592 [==============================] - ETA: 0s - loss: 3.8082 - accuracy: 0.9744\n",
            "Epoch 00014: val_loss improved from 3.80961 to 3.80005, saving model to /content/drive/My Drive/curetDataSet/Curnet_GreyScale_SGDResnet50.h5\n",
            "1592/1592 [==============================] - 325s 204ms/step - loss: 3.8082 - accuracy: 0.9744 - val_loss: 3.8000 - val_accuracy: 0.9755\n",
            "Epoch 15/35\n",
            "1592/1592 [==============================] - ETA: 0s - loss: 3.7767 - accuracy: 0.9793\n",
            "Epoch 00015: val_loss improved from 3.80005 to 3.76970, saving model to /content/drive/My Drive/curetDataSet/Curnet_GreyScale_SGDResnet50.h5\n",
            "1592/1592 [==============================] - 323s 203ms/step - loss: 3.7767 - accuracy: 0.9793 - val_loss: 3.7697 - val_accuracy: 0.9755\n",
            "Epoch 16/35\n",
            "1592/1592 [==============================] - ETA: 0s - loss: 3.7527 - accuracy: 0.9774\n",
            "Epoch 00016: val_loss improved from 3.76970 to 3.73502, saving model to /content/drive/My Drive/curetDataSet/Curnet_GreyScale_SGDResnet50.h5\n",
            "1592/1592 [==============================] - 324s 203ms/step - loss: 3.7527 - accuracy: 0.9774 - val_loss: 3.7350 - val_accuracy: 0.9798\n",
            "Epoch 17/35\n",
            "1592/1592 [==============================] - ETA: 0s - loss: 3.7228 - accuracy: 0.9808\n",
            "Epoch 00017: val_loss improved from 3.73502 to 3.70994, saving model to /content/drive/My Drive/curetDataSet/Curnet_GreyScale_SGDResnet50.h5\n",
            "1592/1592 [==============================] - 322s 203ms/step - loss: 3.7228 - accuracy: 0.9808 - val_loss: 3.7099 - val_accuracy: 0.9769\n",
            "Epoch 18/35\n",
            "1592/1592 [==============================] - ETA: 0s - loss: 3.6990 - accuracy: 0.9808\n",
            "Epoch 00018: val_loss improved from 3.70994 to 3.69558, saving model to /content/drive/My Drive/curetDataSet/Curnet_GreyScale_SGDResnet50.h5\n",
            "1592/1592 [==============================] - 323s 203ms/step - loss: 3.6990 - accuracy: 0.9808 - val_loss: 3.6956 - val_accuracy: 0.9769\n",
            "Epoch 19/35\n",
            "1592/1592 [==============================] - ETA: 0s - loss: 3.6728 - accuracy: 0.9833\n",
            "Epoch 00019: val_loss improved from 3.69558 to 3.67570, saving model to /content/drive/My Drive/curetDataSet/Curnet_GreyScale_SGDResnet50.h5\n",
            "1592/1592 [==============================] - 326s 205ms/step - loss: 3.6728 - accuracy: 0.9833 - val_loss: 3.6757 - val_accuracy: 0.9798\n",
            "Epoch 20/35\n",
            "1592/1592 [==============================] - ETA: 0s - loss: 3.6471 - accuracy: 0.9834\n",
            "Epoch 00020: val_loss improved from 3.67570 to 3.63719, saving model to /content/drive/My Drive/curetDataSet/Curnet_GreyScale_SGDResnet50.h5\n",
            "1592/1592 [==============================] - 324s 204ms/step - loss: 3.6471 - accuracy: 0.9834 - val_loss: 3.6372 - val_accuracy: 0.9812\n",
            "Epoch 21/35\n",
            "1592/1592 [==============================] - ETA: 0s - loss: 3.6167 - accuracy: 0.9867\n",
            "Epoch 00021: val_loss improved from 3.63719 to 3.61436, saving model to /content/drive/My Drive/curetDataSet/Curnet_GreyScale_SGDResnet50.h5\n",
            "1592/1592 [==============================] - 327s 205ms/step - loss: 3.6167 - accuracy: 0.9867 - val_loss: 3.6144 - val_accuracy: 0.9812\n",
            "Epoch 22/35\n",
            "1592/1592 [==============================] - ETA: 0s - loss: 3.5987 - accuracy: 0.9845\n",
            "Epoch 00022: val_loss improved from 3.61436 to 3.60859, saving model to /content/drive/My Drive/curetDataSet/Curnet_GreyScale_SGDResnet50.h5\n",
            "1592/1592 [==============================] - 324s 203ms/step - loss: 3.5987 - accuracy: 0.9845 - val_loss: 3.6086 - val_accuracy: 0.9784\n",
            "Epoch 23/35\n",
            "1592/1592 [==============================] - ETA: 0s - loss: 3.5763 - accuracy: 0.9853\n",
            "Epoch 00023: val_loss improved from 3.60859 to 3.57502, saving model to /content/drive/My Drive/curetDataSet/Curnet_GreyScale_SGDResnet50.h5\n",
            "1592/1592 [==============================] - 324s 204ms/step - loss: 3.5763 - accuracy: 0.9853 - val_loss: 3.5750 - val_accuracy: 0.9769\n",
            "Epoch 24/35\n",
            "1592/1592 [==============================] - ETA: 0s - loss: 3.5477 - accuracy: 0.9881\n",
            "Epoch 00024: val_loss improved from 3.57502 to 3.54743, saving model to /content/drive/My Drive/curetDataSet/Curnet_GreyScale_SGDResnet50.h5\n",
            "1592/1592 [==============================] - 325s 204ms/step - loss: 3.5477 - accuracy: 0.9881 - val_loss: 3.5474 - val_accuracy: 0.9841\n",
            "Epoch 25/35\n",
            "1592/1592 [==============================] - ETA: 0s - loss: 3.5213 - accuracy: 0.9892\n",
            "Epoch 00025: val_loss improved from 3.54743 to 3.53436, saving model to /content/drive/My Drive/curetDataSet/Curnet_GreyScale_SGDResnet50.h5\n",
            "1592/1592 [==============================] - 326s 205ms/step - loss: 3.5213 - accuracy: 0.9892 - val_loss: 3.5344 - val_accuracy: 0.9812\n",
            "Epoch 26/35\n",
            "1592/1592 [==============================] - ETA: 0s - loss: 3.4999 - accuracy: 0.9880\n",
            "Epoch 00026: val_loss improved from 3.53436 to 3.50404, saving model to /content/drive/My Drive/curetDataSet/Curnet_GreyScale_SGDResnet50.h5\n",
            "1592/1592 [==============================] - 324s 204ms/step - loss: 3.4999 - accuracy: 0.9880 - val_loss: 3.5040 - val_accuracy: 0.9798\n",
            "Epoch 27/35\n",
            "1592/1592 [==============================] - ETA: 0s - loss: 3.4762 - accuracy: 0.9903\n",
            "Epoch 00027: val_loss improved from 3.50404 to 3.49480, saving model to /content/drive/My Drive/curetDataSet/Curnet_GreyScale_SGDResnet50.h5\n",
            "1592/1592 [==============================] - 324s 203ms/step - loss: 3.4762 - accuracy: 0.9903 - val_loss: 3.4948 - val_accuracy: 0.9798\n",
            "Epoch 28/35\n",
            "1592/1592 [==============================] - ETA: 0s - loss: 3.4548 - accuracy: 0.9892\n",
            "Epoch 00028: val_loss improved from 3.49480 to 3.47136, saving model to /content/drive/My Drive/curetDataSet/Curnet_GreyScale_SGDResnet50.h5\n",
            "1592/1592 [==============================] - 325s 204ms/step - loss: 3.4548 - accuracy: 0.9892 - val_loss: 3.4714 - val_accuracy: 0.9798\n",
            "Epoch 29/35\n",
            "1592/1592 [==============================] - ETA: 0s - loss: 3.4336 - accuracy: 0.9902\n",
            "Epoch 00029: val_loss improved from 3.47136 to 3.44301, saving model to /content/drive/My Drive/curetDataSet/Curnet_GreyScale_SGDResnet50.h5\n",
            "1592/1592 [==============================] - 325s 204ms/step - loss: 3.4336 - accuracy: 0.9902 - val_loss: 3.4430 - val_accuracy: 0.9856\n",
            "Epoch 30/35\n",
            "1592/1592 [==============================] - ETA: 0s - loss: 3.4134 - accuracy: 0.9903\n",
            "Epoch 00030: val_loss improved from 3.44301 to 3.42290, saving model to /content/drive/My Drive/curetDataSet/Curnet_GreyScale_SGDResnet50.h5\n",
            "1592/1592 [==============================] - 325s 204ms/step - loss: 3.4134 - accuracy: 0.9903 - val_loss: 3.4229 - val_accuracy: 0.9798\n",
            "Epoch 31/35\n",
            "1592/1592 [==============================] - ETA: 0s - loss: 3.3877 - accuracy: 0.9909\n",
            "Epoch 00031: val_loss improved from 3.42290 to 3.40602, saving model to /content/drive/My Drive/curetDataSet/Curnet_GreyScale_SGDResnet50.h5\n",
            "1592/1592 [==============================] - 324s 204ms/step - loss: 3.3877 - accuracy: 0.9909 - val_loss: 3.4060 - val_accuracy: 0.9798\n",
            "Epoch 32/35\n",
            "1592/1592 [==============================] - ETA: 0s - loss: 3.3623 - accuracy: 0.9926\n",
            "Epoch 00032: val_loss improved from 3.40602 to 3.38600, saving model to /content/drive/My Drive/curetDataSet/Curnet_GreyScale_SGDResnet50.h5\n",
            "1592/1592 [==============================] - 326s 204ms/step - loss: 3.3623 - accuracy: 0.9926 - val_loss: 3.3860 - val_accuracy: 0.9885\n",
            "Epoch 33/35\n",
            "1592/1592 [==============================] - ETA: 0s - loss: 3.3463 - accuracy: 0.9910\n",
            "Epoch 00033: val_loss improved from 3.38600 to 3.35838, saving model to /content/drive/My Drive/curetDataSet/Curnet_GreyScale_SGDResnet50.h5\n",
            "1592/1592 [==============================] - 326s 205ms/step - loss: 3.3463 - accuracy: 0.9910 - val_loss: 3.3584 - val_accuracy: 0.9827\n",
            "Epoch 34/35\n",
            "1592/1592 [==============================] - ETA: 0s - loss: 3.3223 - accuracy: 0.9921\n",
            "Epoch 00034: val_loss improved from 3.35838 to 3.33793, saving model to /content/drive/My Drive/curetDataSet/Curnet_GreyScale_SGDResnet50.h5\n",
            "1592/1592 [==============================] - 323s 203ms/step - loss: 3.3223 - accuracy: 0.9921 - val_loss: 3.3379 - val_accuracy: 0.9841\n",
            "Epoch 35/35\n",
            "1592/1592 [==============================] - ETA: 0s - loss: 3.2999 - accuracy: 0.9927\n",
            "Epoch 00035: val_loss improved from 3.33793 to 3.31032, saving model to /content/drive/My Drive/curetDataSet/Curnet_GreyScale_SGDResnet50.h5\n",
            "1592/1592 [==============================] - 325s 204ms/step - loss: 3.2999 - accuracy: 0.9927 - val_loss: 3.3103 - val_accuracy: 0.9870\n"
          ],
          "name": "stdout"
        }
      ]
    },
    {
      "cell_type": "code",
      "metadata": {
        "id": "EnmI9WxLDgYE",
        "colab_type": "code",
        "colab": {
          "base_uri": "https://localhost:8080/",
          "height": 295
        },
        "outputId": "441d5cf3-bc07-4258-e64f-6a6b711f18df"
      },
      "source": [
        "import matplotlib.pyplot as plt\n",
        "plt.plot(hist.history[\"accuracy\"])\n",
        "plt.plot(hist.history['val_accuracy'])\n",
        "plt.title(\"model accuracy\")\n",
        "plt.ylabel(\"Accuracy\")\n",
        "plt.xlabel(\"Epoch\")\n",
        "plt.legend([\"Accuracy\",\"Validation Accuracy\"])\n",
        "plt.show()"
      ],
      "execution_count": null,
      "outputs": [
        {
          "output_type": "display_data",
          "data": {
            "image/png": "[encoded data removed]",
            "text/plain": [
              "<Figure size 432x288 with 1 Axes>"
            ]
          },
          "metadata": {
            "tags": [],
            "needs_background": "light"
          }
        }
      ]
    },
    {
      "cell_type": "code",
      "metadata": {
        "id": "wve75R3hDjNi",
        "colab_type": "code",
        "colab": {
          "base_uri": "https://localhost:8080/",
          "height": 295
        },
        "outputId": "2c61f42b-b94d-47a4-8c9e-099285d1a831"
      },
      "source": [
        "plt.plot(hist.history['loss'])\n",
        "plt.plot(hist.history['val_loss'])\n",
        "plt.title(\"model Loss\")\n",
        "plt.ylabel(\"Loss\")\n",
        "plt.xlabel(\"Epoch\")\n",
        "plt.legend([\"Loss\",\"Validation Loss\"])\n",
        "plt.show()"
      ],
      "execution_count": null,
      "outputs": [
        {
          "output_type": "display_data",
          "data": {
            "image/png": "[encoded data removed]",
            "text/plain": [
              "<Figure size 432x288 with 1 Axes>"
            ]
          },
          "metadata": {
            "tags": [],
            "needs_background": "light"
          }
        }
      ]
    },
    {
      "cell_type": "code",
      "metadata": {
        "id": "nd3_7zZRDmJa",
        "colab_type": "code",
        "colab": {
          "base_uri": "https://localhost:8080/",
          "height": 34
        },
        "outputId": "60cfbeb8-20a3-4673-dad4-9a47880d8748"
      },
      "source": [
        "GreyTestData = TestGenerator.flow_from_directory('/content/drive/My Drive/curetDataSet/Test/', target_size=(224,224), batch_size = 8, shuffle = False, color_mode='grayscale')"
      ],
      "execution_count": null,
      "outputs": [
        {
          "output_type": "stream",
          "text": [
            "Found 750 images belonging to 60 classes.\n"
          ],
          "name": "stdout"
        }
      ]
    },
    {
      "cell_type": "code",
      "metadata": {
        "id": "s1BSE5W-DpV3",
        "colab_type": "code",
        "colab": {}
      },
      "source": [
        "Grey_predict = model_grey.predict(GreyTestData)"
      ],
      "execution_count": null,
      "outputs": []
    },
    {
      "cell_type": "code",
      "metadata": {
        "id": "BVsf8W-_Dr5d",
        "colab_type": "code",
        "colab": {}
      },
      "source": [
        "Grey_predict_classes = np.argmax(Grey_predict, axis=1)"
      ],
      "execution_count": null,
      "outputs": []
    },
    {
      "cell_type": "code",
      "metadata": {
        "id": "n_kZc807DvE2",
        "colab_type": "code",
        "colab": {
          "base_uri": "https://localhost:8080/",
          "height": 782
        },
        "outputId": "d5cee960-7258-49ab-99e7-e182e3d2d63f"
      },
      "source": [
        "Grey_predict_classes"
      ],
      "execution_count": null,
      "outputs": [
        {
          "output_type": "execute_result",
          "data": {
            "text/plain": [
              "array([ 0,  0,  0,  0,  0,  0,  0,  0,  0,  0,  0,  0,  1,  1,  1,  1,  1,\n",
              "        1,  1,  1,  1,  1,  1,  2,  2,  2,  2,  2,  2,  2,  2,  2,  2,  2,\n",
              "        3,  3,  3, 13,  5,  3,  3,  3,  3,  3, 13,  4,  4,  4,  4,  4,  4,\n",
              "        4,  1,  4,  4,  4,  5,  5,  5,  5,  5,  5,  5,  5,  5,  5,  5, 42,\n",
              "        6,  6,  6,  6,  6,  6,  6,  6,  6,  6,  7,  7,  7,  7,  7,  7,  7,\n",
              "        7,  7,  7, 45,  8,  8,  8,  8,  8,  8,  8,  8,  8,  8,  8,  9,  9,\n",
              "        9,  9,  9,  9,  9,  9,  9,  9,  9, 10, 10, 10, 10, 10, 10, 10, 45,\n",
              "       45, 10, 10, 11, 11, 11, 11, 11, 11, 11, 11, 11, 11,  5, 12, 12, 12,\n",
              "       12, 12, 12, 12, 12, 12, 12, 12, 13, 13, 13, 13, 13, 13, 13, 13, 13,\n",
              "       13, 13, 14, 14, 14, 14, 14, 14, 14, 14, 14, 14, 14, 15, 15, 15, 15,\n",
              "       15, 15, 15, 15, 15, 15, 15, 16, 16, 16, 16, 16, 16, 16, 16, 16, 16,\n",
              "       16, 17, 17, 17, 17, 17, 17, 17, 17, 17, 17, 17, 18, 18, 18, 18, 18,\n",
              "       18, 18, 18, 18, 18, 18, 19, 19, 19, 19, 19, 19, 19, 19, 19, 19, 19,\n",
              "       20, 20, 20, 20, 20, 20, 20, 20, 20, 20, 20, 21, 21, 21, 21, 21, 21,\n",
              "       21, 21, 21, 21, 21, 22, 22, 22, 22, 22, 22, 22, 22, 22, 22, 22, 23,\n",
              "       23, 23, 23, 23, 23, 23, 23, 23, 23, 23, 24, 24, 24, 24, 24, 24, 24,\n",
              "       24, 24, 24, 24, 25, 25, 25, 25, 25, 25, 25, 25, 25, 25, 25, 26, 26,\n",
              "       26, 26, 26, 26, 26, 26, 26, 26, 26, 27, 27, 27, 27, 27, 27, 27, 27,\n",
              "       27, 27, 27, 28, 28, 28, 28, 28, 28, 28, 28, 28, 28, 28, 29, 29, 29,\n",
              "       29, 29, 29, 29, 29, 29, 29, 29, 30, 30, 30, 30, 30, 30, 30, 30, 30,\n",
              "       30, 30, 31, 31, 31, 31, 31, 31, 31, 31, 31, 31, 23, 32, 32, 32, 32,\n",
              "       32, 32, 32, 32, 32, 32, 19, 33, 33, 33, 33, 33, 33, 33, 33, 33, 33,\n",
              "       34, 34, 34, 34, 34, 34, 34, 34, 34, 34, 34, 35, 35, 35, 35, 35, 35,\n",
              "       35, 35, 35, 35, 35, 36, 36, 36, 36, 36, 36, 36, 36, 36, 11, 36, 36,\n",
              "       36, 36, 36, 36, 36, 36, 36, 36, 36, 37, 37, 37, 37, 37, 37, 37, 37,\n",
              "       37, 37, 37, 38, 38, 38, 38, 38, 38, 38, 38, 38, 38, 38, 38, 38, 38,\n",
              "       38, 38, 38, 38, 38, 38, 38, 39, 39, 39, 39, 39, 39, 39, 39, 39, 39,\n",
              "       39, 40, 40, 40, 40, 40, 40, 40, 40, 40, 40, 40, 40, 40, 40, 40, 40,\n",
              "       40, 40, 40, 40, 40, 41, 41, 41, 41, 41, 41, 41, 41, 41, 41, 41, 42,\n",
              "       42, 42, 42, 42, 42, 42, 42, 42, 42, 42, 42, 42, 42, 42, 42, 42, 42,\n",
              "       42, 42, 42, 43, 43, 43, 43, 43, 43, 43, 43, 43, 43, 43, 44, 44, 44,\n",
              "       44, 44, 44, 44, 44, 44, 44, 44, 44, 44, 44, 44, 44, 44, 44, 44, 44,\n",
              "       44, 45, 45, 45, 45, 45, 45, 45, 45, 45, 45, 45, 46, 46, 46, 46, 46,\n",
              "       46, 46, 46, 46, 46, 46, 47, 47, 47, 47, 47, 47, 47, 47, 47, 47, 47,\n",
              "       48, 48, 48, 48, 48, 48, 48, 48, 48, 48, 48, 49, 49, 49, 49, 49, 49,\n",
              "       49, 49, 49, 49, 49, 49, 49, 42, 49, 49, 49, 49, 49, 49, 49, 50, 50,\n",
              "       50, 50, 50, 50, 50, 50, 50, 50, 50, 51, 51, 51, 51, 51, 51, 51, 51,\n",
              "       51, 51, 51, 52, 52, 52, 52, 52, 52, 52, 52, 52, 52, 52, 52, 52, 52,\n",
              "       52, 52, 52, 52, 52, 52, 52, 53, 53, 53, 53, 53, 53, 53, 53, 53, 53,\n",
              "       53, 54, 54, 54, 54, 54, 54, 54, 54, 54, 54, 54, 54, 54, 15, 54, 54,\n",
              "       54, 54, 54, 54, 52, 55, 55, 55, 55, 55, 55, 55, 55, 55, 55, 55, 56,\n",
              "       56, 56, 56, 56, 56, 56, 56, 56, 56, 56, 56, 56, 56, 56, 56, 56, 56,\n",
              "       56, 56, 56, 57, 57, 57, 57, 57, 57, 57, 57, 57, 57, 57, 58, 58, 58,\n",
              "       58, 58, 39, 58, 58, 58, 58, 58, 59, 59, 59, 59, 59, 59, 59, 59, 59,\n",
              "       59, 59])"
            ]
          },
          "metadata": {
            "tags": []
          },
          "execution_count": 48
        }
      ]
    },
    {
      "cell_type": "code",
      "metadata": {
        "id": "5CD6KbGPDxll",
        "colab_type": "code",
        "colab": {}
      },
      "source": [
        "from sklearn.metrics import accuracy_score\n",
        "from sklearn.metrics import precision_score\n",
        "from sklearn.metrics import recall_score\n",
        "from sklearn.metrics import f1_score\n",
        "from sklearn.metrics import cohen_kappa_score\n",
        "from sklearn.metrics import roc_auc_score"
      ],
      "execution_count": null,
      "outputs": []
    },
    {
      "cell_type": "code",
      "metadata": {
        "id": "FzkbGfkfD0jy",
        "colab_type": "code",
        "colab": {
          "base_uri": "https://localhost:8080/",
          "height": 34
        },
        "outputId": "63e202be-e0f2-4b3b-a48c-621bde3cec9c"
      },
      "source": [
        "Grey_accuracy = accuracy_score(GreyTestData.classes, Grey_predict_classes)\n",
        "print(\"Grey Accuracy: \", Grey_accuracy)"
      ],
      "execution_count": null,
      "outputs": [
        {
          "output_type": "stream",
          "text": [
            "Grey Accuracy:  0.9786666666666667\n"
          ],
          "name": "stdout"
        }
      ]
    },
    {
      "cell_type": "code",
      "metadata": {
        "id": "k5kJMdhqD25F",
        "colab_type": "code",
        "colab": {
          "base_uri": "https://localhost:8080/",
          "height": 34
        },
        "outputId": "8aef032c-782e-473a-cefa-00fb3ccc3428"
      },
      "source": [
        "Grey_precision = precision_score(GreyTestData.classes, Grey_predict_classes,average=\"weighted\")\n",
        "print(\"Grey Precision: \", Grey_precision)"
      ],
      "execution_count": null,
      "outputs": [
        {
          "output_type": "stream",
          "text": [
            "Grey Precision:  0.9811923680184549\n"
          ],
          "name": "stdout"
        }
      ]
    },
    {
      "cell_type": "code",
      "metadata": {
        "id": "jlXPnnLND5nG",
        "colab_type": "code",
        "colab": {
          "base_uri": "https://localhost:8080/",
          "height": 34
        },
        "outputId": "0fe3f090-75fc-43af-fcbe-d9e88dcfb9e0"
      },
      "source": [
        "Grey_recall = recall_score(GreyTestData.classes, Grey_predict_classes, average=\"weighted\")\n",
        "print(\"Grey Recall:\", Grey_recall)"
      ],
      "execution_count": null,
      "outputs": [
        {
          "output_type": "stream",
          "text": [
            "Grey Recall: 0.9786666666666667\n"
          ],
          "name": "stdout"
        }
      ]
    },
    {
      "cell_type": "code",
      "metadata": {
        "id": "-XWYJe3HD8Br",
        "colab_type": "code",
        "colab": {
          "base_uri": "https://localhost:8080/",
          "height": 34
        },
        "outputId": "917f8a6d-b8d8-425a-bc84-d277fe41bda3"
      },
      "source": [
        "Grey_f1_score = f1_score(GreyTestData.classes, Grey_predict_classes, average=\"weighted\")\n",
        "print(\"F1 score for Grey: \", Grey_f1_score)"
      ],
      "execution_count": null,
      "outputs": [
        {
          "output_type": "stream",
          "text": [
            "F1 score for Grey:  0.9786111403723321\n"
          ],
          "name": "stdout"
        }
      ]
    },
    {
      "cell_type": "code",
      "metadata": {
        "id": "FpboyI5NEAew",
        "colab_type": "code",
        "colab": {
          "base_uri": "https://localhost:8080/",
          "height": 34
        },
        "outputId": "6006b026-9ec5-408a-cb70-ed37acccd68e"
      },
      "source": [
        "Colour_TrainingData =  DataGenerator.flow_from_directory('/content/drive/My Drive/curetDataSet/Train/', target_size=(224,224), batch_size=8)"
      ],
      "execution_count": null,
      "outputs": [
        {
          "output_type": "stream",
          "text": [
            "Found 12733 images belonging to 60 classes.\n"
          ],
          "name": "stdout"
        }
      ]
    },
    {
      "cell_type": "code",
      "metadata": {
        "id": "rE3R-2awEDcY",
        "colab_type": "code",
        "colab": {
          "base_uri": "https://localhost:8080/",
          "height": 34
        },
        "outputId": "a65c2893-dcb8-4084-80b4-f7435598c002"
      },
      "source": [
        "Colour_ValidData =  DataGenerator.flow_from_directory('/content/drive/My Drive/curetDataSet/Valid/', target_size=(224,224), batch_size=8)"
      ],
      "execution_count": null,
      "outputs": [
        {
          "output_type": "stream",
          "text": [
            "Found 693 images belonging to 60 classes.\n"
          ],
          "name": "stdout"
        }
      ]
    },
    {
      "cell_type": "code",
      "metadata": {
        "id": "4AbngqvyEFw1",
        "colab_type": "code",
        "colab": {}
      },
      "source": [
        "# Convoluted Base Model.\n",
        "conv_base = ResNet50(weights='imagenet', include_top=False, input_shape=(224,224,3))"
      ],
      "execution_count": null,
      "outputs": []
    },
    {
      "cell_type": "code",
      "metadata": {
        "id": "nzmHjxk9ES5m",
        "colab_type": "code",
        "colab": {}
      },
      "source": [
        "# Make last block of the conv_base trainable:\n",
        "\n",
        "for layer in conv_base.layers[:165]:\n",
        "   layer.trainable = False\n",
        "for layer in conv_base.layers[165:]:\n",
        "   layer.trainable = True\n",
        "for layer in conv_base.layers:\n",
        "  if isinstance(layer, BatchNormalization):\n",
        "    layer.trainable = True\n"
      ],
      "execution_count": null,
      "outputs": []
    },
    {
      "cell_type": "code",
      "metadata": {
        "id": "p1E-Hu_REWzo",
        "colab_type": "code",
        "colab": {}
      },
      "source": [
        "model = Sequential()"
      ],
      "execution_count": null,
      "outputs": []
    },
    {
      "cell_type": "code",
      "metadata": {
        "id": "bjyWBvYtEZzt",
        "colab_type": "code",
        "colab": {}
      },
      "source": [
        "model.add(conv_base)"
      ],
      "execution_count": null,
      "outputs": []
    },
    {
      "cell_type": "code",
      "metadata": {
        "id": "nRHmx_rTEf9j",
        "colab_type": "code",
        "colab": {}
      },
      "source": [
        "# Adding layers.\n",
        "model.add(Flatten())\n",
        "model.add(Dense(2048, activation='relu', kernel_regularizer= regularizers.l2(0.001)))\n",
        "model.add(Dropout(0.5))\n",
        "model.add(Dense(60, activation='softmax'))"
      ],
      "execution_count": null,
      "outputs": []
    },
    {
      "cell_type": "code",
      "metadata": {
        "id": "AsGwUuqrEiEV",
        "colab_type": "code",
        "colab": {}
      },
      "source": [
        "from keras.optimizers import SGD"
      ],
      "execution_count": null,
      "outputs": []
    },
    {
      "cell_type": "code",
      "metadata": {
        "id": "18O2jCTxElrM",
        "colab_type": "code",
        "colab": {}
      },
      "source": [
        "model.compile(loss='categorical_crossentropy',\n",
        "              optimizer=Adam(lr=0.001),\n",
        "              metrics=['accuracy'])"
      ],
      "execution_count": null,
      "outputs": []
    },
    {
      "cell_type": "code",
      "metadata": {
        "id": "tQNo3erKEmYQ",
        "colab_type": "code",
        "colab": {}
      },
      "source": [
        "from keras.callbacks import ModelCheckpoint, EarlyStopping, ReduceLROnPlateau\n",
        "checkpoint = ModelCheckpoint(\"/content/drive/My Drive/curetDataSet/Curnet_Resnet50_SGDColour.h5\",\n",
        "                             monitor=\"val_loss\",\n",
        "                             mode=\"min\",\n",
        "                             save_best_only = True,\n",
        "                             verbose=1)\n",
        "\n",
        "earlystop = EarlyStopping(monitor = 'val_loss', \n",
        "                          min_delta = 0, \n",
        "                          patience = 50,\n",
        "                          verbose = 1,\n",
        "                          restore_best_weights = True)\n",
        "\n",
        "reduce_lr = ReduceLROnPlateau(monitor = 'val_loss',\n",
        "                              factor = 0.2,\n",
        "                              patience = 50,\n",
        "                              verbose = 1,\n",
        "                              min_delta = 0.00001)\n",
        "\n",
        "callBacks = [earlystop, checkpoint, reduce_lr]"
      ],
      "execution_count": null,
      "outputs": []
    },
    {
      "cell_type": "code",
      "metadata": {
        "id": "qPEIT2IZEyBK",
        "colab_type": "code",
        "colab": {
          "base_uri": "https://localhost:8080/",
          "height": 1000
        },
        "outputId": "1c92228d-a7f0-46b0-b648-36aed8d4ad53"
      },
      "source": [
        "hist = model.fit_generator(steps_per_epoch=1592,generator= Colour_TrainingData, validation_data= Colour_ValidData, validation_steps=87,epochs=35,callbacks=callBacks)"
      ],
      "execution_count": null,
      "outputs": [
        {
          "output_type": "stream",
          "text": [
            "Epoch 1/35\n",
            "1592/1592 [==============================] - ETA: 0s - loss: 5.4927 - accuracy: 0.6442\n",
            "Epoch 00001: val_loss improved from inf to 4.26700, saving model to /content/drive/My Drive/curetDataSet/Curnet_Resnet50_SGDColour.h5\n",
            "1592/1592 [==============================] - 336s 211ms/step - loss: 5.4927 - accuracy: 0.6442 - val_loss: 4.2670 - val_accuracy: 0.9235\n",
            "Epoch 2/35\n",
            "1592/1592 [==============================] - ETA: 0s - loss: 4.4474 - accuracy: 0.8663\n",
            "Epoch 00002: val_loss improved from 4.26700 to 4.15301, saving model to /content/drive/My Drive/curetDataSet/Curnet_Resnet50_SGDColour.h5\n",
            "1592/1592 [==============================] - 329s 207ms/step - loss: 4.4474 - accuracy: 0.8663 - val_loss: 4.1530 - val_accuracy: 0.9567\n",
            "Epoch 3/35\n",
            "1592/1592 [==============================] - ETA: 0s - loss: 4.2830 - accuracy: 0.9076\n",
            "Epoch 00003: val_loss improved from 4.15301 to 4.06723, saving model to /content/drive/My Drive/curetDataSet/Curnet_Resnet50_SGDColour.h5\n",
            "1592/1592 [==============================] - 328s 206ms/step - loss: 4.2830 - accuracy: 0.9076 - val_loss: 4.0672 - val_accuracy: 0.9726\n",
            "Epoch 4/35\n",
            "1592/1592 [==============================] - ETA: 0s - loss: 4.1717 - accuracy: 0.9333\n",
            "Epoch 00004: val_loss improved from 4.06723 to 4.02787, saving model to /content/drive/My Drive/curetDataSet/Curnet_Resnet50_SGDColour.h5\n",
            "1592/1592 [==============================] - 325s 204ms/step - loss: 4.1717 - accuracy: 0.9333 - val_loss: 4.0279 - val_accuracy: 0.9812\n",
            "Epoch 5/35\n",
            "1592/1592 [==============================] - ETA: 0s - loss: 4.1105 - accuracy: 0.9431\n",
            "Epoch 00005: val_loss improved from 4.02787 to 3.99330, saving model to /content/drive/My Drive/curetDataSet/Curnet_Resnet50_SGDColour.h5\n",
            "1592/1592 [==============================] - 325s 204ms/step - loss: 4.1105 - accuracy: 0.9431 - val_loss: 3.9933 - val_accuracy: 0.9784\n",
            "Epoch 6/35\n",
            "1592/1592 [==============================] - ETA: 0s - loss: 4.0453 - accuracy: 0.9570\n",
            "Epoch 00006: val_loss improved from 3.99330 to 3.98859, saving model to /content/drive/My Drive/curetDataSet/Curnet_Resnet50_SGDColour.h5\n",
            "1592/1592 [==============================] - 326s 205ms/step - loss: 4.0453 - accuracy: 0.9570 - val_loss: 3.9886 - val_accuracy: 0.9726\n",
            "Epoch 7/35\n",
            "1592/1592 [==============================] - ETA: 0s - loss: 4.0085 - accuracy: 0.9625\n",
            "Epoch 00007: val_loss improved from 3.98859 to 3.94321, saving model to /content/drive/My Drive/curetDataSet/Curnet_Resnet50_SGDColour.h5\n",
            "1592/1592 [==============================] - 327s 205ms/step - loss: 4.0085 - accuracy: 0.9625 - val_loss: 3.9432 - val_accuracy: 0.9798\n",
            "Epoch 8/35\n",
            "1592/1592 [==============================] - ETA: 0s - loss: 3.9646 - accuracy: 0.9671\n",
            "Epoch 00008: val_loss improved from 3.94321 to 3.89777, saving model to /content/drive/My Drive/curetDataSet/Curnet_Resnet50_SGDColour.h5\n",
            "1592/1592 [==============================] - 325s 204ms/step - loss: 3.9646 - accuracy: 0.9671 - val_loss: 3.8978 - val_accuracy: 0.9870\n",
            "Epoch 9/35\n",
            "1592/1592 [==============================] - ETA: 0s - loss: 3.9366 - accuracy: 0.9687\n",
            "Epoch 00009: val_loss improved from 3.89777 to 3.87685, saving model to /content/drive/My Drive/curetDataSet/Curnet_Resnet50_SGDColour.h5\n",
            "1592/1592 [==============================] - 326s 204ms/step - loss: 3.9366 - accuracy: 0.9687 - val_loss: 3.8768 - val_accuracy: 0.9827\n",
            "Epoch 10/35\n",
            "1592/1592 [==============================] - ETA: 0s - loss: 3.8986 - accuracy: 0.9742\n",
            "Epoch 00010: val_loss improved from 3.87685 to 3.86550, saving model to /content/drive/My Drive/curetDataSet/Curnet_Resnet50_SGDColour.h5\n",
            "1592/1592 [==============================] - 326s 205ms/step - loss: 3.8986 - accuracy: 0.9742 - val_loss: 3.8655 - val_accuracy: 0.9784\n",
            "Epoch 11/35\n",
            "1592/1592 [==============================] - ETA: 0s - loss: 3.8648 - accuracy: 0.9766\n",
            "Epoch 00011: val_loss improved from 3.86550 to 3.83177, saving model to /content/drive/My Drive/curetDataSet/Curnet_Resnet50_SGDColour.h5\n",
            "1592/1592 [==============================] - 325s 204ms/step - loss: 3.8648 - accuracy: 0.9766 - val_loss: 3.8318 - val_accuracy: 0.9841\n",
            "Epoch 12/35\n",
            "1592/1592 [==============================] - ETA: 0s - loss: 3.8378 - accuracy: 0.9780\n",
            "Epoch 00012: val_loss improved from 3.83177 to 3.80094, saving model to /content/drive/My Drive/curetDataSet/Curnet_Resnet50_SGDColour.h5\n",
            "1592/1592 [==============================] - 324s 204ms/step - loss: 3.8378 - accuracy: 0.9780 - val_loss: 3.8009 - val_accuracy: 0.9856\n",
            "Epoch 13/35\n",
            "1592/1592 [==============================] - ETA: 0s - loss: 3.8023 - accuracy: 0.9817\n",
            "Epoch 00013: val_loss improved from 3.80094 to 3.77234, saving model to /content/drive/My Drive/curetDataSet/Curnet_Resnet50_SGDColour.h5\n",
            "1592/1592 [==============================] - 325s 204ms/step - loss: 3.8023 - accuracy: 0.9817 - val_loss: 3.7723 - val_accuracy: 0.9841\n",
            "Epoch 14/35\n",
            "1592/1592 [==============================] - ETA: 0s - loss: 3.7830 - accuracy: 0.9817\n",
            "Epoch 00014: val_loss improved from 3.77234 to 3.75747, saving model to /content/drive/My Drive/curetDataSet/Curnet_Resnet50_SGDColour.h5\n",
            "1592/1592 [==============================] - 325s 204ms/step - loss: 3.7830 - accuracy: 0.9817 - val_loss: 3.7575 - val_accuracy: 0.9841\n",
            "Epoch 15/35\n",
            "1592/1592 [==============================] - ETA: 0s - loss: 3.7550 - accuracy: 0.9830\n",
            "Epoch 00015: val_loss improved from 3.75747 to 3.73804, saving model to /content/drive/My Drive/curetDataSet/Curnet_Resnet50_SGDColour.h5\n",
            "1592/1592 [==============================] - 327s 205ms/step - loss: 3.7550 - accuracy: 0.9830 - val_loss: 3.7380 - val_accuracy: 0.9841\n",
            "Epoch 16/35\n",
            "1592/1592 [==============================] - ETA: 0s - loss: 3.7251 - accuracy: 0.9858\n",
            "Epoch 00016: val_loss improved from 3.73804 to 3.69928, saving model to /content/drive/My Drive/curetDataSet/Curnet_Resnet50_SGDColour.h5\n",
            "1592/1592 [==============================] - 327s 206ms/step - loss: 3.7251 - accuracy: 0.9858 - val_loss: 3.6993 - val_accuracy: 0.9899\n",
            "Epoch 17/35\n",
            "1592/1592 [==============================] - ETA: 0s - loss: 3.7037 - accuracy: 0.9844\n",
            "Epoch 00017: val_loss improved from 3.69928 to 3.67531, saving model to /content/drive/My Drive/curetDataSet/Curnet_Resnet50_SGDColour.h5\n",
            "1592/1592 [==============================] - 328s 206ms/step - loss: 3.7037 - accuracy: 0.9844 - val_loss: 3.6753 - val_accuracy: 0.9870\n",
            "Epoch 18/35\n",
            "1592/1592 [==============================] - ETA: 0s - loss: 3.6766 - accuracy: 0.9866\n",
            "Epoch 00018: val_loss improved from 3.67531 to 3.65694, saving model to /content/drive/My Drive/curetDataSet/Curnet_Resnet50_SGDColour.h5\n",
            "1592/1592 [==============================] - 325s 204ms/step - loss: 3.6766 - accuracy: 0.9866 - val_loss: 3.6569 - val_accuracy: 0.9899\n",
            "Epoch 19/35\n",
            "1592/1592 [==============================] - ETA: 0s - loss: 3.6551 - accuracy: 0.9863\n",
            "Epoch 00019: val_loss improved from 3.65694 to 3.63104, saving model to /content/drive/My Drive/curetDataSet/Curnet_Resnet50_SGDColour.h5\n",
            "1592/1592 [==============================] - 325s 204ms/step - loss: 3.6551 - accuracy: 0.9863 - val_loss: 3.6310 - val_accuracy: 0.9885\n",
            "Epoch 20/35\n",
            "1592/1592 [==============================] - ETA: 0s - loss: 3.6268 - accuracy: 0.9880\n",
            "Epoch 00020: val_loss improved from 3.63104 to 3.61832, saving model to /content/drive/My Drive/curetDataSet/Curnet_Resnet50_SGDColour.h5\n",
            "1592/1592 [==============================] - 325s 204ms/step - loss: 3.6268 - accuracy: 0.9880 - val_loss: 3.6183 - val_accuracy: 0.9856\n",
            "Epoch 21/35\n",
            "1592/1592 [==============================] - ETA: 0s - loss: 3.5988 - accuracy: 0.9900\n",
            "Epoch 00021: val_loss improved from 3.61832 to 3.58622, saving model to /content/drive/My Drive/curetDataSet/Curnet_Resnet50_SGDColour.h5\n",
            "1592/1592 [==============================] - 325s 204ms/step - loss: 3.5988 - accuracy: 0.9900 - val_loss: 3.5862 - val_accuracy: 0.9899\n",
            "Epoch 22/35\n",
            "1592/1592 [==============================] - ETA: 0s - loss: 3.5760 - accuracy: 0.9907\n",
            "Epoch 00022: val_loss improved from 3.58622 to 3.56972, saving model to /content/drive/My Drive/curetDataSet/Curnet_Resnet50_SGDColour.h5\n",
            "1592/1592 [==============================] - 329s 207ms/step - loss: 3.5760 - accuracy: 0.9907 - val_loss: 3.5697 - val_accuracy: 0.9899\n",
            "Epoch 23/35\n",
            "1592/1592 [==============================] - ETA: 0s - loss: 3.5559 - accuracy: 0.9884\n",
            "Epoch 00023: val_loss improved from 3.56972 to 3.55123, saving model to /content/drive/My Drive/curetDataSet/Curnet_Resnet50_SGDColour.h5\n",
            "1592/1592 [==============================] - 325s 204ms/step - loss: 3.5559 - accuracy: 0.9884 - val_loss: 3.5512 - val_accuracy: 0.9856\n",
            "Epoch 24/35\n",
            "1592/1592 [==============================] - ETA: 0s - loss: 3.5331 - accuracy: 0.9896\n",
            "Epoch 00024: val_loss improved from 3.55123 to 3.51409, saving model to /content/drive/My Drive/curetDataSet/Curnet_Resnet50_SGDColour.h5\n",
            "1592/1592 [==============================] - 326s 205ms/step - loss: 3.5331 - accuracy: 0.9896 - val_loss: 3.5141 - val_accuracy: 0.9928\n",
            "Epoch 25/35\n",
            "1592/1592 [==============================] - ETA: 0s - loss: 3.5072 - accuracy: 0.9915\n",
            "Epoch 00025: val_loss improved from 3.51409 to 3.48625, saving model to /content/drive/My Drive/curetDataSet/Curnet_Resnet50_SGDColour.h5\n",
            "1592/1592 [==============================] - 325s 204ms/step - loss: 3.5072 - accuracy: 0.9915 - val_loss: 3.4862 - val_accuracy: 0.9928\n",
            "Epoch 26/35\n",
            "1592/1592 [==============================] - ETA: 0s - loss: 3.4825 - accuracy: 0.9921\n",
            "Epoch 00026: val_loss improved from 3.48625 to 3.47688, saving model to /content/drive/My Drive/curetDataSet/Curnet_Resnet50_SGDColour.h5\n",
            "1592/1592 [==============================] - 327s 205ms/step - loss: 3.4825 - accuracy: 0.9921 - val_loss: 3.4769 - val_accuracy: 0.9899\n",
            "Epoch 27/35\n",
            "1592/1592 [==============================] - ETA: 0s - loss: 3.4617 - accuracy: 0.9925\n",
            "Epoch 00027: val_loss improved from 3.47688 to 3.44963, saving model to /content/drive/My Drive/curetDataSet/Curnet_Resnet50_SGDColour.h5\n",
            "1592/1592 [==============================] - 328s 206ms/step - loss: 3.4617 - accuracy: 0.9925 - val_loss: 3.4496 - val_accuracy: 0.9928\n",
            "Epoch 28/35\n",
            "1592/1592 [==============================] - ETA: 0s - loss: 3.4419 - accuracy: 0.9920\n",
            "Epoch 00028: val_loss improved from 3.44963 to 3.42451, saving model to /content/drive/My Drive/curetDataSet/Curnet_Resnet50_SGDColour.h5\n",
            "1592/1592 [==============================] - 326s 205ms/step - loss: 3.4419 - accuracy: 0.9920 - val_loss: 3.4245 - val_accuracy: 0.9928\n",
            "Epoch 29/35\n",
            "1592/1592 [==============================] - ETA: 0s - loss: 3.4210 - accuracy: 0.9910\n",
            "Epoch 00029: val_loss improved from 3.42451 to 3.41004, saving model to /content/drive/My Drive/curetDataSet/Curnet_Resnet50_SGDColour.h5\n",
            "1592/1592 [==============================] - 325s 204ms/step - loss: 3.4210 - accuracy: 0.9910 - val_loss: 3.4100 - val_accuracy: 0.9899\n",
            "Epoch 30/35\n",
            "1592/1592 [==============================] - ETA: 0s - loss: 3.3960 - accuracy: 0.9926\n",
            "Epoch 00030: val_loss improved from 3.41004 to 3.39636, saving model to /content/drive/My Drive/curetDataSet/Curnet_Resnet50_SGDColour.h5\n",
            "1592/1592 [==============================] - 321s 202ms/step - loss: 3.3960 - accuracy: 0.9926 - val_loss: 3.3964 - val_accuracy: 0.9899\n",
            "Epoch 31/35\n",
            "1592/1592 [==============================] - ETA: 0s - loss: 3.3743 - accuracy: 0.9924\n",
            "Epoch 00031: val_loss improved from 3.39636 to 3.37136, saving model to /content/drive/My Drive/curetDataSet/Curnet_Resnet50_SGDColour.h5\n",
            "1592/1592 [==============================] - 311s 195ms/step - loss: 3.3743 - accuracy: 0.9924 - val_loss: 3.3714 - val_accuracy: 0.9885\n",
            "Epoch 32/35\n",
            "1592/1592 [==============================] - ETA: 0s - loss: 3.3535 - accuracy: 0.9928\n",
            "Epoch 00032: val_loss improved from 3.37136 to 3.35360, saving model to /content/drive/My Drive/curetDataSet/Curnet_Resnet50_SGDColour.h5\n",
            "1592/1592 [==============================] - 323s 203ms/step - loss: 3.3535 - accuracy: 0.9928 - val_loss: 3.3536 - val_accuracy: 0.9870\n",
            "Epoch 33/35\n",
            "1592/1592 [==============================] - ETA: 0s - loss: 3.3299 - accuracy: 0.9943\n",
            "Epoch 00033: val_loss improved from 3.35360 to 3.32578, saving model to /content/drive/My Drive/curetDataSet/Curnet_Resnet50_SGDColour.h5\n",
            "1592/1592 [==============================] - 325s 204ms/step - loss: 3.3299 - accuracy: 0.9943 - val_loss: 3.3258 - val_accuracy: 0.9913\n",
            "Epoch 34/35\n",
            "1592/1592 [==============================] - ETA: 0s - loss: 3.3107 - accuracy: 0.9930\n",
            "Epoch 00034: val_loss improved from 3.32578 to 3.30951, saving model to /content/drive/My Drive/curetDataSet/Curnet_Resnet50_SGDColour.h5\n",
            "1592/1592 [==============================] - 325s 204ms/step - loss: 3.3107 - accuracy: 0.9930 - val_loss: 3.3095 - val_accuracy: 0.9913\n",
            "Epoch 35/35\n",
            "1592/1592 [==============================] - ETA: 0s - loss: 3.2884 - accuracy: 0.9943\n",
            "Epoch 00035: val_loss improved from 3.30951 to 3.28986, saving model to /content/drive/My Drive/curetDataSet/Curnet_Resnet50_SGDColour.h5\n",
            "1592/1592 [==============================] - 325s 204ms/step - loss: 3.2884 - accuracy: 0.9943 - val_loss: 3.2899 - val_accuracy: 0.9928\n"
          ],
          "name": "stdout"
        }
      ]
    },
    {
      "cell_type": "code",
      "metadata": {
        "id": "_LMDtJRmFBgs",
        "colab_type": "code",
        "colab": {
          "base_uri": "https://localhost:8080/",
          "height": 295
        },
        "outputId": "64c2df03-b0ef-4506-b1a4-c3018dbc3b15"
      },
      "source": [
        "import matplotlib.pyplot as plt\n",
        "plt.plot(hist.history[\"accuracy\"])\n",
        "plt.plot(hist.history['val_accuracy'])\n",
        "plt.title(\"model accuracy\")\n",
        "plt.ylabel(\"Accuracy\")\n",
        "plt.xlabel(\"Epoch\")\n",
        "plt.legend([\"Accuracy\",\"Validation Accuracy\"])\n",
        "plt.show()"
      ],
      "execution_count": null,
      "outputs": [
        {
          "output_type": "display_data",
          "data": {
            "image/png": "[encoded data removed]",
            "text/plain": [
              "<Figure size 432x288 with 1 Axes>"
            ]
          },
          "metadata": {
            "tags": [],
            "needs_background": "light"
          }
        }
      ]
    },
    {
      "cell_type": "code",
      "metadata": {
        "id": "-_BMGblYFGf0",
        "colab_type": "code",
        "colab": {
          "base_uri": "https://localhost:8080/",
          "height": 295
        },
        "outputId": "6ed25010-f95c-4329-bd1e-a7934bf6ece4"
      },
      "source": [
        "plt.plot(hist.history['loss'])\n",
        "plt.plot(hist.history['val_loss'])\n",
        "plt.title(\"model Loss\")\n",
        "plt.ylabel(\"Loss\")\n",
        "plt.xlabel(\"Epoch\")\n",
        "plt.legend([\"Loss\",\"Validation Loss\"])\n",
        "plt.show()"
      ],
      "execution_count": null,
      "outputs": [
        {
          "output_type": "display_data",
          "data": {
            "image/png": "[encoded data removed]",
            "text/plain": [
              "<Figure size 432x288 with 1 Axes>"
            ]
          },
          "metadata": {
            "tags": [],
            "needs_background": "light"
          }
        }
      ]
    },
    {
      "cell_type": "code",
      "metadata": {
        "id": "2Q2wPr4WFHR_",
        "colab_type": "code",
        "colab": {
          "base_uri": "https://localhost:8080/",
          "height": 34
        },
        "outputId": "6fb781c3-b425-4b61-a43c-22acde517841"
      },
      "source": [
        "Colour_TestData = TestGenerator.flow_from_directory('/content/drive/My Drive/curetDataSet/Test/', target_size=(224,224), batch_size = 8, shuffle = False)"
      ],
      "execution_count": null,
      "outputs": [
        {
          "output_type": "stream",
          "text": [
            "Found 750 images belonging to 60 classes.\n"
          ],
          "name": "stdout"
        }
      ]
    },
    {
      "cell_type": "code",
      "metadata": {
        "id": "FmdcSZ43FKgZ",
        "colab_type": "code",
        "colab": {}
      },
      "source": [
        "Colour_predict = model.predict(Colour_TestData)"
      ],
      "execution_count": null,
      "outputs": []
    },
    {
      "cell_type": "code",
      "metadata": {
        "id": "0dWD3bkCFRr_",
        "colab_type": "code",
        "colab": {}
      },
      "source": [
        "Colour_predict_classes = np.argmax(Colour_predict, axis=1)"
      ],
      "execution_count": null,
      "outputs": []
    },
    {
      "cell_type": "code",
      "metadata": {
        "id": "HPU0PEnXFUpQ",
        "colab_type": "code",
        "colab": {
          "base_uri": "https://localhost:8080/",
          "height": 782
        },
        "outputId": "5131a8a0-0413-4a98-ab04-8b4d64d6346a"
      },
      "source": [
        "Colour_predict_classes"
      ],
      "execution_count": null,
      "outputs": [
        {
          "output_type": "execute_result",
          "data": {
            "text/plain": [
              "array([ 0,  0,  0,  0,  0,  0,  0,  0,  0,  0,  0,  4,  1,  1,  1,  1,  1,\n",
              "        1,  1,  1,  1,  1,  1,  2,  2,  2,  2,  2,  2,  2,  2,  2,  2,  2,\n",
              "        3,  3,  3,  3,  3,  3,  3,  3,  3,  3,  3,  4,  4,  4,  4,  4,  4,\n",
              "        4,  4,  4,  4,  4,  5,  5,  5,  5,  5,  5,  5,  5,  5,  5,  5,  6,\n",
              "        6,  6,  6,  6,  6,  6,  6,  6,  6,  6,  7,  7,  7,  7,  7,  7,  7,\n",
              "        7,  7,  7,  7,  8,  8,  8,  8,  8,  8,  8,  8,  8,  8,  8,  9,  9,\n",
              "        9,  9,  9,  9,  9,  9,  9,  9,  9, 10, 10, 10, 10, 10, 10, 10, 10,\n",
              "       10, 10, 10, 11, 11, 11, 11, 11, 11, 11, 11, 11, 11, 11, 12, 12, 12,\n",
              "       12, 12, 12, 12, 12, 12, 12, 12, 13, 13, 13, 13, 13, 13, 13, 13, 13,\n",
              "       13, 13, 14, 14, 14, 14, 14, 14, 14, 14, 14, 14, 14, 15, 15, 15, 15,\n",
              "       15, 15, 15, 15, 15, 15, 15, 16, 16, 16, 16, 16, 16, 16, 16, 16, 16,\n",
              "       16, 17, 17, 17, 17, 17, 17, 17, 17, 17, 17, 17, 18, 18, 18, 18, 18,\n",
              "       18, 18, 18, 18, 18, 18, 19, 19, 19, 19, 19, 19, 19, 19, 19, 19, 19,\n",
              "       20, 20, 20, 20, 20, 20, 20, 20, 20, 20, 20, 21, 21, 21, 21, 21, 21,\n",
              "       21, 21, 21, 21, 21, 22, 22, 22, 22, 22, 22, 22, 22, 22, 22, 22, 23,\n",
              "       23, 23, 23, 23, 23, 23, 23, 23, 23, 55, 24, 24, 24, 24, 24, 24, 24,\n",
              "       24, 24, 24, 24, 25, 25, 25, 25, 25, 25, 25, 25, 25, 25, 25, 26, 26,\n",
              "       26, 26, 26, 26, 26, 26, 26, 26, 26, 27, 27, 27, 27, 27, 27, 27, 27,\n",
              "       27, 27, 27, 28, 28, 28, 28, 28, 28, 28, 28, 28, 28, 28, 29, 29, 29,\n",
              "       29, 29, 29, 29, 29, 29, 29, 29, 30, 30, 30, 30, 30, 30, 30, 30, 30,\n",
              "       30, 30, 31, 31, 31, 31, 31, 31, 31, 31, 31, 31, 55, 32, 32, 32, 32,\n",
              "       32, 32, 32, 32, 32, 32, 32, 33, 33, 33, 33, 33, 33, 33, 33, 33, 33,\n",
              "       34, 34, 34, 34, 34, 34, 34, 34, 34, 34, 34, 35, 35, 35, 35, 35, 35,\n",
              "       35, 35, 35, 35, 35, 36, 36, 36, 36, 36, 36, 36, 36, 36, 36, 36, 36,\n",
              "       36, 36, 36, 36, 36, 36, 36, 36, 36, 37, 37, 37, 37, 37, 37, 37, 37,\n",
              "       37, 37, 37, 38, 38, 38, 38, 38, 38, 38, 38, 38, 38, 38, 41, 38, 38,\n",
              "       38, 38, 38, 38, 32, 38, 38, 39, 39, 39, 39, 39, 39, 39, 39, 39, 39,\n",
              "       39, 40, 40, 40, 40, 40, 40, 40, 40, 40, 40, 40, 40, 40, 40, 40, 40,\n",
              "       40, 40, 40, 40, 40, 41, 41, 41, 41, 41, 41, 41, 41, 41, 41, 41, 42,\n",
              "       42, 42, 42, 42, 42, 42, 42, 42, 42, 42, 42, 42, 42, 42, 42, 42, 42,\n",
              "       42, 42, 42, 43, 43, 43, 43, 43, 43, 43, 43, 43, 43, 43, 44, 44, 44,\n",
              "       44, 44, 44, 44, 44, 44, 44, 44, 44, 44, 44, 44, 44, 44, 44, 44, 44,\n",
              "       44, 45, 45, 45, 45, 45, 45, 45, 45, 45, 45, 45, 46, 46, 46, 46, 46,\n",
              "       46, 46, 46, 46, 46, 46, 47, 47, 47, 47, 47, 47, 47, 47, 47, 47, 47,\n",
              "       48, 48, 48, 48, 48, 48, 48, 48, 48, 48, 48, 49, 49, 49, 49, 49, 49,\n",
              "       49, 49, 49, 49, 49, 49, 49, 49, 49, 49, 49, 49, 49, 49, 49, 50, 50,\n",
              "       50, 50, 50, 50, 50, 50, 50, 50, 50, 51, 51, 51, 51, 51, 51, 51, 51,\n",
              "       51, 51, 51, 52, 52, 52, 52, 52, 52, 52, 52, 52, 52, 52, 52, 52, 52,\n",
              "       52, 52, 52, 52, 52, 52, 52, 53, 53, 53, 53, 53, 53, 53, 53, 53, 53,\n",
              "       53, 54, 54, 54, 54, 54, 54, 54, 54, 54, 54, 54, 54, 54, 32, 54, 54,\n",
              "       54, 54, 54, 54, 54, 55, 55, 55, 55, 55, 55, 55, 55, 55, 55, 55, 56,\n",
              "       56, 56, 56, 56, 56, 56, 56, 56, 56, 56, 56, 56, 56, 56, 56, 56, 56,\n",
              "       56, 56, 56, 57, 57, 57, 57, 57, 57, 57, 57, 57, 57, 57, 58, 58, 58,\n",
              "       58, 58, 36, 58, 58, 58, 58, 58, 59, 59, 59, 59, 59, 59, 59, 59, 59,\n",
              "       59, 59])"
            ]
          },
          "metadata": {
            "tags": []
          },
          "execution_count": 70
        }
      ]
    },
    {
      "cell_type": "code",
      "metadata": {
        "id": "KEaXlzr7FVXP",
        "colab_type": "code",
        "colab": {
          "base_uri": "https://localhost:8080/",
          "height": 34
        },
        "outputId": "78cce6a0-e7f5-4b74-f2d0-b155ae65996d"
      },
      "source": [
        "Colour_accuracy = accuracy_score(Colour_TestData.classes, Colour_predict_classes)\n",
        "print(\"Colour Accuracy: \", Colour_accuracy)"
      ],
      "execution_count": null,
      "outputs": [
        {
          "output_type": "stream",
          "text": [
            "Colour Accuracy:  0.9906666666666667\n"
          ],
          "name": "stdout"
        }
      ]
    },
    {
      "cell_type": "code",
      "metadata": {
        "id": "rLmRGn70FbMM",
        "colab_type": "code",
        "colab": {
          "base_uri": "https://localhost:8080/",
          "height": 34
        },
        "outputId": "6a48f789-6167-4572-c456-c23ee145cbc4"
      },
      "source": [
        "Colour_precision = precision_score(Colour_TestData.classes, Colour_predict_classes,average=\"weighted\")\n",
        "print(\"Colour Precision: \", Colour_precision)"
      ],
      "execution_count": null,
      "outputs": [
        {
          "output_type": "stream",
          "text": [
            "Colour Precision:  0.9917700077700077\n"
          ],
          "name": "stdout"
        }
      ]
    },
    {
      "cell_type": "code",
      "metadata": {
        "id": "yPsLeETdFjPV",
        "colab_type": "code",
        "colab": {
          "base_uri": "https://localhost:8080/",
          "height": 34
        },
        "outputId": "fb2c35c1-4bc3-4042-fc4d-b34eb06f6f05"
      },
      "source": [
        "Colour_recall = recall_score(Colour_TestData.classes, Colour_predict_classes, average=\"weighted\")\n",
        "print(\"Colour Recall:\", Colour_recall)"
      ],
      "execution_count": null,
      "outputs": [
        {
          "output_type": "stream",
          "text": [
            "Colour Recall: 0.9906666666666667\n"
          ],
          "name": "stdout"
        }
      ]
    },
    {
      "cell_type": "code",
      "metadata": {
        "id": "GKF4V9MGFlXH",
        "colab_type": "code",
        "colab": {
          "base_uri": "https://localhost:8080/",
          "height": 34
        },
        "outputId": "5fbf7eab-dcfd-48e7-fd31-2b06f17639e6"
      },
      "source": [
        "Colour_f1_score = f1_score(Colour_TestData.classes, Colour_predict_classes, average=\"weighted\")\n",
        "print(\"F1 score for colour: \", Colour_f1_score)"
      ],
      "execution_count": null,
      "outputs": [
        {
          "output_type": "stream",
          "text": [
            "F1 score for colour:  0.9907552133475979\n"
          ],
          "name": "stdout"
        }
      ]
    },
    {
      "cell_type": "code",
      "metadata": {
        "id": "x7Jy8FaHvRxt",
        "colab_type": "code",
        "colab": {}
      },
      "source": [
        "model_grey.load_weights('/content/drive/My Drive/curetDataSet/Curnet_GreyScale_Resnet50.h5')"
      ],
      "execution_count": null,
      "outputs": []
    },
    {
      "cell_type": "code",
      "metadata": {
        "id": "dL9ZtiodyTVn",
        "colab_type": "code",
        "colab": {}
      },
      "source": [
        ""
      ],
      "execution_count": null,
      "outputs": []
    },
    {
      "cell_type": "code",
      "metadata": {
        "id": "UydpFWLXFnYP",
        "colab_type": "code",
        "colab": {}
      },
      "source": [
        "Final = 0.6* Colour_predict + 0.4* Grey_predict"
      ],
      "execution_count": null,
      "outputs": []
    },
    {
      "cell_type": "code",
      "metadata": {
        "id": "0a2Y2ZpqFq0m",
        "colab_type": "code",
        "colab": {}
      },
      "source": [
        "Final_Predict_classes = np.argmax(Final, axis=1)"
      ],
      "execution_count": null,
      "outputs": []
    },
    {
      "cell_type": "code",
      "metadata": {
        "id": "_9-D19iXFreK",
        "colab_type": "code",
        "colab": {
          "base_uri": "https://localhost:8080/",
          "height": 34
        },
        "outputId": "8f23bfa5-62d4-46a2-8079-b966e486fff1"
      },
      "source": [
        "Final_accuracy = accuracy_score(Colour_TestData.classes, Final_Predict_classes)\n",
        "print(\"Colour Accuracy: \", Final_accuracy)"
      ],
      "execution_count": null,
      "outputs": [
        {
          "output_type": "stream",
          "text": [
            "Colour Accuracy:  0.992\n"
          ],
          "name": "stdout"
        }
      ]
    },
    {
      "cell_type": "code",
      "metadata": {
        "id": "pyhLev-OFt7B",
        "colab_type": "code",
        "colab": {
          "base_uri": "https://localhost:8080/",
          "height": 34
        },
        "outputId": "3336537f-f167-4af2-ab24-d623c6e5a2de"
      },
      "source": [
        "Final_precision = precision_score(Colour_TestData.classes, Final_Predict_classes,average=\"weighted\")\n",
        "print(\"Colour Precision: \", Final_precision)"
      ],
      "execution_count": null,
      "outputs": [
        {
          "output_type": "stream",
          "text": [
            "Colour Precision:  0.9925555555555555\n"
          ],
          "name": "stdout"
        }
      ]
    },
    {
      "cell_type": "code",
      "metadata": {
        "id": "qIxYZ09MFv-S",
        "colab_type": "code",
        "colab": {
          "base_uri": "https://localhost:8080/",
          "height": 34
        },
        "outputId": "91419db8-5ca5-4f0d-c52e-688478faf948"
      },
      "source": [
        "Final_recall = recall_score(Colour_TestData.classes, Final_Predict_classes, average=\"weighted\")\n",
        "print(\"Colour Recall:\", Final_recall)"
      ],
      "execution_count": null,
      "outputs": [
        {
          "output_type": "stream",
          "text": [
            "Colour Recall: 0.992\n"
          ],
          "name": "stdout"
        }
      ]
    },
    {
      "cell_type": "code",
      "metadata": {
        "id": "iWWxWzy1FyuX",
        "colab_type": "code",
        "colab": {
          "base_uri": "https://localhost:8080/",
          "height": 34
        },
        "outputId": "70c8ce81-81da-4e39-df11-197dbbd785a0"
      },
      "source": [
        "Final_f1_score = f1_score(Colour_TestData.classes, Final_Predict_classes, average=\"weighted\")\n",
        "print(\"F1 score for colour: \", Final_f1_score)"
      ],
      "execution_count": null,
      "outputs": [
        {
          "output_type": "stream",
          "text": [
            "F1 score for colour:  0.9920199296402902\n"
          ],
          "name": "stdout"
        }
      ]
    },
    {
      "cell_type": "code",
      "metadata": {
        "id": "BeAS4-FGF1LR",
        "colab_type": "code",
        "colab": {}
      },
      "source": [
        "Second_final = 0.5* Colour_predict + 0.5* Grey_predict"
      ],
      "execution_count": null,
      "outputs": []
    },
    {
      "cell_type": "code",
      "metadata": {
        "id": "tvR972PsF3OV",
        "colab_type": "code",
        "colab": {}
      },
      "source": [
        "Second_Final_Predict_classes = np.argmax(Second_final, axis=1)"
      ],
      "execution_count": null,
      "outputs": []
    },
    {
      "cell_type": "code",
      "metadata": {
        "id": "Bggi428OF5fW",
        "colab_type": "code",
        "colab": {
          "base_uri": "https://localhost:8080/",
          "height": 34
        },
        "outputId": "994eda1a-ec56-4a86-8dbc-73cd589d0905"
      },
      "source": [
        "Mean_Final_accuracy = accuracy_score(Colour_TestData.classes, Second_Final_Predict_classes)\n",
        "print(\"Colour Accuracy: \", Mean_Final_accuracy)"
      ],
      "execution_count": null,
      "outputs": [
        {
          "output_type": "stream",
          "text": [
            "Colour Accuracy:  0.9933333333333333\n"
          ],
          "name": "stdout"
        }
      ]
    },
    {
      "cell_type": "code",
      "metadata": {
        "id": "STKAtHxQF7iN",
        "colab_type": "code",
        "colab": {
          "base_uri": "https://localhost:8080/",
          "height": 34
        },
        "outputId": "26487ca2-2c14-471e-da25-8b938cec6feb"
      },
      "source": [
        "Mean_Precision = precision_score(Colour_TestData.classes, Second_Final_Predict_classes, average=\"weighted\")\n",
        "Mean_Precision"
      ],
      "execution_count": null,
      "outputs": [
        {
          "output_type": "execute_result",
          "data": {
            "text/plain": [
              "0.9937777777777776"
            ]
          },
          "metadata": {
            "tags": []
          },
          "execution_count": 85
        }
      ]
    },
    {
      "cell_type": "code",
      "metadata": {
        "id": "tQzFKsN6F_lv",
        "colab_type": "code",
        "colab": {
          "base_uri": "https://localhost:8080/",
          "height": 34
        },
        "outputId": "8aa805b0-3e47-4620-815f-d55156d59e8e"
      },
      "source": [
        "Mean_Recall = recall_score(Colour_TestData.classes, Second_Final_Predict_classes, average=\"weighted\")\n",
        "Mean_Recall"
      ],
      "execution_count": null,
      "outputs": [
        {
          "output_type": "execute_result",
          "data": {
            "text/plain": [
              "0.9933333333333333"
            ]
          },
          "metadata": {
            "tags": []
          },
          "execution_count": 86
        }
      ]
    },
    {
      "cell_type": "code",
      "metadata": {
        "id": "v-N2RVK3GBEq",
        "colab_type": "code",
        "colab": {
          "base_uri": "https://localhost:8080/",
          "height": 34
        },
        "outputId": "4c35f27f-67cb-4298-e106-d748571e54bc"
      },
      "source": [
        "Mean_F1Score = f1_score(Colour_TestData.classes, Second_Final_Predict_classes, average=\"weighted\")\n",
        "Mean_F1Score"
      ],
      "execution_count": null,
      "outputs": [
        {
          "output_type": "execute_result",
          "data": {
            "text/plain": [
              "0.9933405376289788"
            ]
          },
          "metadata": {
            "tags": []
          },
          "execution_count": 87
        }
      ]
    },
    {
      "cell_type": "code",
      "metadata": {
        "id": "NpPghCLQ79Oh",
        "colab_type": "code",
        "colab": {}
      },
      "source": [
        "model_grey.load_weights('/content/drive/My Drive/curetDataSet/Curnet_GreyScale_Resnet50.h5')"
      ],
      "execution_count": null,
      "outputs": []
    },
    {
      "cell_type": "code",
      "metadata": {
        "id": "4N1LmH1I8NeD",
        "colab_type": "code",
        "colab": {}
      },
      "source": [
        "model.load_weights('/content/drive/My Drive/curetDataSet/Curnet_Resnet50_Colour.h5')"
      ],
      "execution_count": null,
      "outputs": []
    },
    {
      "cell_type": "code",
      "metadata": {
        "id": "YFF3eFXO96UO",
        "colab_type": "code",
        "colab": {}
      },
      "source": [
        "Final = 0.8 * Colour_predict + 0.2 * Grey_predict"
      ],
      "execution_count": null,
      "outputs": []
    },
    {
      "cell_type": "code",
      "metadata": {
        "id": "W79w1jDK-L8n",
        "colab_type": "code",
        "colab": {}
      },
      "source": [
        "Final_classes = np.argmax(Final, axis=1)"
      ],
      "execution_count": null,
      "outputs": []
    },
    {
      "cell_type": "code",
      "metadata": {
        "id": "rOk9Nfwb-C7Y",
        "colab_type": "code",
        "colab": {
          "base_uri": "https://localhost:8080/",
          "height": 34
        },
        "outputId": "7ecd3826-527c-412c-b83c-e5eb11499a55"
      },
      "source": [
        "Combine_accuracy = accuracy_score(Colour_TestData.classes, Final_classes)\n",
        "print(\"Colour Accuracy: \", Combine_accuracy)"
      ],
      "execution_count": null,
      "outputs": [
        {
          "output_type": "stream",
          "text": [
            "Colour Accuracy:  0.9773333333333334\n"
          ],
          "name": "stdout"
        }
      ]
    }
  ]
}