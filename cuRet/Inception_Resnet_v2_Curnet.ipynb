{
  "nbformat": 4,
  "nbformat_minor": 0,
  "metadata": {
    "colab": {
      "name": "Inception_Resnet_v2_Curnet.ipynb",
      "provenance": [],
      "collapsed_sections": [],
      "machine_shape": "hm"
    },
    "kernelspec": {
      "name": "python3",
      "display_name": "Python 3"
    },
    "accelerator": "GPU"
  },
  "cells": [
    {
      "cell_type": "code",
      "metadata": {
        "id": "Rol3LfN3uqPl",
        "colab_type": "code",
        "colab": {
          "base_uri": "https://localhost:8080/",
          "height": 122
        },
        "outputId": "399813e0-a88c-4df1-c24b-4a22827c4d52"
      },
      "source": [
        "from google.colab import drive\n",
        "drive.mount('/content/drive')"
      ],
      "execution_count": null,
      "outputs": [
        {
          "output_type": "stream",
          "text": [
            "Go to this URL in a browser: https://accounts.google.com/o/oauth2/auth?client_id=947318989803-6bn6qk8qdgf4n4g3pfee6491hc0brc4i.apps.googleusercontent.com&redirect_uri=urn%3aietf%3awg%3aoauth%3a2.0%3aoob&scope=email%20https%3a%2f%2fwww.googleapis.com%2fauth%2fdocs.test%20https%3a%2f%2fwww.googleapis.com%2fauth%2fdrive%20https%3a%2f%2fwww.googleapis.com%2fauth%2fdrive.photos.readonly%20https%3a%2f%2fwww.googleapis.com%2fauth%2fpeopleapi.readonly&response_type=code\n",
            "\n",
            "Enter your authorization code:\n",
            "··········\n",
            "Mounted at /content/drive\n"
          ],
          "name": "stdout"
        }
      ]
    },
    {
      "cell_type": "code",
      "metadata": {
        "id": "50u3cEInvIVG",
        "colab_type": "code",
        "colab": {}
      },
      "source": [
        "# Importing the Libraries.\n",
        "import keras\n",
        "import os\n",
        "from keras.models import Sequential\n",
        "from keras.layers import Dense, Conv2D, MaxPool2D, Flatten, Dropout\n",
        "from keras.preprocessing.image import ImageDataGenerator\n",
        "import numpy as np\n",
        "#import keras.backend as K\n",
        "import tensorflow.keras.backend as K\n",
        "import tensorflow.compat.v1 as tf\n",
        "from os import listdir\n",
        "from os.path import isfile, join\n",
        "import numpy as np\n",
        "import sys\n",
        "import os\n",
        "import shutil\n",
        "import pandas as pd\n",
        "from PIL import Image\n",
        "import cv2\n",
        "import keras\n",
        "import glob\n",
        "from PIL import Image\n",
        "from keras.preprocessing.image import img_to_array\n",
        "from sklearn.preprocessing import MultiLabelBinarizer\n",
        "from keras import models, regularizers, layers, optimizers, losses, metrics\n",
        "from keras.applications.resnet50 import ResNet50\n",
        "from keras.preprocessing.image import ImageDataGenerator\n",
        "from keras.models import Sequential\n",
        "from keras.layers import Dense, Dropout, Activation, Flatten, MaxPool2D\n",
        "from keras.layers import Convolution2D, MaxPooling2D, ZeroPadding2D\n",
        "from keras.layers import AveragePooling2D\n",
        "from keras.models import load_model\n",
        "from keras.layers.pooling import GlobalAveragePooling2D\n",
        "from keras.layers.normalization import BatchNormalization\n",
        "from keras.models import Model\n",
        "from keras.optimizers import Adam\n",
        "from keras.callbacks import ModelCheckpoint, EarlyStopping\n",
        "from sklearn.preprocessing import LabelEncoder, OneHotEncoder\n",
        "from PIL import ImageFile"
      ],
      "execution_count": null,
      "outputs": []
    },
    {
      "cell_type": "code",
      "metadata": {
        "id": "Xbxl1Zn_vN5A",
        "colab_type": "code",
        "colab": {}
      },
      "source": [
        "tf.enable_eager_execution()"
      ],
      "execution_count": null,
      "outputs": []
    },
    {
      "cell_type": "code",
      "metadata": {
        "id": "BkKt62czvRnk",
        "colab_type": "code",
        "colab": {}
      },
      "source": [
        "ImageFile.LOAD_TRUNCATED_IMAGES = True"
      ],
      "execution_count": null,
      "outputs": []
    },
    {
      "cell_type": "code",
      "metadata": {
        "id": "8HAO1Ue3vUOc",
        "colab_type": "code",
        "colab": {}
      },
      "source": [
        "# Data Augmentation.\n",
        "DataGenerator = ImageDataGenerator(horizontal_flip=True, vertical_flip=True, rescale=1./255)"
      ],
      "execution_count": null,
      "outputs": []
    },
    {
      "cell_type": "code",
      "metadata": {
        "id": "lRbErZmBvYTK",
        "colab_type": "code",
        "colab": {}
      },
      "source": [
        "TestGenerator = ImageDataGenerator(rescale=1./255)"
      ],
      "execution_count": null,
      "outputs": []
    },
    {
      "cell_type": "code",
      "metadata": {
        "id": "ByuD91mKvbDt",
        "colab_type": "code",
        "colab": {
          "base_uri": "https://localhost:8080/",
          "height": 34
        },
        "outputId": "c0ed23ed-5ce9-4dc6-da04-010f08628d0f"
      },
      "source": [
        "Grey_TrainingData = DataGenerator.flow_from_directory('/content/drive/My Drive/curetDataSet/Train/', target_size=(224,224), batch_size=8, color_mode='grayscale')"
      ],
      "execution_count": null,
      "outputs": [
        {
          "output_type": "stream",
          "text": [
            "Found 12733 images belonging to 60 classes.\n"
          ],
          "name": "stdout"
        }
      ]
    },
    {
      "cell_type": "code",
      "metadata": {
        "id": "hPvS2jDhvg29",
        "colab_type": "code",
        "colab": {
          "base_uri": "https://localhost:8080/",
          "height": 34
        },
        "outputId": "9100aaf2-87af-4c3f-fb8c-c70fec4ad251"
      },
      "source": [
        "Grey_ValidData = TestGenerator.flow_from_directory('/content/drive/My Drive/curetDataSet/Valid/', target_size=(224,224), batch_size=8, color_mode='grayscale')"
      ],
      "execution_count": null,
      "outputs": [
        {
          "output_type": "stream",
          "text": [
            "Found 693 images belonging to 60 classes.\n"
          ],
          "name": "stdout"
        }
      ]
    },
    {
      "cell_type": "code",
      "metadata": {
        "id": "9cIY40F0vkZ_",
        "colab_type": "code",
        "colab": {
          "base_uri": "https://localhost:8080/",
          "height": 71
        },
        "outputId": "7374c715-a825-44db-e4a9-6b96255b854e"
      },
      "source": [
        "gpu_options = tf.GPUOptions(allow_growth=True)\n",
        "session = tf.InteractiveSession(config=tf.ConfigProto(gpu_options=gpu_options))"
      ],
      "execution_count": null,
      "outputs": [
        {
          "output_type": "stream",
          "text": [
            "/usr/local/lib/python3.6/dist-packages/tensorflow/python/client/session.py:1751: UserWarning: An interactive session is already active. This can cause out-of-memory errors in some cases. You must explicitly call `InteractiveSession.close()` to release resources held by the other session(s).\n",
            "  warnings.warn('An interactive session is already active. This can '\n"
          ],
          "name": "stderr"
        }
      ]
    },
    {
      "cell_type": "code",
      "metadata": {
        "id": "qotSK1tyvnln",
        "colab_type": "code",
        "colab": {}
      },
      "source": [
        "from keras.applications.inception_resnet_v2 import InceptionResNetV2"
      ],
      "execution_count": null,
      "outputs": []
    },
    {
      "cell_type": "code",
      "metadata": {
        "id": "A3yrfGQVwxTC",
        "colab_type": "code",
        "colab": {
          "base_uri": "https://localhost:8080/",
          "height": 51
        },
        "outputId": "5406e3c3-1dd4-43f8-8ef7-da1b3dd58e9b"
      },
      "source": [
        "conv_base = InceptionResNetV2(weights = 'imagenet', include_top = False, pooling = 'avg')"
      ],
      "execution_count": null,
      "outputs": [
        {
          "output_type": "stream",
          "text": [
            "Downloading data from https://storage.googleapis.com/tensorflow/keras-applications/inception_resnet_v2/inception_resnet_v2_weights_tf_dim_ordering_tf_kernels_notop.h5\n",
            "219062272/219055592 [==============================] - 6s 0us/step\n"
          ],
          "name": "stdout"
        }
      ]
    },
    {
      "cell_type": "code",
      "metadata": {
        "id": "nGlTaIpwyQ9u",
        "colab_type": "code",
        "colab": {}
      },
      "source": [
        "for layer in conv_base.layers[:765]:\n",
        "  layer.trainable = False\n",
        "for layer in conv_base.layers[765:]:\n",
        "  layer.trainable = True\n",
        "for layer in conv_base.layers:\n",
        "  if isinstance(layer, BatchNormalization):\n",
        "    layer.trainable = True"
      ],
      "execution_count": null,
      "outputs": []
    },
    {
      "cell_type": "code",
      "metadata": {
        "id": "TwI81Maa5eZI",
        "colab_type": "code",
        "colab": {
          "base_uri": "https://localhost:8080/",
          "height": 1000
        },
        "outputId": "022ccf59-fede-4685-8051-5d999f4cbc25"
      },
      "source": [
        "for i, layer in enumerate(conv_base.layers):\n",
        "  print(i, layer.name, layer.trainable)"
      ],
      "execution_count": null,
      "outputs": [
        {
          "output_type": "stream",
          "text": [
            "0 input_1 False\n",
            "1 conv2d False\n",
            "2 batch_normalization True\n",
            "3 activation False\n",
            "4 conv2d_1 False\n",
            "5 batch_normalization_1 True\n",
            "6 activation_1 False\n",
            "7 conv2d_2 False\n",
            "8 batch_normalization_2 True\n",
            "9 activation_2 False\n",
            "10 max_pooling2d False\n",
            "11 conv2d_3 False\n",
            "12 batch_normalization_3 True\n",
            "13 activation_3 False\n",
            "14 conv2d_4 False\n",
            "15 batch_normalization_4 True\n",
            "16 activation_4 False\n",
            "17 max_pooling2d_1 False\n",
            "18 conv2d_8 False\n",
            "19 batch_normalization_8 True\n",
            "20 activation_8 False\n",
            "21 conv2d_6 False\n",
            "22 conv2d_9 False\n",
            "23 batch_normalization_6 True\n",
            "24 batch_normalization_9 True\n",
            "25 activation_6 False\n",
            "26 activation_9 False\n",
            "27 average_pooling2d False\n",
            "28 conv2d_5 False\n",
            "29 conv2d_7 False\n",
            "30 conv2d_10 False\n",
            "31 conv2d_11 False\n",
            "32 batch_normalization_5 True\n",
            "33 batch_normalization_7 True\n",
            "34 batch_normalization_10 True\n",
            "35 batch_normalization_11 True\n",
            "36 activation_5 False\n",
            "37 activation_7 False\n",
            "38 activation_10 False\n",
            "39 activation_11 False\n",
            "40 mixed_5b False\n",
            "41 conv2d_15 False\n",
            "42 batch_normalization_15 True\n",
            "43 activation_15 False\n",
            "44 conv2d_13 False\n",
            "45 conv2d_16 False\n",
            "46 batch_normalization_13 True\n",
            "47 batch_normalization_16 True\n",
            "48 activation_13 False\n",
            "49 activation_16 False\n",
            "50 conv2d_12 False\n",
            "51 conv2d_14 False\n",
            "52 conv2d_17 False\n",
            "53 batch_normalization_12 True\n",
            "54 batch_normalization_14 True\n",
            "55 batch_normalization_17 True\n",
            "56 activation_12 False\n",
            "57 activation_14 False\n",
            "58 activation_17 False\n",
            "59 block35_1_mixed False\n",
            "60 block35_1_conv False\n",
            "61 block35_1 False\n",
            "62 block35_1_ac False\n",
            "63 conv2d_21 False\n",
            "64 batch_normalization_21 True\n",
            "65 activation_21 False\n",
            "66 conv2d_19 False\n",
            "67 conv2d_22 False\n",
            "68 batch_normalization_19 True\n",
            "69 batch_normalization_22 True\n",
            "70 activation_19 False\n",
            "71 activation_22 False\n",
            "72 conv2d_18 False\n",
            "73 conv2d_20 False\n",
            "74 conv2d_23 False\n",
            "75 batch_normalization_18 True\n",
            "76 batch_normalization_20 True\n",
            "77 batch_normalization_23 True\n",
            "78 activation_18 False\n",
            "79 activation_20 False\n",
            "80 activation_23 False\n",
            "81 block35_2_mixed False\n",
            "82 block35_2_conv False\n",
            "83 block35_2 False\n",
            "84 block35_2_ac False\n",
            "85 conv2d_27 False\n",
            "86 batch_normalization_27 True\n",
            "87 activation_27 False\n",
            "88 conv2d_25 False\n",
            "89 conv2d_28 False\n",
            "90 batch_normalization_25 True\n",
            "91 batch_normalization_28 True\n",
            "92 activation_25 False\n",
            "93 activation_28 False\n",
            "94 conv2d_24 False\n",
            "95 conv2d_26 False\n",
            "96 conv2d_29 False\n",
            "97 batch_normalization_24 True\n",
            "98 batch_normalization_26 True\n",
            "99 batch_normalization_29 True\n",
            "100 activation_24 False\n",
            "101 activation_26 False\n",
            "102 activation_29 False\n",
            "103 block35_3_mixed False\n",
            "104 block35_3_conv False\n",
            "105 block35_3 False\n",
            "106 block35_3_ac False\n",
            "107 conv2d_33 False\n",
            "108 batch_normalization_33 True\n",
            "109 activation_33 False\n",
            "110 conv2d_31 False\n",
            "111 conv2d_34 False\n",
            "112 batch_normalization_31 True\n",
            "113 batch_normalization_34 True\n",
            "114 activation_31 False\n",
            "115 activation_34 False\n",
            "116 conv2d_30 False\n",
            "117 conv2d_32 False\n",
            "118 conv2d_35 False\n",
            "119 batch_normalization_30 True\n",
            "120 batch_normalization_32 True\n",
            "121 batch_normalization_35 True\n",
            "122 activation_30 False\n",
            "123 activation_32 False\n",
            "124 activation_35 False\n",
            "125 block35_4_mixed False\n",
            "126 block35_4_conv False\n",
            "127 block35_4 False\n",
            "128 block35_4_ac False\n",
            "129 conv2d_39 False\n",
            "130 batch_normalization_39 True\n",
            "131 activation_39 False\n",
            "132 conv2d_37 False\n",
            "133 conv2d_40 False\n",
            "134 batch_normalization_37 True\n",
            "135 batch_normalization_40 True\n",
            "136 activation_37 False\n",
            "137 activation_40 False\n",
            "138 conv2d_36 False\n",
            "139 conv2d_38 False\n",
            "140 conv2d_41 False\n",
            "141 batch_normalization_36 True\n",
            "142 batch_normalization_38 True\n",
            "143 batch_normalization_41 True\n",
            "144 activation_36 False\n",
            "145 activation_38 False\n",
            "146 activation_41 False\n",
            "147 block35_5_mixed False\n",
            "148 block35_5_conv False\n",
            "149 block35_5 False\n",
            "150 block35_5_ac False\n",
            "151 conv2d_45 False\n",
            "152 batch_normalization_45 True\n",
            "153 activation_45 False\n",
            "154 conv2d_43 False\n",
            "155 conv2d_46 False\n",
            "156 batch_normalization_43 True\n",
            "157 batch_normalization_46 True\n",
            "158 activation_43 False\n",
            "159 activation_46 False\n",
            "160 conv2d_42 False\n",
            "161 conv2d_44 False\n",
            "162 conv2d_47 False\n",
            "163 batch_normalization_42 True\n",
            "164 batch_normalization_44 True\n",
            "165 batch_normalization_47 True\n",
            "166 activation_42 False\n",
            "167 activation_44 False\n",
            "168 activation_47 False\n",
            "169 block35_6_mixed False\n",
            "170 block35_6_conv False\n",
            "171 block35_6 False\n",
            "172 block35_6_ac False\n",
            "173 conv2d_51 False\n",
            "174 batch_normalization_51 True\n",
            "175 activation_51 False\n",
            "176 conv2d_49 False\n",
            "177 conv2d_52 False\n",
            "178 batch_normalization_49 True\n",
            "179 batch_normalization_52 True\n",
            "180 activation_49 False\n",
            "181 activation_52 False\n",
            "182 conv2d_48 False\n",
            "183 conv2d_50 False\n",
            "184 conv2d_53 False\n",
            "185 batch_normalization_48 True\n",
            "186 batch_normalization_50 True\n",
            "187 batch_normalization_53 True\n",
            "188 activation_48 False\n",
            "189 activation_50 False\n",
            "190 activation_53 False\n",
            "191 block35_7_mixed False\n",
            "192 block35_7_conv False\n",
            "193 block35_7 False\n",
            "194 block35_7_ac False\n",
            "195 conv2d_57 False\n",
            "196 batch_normalization_57 True\n",
            "197 activation_57 False\n",
            "198 conv2d_55 False\n",
            "199 conv2d_58 False\n",
            "200 batch_normalization_55 True\n",
            "201 batch_normalization_58 True\n",
            "202 activation_55 False\n",
            "203 activation_58 False\n",
            "204 conv2d_54 False\n",
            "205 conv2d_56 False\n",
            "206 conv2d_59 False\n",
            "207 batch_normalization_54 True\n",
            "208 batch_normalization_56 True\n",
            "209 batch_normalization_59 True\n",
            "210 activation_54 False\n",
            "211 activation_56 False\n",
            "212 activation_59 False\n",
            "213 block35_8_mixed False\n",
            "214 block35_8_conv False\n",
            "215 block35_8 False\n",
            "216 block35_8_ac False\n",
            "217 conv2d_63 False\n",
            "218 batch_normalization_63 True\n",
            "219 activation_63 False\n",
            "220 conv2d_61 False\n",
            "221 conv2d_64 False\n",
            "222 batch_normalization_61 True\n",
            "223 batch_normalization_64 True\n",
            "224 activation_61 False\n",
            "225 activation_64 False\n",
            "226 conv2d_60 False\n",
            "227 conv2d_62 False\n",
            "228 conv2d_65 False\n",
            "229 batch_normalization_60 True\n",
            "230 batch_normalization_62 True\n",
            "231 batch_normalization_65 True\n",
            "232 activation_60 False\n",
            "233 activation_62 False\n",
            "234 activation_65 False\n",
            "235 block35_9_mixed False\n",
            "236 block35_9_conv False\n",
            "237 block35_9 False\n",
            "238 block35_9_ac False\n",
            "239 conv2d_69 False\n",
            "240 batch_normalization_69 True\n",
            "241 activation_69 False\n",
            "242 conv2d_67 False\n",
            "243 conv2d_70 False\n",
            "244 batch_normalization_67 True\n",
            "245 batch_normalization_70 True\n",
            "246 activation_67 False\n",
            "247 activation_70 False\n",
            "248 conv2d_66 False\n",
            "249 conv2d_68 False\n",
            "250 conv2d_71 False\n",
            "251 batch_normalization_66 True\n",
            "252 batch_normalization_68 True\n",
            "253 batch_normalization_71 True\n",
            "254 activation_66 False\n",
            "255 activation_68 False\n",
            "256 activation_71 False\n",
            "257 block35_10_mixed False\n",
            "258 block35_10_conv False\n",
            "259 block35_10 False\n",
            "260 block35_10_ac False\n",
            "261 conv2d_73 False\n",
            "262 batch_normalization_73 True\n",
            "263 activation_73 False\n",
            "264 conv2d_74 False\n",
            "265 batch_normalization_74 True\n",
            "266 activation_74 False\n",
            "267 conv2d_72 False\n",
            "268 conv2d_75 False\n",
            "269 batch_normalization_72 True\n",
            "270 batch_normalization_75 True\n",
            "271 activation_72 False\n",
            "272 activation_75 False\n",
            "273 max_pooling2d_2 False\n",
            "274 mixed_6a False\n",
            "275 conv2d_77 False\n",
            "276 batch_normalization_77 True\n",
            "277 activation_77 False\n",
            "278 conv2d_78 False\n",
            "279 batch_normalization_78 True\n",
            "280 activation_78 False\n",
            "281 conv2d_76 False\n",
            "282 conv2d_79 False\n",
            "283 batch_normalization_76 True\n",
            "284 batch_normalization_79 True\n",
            "285 activation_76 False\n",
            "286 activation_79 False\n",
            "287 block17_1_mixed False\n",
            "288 block17_1_conv False\n",
            "289 block17_1 False\n",
            "290 block17_1_ac False\n",
            "291 conv2d_81 False\n",
            "292 batch_normalization_81 True\n",
            "293 activation_81 False\n",
            "294 conv2d_82 False\n",
            "295 batch_normalization_82 True\n",
            "296 activation_82 False\n",
            "297 conv2d_80 False\n",
            "298 conv2d_83 False\n",
            "299 batch_normalization_80 True\n",
            "300 batch_normalization_83 True\n",
            "301 activation_80 False\n",
            "302 activation_83 False\n",
            "303 block17_2_mixed False\n",
            "304 block17_2_conv False\n",
            "305 block17_2 False\n",
            "306 block17_2_ac False\n",
            "307 conv2d_85 False\n",
            "308 batch_normalization_85 True\n",
            "309 activation_85 False\n",
            "310 conv2d_86 False\n",
            "311 batch_normalization_86 True\n",
            "312 activation_86 False\n",
            "313 conv2d_84 False\n",
            "314 conv2d_87 False\n",
            "315 batch_normalization_84 True\n",
            "316 batch_normalization_87 True\n",
            "317 activation_84 False\n",
            "318 activation_87 False\n",
            "319 block17_3_mixed False\n",
            "320 block17_3_conv False\n",
            "321 block17_3 False\n",
            "322 block17_3_ac False\n",
            "323 conv2d_89 False\n",
            "324 batch_normalization_89 True\n",
            "325 activation_89 False\n",
            "326 conv2d_90 False\n",
            "327 batch_normalization_90 True\n",
            "328 activation_90 False\n",
            "329 conv2d_88 False\n",
            "330 conv2d_91 False\n",
            "331 batch_normalization_88 True\n",
            "332 batch_normalization_91 True\n",
            "333 activation_88 False\n",
            "334 activation_91 False\n",
            "335 block17_4_mixed False\n",
            "336 block17_4_conv False\n",
            "337 block17_4 False\n",
            "338 block17_4_ac False\n",
            "339 conv2d_93 False\n",
            "340 batch_normalization_93 True\n",
            "341 activation_93 False\n",
            "342 conv2d_94 False\n",
            "343 batch_normalization_94 True\n",
            "344 activation_94 False\n",
            "345 conv2d_92 False\n",
            "346 conv2d_95 False\n",
            "347 batch_normalization_92 True\n",
            "348 batch_normalization_95 True\n",
            "349 activation_92 False\n",
            "350 activation_95 False\n",
            "351 block17_5_mixed False\n",
            "352 block17_5_conv False\n",
            "353 block17_5 False\n",
            "354 block17_5_ac False\n",
            "355 conv2d_97 False\n",
            "356 batch_normalization_97 True\n",
            "357 activation_97 False\n",
            "358 conv2d_98 False\n",
            "359 batch_normalization_98 True\n",
            "360 activation_98 False\n",
            "361 conv2d_96 False\n",
            "362 conv2d_99 False\n",
            "363 batch_normalization_96 True\n",
            "364 batch_normalization_99 True\n",
            "365 activation_96 False\n",
            "366 activation_99 False\n",
            "367 block17_6_mixed False\n",
            "368 block17_6_conv False\n",
            "369 block17_6 False\n",
            "370 block17_6_ac False\n",
            "371 conv2d_101 False\n",
            "372 batch_normalization_101 True\n",
            "373 activation_101 False\n",
            "374 conv2d_102 False\n",
            "375 batch_normalization_102 True\n",
            "376 activation_102 False\n",
            "377 conv2d_100 False\n",
            "378 conv2d_103 False\n",
            "379 batch_normalization_100 True\n",
            "380 batch_normalization_103 True\n",
            "381 activation_100 False\n",
            "382 activation_103 False\n",
            "383 block17_7_mixed False\n",
            "384 block17_7_conv False\n",
            "385 block17_7 False\n",
            "386 block17_7_ac False\n",
            "387 conv2d_105 False\n",
            "388 batch_normalization_105 True\n",
            "389 activation_105 False\n",
            "390 conv2d_106 False\n",
            "391 batch_normalization_106 True\n",
            "392 activation_106 False\n",
            "393 conv2d_104 False\n",
            "394 conv2d_107 False\n",
            "395 batch_normalization_104 True\n",
            "396 batch_normalization_107 True\n",
            "397 activation_104 False\n",
            "398 activation_107 False\n",
            "399 block17_8_mixed False\n",
            "400 block17_8_conv False\n",
            "401 block17_8 False\n",
            "402 block17_8_ac False\n",
            "403 conv2d_109 False\n",
            "404 batch_normalization_109 True\n",
            "405 activation_109 False\n",
            "406 conv2d_110 False\n",
            "407 batch_normalization_110 True\n",
            "408 activation_110 False\n",
            "409 conv2d_108 False\n",
            "410 conv2d_111 False\n",
            "411 batch_normalization_108 True\n",
            "412 batch_normalization_111 True\n",
            "413 activation_108 False\n",
            "414 activation_111 False\n",
            "415 block17_9_mixed False\n",
            "416 block17_9_conv False\n",
            "417 block17_9 False\n",
            "418 block17_9_ac False\n",
            "419 conv2d_113 False\n",
            "420 batch_normalization_113 True\n",
            "421 activation_113 False\n",
            "422 conv2d_114 False\n",
            "423 batch_normalization_114 True\n",
            "424 activation_114 False\n",
            "425 conv2d_112 False\n",
            "426 conv2d_115 False\n",
            "427 batch_normalization_112 True\n",
            "428 batch_normalization_115 True\n",
            "429 activation_112 False\n",
            "430 activation_115 False\n",
            "431 block17_10_mixed False\n",
            "432 block17_10_conv False\n",
            "433 block17_10 False\n",
            "434 block17_10_ac False\n",
            "435 conv2d_117 False\n",
            "436 batch_normalization_117 True\n",
            "437 activation_117 False\n",
            "438 conv2d_118 False\n",
            "439 batch_normalization_118 True\n",
            "440 activation_118 False\n",
            "441 conv2d_116 False\n",
            "442 conv2d_119 False\n",
            "443 batch_normalization_116 True\n",
            "444 batch_normalization_119 True\n",
            "445 activation_116 False\n",
            "446 activation_119 False\n",
            "447 block17_11_mixed False\n",
            "448 block17_11_conv False\n",
            "449 block17_11 False\n",
            "450 block17_11_ac False\n",
            "451 conv2d_121 False\n",
            "452 batch_normalization_121 True\n",
            "453 activation_121 False\n",
            "454 conv2d_122 False\n",
            "455 batch_normalization_122 True\n",
            "456 activation_122 False\n",
            "457 conv2d_120 False\n",
            "458 conv2d_123 False\n",
            "459 batch_normalization_120 True\n",
            "460 batch_normalization_123 True\n",
            "461 activation_120 False\n",
            "462 activation_123 False\n",
            "463 block17_12_mixed False\n",
            "464 block17_12_conv False\n",
            "465 block17_12 False\n",
            "466 block17_12_ac False\n",
            "467 conv2d_125 False\n",
            "468 batch_normalization_125 True\n",
            "469 activation_125 False\n",
            "470 conv2d_126 False\n",
            "471 batch_normalization_126 True\n",
            "472 activation_126 False\n",
            "473 conv2d_124 False\n",
            "474 conv2d_127 False\n",
            "475 batch_normalization_124 True\n",
            "476 batch_normalization_127 True\n",
            "477 activation_124 False\n",
            "478 activation_127 False\n",
            "479 block17_13_mixed False\n",
            "480 block17_13_conv False\n",
            "481 block17_13 False\n",
            "482 block17_13_ac False\n",
            "483 conv2d_129 False\n",
            "484 batch_normalization_129 True\n",
            "485 activation_129 False\n",
            "486 conv2d_130 False\n",
            "487 batch_normalization_130 True\n",
            "488 activation_130 False\n",
            "489 conv2d_128 False\n",
            "490 conv2d_131 False\n",
            "491 batch_normalization_128 True\n",
            "492 batch_normalization_131 True\n",
            "493 activation_128 False\n",
            "494 activation_131 False\n",
            "495 block17_14_mixed False\n",
            "496 block17_14_conv False\n",
            "497 block17_14 False\n",
            "498 block17_14_ac False\n",
            "499 conv2d_133 False\n",
            "500 batch_normalization_133 True\n",
            "501 activation_133 False\n",
            "502 conv2d_134 False\n",
            "503 batch_normalization_134 True\n",
            "504 activation_134 False\n",
            "505 conv2d_132 False\n",
            "506 conv2d_135 False\n",
            "507 batch_normalization_132 True\n",
            "508 batch_normalization_135 True\n",
            "509 activation_132 False\n",
            "510 activation_135 False\n",
            "511 block17_15_mixed False\n",
            "512 block17_15_conv False\n",
            "513 block17_15 False\n",
            "514 block17_15_ac False\n",
            "515 conv2d_137 False\n",
            "516 batch_normalization_137 True\n",
            "517 activation_137 False\n",
            "518 conv2d_138 False\n",
            "519 batch_normalization_138 True\n",
            "520 activation_138 False\n",
            "521 conv2d_136 False\n",
            "522 conv2d_139 False\n",
            "523 batch_normalization_136 True\n",
            "524 batch_normalization_139 True\n",
            "525 activation_136 False\n",
            "526 activation_139 False\n",
            "527 block17_16_mixed False\n",
            "528 block17_16_conv False\n",
            "529 block17_16 False\n",
            "530 block17_16_ac False\n",
            "531 conv2d_141 False\n",
            "532 batch_normalization_141 True\n",
            "533 activation_141 False\n",
            "534 conv2d_142 False\n",
            "535 batch_normalization_142 True\n",
            "536 activation_142 False\n",
            "537 conv2d_140 False\n",
            "538 conv2d_143 False\n",
            "539 batch_normalization_140 True\n",
            "540 batch_normalization_143 True\n",
            "541 activation_140 False\n",
            "542 activation_143 False\n",
            "543 block17_17_mixed False\n",
            "544 block17_17_conv False\n",
            "545 block17_17 False\n",
            "546 block17_17_ac False\n",
            "547 conv2d_145 False\n",
            "548 batch_normalization_145 True\n",
            "549 activation_145 False\n",
            "550 conv2d_146 False\n",
            "551 batch_normalization_146 True\n",
            "552 activation_146 False\n",
            "553 conv2d_144 False\n",
            "554 conv2d_147 False\n",
            "555 batch_normalization_144 True\n",
            "556 batch_normalization_147 True\n",
            "557 activation_144 False\n",
            "558 activation_147 False\n",
            "559 block17_18_mixed False\n",
            "560 block17_18_conv False\n",
            "561 block17_18 False\n",
            "562 block17_18_ac False\n",
            "563 conv2d_149 False\n",
            "564 batch_normalization_149 True\n",
            "565 activation_149 False\n",
            "566 conv2d_150 False\n",
            "567 batch_normalization_150 True\n",
            "568 activation_150 False\n",
            "569 conv2d_148 False\n",
            "570 conv2d_151 False\n",
            "571 batch_normalization_148 True\n",
            "572 batch_normalization_151 True\n",
            "573 activation_148 False\n",
            "574 activation_151 False\n",
            "575 block17_19_mixed False\n",
            "576 block17_19_conv False\n",
            "577 block17_19 False\n",
            "578 block17_19_ac False\n",
            "579 conv2d_153 False\n",
            "580 batch_normalization_153 True\n",
            "581 activation_153 False\n",
            "582 conv2d_154 False\n",
            "583 batch_normalization_154 True\n",
            "584 activation_154 False\n",
            "585 conv2d_152 False\n",
            "586 conv2d_155 False\n",
            "587 batch_normalization_152 True\n",
            "588 batch_normalization_155 True\n",
            "589 activation_152 False\n",
            "590 activation_155 False\n",
            "591 block17_20_mixed False\n",
            "592 block17_20_conv False\n",
            "593 block17_20 False\n",
            "594 block17_20_ac False\n",
            "595 conv2d_160 False\n",
            "596 batch_normalization_160 True\n",
            "597 activation_160 False\n",
            "598 conv2d_156 False\n",
            "599 conv2d_158 False\n",
            "600 conv2d_161 False\n",
            "601 batch_normalization_156 True\n",
            "602 batch_normalization_158 True\n",
            "603 batch_normalization_161 True\n",
            "604 activation_156 False\n",
            "605 activation_158 False\n",
            "606 activation_161 False\n",
            "607 conv2d_157 False\n",
            "608 conv2d_159 False\n",
            "609 conv2d_162 False\n",
            "610 batch_normalization_157 True\n",
            "611 batch_normalization_159 True\n",
            "612 batch_normalization_162 True\n",
            "613 activation_157 False\n",
            "614 activation_159 False\n",
            "615 activation_162 False\n",
            "616 max_pooling2d_3 False\n",
            "617 mixed_7a False\n",
            "618 conv2d_164 False\n",
            "619 batch_normalization_164 True\n",
            "620 activation_164 False\n",
            "621 conv2d_165 False\n",
            "622 batch_normalization_165 True\n",
            "623 activation_165 False\n",
            "624 conv2d_163 False\n",
            "625 conv2d_166 False\n",
            "626 batch_normalization_163 True\n",
            "627 batch_normalization_166 True\n",
            "628 activation_163 False\n",
            "629 activation_166 False\n",
            "630 block8_1_mixed False\n",
            "631 block8_1_conv False\n",
            "632 block8_1 False\n",
            "633 block8_1_ac False\n",
            "634 conv2d_168 False\n",
            "635 batch_normalization_168 True\n",
            "636 activation_168 False\n",
            "637 conv2d_169 False\n",
            "638 batch_normalization_169 True\n",
            "639 activation_169 False\n",
            "640 conv2d_167 False\n",
            "641 conv2d_170 False\n",
            "642 batch_normalization_167 True\n",
            "643 batch_normalization_170 True\n",
            "644 activation_167 False\n",
            "645 activation_170 False\n",
            "646 block8_2_mixed False\n",
            "647 block8_2_conv False\n",
            "648 block8_2 False\n",
            "649 block8_2_ac False\n",
            "650 conv2d_172 False\n",
            "651 batch_normalization_172 True\n",
            "652 activation_172 False\n",
            "653 conv2d_173 False\n",
            "654 batch_normalization_173 True\n",
            "655 activation_173 False\n",
            "656 conv2d_171 False\n",
            "657 conv2d_174 False\n",
            "658 batch_normalization_171 True\n",
            "659 batch_normalization_174 True\n",
            "660 activation_171 False\n",
            "661 activation_174 False\n",
            "662 block8_3_mixed False\n",
            "663 block8_3_conv False\n",
            "664 block8_3 False\n",
            "665 block8_3_ac False\n",
            "666 conv2d_176 False\n",
            "667 batch_normalization_176 True\n",
            "668 activation_176 False\n",
            "669 conv2d_177 False\n",
            "670 batch_normalization_177 True\n",
            "671 activation_177 False\n",
            "672 conv2d_175 False\n",
            "673 conv2d_178 False\n",
            "674 batch_normalization_175 True\n",
            "675 batch_normalization_178 True\n",
            "676 activation_175 False\n",
            "677 activation_178 False\n",
            "678 block8_4_mixed False\n",
            "679 block8_4_conv False\n",
            "680 block8_4 False\n",
            "681 block8_4_ac False\n",
            "682 conv2d_180 False\n",
            "683 batch_normalization_180 True\n",
            "684 activation_180 False\n",
            "685 conv2d_181 False\n",
            "686 batch_normalization_181 True\n",
            "687 activation_181 False\n",
            "688 conv2d_179 False\n",
            "689 conv2d_182 False\n",
            "690 batch_normalization_179 True\n",
            "691 batch_normalization_182 True\n",
            "692 activation_179 False\n",
            "693 activation_182 False\n",
            "694 block8_5_mixed False\n",
            "695 block8_5_conv False\n",
            "696 block8_5 False\n",
            "697 block8_5_ac False\n",
            "698 conv2d_184 False\n",
            "699 batch_normalization_184 True\n",
            "700 activation_184 False\n",
            "701 conv2d_185 False\n",
            "702 batch_normalization_185 True\n",
            "703 activation_185 False\n",
            "704 conv2d_183 False\n",
            "705 conv2d_186 False\n",
            "706 batch_normalization_183 True\n",
            "707 batch_normalization_186 True\n",
            "708 activation_183 False\n",
            "709 activation_186 False\n",
            "710 block8_6_mixed False\n",
            "711 block8_6_conv False\n",
            "712 block8_6 False\n",
            "713 block8_6_ac False\n",
            "714 conv2d_188 False\n",
            "715 batch_normalization_188 True\n",
            "716 activation_188 False\n",
            "717 conv2d_189 False\n",
            "718 batch_normalization_189 True\n",
            "719 activation_189 False\n",
            "720 conv2d_187 False\n",
            "721 conv2d_190 False\n",
            "722 batch_normalization_187 True\n",
            "723 batch_normalization_190 True\n",
            "724 activation_187 False\n",
            "725 activation_190 False\n",
            "726 block8_7_mixed False\n",
            "727 block8_7_conv False\n",
            "728 block8_7 False\n",
            "729 block8_7_ac False\n",
            "730 conv2d_192 False\n",
            "731 batch_normalization_192 True\n",
            "732 activation_192 False\n",
            "733 conv2d_193 False\n",
            "734 batch_normalization_193 True\n",
            "735 activation_193 False\n",
            "736 conv2d_191 False\n",
            "737 conv2d_194 False\n",
            "738 batch_normalization_191 True\n",
            "739 batch_normalization_194 True\n",
            "740 activation_191 False\n",
            "741 activation_194 False\n",
            "742 block8_8_mixed False\n",
            "743 block8_8_conv False\n",
            "744 block8_8 False\n",
            "745 block8_8_ac False\n",
            "746 conv2d_196 False\n",
            "747 batch_normalization_196 True\n",
            "748 activation_196 False\n",
            "749 conv2d_197 False\n",
            "750 batch_normalization_197 True\n",
            "751 activation_197 False\n",
            "752 conv2d_195 False\n",
            "753 conv2d_198 False\n",
            "754 batch_normalization_195 True\n",
            "755 batch_normalization_198 True\n",
            "756 activation_195 False\n",
            "757 activation_198 False\n",
            "758 block8_9_mixed False\n",
            "759 block8_9_conv False\n",
            "760 block8_9 False\n",
            "761 block8_9_ac False\n",
            "762 conv2d_200 False\n",
            "763 batch_normalization_200 True\n",
            "764 activation_200 False\n",
            "765 conv2d_201 True\n",
            "766 batch_normalization_201 True\n",
            "767 activation_201 True\n",
            "768 conv2d_199 True\n",
            "769 conv2d_202 True\n",
            "770 batch_normalization_199 True\n",
            "771 batch_normalization_202 True\n",
            "772 activation_199 True\n",
            "773 activation_202 True\n",
            "774 block8_10_mixed True\n",
            "775 block8_10_conv True\n",
            "776 block8_10 True\n",
            "777 conv_7b True\n",
            "778 conv_7b_bn True\n",
            "779 conv_7b_ac True\n",
            "780 global_average_pooling2d True\n"
          ],
          "name": "stdout"
        }
      ]
    },
    {
      "cell_type": "code",
      "metadata": {
        "id": "pzWqYI8J5hGS",
        "colab_type": "code",
        "colab": {}
      },
      "source": [
        "from keras.layers import Input"
      ],
      "execution_count": null,
      "outputs": []
    },
    {
      "cell_type": "code",
      "metadata": {
        "id": "dqBP288D5vug",
        "colab_type": "code",
        "colab": {}
      },
      "source": [
        "input_tensor = Input(shape=(224,224,1))"
      ],
      "execution_count": null,
      "outputs": []
    },
    {
      "cell_type": "code",
      "metadata": {
        "id": "IMnkL3bw5-s_",
        "colab_type": "code",
        "colab": {}
      },
      "source": [
        "x = Conv2D(3,(3,3), padding='same')(input_tensor)"
      ],
      "execution_count": null,
      "outputs": []
    },
    {
      "cell_type": "code",
      "metadata": {
        "id": "De0lHrbi6I5Q",
        "colab_type": "code",
        "colab": {}
      },
      "source": [
        "x = conv_base(x)"
      ],
      "execution_count": null,
      "outputs": []
    },
    {
      "cell_type": "code",
      "metadata": {
        "id": "G_Rq-OhQ6Nuf",
        "colab_type": "code",
        "colab": {}
      },
      "source": [
        "x = Dense(2048, activation='relu', kernel_regularizer=regularizers.l2(0.001))(x)\n",
        "x = Dropout(0.5)(x)\n",
        "out = Dense(60, activation='softmax')(x)"
      ],
      "execution_count": null,
      "outputs": []
    },
    {
      "cell_type": "code",
      "metadata": {
        "id": "puwW1wKf6nYQ",
        "colab_type": "code",
        "colab": {}
      },
      "source": [
        "model = Model(inputs = input_tensor, outputs = out)"
      ],
      "execution_count": null,
      "outputs": []
    },
    {
      "cell_type": "code",
      "metadata": {
        "id": "MUkDF-Sj7Iia",
        "colab_type": "code",
        "colab": {
          "base_uri": "https://localhost:8080/",
          "height": 357
        },
        "outputId": "ab65bc9d-fa43-4927-cbd9-e5c479cac642"
      },
      "source": [
        "model.summary()"
      ],
      "execution_count": null,
      "outputs": [
        {
          "output_type": "stream",
          "text": [
            "Model: \"functional_3\"\n",
            "_________________________________________________________________\n",
            "Layer (type)                 Output Shape              Param #   \n",
            "=================================================================\n",
            "input_4 (InputLayer)         [(None, 224, 224, 1)]     0         \n",
            "_________________________________________________________________\n",
            "conv2d_407 (Conv2D)          (None, 224, 224, 3)       30        \n",
            "_________________________________________________________________\n",
            "inception_resnet_v2 (Functio (None, 1536)              54336736  \n",
            "_________________________________________________________________\n",
            "dense_2 (Dense)              (None, 2048)              3147776   \n",
            "_________________________________________________________________\n",
            "dropout_1 (Dropout)          (None, 2048)              0         \n",
            "_________________________________________________________________\n",
            "dense_3 (Dense)              (None, 60)                122940    \n",
            "=================================================================\n",
            "Total params: 57,607,482\n",
            "Trainable params: 8,130,234\n",
            "Non-trainable params: 49,477,248\n",
            "_________________________________________________________________\n"
          ],
          "name": "stdout"
        }
      ]
    },
    {
      "cell_type": "code",
      "metadata": {
        "id": "nHdoLuda7LbU",
        "colab_type": "code",
        "colab": {}
      },
      "source": [
        "model.compile(loss='categorical_crossentropy',\n",
        "              optimizer=Adam(lr=0.001),\n",
        "              metrics=['accuracy'])"
      ],
      "execution_count": null,
      "outputs": []
    },
    {
      "cell_type": "code",
      "metadata": {
        "id": "5Dc78Rf97QXu",
        "colab_type": "code",
        "colab": {}
      },
      "source": [
        "from keras.callbacks import ModelCheckpoint, EarlyStopping, ReduceLROnPlateau\n",
        "checkpoint = ModelCheckpoint(\"/content/drive/My Drive/curetDataSet/Curnet_GreyScale_InceptionResnetV2.h5\",\n",
        "                             monitor=\"val_loss\",\n",
        "                             mode=\"min\",\n",
        "                             save_best_only = True,\n",
        "                             verbose=1)\n",
        "\n",
        "earlystop = EarlyStopping(monitor = 'val_loss', \n",
        "                          min_delta = 0, \n",
        "                          patience = 40,\n",
        "                          verbose = 1,\n",
        "                          restore_best_weights = True)\n",
        "\n",
        "reduce_lr = ReduceLROnPlateau(monitor = 'val_loss',\n",
        "                              factor = 0.2,\n",
        "                              patience = 40,\n",
        "                              verbose = 1,\n",
        "                              min_delta = 0.00001)\n",
        "\n",
        "callBacks = [earlystop, checkpoint, reduce_lr]"
      ],
      "execution_count": null,
      "outputs": []
    },
    {
      "cell_type": "code",
      "metadata": {
        "id": "RCbK8gbZ7cpK",
        "colab_type": "code",
        "colab": {
          "base_uri": "https://localhost:8080/",
          "height": 357
        },
        "outputId": "5ef77ef0-1b0f-4f17-a03b-3fd73137db7d"
      },
      "source": [
        "hist = model.fit_generator(steps_per_epoch=1592,generator= Grey_TrainingData, validation_data= Grey_ValidData, validation_steps=87,epochs=5,callbacks=callBacks)"
      ],
      "execution_count": null,
      "outputs": [
        {
          "output_type": "stream",
          "text": [
            "Epoch 1/5\n",
            "1592/1592 [==============================] - ETA: 0s - loss: 2.3155 - accuracy: 0.5033\n",
            "Epoch 00001: val_loss improved from inf to 10.19766, saving model to /content/drive/My Drive/curetDataSet/Curnet_GreyScale_InceptionResnetV2.h5\n",
            "1592/1592 [==============================] - 344s 216ms/step - loss: 2.3155 - accuracy: 0.5033 - val_loss: 10.1977 - val_accuracy: 0.7835\n",
            "Epoch 2/5\n",
            "1592/1592 [==============================] - ETA: 0s - loss: 1.2068 - accuracy: 0.7412\n",
            "Epoch 00002: val_loss improved from 10.19766 to 6.09687, saving model to /content/drive/My Drive/curetDataSet/Curnet_GreyScale_InceptionResnetV2.h5\n",
            "1592/1592 [==============================] - 344s 216ms/step - loss: 1.2068 - accuracy: 0.7412 - val_loss: 6.0969 - val_accuracy: 0.8557\n",
            "Epoch 3/5\n",
            "1592/1592 [==============================] - ETA: 0s - loss: 0.9629 - accuracy: 0.8100\n",
            "Epoch 00003: val_loss improved from 6.09687 to 3.77945, saving model to /content/drive/My Drive/curetDataSet/Curnet_GreyScale_InceptionResnetV2.h5\n",
            "1592/1592 [==============================] - 344s 216ms/step - loss: 0.9629 - accuracy: 0.8100 - val_loss: 3.7794 - val_accuracy: 0.8644\n",
            "Epoch 4/5\n",
            "1592/1592 [==============================] - ETA: 0s - loss: 0.8228 - accuracy: 0.8439\n",
            "Epoch 00004: val_loss did not improve from 3.77945\n",
            "1592/1592 [==============================] - 339s 213ms/step - loss: 0.8228 - accuracy: 0.8439 - val_loss: 4.3156 - val_accuracy: 0.8211\n",
            "Epoch 5/5\n",
            "1592/1592 [==============================] - ETA: 0s - loss: 0.7044 - accuracy: 0.8732\n",
            "Epoch 00005: val_loss did not improve from 3.77945\n",
            "1592/1592 [==============================] - 337s 211ms/step - loss: 0.7044 - accuracy: 0.8732 - val_loss: 7.7913 - val_accuracy: 0.8600\n"
          ],
          "name": "stdout"
        }
      ]
    },
    {
      "cell_type": "code",
      "metadata": {
        "id": "yOPu_IUM8Pl0",
        "colab_type": "code",
        "colab": {
          "base_uri": "https://localhost:8080/",
          "height": 295
        },
        "outputId": "a248d7ce-320e-4532-c671-02cf5e377be8"
      },
      "source": [
        "import matplotlib.pyplot as plt\n",
        "plt.plot(hist.history[\"accuracy\"])\n",
        "plt.plot(hist.history['val_accuracy'])\n",
        "plt.title(\"model accuracy\")\n",
        "plt.ylabel(\"Accuracy\")\n",
        "plt.xlabel(\"Epoch\")\n",
        "plt.legend([\"Accuracy\",\"Validation Accuracy\"])\n",
        "plt.show()"
      ],
      "execution_count": null,
      "outputs": [
        {
          "output_type": "display_data",
          "data": {
            "image/png": "[encoded data removed]",
            "text/plain": [
              "<Figure size 432x288 with 1 Axes>"
            ]
          },
          "metadata": {
            "tags": [],
            "needs_background": "light"
          }
        }
      ]
    },
    {
      "cell_type": "code",
      "metadata": {
        "id": "tOCNL9oW8TaP",
        "colab_type": "code",
        "colab": {
          "base_uri": "https://localhost:8080/",
          "height": 295
        },
        "outputId": "79189153-625b-49fd-aaa3-dedda34187dd"
      },
      "source": [
        "plt.plot(hist.history['loss'])\n",
        "plt.plot(hist.history['val_loss'])\n",
        "plt.title(\"model Loss\")\n",
        "plt.ylabel(\"Loss\")\n",
        "plt.xlabel(\"Epoch\")\n",
        "plt.legend([\"Loss\",\"Validation Loss\"])\n",
        "plt.show()"
      ],
      "execution_count": null,
      "outputs": [
        {
          "output_type": "display_data",
          "data": {
            "image/png": "[encoded data removed]",
            "text/plain": [
              "<Figure size 432x288 with 1 Axes>"
            ]
          },
          "metadata": {
            "tags": [],
            "needs_background": "light"
          }
        }
      ]
    },
    {
      "cell_type": "code",
      "metadata": {
        "id": "r4KDTBLb8WAw",
        "colab_type": "code",
        "colab": {
          "base_uri": "https://localhost:8080/",
          "height": 34
        },
        "outputId": "f7f76c1b-4c05-4857-b07a-78688c6bcc5f"
      },
      "source": [
        "GreyTestData = TestGenerator.flow_from_directory('/content/drive/My Drive/curetDataSet/Test/', target_size=(224,224), batch_size = 8, shuffle = False, color_mode='grayscale')"
      ],
      "execution_count": null,
      "outputs": [
        {
          "output_type": "stream",
          "text": [
            "Found 750 images belonging to 60 classes.\n"
          ],
          "name": "stdout"
        }
      ]
    },
    {
      "cell_type": "code",
      "metadata": {
        "id": "FAtA6YzIDhRb",
        "colab_type": "code",
        "colab": {}
      },
      "source": [
        "model.load_weights('/content/drive/My Drive/curetDataSet/Curnet_GreyScale_InceptionResnetV2.h5')"
      ],
      "execution_count": null,
      "outputs": []
    },
    {
      "cell_type": "code",
      "metadata": {
        "id": "H5IHoWvG8ZSE",
        "colab_type": "code",
        "colab": {}
      },
      "source": [
        "Grey_predict = model.predict(GreyTestData)"
      ],
      "execution_count": null,
      "outputs": []
    },
    {
      "cell_type": "code",
      "metadata": {
        "id": "1s-tRf1X8bXg",
        "colab_type": "code",
        "colab": {}
      },
      "source": [
        "Grey_predict_classes = np.argmax(Grey_predict, axis=1)"
      ],
      "execution_count": null,
      "outputs": []
    },
    {
      "cell_type": "code",
      "metadata": {
        "id": "QSkMj7ZF8dSi",
        "colab_type": "code",
        "colab": {
          "base_uri": "https://localhost:8080/",
          "height": 782
        },
        "outputId": "625146a8-8650-4493-9c41-0d35a90edb8d"
      },
      "source": [
        "Grey_predict_classes"
      ],
      "execution_count": null,
      "outputs": [
        {
          "output_type": "execute_result",
          "data": {
            "text/plain": [
              "array([10,  0,  0,  1,  0,  0,  0,  0,  0,  5,  4,  4,  1,  1,  1,  1,  1,\n",
              "       10,  1, 10,  1,  1,  1,  2,  2,  2,  2,  2,  2,  2,  2,  2,  2,  2,\n",
              "        3,  5,  3,  5, 15,  5,  3,  5,  3,  3, 15, 10,  4,  4,  4,  4,  4,\n",
              "        4,  1,  4,  4,  4,  5,  5,  5,  5,  5,  5,  5,  5,  5,  5,  5,  5,\n",
              "       44,  6,  6,  6,  6, 52,  6,  6,  6, 10, 10, 10,  7,  7,  7,  7,  7,\n",
              "        7,  7,  7,  7,  8,  8, 10,  8,  8,  8,  8,  8,  8,  8,  8,  9, 10,\n",
              "        9,  9,  9,  9,  9,  9,  9,  9,  9, 10, 10, 10, 10, 10, 10, 10, 10,\n",
              "       10, 10, 10, 11, 11, 11, 11, 11, 11, 10, 11, 11, 11,  5, 12, 12, 12,\n",
              "       12, 12, 12, 45, 12, 12, 12, 12, 10, 42, 13, 13, 13, 13, 13, 13, 13,\n",
              "       13, 10, 14, 14, 10, 10, 14, 10, 14, 14, 14, 14, 14, 15, 15, 15, 15,\n",
              "       15, 15, 15, 15, 15,  5, 15, 16, 16, 16, 16, 16, 16,  5, 10, 16, 16,\n",
              "        5, 17, 17, 17, 17, 17, 17, 17, 17, 17, 17, 17, 18, 18, 18, 18, 18,\n",
              "       18, 18, 18, 18, 18, 18, 19, 19, 19, 19, 19,  1, 19, 19, 19, 19, 19,\n",
              "       20, 20, 20, 20, 20, 20, 20, 20, 20, 20, 20, 21, 26, 10, 21, 21, 21,\n",
              "       21, 21, 21, 44, 21, 10, 22, 22, 22, 22, 22, 22, 22, 22, 22, 22, 23,\n",
              "       23, 10, 23, 23, 23, 23, 23, 23, 23, 31, 10, 10, 24, 24, 24,  1, 24,\n",
              "        1,  1,  7, 10, 10, 25, 25, 25, 25, 25, 25, 25, 25, 25, 25, 10, 26,\n",
              "       26, 26, 26, 26, 26, 26, 26, 26, 10, 27, 27, 27, 27, 27, 27, 27, 27,\n",
              "       27, 27, 27, 28, 10, 28, 28, 28, 10, 28, 28, 28, 28, 41, 44, 29, 44,\n",
              "       29, 29, 29, 29, 29, 10, 29, 27, 30, 30, 30, 30, 30, 30, 30, 30, 30,\n",
              "       30, 30, 31, 31, 31, 31, 31, 31, 31, 31, 31, 10, 52, 10, 32, 32, 32,\n",
              "       10, 32, 32, 32, 32, 32, 44, 33, 33, 33, 33, 33, 33, 33, 33, 33, 33,\n",
              "       34, 34, 34, 34, 34, 34, 34, 34, 34, 34, 34, 35, 35, 35, 35, 35, 35,\n",
              "       35, 35, 35, 35, 35, 10, 10, 36, 36, 36, 36, 36, 36, 36, 44,  4, 36,\n",
              "       36, 36, 10, 10, 36, 36, 36, 36, 36, 37, 37, 37, 10, 37, 37, 37, 37,\n",
              "       37, 37, 52, 38, 38, 38, 38, 38, 38, 38, 38, 38, 38, 38, 38, 38, 38,\n",
              "       38, 38, 38, 38, 38, 38, 38, 10, 39, 39, 39, 39, 39, 39, 39, 39, 39,\n",
              "       39,  1,  1, 40, 40, 40, 40, 40, 40, 40, 40, 40, 40, 40, 40, 44, 40,\n",
              "        5,  5,  5, 52, 49, 41, 41, 41, 41, 41, 41, 41, 41, 41, 41, 41, 10,\n",
              "       42, 10, 42, 42, 42, 10, 10, 42,  1, 42, 42, 42, 42, 42, 42, 42, 10,\n",
              "       42, 44, 42, 43, 43, 43, 43, 43, 43, 43, 43, 43, 43, 43, 10, 44, 44,\n",
              "       44, 44, 44, 44, 44, 44, 44, 44, 44, 44, 44, 44, 44, 44, 44, 44, 44,\n",
              "       44, 10, 45, 45, 45, 10, 45, 10, 45, 45, 10, 45, 10, 46, 46, 46, 35,\n",
              "       46, 46, 46,  7, 46, 46, 10, 47, 47, 47, 47, 35, 10, 47, 47, 47, 39,\n",
              "       48, 48, 48, 48, 48, 48, 48, 48, 48, 48, 48, 10, 49, 49, 49, 49, 49,\n",
              "       49, 49, 49, 10, 49, 49, 10, 54, 10, 49, 49, 49, 49, 49, 26, 50, 50,\n",
              "       50, 50, 50, 50, 10, 50, 50, 50, 50, 56, 51, 51, 10, 51, 51, 10, 51,\n",
              "       51, 51, 51, 52, 52, 52, 52, 52, 52, 52, 52, 52, 52, 52, 52, 52, 52,\n",
              "       52, 52, 52, 52, 52, 52, 52, 53, 53, 53, 53, 53, 53, 53, 53, 53, 53,\n",
              "       10, 54, 54, 54, 54, 54, 54, 54, 54, 54, 54, 54, 54, 54, 52, 10, 54,\n",
              "       54, 54, 54, 54, 54, 55, 55, 55, 55, 55, 55, 10, 55, 55, 55, 52, 56,\n",
              "       56, 56, 56, 56, 56, 56, 56, 56, 56, 56, 56, 56, 56, 56, 56, 10, 56,\n",
              "       56, 56, 56, 57, 57, 57, 57, 57, 57, 57, 57, 57, 57, 57, 58, 58, 58,\n",
              "       58, 58, 10, 58, 58, 58, 58, 58, 10, 59, 59, 59, 59, 59, 59, 59, 59,\n",
              "       59, 59])"
            ]
          },
          "metadata": {
            "tags": []
          },
          "execution_count": 53
        }
      ]
    },
    {
      "cell_type": "code",
      "metadata": {
        "id": "WR5JjoUf8fO2",
        "colab_type": "code",
        "colab": {}
      },
      "source": [
        "from sklearn.metrics import accuracy_score\n",
        "from sklearn.metrics import precision_score\n",
        "from sklearn.metrics import recall_score\n",
        "from sklearn.metrics import f1_score\n",
        "from sklearn.metrics import cohen_kappa_score\n",
        "from sklearn.metrics import roc_auc_score"
      ],
      "execution_count": null,
      "outputs": []
    },
    {
      "cell_type": "code",
      "metadata": {
        "id": "QPdBV1ie8h2Y",
        "colab_type": "code",
        "colab": {
          "base_uri": "https://localhost:8080/",
          "height": 34
        },
        "outputId": "1c9b39a8-f795-4be1-bb35-a9c85c4f7d62"
      },
      "source": [
        "Grey_accuracy = accuracy_score(GreyTestData.classes, Grey_predict_classes)\n",
        "print(\"Grey Accuracy: \", Grey_accuracy)"
      ],
      "execution_count": null,
      "outputs": [
        {
          "output_type": "stream",
          "text": [
            "Grey Accuracy:  0.8413333333333334\n"
          ],
          "name": "stdout"
        }
      ]
    },
    {
      "cell_type": "code",
      "metadata": {
        "id": "7NiliKD18jqU",
        "colab_type": "code",
        "colab": {
          "base_uri": "https://localhost:8080/",
          "height": 34
        },
        "outputId": "44f6e05c-1c90-48a1-ee3c-db360cd9fce2"
      },
      "source": [
        "Grey_precision = precision_score(GreyTestData.classes, Grey_predict_classes,average=\"weighted\")\n",
        "print(\"Grey Precision: \", Grey_precision)"
      ],
      "execution_count": null,
      "outputs": [
        {
          "output_type": "stream",
          "text": [
            "Grey Precision:  0.9308848810348809\n"
          ],
          "name": "stdout"
        }
      ]
    },
    {
      "cell_type": "code",
      "metadata": {
        "id": "b3jL4TNW8mPr",
        "colab_type": "code",
        "colab": {
          "base_uri": "https://localhost:8080/",
          "height": 34
        },
        "outputId": "b7fbd910-bda7-4177-ab5d-3505dcedc97d"
      },
      "source": [
        "Grey_recall = recall_score(GreyTestData.classes, Grey_predict_classes, average=\"weighted\")\n",
        "print(\"Grey Recall:\", Grey_recall)"
      ],
      "execution_count": null,
      "outputs": [
        {
          "output_type": "stream",
          "text": [
            "Grey Recall: 0.8413333333333334\n"
          ],
          "name": "stdout"
        }
      ]
    },
    {
      "cell_type": "code",
      "metadata": {
        "id": "z7DmNdV88o7H",
        "colab_type": "code",
        "colab": {
          "base_uri": "https://localhost:8080/",
          "height": 34
        },
        "outputId": "70b24d89-cdab-4521-db6d-4306144c0eff"
      },
      "source": [
        "Grey_f1_score = f1_score(GreyTestData.classes, Grey_predict_classes, average=\"weighted\")\n",
        "print(\"F1 score for Grey: \", Grey_f1_score)"
      ],
      "execution_count": null,
      "outputs": [
        {
          "output_type": "stream",
          "text": [
            "F1 score for Grey:  0.8653887362025671\n"
          ],
          "name": "stdout"
        }
      ]
    },
    {
      "cell_type": "code",
      "metadata": {
        "id": "w1E2CI9V8rK6",
        "colab_type": "code",
        "colab": {
          "base_uri": "https://localhost:8080/",
          "height": 34
        },
        "outputId": "a92e15f0-deb7-45ca-fa48-ceb6c20397dd"
      },
      "source": [
        "Colour_TrainingData =  DataGenerator.flow_from_directory('/content/drive/My Drive/curetDataSet/Train/', target_size=(224,224), batch_size=8)"
      ],
      "execution_count": null,
      "outputs": [
        {
          "output_type": "stream",
          "text": [
            "Found 12733 images belonging to 60 classes.\n"
          ],
          "name": "stdout"
        }
      ]
    },
    {
      "cell_type": "code",
      "metadata": {
        "id": "cm6wcs9_8xNl",
        "colab_type": "code",
        "colab": {
          "base_uri": "https://localhost:8080/",
          "height": 34
        },
        "outputId": "e8cbede1-6572-4302-a2aa-7e3595cb4446"
      },
      "source": [
        "Colour_ValidData =  DataGenerator.flow_from_directory('/content/drive/My Drive/curetDataSet/Valid/', target_size=(224,224), batch_size=8)"
      ],
      "execution_count": null,
      "outputs": [
        {
          "output_type": "stream",
          "text": [
            "Found 693 images belonging to 60 classes.\n"
          ],
          "name": "stdout"
        }
      ]
    },
    {
      "cell_type": "code",
      "metadata": {
        "id": "lRoP3DQE81Bn",
        "colab_type": "code",
        "colab": {}
      },
      "source": [
        "conv_base_colour = InceptionResNetV2(weights = 'imagenet', include_top = False, pooling = 'avg')"
      ],
      "execution_count": null,
      "outputs": []
    },
    {
      "cell_type": "code",
      "metadata": {
        "id": "iw3YDI5w9HoA",
        "colab_type": "code",
        "colab": {}
      },
      "source": [
        "for layer in conv_base.layers[:765]:\n",
        "  layer.trainable = False\n",
        "for layer in conv_base.layers[765:]:\n",
        "  layer.trainable = True\n",
        "for layer in conv_base.layers:\n",
        "  if isinstance(layer, BatchNormalization):\n",
        "    layer.trainable = True"
      ],
      "execution_count": null,
      "outputs": []
    },
    {
      "cell_type": "code",
      "metadata": {
        "id": "tTSM8DzJ9xsf",
        "colab_type": "code",
        "colab": {
          "base_uri": "https://localhost:8080/",
          "height": 1000
        },
        "outputId": "906e97ef-2df0-4233-b6f7-02b04ed55416"
      },
      "source": [
        "for i, layer in enumerate(conv_base.layers):\n",
        "  print(i, layer.name, layer.trainable)"
      ],
      "execution_count": null,
      "outputs": [
        {
          "output_type": "stream",
          "text": [
            "0 input_3 False\n",
            "1 conv2d_204 False\n",
            "2 batch_normalization_203 True\n",
            "3 activation_203 False\n",
            "4 conv2d_205 False\n",
            "5 batch_normalization_204 True\n",
            "6 activation_204 False\n",
            "7 conv2d_206 False\n",
            "8 batch_normalization_205 True\n",
            "9 activation_205 False\n",
            "10 max_pooling2d_4 False\n",
            "11 conv2d_207 False\n",
            "12 batch_normalization_206 True\n",
            "13 activation_206 False\n",
            "14 conv2d_208 False\n",
            "15 batch_normalization_207 True\n",
            "16 activation_207 False\n",
            "17 max_pooling2d_5 False\n",
            "18 conv2d_212 False\n",
            "19 batch_normalization_211 True\n",
            "20 activation_211 False\n",
            "21 conv2d_210 False\n",
            "22 conv2d_213 False\n",
            "23 batch_normalization_209 True\n",
            "24 batch_normalization_212 True\n",
            "25 activation_209 False\n",
            "26 activation_212 False\n",
            "27 average_pooling2d_1 False\n",
            "28 conv2d_209 False\n",
            "29 conv2d_211 False\n",
            "30 conv2d_214 False\n",
            "31 conv2d_215 False\n",
            "32 batch_normalization_208 True\n",
            "33 batch_normalization_210 True\n",
            "34 batch_normalization_213 True\n",
            "35 batch_normalization_214 True\n",
            "36 activation_208 False\n",
            "37 activation_210 False\n",
            "38 activation_213 False\n",
            "39 activation_214 False\n",
            "40 mixed_5b False\n",
            "41 conv2d_219 False\n",
            "42 batch_normalization_218 True\n",
            "43 activation_218 False\n",
            "44 conv2d_217 False\n",
            "45 conv2d_220 False\n",
            "46 batch_normalization_216 True\n",
            "47 batch_normalization_219 True\n",
            "48 activation_216 False\n",
            "49 activation_219 False\n",
            "50 conv2d_216 False\n",
            "51 conv2d_218 False\n",
            "52 conv2d_221 False\n",
            "53 batch_normalization_215 True\n",
            "54 batch_normalization_217 True\n",
            "55 batch_normalization_220 True\n",
            "56 activation_215 False\n",
            "57 activation_217 False\n",
            "58 activation_220 False\n",
            "59 block35_1_mixed False\n",
            "60 block35_1_conv False\n",
            "61 block35_1 False\n",
            "62 block35_1_ac False\n",
            "63 conv2d_225 False\n",
            "64 batch_normalization_224 True\n",
            "65 activation_224 False\n",
            "66 conv2d_223 False\n",
            "67 conv2d_226 False\n",
            "68 batch_normalization_222 True\n",
            "69 batch_normalization_225 True\n",
            "70 activation_222 False\n",
            "71 activation_225 False\n",
            "72 conv2d_222 False\n",
            "73 conv2d_224 False\n",
            "74 conv2d_227 False\n",
            "75 batch_normalization_221 True\n",
            "76 batch_normalization_223 True\n",
            "77 batch_normalization_226 True\n",
            "78 activation_221 False\n",
            "79 activation_223 False\n",
            "80 activation_226 False\n",
            "81 block35_2_mixed False\n",
            "82 block35_2_conv False\n",
            "83 block35_2 False\n",
            "84 block35_2_ac False\n",
            "85 conv2d_231 False\n",
            "86 batch_normalization_230 True\n",
            "87 activation_230 False\n",
            "88 conv2d_229 False\n",
            "89 conv2d_232 False\n",
            "90 batch_normalization_228 True\n",
            "91 batch_normalization_231 True\n",
            "92 activation_228 False\n",
            "93 activation_231 False\n",
            "94 conv2d_228 False\n",
            "95 conv2d_230 False\n",
            "96 conv2d_233 False\n",
            "97 batch_normalization_227 True\n",
            "98 batch_normalization_229 True\n",
            "99 batch_normalization_232 True\n",
            "100 activation_227 False\n",
            "101 activation_229 False\n",
            "102 activation_232 False\n",
            "103 block35_3_mixed False\n",
            "104 block35_3_conv False\n",
            "105 block35_3 False\n",
            "106 block35_3_ac False\n",
            "107 conv2d_237 False\n",
            "108 batch_normalization_236 True\n",
            "109 activation_236 False\n",
            "110 conv2d_235 False\n",
            "111 conv2d_238 False\n",
            "112 batch_normalization_234 True\n",
            "113 batch_normalization_237 True\n",
            "114 activation_234 False\n",
            "115 activation_237 False\n",
            "116 conv2d_234 False\n",
            "117 conv2d_236 False\n",
            "118 conv2d_239 False\n",
            "119 batch_normalization_233 True\n",
            "120 batch_normalization_235 True\n",
            "121 batch_normalization_238 True\n",
            "122 activation_233 False\n",
            "123 activation_235 False\n",
            "124 activation_238 False\n",
            "125 block35_4_mixed False\n",
            "126 block35_4_conv False\n",
            "127 block35_4 False\n",
            "128 block35_4_ac False\n",
            "129 conv2d_243 False\n",
            "130 batch_normalization_242 True\n",
            "131 activation_242 False\n",
            "132 conv2d_241 False\n",
            "133 conv2d_244 False\n",
            "134 batch_normalization_240 True\n",
            "135 batch_normalization_243 True\n",
            "136 activation_240 False\n",
            "137 activation_243 False\n",
            "138 conv2d_240 False\n",
            "139 conv2d_242 False\n",
            "140 conv2d_245 False\n",
            "141 batch_normalization_239 True\n",
            "142 batch_normalization_241 True\n",
            "143 batch_normalization_244 True\n",
            "144 activation_239 False\n",
            "145 activation_241 False\n",
            "146 activation_244 False\n",
            "147 block35_5_mixed False\n",
            "148 block35_5_conv False\n",
            "149 block35_5 False\n",
            "150 block35_5_ac False\n",
            "151 conv2d_249 False\n",
            "152 batch_normalization_248 True\n",
            "153 activation_248 False\n",
            "154 conv2d_247 False\n",
            "155 conv2d_250 False\n",
            "156 batch_normalization_246 True\n",
            "157 batch_normalization_249 True\n",
            "158 activation_246 False\n",
            "159 activation_249 False\n",
            "160 conv2d_246 False\n",
            "161 conv2d_248 False\n",
            "162 conv2d_251 False\n",
            "163 batch_normalization_245 True\n",
            "164 batch_normalization_247 True\n",
            "165 batch_normalization_250 True\n",
            "166 activation_245 False\n",
            "167 activation_247 False\n",
            "168 activation_250 False\n",
            "169 block35_6_mixed False\n",
            "170 block35_6_conv False\n",
            "171 block35_6 False\n",
            "172 block35_6_ac False\n",
            "173 conv2d_255 False\n",
            "174 batch_normalization_254 True\n",
            "175 activation_254 False\n",
            "176 conv2d_253 False\n",
            "177 conv2d_256 False\n",
            "178 batch_normalization_252 True\n",
            "179 batch_normalization_255 True\n",
            "180 activation_252 False\n",
            "181 activation_255 False\n",
            "182 conv2d_252 False\n",
            "183 conv2d_254 False\n",
            "184 conv2d_257 False\n",
            "185 batch_normalization_251 True\n",
            "186 batch_normalization_253 True\n",
            "187 batch_normalization_256 True\n",
            "188 activation_251 False\n",
            "189 activation_253 False\n",
            "190 activation_256 False\n",
            "191 block35_7_mixed False\n",
            "192 block35_7_conv False\n",
            "193 block35_7 False\n",
            "194 block35_7_ac False\n",
            "195 conv2d_261 False\n",
            "196 batch_normalization_260 True\n",
            "197 activation_260 False\n",
            "198 conv2d_259 False\n",
            "199 conv2d_262 False\n",
            "200 batch_normalization_258 True\n",
            "201 batch_normalization_261 True\n",
            "202 activation_258 False\n",
            "203 activation_261 False\n",
            "204 conv2d_258 False\n",
            "205 conv2d_260 False\n",
            "206 conv2d_263 False\n",
            "207 batch_normalization_257 True\n",
            "208 batch_normalization_259 True\n",
            "209 batch_normalization_262 True\n",
            "210 activation_257 False\n",
            "211 activation_259 False\n",
            "212 activation_262 False\n",
            "213 block35_8_mixed False\n",
            "214 block35_8_conv False\n",
            "215 block35_8 False\n",
            "216 block35_8_ac False\n",
            "217 conv2d_267 False\n",
            "218 batch_normalization_266 True\n",
            "219 activation_266 False\n",
            "220 conv2d_265 False\n",
            "221 conv2d_268 False\n",
            "222 batch_normalization_264 True\n",
            "223 batch_normalization_267 True\n",
            "224 activation_264 False\n",
            "225 activation_267 False\n",
            "226 conv2d_264 False\n",
            "227 conv2d_266 False\n",
            "228 conv2d_269 False\n",
            "229 batch_normalization_263 True\n",
            "230 batch_normalization_265 True\n",
            "231 batch_normalization_268 True\n",
            "232 activation_263 False\n",
            "233 activation_265 False\n",
            "234 activation_268 False\n",
            "235 block35_9_mixed False\n",
            "236 block35_9_conv False\n",
            "237 block35_9 False\n",
            "238 block35_9_ac False\n",
            "239 conv2d_273 False\n",
            "240 batch_normalization_272 True\n",
            "241 activation_272 False\n",
            "242 conv2d_271 False\n",
            "243 conv2d_274 False\n",
            "244 batch_normalization_270 True\n",
            "245 batch_normalization_273 True\n",
            "246 activation_270 False\n",
            "247 activation_273 False\n",
            "248 conv2d_270 False\n",
            "249 conv2d_272 False\n",
            "250 conv2d_275 False\n",
            "251 batch_normalization_269 True\n",
            "252 batch_normalization_271 True\n",
            "253 batch_normalization_274 True\n",
            "254 activation_269 False\n",
            "255 activation_271 False\n",
            "256 activation_274 False\n",
            "257 block35_10_mixed False\n",
            "258 block35_10_conv False\n",
            "259 block35_10 False\n",
            "260 block35_10_ac False\n",
            "261 conv2d_277 False\n",
            "262 batch_normalization_276 True\n",
            "263 activation_276 False\n",
            "264 conv2d_278 False\n",
            "265 batch_normalization_277 True\n",
            "266 activation_277 False\n",
            "267 conv2d_276 False\n",
            "268 conv2d_279 False\n",
            "269 batch_normalization_275 True\n",
            "270 batch_normalization_278 True\n",
            "271 activation_275 False\n",
            "272 activation_278 False\n",
            "273 max_pooling2d_6 False\n",
            "274 mixed_6a False\n",
            "275 conv2d_281 False\n",
            "276 batch_normalization_280 True\n",
            "277 activation_280 False\n",
            "278 conv2d_282 False\n",
            "279 batch_normalization_281 True\n",
            "280 activation_281 False\n",
            "281 conv2d_280 False\n",
            "282 conv2d_283 False\n",
            "283 batch_normalization_279 True\n",
            "284 batch_normalization_282 True\n",
            "285 activation_279 False\n",
            "286 activation_282 False\n",
            "287 block17_1_mixed False\n",
            "288 block17_1_conv False\n",
            "289 block17_1 False\n",
            "290 block17_1_ac False\n",
            "291 conv2d_285 False\n",
            "292 batch_normalization_284 True\n",
            "293 activation_284 False\n",
            "294 conv2d_286 False\n",
            "295 batch_normalization_285 True\n",
            "296 activation_285 False\n",
            "297 conv2d_284 False\n",
            "298 conv2d_287 False\n",
            "299 batch_normalization_283 True\n",
            "300 batch_normalization_286 True\n",
            "301 activation_283 False\n",
            "302 activation_286 False\n",
            "303 block17_2_mixed False\n",
            "304 block17_2_conv False\n",
            "305 block17_2 False\n",
            "306 block17_2_ac False\n",
            "307 conv2d_289 False\n",
            "308 batch_normalization_288 True\n",
            "309 activation_288 False\n",
            "310 conv2d_290 False\n",
            "311 batch_normalization_289 True\n",
            "312 activation_289 False\n",
            "313 conv2d_288 False\n",
            "314 conv2d_291 False\n",
            "315 batch_normalization_287 True\n",
            "316 batch_normalization_290 True\n",
            "317 activation_287 False\n",
            "318 activation_290 False\n",
            "319 block17_3_mixed False\n",
            "320 block17_3_conv False\n",
            "321 block17_3 False\n",
            "322 block17_3_ac False\n",
            "323 conv2d_293 False\n",
            "324 batch_normalization_292 True\n",
            "325 activation_292 False\n",
            "326 conv2d_294 False\n",
            "327 batch_normalization_293 True\n",
            "328 activation_293 False\n",
            "329 conv2d_292 False\n",
            "330 conv2d_295 False\n",
            "331 batch_normalization_291 True\n",
            "332 batch_normalization_294 True\n",
            "333 activation_291 False\n",
            "334 activation_294 False\n",
            "335 block17_4_mixed False\n",
            "336 block17_4_conv False\n",
            "337 block17_4 False\n",
            "338 block17_4_ac False\n",
            "339 conv2d_297 False\n",
            "340 batch_normalization_296 True\n",
            "341 activation_296 False\n",
            "342 conv2d_298 False\n",
            "343 batch_normalization_297 True\n",
            "344 activation_297 False\n",
            "345 conv2d_296 False\n",
            "346 conv2d_299 False\n",
            "347 batch_normalization_295 True\n",
            "348 batch_normalization_298 True\n",
            "349 activation_295 False\n",
            "350 activation_298 False\n",
            "351 block17_5_mixed False\n",
            "352 block17_5_conv False\n",
            "353 block17_5 False\n",
            "354 block17_5_ac False\n",
            "355 conv2d_301 False\n",
            "356 batch_normalization_300 True\n",
            "357 activation_300 False\n",
            "358 conv2d_302 False\n",
            "359 batch_normalization_301 True\n",
            "360 activation_301 False\n",
            "361 conv2d_300 False\n",
            "362 conv2d_303 False\n",
            "363 batch_normalization_299 True\n",
            "364 batch_normalization_302 True\n",
            "365 activation_299 False\n",
            "366 activation_302 False\n",
            "367 block17_6_mixed False\n",
            "368 block17_6_conv False\n",
            "369 block17_6 False\n",
            "370 block17_6_ac False\n",
            "371 conv2d_305 False\n",
            "372 batch_normalization_304 True\n",
            "373 activation_304 False\n",
            "374 conv2d_306 False\n",
            "375 batch_normalization_305 True\n",
            "376 activation_305 False\n",
            "377 conv2d_304 False\n",
            "378 conv2d_307 False\n",
            "379 batch_normalization_303 True\n",
            "380 batch_normalization_306 True\n",
            "381 activation_303 False\n",
            "382 activation_306 False\n",
            "383 block17_7_mixed False\n",
            "384 block17_7_conv False\n",
            "385 block17_7 False\n",
            "386 block17_7_ac False\n",
            "387 conv2d_309 False\n",
            "388 batch_normalization_308 True\n",
            "389 activation_308 False\n",
            "390 conv2d_310 False\n",
            "391 batch_normalization_309 True\n",
            "392 activation_309 False\n",
            "393 conv2d_308 False\n",
            "394 conv2d_311 False\n",
            "395 batch_normalization_307 True\n",
            "396 batch_normalization_310 True\n",
            "397 activation_307 False\n",
            "398 activation_310 False\n",
            "399 block17_8_mixed False\n",
            "400 block17_8_conv False\n",
            "401 block17_8 False\n",
            "402 block17_8_ac False\n",
            "403 conv2d_313 False\n",
            "404 batch_normalization_312 True\n",
            "405 activation_312 False\n",
            "406 conv2d_314 False\n",
            "407 batch_normalization_313 True\n",
            "408 activation_313 False\n",
            "409 conv2d_312 False\n",
            "410 conv2d_315 False\n",
            "411 batch_normalization_311 True\n",
            "412 batch_normalization_314 True\n",
            "413 activation_311 False\n",
            "414 activation_314 False\n",
            "415 block17_9_mixed False\n",
            "416 block17_9_conv False\n",
            "417 block17_9 False\n",
            "418 block17_9_ac False\n",
            "419 conv2d_317 False\n",
            "420 batch_normalization_316 True\n",
            "421 activation_316 False\n",
            "422 conv2d_318 False\n",
            "423 batch_normalization_317 True\n",
            "424 activation_317 False\n",
            "425 conv2d_316 False\n",
            "426 conv2d_319 False\n",
            "427 batch_normalization_315 True\n",
            "428 batch_normalization_318 True\n",
            "429 activation_315 False\n",
            "430 activation_318 False\n",
            "431 block17_10_mixed False\n",
            "432 block17_10_conv False\n",
            "433 block17_10 False\n",
            "434 block17_10_ac False\n",
            "435 conv2d_321 False\n",
            "436 batch_normalization_320 True\n",
            "437 activation_320 False\n",
            "438 conv2d_322 False\n",
            "439 batch_normalization_321 True\n",
            "440 activation_321 False\n",
            "441 conv2d_320 False\n",
            "442 conv2d_323 False\n",
            "443 batch_normalization_319 True\n",
            "444 batch_normalization_322 True\n",
            "445 activation_319 False\n",
            "446 activation_322 False\n",
            "447 block17_11_mixed False\n",
            "448 block17_11_conv False\n",
            "449 block17_11 False\n",
            "450 block17_11_ac False\n",
            "451 conv2d_325 False\n",
            "452 batch_normalization_324 True\n",
            "453 activation_324 False\n",
            "454 conv2d_326 False\n",
            "455 batch_normalization_325 True\n",
            "456 activation_325 False\n",
            "457 conv2d_324 False\n",
            "458 conv2d_327 False\n",
            "459 batch_normalization_323 True\n",
            "460 batch_normalization_326 True\n",
            "461 activation_323 False\n",
            "462 activation_326 False\n",
            "463 block17_12_mixed False\n",
            "464 block17_12_conv False\n",
            "465 block17_12 False\n",
            "466 block17_12_ac False\n",
            "467 conv2d_329 False\n",
            "468 batch_normalization_328 True\n",
            "469 activation_328 False\n",
            "470 conv2d_330 False\n",
            "471 batch_normalization_329 True\n",
            "472 activation_329 False\n",
            "473 conv2d_328 False\n",
            "474 conv2d_331 False\n",
            "475 batch_normalization_327 True\n",
            "476 batch_normalization_330 True\n",
            "477 activation_327 False\n",
            "478 activation_330 False\n",
            "479 block17_13_mixed False\n",
            "480 block17_13_conv False\n",
            "481 block17_13 False\n",
            "482 block17_13_ac False\n",
            "483 conv2d_333 False\n",
            "484 batch_normalization_332 True\n",
            "485 activation_332 False\n",
            "486 conv2d_334 False\n",
            "487 batch_normalization_333 True\n",
            "488 activation_333 False\n",
            "489 conv2d_332 False\n",
            "490 conv2d_335 False\n",
            "491 batch_normalization_331 True\n",
            "492 batch_normalization_334 True\n",
            "493 activation_331 False\n",
            "494 activation_334 False\n",
            "495 block17_14_mixed False\n",
            "496 block17_14_conv False\n",
            "497 block17_14 False\n",
            "498 block17_14_ac False\n",
            "499 conv2d_337 False\n",
            "500 batch_normalization_336 True\n",
            "501 activation_336 False\n",
            "502 conv2d_338 False\n",
            "503 batch_normalization_337 True\n",
            "504 activation_337 False\n",
            "505 conv2d_336 False\n",
            "506 conv2d_339 False\n",
            "507 batch_normalization_335 True\n",
            "508 batch_normalization_338 True\n",
            "509 activation_335 False\n",
            "510 activation_338 False\n",
            "511 block17_15_mixed False\n",
            "512 block17_15_conv False\n",
            "513 block17_15 False\n",
            "514 block17_15_ac False\n",
            "515 conv2d_341 False\n",
            "516 batch_normalization_340 True\n",
            "517 activation_340 False\n",
            "518 conv2d_342 False\n",
            "519 batch_normalization_341 True\n",
            "520 activation_341 False\n",
            "521 conv2d_340 False\n",
            "522 conv2d_343 False\n",
            "523 batch_normalization_339 True\n",
            "524 batch_normalization_342 True\n",
            "525 activation_339 False\n",
            "526 activation_342 False\n",
            "527 block17_16_mixed False\n",
            "528 block17_16_conv False\n",
            "529 block17_16 False\n",
            "530 block17_16_ac False\n",
            "531 conv2d_345 False\n",
            "532 batch_normalization_344 True\n",
            "533 activation_344 False\n",
            "534 conv2d_346 False\n",
            "535 batch_normalization_345 True\n",
            "536 activation_345 False\n",
            "537 conv2d_344 False\n",
            "538 conv2d_347 False\n",
            "539 batch_normalization_343 True\n",
            "540 batch_normalization_346 True\n",
            "541 activation_343 False\n",
            "542 activation_346 False\n",
            "543 block17_17_mixed False\n",
            "544 block17_17_conv False\n",
            "545 block17_17 False\n",
            "546 block17_17_ac False\n",
            "547 conv2d_349 False\n",
            "548 batch_normalization_348 True\n",
            "549 activation_348 False\n",
            "550 conv2d_350 False\n",
            "551 batch_normalization_349 True\n",
            "552 activation_349 False\n",
            "553 conv2d_348 False\n",
            "554 conv2d_351 False\n",
            "555 batch_normalization_347 True\n",
            "556 batch_normalization_350 True\n",
            "557 activation_347 False\n",
            "558 activation_350 False\n",
            "559 block17_18_mixed False\n",
            "560 block17_18_conv False\n",
            "561 block17_18 False\n",
            "562 block17_18_ac False\n",
            "563 conv2d_353 False\n",
            "564 batch_normalization_352 True\n",
            "565 activation_352 False\n",
            "566 conv2d_354 False\n",
            "567 batch_normalization_353 True\n",
            "568 activation_353 False\n",
            "569 conv2d_352 False\n",
            "570 conv2d_355 False\n",
            "571 batch_normalization_351 True\n",
            "572 batch_normalization_354 True\n",
            "573 activation_351 False\n",
            "574 activation_354 False\n",
            "575 block17_19_mixed False\n",
            "576 block17_19_conv False\n",
            "577 block17_19 False\n",
            "578 block17_19_ac False\n",
            "579 conv2d_357 False\n",
            "580 batch_normalization_356 True\n",
            "581 activation_356 False\n",
            "582 conv2d_358 False\n",
            "583 batch_normalization_357 True\n",
            "584 activation_357 False\n",
            "585 conv2d_356 False\n",
            "586 conv2d_359 False\n",
            "587 batch_normalization_355 True\n",
            "588 batch_normalization_358 True\n",
            "589 activation_355 False\n",
            "590 activation_358 False\n",
            "591 block17_20_mixed False\n",
            "592 block17_20_conv False\n",
            "593 block17_20 False\n",
            "594 block17_20_ac False\n",
            "595 conv2d_364 False\n",
            "596 batch_normalization_363 True\n",
            "597 activation_363 False\n",
            "598 conv2d_360 False\n",
            "599 conv2d_362 False\n",
            "600 conv2d_365 False\n",
            "601 batch_normalization_359 True\n",
            "602 batch_normalization_361 True\n",
            "603 batch_normalization_364 True\n",
            "604 activation_359 False\n",
            "605 activation_361 False\n",
            "606 activation_364 False\n",
            "607 conv2d_361 False\n",
            "608 conv2d_363 False\n",
            "609 conv2d_366 False\n",
            "610 batch_normalization_360 True\n",
            "611 batch_normalization_362 True\n",
            "612 batch_normalization_365 True\n",
            "613 activation_360 False\n",
            "614 activation_362 False\n",
            "615 activation_365 False\n",
            "616 max_pooling2d_7 False\n",
            "617 mixed_7a False\n",
            "618 conv2d_368 False\n",
            "619 batch_normalization_367 True\n",
            "620 activation_367 False\n",
            "621 conv2d_369 False\n",
            "622 batch_normalization_368 True\n",
            "623 activation_368 False\n",
            "624 conv2d_367 False\n",
            "625 conv2d_370 False\n",
            "626 batch_normalization_366 True\n",
            "627 batch_normalization_369 True\n",
            "628 activation_366 False\n",
            "629 activation_369 False\n",
            "630 block8_1_mixed False\n",
            "631 block8_1_conv False\n",
            "632 block8_1 False\n",
            "633 block8_1_ac False\n",
            "634 conv2d_372 False\n",
            "635 batch_normalization_371 True\n",
            "636 activation_371 False\n",
            "637 conv2d_373 False\n",
            "638 batch_normalization_372 True\n",
            "639 activation_372 False\n",
            "640 conv2d_371 False\n",
            "641 conv2d_374 False\n",
            "642 batch_normalization_370 True\n",
            "643 batch_normalization_373 True\n",
            "644 activation_370 False\n",
            "645 activation_373 False\n",
            "646 block8_2_mixed False\n",
            "647 block8_2_conv False\n",
            "648 block8_2 False\n",
            "649 block8_2_ac False\n",
            "650 conv2d_376 False\n",
            "651 batch_normalization_375 True\n",
            "652 activation_375 False\n",
            "653 conv2d_377 False\n",
            "654 batch_normalization_376 True\n",
            "655 activation_376 False\n",
            "656 conv2d_375 False\n",
            "657 conv2d_378 False\n",
            "658 batch_normalization_374 True\n",
            "659 batch_normalization_377 True\n",
            "660 activation_374 False\n",
            "661 activation_377 False\n",
            "662 block8_3_mixed False\n",
            "663 block8_3_conv False\n",
            "664 block8_3 False\n",
            "665 block8_3_ac False\n",
            "666 conv2d_380 False\n",
            "667 batch_normalization_379 True\n",
            "668 activation_379 False\n",
            "669 conv2d_381 False\n",
            "670 batch_normalization_380 True\n",
            "671 activation_380 False\n",
            "672 conv2d_379 False\n",
            "673 conv2d_382 False\n",
            "674 batch_normalization_378 True\n",
            "675 batch_normalization_381 True\n",
            "676 activation_378 False\n",
            "677 activation_381 False\n",
            "678 block8_4_mixed False\n",
            "679 block8_4_conv False\n",
            "680 block8_4 False\n",
            "681 block8_4_ac False\n",
            "682 conv2d_384 False\n",
            "683 batch_normalization_383 True\n",
            "684 activation_383 False\n",
            "685 conv2d_385 False\n",
            "686 batch_normalization_384 True\n",
            "687 activation_384 False\n",
            "688 conv2d_383 False\n",
            "689 conv2d_386 False\n",
            "690 batch_normalization_382 True\n",
            "691 batch_normalization_385 True\n",
            "692 activation_382 False\n",
            "693 activation_385 False\n",
            "694 block8_5_mixed False\n",
            "695 block8_5_conv False\n",
            "696 block8_5 False\n",
            "697 block8_5_ac False\n",
            "698 conv2d_388 False\n",
            "699 batch_normalization_387 True\n",
            "700 activation_387 False\n",
            "701 conv2d_389 False\n",
            "702 batch_normalization_388 True\n",
            "703 activation_388 False\n",
            "704 conv2d_387 False\n",
            "705 conv2d_390 False\n",
            "706 batch_normalization_386 True\n",
            "707 batch_normalization_389 True\n",
            "708 activation_386 False\n",
            "709 activation_389 False\n",
            "710 block8_6_mixed False\n",
            "711 block8_6_conv False\n",
            "712 block8_6 False\n",
            "713 block8_6_ac False\n",
            "714 conv2d_392 False\n",
            "715 batch_normalization_391 True\n",
            "716 activation_391 False\n",
            "717 conv2d_393 False\n",
            "718 batch_normalization_392 True\n",
            "719 activation_392 False\n",
            "720 conv2d_391 False\n",
            "721 conv2d_394 False\n",
            "722 batch_normalization_390 True\n",
            "723 batch_normalization_393 True\n",
            "724 activation_390 False\n",
            "725 activation_393 False\n",
            "726 block8_7_mixed False\n",
            "727 block8_7_conv False\n",
            "728 block8_7 False\n",
            "729 block8_7_ac False\n",
            "730 conv2d_396 False\n",
            "731 batch_normalization_395 True\n",
            "732 activation_395 False\n",
            "733 conv2d_397 False\n",
            "734 batch_normalization_396 True\n",
            "735 activation_396 False\n",
            "736 conv2d_395 False\n",
            "737 conv2d_398 False\n",
            "738 batch_normalization_394 True\n",
            "739 batch_normalization_397 True\n",
            "740 activation_394 False\n",
            "741 activation_397 False\n",
            "742 block8_8_mixed False\n",
            "743 block8_8_conv False\n",
            "744 block8_8 False\n",
            "745 block8_8_ac False\n",
            "746 conv2d_400 False\n",
            "747 batch_normalization_399 True\n",
            "748 activation_399 False\n",
            "749 conv2d_401 False\n",
            "750 batch_normalization_400 True\n",
            "751 activation_400 False\n",
            "752 conv2d_399 False\n",
            "753 conv2d_402 False\n",
            "754 batch_normalization_398 True\n",
            "755 batch_normalization_401 True\n",
            "756 activation_398 False\n",
            "757 activation_401 False\n",
            "758 block8_9_mixed False\n",
            "759 block8_9_conv False\n",
            "760 block8_9 False\n",
            "761 block8_9_ac False\n",
            "762 conv2d_404 False\n",
            "763 batch_normalization_403 True\n",
            "764 activation_403 False\n",
            "765 conv2d_405 True\n",
            "766 batch_normalization_404 True\n",
            "767 activation_404 True\n",
            "768 conv2d_403 True\n",
            "769 conv2d_406 True\n",
            "770 batch_normalization_402 True\n",
            "771 batch_normalization_405 True\n",
            "772 activation_402 True\n",
            "773 activation_405 True\n",
            "774 block8_10_mixed True\n",
            "775 block8_10_conv True\n",
            "776 block8_10 True\n",
            "777 conv_7b True\n",
            "778 conv_7b_bn True\n",
            "779 conv_7b_ac True\n",
            "780 global_average_pooling2d_1 True\n"
          ],
          "name": "stdout"
        }
      ]
    },
    {
      "cell_type": "code",
      "metadata": {
        "id": "E2waEzcK92d2",
        "colab_type": "code",
        "colab": {}
      },
      "source": [
        "from keras.layers import Input"
      ],
      "execution_count": null,
      "outputs": []
    },
    {
      "cell_type": "code",
      "metadata": {
        "id": "rHch9MVY-FGJ",
        "colab_type": "code",
        "colab": {}
      },
      "source": [
        "input_tensor = Input(shape=(224,224,3))"
      ],
      "execution_count": null,
      "outputs": []
    },
    {
      "cell_type": "code",
      "metadata": {
        "id": "zwcHRHrn-E1S",
        "colab_type": "code",
        "colab": {}
      },
      "source": [
        "x = conv_base_colour(input_tensor)"
      ],
      "execution_count": null,
      "outputs": []
    },
    {
      "cell_type": "code",
      "metadata": {
        "id": "btoK53RE-S6a",
        "colab_type": "code",
        "colab": {}
      },
      "source": [
        "x = Dense(2048, activation='relu', kernel_regularizer=regularizers.l2(0.001))(x)\n",
        "x = Dropout(0.5)(x)\n",
        "out = Dense(60, activation='softmax')(x)"
      ],
      "execution_count": null,
      "outputs": []
    },
    {
      "cell_type": "code",
      "metadata": {
        "id": "rbc25w-t-ujn",
        "colab_type": "code",
        "colab": {}
      },
      "source": [
        "model_colour = Model(inputs = input_tensor, outputs = out)"
      ],
      "execution_count": null,
      "outputs": []
    },
    {
      "cell_type": "code",
      "metadata": {
        "id": "fOT3FZcP-5fI",
        "colab_type": "code",
        "colab": {
          "base_uri": "https://localhost:8080/",
          "height": 323
        },
        "outputId": "45ed1ccd-c308-4cba-ce1b-9de4944aa8a7"
      },
      "source": [
        "model_colour.summary()"
      ],
      "execution_count": null,
      "outputs": [
        {
          "output_type": "stream",
          "text": [
            "Model: \"functional_5\"\n",
            "_________________________________________________________________\n",
            "Layer (type)                 Output Shape              Param #   \n",
            "=================================================================\n",
            "input_6 (InputLayer)         [(None, 224, 224, 3)]     0         \n",
            "_________________________________________________________________\n",
            "inception_resnet_v2 (Functio (None, 1536)              54336736  \n",
            "_________________________________________________________________\n",
            "dense_4 (Dense)              (None, 2048)              3147776   \n",
            "_________________________________________________________________\n",
            "dropout_2 (Dropout)          (None, 2048)              0         \n",
            "_________________________________________________________________\n",
            "dense_5 (Dense)              (None, 60)                122940    \n",
            "=================================================================\n",
            "Total params: 57,607,452\n",
            "Trainable params: 57,546,908\n",
            "Non-trainable params: 60,544\n",
            "_________________________________________________________________\n"
          ],
          "name": "stdout"
        }
      ]
    },
    {
      "cell_type": "code",
      "metadata": {
        "id": "Lqpn5go5-8v5",
        "colab_type": "code",
        "colab": {}
      },
      "source": [
        "model_colour.compile(loss='categorical_crossentropy',\n",
        "              optimizer=Adam(lr=0.001),\n",
        "              metrics=['accuracy'])"
      ],
      "execution_count": null,
      "outputs": []
    },
    {
      "cell_type": "code",
      "metadata": {
        "id": "af4WkeVK_ARA",
        "colab_type": "code",
        "colab": {}
      },
      "source": [
        "from keras.callbacks import ModelCheckpoint, EarlyStopping, ReduceLROnPlateau\n",
        "checkpoint = ModelCheckpoint(\"/content/drive/My Drive/curetDataSet/Curnet_InceptionResnet_V2_Colour.h5\",\n",
        "                             monitor=\"val_loss\",\n",
        "                             mode=\"min\",\n",
        "                             save_best_only = True,\n",
        "                             verbose=1)\n",
        "\n",
        "earlystop = EarlyStopping(monitor = 'val_loss', \n",
        "                          min_delta = 0, \n",
        "                          patience = 40,\n",
        "                          verbose = 1,\n",
        "                          restore_best_weights = True)\n",
        "\n",
        "reduce_lr = ReduceLROnPlateau(monitor = 'val_loss',\n",
        "                              factor = 0.2,\n",
        "                              patience = 40,\n",
        "                              verbose = 1,\n",
        "                              min_delta = 0.00001)\n",
        "\n",
        "callBacks = [earlystop, checkpoint, reduce_lr]"
      ],
      "execution_count": null,
      "outputs": []
    },
    {
      "cell_type": "code",
      "metadata": {
        "id": "X3sUkRZ1_Jcx",
        "colab_type": "code",
        "colab": {
          "base_uri": "https://localhost:8080/",
          "height": 1000
        },
        "outputId": "6e60ea06-ee7c-4cc1-d123-91f4bead7121"
      },
      "source": [
        "hist = model_colour.fit_generator(steps_per_epoch=1592,generator= Colour_TrainingData, validation_data= Colour_ValidData, validation_steps=87,epochs=35,callbacks=callBacks)"
      ],
      "execution_count": null,
      "outputs": [
        {
          "output_type": "stream",
          "text": [
            "Epoch 1/35\n",
            "1592/1592 [==============================] - ETA: 0s - loss: 3.1308 - accuracy: 0.2452\n",
            "Epoch 00001: val_loss improved from inf to 2.07020, saving model to /content/drive/My Drive/curetDataSet/Curnet_InceptionResnet_V2_Colour.h5\n",
            "1592/1592 [==============================] - 352s 221ms/step - loss: 3.1308 - accuracy: 0.2452 - val_loss: 2.0702 - val_accuracy: 0.4560\n",
            "Epoch 2/35\n",
            "1592/1592 [==============================] - ETA: 0s - loss: 1.5008 - accuracy: 0.5964\n",
            "Epoch 00002: val_loss improved from 2.07020 to 1.00843, saving model to /content/drive/My Drive/curetDataSet/Curnet_InceptionResnet_V2_Colour.h5\n",
            "1592/1592 [==============================] - 350s 220ms/step - loss: 1.5008 - accuracy: 0.5964 - val_loss: 1.0084 - val_accuracy: 0.7403\n",
            "Epoch 3/35\n",
            "1592/1592 [==============================] - ETA: 0s - loss: 1.0296 - accuracy: 0.7486\n",
            "Epoch 00003: val_loss improved from 1.00843 to 0.92410, saving model to /content/drive/My Drive/curetDataSet/Curnet_InceptionResnet_V2_Colour.h5\n",
            "1592/1592 [==============================] - 351s 221ms/step - loss: 1.0296 - accuracy: 0.7486 - val_loss: 0.9241 - val_accuracy: 0.7763\n",
            "Epoch 4/35\n",
            "1592/1592 [==============================] - ETA: 0s - loss: 0.8396 - accuracy: 0.8065\n",
            "Epoch 00004: val_loss improved from 0.92410 to 0.61586, saving model to /content/drive/My Drive/curetDataSet/Curnet_InceptionResnet_V2_Colour.h5\n",
            "1592/1592 [==============================] - 351s 221ms/step - loss: 0.8396 - accuracy: 0.8065 - val_loss: 0.6159 - val_accuracy: 0.8961\n",
            "Epoch 5/35\n",
            "1592/1592 [==============================] - ETA: 0s - loss: 0.6771 - accuracy: 0.8517\n",
            "Epoch 00005: val_loss improved from 0.61586 to 0.52020, saving model to /content/drive/My Drive/curetDataSet/Curnet_InceptionResnet_V2_Colour.h5\n",
            "1592/1592 [==============================] - 352s 221ms/step - loss: 0.6771 - accuracy: 0.8517 - val_loss: 0.5202 - val_accuracy: 0.9105\n",
            "Epoch 6/35\n",
            "1592/1592 [==============================] - ETA: 0s - loss: 0.6144 - accuracy: 0.8677\n",
            "Epoch 00006: val_loss improved from 0.52020 to 0.48814, saving model to /content/drive/My Drive/curetDataSet/Curnet_InceptionResnet_V2_Colour.h5\n",
            "1592/1592 [==============================] - 351s 221ms/step - loss: 0.6144 - accuracy: 0.8677 - val_loss: 0.4881 - val_accuracy: 0.9105\n",
            "Epoch 7/35\n",
            "1592/1592 [==============================] - ETA: 0s - loss: 0.5356 - accuracy: 0.8924\n",
            "Epoch 00007: val_loss improved from 0.48814 to 0.40604, saving model to /content/drive/My Drive/curetDataSet/Curnet_InceptionResnet_V2_Colour.h5\n",
            "1592/1592 [==============================] - 352s 221ms/step - loss: 0.5356 - accuracy: 0.8924 - val_loss: 0.4060 - val_accuracy: 0.9149\n",
            "Epoch 8/35\n",
            "1592/1592 [==============================] - ETA: 0s - loss: 0.5060 - accuracy: 0.8961\n",
            "Epoch 00008: val_loss improved from 0.40604 to 0.35400, saving model to /content/drive/My Drive/curetDataSet/Curnet_InceptionResnet_V2_Colour.h5\n",
            "1592/1592 [==============================] - 352s 221ms/step - loss: 0.5060 - accuracy: 0.8961 - val_loss: 0.3540 - val_accuracy: 0.9452\n",
            "Epoch 9/35\n",
            "1592/1592 [==============================] - ETA: 0s - loss: 0.4413 - accuracy: 0.9166\n",
            "Epoch 00009: val_loss did not improve from 0.35400\n",
            "1592/1592 [==============================] - 341s 214ms/step - loss: 0.4413 - accuracy: 0.9166 - val_loss: 1.8594 - val_accuracy: 0.5931\n",
            "Epoch 10/35\n",
            "1592/1592 [==============================] - ETA: 0s - loss: 0.4313 - accuracy: 0.9186\n",
            "Epoch 00010: val_loss did not improve from 0.35400\n",
            "1592/1592 [==============================] - 337s 212ms/step - loss: 0.4313 - accuracy: 0.9186 - val_loss: 0.5061 - val_accuracy: 0.9004\n",
            "Epoch 11/35\n",
            "1592/1592 [==============================] - ETA: 0s - loss: 0.3731 - accuracy: 0.9311\n",
            "Epoch 00011: val_loss improved from 0.35400 to 0.31071, saving model to /content/drive/My Drive/curetDataSet/Curnet_InceptionResnet_V2_Colour.h5\n",
            "1592/1592 [==============================] - 347s 218ms/step - loss: 0.3731 - accuracy: 0.9311 - val_loss: 0.3107 - val_accuracy: 0.9437\n",
            "Epoch 12/35\n",
            "1592/1592 [==============================] - ETA: 0s - loss: 0.3800 - accuracy: 0.9297\n",
            "Epoch 00012: val_loss did not improve from 0.31071\n",
            "1592/1592 [==============================] - 341s 214ms/step - loss: 0.3800 - accuracy: 0.9297 - val_loss: 0.3527 - val_accuracy: 0.9235\n",
            "Epoch 13/35\n",
            "1592/1592 [==============================] - ETA: 0s - loss: 0.3309 - accuracy: 0.9432\n",
            "Epoch 00013: val_loss improved from 0.31071 to 0.30585, saving model to /content/drive/My Drive/curetDataSet/Curnet_InceptionResnet_V2_Colour.h5\n",
            "1592/1592 [==============================] - 347s 218ms/step - loss: 0.3309 - accuracy: 0.9432 - val_loss: 0.3059 - val_accuracy: 0.9509\n",
            "Epoch 14/35\n",
            "1592/1592 [==============================] - ETA: 0s - loss: 0.3306 - accuracy: 0.9403\n",
            "Epoch 00014: val_loss improved from 0.30585 to 0.21924, saving model to /content/drive/My Drive/curetDataSet/Curnet_InceptionResnet_V2_Colour.h5\n",
            "1592/1592 [==============================] - 351s 221ms/step - loss: 0.3306 - accuracy: 0.9403 - val_loss: 0.2192 - val_accuracy: 0.9740\n",
            "Epoch 15/35\n",
            "1592/1592 [==============================] - ETA: 0s - loss: 0.3283 - accuracy: 0.9429\n",
            "Epoch 00015: val_loss did not improve from 0.21924\n",
            "1592/1592 [==============================] - 342s 215ms/step - loss: 0.3283 - accuracy: 0.9429 - val_loss: 0.2217 - val_accuracy: 0.9827\n",
            "Epoch 16/35\n",
            "1592/1592 [==============================] - ETA: 0s - loss: 0.2938 - accuracy: 0.9500\n",
            "Epoch 00016: val_loss improved from 0.21924 to 0.21403, saving model to /content/drive/My Drive/curetDataSet/Curnet_InceptionResnet_V2_Colour.h5\n",
            "1592/1592 [==============================] - 346s 218ms/step - loss: 0.2938 - accuracy: 0.9500 - val_loss: 0.2140 - val_accuracy: 0.9769\n",
            "Epoch 17/35\n",
            "1592/1592 [==============================] - ETA: 0s - loss: 0.2977 - accuracy: 0.9486\n",
            "Epoch 00017: val_loss did not improve from 0.21403\n",
            "1592/1592 [==============================] - 342s 215ms/step - loss: 0.2977 - accuracy: 0.9486 - val_loss: 0.2222 - val_accuracy: 0.9697\n",
            "Epoch 18/35\n",
            "1592/1592 [==============================] - ETA: 0s - loss: 0.2770 - accuracy: 0.9527\n",
            "Epoch 00018: val_loss did not improve from 0.21403\n",
            "1592/1592 [==============================] - 338s 212ms/step - loss: 0.2770 - accuracy: 0.9527 - val_loss: 0.2605 - val_accuracy: 0.9596\n",
            "Epoch 19/35\n",
            "1592/1592 [==============================] - ETA: 0s - loss: 0.2684 - accuracy: 0.9536\n",
            "Epoch 00019: val_loss improved from 0.21403 to 0.15722, saving model to /content/drive/My Drive/curetDataSet/Curnet_InceptionResnet_V2_Colour.h5\n",
            "1592/1592 [==============================] - 349s 219ms/step - loss: 0.2684 - accuracy: 0.9536 - val_loss: 0.1572 - val_accuracy: 0.9856\n",
            "Epoch 20/35\n",
            "1592/1592 [==============================] - ETA: 0s - loss: 0.2483 - accuracy: 0.9608\n",
            "Epoch 00020: val_loss did not improve from 0.15722\n",
            "1592/1592 [==============================] - 342s 215ms/step - loss: 0.2483 - accuracy: 0.9608 - val_loss: 0.2989 - val_accuracy: 0.9380\n",
            "Epoch 21/35\n",
            "1592/1592 [==============================] - ETA: 0s - loss: 0.2409 - accuracy: 0.9619\n",
            "Epoch 00021: val_loss did not improve from 0.15722\n",
            "1592/1592 [==============================] - 337s 212ms/step - loss: 0.2409 - accuracy: 0.9619 - val_loss: 0.2357 - val_accuracy: 0.9683\n",
            "Epoch 22/35\n",
            "1592/1592 [==============================] - ETA: 0s - loss: 0.2520 - accuracy: 0.9586\n",
            "Epoch 00022: val_loss did not improve from 0.15722\n",
            "1592/1592 [==============================] - 338s 212ms/step - loss: 0.2520 - accuracy: 0.9586 - val_loss: 0.1967 - val_accuracy: 0.9798\n",
            "Epoch 23/35\n",
            "1592/1592 [==============================] - ETA: 0s - loss: 0.2436 - accuracy: 0.9615\n",
            "Epoch 00023: val_loss did not improve from 0.15722\n",
            "1592/1592 [==============================] - 338s 212ms/step - loss: 0.2436 - accuracy: 0.9615 - val_loss: 0.1698 - val_accuracy: 0.9798\n",
            "Epoch 24/35\n",
            "1592/1592 [==============================] - ETA: 0s - loss: 0.2161 - accuracy: 0.9673\n",
            "Epoch 00024: val_loss did not improve from 0.15722\n",
            "1592/1592 [==============================] - 338s 212ms/step - loss: 0.2161 - accuracy: 0.9673 - val_loss: 0.5864 - val_accuracy: 0.9481\n",
            "Epoch 25/35\n",
            "1592/1592 [==============================] - ETA: 0s - loss: 0.2389 - accuracy: 0.9618\n",
            "Epoch 00025: val_loss did not improve from 0.15722\n",
            "1592/1592 [==============================] - 338s 212ms/step - loss: 0.2389 - accuracy: 0.9618 - val_loss: 0.2817 - val_accuracy: 0.9437\n",
            "Epoch 26/35\n",
            "1592/1592 [==============================] - ETA: 0s - loss: 0.2083 - accuracy: 0.9693\n",
            "Epoch 00026: val_loss did not improve from 0.15722\n",
            "1592/1592 [==============================] - 338s 212ms/step - loss: 0.2083 - accuracy: 0.9693 - val_loss: 0.1602 - val_accuracy: 0.9812\n",
            "Epoch 27/35\n",
            "1592/1592 [==============================] - ETA: 0s - loss: 0.1979 - accuracy: 0.9728\n",
            "Epoch 00027: val_loss improved from 0.15722 to 0.13256, saving model to /content/drive/My Drive/curetDataSet/Curnet_InceptionResnet_V2_Colour.h5\n",
            "1592/1592 [==============================] - 349s 219ms/step - loss: 0.1979 - accuracy: 0.9728 - val_loss: 0.1326 - val_accuracy: 0.9870\n",
            "Epoch 28/35\n",
            "1592/1592 [==============================] - ETA: 0s - loss: 0.2028 - accuracy: 0.9688\n",
            "Epoch 00028: val_loss improved from 0.13256 to 0.12729, saving model to /content/drive/My Drive/curetDataSet/Curnet_InceptionResnet_V2_Colour.h5\n",
            "1592/1592 [==============================] - 351s 220ms/step - loss: 0.2028 - accuracy: 0.9688 - val_loss: 0.1273 - val_accuracy: 0.9899\n",
            "Epoch 29/35\n",
            "1592/1592 [==============================] - ETA: 0s - loss: 0.2015 - accuracy: 0.9709\n",
            "Epoch 00029: val_loss did not improve from 0.12729\n",
            "1592/1592 [==============================] - 342s 215ms/step - loss: 0.2015 - accuracy: 0.9709 - val_loss: 0.2521 - val_accuracy: 0.9553\n",
            "Epoch 30/35\n",
            "1592/1592 [==============================] - ETA: 0s - loss: 0.1853 - accuracy: 0.9724\n",
            "Epoch 00030: val_loss did not improve from 0.12729\n",
            "1592/1592 [==============================] - 337s 212ms/step - loss: 0.1853 - accuracy: 0.9724 - val_loss: 0.1772 - val_accuracy: 0.9755\n",
            "Epoch 31/35\n",
            "1592/1592 [==============================] - ETA: 0s - loss: 0.1974 - accuracy: 0.9694\n",
            "Epoch 00031: val_loss did not improve from 0.12729\n",
            "1592/1592 [==============================] - 338s 213ms/step - loss: 0.1974 - accuracy: 0.9694 - val_loss: 0.1581 - val_accuracy: 0.9870\n",
            "Epoch 32/35\n",
            "1592/1592 [==============================] - ETA: 0s - loss: 0.1752 - accuracy: 0.9769\n",
            "Epoch 00032: val_loss did not improve from 0.12729\n",
            "1592/1592 [==============================] - 337s 212ms/step - loss: 0.1752 - accuracy: 0.9769 - val_loss: 0.1301 - val_accuracy: 0.9827\n",
            "Epoch 33/35\n",
            "1592/1592 [==============================] - ETA: 0s - loss: 0.2323 - accuracy: 0.9599\n",
            "Epoch 00033: val_loss did not improve from 0.12729\n",
            "1592/1592 [==============================] - 338s 212ms/step - loss: 0.2323 - accuracy: 0.9599 - val_loss: 1.6359 - val_accuracy: 0.9004\n",
            "Epoch 34/35\n",
            "1592/1592 [==============================] - ETA: 0s - loss: 0.2621 - accuracy: 0.9542\n",
            "Epoch 00034: val_loss did not improve from 0.12729\n",
            "1592/1592 [==============================] - 337s 212ms/step - loss: 0.2621 - accuracy: 0.9542 - val_loss: 0.1464 - val_accuracy: 0.9870\n",
            "Epoch 35/35\n",
            "1592/1592 [==============================] - ETA: 0s - loss: 0.2187 - accuracy: 0.9645\n",
            "Epoch 00035: val_loss did not improve from 0.12729\n",
            "1592/1592 [==============================] - 337s 212ms/step - loss: 0.2187 - accuracy: 0.9645 - val_loss: 0.2899 - val_accuracy: 0.9726\n"
          ],
          "name": "stdout"
        }
      ]
    },
    {
      "cell_type": "code",
      "metadata": {
        "id": "uMLD4IMUCmf3",
        "colab_type": "code",
        "colab": {
          "base_uri": "https://localhost:8080/",
          "height": 295
        },
        "outputId": "4aa13e1f-bc54-4306-e046-01665a5b53bf"
      },
      "source": [
        "import matplotlib.pyplot as plt\n",
        "plt.plot(hist.history[\"accuracy\"])\n",
        "plt.plot(hist.history['val_accuracy'])\n",
        "plt.title(\"model accuracy\")\n",
        "plt.ylabel(\"Accuracy\")\n",
        "plt.xlabel(\"Epoch\")\n",
        "plt.legend([\"Accuracy\",\"Validation Accuracy\"])\n",
        "plt.show()"
      ],
      "execution_count": null,
      "outputs": [
        {
          "output_type": "display_data",
          "data": {
            "image/png": "[encoded data removed]",
            "text/plain": [
              "<Figure size 432x288 with 1 Axes>"
            ]
          },
          "metadata": {
            "tags": [],
            "needs_background": "light"
          }
        }
      ]
    },
    {
      "cell_type": "code",
      "metadata": {
        "id": "jc0kbAi4Cxa8",
        "colab_type": "code",
        "colab": {
          "base_uri": "https://localhost:8080/",
          "height": 295
        },
        "outputId": "089950f1-c7e8-45ef-f540-05c433d579f3"
      },
      "source": [
        "plt.plot(hist.history['loss'])\n",
        "plt.plot(hist.history['val_loss'])\n",
        "plt.title(\"model Loss\")\n",
        "plt.ylabel(\"Loss\")\n",
        "plt.xlabel(\"Epoch\")\n",
        "plt.legend([\"Loss\",\"Validation Loss\"])\n",
        "plt.show()"
      ],
      "execution_count": null,
      "outputs": [
        {
          "output_type": "display_data",
          "data": {
            "image/png": "[encoded data removed]",
            "text/plain": [
              "<Figure size 432x288 with 1 Axes>"
            ]
          },
          "metadata": {
            "tags": [],
            "needs_background": "light"
          }
        }
      ]
    },
    {
      "cell_type": "code",
      "metadata": {
        "id": "LvKgX9gXCzau",
        "colab_type": "code",
        "colab": {
          "base_uri": "https://localhost:8080/",
          "height": 34
        },
        "outputId": "4fdf0bd5-9c7e-48c1-bbaa-84b06b8d6be0"
      },
      "source": [
        "Colour_TestData = TestGenerator.flow_from_directory('/content/drive/My Drive/curetDataSet/Test/', target_size=(224,224), batch_size = 8, shuffle = False)"
      ],
      "execution_count": null,
      "outputs": [
        {
          "output_type": "stream",
          "text": [
            "Found 750 images belonging to 60 classes.\n"
          ],
          "name": "stdout"
        }
      ]
    },
    {
      "cell_type": "code",
      "metadata": {
        "id": "TfFEa-1yD2wJ",
        "colab_type": "code",
        "colab": {}
      },
      "source": [
        "model_colour.load_weights('/content/drive/My Drive/curetDataSet/Curnet_InceptionResnet_V2_Colour.h5')"
      ],
      "execution_count": null,
      "outputs": []
    },
    {
      "cell_type": "code",
      "metadata": {
        "id": "3eWaWhTCC3Gb",
        "colab_type": "code",
        "colab": {}
      },
      "source": [
        "Colour_predict = model_colour.predict(Colour_TestData)"
      ],
      "execution_count": null,
      "outputs": []
    },
    {
      "cell_type": "code",
      "metadata": {
        "id": "hvkRpKFiC5nf",
        "colab_type": "code",
        "colab": {}
      },
      "source": [
        "Colour_predict_classes = np.argmax(Colour_predict, axis=1)"
      ],
      "execution_count": null,
      "outputs": []
    },
    {
      "cell_type": "code",
      "metadata": {
        "id": "LbEtb9-FC74e",
        "colab_type": "code",
        "colab": {
          "base_uri": "https://localhost:8080/",
          "height": 782
        },
        "outputId": "cf4f2ada-615d-44f9-ee95-6add674aa02a"
      },
      "source": [
        "Colour_predict_classes"
      ],
      "execution_count": null,
      "outputs": [
        {
          "output_type": "execute_result",
          "data": {
            "text/plain": [
              "array([ 0,  0,  0,  0,  0,  0,  0,  0,  0,  0,  0, 40,  1,  1,  1,  1,  1,\n",
              "        1,  1,  1,  1,  1,  1,  2,  2,  2,  2,  2,  2,  2,  2,  2,  2,  2,\n",
              "        3,  3,  3,  3,  1,  3,  3,  3,  3,  3,  3,  4,  4,  4,  4,  4,  4,\n",
              "        4,  4,  4,  4,  4,  5,  5,  5,  5,  5,  5, 53,  5,  5,  5,  5,  6,\n",
              "        6,  6,  6,  6,  6,  6,  6,  6,  6,  6,  7,  7,  7,  7,  7,  7,  7,\n",
              "        7,  7,  7, 45,  8,  8,  8,  8,  8,  8,  8,  8,  8,  8,  8,  9,  9,\n",
              "        9,  9,  9,  9,  9,  9,  9,  9,  9, 10, 10, 10, 10, 10, 10, 10, 10,\n",
              "       10, 10, 10, 11, 11, 11, 11, 11, 11, 11, 11, 11, 11, 11, 12, 12, 12,\n",
              "       12, 12, 12, 12, 12, 12, 12, 12, 13, 13, 13, 13, 13, 13, 13, 13, 13,\n",
              "       13, 13, 14, 14, 14, 14, 14, 14, 14, 14, 14, 14, 14, 15, 15, 15, 15,\n",
              "       15, 15, 15, 15, 15, 15, 15, 16, 16, 16, 16, 16, 16, 16, 16, 40, 16,\n",
              "       16, 17, 17, 17, 17, 17, 17, 17, 17, 17, 17, 17, 18, 18, 18, 18, 18,\n",
              "       18, 18, 18, 18, 18, 18, 19, 19, 19, 19, 19, 53, 19, 19, 19, 19, 19,\n",
              "       20, 20, 20, 20, 20, 20, 20, 20, 20, 20, 20, 21, 21, 21, 21, 21, 21,\n",
              "       21, 21, 21, 21, 21, 22, 22, 22, 22, 22, 22, 22, 22, 22, 22, 22, 23,\n",
              "       23, 23, 23, 23, 23, 23, 23, 23, 23, 11, 24, 24, 24, 24, 24, 24, 24,\n",
              "       24, 24, 24, 24, 25, 25, 25, 25, 25, 25, 25, 25, 25, 25, 25, 26, 26,\n",
              "       26, 26, 26, 26, 26, 26, 26, 26, 26, 27, 27, 27, 27, 27, 27, 27, 27,\n",
              "       27, 27, 27, 28, 28, 28, 28, 28, 28, 28, 28, 28, 28, 28, 29, 29, 29,\n",
              "       29, 29, 29, 29, 29, 29, 29, 29, 30, 30, 30, 30, 30, 30, 30, 30, 30,\n",
              "       30, 30, 31, 31, 31, 31, 31, 31, 31, 31, 31, 11, 31, 32, 32, 32, 34,\n",
              "       32, 32, 32, 32, 32, 32, 53, 33, 33, 33, 33, 33, 33, 33, 33, 33, 33,\n",
              "       34, 34, 34, 34, 34, 34, 34, 34, 34, 34, 34, 35, 35, 35, 35, 35, 35,\n",
              "       35, 35, 35, 35, 35, 36, 36, 36, 36, 36, 36, 36, 36, 36,  8, 40, 36,\n",
              "       36, 36, 36, 36, 36, 36, 36, 36, 36, 37, 37, 37, 37, 37, 37, 37, 37,\n",
              "       37, 37, 52, 38, 38, 38, 38, 38, 38, 38, 38, 38, 38, 45, 38, 38, 38,\n",
              "       38, 38, 38, 38, 38, 38, 38, 39, 39, 39, 39, 39, 39, 39, 39, 39, 39,\n",
              "       39, 40, 40, 40, 40, 40, 40, 40, 40, 40, 40, 40, 40, 40, 40, 40, 40,\n",
              "       40, 40, 40, 34, 40, 41, 41, 41, 41, 41, 41, 41, 41, 41, 41, 41, 42,\n",
              "       42, 42, 42, 42, 42, 42, 42, 42, 42, 42, 42, 42, 42, 42, 42, 42, 42,\n",
              "       42, 42, 42, 43, 43, 43, 43, 43, 43, 43, 43, 43, 43, 43, 44, 44, 44,\n",
              "       44, 44, 44, 44, 44, 44, 44, 44, 44, 44, 44, 44, 44, 44, 44, 44, 44,\n",
              "       44, 45, 45, 45, 45, 45, 45, 45, 45, 45, 45, 45, 46, 46, 46, 46, 46,\n",
              "       46, 46, 46, 46, 46, 46, 40, 47, 47, 47, 47, 38, 47, 47, 47, 47, 47,\n",
              "       48, 48, 48, 38, 48, 48, 48, 48, 48, 48, 48, 49, 49, 49, 49, 54, 36,\n",
              "       49, 49, 49, 49, 49, 49, 49, 34, 49, 49, 49, 49, 49, 54, 49, 50, 50,\n",
              "       50, 50, 50, 50, 50, 50, 50, 50, 50, 51, 51, 51, 38, 51, 51, 51, 51,\n",
              "       51, 51, 51, 52, 52, 52, 52, 52, 52, 52, 52, 52, 52, 52, 52, 52, 52,\n",
              "       52, 52, 52, 52, 52, 52, 52, 53, 53, 53, 53, 53, 53, 53, 53, 53, 53,\n",
              "       53, 54, 54, 54, 54, 54, 54, 54, 54, 54, 54, 54, 54, 53, 53, 54, 54,\n",
              "       54, 54, 54, 54, 54, 55, 55, 55, 55, 55, 55, 55, 55, 55, 55, 37, 56,\n",
              "       56, 56, 56, 56, 56, 56, 56, 56, 56, 56, 56, 56, 56, 56, 56, 56, 56,\n",
              "       56, 56, 56, 57, 57, 57, 57, 57, 57, 57, 57, 57, 57, 57, 58, 58, 58,\n",
              "       58, 58, 37, 58, 58, 58, 58, 58, 59, 59, 59, 59, 59, 59, 59, 59, 59,\n",
              "       59, 59])"
            ]
          },
          "metadata": {
            "tags": []
          },
          "execution_count": 78
        }
      ]
    },
    {
      "cell_type": "code",
      "metadata": {
        "id": "Iw1lsUfjC-D_",
        "colab_type": "code",
        "colab": {
          "base_uri": "https://localhost:8080/",
          "height": 34
        },
        "outputId": "7ad35e46-c207-4129-9639-19e9a3b457c2"
      },
      "source": [
        "Colour_accuracy = accuracy_score(Colour_TestData.classes, Colour_predict_classes)\n",
        "print(\"Colour Accuracy: \", Colour_accuracy)"
      ],
      "execution_count": null,
      "outputs": [
        {
          "output_type": "stream",
          "text": [
            "Colour Accuracy:  0.964\n"
          ],
          "name": "stdout"
        }
      ]
    },
    {
      "cell_type": "code",
      "metadata": {
        "id": "ApnHQXetDAeM",
        "colab_type": "code",
        "colab": {
          "base_uri": "https://localhost:8080/",
          "height": 34
        },
        "outputId": "5ab56901-f859-4a66-b171-f9a3308d3a1e"
      },
      "source": [
        "Colour_precision = precision_score(Colour_TestData.classes, Colour_predict_classes,average=\"weighted\")\n",
        "print(\"Colour Precision: \", Colour_precision)"
      ],
      "execution_count": null,
      "outputs": [
        {
          "output_type": "stream",
          "text": [
            "Colour Precision:  0.969213865602996\n"
          ],
          "name": "stdout"
        }
      ]
    },
    {
      "cell_type": "code",
      "metadata": {
        "id": "RmbpPJzhDClB",
        "colab_type": "code",
        "colab": {
          "base_uri": "https://localhost:8080/",
          "height": 34
        },
        "outputId": "94ce47bb-4c48-425a-91d5-4a750efc2705"
      },
      "source": [
        "Colour_recall = recall_score(Colour_TestData.classes, Colour_predict_classes, average=\"weighted\")\n",
        "print(\"Colour Recall:\", Colour_recall)"
      ],
      "execution_count": null,
      "outputs": [
        {
          "output_type": "stream",
          "text": [
            "Colour Recall: 0.964\n"
          ],
          "name": "stdout"
        }
      ]
    },
    {
      "cell_type": "code",
      "metadata": {
        "id": "fzfH4Lf2DE9V",
        "colab_type": "code",
        "colab": {
          "base_uri": "https://localhost:8080/",
          "height": 34
        },
        "outputId": "d561d8f0-6cd3-4a3d-e652-8526c423d38a"
      },
      "source": [
        "Colour_f1_score = f1_score(Colour_TestData.classes, Colour_predict_classes, average=\"weighted\")\n",
        "print(\"F1 score for colour: \", Colour_f1_score)"
      ],
      "execution_count": null,
      "outputs": [
        {
          "output_type": "stream",
          "text": [
            "F1 score for colour:  0.9646090311631645\n"
          ],
          "name": "stdout"
        }
      ]
    },
    {
      "cell_type": "code",
      "metadata": {
        "id": "CQl0dS6LDHn8",
        "colab_type": "code",
        "colab": {}
      },
      "source": [
        "Final = 0.6* Colour_predict + 0.4* Grey_predict"
      ],
      "execution_count": null,
      "outputs": []
    },
    {
      "cell_type": "code",
      "metadata": {
        "id": "0JqWWHGjDKDB",
        "colab_type": "code",
        "colab": {}
      },
      "source": [
        "Final_Predict_classes = np.argmax(Final, axis=1)"
      ],
      "execution_count": null,
      "outputs": []
    },
    {
      "cell_type": "code",
      "metadata": {
        "id": "Slbh9VckDMZ8",
        "colab_type": "code",
        "colab": {
          "base_uri": "https://localhost:8080/",
          "height": 782
        },
        "outputId": "fb824282-3fb5-4fc1-9943-410af5bbc82d"
      },
      "source": [
        "Final_Predict_classes"
      ],
      "execution_count": null,
      "outputs": [
        {
          "output_type": "execute_result",
          "data": {
            "text/plain": [
              "array([ 0,  0,  0,  0,  0,  0,  0,  0,  0,  0,  0,  4,  1,  1,  1,  1,  1,\n",
              "        1,  1,  1,  1,  1,  1,  2,  2,  2,  2,  2,  2,  2,  2,  2,  2,  2,\n",
              "        3,  3,  3,  3,  1,  3,  3,  3,  3,  3,  3,  4,  4,  4,  4,  4,  4,\n",
              "        4,  4,  4,  4,  4,  5,  5,  5,  5,  5,  5,  5,  5,  5,  5,  5,  6,\n",
              "        6,  6,  6,  6,  6,  6,  6,  6,  6,  6,  7,  7,  7,  7,  7,  7,  7,\n",
              "        7,  7,  7,  7,  8,  8,  8,  8,  8,  8,  8,  8,  8,  8,  8,  9,  9,\n",
              "        9,  9,  9,  9,  9,  9,  9,  9,  9, 10, 10, 10, 10, 10, 10, 10, 10,\n",
              "       10, 10, 10, 11, 11, 11, 11, 11, 11, 11, 11, 11, 11, 11, 12, 12, 12,\n",
              "       12, 12, 12, 12, 12, 12, 12, 12, 13, 13, 13, 13, 13, 13, 13, 13, 13,\n",
              "       13, 13, 14, 14, 14, 14, 14, 14, 14, 14, 14, 14, 14, 15, 15, 15, 15,\n",
              "       15, 15, 15, 15, 15, 15, 15, 16, 16, 16, 16, 16, 16, 16, 16, 16, 16,\n",
              "       16, 17, 17, 17, 17, 17, 17, 17, 17, 17, 17, 17, 18, 18, 18, 18, 18,\n",
              "       18, 18, 18, 18, 18, 18, 19, 19, 19, 19, 19, 53, 19, 19, 19, 19, 19,\n",
              "       20, 20, 20, 20, 20, 20, 20, 20, 20, 20, 20, 21, 21, 10, 21, 21, 21,\n",
              "       21, 21, 21, 21, 21, 22, 22, 22, 22, 22, 22, 22, 22, 22, 22, 22, 23,\n",
              "       23, 23, 23, 23, 23, 23, 23, 23, 23, 11, 24, 24, 24, 24, 24, 24, 24,\n",
              "       24, 24, 24, 24, 25, 25, 25, 25, 25, 25, 25, 25, 25, 25, 25, 26, 26,\n",
              "       26, 26, 26, 26, 26, 26, 26, 26, 26, 27, 27, 27, 27, 27, 27, 27, 27,\n",
              "       27, 27, 27, 28, 28, 28, 28, 28, 28, 28, 28, 28, 28, 28, 29, 29, 29,\n",
              "       29, 29, 29, 29, 29, 29, 29, 29, 30, 30, 30, 30, 30, 30, 30, 30, 30,\n",
              "       30, 30, 31, 31, 31, 31, 31, 31, 31, 31, 31, 11, 31, 32, 32, 32, 34,\n",
              "       32, 32, 32, 32, 32, 32, 53, 33, 33, 33, 33, 33, 33, 33, 33, 33, 33,\n",
              "       34, 34, 34, 34, 34, 34, 34, 34, 34, 34, 34, 35, 35, 35, 35, 35, 35,\n",
              "       35, 35, 35, 35, 35, 36, 36, 36, 36, 36, 36, 36, 36, 36,  8, 40, 36,\n",
              "       36, 36, 36, 36, 36, 36, 36, 36, 36, 37, 37, 37, 37, 37, 37, 37, 37,\n",
              "       37, 37, 52, 38, 38, 38, 38, 38, 38, 38, 38, 38, 38, 38, 38, 38, 38,\n",
              "       38, 38, 38, 38, 38, 38, 38, 39, 39, 39, 39, 39, 39, 39, 39, 39, 39,\n",
              "       39, 40, 40, 40, 40, 40, 40, 40, 40, 40, 40, 40, 40, 40, 40, 40, 40,\n",
              "       40, 40, 40, 34, 49, 41, 41, 41, 41, 41, 41, 41, 41, 41, 41, 41, 42,\n",
              "       42, 42, 42, 42, 42, 42, 42, 42, 42, 42, 42, 42, 42, 42, 42, 42, 42,\n",
              "       42, 42, 42, 43, 43, 43, 43, 43, 43, 43, 43, 43, 43, 43, 44, 44, 44,\n",
              "       44, 44, 44, 44, 44, 44, 44, 44, 44, 44, 44, 44, 44, 44, 44, 44, 44,\n",
              "       44, 45, 45, 45, 45, 45, 45, 45, 45, 45, 45, 45, 46, 46, 46, 46, 46,\n",
              "       46, 46, 46, 46, 46, 46, 10, 47, 47, 47, 47, 38, 47, 47, 47, 47, 47,\n",
              "       48, 48, 48, 48, 48, 48, 48, 48, 48, 48, 48, 49, 49, 49, 49, 54, 49,\n",
              "       49, 49, 49, 49, 49, 49, 49, 34, 49, 49, 49, 49, 49, 54, 49, 50, 50,\n",
              "       50, 50, 50, 50, 50, 50, 50, 50, 50, 51, 51, 51, 38, 51, 51, 51, 51,\n",
              "       51, 51, 51, 52, 52, 52, 52, 52, 52, 52, 52, 52, 52, 52, 52, 52, 52,\n",
              "       52, 52, 52, 52, 52, 52, 52, 53, 53, 53, 53, 53, 53, 53, 53, 53, 53,\n",
              "       53, 54, 54, 54, 54, 54, 54, 54, 54, 54, 54, 54, 54, 54, 53, 54, 54,\n",
              "       54, 54, 54, 54, 54, 55, 55, 55, 55, 55, 55, 55, 55, 55, 55, 52, 56,\n",
              "       56, 56, 56, 56, 56, 56, 56, 56, 56, 56, 56, 56, 56, 56, 56, 56, 56,\n",
              "       56, 56, 56, 57, 57, 57, 57, 57, 57, 57, 57, 57, 57, 57, 58, 58, 58,\n",
              "       58, 58, 37, 58, 58, 58, 58, 58, 59, 59, 59, 59, 59, 59, 59, 59, 59,\n",
              "       59, 59])"
            ]
          },
          "metadata": {
            "tags": []
          },
          "execution_count": 85
        }
      ]
    },
    {
      "cell_type": "code",
      "metadata": {
        "id": "OLWfl9CGDPrf",
        "colab_type": "code",
        "colab": {
          "base_uri": "https://localhost:8080/",
          "height": 34
        },
        "outputId": "245b08ae-7f48-43ea-e58b-15fc5cc7e0e9"
      },
      "source": [
        "Final_accuracy = accuracy_score(Colour_TestData.classes, Final_Predict_classes)\n",
        "print(\"Colour Accuracy: \", Final_accuracy)"
      ],
      "execution_count": null,
      "outputs": [
        {
          "output_type": "stream",
          "text": [
            "Colour Accuracy:  0.9706666666666667\n"
          ],
          "name": "stdout"
        }
      ]
    },
    {
      "cell_type": "code",
      "metadata": {
        "id": "pZJKf__NDQcy",
        "colab_type": "code",
        "colab": {
          "base_uri": "https://localhost:8080/",
          "height": 34
        },
        "outputId": "dfc506e1-1ff5-4a66-9b94-f208d6a05d15"
      },
      "source": [
        "Final_precision = precision_score(Colour_TestData.classes, Final_Predict_classes,average=\"weighted\")\n",
        "print(\"Colour Precision: \", Final_precision)"
      ],
      "execution_count": null,
      "outputs": [
        {
          "output_type": "stream",
          "text": [
            "Colour Precision:  0.973912761228093\n"
          ],
          "name": "stdout"
        }
      ]
    },
    {
      "cell_type": "code",
      "metadata": {
        "id": "MKGLdsciDSZI",
        "colab_type": "code",
        "colab": {
          "base_uri": "https://localhost:8080/",
          "height": 34
        },
        "outputId": "e0248cee-b756-49b7-e1f7-209532cd9166"
      },
      "source": [
        "Final_recall = recall_score(Colour_TestData.classes, Final_Predict_classes, average=\"weighted\")\n",
        "print(\"Colour Recall:\", Final_recall)"
      ],
      "execution_count": null,
      "outputs": [
        {
          "output_type": "stream",
          "text": [
            "Colour Recall: 0.9706666666666667\n"
          ],
          "name": "stdout"
        }
      ]
    },
    {
      "cell_type": "code",
      "metadata": {
        "id": "EA6IUfpfDUJV",
        "colab_type": "code",
        "colab": {
          "base_uri": "https://localhost:8080/",
          "height": 34
        },
        "outputId": "616e263b-f1a7-416f-c8dc-47dc8a55a54c"
      },
      "source": [
        "Final_f1_score = f1_score(Colour_TestData.classes, Final_Predict_classes, average=\"weighted\")\n",
        "print(\"F1 score for colour: \", Final_f1_score)"
      ],
      "execution_count": null,
      "outputs": [
        {
          "output_type": "stream",
          "text": [
            "F1 score for colour:  0.970825168244061\n"
          ],
          "name": "stdout"
        }
      ]
    },
    {
      "cell_type": "code",
      "metadata": {
        "id": "G_O45FS7DWRs",
        "colab_type": "code",
        "colab": {}
      },
      "source": [
        "Second_Final = 0.5* Colour_predict + 0.5 * Grey_predict"
      ],
      "execution_count": null,
      "outputs": []
    },
    {
      "cell_type": "code",
      "metadata": {
        "id": "vMbahIDZDY8A",
        "colab_type": "code",
        "colab": {}
      },
      "source": [
        "Second_predict_classes = np.argmax(Second_Final, axis=1)"
      ],
      "execution_count": null,
      "outputs": []
    },
    {
      "cell_type": "code",
      "metadata": {
        "id": "ZDZGtRCMDbiM",
        "colab_type": "code",
        "colab": {
          "base_uri": "https://localhost:8080/",
          "height": 782
        },
        "outputId": "96f4cdfd-f977-4144-e1e7-76d0c5589c00"
      },
      "source": [
        "Second_predict_classes"
      ],
      "execution_count": null,
      "outputs": [
        {
          "output_type": "execute_result",
          "data": {
            "text/plain": [
              "array([10,  0,  0,  0,  0,  0,  0,  0,  0,  0,  0,  4,  1,  1,  1,  1,  1,\n",
              "       10,  1, 10,  1,  1,  1,  2,  2,  2,  2,  2,  2,  2,  2,  2,  2,  2,\n",
              "        3,  3,  3,  3,  1,  3,  3,  3,  3,  3,  3, 10,  4,  4,  4,  4,  4,\n",
              "        4,  4,  4,  4,  4,  5,  5,  5,  5,  5,  5,  5,  5,  5,  5,  5,  6,\n",
              "        6,  6,  6,  6,  6,  6,  6,  6,  6, 10, 10, 10,  7,  7,  7,  7,  7,\n",
              "        7,  7,  7,  7,  8,  8,  8,  8,  8,  8,  8,  8,  8,  8,  8,  9,  9,\n",
              "        9,  9,  9,  9,  9,  9,  9,  9,  9, 10, 10, 10, 10, 10, 10, 10, 10,\n",
              "       10, 10, 10, 11, 11, 11, 11, 11, 11, 11, 11, 11, 11, 11, 12, 12, 12,\n",
              "       12, 12, 12, 12, 12, 12, 12, 12, 10, 13, 13, 13, 13, 13, 13, 13, 13,\n",
              "       13, 10, 14, 14, 14, 10, 14, 14, 14, 14, 14, 14, 14, 15, 15, 15, 15,\n",
              "       15, 15, 15, 15, 15, 15, 15, 16, 16, 16, 16, 16, 16, 16, 10, 16, 16,\n",
              "       16, 17, 17, 17, 17, 17, 17, 17, 17, 17, 17, 17, 18, 18, 18, 18, 18,\n",
              "       18, 18, 18, 18, 18, 18, 19, 19, 19, 19, 19, 53, 19, 19, 19, 19, 19,\n",
              "       20, 20, 20, 20, 20, 20, 20, 20, 20, 20, 20, 21, 21, 10, 21, 21, 21,\n",
              "       21, 21, 21, 21, 21, 10, 22, 22, 22, 22, 22, 22, 22, 22, 22, 22, 23,\n",
              "       23, 10, 23, 23, 23, 23, 23, 23, 23, 11, 10, 10, 24, 24, 24, 24, 24,\n",
              "       24, 24, 24, 10, 25, 25, 25, 25, 25, 25, 25, 25, 25, 25, 25, 26, 26,\n",
              "       26, 26, 26, 26, 26, 26, 26, 26, 10, 27, 27, 27, 27, 27, 27, 27, 27,\n",
              "       27, 27, 27, 28, 28, 28, 28, 28, 28, 28, 28, 28, 28, 28, 29, 29, 29,\n",
              "       29, 29, 29, 29, 29, 10, 29, 29, 30, 30, 30, 30, 30, 30, 30, 30, 30,\n",
              "       30, 30, 31, 31, 31, 31, 31, 31, 31, 31, 31, 10, 31, 10, 32, 32, 32,\n",
              "       10, 32, 32, 32, 32, 32, 53, 33, 33, 33, 33, 33, 33, 33, 33, 33, 33,\n",
              "       34, 34, 34, 34, 34, 34, 34, 34, 34, 34, 34, 35, 35, 35, 35, 35, 35,\n",
              "       35, 35, 35, 35, 35, 10, 10, 36, 36, 36, 36, 36, 36, 36,  8, 40, 36,\n",
              "       36, 36, 10, 10, 36, 36, 36, 36, 36, 37, 37, 37, 37, 37, 37, 37, 37,\n",
              "       37, 37, 52, 38, 38, 38, 38, 38, 38, 38, 38, 38, 38, 38, 38, 38, 38,\n",
              "       38, 38, 38, 38, 38, 38, 38, 10, 39, 39, 39, 39, 39, 39, 39, 39, 39,\n",
              "       39, 40, 40, 40, 40, 40, 40, 40, 40, 40, 40, 40, 40, 40, 40, 40, 40,\n",
              "       40, 40, 40, 34, 49, 41, 41, 41, 41, 41, 41, 41, 41, 41, 41, 41, 10,\n",
              "       42, 42, 42, 42, 42, 10, 10, 42, 42, 42, 42, 42, 42, 42, 42, 42, 10,\n",
              "       42, 42, 42, 43, 43, 43, 43, 43, 43, 43, 43, 43, 43, 43, 10, 44, 44,\n",
              "       44, 44, 44, 44, 44, 44, 44, 44, 44, 44, 44, 44, 44, 44, 44, 44, 44,\n",
              "       44, 45, 45, 45, 45, 45, 45, 45, 45, 45, 45, 45, 10, 46, 46, 46, 46,\n",
              "       46, 46, 46, 46, 46, 46, 10, 47, 47, 47, 47, 38, 47, 47, 47, 47, 47,\n",
              "       48, 48, 48, 48, 48, 48, 48, 48, 48, 48, 48, 10, 49, 49, 49, 49, 49,\n",
              "       49, 49, 49, 10, 49, 49, 10, 34, 10, 49, 49, 49, 49, 54, 49, 50, 50,\n",
              "       50, 50, 50, 50, 10, 50, 50, 50, 50, 51, 51, 51, 10, 51, 51, 51, 51,\n",
              "       51, 51, 51, 52, 52, 52, 52, 52, 52, 52, 52, 52, 52, 52, 52, 52, 52,\n",
              "       52, 52, 52, 52, 52, 52, 52, 53, 53, 53, 53, 53, 53, 53, 53, 53, 53,\n",
              "       53, 54, 54, 54, 54, 54, 54, 54, 54, 54, 54, 54, 54, 54, 53, 10, 54,\n",
              "       54, 54, 54, 54, 54, 55, 55, 55, 55, 55, 55, 10, 55, 55, 55, 52, 56,\n",
              "       56, 56, 56, 56, 56, 56, 56, 56, 56, 56, 56, 56, 56, 56, 56, 10, 56,\n",
              "       56, 56, 56, 57, 57, 57, 57, 57, 57, 57, 57, 57, 57, 57, 58, 58, 58,\n",
              "       58, 58, 10, 58, 58, 58, 58, 58, 10, 59, 59, 59, 59, 59, 59, 59, 59,\n",
              "       59, 59])"
            ]
          },
          "metadata": {
            "tags": []
          },
          "execution_count": 92
        }
      ]
    },
    {
      "cell_type": "code",
      "metadata": {
        "id": "_xFjn41jDdzl",
        "colab_type": "code",
        "colab": {
          "base_uri": "https://localhost:8080/",
          "height": 34
        },
        "outputId": "f29a0c4b-c32b-471b-da03-433a2367cf6f"
      },
      "source": [
        "Second_Final_accuracy = accuracy_score(Colour_TestData.classes, Second_predict_classes)\n",
        "Second_Final_accuracy"
      ],
      "execution_count": null,
      "outputs": [
        {
          "output_type": "execute_result",
          "data": {
            "text/plain": [
              "0.92"
            ]
          },
          "metadata": {
            "tags": []
          },
          "execution_count": 93
        }
      ]
    },
    {
      "cell_type": "code",
      "metadata": {
        "id": "W1TL2AU0EEp6",
        "colab_type": "code",
        "colab": {}
      },
      "source": [
        "Final = 0.8* Colour_predict + 0.2* Grey_predict"
      ],
      "execution_count": null,
      "outputs": []
    },
    {
      "cell_type": "code",
      "metadata": {
        "id": "_cLfXUuvEMLe",
        "colab_type": "code",
        "colab": {}
      },
      "source": [
        "Final_Predict_classes = np.argmax(Final, axis=1)"
      ],
      "execution_count": null,
      "outputs": []
    },
    {
      "cell_type": "code",
      "metadata": {
        "id": "gNDGmXs4EQsN",
        "colab_type": "code",
        "colab": {}
      },
      "source": [
        "Final_accuracy = accuracy_score(Colour_TestData.classes, Final_Predict_classes)\n",
        "print(\"Colour Accuracy: \", Final_accuracy)"
      ],
      "execution_count": null,
      "outputs": []
    }
  ]
}