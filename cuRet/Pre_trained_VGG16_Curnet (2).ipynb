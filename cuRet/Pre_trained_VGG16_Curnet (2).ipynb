{
  "nbformat": 4,
  "nbformat_minor": 0,
  "metadata": {
    "colab": {
      "name": "Pre_trained_VGG16_Curnet.ipynb",
      "provenance": [],
      "collapsed_sections": [],
      "machine_shape": "hm"
    },
    "kernelspec": {
      "name": "python3",
      "display_name": "Python 3"
    },
    "accelerator": "GPU"
  },
  "cells": [
    {
      "cell_type": "code",
      "metadata": {
        "id": "0R7q-DOyhwjE",
        "colab_type": "code",
        "colab": {
          "base_uri": "https://localhost:8080/",
          "height": 122
        },
        "outputId": "ef922c2d-f8ce-4ebb-f164-bbe5443baa5e"
      },
      "source": [
        "from google.colab import drive\n",
        "drive.mount('/content/drive')"
      ],
      "execution_count": null,
      "outputs": [
        {
          "output_type": "stream",
          "text": [
            "Go to this URL in a browser: https://accounts.google.com/o/oauth2/auth?client_id=947318989803-6bn6qk8qdgf4n4g3pfee6491hc0brc4i.apps.googleusercontent.com&redirect_uri=urn%3aietf%3awg%3aoauth%3a2.0%3aoob&scope=email%20https%3a%2f%2fwww.googleapis.com%2fauth%2fdocs.test%20https%3a%2f%2fwww.googleapis.com%2fauth%2fdrive%20https%3a%2f%2fwww.googleapis.com%2fauth%2fdrive.photos.readonly%20https%3a%2f%2fwww.googleapis.com%2fauth%2fpeopleapi.readonly&response_type=code\n",
            "\n",
            "Enter your authorization code:\n",
            "··········\n",
            "Mounted at /content/drive\n"
          ],
          "name": "stdout"
        }
      ]
    },
    {
      "cell_type": "code",
      "metadata": {
        "id": "JoWcCCpKkScn",
        "colab_type": "code",
        "colab": {}
      },
      "source": [
        "# Importing the Libraries.\n",
        "import keras\n",
        "import os\n",
        "from keras.models import Sequential\n",
        "from keras.layers import Dense, Conv2D, MaxPool2D, Flatten, Dropout\n",
        "from keras.preprocessing.image import ImageDataGenerator\n",
        "import numpy as np\n",
        "#import keras.backend as K\n",
        "import tensorflow.keras.backend as K\n",
        "import tensorflow.compat.v1 as tf\n",
        "from os import listdir\n",
        "from os.path import isfile, join\n",
        "import numpy as np\n",
        "import sys\n",
        "import os\n",
        "import shutil\n",
        "import pandas as pd\n",
        "from PIL import Image\n",
        "import cv2\n",
        "import keras\n",
        "import glob\n",
        "from PIL import Image\n",
        "from keras.preprocessing.image import img_to_array\n",
        "from sklearn.preprocessing import MultiLabelBinarizer\n",
        "from keras import models, regularizers, layers, optimizers, losses, metrics\n",
        "from keras.applications.resnet50 import ResNet50\n",
        "from keras.preprocessing.image import ImageDataGenerator\n",
        "from keras.models import Sequential\n",
        "from keras.layers import Dense, Dropout, Activation, Flatten, MaxPool2D\n",
        "from keras.layers import Convolution2D, MaxPooling2D, ZeroPadding2D\n",
        "from keras.layers import AveragePooling2D\n",
        "from keras.models import load_model\n",
        "from keras.layers.pooling import GlobalAveragePooling2D\n",
        "from keras.layers.normalization import BatchNormalization\n",
        "from keras.models import Model\n",
        "from keras.optimizers import Adam\n",
        "from keras.callbacks import ModelCheckpoint, EarlyStopping\n",
        "from sklearn.preprocessing import LabelEncoder, OneHotEncoder\n",
        "from PIL import ImageFile\n",
        "\n",
        "tf.enable_eager_execution()"
      ],
      "execution_count": null,
      "outputs": []
    },
    {
      "cell_type": "code",
      "metadata": {
        "id": "UTbk0hYnk0CJ",
        "colab_type": "code",
        "colab": {}
      },
      "source": [
        "ImageFile.LOAD_TRUNCATED_IMAGES = True"
      ],
      "execution_count": null,
      "outputs": []
    },
    {
      "cell_type": "code",
      "metadata": {
        "id": "myAKBEyck3r4",
        "colab_type": "code",
        "colab": {}
      },
      "source": [
        "# Data Augmentation.\n",
        "DataGenerator = ImageDataGenerator(horizontal_flip=True, vertical_flip=True, rescale=1./255)"
      ],
      "execution_count": null,
      "outputs": []
    },
    {
      "cell_type": "code",
      "metadata": {
        "id": "NYjZOJMLk6bk",
        "colab_type": "code",
        "colab": {}
      },
      "source": [
        "TestGenerator = ImageDataGenerator(rescale=1./255)"
      ],
      "execution_count": null,
      "outputs": []
    },
    {
      "cell_type": "code",
      "metadata": {
        "id": "yj25Wwsek9Pn",
        "colab_type": "code",
        "colab": {
          "base_uri": "https://localhost:8080/",
          "height": 34
        },
        "outputId": "04aca60b-fd1e-44bf-d1cf-c390e26defda"
      },
      "source": [
        "Grey_TrainingData = DataGenerator.flow_from_directory('/content/drive/My Drive/curetDataSet/Train/', target_size=(224,224), batch_size=8, color_mode='grayscale')"
      ],
      "execution_count": null,
      "outputs": [
        {
          "output_type": "stream",
          "text": [
            "Found 12733 images belonging to 60 classes.\n"
          ],
          "name": "stdout"
        }
      ]
    },
    {
      "cell_type": "code",
      "metadata": {
        "id": "SiZT9izhlBl_",
        "colab_type": "code",
        "colab": {
          "base_uri": "https://localhost:8080/",
          "height": 34
        },
        "outputId": "f32912de-ded8-4c3c-ec29-7dee6cdd55dc"
      },
      "source": [
        "Grey_ValidData = TestGenerator.flow_from_directory('/content/drive/My Drive/curetDataSet/Valid/', target_size=(224,224), batch_size=8, color_mode='grayscale')"
      ],
      "execution_count": null,
      "outputs": [
        {
          "output_type": "stream",
          "text": [
            "Found 693 images belonging to 60 classes.\n"
          ],
          "name": "stdout"
        }
      ]
    },
    {
      "cell_type": "code",
      "metadata": {
        "id": "Nv9_pr6qlEu8",
        "colab_type": "code",
        "colab": {
          "base_uri": "https://localhost:8080/",
          "height": 71
        },
        "outputId": "49776b85-b697-4518-a811-179ebc91dc41"
      },
      "source": [
        "gpu_options = tf.GPUOptions(allow_growth=True)\n",
        "session = tf.InteractiveSession(config=tf.ConfigProto(gpu_options=gpu_options))"
      ],
      "execution_count": null,
      "outputs": [
        {
          "output_type": "stream",
          "text": [
            "/usr/local/lib/python3.6/dist-packages/tensorflow/python/client/session.py:1751: UserWarning: An interactive session is already active. This can cause out-of-memory errors in some cases. You must explicitly call `InteractiveSession.close()` to release resources held by the other session(s).\n",
            "  warnings.warn('An interactive session is already active. This can '\n"
          ],
          "name": "stderr"
        }
      ]
    },
    {
      "cell_type": "code",
      "metadata": {
        "id": "xNii8OLNlH24",
        "colab_type": "code",
        "colab": {}
      },
      "source": [
        "from keras.applications import VGG16"
      ],
      "execution_count": null,
      "outputs": []
    },
    {
      "cell_type": "code",
      "metadata": {
        "id": "ehpHp33Kljfb",
        "colab_type": "code",
        "colab": {
          "base_uri": "https://localhost:8080/",
          "height": 51
        },
        "outputId": "d777bd13-5c95-4d12-ef09-5bd640a7b16c"
      },
      "source": [
        "conv_base = VGG16(weights='imagenet', include_top= False )"
      ],
      "execution_count": null,
      "outputs": [
        {
          "output_type": "stream",
          "text": [
            "Downloading data from https://storage.googleapis.com/tensorflow/keras-applications/vgg16/vgg16_weights_tf_dim_ordering_tf_kernels_notop.h5\n",
            "58892288/58889256 [==============================] - 1s 0us/step\n"
          ],
          "name": "stdout"
        }
      ]
    },
    {
      "cell_type": "code",
      "metadata": {
        "id": "kEXMI0mEoYym",
        "colab_type": "code",
        "colab": {}
      },
      "source": [
        "for layer in conv_base.layers[:15]:\n",
        "  layer.trainable = False\n",
        "for layer in conv_base.layers[15:]:\n",
        "  layer.trainable = True"
      ],
      "execution_count": null,
      "outputs": []
    },
    {
      "cell_type": "code",
      "metadata": {
        "id": "v0_hAxaYmYcE",
        "colab_type": "code",
        "colab": {
          "base_uri": "https://localhost:8080/",
          "height": 340
        },
        "outputId": "b80a98b0-f5ff-48ef-ca61-3c5de68fbae3"
      },
      "source": [
        "for i, layer in enumerate(conv_base.layers):\n",
        "   print(i, layer.name, layer.trainable)"
      ],
      "execution_count": null,
      "outputs": [
        {
          "output_type": "stream",
          "text": [
            "0 input_1 False\n",
            "1 block1_conv1 False\n",
            "2 block1_conv2 False\n",
            "3 block1_pool False\n",
            "4 block2_conv1 False\n",
            "5 block2_conv2 False\n",
            "6 block2_pool False\n",
            "7 block3_conv1 False\n",
            "8 block3_conv2 False\n",
            "9 block3_conv3 False\n",
            "10 block3_pool False\n",
            "11 block4_conv1 False\n",
            "12 block4_conv2 False\n",
            "13 block4_conv3 False\n",
            "14 block4_pool False\n",
            "15 block5_conv1 True\n",
            "16 block5_conv2 True\n",
            "17 block5_conv3 True\n",
            "18 block5_pool True\n"
          ],
          "name": "stdout"
        }
      ]
    },
    {
      "cell_type": "code",
      "metadata": {
        "id": "pSHTSzapomW2",
        "colab_type": "code",
        "colab": {}
      },
      "source": [
        "from keras.layers import Input"
      ],
      "execution_count": null,
      "outputs": []
    },
    {
      "cell_type": "code",
      "metadata": {
        "id": "3Z64chSlotQq",
        "colab_type": "code",
        "colab": {}
      },
      "source": [
        "input_tensor = Input(shape=(224,224,1))\n",
        "x =Conv2D(3,(3,3), padding='same')(input_tensor)\n",
        "x = conv_base(x)\n",
        "x = Flatten()(x)"
      ],
      "execution_count": null,
      "outputs": []
    },
    {
      "cell_type": "code",
      "metadata": {
        "id": "NIF5L-iqo-JJ",
        "colab_type": "code",
        "colab": {}
      },
      "source": [
        "x = Dense(2048, activation='relu', kernel_regularizer= regularizers.l2(0.001))(x)\n",
        "x = BatchNormalization()(x)\n",
        "x = Dropout(0.5)(x)"
      ],
      "execution_count": null,
      "outputs": []
    },
    {
      "cell_type": "code",
      "metadata": {
        "id": "YE9g-g_WpIMu",
        "colab_type": "code",
        "colab": {}
      },
      "source": [
        "ouput = Dense(60, activation='softmax')(x)"
      ],
      "execution_count": null,
      "outputs": []
    },
    {
      "cell_type": "code",
      "metadata": {
        "id": "D0yI4Sw5pKnu",
        "colab_type": "code",
        "colab": {}
      },
      "source": [
        "model = Model(inputs = input_tensor, outputs = ouput )"
      ],
      "execution_count": null,
      "outputs": []
    },
    {
      "cell_type": "code",
      "metadata": {
        "id": "7iy7_usKpNqS",
        "colab_type": "code",
        "colab": {
          "base_uri": "https://localhost:8080/",
          "height": 425
        },
        "outputId": "9fc027f0-673e-4968-9a69-76b63e037ccc"
      },
      "source": [
        "model.summary()"
      ],
      "execution_count": null,
      "outputs": [
        {
          "output_type": "stream",
          "text": [
            "Model: \"functional_5\"\n",
            "_________________________________________________________________\n",
            "Layer (type)                 Output Shape              Param #   \n",
            "=================================================================\n",
            "input_6 (InputLayer)         [(None, 224, 224, 1)]     0         \n",
            "_________________________________________________________________\n",
            "conv2d_2 (Conv2D)            (None, 224, 224, 3)       30        \n",
            "_________________________________________________________________\n",
            "vgg16 (Functional)           (None, None, None, 512)   14714688  \n",
            "_________________________________________________________________\n",
            "flatten_2 (Flatten)          (None, 25088)             0         \n",
            "_________________________________________________________________\n",
            "dense_4 (Dense)              (None, 2048)              51382272  \n",
            "_________________________________________________________________\n",
            "batch_normalization_2 (Batch (None, 2048)              8192      \n",
            "_________________________________________________________________\n",
            "dropout_2 (Dropout)          (None, 2048)              0         \n",
            "_________________________________________________________________\n",
            "dense_5 (Dense)              (None, 60)                122940    \n",
            "=================================================================\n",
            "Total params: 66,228,122\n",
            "Trainable params: 58,588,762\n",
            "Non-trainable params: 7,639,360\n",
            "_________________________________________________________________\n"
          ],
          "name": "stdout"
        }
      ]
    },
    {
      "cell_type": "code",
      "metadata": {
        "id": "Ct3E8v7PpQjR",
        "colab_type": "code",
        "colab": {}
      },
      "source": [
        "model.compile(loss='categorical_crossentropy',\n",
        "              optimizer=Adam(lr=0.001),\n",
        "              metrics=['accuracy'])"
      ],
      "execution_count": null,
      "outputs": []
    },
    {
      "cell_type": "code",
      "metadata": {
        "id": "Y520QRdvpTue",
        "colab_type": "code",
        "colab": {}
      },
      "source": [
        "from keras.callbacks import ModelCheckpoint, EarlyStopping, ReduceLROnPlateau\n",
        "checkpoint = ModelCheckpoint(\"/content/drive/My Drive/curetDataSet/Curnet_GreyScale_VGG16.h5\",\n",
        "                             monitor=\"val_loss\",\n",
        "                             mode=\"min\",\n",
        "                             save_best_only = True,\n",
        "                             verbose=1)\n",
        "\n",
        "earlystop = EarlyStopping(monitor = 'val_loss', \n",
        "                          min_delta = 0, \n",
        "                          patience = 40,\n",
        "                          verbose = 1,\n",
        "                          restore_best_weights = True)\n",
        "\n",
        "reduce_lr = ReduceLROnPlateau(monitor = 'val_loss',\n",
        "                              factor = 0.2,\n",
        "                              patience = 40,\n",
        "                              verbose = 1,\n",
        "                              min_delta = 0.00001)\n",
        "\n",
        "callBacks = [earlystop, checkpoint, reduce_lr]"
      ],
      "execution_count": null,
      "outputs": []
    },
    {
      "cell_type": "code",
      "metadata": {
        "id": "hcoJl7A_peOH",
        "colab_type": "code",
        "colab": {
          "base_uri": "https://localhost:8080/",
          "height": 1000
        },
        "outputId": "2d99be86-2df3-45b9-f1a6-ea263b69632a"
      },
      "source": [
        "hist = model.fit_generator(steps_per_epoch=1592,generator= Grey_TrainingData, validation_data= Grey_ValidData, validation_steps=87,epochs=35,callbacks=callBacks)"
      ],
      "execution_count": null,
      "outputs": [
        {
          "output_type": "stream",
          "text": [
            "Epoch 1/35\n",
            "1592/1592 [==============================] - ETA: 0s - loss: 4.2003 - accuracy: 0.2055\n",
            "Epoch 00001: val_loss improved from inf to 7.77300, saving model to /content/drive/My Drive/curetDataSet/Curnet_GreyScale_VGG16.h5\n",
            "1592/1592 [==============================] - 268s 168ms/step - loss: 4.2003 - accuracy: 0.2055 - val_loss: 7.7730 - val_accuracy: 0.2193\n",
            "Epoch 2/35\n",
            "1592/1592 [==============================] - ETA: 0s - loss: 2.4431 - accuracy: 0.5329\n",
            "Epoch 00002: val_loss improved from 7.77300 to 3.32747, saving model to /content/drive/My Drive/curetDataSet/Curnet_GreyScale_VGG16.h5\n",
            "1592/1592 [==============================] - 279s 175ms/step - loss: 2.4431 - accuracy: 0.5329 - val_loss: 3.3275 - val_accuracy: 0.4603\n",
            "Epoch 3/35\n",
            "1592/1592 [==============================] - ETA: 0s - loss: 1.9891 - accuracy: 0.6701\n",
            "Epoch 00003: val_loss did not improve from 3.32747\n",
            "1592/1592 [==============================] - 282s 177ms/step - loss: 1.9891 - accuracy: 0.6701 - val_loss: 28795.9824 - val_accuracy: 0.0289\n",
            "Epoch 4/35\n",
            "1592/1592 [==============================] - ETA: 0s - loss: 2.2789 - accuracy: 0.6742\n",
            "Epoch 00004: val_loss did not improve from 3.32747\n",
            "1592/1592 [==============================] - 259s 163ms/step - loss: 2.2789 - accuracy: 0.6742 - val_loss: 18.2489 - val_accuracy: 0.0404\n",
            "Epoch 5/35\n",
            "1592/1592 [==============================] - ETA: 0s - loss: 2.4241 - accuracy: 0.6577\n",
            "Epoch 00005: val_loss improved from 3.32747 to 1.91125, saving model to /content/drive/My Drive/curetDataSet/Curnet_GreyScale_VGG16.h5\n",
            "1592/1592 [==============================] - 250s 157ms/step - loss: 2.4241 - accuracy: 0.6577 - val_loss: 1.9113 - val_accuracy: 0.7792\n",
            "Epoch 6/35\n",
            "1592/1592 [==============================] - ETA: 0s - loss: 1.7835 - accuracy: 0.7762\n",
            "Epoch 00006: val_loss did not improve from 1.91125\n",
            "1592/1592 [==============================] - 275s 173ms/step - loss: 1.7835 - accuracy: 0.7762 - val_loss: 1.9211 - val_accuracy: 0.8066\n",
            "Epoch 7/35\n",
            "1592/1592 [==============================] - ETA: 0s - loss: 1.5915 - accuracy: 0.8173\n",
            "Epoch 00007: val_loss did not improve from 1.91125\n",
            "1592/1592 [==============================] - 257s 161ms/step - loss: 1.5915 - accuracy: 0.8173 - val_loss: 2.0974 - val_accuracy: 0.7706\n",
            "Epoch 8/35\n",
            "1592/1592 [==============================] - ETA: 0s - loss: 1.5328 - accuracy: 0.8359\n",
            "Epoch 00008: val_loss improved from 1.91125 to 1.72410, saving model to /content/drive/My Drive/curetDataSet/Curnet_GreyScale_VGG16.h5\n",
            "1592/1592 [==============================] - 246s 154ms/step - loss: 1.5328 - accuracy: 0.8359 - val_loss: 1.7241 - val_accuracy: 0.8600\n",
            "Epoch 9/35\n",
            "1592/1592 [==============================] - ETA: 0s - loss: 1.4041 - accuracy: 0.8575\n",
            "Epoch 00009: val_loss improved from 1.72410 to 1.33951, saving model to /content/drive/My Drive/curetDataSet/Curnet_GreyScale_VGG16.h5\n",
            "1592/1592 [==============================] - 277s 174ms/step - loss: 1.4041 - accuracy: 0.8575 - val_loss: 1.3395 - val_accuracy: 0.8874\n",
            "Epoch 10/35\n",
            "1592/1592 [==============================] - ETA: 0s - loss: 1.3437 - accuracy: 0.8696\n",
            "Epoch 00010: val_loss improved from 1.33951 to 1.32111, saving model to /content/drive/My Drive/curetDataSet/Curnet_GreyScale_VGG16.h5\n",
            "1592/1592 [==============================] - 289s 182ms/step - loss: 1.3437 - accuracy: 0.8696 - val_loss: 1.3211 - val_accuracy: 0.9134\n",
            "Epoch 11/35\n",
            "1592/1592 [==============================] - ETA: 0s - loss: 1.5003 - accuracy: 0.8220\n",
            "Epoch 00011: val_loss did not improve from 1.32111\n",
            "1592/1592 [==============================] - 292s 184ms/step - loss: 1.5003 - accuracy: 0.8220 - val_loss: 1.8658 - val_accuracy: 0.8225\n",
            "Epoch 12/35\n",
            "1592/1592 [==============================] - ETA: 0s - loss: 1.1641 - accuracy: 0.8855\n",
            "Epoch 00012: val_loss improved from 1.32111 to 0.92529, saving model to /content/drive/My Drive/curetDataSet/Curnet_GreyScale_VGG16.h5\n",
            "1592/1592 [==============================] - 267s 168ms/step - loss: 1.1641 - accuracy: 0.8855 - val_loss: 0.9253 - val_accuracy: 0.9394\n",
            "Epoch 13/35\n",
            "1592/1592 [==============================] - ETA: 0s - loss: 1.0148 - accuracy: 0.9010\n",
            "Epoch 00013: val_loss did not improve from 0.92529\n",
            "1592/1592 [==============================] - 279s 175ms/step - loss: 1.0148 - accuracy: 0.9010 - val_loss: 0.9773 - val_accuracy: 0.9177\n",
            "Epoch 14/35\n",
            "1592/1592 [==============================] - ETA: 0s - loss: 1.1594 - accuracy: 0.8747\n",
            "Epoch 00014: val_loss did not improve from 0.92529\n",
            "1592/1592 [==============================] - 255s 160ms/step - loss: 1.1594 - accuracy: 0.8747 - val_loss: 1.7788 - val_accuracy: 0.9264\n",
            "Epoch 15/35\n",
            "1592/1592 [==============================] - ETA: 0s - loss: 0.8989 - accuracy: 0.9103\n",
            "Epoch 00015: val_loss improved from 0.92529 to 0.77488, saving model to /content/drive/My Drive/curetDataSet/Curnet_GreyScale_VGG16.h5\n",
            "1592/1592 [==============================] - 244s 153ms/step - loss: 0.8989 - accuracy: 0.9103 - val_loss: 0.7749 - val_accuracy: 0.9380\n",
            "Epoch 16/35\n",
            "1592/1592 [==============================] - ETA: 0s - loss: 0.8141 - accuracy: 0.9169\n",
            "Epoch 00016: val_loss did not improve from 0.77488\n",
            "1592/1592 [==============================] - 275s 173ms/step - loss: 0.8141 - accuracy: 0.9169 - val_loss: 1.4236 - val_accuracy: 0.9235\n",
            "Epoch 17/35\n",
            "1592/1592 [==============================] - ETA: 0s - loss: 0.7615 - accuracy: 0.9243\n",
            "Epoch 00017: val_loss improved from 0.77488 to 0.64198, saving model to /content/drive/My Drive/curetDataSet/Curnet_GreyScale_VGG16.h5\n",
            "1592/1592 [==============================] - 259s 162ms/step - loss: 0.7615 - accuracy: 0.9243 - val_loss: 0.6420 - val_accuracy: 0.9654\n",
            "Epoch 18/35\n",
            "1592/1592 [==============================] - ETA: 0s - loss: 0.7541 - accuracy: 0.9238\n",
            "Epoch 00018: val_loss did not improve from 0.64198\n",
            "1592/1592 [==============================] - 278s 174ms/step - loss: 0.7541 - accuracy: 0.9238 - val_loss: 0.7308 - val_accuracy: 0.9481\n",
            "Epoch 19/35\n",
            "1592/1592 [==============================] - ETA: 0s - loss: 0.7458 - accuracy: 0.9285\n",
            "Epoch 00019: val_loss did not improve from 0.64198\n",
            "1592/1592 [==============================] - 255s 160ms/step - loss: 0.7458 - accuracy: 0.9285 - val_loss: 1.5191 - val_accuracy: 0.9509\n",
            "Epoch 20/35\n",
            "1592/1592 [==============================] - ETA: 0s - loss: 0.7408 - accuracy: 0.9317\n",
            "Epoch 00020: val_loss improved from 0.64198 to 0.61989, saving model to /content/drive/My Drive/curetDataSet/Curnet_GreyScale_VGG16.h5\n",
            "1592/1592 [==============================] - 249s 157ms/step - loss: 0.7408 - accuracy: 0.9317 - val_loss: 0.6199 - val_accuracy: 0.9524\n",
            "Epoch 21/35\n",
            "1592/1592 [==============================] - ETA: 0s - loss: 0.6563 - accuracy: 0.9411\n",
            "Epoch 00021: val_loss improved from 0.61989 to 0.57372, saving model to /content/drive/My Drive/curetDataSet/Curnet_GreyScale_VGG16.h5\n",
            "1592/1592 [==============================] - 281s 177ms/step - loss: 0.6563 - accuracy: 0.9411 - val_loss: 0.5737 - val_accuracy: 0.9697\n",
            "Epoch 22/35\n",
            "1592/1592 [==============================] - ETA: 0s - loss: 0.7339 - accuracy: 0.9287\n",
            "Epoch 00022: val_loss improved from 0.57372 to 0.54609, saving model to /content/drive/My Drive/curetDataSet/Curnet_GreyScale_VGG16.h5\n",
            "1592/1592 [==============================] - 288s 181ms/step - loss: 0.7339 - accuracy: 0.9287 - val_loss: 0.5461 - val_accuracy: 0.9726\n",
            "Epoch 23/35\n",
            "1592/1592 [==============================] - ETA: 0s - loss: 0.7400 - accuracy: 0.9274\n",
            "Epoch 00023: val_loss did not improve from 0.54609\n",
            "1592/1592 [==============================] - 289s 182ms/step - loss: 0.7400 - accuracy: 0.9274 - val_loss: 0.7424 - val_accuracy: 0.9582\n",
            "Epoch 24/35\n",
            "1592/1592 [==============================] - ETA: 0s - loss: 0.5953 - accuracy: 0.9548\n",
            "Epoch 00024: val_loss did not improve from 0.54609\n",
            "1592/1592 [==============================] - 259s 163ms/step - loss: 0.5953 - accuracy: 0.9548 - val_loss: 0.5854 - val_accuracy: 0.9668\n",
            "Epoch 25/35\n",
            "1592/1592 [==============================] - ETA: 0s - loss: 0.5938 - accuracy: 0.9483\n",
            "Epoch 00025: val_loss did not improve from 0.54609\n",
            "1592/1592 [==============================] - 245s 154ms/step - loss: 0.5938 - accuracy: 0.9483 - val_loss: 0.5476 - val_accuracy: 0.9654\n",
            "Epoch 26/35\n",
            "1592/1592 [==============================] - ETA: 0s - loss: 0.5638 - accuracy: 0.9504\n",
            "Epoch 00026: val_loss did not improve from 0.54609\n",
            "1592/1592 [==============================] - 245s 154ms/step - loss: 0.5638 - accuracy: 0.9504 - val_loss: 0.5836 - val_accuracy: 0.9553\n",
            "Epoch 27/35\n",
            "1592/1592 [==============================] - ETA: 0s - loss: 0.5581 - accuracy: 0.9541\n",
            "Epoch 00027: val_loss improved from 0.54609 to 0.54395, saving model to /content/drive/My Drive/curetDataSet/Curnet_GreyScale_VGG16.h5\n",
            "1592/1592 [==============================] - 246s 155ms/step - loss: 0.5581 - accuracy: 0.9541 - val_loss: 0.5440 - val_accuracy: 0.9668\n",
            "Epoch 28/35\n",
            "1592/1592 [==============================] - ETA: 0s - loss: 0.5516 - accuracy: 0.9530\n",
            "Epoch 00028: val_loss improved from 0.54395 to 0.51049, saving model to /content/drive/My Drive/curetDataSet/Curnet_GreyScale_VGG16.h5\n",
            "1592/1592 [==============================] - 283s 178ms/step - loss: 0.5516 - accuracy: 0.9530 - val_loss: 0.5105 - val_accuracy: 0.9668\n",
            "Epoch 29/35\n",
            "1592/1592 [==============================] - ETA: 0s - loss: 0.5188 - accuracy: 0.9595\n",
            "Epoch 00029: val_loss did not improve from 0.51049\n",
            "1592/1592 [==============================] - 290s 182ms/step - loss: 0.5188 - accuracy: 0.9595 - val_loss: 0.5275 - val_accuracy: 0.9639\n",
            "Epoch 30/35\n",
            "1592/1592 [==============================] - ETA: 0s - loss: 0.5775 - accuracy: 0.9479\n",
            "Epoch 00030: val_loss did not improve from 0.51049\n",
            "1592/1592 [==============================] - 262s 165ms/step - loss: 0.5775 - accuracy: 0.9479 - val_loss: 0.5127 - val_accuracy: 0.9711\n",
            "Epoch 31/35\n",
            "1592/1592 [==============================] - ETA: 0s - loss: 0.4760 - accuracy: 0.9637\n",
            "Epoch 00031: val_loss did not improve from 0.51049\n",
            "1592/1592 [==============================] - 252s 158ms/step - loss: 0.4760 - accuracy: 0.9637 - val_loss: 0.5767 - val_accuracy: 0.9582\n",
            "Epoch 32/35\n",
            "1592/1592 [==============================] - ETA: 0s - loss: 0.5992 - accuracy: 0.9424\n",
            "Epoch 00032: val_loss did not improve from 0.51049\n",
            "1592/1592 [==============================] - 245s 154ms/step - loss: 0.5992 - accuracy: 0.9424 - val_loss: 0.5112 - val_accuracy: 0.9639\n",
            "Epoch 33/35\n",
            "1592/1592 [==============================] - ETA: 0s - loss: 0.4239 - accuracy: 0.9664\n",
            "Epoch 00033: val_loss improved from 0.51049 to 0.38098, saving model to /content/drive/My Drive/curetDataSet/Curnet_GreyScale_VGG16.h5\n",
            "1592/1592 [==============================] - 245s 154ms/step - loss: 0.4239 - accuracy: 0.9664 - val_loss: 0.3810 - val_accuracy: 0.9726\n",
            "Epoch 34/35\n",
            "1592/1592 [==============================] - ETA: 0s - loss: 0.4542 - accuracy: 0.9634\n",
            "Epoch 00034: val_loss did not improve from 0.38098\n",
            "1592/1592 [==============================] - 272s 171ms/step - loss: 0.4542 - accuracy: 0.9634 - val_loss: 0.4675 - val_accuracy: 0.9697\n",
            "Epoch 35/35\n",
            "1592/1592 [==============================] - ETA: 0s - loss: 0.4439 - accuracy: 0.9672\n",
            "Epoch 00035: val_loss did not improve from 0.38098\n",
            "1592/1592 [==============================] - 254s 159ms/step - loss: 0.4439 - accuracy: 0.9672 - val_loss: 0.4335 - val_accuracy: 0.9784\n"
          ],
          "name": "stdout"
        }
      ]
    },
    {
      "cell_type": "code",
      "metadata": {
        "id": "w978N1IZpiqs",
        "colab_type": "code",
        "colab": {
          "base_uri": "https://localhost:8080/",
          "height": 295
        },
        "outputId": "b476b07c-2b23-44c2-e1f1-55aee7c9f10f"
      },
      "source": [
        "import matplotlib.pyplot as plt\n",
        "plt.plot(hist.history[\"accuracy\"])\n",
        "plt.plot(hist.history['val_accuracy'])\n",
        "plt.title(\"model accuracy\")\n",
        "plt.ylabel(\"Accuracy\")\n",
        "plt.xlabel(\"Epoch\")\n",
        "plt.legend([\"Accuracy\",\"Validation Accuracy\"])\n",
        "plt.show()"
      ],
      "execution_count": null,
      "outputs": [
        {
          "output_type": "display_data",
          "data": {
            "image/png": "[encoded data removed]",
            "text/plain": [
              "<Figure size 432x288 with 1 Axes>"
            ]
          },
          "metadata": {
            "tags": [],
            "needs_background": "light"
          }
        }
      ]
    },
    {
      "cell_type": "code",
      "metadata": {
        "id": "137E95DWqB4H",
        "colab_type": "code",
        "colab": {
          "base_uri": "https://localhost:8080/",
          "height": 295
        },
        "outputId": "3455e539-ba66-47e4-ed96-f7c0c8238af8"
      },
      "source": [
        "plt.plot(hist.history['loss'])\n",
        "plt.plot(hist.history['val_loss'])\n",
        "plt.title(\"model Loss\")\n",
        "plt.ylabel(\"Loss\")\n",
        "plt.xlabel(\"Epoch\")\n",
        "plt.legend([\"Loss\",\"Validation Loss\"])\n",
        "plt.show()"
      ],
      "execution_count": null,
      "outputs": [
        {
          "output_type": "display_data",
          "data": {
            "image/png": "[encoded data removed]",
            "text/plain": [
              "<Figure size 432x288 with 1 Axes>"
            ]
          },
          "metadata": {
            "tags": [],
            "needs_background": "light"
          }
        }
      ]
    },
    {
      "cell_type": "code",
      "metadata": {
        "id": "7b72ruFeqEtC",
        "colab_type": "code",
        "colab": {
          "base_uri": "https://localhost:8080/",
          "height": 34
        },
        "outputId": "bd3bfd42-099d-4e0a-f0a3-9acef74b915e"
      },
      "source": [
        "GreyTestData = TestGenerator.flow_from_directory('/content/drive/My Drive/curetDataSet/Test/', target_size=(224,224), batch_size = 8, shuffle = False, color_mode='grayscale')"
      ],
      "execution_count": null,
      "outputs": [
        {
          "output_type": "stream",
          "text": [
            "Found 750 images belonging to 60 classes.\n"
          ],
          "name": "stdout"
        }
      ]
    },
    {
      "cell_type": "code",
      "metadata": {
        "id": "SxFFb7p-_IJI",
        "colab_type": "code",
        "colab": {}
      },
      "source": [
        "model.load_weights('/content/drive/My Drive/curetDataSet/Curnet_GreyScale_VGG16.h5')"
      ],
      "execution_count": null,
      "outputs": []
    },
    {
      "cell_type": "code",
      "metadata": {
        "id": "ZvqZO0nEqJ-F",
        "colab_type": "code",
        "colab": {}
      },
      "source": [
        "Grey_predict = model.predict(GreyTestData)"
      ],
      "execution_count": null,
      "outputs": []
    },
    {
      "cell_type": "code",
      "metadata": {
        "id": "6ojfqUjnqMo8",
        "colab_type": "code",
        "colab": {}
      },
      "source": [
        "Grey_predict_classes = np.argmax(Grey_predict, axis=1)"
      ],
      "execution_count": null,
      "outputs": []
    },
    {
      "cell_type": "code",
      "metadata": {
        "id": "r0OaVhWUqQGl",
        "colab_type": "code",
        "colab": {
          "base_uri": "https://localhost:8080/",
          "height": 782
        },
        "outputId": "0f7f81dc-c661-47d2-9e0b-cd7b1062bd7d"
      },
      "source": [
        "Grey_predict_classes"
      ],
      "execution_count": null,
      "outputs": [
        {
          "output_type": "execute_result",
          "data": {
            "text/plain": [
              "array([ 0,  0,  0,  0,  0,  0,  0,  0,  0,  0,  0,  4,  1,  1,  1,  1,  1,\n",
              "        1,  1,  1,  1,  1,  1,  2,  2,  2,  2,  2,  2,  2,  2,  2,  2,  2,\n",
              "        3,  3,  3,  3,  3,  3,  3,  3,  3,  3,  3,  4,  4,  4,  4,  4,  4,\n",
              "        4,  4,  4,  4,  4,  5,  5,  5,  5,  5,  5,  5,  5,  5,  5,  5, 15,\n",
              "        5,  6,  6,  6,  6, 36,  6,  6,  6,  6,  7,  7,  7,  7,  7,  7,  7,\n",
              "        7,  7,  7,  7,  8,  8,  8,  8,  8,  8,  8,  8,  8,  8,  8,  9,  9,\n",
              "        9,  9,  9,  9,  9,  9,  9,  9, 19, 10, 10, 10, 10, 10, 10, 10, 10,\n",
              "       10, 10, 10, 11, 11, 11, 11, 11, 11, 11, 11, 11, 11, 11, 12, 12, 12,\n",
              "       12, 12, 12, 12, 12, 12, 12, 12, 13, 13, 13, 13, 13, 13, 13, 13, 13,\n",
              "       13, 13, 14, 14, 14, 14, 14, 14, 14, 14, 14, 14, 14, 15, 15, 15, 15,\n",
              "       15, 15, 15, 15, 15, 15, 15, 16, 16, 16, 16, 16, 16, 16, 16, 16, 16,\n",
              "       16, 17, 17, 40, 17, 17, 17, 17, 17, 17, 17, 17, 18, 18, 18, 12, 18,\n",
              "       18, 18, 18, 18, 18, 18, 19, 19, 19, 19, 19, 19, 19, 19, 19, 19, 54,\n",
              "       20, 20, 20, 20, 20, 20, 20, 20, 20, 20, 20, 21, 21, 21, 21, 21, 21,\n",
              "       21, 21, 21, 21, 21, 22, 22, 22, 22, 22, 22, 22, 22, 22, 22, 22, 23,\n",
              "       23, 23, 23, 23, 23, 23, 23, 23, 23, 23, 24, 24, 24, 24, 24, 24, 24,\n",
              "       24, 54, 24, 24, 25, 25, 25, 25, 25, 25, 25, 25, 25, 25, 25, 26, 26,\n",
              "       26, 26, 26, 26, 26, 26, 26, 26, 26, 27, 27, 27, 27, 27, 27, 27, 27,\n",
              "       27, 27, 27, 28, 28, 28, 28, 28, 28, 28, 28, 28, 28, 28, 29, 29, 29,\n",
              "       29, 29, 29, 29, 29, 29, 29, 54, 30, 30, 30, 30, 30, 30, 30, 30, 30,\n",
              "       30, 30, 31, 31, 31, 31, 31, 31, 31, 31, 31, 40, 23, 32, 32, 32, 32,\n",
              "       32, 32, 32, 32, 32, 32, 32, 33, 33, 33, 33, 33, 33, 33, 33, 33, 33,\n",
              "       34, 34, 34, 34, 34, 34, 34, 34, 34, 34, 34, 35, 35, 35, 35, 35, 35,\n",
              "       35, 35, 35, 35, 35, 36, 36, 36, 36, 36, 36, 36, 36, 36,  4, 36, 36,\n",
              "       36, 36, 36, 36, 36, 36, 36, 36, 36, 37, 37, 37, 37, 37, 37, 37, 37,\n",
              "       37, 37, 52, 38, 38, 38, 38, 38, 38, 38, 38, 38, 38, 38, 38, 38, 38,\n",
              "       38, 38, 38, 38, 38, 38, 38, 39, 39, 39, 39, 39, 39, 39, 39, 39, 39,\n",
              "       39, 40, 40, 40, 40, 40, 40, 40, 40, 40, 40, 40, 40, 40, 40, 36, 40,\n",
              "       40, 40, 40, 40, 54, 41, 41, 41, 41, 41, 41, 41, 41, 41, 41, 41, 11,\n",
              "       42, 42, 42, 42, 42, 42, 42, 42, 42, 42, 42, 42, 42, 42, 42, 42, 42,\n",
              "       42, 42, 42, 43, 43, 43, 43, 43, 43, 43, 43, 43, 43, 43, 44, 44, 44,\n",
              "       44, 44, 44, 44, 54, 44, 44, 44, 44, 44, 44, 44, 40, 44, 44, 44, 44,\n",
              "       44, 45, 45, 45, 45, 45, 45, 45, 45, 45, 45, 45, 46, 46, 46, 46, 46,\n",
              "       46, 46, 46, 46, 46, 46, 47, 47, 47, 47, 47, 47, 47, 47, 47, 47, 47,\n",
              "       48, 48, 48, 48, 48, 48, 48, 48, 48, 48, 43, 49, 49, 49, 49, 49, 49,\n",
              "       49, 49, 49, 49, 49, 49, 49,  4, 49, 49, 49, 49, 49,  5, 49, 50, 50,\n",
              "       50, 50, 50, 50, 50, 50, 50, 50, 50, 51, 51, 51, 51, 51, 51, 51, 51,\n",
              "       51, 51, 51, 52, 52, 52, 52, 52, 52, 52, 52, 52, 52, 52, 52, 52, 52,\n",
              "       52, 52, 52, 52, 52, 52, 52, 53, 53, 53, 53, 53, 53, 53, 53, 53, 53,\n",
              "       53, 54, 54, 54, 54, 54, 54, 54, 54, 54, 54, 54, 54, 54, 54, 54, 54,\n",
              "       54, 54, 54, 54, 54, 55, 55, 55, 55, 55, 55, 55, 55, 55, 55, 55, 56,\n",
              "       56, 56, 56, 56, 56, 56, 56, 56, 56, 56, 56, 56, 56, 56, 56, 56, 56,\n",
              "       56, 56, 56, 57, 57, 57, 57, 57, 57, 57, 57, 57, 57, 57, 58, 58, 58,\n",
              "       58, 58, 16, 58, 58, 58, 58, 58, 59, 59, 59, 59, 59, 59, 59, 59, 59,\n",
              "       59, 59])"
            ]
          },
          "metadata": {
            "tags": []
          },
          "execution_count": 71
        }
      ]
    },
    {
      "cell_type": "code",
      "metadata": {
        "id": "Tbm5TUI0qS4p",
        "colab_type": "code",
        "colab": {}
      },
      "source": [
        "from sklearn.metrics import accuracy_score\n",
        "from sklearn.metrics import precision_score\n",
        "from sklearn.metrics import recall_score\n",
        "from sklearn.metrics import f1_score\n",
        "from sklearn.metrics import cohen_kappa_score\n",
        "from sklearn.metrics import roc_auc_score"
      ],
      "execution_count": null,
      "outputs": []
    },
    {
      "cell_type": "code",
      "metadata": {
        "id": "DuTucrUBqV79",
        "colab_type": "code",
        "colab": {
          "base_uri": "https://localhost:8080/",
          "height": 34
        },
        "outputId": "461e8bad-0f8a-48ef-a2b0-ad008f152505"
      },
      "source": [
        "Grey_accuracy = accuracy_score(GreyTestData.classes, Grey_predict_classes)\n",
        "print(\"Grey Accuracy: \", Grey_accuracy)"
      ],
      "execution_count": null,
      "outputs": [
        {
          "output_type": "stream",
          "text": [
            "Grey Accuracy:  0.9693333333333334\n"
          ],
          "name": "stdout"
        }
      ]
    },
    {
      "cell_type": "code",
      "metadata": {
        "id": "2nlVDCf5qYH9",
        "colab_type": "code",
        "colab": {
          "base_uri": "https://localhost:8080/",
          "height": 34
        },
        "outputId": "681eedc7-f784-4329-b88e-542a85a99403"
      },
      "source": [
        "Grey_precision = precision_score(GreyTestData.classes, Grey_predict_classes,average=\"weighted\")\n",
        "print(\"Grey Precision: \", Grey_precision)"
      ],
      "execution_count": null,
      "outputs": [
        {
          "output_type": "stream",
          "text": [
            "Grey Precision:  0.972913086913087\n"
          ],
          "name": "stdout"
        }
      ]
    },
    {
      "cell_type": "code",
      "metadata": {
        "id": "HnSW_2ROqaYb",
        "colab_type": "code",
        "colab": {
          "base_uri": "https://localhost:8080/",
          "height": 34
        },
        "outputId": "b896d269-7703-4cda-a3e4-236653717f36"
      },
      "source": [
        "Grey_recall = recall_score(GreyTestData.classes, Grey_predict_classes, average=\"weighted\")\n",
        "print(\"Grey Recall:\", Grey_recall)"
      ],
      "execution_count": null,
      "outputs": [
        {
          "output_type": "stream",
          "text": [
            "Grey Recall: 0.9693333333333334\n"
          ],
          "name": "stdout"
        }
      ]
    },
    {
      "cell_type": "code",
      "metadata": {
        "id": "dyV6gxhQqdPX",
        "colab_type": "code",
        "colab": {
          "base_uri": "https://localhost:8080/",
          "height": 34
        },
        "outputId": "b0492e56-d94e-4327-8b44-a7cc50ef0354"
      },
      "source": [
        "Grey_f1_score = f1_score(GreyTestData.classes, Grey_predict_classes, average=\"weighted\")\n",
        "print(\"F1 score for Grey: \", Grey_f1_score)"
      ],
      "execution_count": null,
      "outputs": [
        {
          "output_type": "stream",
          "text": [
            "F1 score for Grey:  0.9694708322365545\n"
          ],
          "name": "stdout"
        }
      ]
    },
    {
      "cell_type": "markdown",
      "metadata": {
        "id": "F1fZRMi0qvJg",
        "colab_type": "text"
      },
      "source": [
        "**Processinf for Colour Data.**"
      ]
    },
    {
      "cell_type": "code",
      "metadata": {
        "id": "MejZSik6qujf",
        "colab_type": "code",
        "colab": {
          "base_uri": "https://localhost:8080/",
          "height": 34
        },
        "outputId": "0f8d3e19-7871-43a0-bf3b-bd812d2af070"
      },
      "source": [
        "Colour_TrainingData =  DataGenerator.flow_from_directory('/content/drive/My Drive/curetDataSet/Train/', target_size=(224,224), batch_size=8)"
      ],
      "execution_count": null,
      "outputs": [
        {
          "output_type": "stream",
          "text": [
            "Found 12733 images belonging to 60 classes.\n"
          ],
          "name": "stdout"
        }
      ]
    },
    {
      "cell_type": "code",
      "metadata": {
        "id": "6Tv-MlCaqqwy",
        "colab_type": "code",
        "colab": {
          "base_uri": "https://localhost:8080/",
          "height": 34
        },
        "outputId": "0af903a1-d08b-461f-d96f-de0aa0cf4581"
      },
      "source": [
        "Colour_ValidData =  DataGenerator.flow_from_directory('/content/drive/My Drive/curetDataSet/Valid/', target_size=(224,224), batch_size=8)"
      ],
      "execution_count": null,
      "outputs": [
        {
          "output_type": "stream",
          "text": [
            "Found 693 images belonging to 60 classes.\n"
          ],
          "name": "stdout"
        }
      ]
    },
    {
      "cell_type": "code",
      "metadata": {
        "id": "8P7y8te7rYha",
        "colab_type": "code",
        "colab": {}
      },
      "source": [
        "conv_base_colour = VGG16(weights = \"imagenet\", include_top = False)"
      ],
      "execution_count": null,
      "outputs": []
    },
    {
      "cell_type": "code",
      "metadata": {
        "id": "huyzUAHGro7w",
        "colab_type": "code",
        "colab": {}
      },
      "source": [
        "for layer in conv_base_colour.layers[:15]:\n",
        "  layer.trainable = False\n",
        "for layer in conv_base_colour.layers[15:]:\n",
        "  layer.trainable = True"
      ],
      "execution_count": null,
      "outputs": []
    },
    {
      "cell_type": "code",
      "metadata": {
        "id": "4uU6cctfr3wV",
        "colab_type": "code",
        "colab": {}
      },
      "source": [
        "from keras.layers import Input "
      ],
      "execution_count": null,
      "outputs": []
    },
    {
      "cell_type": "code",
      "metadata": {
        "id": "7gDr9ABIr-qX",
        "colab_type": "code",
        "colab": {}
      },
      "source": [
        "input_tensor = Input(shape=(224,224,3))\n",
        "x = conv_base_colour(input_tensor)\n",
        "x = Flatten()(x)\n",
        "x = Dense(2048, activation='relu', kernel_regularizer= regularizers.l2(0.001))(x)\n",
        "x = BatchNormalization()(x)\n",
        "x = Dropout(0.5)(x)\n",
        "ouput = Dense(60, activation='softmax')(x)"
      ],
      "execution_count": null,
      "outputs": []
    },
    {
      "cell_type": "code",
      "metadata": {
        "id": "E9ZzwZgNsg_v",
        "colab_type": "code",
        "colab": {}
      },
      "source": [
        "colour_model = Model(inputs = input_tensor, outputs = ouput )"
      ],
      "execution_count": null,
      "outputs": []
    },
    {
      "cell_type": "code",
      "metadata": {
        "id": "CMJ0-W89WVAq",
        "colab_type": "code",
        "colab": {}
      },
      "source": [
        ""
      ],
      "execution_count": null,
      "outputs": []
    },
    {
      "cell_type": "code",
      "metadata": {
        "id": "VzXH6-o6skUb",
        "colab_type": "code",
        "colab": {}
      },
      "source": [
        "colour_model.compile(loss='categorical_crossentropy',\n",
        "              optimizer=Adam(lr=0.001),\n",
        "              metrics=['accuracy'])"
      ],
      "execution_count": null,
      "outputs": []
    },
    {
      "cell_type": "code",
      "metadata": {
        "id": "b5atmCntsnHN",
        "colab_type": "code",
        "colab": {}
      },
      "source": [
        "from keras.callbacks import ModelCheckpoint, EarlyStopping, ReduceLROnPlateau\n",
        "checkpoint = ModelCheckpoint(\"/content/drive/My Drive/curetDataSet/Curnet_VGG16_Colour.h5\",\n",
        "                             monitor=\"val_loss\",\n",
        "                             mode=\"min\",\n",
        "                             save_best_only = True,\n",
        "                             verbose=1)\n",
        "\n",
        "earlystop = EarlyStopping(monitor = 'val_loss', \n",
        "                          min_delta = 0, \n",
        "                          patience = 40,\n",
        "                          verbose = 1,\n",
        "                          restore_best_weights = True)\n",
        "\n",
        "reduce_lr = ReduceLROnPlateau(monitor = 'val_loss',\n",
        "                              factor = 0.2,\n",
        "                              patience = 40,\n",
        "                              verbose = 1,\n",
        "                              min_delta = 0.00001)\n",
        "\n",
        "callBacks = [earlystop, checkpoint, reduce_lr]"
      ],
      "execution_count": null,
      "outputs": []
    },
    {
      "cell_type": "code",
      "metadata": {
        "id": "cjSkaPQXssrc",
        "colab_type": "code",
        "colab": {
          "base_uri": "https://localhost:8080/",
          "height": 1000
        },
        "outputId": "359e9fb2-a585-40cc-caf4-9d3548cd5567"
      },
      "source": [
        "hist = colour_model.fit_generator(steps_per_epoch=1592,generator= Colour_TrainingData, validation_data= Colour_ValidData, validation_steps=87,epochs=35,callbacks=callBacks)"
      ],
      "execution_count": null,
      "outputs": [
        {
          "output_type": "stream",
          "text": [
            "Epoch 1/35\n",
            "1592/1592 [==============================] - ETA: 0s - loss: 3.5415 - accuracy: 0.3377\n",
            "Epoch 00001: val_loss improved from inf to 4.14365, saving model to /content/drive/My Drive/curetDataSet/Curnet_VGG16_Colour.h5\n",
            "1592/1592 [==============================] - 278s 175ms/step - loss: 3.5415 - accuracy: 0.3377 - val_loss: 4.1437 - val_accuracy: 0.3276\n",
            "Epoch 2/35\n",
            "1592/1592 [==============================] - ETA: 0s - loss: 2.3281 - accuracy: 0.5586\n",
            "Epoch 00002: val_loss did not improve from 4.14365\n",
            "1592/1592 [==============================] - 289s 182ms/step - loss: 2.3281 - accuracy: 0.5586 - val_loss: 7.9050 - val_accuracy: 0.1905\n",
            "Epoch 3/35\n",
            "1592/1592 [==============================] - ETA: 0s - loss: 2.4401 - accuracy: 0.6171\n",
            "Epoch 00003: val_loss did not improve from 4.14365\n",
            "1592/1592 [==============================] - 262s 165ms/step - loss: 2.4401 - accuracy: 0.6171 - val_loss: 6.7608 - val_accuracy: 0.2367\n",
            "Epoch 4/35\n",
            "1592/1592 [==============================] - ETA: 0s - loss: 2.2848 - accuracy: 0.6853\n",
            "Epoch 00004: val_loss improved from 4.14365 to 3.83995, saving model to /content/drive/My Drive/curetDataSet/Curnet_VGG16_Colour.h5\n",
            "1592/1592 [==============================] - 252s 158ms/step - loss: 2.2848 - accuracy: 0.6853 - val_loss: 3.8400 - val_accuracy: 0.6811\n",
            "Epoch 5/35\n",
            "1592/1592 [==============================] - ETA: 0s - loss: 2.1443 - accuracy: 0.7334\n",
            "Epoch 00005: val_loss did not improve from 3.83995\n",
            "1592/1592 [==============================] - 279s 175ms/step - loss: 2.1443 - accuracy: 0.7334 - val_loss: 4.9954 - val_accuracy: 0.7778\n",
            "Epoch 6/35\n",
            "1592/1592 [==============================] - ETA: 0s - loss: 2.0550 - accuracy: 0.7541\n",
            "Epoch 00006: val_loss improved from 3.83995 to 1.84277, saving model to /content/drive/My Drive/curetDataSet/Curnet_VGG16_Colour.h5\n",
            "1592/1592 [==============================] - 260s 163ms/step - loss: 2.0550 - accuracy: 0.7541 - val_loss: 1.8428 - val_accuracy: 0.8009\n",
            "Epoch 7/35\n",
            "1592/1592 [==============================] - ETA: 0s - loss: 1.7540 - accuracy: 0.7938\n",
            "Epoch 00007: val_loss did not improve from 1.84277\n",
            "1592/1592 [==============================] - 277s 174ms/step - loss: 1.7540 - accuracy: 0.7938 - val_loss: 4.4715 - val_accuracy: 0.4459\n",
            "Epoch 8/35\n",
            "1592/1592 [==============================] - ETA: 0s - loss: 1.5862 - accuracy: 0.8187\n",
            "Epoch 00008: val_loss did not improve from 1.84277\n",
            "1592/1592 [==============================] - 252s 158ms/step - loss: 1.5862 - accuracy: 0.8187 - val_loss: 12.8714 - val_accuracy: 0.2785\n",
            "Epoch 9/35\n",
            "1592/1592 [==============================] - ETA: 0s - loss: 1.3896 - accuracy: 0.8488\n",
            "Epoch 00009: val_loss did not improve from 1.84277\n",
            "1592/1592 [==============================] - 241s 151ms/step - loss: 1.3896 - accuracy: 0.8488 - val_loss: 6.8856 - val_accuracy: 0.4228\n",
            "Epoch 10/35\n",
            "1592/1592 [==============================] - ETA: 0s - loss: 1.3855 - accuracy: 0.8508\n",
            "Epoch 00010: val_loss improved from 1.84277 to 1.40903, saving model to /content/drive/My Drive/curetDataSet/Curnet_VGG16_Colour.h5\n",
            "1592/1592 [==============================] - 243s 153ms/step - loss: 1.3855 - accuracy: 0.8508 - val_loss: 1.4090 - val_accuracy: 0.8687\n",
            "Epoch 11/35\n",
            "1592/1592 [==============================] - ETA: 0s - loss: 1.4597 - accuracy: 0.8121\n",
            "Epoch 00011: val_loss did not improve from 1.40903\n",
            "1592/1592 [==============================] - 273s 171ms/step - loss: 1.4597 - accuracy: 0.8121 - val_loss: 16.0503 - val_accuracy: 0.7518\n",
            "Epoch 12/35\n",
            "1592/1592 [==============================] - ETA: 0s - loss: 1.0846 - accuracy: 0.8604\n",
            "Epoch 00012: val_loss did not improve from 1.40903\n",
            "1592/1592 [==============================] - 256s 161ms/step - loss: 1.0846 - accuracy: 0.8604 - val_loss: 2.3915 - val_accuracy: 0.9466\n",
            "Epoch 13/35\n",
            "1592/1592 [==============================] - ETA: 0s - loss: 0.9252 - accuracy: 0.8907\n",
            "Epoch 00013: val_loss improved from 1.40903 to 1.28342, saving model to /content/drive/My Drive/curetDataSet/Curnet_VGG16_Colour.h5\n",
            "1592/1592 [==============================] - 245s 154ms/step - loss: 0.9252 - accuracy: 0.8907 - val_loss: 1.2834 - val_accuracy: 0.8052\n",
            "Epoch 14/35\n",
            "1592/1592 [==============================] - ETA: 0s - loss: 1.2185 - accuracy: 0.8066\n",
            "Epoch 00014: val_loss improved from 1.28342 to 1.24064, saving model to /content/drive/My Drive/curetDataSet/Curnet_VGG16_Colour.h5\n",
            "1592/1592 [==============================] - 277s 174ms/step - loss: 1.2185 - accuracy: 0.8066 - val_loss: 1.2406 - val_accuracy: 0.7734\n",
            "Epoch 15/35\n",
            "1592/1592 [==============================] - ETA: 0s - loss: 0.8185 - accuracy: 0.8801\n",
            "Epoch 00015: val_loss did not improve from 1.24064\n",
            "1592/1592 [==============================] - 286s 180ms/step - loss: 0.8185 - accuracy: 0.8801 - val_loss: 7.6482 - val_accuracy: 0.2915\n",
            "Epoch 16/35\n",
            "1592/1592 [==============================] - ETA: 0s - loss: 0.7495 - accuracy: 0.8904\n",
            "Epoch 00016: val_loss did not improve from 1.24064\n",
            "1592/1592 [==============================] - 259s 163ms/step - loss: 0.7495 - accuracy: 0.8904 - val_loss: 3.0708 - val_accuracy: 0.6825\n",
            "Epoch 17/35\n",
            "1592/1592 [==============================] - ETA: 0s - loss: 0.7128 - accuracy: 0.9036\n",
            "Epoch 00017: val_loss did not improve from 1.24064\n",
            "1592/1592 [==============================] - 247s 155ms/step - loss: 0.7128 - accuracy: 0.9036 - val_loss: 14.1212 - val_accuracy: 0.1515\n",
            "Epoch 18/35\n",
            "1592/1592 [==============================] - ETA: 0s - loss: 0.9862 - accuracy: 0.8529\n",
            "Epoch 00018: val_loss improved from 1.24064 to 1.04238, saving model to /content/drive/My Drive/curetDataSet/Curnet_VGG16_Colour.h5\n",
            "1592/1592 [==============================] - 247s 155ms/step - loss: 0.9862 - accuracy: 0.8529 - val_loss: 1.0424 - val_accuracy: 0.8528\n",
            "Epoch 19/35\n",
            "1592/1592 [==============================] - ETA: 0s - loss: 0.7703 - accuracy: 0.8960\n",
            "Epoch 00019: val_loss did not improve from 1.04238\n",
            "1592/1592 [==============================] - 276s 174ms/step - loss: 0.7703 - accuracy: 0.8960 - val_loss: 1.1372 - val_accuracy: 0.8860\n",
            "Epoch 20/35\n",
            "1592/1592 [==============================] - ETA: 0s - loss: 0.7247 - accuracy: 0.9086\n",
            "Epoch 00020: val_loss improved from 1.04238 to 0.72317, saving model to /content/drive/My Drive/curetDataSet/Curnet_VGG16_Colour.h5\n",
            "1592/1592 [==============================] - 263s 165ms/step - loss: 0.7247 - accuracy: 0.9086 - val_loss: 0.7232 - val_accuracy: 0.9048\n",
            "Epoch 21/35\n",
            "1592/1592 [==============================] - ETA: 0s - loss: 0.8759 - accuracy: 0.8754\n",
            "Epoch 00021: val_loss improved from 0.72317 to 0.64495, saving model to /content/drive/My Drive/curetDataSet/Curnet_VGG16_Colour.h5\n",
            "1592/1592 [==============================] - 284s 178ms/step - loss: 0.8759 - accuracy: 0.8754 - val_loss: 0.6449 - val_accuracy: 0.9452\n",
            "Epoch 22/35\n",
            "1592/1592 [==============================] - ETA: 0s - loss: 0.6869 - accuracy: 0.9157\n",
            "Epoch 00022: val_loss did not improve from 0.64495\n",
            "1592/1592 [==============================] - 285s 179ms/step - loss: 0.6869 - accuracy: 0.9157 - val_loss: 1.3684 - val_accuracy: 0.8600\n",
            "Epoch 23/35\n",
            "1592/1592 [==============================] - ETA: 0s - loss: 0.6594 - accuracy: 0.9208\n",
            "Epoch 00023: val_loss improved from 0.64495 to 0.62322, saving model to /content/drive/My Drive/curetDataSet/Curnet_VGG16_Colour.h5\n",
            "1592/1592 [==============================] - 265s 166ms/step - loss: 0.6594 - accuracy: 0.9208 - val_loss: 0.6232 - val_accuracy: 0.9293\n",
            "Epoch 24/35\n",
            "1592/1592 [==============================] - ETA: 0s - loss: 0.6186 - accuracy: 0.9305\n",
            "Epoch 00024: val_loss did not improve from 0.62322\n",
            "1592/1592 [==============================] - 280s 176ms/step - loss: 0.6186 - accuracy: 0.9305 - val_loss: 1.1946 - val_accuracy: 0.9105\n",
            "Epoch 25/35\n",
            "1592/1592 [==============================] - ETA: 0s - loss: 0.6235 - accuracy: 0.9321\n",
            "Epoch 00025: val_loss improved from 0.62322 to 0.50390, saving model to /content/drive/My Drive/curetDataSet/Curnet_VGG16_Colour.h5\n",
            "1592/1592 [==============================] - 263s 165ms/step - loss: 0.6235 - accuracy: 0.9321 - val_loss: 0.5039 - val_accuracy: 0.9683\n",
            "Epoch 26/35\n",
            "1592/1592 [==============================] - ETA: 0s - loss: 0.6108 - accuracy: 0.9307\n",
            "Epoch 00026: val_loss improved from 0.50390 to 0.48856, saving model to /content/drive/My Drive/curetDataSet/Curnet_VGG16_Colour.h5\n",
            "1592/1592 [==============================] - 284s 178ms/step - loss: 0.6108 - accuracy: 0.9307 - val_loss: 0.4886 - val_accuracy: 0.9625\n",
            "Epoch 27/35\n",
            "1592/1592 [==============================] - ETA: 0s - loss: 0.5646 - accuracy: 0.9367\n",
            "Epoch 00027: val_loss did not improve from 0.48856\n",
            "1592/1592 [==============================] - 291s 183ms/step - loss: 0.5646 - accuracy: 0.9367 - val_loss: 0.5146 - val_accuracy: 0.9654\n",
            "Epoch 28/35\n",
            "1592/1592 [==============================] - ETA: 0s - loss: 0.5519 - accuracy: 0.9410\n",
            "Epoch 00028: val_loss improved from 0.48856 to 0.44879, saving model to /content/drive/My Drive/curetDataSet/Curnet_VGG16_Colour.h5\n",
            "1592/1592 [==============================] - 268s 169ms/step - loss: 0.5519 - accuracy: 0.9410 - val_loss: 0.4488 - val_accuracy: 0.9654\n",
            "Epoch 29/35\n",
            "1592/1592 [==============================] - ETA: 0s - loss: 0.5470 - accuracy: 0.9410\n",
            "Epoch 00029: val_loss did not improve from 0.44879\n",
            "1592/1592 [==============================] - 284s 178ms/step - loss: 0.5470 - accuracy: 0.9410 - val_loss: 0.4986 - val_accuracy: 0.9596\n",
            "Epoch 30/35\n",
            "1592/1592 [==============================] - ETA: 0s - loss: 0.5334 - accuracy: 0.9421\n",
            "Epoch 00030: val_loss did not improve from 0.44879\n",
            "1592/1592 [==============================] - 258s 162ms/step - loss: 0.5334 - accuracy: 0.9421 - val_loss: 0.5784 - val_accuracy: 0.9380\n",
            "Epoch 31/35\n",
            "1592/1592 [==============================] - ETA: 0s - loss: 0.5187 - accuracy: 0.9456\n",
            "Epoch 00031: val_loss did not improve from 0.44879\n",
            "1592/1592 [==============================] - 244s 153ms/step - loss: 0.5187 - accuracy: 0.9456 - val_loss: 0.6669 - val_accuracy: 0.9004\n",
            "Epoch 32/35\n",
            "1592/1592 [==============================] - ETA: 0s - loss: 0.5159 - accuracy: 0.9487\n",
            "Epoch 00032: val_loss did not improve from 0.44879\n",
            "1592/1592 [==============================] - 245s 154ms/step - loss: 0.5159 - accuracy: 0.9487 - val_loss: 0.4636 - val_accuracy: 0.9596\n",
            "Epoch 33/35\n",
            "1592/1592 [==============================] - ETA: 0s - loss: 0.6955 - accuracy: 0.8984\n",
            "Epoch 00033: val_loss improved from 0.44879 to 0.43283, saving model to /content/drive/My Drive/curetDataSet/Curnet_VGG16_Colour.h5\n",
            "1592/1592 [==============================] - 248s 156ms/step - loss: 0.6955 - accuracy: 0.8984 - val_loss: 0.4328 - val_accuracy: 0.9726\n",
            "Epoch 34/35\n",
            "1592/1592 [==============================] - ETA: 0s - loss: 0.5315 - accuracy: 0.9268\n",
            "Epoch 00034: val_loss did not improve from 0.43283\n",
            "1592/1592 [==============================] - 274s 172ms/step - loss: 0.5315 - accuracy: 0.9268 - val_loss: 0.4852 - val_accuracy: 0.9812\n",
            "Epoch 35/35\n",
            "1592/1592 [==============================] - ETA: 0s - loss: 0.3958 - accuracy: 0.9533\n",
            "Epoch 00035: val_loss did not improve from 0.43283\n",
            "1592/1592 [==============================] - 253s 159ms/step - loss: 0.3958 - accuracy: 0.9533 - val_loss: 0.8311 - val_accuracy: 0.9654\n"
          ],
          "name": "stdout"
        }
      ]
    },
    {
      "cell_type": "code",
      "metadata": {
        "id": "-UEGFUxkswRb",
        "colab_type": "code",
        "colab": {
          "base_uri": "https://localhost:8080/",
          "height": 295
        },
        "outputId": "190deae4-2439-4ed3-8010-99db75835ec3"
      },
      "source": [
        "import matplotlib.pyplot as plt\n",
        "plt.plot(hist.history[\"accuracy\"])\n",
        "plt.plot(hist.history['val_accuracy'])\n",
        "plt.title(\"model accuracy\")\n",
        "plt.ylabel(\"Accuracy\")\n",
        "plt.xlabel(\"Epoch\")\n",
        "plt.legend([\"Accuracy\",\"Validation Accuracy\"])\n",
        "plt.show()"
      ],
      "execution_count": null,
      "outputs": [
        {
          "output_type": "display_data",
          "data": {
            "image/png": "[encoded data removed]",
            "text/plain": [
              "<Figure size 432x288 with 1 Axes>"
            ]
          },
          "metadata": {
            "tags": [],
            "needs_background": "light"
          }
        }
      ]
    },
    {
      "cell_type": "code",
      "metadata": {
        "id": "KlsUF2wssyp5",
        "colab_type": "code",
        "colab": {
          "base_uri": "https://localhost:8080/",
          "height": 295
        },
        "outputId": "6e8b1364-224e-458b-d377-a849387c0df0"
      },
      "source": [
        "plt.plot(hist.history['loss'])\n",
        "plt.plot(hist.history['val_loss'])\n",
        "plt.title(\"model Loss\")\n",
        "plt.ylabel(\"Loss\")\n",
        "plt.xlabel(\"Epoch\")\n",
        "plt.legend([\"Loss\",\"Validation Loss\"])\n",
        "plt.show()"
      ],
      "execution_count": null,
      "outputs": [
        {
          "output_type": "display_data",
          "data": {
            "image/png": "[encoded data removed]",
            "text/plain": [
              "<Figure size 432x288 with 1 Axes>"
            ]
          },
          "metadata": {
            "tags": [],
            "needs_background": "light"
          }
        }
      ]
    },
    {
      "cell_type": "code",
      "metadata": {
        "id": "JoUyaqSjs0Za",
        "colab_type": "code",
        "colab": {
          "base_uri": "https://localhost:8080/",
          "height": 34
        },
        "outputId": "ef14884d-b923-4158-f0c3-0c0ffa0dca14"
      },
      "source": [
        "Colour_TestData = TestGenerator.flow_from_directory('/content/drive/My Drive/curetDataSet/Test/', target_size=(224,224), batch_size = 8, shuffle = False)"
      ],
      "execution_count": null,
      "outputs": [
        {
          "output_type": "stream",
          "text": [
            "Found 750 images belonging to 60 classes.\n"
          ],
          "name": "stdout"
        }
      ]
    },
    {
      "cell_type": "code",
      "metadata": {
        "id": "_7Rii-1X_YTz",
        "colab_type": "code",
        "colab": {}
      },
      "source": [
        "colour_model.load_weights('/content/drive/My Drive/curetDataSet/Curnet_VGG16_Colour.h5')"
      ],
      "execution_count": null,
      "outputs": []
    },
    {
      "cell_type": "code",
      "metadata": {
        "id": "mw0g0j51s2pH",
        "colab_type": "code",
        "colab": {}
      },
      "source": [
        "Colour_predict = colour_model.predict(Colour_TestData)"
      ],
      "execution_count": null,
      "outputs": []
    },
    {
      "cell_type": "code",
      "metadata": {
        "id": "cNUbOHXGs4ce",
        "colab_type": "code",
        "colab": {}
      },
      "source": [
        "Colour_predict_classes = np.argmax(Colour_predict, axis=1)"
      ],
      "execution_count": null,
      "outputs": []
    },
    {
      "cell_type": "code",
      "metadata": {
        "id": "2I3mZNGjs6YL",
        "colab_type": "code",
        "colab": {
          "base_uri": "https://localhost:8080/",
          "height": 782
        },
        "outputId": "645e13cd-a752-429a-9338-6479cc3e9b9a"
      },
      "source": [
        "Colour_predict_classes"
      ],
      "execution_count": null,
      "outputs": [
        {
          "output_type": "execute_result",
          "data": {
            "text/plain": [
              "array([ 0,  0,  0,  0,  0,  0,  0,  0,  0,  0,  0,  0,  1,  1,  1,  1,  1,\n",
              "        1,  1,  1,  1,  1,  1,  2,  2,  2,  2,  2,  2,  2,  2,  2,  2,  2,\n",
              "        3,  3,  3,  3,  5,  3,  3,  3,  9,  3,  0,  4,  4, 42,  4,  4,  4,\n",
              "        4,  4,  4,  4, 16,  5,  5,  5,  5,  5,  5,  5,  5,  5,  5,  5,  5,\n",
              "        5,  6,  6,  6,  6,  6,  6,  6,  6,  6,  7,  7,  7,  7,  7,  7,  7,\n",
              "        7,  7, 24,  7,  8,  8,  8,  8,  8,  8,  8,  8,  8,  8,  8,  9,  9,\n",
              "        9,  9,  9,  9,  9,  9,  9,  9,  9, 10, 10, 10, 10, 10, 10, 10, 10,\n",
              "       10, 10, 10, 11, 11, 11, 11, 11, 11, 11, 11, 11, 11, 11, 12, 12, 12,\n",
              "       12, 12, 12, 12, 12, 12, 12, 12, 13, 13, 13, 13, 13, 13, 13, 13, 13,\n",
              "       13, 13, 14, 14, 14, 14, 14, 14, 14, 14, 14, 14, 14, 15, 15, 15, 15,\n",
              "       15, 15, 15, 15, 15, 15, 15, 16, 16, 16, 16, 16, 16, 16, 16, 16, 16,\n",
              "       16, 17, 17, 17, 17, 17, 17, 17, 17, 17, 17, 17, 18, 18, 18, 18, 18,\n",
              "       18, 18, 18, 18, 18, 18, 19, 19, 19, 19, 19, 19, 19, 19, 19, 19, 19,\n",
              "       20, 20, 20, 20, 20, 20, 20, 20, 20, 20, 20, 21, 21, 21, 21, 21, 21,\n",
              "       21, 21, 21, 21, 21, 22, 22, 22, 22, 22, 22, 22, 22, 22, 22, 22, 23,\n",
              "       23,  5, 23, 23, 23, 23, 23, 23, 23, 31, 24, 24, 24, 24, 24, 24, 24,\n",
              "       24, 24, 24, 24, 25, 16, 25, 25, 25, 25, 25, 25, 25, 25, 25, 26, 26,\n",
              "       26, 26, 26, 26, 26, 26, 26, 26, 26, 27, 27, 27, 27, 27, 27, 27, 27,\n",
              "       27, 27, 27, 28, 28, 28, 28, 28, 28, 28, 28, 28, 28, 28, 29, 29, 29,\n",
              "       29, 29, 29, 29, 29, 29, 29, 29, 30, 30, 30, 30, 30, 30, 30, 30, 30,\n",
              "       30, 30, 31, 31, 31, 31, 31, 31, 31, 31, 31, 31, 23, 32, 32, 32, 32,\n",
              "       32, 32, 32, 16, 32, 32, 34, 33, 33, 33, 33, 33, 33, 33, 33, 33, 33,\n",
              "       34, 34, 34, 34, 34, 34, 34, 34, 34, 34, 34, 35, 35, 35, 35, 35, 35,\n",
              "       35, 35, 35, 35, 35, 36, 36, 36, 36, 36, 36, 36, 36, 36, 16, 36, 36,\n",
              "       36, 36, 40, 36, 36, 36, 36, 36, 36, 37, 37, 37, 37, 37, 37, 37, 37,\n",
              "       37, 37, 37, 38, 38, 38, 38, 38, 38, 38, 38, 38, 38, 38, 38, 38, 38,\n",
              "       38, 38, 38, 38, 32, 38, 38, 39, 39, 39, 39, 39, 39, 39, 39, 39, 39,\n",
              "       39, 40, 40, 40, 40, 40, 40, 40, 40, 40, 40, 40, 40, 40, 40, 40, 40,\n",
              "       40, 40, 40, 40, 40, 41, 41, 41, 41, 41, 41, 41, 41, 41, 41, 41, 42,\n",
              "       42, 42, 42, 42, 42, 42, 42, 42, 42, 42, 42, 42, 42, 42, 42, 42, 42,\n",
              "       42, 42, 42, 43, 43, 43, 43, 43, 43, 43, 43, 43, 43, 43, 44, 44, 44,\n",
              "       44, 44, 44, 44, 44, 44, 44, 44, 44, 44, 44, 44, 26, 44, 44, 44, 44,\n",
              "       44, 45, 45, 45, 45, 45, 45, 45, 45, 45, 45, 45, 46, 46, 46, 46, 46,\n",
              "       46, 46, 46, 46, 46, 46, 47, 47, 47, 47, 47, 47, 47, 47, 47, 47, 47,\n",
              "       48, 48, 48, 48, 48, 48, 48, 48, 48, 48, 48, 49, 49, 49, 49, 49, 49,\n",
              "       49, 49, 49, 49, 49, 49, 49, 40, 49, 49, 49, 49, 49, 54, 32, 50, 50,\n",
              "       50, 50, 50, 50, 50, 50, 50, 50, 50, 51, 51, 51, 51, 51, 51, 51, 51,\n",
              "       51, 51, 51, 52, 52, 52, 52, 52, 52, 52, 52, 52, 52, 52, 52, 52, 52,\n",
              "       52, 52, 52, 52, 52, 52, 52, 53, 53, 53, 53, 53, 53, 53, 53, 53, 53,\n",
              "       53, 54, 54, 54, 54, 54, 54, 54, 54, 54, 54, 54, 54, 54, 42, 54, 54,\n",
              "       54, 54, 54, 54, 54, 55, 55, 55, 55, 55, 55, 55, 55, 55, 55, 55, 56,\n",
              "       56, 56, 56, 56, 56, 56, 56, 56, 56, 56, 56, 56, 56, 56, 56, 56, 56,\n",
              "       56, 56, 56, 57, 57, 57, 57, 57, 57, 57, 57, 57, 57, 48, 58, 58, 58,\n",
              "       58, 58, 23, 58, 58, 58, 58, 58, 59, 59, 59, 59, 59, 59, 59, 59, 59,\n",
              "       59, 59])"
            ]
          },
          "metadata": {
            "tags": []
          },
          "execution_count": 92
        }
      ]
    },
    {
      "cell_type": "code",
      "metadata": {
        "id": "rW4GMRbYs9oC",
        "colab_type": "code",
        "colab": {
          "base_uri": "https://localhost:8080/",
          "height": 34
        },
        "outputId": "20679ccb-b618-4062-dc8a-2058481660e6"
      },
      "source": [
        "Colour_accuracy = accuracy_score(Colour_TestData.classes, Colour_predict_classes)\n",
        "print(\"Colour Accuracy: \", Colour_accuracy)"
      ],
      "execution_count": null,
      "outputs": [
        {
          "output_type": "stream",
          "text": [
            "Colour Accuracy:  0.968\n"
          ],
          "name": "stdout"
        }
      ]
    },
    {
      "cell_type": "code",
      "metadata": {
        "id": "8bzqgPcps_Jq",
        "colab_type": "code",
        "colab": {
          "base_uri": "https://localhost:8080/",
          "height": 34
        },
        "outputId": "25cd26ae-5a1c-4707-f886-6fdb2ede205f"
      },
      "source": [
        "Colour_precision = precision_score(Colour_TestData.classes, Colour_predict_classes,average=\"weighted\")\n",
        "print(\"Colour Precision: \", Colour_precision)"
      ],
      "execution_count": null,
      "outputs": [
        {
          "output_type": "stream",
          "text": [
            "Colour Precision:  0.971966332218506\n"
          ],
          "name": "stdout"
        }
      ]
    },
    {
      "cell_type": "code",
      "metadata": {
        "id": "P9zzsu-QtBAq",
        "colab_type": "code",
        "colab": {
          "base_uri": "https://localhost:8080/",
          "height": 34
        },
        "outputId": "45f7970c-8983-4640-e310-dcbd51199503"
      },
      "source": [
        "Colour_recall = recall_score(Colour_TestData.classes, Colour_predict_classes, average=\"weighted\")\n",
        "print(\"Colour Recall:\", Colour_recall)"
      ],
      "execution_count": null,
      "outputs": [
        {
          "output_type": "stream",
          "text": [
            "Colour Recall: 0.968\n"
          ],
          "name": "stdout"
        }
      ]
    },
    {
      "cell_type": "code",
      "metadata": {
        "id": "onT8nQFrtFr7",
        "colab_type": "code",
        "colab": {
          "base_uri": "https://localhost:8080/",
          "height": 34
        },
        "outputId": "c78e7824-092d-4779-f139-2d1e9a5203d4"
      },
      "source": [
        "Colour_f1_score = f1_score(Colour_TestData.classes, Colour_predict_classes, average=\"weighted\")\n",
        "print(\"F1 score for colour: \", Colour_f1_score)"
      ],
      "execution_count": null,
      "outputs": [
        {
          "output_type": "stream",
          "text": [
            "F1 score for colour:  0.9681508457315724\n"
          ],
          "name": "stdout"
        }
      ]
    },
    {
      "cell_type": "code",
      "metadata": {
        "id": "D7-3CnzytUDt",
        "colab_type": "code",
        "colab": {}
      },
      "source": [
        "Final = 0.6* Colour_predict + 0.4* Grey_predict"
      ],
      "execution_count": null,
      "outputs": []
    },
    {
      "cell_type": "code",
      "metadata": {
        "id": "bR9VQJCBtWZd",
        "colab_type": "code",
        "colab": {}
      },
      "source": [
        "Final_Predict_classes = np.argmax(Final, axis=1)"
      ],
      "execution_count": null,
      "outputs": []
    },
    {
      "cell_type": "code",
      "metadata": {
        "id": "a_TZEm44tZVX",
        "colab_type": "code",
        "colab": {
          "base_uri": "https://localhost:8080/",
          "height": 34
        },
        "outputId": "f7f8fa45-f545-4d78-f3f0-dbe0e4a29ab6"
      },
      "source": [
        "Final_accuracy = accuracy_score(Colour_TestData.classes, Final_Predict_classes)\n",
        "print(\"Colour Accuracy: \", Final_accuracy)"
      ],
      "execution_count": null,
      "outputs": [
        {
          "output_type": "stream",
          "text": [
            "Colour Accuracy:  0.9773333333333334\n"
          ],
          "name": "stdout"
        }
      ]
    },
    {
      "cell_type": "code",
      "metadata": {
        "id": "w7Cxr4SStaWy",
        "colab_type": "code",
        "colab": {
          "base_uri": "https://localhost:8080/",
          "height": 34
        },
        "outputId": "d69885dd-a73c-4c33-e680-78f8119a17a9"
      },
      "source": [
        "Final_precision = precision_score(Colour_TestData.classes, Final_Predict_classes,average=\"weighted\")\n",
        "print(\"Colour Precision: \", Final_precision)"
      ],
      "execution_count": null,
      "outputs": [
        {
          "output_type": "stream",
          "text": [
            "Colour Precision:  0.9795892870414609\n"
          ],
          "name": "stdout"
        }
      ]
    },
    {
      "cell_type": "code",
      "metadata": {
        "id": "ic6zEgqltciJ",
        "colab_type": "code",
        "colab": {
          "base_uri": "https://localhost:8080/",
          "height": 34
        },
        "outputId": "6046e5f8-13b9-4d52-f26a-f8f5b1a92f77"
      },
      "source": [
        "Final_recall = recall_score(Colour_TestData.classes, Final_Predict_classes, average=\"weighted\")\n",
        "print(\"Colour Recall:\", Final_recall)"
      ],
      "execution_count": null,
      "outputs": [
        {
          "output_type": "stream",
          "text": [
            "Colour Recall: 0.9773333333333334\n"
          ],
          "name": "stdout"
        }
      ]
    },
    {
      "cell_type": "code",
      "metadata": {
        "id": "IvZe1zlXtelX",
        "colab_type": "code",
        "colab": {
          "base_uri": "https://localhost:8080/",
          "height": 34
        },
        "outputId": "867d85f2-5d72-40d1-e58f-fa986144373d"
      },
      "source": [
        "Final_f1_score = f1_score(Colour_TestData.classes, Final_Predict_classes, average=\"weighted\")\n",
        "print(\"F1 score for colour: \", Final_f1_score)"
      ],
      "execution_count": null,
      "outputs": [
        {
          "output_type": "stream",
          "text": [
            "F1 score for colour:  0.9771563122433805\n"
          ],
          "name": "stdout"
        }
      ]
    },
    {
      "cell_type": "code",
      "metadata": {
        "id": "5iNFaHHDjQhI",
        "colab_type": "code",
        "colab": {}
      },
      "source": [
        "Second_final = 0.5* Colour_predict + 0.5* Grey_predict"
      ],
      "execution_count": null,
      "outputs": []
    },
    {
      "cell_type": "code",
      "metadata": {
        "id": "Zdi2PO5tjZqN",
        "colab_type": "code",
        "colab": {}
      },
      "source": [
        "Second_Final_Predict_classes = np.argmax(Second_final, axis=1)"
      ],
      "execution_count": null,
      "outputs": []
    },
    {
      "cell_type": "code",
      "metadata": {
        "id": "cV7YFSNkjlCO",
        "colab_type": "code",
        "colab": {
          "base_uri": "https://localhost:8080/",
          "height": 34
        },
        "outputId": "a52195eb-779b-466e-d35f-0f9e40d1b35e"
      },
      "source": [
        "Mean_Final_accuracy = accuracy_score(Colour_TestData.classes, Second_Final_Predict_classes)\n",
        "print(\"Colour Accuracy: \", Mean_Final_accuracy)"
      ],
      "execution_count": null,
      "outputs": [
        {
          "output_type": "stream",
          "text": [
            "Colour Accuracy:  0.9826666666666667\n"
          ],
          "name": "stdout"
        }
      ]
    },
    {
      "cell_type": "code",
      "metadata": {
        "id": "G6nv3XoY3VJR",
        "colab_type": "code",
        "colab": {
          "base_uri": "https://localhost:8080/",
          "height": 34
        },
        "outputId": "07904ccc-9f7e-4277-d13d-1545cdc85ad4"
      },
      "source": [
        "Mean_Precision = precision_score(Colour_TestData.classes, Second_Final_Predict_classes, average=\"weighted\")\n",
        "Mean_Precision"
      ],
      "execution_count": null,
      "outputs": [
        {
          "output_type": "execute_result",
          "data": {
            "text/plain": [
              "0.9845098235098235"
            ]
          },
          "metadata": {
            "tags": []
          },
          "execution_count": 106
        }
      ]
    },
    {
      "cell_type": "code",
      "metadata": {
        "id": "Pacf3YdS3qCv",
        "colab_type": "code",
        "colab": {
          "base_uri": "https://localhost:8080/",
          "height": 34
        },
        "outputId": "6971ad7f-c450-4569-9457-872b97993644"
      },
      "source": [
        "Mean_Recall = recall_score(Colour_TestData.classes, Second_Final_Predict_classes, average=\"weighted\")\n",
        "Mean_Recall"
      ],
      "execution_count": null,
      "outputs": [
        {
          "output_type": "execute_result",
          "data": {
            "text/plain": [
              "0.9826666666666667"
            ]
          },
          "metadata": {
            "tags": []
          },
          "execution_count": 107
        }
      ]
    },
    {
      "cell_type": "code",
      "metadata": {
        "id": "-7gPBv5i36IA",
        "colab_type": "code",
        "colab": {
          "base_uri": "https://localhost:8080/",
          "height": 34
        },
        "outputId": "0b094f06-d3ce-470e-9fbb-85947f994d63"
      },
      "source": [
        "Mean_F1Score = f1_score(Colour_TestData.classes, Second_Final_Predict_classes, average=\"weighted\")\n",
        "Mean_F1Score"
      ],
      "execution_count": null,
      "outputs": [
        {
          "output_type": "execute_result",
          "data": {
            "text/plain": [
              "0.9827211619255872"
            ]
          },
          "metadata": {
            "tags": []
          },
          "execution_count": 108
        }
      ]
    },
    {
      "cell_type": "code",
      "metadata": {
        "id": "pdMj-AIQ_pRY",
        "colab_type": "code",
        "colab": {}
      },
      "source": [
        "Final = 0.8 * Colour_predict + 0.2 * Grey_predict"
      ],
      "execution_count": null,
      "outputs": []
    },
    {
      "cell_type": "code",
      "metadata": {
        "id": "_IQF1nFz_5Sg",
        "colab_type": "code",
        "colab": {}
      },
      "source": [
        "Final_Predict_classes = np.argmax(Final, axis=1)"
      ],
      "execution_count": null,
      "outputs": []
    },
    {
      "cell_type": "code",
      "metadata": {
        "id": "1K6o-53O_-AX",
        "colab_type": "code",
        "colab": {
          "base_uri": "https://localhost:8080/",
          "height": 34
        },
        "outputId": "86a1d28a-59ef-4154-d0a6-df33f372f033"
      },
      "source": [
        "Final_accuracy = accuracy_score(Colour_TestData.classes, Final_Predict_classes)\n",
        "print(\"Colour Accuracy: \", Final_accuracy)"
      ],
      "execution_count": null,
      "outputs": [
        {
          "output_type": "stream",
          "text": [
            "Colour Accuracy:  0.968\n"
          ],
          "name": "stdout"
        }
      ]
    }
  ]
}