{
  "nbformat": 4,
  "nbformat_minor": 0,
  "metadata": {
    "colab": {
      "name": "PreTrained-Resnet50_Hardwood.ipynb",
      "provenance": [],
      "toc_visible": true
    },
    "kernelspec": {
      "name": "python3",
      "display_name": "Python 3"
    },
    "accelerator": "GPU"
  },
  "cells": [
    {
      "cell_type": "code",
      "metadata": {
        "id": "Dpvl5Z2ZBshK",
        "colab_type": "code",
        "colab": {
          "base_uri": "https://localhost:8080/",
          "height": 122
        },
        "outputId": "dedd16d1-d9d3-4989-fed6-9958e242e29b"
      },
      "source": [
        "from google.colab import drive\n",
        "drive.mount('/content/drive')"
      ],
      "execution_count": null,
      "outputs": [
        {
          "output_type": "stream",
          "text": [
            "Go to this URL in a browser: https://accounts.google.com/o/oauth2/auth?client_id=947318989803-6bn6qk8qdgf4n4g3pfee6491hc0brc4i.apps.googleusercontent.com&redirect_uri=urn%3aietf%3awg%3aoauth%3a2.0%3aoob&scope=email%20https%3a%2f%2fwww.googleapis.com%2fauth%2fdocs.test%20https%3a%2f%2fwww.googleapis.com%2fauth%2fdrive%20https%3a%2f%2fwww.googleapis.com%2fauth%2fdrive.photos.readonly%20https%3a%2f%2fwww.googleapis.com%2fauth%2fpeopleapi.readonly&response_type=code\n",
            "\n",
            "Enter your authorization code:\n",
            "··········\n",
            "Mounted at /content/drive\n"
          ],
          "name": "stdout"
        }
      ]
    },
    {
      "cell_type": "code",
      "metadata": {
        "id": "PS63Xh4PB4Fm",
        "colab_type": "code",
        "colab": {}
      },
      "source": [
        "# Importing the Libraries.\n",
        "import keras\n",
        "import os\n",
        "from keras.models import Sequential\n",
        "from keras.layers import Dense, Conv2D, MaxPool2D, Flatten, Dropout\n",
        "from keras.preprocessing.image import ImageDataGenerator\n",
        "import numpy as np\n",
        "#import keras.backend as K\n",
        "import tensorflow.keras.backend as K\n",
        "import tensorflow.compat.v1 as tf\n",
        "from os import listdir\n",
        "from os.path import isfile, join\n",
        "import numpy as np\n",
        "import sys\n",
        "import os\n",
        "import shutil\n",
        "import pandas as pd\n",
        "from PIL import Image\n",
        "import cv2\n",
        "import keras\n",
        "import glob\n",
        "from PIL import Image\n",
        "from keras.preprocessing.image import img_to_array\n",
        "from sklearn.preprocessing import MultiLabelBinarizer\n",
        "from keras import models, regularizers, layers, optimizers, losses, metrics\n",
        "from keras.applications.resnet50 import ResNet50\n",
        "from keras.preprocessing.image import ImageDataGenerator\n",
        "from keras.models import Sequential\n",
        "from keras.layers import Dense, Dropout, Activation, Flatten, MaxPool2D\n",
        "from keras.layers import Convolution2D, MaxPooling2D, ZeroPadding2D\n",
        "from keras.layers import AveragePooling2D\n",
        "from keras.models import load_model\n",
        "from keras.layers.pooling import GlobalAveragePooling2D\n",
        "from keras.layers.normalization import BatchNormalization\n",
        "from keras.models import Model\n",
        "from keras.optimizers import Adam, SGD\n",
        "from keras.callbacks import ModelCheckpoint, EarlyStopping\n",
        "from sklearn.preprocessing import LabelEncoder, OneHotEncoder\n",
        "from PIL import ImageFile\n",
        "\n",
        "tf.enable_eager_execution()"
      ],
      "execution_count": null,
      "outputs": []
    },
    {
      "cell_type": "code",
      "metadata": {
        "id": "82Iu_xpCB8e_",
        "colab_type": "code",
        "colab": {}
      },
      "source": [
        "ImageFile.LOAD_TRUNCATED_IMAGES = True"
      ],
      "execution_count": null,
      "outputs": []
    },
    {
      "cell_type": "code",
      "metadata": {
        "id": "fH8nEYrhB-3O",
        "colab_type": "code",
        "colab": {}
      },
      "source": [
        "# Data Augmentation.\n",
        "DataGenerator = ImageDataGenerator(horizontal_flip=True, vertical_flip=True, rescale=1./255, brightness_range=[0.2,0.7])"
      ],
      "execution_count": null,
      "outputs": []
    },
    {
      "cell_type": "code",
      "metadata": {
        "id": "MvXKwWTNCBly",
        "colab_type": "code",
        "colab": {}
      },
      "source": [
        "TestGenerator = ImageDataGenerator(rescale=1./255)"
      ],
      "execution_count": null,
      "outputs": []
    },
    {
      "cell_type": "code",
      "metadata": {
        "id": "wFUUMI0sCDZN",
        "colab_type": "code",
        "colab": {
          "base_uri": "https://localhost:8080/",
          "height": 34
        },
        "outputId": "11c5aa36-2945-4af3-dd48-26e3fca4d968"
      },
      "source": [
        "Grey_TrainingData = DataGenerator.flow_from_directory('/content/drive/My Drive/1-piece/Train/', target_size=(224,224), batch_size=8, color_mode='grayscale')"
      ],
      "execution_count": null,
      "outputs": [
        {
          "output_type": "stream",
          "text": [
            "Found 2015 images belonging to 112 classes.\n"
          ],
          "name": "stdout"
        }
      ]
    },
    {
      "cell_type": "code",
      "metadata": {
        "id": "q-WOOVu6CGBq",
        "colab_type": "code",
        "colab": {
          "base_uri": "https://localhost:8080/",
          "height": 34
        },
        "outputId": "eba273e4-4334-4c47-ac7e-4f7eebfd760d"
      },
      "source": [
        "Grey_ValidData = TestGenerator.flow_from_directory('/content/drive/My Drive/1-piece/Valid/', target_size=(224,224),batch_size=8, color_mode='grayscale')"
      ],
      "execution_count": null,
      "outputs": [
        {
          "output_type": "stream",
          "text": [
            "Found 112 images belonging to 112 classes.\n"
          ],
          "name": "stdout"
        }
      ]
    },
    {
      "cell_type": "code",
      "metadata": {
        "id": "LKlNFBRmCI-Y",
        "colab_type": "code",
        "colab": {}
      },
      "source": [
        "gpu_options = tf.GPUOptions(allow_growth=True)\n",
        "session = tf.InteractiveSession(config=tf.ConfigProto(gpu_options=gpu_options))"
      ],
      "execution_count": null,
      "outputs": []
    },
    {
      "cell_type": "code",
      "metadata": {
        "id": "1pDJRiBFCKxk",
        "colab_type": "code",
        "colab": {}
      },
      "source": [
        "from keras.applications import ResNet50"
      ],
      "execution_count": null,
      "outputs": []
    },
    {
      "cell_type": "code",
      "metadata": {
        "id": "UFFpMafbCUnF",
        "colab_type": "code",
        "colab": {
          "base_uri": "https://localhost:8080/",
          "height": 51
        },
        "outputId": "6ced4c03-5537-4248-9959-29b8f4f8b94c"
      },
      "source": [
        "# Convoluted Base Model.\n",
        "conv_base = ResNet50(weights='imagenet', include_top=False)"
      ],
      "execution_count": null,
      "outputs": [
        {
          "output_type": "stream",
          "text": [
            "Downloading data from https://storage.googleapis.com/tensorflow/keras-applications/resnet/resnet50_weights_tf_dim_ordering_tf_kernels_notop.h5\n",
            "94773248/94765736 [==============================] - 1s 0us/step\n"
          ],
          "name": "stdout"
        }
      ]
    },
    {
      "cell_type": "code",
      "metadata": {
        "id": "TN-UEFTdCYKD",
        "colab_type": "code",
        "colab": {}
      },
      "source": [
        "# Make last block of the conv_base trainable:\n",
        "\n",
        "for layer in conv_base.layers[:165]:\n",
        "   layer.trainable = False\n",
        "for layer in conv_base.layers[165:]:\n",
        "   layer.trainable = True\n",
        "for layer in conv_base.layers:\n",
        "  if isinstance(layer, BatchNormalization):\n",
        "    layer.trainable = True"
      ],
      "execution_count": null,
      "outputs": []
    },
    {
      "cell_type": "code",
      "metadata": {
        "id": "hcplHakrCbXb",
        "colab_type": "code",
        "colab": {}
      },
      "source": [
        "model = Sequential()"
      ],
      "execution_count": null,
      "outputs": []
    },
    {
      "cell_type": "code",
      "metadata": {
        "id": "2AZB6GUvDGQ9",
        "colab_type": "code",
        "colab": {}
      },
      "source": [
        "from keras.layers import Input "
      ],
      "execution_count": null,
      "outputs": []
    },
    {
      "cell_type": "code",
      "metadata": {
        "id": "gZj1lE7kDIRI",
        "colab_type": "code",
        "colab": {}
      },
      "source": [
        "input_tensor = Input(shape=(224,224,1))\n",
        "x = Conv2D(3,(3,3), padding='same')(input_tensor)\n",
        "out = conv_base(x)"
      ],
      "execution_count": null,
      "outputs": []
    },
    {
      "cell_type": "code",
      "metadata": {
        "id": "pqA0ahTrDKqH",
        "colab_type": "code",
        "colab": {}
      },
      "source": [
        "models = Model(inputs = input_tensor, outputs = out)"
      ],
      "execution_count": null,
      "outputs": []
    },
    {
      "cell_type": "code",
      "metadata": {
        "id": "atIk3ipxCenT",
        "colab_type": "code",
        "colab": {}
      },
      "source": [
        "model.add(models)"
      ],
      "execution_count": null,
      "outputs": []
    },
    {
      "cell_type": "code",
      "metadata": {
        "id": "vFs6FSHRCgdm",
        "colab_type": "code",
        "colab": {}
      },
      "source": [
        "# Adding layers.\n",
        "model.add(Flatten())\n",
        "model.add(Dense(2048, activation='relu', kernel_regularizer= regularizers.l2(0.001)))\n",
        "model.add(Dropout(0.5))\n",
        "model.add(Dense(112, activation='softmax'))"
      ],
      "execution_count": null,
      "outputs": []
    },
    {
      "cell_type": "code",
      "metadata": {
        "id": "kLKn-eRjClDb",
        "colab_type": "code",
        "colab": {}
      },
      "source": [
        "from keras.optimizers import SGD"
      ],
      "execution_count": null,
      "outputs": []
    },
    {
      "cell_type": "code",
      "metadata": {
        "id": "brB60eqJCm13",
        "colab_type": "code",
        "colab": {}
      },
      "source": [
        "model.compile(loss='categorical_crossentropy',\n",
        "              optimizer=SGD(lr=0.001),\n",
        "              metrics=['accuracy'])"
      ],
      "execution_count": null,
      "outputs": []
    },
    {
      "cell_type": "code",
      "metadata": {
        "id": "6hby48lNCo7W",
        "colab_type": "code",
        "colab": {}
      },
      "source": [
        "from keras.callbacks import ModelCheckpoint, EarlyStopping, ReduceLROnPlateau\n",
        "checkpoint = ModelCheckpoint(\"/content/drive/My Drive/1-piece/GreyScale_SGDResnet50.h5\",\n",
        "                             monitor=\"val_loss\",\n",
        "                             mode=\"min\",\n",
        "                             save_best_only = True,\n",
        "                             verbose=1)\n",
        "\n",
        "earlystop = EarlyStopping(monitor = 'val_loss', \n",
        "                          min_delta = 0, \n",
        "                          patience = 50,\n",
        "                          verbose = 1,\n",
        "                          restore_best_weights = True)\n",
        "\n",
        "reduce_lr = ReduceLROnPlateau(monitor = 'val_loss',\n",
        "                              factor = 0.2,\n",
        "                              patience = 50,\n",
        "                              verbose = 1,\n",
        "                              min_delta = 0.00001)\n",
        "\n",
        "callBacks = [earlystop, checkpoint, reduce_lr]"
      ],
      "execution_count": null,
      "outputs": []
    },
    {
      "cell_type": "code",
      "metadata": {
        "id": "N8WD8nPtCv2I",
        "colab_type": "code",
        "colab": {
          "base_uri": "https://localhost:8080/",
          "height": 1000
        },
        "outputId": "b7873d1f-7fa9-49e8-cb02-d14d8af54d3d"
      },
      "source": [
        "hist = model.fit_generator(steps_per_epoch=252,generator= Grey_TrainingData, validation_data= Grey_ValidData, validation_steps=14,epochs=150,callbacks=callBacks)"
      ],
      "execution_count": null,
      "outputs": [
        {
          "output_type": "stream",
          "text": [
            "WARNING:tensorflow:From <ipython-input-21-2f51164406f7>:1: Model.fit_generator (from tensorflow.python.keras.engine.training) is deprecated and will be removed in a future version.\n",
            "Instructions for updating:\n",
            "Please use Model.fit, which supports generators.\n",
            "Epoch 1/150\n",
            "252/252 [==============================] - ETA: 0s - loss: 9.2228 - accuracy: 0.0734\n",
            "Epoch 00001: val_loss improved from inf to 21.93598, saving model to /content/drive/My Drive/1-piece/GreyScale_SGDResnet50.h5\n",
            "252/252 [==============================] - 1168s 5s/step - loss: 9.2228 - accuracy: 0.0734 - val_loss: 21.9360 - val_accuracy: 0.0089\n",
            "Epoch 2/150\n",
            "252/252 [==============================] - ETA: 0s - loss: 7.2721 - accuracy: 0.2452\n",
            "Epoch 00002: val_loss did not improve from 21.93598\n",
            "252/252 [==============================] - 102s 406ms/step - loss: 7.2721 - accuracy: 0.2452 - val_loss: 76.3916 - val_accuracy: 0.0089\n",
            "Epoch 3/150\n",
            "252/252 [==============================] - ETA: 0s - loss: 6.4721 - accuracy: 0.3931\n",
            "Epoch 00003: val_loss did not improve from 21.93598\n",
            "252/252 [==============================] - 86s 343ms/step - loss: 6.4721 - accuracy: 0.3931 - val_loss: 64.8917 - val_accuracy: 0.0089\n",
            "Epoch 4/150\n",
            "252/252 [==============================] - ETA: 0s - loss: 5.9676 - accuracy: 0.4913\n",
            "Epoch 00004: val_loss improved from 21.93598 to 21.84924, saving model to /content/drive/My Drive/1-piece/GreyScale_SGDResnet50.h5\n",
            "252/252 [==============================] - 89s 355ms/step - loss: 5.9676 - accuracy: 0.4913 - val_loss: 21.8492 - val_accuracy: 0.0625\n",
            "Epoch 5/150\n",
            "252/252 [==============================] - ETA: 0s - loss: 5.6595 - accuracy: 0.5623\n",
            "Epoch 00005: val_loss improved from 21.84924 to 6.34430, saving model to /content/drive/My Drive/1-piece/GreyScale_SGDResnet50.h5\n",
            "252/252 [==============================] - 93s 368ms/step - loss: 5.6595 - accuracy: 0.5623 - val_loss: 6.3443 - val_accuracy: 0.4107\n",
            "Epoch 6/150\n",
            "252/252 [==============================] - ETA: 0s - loss: 5.3589 - accuracy: 0.6278\n",
            "Epoch 00006: val_loss improved from 6.34430 to 6.16770, saving model to /content/drive/My Drive/1-piece/GreyScale_SGDResnet50.h5\n",
            "252/252 [==============================] - 95s 375ms/step - loss: 5.3589 - accuracy: 0.6278 - val_loss: 6.1677 - val_accuracy: 0.4107\n",
            "Epoch 7/150\n",
            "252/252 [==============================] - ETA: 0s - loss: 5.1562 - accuracy: 0.6864\n",
            "Epoch 00007: val_loss improved from 6.16770 to 5.88672, saving model to /content/drive/My Drive/1-piece/GreyScale_SGDResnet50.h5\n",
            "252/252 [==============================] - 93s 371ms/step - loss: 5.1562 - accuracy: 0.6864 - val_loss: 5.8867 - val_accuracy: 0.4821\n",
            "Epoch 8/150\n",
            "252/252 [==============================] - ETA: 0s - loss: 4.9106 - accuracy: 0.7404\n",
            "Epoch 00008: val_loss did not improve from 5.88672\n",
            "252/252 [==============================] - 89s 355ms/step - loss: 4.9106 - accuracy: 0.7404 - val_loss: 5.9976 - val_accuracy: 0.5000\n",
            "Epoch 9/150\n",
            "252/252 [==============================] - ETA: 0s - loss: 4.8976 - accuracy: 0.7449\n",
            "Epoch 00009: val_loss did not improve from 5.88672\n",
            "252/252 [==============================] - 83s 330ms/step - loss: 4.8976 - accuracy: 0.7449 - val_loss: 6.2326 - val_accuracy: 0.4018\n",
            "Epoch 10/150\n",
            "252/252 [==============================] - ETA: 0s - loss: 4.6897 - accuracy: 0.8060\n",
            "Epoch 00010: val_loss did not improve from 5.88672\n",
            "252/252 [==============================] - 82s 327ms/step - loss: 4.6897 - accuracy: 0.8060 - val_loss: 6.0673 - val_accuracy: 0.4643\n",
            "Epoch 11/150\n",
            "252/252 [==============================] - ETA: 0s - loss: 4.6654 - accuracy: 0.8040\n",
            "Epoch 00011: val_loss improved from 5.88672 to 5.69068, saving model to /content/drive/My Drive/1-piece/GreyScale_SGDResnet50.h5\n",
            "252/252 [==============================] - 89s 353ms/step - loss: 4.6654 - accuracy: 0.8040 - val_loss: 5.6907 - val_accuracy: 0.5446\n",
            "Epoch 12/150\n",
            "252/252 [==============================] - ETA: 0s - loss: 4.6120 - accuracy: 0.8248\n",
            "Epoch 00012: val_loss did not improve from 5.69068\n",
            "252/252 [==============================] - 84s 333ms/step - loss: 4.6120 - accuracy: 0.8248 - val_loss: 5.9278 - val_accuracy: 0.5268\n",
            "Epoch 13/150\n",
            "252/252 [==============================] - ETA: 0s - loss: 4.5247 - accuracy: 0.8452\n",
            "Epoch 00013: val_loss improved from 5.69068 to 5.65798, saving model to /content/drive/My Drive/1-piece/GreyScale_SGDResnet50.h5\n",
            "252/252 [==============================] - 90s 359ms/step - loss: 4.5247 - accuracy: 0.8452 - val_loss: 5.6580 - val_accuracy: 0.5357\n",
            "Epoch 14/150\n",
            "252/252 [==============================] - ETA: 0s - loss: 4.5273 - accuracy: 0.8352\n",
            "Epoch 00014: val_loss did not improve from 5.65798\n",
            "252/252 [==============================] - 85s 336ms/step - loss: 4.5273 - accuracy: 0.8352 - val_loss: 6.0047 - val_accuracy: 0.5536\n",
            "Epoch 15/150\n",
            "252/252 [==============================] - ETA: 0s - loss: 4.4091 - accuracy: 0.8685\n",
            "Epoch 00015: val_loss did not improve from 5.65798\n",
            "252/252 [==============================] - 83s 330ms/step - loss: 4.4091 - accuracy: 0.8685 - val_loss: 5.9694 - val_accuracy: 0.4554\n",
            "Epoch 16/150\n",
            "252/252 [==============================] - ETA: 0s - loss: 4.3852 - accuracy: 0.8754\n",
            "Epoch 00016: val_loss did not improve from 5.65798\n",
            "252/252 [==============================] - 83s 329ms/step - loss: 4.3852 - accuracy: 0.8754 - val_loss: 5.7560 - val_accuracy: 0.5536\n",
            "Epoch 17/150\n",
            "252/252 [==============================] - ETA: 0s - loss: 4.3488 - accuracy: 0.8933\n",
            "Epoch 00017: val_loss improved from 5.65798 to 5.43176, saving model to /content/drive/My Drive/1-piece/GreyScale_SGDResnet50.h5\n",
            "252/252 [==============================] - 89s 354ms/step - loss: 4.3488 - accuracy: 0.8933 - val_loss: 5.4318 - val_accuracy: 0.5625\n",
            "Epoch 18/150\n",
            "252/252 [==============================] - ETA: 0s - loss: 4.3506 - accuracy: 0.8903\n",
            "Epoch 00018: val_loss did not improve from 5.43176\n",
            "252/252 [==============================] - 84s 335ms/step - loss: 4.3506 - accuracy: 0.8903 - val_loss: 5.4553 - val_accuracy: 0.5804\n",
            "Epoch 19/150\n",
            "252/252 [==============================] - ETA: 0s - loss: 4.2993 - accuracy: 0.8963\n",
            "Epoch 00019: val_loss did not improve from 5.43176\n",
            "252/252 [==============================] - 83s 329ms/step - loss: 4.2993 - accuracy: 0.8963 - val_loss: 6.0312 - val_accuracy: 0.5179\n",
            "Epoch 20/150\n",
            "252/252 [==============================] - ETA: 0s - loss: 4.3031 - accuracy: 0.9007\n",
            "Epoch 00020: val_loss did not improve from 5.43176\n",
            "252/252 [==============================] - 83s 329ms/step - loss: 4.3031 - accuracy: 0.9007 - val_loss: 5.9960 - val_accuracy: 0.5446\n",
            "Epoch 21/150\n",
            "252/252 [==============================] - ETA: 0s - loss: 4.2146 - accuracy: 0.9236\n",
            "Epoch 00021: val_loss did not improve from 5.43176\n",
            "252/252 [==============================] - 83s 328ms/step - loss: 4.2146 - accuracy: 0.9236 - val_loss: 5.4670 - val_accuracy: 0.6071\n",
            "Epoch 22/150\n",
            "252/252 [==============================] - ETA: 0s - loss: 4.2157 - accuracy: 0.9246\n",
            "Epoch 00022: val_loss did not improve from 5.43176\n",
            "252/252 [==============================] - 83s 329ms/step - loss: 4.2157 - accuracy: 0.9246 - val_loss: 5.4661 - val_accuracy: 0.5982\n",
            "Epoch 23/150\n",
            "252/252 [==============================] - ETA: 0s - loss: 4.2287 - accuracy: 0.9275\n",
            "Epoch 00023: val_loss improved from 5.43176 to 5.22513, saving model to /content/drive/My Drive/1-piece/GreyScale_SGDResnet50.h5\n",
            "252/252 [==============================] - 89s 354ms/step - loss: 4.2287 - accuracy: 0.9275 - val_loss: 5.2251 - val_accuracy: 0.6786\n",
            "Epoch 24/150\n",
            "252/252 [==============================] - ETA: 0s - loss: 4.1980 - accuracy: 0.9285\n",
            "Epoch 00024: val_loss did not improve from 5.22513\n",
            "252/252 [==============================] - 85s 337ms/step - loss: 4.1980 - accuracy: 0.9285 - val_loss: 5.5288 - val_accuracy: 0.5804\n",
            "Epoch 25/150\n",
            "252/252 [==============================] - ETA: 0s - loss: 4.1795 - accuracy: 0.9310\n",
            "Epoch 00025: val_loss did not improve from 5.22513\n",
            "252/252 [==============================] - 83s 328ms/step - loss: 4.1795 - accuracy: 0.9310 - val_loss: 5.7214 - val_accuracy: 0.5714\n",
            "Epoch 26/150\n",
            "252/252 [==============================] - ETA: 0s - loss: 4.1632 - accuracy: 0.9330\n",
            "Epoch 00026: val_loss did not improve from 5.22513\n",
            "252/252 [==============================] - 83s 328ms/step - loss: 4.1632 - accuracy: 0.9330 - val_loss: 5.3086 - val_accuracy: 0.6964\n",
            "Epoch 27/150\n",
            "252/252 [==============================] - ETA: 0s - loss: 4.1482 - accuracy: 0.9404\n",
            "Epoch 00027: val_loss did not improve from 5.22513\n",
            "252/252 [==============================] - 83s 329ms/step - loss: 4.1482 - accuracy: 0.9404 - val_loss: 5.8469 - val_accuracy: 0.5089\n",
            "Epoch 28/150\n",
            "252/252 [==============================] - ETA: 0s - loss: 4.1582 - accuracy: 0.9375\n",
            "Epoch 00028: val_loss did not improve from 5.22513\n",
            "252/252 [==============================] - 82s 327ms/step - loss: 4.1582 - accuracy: 0.9375 - val_loss: 5.2764 - val_accuracy: 0.6786\n",
            "Epoch 29/150\n",
            "252/252 [==============================] - ETA: 0s - loss: 4.1293 - accuracy: 0.9439\n",
            "Epoch 00029: val_loss did not improve from 5.22513\n",
            "252/252 [==============================] - 82s 327ms/step - loss: 4.1293 - accuracy: 0.9439 - val_loss: 5.5149 - val_accuracy: 0.6071\n",
            "Epoch 30/150\n",
            "252/252 [==============================] - ETA: 0s - loss: 4.0863 - accuracy: 0.9519\n",
            "Epoch 00030: val_loss did not improve from 5.22513\n",
            "252/252 [==============================] - 82s 327ms/step - loss: 4.0863 - accuracy: 0.9519 - val_loss: 5.6716 - val_accuracy: 0.5625\n",
            "Epoch 31/150\n",
            "252/252 [==============================] - ETA: 0s - loss: 4.0801 - accuracy: 0.9578\n",
            "Epoch 00031: val_loss did not improve from 5.22513\n",
            "252/252 [==============================] - 83s 329ms/step - loss: 4.0801 - accuracy: 0.9578 - val_loss: 5.4429 - val_accuracy: 0.6518\n",
            "Epoch 32/150\n",
            "252/252 [==============================] - ETA: 0s - loss: 4.0857 - accuracy: 0.9504\n",
            "Epoch 00032: val_loss did not improve from 5.22513\n",
            "252/252 [==============================] - 82s 327ms/step - loss: 4.0857 - accuracy: 0.9504 - val_loss: 5.4814 - val_accuracy: 0.5893\n",
            "Epoch 33/150\n",
            "252/252 [==============================] - ETA: 0s - loss: 4.0837 - accuracy: 0.9529\n",
            "Epoch 00033: val_loss did not improve from 5.22513\n",
            "252/252 [==============================] - 83s 328ms/step - loss: 4.0837 - accuracy: 0.9529 - val_loss: 5.8081 - val_accuracy: 0.5536\n",
            "Epoch 34/150\n",
            "252/252 [==============================] - ETA: 0s - loss: 4.0744 - accuracy: 0.9519\n",
            "Epoch 00034: val_loss did not improve from 5.22513\n",
            "252/252 [==============================] - 82s 327ms/step - loss: 4.0744 - accuracy: 0.9519 - val_loss: 5.9125 - val_accuracy: 0.5179\n",
            "Epoch 35/150\n",
            "252/252 [==============================] - ETA: 0s - loss: 4.0638 - accuracy: 0.9573\n",
            "Epoch 00035: val_loss did not improve from 5.22513\n",
            "252/252 [==============================] - 83s 328ms/step - loss: 4.0638 - accuracy: 0.9573 - val_loss: 5.3409 - val_accuracy: 0.6161\n",
            "Epoch 36/150\n",
            "252/252 [==============================] - ETA: 0s - loss: 4.0472 - accuracy: 0.9608\n",
            "Epoch 00036: val_loss did not improve from 5.22513\n",
            "252/252 [==============================] - 83s 328ms/step - loss: 4.0472 - accuracy: 0.9608 - val_loss: 6.0551 - val_accuracy: 0.5089\n",
            "Epoch 37/150\n",
            "252/252 [==============================] - ETA: 0s - loss: 4.0584 - accuracy: 0.9578\n",
            "Epoch 00037: val_loss did not improve from 5.22513\n",
            "252/252 [==============================] - 82s 327ms/step - loss: 4.0584 - accuracy: 0.9578 - val_loss: 5.4960 - val_accuracy: 0.6161\n",
            "Epoch 38/150\n",
            "252/252 [==============================] - ETA: 0s - loss: 4.0006 - accuracy: 0.9717\n",
            "Epoch 00038: val_loss did not improve from 5.22513\n",
            "252/252 [==============================] - 82s 326ms/step - loss: 4.0006 - accuracy: 0.9717 - val_loss: 5.4233 - val_accuracy: 0.6161\n",
            "Epoch 39/150\n",
            "252/252 [==============================] - ETA: 0s - loss: 4.0368 - accuracy: 0.9603\n",
            "Epoch 00039: val_loss did not improve from 5.22513\n",
            "252/252 [==============================] - 82s 327ms/step - loss: 4.0368 - accuracy: 0.9603 - val_loss: 5.8404 - val_accuracy: 0.5714\n",
            "Epoch 40/150\n",
            "252/252 [==============================] - ETA: 0s - loss: 4.0338 - accuracy: 0.9593\n",
            "Epoch 00040: val_loss did not improve from 5.22513\n",
            "252/252 [==============================] - 82s 326ms/step - loss: 4.0338 - accuracy: 0.9593 - val_loss: 5.4678 - val_accuracy: 0.6250\n",
            "Epoch 41/150\n",
            "252/252 [==============================] - ETA: 0s - loss: 4.0182 - accuracy: 0.9638\n",
            "Epoch 00041: val_loss did not improve from 5.22513\n",
            "252/252 [==============================] - 82s 326ms/step - loss: 4.0182 - accuracy: 0.9638 - val_loss: 5.2442 - val_accuracy: 0.6964\n",
            "Epoch 42/150\n",
            "252/252 [==============================] - ETA: 0s - loss: 4.0276 - accuracy: 0.9618\n",
            "Epoch 00042: val_loss did not improve from 5.22513\n",
            "252/252 [==============================] - 82s 327ms/step - loss: 4.0276 - accuracy: 0.9618 - val_loss: 5.3068 - val_accuracy: 0.6607\n",
            "Epoch 43/150\n",
            "252/252 [==============================] - ETA: 0s - loss: 4.0058 - accuracy: 0.9633\n",
            "Epoch 00043: val_loss did not improve from 5.22513\n",
            "252/252 [==============================] - 82s 326ms/step - loss: 4.0058 - accuracy: 0.9633 - val_loss: 5.3916 - val_accuracy: 0.6250\n",
            "Epoch 44/150\n",
            "252/252 [==============================] - ETA: 0s - loss: 3.9905 - accuracy: 0.9682\n",
            "Epoch 00044: val_loss did not improve from 5.22513\n",
            "252/252 [==============================] - 82s 326ms/step - loss: 3.9905 - accuracy: 0.9682 - val_loss: 5.4448 - val_accuracy: 0.6071\n",
            "Epoch 45/150\n",
            "252/252 [==============================] - ETA: 0s - loss: 3.9724 - accuracy: 0.9742\n",
            "Epoch 00045: val_loss did not improve from 5.22513\n",
            "252/252 [==============================] - 82s 326ms/step - loss: 3.9724 - accuracy: 0.9742 - val_loss: 5.2940 - val_accuracy: 0.6518\n",
            "Epoch 46/150\n",
            "252/252 [==============================] - ETA: 0s - loss: 3.9827 - accuracy: 0.9692\n",
            "Epoch 00046: val_loss improved from 5.22513 to 5.08700, saving model to /content/drive/My Drive/1-piece/GreyScale_SGDResnet50.h5\n",
            "252/252 [==============================] - 90s 359ms/step - loss: 3.9827 - accuracy: 0.9692 - val_loss: 5.0870 - val_accuracy: 0.7054\n",
            "Epoch 47/150\n",
            "252/252 [==============================] - ETA: 0s - loss: 3.9820 - accuracy: 0.9702\n",
            "Epoch 00047: val_loss did not improve from 5.08700\n",
            "252/252 [==============================] - 84s 333ms/step - loss: 3.9820 - accuracy: 0.9702 - val_loss: 5.1556 - val_accuracy: 0.6786\n",
            "Epoch 48/150\n",
            "252/252 [==============================] - ETA: 0s - loss: 3.9555 - accuracy: 0.9737\n",
            "Epoch 00048: val_loss did not improve from 5.08700\n",
            "252/252 [==============================] - 82s 327ms/step - loss: 3.9555 - accuracy: 0.9737 - val_loss: 5.5814 - val_accuracy: 0.5714\n",
            "Epoch 49/150\n",
            "252/252 [==============================] - ETA: 0s - loss: 3.9567 - accuracy: 0.9732\n",
            "Epoch 00049: val_loss did not improve from 5.08700\n",
            "252/252 [==============================] - 82s 327ms/step - loss: 3.9567 - accuracy: 0.9732 - val_loss: 5.2251 - val_accuracy: 0.6607\n",
            "Epoch 50/150\n",
            "252/252 [==============================] - ETA: 0s - loss: 3.9576 - accuracy: 0.9742\n",
            "Epoch 00050: val_loss did not improve from 5.08700\n",
            "252/252 [==============================] - 83s 328ms/step - loss: 3.9576 - accuracy: 0.9742 - val_loss: 5.3105 - val_accuracy: 0.6250\n",
            "Epoch 51/150\n",
            "252/252 [==============================] - ETA: 0s - loss: 3.9719 - accuracy: 0.9682\n",
            "Epoch 00051: val_loss improved from 5.08700 to 4.96666, saving model to /content/drive/My Drive/1-piece/GreyScale_SGDResnet50.h5\n",
            "252/252 [==============================] - 89s 352ms/step - loss: 3.9719 - accuracy: 0.9682 - val_loss: 4.9667 - val_accuracy: 0.7321\n",
            "Epoch 52/150\n",
            "252/252 [==============================] - ETA: 0s - loss: 3.9790 - accuracy: 0.9633\n",
            "Epoch 00052: val_loss did not improve from 4.96666\n",
            "252/252 [==============================] - 84s 333ms/step - loss: 3.9790 - accuracy: 0.9633 - val_loss: 5.3213 - val_accuracy: 0.5893\n",
            "Epoch 53/150\n",
            "252/252 [==============================] - ETA: 0s - loss: 3.9304 - accuracy: 0.9792\n",
            "Epoch 00053: val_loss did not improve from 4.96666\n",
            "252/252 [==============================] - 83s 328ms/step - loss: 3.9304 - accuracy: 0.9792 - val_loss: 5.2808 - val_accuracy: 0.6429\n",
            "Epoch 54/150\n",
            "252/252 [==============================] - ETA: 0s - loss: 3.9263 - accuracy: 0.9801\n",
            "Epoch 00054: val_loss did not improve from 4.96666\n",
            "252/252 [==============================] - 82s 326ms/step - loss: 3.9263 - accuracy: 0.9801 - val_loss: 5.3121 - val_accuracy: 0.6696\n",
            "Epoch 55/150\n",
            "252/252 [==============================] - ETA: 0s - loss: 3.9298 - accuracy: 0.9727\n",
            "Epoch 00055: val_loss did not improve from 4.96666\n",
            "252/252 [==============================] - 83s 328ms/step - loss: 3.9298 - accuracy: 0.9727 - val_loss: 5.2571 - val_accuracy: 0.6339\n",
            "Epoch 56/150\n",
            "252/252 [==============================] - ETA: 0s - loss: 3.9088 - accuracy: 0.9801\n",
            "Epoch 00056: val_loss did not improve from 4.96666\n",
            "252/252 [==============================] - 82s 327ms/step - loss: 3.9088 - accuracy: 0.9801 - val_loss: 5.4392 - val_accuracy: 0.6607\n",
            "Epoch 57/150\n",
            "252/252 [==============================] - ETA: 0s - loss: 3.9078 - accuracy: 0.9792\n",
            "Epoch 00057: val_loss did not improve from 4.96666\n",
            "252/252 [==============================] - 83s 328ms/step - loss: 3.9078 - accuracy: 0.9792 - val_loss: 5.4943 - val_accuracy: 0.6250\n",
            "Epoch 58/150\n",
            "252/252 [==============================] - ETA: 0s - loss: 3.9146 - accuracy: 0.9757\n",
            "Epoch 00058: val_loss did not improve from 4.96666\n",
            "252/252 [==============================] - 82s 326ms/step - loss: 3.9146 - accuracy: 0.9757 - val_loss: 5.1501 - val_accuracy: 0.6786\n",
            "Epoch 59/150\n",
            "252/252 [==============================] - ETA: 0s - loss: 3.9039 - accuracy: 0.9816\n",
            "Epoch 00059: val_loss did not improve from 4.96666\n",
            "252/252 [==============================] - 82s 327ms/step - loss: 3.9039 - accuracy: 0.9816 - val_loss: 5.2721 - val_accuracy: 0.6518\n",
            "Epoch 60/150\n",
            "252/252 [==============================] - ETA: 0s - loss: 3.9023 - accuracy: 0.9797\n",
            "Epoch 00060: val_loss did not improve from 4.96666\n",
            "252/252 [==============================] - 82s 327ms/step - loss: 3.9023 - accuracy: 0.9797 - val_loss: 5.4684 - val_accuracy: 0.6339\n",
            "Epoch 61/150\n",
            "252/252 [==============================] - ETA: 0s - loss: 3.8894 - accuracy: 0.9806\n",
            "Epoch 00061: val_loss did not improve from 4.96666\n",
            "252/252 [==============================] - 83s 328ms/step - loss: 3.8894 - accuracy: 0.9806 - val_loss: 5.2912 - val_accuracy: 0.6696\n",
            "Epoch 62/150\n",
            "252/252 [==============================] - ETA: 0s - loss: 3.8789 - accuracy: 0.9816\n",
            "Epoch 00062: val_loss did not improve from 4.96666\n",
            "252/252 [==============================] - 82s 327ms/step - loss: 3.8789 - accuracy: 0.9816 - val_loss: 5.1380 - val_accuracy: 0.6607\n",
            "Epoch 63/150\n",
            "252/252 [==============================] - ETA: 0s - loss: 3.8742 - accuracy: 0.9821\n",
            "Epoch 00063: val_loss did not improve from 4.96666\n",
            "252/252 [==============================] - 82s 326ms/step - loss: 3.8742 - accuracy: 0.9821 - val_loss: 5.0388 - val_accuracy: 0.6696\n",
            "Epoch 64/150\n",
            "252/252 [==============================] - ETA: 0s - loss: 3.8815 - accuracy: 0.9806\n",
            "Epoch 00064: val_loss did not improve from 4.96666\n",
            "252/252 [==============================] - 82s 326ms/step - loss: 3.8815 - accuracy: 0.9806 - val_loss: 5.0418 - val_accuracy: 0.7054\n",
            "Epoch 65/150\n",
            "252/252 [==============================] - ETA: 0s - loss: 3.8742 - accuracy: 0.9836\n",
            "Epoch 00065: val_loss did not improve from 4.96666\n",
            "252/252 [==============================] - 82s 327ms/step - loss: 3.8742 - accuracy: 0.9836 - val_loss: 5.0627 - val_accuracy: 0.7054\n",
            "Epoch 66/150\n",
            "252/252 [==============================] - ETA: 0s - loss: 3.8709 - accuracy: 0.9831\n",
            "Epoch 00066: val_loss did not improve from 4.96666\n",
            "252/252 [==============================] - 82s 327ms/step - loss: 3.8709 - accuracy: 0.9831 - val_loss: 5.1235 - val_accuracy: 0.7321\n",
            "Epoch 67/150\n",
            "252/252 [==============================] - ETA: 0s - loss: 3.8711 - accuracy: 0.9792\n",
            "Epoch 00067: val_loss did not improve from 4.96666\n",
            "252/252 [==============================] - 83s 328ms/step - loss: 3.8711 - accuracy: 0.9792 - val_loss: 5.2747 - val_accuracy: 0.6518\n",
            "Epoch 68/150\n",
            "252/252 [==============================] - ETA: 0s - loss: 3.8601 - accuracy: 0.9806\n",
            "Epoch 00068: val_loss did not improve from 4.96666\n",
            "252/252 [==============================] - 83s 328ms/step - loss: 3.8601 - accuracy: 0.9806 - val_loss: 5.2647 - val_accuracy: 0.6071\n",
            "Epoch 69/150\n",
            "252/252 [==============================] - ETA: 0s - loss: 3.8498 - accuracy: 0.9851\n",
            "Epoch 00069: val_loss did not improve from 4.96666\n",
            "252/252 [==============================] - 82s 326ms/step - loss: 3.8498 - accuracy: 0.9851 - val_loss: 5.1067 - val_accuracy: 0.6696\n",
            "Epoch 70/150\n",
            "252/252 [==============================] - ETA: 0s - loss: 3.8522 - accuracy: 0.9806\n",
            "Epoch 00070: val_loss did not improve from 4.96666\n",
            "252/252 [==============================] - 82s 327ms/step - loss: 3.8522 - accuracy: 0.9806 - val_loss: 5.0835 - val_accuracy: 0.6607\n",
            "Epoch 71/150\n",
            "252/252 [==============================] - ETA: 0s - loss: 3.8528 - accuracy: 0.9782\n",
            "Epoch 00071: val_loss did not improve from 4.96666\n",
            "252/252 [==============================] - 83s 329ms/step - loss: 3.8528 - accuracy: 0.9782 - val_loss: 5.0021 - val_accuracy: 0.6875\n",
            "Epoch 72/150\n",
            "252/252 [==============================] - ETA: 0s - loss: 3.8442 - accuracy: 0.9811\n",
            "Epoch 00072: val_loss did not improve from 4.96666\n",
            "252/252 [==============================] - 83s 328ms/step - loss: 3.8442 - accuracy: 0.9811 - val_loss: 5.0884 - val_accuracy: 0.6518\n",
            "Epoch 73/150\n",
            "252/252 [==============================] - ETA: 0s - loss: 3.8423 - accuracy: 0.9831\n",
            "Epoch 00073: val_loss did not improve from 4.96666\n",
            "252/252 [==============================] - 82s 326ms/step - loss: 3.8423 - accuracy: 0.9831 - val_loss: 5.0307 - val_accuracy: 0.6696\n",
            "Epoch 74/150\n",
            "252/252 [==============================] - ETA: 0s - loss: 3.8495 - accuracy: 0.9797\n",
            "Epoch 00074: val_loss did not improve from 4.96666\n",
            "252/252 [==============================] - 82s 326ms/step - loss: 3.8495 - accuracy: 0.9797 - val_loss: 5.0748 - val_accuracy: 0.6696\n",
            "Epoch 75/150\n",
            "252/252 [==============================] - ETA: 0s - loss: 3.8275 - accuracy: 0.9841\n",
            "Epoch 00075: val_loss improved from 4.96666 to 4.94154, saving model to /content/drive/My Drive/1-piece/GreyScale_SGDResnet50.h5\n",
            "252/252 [==============================] - 89s 353ms/step - loss: 3.8275 - accuracy: 0.9841 - val_loss: 4.9415 - val_accuracy: 0.7143\n",
            "Epoch 76/150\n",
            "252/252 [==============================] - ETA: 0s - loss: 3.8170 - accuracy: 0.9891\n",
            "Epoch 00076: val_loss did not improve from 4.94154\n",
            "252/252 [==============================] - 85s 338ms/step - loss: 3.8170 - accuracy: 0.9891 - val_loss: 5.0209 - val_accuracy: 0.6696\n",
            "Epoch 77/150\n",
            "252/252 [==============================] - ETA: 0s - loss: 3.8358 - accuracy: 0.9777\n",
            "Epoch 00077: val_loss did not improve from 4.94154\n",
            "252/252 [==============================] - 83s 331ms/step - loss: 3.8358 - accuracy: 0.9777 - val_loss: 5.0149 - val_accuracy: 0.6964\n",
            "Epoch 78/150\n",
            "252/252 [==============================] - ETA: 0s - loss: 3.8099 - accuracy: 0.9866\n",
            "Epoch 00078: val_loss did not improve from 4.94154\n",
            "252/252 [==============================] - 83s 329ms/step - loss: 3.8099 - accuracy: 0.9866 - val_loss: 5.0120 - val_accuracy: 0.7143\n",
            "Epoch 79/150\n",
            "252/252 [==============================] - ETA: 0s - loss: 3.8003 - accuracy: 0.9906\n",
            "Epoch 00079: val_loss did not improve from 4.94154\n",
            "252/252 [==============================] - 85s 339ms/step - loss: 3.8003 - accuracy: 0.9906 - val_loss: 4.9447 - val_accuracy: 0.7143\n",
            "Epoch 80/150\n",
            "252/252 [==============================] - ETA: 0s - loss: 3.8026 - accuracy: 0.9851\n",
            "Epoch 00080: val_loss did not improve from 4.94154\n",
            "252/252 [==============================] - 83s 330ms/step - loss: 3.8026 - accuracy: 0.9851 - val_loss: 5.0151 - val_accuracy: 0.6607\n",
            "Epoch 81/150\n",
            "252/252 [==============================] - ETA: 0s - loss: 3.8072 - accuracy: 0.9841\n",
            "Epoch 00081: val_loss did not improve from 4.94154\n",
            "252/252 [==============================] - 84s 334ms/step - loss: 3.8072 - accuracy: 0.9841 - val_loss: 5.1621 - val_accuracy: 0.6429\n",
            "Epoch 82/150\n",
            "252/252 [==============================] - ETA: 0s - loss: 3.8002 - accuracy: 0.9851\n",
            "Epoch 00082: val_loss did not improve from 4.94154\n",
            "252/252 [==============================] - 84s 334ms/step - loss: 3.8002 - accuracy: 0.9851 - val_loss: 5.0232 - val_accuracy: 0.6964\n",
            "Epoch 83/150\n",
            "252/252 [==============================] - ETA: 0s - loss: 3.7876 - accuracy: 0.9891\n",
            "Epoch 00083: val_loss did not improve from 4.94154\n",
            "252/252 [==============================] - 88s 348ms/step - loss: 3.7876 - accuracy: 0.9891 - val_loss: 5.0140 - val_accuracy: 0.6696\n",
            "Epoch 84/150\n",
            "252/252 [==============================] - ETA: 0s - loss: 3.7800 - accuracy: 0.9871\n",
            "Epoch 00084: val_loss did not improve from 4.94154\n",
            "252/252 [==============================] - 84s 333ms/step - loss: 3.7800 - accuracy: 0.9871 - val_loss: 5.0812 - val_accuracy: 0.6518\n",
            "Epoch 85/150\n",
            "252/252 [==============================] - ETA: 0s - loss: 3.7848 - accuracy: 0.9841\n",
            "Epoch 00085: val_loss did not improve from 4.94154\n",
            "252/252 [==============================] - 83s 329ms/step - loss: 3.7848 - accuracy: 0.9841 - val_loss: 5.0240 - val_accuracy: 0.6518\n",
            "Epoch 86/150\n",
            "252/252 [==============================] - ETA: 0s - loss: 3.7807 - accuracy: 0.9871\n",
            "Epoch 00086: val_loss did not improve from 4.94154\n",
            "252/252 [==============================] - 82s 326ms/step - loss: 3.7807 - accuracy: 0.9871 - val_loss: 4.9723 - val_accuracy: 0.6786\n",
            "Epoch 87/150\n",
            "252/252 [==============================] - ETA: 0s - loss: 3.7683 - accuracy: 0.9901\n",
            "Epoch 00087: val_loss improved from 4.94154 to 4.86925, saving model to /content/drive/My Drive/1-piece/GreyScale_SGDResnet50.h5\n",
            "252/252 [==============================] - 89s 352ms/step - loss: 3.7683 - accuracy: 0.9901 - val_loss: 4.8693 - val_accuracy: 0.6786\n",
            "Epoch 88/150\n",
            "252/252 [==============================] - ETA: 0s - loss: 3.7613 - accuracy: 0.9891\n",
            "Epoch 00088: val_loss improved from 4.86925 to 4.85142, saving model to /content/drive/My Drive/1-piece/GreyScale_SGDResnet50.h5\n",
            "252/252 [==============================] - 91s 360ms/step - loss: 3.7613 - accuracy: 0.9891 - val_loss: 4.8514 - val_accuracy: 0.7232\n",
            "Epoch 89/150\n",
            "252/252 [==============================] - ETA: 0s - loss: 3.7614 - accuracy: 0.9881\n",
            "Epoch 00089: val_loss did not improve from 4.85142\n",
            "252/252 [==============================] - 84s 334ms/step - loss: 3.7614 - accuracy: 0.9881 - val_loss: 4.9822 - val_accuracy: 0.6786\n",
            "Epoch 90/150\n",
            "252/252 [==============================] - ETA: 0s - loss: 3.7566 - accuracy: 0.9891\n",
            "Epoch 00090: val_loss did not improve from 4.85142\n",
            "252/252 [==============================] - 83s 329ms/step - loss: 3.7566 - accuracy: 0.9891 - val_loss: 4.9659 - val_accuracy: 0.6875\n",
            "Epoch 91/150\n",
            "252/252 [==============================] - ETA: 0s - loss: 3.7485 - accuracy: 0.9886\n",
            "Epoch 00091: val_loss did not improve from 4.85142\n",
            "252/252 [==============================] - 83s 328ms/step - loss: 3.7485 - accuracy: 0.9886 - val_loss: 4.9845 - val_accuracy: 0.6964\n",
            "Epoch 92/150\n",
            "252/252 [==============================] - ETA: 0s - loss: 3.7637 - accuracy: 0.9826\n",
            "Epoch 00092: val_loss did not improve from 4.85142\n",
            "252/252 [==============================] - 83s 328ms/step - loss: 3.7637 - accuracy: 0.9826 - val_loss: 5.1645 - val_accuracy: 0.6339\n",
            "Epoch 93/150\n",
            "252/252 [==============================] - ETA: 0s - loss: 3.7536 - accuracy: 0.9856\n",
            "Epoch 00093: val_loss did not improve from 4.85142\n",
            "252/252 [==============================] - 83s 328ms/step - loss: 3.7536 - accuracy: 0.9856 - val_loss: 4.9343 - val_accuracy: 0.6786\n",
            "Epoch 94/150\n",
            "252/252 [==============================] - ETA: 0s - loss: 3.7559 - accuracy: 0.9851\n",
            "Epoch 00094: val_loss improved from 4.85142 to 4.82148, saving model to /content/drive/My Drive/1-piece/GreyScale_SGDResnet50.h5\n",
            "252/252 [==============================] - 91s 361ms/step - loss: 3.7559 - accuracy: 0.9851 - val_loss: 4.8215 - val_accuracy: 0.7054\n",
            "Epoch 95/150\n",
            "252/252 [==============================] - ETA: 0s - loss: 3.7465 - accuracy: 0.9851\n",
            "Epoch 00095: val_loss did not improve from 4.82148\n",
            "252/252 [==============================] - 86s 342ms/step - loss: 3.7465 - accuracy: 0.9851 - val_loss: 4.8368 - val_accuracy: 0.7232\n",
            "Epoch 96/150\n",
            "252/252 [==============================] - ETA: 0s - loss: 3.7362 - accuracy: 0.9881\n",
            "Epoch 00096: val_loss did not improve from 4.82148\n",
            "252/252 [==============================] - 84s 332ms/step - loss: 3.7362 - accuracy: 0.9881 - val_loss: 4.9808 - val_accuracy: 0.6964\n",
            "Epoch 97/150\n",
            "252/252 [==============================] - ETA: 0s - loss: 3.7350 - accuracy: 0.9856\n",
            "Epoch 00097: val_loss did not improve from 4.82148\n",
            "252/252 [==============================] - 83s 331ms/step - loss: 3.7350 - accuracy: 0.9856 - val_loss: 4.8278 - val_accuracy: 0.7232\n",
            "Epoch 98/150\n",
            "252/252 [==============================] - ETA: 0s - loss: 3.7300 - accuracy: 0.9861\n",
            "Epoch 00098: val_loss did not improve from 4.82148\n",
            "252/252 [==============================] - 84s 332ms/step - loss: 3.7300 - accuracy: 0.9861 - val_loss: 4.9574 - val_accuracy: 0.6964\n",
            "Epoch 99/150\n",
            "252/252 [==============================] - ETA: 0s - loss: 3.7195 - accuracy: 0.9926\n",
            "Epoch 00099: val_loss did not improve from 4.82148\n",
            "252/252 [==============================] - 83s 329ms/step - loss: 3.7195 - accuracy: 0.9926 - val_loss: 4.9241 - val_accuracy: 0.6696\n",
            "Epoch 100/150\n",
            "252/252 [==============================] - ETA: 0s - loss: 3.7246 - accuracy: 0.9891\n",
            "Epoch 00100: val_loss did not improve from 4.82148\n",
            "252/252 [==============================] - 82s 327ms/step - loss: 3.7246 - accuracy: 0.9891 - val_loss: 5.0452 - val_accuracy: 0.6696\n",
            "Epoch 101/150\n",
            "252/252 [==============================] - ETA: 0s - loss: 3.7272 - accuracy: 0.9846\n",
            "Epoch 00101: val_loss did not improve from 4.82148\n",
            "252/252 [==============================] - 83s 328ms/step - loss: 3.7272 - accuracy: 0.9846 - val_loss: 4.8451 - val_accuracy: 0.7054\n",
            "Epoch 102/150\n",
            "252/252 [==============================] - ETA: 0s - loss: 3.7093 - accuracy: 0.9886\n",
            "Epoch 00102: val_loss did not improve from 4.82148\n",
            "252/252 [==============================] - 83s 330ms/step - loss: 3.7093 - accuracy: 0.9886 - val_loss: 4.8558 - val_accuracy: 0.6964\n",
            "Epoch 103/150\n",
            "252/252 [==============================] - ETA: 0s - loss: 3.7024 - accuracy: 0.9921\n",
            "Epoch 00103: val_loss did not improve from 4.82148\n",
            "252/252 [==============================] - 83s 331ms/step - loss: 3.7024 - accuracy: 0.9921 - val_loss: 4.8626 - val_accuracy: 0.7143\n",
            "Epoch 104/150\n",
            "252/252 [==============================] - ETA: 0s - loss: 3.7070 - accuracy: 0.9851\n",
            "Epoch 00104: val_loss improved from 4.82148 to 4.78419, saving model to /content/drive/My Drive/1-piece/GreyScale_SGDResnet50.h5\n",
            "252/252 [==============================] - 89s 354ms/step - loss: 3.7070 - accuracy: 0.9851 - val_loss: 4.7842 - val_accuracy: 0.7143\n",
            "Epoch 105/150\n",
            "252/252 [==============================] - ETA: 0s - loss: 3.7100 - accuracy: 0.9886\n",
            "Epoch 00105: val_loss improved from 4.78419 to 4.75073, saving model to /content/drive/My Drive/1-piece/GreyScale_SGDResnet50.h5\n",
            "252/252 [==============================] - 91s 362ms/step - loss: 3.7100 - accuracy: 0.9886 - val_loss: 4.7507 - val_accuracy: 0.7054\n",
            "Epoch 106/150\n",
            "252/252 [==============================] - ETA: 0s - loss: 3.6945 - accuracy: 0.9901\n",
            "Epoch 00106: val_loss did not improve from 4.75073\n",
            "252/252 [==============================] - 85s 337ms/step - loss: 3.6945 - accuracy: 0.9901 - val_loss: 4.8099 - val_accuracy: 0.7054\n",
            "Epoch 107/150\n",
            "252/252 [==============================] - ETA: 0s - loss: 3.6978 - accuracy: 0.9861\n",
            "Epoch 00107: val_loss did not improve from 4.75073\n",
            "252/252 [==============================] - 83s 329ms/step - loss: 3.6978 - accuracy: 0.9861 - val_loss: 4.9351 - val_accuracy: 0.6875\n",
            "Epoch 108/150\n",
            "252/252 [==============================] - ETA: 0s - loss: 3.6753 - accuracy: 0.9950\n",
            "Epoch 00108: val_loss did not improve from 4.75073\n",
            "252/252 [==============================] - 83s 327ms/step - loss: 3.6753 - accuracy: 0.9950 - val_loss: 4.9676 - val_accuracy: 0.6696\n",
            "Epoch 109/150\n",
            "252/252 [==============================] - ETA: 0s - loss: 3.6783 - accuracy: 0.9926\n",
            "Epoch 00109: val_loss did not improve from 4.75073\n",
            "252/252 [==============================] - 83s 329ms/step - loss: 3.6783 - accuracy: 0.9926 - val_loss: 4.9850 - val_accuracy: 0.6429\n",
            "Epoch 110/150\n",
            "252/252 [==============================] - ETA: 0s - loss: 3.6830 - accuracy: 0.9871\n",
            "Epoch 00110: val_loss did not improve from 4.75073\n",
            "252/252 [==============================] - 83s 328ms/step - loss: 3.6830 - accuracy: 0.9871 - val_loss: 4.8533 - val_accuracy: 0.6875\n",
            "Epoch 111/150\n",
            "252/252 [==============================] - ETA: 0s - loss: 3.6664 - accuracy: 0.9945\n",
            "Epoch 00111: val_loss did not improve from 4.75073\n",
            "252/252 [==============================] - 83s 328ms/step - loss: 3.6664 - accuracy: 0.9945 - val_loss: 4.8102 - val_accuracy: 0.7054\n",
            "Epoch 112/150\n",
            "252/252 [==============================] - ETA: 0s - loss: 3.6735 - accuracy: 0.9906\n",
            "Epoch 00112: val_loss did not improve from 4.75073\n",
            "252/252 [==============================] - 83s 329ms/step - loss: 3.6735 - accuracy: 0.9906 - val_loss: 4.8280 - val_accuracy: 0.6964\n",
            "Epoch 113/150\n",
            "252/252 [==============================] - ETA: 0s - loss: 3.6663 - accuracy: 0.9906\n",
            "Epoch 00113: val_loss did not improve from 4.75073\n",
            "252/252 [==============================] - 83s 329ms/step - loss: 3.6663 - accuracy: 0.9906 - val_loss: 4.8108 - val_accuracy: 0.7054\n",
            "Epoch 114/150\n",
            "252/252 [==============================] - ETA: 0s - loss: 3.6736 - accuracy: 0.9891\n",
            "Epoch 00114: val_loss did not improve from 4.75073\n",
            "252/252 [==============================] - 83s 330ms/step - loss: 3.6736 - accuracy: 0.9891 - val_loss: 4.8251 - val_accuracy: 0.6786\n",
            "Epoch 115/150\n",
            "252/252 [==============================] - ETA: 0s - loss: 3.6649 - accuracy: 0.9911\n",
            "Epoch 00115: val_loss did not improve from 4.75073\n",
            "252/252 [==============================] - 84s 333ms/step - loss: 3.6649 - accuracy: 0.9911 - val_loss: 4.8850 - val_accuracy: 0.6875\n",
            "Epoch 116/150\n",
            "252/252 [==============================] - ETA: 0s - loss: 3.6627 - accuracy: 0.9886\n",
            "Epoch 00116: val_loss did not improve from 4.75073\n",
            "252/252 [==============================] - 84s 332ms/step - loss: 3.6627 - accuracy: 0.9886 - val_loss: 4.7520 - val_accuracy: 0.6696\n",
            "Epoch 117/150\n",
            "252/252 [==============================] - ETA: 0s - loss: 3.6565 - accuracy: 0.9901\n",
            "Epoch 00117: val_loss did not improve from 4.75073\n",
            "252/252 [==============================] - 83s 329ms/step - loss: 3.6565 - accuracy: 0.9901 - val_loss: 4.8398 - val_accuracy: 0.6786\n",
            "Epoch 118/150\n",
            "252/252 [==============================] - ETA: 0s - loss: 3.6500 - accuracy: 0.9911\n",
            "Epoch 00118: val_loss did not improve from 4.75073\n",
            "252/252 [==============================] - 82s 327ms/step - loss: 3.6500 - accuracy: 0.9911 - val_loss: 4.9221 - val_accuracy: 0.6607\n",
            "Epoch 119/150\n",
            "252/252 [==============================] - ETA: 0s - loss: 3.6490 - accuracy: 0.9935\n",
            "Epoch 00119: val_loss did not improve from 4.75073\n",
            "252/252 [==============================] - 82s 326ms/step - loss: 3.6490 - accuracy: 0.9935 - val_loss: 4.7958 - val_accuracy: 0.6964\n",
            "Epoch 120/150\n",
            "252/252 [==============================] - ETA: 0s - loss: 3.6396 - accuracy: 0.9916\n",
            "Epoch 00120: val_loss improved from 4.75073 to 4.70450, saving model to /content/drive/My Drive/1-piece/GreyScale_SGDResnet50.h5\n",
            "252/252 [==============================] - 89s 353ms/step - loss: 3.6396 - accuracy: 0.9916 - val_loss: 4.7045 - val_accuracy: 0.7232\n",
            "Epoch 121/150\n",
            "252/252 [==============================] - ETA: 0s - loss: 3.6438 - accuracy: 0.9906\n",
            "Epoch 00121: val_loss improved from 4.70450 to 4.69480, saving model to /content/drive/My Drive/1-piece/GreyScale_SGDResnet50.h5\n",
            "252/252 [==============================] - 91s 361ms/step - loss: 3.6438 - accuracy: 0.9906 - val_loss: 4.6948 - val_accuracy: 0.7411\n",
            "Epoch 122/150\n",
            "252/252 [==============================] - ETA: 0s - loss: 3.6332 - accuracy: 0.9916\n",
            "Epoch 00122: val_loss improved from 4.69480 to 4.67095, saving model to /content/drive/My Drive/1-piece/GreyScale_SGDResnet50.h5\n",
            "252/252 [==============================] - 91s 361ms/step - loss: 3.6332 - accuracy: 0.9916 - val_loss: 4.6709 - val_accuracy: 0.7232\n",
            "Epoch 123/150\n",
            "252/252 [==============================] - ETA: 0s - loss: 3.6288 - accuracy: 0.9906\n",
            "Epoch 00123: val_loss did not improve from 4.67095\n",
            "252/252 [==============================] - 85s 336ms/step - loss: 3.6288 - accuracy: 0.9906 - val_loss: 4.7895 - val_accuracy: 0.6875\n",
            "Epoch 124/150\n",
            "252/252 [==============================] - ETA: 0s - loss: 3.6345 - accuracy: 0.9911\n",
            "Epoch 00124: val_loss did not improve from 4.67095\n",
            "252/252 [==============================] - 83s 328ms/step - loss: 3.6345 - accuracy: 0.9911 - val_loss: 4.8232 - val_accuracy: 0.6964\n",
            "Epoch 125/150\n",
            "252/252 [==============================] - ETA: 0s - loss: 3.6319 - accuracy: 0.9901\n",
            "Epoch 00125: val_loss did not improve from 4.67095\n",
            "252/252 [==============================] - 83s 328ms/step - loss: 3.6319 - accuracy: 0.9901 - val_loss: 4.7848 - val_accuracy: 0.6875\n",
            "Epoch 126/150\n",
            "252/252 [==============================] - ETA: 0s - loss: 3.6222 - accuracy: 0.9911\n",
            "Epoch 00126: val_loss did not improve from 4.67095\n",
            "252/252 [==============================] - 83s 328ms/step - loss: 3.6222 - accuracy: 0.9911 - val_loss: 4.6910 - val_accuracy: 0.6875\n",
            "Epoch 127/150\n",
            "252/252 [==============================] - ETA: 0s - loss: 3.6116 - accuracy: 0.9940\n",
            "Epoch 00127: val_loss improved from 4.67095 to 4.65766, saving model to /content/drive/My Drive/1-piece/GreyScale_SGDResnet50.h5\n",
            "252/252 [==============================] - 90s 356ms/step - loss: 3.6116 - accuracy: 0.9940 - val_loss: 4.6577 - val_accuracy: 0.7054\n",
            "Epoch 128/150\n",
            "252/252 [==============================] - ETA: 0s - loss: 3.6190 - accuracy: 0.9891\n",
            "Epoch 00128: val_loss improved from 4.65766 to 4.63897, saving model to /content/drive/My Drive/1-piece/GreyScale_SGDResnet50.h5\n",
            "252/252 [==============================] - 92s 366ms/step - loss: 3.6190 - accuracy: 0.9891 - val_loss: 4.6390 - val_accuracy: 0.6964\n",
            "Epoch 129/150\n",
            "252/252 [==============================] - ETA: 0s - loss: 3.5991 - accuracy: 0.9945\n",
            "Epoch 00129: val_loss did not improve from 4.63897\n",
            "252/252 [==============================] - 84s 335ms/step - loss: 3.5991 - accuracy: 0.9945 - val_loss: 4.7641 - val_accuracy: 0.7054\n",
            "Epoch 130/150\n",
            "252/252 [==============================] - ETA: 0s - loss: 3.6008 - accuracy: 0.9931\n",
            "Epoch 00130: val_loss did not improve from 4.63897\n",
            "252/252 [==============================] - 83s 328ms/step - loss: 3.6008 - accuracy: 0.9931 - val_loss: 4.7597 - val_accuracy: 0.7054\n",
            "Epoch 131/150\n",
            "252/252 [==============================] - ETA: 0s - loss: 3.6034 - accuracy: 0.9921\n",
            "Epoch 00131: val_loss did not improve from 4.63897\n",
            "252/252 [==============================] - 83s 330ms/step - loss: 3.6034 - accuracy: 0.9921 - val_loss: 4.8648 - val_accuracy: 0.6696\n",
            "Epoch 132/150\n",
            "252/252 [==============================] - ETA: 0s - loss: 3.5912 - accuracy: 0.9945\n",
            "Epoch 00132: val_loss did not improve from 4.63897\n",
            "252/252 [==============================] - 83s 328ms/step - loss: 3.5912 - accuracy: 0.9945 - val_loss: 4.7537 - val_accuracy: 0.6964\n",
            "Epoch 133/150\n",
            "252/252 [==============================] - ETA: 0s - loss: 3.5945 - accuracy: 0.9921\n",
            "Epoch 00133: val_loss did not improve from 4.63897\n",
            "252/252 [==============================] - 83s 328ms/step - loss: 3.5945 - accuracy: 0.9921 - val_loss: 4.8440 - val_accuracy: 0.6964\n",
            "Epoch 134/150\n",
            "252/252 [==============================] - ETA: 0s - loss: 3.5868 - accuracy: 0.9955\n",
            "Epoch 00134: val_loss did not improve from 4.63897\n",
            "252/252 [==============================] - 83s 329ms/step - loss: 3.5868 - accuracy: 0.9955 - val_loss: 4.6786 - val_accuracy: 0.7054\n",
            "Epoch 135/150\n",
            "252/252 [==============================] - ETA: 0s - loss: 3.5909 - accuracy: 0.9911\n",
            "Epoch 00135: val_loss did not improve from 4.63897\n",
            "252/252 [==============================] - 83s 328ms/step - loss: 3.5909 - accuracy: 0.9911 - val_loss: 4.7483 - val_accuracy: 0.7232\n",
            "Epoch 136/150\n",
            "252/252 [==============================] - ETA: 0s - loss: 3.5809 - accuracy: 0.9931\n",
            "Epoch 00136: val_loss improved from 4.63897 to 4.63576, saving model to /content/drive/My Drive/1-piece/GreyScale_SGDResnet50.h5\n",
            "252/252 [==============================] - 97s 384ms/step - loss: 3.5809 - accuracy: 0.9931 - val_loss: 4.6358 - val_accuracy: 0.7054\n",
            "Epoch 137/150\n",
            "252/252 [==============================] - ETA: 0s - loss: 3.5756 - accuracy: 0.9911\n",
            "Epoch 00137: val_loss did not improve from 4.63576\n",
            "252/252 [==============================] - 84s 334ms/step - loss: 3.5756 - accuracy: 0.9911 - val_loss: 4.6966 - val_accuracy: 0.7232\n",
            "Epoch 138/150\n",
            "252/252 [==============================] - ETA: 0s - loss: 3.5738 - accuracy: 0.9926\n",
            "Epoch 00138: val_loss did not improve from 4.63576\n",
            "252/252 [==============================] - 83s 330ms/step - loss: 3.5738 - accuracy: 0.9926 - val_loss: 4.7010 - val_accuracy: 0.7143\n",
            "Epoch 139/150\n",
            "252/252 [==============================] - ETA: 0s - loss: 3.5792 - accuracy: 0.9876\n",
            "Epoch 00139: val_loss did not improve from 4.63576\n",
            "252/252 [==============================] - 83s 328ms/step - loss: 3.5792 - accuracy: 0.9876 - val_loss: 4.6377 - val_accuracy: 0.7321\n",
            "Epoch 140/150\n",
            "252/252 [==============================] - ETA: 0s - loss: 3.5618 - accuracy: 0.9931\n",
            "Epoch 00140: val_loss improved from 4.63576 to 4.62273, saving model to /content/drive/My Drive/1-piece/GreyScale_SGDResnet50.h5\n",
            "252/252 [==============================] - 91s 360ms/step - loss: 3.5618 - accuracy: 0.9931 - val_loss: 4.6227 - val_accuracy: 0.7500\n",
            "Epoch 141/150\n",
            "252/252 [==============================] - ETA: 0s - loss: 3.5616 - accuracy: 0.9935\n",
            "Epoch 00141: val_loss did not improve from 4.62273\n",
            "252/252 [==============================] - 84s 334ms/step - loss: 3.5616 - accuracy: 0.9935 - val_loss: 4.7895 - val_accuracy: 0.6964\n",
            "Epoch 142/150\n",
            "252/252 [==============================] - ETA: 0s - loss: 3.5583 - accuracy: 0.9921\n",
            "Epoch 00142: val_loss did not improve from 4.62273\n",
            "252/252 [==============================] - 83s 330ms/step - loss: 3.5583 - accuracy: 0.9921 - val_loss: 4.7427 - val_accuracy: 0.7411\n",
            "Epoch 143/150\n",
            "252/252 [==============================] - ETA: 0s - loss: 3.5571 - accuracy: 0.9926\n",
            "Epoch 00143: val_loss did not improve from 4.62273\n",
            "252/252 [==============================] - 83s 329ms/step - loss: 3.5571 - accuracy: 0.9926 - val_loss: 4.7127 - val_accuracy: 0.7232\n",
            "Epoch 144/150\n",
            "252/252 [==============================] - ETA: 0s - loss: 3.5566 - accuracy: 0.9926\n",
            "Epoch 00144: val_loss improved from 4.62273 to 4.59002, saving model to /content/drive/My Drive/1-piece/GreyScale_SGDResnet50.h5\n",
            "252/252 [==============================] - 90s 356ms/step - loss: 3.5566 - accuracy: 0.9926 - val_loss: 4.5900 - val_accuracy: 0.7232\n",
            "Epoch 145/150\n",
            "252/252 [==============================] - ETA: 0s - loss: 3.5547 - accuracy: 0.9896\n",
            "Epoch 00145: val_loss did not improve from 4.59002\n",
            "252/252 [==============================] - 86s 342ms/step - loss: 3.5547 - accuracy: 0.9896 - val_loss: 4.6792 - val_accuracy: 0.7232\n",
            "Epoch 146/150\n",
            "252/252 [==============================] - ETA: 0s - loss: 3.5566 - accuracy: 0.9916\n",
            "Epoch 00146: val_loss improved from 4.59002 to 4.55262, saving model to /content/drive/My Drive/1-piece/GreyScale_SGDResnet50.h5\n",
            "252/252 [==============================] - 91s 361ms/step - loss: 3.5566 - accuracy: 0.9916 - val_loss: 4.5526 - val_accuracy: 0.7768\n",
            "Epoch 147/150\n",
            "252/252 [==============================] - ETA: 0s - loss: 3.5431 - accuracy: 0.9945\n",
            "Epoch 00147: val_loss did not improve from 4.55262\n",
            "252/252 [==============================] - 87s 345ms/step - loss: 3.5431 - accuracy: 0.9945 - val_loss: 4.6559 - val_accuracy: 0.7321\n",
            "Epoch 148/150\n",
            "252/252 [==============================] - ETA: 0s - loss: 3.5403 - accuracy: 0.9916\n",
            "Epoch 00148: val_loss improved from 4.55262 to 4.55232, saving model to /content/drive/My Drive/1-piece/GreyScale_SGDResnet50.h5\n",
            "252/252 [==============================] - 91s 362ms/step - loss: 3.5403 - accuracy: 0.9916 - val_loss: 4.5523 - val_accuracy: 0.7411\n",
            "Epoch 149/150\n",
            "252/252 [==============================] - ETA: 0s - loss: 3.5317 - accuracy: 0.9931\n",
            "Epoch 00149: val_loss did not improve from 4.55232\n",
            "252/252 [==============================] - 87s 345ms/step - loss: 3.5317 - accuracy: 0.9931 - val_loss: 4.6620 - val_accuracy: 0.7500\n",
            "Epoch 150/150\n",
            "252/252 [==============================] - ETA: 0s - loss: 3.5235 - accuracy: 0.9955\n",
            "Epoch 00150: val_loss did not improve from 4.55232\n",
            "252/252 [==============================] - 85s 337ms/step - loss: 3.5235 - accuracy: 0.9955 - val_loss: 4.6149 - val_accuracy: 0.7411\n"
          ],
          "name": "stdout"
        }
      ]
    },
    {
      "cell_type": "code",
      "metadata": {
        "id": "EnmI9WxLDgYE",
        "colab_type": "code",
        "colab": {
          "base_uri": "https://localhost:8080/",
          "height": 295
        },
        "outputId": "1670f9a0-856e-4606-af91-7b618fca349b"
      },
      "source": [
        "import matplotlib.pyplot as plt\n",
        "plt.plot(hist.history[\"accuracy\"])\n",
        "plt.plot(hist.history['val_accuracy'])\n",
        "plt.title(\"model accuracy\")\n",
        "plt.ylabel(\"Accuracy\")\n",
        "plt.xlabel(\"Epoch\")\n",
        "plt.legend([\"Accuracy\",\"Validation Accuracy\"])\n",
        "plt.show()"
      ],
      "execution_count": null,
      "outputs": [
        {
          "output_type": "display_data",
          "data": {
            "image/png": "[encoded data removed]",
            "text/plain": [
              "<Figure size 432x288 with 1 Axes>"
            ]
          },
          "metadata": {
            "tags": [],
            "needs_background": "light"
          }
        }
      ]
    },
    {
      "cell_type": "code",
      "metadata": {
        "id": "wve75R3hDjNi",
        "colab_type": "code",
        "colab": {
          "base_uri": "https://localhost:8080/",
          "height": 295
        },
        "outputId": "17a43e19-0484-4b39-cf19-a17cb4839fc0"
      },
      "source": [
        "plt.plot(hist.history['loss'])\n",
        "plt.plot(hist.history['val_loss'])\n",
        "plt.title(\"model Loss\")\n",
        "plt.ylabel(\"Loss\")\n",
        "plt.xlabel(\"Epoch\")\n",
        "plt.legend([\"Loss\",\"Validation Loss\"])\n",
        "plt.show()"
      ],
      "execution_count": null,
      "outputs": [
        {
          "output_type": "display_data",
          "data": {
            "image/png": "[encoded data removed]",
            "text/plain": [
              "<Figure size 432x288 with 1 Axes>"
            ]
          },
          "metadata": {
            "tags": [],
            "needs_background": "light"
          }
        }
      ]
    },
    {
      "cell_type": "code",
      "metadata": {
        "id": "nd3_7zZRDmJa",
        "colab_type": "code",
        "colab": {
          "base_uri": "https://localhost:8080/",
          "height": 34
        },
        "outputId": "6bb52152-fe08-426e-9b91-1d433faf5861"
      },
      "source": [
        "GreyTestData = TestGenerator.flow_from_directory('/content/drive/My Drive/1-piece/Test/', target_size=(224,224), batch_size = 8, shuffle = False, color_mode='grayscale')"
      ],
      "execution_count": null,
      "outputs": [
        {
          "output_type": "stream",
          "text": [
            "Found 112 images belonging to 112 classes.\n"
          ],
          "name": "stdout"
        }
      ]
    },
    {
      "cell_type": "code",
      "metadata": {
        "id": "s1BSE5W-DpV3",
        "colab_type": "code",
        "colab": {}
      },
      "source": [
        "Grey_predict = model.predict(GreyTestData)"
      ],
      "execution_count": null,
      "outputs": []
    },
    {
      "cell_type": "code",
      "metadata": {
        "id": "BVsf8W-_Dr5d",
        "colab_type": "code",
        "colab": {}
      },
      "source": [
        "Grey_predict_classes = np.argmax(Grey_predict, axis=1)"
      ],
      "execution_count": null,
      "outputs": []
    },
    {
      "cell_type": "code",
      "metadata": {
        "id": "n_kZc807DvE2",
        "colab_type": "code",
        "colab": {
          "base_uri": "https://localhost:8080/",
          "height": 170
        },
        "outputId": "d0968712-8474-4eac-8ab9-66c21c8fc8d4"
      },
      "source": [
        "Grey_predict_classes"
      ],
      "execution_count": null,
      "outputs": [
        {
          "output_type": "execute_result",
          "data": {
            "text/plain": [
              "array([ 33,   1, 105,  11,   4,  36,   6,   7,   8,   9,   9,  11,  36,\n",
              "        13,  14,  34,  54,  17,   9,   6,  32,  21,  22,  23,  24,  25,\n",
              "       104,  27,   2,  96,  24,  11,  32,  33,  34,  35,  36,  37,  38,\n",
              "        39,  40,  41,  42,  43,  44, 104,  46,  47,  48,  49,  50,  51,\n",
              "        52,  65,  54,  55,  56,  57,  68,  66,  60,  61,  62,  57,  64,\n",
              "        65,  66,  67,  52,  69,  28,  71,  26,  73,  72,  75,  51,  43,\n",
              "        54,  79,  80,  74,  82,  83,  84,  85,  86,  87,  88,  58,  66,\n",
              "        92,  92,  93,  94,  95,  96,  97,  98,  99, 100, 101,  66, 103,\n",
              "       104, 105,  66, 106, 108, 109, 110, 111])"
            ]
          },
          "metadata": {
            "tags": []
          },
          "execution_count": 27
        }
      ]
    },
    {
      "cell_type": "code",
      "metadata": {
        "id": "5CD6KbGPDxll",
        "colab_type": "code",
        "colab": {}
      },
      "source": [
        "from sklearn.metrics import accuracy_score\n",
        "from sklearn.metrics import precision_score\n",
        "from sklearn.metrics import recall_score\n",
        "from sklearn.metrics import f1_score\n",
        "from sklearn.metrics import cohen_kappa_score\n",
        "from sklearn.metrics import roc_auc_score"
      ],
      "execution_count": null,
      "outputs": []
    },
    {
      "cell_type": "code",
      "metadata": {
        "id": "FzkbGfkfD0jy",
        "colab_type": "code",
        "colab": {
          "base_uri": "https://localhost:8080/",
          "height": 34
        },
        "outputId": "995a2059-80a6-4fbb-9451-5114696ec0c7"
      },
      "source": [
        "Grey_accuracy = accuracy_score(GreyTestData.classes, Grey_predict_classes)\n",
        "print(\"Grey Accuracy: \", Grey_accuracy)"
      ],
      "execution_count": null,
      "outputs": [
        {
          "output_type": "stream",
          "text": [
            "Grey Accuracy:  0.6875\n"
          ],
          "name": "stdout"
        }
      ]
    },
    {
      "cell_type": "code",
      "metadata": {
        "id": "k5kJMdhqD25F",
        "colab_type": "code",
        "colab": {
          "base_uri": "https://localhost:8080/",
          "height": 88
        },
        "outputId": "95ae80cd-9c5b-4db0-fbd4-925fabe45dc6"
      },
      "source": [
        "Grey_precision = precision_score(GreyTestData.classes, Grey_predict_classes,average=\"weighted\")\n",
        "print(\"Grey Precision: \", Grey_precision)"
      ],
      "execution_count": null,
      "outputs": [
        {
          "output_type": "stream",
          "text": [
            "Grey Precision:  0.5925595238095237\n"
          ],
          "name": "stdout"
        },
        {
          "output_type": "stream",
          "text": [
            "/usr/local/lib/python3.6/dist-packages/sklearn/metrics/_classification.py:1272: UndefinedMetricWarning: Precision is ill-defined and being set to 0.0 in labels with no predicted samples. Use `zero_division` parameter to control this behavior.\n",
            "  _warn_prf(average, modifier, msg_start, len(result))\n"
          ],
          "name": "stderr"
        }
      ]
    },
    {
      "cell_type": "code",
      "metadata": {
        "id": "jlXPnnLND5nG",
        "colab_type": "code",
        "colab": {
          "base_uri": "https://localhost:8080/",
          "height": 34
        },
        "outputId": "3d38a6d9-cc9d-4f82-c18d-d460c328d271"
      },
      "source": [
        "Grey_recall = recall_score(GreyTestData.classes, Grey_predict_classes, average=\"weighted\")\n",
        "print(\"Grey Recall:\", Grey_recall)"
      ],
      "execution_count": null,
      "outputs": [
        {
          "output_type": "stream",
          "text": [
            "Grey Recall: 0.6875\n"
          ],
          "name": "stdout"
        }
      ]
    },
    {
      "cell_type": "code",
      "metadata": {
        "id": "-XWYJe3HD8Br",
        "colab_type": "code",
        "colab": {
          "base_uri": "https://localhost:8080/",
          "height": 34
        },
        "outputId": "e287ff6f-8845-4457-c275-8f85c506d23c"
      },
      "source": [
        "Grey_f1_score = f1_score(GreyTestData.classes, Grey_predict_classes, average=\"weighted\")\n",
        "print(\"F1 score for Grey: \", Grey_f1_score)"
      ],
      "execution_count": null,
      "outputs": [
        {
          "output_type": "stream",
          "text": [
            "F1 score for Grey:  0.6205357142857143\n"
          ],
          "name": "stdout"
        }
      ]
    },
    {
      "cell_type": "code",
      "metadata": {
        "id": "FpboyI5NEAew",
        "colab_type": "code",
        "colab": {
          "base_uri": "https://localhost:8080/",
          "height": 34
        },
        "outputId": "996ac0c5-dc83-41bd-845e-eeb4186474bb"
      },
      "source": [
        "Colour_TrainingData =  DataGenerator.flow_from_directory('/content/drive/My Drive/1-piece/Train/', target_size=(224,224), batch_size=8)"
      ],
      "execution_count": null,
      "outputs": [
        {
          "output_type": "stream",
          "text": [
            "Found 2015 images belonging to 112 classes.\n"
          ],
          "name": "stdout"
        }
      ]
    },
    {
      "cell_type": "code",
      "metadata": {
        "id": "rE3R-2awEDcY",
        "colab_type": "code",
        "colab": {
          "base_uri": "https://localhost:8080/",
          "height": 34
        },
        "outputId": "a06e35c3-98d3-44a8-f087-a08053075acf"
      },
      "source": [
        "Colour_ValidData =  DataGenerator.flow_from_directory('/content/drive/My Drive/1-piece/Valid/', target_size=(224,224), batch_size=8)"
      ],
      "execution_count": null,
      "outputs": [
        {
          "output_type": "stream",
          "text": [
            "Found 112 images belonging to 112 classes.\n"
          ],
          "name": "stdout"
        }
      ]
    },
    {
      "cell_type": "code",
      "metadata": {
        "id": "4AbngqvyEFw1",
        "colab_type": "code",
        "colab": {}
      },
      "source": [
        "# Convoluted Base Model.\n",
        "conv_base = ResNet50(weights='imagenet', include_top=False, input_shape=(224,224,3))"
      ],
      "execution_count": null,
      "outputs": []
    },
    {
      "cell_type": "code",
      "metadata": {
        "id": "nzmHjxk9ES5m",
        "colab_type": "code",
        "colab": {}
      },
      "source": [
        "# Make last block of the conv_base trainable:\n",
        "\n",
        "for layer in conv_base.layers[:165]:\n",
        "   layer.trainable = False\n",
        "for layer in conv_base.layers[165:]:\n",
        "   layer.trainable = True\n",
        "for layer in conv_base.layers:\n",
        "  if isinstance(layer, BatchNormalization):\n",
        "    layer.trainable = True\n"
      ],
      "execution_count": null,
      "outputs": []
    },
    {
      "cell_type": "code",
      "metadata": {
        "id": "p1E-Hu_REWzo",
        "colab_type": "code",
        "colab": {}
      },
      "source": [
        "model = Sequential()"
      ],
      "execution_count": null,
      "outputs": []
    },
    {
      "cell_type": "code",
      "metadata": {
        "id": "bjyWBvYtEZzt",
        "colab_type": "code",
        "colab": {}
      },
      "source": [
        "model.add(conv_base)"
      ],
      "execution_count": null,
      "outputs": []
    },
    {
      "cell_type": "code",
      "metadata": {
        "id": "nRHmx_rTEf9j",
        "colab_type": "code",
        "colab": {}
      },
      "source": [
        "# Adding layers.\n",
        "model.add(Flatten())\n",
        "model.add(Dense(2048, activation='relu', kernel_regularizer= regularizers.l2(0.001)))\n",
        "model.add(Dropout(0.5))\n",
        "model.add(Dense(112, activation='softmax'))"
      ],
      "execution_count": null,
      "outputs": []
    },
    {
      "cell_type": "code",
      "metadata": {
        "id": "AsGwUuqrEiEV",
        "colab_type": "code",
        "colab": {}
      },
      "source": [
        "from keras.optimizers import SGD"
      ],
      "execution_count": null,
      "outputs": []
    },
    {
      "cell_type": "code",
      "metadata": {
        "id": "18O2jCTxElrM",
        "colab_type": "code",
        "colab": {}
      },
      "source": [
        "model.compile(loss='categorical_crossentropy',\n",
        "              optimizer=SGD(lr=0.001),\n",
        "              metrics=['accuracy'])"
      ],
      "execution_count": null,
      "outputs": []
    },
    {
      "cell_type": "code",
      "metadata": {
        "id": "tQNo3erKEmYQ",
        "colab_type": "code",
        "colab": {}
      },
      "source": [
        "from keras.callbacks import ModelCheckpoint, EarlyStopping, ReduceLROnPlateau\n",
        "checkpoint = ModelCheckpoint(\"/content/drive/My Drive/1-piece/Colour_SGDResnet50.h5\",\n",
        "                             monitor=\"val_loss\",\n",
        "                             mode=\"min\",\n",
        "                             save_best_only = True,\n",
        "                             verbose=1)\n",
        "\n",
        "earlystop = EarlyStopping(monitor = 'val_loss', \n",
        "                          min_delta = 0, \n",
        "                          patience = 50,\n",
        "                          verbose = 1,\n",
        "                          restore_best_weights = True)\n",
        "\n",
        "reduce_lr = ReduceLROnPlateau(monitor = 'val_loss',\n",
        "                              factor = 0.2,\n",
        "                              patience = 50,\n",
        "                              verbose = 1,\n",
        "                              min_delta = 0.00001)\n",
        "\n",
        "callBacks = [earlystop, checkpoint, reduce_lr]"
      ],
      "execution_count": null,
      "outputs": []
    },
    {
      "cell_type": "code",
      "metadata": {
        "id": "qPEIT2IZEyBK",
        "colab_type": "code",
        "colab": {
          "base_uri": "https://localhost:8080/",
          "height": 1000
        },
        "outputId": "4bb7cad3-f6a0-493b-b884-012bfa309edd"
      },
      "source": [
        "hist = model.fit_generator(steps_per_epoch=252,generator= Colour_TrainingData, validation_data= Colour_ValidData, validation_steps=14,epochs=150,callbacks=callBacks)"
      ],
      "execution_count": null,
      "outputs": [
        {
          "output_type": "stream",
          "text": [
            "Epoch 1/150\n",
            "252/252 [==============================] - ETA: 0s - loss: 8.8549 - accuracy: 0.1221\n",
            "Epoch 00001: val_loss improved from inf to 27.47686, saving model to /content/drive/My Drive/1-piece/Colour_SGDResnet50.h5\n",
            "252/252 [==============================] - 93s 367ms/step - loss: 8.8549 - accuracy: 0.1221 - val_loss: 27.4769 - val_accuracy: 0.0089\n",
            "Epoch 2/150\n",
            "252/252 [==============================] - ETA: 0s - loss: 6.5366 - accuracy: 0.4089\n",
            "Epoch 00002: val_loss did not improve from 27.47686\n",
            "252/252 [==============================] - 87s 346ms/step - loss: 6.5366 - accuracy: 0.4089 - val_loss: 49.7069 - val_accuracy: 0.0089\n",
            "Epoch 3/150\n",
            "252/252 [==============================] - ETA: 0s - loss: 5.6790 - accuracy: 0.5742\n",
            "Epoch 00003: val_loss did not improve from 27.47686\n",
            "252/252 [==============================] - 85s 338ms/step - loss: 5.6790 - accuracy: 0.5742 - val_loss: 59.4754 - val_accuracy: 0.0179\n",
            "Epoch 4/150\n",
            "252/252 [==============================] - ETA: 0s - loss: 5.2679 - accuracy: 0.6715\n",
            "Epoch 00004: val_loss improved from 27.47686 to 20.49955, saving model to /content/drive/My Drive/1-piece/Colour_SGDResnet50.h5\n",
            "252/252 [==============================] - 91s 363ms/step - loss: 5.2679 - accuracy: 0.6715 - val_loss: 20.4996 - val_accuracy: 0.1429\n",
            "Epoch 5/150\n",
            "252/252 [==============================] - ETA: 0s - loss: 4.8659 - accuracy: 0.7583\n",
            "Epoch 00005: val_loss improved from 20.49955 to 5.54390, saving model to /content/drive/My Drive/1-piece/Colour_SGDResnet50.h5\n",
            "252/252 [==============================] - 94s 374ms/step - loss: 4.8659 - accuracy: 0.7583 - val_loss: 5.5439 - val_accuracy: 0.7411\n",
            "Epoch 6/150\n",
            "252/252 [==============================] - ETA: 0s - loss: 4.6869 - accuracy: 0.8045\n",
            "Epoch 00006: val_loss improved from 5.54390 to 4.43859, saving model to /content/drive/My Drive/1-piece/Colour_SGDResnet50.h5\n",
            "252/252 [==============================] - 94s 372ms/step - loss: 4.6869 - accuracy: 0.8045 - val_loss: 4.4386 - val_accuracy: 0.8482\n",
            "Epoch 7/150\n",
            "252/252 [==============================] - ETA: 0s - loss: 4.5867 - accuracy: 0.8347\n",
            "Epoch 00007: val_loss did not improve from 4.43859\n",
            "252/252 [==============================] - 87s 346ms/step - loss: 4.5867 - accuracy: 0.8347 - val_loss: 4.4399 - val_accuracy: 0.9196\n",
            "Epoch 8/150\n",
            "252/252 [==============================] - ETA: 0s - loss: 4.5099 - accuracy: 0.8591\n",
            "Epoch 00008: val_loss improved from 4.43859 to 4.25136, saving model to /content/drive/My Drive/1-piece/Colour_SGDResnet50.h5\n",
            "252/252 [==============================] - 93s 369ms/step - loss: 4.5099 - accuracy: 0.8591 - val_loss: 4.2514 - val_accuracy: 0.9286\n",
            "Epoch 9/150\n",
            "252/252 [==============================] - ETA: 0s - loss: 4.4494 - accuracy: 0.8754\n",
            "Epoch 00009: val_loss did not improve from 4.25136\n",
            "252/252 [==============================] - 86s 342ms/step - loss: 4.4494 - accuracy: 0.8754 - val_loss: 4.2874 - val_accuracy: 0.9018\n",
            "Epoch 10/150\n",
            "252/252 [==============================] - ETA: 0s - loss: 4.4186 - accuracy: 0.8739\n",
            "Epoch 00010: val_loss did not improve from 4.25136\n",
            "252/252 [==============================] - 84s 335ms/step - loss: 4.4186 - accuracy: 0.8739 - val_loss: 4.3262 - val_accuracy: 0.9375\n",
            "Epoch 11/150\n",
            "252/252 [==============================] - ETA: 0s - loss: 4.3394 - accuracy: 0.8953\n",
            "Epoch 00011: val_loss did not improve from 4.25136\n",
            "252/252 [==============================] - 85s 336ms/step - loss: 4.3394 - accuracy: 0.8953 - val_loss: 4.2871 - val_accuracy: 0.9018\n",
            "Epoch 12/150\n",
            "252/252 [==============================] - ETA: 0s - loss: 4.3053 - accuracy: 0.9151\n",
            "Epoch 00012: val_loss did not improve from 4.25136\n",
            "252/252 [==============================] - 85s 337ms/step - loss: 4.3053 - accuracy: 0.9151 - val_loss: 4.2792 - val_accuracy: 0.9196\n",
            "Epoch 13/150\n",
            "252/252 [==============================] - ETA: 0s - loss: 4.2769 - accuracy: 0.9151\n",
            "Epoch 00013: val_loss improved from 4.25136 to 4.15427, saving model to /content/drive/My Drive/1-piece/Colour_SGDResnet50.h5\n",
            "252/252 [==============================] - 92s 364ms/step - loss: 4.2769 - accuracy: 0.9151 - val_loss: 4.1543 - val_accuracy: 0.9286\n",
            "Epoch 14/150\n",
            "252/252 [==============================] - ETA: 0s - loss: 4.2766 - accuracy: 0.9146\n",
            "Epoch 00014: val_loss did not improve from 4.15427\n",
            "252/252 [==============================] - 87s 346ms/step - loss: 4.2766 - accuracy: 0.9146 - val_loss: 4.1599 - val_accuracy: 0.9464\n",
            "Epoch 15/150\n",
            "252/252 [==============================] - ETA: 0s - loss: 4.2120 - accuracy: 0.9261\n",
            "Epoch 00015: val_loss improved from 4.15427 to 4.14557, saving model to /content/drive/My Drive/1-piece/Colour_SGDResnet50.h5\n",
            "252/252 [==============================] - 92s 365ms/step - loss: 4.2120 - accuracy: 0.9261 - val_loss: 4.1456 - val_accuracy: 0.9286\n",
            "Epoch 16/150\n",
            "252/252 [==============================] - ETA: 0s - loss: 4.1752 - accuracy: 0.9419\n",
            "Epoch 00016: val_loss did not improve from 4.14557\n",
            "252/252 [==============================] - 87s 345ms/step - loss: 4.1752 - accuracy: 0.9419 - val_loss: 4.2611 - val_accuracy: 0.9196\n",
            "Epoch 17/150\n",
            "252/252 [==============================] - ETA: 0s - loss: 4.1675 - accuracy: 0.9375\n",
            "Epoch 00017: val_loss did not improve from 4.14557\n",
            "252/252 [==============================] - 86s 339ms/step - loss: 4.1675 - accuracy: 0.9375 - val_loss: 4.1643 - val_accuracy: 0.9464\n",
            "Epoch 18/150\n",
            "252/252 [==============================] - ETA: 0s - loss: 4.1398 - accuracy: 0.9434\n",
            "Epoch 00018: val_loss did not improve from 4.14557\n",
            "252/252 [==============================] - 85s 339ms/step - loss: 4.1398 - accuracy: 0.9434 - val_loss: 4.2324 - val_accuracy: 0.9464\n",
            "Epoch 19/150\n",
            "252/252 [==============================] - ETA: 0s - loss: 4.1292 - accuracy: 0.9514\n",
            "Epoch 00019: val_loss did not improve from 4.14557\n",
            "252/252 [==============================] - 86s 340ms/step - loss: 4.1292 - accuracy: 0.9514 - val_loss: 4.2210 - val_accuracy: 0.9107\n",
            "Epoch 20/150\n",
            "252/252 [==============================] - ETA: 0s - loss: 4.1226 - accuracy: 0.9553\n",
            "Epoch 00020: val_loss did not improve from 4.14557\n",
            "252/252 [==============================] - 85s 337ms/step - loss: 4.1226 - accuracy: 0.9553 - val_loss: 4.1719 - val_accuracy: 0.9375\n",
            "Epoch 21/150\n",
            "252/252 [==============================] - ETA: 0s - loss: 4.1117 - accuracy: 0.9548\n",
            "Epoch 00021: val_loss improved from 4.14557 to 4.12812, saving model to /content/drive/My Drive/1-piece/Colour_SGDResnet50.h5\n",
            "252/252 [==============================] - 91s 362ms/step - loss: 4.1117 - accuracy: 0.9548 - val_loss: 4.1281 - val_accuracy: 0.9286\n",
            "Epoch 22/150\n",
            "252/252 [==============================] - ETA: 0s - loss: 4.0926 - accuracy: 0.9578\n",
            "Epoch 00022: val_loss did not improve from 4.12812\n",
            "252/252 [==============================] - 88s 347ms/step - loss: 4.0926 - accuracy: 0.9578 - val_loss: 4.1880 - val_accuracy: 0.9464\n",
            "Epoch 23/150\n",
            "252/252 [==============================] - ETA: 0s - loss: 4.1054 - accuracy: 0.9598\n",
            "Epoch 00023: val_loss improved from 4.12812 to 4.12121, saving model to /content/drive/My Drive/1-piece/Colour_SGDResnet50.h5\n",
            "252/252 [==============================] - 92s 363ms/step - loss: 4.1054 - accuracy: 0.9598 - val_loss: 4.1212 - val_accuracy: 0.9643\n",
            "Epoch 24/150\n",
            "252/252 [==============================] - ETA: 0s - loss: 4.0917 - accuracy: 0.9608\n",
            "Epoch 00024: val_loss did not improve from 4.12121\n",
            "252/252 [==============================] - 87s 345ms/step - loss: 4.0917 - accuracy: 0.9608 - val_loss: 4.1365 - val_accuracy: 0.9464\n",
            "Epoch 25/150\n",
            "252/252 [==============================] - ETA: 0s - loss: 4.0645 - accuracy: 0.9608\n",
            "Epoch 00025: val_loss improved from 4.12121 to 4.09110, saving model to /content/drive/My Drive/1-piece/Colour_SGDResnet50.h5\n",
            "252/252 [==============================] - 91s 362ms/step - loss: 4.0645 - accuracy: 0.9608 - val_loss: 4.0911 - val_accuracy: 0.9375\n",
            "Epoch 26/150\n",
            "252/252 [==============================] - ETA: 0s - loss: 4.0795 - accuracy: 0.9623\n",
            "Epoch 00026: val_loss did not improve from 4.09110\n",
            "252/252 [==============================] - 87s 343ms/step - loss: 4.0795 - accuracy: 0.9623 - val_loss: 4.2314 - val_accuracy: 0.9286\n",
            "Epoch 27/150\n",
            "252/252 [==============================] - ETA: 0s - loss: 4.0475 - accuracy: 0.9702\n",
            "Epoch 00027: val_loss did not improve from 4.09110\n",
            "252/252 [==============================] - 85s 337ms/step - loss: 4.0475 - accuracy: 0.9702 - val_loss: 4.1709 - val_accuracy: 0.9554\n",
            "Epoch 28/150\n",
            "252/252 [==============================] - ETA: 0s - loss: 4.0309 - accuracy: 0.9732\n",
            "Epoch 00028: val_loss did not improve from 4.09110\n",
            "252/252 [==============================] - 86s 340ms/step - loss: 4.0309 - accuracy: 0.9732 - val_loss: 4.1723 - val_accuracy: 0.9196\n",
            "Epoch 29/150\n",
            "252/252 [==============================] - ETA: 0s - loss: 4.0333 - accuracy: 0.9697\n",
            "Epoch 00029: val_loss did not improve from 4.09110\n",
            "252/252 [==============================] - 87s 347ms/step - loss: 4.0333 - accuracy: 0.9697 - val_loss: 4.2151 - val_accuracy: 0.9286\n",
            "Epoch 30/150\n",
            "252/252 [==============================] - ETA: 0s - loss: 4.0276 - accuracy: 0.9702\n",
            "Epoch 00030: val_loss did not improve from 4.09110\n",
            "252/252 [==============================] - 87s 344ms/step - loss: 4.0276 - accuracy: 0.9702 - val_loss: 4.0939 - val_accuracy: 0.9732\n",
            "Epoch 31/150\n",
            "252/252 [==============================] - ETA: 0s - loss: 4.0127 - accuracy: 0.9747\n",
            "Epoch 00031: val_loss did not improve from 4.09110\n",
            "252/252 [==============================] - 87s 346ms/step - loss: 4.0127 - accuracy: 0.9747 - val_loss: 4.1650 - val_accuracy: 0.9464\n",
            "Epoch 32/150\n",
            "252/252 [==============================] - ETA: 0s - loss: 4.0152 - accuracy: 0.9702\n",
            "Epoch 00032: val_loss did not improve from 4.09110\n",
            "252/252 [==============================] - 88s 348ms/step - loss: 4.0152 - accuracy: 0.9702 - val_loss: 4.0954 - val_accuracy: 0.9732\n",
            "Epoch 33/150\n",
            "252/252 [==============================] - ETA: 0s - loss: 4.0026 - accuracy: 0.9767\n",
            "Epoch 00033: val_loss did not improve from 4.09110\n",
            "252/252 [==============================] - 86s 342ms/step - loss: 4.0026 - accuracy: 0.9767 - val_loss: 4.1105 - val_accuracy: 0.9643\n",
            "Epoch 34/150\n",
            "252/252 [==============================] - ETA: 0s - loss: 4.0084 - accuracy: 0.9682\n",
            "Epoch 00034: val_loss did not improve from 4.09110\n",
            "252/252 [==============================] - 87s 345ms/step - loss: 4.0084 - accuracy: 0.9682 - val_loss: 4.1482 - val_accuracy: 0.9196\n",
            "Epoch 35/150\n",
            "252/252 [==============================] - ETA: 0s - loss: 4.0073 - accuracy: 0.9747\n",
            "Epoch 00035: val_loss did not improve from 4.09110\n",
            "252/252 [==============================] - 86s 341ms/step - loss: 4.0073 - accuracy: 0.9747 - val_loss: 4.1076 - val_accuracy: 0.9375\n",
            "Epoch 36/150\n",
            "252/252 [==============================] - ETA: 0s - loss: 3.9839 - accuracy: 0.9792\n",
            "Epoch 00036: val_loss improved from 4.09110 to 4.03994, saving model to /content/drive/My Drive/1-piece/Colour_SGDResnet50.h5\n",
            "252/252 [==============================] - 91s 362ms/step - loss: 3.9839 - accuracy: 0.9792 - val_loss: 4.0399 - val_accuracy: 0.9554\n",
            "Epoch 37/150\n",
            "252/252 [==============================] - ETA: 0s - loss: 3.9784 - accuracy: 0.9777\n",
            "Epoch 00037: val_loss did not improve from 4.03994\n",
            "252/252 [==============================] - 87s 345ms/step - loss: 3.9784 - accuracy: 0.9777 - val_loss: 4.0457 - val_accuracy: 0.9554\n",
            "Epoch 38/150\n",
            "252/252 [==============================] - ETA: 0s - loss: 3.9629 - accuracy: 0.9797\n",
            "Epoch 00038: val_loss did not improve from 4.03994\n",
            "252/252 [==============================] - 85s 339ms/step - loss: 3.9629 - accuracy: 0.9797 - val_loss: 4.1761 - val_accuracy: 0.9464\n",
            "Epoch 39/150\n",
            "252/252 [==============================] - ETA: 0s - loss: 3.9494 - accuracy: 0.9841\n",
            "Epoch 00039: val_loss did not improve from 4.03994\n",
            "252/252 [==============================] - 86s 342ms/step - loss: 3.9494 - accuracy: 0.9841 - val_loss: 4.0705 - val_accuracy: 0.9643\n",
            "Epoch 40/150\n",
            "252/252 [==============================] - ETA: 0s - loss: 3.9528 - accuracy: 0.9826\n",
            "Epoch 00040: val_loss improved from 4.03994 to 4.00535, saving model to /content/drive/My Drive/1-piece/Colour_SGDResnet50.h5\n",
            "252/252 [==============================] - 91s 362ms/step - loss: 3.9528 - accuracy: 0.9826 - val_loss: 4.0054 - val_accuracy: 0.9643\n",
            "Epoch 41/150\n",
            "252/252 [==============================] - ETA: 0s - loss: 3.9453 - accuracy: 0.9801\n",
            "Epoch 00041: val_loss did not improve from 4.00535\n",
            "252/252 [==============================] - 88s 348ms/step - loss: 3.9453 - accuracy: 0.9801 - val_loss: 4.0563 - val_accuracy: 0.9732\n",
            "Epoch 42/150\n",
            "252/252 [==============================] - ETA: 0s - loss: 3.9536 - accuracy: 0.9797\n",
            "Epoch 00042: val_loss did not improve from 4.00535\n",
            "252/252 [==============================] - 85s 337ms/step - loss: 3.9536 - accuracy: 0.9797 - val_loss: 4.1161 - val_accuracy: 0.9464\n",
            "Epoch 43/150\n",
            "252/252 [==============================] - ETA: 0s - loss: 3.9414 - accuracy: 0.9816\n",
            "Epoch 00043: val_loss did not improve from 4.00535\n",
            "252/252 [==============================] - 87s 345ms/step - loss: 3.9414 - accuracy: 0.9816 - val_loss: 4.0611 - val_accuracy: 0.9554\n",
            "Epoch 44/150\n",
            "252/252 [==============================] - ETA: 0s - loss: 3.9452 - accuracy: 0.9782\n",
            "Epoch 00044: val_loss did not improve from 4.00535\n",
            "252/252 [==============================] - 85s 336ms/step - loss: 3.9452 - accuracy: 0.9782 - val_loss: 4.0283 - val_accuracy: 0.9464\n",
            "Epoch 45/150\n",
            "252/252 [==============================] - ETA: 0s - loss: 3.9365 - accuracy: 0.9792\n",
            "Epoch 00045: val_loss did not improve from 4.00535\n",
            "252/252 [==============================] - 84s 334ms/step - loss: 3.9365 - accuracy: 0.9792 - val_loss: 4.0647 - val_accuracy: 0.9554\n",
            "Epoch 46/150\n",
            "252/252 [==============================] - ETA: 0s - loss: 3.9335 - accuracy: 0.9801\n",
            "Epoch 00046: val_loss did not improve from 4.00535\n",
            "252/252 [==============================] - 84s 332ms/step - loss: 3.9335 - accuracy: 0.9801 - val_loss: 4.0364 - val_accuracy: 0.9554\n",
            "Epoch 47/150\n",
            "252/252 [==============================] - ETA: 0s - loss: 3.9139 - accuracy: 0.9876\n",
            "Epoch 00047: val_loss did not improve from 4.00535\n",
            "252/252 [==============================] - 84s 332ms/step - loss: 3.9139 - accuracy: 0.9876 - val_loss: 4.0240 - val_accuracy: 0.9464\n",
            "Epoch 48/150\n",
            "252/252 [==============================] - ETA: 0s - loss: 3.9251 - accuracy: 0.9801\n",
            "Epoch 00048: val_loss did not improve from 4.00535\n",
            "252/252 [==============================] - 83s 330ms/step - loss: 3.9251 - accuracy: 0.9801 - val_loss: 4.0172 - val_accuracy: 0.9643\n",
            "Epoch 49/150\n",
            "252/252 [==============================] - ETA: 0s - loss: 3.9338 - accuracy: 0.9811\n",
            "Epoch 00049: val_loss did not improve from 4.00535\n",
            "252/252 [==============================] - 83s 329ms/step - loss: 3.9338 - accuracy: 0.9811 - val_loss: 4.0695 - val_accuracy: 0.9464\n",
            "Epoch 50/150\n",
            "252/252 [==============================] - ETA: 0s - loss: 3.8958 - accuracy: 0.9881\n",
            "Epoch 00050: val_loss did not improve from 4.00535\n",
            "252/252 [==============================] - 83s 330ms/step - loss: 3.8958 - accuracy: 0.9881 - val_loss: 4.1071 - val_accuracy: 0.9732\n",
            "Epoch 51/150\n",
            "252/252 [==============================] - ETA: 0s - loss: 3.9019 - accuracy: 0.9836\n",
            "Epoch 00051: val_loss did not improve from 4.00535\n",
            "252/252 [==============================] - 83s 330ms/step - loss: 3.9019 - accuracy: 0.9836 - val_loss: 4.0772 - val_accuracy: 0.9554\n",
            "Epoch 52/150\n",
            "252/252 [==============================] - ETA: 0s - loss: 3.8808 - accuracy: 0.9916\n",
            "Epoch 00052: val_loss did not improve from 4.00535\n",
            "252/252 [==============================] - 83s 328ms/step - loss: 3.8808 - accuracy: 0.9916 - val_loss: 4.0671 - val_accuracy: 0.9554\n",
            "Epoch 53/150\n",
            "252/252 [==============================] - ETA: 0s - loss: 3.8984 - accuracy: 0.9836\n",
            "Epoch 00053: val_loss did not improve from 4.00535\n",
            "252/252 [==============================] - 83s 328ms/step - loss: 3.8984 - accuracy: 0.9836 - val_loss: 4.0657 - val_accuracy: 0.9286\n",
            "Epoch 54/150\n",
            "252/252 [==============================] - ETA: 0s - loss: 3.8848 - accuracy: 0.9851\n",
            "Epoch 00054: val_loss did not improve from 4.00535\n",
            "252/252 [==============================] - 83s 328ms/step - loss: 3.8848 - accuracy: 0.9851 - val_loss: 4.0443 - val_accuracy: 0.9554\n",
            "Epoch 55/150\n",
            "252/252 [==============================] - ETA: 0s - loss: 3.8793 - accuracy: 0.9896\n",
            "Epoch 00055: val_loss improved from 4.00535 to 3.99959, saving model to /content/drive/My Drive/1-piece/Colour_SGDResnet50.h5\n",
            "252/252 [==============================] - 90s 355ms/step - loss: 3.8793 - accuracy: 0.9896 - val_loss: 3.9996 - val_accuracy: 0.9643\n",
            "Epoch 56/150\n",
            "252/252 [==============================] - ETA: 0s - loss: 3.8783 - accuracy: 0.9866\n",
            "Epoch 00056: val_loss did not improve from 3.99959\n",
            "252/252 [==============================] - 85s 337ms/step - loss: 3.8783 - accuracy: 0.9866 - val_loss: 4.0053 - val_accuracy: 0.9732\n",
            "Epoch 57/150\n",
            "252/252 [==============================] - ETA: 0s - loss: 3.8714 - accuracy: 0.9846\n",
            "Epoch 00057: val_loss did not improve from 3.99959\n",
            "252/252 [==============================] - 83s 331ms/step - loss: 3.8714 - accuracy: 0.9846 - val_loss: 4.0144 - val_accuracy: 0.9643\n",
            "Epoch 58/150\n",
            "252/252 [==============================] - ETA: 0s - loss: 3.8750 - accuracy: 0.9846\n",
            "Epoch 00058: val_loss improved from 3.99959 to 3.99194, saving model to /content/drive/My Drive/1-piece/Colour_SGDResnet50.h5\n",
            "252/252 [==============================] - 90s 356ms/step - loss: 3.8750 - accuracy: 0.9846 - val_loss: 3.9919 - val_accuracy: 0.9732\n",
            "Epoch 59/150\n",
            "252/252 [==============================] - ETA: 0s - loss: 3.8756 - accuracy: 0.9836\n",
            "Epoch 00059: val_loss improved from 3.99194 to 3.96539, saving model to /content/drive/My Drive/1-piece/Colour_SGDResnet50.h5\n",
            "252/252 [==============================] - 94s 373ms/step - loss: 3.8756 - accuracy: 0.9836 - val_loss: 3.9654 - val_accuracy: 0.9732\n",
            "Epoch 60/150\n",
            "252/252 [==============================] - ETA: 0s - loss: 3.8582 - accuracy: 0.9886\n",
            "Epoch 00060: val_loss did not improve from 3.96539\n",
            "252/252 [==============================] - 85s 336ms/step - loss: 3.8582 - accuracy: 0.9886 - val_loss: 4.0460 - val_accuracy: 0.9196\n",
            "Epoch 61/150\n",
            "252/252 [==============================] - ETA: 0s - loss: 3.8493 - accuracy: 0.9896\n",
            "Epoch 00061: val_loss did not improve from 3.96539\n",
            "252/252 [==============================] - 83s 330ms/step - loss: 3.8493 - accuracy: 0.9896 - val_loss: 3.9912 - val_accuracy: 0.9375\n",
            "Epoch 62/150\n",
            "252/252 [==============================] - ETA: 0s - loss: 3.8586 - accuracy: 0.9841\n",
            "Epoch 00062: val_loss did not improve from 3.96539\n",
            "252/252 [==============================] - 83s 331ms/step - loss: 3.8586 - accuracy: 0.9841 - val_loss: 3.9945 - val_accuracy: 0.9464\n",
            "Epoch 63/150\n",
            "252/252 [==============================] - ETA: 0s - loss: 3.8467 - accuracy: 0.9876\n",
            "Epoch 00063: val_loss improved from 3.96539 to 3.94434, saving model to /content/drive/My Drive/1-piece/Colour_SGDResnet50.h5\n",
            "252/252 [==============================] - 90s 355ms/step - loss: 3.8467 - accuracy: 0.9876 - val_loss: 3.9443 - val_accuracy: 0.9464\n",
            "Epoch 64/150\n",
            "252/252 [==============================] - ETA: 0s - loss: 3.8426 - accuracy: 0.9881\n",
            "Epoch 00064: val_loss did not improve from 3.94434\n",
            "252/252 [==============================] - 85s 337ms/step - loss: 3.8426 - accuracy: 0.9881 - val_loss: 4.0056 - val_accuracy: 0.9464\n",
            "Epoch 65/150\n",
            "252/252 [==============================] - ETA: 0s - loss: 3.8340 - accuracy: 0.9896\n",
            "Epoch 00065: val_loss did not improve from 3.94434\n",
            "252/252 [==============================] - 83s 331ms/step - loss: 3.8340 - accuracy: 0.9896 - val_loss: 3.9664 - val_accuracy: 0.9464\n",
            "Epoch 66/150\n",
            "252/252 [==============================] - ETA: 0s - loss: 3.8376 - accuracy: 0.9881\n",
            "Epoch 00066: val_loss improved from 3.94434 to 3.88098, saving model to /content/drive/My Drive/1-piece/Colour_SGDResnet50.h5\n",
            "252/252 [==============================] - 90s 356ms/step - loss: 3.8376 - accuracy: 0.9881 - val_loss: 3.8810 - val_accuracy: 0.9821\n",
            "Epoch 67/150\n",
            "252/252 [==============================] - ETA: 0s - loss: 3.8237 - accuracy: 0.9911\n",
            "Epoch 00067: val_loss did not improve from 3.88098\n",
            "252/252 [==============================] - 85s 338ms/step - loss: 3.8237 - accuracy: 0.9911 - val_loss: 3.8996 - val_accuracy: 0.9732\n",
            "Epoch 68/150\n",
            "252/252 [==============================] - ETA: 0s - loss: 3.8313 - accuracy: 0.9881\n",
            "Epoch 00068: val_loss did not improve from 3.88098\n",
            "252/252 [==============================] - 83s 331ms/step - loss: 3.8313 - accuracy: 0.9881 - val_loss: 3.9571 - val_accuracy: 0.9464\n",
            "Epoch 69/150\n",
            "252/252 [==============================] - ETA: 0s - loss: 3.8201 - accuracy: 0.9896\n",
            "Epoch 00069: val_loss did not improve from 3.88098\n",
            "252/252 [==============================] - 83s 331ms/step - loss: 3.8201 - accuracy: 0.9896 - val_loss: 3.8811 - val_accuracy: 0.9732\n",
            "Epoch 70/150\n",
            "252/252 [==============================] - ETA: 0s - loss: 3.8313 - accuracy: 0.9856\n",
            "Epoch 00070: val_loss did not improve from 3.88098\n",
            "252/252 [==============================] - 83s 330ms/step - loss: 3.8313 - accuracy: 0.9856 - val_loss: 3.9638 - val_accuracy: 0.9464\n",
            "Epoch 71/150\n",
            "252/252 [==============================] - ETA: 0s - loss: 3.8071 - accuracy: 0.9906\n",
            "Epoch 00071: val_loss did not improve from 3.88098\n",
            "252/252 [==============================] - 83s 330ms/step - loss: 3.8071 - accuracy: 0.9906 - val_loss: 3.9052 - val_accuracy: 0.9643\n",
            "Epoch 72/150\n",
            "252/252 [==============================] - ETA: 0s - loss: 3.8029 - accuracy: 0.9906\n",
            "Epoch 00072: val_loss did not improve from 3.88098\n",
            "252/252 [==============================] - 83s 330ms/step - loss: 3.8029 - accuracy: 0.9906 - val_loss: 3.9526 - val_accuracy: 0.9554\n",
            "Epoch 73/150\n",
            "252/252 [==============================] - ETA: 0s - loss: 3.8003 - accuracy: 0.9916\n",
            "Epoch 00073: val_loss did not improve from 3.88098\n",
            "252/252 [==============================] - 85s 339ms/step - loss: 3.8003 - accuracy: 0.9916 - val_loss: 3.9142 - val_accuracy: 0.9732\n",
            "Epoch 74/150\n",
            "252/252 [==============================] - ETA: 0s - loss: 3.8010 - accuracy: 0.9866\n",
            "Epoch 00074: val_loss did not improve from 3.88098\n",
            "252/252 [==============================] - 83s 330ms/step - loss: 3.8010 - accuracy: 0.9866 - val_loss: 3.9317 - val_accuracy: 0.9464\n",
            "Epoch 75/150\n",
            "252/252 [==============================] - ETA: 0s - loss: 3.7912 - accuracy: 0.9916\n",
            "Epoch 00075: val_loss did not improve from 3.88098\n",
            "252/252 [==============================] - 83s 330ms/step - loss: 3.7912 - accuracy: 0.9916 - val_loss: 3.9100 - val_accuracy: 0.9554\n",
            "Epoch 76/150\n",
            "252/252 [==============================] - ETA: 0s - loss: 3.7907 - accuracy: 0.9891\n",
            "Epoch 00076: val_loss did not improve from 3.88098\n",
            "252/252 [==============================] - 84s 332ms/step - loss: 3.7907 - accuracy: 0.9891 - val_loss: 3.8944 - val_accuracy: 0.9643\n",
            "Epoch 77/150\n",
            "252/252 [==============================] - ETA: 0s - loss: 3.7844 - accuracy: 0.9896\n",
            "Epoch 00077: val_loss improved from 3.88098 to 3.87784, saving model to /content/drive/My Drive/1-piece/Colour_SGDResnet50.h5\n",
            "252/252 [==============================] - 91s 360ms/step - loss: 3.7844 - accuracy: 0.9896 - val_loss: 3.8778 - val_accuracy: 0.9554\n",
            "Epoch 78/150\n",
            "252/252 [==============================] - ETA: 0s - loss: 3.7903 - accuracy: 0.9871\n",
            "Epoch 00078: val_loss did not improve from 3.87784\n",
            "252/252 [==============================] - 85s 338ms/step - loss: 3.7903 - accuracy: 0.9871 - val_loss: 3.8956 - val_accuracy: 0.9732\n",
            "Epoch 79/150\n",
            "252/252 [==============================] - ETA: 0s - loss: 3.7782 - accuracy: 0.9921\n",
            "Epoch 00079: val_loss did not improve from 3.87784\n",
            "252/252 [==============================] - 83s 331ms/step - loss: 3.7782 - accuracy: 0.9921 - val_loss: 3.9081 - val_accuracy: 0.9554\n",
            "Epoch 80/150\n",
            "252/252 [==============================] - ETA: 0s - loss: 3.7788 - accuracy: 0.9891\n",
            "Epoch 00080: val_loss improved from 3.87784 to 3.84211, saving model to /content/drive/My Drive/1-piece/Colour_SGDResnet50.h5\n",
            "252/252 [==============================] - 90s 357ms/step - loss: 3.7788 - accuracy: 0.9891 - val_loss: 3.8421 - val_accuracy: 0.9732\n",
            "Epoch 81/150\n",
            "252/252 [==============================] - ETA: 0s - loss: 3.7708 - accuracy: 0.9926\n",
            "Epoch 00081: val_loss did not improve from 3.84211\n",
            "252/252 [==============================] - 85s 337ms/step - loss: 3.7708 - accuracy: 0.9926 - val_loss: 3.9231 - val_accuracy: 0.9732\n",
            "Epoch 82/150\n",
            "252/252 [==============================] - ETA: 0s - loss: 3.7571 - accuracy: 0.9940\n",
            "Epoch 00082: val_loss improved from 3.84211 to 3.82854, saving model to /content/drive/My Drive/1-piece/Colour_SGDResnet50.h5\n",
            "252/252 [==============================] - 91s 360ms/step - loss: 3.7571 - accuracy: 0.9940 - val_loss: 3.8285 - val_accuracy: 0.9821\n",
            "Epoch 83/150\n",
            "252/252 [==============================] - ETA: 0s - loss: 3.7546 - accuracy: 0.9911\n",
            "Epoch 00083: val_loss did not improve from 3.82854\n",
            "252/252 [==============================] - 85s 338ms/step - loss: 3.7546 - accuracy: 0.9911 - val_loss: 3.9091 - val_accuracy: 0.9464\n",
            "Epoch 84/150\n",
            "252/252 [==============================] - ETA: 0s - loss: 3.7576 - accuracy: 0.9921\n",
            "Epoch 00084: val_loss did not improve from 3.82854\n",
            "252/252 [==============================] - 83s 330ms/step - loss: 3.7576 - accuracy: 0.9921 - val_loss: 3.8479 - val_accuracy: 0.9554\n",
            "Epoch 85/150\n",
            "252/252 [==============================] - ETA: 0s - loss: 3.7438 - accuracy: 0.9935\n",
            "Epoch 00085: val_loss did not improve from 3.82854\n",
            "252/252 [==============================] - 83s 330ms/step - loss: 3.7438 - accuracy: 0.9935 - val_loss: 3.8792 - val_accuracy: 0.9732\n",
            "Epoch 86/150\n",
            "252/252 [==============================] - ETA: 0s - loss: 3.7424 - accuracy: 0.9940\n",
            "Epoch 00086: val_loss did not improve from 3.82854\n",
            "252/252 [==============================] - 83s 331ms/step - loss: 3.7424 - accuracy: 0.9940 - val_loss: 3.8771 - val_accuracy: 0.9554\n",
            "Epoch 87/150\n",
            "252/252 [==============================] - ETA: 0s - loss: 3.7444 - accuracy: 0.9945\n",
            "Epoch 00087: val_loss did not improve from 3.82854\n",
            "252/252 [==============================] - 84s 332ms/step - loss: 3.7444 - accuracy: 0.9945 - val_loss: 3.9002 - val_accuracy: 0.9643\n",
            "Epoch 88/150\n",
            "252/252 [==============================] - ETA: 0s - loss: 3.7485 - accuracy: 0.9901\n",
            "Epoch 00088: val_loss did not improve from 3.82854\n",
            "252/252 [==============================] - 83s 329ms/step - loss: 3.7485 - accuracy: 0.9901 - val_loss: 3.8417 - val_accuracy: 0.9554\n",
            "Epoch 89/150\n",
            "252/252 [==============================] - ETA: 0s - loss: 3.7295 - accuracy: 0.9950\n",
            "Epoch 00089: val_loss did not improve from 3.82854\n",
            "252/252 [==============================] - 83s 329ms/step - loss: 3.7295 - accuracy: 0.9950 - val_loss: 3.9105 - val_accuracy: 0.9643\n",
            "Epoch 90/150\n",
            "252/252 [==============================] - ETA: 0s - loss: 3.7335 - accuracy: 0.9931\n",
            "Epoch 00090: val_loss did not improve from 3.82854\n",
            "252/252 [==============================] - 83s 328ms/step - loss: 3.7335 - accuracy: 0.9931 - val_loss: 3.8553 - val_accuracy: 0.9464\n",
            "Epoch 91/150\n",
            "252/252 [==============================] - ETA: 0s - loss: 3.7350 - accuracy: 0.9896\n",
            "Epoch 00091: val_loss did not improve from 3.82854\n",
            "252/252 [==============================] - 83s 330ms/step - loss: 3.7350 - accuracy: 0.9896 - val_loss: 3.8685 - val_accuracy: 0.9643\n",
            "Epoch 92/150\n",
            "252/252 [==============================] - ETA: 0s - loss: 3.7275 - accuracy: 0.9916\n",
            "Epoch 00092: val_loss did not improve from 3.82854\n",
            "252/252 [==============================] - 83s 328ms/step - loss: 3.7275 - accuracy: 0.9916 - val_loss: 4.0453 - val_accuracy: 0.9464\n",
            "Epoch 93/150\n",
            "252/252 [==============================] - ETA: 0s - loss: 3.7222 - accuracy: 0.9931\n",
            "Epoch 00093: val_loss improved from 3.82854 to 3.80818, saving model to /content/drive/My Drive/1-piece/Colour_SGDResnet50.h5\n",
            "252/252 [==============================] - 90s 356ms/step - loss: 3.7222 - accuracy: 0.9931 - val_loss: 3.8082 - val_accuracy: 0.9732\n",
            "Epoch 94/150\n",
            "252/252 [==============================] - ETA: 0s - loss: 3.7108 - accuracy: 0.9945\n",
            "Epoch 00094: val_loss did not improve from 3.80818\n",
            "252/252 [==============================] - 86s 339ms/step - loss: 3.7108 - accuracy: 0.9945 - val_loss: 3.8615 - val_accuracy: 0.9643\n",
            "Epoch 95/150\n",
            "252/252 [==============================] - ETA: 0s - loss: 3.7208 - accuracy: 0.9906\n",
            "Epoch 00095: val_loss did not improve from 3.80818\n",
            "252/252 [==============================] - 83s 331ms/step - loss: 3.7208 - accuracy: 0.9906 - val_loss: 3.8137 - val_accuracy: 0.9732\n",
            "Epoch 96/150\n",
            "252/252 [==============================] - ETA: 0s - loss: 3.7202 - accuracy: 0.9916\n",
            "Epoch 00096: val_loss did not improve from 3.80818\n",
            "252/252 [==============================] - 83s 331ms/step - loss: 3.7202 - accuracy: 0.9916 - val_loss: 3.8870 - val_accuracy: 0.9643\n",
            "Epoch 97/150\n",
            "252/252 [==============================] - ETA: 0s - loss: 3.7014 - accuracy: 0.9955\n",
            "Epoch 00097: val_loss improved from 3.80818 to 3.79715, saving model to /content/drive/My Drive/1-piece/Colour_SGDResnet50.h5\n",
            "252/252 [==============================] - 90s 357ms/step - loss: 3.7014 - accuracy: 0.9955 - val_loss: 3.7972 - val_accuracy: 0.9821\n",
            "Epoch 98/150\n",
            "252/252 [==============================] - ETA: 0s - loss: 3.6993 - accuracy: 0.9945\n",
            "Epoch 00098: val_loss did not improve from 3.79715\n",
            "252/252 [==============================] - 86s 339ms/step - loss: 3.6993 - accuracy: 0.9945 - val_loss: 3.8849 - val_accuracy: 0.9732\n",
            "Epoch 99/150\n",
            "252/252 [==============================] - ETA: 0s - loss: 3.6936 - accuracy: 0.9960\n",
            "Epoch 00099: val_loss did not improve from 3.79715\n",
            "252/252 [==============================] - 83s 331ms/step - loss: 3.6936 - accuracy: 0.9960 - val_loss: 3.8039 - val_accuracy: 0.9821\n",
            "Epoch 100/150\n",
            "252/252 [==============================] - ETA: 0s - loss: 3.6892 - accuracy: 0.9965\n",
            "Epoch 00100: val_loss did not improve from 3.79715\n",
            "252/252 [==============================] - 83s 331ms/step - loss: 3.6892 - accuracy: 0.9965 - val_loss: 4.1218 - val_accuracy: 0.9464\n",
            "Epoch 101/150\n",
            "252/252 [==============================] - ETA: 0s - loss: 3.6957 - accuracy: 0.9911\n",
            "Epoch 00101: val_loss did not improve from 3.79715\n",
            "252/252 [==============================] - 83s 331ms/step - loss: 3.6957 - accuracy: 0.9911 - val_loss: 3.9539 - val_accuracy: 0.9375\n",
            "Epoch 102/150\n",
            "252/252 [==============================] - ETA: 0s - loss: 3.6902 - accuracy: 0.9945\n",
            "Epoch 00102: val_loss did not improve from 3.79715\n",
            "252/252 [==============================] - 84s 332ms/step - loss: 3.6902 - accuracy: 0.9945 - val_loss: 3.8785 - val_accuracy: 0.9464\n",
            "Epoch 103/150\n",
            "252/252 [==============================] - ETA: 0s - loss: 3.6933 - accuracy: 0.9891\n",
            "Epoch 00103: val_loss did not improve from 3.79715\n",
            "252/252 [==============================] - 83s 331ms/step - loss: 3.6933 - accuracy: 0.9891 - val_loss: 3.8095 - val_accuracy: 0.9732\n",
            "Epoch 104/150\n",
            "252/252 [==============================] - ETA: 0s - loss: 3.6801 - accuracy: 0.9931\n",
            "Epoch 00104: val_loss did not improve from 3.79715\n",
            "252/252 [==============================] - 83s 331ms/step - loss: 3.6801 - accuracy: 0.9931 - val_loss: 3.8831 - val_accuracy: 0.9643\n",
            "Epoch 105/150\n",
            "252/252 [==============================] - ETA: 0s - loss: 3.6786 - accuracy: 0.9891\n",
            "Epoch 00105: val_loss did not improve from 3.79715\n",
            "252/252 [==============================] - 83s 331ms/step - loss: 3.6786 - accuracy: 0.9891 - val_loss: 3.8201 - val_accuracy: 0.9554\n",
            "Epoch 106/150\n",
            "252/252 [==============================] - ETA: 0s - loss: 3.6699 - accuracy: 0.9935\n",
            "Epoch 00106: val_loss improved from 3.79715 to 3.76061, saving model to /content/drive/My Drive/1-piece/Colour_SGDResnet50.h5\n",
            "252/252 [==============================] - 90s 356ms/step - loss: 3.6699 - accuracy: 0.9935 - val_loss: 3.7606 - val_accuracy: 0.9732\n",
            "Epoch 107/150\n",
            "252/252 [==============================] - ETA: 0s - loss: 3.6693 - accuracy: 0.9940\n",
            "Epoch 00107: val_loss did not improve from 3.76061\n",
            "252/252 [==============================] - 85s 337ms/step - loss: 3.6693 - accuracy: 0.9940 - val_loss: 3.7787 - val_accuracy: 0.9732\n",
            "Epoch 108/150\n",
            "252/252 [==============================] - ETA: 0s - loss: 3.6672 - accuracy: 0.9935\n",
            "Epoch 00108: val_loss did not improve from 3.76061\n",
            "252/252 [==============================] - 83s 330ms/step - loss: 3.6672 - accuracy: 0.9935 - val_loss: 3.8313 - val_accuracy: 0.9643\n",
            "Epoch 109/150\n",
            "252/252 [==============================] - ETA: 0s - loss: 3.6656 - accuracy: 0.9921\n",
            "Epoch 00109: val_loss did not improve from 3.76061\n",
            "252/252 [==============================] - 84s 331ms/step - loss: 3.6656 - accuracy: 0.9921 - val_loss: 3.7778 - val_accuracy: 0.9732\n",
            "Epoch 110/150\n",
            "252/252 [==============================] - ETA: 0s - loss: 3.6512 - accuracy: 0.9955\n",
            "Epoch 00110: val_loss did not improve from 3.76061\n",
            "252/252 [==============================] - 83s 330ms/step - loss: 3.6512 - accuracy: 0.9955 - val_loss: 3.8183 - val_accuracy: 0.9554\n",
            "Epoch 111/150\n",
            "252/252 [==============================] - ETA: 0s - loss: 3.6517 - accuracy: 0.9931\n",
            "Epoch 00111: val_loss did not improve from 3.76061\n",
            "252/252 [==============================] - 83s 331ms/step - loss: 3.6517 - accuracy: 0.9931 - val_loss: 3.8155 - val_accuracy: 0.9464\n",
            "Epoch 112/150\n",
            "252/252 [==============================] - ETA: 0s - loss: 3.6453 - accuracy: 0.9955\n",
            "Epoch 00112: val_loss improved from 3.76061 to 3.73971, saving model to /content/drive/My Drive/1-piece/Colour_SGDResnet50.h5\n",
            "252/252 [==============================] - 89s 355ms/step - loss: 3.6453 - accuracy: 0.9955 - val_loss: 3.7397 - val_accuracy: 0.9821\n",
            "Epoch 113/150\n",
            "252/252 [==============================] - ETA: 0s - loss: 3.6501 - accuracy: 0.9926\n",
            "Epoch 00113: val_loss did not improve from 3.73971\n",
            "252/252 [==============================] - 85s 338ms/step - loss: 3.6501 - accuracy: 0.9926 - val_loss: 3.7871 - val_accuracy: 0.9464\n",
            "Epoch 114/150\n",
            "252/252 [==============================] - ETA: 0s - loss: 3.6501 - accuracy: 0.9906\n",
            "Epoch 00114: val_loss did not improve from 3.73971\n",
            "252/252 [==============================] - 83s 331ms/step - loss: 3.6501 - accuracy: 0.9906 - val_loss: 3.7723 - val_accuracy: 0.9554\n",
            "Epoch 115/150\n",
            "252/252 [==============================] - ETA: 0s - loss: 3.6402 - accuracy: 0.9931\n",
            "Epoch 00115: val_loss improved from 3.73971 to 3.71674, saving model to /content/drive/My Drive/1-piece/Colour_SGDResnet50.h5\n",
            "252/252 [==============================] - 90s 356ms/step - loss: 3.6402 - accuracy: 0.9931 - val_loss: 3.7167 - val_accuracy: 0.9643\n",
            "Epoch 116/150\n",
            "252/252 [==============================] - ETA: 0s - loss: 3.6340 - accuracy: 0.9950\n",
            "Epoch 00116: val_loss did not improve from 3.71674\n",
            "252/252 [==============================] - 85s 338ms/step - loss: 3.6340 - accuracy: 0.9950 - val_loss: 3.7517 - val_accuracy: 0.9643\n",
            "Epoch 117/150\n",
            "252/252 [==============================] - ETA: 0s - loss: 3.6268 - accuracy: 0.9950\n",
            "Epoch 00117: val_loss did not improve from 3.71674\n",
            "252/252 [==============================] - 83s 330ms/step - loss: 3.6268 - accuracy: 0.9950 - val_loss: 3.7582 - val_accuracy: 0.9643\n",
            "Epoch 118/150\n",
            "252/252 [==============================] - ETA: 0s - loss: 3.6298 - accuracy: 0.9945\n",
            "Epoch 00118: val_loss did not improve from 3.71674\n",
            "252/252 [==============================] - 83s 330ms/step - loss: 3.6298 - accuracy: 0.9945 - val_loss: 4.0051 - val_accuracy: 0.9464\n",
            "Epoch 119/150\n",
            "252/252 [==============================] - ETA: 0s - loss: 3.6271 - accuracy: 0.9940\n",
            "Epoch 00119: val_loss did not improve from 3.71674\n",
            "252/252 [==============================] - 83s 330ms/step - loss: 3.6271 - accuracy: 0.9940 - val_loss: 3.7282 - val_accuracy: 0.9554\n",
            "Epoch 120/150\n",
            "252/252 [==============================] - ETA: 0s - loss: 3.6252 - accuracy: 0.9921\n",
            "Epoch 00120: val_loss did not improve from 3.71674\n",
            "252/252 [==============================] - 83s 331ms/step - loss: 3.6252 - accuracy: 0.9921 - val_loss: 3.8183 - val_accuracy: 0.9554\n",
            "Epoch 121/150\n",
            "252/252 [==============================] - ETA: 0s - loss: 3.6063 - accuracy: 0.9980\n",
            "Epoch 00121: val_loss improved from 3.71674 to 3.70266, saving model to /content/drive/My Drive/1-piece/Colour_SGDResnet50.h5\n",
            "252/252 [==============================] - 90s 356ms/step - loss: 3.6063 - accuracy: 0.9980 - val_loss: 3.7027 - val_accuracy: 0.9643\n",
            "Epoch 122/150\n",
            "252/252 [==============================] - ETA: 0s - loss: 3.6129 - accuracy: 0.9960\n",
            "Epoch 00122: val_loss did not improve from 3.70266\n",
            "252/252 [==============================] - 85s 338ms/step - loss: 3.6129 - accuracy: 0.9960 - val_loss: 3.7786 - val_accuracy: 0.9643\n",
            "Epoch 123/150\n",
            "252/252 [==============================] - ETA: 0s - loss: 3.6076 - accuracy: 0.9940\n",
            "Epoch 00123: val_loss did not improve from 3.70266\n",
            "252/252 [==============================] - 83s 330ms/step - loss: 3.6076 - accuracy: 0.9940 - val_loss: 3.7549 - val_accuracy: 0.9732\n",
            "Epoch 124/150\n",
            "252/252 [==============================] - ETA: 0s - loss: 3.6005 - accuracy: 0.9960\n",
            "Epoch 00124: val_loss did not improve from 3.70266\n",
            "252/252 [==============================] - 84s 332ms/step - loss: 3.6005 - accuracy: 0.9960 - val_loss: 3.7757 - val_accuracy: 0.9643\n",
            "Epoch 125/150\n",
            "252/252 [==============================] - ETA: 0s - loss: 3.6004 - accuracy: 0.9945\n",
            "Epoch 00125: val_loss improved from 3.70266 to 3.64468, saving model to /content/drive/My Drive/1-piece/Colour_SGDResnet50.h5\n",
            "252/252 [==============================] - 90s 356ms/step - loss: 3.6004 - accuracy: 0.9945 - val_loss: 3.6447 - val_accuracy: 0.9821\n",
            "Epoch 126/150\n",
            "252/252 [==============================] - ETA: 0s - loss: 3.5926 - accuracy: 0.9970\n",
            "Epoch 00126: val_loss did not improve from 3.64468\n",
            "252/252 [==============================] - 85s 336ms/step - loss: 3.5926 - accuracy: 0.9970 - val_loss: 3.7298 - val_accuracy: 0.9554\n",
            "Epoch 127/150\n",
            "252/252 [==============================] - ETA: 0s - loss: 3.5879 - accuracy: 0.9965\n",
            "Epoch 00127: val_loss did not improve from 3.64468\n",
            "252/252 [==============================] - 83s 331ms/step - loss: 3.5879 - accuracy: 0.9965 - val_loss: 3.7520 - val_accuracy: 0.9375\n",
            "Epoch 128/150\n",
            "252/252 [==============================] - ETA: 0s - loss: 3.5906 - accuracy: 0.9945\n",
            "Epoch 00128: val_loss did not improve from 3.64468\n",
            "252/252 [==============================] - 83s 330ms/step - loss: 3.5906 - accuracy: 0.9945 - val_loss: 3.7079 - val_accuracy: 0.9732\n",
            "Epoch 129/150\n",
            "252/252 [==============================] - ETA: 0s - loss: 3.5819 - accuracy: 0.9970\n",
            "Epoch 00129: val_loss did not improve from 3.64468\n",
            "252/252 [==============================] - 83s 329ms/step - loss: 3.5819 - accuracy: 0.9970 - val_loss: 3.7226 - val_accuracy: 0.9643\n",
            "Epoch 130/150\n",
            "252/252 [==============================] - ETA: 0s - loss: 3.5835 - accuracy: 0.9940\n",
            "Epoch 00130: val_loss did not improve from 3.64468\n",
            "252/252 [==============================] - 83s 330ms/step - loss: 3.5835 - accuracy: 0.9940 - val_loss: 3.7366 - val_accuracy: 0.9554\n",
            "Epoch 131/150\n",
            "252/252 [==============================] - ETA: 0s - loss: 3.5791 - accuracy: 0.9955\n",
            "Epoch 00131: val_loss did not improve from 3.64468\n",
            "252/252 [==============================] - 83s 331ms/step - loss: 3.5791 - accuracy: 0.9955 - val_loss: 3.7081 - val_accuracy: 0.9643\n",
            "Epoch 132/150\n",
            "252/252 [==============================] - ETA: 0s - loss: 3.5738 - accuracy: 0.9945\n",
            "Epoch 00132: val_loss did not improve from 3.64468\n",
            "252/252 [==============================] - 83s 330ms/step - loss: 3.5738 - accuracy: 0.9945 - val_loss: 3.8514 - val_accuracy: 0.9643\n",
            "Epoch 133/150\n",
            "252/252 [==============================] - ETA: 0s - loss: 3.5819 - accuracy: 0.9921\n",
            "Epoch 00133: val_loss did not improve from 3.64468\n",
            "252/252 [==============================] - 83s 330ms/step - loss: 3.5819 - accuracy: 0.9921 - val_loss: 3.7466 - val_accuracy: 0.9554\n",
            "Epoch 134/150\n",
            "252/252 [==============================] - ETA: 0s - loss: 3.5703 - accuracy: 0.9940\n",
            "Epoch 00134: val_loss did not improve from 3.64468\n",
            "252/252 [==============================] - 83s 330ms/step - loss: 3.5703 - accuracy: 0.9940 - val_loss: 3.6775 - val_accuracy: 0.9732\n",
            "Epoch 135/150\n",
            "252/252 [==============================] - ETA: 0s - loss: 3.5641 - accuracy: 0.9970\n",
            "Epoch 00135: val_loss did not improve from 3.64468\n",
            "252/252 [==============================] - 83s 331ms/step - loss: 3.5641 - accuracy: 0.9970 - val_loss: 3.6717 - val_accuracy: 0.9821\n",
            "Epoch 136/150\n",
            "252/252 [==============================] - ETA: 0s - loss: 3.5623 - accuracy: 0.9950\n",
            "Epoch 00136: val_loss did not improve from 3.64468\n",
            "252/252 [==============================] - 83s 330ms/step - loss: 3.5623 - accuracy: 0.9950 - val_loss: 3.6605 - val_accuracy: 0.9732\n",
            "Epoch 137/150\n",
            "252/252 [==============================] - ETA: 0s - loss: 3.5545 - accuracy: 0.9965\n",
            "Epoch 00137: val_loss did not improve from 3.64468\n",
            "252/252 [==============================] - 83s 328ms/step - loss: 3.5545 - accuracy: 0.9965 - val_loss: 3.7922 - val_accuracy: 0.9286\n",
            "Epoch 138/150\n",
            "252/252 [==============================] - ETA: 0s - loss: 3.5560 - accuracy: 0.9950\n",
            "Epoch 00138: val_loss did not improve from 3.64468\n",
            "252/252 [==============================] - 83s 329ms/step - loss: 3.5560 - accuracy: 0.9950 - val_loss: 3.7935 - val_accuracy: 0.9375\n",
            "Epoch 139/150\n",
            "252/252 [==============================] - ETA: 0s - loss: 3.5513 - accuracy: 0.9940\n",
            "Epoch 00139: val_loss did not improve from 3.64468\n",
            "252/252 [==============================] - 83s 329ms/step - loss: 3.5513 - accuracy: 0.9940 - val_loss: 3.6719 - val_accuracy: 0.9464\n",
            "Epoch 140/150\n",
            "252/252 [==============================] - ETA: 0s - loss: 3.5440 - accuracy: 0.9955\n",
            "Epoch 00140: val_loss did not improve from 3.64468\n",
            "252/252 [==============================] - 83s 328ms/step - loss: 3.5440 - accuracy: 0.9955 - val_loss: 3.8111 - val_accuracy: 0.9464\n",
            "Epoch 141/150\n",
            "252/252 [==============================] - ETA: 0s - loss: 3.5394 - accuracy: 0.9965\n",
            "Epoch 00141: val_loss did not improve from 3.64468\n",
            "252/252 [==============================] - 83s 329ms/step - loss: 3.5394 - accuracy: 0.9965 - val_loss: 3.6701 - val_accuracy: 0.9732\n",
            "Epoch 142/150\n",
            "252/252 [==============================] - ETA: 0s - loss: 3.5358 - accuracy: 0.9965\n",
            "Epoch 00142: val_loss did not improve from 3.64468\n",
            "252/252 [==============================] - 83s 330ms/step - loss: 3.5358 - accuracy: 0.9965 - val_loss: 3.9089 - val_accuracy: 0.9375\n",
            "Epoch 143/150\n",
            "252/252 [==============================] - ETA: 0s - loss: 3.5385 - accuracy: 0.9940\n",
            "Epoch 00143: val_loss did not improve from 3.64468\n",
            "252/252 [==============================] - 83s 328ms/step - loss: 3.5385 - accuracy: 0.9940 - val_loss: 3.7529 - val_accuracy: 0.9286\n",
            "Epoch 144/150\n",
            "252/252 [==============================] - ETA: 0s - loss: 3.5297 - accuracy: 0.9960\n",
            "Epoch 00144: val_loss did not improve from 3.64468\n",
            "252/252 [==============================] - 83s 328ms/step - loss: 3.5297 - accuracy: 0.9960 - val_loss: 3.6525 - val_accuracy: 0.9821\n",
            "Epoch 145/150\n",
            "252/252 [==============================] - ETA: 0s - loss: 3.5260 - accuracy: 0.9965\n",
            "Epoch 00145: val_loss did not improve from 3.64468\n",
            "252/252 [==============================] - 83s 329ms/step - loss: 3.5260 - accuracy: 0.9965 - val_loss: 3.6866 - val_accuracy: 0.9732\n",
            "Epoch 146/150\n",
            "252/252 [==============================] - ETA: 0s - loss: 3.5208 - accuracy: 0.9975\n",
            "Epoch 00146: val_loss did not improve from 3.64468\n",
            "252/252 [==============================] - 83s 330ms/step - loss: 3.5208 - accuracy: 0.9975 - val_loss: 3.7606 - val_accuracy: 0.9643\n",
            "Epoch 147/150\n",
            "252/252 [==============================] - ETA: 0s - loss: 3.5168 - accuracy: 0.9960\n",
            "Epoch 00147: val_loss improved from 3.64468 to 3.63879, saving model to /content/drive/My Drive/1-piece/Colour_SGDResnet50.h5\n",
            "252/252 [==============================] - 89s 354ms/step - loss: 3.5168 - accuracy: 0.9960 - val_loss: 3.6388 - val_accuracy: 0.9554\n",
            "Epoch 148/150\n",
            "252/252 [==============================] - ETA: 0s - loss: 3.5180 - accuracy: 0.9945\n",
            "Epoch 00148: val_loss did not improve from 3.63879\n",
            "252/252 [==============================] - 85s 337ms/step - loss: 3.5180 - accuracy: 0.9945 - val_loss: 3.6460 - val_accuracy: 0.9554\n",
            "Epoch 149/150\n",
            "252/252 [==============================] - ETA: 0s - loss: 3.5128 - accuracy: 0.9955\n",
            "Epoch 00149: val_loss improved from 3.63879 to 3.60794, saving model to /content/drive/My Drive/1-piece/Colour_SGDResnet50.h5\n",
            "252/252 [==============================] - 90s 356ms/step - loss: 3.5128 - accuracy: 0.9955 - val_loss: 3.6079 - val_accuracy: 0.9643\n",
            "Epoch 150/150\n",
            "252/252 [==============================] - ETA: 0s - loss: 3.5051 - accuracy: 0.9965\n",
            "Epoch 00150: val_loss did not improve from 3.60794\n",
            "252/252 [==============================] - 85s 338ms/step - loss: 3.5051 - accuracy: 0.9965 - val_loss: 3.6484 - val_accuracy: 0.9643\n"
          ],
          "name": "stdout"
        }
      ]
    },
    {
      "cell_type": "code",
      "metadata": {
        "id": "_LMDtJRmFBgs",
        "colab_type": "code",
        "colab": {
          "base_uri": "https://localhost:8080/",
          "height": 295
        },
        "outputId": "f133e176-10b6-4f6a-8052-45cfb02d411c"
      },
      "source": [
        "import matplotlib.pyplot as plt\n",
        "plt.plot(hist.history[\"accuracy\"])\n",
        "plt.plot(hist.history['val_accuracy'])\n",
        "plt.title(\"model accuracy\")\n",
        "plt.ylabel(\"Accuracy\")\n",
        "plt.xlabel(\"Epoch\")\n",
        "plt.legend([\"Accuracy\",\"Validation Accuracy\"])\n",
        "plt.show()"
      ],
      "execution_count": null,
      "outputs": [
        {
          "output_type": "display_data",
          "data": {
            "image/png": "[encoded data removed]",
            "text/plain": [
              "<Figure size 432x288 with 1 Axes>"
            ]
          },
          "metadata": {
            "tags": [],
            "needs_background": "light"
          }
        }
      ]
    },
    {
      "cell_type": "code",
      "metadata": {
        "id": "-_BMGblYFGf0",
        "colab_type": "code",
        "colab": {
          "base_uri": "https://localhost:8080/",
          "height": 295
        },
        "outputId": "8876a34d-adb0-45a0-c073-e49ae00fceb7"
      },
      "source": [
        "plt.plot(hist.history['loss'])\n",
        "plt.plot(hist.history['val_loss'])\n",
        "plt.title(\"model Loss\")\n",
        "plt.ylabel(\"Loss\")\n",
        "plt.xlabel(\"Epoch\")\n",
        "plt.legend([\"Loss\",\"Validation Loss\"])\n",
        "plt.show()"
      ],
      "execution_count": null,
      "outputs": [
        {
          "output_type": "display_data",
          "data": {
            "image/png": "[encoded data removed]",
            "text/plain": [
              "<Figure size 432x288 with 1 Axes>"
            ]
          },
          "metadata": {
            "tags": [],
            "needs_background": "light"
          }
        }
      ]
    },
    {
      "cell_type": "code",
      "metadata": {
        "id": "2Q2wPr4WFHR_",
        "colab_type": "code",
        "colab": {
          "base_uri": "https://localhost:8080/",
          "height": 34
        },
        "outputId": "9e6f6fe5-ad3f-4094-a981-76371216614d"
      },
      "source": [
        "Colour_TestData = TestGenerator.flow_from_directory('/content/drive/My Drive/1-piece/Test/', target_size=(224,224), batch_size = 8, shuffle = False)"
      ],
      "execution_count": null,
      "outputs": [
        {
          "output_type": "stream",
          "text": [
            "Found 112 images belonging to 112 classes.\n"
          ],
          "name": "stdout"
        }
      ]
    },
    {
      "cell_type": "code",
      "metadata": {
        "id": "FmdcSZ43FKgZ",
        "colab_type": "code",
        "colab": {}
      },
      "source": [
        "Colour_predict = model.predict(Colour_TestData)"
      ],
      "execution_count": null,
      "outputs": []
    },
    {
      "cell_type": "code",
      "metadata": {
        "id": "0dWD3bkCFRr_",
        "colab_type": "code",
        "colab": {}
      },
      "source": [
        "Colour_predict_classes = np.argmax(Colour_predict, axis=1)"
      ],
      "execution_count": null,
      "outputs": []
    },
    {
      "cell_type": "code",
      "metadata": {
        "id": "HPU0PEnXFUpQ",
        "colab_type": "code",
        "colab": {
          "base_uri": "https://localhost:8080/",
          "height": 170
        },
        "outputId": "ea985a33-ef09-4c6d-c371-704ef9ba5e33"
      },
      "source": [
        "Colour_predict_classes"
      ],
      "execution_count": null,
      "outputs": [
        {
          "output_type": "execute_result",
          "data": {
            "text/plain": [
              "array([  0,  27,  27,   8,   4,   5,   6,   7,   8,  27,  27,  11,  12,\n",
              "        13,  14,  34,  98,  17,  18,  18,  20,  21,  22,  23,  24,  25,\n",
              "        27,  27,  37,  57,  30,  31,  32,  33,  54,  35,  36,  37,  38,\n",
              "        39,  40,  41,  42,  43, 100,  51,  46,  47,  48,  49,  50,  51,\n",
              "        52,  65,  54,  55,  56,  57,  58,  63,  60,  61,  62,  87,  64,\n",
              "        67,  66,  67,  68,  69,  70,  71,  72,  73,  74,  89,  51,  77,\n",
              "        26,  79,  62,  63,  82,  83,  84,  85,  86,  87,  58,  89,  90,\n",
              "        91,  92,  48,  94,  95,  96,  97,  98,  99, 100, 101, 102, 103,\n",
              "       104, 105, 106, 107, 108, 109, 110, 111])"
            ]
          },
          "metadata": {
            "tags": []
          },
          "execution_count": 49
        }
      ]
    },
    {
      "cell_type": "code",
      "metadata": {
        "id": "KEaXlzr7FVXP",
        "colab_type": "code",
        "colab": {
          "base_uri": "https://localhost:8080/",
          "height": 34
        },
        "outputId": "dd9bb0ed-0c2b-4755-fd07-e818daf23680"
      },
      "source": [
        "Colour_accuracy = accuracy_score(Colour_TestData.classes, Colour_predict_classes)\n",
        "print(\"Colour Accuracy: \", Colour_accuracy)"
      ],
      "execution_count": null,
      "outputs": [
        {
          "output_type": "stream",
          "text": [
            "Colour Accuracy:  0.7767857142857143\n"
          ],
          "name": "stdout"
        }
      ]
    },
    {
      "cell_type": "code",
      "metadata": {
        "id": "rLmRGn70FbMM",
        "colab_type": "code",
        "colab": {
          "base_uri": "https://localhost:8080/",
          "height": 88
        },
        "outputId": "7d73d93d-2a9d-42e7-9bc1-de4b1b5ea5ca"
      },
      "source": [
        "Colour_precision = precision_score(Colour_TestData.classes, Colour_predict_classes,average=\"weighted\")\n",
        "print(\"Colour Precision: \", Colour_precision)"
      ],
      "execution_count": null,
      "outputs": [
        {
          "output_type": "stream",
          "text": [
            "Colour Precision:  0.7053571428571429\n"
          ],
          "name": "stdout"
        },
        {
          "output_type": "stream",
          "text": [
            "/usr/local/lib/python3.6/dist-packages/sklearn/metrics/_classification.py:1272: UndefinedMetricWarning: Precision is ill-defined and being set to 0.0 in labels with no predicted samples. Use `zero_division` parameter to control this behavior.\n",
            "  _warn_prf(average, modifier, msg_start, len(result))\n"
          ],
          "name": "stderr"
        }
      ]
    },
    {
      "cell_type": "code",
      "metadata": {
        "id": "yPsLeETdFjPV",
        "colab_type": "code",
        "colab": {
          "base_uri": "https://localhost:8080/",
          "height": 34
        },
        "outputId": "a6cdb027-96d8-4aa9-bb30-640b1727a7a8"
      },
      "source": [
        "Colour_recall = recall_score(Colour_TestData.classes, Colour_predict_classes, average=\"weighted\")\n",
        "print(\"Colour Recall:\", Colour_recall)"
      ],
      "execution_count": null,
      "outputs": [
        {
          "output_type": "stream",
          "text": [
            "Colour Recall: 0.7767857142857143\n"
          ],
          "name": "stdout"
        }
      ]
    },
    {
      "cell_type": "code",
      "metadata": {
        "id": "GKF4V9MGFlXH",
        "colab_type": "code",
        "colab": {
          "base_uri": "https://localhost:8080/",
          "height": 34
        },
        "outputId": "2b11ff79-b478-4873-ee69-8c57839f293b"
      },
      "source": [
        "Colour_f1_score = f1_score(Colour_TestData.classes, Colour_predict_classes, average=\"weighted\")\n",
        "print(\"F1 score for colour: \", Colour_f1_score)"
      ],
      "execution_count": null,
      "outputs": [
        {
          "output_type": "stream",
          "text": [
            "F1 score for colour:  0.7272534013605442\n"
          ],
          "name": "stdout"
        }
      ]
    },
    {
      "cell_type": "code",
      "metadata": {
        "id": "UydpFWLXFnYP",
        "colab_type": "code",
        "colab": {}
      },
      "source": [
        "Final = 0.6* Colour_predict + 0.4* Grey_predict"
      ],
      "execution_count": null,
      "outputs": []
    },
    {
      "cell_type": "code",
      "metadata": {
        "id": "0a2Y2ZpqFq0m",
        "colab_type": "code",
        "colab": {}
      },
      "source": [
        "Final_Predict_classes = np.argmax(Final, axis=1)"
      ],
      "execution_count": null,
      "outputs": []
    },
    {
      "cell_type": "code",
      "metadata": {
        "id": "_9-D19iXFreK",
        "colab_type": "code",
        "colab": {
          "base_uri": "https://localhost:8080/",
          "height": 34
        },
        "outputId": "bece8e29-d476-4d7a-c448-e8cdb188c7a8"
      },
      "source": [
        "Final_accuracy = accuracy_score(Colour_TestData.classes, Final_Predict_classes)\n",
        "print(\"Colour Accuracy: \", Final_accuracy)"
      ],
      "execution_count": null,
      "outputs": [
        {
          "output_type": "stream",
          "text": [
            "Colour Accuracy:  0.7946428571428571\n"
          ],
          "name": "stdout"
        }
      ]
    },
    {
      "cell_type": "code",
      "metadata": {
        "id": "pyhLev-OFt7B",
        "colab_type": "code",
        "colab": {
          "base_uri": "https://localhost:8080/",
          "height": 88
        },
        "outputId": "f9a12abd-a1e8-4b57-b8b3-8828bb51b940"
      },
      "source": [
        "Final_precision = precision_score(Colour_TestData.classes, Final_Predict_classes,average=\"weighted\")\n",
        "print(\"Colour Precision: \", Final_precision)"
      ],
      "execution_count": null,
      "outputs": [
        {
          "output_type": "stream",
          "text": [
            "Colour Precision:  0.7249999999999999\n"
          ],
          "name": "stdout"
        },
        {
          "output_type": "stream",
          "text": [
            "/usr/local/lib/python3.6/dist-packages/sklearn/metrics/_classification.py:1272: UndefinedMetricWarning: Precision is ill-defined and being set to 0.0 in labels with no predicted samples. Use `zero_division` parameter to control this behavior.\n",
            "  _warn_prf(average, modifier, msg_start, len(result))\n"
          ],
          "name": "stderr"
        }
      ]
    },
    {
      "cell_type": "code",
      "metadata": {
        "id": "qIxYZ09MFv-S",
        "colab_type": "code",
        "colab": {
          "base_uri": "https://localhost:8080/",
          "height": 34
        },
        "outputId": "e62d07ee-604a-441f-967f-52af5a64b684"
      },
      "source": [
        "Final_recall = recall_score(Colour_TestData.classes, Final_Predict_classes, average=\"weighted\")\n",
        "print(\"Colour Recall:\", Final_recall)"
      ],
      "execution_count": null,
      "outputs": [
        {
          "output_type": "stream",
          "text": [
            "Colour Recall: 0.7946428571428571\n"
          ],
          "name": "stdout"
        }
      ]
    },
    {
      "cell_type": "code",
      "metadata": {
        "id": "iWWxWzy1FyuX",
        "colab_type": "code",
        "colab": {
          "base_uri": "https://localhost:8080/",
          "height": 34
        },
        "outputId": "9376447d-aa06-414a-bccb-4e0c36957bd5"
      },
      "source": [
        "Final_f1_score = f1_score(Colour_TestData.classes, Final_Predict_classes, average=\"weighted\")\n",
        "print(\"F1 score for colour: \", Final_f1_score)"
      ],
      "execution_count": null,
      "outputs": [
        {
          "output_type": "stream",
          "text": [
            "F1 score for colour:  0.7455357142857143\n"
          ],
          "name": "stdout"
        }
      ]
    },
    {
      "cell_type": "code",
      "metadata": {
        "id": "BeAS4-FGF1LR",
        "colab_type": "code",
        "colab": {}
      },
      "source": [
        "Second_final = 0.5* Colour_predict + 0.5* Grey_predict"
      ],
      "execution_count": null,
      "outputs": []
    },
    {
      "cell_type": "code",
      "metadata": {
        "id": "tvR972PsF3OV",
        "colab_type": "code",
        "colab": {}
      },
      "source": [
        "Second_Final_Predict_classes = np.argmax(Second_final, axis=1)"
      ],
      "execution_count": null,
      "outputs": []
    },
    {
      "cell_type": "code",
      "metadata": {
        "id": "Bggi428OF5fW",
        "colab_type": "code",
        "colab": {
          "base_uri": "https://localhost:8080/",
          "height": 34
        },
        "outputId": "ec56a20c-d9c6-4f3a-9666-988f1c65a332"
      },
      "source": [
        "Mean_Final_accuracy = accuracy_score(Colour_TestData.classes, Second_Final_Predict_classes)\n",
        "print(\"Colour Accuracy: \", Mean_Final_accuracy)"
      ],
      "execution_count": null,
      "outputs": [
        {
          "output_type": "stream",
          "text": [
            "Colour Accuracy:  0.8035714285714286\n"
          ],
          "name": "stdout"
        }
      ]
    },
    {
      "cell_type": "code",
      "metadata": {
        "id": "STKAtHxQF7iN",
        "colab_type": "code",
        "colab": {
          "base_uri": "https://localhost:8080/",
          "height": 88
        },
        "outputId": "2abd54ea-2aa5-415a-a75c-64e4f489a60c"
      },
      "source": [
        "Mean_Precision = precision_score(Colour_TestData.classes, Second_Final_Predict_classes, average=\"weighted\")\n",
        "Mean_Precision"
      ],
      "execution_count": null,
      "outputs": [
        {
          "output_type": "stream",
          "text": [
            "/usr/local/lib/python3.6/dist-packages/sklearn/metrics/_classification.py:1272: UndefinedMetricWarning: Precision is ill-defined and being set to 0.0 in labels with no predicted samples. Use `zero_division` parameter to control this behavior.\n",
            "  _warn_prf(average, modifier, msg_start, len(result))\n"
          ],
          "name": "stderr"
        },
        {
          "output_type": "execute_result",
          "data": {
            "text/plain": [
              "0.7351190476190476"
            ]
          },
          "metadata": {
            "tags": []
          },
          "execution_count": 63
        }
      ]
    },
    {
      "cell_type": "code",
      "metadata": {
        "id": "tQzFKsN6F_lv",
        "colab_type": "code",
        "colab": {
          "base_uri": "https://localhost:8080/",
          "height": 34
        },
        "outputId": "d786257f-0772-4988-d749-b25f8e65d6b8"
      },
      "source": [
        "Mean_Recall = recall_score(Colour_TestData.classes, Second_Final_Predict_classes, average=\"weighted\")\n",
        "Mean_Recall"
      ],
      "execution_count": null,
      "outputs": [
        {
          "output_type": "execute_result",
          "data": {
            "text/plain": [
              "0.8035714285714286"
            ]
          },
          "metadata": {
            "tags": []
          },
          "execution_count": 64
        }
      ]
    },
    {
      "cell_type": "code",
      "metadata": {
        "id": "v-N2RVK3GBEq",
        "colab_type": "code",
        "colab": {
          "base_uri": "https://localhost:8080/",
          "height": 34
        },
        "outputId": "d1e954dd-f652-4723-ff90-ccad62ce5f56"
      },
      "source": [
        "Mean_F1Score = f1_score(Colour_TestData.classes, Second_Final_Predict_classes, average=\"weighted\")\n",
        "Mean_F1Score"
      ],
      "execution_count": null,
      "outputs": [
        {
          "output_type": "execute_result",
          "data": {
            "text/plain": [
              "0.7556547619047619"
            ]
          },
          "metadata": {
            "tags": []
          },
          "execution_count": 65
        }
      ]
    }
  ]
}