{
  "nbformat": 4,
  "nbformat_minor": 0,
  "metadata": {
    "colab": {
      "name": "Inspectionv3_Hardwood.ipynb",
      "provenance": [],
      "collapsed_sections": []
    },
    "kernelspec": {
      "name": "python3",
      "display_name": "Python 3"
    }
  },
  "cells": [
    {
      "cell_type": "code",
      "metadata": {
        "id": "gwrnn9RDGRWn",
        "colab_type": "code",
        "colab": {
          "base_uri": "https://localhost:8080/",
          "height": 122
        },
        "outputId": "39f14e00-05cd-4deb-b38b-78be0b983c88"
      },
      "source": [
        "from google.colab import drive\n",
        "drive.mount('/content/drive')"
      ],
      "execution_count": null,
      "outputs": [
        {
          "output_type": "stream",
          "text": [
            "Go to this URL in a browser: https://accounts.google.com/o/oauth2/auth?client_id=947318989803-6bn6qk8qdgf4n4g3pfee6491hc0brc4i.apps.googleusercontent.com&redirect_uri=urn%3aietf%3awg%3aoauth%3a2.0%3aoob&response_type=code&scope=email%20https%3a%2f%2fwww.googleapis.com%2fauth%2fdocs.test%20https%3a%2f%2fwww.googleapis.com%2fauth%2fdrive%20https%3a%2f%2fwww.googleapis.com%2fauth%2fdrive.photos.readonly%20https%3a%2f%2fwww.googleapis.com%2fauth%2fpeopleapi.readonly\n",
            "\n",
            "Enter your authorization code:\n",
            "··········\n",
            "Mounted at /content/drive\n"
          ],
          "name": "stdout"
        }
      ]
    },
    {
      "cell_type": "code",
      "metadata": {
        "id": "S1Ru2TIyG8zm",
        "colab_type": "code",
        "colab": {}
      },
      "source": [
        "# Importing the Libraries.\n",
        "import keras\n",
        "import os\n",
        "from keras.models import Sequential\n",
        "from keras.layers import Dense, Conv2D, MaxPool2D, Flatten, Dropout\n",
        "from keras.preprocessing.image import ImageDataGenerator\n",
        "import numpy as np\n",
        "#import keras.backend as K\n",
        "import tensorflow.keras.backend as K\n",
        "import tensorflow.compat.v1 as tf\n",
        "from os import listdir\n",
        "from os.path import isfile, join\n",
        "import numpy as np\n",
        "import sys\n",
        "import os\n",
        "import shutil\n",
        "import pandas as pd\n",
        "from PIL import Image\n",
        "import cv2\n",
        "import keras\n",
        "import glob\n",
        "from PIL import Image\n",
        "from keras.preprocessing.image import img_to_array\n",
        "from sklearn.preprocessing import MultiLabelBinarizer\n",
        "from keras import models, regularizers, layers, optimizers, losses, metrics\n",
        "from keras.applications.resnet50 import ResNet50\n",
        "from keras.preprocessing.image import ImageDataGenerator\n",
        "from keras.models import Sequential\n",
        "from keras.layers import Dense, Dropout, Activation, Flatten, MaxPool2D\n",
        "from keras.layers import Convolution2D, MaxPooling2D, ZeroPadding2D\n",
        "from keras.layers import AveragePooling2D\n",
        "from keras.models import load_model\n",
        "from keras.layers.pooling import GlobalAveragePooling2D\n",
        "from keras.layers.normalization import BatchNormalization\n",
        "from keras.models import Model\n",
        "from keras.optimizers import Adam\n",
        "from keras.callbacks import ModelCheckpoint, EarlyStopping\n",
        "from sklearn.preprocessing import LabelEncoder, OneHotEncoder\n",
        "from PIL import ImageFile\n",
        "\n",
        "tf.enable_eager_execution()"
      ],
      "execution_count": null,
      "outputs": []
    },
    {
      "cell_type": "code",
      "metadata": {
        "id": "H8uThe6GHIz4",
        "colab_type": "code",
        "colab": {}
      },
      "source": [
        "ImageFile.LOAD_TRUNCATED_IMAGES = True"
      ],
      "execution_count": null,
      "outputs": []
    },
    {
      "cell_type": "code",
      "metadata": {
        "id": "6rFm4Cu0HLWH",
        "colab_type": "code",
        "colab": {}
      },
      "source": [
        "# Data Augmentation.\n",
        "DataGenerator = ImageDataGenerator(horizontal_flip=True, vertical_flip=True, rescale=1./255, brightness_range=[0.2,0.7])"
      ],
      "execution_count": null,
      "outputs": []
    },
    {
      "cell_type": "code",
      "metadata": {
        "id": "FkFMyChNHOhL",
        "colab_type": "code",
        "colab": {}
      },
      "source": [
        "TestGenerator = ImageDataGenerator(rescale=1./255)"
      ],
      "execution_count": null,
      "outputs": []
    },
    {
      "cell_type": "code",
      "metadata": {
        "id": "6RosFDArHQjf",
        "colab_type": "code",
        "colab": {
          "base_uri": "https://localhost:8080/",
          "height": 34
        },
        "outputId": "9cd0abba-21f2-4f80-ead9-844ef9a9f53d"
      },
      "source": [
        "Grey_TrainingData = DataGenerator.flow_from_directory('/content/drive/My Drive/1-piece/Train/', target_size=(224,224), batch_size=8, color_mode='grayscale')"
      ],
      "execution_count": null,
      "outputs": [
        {
          "output_type": "stream",
          "text": [
            "Found 2015 images belonging to 112 classes.\n"
          ],
          "name": "stdout"
        }
      ]
    },
    {
      "cell_type": "code",
      "metadata": {
        "id": "vbyNJFttHTH8",
        "colab_type": "code",
        "colab": {
          "base_uri": "https://localhost:8080/",
          "height": 34
        },
        "outputId": "9d3cb8bd-ad38-4de5-a4b5-2214b218001f"
      },
      "source": [
        "Grey_ValidData = TestGenerator.flow_from_directory('/content/drive/My Drive/1-piece/Valid/', target_size=(224,224),batch_size=8, color_mode='grayscale')"
      ],
      "execution_count": null,
      "outputs": [
        {
          "output_type": "stream",
          "text": [
            "Found 112 images belonging to 112 classes.\n"
          ],
          "name": "stdout"
        }
      ]
    },
    {
      "cell_type": "code",
      "metadata": {
        "id": "roMORhNzHatK",
        "colab_type": "code",
        "colab": {}
      },
      "source": [
        "gpu_options = tf.GPUOptions(allow_growth=True)\n",
        "session = tf.InteractiveSession(config=tf.ConfigProto(gpu_options=gpu_options))"
      ],
      "execution_count": null,
      "outputs": []
    },
    {
      "cell_type": "code",
      "metadata": {
        "id": "MhjF0A4pHkdh",
        "colab_type": "code",
        "colab": {}
      },
      "source": [
        "from keras.applications.inception_v3 import InceptionV3"
      ],
      "execution_count": null,
      "outputs": []
    },
    {
      "cell_type": "code",
      "metadata": {
        "id": "wWL9JBVbICYY",
        "colab_type": "code",
        "colab": {
          "base_uri": "https://localhost:8080/",
          "height": 71
        },
        "outputId": "a91d0d8f-0e43-4b1a-dc8c-1570037a41af"
      },
      "source": [
        "conv_base = InceptionV3(weights = 'imagenet', include_top = False, pooling = 'avg')"
      ],
      "execution_count": null,
      "outputs": [
        {
          "output_type": "stream",
          "text": [
            "Downloading data from https://storage.googleapis.com/tensorflow/keras-applications/inception_v3/inception_v3_weights_tf_dim_ordering_tf_kernels_notop.h5\n",
            "87916544/87910968 [==============================] - 1s 0us/step\n"
          ],
          "name": "stdout"
        }
      ]
    },
    {
      "cell_type": "code",
      "metadata": {
        "id": "0tw3QqY2IFb1",
        "colab_type": "code",
        "colab": {
          "base_uri": "https://localhost:8080/",
          "height": 34
        },
        "outputId": "b58ebe9a-d3b2-44bf-d772-06aec10409bf"
      },
      "source": [
        "for layer in conv_base.layers[:299]:\n",
        "  layer.trainable = False\n",
        "for layer in conv_base.layers[299:]:\n",
        "  layer.trainable = True\n",
        "for layer in conv_base.layers:\n",
        "  if isinstance(layer, BatchNormalization):\n",
        "    layer.trainable = True\n",
        "\n",
        "print(\"Done\")"
      ],
      "execution_count": null,
      "outputs": [
        {
          "output_type": "stream",
          "text": [
            "Done\n"
          ],
          "name": "stdout"
        }
      ]
    },
    {
      "cell_type": "code",
      "metadata": {
        "id": "TPqTlCfaIIzT",
        "colab_type": "code",
        "colab": {
          "base_uri": "https://localhost:8080/",
          "height": 1000
        },
        "outputId": "2df391aa-2b03-4d86-80e9-f3fa6c41a077"
      },
      "source": [
        "for i, layer in enumerate(conv_base.layers):\n",
        "   print(i, layer.name, layer.trainable)"
      ],
      "execution_count": null,
      "outputs": [
        {
          "output_type": "stream",
          "text": [
            "0 input_1 False\n",
            "1 conv2d False\n",
            "2 batch_normalization True\n",
            "3 activation False\n",
            "4 conv2d_1 False\n",
            "5 batch_normalization_1 True\n",
            "6 activation_1 False\n",
            "7 conv2d_2 False\n",
            "8 batch_normalization_2 True\n",
            "9 activation_2 False\n",
            "10 max_pooling2d False\n",
            "11 conv2d_3 False\n",
            "12 batch_normalization_3 True\n",
            "13 activation_3 False\n",
            "14 conv2d_4 False\n",
            "15 batch_normalization_4 True\n",
            "16 activation_4 False\n",
            "17 max_pooling2d_1 False\n",
            "18 conv2d_8 False\n",
            "19 batch_normalization_8 True\n",
            "20 activation_8 False\n",
            "21 conv2d_6 False\n",
            "22 conv2d_9 False\n",
            "23 batch_normalization_6 True\n",
            "24 batch_normalization_9 True\n",
            "25 activation_6 False\n",
            "26 activation_9 False\n",
            "27 average_pooling2d False\n",
            "28 conv2d_5 False\n",
            "29 conv2d_7 False\n",
            "30 conv2d_10 False\n",
            "31 conv2d_11 False\n",
            "32 batch_normalization_5 True\n",
            "33 batch_normalization_7 True\n",
            "34 batch_normalization_10 True\n",
            "35 batch_normalization_11 True\n",
            "36 activation_5 False\n",
            "37 activation_7 False\n",
            "38 activation_10 False\n",
            "39 activation_11 False\n",
            "40 mixed0 False\n",
            "41 conv2d_15 False\n",
            "42 batch_normalization_15 True\n",
            "43 activation_15 False\n",
            "44 conv2d_13 False\n",
            "45 conv2d_16 False\n",
            "46 batch_normalization_13 True\n",
            "47 batch_normalization_16 True\n",
            "48 activation_13 False\n",
            "49 activation_16 False\n",
            "50 average_pooling2d_1 False\n",
            "51 conv2d_12 False\n",
            "52 conv2d_14 False\n",
            "53 conv2d_17 False\n",
            "54 conv2d_18 False\n",
            "55 batch_normalization_12 True\n",
            "56 batch_normalization_14 True\n",
            "57 batch_normalization_17 True\n",
            "58 batch_normalization_18 True\n",
            "59 activation_12 False\n",
            "60 activation_14 False\n",
            "61 activation_17 False\n",
            "62 activation_18 False\n",
            "63 mixed1 False\n",
            "64 conv2d_22 False\n",
            "65 batch_normalization_22 True\n",
            "66 activation_22 False\n",
            "67 conv2d_20 False\n",
            "68 conv2d_23 False\n",
            "69 batch_normalization_20 True\n",
            "70 batch_normalization_23 True\n",
            "71 activation_20 False\n",
            "72 activation_23 False\n",
            "73 average_pooling2d_2 False\n",
            "74 conv2d_19 False\n",
            "75 conv2d_21 False\n",
            "76 conv2d_24 False\n",
            "77 conv2d_25 False\n",
            "78 batch_normalization_19 True\n",
            "79 batch_normalization_21 True\n",
            "80 batch_normalization_24 True\n",
            "81 batch_normalization_25 True\n",
            "82 activation_19 False\n",
            "83 activation_21 False\n",
            "84 activation_24 False\n",
            "85 activation_25 False\n",
            "86 mixed2 False\n",
            "87 conv2d_27 False\n",
            "88 batch_normalization_27 True\n",
            "89 activation_27 False\n",
            "90 conv2d_28 False\n",
            "91 batch_normalization_28 True\n",
            "92 activation_28 False\n",
            "93 conv2d_26 False\n",
            "94 conv2d_29 False\n",
            "95 batch_normalization_26 True\n",
            "96 batch_normalization_29 True\n",
            "97 activation_26 False\n",
            "98 activation_29 False\n",
            "99 max_pooling2d_2 False\n",
            "100 mixed3 False\n",
            "101 conv2d_34 False\n",
            "102 batch_normalization_34 True\n",
            "103 activation_34 False\n",
            "104 conv2d_35 False\n",
            "105 batch_normalization_35 True\n",
            "106 activation_35 False\n",
            "107 conv2d_31 False\n",
            "108 conv2d_36 False\n",
            "109 batch_normalization_31 True\n",
            "110 batch_normalization_36 True\n",
            "111 activation_31 False\n",
            "112 activation_36 False\n",
            "113 conv2d_32 False\n",
            "114 conv2d_37 False\n",
            "115 batch_normalization_32 True\n",
            "116 batch_normalization_37 True\n",
            "117 activation_32 False\n",
            "118 activation_37 False\n",
            "119 average_pooling2d_3 False\n",
            "120 conv2d_30 False\n",
            "121 conv2d_33 False\n",
            "122 conv2d_38 False\n",
            "123 conv2d_39 False\n",
            "124 batch_normalization_30 True\n",
            "125 batch_normalization_33 True\n",
            "126 batch_normalization_38 True\n",
            "127 batch_normalization_39 True\n",
            "128 activation_30 False\n",
            "129 activation_33 False\n",
            "130 activation_38 False\n",
            "131 activation_39 False\n",
            "132 mixed4 False\n",
            "133 conv2d_44 False\n",
            "134 batch_normalization_44 True\n",
            "135 activation_44 False\n",
            "136 conv2d_45 False\n",
            "137 batch_normalization_45 True\n",
            "138 activation_45 False\n",
            "139 conv2d_41 False\n",
            "140 conv2d_46 False\n",
            "141 batch_normalization_41 True\n",
            "142 batch_normalization_46 True\n",
            "143 activation_41 False\n",
            "144 activation_46 False\n",
            "145 conv2d_42 False\n",
            "146 conv2d_47 False\n",
            "147 batch_normalization_42 True\n",
            "148 batch_normalization_47 True\n",
            "149 activation_42 False\n",
            "150 activation_47 False\n",
            "151 average_pooling2d_4 False\n",
            "152 conv2d_40 False\n",
            "153 conv2d_43 False\n",
            "154 conv2d_48 False\n",
            "155 conv2d_49 False\n",
            "156 batch_normalization_40 True\n",
            "157 batch_normalization_43 True\n",
            "158 batch_normalization_48 True\n",
            "159 batch_normalization_49 True\n",
            "160 activation_40 False\n",
            "161 activation_43 False\n",
            "162 activation_48 False\n",
            "163 activation_49 False\n",
            "164 mixed5 False\n",
            "165 conv2d_54 False\n",
            "166 batch_normalization_54 True\n",
            "167 activation_54 False\n",
            "168 conv2d_55 False\n",
            "169 batch_normalization_55 True\n",
            "170 activation_55 False\n",
            "171 conv2d_51 False\n",
            "172 conv2d_56 False\n",
            "173 batch_normalization_51 True\n",
            "174 batch_normalization_56 True\n",
            "175 activation_51 False\n",
            "176 activation_56 False\n",
            "177 conv2d_52 False\n",
            "178 conv2d_57 False\n",
            "179 batch_normalization_52 True\n",
            "180 batch_normalization_57 True\n",
            "181 activation_52 False\n",
            "182 activation_57 False\n",
            "183 average_pooling2d_5 False\n",
            "184 conv2d_50 False\n",
            "185 conv2d_53 False\n",
            "186 conv2d_58 False\n",
            "187 conv2d_59 False\n",
            "188 batch_normalization_50 True\n",
            "189 batch_normalization_53 True\n",
            "190 batch_normalization_58 True\n",
            "191 batch_normalization_59 True\n",
            "192 activation_50 False\n",
            "193 activation_53 False\n",
            "194 activation_58 False\n",
            "195 activation_59 False\n",
            "196 mixed6 False\n",
            "197 conv2d_64 False\n",
            "198 batch_normalization_64 True\n",
            "199 activation_64 False\n",
            "200 conv2d_65 False\n",
            "201 batch_normalization_65 True\n",
            "202 activation_65 False\n",
            "203 conv2d_61 False\n",
            "204 conv2d_66 False\n",
            "205 batch_normalization_61 True\n",
            "206 batch_normalization_66 True\n",
            "207 activation_61 False\n",
            "208 activation_66 False\n",
            "209 conv2d_62 False\n",
            "210 conv2d_67 False\n",
            "211 batch_normalization_62 True\n",
            "212 batch_normalization_67 True\n",
            "213 activation_62 False\n",
            "214 activation_67 False\n",
            "215 average_pooling2d_6 False\n",
            "216 conv2d_60 False\n",
            "217 conv2d_63 False\n",
            "218 conv2d_68 False\n",
            "219 conv2d_69 False\n",
            "220 batch_normalization_60 True\n",
            "221 batch_normalization_63 True\n",
            "222 batch_normalization_68 True\n",
            "223 batch_normalization_69 True\n",
            "224 activation_60 False\n",
            "225 activation_63 False\n",
            "226 activation_68 False\n",
            "227 activation_69 False\n",
            "228 mixed7 False\n",
            "229 conv2d_72 False\n",
            "230 batch_normalization_72 True\n",
            "231 activation_72 False\n",
            "232 conv2d_73 False\n",
            "233 batch_normalization_73 True\n",
            "234 activation_73 False\n",
            "235 conv2d_70 False\n",
            "236 conv2d_74 False\n",
            "237 batch_normalization_70 True\n",
            "238 batch_normalization_74 True\n",
            "239 activation_70 False\n",
            "240 activation_74 False\n",
            "241 conv2d_71 False\n",
            "242 conv2d_75 False\n",
            "243 batch_normalization_71 True\n",
            "244 batch_normalization_75 True\n",
            "245 activation_71 False\n",
            "246 activation_75 False\n",
            "247 max_pooling2d_3 False\n",
            "248 mixed8 False\n",
            "249 conv2d_80 False\n",
            "250 batch_normalization_80 True\n",
            "251 activation_80 False\n",
            "252 conv2d_77 False\n",
            "253 conv2d_81 False\n",
            "254 batch_normalization_77 True\n",
            "255 batch_normalization_81 True\n",
            "256 activation_77 False\n",
            "257 activation_81 False\n",
            "258 conv2d_78 False\n",
            "259 conv2d_79 False\n",
            "260 conv2d_82 False\n",
            "261 conv2d_83 False\n",
            "262 average_pooling2d_7 False\n",
            "263 conv2d_76 False\n",
            "264 batch_normalization_78 True\n",
            "265 batch_normalization_79 True\n",
            "266 batch_normalization_82 True\n",
            "267 batch_normalization_83 True\n",
            "268 conv2d_84 False\n",
            "269 batch_normalization_76 True\n",
            "270 activation_78 False\n",
            "271 activation_79 False\n",
            "272 activation_82 False\n",
            "273 activation_83 False\n",
            "274 batch_normalization_84 True\n",
            "275 activation_76 False\n",
            "276 mixed9_0 False\n",
            "277 concatenate False\n",
            "278 activation_84 False\n",
            "279 mixed9 False\n",
            "280 conv2d_89 False\n",
            "281 batch_normalization_89 True\n",
            "282 activation_89 False\n",
            "283 conv2d_86 False\n",
            "284 conv2d_90 False\n",
            "285 batch_normalization_86 True\n",
            "286 batch_normalization_90 True\n",
            "287 activation_86 False\n",
            "288 activation_90 False\n",
            "289 conv2d_87 False\n",
            "290 conv2d_88 False\n",
            "291 conv2d_91 False\n",
            "292 conv2d_92 False\n",
            "293 average_pooling2d_8 False\n",
            "294 conv2d_85 False\n",
            "295 batch_normalization_87 True\n",
            "296 batch_normalization_88 True\n",
            "297 batch_normalization_91 True\n",
            "298 batch_normalization_92 True\n",
            "299 conv2d_93 True\n",
            "300 batch_normalization_85 True\n",
            "301 activation_87 True\n",
            "302 activation_88 True\n",
            "303 activation_91 True\n",
            "304 activation_92 True\n",
            "305 batch_normalization_93 True\n",
            "306 activation_85 True\n",
            "307 mixed9_1 True\n",
            "308 concatenate_1 True\n",
            "309 activation_93 True\n",
            "310 mixed10 True\n",
            "311 global_average_pooling2d True\n"
          ],
          "name": "stdout"
        }
      ]
    },
    {
      "cell_type": "code",
      "metadata": {
        "id": "LRgJzzTkILvk",
        "colab_type": "code",
        "colab": {}
      },
      "source": [
        "from keras.layers import Input "
      ],
      "execution_count": null,
      "outputs": []
    },
    {
      "cell_type": "code",
      "metadata": {
        "id": "6XwhmneUIOz4",
        "colab_type": "code",
        "colab": {}
      },
      "source": [
        "input_tensor = Input(shape=(224,224,1))\n",
        "x = Conv2D(3,(3,3), padding='same')(input_tensor)"
      ],
      "execution_count": null,
      "outputs": []
    },
    {
      "cell_type": "code",
      "metadata": {
        "id": "im_uZPYCIQ_d",
        "colab_type": "code",
        "colab": {}
      },
      "source": [
        "x = conv_base(x)"
      ],
      "execution_count": null,
      "outputs": []
    },
    {
      "cell_type": "code",
      "metadata": {
        "id": "ATK3uMnWIUdW",
        "colab_type": "code",
        "colab": {}
      },
      "source": [
        "x = Dense(2048, activation='relu', kernel_regularizer= regularizers.l2(0.001))(x)\n",
        "x = Dropout(0.5)(x)"
      ],
      "execution_count": null,
      "outputs": []
    },
    {
      "cell_type": "code",
      "metadata": {
        "id": "ucYVzkNJIWuk",
        "colab_type": "code",
        "colab": {}
      },
      "source": [
        "ouput = Dense(112, activation='softmax')(x)"
      ],
      "execution_count": null,
      "outputs": []
    },
    {
      "cell_type": "code",
      "metadata": {
        "id": "qlek0DDqId2e",
        "colab_type": "code",
        "colab": {}
      },
      "source": [
        "model = Model(inputs = input_tensor, outputs = ouput )"
      ],
      "execution_count": null,
      "outputs": []
    },
    {
      "cell_type": "code",
      "metadata": {
        "id": "c234MRM8IhIy",
        "colab_type": "code",
        "colab": {
          "base_uri": "https://localhost:8080/",
          "height": 357
        },
        "outputId": "f10ea46e-5a82-4d58-a76a-52a33f5de8a9"
      },
      "source": [
        "model.summary()"
      ],
      "execution_count": null,
      "outputs": [
        {
          "output_type": "stream",
          "text": [
            "Model: \"functional_1\"\n",
            "_________________________________________________________________\n",
            "Layer (type)                 Output Shape              Param #   \n",
            "=================================================================\n",
            "input_2 (InputLayer)         [(None, 224, 224, 1)]     0         \n",
            "_________________________________________________________________\n",
            "conv2d_94 (Conv2D)           (None, 224, 224, 3)       30        \n",
            "_________________________________________________________________\n",
            "inception_v3 (Functional)    (None, 2048)              21802784  \n",
            "_________________________________________________________________\n",
            "dense (Dense)                (None, 2048)              4196352   \n",
            "_________________________________________________________________\n",
            "dropout (Dropout)            (None, 2048)              0         \n",
            "_________________________________________________________________\n",
            "dense_1 (Dense)              (None, 112)               229488    \n",
            "=================================================================\n",
            "Total params: 26,228,654\n",
            "Trainable params: 4,836,302\n",
            "Non-trainable params: 21,392,352\n",
            "_________________________________________________________________\n"
          ],
          "name": "stdout"
        }
      ]
    },
    {
      "cell_type": "code",
      "metadata": {
        "id": "YKHF6ZDtIj7X",
        "colab_type": "code",
        "colab": {}
      },
      "source": [
        "model.compile(loss='categorical_crossentropy',\n",
        "              optimizer=Adam(lr=0.001),\n",
        "              metrics=['accuracy'])"
      ],
      "execution_count": null,
      "outputs": []
    },
    {
      "cell_type": "code",
      "metadata": {
        "id": "QFrUnTWdIm1x",
        "colab_type": "code",
        "colab": {}
      },
      "source": [
        "from keras.callbacks import ModelCheckpoint, EarlyStopping, ReduceLROnPlateau\n",
        "checkpoint = ModelCheckpoint(\"/content/drive/My Drive/1-piece/Inceptionv3_GrayScale.h5\",\n",
        "                             monitor=\"val_loss\",\n",
        "                             mode=\"min\",\n",
        "                             save_best_only = True,\n",
        "                             verbose=1)\n",
        "\n",
        "earlystop = EarlyStopping(monitor = 'val_loss', \n",
        "                          min_delta = 0, \n",
        "                          patience = 40,\n",
        "                          verbose = 1,\n",
        "                          restore_best_weights = True)\n",
        "\n",
        "reduce_lr = ReduceLROnPlateau(monitor = 'val_loss',\n",
        "                              factor = 0.2,\n",
        "                              patience = 40,\n",
        "                              verbose = 1,\n",
        "                              min_delta = 0.00001)\n",
        "\n",
        "callBacks = [earlystop, checkpoint, reduce_lr]"
      ],
      "execution_count": null,
      "outputs": []
    },
    {
      "cell_type": "code",
      "metadata": {
        "id": "Silp66FDJEvF",
        "colab_type": "code",
        "colab": {
          "base_uri": "https://localhost:8080/",
          "height": 1000
        },
        "outputId": "2c974c5f-092b-47ca-a33f-0195db6100e6"
      },
      "source": [
        "hist = model.fit_generator(steps_per_epoch=252,generator= Grey_TrainingData, validation_data= Grey_ValidData, validation_steps=14,epochs=150,callbacks=callBacks)"
      ],
      "execution_count": null,
      "outputs": [
        {
          "output_type": "stream",
          "text": [
            "WARNING:tensorflow:From <ipython-input-22-2f51164406f7>:1: Model.fit_generator (from tensorflow.python.keras.engine.training) is deprecated and will be removed in a future version.\n",
            "Instructions for updating:\n",
            "Please use Model.fit, which supports generators.\n",
            "Epoch 1/150\n",
            "252/252 [==============================] - ETA: 0s - loss: 6.1368 - accuracy: 0.0223\n",
            "Epoch 00001: val_loss improved from inf to 4.88483, saving model to /content/drive/My Drive/1-piece/Inceptionv3_GrayScale.h5\n",
            "252/252 [==============================] - 775s 3s/step - loss: 6.1368 - accuracy: 0.0223 - val_loss: 4.8848 - val_accuracy: 0.0804\n",
            "Epoch 2/150\n",
            "252/252 [==============================] - ETA: 0s - loss: 4.6676 - accuracy: 0.0491\n",
            "Epoch 00002: val_loss improved from 4.88483 to 4.03751, saving model to /content/drive/My Drive/1-piece/Inceptionv3_GrayScale.h5\n",
            "252/252 [==============================] - 92s 364ms/step - loss: 4.6676 - accuracy: 0.0491 - val_loss: 4.0375 - val_accuracy: 0.1161\n",
            "Epoch 3/150\n",
            "252/252 [==============================] - ETA: 0s - loss: 4.0528 - accuracy: 0.0824\n",
            "Epoch 00003: val_loss improved from 4.03751 to 3.93330, saving model to /content/drive/My Drive/1-piece/Inceptionv3_GrayScale.h5\n",
            "252/252 [==============================] - 92s 366ms/step - loss: 4.0528 - accuracy: 0.0824 - val_loss: 3.9333 - val_accuracy: 0.1161\n",
            "Epoch 4/150\n",
            "252/252 [==============================] - ETA: 0s - loss: 3.6523 - accuracy: 0.1330\n",
            "Epoch 00004: val_loss improved from 3.93330 to 3.42703, saving model to /content/drive/My Drive/1-piece/Inceptionv3_GrayScale.h5\n",
            "252/252 [==============================] - 93s 370ms/step - loss: 3.6523 - accuracy: 0.1330 - val_loss: 3.4270 - val_accuracy: 0.1429\n",
            "Epoch 5/150\n",
            "252/252 [==============================] - ETA: 0s - loss: 3.3444 - accuracy: 0.1831\n",
            "Epoch 00005: val_loss improved from 3.42703 to 2.95690, saving model to /content/drive/My Drive/1-piece/Inceptionv3_GrayScale.h5\n",
            "252/252 [==============================] - 93s 368ms/step - loss: 3.3444 - accuracy: 0.1831 - val_loss: 2.9569 - val_accuracy: 0.2857\n",
            "Epoch 6/150\n",
            "252/252 [==============================] - ETA: 0s - loss: 3.1026 - accuracy: 0.2199\n",
            "Epoch 00006: val_loss did not improve from 2.95690\n",
            "252/252 [==============================] - 91s 360ms/step - loss: 3.1026 - accuracy: 0.2199 - val_loss: 3.4980 - val_accuracy: 0.1429\n",
            "Epoch 7/150\n",
            "252/252 [==============================] - ETA: 0s - loss: 2.9772 - accuracy: 0.2452\n",
            "Epoch 00007: val_loss improved from 2.95690 to 2.78461, saving model to /content/drive/My Drive/1-piece/Inceptionv3_GrayScale.h5\n",
            "252/252 [==============================] - 92s 366ms/step - loss: 2.9772 - accuracy: 0.2452 - val_loss: 2.7846 - val_accuracy: 0.3393\n",
            "Epoch 8/150\n",
            "252/252 [==============================] - ETA: 0s - loss: 2.7920 - accuracy: 0.2675\n",
            "Epoch 00008: val_loss improved from 2.78461 to 2.33842, saving model to /content/drive/My Drive/1-piece/Inceptionv3_GrayScale.h5\n",
            "252/252 [==============================] - 91s 361ms/step - loss: 2.7920 - accuracy: 0.2675 - val_loss: 2.3384 - val_accuracy: 0.3661\n",
            "Epoch 9/150\n",
            "252/252 [==============================] - ETA: 0s - loss: 2.7178 - accuracy: 0.3122\n",
            "Epoch 00009: val_loss improved from 2.33842 to 2.31942, saving model to /content/drive/My Drive/1-piece/Inceptionv3_GrayScale.h5\n",
            "252/252 [==============================] - 90s 358ms/step - loss: 2.7178 - accuracy: 0.3122 - val_loss: 2.3194 - val_accuracy: 0.4732\n",
            "Epoch 10/150\n",
            "252/252 [==============================] - ETA: 0s - loss: 2.5688 - accuracy: 0.3350\n",
            "Epoch 00010: val_loss did not improve from 2.31942\n",
            "252/252 [==============================] - 88s 351ms/step - loss: 2.5688 - accuracy: 0.3350 - val_loss: 2.6197 - val_accuracy: 0.3750\n",
            "Epoch 11/150\n",
            "252/252 [==============================] - ETA: 0s - loss: 2.4564 - accuracy: 0.3677\n",
            "Epoch 00011: val_loss did not improve from 2.31942\n",
            "252/252 [==============================] - 88s 348ms/step - loss: 2.4564 - accuracy: 0.3677 - val_loss: 2.3269 - val_accuracy: 0.3750\n",
            "Epoch 12/150\n",
            "252/252 [==============================] - ETA: 0s - loss: 2.4037 - accuracy: 0.3836\n",
            "Epoch 00012: val_loss improved from 2.31942 to 2.05920, saving model to /content/drive/My Drive/1-piece/Inceptionv3_GrayScale.h5\n",
            "252/252 [==============================] - 89s 354ms/step - loss: 2.4037 - accuracy: 0.3836 - val_loss: 2.0592 - val_accuracy: 0.4643\n",
            "Epoch 13/150\n",
            "252/252 [==============================] - ETA: 0s - loss: 2.2969 - accuracy: 0.3906\n",
            "Epoch 00013: val_loss did not improve from 2.05920\n",
            "252/252 [==============================] - 88s 350ms/step - loss: 2.2969 - accuracy: 0.3906 - val_loss: 2.2771 - val_accuracy: 0.4286\n",
            "Epoch 14/150\n",
            "252/252 [==============================] - ETA: 0s - loss: 2.2353 - accuracy: 0.4045\n",
            "Epoch 00014: val_loss improved from 2.05920 to 2.03475, saving model to /content/drive/My Drive/1-piece/Inceptionv3_GrayScale.h5\n",
            "252/252 [==============================] - 91s 361ms/step - loss: 2.2353 - accuracy: 0.4045 - val_loss: 2.0348 - val_accuracy: 0.4732\n",
            "Epoch 15/150\n",
            "252/252 [==============================] - ETA: 0s - loss: 2.1807 - accuracy: 0.4258\n",
            "Epoch 00015: val_loss improved from 2.03475 to 1.90886, saving model to /content/drive/My Drive/1-piece/Inceptionv3_GrayScale.h5\n",
            "252/252 [==============================] - 90s 357ms/step - loss: 2.1807 - accuracy: 0.4258 - val_loss: 1.9089 - val_accuracy: 0.5268\n",
            "Epoch 16/150\n",
            "252/252 [==============================] - ETA: 0s - loss: 2.1682 - accuracy: 0.4496\n",
            "Epoch 00016: val_loss did not improve from 1.90886\n",
            "252/252 [==============================] - 88s 350ms/step - loss: 2.1682 - accuracy: 0.4496 - val_loss: 1.9403 - val_accuracy: 0.5446\n",
            "Epoch 17/150\n",
            "252/252 [==============================] - ETA: 0s - loss: 2.0638 - accuracy: 0.4357\n",
            "Epoch 00017: val_loss improved from 1.90886 to 1.64308, saving model to /content/drive/My Drive/1-piece/Inceptionv3_GrayScale.h5\n",
            "252/252 [==============================] - 91s 363ms/step - loss: 2.0638 - accuracy: 0.4357 - val_loss: 1.6431 - val_accuracy: 0.5625\n",
            "Epoch 18/150\n",
            "252/252 [==============================] - ETA: 0s - loss: 2.0754 - accuracy: 0.4600\n",
            "Epoch 00018: val_loss did not improve from 1.64308\n",
            "252/252 [==============================] - 89s 354ms/step - loss: 2.0754 - accuracy: 0.4600 - val_loss: 1.7728 - val_accuracy: 0.5536\n",
            "Epoch 19/150\n",
            "252/252 [==============================] - ETA: 0s - loss: 1.9975 - accuracy: 0.4903\n",
            "Epoch 00019: val_loss improved from 1.64308 to 1.59854, saving model to /content/drive/My Drive/1-piece/Inceptionv3_GrayScale.h5\n",
            "252/252 [==============================] - 92s 364ms/step - loss: 1.9975 - accuracy: 0.4903 - val_loss: 1.5985 - val_accuracy: 0.5982\n",
            "Epoch 20/150\n",
            "252/252 [==============================] - ETA: 0s - loss: 1.9592 - accuracy: 0.4734\n",
            "Epoch 00020: val_loss did not improve from 1.59854\n",
            "252/252 [==============================] - 89s 354ms/step - loss: 1.9592 - accuracy: 0.4734 - val_loss: 1.7796 - val_accuracy: 0.5357\n",
            "Epoch 21/150\n",
            "252/252 [==============================] - ETA: 0s - loss: 1.8915 - accuracy: 0.5027\n",
            "Epoch 00021: val_loss did not improve from 1.59854\n",
            "252/252 [==============================] - 90s 355ms/step - loss: 1.8915 - accuracy: 0.5027 - val_loss: 1.8085 - val_accuracy: 0.5268\n",
            "Epoch 22/150\n",
            "252/252 [==============================] - ETA: 0s - loss: 1.9069 - accuracy: 0.5027\n",
            "Epoch 00022: val_loss did not improve from 1.59854\n",
            "252/252 [==============================] - 89s 352ms/step - loss: 1.9069 - accuracy: 0.5027 - val_loss: 1.7376 - val_accuracy: 0.5536\n",
            "Epoch 23/150\n",
            "252/252 [==============================] - ETA: 0s - loss: 1.8054 - accuracy: 0.5320\n",
            "Epoch 00023: val_loss improved from 1.59854 to 1.41900, saving model to /content/drive/My Drive/1-piece/Inceptionv3_GrayScale.h5\n",
            "252/252 [==============================] - 91s 361ms/step - loss: 1.8054 - accuracy: 0.5320 - val_loss: 1.4190 - val_accuracy: 0.6339\n",
            "Epoch 24/150\n",
            "252/252 [==============================] - ETA: 0s - loss: 1.8078 - accuracy: 0.5196\n",
            "Epoch 00024: val_loss did not improve from 1.41900\n",
            "252/252 [==============================] - 90s 357ms/step - loss: 1.8078 - accuracy: 0.5196 - val_loss: 1.6099 - val_accuracy: 0.5625\n",
            "Epoch 25/150\n",
            "252/252 [==============================] - ETA: 0s - loss: 1.7832 - accuracy: 0.5310\n",
            "Epoch 00025: val_loss improved from 1.41900 to 1.41799, saving model to /content/drive/My Drive/1-piece/Inceptionv3_GrayScale.h5\n",
            "252/252 [==============================] - 91s 361ms/step - loss: 1.7832 - accuracy: 0.5310 - val_loss: 1.4180 - val_accuracy: 0.6429\n",
            "Epoch 26/150\n",
            "252/252 [==============================] - ETA: 0s - loss: 1.7541 - accuracy: 0.5494\n",
            "Epoch 00026: val_loss did not improve from 1.41799\n",
            "252/252 [==============================] - 90s 356ms/step - loss: 1.7541 - accuracy: 0.5494 - val_loss: 1.5619 - val_accuracy: 0.6250\n",
            "Epoch 27/150\n",
            "252/252 [==============================] - ETA: 0s - loss: 1.7435 - accuracy: 0.5429\n",
            "Epoch 00027: val_loss improved from 1.41799 to 1.31000, saving model to /content/drive/My Drive/1-piece/Inceptionv3_GrayScale.h5\n",
            "252/252 [==============================] - 91s 363ms/step - loss: 1.7435 - accuracy: 0.5429 - val_loss: 1.3100 - val_accuracy: 0.7143\n",
            "Epoch 28/150\n",
            "252/252 [==============================] - ETA: 0s - loss: 1.7559 - accuracy: 0.5370\n",
            "Epoch 00028: val_loss did not improve from 1.31000\n",
            "252/252 [==============================] - 90s 359ms/step - loss: 1.7559 - accuracy: 0.5370 - val_loss: 1.3198 - val_accuracy: 0.6786\n",
            "Epoch 29/150\n",
            "252/252 [==============================] - ETA: 0s - loss: 1.6515 - accuracy: 0.5742\n",
            "Epoch 00029: val_loss did not improve from 1.31000\n",
            "252/252 [==============================] - 89s 354ms/step - loss: 1.6515 - accuracy: 0.5742 - val_loss: 1.3934 - val_accuracy: 0.6786\n",
            "Epoch 30/150\n",
            "252/252 [==============================] - ETA: 0s - loss: 1.6912 - accuracy: 0.5538\n",
            "Epoch 00030: val_loss did not improve from 1.31000\n",
            "252/252 [==============================] - 89s 353ms/step - loss: 1.6912 - accuracy: 0.5538 - val_loss: 1.4009 - val_accuracy: 0.6607\n",
            "Epoch 31/150\n",
            "252/252 [==============================] - ETA: 0s - loss: 1.6146 - accuracy: 0.5921\n",
            "Epoch 00031: val_loss did not improve from 1.31000\n",
            "252/252 [==============================] - 90s 356ms/step - loss: 1.6146 - accuracy: 0.5921 - val_loss: 1.4430 - val_accuracy: 0.6964\n",
            "Epoch 32/150\n",
            "252/252 [==============================] - ETA: 0s - loss: 1.5483 - accuracy: 0.5970\n",
            "Epoch 00032: val_loss did not improve from 1.31000\n",
            "252/252 [==============================] - 89s 353ms/step - loss: 1.5483 - accuracy: 0.5970 - val_loss: 1.9680 - val_accuracy: 0.5714\n",
            "Epoch 33/150\n",
            "252/252 [==============================] - ETA: 0s - loss: 1.5607 - accuracy: 0.5896\n",
            "Epoch 00033: val_loss did not improve from 1.31000\n",
            "252/252 [==============================] - 88s 351ms/step - loss: 1.5607 - accuracy: 0.5896 - val_loss: 1.5478 - val_accuracy: 0.6161\n",
            "Epoch 34/150\n",
            "252/252 [==============================] - ETA: 0s - loss: 1.5884 - accuracy: 0.5762\n",
            "Epoch 00034: val_loss improved from 1.31000 to 1.14628, saving model to /content/drive/My Drive/1-piece/Inceptionv3_GrayScale.h5\n",
            "252/252 [==============================] - 91s 361ms/step - loss: 1.5884 - accuracy: 0.5762 - val_loss: 1.1463 - val_accuracy: 0.7054\n",
            "Epoch 35/150\n",
            "252/252 [==============================] - ETA: 0s - loss: 1.5529 - accuracy: 0.6015\n",
            "Epoch 00035: val_loss did not improve from 1.14628\n",
            "252/252 [==============================] - 90s 357ms/step - loss: 1.5529 - accuracy: 0.6015 - val_loss: 1.4745 - val_accuracy: 0.6339\n",
            "Epoch 36/150\n",
            "252/252 [==============================] - ETA: 0s - loss: 1.5715 - accuracy: 0.5881\n",
            "Epoch 00036: val_loss did not improve from 1.14628\n",
            "252/252 [==============================] - 89s 354ms/step - loss: 1.5715 - accuracy: 0.5881 - val_loss: 1.4376 - val_accuracy: 0.6607\n",
            "Epoch 37/150\n",
            "252/252 [==============================] - ETA: 0s - loss: 1.5158 - accuracy: 0.6050\n",
            "Epoch 00037: val_loss did not improve from 1.14628\n",
            "252/252 [==============================] - 90s 356ms/step - loss: 1.5158 - accuracy: 0.6050 - val_loss: 1.4821 - val_accuracy: 0.6607\n",
            "Epoch 38/150\n",
            "252/252 [==============================] - ETA: 0s - loss: 1.5212 - accuracy: 0.6015\n",
            "Epoch 00038: val_loss did not improve from 1.14628\n",
            "252/252 [==============================] - 90s 355ms/step - loss: 1.5212 - accuracy: 0.6015 - val_loss: 1.4605 - val_accuracy: 0.6607\n",
            "Epoch 39/150\n",
            "252/252 [==============================] - ETA: 0s - loss: 1.5346 - accuracy: 0.6035\n",
            "Epoch 00039: val_loss did not improve from 1.14628\n",
            "252/252 [==============================] - 89s 354ms/step - loss: 1.5346 - accuracy: 0.6035 - val_loss: 1.6122 - val_accuracy: 0.5625\n",
            "Epoch 40/150\n",
            "252/252 [==============================] - ETA: 0s - loss: 1.4464 - accuracy: 0.6248\n",
            "Epoch 00040: val_loss did not improve from 1.14628\n",
            "252/252 [==============================] - 89s 355ms/step - loss: 1.4464 - accuracy: 0.6248 - val_loss: 1.5569 - val_accuracy: 0.6250\n",
            "Epoch 41/150\n",
            "252/252 [==============================] - ETA: 0s - loss: 1.5099 - accuracy: 0.6015\n",
            "Epoch 00041: val_loss did not improve from 1.14628\n",
            "252/252 [==============================] - 90s 358ms/step - loss: 1.5099 - accuracy: 0.6015 - val_loss: 1.2418 - val_accuracy: 0.6607\n",
            "Epoch 42/150\n",
            "252/252 [==============================] - ETA: 0s - loss: 1.4368 - accuracy: 0.6179\n",
            "Epoch 00042: val_loss did not improve from 1.14628\n",
            "252/252 [==============================] - 90s 356ms/step - loss: 1.4368 - accuracy: 0.6179 - val_loss: 1.3870 - val_accuracy: 0.6696\n",
            "Epoch 43/150\n",
            "252/252 [==============================] - ETA: 0s - loss: 1.4043 - accuracy: 0.6199\n",
            "Epoch 00043: val_loss did not improve from 1.14628\n",
            "252/252 [==============================] - 89s 354ms/step - loss: 1.4043 - accuracy: 0.6199 - val_loss: 1.3074 - val_accuracy: 0.6607\n",
            "Epoch 44/150\n",
            "252/252 [==============================] - ETA: 0s - loss: 1.4147 - accuracy: 0.6308\n",
            "Epoch 00044: val_loss did not improve from 1.14628\n",
            "252/252 [==============================] - 90s 355ms/step - loss: 1.4147 - accuracy: 0.6308 - val_loss: 1.2491 - val_accuracy: 0.7054\n",
            "Epoch 45/150\n",
            "252/252 [==============================] - ETA: 0s - loss: 1.3912 - accuracy: 0.6298\n",
            "Epoch 00045: val_loss did not improve from 1.14628\n",
            "252/252 [==============================] - 90s 357ms/step - loss: 1.3912 - accuracy: 0.6298 - val_loss: 1.5500 - val_accuracy: 0.6339\n",
            "Epoch 46/150\n",
            "252/252 [==============================] - ETA: 0s - loss: 1.3212 - accuracy: 0.6605\n",
            "Epoch 00046: val_loss did not improve from 1.14628\n",
            "252/252 [==============================] - 89s 355ms/step - loss: 1.3212 - accuracy: 0.6605 - val_loss: 1.3719 - val_accuracy: 0.6339\n",
            "Epoch 47/150\n",
            "252/252 [==============================] - ETA: 0s - loss: 1.3929 - accuracy: 0.6323\n",
            "Epoch 00047: val_loss did not improve from 1.14628\n",
            "252/252 [==============================] - 89s 354ms/step - loss: 1.3929 - accuracy: 0.6323 - val_loss: 1.2778 - val_accuracy: 0.6786\n",
            "Epoch 48/150\n",
            "252/252 [==============================] - ETA: 0s - loss: 1.3576 - accuracy: 0.6422\n",
            "Epoch 00048: val_loss did not improve from 1.14628\n",
            "252/252 [==============================] - 90s 357ms/step - loss: 1.3576 - accuracy: 0.6422 - val_loss: 1.4202 - val_accuracy: 0.6339\n",
            "Epoch 49/150\n",
            "252/252 [==============================] - ETA: 0s - loss: 1.3583 - accuracy: 0.6382\n",
            "Epoch 00049: val_loss did not improve from 1.14628\n",
            "252/252 [==============================] - 89s 353ms/step - loss: 1.3583 - accuracy: 0.6382 - val_loss: 1.1721 - val_accuracy: 0.6786\n",
            "Epoch 50/150\n",
            "252/252 [==============================] - ETA: 0s - loss: 1.3476 - accuracy: 0.6541\n",
            "Epoch 00050: val_loss improved from 1.14628 to 1.12907, saving model to /content/drive/My Drive/1-piece/Inceptionv3_GrayScale.h5\n",
            "252/252 [==============================] - 92s 363ms/step - loss: 1.3476 - accuracy: 0.6541 - val_loss: 1.1291 - val_accuracy: 0.7321\n",
            "Epoch 51/150\n",
            "252/252 [==============================] - ETA: 0s - loss: 1.3432 - accuracy: 0.6521\n",
            "Epoch 00051: val_loss did not improve from 1.12907\n",
            "252/252 [==============================] - 89s 355ms/step - loss: 1.3432 - accuracy: 0.6521 - val_loss: 1.1502 - val_accuracy: 0.6518\n",
            "Epoch 52/150\n",
            "252/252 [==============================] - ETA: 0s - loss: 1.3379 - accuracy: 0.6586\n",
            "Epoch 00052: val_loss did not improve from 1.12907\n",
            "252/252 [==============================] - 89s 354ms/step - loss: 1.3379 - accuracy: 0.6586 - val_loss: 1.3302 - val_accuracy: 0.6696\n",
            "Epoch 53/150\n",
            "252/252 [==============================] - ETA: 0s - loss: 1.3033 - accuracy: 0.6650\n",
            "Epoch 00053: val_loss improved from 1.12907 to 1.07808, saving model to /content/drive/My Drive/1-piece/Inceptionv3_GrayScale.h5\n",
            "252/252 [==============================] - 91s 360ms/step - loss: 1.3033 - accuracy: 0.6650 - val_loss: 1.0781 - val_accuracy: 0.6875\n",
            "Epoch 54/150\n",
            "252/252 [==============================] - ETA: 0s - loss: 1.2702 - accuracy: 0.6625\n",
            "Epoch 00054: val_loss improved from 1.07808 to 1.02270, saving model to /content/drive/My Drive/1-piece/Inceptionv3_GrayScale.h5\n",
            "252/252 [==============================] - 92s 367ms/step - loss: 1.2702 - accuracy: 0.6625 - val_loss: 1.0227 - val_accuracy: 0.7500\n",
            "Epoch 55/150\n",
            "252/252 [==============================] - ETA: 0s - loss: 1.2648 - accuracy: 0.6705\n",
            "Epoch 00055: val_loss did not improve from 1.02270\n",
            "252/252 [==============================] - 89s 355ms/step - loss: 1.2648 - accuracy: 0.6705 - val_loss: 1.1695 - val_accuracy: 0.6607\n",
            "Epoch 56/150\n",
            "252/252 [==============================] - ETA: 0s - loss: 1.2301 - accuracy: 0.6819\n",
            "Epoch 00056: val_loss did not improve from 1.02270\n",
            "252/252 [==============================] - 89s 351ms/step - loss: 1.2301 - accuracy: 0.6819 - val_loss: 1.1219 - val_accuracy: 0.6964\n",
            "Epoch 57/150\n",
            "252/252 [==============================] - ETA: 0s - loss: 1.2471 - accuracy: 0.6695\n",
            "Epoch 00057: val_loss did not improve from 1.02270\n",
            "252/252 [==============================] - 88s 351ms/step - loss: 1.2471 - accuracy: 0.6695 - val_loss: 1.1719 - val_accuracy: 0.7054\n",
            "Epoch 58/150\n",
            "252/252 [==============================] - ETA: 0s - loss: 1.2470 - accuracy: 0.6759\n",
            "Epoch 00058: val_loss did not improve from 1.02270\n",
            "252/252 [==============================] - 88s 350ms/step - loss: 1.2470 - accuracy: 0.6759 - val_loss: 1.1073 - val_accuracy: 0.6875\n",
            "Epoch 59/150\n",
            "252/252 [==============================] - ETA: 0s - loss: 1.2183 - accuracy: 0.6799\n",
            "Epoch 00059: val_loss did not improve from 1.02270\n",
            "252/252 [==============================] - 89s 354ms/step - loss: 1.2183 - accuracy: 0.6799 - val_loss: 1.1378 - val_accuracy: 0.7054\n",
            "Epoch 60/150\n",
            "252/252 [==============================] - ETA: 0s - loss: 1.1929 - accuracy: 0.6744\n",
            "Epoch 00060: val_loss did not improve from 1.02270\n",
            "252/252 [==============================] - 90s 357ms/step - loss: 1.1929 - accuracy: 0.6744 - val_loss: 1.0807 - val_accuracy: 0.7054\n",
            "Epoch 61/150\n",
            "252/252 [==============================] - ETA: 0s - loss: 1.2280 - accuracy: 0.6849\n",
            "Epoch 00061: val_loss did not improve from 1.02270\n",
            "252/252 [==============================] - 90s 356ms/step - loss: 1.2280 - accuracy: 0.6849 - val_loss: 1.3416 - val_accuracy: 0.6518\n",
            "Epoch 62/150\n",
            "252/252 [==============================] - ETA: 0s - loss: 1.2117 - accuracy: 0.6849\n",
            "Epoch 00062: val_loss did not improve from 1.02270\n",
            "252/252 [==============================] - 90s 358ms/step - loss: 1.2117 - accuracy: 0.6849 - val_loss: 1.1291 - val_accuracy: 0.6786\n",
            "Epoch 63/150\n",
            "252/252 [==============================] - ETA: 0s - loss: 1.1979 - accuracy: 0.6888\n",
            "Epoch 00063: val_loss did not improve from 1.02270\n",
            "252/252 [==============================] - 88s 350ms/step - loss: 1.1979 - accuracy: 0.6888 - val_loss: 1.1747 - val_accuracy: 0.6786\n",
            "Epoch 64/150\n",
            "252/252 [==============================] - ETA: 0s - loss: 1.1789 - accuracy: 0.6868\n",
            "Epoch 00064: val_loss did not improve from 1.02270\n",
            "252/252 [==============================] - 90s 356ms/step - loss: 1.1789 - accuracy: 0.6868 - val_loss: 1.5921 - val_accuracy: 0.5893\n",
            "Epoch 65/150\n",
            "252/252 [==============================] - ETA: 0s - loss: 1.1434 - accuracy: 0.6933\n",
            "Epoch 00065: val_loss improved from 1.02270 to 1.00456, saving model to /content/drive/My Drive/1-piece/Inceptionv3_GrayScale.h5\n",
            "252/252 [==============================] - 90s 356ms/step - loss: 1.1434 - accuracy: 0.6933 - val_loss: 1.0046 - val_accuracy: 0.7232\n",
            "Epoch 66/150\n",
            "252/252 [==============================] - ETA: 0s - loss: 1.1374 - accuracy: 0.6998\n",
            "Epoch 00066: val_loss did not improve from 1.00456\n",
            "252/252 [==============================] - 88s 349ms/step - loss: 1.1374 - accuracy: 0.6998 - val_loss: 1.0326 - val_accuracy: 0.7232\n",
            "Epoch 67/150\n",
            "252/252 [==============================] - ETA: 0s - loss: 1.1394 - accuracy: 0.6998\n",
            "Epoch 00067: val_loss did not improve from 1.00456\n",
            "252/252 [==============================] - 87s 347ms/step - loss: 1.1394 - accuracy: 0.6998 - val_loss: 1.0470 - val_accuracy: 0.7232\n",
            "Epoch 68/150\n",
            "252/252 [==============================] - ETA: 0s - loss: 1.1347 - accuracy: 0.7097\n",
            "Epoch 00068: val_loss improved from 1.00456 to 0.97396, saving model to /content/drive/My Drive/1-piece/Inceptionv3_GrayScale.h5\n",
            "252/252 [==============================] - 90s 357ms/step - loss: 1.1347 - accuracy: 0.7097 - val_loss: 0.9740 - val_accuracy: 0.7589\n",
            "Epoch 69/150\n",
            "252/252 [==============================] - ETA: 0s - loss: 1.1263 - accuracy: 0.7127\n",
            "Epoch 00069: val_loss did not improve from 0.97396\n",
            "252/252 [==============================] - 88s 350ms/step - loss: 1.1263 - accuracy: 0.7127 - val_loss: 1.1285 - val_accuracy: 0.7232\n",
            "Epoch 70/150\n",
            "252/252 [==============================] - ETA: 0s - loss: 1.0880 - accuracy: 0.7141\n",
            "Epoch 00070: val_loss improved from 0.97396 to 0.90238, saving model to /content/drive/My Drive/1-piece/Inceptionv3_GrayScale.h5\n",
            "252/252 [==============================] - 89s 355ms/step - loss: 1.0880 - accuracy: 0.7141 - val_loss: 0.9024 - val_accuracy: 0.7946\n",
            "Epoch 71/150\n",
            "252/252 [==============================] - ETA: 0s - loss: 1.0960 - accuracy: 0.7136\n",
            "Epoch 00071: val_loss did not improve from 0.90238\n",
            "252/252 [==============================] - 87s 347ms/step - loss: 1.0960 - accuracy: 0.7136 - val_loss: 0.9176 - val_accuracy: 0.7857\n",
            "Epoch 72/150\n",
            "252/252 [==============================] - ETA: 0s - loss: 1.1228 - accuracy: 0.7132\n",
            "Epoch 00072: val_loss did not improve from 0.90238\n",
            "252/252 [==============================] - 87s 344ms/step - loss: 1.1228 - accuracy: 0.7132 - val_loss: 0.9658 - val_accuracy: 0.7768\n",
            "Epoch 73/150\n",
            "252/252 [==============================] - ETA: 0s - loss: 1.0872 - accuracy: 0.7176\n",
            "Epoch 00073: val_loss did not improve from 0.90238\n",
            "252/252 [==============================] - 86s 343ms/step - loss: 1.0872 - accuracy: 0.7176 - val_loss: 1.4069 - val_accuracy: 0.6518\n",
            "Epoch 74/150\n",
            "252/252 [==============================] - ETA: 0s - loss: 1.0736 - accuracy: 0.7231\n",
            "Epoch 00074: val_loss did not improve from 0.90238\n",
            "252/252 [==============================] - 86s 341ms/step - loss: 1.0736 - accuracy: 0.7231 - val_loss: 0.9652 - val_accuracy: 0.7411\n",
            "Epoch 75/150\n",
            "252/252 [==============================] - ETA: 0s - loss: 1.0608 - accuracy: 0.7300\n",
            "Epoch 00075: val_loss did not improve from 0.90238\n",
            "252/252 [==============================] - 87s 346ms/step - loss: 1.0608 - accuracy: 0.7300 - val_loss: 0.9461 - val_accuracy: 0.8125\n",
            "Epoch 76/150\n",
            "252/252 [==============================] - ETA: 0s - loss: 1.0614 - accuracy: 0.7246\n",
            "Epoch 00076: val_loss did not improve from 0.90238\n",
            "252/252 [==============================] - 87s 347ms/step - loss: 1.0614 - accuracy: 0.7246 - val_loss: 0.9495 - val_accuracy: 0.7946\n",
            "Epoch 77/150\n",
            "252/252 [==============================] - ETA: 0s - loss: 1.1101 - accuracy: 0.7166\n",
            "Epoch 00077: val_loss did not improve from 0.90238\n",
            "252/252 [==============================] - 87s 344ms/step - loss: 1.1101 - accuracy: 0.7166 - val_loss: 1.0095 - val_accuracy: 0.7500\n",
            "Epoch 78/150\n",
            "252/252 [==============================] - ETA: 0s - loss: 1.0487 - accuracy: 0.7161\n",
            "Epoch 00078: val_loss did not improve from 0.90238\n",
            "252/252 [==============================] - 86s 343ms/step - loss: 1.0487 - accuracy: 0.7161 - val_loss: 0.9487 - val_accuracy: 0.7857\n",
            "Epoch 79/150\n",
            "252/252 [==============================] - ETA: 0s - loss: 1.0744 - accuracy: 0.7132\n",
            "Epoch 00079: val_loss did not improve from 0.90238\n",
            "252/252 [==============================] - 87s 344ms/step - loss: 1.0744 - accuracy: 0.7132 - val_loss: 1.1140 - val_accuracy: 0.6964\n",
            "Epoch 80/150\n",
            "252/252 [==============================] - ETA: 0s - loss: 1.0492 - accuracy: 0.7300\n",
            "Epoch 00080: val_loss did not improve from 0.90238\n",
            "252/252 [==============================] - 87s 344ms/step - loss: 1.0492 - accuracy: 0.7300 - val_loss: 0.9797 - val_accuracy: 0.7768\n",
            "Epoch 81/150\n",
            "252/252 [==============================] - ETA: 0s - loss: 1.0393 - accuracy: 0.7221\n",
            "Epoch 00081: val_loss did not improve from 0.90238\n",
            "252/252 [==============================] - 86s 342ms/step - loss: 1.0393 - accuracy: 0.7221 - val_loss: 0.9226 - val_accuracy: 0.8036\n",
            "Epoch 82/150\n",
            "252/252 [==============================] - ETA: 0s - loss: 1.0902 - accuracy: 0.7156\n",
            "Epoch 00082: val_loss did not improve from 0.90238\n",
            "252/252 [==============================] - 87s 345ms/step - loss: 1.0902 - accuracy: 0.7156 - val_loss: 0.9945 - val_accuracy: 0.7232\n",
            "Epoch 83/150\n",
            "252/252 [==============================] - ETA: 0s - loss: 1.0400 - accuracy: 0.7335\n",
            "Epoch 00083: val_loss did not improve from 0.90238\n",
            "252/252 [==============================] - 87s 346ms/step - loss: 1.0400 - accuracy: 0.7335 - val_loss: 1.2828 - val_accuracy: 0.6964\n",
            "Epoch 84/150\n",
            "252/252 [==============================] - ETA: 0s - loss: 1.0500 - accuracy: 0.7256\n",
            "Epoch 00084: val_loss did not improve from 0.90238\n",
            "252/252 [==============================] - 86s 343ms/step - loss: 1.0500 - accuracy: 0.7256 - val_loss: 1.0917 - val_accuracy: 0.6875\n",
            "Epoch 85/150\n",
            "252/252 [==============================] - ETA: 0s - loss: 1.0514 - accuracy: 0.7221\n",
            "Epoch 00085: val_loss did not improve from 0.90238\n",
            "252/252 [==============================] - 87s 344ms/step - loss: 1.0514 - accuracy: 0.7221 - val_loss: 1.2481 - val_accuracy: 0.7054\n",
            "Epoch 86/150\n",
            "252/252 [==============================] - ETA: 0s - loss: 1.0167 - accuracy: 0.7236\n",
            "Epoch 00086: val_loss did not improve from 0.90238\n",
            "252/252 [==============================] - 88s 349ms/step - loss: 1.0167 - accuracy: 0.7236 - val_loss: 1.0200 - val_accuracy: 0.7411\n",
            "Epoch 87/150\n",
            "252/252 [==============================] - ETA: 0s - loss: 1.0257 - accuracy: 0.7256\n",
            "Epoch 00087: val_loss did not improve from 0.90238\n",
            "252/252 [==============================] - 88s 349ms/step - loss: 1.0257 - accuracy: 0.7256 - val_loss: 1.0515 - val_accuracy: 0.7857\n",
            "Epoch 88/150\n",
            "252/252 [==============================] - ETA: 0s - loss: 0.9570 - accuracy: 0.7533\n",
            "Epoch 00088: val_loss did not improve from 0.90238\n",
            "252/252 [==============================] - 88s 347ms/step - loss: 0.9570 - accuracy: 0.7533 - val_loss: 1.2813 - val_accuracy: 0.6875\n",
            "Epoch 89/150\n",
            "252/252 [==============================] - ETA: 0s - loss: 0.9829 - accuracy: 0.7375\n",
            "Epoch 00089: val_loss did not improve from 0.90238\n",
            "252/252 [==============================] - 87s 347ms/step - loss: 0.9829 - accuracy: 0.7375 - val_loss: 0.9928 - val_accuracy: 0.7589\n",
            "Epoch 90/150\n",
            "252/252 [==============================] - ETA: 0s - loss: 0.9706 - accuracy: 0.7538\n",
            "Epoch 00090: val_loss did not improve from 0.90238\n",
            "252/252 [==============================] - 88s 349ms/step - loss: 0.9706 - accuracy: 0.7538 - val_loss: 0.9605 - val_accuracy: 0.7857\n",
            "Epoch 91/150\n",
            "252/252 [==============================] - ETA: 0s - loss: 0.9923 - accuracy: 0.7474\n",
            "Epoch 00091: val_loss did not improve from 0.90238\n",
            "252/252 [==============================] - 88s 348ms/step - loss: 0.9923 - accuracy: 0.7474 - val_loss: 1.0003 - val_accuracy: 0.7232\n",
            "Epoch 92/150\n",
            "252/252 [==============================] - ETA: 0s - loss: 0.9958 - accuracy: 0.7404\n",
            "Epoch 00092: val_loss did not improve from 0.90238\n",
            "252/252 [==============================] - 88s 348ms/step - loss: 0.9958 - accuracy: 0.7404 - val_loss: 1.2698 - val_accuracy: 0.6786\n",
            "Epoch 93/150\n",
            "252/252 [==============================] - ETA: 0s - loss: 0.9891 - accuracy: 0.7449\n",
            "Epoch 00093: val_loss did not improve from 0.90238\n",
            "252/252 [==============================] - 87s 347ms/step - loss: 0.9891 - accuracy: 0.7449 - val_loss: 1.1234 - val_accuracy: 0.7054\n",
            "Epoch 94/150\n",
            "252/252 [==============================] - ETA: 0s - loss: 0.9902 - accuracy: 0.7494\n",
            "Epoch 00094: val_loss improved from 0.90238 to 0.88177, saving model to /content/drive/My Drive/1-piece/Inceptionv3_GrayScale.h5\n",
            "252/252 [==============================] - 89s 355ms/step - loss: 0.9902 - accuracy: 0.7494 - val_loss: 0.8818 - val_accuracy: 0.7500\n",
            "Epoch 95/150\n",
            "252/252 [==============================] - ETA: 0s - loss: 0.9593 - accuracy: 0.7538\n",
            "Epoch 00095: val_loss improved from 0.88177 to 0.85713, saving model to /content/drive/My Drive/1-piece/Inceptionv3_GrayScale.h5\n",
            "252/252 [==============================] - 90s 357ms/step - loss: 0.9593 - accuracy: 0.7538 - val_loss: 0.8571 - val_accuracy: 0.7500\n",
            "Epoch 96/150\n",
            "252/252 [==============================] - ETA: 0s - loss: 0.9274 - accuracy: 0.7677\n",
            "Epoch 00096: val_loss did not improve from 0.85713\n",
            "252/252 [==============================] - 88s 351ms/step - loss: 0.9274 - accuracy: 0.7677 - val_loss: 0.8781 - val_accuracy: 0.7500\n",
            "Epoch 97/150\n",
            "252/252 [==============================] - ETA: 0s - loss: 0.9323 - accuracy: 0.7598\n",
            "Epoch 00097: val_loss improved from 0.85713 to 0.73078, saving model to /content/drive/My Drive/1-piece/Inceptionv3_GrayScale.h5\n",
            "252/252 [==============================] - 90s 357ms/step - loss: 0.9323 - accuracy: 0.7598 - val_loss: 0.7308 - val_accuracy: 0.7857\n",
            "Epoch 98/150\n",
            "252/252 [==============================] - ETA: 0s - loss: 0.8918 - accuracy: 0.7682\n",
            "Epoch 00098: val_loss did not improve from 0.73078\n",
            "252/252 [==============================] - 88s 348ms/step - loss: 0.8918 - accuracy: 0.7682 - val_loss: 0.8919 - val_accuracy: 0.7768\n",
            "Epoch 99/150\n",
            "252/252 [==============================] - ETA: 0s - loss: 0.9445 - accuracy: 0.7454\n",
            "Epoch 00099: val_loss did not improve from 0.73078\n",
            "252/252 [==============================] - 87s 347ms/step - loss: 0.9445 - accuracy: 0.7454 - val_loss: 0.8800 - val_accuracy: 0.7589\n",
            "Epoch 100/150\n",
            "252/252 [==============================] - ETA: 0s - loss: 0.9089 - accuracy: 0.7578\n",
            "Epoch 00100: val_loss did not improve from 0.73078\n",
            "252/252 [==============================] - 87s 343ms/step - loss: 0.9089 - accuracy: 0.7578 - val_loss: 0.9755 - val_accuracy: 0.7411\n",
            "Epoch 101/150\n",
            "252/252 [==============================] - ETA: 0s - loss: 0.9233 - accuracy: 0.7543\n",
            "Epoch 00101: val_loss did not improve from 0.73078\n",
            "252/252 [==============================] - 87s 344ms/step - loss: 0.9233 - accuracy: 0.7543 - val_loss: 0.9853 - val_accuracy: 0.7589\n",
            "Epoch 102/150\n",
            "252/252 [==============================] - ETA: 0s - loss: 0.9517 - accuracy: 0.7563\n",
            "Epoch 00102: val_loss did not improve from 0.73078\n",
            "252/252 [==============================] - 87s 345ms/step - loss: 0.9517 - accuracy: 0.7563 - val_loss: 1.0809 - val_accuracy: 0.6964\n",
            "Epoch 103/150\n",
            "252/252 [==============================] - ETA: 0s - loss: 0.8985 - accuracy: 0.7727\n",
            "Epoch 00103: val_loss did not improve from 0.73078\n",
            "252/252 [==============================] - 87s 344ms/step - loss: 0.8985 - accuracy: 0.7727 - val_loss: 0.9036 - val_accuracy: 0.8036\n",
            "Epoch 104/150\n",
            "252/252 [==============================] - ETA: 0s - loss: 0.9044 - accuracy: 0.7633\n",
            "Epoch 00104: val_loss did not improve from 0.73078\n",
            "252/252 [==============================] - 87s 345ms/step - loss: 0.9044 - accuracy: 0.7633 - val_loss: 0.9948 - val_accuracy: 0.7589\n",
            "Epoch 105/150\n",
            "252/252 [==============================] - ETA: 0s - loss: 0.8975 - accuracy: 0.7633\n",
            "Epoch 00105: val_loss did not improve from 0.73078\n",
            "252/252 [==============================] - 87s 344ms/step - loss: 0.8975 - accuracy: 0.7633 - val_loss: 0.9045 - val_accuracy: 0.7857\n",
            "Epoch 106/150\n",
            "252/252 [==============================] - ETA: 0s - loss: 0.9120 - accuracy: 0.7618\n",
            "Epoch 00106: val_loss did not improve from 0.73078\n",
            "252/252 [==============================] - 87s 345ms/step - loss: 0.9120 - accuracy: 0.7618 - val_loss: 0.9037 - val_accuracy: 0.7946\n",
            "Epoch 107/150\n",
            "252/252 [==============================] - ETA: 0s - loss: 0.9473 - accuracy: 0.7489\n",
            "Epoch 00107: val_loss did not improve from 0.73078\n",
            "252/252 [==============================] - 87s 345ms/step - loss: 0.9473 - accuracy: 0.7489 - val_loss: 0.9686 - val_accuracy: 0.7232\n",
            "Epoch 108/150\n",
            "252/252 [==============================] - ETA: 0s - loss: 0.9405 - accuracy: 0.7578\n",
            "Epoch 00108: val_loss did not improve from 0.73078\n",
            "252/252 [==============================] - 87s 346ms/step - loss: 0.9405 - accuracy: 0.7578 - val_loss: 0.8689 - val_accuracy: 0.7768\n",
            "Epoch 109/150\n",
            "252/252 [==============================] - ETA: 0s - loss: 0.8438 - accuracy: 0.7876\n",
            "Epoch 00109: val_loss did not improve from 0.73078\n",
            "252/252 [==============================] - 86s 342ms/step - loss: 0.8438 - accuracy: 0.7876 - val_loss: 1.0100 - val_accuracy: 0.7589\n",
            "Epoch 110/150\n",
            "252/252 [==============================] - ETA: 0s - loss: 0.9043 - accuracy: 0.7682\n",
            "Epoch 00110: val_loss did not improve from 0.73078\n",
            "252/252 [==============================] - 87s 345ms/step - loss: 0.9043 - accuracy: 0.7682 - val_loss: 0.9303 - val_accuracy: 0.7411\n",
            "Epoch 111/150\n",
            "252/252 [==============================] - ETA: 0s - loss: 0.8952 - accuracy: 0.7613\n",
            "Epoch 00111: val_loss did not improve from 0.73078\n",
            "252/252 [==============================] - 87s 345ms/step - loss: 0.8952 - accuracy: 0.7613 - val_loss: 1.0735 - val_accuracy: 0.7143\n",
            "Epoch 112/150\n",
            "252/252 [==============================] - ETA: 0s - loss: 0.8800 - accuracy: 0.7697\n",
            "Epoch 00112: val_loss did not improve from 0.73078\n",
            "252/252 [==============================] - 87s 347ms/step - loss: 0.8800 - accuracy: 0.7697 - val_loss: 1.1648 - val_accuracy: 0.6875\n",
            "Epoch 113/150\n",
            "252/252 [==============================] - ETA: 0s - loss: 0.8422 - accuracy: 0.7772\n",
            "Epoch 00113: val_loss did not improve from 0.73078\n",
            "252/252 [==============================] - 88s 349ms/step - loss: 0.8422 - accuracy: 0.7772 - val_loss: 0.8152 - val_accuracy: 0.7768\n",
            "Epoch 114/150\n",
            "252/252 [==============================] - ETA: 0s - loss: 0.8772 - accuracy: 0.7737\n",
            "Epoch 00114: val_loss did not improve from 0.73078\n",
            "252/252 [==============================] - 87s 347ms/step - loss: 0.8772 - accuracy: 0.7737 - val_loss: 1.0500 - val_accuracy: 0.7500\n",
            "Epoch 115/150\n",
            "252/252 [==============================] - ETA: 0s - loss: 0.8275 - accuracy: 0.7926\n",
            "Epoch 00115: val_loss did not improve from 0.73078\n",
            "252/252 [==============================] - 87s 345ms/step - loss: 0.8275 - accuracy: 0.7926 - val_loss: 0.8263 - val_accuracy: 0.7589\n",
            "Epoch 116/150\n",
            "252/252 [==============================] - ETA: 0s - loss: 0.8321 - accuracy: 0.7896\n",
            "Epoch 00116: val_loss did not improve from 0.73078\n",
            "252/252 [==============================] - 87s 344ms/step - loss: 0.8321 - accuracy: 0.7896 - val_loss: 0.8417 - val_accuracy: 0.7857\n",
            "Epoch 117/150\n",
            "252/252 [==============================] - ETA: 0s - loss: 0.8819 - accuracy: 0.7692\n",
            "Epoch 00117: val_loss did not improve from 0.73078\n",
            "252/252 [==============================] - 86s 343ms/step - loss: 0.8819 - accuracy: 0.7692 - val_loss: 0.8180 - val_accuracy: 0.7857\n",
            "Epoch 118/150\n",
            "252/252 [==============================] - ETA: 0s - loss: 0.8353 - accuracy: 0.7826\n",
            "Epoch 00118: val_loss did not improve from 0.73078\n",
            "252/252 [==============================] - 86s 340ms/step - loss: 0.8353 - accuracy: 0.7826 - val_loss: 0.7794 - val_accuracy: 0.7857\n",
            "Epoch 119/150\n",
            "252/252 [==============================] - ETA: 0s - loss: 0.8872 - accuracy: 0.7727\n",
            "Epoch 00119: val_loss did not improve from 0.73078\n",
            "252/252 [==============================] - 87s 346ms/step - loss: 0.8872 - accuracy: 0.7727 - val_loss: 0.8396 - val_accuracy: 0.7768\n",
            "Epoch 120/150\n",
            "252/252 [==============================] - ETA: 0s - loss: 0.8503 - accuracy: 0.7816\n",
            "Epoch 00120: val_loss did not improve from 0.73078\n",
            "252/252 [==============================] - 87s 344ms/step - loss: 0.8503 - accuracy: 0.7816 - val_loss: 0.8273 - val_accuracy: 0.7411\n",
            "Epoch 121/150\n",
            "252/252 [==============================] - ETA: 0s - loss: 0.8355 - accuracy: 0.7806\n",
            "Epoch 00121: val_loss did not improve from 0.73078\n",
            "252/252 [==============================] - 86s 343ms/step - loss: 0.8355 - accuracy: 0.7806 - val_loss: 0.8650 - val_accuracy: 0.7768\n",
            "Epoch 122/150\n",
            "252/252 [==============================] - ETA: 0s - loss: 0.7948 - accuracy: 0.8030\n",
            "Epoch 00122: val_loss did not improve from 0.73078\n",
            "252/252 [==============================] - 87s 345ms/step - loss: 0.7948 - accuracy: 0.8030 - val_loss: 0.8677 - val_accuracy: 0.7679\n",
            "Epoch 123/150\n",
            "252/252 [==============================] - ETA: 0s - loss: 0.8904 - accuracy: 0.7623\n",
            "Epoch 00123: val_loss did not improve from 0.73078\n",
            "252/252 [==============================] - 87s 346ms/step - loss: 0.8904 - accuracy: 0.7623 - val_loss: 0.9432 - val_accuracy: 0.7232\n",
            "Epoch 124/150\n",
            "252/252 [==============================] - ETA: 0s - loss: 0.8394 - accuracy: 0.7891\n",
            "Epoch 00124: val_loss improved from 0.73078 to 0.62683, saving model to /content/drive/My Drive/1-piece/Inceptionv3_GrayScale.h5\n",
            "252/252 [==============================] - 89s 354ms/step - loss: 0.8394 - accuracy: 0.7891 - val_loss: 0.6268 - val_accuracy: 0.8393\n",
            "Epoch 125/150\n",
            "252/252 [==============================] - ETA: 0s - loss: 0.8283 - accuracy: 0.7886\n",
            "Epoch 00125: val_loss did not improve from 0.62683\n",
            "252/252 [==============================] - 88s 351ms/step - loss: 0.8283 - accuracy: 0.7886 - val_loss: 0.7383 - val_accuracy: 0.8125\n",
            "Epoch 126/150\n",
            "252/252 [==============================] - ETA: 0s - loss: 0.8412 - accuracy: 0.7911\n",
            "Epoch 00126: val_loss did not improve from 0.62683\n",
            "252/252 [==============================] - 88s 348ms/step - loss: 0.8412 - accuracy: 0.7911 - val_loss: 0.7204 - val_accuracy: 0.8125\n",
            "Epoch 127/150\n",
            "252/252 [==============================] - ETA: 0s - loss: 0.7934 - accuracy: 0.7906\n",
            "Epoch 00127: val_loss did not improve from 0.62683\n",
            "252/252 [==============================] - 86s 341ms/step - loss: 0.7934 - accuracy: 0.7906 - val_loss: 0.6975 - val_accuracy: 0.7768\n",
            "Epoch 128/150\n",
            "252/252 [==============================] - ETA: 0s - loss: 0.7905 - accuracy: 0.7931\n",
            "Epoch 00128: val_loss did not improve from 0.62683\n",
            "252/252 [==============================] - 85s 339ms/step - loss: 0.7905 - accuracy: 0.7931 - val_loss: 0.7144 - val_accuracy: 0.8304\n",
            "Epoch 129/150\n",
            "252/252 [==============================] - ETA: 0s - loss: 0.8775 - accuracy: 0.7663\n",
            "Epoch 00129: val_loss did not improve from 0.62683\n",
            "252/252 [==============================] - 85s 338ms/step - loss: 0.8775 - accuracy: 0.7663 - val_loss: 0.8600 - val_accuracy: 0.8036\n",
            "Epoch 130/150\n",
            "252/252 [==============================] - ETA: 0s - loss: 0.8351 - accuracy: 0.7811\n",
            "Epoch 00130: val_loss did not improve from 0.62683\n",
            "252/252 [==============================] - 85s 338ms/step - loss: 0.8351 - accuracy: 0.7811 - val_loss: 0.7399 - val_accuracy: 0.8036\n",
            "Epoch 131/150\n",
            "252/252 [==============================] - ETA: 0s - loss: 0.7830 - accuracy: 0.7985\n",
            "Epoch 00131: val_loss did not improve from 0.62683\n",
            "252/252 [==============================] - 85s 338ms/step - loss: 0.7830 - accuracy: 0.7985 - val_loss: 0.6661 - val_accuracy: 0.8571\n",
            "Epoch 132/150\n",
            "252/252 [==============================] - ETA: 0s - loss: 0.8533 - accuracy: 0.7762\n",
            "Epoch 00132: val_loss did not improve from 0.62683\n",
            "252/252 [==============================] - 85s 339ms/step - loss: 0.8533 - accuracy: 0.7762 - val_loss: 0.7573 - val_accuracy: 0.7857\n",
            "Epoch 133/150\n",
            "252/252 [==============================] - ETA: 0s - loss: 0.8157 - accuracy: 0.7866\n",
            "Epoch 00133: val_loss did not improve from 0.62683\n",
            "252/252 [==============================] - 85s 339ms/step - loss: 0.8157 - accuracy: 0.7866 - val_loss: 0.8433 - val_accuracy: 0.7946\n",
            "Epoch 134/150\n",
            "252/252 [==============================] - ETA: 0s - loss: 0.7995 - accuracy: 0.7916\n",
            "Epoch 00134: val_loss did not improve from 0.62683\n",
            "252/252 [==============================] - 85s 336ms/step - loss: 0.7995 - accuracy: 0.7916 - val_loss: 0.6314 - val_accuracy: 0.8393\n",
            "Epoch 135/150\n",
            "252/252 [==============================] - ETA: 0s - loss: 0.7683 - accuracy: 0.8005\n",
            "Epoch 00135: val_loss did not improve from 0.62683\n",
            "252/252 [==============================] - 84s 334ms/step - loss: 0.7683 - accuracy: 0.8005 - val_loss: 0.7009 - val_accuracy: 0.7857\n",
            "Epoch 136/150\n",
            "252/252 [==============================] - ETA: 0s - loss: 0.8020 - accuracy: 0.7886\n",
            "Epoch 00136: val_loss did not improve from 0.62683\n",
            "252/252 [==============================] - 83s 329ms/step - loss: 0.8020 - accuracy: 0.7886 - val_loss: 0.7048 - val_accuracy: 0.8214\n",
            "Epoch 137/150\n",
            "252/252 [==============================] - ETA: 0s - loss: 0.8365 - accuracy: 0.7881\n",
            "Epoch 00137: val_loss did not improve from 0.62683\n",
            "252/252 [==============================] - 84s 335ms/step - loss: 0.8365 - accuracy: 0.7881 - val_loss: 0.7050 - val_accuracy: 0.8125\n",
            "Epoch 138/150\n",
            "252/252 [==============================] - ETA: 0s - loss: 0.7988 - accuracy: 0.7916\n",
            "Epoch 00138: val_loss did not improve from 0.62683\n",
            "252/252 [==============================] - 85s 336ms/step - loss: 0.7988 - accuracy: 0.7916 - val_loss: 0.8154 - val_accuracy: 0.7946\n",
            "Epoch 139/150\n",
            "252/252 [==============================] - ETA: 0s - loss: 0.7435 - accuracy: 0.8199\n",
            "Epoch 00139: val_loss did not improve from 0.62683\n",
            "252/252 [==============================] - 87s 344ms/step - loss: 0.7435 - accuracy: 0.8199 - val_loss: 1.1177 - val_accuracy: 0.7768\n",
            "Epoch 140/150\n",
            "252/252 [==============================] - ETA: 0s - loss: 0.7677 - accuracy: 0.8065\n",
            "Epoch 00140: val_loss did not improve from 0.62683\n",
            "252/252 [==============================] - 85s 338ms/step - loss: 0.7677 - accuracy: 0.8065 - val_loss: 0.8076 - val_accuracy: 0.8125\n",
            "Epoch 141/150\n",
            "252/252 [==============================] - ETA: 0s - loss: 0.7423 - accuracy: 0.8189\n",
            "Epoch 00141: val_loss did not improve from 0.62683\n",
            "252/252 [==============================] - 84s 334ms/step - loss: 0.7423 - accuracy: 0.8189 - val_loss: 1.0713 - val_accuracy: 0.7589\n",
            "Epoch 142/150\n",
            "252/252 [==============================] - ETA: 0s - loss: 0.7103 - accuracy: 0.8238\n",
            "Epoch 00142: val_loss did not improve from 0.62683\n",
            "252/252 [==============================] - 85s 339ms/step - loss: 0.7103 - accuracy: 0.8238 - val_loss: 0.6976 - val_accuracy: 0.8482\n",
            "Epoch 143/150\n",
            "252/252 [==============================] - ETA: 0s - loss: 0.7849 - accuracy: 0.8015\n",
            "Epoch 00143: val_loss did not improve from 0.62683\n",
            "252/252 [==============================] - 85s 338ms/step - loss: 0.7849 - accuracy: 0.8015 - val_loss: 0.7244 - val_accuracy: 0.8304\n",
            "Epoch 144/150\n",
            "252/252 [==============================] - ETA: 0s - loss: 0.7491 - accuracy: 0.8139\n",
            "Epoch 00144: val_loss did not improve from 0.62683\n",
            "252/252 [==============================] - 86s 341ms/step - loss: 0.7491 - accuracy: 0.8139 - val_loss: 0.6912 - val_accuracy: 0.7857\n",
            "Epoch 145/150\n",
            "252/252 [==============================] - ETA: 0s - loss: 0.7471 - accuracy: 0.8164\n",
            "Epoch 00145: val_loss did not improve from 0.62683\n",
            "252/252 [==============================] - 86s 342ms/step - loss: 0.7471 - accuracy: 0.8164 - val_loss: 0.6986 - val_accuracy: 0.7946\n",
            "Epoch 146/150\n",
            "252/252 [==============================] - ETA: 0s - loss: 0.7629 - accuracy: 0.8223\n",
            "Epoch 00146: val_loss did not improve from 0.62683\n",
            "252/252 [==============================] - 86s 341ms/step - loss: 0.7629 - accuracy: 0.8223 - val_loss: 0.7026 - val_accuracy: 0.8482\n",
            "Epoch 147/150\n",
            "252/252 [==============================] - ETA: 0s - loss: 0.7797 - accuracy: 0.8035\n",
            "Epoch 00147: val_loss improved from 0.62683 to 0.59383, saving model to /content/drive/My Drive/1-piece/Inceptionv3_GrayScale.h5\n",
            "252/252 [==============================] - 87s 347ms/step - loss: 0.7797 - accuracy: 0.8035 - val_loss: 0.5938 - val_accuracy: 0.8661\n",
            "Epoch 148/150\n",
            "252/252 [==============================] - ETA: 0s - loss: 0.7518 - accuracy: 0.8074\n",
            "Epoch 00148: val_loss did not improve from 0.59383\n",
            "252/252 [==============================] - 88s 347ms/step - loss: 0.7518 - accuracy: 0.8074 - val_loss: 0.6984 - val_accuracy: 0.8304\n",
            "Epoch 149/150\n",
            "252/252 [==============================] - ETA: 0s - loss: 0.7750 - accuracy: 0.8035\n",
            "Epoch 00149: val_loss did not improve from 0.59383\n",
            "252/252 [==============================] - 87s 346ms/step - loss: 0.7750 - accuracy: 0.8035 - val_loss: 0.9122 - val_accuracy: 0.7768\n",
            "Epoch 150/150\n",
            "252/252 [==============================] - ETA: 0s - loss: 0.7533 - accuracy: 0.8094\n",
            "Epoch 00150: val_loss did not improve from 0.59383\n",
            "252/252 [==============================] - 86s 343ms/step - loss: 0.7533 - accuracy: 0.8094 - val_loss: 0.8243 - val_accuracy: 0.7768\n"
          ],
          "name": "stdout"
        }
      ]
    },
    {
      "cell_type": "code",
      "metadata": {
        "id": "7rddNBrFJWH5",
        "colab_type": "code",
        "colab": {
          "base_uri": "https://localhost:8080/",
          "height": 295
        },
        "outputId": "d3e38474-c9ba-4599-ae83-fd3b4ea357fd"
      },
      "source": [
        "import matplotlib.pyplot as plt\n",
        "plt.plot(hist.history[\"accuracy\"])\n",
        "plt.plot(hist.history['val_accuracy'])\n",
        "plt.title(\"model accuracy\")\n",
        "plt.ylabel(\"Accuracy\")\n",
        "plt.xlabel(\"Epoch\")\n",
        "plt.legend([\"Accuracy\",\"Validation Accuracy\"])\n",
        "plt.show()"
      ],
      "execution_count": null,
      "outputs": [
        {
          "output_type": "display_data",
          "data": {
            "image/png": "[encoded data removed]",
            "text/plain": [
              "<Figure size 432x288 with 1 Axes>"
            ]
          },
          "metadata": {
            "tags": [],
            "needs_background": "light"
          }
        }
      ]
    },
    {
      "cell_type": "code",
      "metadata": {
        "id": "Tk4bvR-UJbm1",
        "colab_type": "code",
        "colab": {
          "base_uri": "https://localhost:8080/",
          "height": 295
        },
        "outputId": "f51e8505-08c4-462a-fc5f-53d4899c1ef0"
      },
      "source": [
        "plt.plot(hist.history['loss'])\n",
        "plt.plot(hist.history['val_loss'])\n",
        "plt.title(\"model Loss\")\n",
        "plt.ylabel(\"Loss\")\n",
        "plt.xlabel(\"Epoch\")\n",
        "plt.legend([\"Loss\",\"Validation Loss\"])\n",
        "plt.show()"
      ],
      "execution_count": null,
      "outputs": [
        {
          "output_type": "display_data",
          "data": {
            "image/png": "[encoded data removed]",
            "text/plain": [
              "<Figure size 432x288 with 1 Axes>"
            ]
          },
          "metadata": {
            "tags": [],
            "needs_background": "light"
          }
        }
      ]
    },
    {
      "cell_type": "code",
      "metadata": {
        "id": "YnKgsbT2Jn1K",
        "colab_type": "code",
        "colab": {
          "base_uri": "https://localhost:8080/",
          "height": 34
        },
        "outputId": "b2baf339-2c2e-47c5-df7c-7a8c2b3164c2"
      },
      "source": [
        "GreyTestData = TestGenerator.flow_from_directory('/content/drive/My Drive/1-piece/Test/', target_size=(224,224), batch_size = 8, shuffle = False, color_mode='grayscale')"
      ],
      "execution_count": null,
      "outputs": [
        {
          "output_type": "stream",
          "text": [
            "Found 112 images belonging to 112 classes.\n"
          ],
          "name": "stdout"
        }
      ]
    },
    {
      "cell_type": "code",
      "metadata": {
        "id": "I8Gg_F49Jw28",
        "colab_type": "code",
        "colab": {}
      },
      "source": [
        "Grey_predict = model.predict(GreyTestData)"
      ],
      "execution_count": null,
      "outputs": []
    },
    {
      "cell_type": "code",
      "metadata": {
        "id": "O37PVgcGJ4YO",
        "colab_type": "code",
        "colab": {}
      },
      "source": [
        "Grey_predict_classes = np.argmax(Grey_predict, axis=1)"
      ],
      "execution_count": null,
      "outputs": []
    },
    {
      "cell_type": "code",
      "metadata": {
        "id": "ssASZqHcKCdz",
        "colab_type": "code",
        "colab": {
          "base_uri": "https://localhost:8080/",
          "height": 170
        },
        "outputId": "48905995-e28e-449f-f95a-104a0af41670"
      },
      "source": [
        "Grey_predict_classes"
      ],
      "execution_count": null,
      "outputs": [
        {
          "output_type": "execute_result",
          "data": {
            "text/plain": [
              "array([ 24,  29,  29,  21,   4,  24,  24,   7,   9,  10,  10,  11,  12,\n",
              "        13,  14,  15,  16,  17,  18,  19,  20,  21,  22,  23,  24,  25,\n",
              "        29,  27,  17,  29,  30,  24,  32,  33,  34,  35,  36,  37,  38,\n",
              "        39,  40,  41,  42,  43,  44,  45,  46,  48,  48,  49,  50,  67,\n",
              "        52,  53,  54,  55,  56,  57,  68,  59,  60,  61,  51,  77,  64,\n",
              "        67,  66,  67,  68,  69,  70,  71,  72, 108,  74,  75,  76,  76,\n",
              "        78,  79,  80,  81,  82,  83,  84,  85,  85,  87,  88,  89,  66,\n",
              "        91,  92,  93,  94,  95,  96,  97,  98, 100, 100, 101,  66, 103,\n",
              "        74, 105,  59, 107, 108, 109, 110, 111])"
            ]
          },
          "metadata": {
            "tags": []
          },
          "execution_count": 28
        }
      ]
    },
    {
      "cell_type": "code",
      "metadata": {
        "id": "HvCrugUfKG0L",
        "colab_type": "code",
        "colab": {}
      },
      "source": [
        "from sklearn.metrics import accuracy_score\n",
        "from sklearn.metrics import precision_score\n",
        "from sklearn.metrics import recall_score\n",
        "from sklearn.metrics import f1_score\n",
        "from sklearn.metrics import cohen_kappa_score\n",
        "from sklearn.metrics import roc_auc_score"
      ],
      "execution_count": null,
      "outputs": []
    },
    {
      "cell_type": "code",
      "metadata": {
        "id": "eOWWlroCKJXK",
        "colab_type": "code",
        "colab": {
          "base_uri": "https://localhost:8080/",
          "height": 34
        },
        "outputId": "2b9a9aae-e9c3-4354-9d99-dfe5d5aa69ad"
      },
      "source": [
        "Grey_accuracy = accuracy_score(GreyTestData.classes, Grey_predict_classes)\n",
        "print(\"Grey Accuracy: \", Grey_accuracy)"
      ],
      "execution_count": null,
      "outputs": [
        {
          "output_type": "stream",
          "text": [
            "Grey Accuracy:  0.7767857142857143\n"
          ],
          "name": "stdout"
        }
      ]
    },
    {
      "cell_type": "code",
      "metadata": {
        "id": "qT8GZ8SWKQsZ",
        "colab_type": "code",
        "colab": {
          "base_uri": "https://localhost:8080/",
          "height": 88
        },
        "outputId": "4a587f81-ddc5-4a12-aad0-4abd8fe55e35"
      },
      "source": [
        "Grey_precision = precision_score(GreyTestData.classes, Grey_predict_classes,average=\"weighted\")\n",
        "print(\"Grey Precision: \", Grey_precision)"
      ],
      "execution_count": null,
      "outputs": [
        {
          "output_type": "stream",
          "text": [
            "Grey Precision:  0.7019345238095237\n"
          ],
          "name": "stdout"
        },
        {
          "output_type": "stream",
          "text": [
            "/usr/local/lib/python3.6/dist-packages/sklearn/metrics/_classification.py:1272: UndefinedMetricWarning: Precision is ill-defined and being set to 0.0 in labels with no predicted samples. Use `zero_division` parameter to control this behavior.\n",
            "  _warn_prf(average, modifier, msg_start, len(result))\n"
          ],
          "name": "stderr"
        }
      ]
    },
    {
      "cell_type": "code",
      "metadata": {
        "id": "4vaMESfPKXYT",
        "colab_type": "code",
        "colab": {
          "base_uri": "https://localhost:8080/",
          "height": 34
        },
        "outputId": "963e9888-145d-4725-a47c-6e4517461fb0"
      },
      "source": [
        "Grey_recall = recall_score(GreyTestData.classes, Grey_predict_classes, average=\"weighted\")\n",
        "print(\"Grey Recall:\", Grey_recall)"
      ],
      "execution_count": null,
      "outputs": [
        {
          "output_type": "stream",
          "text": [
            "Grey Recall: 0.7767857142857143\n"
          ],
          "name": "stdout"
        }
      ]
    },
    {
      "cell_type": "code",
      "metadata": {
        "id": "ArX8LkQ3KbDn",
        "colab_type": "code",
        "colab": {
          "base_uri": "https://localhost:8080/",
          "height": 34
        },
        "outputId": "a96658b4-0a2e-44a2-8a34-8bd128b89649"
      },
      "source": [
        "Grey_f1_score = f1_score(GreyTestData.classes, Grey_predict_classes, average=\"weighted\")\n",
        "print(\"F1 score for Grey: \", Grey_f1_score)"
      ],
      "execution_count": null,
      "outputs": [
        {
          "output_type": "stream",
          "text": [
            "F1 score for Grey:  0.7238095238095238\n"
          ],
          "name": "stdout"
        }
      ]
    },
    {
      "cell_type": "markdown",
      "metadata": {
        "id": "JE2Pmwq4KvbW",
        "colab_type": "text"
      },
      "source": [
        "**Processing for colour Data.**"
      ]
    },
    {
      "cell_type": "code",
      "metadata": {
        "id": "eI7an7B8K1Iy",
        "colab_type": "code",
        "colab": {
          "base_uri": "https://localhost:8080/",
          "height": 34
        },
        "outputId": "582dc02f-10e9-41d9-e391-7f091d67eb10"
      },
      "source": [
        "Colour_TrainingData =  DataGenerator.flow_from_directory('/content/drive/My Drive/1-piece/Train/', target_size=(224,224), batch_size=8)"
      ],
      "execution_count": null,
      "outputs": [
        {
          "output_type": "stream",
          "text": [
            "Found 2015 images belonging to 112 classes.\n"
          ],
          "name": "stdout"
        }
      ]
    },
    {
      "cell_type": "code",
      "metadata": {
        "id": "XZrczUjKLUa7",
        "colab_type": "code",
        "colab": {
          "base_uri": "https://localhost:8080/",
          "height": 34
        },
        "outputId": "5c20daeb-a56b-4fd9-bd2a-6b4f4cbf0584"
      },
      "source": [
        "Colour_ValidData =  DataGenerator.flow_from_directory('/content/drive/My Drive/1-piece/Valid/', target_size=(224,224), batch_size=8)"
      ],
      "execution_count": null,
      "outputs": [
        {
          "output_type": "stream",
          "text": [
            "Found 112 images belonging to 112 classes.\n"
          ],
          "name": "stdout"
        }
      ]
    },
    {
      "cell_type": "code",
      "metadata": {
        "id": "uOOU7KB1LhAX",
        "colab_type": "code",
        "colab": {}
      },
      "source": [
        "conv_base_colour = InceptionV3(weights = 'imagenet', include_top = False, pooling = 'avg')"
      ],
      "execution_count": null,
      "outputs": []
    },
    {
      "cell_type": "code",
      "metadata": {
        "id": "SvVV5qnxLpMI",
        "colab_type": "code",
        "colab": {
          "base_uri": "https://localhost:8080/",
          "height": 34
        },
        "outputId": "6e23d9b2-63ca-43fc-e6ed-4205ce996182"
      },
      "source": [
        "for layer in conv_base_colour.layers[:299]:\n",
        "  layer.trainable = False\n",
        "for layer in conv_base_colour.layers[299:]:\n",
        "  layer.trainable = True\n",
        "for layer in conv_base_colour.layers:\n",
        "  if isinstance(layer, BatchNormalization):\n",
        "    layer.trainable = True\n",
        "\n",
        "print(\"Done\")"
      ],
      "execution_count": null,
      "outputs": [
        {
          "output_type": "stream",
          "text": [
            "Done\n"
          ],
          "name": "stdout"
        }
      ]
    },
    {
      "cell_type": "code",
      "metadata": {
        "id": "u4DVU5NALssh",
        "colab_type": "code",
        "colab": {
          "base_uri": "https://localhost:8080/",
          "height": 1000
        },
        "outputId": "b243d8b2-b535-4369-d753-aa4417a9d75b"
      },
      "source": [
        "for i, layer in enumerate(conv_base_colour.layers):\n",
        "   print(i, layer.name, layer.trainable)"
      ],
      "execution_count": null,
      "outputs": [
        {
          "output_type": "stream",
          "text": [
            "0 input_3 False\n",
            "1 conv2d_95 False\n",
            "2 batch_normalization_94 True\n",
            "3 activation_94 False\n",
            "4 conv2d_96 False\n",
            "5 batch_normalization_95 True\n",
            "6 activation_95 False\n",
            "7 conv2d_97 False\n",
            "8 batch_normalization_96 True\n",
            "9 activation_96 False\n",
            "10 max_pooling2d_4 False\n",
            "11 conv2d_98 False\n",
            "12 batch_normalization_97 True\n",
            "13 activation_97 False\n",
            "14 conv2d_99 False\n",
            "15 batch_normalization_98 True\n",
            "16 activation_98 False\n",
            "17 max_pooling2d_5 False\n",
            "18 conv2d_103 False\n",
            "19 batch_normalization_102 True\n",
            "20 activation_102 False\n",
            "21 conv2d_101 False\n",
            "22 conv2d_104 False\n",
            "23 batch_normalization_100 True\n",
            "24 batch_normalization_103 True\n",
            "25 activation_100 False\n",
            "26 activation_103 False\n",
            "27 average_pooling2d_9 False\n",
            "28 conv2d_100 False\n",
            "29 conv2d_102 False\n",
            "30 conv2d_105 False\n",
            "31 conv2d_106 False\n",
            "32 batch_normalization_99 True\n",
            "33 batch_normalization_101 True\n",
            "34 batch_normalization_104 True\n",
            "35 batch_normalization_105 True\n",
            "36 activation_99 False\n",
            "37 activation_101 False\n",
            "38 activation_104 False\n",
            "39 activation_105 False\n",
            "40 mixed0 False\n",
            "41 conv2d_110 False\n",
            "42 batch_normalization_109 True\n",
            "43 activation_109 False\n",
            "44 conv2d_108 False\n",
            "45 conv2d_111 False\n",
            "46 batch_normalization_107 True\n",
            "47 batch_normalization_110 True\n",
            "48 activation_107 False\n",
            "49 activation_110 False\n",
            "50 average_pooling2d_10 False\n",
            "51 conv2d_107 False\n",
            "52 conv2d_109 False\n",
            "53 conv2d_112 False\n",
            "54 conv2d_113 False\n",
            "55 batch_normalization_106 True\n",
            "56 batch_normalization_108 True\n",
            "57 batch_normalization_111 True\n",
            "58 batch_normalization_112 True\n",
            "59 activation_106 False\n",
            "60 activation_108 False\n",
            "61 activation_111 False\n",
            "62 activation_112 False\n",
            "63 mixed1 False\n",
            "64 conv2d_117 False\n",
            "65 batch_normalization_116 True\n",
            "66 activation_116 False\n",
            "67 conv2d_115 False\n",
            "68 conv2d_118 False\n",
            "69 batch_normalization_114 True\n",
            "70 batch_normalization_117 True\n",
            "71 activation_114 False\n",
            "72 activation_117 False\n",
            "73 average_pooling2d_11 False\n",
            "74 conv2d_114 False\n",
            "75 conv2d_116 False\n",
            "76 conv2d_119 False\n",
            "77 conv2d_120 False\n",
            "78 batch_normalization_113 True\n",
            "79 batch_normalization_115 True\n",
            "80 batch_normalization_118 True\n",
            "81 batch_normalization_119 True\n",
            "82 activation_113 False\n",
            "83 activation_115 False\n",
            "84 activation_118 False\n",
            "85 activation_119 False\n",
            "86 mixed2 False\n",
            "87 conv2d_122 False\n",
            "88 batch_normalization_121 True\n",
            "89 activation_121 False\n",
            "90 conv2d_123 False\n",
            "91 batch_normalization_122 True\n",
            "92 activation_122 False\n",
            "93 conv2d_121 False\n",
            "94 conv2d_124 False\n",
            "95 batch_normalization_120 True\n",
            "96 batch_normalization_123 True\n",
            "97 activation_120 False\n",
            "98 activation_123 False\n",
            "99 max_pooling2d_6 False\n",
            "100 mixed3 False\n",
            "101 conv2d_129 False\n",
            "102 batch_normalization_128 True\n",
            "103 activation_128 False\n",
            "104 conv2d_130 False\n",
            "105 batch_normalization_129 True\n",
            "106 activation_129 False\n",
            "107 conv2d_126 False\n",
            "108 conv2d_131 False\n",
            "109 batch_normalization_125 True\n",
            "110 batch_normalization_130 True\n",
            "111 activation_125 False\n",
            "112 activation_130 False\n",
            "113 conv2d_127 False\n",
            "114 conv2d_132 False\n",
            "115 batch_normalization_126 True\n",
            "116 batch_normalization_131 True\n",
            "117 activation_126 False\n",
            "118 activation_131 False\n",
            "119 average_pooling2d_12 False\n",
            "120 conv2d_125 False\n",
            "121 conv2d_128 False\n",
            "122 conv2d_133 False\n",
            "123 conv2d_134 False\n",
            "124 batch_normalization_124 True\n",
            "125 batch_normalization_127 True\n",
            "126 batch_normalization_132 True\n",
            "127 batch_normalization_133 True\n",
            "128 activation_124 False\n",
            "129 activation_127 False\n",
            "130 activation_132 False\n",
            "131 activation_133 False\n",
            "132 mixed4 False\n",
            "133 conv2d_139 False\n",
            "134 batch_normalization_138 True\n",
            "135 activation_138 False\n",
            "136 conv2d_140 False\n",
            "137 batch_normalization_139 True\n",
            "138 activation_139 False\n",
            "139 conv2d_136 False\n",
            "140 conv2d_141 False\n",
            "141 batch_normalization_135 True\n",
            "142 batch_normalization_140 True\n",
            "143 activation_135 False\n",
            "144 activation_140 False\n",
            "145 conv2d_137 False\n",
            "146 conv2d_142 False\n",
            "147 batch_normalization_136 True\n",
            "148 batch_normalization_141 True\n",
            "149 activation_136 False\n",
            "150 activation_141 False\n",
            "151 average_pooling2d_13 False\n",
            "152 conv2d_135 False\n",
            "153 conv2d_138 False\n",
            "154 conv2d_143 False\n",
            "155 conv2d_144 False\n",
            "156 batch_normalization_134 True\n",
            "157 batch_normalization_137 True\n",
            "158 batch_normalization_142 True\n",
            "159 batch_normalization_143 True\n",
            "160 activation_134 False\n",
            "161 activation_137 False\n",
            "162 activation_142 False\n",
            "163 activation_143 False\n",
            "164 mixed5 False\n",
            "165 conv2d_149 False\n",
            "166 batch_normalization_148 True\n",
            "167 activation_148 False\n",
            "168 conv2d_150 False\n",
            "169 batch_normalization_149 True\n",
            "170 activation_149 False\n",
            "171 conv2d_146 False\n",
            "172 conv2d_151 False\n",
            "173 batch_normalization_145 True\n",
            "174 batch_normalization_150 True\n",
            "175 activation_145 False\n",
            "176 activation_150 False\n",
            "177 conv2d_147 False\n",
            "178 conv2d_152 False\n",
            "179 batch_normalization_146 True\n",
            "180 batch_normalization_151 True\n",
            "181 activation_146 False\n",
            "182 activation_151 False\n",
            "183 average_pooling2d_14 False\n",
            "184 conv2d_145 False\n",
            "185 conv2d_148 False\n",
            "186 conv2d_153 False\n",
            "187 conv2d_154 False\n",
            "188 batch_normalization_144 True\n",
            "189 batch_normalization_147 True\n",
            "190 batch_normalization_152 True\n",
            "191 batch_normalization_153 True\n",
            "192 activation_144 False\n",
            "193 activation_147 False\n",
            "194 activation_152 False\n",
            "195 activation_153 False\n",
            "196 mixed6 False\n",
            "197 conv2d_159 False\n",
            "198 batch_normalization_158 True\n",
            "199 activation_158 False\n",
            "200 conv2d_160 False\n",
            "201 batch_normalization_159 True\n",
            "202 activation_159 False\n",
            "203 conv2d_156 False\n",
            "204 conv2d_161 False\n",
            "205 batch_normalization_155 True\n",
            "206 batch_normalization_160 True\n",
            "207 activation_155 False\n",
            "208 activation_160 False\n",
            "209 conv2d_157 False\n",
            "210 conv2d_162 False\n",
            "211 batch_normalization_156 True\n",
            "212 batch_normalization_161 True\n",
            "213 activation_156 False\n",
            "214 activation_161 False\n",
            "215 average_pooling2d_15 False\n",
            "216 conv2d_155 False\n",
            "217 conv2d_158 False\n",
            "218 conv2d_163 False\n",
            "219 conv2d_164 False\n",
            "220 batch_normalization_154 True\n",
            "221 batch_normalization_157 True\n",
            "222 batch_normalization_162 True\n",
            "223 batch_normalization_163 True\n",
            "224 activation_154 False\n",
            "225 activation_157 False\n",
            "226 activation_162 False\n",
            "227 activation_163 False\n",
            "228 mixed7 False\n",
            "229 conv2d_167 False\n",
            "230 batch_normalization_166 True\n",
            "231 activation_166 False\n",
            "232 conv2d_168 False\n",
            "233 batch_normalization_167 True\n",
            "234 activation_167 False\n",
            "235 conv2d_165 False\n",
            "236 conv2d_169 False\n",
            "237 batch_normalization_164 True\n",
            "238 batch_normalization_168 True\n",
            "239 activation_164 False\n",
            "240 activation_168 False\n",
            "241 conv2d_166 False\n",
            "242 conv2d_170 False\n",
            "243 batch_normalization_165 True\n",
            "244 batch_normalization_169 True\n",
            "245 activation_165 False\n",
            "246 activation_169 False\n",
            "247 max_pooling2d_7 False\n",
            "248 mixed8 False\n",
            "249 conv2d_175 False\n",
            "250 batch_normalization_174 True\n",
            "251 activation_174 False\n",
            "252 conv2d_172 False\n",
            "253 conv2d_176 False\n",
            "254 batch_normalization_171 True\n",
            "255 batch_normalization_175 True\n",
            "256 activation_171 False\n",
            "257 activation_175 False\n",
            "258 conv2d_173 False\n",
            "259 conv2d_174 False\n",
            "260 conv2d_177 False\n",
            "261 conv2d_178 False\n",
            "262 average_pooling2d_16 False\n",
            "263 conv2d_171 False\n",
            "264 batch_normalization_172 True\n",
            "265 batch_normalization_173 True\n",
            "266 batch_normalization_176 True\n",
            "267 batch_normalization_177 True\n",
            "268 conv2d_179 False\n",
            "269 batch_normalization_170 True\n",
            "270 activation_172 False\n",
            "271 activation_173 False\n",
            "272 activation_176 False\n",
            "273 activation_177 False\n",
            "274 batch_normalization_178 True\n",
            "275 activation_170 False\n",
            "276 mixed9_0 False\n",
            "277 concatenate_2 False\n",
            "278 activation_178 False\n",
            "279 mixed9 False\n",
            "280 conv2d_184 False\n",
            "281 batch_normalization_183 True\n",
            "282 activation_183 False\n",
            "283 conv2d_181 False\n",
            "284 conv2d_185 False\n",
            "285 batch_normalization_180 True\n",
            "286 batch_normalization_184 True\n",
            "287 activation_180 False\n",
            "288 activation_184 False\n",
            "289 conv2d_182 False\n",
            "290 conv2d_183 False\n",
            "291 conv2d_186 False\n",
            "292 conv2d_187 False\n",
            "293 average_pooling2d_17 False\n",
            "294 conv2d_180 False\n",
            "295 batch_normalization_181 True\n",
            "296 batch_normalization_182 True\n",
            "297 batch_normalization_185 True\n",
            "298 batch_normalization_186 True\n",
            "299 conv2d_188 True\n",
            "300 batch_normalization_179 True\n",
            "301 activation_181 True\n",
            "302 activation_182 True\n",
            "303 activation_185 True\n",
            "304 activation_186 True\n",
            "305 batch_normalization_187 True\n",
            "306 activation_179 True\n",
            "307 mixed9_1 True\n",
            "308 concatenate_3 True\n",
            "309 activation_187 True\n",
            "310 mixed10 True\n",
            "311 global_average_pooling2d_1 True\n"
          ],
          "name": "stdout"
        }
      ]
    },
    {
      "cell_type": "code",
      "metadata": {
        "id": "lPX3WjtrL6rb",
        "colab_type": "code",
        "colab": {}
      },
      "source": [
        "from keras.layers import Input "
      ],
      "execution_count": null,
      "outputs": []
    },
    {
      "cell_type": "code",
      "metadata": {
        "id": "KBEiiUIqL80Y",
        "colab_type": "code",
        "colab": {}
      },
      "source": [
        "input_tensor = Input(shape=(224,224,3))\n",
        "x = conv_base_colour(input_tensor)"
      ],
      "execution_count": null,
      "outputs": []
    },
    {
      "cell_type": "code",
      "metadata": {
        "id": "q3uttgFYMEQj",
        "colab_type": "code",
        "colab": {}
      },
      "source": [
        "x = Dense(2048, activation='relu', kernel_regularizer= regularizers.l2(0.001))(x)\n",
        "x = Dropout(0.5)(x)"
      ],
      "execution_count": null,
      "outputs": []
    },
    {
      "cell_type": "code",
      "metadata": {
        "id": "H9XGPFSfMHfI",
        "colab_type": "code",
        "colab": {}
      },
      "source": [
        "ouput = Dense(112, activation='softmax')(x)"
      ],
      "execution_count": null,
      "outputs": []
    },
    {
      "cell_type": "code",
      "metadata": {
        "id": "yklGm-IGMLKi",
        "colab_type": "code",
        "colab": {}
      },
      "source": [
        "colour_model = Model(inputs = input_tensor, outputs = ouput )"
      ],
      "execution_count": null,
      "outputs": []
    },
    {
      "cell_type": "code",
      "metadata": {
        "id": "cI4OUhkgMQTN",
        "colab_type": "code",
        "colab": {}
      },
      "source": [
        "colour_model.compile(loss='categorical_crossentropy',\n",
        "              optimizer=Adam(lr=0.001),\n",
        "              metrics=['accuracy'])"
      ],
      "execution_count": null,
      "outputs": []
    },
    {
      "cell_type": "code",
      "metadata": {
        "id": "V4v7B5i7Mf33",
        "colab_type": "code",
        "colab": {}
      },
      "source": [
        "from keras.callbacks import ModelCheckpoint, EarlyStopping, ReduceLROnPlateau\n",
        "checkpoint = ModelCheckpoint(\"/content/drive/My Drive/1-piece/Colour_InceptionV3.h5\",\n",
        "                             monitor=\"val_loss\",\n",
        "                             mode=\"min\",\n",
        "                             save_best_only = True,\n",
        "                             verbose=1)\n",
        "\n",
        "earlystop = EarlyStopping(monitor = 'val_loss', \n",
        "                          min_delta = 0, \n",
        "                          patience = 40,\n",
        "                          verbose = 1,\n",
        "                          restore_best_weights = True)\n",
        "\n",
        "reduce_lr = ReduceLROnPlateau(monitor = 'val_loss',\n",
        "                              factor = 0.2,\n",
        "                              patience = 40,\n",
        "                              verbose = 1,\n",
        "                              min_delta = 0.00001)\n",
        "\n",
        "callBacks = [earlystop, checkpoint, reduce_lr]"
      ],
      "execution_count": null,
      "outputs": []
    },
    {
      "cell_type": "code",
      "metadata": {
        "id": "yaMZLpsAMz7e",
        "colab_type": "code",
        "colab": {
          "base_uri": "https://localhost:8080/",
          "height": 1000
        },
        "outputId": "3f64867d-cebb-4515-86b7-3bee6ccfbb83"
      },
      "source": [
        "hist = colour_model.fit_generator(steps_per_epoch=252,generator= Colour_TrainingData, validation_data= Colour_ValidData, validation_steps=14,epochs=150,callbacks=callBacks)"
      ],
      "execution_count": null,
      "outputs": [
        {
          "output_type": "stream",
          "text": [
            "Epoch 1/150\n",
            "252/252 [==============================] - ETA: 0s - loss: 6.0946 - accuracy: 0.0293\n",
            "Epoch 00001: val_loss improved from inf to 4.70998, saving model to /content/drive/My Drive/1-piece/Colour_InceptionV3.h5\n",
            "252/252 [==============================] - 90s 357ms/step - loss: 6.0946 - accuracy: 0.0293 - val_loss: 4.7100 - val_accuracy: 0.0804\n",
            "Epoch 2/150\n",
            "252/252 [==============================] - ETA: 0s - loss: 4.5412 - accuracy: 0.0779\n",
            "Epoch 00002: val_loss improved from 4.70998 to 3.51492, saving model to /content/drive/My Drive/1-piece/Colour_InceptionV3.h5\n",
            "252/252 [==============================] - 90s 356ms/step - loss: 4.5412 - accuracy: 0.0779 - val_loss: 3.5149 - val_accuracy: 0.2679\n",
            "Epoch 3/150\n",
            "252/252 [==============================] - ETA: 0s - loss: 3.8182 - accuracy: 0.1494\n",
            "Epoch 00003: val_loss improved from 3.51492 to 2.69684, saving model to /content/drive/My Drive/1-piece/Colour_InceptionV3.h5\n",
            "252/252 [==============================] - 90s 355ms/step - loss: 3.8182 - accuracy: 0.1494 - val_loss: 2.6968 - val_accuracy: 0.3929\n",
            "Epoch 4/150\n",
            "252/252 [==============================] - ETA: 0s - loss: 3.3053 - accuracy: 0.2164\n",
            "Epoch 00004: val_loss improved from 2.69684 to 2.09938, saving model to /content/drive/My Drive/1-piece/Colour_InceptionV3.h5\n",
            "252/252 [==============================] - 90s 357ms/step - loss: 3.3053 - accuracy: 0.2164 - val_loss: 2.0994 - val_accuracy: 0.5893\n",
            "Epoch 5/150\n",
            "252/252 [==============================] - ETA: 0s - loss: 2.9811 - accuracy: 0.2794\n",
            "Epoch 00005: val_loss improved from 2.09938 to 1.76869, saving model to /content/drive/My Drive/1-piece/Colour_InceptionV3.h5\n",
            "252/252 [==============================] - 90s 357ms/step - loss: 2.9811 - accuracy: 0.2794 - val_loss: 1.7687 - val_accuracy: 0.6250\n",
            "Epoch 6/150\n",
            "252/252 [==============================] - ETA: 0s - loss: 2.6666 - accuracy: 0.3404\n",
            "Epoch 00006: val_loss improved from 1.76869 to 1.60957, saving model to /content/drive/My Drive/1-piece/Colour_InceptionV3.h5\n",
            "252/252 [==============================] - 90s 358ms/step - loss: 2.6666 - accuracy: 0.3404 - val_loss: 1.6096 - val_accuracy: 0.6696\n",
            "Epoch 7/150\n",
            "252/252 [==============================] - ETA: 0s - loss: 2.5389 - accuracy: 0.3692\n",
            "Epoch 00007: val_loss improved from 1.60957 to 1.47992, saving model to /content/drive/My Drive/1-piece/Colour_InceptionV3.h5\n",
            "252/252 [==============================] - 90s 357ms/step - loss: 2.5389 - accuracy: 0.3692 - val_loss: 1.4799 - val_accuracy: 0.6964\n",
            "Epoch 8/150\n",
            "252/252 [==============================] - ETA: 0s - loss: 2.3554 - accuracy: 0.4010\n",
            "Epoch 00008: val_loss improved from 1.47992 to 1.42189, saving model to /content/drive/My Drive/1-piece/Colour_InceptionV3.h5\n",
            "252/252 [==============================] - 89s 355ms/step - loss: 2.3554 - accuracy: 0.4010 - val_loss: 1.4219 - val_accuracy: 0.6786\n",
            "Epoch 9/150\n",
            "252/252 [==============================] - ETA: 0s - loss: 2.2420 - accuracy: 0.4263\n",
            "Epoch 00009: val_loss improved from 1.42189 to 1.24009, saving model to /content/drive/My Drive/1-piece/Colour_InceptionV3.h5\n",
            "252/252 [==============================] - 89s 354ms/step - loss: 2.2420 - accuracy: 0.4263 - val_loss: 1.2401 - val_accuracy: 0.7054\n",
            "Epoch 10/150\n",
            "252/252 [==============================] - ETA: 0s - loss: 2.1481 - accuracy: 0.4561\n",
            "Epoch 00010: val_loss improved from 1.24009 to 0.98020, saving model to /content/drive/My Drive/1-piece/Colour_InceptionV3.h5\n",
            "252/252 [==============================] - 89s 354ms/step - loss: 2.1481 - accuracy: 0.4561 - val_loss: 0.9802 - val_accuracy: 0.8482\n",
            "Epoch 11/150\n",
            "252/252 [==============================] - ETA: 0s - loss: 2.0095 - accuracy: 0.4908\n",
            "Epoch 00011: val_loss did not improve from 0.98020\n",
            "252/252 [==============================] - 87s 344ms/step - loss: 2.0095 - accuracy: 0.4908 - val_loss: 0.9885 - val_accuracy: 0.8125\n",
            "Epoch 12/150\n",
            "252/252 [==============================] - ETA: 0s - loss: 1.9629 - accuracy: 0.5007\n",
            "Epoch 00012: val_loss improved from 0.98020 to 0.96591, saving model to /content/drive/My Drive/1-piece/Colour_InceptionV3.h5\n",
            "252/252 [==============================] - 88s 351ms/step - loss: 1.9629 - accuracy: 0.5007 - val_loss: 0.9659 - val_accuracy: 0.8214\n",
            "Epoch 13/150\n",
            "252/252 [==============================] - ETA: 0s - loss: 1.9150 - accuracy: 0.5151\n",
            "Epoch 00013: val_loss did not improve from 0.96591\n",
            "252/252 [==============================] - 87s 344ms/step - loss: 1.9150 - accuracy: 0.5151 - val_loss: 1.0009 - val_accuracy: 0.8125\n",
            "Epoch 14/150\n",
            "252/252 [==============================] - ETA: 0s - loss: 1.7986 - accuracy: 0.5643\n",
            "Epoch 00014: val_loss improved from 0.96591 to 0.82024, saving model to /content/drive/My Drive/1-piece/Colour_InceptionV3.h5\n",
            "252/252 [==============================] - 90s 357ms/step - loss: 1.7986 - accuracy: 0.5643 - val_loss: 0.8202 - val_accuracy: 0.8125\n",
            "Epoch 15/150\n",
            "252/252 [==============================] - ETA: 0s - loss: 1.8036 - accuracy: 0.5573\n",
            "Epoch 00015: val_loss did not improve from 0.82024\n",
            "252/252 [==============================] - 88s 348ms/step - loss: 1.8036 - accuracy: 0.5573 - val_loss: 0.8436 - val_accuracy: 0.8750\n",
            "Epoch 16/150\n",
            "252/252 [==============================] - ETA: 0s - loss: 1.7366 - accuracy: 0.5658\n",
            "Epoch 00016: val_loss did not improve from 0.82024\n",
            "252/252 [==============================] - 87s 345ms/step - loss: 1.7366 - accuracy: 0.5658 - val_loss: 0.8593 - val_accuracy: 0.8036\n",
            "Epoch 17/150\n",
            "252/252 [==============================] - ETA: 0s - loss: 1.6900 - accuracy: 0.5797\n",
            "Epoch 00017: val_loss improved from 0.82024 to 0.71434, saving model to /content/drive/My Drive/1-piece/Colour_InceptionV3.h5\n",
            "252/252 [==============================] - 89s 351ms/step - loss: 1.6900 - accuracy: 0.5797 - val_loss: 0.7143 - val_accuracy: 0.8661\n",
            "Epoch 18/150\n",
            "252/252 [==============================] - ETA: 0s - loss: 1.6501 - accuracy: 0.5747\n",
            "Epoch 00018: val_loss did not improve from 0.71434\n",
            "252/252 [==============================] - 88s 347ms/step - loss: 1.6501 - accuracy: 0.5747 - val_loss: 0.8744 - val_accuracy: 0.8214\n",
            "Epoch 19/150\n",
            "252/252 [==============================] - ETA: 0s - loss: 1.6165 - accuracy: 0.6094\n",
            "Epoch 00019: val_loss did not improve from 0.71434\n",
            "252/252 [==============================] - 87s 347ms/step - loss: 1.6165 - accuracy: 0.6094 - val_loss: 0.7462 - val_accuracy: 0.8661\n",
            "Epoch 20/150\n",
            "252/252 [==============================] - ETA: 0s - loss: 1.5144 - accuracy: 0.6392\n",
            "Epoch 00020: val_loss improved from 0.71434 to 0.70214, saving model to /content/drive/My Drive/1-piece/Colour_InceptionV3.h5\n",
            "252/252 [==============================] - 90s 355ms/step - loss: 1.5144 - accuracy: 0.6392 - val_loss: 0.7021 - val_accuracy: 0.9018\n",
            "Epoch 21/150\n",
            "252/252 [==============================] - ETA: 0s - loss: 1.5643 - accuracy: 0.6203\n",
            "Epoch 00021: val_loss did not improve from 0.70214\n",
            "252/252 [==============================] - 88s 350ms/step - loss: 1.5643 - accuracy: 0.6203 - val_loss: 0.7481 - val_accuracy: 0.8571\n",
            "Epoch 22/150\n",
            "252/252 [==============================] - ETA: 0s - loss: 1.5066 - accuracy: 0.6397\n",
            "Epoch 00022: val_loss improved from 0.70214 to 0.63354, saving model to /content/drive/My Drive/1-piece/Colour_InceptionV3.h5\n",
            "252/252 [==============================] - 90s 358ms/step - loss: 1.5066 - accuracy: 0.6397 - val_loss: 0.6335 - val_accuracy: 0.8750\n",
            "Epoch 23/150\n",
            "252/252 [==============================] - ETA: 0s - loss: 1.4256 - accuracy: 0.6720\n",
            "Epoch 00023: val_loss did not improve from 0.63354\n",
            "252/252 [==============================] - 88s 348ms/step - loss: 1.4256 - accuracy: 0.6720 - val_loss: 0.6811 - val_accuracy: 0.8571\n",
            "Epoch 24/150\n",
            "252/252 [==============================] - ETA: 0s - loss: 1.4533 - accuracy: 0.6447\n",
            "Epoch 00024: val_loss did not improve from 0.63354\n",
            "252/252 [==============================] - 87s 345ms/step - loss: 1.4533 - accuracy: 0.6447 - val_loss: 0.7385 - val_accuracy: 0.8750\n",
            "Epoch 25/150\n",
            "252/252 [==============================] - ETA: 0s - loss: 1.3691 - accuracy: 0.6834\n",
            "Epoch 00025: val_loss did not improve from 0.63354\n",
            "252/252 [==============================] - 87s 347ms/step - loss: 1.3691 - accuracy: 0.6834 - val_loss: 0.7014 - val_accuracy: 0.8482\n",
            "Epoch 26/150\n",
            "252/252 [==============================] - ETA: 0s - loss: 1.3602 - accuracy: 0.6799\n",
            "Epoch 00026: val_loss did not improve from 0.63354\n",
            "252/252 [==============================] - 86s 343ms/step - loss: 1.3602 - accuracy: 0.6799 - val_loss: 0.7837 - val_accuracy: 0.8661\n",
            "Epoch 27/150\n",
            "252/252 [==============================] - ETA: 0s - loss: 1.3370 - accuracy: 0.6854\n",
            "Epoch 00027: val_loss did not improve from 0.63354\n",
            "252/252 [==============================] - 86s 343ms/step - loss: 1.3370 - accuracy: 0.6854 - val_loss: 0.6700 - val_accuracy: 0.9107\n",
            "Epoch 28/150\n",
            "252/252 [==============================] - ETA: 0s - loss: 1.3054 - accuracy: 0.6908\n",
            "Epoch 00028: val_loss improved from 0.63354 to 0.55622, saving model to /content/drive/My Drive/1-piece/Colour_InceptionV3.h5\n",
            "252/252 [==============================] - 89s 354ms/step - loss: 1.3054 - accuracy: 0.6908 - val_loss: 0.5562 - val_accuracy: 0.9018\n",
            "Epoch 29/150\n",
            "252/252 [==============================] - ETA: 0s - loss: 1.3032 - accuracy: 0.6943\n",
            "Epoch 00029: val_loss improved from 0.55622 to 0.54743, saving model to /content/drive/My Drive/1-piece/Colour_InceptionV3.h5\n",
            "252/252 [==============================] - 89s 355ms/step - loss: 1.3032 - accuracy: 0.6943 - val_loss: 0.5474 - val_accuracy: 0.9196\n",
            "Epoch 30/150\n",
            "252/252 [==============================] - ETA: 0s - loss: 1.2623 - accuracy: 0.6893\n",
            "Epoch 00030: val_loss did not improve from 0.54743\n",
            "252/252 [==============================] - 86s 342ms/step - loss: 1.2623 - accuracy: 0.6893 - val_loss: 0.5618 - val_accuracy: 0.8929\n",
            "Epoch 31/150\n",
            "252/252 [==============================] - ETA: 0s - loss: 1.3073 - accuracy: 0.6864\n",
            "Epoch 00031: val_loss did not improve from 0.54743\n",
            "252/252 [==============================] - 86s 342ms/step - loss: 1.3073 - accuracy: 0.6864 - val_loss: 0.5490 - val_accuracy: 0.9286\n",
            "Epoch 32/150\n",
            "252/252 [==============================] - ETA: 0s - loss: 1.2030 - accuracy: 0.7176\n",
            "Epoch 00032: val_loss improved from 0.54743 to 0.52103, saving model to /content/drive/My Drive/1-piece/Colour_InceptionV3.h5\n",
            "252/252 [==============================] - 89s 355ms/step - loss: 1.2030 - accuracy: 0.7176 - val_loss: 0.5210 - val_accuracy: 0.9018\n",
            "Epoch 33/150\n",
            "252/252 [==============================] - ETA: 0s - loss: 1.2428 - accuracy: 0.6883\n",
            "Epoch 00033: val_loss improved from 0.52103 to 0.49125, saving model to /content/drive/My Drive/1-piece/Colour_InceptionV3.h5\n",
            "252/252 [==============================] - 89s 353ms/step - loss: 1.2428 - accuracy: 0.6883 - val_loss: 0.4913 - val_accuracy: 0.9196\n",
            "Epoch 34/150\n",
            "252/252 [==============================] - ETA: 0s - loss: 1.1738 - accuracy: 0.7270\n",
            "Epoch 00034: val_loss did not improve from 0.49125\n",
            "252/252 [==============================] - 87s 347ms/step - loss: 1.1738 - accuracy: 0.7270 - val_loss: 0.5004 - val_accuracy: 0.9554\n",
            "Epoch 35/150\n",
            "252/252 [==============================] - ETA: 0s - loss: 1.2348 - accuracy: 0.7022\n",
            "Epoch 00035: val_loss did not improve from 0.49125\n",
            "252/252 [==============================] - 87s 345ms/step - loss: 1.2348 - accuracy: 0.7022 - val_loss: 0.6035 - val_accuracy: 0.9375\n",
            "Epoch 36/150\n",
            "252/252 [==============================] - ETA: 0s - loss: 1.1598 - accuracy: 0.7261\n",
            "Epoch 00036: val_loss did not improve from 0.49125\n",
            "252/252 [==============================] - 86s 341ms/step - loss: 1.1598 - accuracy: 0.7261 - val_loss: 0.5549 - val_accuracy: 0.9196\n",
            "Epoch 37/150\n",
            "252/252 [==============================] - ETA: 0s - loss: 1.1370 - accuracy: 0.7275\n",
            "Epoch 00037: val_loss improved from 0.49125 to 0.41544, saving model to /content/drive/My Drive/1-piece/Colour_InceptionV3.h5\n",
            "252/252 [==============================] - 88s 351ms/step - loss: 1.1370 - accuracy: 0.7275 - val_loss: 0.4154 - val_accuracy: 0.9464\n",
            "Epoch 38/150\n",
            "252/252 [==============================] - ETA: 0s - loss: 1.1279 - accuracy: 0.7266\n",
            "Epoch 00038: val_loss did not improve from 0.41544\n",
            "252/252 [==============================] - 87s 344ms/step - loss: 1.1279 - accuracy: 0.7266 - val_loss: 0.5002 - val_accuracy: 0.9286\n",
            "Epoch 39/150\n",
            "252/252 [==============================] - ETA: 0s - loss: 1.1123 - accuracy: 0.7345\n",
            "Epoch 00039: val_loss did not improve from 0.41544\n",
            "252/252 [==============================] - 87s 345ms/step - loss: 1.1123 - accuracy: 0.7345 - val_loss: 0.4286 - val_accuracy: 0.9464\n",
            "Epoch 40/150\n",
            "252/252 [==============================] - ETA: 0s - loss: 1.1032 - accuracy: 0.7439\n",
            "Epoch 00040: val_loss did not improve from 0.41544\n",
            "252/252 [==============================] - 86s 342ms/step - loss: 1.1032 - accuracy: 0.7439 - val_loss: 0.4683 - val_accuracy: 0.9464\n",
            "Epoch 41/150\n",
            "252/252 [==============================] - ETA: 0s - loss: 1.0380 - accuracy: 0.7677\n",
            "Epoch 00041: val_loss did not improve from 0.41544\n",
            "252/252 [==============================] - 86s 340ms/step - loss: 1.0380 - accuracy: 0.7677 - val_loss: 0.4216 - val_accuracy: 0.9554\n",
            "Epoch 42/150\n",
            "252/252 [==============================] - ETA: 0s - loss: 1.0689 - accuracy: 0.7340\n",
            "Epoch 00042: val_loss did not improve from 0.41544\n",
            "252/252 [==============================] - 86s 343ms/step - loss: 1.0689 - accuracy: 0.7340 - val_loss: 0.5372 - val_accuracy: 0.9196\n",
            "Epoch 43/150\n",
            "252/252 [==============================] - ETA: 0s - loss: 1.0230 - accuracy: 0.7672\n",
            "Epoch 00043: val_loss improved from 0.41544 to 0.40946, saving model to /content/drive/My Drive/1-piece/Colour_InceptionV3.h5\n",
            "252/252 [==============================] - 89s 354ms/step - loss: 1.0230 - accuracy: 0.7672 - val_loss: 0.4095 - val_accuracy: 0.9643\n",
            "Epoch 44/150\n",
            "252/252 [==============================] - ETA: 0s - loss: 1.0471 - accuracy: 0.7633\n",
            "Epoch 00044: val_loss did not improve from 0.40946\n",
            "252/252 [==============================] - 86s 343ms/step - loss: 1.0471 - accuracy: 0.7633 - val_loss: 0.4518 - val_accuracy: 0.9554\n",
            "Epoch 45/150\n",
            "252/252 [==============================] - ETA: 0s - loss: 1.0242 - accuracy: 0.7613\n",
            "Epoch 00045: val_loss did not improve from 0.40946\n",
            "252/252 [==============================] - 87s 344ms/step - loss: 1.0242 - accuracy: 0.7613 - val_loss: 0.4943 - val_accuracy: 0.9196\n",
            "Epoch 46/150\n",
            "252/252 [==============================] - ETA: 0s - loss: 1.0304 - accuracy: 0.7543\n",
            "Epoch 00046: val_loss did not improve from 0.40946\n",
            "252/252 [==============================] - 87s 347ms/step - loss: 1.0304 - accuracy: 0.7543 - val_loss: 0.4703 - val_accuracy: 0.9554\n",
            "Epoch 47/150\n",
            "252/252 [==============================] - ETA: 0s - loss: 0.9693 - accuracy: 0.7821\n",
            "Epoch 00047: val_loss improved from 0.40946 to 0.33567, saving model to /content/drive/My Drive/1-piece/Colour_InceptionV3.h5\n",
            "252/252 [==============================] - 89s 355ms/step - loss: 0.9693 - accuracy: 0.7821 - val_loss: 0.3357 - val_accuracy: 0.9732\n",
            "Epoch 48/150\n",
            "252/252 [==============================] - ETA: 0s - loss: 1.0203 - accuracy: 0.7578\n",
            "Epoch 00048: val_loss did not improve from 0.33567\n",
            "252/252 [==============================] - 88s 348ms/step - loss: 1.0203 - accuracy: 0.7578 - val_loss: 0.3895 - val_accuracy: 0.9554\n",
            "Epoch 49/150\n",
            "252/252 [==============================] - ETA: 0s - loss: 0.9604 - accuracy: 0.7792\n",
            "Epoch 00049: val_loss improved from 0.33567 to 0.32302, saving model to /content/drive/My Drive/1-piece/Colour_InceptionV3.h5\n",
            "252/252 [==============================] - 89s 354ms/step - loss: 0.9604 - accuracy: 0.7792 - val_loss: 0.3230 - val_accuracy: 0.9643\n",
            "Epoch 50/150\n",
            "252/252 [==============================] - ETA: 0s - loss: 0.9696 - accuracy: 0.7752\n",
            "Epoch 00050: val_loss did not improve from 0.32302\n",
            "252/252 [==============================] - 87s 347ms/step - loss: 0.9696 - accuracy: 0.7752 - val_loss: 0.3467 - val_accuracy: 0.9554\n",
            "Epoch 51/150\n",
            "252/252 [==============================] - ETA: 0s - loss: 0.9354 - accuracy: 0.7826\n",
            "Epoch 00051: val_loss did not improve from 0.32302\n",
            "252/252 [==============================] - 86s 342ms/step - loss: 0.9354 - accuracy: 0.7826 - val_loss: 0.3927 - val_accuracy: 0.9732\n",
            "Epoch 52/150\n",
            "252/252 [==============================] - ETA: 0s - loss: 0.9403 - accuracy: 0.7801\n",
            "Epoch 00052: val_loss did not improve from 0.32302\n",
            "252/252 [==============================] - 87s 344ms/step - loss: 0.9403 - accuracy: 0.7801 - val_loss: 0.3397 - val_accuracy: 0.9286\n",
            "Epoch 53/150\n",
            "252/252 [==============================] - ETA: 0s - loss: 0.8380 - accuracy: 0.8139\n",
            "Epoch 00053: val_loss improved from 0.32302 to 0.30255, saving model to /content/drive/My Drive/1-piece/Colour_InceptionV3.h5\n",
            "252/252 [==============================] - 89s 353ms/step - loss: 0.8380 - accuracy: 0.8139 - val_loss: 0.3026 - val_accuracy: 0.9821\n",
            "Epoch 54/150\n",
            "252/252 [==============================] - ETA: 0s - loss: 0.8898 - accuracy: 0.8065\n",
            "Epoch 00054: val_loss did not improve from 0.30255\n",
            "252/252 [==============================] - 87s 344ms/step - loss: 0.8898 - accuracy: 0.8065 - val_loss: 0.3203 - val_accuracy: 0.9643\n",
            "Epoch 55/150\n",
            "252/252 [==============================] - ETA: 0s - loss: 0.9086 - accuracy: 0.7901\n",
            "Epoch 00055: val_loss did not improve from 0.30255\n",
            "252/252 [==============================] - 86s 341ms/step - loss: 0.9086 - accuracy: 0.7901 - val_loss: 0.3110 - val_accuracy: 0.9643\n",
            "Epoch 56/150\n",
            "252/252 [==============================] - ETA: 0s - loss: 0.8744 - accuracy: 0.7965\n",
            "Epoch 00056: val_loss did not improve from 0.30255\n",
            "252/252 [==============================] - 86s 342ms/step - loss: 0.8744 - accuracy: 0.7965 - val_loss: 0.3660 - val_accuracy: 0.9643\n",
            "Epoch 57/150\n",
            "252/252 [==============================] - ETA: 0s - loss: 0.8394 - accuracy: 0.8104\n",
            "Epoch 00057: val_loss did not improve from 0.30255\n",
            "252/252 [==============================] - 87s 345ms/step - loss: 0.8394 - accuracy: 0.8104 - val_loss: 0.3170 - val_accuracy: 0.9821\n",
            "Epoch 58/150\n",
            "252/252 [==============================] - ETA: 0s - loss: 0.8846 - accuracy: 0.7980\n",
            "Epoch 00058: val_loss improved from 0.30255 to 0.28085, saving model to /content/drive/My Drive/1-piece/Colour_InceptionV3.h5\n",
            "252/252 [==============================] - 89s 354ms/step - loss: 0.8846 - accuracy: 0.7980 - val_loss: 0.2808 - val_accuracy: 0.9911\n",
            "Epoch 59/150\n",
            "252/252 [==============================] - ETA: 0s - loss: 0.8530 - accuracy: 0.7990\n",
            "Epoch 00059: val_loss improved from 0.28085 to 0.26804, saving model to /content/drive/My Drive/1-piece/Colour_InceptionV3.h5\n",
            "252/252 [==============================] - 90s 357ms/step - loss: 0.8530 - accuracy: 0.7990 - val_loss: 0.2680 - val_accuracy: 0.9911\n",
            "Epoch 60/150\n",
            "252/252 [==============================] - ETA: 0s - loss: 0.8338 - accuracy: 0.8094\n",
            "Epoch 00060: val_loss did not improve from 0.26804\n",
            "252/252 [==============================] - 88s 349ms/step - loss: 0.8338 - accuracy: 0.8094 - val_loss: 0.3163 - val_accuracy: 0.9554\n",
            "Epoch 61/150\n",
            "252/252 [==============================] - ETA: 0s - loss: 0.8300 - accuracy: 0.8154\n",
            "Epoch 00061: val_loss did not improve from 0.26804\n",
            "252/252 [==============================] - 87s 346ms/step - loss: 0.8300 - accuracy: 0.8154 - val_loss: 0.3313 - val_accuracy: 0.9732\n",
            "Epoch 62/150\n",
            "252/252 [==============================] - ETA: 0s - loss: 0.7763 - accuracy: 0.8174\n",
            "Epoch 00062: val_loss did not improve from 0.26804\n",
            "252/252 [==============================] - 86s 343ms/step - loss: 0.7763 - accuracy: 0.8174 - val_loss: 0.3447 - val_accuracy: 0.9464\n",
            "Epoch 63/150\n",
            "252/252 [==============================] - ETA: 0s - loss: 0.7913 - accuracy: 0.8194\n",
            "Epoch 00063: val_loss did not improve from 0.26804\n",
            "252/252 [==============================] - 87s 343ms/step - loss: 0.7913 - accuracy: 0.8194 - val_loss: 0.3436 - val_accuracy: 0.9732\n",
            "Epoch 64/150\n",
            "252/252 [==============================] - ETA: 0s - loss: 0.7769 - accuracy: 0.8362\n",
            "Epoch 00064: val_loss did not improve from 0.26804\n",
            "252/252 [==============================] - 87s 347ms/step - loss: 0.7769 - accuracy: 0.8362 - val_loss: 0.3078 - val_accuracy: 0.9643\n",
            "Epoch 65/150\n",
            "252/252 [==============================] - ETA: 0s - loss: 0.7918 - accuracy: 0.8218\n",
            "Epoch 00065: val_loss improved from 0.26804 to 0.25401, saving model to /content/drive/My Drive/1-piece/Colour_InceptionV3.h5\n",
            "252/252 [==============================] - 89s 353ms/step - loss: 0.7918 - accuracy: 0.8218 - val_loss: 0.2540 - val_accuracy: 0.9911\n",
            "Epoch 66/150\n",
            "252/252 [==============================] - ETA: 0s - loss: 0.7842 - accuracy: 0.8273\n",
            "Epoch 00066: val_loss did not improve from 0.25401\n",
            "252/252 [==============================] - 87s 344ms/step - loss: 0.7842 - accuracy: 0.8273 - val_loss: 0.2805 - val_accuracy: 0.9732\n",
            "Epoch 67/150\n",
            "252/252 [==============================] - ETA: 0s - loss: 0.8157 - accuracy: 0.8005\n",
            "Epoch 00067: val_loss improved from 0.25401 to 0.25358, saving model to /content/drive/My Drive/1-piece/Colour_InceptionV3.h5\n",
            "252/252 [==============================] - 90s 357ms/step - loss: 0.8157 - accuracy: 0.8005 - val_loss: 0.2536 - val_accuracy: 0.9911\n",
            "Epoch 68/150\n",
            "252/252 [==============================] - ETA: 0s - loss: 0.7646 - accuracy: 0.8263\n",
            "Epoch 00068: val_loss did not improve from 0.25358\n",
            "252/252 [==============================] - 87s 346ms/step - loss: 0.7646 - accuracy: 0.8263 - val_loss: 0.2957 - val_accuracy: 0.9643\n",
            "Epoch 69/150\n",
            "252/252 [==============================] - ETA: 0s - loss: 0.7788 - accuracy: 0.8169\n",
            "Epoch 00069: val_loss improved from 0.25358 to 0.24016, saving model to /content/drive/My Drive/1-piece/Colour_InceptionV3.h5\n",
            "252/252 [==============================] - 89s 353ms/step - loss: 0.7788 - accuracy: 0.8169 - val_loss: 0.2402 - val_accuracy: 0.9911\n",
            "Epoch 70/150\n",
            "252/252 [==============================] - ETA: 0s - loss: 0.7705 - accuracy: 0.8263\n",
            "Epoch 00070: val_loss did not improve from 0.24016\n",
            "252/252 [==============================] - 87s 346ms/step - loss: 0.7705 - accuracy: 0.8263 - val_loss: 0.3153 - val_accuracy: 0.9554\n",
            "Epoch 71/150\n",
            "252/252 [==============================] - ETA: 0s - loss: 0.7641 - accuracy: 0.8248\n",
            "Epoch 00071: val_loss did not improve from 0.24016\n",
            "252/252 [==============================] - 87s 345ms/step - loss: 0.7641 - accuracy: 0.8248 - val_loss: 0.3105 - val_accuracy: 0.9732\n",
            "Epoch 72/150\n",
            "252/252 [==============================] - ETA: 0s - loss: 0.7245 - accuracy: 0.8407\n",
            "Epoch 00072: val_loss did not improve from 0.24016\n",
            "252/252 [==============================] - 86s 340ms/step - loss: 0.7245 - accuracy: 0.8407 - val_loss: 0.2988 - val_accuracy: 0.9732\n",
            "Epoch 73/150\n",
            "252/252 [==============================] - ETA: 0s - loss: 0.7228 - accuracy: 0.8387\n",
            "Epoch 00073: val_loss did not improve from 0.24016\n",
            "252/252 [==============================] - 86s 342ms/step - loss: 0.7228 - accuracy: 0.8387 - val_loss: 0.2921 - val_accuracy: 0.9732\n",
            "Epoch 74/150\n",
            "252/252 [==============================] - ETA: 0s - loss: 0.7873 - accuracy: 0.8184\n",
            "Epoch 00074: val_loss did not improve from 0.24016\n",
            "252/252 [==============================] - 87s 347ms/step - loss: 0.7873 - accuracy: 0.8184 - val_loss: 0.2822 - val_accuracy: 0.9643\n",
            "Epoch 75/150\n",
            "252/252 [==============================] - ETA: 0s - loss: 0.7592 - accuracy: 0.8308\n",
            "Epoch 00075: val_loss did not improve from 0.24016\n",
            "252/252 [==============================] - 87s 344ms/step - loss: 0.7592 - accuracy: 0.8308 - val_loss: 0.2622 - val_accuracy: 0.9643\n",
            "Epoch 76/150\n",
            "252/252 [==============================] - ETA: 0s - loss: 0.7614 - accuracy: 0.8278\n",
            "Epoch 00076: val_loss did not improve from 0.24016\n",
            "252/252 [==============================] - 87s 345ms/step - loss: 0.7614 - accuracy: 0.8278 - val_loss: 0.3092 - val_accuracy: 0.9643\n",
            "Epoch 77/150\n",
            "252/252 [==============================] - ETA: 0s - loss: 0.7105 - accuracy: 0.8397\n",
            "Epoch 00077: val_loss did not improve from 0.24016\n",
            "252/252 [==============================] - 86s 342ms/step - loss: 0.7105 - accuracy: 0.8397 - val_loss: 0.3099 - val_accuracy: 0.9732\n",
            "Epoch 78/150\n",
            "252/252 [==============================] - ETA: 0s - loss: 0.6931 - accuracy: 0.8422\n",
            "Epoch 00078: val_loss improved from 0.24016 to 0.23864, saving model to /content/drive/My Drive/1-piece/Colour_InceptionV3.h5\n",
            "252/252 [==============================] - 90s 355ms/step - loss: 0.6931 - accuracy: 0.8422 - val_loss: 0.2386 - val_accuracy: 0.9732\n",
            "Epoch 79/150\n",
            "252/252 [==============================] - ETA: 0s - loss: 0.6963 - accuracy: 0.8442\n",
            "Epoch 00079: val_loss did not improve from 0.23864\n",
            "252/252 [==============================] - 87s 346ms/step - loss: 0.6963 - accuracy: 0.8442 - val_loss: 0.2482 - val_accuracy: 0.9821\n",
            "Epoch 80/150\n",
            "252/252 [==============================] - ETA: 0s - loss: 0.7087 - accuracy: 0.8397\n",
            "Epoch 00080: val_loss did not improve from 0.23864\n",
            "252/252 [==============================] - 87s 344ms/step - loss: 0.7087 - accuracy: 0.8397 - val_loss: 0.2715 - val_accuracy: 0.9643\n",
            "Epoch 81/150\n",
            "252/252 [==============================] - ETA: 0s - loss: 0.6735 - accuracy: 0.8521\n",
            "Epoch 00081: val_loss did not improve from 0.23864\n",
            "252/252 [==============================] - 88s 348ms/step - loss: 0.6735 - accuracy: 0.8521 - val_loss: 0.3065 - val_accuracy: 0.9643\n",
            "Epoch 82/150\n",
            "252/252 [==============================] - ETA: 0s - loss: 0.6752 - accuracy: 0.8392\n",
            "Epoch 00082: val_loss did not improve from 0.23864\n",
            "252/252 [==============================] - 87s 346ms/step - loss: 0.6752 - accuracy: 0.8392 - val_loss: 0.3104 - val_accuracy: 0.9732\n",
            "Epoch 83/150\n",
            "252/252 [==============================] - ETA: 0s - loss: 0.7020 - accuracy: 0.8352\n",
            "Epoch 00083: val_loss did not improve from 0.23864\n",
            "252/252 [==============================] - 87s 346ms/step - loss: 0.7020 - accuracy: 0.8352 - val_loss: 0.2585 - val_accuracy: 0.9821\n",
            "Epoch 84/150\n",
            "252/252 [==============================] - ETA: 0s - loss: 0.6787 - accuracy: 0.8457\n",
            "Epoch 00084: val_loss did not improve from 0.23864\n",
            "252/252 [==============================] - 87s 345ms/step - loss: 0.6787 - accuracy: 0.8457 - val_loss: 0.2695 - val_accuracy: 0.9821\n",
            "Epoch 85/150\n",
            "252/252 [==============================] - ETA: 0s - loss: 0.6742 - accuracy: 0.8526\n",
            "Epoch 00085: val_loss did not improve from 0.23864\n",
            "252/252 [==============================] - 88s 348ms/step - loss: 0.6742 - accuracy: 0.8526 - val_loss: 0.2792 - val_accuracy: 0.9821\n",
            "Epoch 86/150\n",
            "252/252 [==============================] - ETA: 0s - loss: 0.6838 - accuracy: 0.8457\n",
            "Epoch 00086: val_loss did not improve from 0.23864\n",
            "252/252 [==============================] - 87s 346ms/step - loss: 0.6838 - accuracy: 0.8457 - val_loss: 0.2466 - val_accuracy: 0.9732\n",
            "Epoch 87/150\n",
            "252/252 [==============================] - ETA: 0s - loss: 0.7544 - accuracy: 0.8278\n",
            "Epoch 00087: val_loss did not improve from 0.23864\n",
            "252/252 [==============================] - 87s 344ms/step - loss: 0.7544 - accuracy: 0.8278 - val_loss: 0.2454 - val_accuracy: 0.9732\n",
            "Epoch 88/150\n",
            "252/252 [==============================] - ETA: 0s - loss: 0.6677 - accuracy: 0.8427\n",
            "Epoch 00088: val_loss did not improve from 0.23864\n",
            "252/252 [==============================] - 86s 342ms/step - loss: 0.6677 - accuracy: 0.8427 - val_loss: 0.2635 - val_accuracy: 0.9821\n",
            "Epoch 89/150\n",
            "252/252 [==============================] - ETA: 0s - loss: 0.6718 - accuracy: 0.8447\n",
            "Epoch 00089: val_loss did not improve from 0.23864\n",
            "252/252 [==============================] - 87s 345ms/step - loss: 0.6718 - accuracy: 0.8447 - val_loss: 0.2879 - val_accuracy: 0.9554\n",
            "Epoch 90/150\n",
            "252/252 [==============================] - ETA: 0s - loss: 0.6632 - accuracy: 0.8521\n",
            "Epoch 00090: val_loss did not improve from 0.23864\n",
            "252/252 [==============================] - 87s 345ms/step - loss: 0.6632 - accuracy: 0.8521 - val_loss: 0.2651 - val_accuracy: 0.9732\n",
            "Epoch 91/150\n",
            "252/252 [==============================] - ETA: 0s - loss: 0.6655 - accuracy: 0.8476\n",
            "Epoch 00091: val_loss did not improve from 0.23864\n",
            "252/252 [==============================] - 86s 342ms/step - loss: 0.6655 - accuracy: 0.8476 - val_loss: 0.3471 - val_accuracy: 0.9554\n",
            "Epoch 92/150\n",
            "252/252 [==============================] - ETA: 0s - loss: 0.6514 - accuracy: 0.8571\n",
            "Epoch 00092: val_loss did not improve from 0.23864\n",
            "252/252 [==============================] - 87s 344ms/step - loss: 0.6514 - accuracy: 0.8571 - val_loss: 0.2573 - val_accuracy: 0.9732\n",
            "Epoch 93/150\n",
            "252/252 [==============================] - ETA: 0s - loss: 0.6420 - accuracy: 0.8536\n",
            "Epoch 00093: val_loss improved from 0.23864 to 0.22990, saving model to /content/drive/My Drive/1-piece/Colour_InceptionV3.h5\n",
            "252/252 [==============================] - 89s 353ms/step - loss: 0.6420 - accuracy: 0.8536 - val_loss: 0.2299 - val_accuracy: 0.9911\n",
            "Epoch 94/150\n",
            "252/252 [==============================] - ETA: 0s - loss: 0.6883 - accuracy: 0.8591\n",
            "Epoch 00094: val_loss did not improve from 0.22990\n",
            "252/252 [==============================] - 87s 347ms/step - loss: 0.6883 - accuracy: 0.8591 - val_loss: 0.2418 - val_accuracy: 0.9821\n",
            "Epoch 95/150\n",
            "252/252 [==============================] - ETA: 0s - loss: 0.6610 - accuracy: 0.8526\n",
            "Epoch 00095: val_loss improved from 0.22990 to 0.19902, saving model to /content/drive/My Drive/1-piece/Colour_InceptionV3.h5\n",
            "252/252 [==============================] - 90s 356ms/step - loss: 0.6610 - accuracy: 0.8526 - val_loss: 0.1990 - val_accuracy: 0.9911\n",
            "Epoch 96/150\n",
            "252/252 [==============================] - ETA: 0s - loss: 0.6427 - accuracy: 0.8481\n",
            "Epoch 00096: val_loss did not improve from 0.19902\n",
            "252/252 [==============================] - 88s 349ms/step - loss: 0.6427 - accuracy: 0.8481 - val_loss: 0.2896 - val_accuracy: 0.9732\n",
            "Epoch 97/150\n",
            "252/252 [==============================] - ETA: 0s - loss: 0.6051 - accuracy: 0.8725\n",
            "Epoch 00097: val_loss did not improve from 0.19902\n",
            "252/252 [==============================] - 87s 345ms/step - loss: 0.6051 - accuracy: 0.8725 - val_loss: 0.3360 - val_accuracy: 0.9464\n",
            "Epoch 98/150\n",
            "252/252 [==============================] - ETA: 0s - loss: 0.6316 - accuracy: 0.8531\n",
            "Epoch 00098: val_loss did not improve from 0.19902\n",
            "252/252 [==============================] - 86s 340ms/step - loss: 0.6316 - accuracy: 0.8531 - val_loss: 0.3038 - val_accuracy: 0.9821\n",
            "Epoch 99/150\n",
            "252/252 [==============================] - ETA: 0s - loss: 0.6472 - accuracy: 0.8491\n",
            "Epoch 00099: val_loss did not improve from 0.19902\n",
            "252/252 [==============================] - 87s 343ms/step - loss: 0.6472 - accuracy: 0.8491 - val_loss: 0.2640 - val_accuracy: 0.9643\n",
            "Epoch 100/150\n",
            "252/252 [==============================] - ETA: 0s - loss: 0.5937 - accuracy: 0.8635\n",
            "Epoch 00100: val_loss did not improve from 0.19902\n",
            "252/252 [==============================] - 85s 339ms/step - loss: 0.5937 - accuracy: 0.8635 - val_loss: 0.2616 - val_accuracy: 0.9732\n",
            "Epoch 101/150\n",
            "252/252 [==============================] - ETA: 0s - loss: 0.6076 - accuracy: 0.8610\n",
            "Epoch 00101: val_loss did not improve from 0.19902\n",
            "252/252 [==============================] - 85s 339ms/step - loss: 0.6076 - accuracy: 0.8610 - val_loss: 0.2263 - val_accuracy: 0.9643\n",
            "Epoch 102/150\n",
            "252/252 [==============================] - ETA: 0s - loss: 0.5921 - accuracy: 0.8715\n",
            "Epoch 00102: val_loss did not improve from 0.19902\n",
            "252/252 [==============================] - 86s 340ms/step - loss: 0.5921 - accuracy: 0.8715 - val_loss: 0.2090 - val_accuracy: 0.9821\n",
            "Epoch 103/150\n",
            "252/252 [==============================] - ETA: 0s - loss: 0.6130 - accuracy: 0.8576\n",
            "Epoch 00103: val_loss improved from 0.19902 to 0.18651, saving model to /content/drive/My Drive/1-piece/Colour_InceptionV3.h5\n",
            "252/252 [==============================] - 89s 353ms/step - loss: 0.6130 - accuracy: 0.8576 - val_loss: 0.1865 - val_accuracy: 1.0000\n",
            "Epoch 104/150\n",
            "252/252 [==============================] - ETA: 0s - loss: 0.6115 - accuracy: 0.8591\n",
            "Epoch 00104: val_loss did not improve from 0.18651\n",
            "252/252 [==============================] - 86s 343ms/step - loss: 0.6115 - accuracy: 0.8591 - val_loss: 0.2107 - val_accuracy: 0.9732\n",
            "Epoch 105/150\n",
            "252/252 [==============================] - ETA: 0s - loss: 0.6249 - accuracy: 0.8591\n",
            "Epoch 00105: val_loss did not improve from 0.18651\n",
            "252/252 [==============================] - 86s 340ms/step - loss: 0.6249 - accuracy: 0.8591 - val_loss: 0.2665 - val_accuracy: 0.9821\n",
            "Epoch 106/150\n",
            "252/252 [==============================] - ETA: 0s - loss: 0.5991 - accuracy: 0.8680\n",
            "Epoch 00106: val_loss did not improve from 0.18651\n",
            "252/252 [==============================] - 86s 343ms/step - loss: 0.5991 - accuracy: 0.8680 - val_loss: 0.2333 - val_accuracy: 0.9732\n",
            "Epoch 107/150\n",
            "252/252 [==============================] - ETA: 0s - loss: 0.5960 - accuracy: 0.8690\n",
            "Epoch 00107: val_loss did not improve from 0.18651\n",
            "252/252 [==============================] - 86s 343ms/step - loss: 0.5960 - accuracy: 0.8690 - val_loss: 0.2392 - val_accuracy: 0.9821\n",
            "Epoch 108/150\n",
            "252/252 [==============================] - ETA: 0s - loss: 0.5944 - accuracy: 0.8710\n",
            "Epoch 00108: val_loss did not improve from 0.18651\n",
            "252/252 [==============================] - 86s 342ms/step - loss: 0.5944 - accuracy: 0.8710 - val_loss: 0.2005 - val_accuracy: 0.9911\n",
            "Epoch 109/150\n",
            "252/252 [==============================] - ETA: 0s - loss: 0.5707 - accuracy: 0.8710\n",
            "Epoch 00109: val_loss did not improve from 0.18651\n",
            "252/252 [==============================] - 87s 344ms/step - loss: 0.5707 - accuracy: 0.8710 - val_loss: 0.2521 - val_accuracy: 0.9821\n",
            "Epoch 110/150\n",
            "252/252 [==============================] - ETA: 0s - loss: 0.5994 - accuracy: 0.8620\n",
            "Epoch 00110: val_loss did not improve from 0.18651\n",
            "252/252 [==============================] - 87s 346ms/step - loss: 0.5994 - accuracy: 0.8620 - val_loss: 0.2765 - val_accuracy: 0.9643\n",
            "Epoch 111/150\n",
            "252/252 [==============================] - ETA: 0s - loss: 0.5823 - accuracy: 0.8705\n",
            "Epoch 00111: val_loss did not improve from 0.18651\n",
            "252/252 [==============================] - 87s 345ms/step - loss: 0.5823 - accuracy: 0.8705 - val_loss: 0.1957 - val_accuracy: 0.9821\n",
            "Epoch 112/150\n",
            "252/252 [==============================] - ETA: 0s - loss: 0.5527 - accuracy: 0.8769\n",
            "Epoch 00112: val_loss did not improve from 0.18651\n",
            "252/252 [==============================] - 86s 343ms/step - loss: 0.5527 - accuracy: 0.8769 - val_loss: 0.2025 - val_accuracy: 0.9911\n",
            "Epoch 113/150\n",
            "252/252 [==============================] - ETA: 0s - loss: 0.5859 - accuracy: 0.8680\n",
            "Epoch 00113: val_loss did not improve from 0.18651\n",
            "252/252 [==============================] - 86s 342ms/step - loss: 0.5859 - accuracy: 0.8680 - val_loss: 0.2261 - val_accuracy: 0.9732\n",
            "Epoch 114/150\n",
            "252/252 [==============================] - ETA: 0s - loss: 0.6081 - accuracy: 0.8650\n",
            "Epoch 00114: val_loss improved from 0.18651 to 0.18115, saving model to /content/drive/My Drive/1-piece/Colour_InceptionV3.h5\n",
            "252/252 [==============================] - 89s 354ms/step - loss: 0.6081 - accuracy: 0.8650 - val_loss: 0.1811 - val_accuracy: 1.0000\n",
            "Epoch 115/150\n",
            "252/252 [==============================] - ETA: 0s - loss: 0.5738 - accuracy: 0.8730\n",
            "Epoch 00115: val_loss did not improve from 0.18115\n",
            "252/252 [==============================] - 90s 356ms/step - loss: 0.5738 - accuracy: 0.8730 - val_loss: 0.2417 - val_accuracy: 0.9821\n",
            "Epoch 116/150\n",
            "252/252 [==============================] - ETA: 0s - loss: 0.5461 - accuracy: 0.8834\n",
            "Epoch 00116: val_loss did not improve from 0.18115\n",
            "252/252 [==============================] - 87s 346ms/step - loss: 0.5461 - accuracy: 0.8834 - val_loss: 0.1957 - val_accuracy: 0.9911\n",
            "Epoch 117/150\n",
            "252/252 [==============================] - ETA: 0s - loss: 0.5731 - accuracy: 0.8695\n",
            "Epoch 00117: val_loss did not improve from 0.18115\n",
            "252/252 [==============================] - 87s 347ms/step - loss: 0.5731 - accuracy: 0.8695 - val_loss: 0.2592 - val_accuracy: 0.9821\n",
            "Epoch 118/150\n",
            "252/252 [==============================] - ETA: 0s - loss: 0.5331 - accuracy: 0.8864\n",
            "Epoch 00118: val_loss did not improve from 0.18115\n",
            "252/252 [==============================] - 87s 344ms/step - loss: 0.5331 - accuracy: 0.8864 - val_loss: 0.1903 - val_accuracy: 0.9911\n",
            "Epoch 119/150\n",
            "252/252 [==============================] - ETA: 0s - loss: 0.5826 - accuracy: 0.8759\n",
            "Epoch 00119: val_loss did not improve from 0.18115\n",
            "252/252 [==============================] - 87s 345ms/step - loss: 0.5826 - accuracy: 0.8759 - val_loss: 0.2047 - val_accuracy: 0.9911\n",
            "Epoch 120/150\n",
            "252/252 [==============================] - ETA: 0s - loss: 0.5354 - accuracy: 0.8859\n",
            "Epoch 00120: val_loss did not improve from 0.18115\n",
            "252/252 [==============================] - 87s 345ms/step - loss: 0.5354 - accuracy: 0.8859 - val_loss: 0.2654 - val_accuracy: 0.9732\n",
            "Epoch 121/150\n",
            "252/252 [==============================] - ETA: 0s - loss: 0.5281 - accuracy: 0.8804\n",
            "Epoch 00121: val_loss did not improve from 0.18115\n",
            "252/252 [==============================] - 87s 344ms/step - loss: 0.5281 - accuracy: 0.8804 - val_loss: 0.2108 - val_accuracy: 0.9821\n",
            "Epoch 122/150\n",
            "252/252 [==============================] - ETA: 0s - loss: 0.5434 - accuracy: 0.8734\n",
            "Epoch 00122: val_loss did not improve from 0.18115\n",
            "252/252 [==============================] - 86s 343ms/step - loss: 0.5434 - accuracy: 0.8734 - val_loss: 0.1820 - val_accuracy: 0.9911\n",
            "Epoch 123/150\n",
            "252/252 [==============================] - ETA: 0s - loss: 0.5421 - accuracy: 0.8814\n",
            "Epoch 00123: val_loss did not improve from 0.18115\n",
            "252/252 [==============================] - 88s 349ms/step - loss: 0.5421 - accuracy: 0.8814 - val_loss: 0.2300 - val_accuracy: 0.9821\n",
            "Epoch 124/150\n",
            "252/252 [==============================] - ETA: 0s - loss: 0.5368 - accuracy: 0.8804\n",
            "Epoch 00124: val_loss improved from 0.18115 to 0.17134, saving model to /content/drive/My Drive/1-piece/Colour_InceptionV3.h5\n",
            "252/252 [==============================] - 90s 357ms/step - loss: 0.5368 - accuracy: 0.8804 - val_loss: 0.1713 - val_accuracy: 1.0000\n",
            "Epoch 125/150\n",
            "252/252 [==============================] - ETA: 0s - loss: 0.5317 - accuracy: 0.8908\n",
            "Epoch 00125: val_loss did not improve from 0.17134\n",
            "252/252 [==============================] - 88s 347ms/step - loss: 0.5317 - accuracy: 0.8908 - val_loss: 0.1805 - val_accuracy: 0.9911\n",
            "Epoch 126/150\n",
            "252/252 [==============================] - ETA: 0s - loss: 0.5417 - accuracy: 0.8799\n",
            "Epoch 00126: val_loss did not improve from 0.17134\n",
            "252/252 [==============================] - 88s 350ms/step - loss: 0.5417 - accuracy: 0.8799 - val_loss: 0.2438 - val_accuracy: 0.9732\n",
            "Epoch 127/150\n",
            "252/252 [==============================] - ETA: 0s - loss: 0.5186 - accuracy: 0.8888\n",
            "Epoch 00127: val_loss did not improve from 0.17134\n",
            "252/252 [==============================] - 87s 344ms/step - loss: 0.5186 - accuracy: 0.8888 - val_loss: 0.1973 - val_accuracy: 0.9732\n",
            "Epoch 128/150\n",
            "252/252 [==============================] - ETA: 0s - loss: 0.5378 - accuracy: 0.8779\n",
            "Epoch 00128: val_loss improved from 0.17134 to 0.17051, saving model to /content/drive/My Drive/1-piece/Colour_InceptionV3.h5\n",
            "252/252 [==============================] - 88s 351ms/step - loss: 0.5378 - accuracy: 0.8779 - val_loss: 0.1705 - val_accuracy: 1.0000\n",
            "Epoch 129/150\n",
            "252/252 [==============================] - ETA: 0s - loss: 0.5323 - accuracy: 0.8854\n",
            "Epoch 00129: val_loss did not improve from 0.17051\n",
            "252/252 [==============================] - 88s 348ms/step - loss: 0.5323 - accuracy: 0.8854 - val_loss: 0.1862 - val_accuracy: 0.9911\n",
            "Epoch 130/150\n",
            "252/252 [==============================] - ETA: 0s - loss: 0.4932 - accuracy: 0.8948\n",
            "Epoch 00130: val_loss did not improve from 0.17051\n",
            "252/252 [==============================] - 87s 346ms/step - loss: 0.4932 - accuracy: 0.8948 - val_loss: 0.1711 - val_accuracy: 0.9821\n",
            "Epoch 131/150\n",
            "252/252 [==============================] - ETA: 0s - loss: 0.5311 - accuracy: 0.8814\n",
            "Epoch 00131: val_loss did not improve from 0.17051\n",
            "252/252 [==============================] - 87s 344ms/step - loss: 0.5311 - accuracy: 0.8814 - val_loss: 0.2061 - val_accuracy: 0.9821\n",
            "Epoch 132/150\n",
            "252/252 [==============================] - ETA: 0s - loss: 0.5431 - accuracy: 0.8779\n",
            "Epoch 00132: val_loss did not improve from 0.17051\n",
            "252/252 [==============================] - 86s 341ms/step - loss: 0.5431 - accuracy: 0.8779 - val_loss: 0.1900 - val_accuracy: 0.9911\n",
            "Epoch 133/150\n",
            "252/252 [==============================] - ETA: 0s - loss: 0.4879 - accuracy: 0.8913\n",
            "Epoch 00133: val_loss did not improve from 0.17051\n",
            "252/252 [==============================] - 86s 341ms/step - loss: 0.4879 - accuracy: 0.8913 - val_loss: 0.2335 - val_accuracy: 0.9732\n",
            "Epoch 134/150\n",
            "252/252 [==============================] - ETA: 0s - loss: 0.5098 - accuracy: 0.8898\n",
            "Epoch 00134: val_loss improved from 0.17051 to 0.16281, saving model to /content/drive/My Drive/1-piece/Colour_InceptionV3.h5\n",
            "252/252 [==============================] - 89s 351ms/step - loss: 0.5098 - accuracy: 0.8898 - val_loss: 0.1628 - val_accuracy: 0.9911\n",
            "Epoch 135/150\n",
            "252/252 [==============================] - ETA: 0s - loss: 0.5321 - accuracy: 0.8779\n",
            "Epoch 00135: val_loss did not improve from 0.16281\n",
            "252/252 [==============================] - 88s 349ms/step - loss: 0.5321 - accuracy: 0.8779 - val_loss: 0.2519 - val_accuracy: 0.9732\n",
            "Epoch 136/150\n",
            "252/252 [==============================] - ETA: 0s - loss: 0.5317 - accuracy: 0.8759\n",
            "Epoch 00136: val_loss did not improve from 0.16281\n",
            "252/252 [==============================] - 87s 344ms/step - loss: 0.5317 - accuracy: 0.8759 - val_loss: 0.1750 - val_accuracy: 0.9911\n",
            "Epoch 137/150\n",
            "252/252 [==============================] - ETA: 0s - loss: 0.5438 - accuracy: 0.8754\n",
            "Epoch 00137: val_loss did not improve from 0.16281\n",
            "252/252 [==============================] - 87s 345ms/step - loss: 0.5438 - accuracy: 0.8754 - val_loss: 0.1654 - val_accuracy: 1.0000\n",
            "Epoch 138/150\n",
            "252/252 [==============================] - ETA: 0s - loss: 0.5725 - accuracy: 0.8774\n",
            "Epoch 00138: val_loss did not improve from 0.16281\n",
            "252/252 [==============================] - 87s 347ms/step - loss: 0.5725 - accuracy: 0.8774 - val_loss: 0.2085 - val_accuracy: 0.9821\n",
            "Epoch 139/150\n",
            "252/252 [==============================] - ETA: 0s - loss: 0.5051 - accuracy: 0.8913\n",
            "Epoch 00139: val_loss did not improve from 0.16281\n",
            "252/252 [==============================] - 87s 346ms/step - loss: 0.5051 - accuracy: 0.8913 - val_loss: 0.1980 - val_accuracy: 0.9732\n",
            "Epoch 140/150\n",
            "252/252 [==============================] - ETA: 0s - loss: 0.5269 - accuracy: 0.8829\n",
            "Epoch 00140: val_loss did not improve from 0.16281\n",
            "252/252 [==============================] - 86s 341ms/step - loss: 0.5269 - accuracy: 0.8829 - val_loss: 0.1708 - val_accuracy: 0.9911\n",
            "Epoch 141/150\n",
            "252/252 [==============================] - ETA: 0s - loss: 0.4899 - accuracy: 0.8998\n",
            "Epoch 00141: val_loss did not improve from 0.16281\n",
            "252/252 [==============================] - 86s 341ms/step - loss: 0.4899 - accuracy: 0.8998 - val_loss: 0.2200 - val_accuracy: 0.9732\n",
            "Epoch 142/150\n",
            "252/252 [==============================] - ETA: 0s - loss: 0.4882 - accuracy: 0.8908\n",
            "Epoch 00142: val_loss did not improve from 0.16281\n",
            "252/252 [==============================] - 86s 340ms/step - loss: 0.4882 - accuracy: 0.8908 - val_loss: 0.1677 - val_accuracy: 0.9911\n",
            "Epoch 143/150\n",
            "252/252 [==============================] - ETA: 0s - loss: 0.5109 - accuracy: 0.8834\n",
            "Epoch 00143: val_loss did not improve from 0.16281\n",
            "252/252 [==============================] - 85s 338ms/step - loss: 0.5109 - accuracy: 0.8834 - val_loss: 0.1775 - val_accuracy: 1.0000\n",
            "Epoch 144/150\n",
            "252/252 [==============================] - ETA: 0s - loss: 0.4989 - accuracy: 0.8968\n",
            "Epoch 00144: val_loss did not improve from 0.16281\n",
            "252/252 [==============================] - 85s 338ms/step - loss: 0.4989 - accuracy: 0.8968 - val_loss: 0.1870 - val_accuracy: 0.9821\n",
            "Epoch 145/150\n",
            "252/252 [==============================] - ETA: 0s - loss: 0.5099 - accuracy: 0.8883\n",
            "Epoch 00145: val_loss did not improve from 0.16281\n",
            "252/252 [==============================] - 85s 338ms/step - loss: 0.5099 - accuracy: 0.8883 - val_loss: 0.1781 - val_accuracy: 0.9911\n",
            "Epoch 146/150\n",
            "252/252 [==============================] - ETA: 0s - loss: 0.4335 - accuracy: 0.9097\n",
            "Epoch 00146: val_loss did not improve from 0.16281\n",
            "252/252 [==============================] - 85s 337ms/step - loss: 0.4335 - accuracy: 0.9097 - val_loss: 0.2063 - val_accuracy: 0.9821\n",
            "Epoch 147/150\n",
            "252/252 [==============================] - ETA: 0s - loss: 0.5106 - accuracy: 0.8734\n",
            "Epoch 00147: val_loss did not improve from 0.16281\n",
            "252/252 [==============================] - 85s 336ms/step - loss: 0.5106 - accuracy: 0.8734 - val_loss: 0.1823 - val_accuracy: 0.9911\n",
            "Epoch 148/150\n",
            "252/252 [==============================] - ETA: 0s - loss: 0.4883 - accuracy: 0.8878\n",
            "Epoch 00148: val_loss did not improve from 0.16281\n",
            "252/252 [==============================] - 85s 336ms/step - loss: 0.4883 - accuracy: 0.8878 - val_loss: 0.1992 - val_accuracy: 0.9821\n",
            "Epoch 149/150\n",
            "252/252 [==============================] - ETA: 0s - loss: 0.5026 - accuracy: 0.8849\n",
            "Epoch 00149: val_loss did not improve from 0.16281\n",
            "252/252 [==============================] - 85s 337ms/step - loss: 0.5026 - accuracy: 0.8849 - val_loss: 0.1761 - val_accuracy: 0.9911\n",
            "Epoch 150/150\n",
            "252/252 [==============================] - ETA: 0s - loss: 0.4851 - accuracy: 0.8983\n",
            "Epoch 00150: val_loss did not improve from 0.16281\n",
            "252/252 [==============================] - 85s 335ms/step - loss: 0.4851 - accuracy: 0.8983 - val_loss: 0.1730 - val_accuracy: 0.9821\n"
          ],
          "name": "stdout"
        }
      ]
    },
    {
      "cell_type": "code",
      "metadata": {
        "id": "SZD3o1_jNFdU",
        "colab_type": "code",
        "colab": {
          "base_uri": "https://localhost:8080/",
          "height": 295
        },
        "outputId": "a233606b-578a-4b8b-dbbb-293046e3e56d"
      },
      "source": [
        "import matplotlib.pyplot as plt\n",
        "plt.plot(hist.history[\"accuracy\"])\n",
        "plt.plot(hist.history['val_accuracy'])\n",
        "plt.title(\"model accuracy\")\n",
        "plt.ylabel(\"Accuracy\")\n",
        "plt.xlabel(\"Epoch\")\n",
        "plt.legend([\"Accuracy\",\"Validation Accuracy\"])\n",
        "plt.show()"
      ],
      "execution_count": null,
      "outputs": [
        {
          "output_type": "display_data",
          "data": {
            "image/png": "[encoded data removed]",
            "text/plain": [
              "<Figure size 432x288 with 1 Axes>"
            ]
          },
          "metadata": {
            "tags": [],
            "needs_background": "light"
          }
        }
      ]
    },
    {
      "cell_type": "code",
      "metadata": {
        "id": "pIX7hNiiNKiC",
        "colab_type": "code",
        "colab": {
          "base_uri": "https://localhost:8080/",
          "height": 295
        },
        "outputId": "a3463f6b-cb51-4393-cf7d-e724cbf6b7fd"
      },
      "source": [
        "plt.plot(hist.history['loss'])\n",
        "plt.plot(hist.history['val_loss'])\n",
        "plt.title(\"model Loss\")\n",
        "plt.ylabel(\"Loss\")\n",
        "plt.xlabel(\"Epoch\")\n",
        "plt.legend([\"Loss\",\"Validation Loss\"])\n",
        "plt.show()"
      ],
      "execution_count": null,
      "outputs": [
        {
          "output_type": "display_data",
          "data": {
            "image/png": "[encoded data removed]",
            "text/plain": [
              "<Figure size 432x288 with 1 Axes>"
            ]
          },
          "metadata": {
            "tags": [],
            "needs_background": "light"
          }
        }
      ]
    },
    {
      "cell_type": "code",
      "metadata": {
        "id": "Ty3i6zFRNMNS",
        "colab_type": "code",
        "colab": {
          "base_uri": "https://localhost:8080/",
          "height": 34
        },
        "outputId": "d33d1adc-ab74-4d47-f19a-08e07c493d0e"
      },
      "source": [
        "Colour_TestData = TestGenerator.flow_from_directory('/content/drive/My Drive/1-piece/Test/', target_size=(224,224), batch_size = 8, shuffle = False)"
      ],
      "execution_count": null,
      "outputs": [
        {
          "output_type": "stream",
          "text": [
            "Found 112 images belonging to 112 classes.\n"
          ],
          "name": "stdout"
        }
      ]
    },
    {
      "cell_type": "code",
      "metadata": {
        "id": "Nq_iPyotOgaL",
        "colab_type": "code",
        "colab": {}
      },
      "source": [
        "Colour_predict = colour_model.predict(Colour_TestData)"
      ],
      "execution_count": null,
      "outputs": []
    },
    {
      "cell_type": "code",
      "metadata": {
        "id": "TsPBSBl8OndK",
        "colab_type": "code",
        "colab": {}
      },
      "source": [
        "Colour_predict_classes = np.argmax(Colour_predict, axis=1)"
      ],
      "execution_count": null,
      "outputs": []
    },
    {
      "cell_type": "code",
      "metadata": {
        "id": "Rvyl2C1yOqD_",
        "colab_type": "code",
        "colab": {
          "base_uri": "https://localhost:8080/",
          "height": 170
        },
        "outputId": "aaa4ad46-b3ac-4a64-85f8-253b8aba0180"
      },
      "source": [
        "Colour_predict_classes"
      ],
      "execution_count": null,
      "outputs": [
        {
          "output_type": "execute_result",
          "data": {
            "text/plain": [
              "array([  0,   1,  15,   3,   4,   5,   6,   7,   6,   9,  10,  11,  12,\n",
              "        14,  14,  15,  16,  23,  19,  19,  20,  21,  13,  23,  24,  25,\n",
              "        26,  27,  28,  27,  30,  31,  32,  33,  34,  35,  36,  37,  38,\n",
              "        39,  40,  41,  42,  43,  44,  51,  46,  47,  47,  49,  50,  51,\n",
              "        52,  53,  54,  55,  56,  57,  58,  59,  60,  61,  51,  63,  64,\n",
              "        67,  66,  67,  68,  69,   1,  71,  98,  73,  74,  98,  76,  77,\n",
              "       108,  79,  80,  81,  82,  83,  84,  85,  86,  87,  88,  89,  90,\n",
              "        91,  93,  93,  94,  95,  96,  97,  98,  99, 100, 101, 102,  52,\n",
              "       104, 105, 106, 107, 108, 109, 110, 111])"
            ]
          },
          "metadata": {
            "tags": []
          },
          "execution_count": 52
        }
      ]
    },
    {
      "cell_type": "code",
      "metadata": {
        "id": "meFyvYOrOr9L",
        "colab_type": "code",
        "colab": {
          "base_uri": "https://localhost:8080/",
          "height": 34
        },
        "outputId": "feb5725a-5971-409b-c870-08624978ea25"
      },
      "source": [
        "Colour_accuracy = accuracy_score(Colour_TestData.classes, Colour_predict_classes)\n",
        "print(\"Colour Accuracy: \", Colour_accuracy)"
      ],
      "execution_count": null,
      "outputs": [
        {
          "output_type": "stream",
          "text": [
            "Colour Accuracy:  0.8482142857142857\n"
          ],
          "name": "stdout"
        }
      ]
    },
    {
      "cell_type": "code",
      "metadata": {
        "id": "V-4hFVOkPpsd",
        "colab_type": "code",
        "colab": {
          "base_uri": "https://localhost:8080/",
          "height": 88
        },
        "outputId": "05606ce9-a5d6-4078-f7ec-b11b73c392c2"
      },
      "source": [
        "Colour_precision = precision_score(Colour_TestData.classes, Colour_predict_classes,average=\"weighted\")\n",
        "print(\"Colour Precision: \", Colour_precision)"
      ],
      "execution_count": null,
      "outputs": [
        {
          "output_type": "stream",
          "text": [
            "Colour Precision:  0.7827380952380951\n"
          ],
          "name": "stdout"
        },
        {
          "output_type": "stream",
          "text": [
            "/usr/local/lib/python3.6/dist-packages/sklearn/metrics/_classification.py:1272: UndefinedMetricWarning: Precision is ill-defined and being set to 0.0 in labels with no predicted samples. Use `zero_division` parameter to control this behavior.\n",
            "  _warn_prf(average, modifier, msg_start, len(result))\n"
          ],
          "name": "stderr"
        }
      ]
    },
    {
      "cell_type": "code",
      "metadata": {
        "id": "VkgJCVPqPu3t",
        "colab_type": "code",
        "colab": {
          "base_uri": "https://localhost:8080/",
          "height": 34
        },
        "outputId": "30af508b-641c-496f-96fd-515be5f1ee6d"
      },
      "source": [
        "Colour_recall = recall_score(Colour_TestData.classes, Colour_predict_classes, average=\"weighted\")\n",
        "print(\"Colour Recall:\", Colour_recall)"
      ],
      "execution_count": null,
      "outputs": [
        {
          "output_type": "stream",
          "text": [
            "Colour Recall: 0.8482142857142857\n"
          ],
          "name": "stdout"
        }
      ]
    },
    {
      "cell_type": "code",
      "metadata": {
        "id": "sGzTOJ5VPydq",
        "colab_type": "code",
        "colab": {
          "base_uri": "https://localhost:8080/",
          "height": 34
        },
        "outputId": "042bbfbb-3be1-45be-8528-769345bd8ef0"
      },
      "source": [
        "Colour_f1_score = f1_score(Colour_TestData.classes, Colour_predict_classes, average=\"weighted\")\n",
        "print(\"F1 score for colour: \", Colour_f1_score)"
      ],
      "execution_count": null,
      "outputs": [
        {
          "output_type": "stream",
          "text": [
            "F1 score for colour:  0.8035714285714286\n"
          ],
          "name": "stdout"
        }
      ]
    },
    {
      "cell_type": "markdown",
      "metadata": {
        "id": "A3QNKcw2P5wD",
        "colab_type": "text"
      },
      "source": [
        "**Emsemble**"
      ]
    },
    {
      "cell_type": "code",
      "metadata": {
        "id": "01-hknWtP-OV",
        "colab_type": "code",
        "colab": {}
      },
      "source": [
        "Final = 0.6* Colour_predict + 0.4* Grey_predict"
      ],
      "execution_count": null,
      "outputs": []
    },
    {
      "cell_type": "code",
      "metadata": {
        "id": "CnzKZmW8QB1Y",
        "colab_type": "code",
        "colab": {}
      },
      "source": [
        "Final_Predict_classes = np.argmax(Final, axis=1)"
      ],
      "execution_count": null,
      "outputs": []
    },
    {
      "cell_type": "code",
      "metadata": {
        "id": "ez9pZ_95QFPT",
        "colab_type": "code",
        "colab": {
          "base_uri": "https://localhost:8080/",
          "height": 170
        },
        "outputId": "9c3d27e9-63ad-4c86-9cdc-7eb07d22f3bb"
      },
      "source": [
        "Final_Predict_classes"
      ],
      "execution_count": null,
      "outputs": [
        {
          "output_type": "execute_result",
          "data": {
            "text/plain": [
              "array([  0,   1,  15,   3,   4,   5,   6,   7,   6,   9,  10,  11,  12,\n",
              "        14,  14,  15,  16,  17,  19,  19,  20,  21,  22,  23,  24,  25,\n",
              "        26,  27,  28,  27,  30,  31,  32,  33,  34,  35,  36,  37,  38,\n",
              "        39,  40,  41,  42,  43,  44,  45,  46,  47,  48,  49,  50,  51,\n",
              "        52,  53,  54,  55,  56,  57,  58,  59,  60,  61,  51,  63,  64,\n",
              "        67,  66,  67,  68,  69,  70,  71,  98,  73,  74,  98,  76,  77,\n",
              "        78,  79,  80,  81,  82,  83,  84,  85,  86,  87,  88,  89,  90,\n",
              "        91,  93,  93,  94,  95,  96,  97,  98,  99, 100, 101, 102, 103,\n",
              "       104, 105, 106, 107, 108, 109, 110, 111])"
            ]
          },
          "metadata": {
            "tags": []
          },
          "execution_count": 59
        }
      ]
    },
    {
      "cell_type": "code",
      "metadata": {
        "id": "uIIiaLeAQHCz",
        "colab_type": "code",
        "colab": {
          "base_uri": "https://localhost:8080/",
          "height": 34
        },
        "outputId": "1ebeadcb-9b16-452f-bfd1-4201f041d943"
      },
      "source": [
        "Final_accuracy = accuracy_score(Colour_TestData.classes, Final_Predict_classes)\n",
        "print(\"Colour Accuracy: \", Final_accuracy)"
      ],
      "execution_count": null,
      "outputs": [
        {
          "output_type": "stream",
          "text": [
            "Colour Accuracy:  0.9107142857142857\n"
          ],
          "name": "stdout"
        }
      ]
    },
    {
      "cell_type": "code",
      "metadata": {
        "id": "0xWh0QU4QKfi",
        "colab_type": "code",
        "colab": {
          "base_uri": "https://localhost:8080/",
          "height": 88
        },
        "outputId": "75bb11a1-3502-44c0-c232-a1203a761007"
      },
      "source": [
        "Final_precision = precision_score(Colour_TestData.classes, Final_Predict_classes,average=\"weighted\")\n",
        "print(\"Colour Precision: \", Final_precision)"
      ],
      "execution_count": null,
      "outputs": [
        {
          "output_type": "stream",
          "text": [
            "Colour Precision:  0.8690476190476192\n"
          ],
          "name": "stdout"
        },
        {
          "output_type": "stream",
          "text": [
            "/usr/local/lib/python3.6/dist-packages/sklearn/metrics/_classification.py:1272: UndefinedMetricWarning: Precision is ill-defined and being set to 0.0 in labels with no predicted samples. Use `zero_division` parameter to control this behavior.\n",
            "  _warn_prf(average, modifier, msg_start, len(result))\n"
          ],
          "name": "stderr"
        }
      ]
    },
    {
      "cell_type": "code",
      "metadata": {
        "id": "SUe0YMKmQS0f",
        "colab_type": "code",
        "colab": {
          "base_uri": "https://localhost:8080/",
          "height": 34
        },
        "outputId": "1390c447-13e5-4318-ace9-0c4b5ef578e8"
      },
      "source": [
        "Final_recall = recall_score(Colour_TestData.classes, Final_Predict_classes, average=\"weighted\")\n",
        "print(\"Colour Recall:\", Final_recall)"
      ],
      "execution_count": null,
      "outputs": [
        {
          "output_type": "stream",
          "text": [
            "Colour Recall: 0.9107142857142857\n"
          ],
          "name": "stdout"
        }
      ]
    },
    {
      "cell_type": "code",
      "metadata": {
        "id": "pJraKXWUQVt_",
        "colab_type": "code",
        "colab": {
          "base_uri": "https://localhost:8080/",
          "height": 34
        },
        "outputId": "b459eb0c-b676-4443-f93a-496d682554c4"
      },
      "source": [
        "Final_f1_score = f1_score(Colour_TestData.classes, Final_Predict_classes, average=\"weighted\")\n",
        "print(\"F1 score for colour: \", Final_f1_score)"
      ],
      "execution_count": null,
      "outputs": [
        {
          "output_type": "stream",
          "text": [
            "F1 score for colour:  0.8824404761904763\n"
          ],
          "name": "stdout"
        }
      ]
    },
    {
      "cell_type": "code",
      "metadata": {
        "id": "0qEgDAK36qj-",
        "colab_type": "code",
        "colab": {}
      },
      "source": [
        "Second_Final = 0.5* Colour_predict + 0.5 * Grey_predict"
      ],
      "execution_count": null,
      "outputs": []
    },
    {
      "cell_type": "code",
      "metadata": {
        "id": "z5J1_SGc63t7",
        "colab_type": "code",
        "colab": {}
      },
      "source": [
        "Second_predict_classes = np.argmax(Second_Final, axis=1)"
      ],
      "execution_count": null,
      "outputs": []
    },
    {
      "cell_type": "code",
      "metadata": {
        "id": "hmdwqtuo7A63",
        "colab_type": "code",
        "colab": {
          "base_uri": "https://localhost:8080/",
          "height": 170
        },
        "outputId": "eea36423-4c29-41d7-aa09-6cf2bc35fa70"
      },
      "source": [
        "Second_predict_classes"
      ],
      "execution_count": null,
      "outputs": [
        {
          "output_type": "execute_result",
          "data": {
            "text/plain": [
              "array([  0,   1,  15,   3,   4,   5,   6,   7,   6,   9,  10,  11,  12,\n",
              "        13,  14,  15,  16,  17,  18,  19,  20,  21,  22,  23,  24,  25,\n",
              "        26,  27,  17,  27,  30,  31,  32,  33,  34,  35,  36,  37,  38,\n",
              "        39,  40,  41,  42,  43,  44,  45,  46,  47,  48,  49,  50,  51,\n",
              "        52,  53,  54,  55,  56,  57,  58,  59,  60,  61,  51,  63,  64,\n",
              "        67,  66,  67,  68,  69,  70,  71,  72,  73,  74,  98,  76,  77,\n",
              "        78,  79,  80,  81,  82,  83,  84,  85,  86,  87,  88,  89,  90,\n",
              "        91,  92,  93,  94,  95,  96,  97,  98, 100, 100, 101, 102, 103,\n",
              "       104, 105, 106, 107, 108, 109, 110, 111])"
            ]
          },
          "metadata": {
            "tags": []
          },
          "execution_count": 66
        }
      ]
    },
    {
      "cell_type": "code",
      "metadata": {
        "id": "6hhnNOD07EsP",
        "colab_type": "code",
        "colab": {
          "base_uri": "https://localhost:8080/",
          "height": 34
        },
        "outputId": "b6640838-e145-4244-abec-c6614a51a9a9"
      },
      "source": [
        "Second_Final_accuracy = accuracy_score(Colour_TestData.classes, Second_predict_classes)\n",
        "Second_Final_accuracy"
      ],
      "execution_count": null,
      "outputs": [
        {
          "output_type": "execute_result",
          "data": {
            "text/plain": [
              "0.9285714285714286"
            ]
          },
          "metadata": {
            "tags": []
          },
          "execution_count": 67
        }
      ]
    }
  ]
}