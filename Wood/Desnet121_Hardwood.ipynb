{
  "nbformat": 4,
  "nbformat_minor": 0,
  "metadata": {
    "colab": {
      "name": "Desnet121_Hardwood.ipynb",
      "provenance": [],
      "collapsed_sections": []
    },
    "kernelspec": {
      "name": "python3",
      "display_name": "Python 3"
    },
    "accelerator": "GPU"
  },
  "cells": [
    {
      "cell_type": "code",
      "metadata": {
        "id": "ZbEigGjef9Ja",
        "colab_type": "code",
        "colab": {
          "base_uri": "https://localhost:8080/",
          "height": 122
        },
        "outputId": "c788883e-9c41-4fbd-fcbf-622ac92a58c6"
      },
      "source": [
        "from google.colab import drive\n",
        "drive.mount('/content/drive')"
      ],
      "execution_count": null,
      "outputs": [
        {
          "output_type": "stream",
          "text": [
            "Go to this URL in a browser: https://accounts.google.com/o/oauth2/auth?client_id=947318989803-6bn6qk8qdgf4n4g3pfee6491hc0brc4i.apps.googleusercontent.com&redirect_uri=urn%3aietf%3awg%3aoauth%3a2.0%3aoob&response_type=code&scope=email%20https%3a%2f%2fwww.googleapis.com%2fauth%2fdocs.test%20https%3a%2f%2fwww.googleapis.com%2fauth%2fdrive%20https%3a%2f%2fwww.googleapis.com%2fauth%2fdrive.photos.readonly%20https%3a%2f%2fwww.googleapis.com%2fauth%2fpeopleapi.readonly\n",
            "\n",
            "Enter your authorization code:\n",
            "··········\n",
            "Mounted at /content/drive\n"
          ],
          "name": "stdout"
        }
      ]
    },
    {
      "cell_type": "code",
      "metadata": {
        "id": "KnyJREU_gLYM",
        "colab_type": "code",
        "colab": {}
      },
      "source": [
        "# Importing the Libraries.\n",
        "import keras\n",
        "import os\n",
        "from keras.models import Sequential\n",
        "from keras.layers import Dense, Conv2D, MaxPool2D, Flatten, Dropout\n",
        "from keras.preprocessing.image import ImageDataGenerator\n",
        "import numpy as np\n",
        "#import keras.backend as K\n",
        "import tensorflow.keras.backend as K\n",
        "import tensorflow.compat.v1 as tf\n",
        "from os import listdir\n",
        "from os.path import isfile, join\n",
        "import numpy as np\n",
        "import sys\n",
        "import os\n",
        "import shutil\n",
        "import pandas as pd\n",
        "from PIL import Image\n",
        "import cv2\n",
        "import keras\n",
        "import glob\n",
        "from PIL import Image\n",
        "from keras.preprocessing.image import img_to_array\n",
        "from sklearn.preprocessing import MultiLabelBinarizer\n",
        "from keras import models, regularizers, layers, optimizers, losses, metrics\n",
        "from keras.applications.resnet50 import ResNet50\n",
        "from keras.preprocessing.image import ImageDataGenerator\n",
        "from keras.models import Sequential\n",
        "from keras.layers import Dense, Dropout, Activation, Flatten, MaxPool2D\n",
        "from keras.layers import Convolution2D, MaxPooling2D, ZeroPadding2D\n",
        "from keras.layers import AveragePooling2D\n",
        "from keras.models import load_model\n",
        "from keras.layers.pooling import GlobalAveragePooling2D\n",
        "from keras.layers.normalization import BatchNormalization\n",
        "from keras.models import Model\n",
        "from keras.optimizers import Adam\n",
        "from keras.callbacks import ModelCheckpoint, EarlyStopping\n",
        "from sklearn.preprocessing import LabelEncoder, OneHotEncoder\n",
        "from PIL import ImageFile\n",
        "\n",
        "tf.enable_eager_execution()"
      ],
      "execution_count": null,
      "outputs": []
    },
    {
      "cell_type": "code",
      "metadata": {
        "id": "D5e1TTYggOt6",
        "colab_type": "code",
        "colab": {}
      },
      "source": [
        "ImageFile.LOAD_TRUNCATED_IMAGES = True"
      ],
      "execution_count": null,
      "outputs": []
    },
    {
      "cell_type": "code",
      "metadata": {
        "id": "VRkFteL3gR4c",
        "colab_type": "code",
        "colab": {}
      },
      "source": [
        "# Data Augmentation.\n",
        "DataGenerator = ImageDataGenerator(horizontal_flip=True, vertical_flip=True, rescale=1./255, brightness_range=[0.2,0.7])"
      ],
      "execution_count": null,
      "outputs": []
    },
    {
      "cell_type": "code",
      "metadata": {
        "id": "73iL17ZXgUJZ",
        "colab_type": "code",
        "colab": {}
      },
      "source": [
        "TestGenerator = ImageDataGenerator(rescale=1./255)"
      ],
      "execution_count": null,
      "outputs": []
    },
    {
      "cell_type": "code",
      "metadata": {
        "id": "RqekEiM9gWPJ",
        "colab_type": "code",
        "colab": {
          "base_uri": "https://localhost:8080/",
          "height": 34
        },
        "outputId": "4a4d946d-8395-4e4c-b2a4-f8ffa629f630"
      },
      "source": [
        "Grey_TrainingData = DataGenerator.flow_from_directory('/content/drive/My Drive/1-piece/Train/', target_size=(224,224), batch_size=8, color_mode='grayscale')"
      ],
      "execution_count": null,
      "outputs": [
        {
          "output_type": "stream",
          "text": [
            "Found 2015 images belonging to 112 classes.\n"
          ],
          "name": "stdout"
        }
      ]
    },
    {
      "cell_type": "code",
      "metadata": {
        "id": "abA3AKFmgaza",
        "colab_type": "code",
        "colab": {
          "base_uri": "https://localhost:8080/",
          "height": 34
        },
        "outputId": "e13354d9-6a2a-43ac-fafd-d8f320e52bc1"
      },
      "source": [
        "Grey_ValidData = TestGenerator.flow_from_directory('/content/drive/My Drive/1-piece/Valid/', target_size=(224,224),batch_size=8, color_mode='grayscale')"
      ],
      "execution_count": null,
      "outputs": [
        {
          "output_type": "stream",
          "text": [
            "Found 112 images belonging to 112 classes.\n"
          ],
          "name": "stdout"
        }
      ]
    },
    {
      "cell_type": "code",
      "metadata": {
        "id": "45PgK4Dbgc65",
        "colab_type": "code",
        "colab": {}
      },
      "source": [
        "gpu_options = tf.GPUOptions(allow_growth=True)\n",
        "session = tf.InteractiveSession(config=tf.ConfigProto(gpu_options=gpu_options))"
      ],
      "execution_count": null,
      "outputs": []
    },
    {
      "cell_type": "code",
      "metadata": {
        "id": "Cv9Weo3yhFkC",
        "colab_type": "code",
        "colab": {}
      },
      "source": [
        "from keras.applications.densenet import DenseNet121"
      ],
      "execution_count": null,
      "outputs": []
    },
    {
      "cell_type": "code",
      "metadata": {
        "id": "RfDXgPlQhL2C",
        "colab_type": "code",
        "colab": {
          "base_uri": "https://localhost:8080/",
          "height": 51
        },
        "outputId": "badf875c-1361-46fc-864d-63fc63b093c3"
      },
      "source": [
        "conv_base = DenseNet121(weights = 'imagenet', include_top = False)"
      ],
      "execution_count": null,
      "outputs": [
        {
          "output_type": "stream",
          "text": [
            "Downloading data from https://storage.googleapis.com/tensorflow/keras-applications/densenet/densenet121_weights_tf_dim_ordering_tf_kernels_notop.h5\n",
            "29089792/29084464 [==============================] - 2s 0us/step\n"
          ],
          "name": "stdout"
        }
      ]
    },
    {
      "cell_type": "code",
      "metadata": {
        "id": "JRm3SMiJhPcq",
        "colab_type": "code",
        "colab": {}
      },
      "source": [
        "# Make last block of the conv_base trainable:\n",
        "\n",
        "for layer in conv_base.layers[:411]:\n",
        "   layer.trainable = False\n",
        "for layer in conv_base.layers[411:]:\n",
        "   layer.trainable = True\n",
        "for layer in conv_base.layers:\n",
        "  if isinstance(layer, BatchNormalization):\n",
        "    layer.trainable = True"
      ],
      "execution_count": null,
      "outputs": []
    },
    {
      "cell_type": "code",
      "metadata": {
        "id": "ACNV_ItVhQbN",
        "colab_type": "code",
        "colab": {
          "base_uri": "https://localhost:8080/",
          "height": 1000
        },
        "outputId": "361e9991-af4c-4d44-9cb7-b3235712a855"
      },
      "source": [
        "for i, layer in enumerate(conv_base.layers):\n",
        "   print(i, layer.name, layer.trainable)"
      ],
      "execution_count": null,
      "outputs": [
        {
          "output_type": "stream",
          "text": [
            "0 input_1 False\n",
            "1 zero_padding2d False\n",
            "2 conv1/conv False\n",
            "3 conv1/bn True\n",
            "4 conv1/relu False\n",
            "5 zero_padding2d_1 False\n",
            "6 pool1 False\n",
            "7 conv2_block1_0_bn True\n",
            "8 conv2_block1_0_relu False\n",
            "9 conv2_block1_1_conv False\n",
            "10 conv2_block1_1_bn True\n",
            "11 conv2_block1_1_relu False\n",
            "12 conv2_block1_2_conv False\n",
            "13 conv2_block1_concat False\n",
            "14 conv2_block2_0_bn True\n",
            "15 conv2_block2_0_relu False\n",
            "16 conv2_block2_1_conv False\n",
            "17 conv2_block2_1_bn True\n",
            "18 conv2_block2_1_relu False\n",
            "19 conv2_block2_2_conv False\n",
            "20 conv2_block2_concat False\n",
            "21 conv2_block3_0_bn True\n",
            "22 conv2_block3_0_relu False\n",
            "23 conv2_block3_1_conv False\n",
            "24 conv2_block3_1_bn True\n",
            "25 conv2_block3_1_relu False\n",
            "26 conv2_block3_2_conv False\n",
            "27 conv2_block3_concat False\n",
            "28 conv2_block4_0_bn True\n",
            "29 conv2_block4_0_relu False\n",
            "30 conv2_block4_1_conv False\n",
            "31 conv2_block4_1_bn True\n",
            "32 conv2_block4_1_relu False\n",
            "33 conv2_block4_2_conv False\n",
            "34 conv2_block4_concat False\n",
            "35 conv2_block5_0_bn True\n",
            "36 conv2_block5_0_relu False\n",
            "37 conv2_block5_1_conv False\n",
            "38 conv2_block5_1_bn True\n",
            "39 conv2_block5_1_relu False\n",
            "40 conv2_block5_2_conv False\n",
            "41 conv2_block5_concat False\n",
            "42 conv2_block6_0_bn True\n",
            "43 conv2_block6_0_relu False\n",
            "44 conv2_block6_1_conv False\n",
            "45 conv2_block6_1_bn True\n",
            "46 conv2_block6_1_relu False\n",
            "47 conv2_block6_2_conv False\n",
            "48 conv2_block6_concat False\n",
            "49 pool2_bn True\n",
            "50 pool2_relu False\n",
            "51 pool2_conv False\n",
            "52 pool2_pool False\n",
            "53 conv3_block1_0_bn True\n",
            "54 conv3_block1_0_relu False\n",
            "55 conv3_block1_1_conv False\n",
            "56 conv3_block1_1_bn True\n",
            "57 conv3_block1_1_relu False\n",
            "58 conv3_block1_2_conv False\n",
            "59 conv3_block1_concat False\n",
            "60 conv3_block2_0_bn True\n",
            "61 conv3_block2_0_relu False\n",
            "62 conv3_block2_1_conv False\n",
            "63 conv3_block2_1_bn True\n",
            "64 conv3_block2_1_relu False\n",
            "65 conv3_block2_2_conv False\n",
            "66 conv3_block2_concat False\n",
            "67 conv3_block3_0_bn True\n",
            "68 conv3_block3_0_relu False\n",
            "69 conv3_block3_1_conv False\n",
            "70 conv3_block3_1_bn True\n",
            "71 conv3_block3_1_relu False\n",
            "72 conv3_block3_2_conv False\n",
            "73 conv3_block3_concat False\n",
            "74 conv3_block4_0_bn True\n",
            "75 conv3_block4_0_relu False\n",
            "76 conv3_block4_1_conv False\n",
            "77 conv3_block4_1_bn True\n",
            "78 conv3_block4_1_relu False\n",
            "79 conv3_block4_2_conv False\n",
            "80 conv3_block4_concat False\n",
            "81 conv3_block5_0_bn True\n",
            "82 conv3_block5_0_relu False\n",
            "83 conv3_block5_1_conv False\n",
            "84 conv3_block5_1_bn True\n",
            "85 conv3_block5_1_relu False\n",
            "86 conv3_block5_2_conv False\n",
            "87 conv3_block5_concat False\n",
            "88 conv3_block6_0_bn True\n",
            "89 conv3_block6_0_relu False\n",
            "90 conv3_block6_1_conv False\n",
            "91 conv3_block6_1_bn True\n",
            "92 conv3_block6_1_relu False\n",
            "93 conv3_block6_2_conv False\n",
            "94 conv3_block6_concat False\n",
            "95 conv3_block7_0_bn True\n",
            "96 conv3_block7_0_relu False\n",
            "97 conv3_block7_1_conv False\n",
            "98 conv3_block7_1_bn True\n",
            "99 conv3_block7_1_relu False\n",
            "100 conv3_block7_2_conv False\n",
            "101 conv3_block7_concat False\n",
            "102 conv3_block8_0_bn True\n",
            "103 conv3_block8_0_relu False\n",
            "104 conv3_block8_1_conv False\n",
            "105 conv3_block8_1_bn True\n",
            "106 conv3_block8_1_relu False\n",
            "107 conv3_block8_2_conv False\n",
            "108 conv3_block8_concat False\n",
            "109 conv3_block9_0_bn True\n",
            "110 conv3_block9_0_relu False\n",
            "111 conv3_block9_1_conv False\n",
            "112 conv3_block9_1_bn True\n",
            "113 conv3_block9_1_relu False\n",
            "114 conv3_block9_2_conv False\n",
            "115 conv3_block9_concat False\n",
            "116 conv3_block10_0_bn True\n",
            "117 conv3_block10_0_relu False\n",
            "118 conv3_block10_1_conv False\n",
            "119 conv3_block10_1_bn True\n",
            "120 conv3_block10_1_relu False\n",
            "121 conv3_block10_2_conv False\n",
            "122 conv3_block10_concat False\n",
            "123 conv3_block11_0_bn True\n",
            "124 conv3_block11_0_relu False\n",
            "125 conv3_block11_1_conv False\n",
            "126 conv3_block11_1_bn True\n",
            "127 conv3_block11_1_relu False\n",
            "128 conv3_block11_2_conv False\n",
            "129 conv3_block11_concat False\n",
            "130 conv3_block12_0_bn True\n",
            "131 conv3_block12_0_relu False\n",
            "132 conv3_block12_1_conv False\n",
            "133 conv3_block12_1_bn True\n",
            "134 conv3_block12_1_relu False\n",
            "135 conv3_block12_2_conv False\n",
            "136 conv3_block12_concat False\n",
            "137 pool3_bn True\n",
            "138 pool3_relu False\n",
            "139 pool3_conv False\n",
            "140 pool3_pool False\n",
            "141 conv4_block1_0_bn True\n",
            "142 conv4_block1_0_relu False\n",
            "143 conv4_block1_1_conv False\n",
            "144 conv4_block1_1_bn True\n",
            "145 conv4_block1_1_relu False\n",
            "146 conv4_block1_2_conv False\n",
            "147 conv4_block1_concat False\n",
            "148 conv4_block2_0_bn True\n",
            "149 conv4_block2_0_relu False\n",
            "150 conv4_block2_1_conv False\n",
            "151 conv4_block2_1_bn True\n",
            "152 conv4_block2_1_relu False\n",
            "153 conv4_block2_2_conv False\n",
            "154 conv4_block2_concat False\n",
            "155 conv4_block3_0_bn True\n",
            "156 conv4_block3_0_relu False\n",
            "157 conv4_block3_1_conv False\n",
            "158 conv4_block3_1_bn True\n",
            "159 conv4_block3_1_relu False\n",
            "160 conv4_block3_2_conv False\n",
            "161 conv4_block3_concat False\n",
            "162 conv4_block4_0_bn True\n",
            "163 conv4_block4_0_relu False\n",
            "164 conv4_block4_1_conv False\n",
            "165 conv4_block4_1_bn True\n",
            "166 conv4_block4_1_relu False\n",
            "167 conv4_block4_2_conv False\n",
            "168 conv4_block4_concat False\n",
            "169 conv4_block5_0_bn True\n",
            "170 conv4_block5_0_relu False\n",
            "171 conv4_block5_1_conv False\n",
            "172 conv4_block5_1_bn True\n",
            "173 conv4_block5_1_relu False\n",
            "174 conv4_block5_2_conv False\n",
            "175 conv4_block5_concat False\n",
            "176 conv4_block6_0_bn True\n",
            "177 conv4_block6_0_relu False\n",
            "178 conv4_block6_1_conv False\n",
            "179 conv4_block6_1_bn True\n",
            "180 conv4_block6_1_relu False\n",
            "181 conv4_block6_2_conv False\n",
            "182 conv4_block6_concat False\n",
            "183 conv4_block7_0_bn True\n",
            "184 conv4_block7_0_relu False\n",
            "185 conv4_block7_1_conv False\n",
            "186 conv4_block7_1_bn True\n",
            "187 conv4_block7_1_relu False\n",
            "188 conv4_block7_2_conv False\n",
            "189 conv4_block7_concat False\n",
            "190 conv4_block8_0_bn True\n",
            "191 conv4_block8_0_relu False\n",
            "192 conv4_block8_1_conv False\n",
            "193 conv4_block8_1_bn True\n",
            "194 conv4_block8_1_relu False\n",
            "195 conv4_block8_2_conv False\n",
            "196 conv4_block8_concat False\n",
            "197 conv4_block9_0_bn True\n",
            "198 conv4_block9_0_relu False\n",
            "199 conv4_block9_1_conv False\n",
            "200 conv4_block9_1_bn True\n",
            "201 conv4_block9_1_relu False\n",
            "202 conv4_block9_2_conv False\n",
            "203 conv4_block9_concat False\n",
            "204 conv4_block10_0_bn True\n",
            "205 conv4_block10_0_relu False\n",
            "206 conv4_block10_1_conv False\n",
            "207 conv4_block10_1_bn True\n",
            "208 conv4_block10_1_relu False\n",
            "209 conv4_block10_2_conv False\n",
            "210 conv4_block10_concat False\n",
            "211 conv4_block11_0_bn True\n",
            "212 conv4_block11_0_relu False\n",
            "213 conv4_block11_1_conv False\n",
            "214 conv4_block11_1_bn True\n",
            "215 conv4_block11_1_relu False\n",
            "216 conv4_block11_2_conv False\n",
            "217 conv4_block11_concat False\n",
            "218 conv4_block12_0_bn True\n",
            "219 conv4_block12_0_relu False\n",
            "220 conv4_block12_1_conv False\n",
            "221 conv4_block12_1_bn True\n",
            "222 conv4_block12_1_relu False\n",
            "223 conv4_block12_2_conv False\n",
            "224 conv4_block12_concat False\n",
            "225 conv4_block13_0_bn True\n",
            "226 conv4_block13_0_relu False\n",
            "227 conv4_block13_1_conv False\n",
            "228 conv4_block13_1_bn True\n",
            "229 conv4_block13_1_relu False\n",
            "230 conv4_block13_2_conv False\n",
            "231 conv4_block13_concat False\n",
            "232 conv4_block14_0_bn True\n",
            "233 conv4_block14_0_relu False\n",
            "234 conv4_block14_1_conv False\n",
            "235 conv4_block14_1_bn True\n",
            "236 conv4_block14_1_relu False\n",
            "237 conv4_block14_2_conv False\n",
            "238 conv4_block14_concat False\n",
            "239 conv4_block15_0_bn True\n",
            "240 conv4_block15_0_relu False\n",
            "241 conv4_block15_1_conv False\n",
            "242 conv4_block15_1_bn True\n",
            "243 conv4_block15_1_relu False\n",
            "244 conv4_block15_2_conv False\n",
            "245 conv4_block15_concat False\n",
            "246 conv4_block16_0_bn True\n",
            "247 conv4_block16_0_relu False\n",
            "248 conv4_block16_1_conv False\n",
            "249 conv4_block16_1_bn True\n",
            "250 conv4_block16_1_relu False\n",
            "251 conv4_block16_2_conv False\n",
            "252 conv4_block16_concat False\n",
            "253 conv4_block17_0_bn True\n",
            "254 conv4_block17_0_relu False\n",
            "255 conv4_block17_1_conv False\n",
            "256 conv4_block17_1_bn True\n",
            "257 conv4_block17_1_relu False\n",
            "258 conv4_block17_2_conv False\n",
            "259 conv4_block17_concat False\n",
            "260 conv4_block18_0_bn True\n",
            "261 conv4_block18_0_relu False\n",
            "262 conv4_block18_1_conv False\n",
            "263 conv4_block18_1_bn True\n",
            "264 conv4_block18_1_relu False\n",
            "265 conv4_block18_2_conv False\n",
            "266 conv4_block18_concat False\n",
            "267 conv4_block19_0_bn True\n",
            "268 conv4_block19_0_relu False\n",
            "269 conv4_block19_1_conv False\n",
            "270 conv4_block19_1_bn True\n",
            "271 conv4_block19_1_relu False\n",
            "272 conv4_block19_2_conv False\n",
            "273 conv4_block19_concat False\n",
            "274 conv4_block20_0_bn True\n",
            "275 conv4_block20_0_relu False\n",
            "276 conv4_block20_1_conv False\n",
            "277 conv4_block20_1_bn True\n",
            "278 conv4_block20_1_relu False\n",
            "279 conv4_block20_2_conv False\n",
            "280 conv4_block20_concat False\n",
            "281 conv4_block21_0_bn True\n",
            "282 conv4_block21_0_relu False\n",
            "283 conv4_block21_1_conv False\n",
            "284 conv4_block21_1_bn True\n",
            "285 conv4_block21_1_relu False\n",
            "286 conv4_block21_2_conv False\n",
            "287 conv4_block21_concat False\n",
            "288 conv4_block22_0_bn True\n",
            "289 conv4_block22_0_relu False\n",
            "290 conv4_block22_1_conv False\n",
            "291 conv4_block22_1_bn True\n",
            "292 conv4_block22_1_relu False\n",
            "293 conv4_block22_2_conv False\n",
            "294 conv4_block22_concat False\n",
            "295 conv4_block23_0_bn True\n",
            "296 conv4_block23_0_relu False\n",
            "297 conv4_block23_1_conv False\n",
            "298 conv4_block23_1_bn True\n",
            "299 conv4_block23_1_relu False\n",
            "300 conv4_block23_2_conv False\n",
            "301 conv4_block23_concat False\n",
            "302 conv4_block24_0_bn True\n",
            "303 conv4_block24_0_relu False\n",
            "304 conv4_block24_1_conv False\n",
            "305 conv4_block24_1_bn True\n",
            "306 conv4_block24_1_relu False\n",
            "307 conv4_block24_2_conv False\n",
            "308 conv4_block24_concat False\n",
            "309 pool4_bn True\n",
            "310 pool4_relu False\n",
            "311 pool4_conv False\n",
            "312 pool4_pool False\n",
            "313 conv5_block1_0_bn True\n",
            "314 conv5_block1_0_relu False\n",
            "315 conv5_block1_1_conv False\n",
            "316 conv5_block1_1_bn True\n",
            "317 conv5_block1_1_relu False\n",
            "318 conv5_block1_2_conv False\n",
            "319 conv5_block1_concat False\n",
            "320 conv5_block2_0_bn True\n",
            "321 conv5_block2_0_relu False\n",
            "322 conv5_block2_1_conv False\n",
            "323 conv5_block2_1_bn True\n",
            "324 conv5_block2_1_relu False\n",
            "325 conv5_block2_2_conv False\n",
            "326 conv5_block2_concat False\n",
            "327 conv5_block3_0_bn True\n",
            "328 conv5_block3_0_relu False\n",
            "329 conv5_block3_1_conv False\n",
            "330 conv5_block3_1_bn True\n",
            "331 conv5_block3_1_relu False\n",
            "332 conv5_block3_2_conv False\n",
            "333 conv5_block3_concat False\n",
            "334 conv5_block4_0_bn True\n",
            "335 conv5_block4_0_relu False\n",
            "336 conv5_block4_1_conv False\n",
            "337 conv5_block4_1_bn True\n",
            "338 conv5_block4_1_relu False\n",
            "339 conv5_block4_2_conv False\n",
            "340 conv5_block4_concat False\n",
            "341 conv5_block5_0_bn True\n",
            "342 conv5_block5_0_relu False\n",
            "343 conv5_block5_1_conv False\n",
            "344 conv5_block5_1_bn True\n",
            "345 conv5_block5_1_relu False\n",
            "346 conv5_block5_2_conv False\n",
            "347 conv5_block5_concat False\n",
            "348 conv5_block6_0_bn True\n",
            "349 conv5_block6_0_relu False\n",
            "350 conv5_block6_1_conv False\n",
            "351 conv5_block6_1_bn True\n",
            "352 conv5_block6_1_relu False\n",
            "353 conv5_block6_2_conv False\n",
            "354 conv5_block6_concat False\n",
            "355 conv5_block7_0_bn True\n",
            "356 conv5_block7_0_relu False\n",
            "357 conv5_block7_1_conv False\n",
            "358 conv5_block7_1_bn True\n",
            "359 conv5_block7_1_relu False\n",
            "360 conv5_block7_2_conv False\n",
            "361 conv5_block7_concat False\n",
            "362 conv5_block8_0_bn True\n",
            "363 conv5_block8_0_relu False\n",
            "364 conv5_block8_1_conv False\n",
            "365 conv5_block8_1_bn True\n",
            "366 conv5_block8_1_relu False\n",
            "367 conv5_block8_2_conv False\n",
            "368 conv5_block8_concat False\n",
            "369 conv5_block9_0_bn True\n",
            "370 conv5_block9_0_relu False\n",
            "371 conv5_block9_1_conv False\n",
            "372 conv5_block9_1_bn True\n",
            "373 conv5_block9_1_relu False\n",
            "374 conv5_block9_2_conv False\n",
            "375 conv5_block9_concat False\n",
            "376 conv5_block10_0_bn True\n",
            "377 conv5_block10_0_relu False\n",
            "378 conv5_block10_1_conv False\n",
            "379 conv5_block10_1_bn True\n",
            "380 conv5_block10_1_relu False\n",
            "381 conv5_block10_2_conv False\n",
            "382 conv5_block10_concat False\n",
            "383 conv5_block11_0_bn True\n",
            "384 conv5_block11_0_relu False\n",
            "385 conv5_block11_1_conv False\n",
            "386 conv5_block11_1_bn True\n",
            "387 conv5_block11_1_relu False\n",
            "388 conv5_block11_2_conv False\n",
            "389 conv5_block11_concat False\n",
            "390 conv5_block12_0_bn True\n",
            "391 conv5_block12_0_relu False\n",
            "392 conv5_block12_1_conv False\n",
            "393 conv5_block12_1_bn True\n",
            "394 conv5_block12_1_relu False\n",
            "395 conv5_block12_2_conv False\n",
            "396 conv5_block12_concat False\n",
            "397 conv5_block13_0_bn True\n",
            "398 conv5_block13_0_relu False\n",
            "399 conv5_block13_1_conv False\n",
            "400 conv5_block13_1_bn True\n",
            "401 conv5_block13_1_relu False\n",
            "402 conv5_block13_2_conv False\n",
            "403 conv5_block13_concat False\n",
            "404 conv5_block14_0_bn True\n",
            "405 conv5_block14_0_relu False\n",
            "406 conv5_block14_1_conv False\n",
            "407 conv5_block14_1_bn True\n",
            "408 conv5_block14_1_relu False\n",
            "409 conv5_block14_2_conv False\n",
            "410 conv5_block14_concat False\n",
            "411 conv5_block15_0_bn True\n",
            "412 conv5_block15_0_relu True\n",
            "413 conv5_block15_1_conv True\n",
            "414 conv5_block15_1_bn True\n",
            "415 conv5_block15_1_relu True\n",
            "416 conv5_block15_2_conv True\n",
            "417 conv5_block15_concat True\n",
            "418 conv5_block16_0_bn True\n",
            "419 conv5_block16_0_relu True\n",
            "420 conv5_block16_1_conv True\n",
            "421 conv5_block16_1_bn True\n",
            "422 conv5_block16_1_relu True\n",
            "423 conv5_block16_2_conv True\n",
            "424 conv5_block16_concat True\n",
            "425 bn True\n",
            "426 relu True\n"
          ],
          "name": "stdout"
        }
      ]
    },
    {
      "cell_type": "code",
      "metadata": {
        "id": "OTJy383BhYbl",
        "colab_type": "code",
        "colab": {}
      },
      "source": [
        "model = Sequential()"
      ],
      "execution_count": null,
      "outputs": []
    },
    {
      "cell_type": "code",
      "metadata": {
        "id": "mCayGh02hbaM",
        "colab_type": "code",
        "colab": {}
      },
      "source": [
        "from keras.layers import Input"
      ],
      "execution_count": null,
      "outputs": []
    },
    {
      "cell_type": "code",
      "metadata": {
        "id": "9V4rGItRhdUS",
        "colab_type": "code",
        "colab": {}
      },
      "source": [
        "input_tensor = Input(shape=(224,224,1))\n",
        "x = Conv2D(3, (3,3), padding='same')(input_tensor)\n",
        "ouput = conv_base(x)\n",
        "models = Model(inputs = input_tensor, outputs = ouput )"
      ],
      "execution_count": null,
      "outputs": []
    },
    {
      "cell_type": "code",
      "metadata": {
        "id": "mdGFv5Q7iQQa",
        "colab_type": "code",
        "colab": {}
      },
      "source": [
        "model.add(models)"
      ],
      "execution_count": null,
      "outputs": []
    },
    {
      "cell_type": "code",
      "metadata": {
        "id": "uu3k69vQiZPs",
        "colab_type": "code",
        "colab": {}
      },
      "source": [
        "model.add(Flatten())"
      ],
      "execution_count": null,
      "outputs": []
    },
    {
      "cell_type": "code",
      "metadata": {
        "id": "nRW1UOzzicei",
        "colab_type": "code",
        "colab": {}
      },
      "source": [
        "model.add(Dense(2048, activation='relu', kernel_regularizer=regularizers.l2(0.001)))\n",
        "model.add(Dropout(0.5))\n",
        "model.add(Dense(112, activation='softmax'))"
      ],
      "execution_count": null,
      "outputs": []
    },
    {
      "cell_type": "code",
      "metadata": {
        "id": "rqr2bsNaig0K",
        "colab_type": "code",
        "colab": {
          "base_uri": "https://localhost:8080/",
          "height": 323
        },
        "outputId": "64bce834-a5ca-4843-f3d7-3c27637a1bc8"
      },
      "source": [
        "model.summary()"
      ],
      "execution_count": null,
      "outputs": [
        {
          "output_type": "stream",
          "text": [
            "Model: \"sequential\"\n",
            "_________________________________________________________________\n",
            "Layer (type)                 Output Shape              Param #   \n",
            "=================================================================\n",
            "functional_1 (Functional)    (None, 7, 7, 1024)        7037534   \n",
            "_________________________________________________________________\n",
            "flatten (Flatten)            (None, 50176)             0         \n",
            "_________________________________________________________________\n",
            "dense (Dense)                (None, 2048)              102762496 \n",
            "_________________________________________________________________\n",
            "dropout (Dropout)            (None, 2048)              0         \n",
            "_________________________________________________________________\n",
            "dense_1 (Dense)              (None, 112)               229488    \n",
            "=================================================================\n",
            "Total params: 110,029,518\n",
            "Trainable params: 103,399,246\n",
            "Non-trainable params: 6,630,272\n",
            "_________________________________________________________________\n"
          ],
          "name": "stdout"
        }
      ]
    },
    {
      "cell_type": "code",
      "metadata": {
        "id": "WPzvO6nEikYX",
        "colab_type": "code",
        "colab": {}
      },
      "source": [
        "model.compile(loss='categorical_crossentropy',\n",
        "              optimizer=Adam(lr=0.001),\n",
        "              metrics=['accuracy'])"
      ],
      "execution_count": null,
      "outputs": []
    },
    {
      "cell_type": "code",
      "metadata": {
        "id": "DI3DOP_jinH8",
        "colab_type": "code",
        "colab": {}
      },
      "source": [
        "from keras.callbacks import ModelCheckpoint, EarlyStopping, ReduceLROnPlateau\n",
        "checkpoint = ModelCheckpoint(\"/content/drive/My Drive/1-piece/GreyScale_Desnet121.h5\",\n",
        "                             monitor=\"val_loss\",\n",
        "                             mode=\"min\",\n",
        "                             save_best_only = True,\n",
        "                             verbose=1)\n",
        "\n",
        "earlystop = EarlyStopping(monitor = 'val_loss', \n",
        "                          min_delta = 0, \n",
        "                          patience = 40,\n",
        "                          verbose = 1,\n",
        "                          restore_best_weights = True)\n",
        "\n",
        "reduce_lr = ReduceLROnPlateau(monitor = 'val_loss',\n",
        "                              factor = 0.2,\n",
        "                              patience = 40,\n",
        "                              verbose = 1,\n",
        "                              min_delta = 0.00001)\n",
        "\n",
        "callBacks = [earlystop, checkpoint, reduce_lr]"
      ],
      "execution_count": null,
      "outputs": []
    },
    {
      "cell_type": "code",
      "metadata": {
        "id": "XbWY1aIqi6-f",
        "colab_type": "code",
        "colab": {
          "base_uri": "https://localhost:8080/",
          "height": 1000
        },
        "outputId": "4def4e48-c0a7-41a8-fe73-1df86fe2119b"
      },
      "source": [
        "hist = model.fit_generator(steps_per_epoch=252,generator= Grey_TrainingData, validation_data= Grey_ValidData, validation_steps=14,epochs=150,callbacks=callBacks)"
      ],
      "execution_count": null,
      "outputs": [
        {
          "output_type": "stream",
          "text": [
            "WARNING:tensorflow:From <ipython-input-22-2f51164406f7>:1: Model.fit_generator (from tensorflow.python.keras.engine.training) is deprecated and will be removed in a future version.\n",
            "Instructions for updating:\n",
            "Please use Model.fit, which supports generators.\n",
            "Epoch 1/150\n",
            "252/252 [==============================] - ETA: 0s - loss: 18.3718 - accuracy: 0.0194\n",
            "Epoch 00001: val_loss improved from inf to 6.80768, saving model to /content/drive/My Drive/1-piece/GreyScale_Desnet121.h5\n",
            "252/252 [==============================] - 2158s 9s/step - loss: 18.3718 - accuracy: 0.0194 - val_loss: 6.8077 - val_accuracy: 0.0268\n",
            "Epoch 2/150\n",
            "252/252 [==============================] - ETA: 0s - loss: 6.5533 - accuracy: 0.0213\n",
            "Epoch 00002: val_loss improved from 6.80768 to 6.22282, saving model to /content/drive/My Drive/1-piece/GreyScale_Desnet121.h5\n",
            "252/252 [==============================] - 112s 446ms/step - loss: 6.5533 - accuracy: 0.0213 - val_loss: 6.2228 - val_accuracy: 0.0357\n",
            "Epoch 3/150\n",
            "252/252 [==============================] - ETA: 0s - loss: 6.0820 - accuracy: 0.0109\n",
            "Epoch 00003: val_loss improved from 6.22282 to 5.79161, saving model to /content/drive/My Drive/1-piece/GreyScale_Desnet121.h5\n",
            "252/252 [==============================] - 111s 440ms/step - loss: 6.0820 - accuracy: 0.0109 - val_loss: 5.7916 - val_accuracy: 0.0179\n",
            "Epoch 4/150\n",
            "252/252 [==============================] - ETA: 0s - loss: 5.7083 - accuracy: 0.0124\n",
            "Epoch 00004: val_loss improved from 5.79161 to 5.48683, saving model to /content/drive/My Drive/1-piece/GreyScale_Desnet121.h5\n",
            "252/252 [==============================] - 112s 443ms/step - loss: 5.7083 - accuracy: 0.0124 - val_loss: 5.4868 - val_accuracy: 0.0179\n",
            "Epoch 5/150\n",
            "252/252 [==============================] - ETA: 0s - loss: 5.4471 - accuracy: 0.0139\n",
            "Epoch 00005: val_loss improved from 5.48683 to 5.24458, saving model to /content/drive/My Drive/1-piece/GreyScale_Desnet121.h5\n",
            "252/252 [==============================] - 110s 436ms/step - loss: 5.4471 - accuracy: 0.0139 - val_loss: 5.2446 - val_accuracy: 0.0357\n",
            "Epoch 6/150\n",
            "252/252 [==============================] - ETA: 0s - loss: 5.2624 - accuracy: 0.0189\n",
            "Epoch 00006: val_loss improved from 5.24458 to 5.02094, saving model to /content/drive/My Drive/1-piece/GreyScale_Desnet121.h5\n",
            "252/252 [==============================] - 108s 428ms/step - loss: 5.2624 - accuracy: 0.0189 - val_loss: 5.0209 - val_accuracy: 0.0268\n",
            "Epoch 7/150\n",
            "252/252 [==============================] - ETA: 0s - loss: 5.1936 - accuracy: 0.0129\n",
            "Epoch 00007: val_loss improved from 5.02094 to 4.94136, saving model to /content/drive/My Drive/1-piece/GreyScale_Desnet121.h5\n",
            "252/252 [==============================] - 104s 411ms/step - loss: 5.1936 - accuracy: 0.0129 - val_loss: 4.9414 - val_accuracy: 0.0357\n",
            "Epoch 8/150\n",
            "252/252 [==============================] - ETA: 0s - loss: 5.0420 - accuracy: 0.0154\n",
            "Epoch 00008: val_loss improved from 4.94136 to 4.90024, saving model to /content/drive/My Drive/1-piece/GreyScale_Desnet121.h5\n",
            "252/252 [==============================] - 107s 424ms/step - loss: 5.0420 - accuracy: 0.0154 - val_loss: 4.9002 - val_accuracy: 0.0268\n",
            "Epoch 9/150\n",
            "252/252 [==============================] - ETA: 0s - loss: 5.0268 - accuracy: 0.0208\n",
            "Epoch 00009: val_loss improved from 4.90024 to 4.77177, saving model to /content/drive/My Drive/1-piece/GreyScale_Desnet121.h5\n",
            "252/252 [==============================] - 101s 401ms/step - loss: 5.0268 - accuracy: 0.0208 - val_loss: 4.7718 - val_accuracy: 0.0357\n",
            "Epoch 10/150\n",
            "252/252 [==============================] - ETA: 0s - loss: 4.9141 - accuracy: 0.0243\n",
            "Epoch 00010: val_loss improved from 4.77177 to 4.69422, saving model to /content/drive/My Drive/1-piece/GreyScale_Desnet121.h5\n",
            "252/252 [==============================] - 101s 399ms/step - loss: 4.9141 - accuracy: 0.0243 - val_loss: 4.6942 - val_accuracy: 0.0357\n",
            "Epoch 11/150\n",
            "252/252 [==============================] - ETA: 0s - loss: 4.9995 - accuracy: 0.0273\n",
            "Epoch 00011: val_loss did not improve from 4.69422\n",
            "252/252 [==============================] - 91s 362ms/step - loss: 4.9995 - accuracy: 0.0273 - val_loss: 4.8035 - val_accuracy: 0.0268\n",
            "Epoch 12/150\n",
            "252/252 [==============================] - ETA: 0s - loss: 4.9421 - accuracy: 0.0263\n",
            "Epoch 00012: val_loss improved from 4.69422 to 4.61917, saving model to /content/drive/My Drive/1-piece/GreyScale_Desnet121.h5\n",
            "252/252 [==============================] - 94s 374ms/step - loss: 4.9421 - accuracy: 0.0263 - val_loss: 4.6192 - val_accuracy: 0.0625\n",
            "Epoch 13/150\n",
            "252/252 [==============================] - ETA: 0s - loss: 4.9330 - accuracy: 0.0189\n",
            "Epoch 00013: val_loss improved from 4.61917 to 4.54618, saving model to /content/drive/My Drive/1-piece/GreyScale_Desnet121.h5\n",
            "252/252 [==============================] - 97s 384ms/step - loss: 4.9330 - accuracy: 0.0189 - val_loss: 4.5462 - val_accuracy: 0.0446\n",
            "Epoch 14/150\n",
            "252/252 [==============================] - ETA: 0s - loss: 4.8062 - accuracy: 0.0293\n",
            "Epoch 00014: val_loss did not improve from 4.54618\n",
            "252/252 [==============================] - 86s 342ms/step - loss: 4.8062 - accuracy: 0.0293 - val_loss: 4.6821 - val_accuracy: 0.0536\n",
            "Epoch 15/150\n",
            "252/252 [==============================] - ETA: 0s - loss: 4.8619 - accuracy: 0.0382\n",
            "Epoch 00015: val_loss did not improve from 4.54618\n",
            "252/252 [==============================] - 84s 333ms/step - loss: 4.8619 - accuracy: 0.0382 - val_loss: 4.7119 - val_accuracy: 0.0625\n",
            "Epoch 16/150\n",
            "252/252 [==============================] - ETA: 0s - loss: 4.8410 - accuracy: 0.0342\n",
            "Epoch 00016: val_loss improved from 4.54618 to 4.49172, saving model to /content/drive/My Drive/1-piece/GreyScale_Desnet121.h5\n",
            "252/252 [==============================] - 94s 374ms/step - loss: 4.8410 - accuracy: 0.0342 - val_loss: 4.4917 - val_accuracy: 0.0536\n",
            "Epoch 17/150\n",
            "252/252 [==============================] - ETA: 0s - loss: 4.7698 - accuracy: 0.0471\n",
            "Epoch 00017: val_loss improved from 4.49172 to 4.45152, saving model to /content/drive/My Drive/1-piece/GreyScale_Desnet121.h5\n",
            "252/252 [==============================] - 95s 379ms/step - loss: 4.7698 - accuracy: 0.0471 - val_loss: 4.4515 - val_accuracy: 0.0536\n",
            "Epoch 18/150\n",
            "252/252 [==============================] - ETA: 0s - loss: 4.6818 - accuracy: 0.0476\n",
            "Epoch 00018: val_loss improved from 4.45152 to 4.36004, saving model to /content/drive/My Drive/1-piece/GreyScale_Desnet121.h5\n",
            "252/252 [==============================] - 96s 380ms/step - loss: 4.6818 - accuracy: 0.0476 - val_loss: 4.3600 - val_accuracy: 0.0804\n",
            "Epoch 19/150\n",
            "252/252 [==============================] - ETA: 0s - loss: 4.5763 - accuracy: 0.0531\n",
            "Epoch 00019: val_loss improved from 4.36004 to 4.29899, saving model to /content/drive/My Drive/1-piece/GreyScale_Desnet121.h5\n",
            "252/252 [==============================] - 96s 382ms/step - loss: 4.5763 - accuracy: 0.0531 - val_loss: 4.2990 - val_accuracy: 0.1071\n",
            "Epoch 20/150\n",
            "252/252 [==============================] - ETA: 0s - loss: 4.5522 - accuracy: 0.0600\n",
            "Epoch 00020: val_loss did not improve from 4.29899\n",
            "252/252 [==============================] - 88s 350ms/step - loss: 4.5522 - accuracy: 0.0600 - val_loss: 4.4388 - val_accuracy: 0.0982\n",
            "Epoch 21/150\n",
            "252/252 [==============================] - ETA: 0s - loss: 4.4279 - accuracy: 0.0665\n",
            "Epoch 00021: val_loss improved from 4.29899 to 4.23484, saving model to /content/drive/My Drive/1-piece/GreyScale_Desnet121.h5\n",
            "252/252 [==============================] - 92s 363ms/step - loss: 4.4279 - accuracy: 0.0665 - val_loss: 4.2348 - val_accuracy: 0.1518\n",
            "Epoch 22/150\n",
            "252/252 [==============================] - ETA: 0s - loss: 4.3143 - accuracy: 0.0734\n",
            "Epoch 00022: val_loss improved from 4.23484 to 4.14886, saving model to /content/drive/My Drive/1-piece/GreyScale_Desnet121.h5\n",
            "252/252 [==============================] - 96s 380ms/step - loss: 4.3143 - accuracy: 0.0734 - val_loss: 4.1489 - val_accuracy: 0.0982\n",
            "Epoch 23/150\n",
            "252/252 [==============================] - ETA: 0s - loss: 4.2634 - accuracy: 0.0784\n",
            "Epoch 00023: val_loss did not improve from 4.14886\n",
            "252/252 [==============================] - 86s 342ms/step - loss: 4.2634 - accuracy: 0.0784 - val_loss: 4.1828 - val_accuracy: 0.0804\n",
            "Epoch 24/150\n",
            "252/252 [==============================] - ETA: 0s - loss: 4.2144 - accuracy: 0.0963\n",
            "Epoch 00024: val_loss improved from 4.14886 to 3.86839, saving model to /content/drive/My Drive/1-piece/GreyScale_Desnet121.h5\n",
            "252/252 [==============================] - 93s 370ms/step - loss: 4.2144 - accuracy: 0.0963 - val_loss: 3.8684 - val_accuracy: 0.1964\n",
            "Epoch 25/150\n",
            "252/252 [==============================] - ETA: 0s - loss: 4.1273 - accuracy: 0.1107\n",
            "Epoch 00025: val_loss did not improve from 3.86839\n",
            "252/252 [==============================] - 87s 344ms/step - loss: 4.1273 - accuracy: 0.1107 - val_loss: 3.9056 - val_accuracy: 0.1607\n",
            "Epoch 26/150\n",
            "252/252 [==============================] - ETA: 0s - loss: 4.0825 - accuracy: 0.1102\n",
            "Epoch 00026: val_loss did not improve from 3.86839\n",
            "252/252 [==============================] - 84s 335ms/step - loss: 4.0825 - accuracy: 0.1102 - val_loss: 4.0311 - val_accuracy: 0.1607\n",
            "Epoch 27/150\n",
            "252/252 [==============================] - ETA: 0s - loss: 4.0729 - accuracy: 0.1186\n",
            "Epoch 00027: val_loss did not improve from 3.86839\n",
            "252/252 [==============================] - 84s 333ms/step - loss: 4.0729 - accuracy: 0.1186 - val_loss: 3.8950 - val_accuracy: 0.1607\n",
            "Epoch 28/150\n",
            "252/252 [==============================] - ETA: 0s - loss: 4.0566 - accuracy: 0.1181\n",
            "Epoch 00028: val_loss improved from 3.86839 to 3.74557, saving model to /content/drive/My Drive/1-piece/GreyScale_Desnet121.h5\n",
            "252/252 [==============================] - 93s 370ms/step - loss: 4.0566 - accuracy: 0.1181 - val_loss: 3.7456 - val_accuracy: 0.2054\n",
            "Epoch 29/150\n",
            "252/252 [==============================] - ETA: 0s - loss: 3.9583 - accuracy: 0.1370\n",
            "Epoch 00029: val_loss improved from 3.74557 to 3.70014, saving model to /content/drive/My Drive/1-piece/GreyScale_Desnet121.h5\n",
            "252/252 [==============================] - 95s 376ms/step - loss: 3.9583 - accuracy: 0.1370 - val_loss: 3.7001 - val_accuracy: 0.1786\n",
            "Epoch 30/150\n",
            "252/252 [==============================] - ETA: 0s - loss: 4.0514 - accuracy: 0.1280\n",
            "Epoch 00030: val_loss did not improve from 3.70014\n",
            "252/252 [==============================] - 86s 341ms/step - loss: 4.0514 - accuracy: 0.1280 - val_loss: 3.7984 - val_accuracy: 0.1964\n",
            "Epoch 31/150\n",
            "252/252 [==============================] - ETA: 0s - loss: 3.9392 - accuracy: 0.1424\n",
            "Epoch 00031: val_loss improved from 3.70014 to 3.58612, saving model to /content/drive/My Drive/1-piece/GreyScale_Desnet121.h5\n",
            "252/252 [==============================] - 93s 368ms/step - loss: 3.9392 - accuracy: 0.1424 - val_loss: 3.5861 - val_accuracy: 0.2054\n",
            "Epoch 32/150\n",
            "252/252 [==============================] - ETA: 0s - loss: 3.9327 - accuracy: 0.1613\n",
            "Epoch 00032: val_loss improved from 3.58612 to 3.57550, saving model to /content/drive/My Drive/1-piece/GreyScale_Desnet121.h5\n",
            "252/252 [==============================] - 95s 378ms/step - loss: 3.9327 - accuracy: 0.1613 - val_loss: 3.5755 - val_accuracy: 0.2500\n",
            "Epoch 33/150\n",
            "252/252 [==============================] - ETA: 0s - loss: 3.8957 - accuracy: 0.1548\n",
            "Epoch 00033: val_loss improved from 3.57550 to 3.55197, saving model to /content/drive/My Drive/1-piece/GreyScale_Desnet121.h5\n",
            "252/252 [==============================] - 96s 380ms/step - loss: 3.8957 - accuracy: 0.1548 - val_loss: 3.5520 - val_accuracy: 0.2411\n",
            "Epoch 34/150\n",
            "252/252 [==============================] - ETA: 0s - loss: 3.7748 - accuracy: 0.1707\n",
            "Epoch 00034: val_loss improved from 3.55197 to 3.35135, saving model to /content/drive/My Drive/1-piece/GreyScale_Desnet121.h5\n",
            "252/252 [==============================] - 98s 388ms/step - loss: 3.7748 - accuracy: 0.1707 - val_loss: 3.3513 - val_accuracy: 0.2500\n",
            "Epoch 35/150\n",
            "252/252 [==============================] - ETA: 0s - loss: 3.6883 - accuracy: 0.1896\n",
            "Epoch 00035: val_loss did not improve from 3.35135\n",
            "252/252 [==============================] - 90s 356ms/step - loss: 3.6883 - accuracy: 0.1896 - val_loss: 3.3837 - val_accuracy: 0.2500\n",
            "Epoch 36/150\n",
            "252/252 [==============================] - ETA: 0s - loss: 3.6863 - accuracy: 0.1806\n",
            "Epoch 00036: val_loss improved from 3.35135 to 3.24023, saving model to /content/drive/My Drive/1-piece/GreyScale_Desnet121.h5\n",
            "252/252 [==============================] - 97s 384ms/step - loss: 3.6863 - accuracy: 0.1806 - val_loss: 3.2402 - val_accuracy: 0.2768\n",
            "Epoch 37/150\n",
            "252/252 [==============================] - ETA: 0s - loss: 3.6939 - accuracy: 0.1940\n",
            "Epoch 00037: val_loss did not improve from 3.24023\n",
            "252/252 [==============================] - 87s 344ms/step - loss: 3.6939 - accuracy: 0.1940 - val_loss: 3.3414 - val_accuracy: 0.3036\n",
            "Epoch 38/150\n",
            "252/252 [==============================] - ETA: 0s - loss: 3.6106 - accuracy: 0.1945\n",
            "Epoch 00038: val_loss did not improve from 3.24023\n",
            "252/252 [==============================] - 84s 332ms/step - loss: 3.6106 - accuracy: 0.1945 - val_loss: 3.4531 - val_accuracy: 0.2946\n",
            "Epoch 39/150\n",
            "252/252 [==============================] - ETA: 0s - loss: 3.7061 - accuracy: 0.1926\n",
            "Epoch 00039: val_loss did not improve from 3.24023\n",
            "252/252 [==============================] - 84s 335ms/step - loss: 3.7061 - accuracy: 0.1926 - val_loss: 3.2895 - val_accuracy: 0.2589\n",
            "Epoch 40/150\n",
            "252/252 [==============================] - ETA: 0s - loss: 3.6368 - accuracy: 0.2084\n",
            "Epoch 00040: val_loss did not improve from 3.24023\n",
            "252/252 [==============================] - 84s 334ms/step - loss: 3.6368 - accuracy: 0.2084 - val_loss: 3.2895 - val_accuracy: 0.3393\n",
            "Epoch 41/150\n",
            "252/252 [==============================] - ETA: 0s - loss: 3.6081 - accuracy: 0.2144\n",
            "Epoch 00041: val_loss did not improve from 3.24023\n",
            "252/252 [==============================] - 84s 334ms/step - loss: 3.6081 - accuracy: 0.2144 - val_loss: 3.2420 - val_accuracy: 0.2500\n",
            "Epoch 42/150\n",
            "252/252 [==============================] - ETA: 0s - loss: 3.5877 - accuracy: 0.2144\n",
            "Epoch 00042: val_loss did not improve from 3.24023\n",
            "252/252 [==============================] - 84s 333ms/step - loss: 3.5877 - accuracy: 0.2144 - val_loss: 3.6817 - val_accuracy: 0.2768\n",
            "Epoch 43/150\n",
            "252/252 [==============================] - ETA: 0s - loss: 3.5095 - accuracy: 0.2139\n",
            "Epoch 00043: val_loss improved from 3.24023 to 3.05426, saving model to /content/drive/My Drive/1-piece/GreyScale_Desnet121.h5\n",
            "252/252 [==============================] - 93s 370ms/step - loss: 3.5095 - accuracy: 0.2139 - val_loss: 3.0543 - val_accuracy: 0.3482\n",
            "Epoch 44/150\n",
            "252/252 [==============================] - ETA: 0s - loss: 3.4766 - accuracy: 0.2407\n",
            "Epoch 00044: val_loss improved from 3.05426 to 2.93183, saving model to /content/drive/My Drive/1-piece/GreyScale_Desnet121.h5\n",
            "252/252 [==============================] - 96s 382ms/step - loss: 3.4766 - accuracy: 0.2407 - val_loss: 2.9318 - val_accuracy: 0.3571\n",
            "Epoch 45/150\n",
            "252/252 [==============================] - ETA: 0s - loss: 3.5149 - accuracy: 0.2164\n",
            "Epoch 00045: val_loss did not improve from 2.93183\n",
            "252/252 [==============================] - 87s 343ms/step - loss: 3.5149 - accuracy: 0.2164 - val_loss: 3.4436 - val_accuracy: 0.2500\n",
            "Epoch 46/150\n",
            "252/252 [==============================] - ETA: 0s - loss: 3.3707 - accuracy: 0.2447\n",
            "Epoch 00046: val_loss improved from 2.93183 to 2.92646, saving model to /content/drive/My Drive/1-piece/GreyScale_Desnet121.h5\n",
            "252/252 [==============================] - 93s 370ms/step - loss: 3.3707 - accuracy: 0.2447 - val_loss: 2.9265 - val_accuracy: 0.3571\n",
            "Epoch 47/150\n",
            "252/252 [==============================] - ETA: 0s - loss: 3.3702 - accuracy: 0.2367\n",
            "Epoch 00047: val_loss improved from 2.92646 to 2.91764, saving model to /content/drive/My Drive/1-piece/GreyScale_Desnet121.h5\n",
            "252/252 [==============================] - 96s 379ms/step - loss: 3.3702 - accuracy: 0.2367 - val_loss: 2.9176 - val_accuracy: 0.3036\n",
            "Epoch 48/150\n",
            "252/252 [==============================] - ETA: 0s - loss: 3.2913 - accuracy: 0.2541\n",
            "Epoch 00048: val_loss improved from 2.91764 to 2.84832, saving model to /content/drive/My Drive/1-piece/GreyScale_Desnet121.h5\n",
            "252/252 [==============================] - 97s 383ms/step - loss: 3.2913 - accuracy: 0.2541 - val_loss: 2.8483 - val_accuracy: 0.3571\n",
            "Epoch 49/150\n",
            "252/252 [==============================] - ETA: 0s - loss: 3.3283 - accuracy: 0.2665\n",
            "Epoch 00049: val_loss did not improve from 2.84832\n",
            "252/252 [==============================] - 88s 348ms/step - loss: 3.3283 - accuracy: 0.2665 - val_loss: 3.3760 - val_accuracy: 0.3214\n",
            "Epoch 50/150\n",
            "252/252 [==============================] - ETA: 0s - loss: 3.3135 - accuracy: 0.2596\n",
            "Epoch 00050: val_loss did not improve from 2.84832\n",
            "252/252 [==============================] - 84s 334ms/step - loss: 3.3135 - accuracy: 0.2596 - val_loss: 2.8643 - val_accuracy: 0.4018\n",
            "Epoch 51/150\n",
            "252/252 [==============================] - ETA: 0s - loss: 3.2724 - accuracy: 0.2734\n",
            "Epoch 00051: val_loss improved from 2.84832 to 2.73084, saving model to /content/drive/My Drive/1-piece/GreyScale_Desnet121.h5\n",
            "252/252 [==============================] - 92s 367ms/step - loss: 3.2724 - accuracy: 0.2734 - val_loss: 2.7308 - val_accuracy: 0.4107\n",
            "Epoch 52/150\n",
            "252/252 [==============================] - ETA: 0s - loss: 3.1918 - accuracy: 0.2849\n",
            "Epoch 00052: val_loss did not improve from 2.73084\n",
            "252/252 [==============================] - 86s 342ms/step - loss: 3.1918 - accuracy: 0.2849 - val_loss: 2.7453 - val_accuracy: 0.4107\n",
            "Epoch 53/150\n",
            "252/252 [==============================] - ETA: 0s - loss: 3.4003 - accuracy: 0.2541\n",
            "Epoch 00053: val_loss did not improve from 2.73084\n",
            "252/252 [==============================] - 85s 336ms/step - loss: 3.4003 - accuracy: 0.2541 - val_loss: 3.0759 - val_accuracy: 0.2946\n",
            "Epoch 54/150\n",
            "252/252 [==============================] - ETA: 0s - loss: 3.3100 - accuracy: 0.2620\n",
            "Epoch 00054: val_loss did not improve from 2.73084\n",
            "252/252 [==============================] - 84s 334ms/step - loss: 3.3100 - accuracy: 0.2620 - val_loss: 2.9537 - val_accuracy: 0.3929\n",
            "Epoch 55/150\n",
            "252/252 [==============================] - ETA: 0s - loss: 3.2263 - accuracy: 0.2739\n",
            "Epoch 00055: val_loss improved from 2.73084 to 2.67629, saving model to /content/drive/My Drive/1-piece/GreyScale_Desnet121.h5\n",
            "252/252 [==============================] - 92s 363ms/step - loss: 3.2263 - accuracy: 0.2739 - val_loss: 2.6763 - val_accuracy: 0.4464\n",
            "Epoch 56/150\n",
            "252/252 [==============================] - ETA: 0s - loss: 3.1716 - accuracy: 0.2928\n",
            "Epoch 00056: val_loss improved from 2.67629 to 2.56896, saving model to /content/drive/My Drive/1-piece/GreyScale_Desnet121.h5\n",
            "252/252 [==============================] - 95s 377ms/step - loss: 3.1716 - accuracy: 0.2928 - val_loss: 2.5690 - val_accuracy: 0.4643\n",
            "Epoch 57/150\n",
            "252/252 [==============================] - ETA: 0s - loss: 3.1279 - accuracy: 0.2913\n",
            "Epoch 00057: val_loss did not improve from 2.56896\n",
            "252/252 [==============================] - 87s 344ms/step - loss: 3.1279 - accuracy: 0.2913 - val_loss: 2.5938 - val_accuracy: 0.4643\n",
            "Epoch 58/150\n",
            "252/252 [==============================] - ETA: 0s - loss: 3.1537 - accuracy: 0.2814\n",
            "Epoch 00058: val_loss did not improve from 2.56896\n",
            "252/252 [==============================] - 84s 333ms/step - loss: 3.1537 - accuracy: 0.2814 - val_loss: 2.6629 - val_accuracy: 0.4464\n",
            "Epoch 59/150\n",
            "252/252 [==============================] - ETA: 0s - loss: 3.1804 - accuracy: 0.2958\n",
            "Epoch 00059: val_loss did not improve from 2.56896\n",
            "252/252 [==============================] - 84s 333ms/step - loss: 3.1804 - accuracy: 0.2958 - val_loss: 2.8903 - val_accuracy: 0.4375\n",
            "Epoch 60/150\n",
            "252/252 [==============================] - ETA: 0s - loss: 3.2171 - accuracy: 0.2868\n",
            "Epoch 00060: val_loss did not improve from 2.56896\n",
            "252/252 [==============================] - 84s 333ms/step - loss: 3.2171 - accuracy: 0.2868 - val_loss: 2.6367 - val_accuracy: 0.4732\n",
            "Epoch 61/150\n",
            "252/252 [==============================] - ETA: 0s - loss: 3.1140 - accuracy: 0.3057\n",
            "Epoch 00061: val_loss improved from 2.56896 to 2.43578, saving model to /content/drive/My Drive/1-piece/GreyScale_Desnet121.h5\n",
            "252/252 [==============================] - 91s 363ms/step - loss: 3.1140 - accuracy: 0.3057 - val_loss: 2.4358 - val_accuracy: 0.5089\n",
            "Epoch 62/150\n",
            "252/252 [==============================] - ETA: 0s - loss: 3.1422 - accuracy: 0.3236\n",
            "Epoch 00062: val_loss improved from 2.43578 to 2.40081, saving model to /content/drive/My Drive/1-piece/GreyScale_Desnet121.h5\n",
            "252/252 [==============================] - 95s 377ms/step - loss: 3.1422 - accuracy: 0.3236 - val_loss: 2.4008 - val_accuracy: 0.5089\n",
            "Epoch 63/150\n",
            "252/252 [==============================] - ETA: 0s - loss: 3.0706 - accuracy: 0.3146\n",
            "Epoch 00063: val_loss did not improve from 2.40081\n",
            "252/252 [==============================] - 87s 345ms/step - loss: 3.0706 - accuracy: 0.3146 - val_loss: 2.5467 - val_accuracy: 0.4464\n",
            "Epoch 64/150\n",
            "252/252 [==============================] - ETA: 0s - loss: 3.0342 - accuracy: 0.3390\n",
            "Epoch 00064: val_loss did not improve from 2.40081\n",
            "252/252 [==============================] - 85s 335ms/step - loss: 3.0342 - accuracy: 0.3390 - val_loss: 2.5283 - val_accuracy: 0.4375\n",
            "Epoch 65/150\n",
            "252/252 [==============================] - ETA: 0s - loss: 3.0143 - accuracy: 0.3176\n",
            "Epoch 00065: val_loss improved from 2.40081 to 2.37053, saving model to /content/drive/My Drive/1-piece/GreyScale_Desnet121.h5\n",
            "252/252 [==============================] - 92s 365ms/step - loss: 3.0143 - accuracy: 0.3176 - val_loss: 2.3705 - val_accuracy: 0.5089\n",
            "Epoch 66/150\n",
            "252/252 [==============================] - ETA: 0s - loss: 2.9388 - accuracy: 0.3221\n",
            "Epoch 00066: val_loss improved from 2.37053 to 2.34575, saving model to /content/drive/My Drive/1-piece/GreyScale_Desnet121.h5\n",
            "252/252 [==============================] - 95s 378ms/step - loss: 2.9388 - accuracy: 0.3221 - val_loss: 2.3457 - val_accuracy: 0.4821\n",
            "Epoch 67/150\n",
            "252/252 [==============================] - ETA: 0s - loss: 2.8885 - accuracy: 0.3290\n",
            "Epoch 00067: val_loss did not improve from 2.34575\n",
            "252/252 [==============================] - 87s 345ms/step - loss: 2.8885 - accuracy: 0.3290 - val_loss: 2.5313 - val_accuracy: 0.4911\n",
            "Epoch 68/150\n",
            "252/252 [==============================] - ETA: 0s - loss: 2.8802 - accuracy: 0.3444\n",
            "Epoch 00068: val_loss improved from 2.34575 to 2.23194, saving model to /content/drive/My Drive/1-piece/GreyScale_Desnet121.h5\n",
            "252/252 [==============================] - 93s 370ms/step - loss: 2.8802 - accuracy: 0.3444 - val_loss: 2.2319 - val_accuracy: 0.5357\n",
            "Epoch 69/150\n",
            "252/252 [==============================] - ETA: 0s - loss: 2.9252 - accuracy: 0.3489\n",
            "Epoch 00069: val_loss did not improve from 2.23194\n",
            "252/252 [==============================] - 86s 342ms/step - loss: 2.9252 - accuracy: 0.3489 - val_loss: 2.4523 - val_accuracy: 0.5446\n",
            "Epoch 70/150\n",
            "252/252 [==============================] - ETA: 0s - loss: 2.8640 - accuracy: 0.3474\n",
            "Epoch 00070: val_loss did not improve from 2.23194\n",
            "252/252 [==============================] - 84s 335ms/step - loss: 2.8640 - accuracy: 0.3474 - val_loss: 2.2529 - val_accuracy: 0.5714\n",
            "Epoch 71/150\n",
            "252/252 [==============================] - ETA: 0s - loss: 2.7708 - accuracy: 0.3603\n",
            "Epoch 00071: val_loss did not improve from 2.23194\n",
            "252/252 [==============================] - 84s 335ms/step - loss: 2.7708 - accuracy: 0.3603 - val_loss: 2.3606 - val_accuracy: 0.4732\n",
            "Epoch 72/150\n",
            "252/252 [==============================] - ETA: 0s - loss: 2.7915 - accuracy: 0.3578\n",
            "Epoch 00072: val_loss improved from 2.23194 to 2.05835, saving model to /content/drive/My Drive/1-piece/GreyScale_Desnet121.h5\n",
            "252/252 [==============================] - 94s 372ms/step - loss: 2.7915 - accuracy: 0.3578 - val_loss: 2.0583 - val_accuracy: 0.5446\n",
            "Epoch 73/150\n",
            "252/252 [==============================] - ETA: 0s - loss: 2.7967 - accuracy: 0.3414\n",
            "Epoch 00073: val_loss did not improve from 2.05835\n",
            "252/252 [==============================] - 86s 342ms/step - loss: 2.7967 - accuracy: 0.3414 - val_loss: 2.2888 - val_accuracy: 0.4911\n",
            "Epoch 74/150\n",
            "252/252 [==============================] - ETA: 0s - loss: 2.7259 - accuracy: 0.3598\n",
            "Epoch 00074: val_loss did not improve from 2.05835\n",
            "252/252 [==============================] - 84s 334ms/step - loss: 2.7259 - accuracy: 0.3598 - val_loss: 2.0909 - val_accuracy: 0.5357\n",
            "Epoch 75/150\n",
            "252/252 [==============================] - ETA: 0s - loss: 2.8434 - accuracy: 0.3479\n",
            "Epoch 00075: val_loss did not improve from 2.05835\n",
            "252/252 [==============================] - 84s 333ms/step - loss: 2.8434 - accuracy: 0.3479 - val_loss: 2.4877 - val_accuracy: 0.5000\n",
            "Epoch 76/150\n",
            "252/252 [==============================] - ETA: 0s - loss: 2.7750 - accuracy: 0.3653\n",
            "Epoch 00076: val_loss did not improve from 2.05835\n",
            "252/252 [==============================] - 85s 336ms/step - loss: 2.7750 - accuracy: 0.3653 - val_loss: 2.1138 - val_accuracy: 0.5179\n",
            "Epoch 77/150\n",
            "252/252 [==============================] - ETA: 0s - loss: 2.7670 - accuracy: 0.3494\n",
            "Epoch 00077: val_loss did not improve from 2.05835\n",
            "252/252 [==============================] - 85s 336ms/step - loss: 2.7670 - accuracy: 0.3494 - val_loss: 2.1771 - val_accuracy: 0.5893\n",
            "Epoch 78/150\n",
            "252/252 [==============================] - ETA: 0s - loss: 2.6318 - accuracy: 0.3797\n",
            "Epoch 00078: val_loss did not improve from 2.05835\n",
            "252/252 [==============================] - 84s 334ms/step - loss: 2.6318 - accuracy: 0.3797 - val_loss: 2.1567 - val_accuracy: 0.5000\n",
            "Epoch 79/150\n",
            "252/252 [==============================] - ETA: 0s - loss: 2.6273 - accuracy: 0.3782\n",
            "Epoch 00079: val_loss did not improve from 2.05835\n",
            "252/252 [==============================] - 84s 333ms/step - loss: 2.6273 - accuracy: 0.3782 - val_loss: 2.1016 - val_accuracy: 0.5982\n",
            "Epoch 80/150\n",
            "252/252 [==============================] - ETA: 0s - loss: 2.6198 - accuracy: 0.3792\n",
            "Epoch 00080: val_loss improved from 2.05835 to 2.00937, saving model to /content/drive/My Drive/1-piece/GreyScale_Desnet121.h5\n",
            "252/252 [==============================] - 93s 368ms/step - loss: 2.6198 - accuracy: 0.3792 - val_loss: 2.0094 - val_accuracy: 0.5536\n",
            "Epoch 81/150\n",
            "252/252 [==============================] - ETA: 0s - loss: 2.5655 - accuracy: 0.3806\n",
            "Epoch 00081: val_loss did not improve from 2.00937\n",
            "252/252 [==============================] - 87s 345ms/step - loss: 2.5655 - accuracy: 0.3806 - val_loss: 2.2856 - val_accuracy: 0.4911\n",
            "Epoch 82/150\n",
            "252/252 [==============================] - ETA: 0s - loss: 2.6670 - accuracy: 0.3797\n",
            "Epoch 00082: val_loss did not improve from 2.00937\n",
            "252/252 [==============================] - 84s 333ms/step - loss: 2.6670 - accuracy: 0.3797 - val_loss: 2.2080 - val_accuracy: 0.5000\n",
            "Epoch 83/150\n",
            "252/252 [==============================] - ETA: 0s - loss: 2.6587 - accuracy: 0.3811\n",
            "Epoch 00083: val_loss did not improve from 2.00937\n",
            "252/252 [==============================] - 84s 332ms/step - loss: 2.6587 - accuracy: 0.3811 - val_loss: 2.1719 - val_accuracy: 0.5089\n",
            "Epoch 84/150\n",
            "252/252 [==============================] - ETA: 0s - loss: 2.9544 - accuracy: 0.3801\n",
            "Epoch 00084: val_loss did not improve from 2.00937\n",
            "252/252 [==============================] - 84s 332ms/step - loss: 2.9544 - accuracy: 0.3801 - val_loss: 2.1818 - val_accuracy: 0.5446\n",
            "Epoch 85/150\n",
            "252/252 [==============================] - ETA: 0s - loss: 2.8348 - accuracy: 0.3568\n",
            "Epoch 00085: val_loss did not improve from 2.00937\n",
            "252/252 [==============================] - 84s 334ms/step - loss: 2.8348 - accuracy: 0.3568 - val_loss: 2.0420 - val_accuracy: 0.5268\n",
            "Epoch 86/150\n",
            "252/252 [==============================] - ETA: 0s - loss: 2.6729 - accuracy: 0.3876\n",
            "Epoch 00086: val_loss improved from 2.00937 to 1.93449, saving model to /content/drive/My Drive/1-piece/GreyScale_Desnet121.h5\n",
            "252/252 [==============================] - 93s 367ms/step - loss: 2.6729 - accuracy: 0.3876 - val_loss: 1.9345 - val_accuracy: 0.5446\n",
            "Epoch 87/150\n",
            "252/252 [==============================] - ETA: 0s - loss: 2.5997 - accuracy: 0.3856\n",
            "Epoch 00087: val_loss improved from 1.93449 to 1.92016, saving model to /content/drive/My Drive/1-piece/GreyScale_Desnet121.h5\n",
            "252/252 [==============================] - 95s 376ms/step - loss: 2.5997 - accuracy: 0.3856 - val_loss: 1.9202 - val_accuracy: 0.6250\n",
            "Epoch 88/150\n",
            "252/252 [==============================] - ETA: 0s - loss: 2.6166 - accuracy: 0.3916\n",
            "Epoch 00088: val_loss did not improve from 1.92016\n",
            "252/252 [==============================] - 87s 343ms/step - loss: 2.6166 - accuracy: 0.3916 - val_loss: 2.0846 - val_accuracy: 0.5804\n",
            "Epoch 89/150\n",
            "252/252 [==============================] - ETA: 0s - loss: 2.5459 - accuracy: 0.3965\n",
            "Epoch 00089: val_loss did not improve from 1.92016\n",
            "252/252 [==============================] - 84s 332ms/step - loss: 2.5459 - accuracy: 0.3965 - val_loss: 2.0167 - val_accuracy: 0.5714\n",
            "Epoch 90/150\n",
            "252/252 [==============================] - ETA: 0s - loss: 2.5371 - accuracy: 0.4055\n",
            "Epoch 00090: val_loss improved from 1.92016 to 1.89888, saving model to /content/drive/My Drive/1-piece/GreyScale_Desnet121.h5\n",
            "252/252 [==============================] - 92s 366ms/step - loss: 2.5371 - accuracy: 0.4055 - val_loss: 1.8989 - val_accuracy: 0.5714\n",
            "Epoch 91/150\n",
            "252/252 [==============================] - ETA: 0s - loss: 2.6686 - accuracy: 0.4005\n",
            "Epoch 00091: val_loss did not improve from 1.89888\n",
            "252/252 [==============================] - 86s 341ms/step - loss: 2.6686 - accuracy: 0.4005 - val_loss: 1.9821 - val_accuracy: 0.6071\n",
            "Epoch 92/150\n",
            "252/252 [==============================] - ETA: 0s - loss: 2.6278 - accuracy: 0.3767\n",
            "Epoch 00092: val_loss did not improve from 1.89888\n",
            "252/252 [==============================] - 84s 333ms/step - loss: 2.6278 - accuracy: 0.3767 - val_loss: 1.9975 - val_accuracy: 0.5446\n",
            "Epoch 93/150\n",
            "252/252 [==============================] - ETA: 0s - loss: 2.5062 - accuracy: 0.4104\n",
            "Epoch 00093: val_loss improved from 1.89888 to 1.86970, saving model to /content/drive/My Drive/1-piece/GreyScale_Desnet121.h5\n",
            "252/252 [==============================] - 93s 369ms/step - loss: 2.5062 - accuracy: 0.4104 - val_loss: 1.8697 - val_accuracy: 0.5893\n",
            "Epoch 94/150\n",
            "252/252 [==============================] - ETA: 0s - loss: 2.5286 - accuracy: 0.4119\n",
            "Epoch 00094: val_loss improved from 1.86970 to 1.80934, saving model to /content/drive/My Drive/1-piece/GreyScale_Desnet121.h5\n",
            "252/252 [==============================] - 95s 376ms/step - loss: 2.5286 - accuracy: 0.4119 - val_loss: 1.8093 - val_accuracy: 0.6071\n",
            "Epoch 95/150\n",
            "252/252 [==============================] - ETA: 0s - loss: 2.4299 - accuracy: 0.4313\n",
            "Epoch 00095: val_loss did not improve from 1.80934\n",
            "252/252 [==============================] - 86s 342ms/step - loss: 2.4299 - accuracy: 0.4313 - val_loss: 1.8296 - val_accuracy: 0.6339\n",
            "Epoch 96/150\n",
            "252/252 [==============================] - ETA: 0s - loss: 2.4997 - accuracy: 0.3945\n",
            "Epoch 00096: val_loss did not improve from 1.80934\n",
            "252/252 [==============================] - 83s 330ms/step - loss: 2.4997 - accuracy: 0.3945 - val_loss: 1.8565 - val_accuracy: 0.5893\n",
            "Epoch 97/150\n",
            "252/252 [==============================] - ETA: 0s - loss: 2.6643 - accuracy: 0.4050\n",
            "Epoch 00097: val_loss did not improve from 1.80934\n",
            "252/252 [==============================] - 84s 332ms/step - loss: 2.6643 - accuracy: 0.4050 - val_loss: 2.1127 - val_accuracy: 0.5179\n",
            "Epoch 98/150\n",
            "252/252 [==============================] - ETA: 0s - loss: 2.4383 - accuracy: 0.4074\n",
            "Epoch 00098: val_loss improved from 1.80934 to 1.78858, saving model to /content/drive/My Drive/1-piece/GreyScale_Desnet121.h5\n",
            "252/252 [==============================] - 93s 369ms/step - loss: 2.4383 - accuracy: 0.4074 - val_loss: 1.7886 - val_accuracy: 0.5625\n",
            "Epoch 99/150\n",
            "252/252 [==============================] - ETA: 0s - loss: 2.4077 - accuracy: 0.4392\n",
            "Epoch 00099: val_loss did not improve from 1.78858\n",
            "252/252 [==============================] - 87s 344ms/step - loss: 2.4077 - accuracy: 0.4392 - val_loss: 1.9183 - val_accuracy: 0.5357\n",
            "Epoch 100/150\n",
            "252/252 [==============================] - ETA: 0s - loss: 2.4455 - accuracy: 0.4149\n",
            "Epoch 00100: val_loss did not improve from 1.78858\n",
            "252/252 [==============================] - 84s 334ms/step - loss: 2.4455 - accuracy: 0.4149 - val_loss: 1.9154 - val_accuracy: 0.5446\n",
            "Epoch 101/150\n",
            "252/252 [==============================] - ETA: 0s - loss: 2.4161 - accuracy: 0.4362\n",
            "Epoch 00101: val_loss did not improve from 1.78858\n",
            "252/252 [==============================] - 84s 331ms/step - loss: 2.4161 - accuracy: 0.4362 - val_loss: 1.7917 - val_accuracy: 0.5893\n",
            "Epoch 102/150\n",
            "252/252 [==============================] - ETA: 0s - loss: 2.5457 - accuracy: 0.4139\n",
            "Epoch 00102: val_loss improved from 1.78858 to 1.78694, saving model to /content/drive/My Drive/1-piece/GreyScale_Desnet121.h5\n",
            "252/252 [==============================] - 95s 377ms/step - loss: 2.5457 - accuracy: 0.4139 - val_loss: 1.7869 - val_accuracy: 0.6696\n",
            "Epoch 103/150\n",
            "252/252 [==============================] - ETA: 0s - loss: 2.5576 - accuracy: 0.4000\n",
            "Epoch 00103: val_loss improved from 1.78694 to 1.68899, saving model to /content/drive/My Drive/1-piece/GreyScale_Desnet121.h5\n",
            "252/252 [==============================] - 94s 374ms/step - loss: 2.5576 - accuracy: 0.4000 - val_loss: 1.6890 - val_accuracy: 0.6964\n",
            "Epoch 104/150\n",
            "252/252 [==============================] - ETA: 0s - loss: 2.4325 - accuracy: 0.4233\n",
            "Epoch 00104: val_loss did not improve from 1.68899\n",
            "252/252 [==============================] - 87s 345ms/step - loss: 2.4325 - accuracy: 0.4233 - val_loss: 1.7977 - val_accuracy: 0.6607\n",
            "Epoch 105/150\n",
            "252/252 [==============================] - ETA: 0s - loss: 2.4825 - accuracy: 0.4372\n",
            "Epoch 00105: val_loss did not improve from 1.68899\n",
            "252/252 [==============================] - 85s 338ms/step - loss: 2.4825 - accuracy: 0.4372 - val_loss: 1.7971 - val_accuracy: 0.5982\n",
            "Epoch 106/150\n",
            "252/252 [==============================] - ETA: 0s - loss: 2.3935 - accuracy: 0.4511\n",
            "Epoch 00106: val_loss did not improve from 1.68899\n",
            "252/252 [==============================] - 85s 337ms/step - loss: 2.3935 - accuracy: 0.4511 - val_loss: 1.7432 - val_accuracy: 0.5804\n",
            "Epoch 107/150\n",
            "252/252 [==============================] - ETA: 0s - loss: 2.4034 - accuracy: 0.4278\n",
            "Epoch 00107: val_loss improved from 1.68899 to 1.66131, saving model to /content/drive/My Drive/1-piece/GreyScale_Desnet121.h5\n",
            "252/252 [==============================] - 93s 368ms/step - loss: 2.4034 - accuracy: 0.4278 - val_loss: 1.6613 - val_accuracy: 0.6964\n",
            "Epoch 108/150\n",
            "252/252 [==============================] - ETA: 0s - loss: 2.7751 - accuracy: 0.4303\n",
            "Epoch 00108: val_loss did not improve from 1.66131\n",
            "252/252 [==============================] - 87s 344ms/step - loss: 2.7751 - accuracy: 0.4303 - val_loss: 1.7464 - val_accuracy: 0.6429\n",
            "Epoch 109/150\n",
            "252/252 [==============================] - ETA: 0s - loss: 2.4622 - accuracy: 0.4164\n",
            "Epoch 00109: val_loss did not improve from 1.66131\n",
            "252/252 [==============================] - 85s 336ms/step - loss: 2.4622 - accuracy: 0.4164 - val_loss: 1.8349 - val_accuracy: 0.6250\n",
            "Epoch 110/150\n",
            "252/252 [==============================] - ETA: 0s - loss: 2.3989 - accuracy: 0.4377\n",
            "Epoch 00110: val_loss did not improve from 1.66131\n",
            "252/252 [==============================] - 84s 332ms/step - loss: 2.3989 - accuracy: 0.4377 - val_loss: 1.7604 - val_accuracy: 0.6607\n",
            "Epoch 111/150\n",
            "252/252 [==============================] - ETA: 0s - loss: 2.3828 - accuracy: 0.4462\n",
            "Epoch 00111: val_loss did not improve from 1.66131\n",
            "252/252 [==============================] - 84s 333ms/step - loss: 2.3828 - accuracy: 0.4462 - val_loss: 1.8254 - val_accuracy: 0.5714\n",
            "Epoch 112/150\n",
            "252/252 [==============================] - ETA: 0s - loss: 2.4876 - accuracy: 0.4521\n",
            "Epoch 00112: val_loss did not improve from 1.66131\n",
            "252/252 [==============================] - 84s 333ms/step - loss: 2.4876 - accuracy: 0.4521 - val_loss: 1.8701 - val_accuracy: 0.5893\n",
            "Epoch 113/150\n",
            "252/252 [==============================] - ETA: 0s - loss: 2.3142 - accuracy: 0.4581\n",
            "Epoch 00113: val_loss did not improve from 1.66131\n",
            "252/252 [==============================] - 84s 335ms/step - loss: 2.3142 - accuracy: 0.4581 - val_loss: 1.6723 - val_accuracy: 0.7054\n",
            "Epoch 114/150\n",
            "252/252 [==============================] - ETA: 0s - loss: 2.2909 - accuracy: 0.4452\n",
            "Epoch 00114: val_loss did not improve from 1.66131\n",
            "252/252 [==============================] - 83s 331ms/step - loss: 2.2909 - accuracy: 0.4452 - val_loss: 1.7426 - val_accuracy: 0.5982\n",
            "Epoch 115/150\n",
            "252/252 [==============================] - ETA: 0s - loss: 2.2415 - accuracy: 0.4630\n",
            "Epoch 00115: val_loss improved from 1.66131 to 1.58509, saving model to /content/drive/My Drive/1-piece/GreyScale_Desnet121.h5\n",
            "252/252 [==============================] - 92s 367ms/step - loss: 2.2415 - accuracy: 0.4630 - val_loss: 1.5851 - val_accuracy: 0.6518\n",
            "Epoch 116/150\n",
            "252/252 [==============================] - ETA: 0s - loss: 2.4127 - accuracy: 0.4496\n",
            "Epoch 00116: val_loss did not improve from 1.58509\n",
            "252/252 [==============================] - 86s 341ms/step - loss: 2.4127 - accuracy: 0.4496 - val_loss: 1.9894 - val_accuracy: 0.5804\n",
            "Epoch 117/150\n",
            "252/252 [==============================] - ETA: 0s - loss: 2.3010 - accuracy: 0.4457\n",
            "Epoch 00117: val_loss did not improve from 1.58509\n",
            "252/252 [==============================] - 84s 334ms/step - loss: 2.3010 - accuracy: 0.4457 - val_loss: 1.6145 - val_accuracy: 0.6964\n",
            "Epoch 118/150\n",
            "252/252 [==============================] - ETA: 0s - loss: 2.2749 - accuracy: 0.4506\n",
            "Epoch 00118: val_loss did not improve from 1.58509\n",
            "252/252 [==============================] - 84s 333ms/step - loss: 2.2749 - accuracy: 0.4506 - val_loss: 1.7373 - val_accuracy: 0.5714\n",
            "Epoch 119/150\n",
            "252/252 [==============================] - ETA: 0s - loss: 2.3260 - accuracy: 0.4402\n",
            "Epoch 00119: val_loss improved from 1.58509 to 1.52557, saving model to /content/drive/My Drive/1-piece/GreyScale_Desnet121.h5\n",
            "252/252 [==============================] - 93s 369ms/step - loss: 2.3260 - accuracy: 0.4402 - val_loss: 1.5256 - val_accuracy: 0.6786\n",
            "Epoch 120/150\n",
            "252/252 [==============================] - ETA: 0s - loss: 2.2859 - accuracy: 0.4680\n",
            "Epoch 00120: val_loss did not improve from 1.52557\n",
            "252/252 [==============================] - 86s 342ms/step - loss: 2.2859 - accuracy: 0.4680 - val_loss: 1.6531 - val_accuracy: 0.6518\n",
            "Epoch 121/150\n",
            "252/252 [==============================] - ETA: 0s - loss: 2.2941 - accuracy: 0.4506\n",
            "Epoch 00121: val_loss did not improve from 1.52557\n",
            "252/252 [==============================] - 84s 332ms/step - loss: 2.2941 - accuracy: 0.4506 - val_loss: 1.6192 - val_accuracy: 0.6429\n",
            "Epoch 122/150\n",
            "252/252 [==============================] - ETA: 0s - loss: 2.2658 - accuracy: 0.4635\n",
            "Epoch 00122: val_loss did not improve from 1.52557\n",
            "252/252 [==============================] - 83s 331ms/step - loss: 2.2658 - accuracy: 0.4635 - val_loss: 2.2150 - val_accuracy: 0.4821\n",
            "Epoch 123/150\n",
            "252/252 [==============================] - ETA: 0s - loss: 2.4916 - accuracy: 0.4278\n",
            "Epoch 00123: val_loss did not improve from 1.52557\n",
            "252/252 [==============================] - 83s 331ms/step - loss: 2.4916 - accuracy: 0.4278 - val_loss: 1.7671 - val_accuracy: 0.6429\n",
            "Epoch 124/150\n",
            "252/252 [==============================] - ETA: 0s - loss: 2.3981 - accuracy: 0.4392\n",
            "Epoch 00124: val_loss did not improve from 1.52557\n",
            "252/252 [==============================] - 83s 330ms/step - loss: 2.3981 - accuracy: 0.4392 - val_loss: 1.7100 - val_accuracy: 0.6339\n",
            "Epoch 125/150\n",
            "252/252 [==============================] - ETA: 0s - loss: 2.2793 - accuracy: 0.4506\n",
            "Epoch 00125: val_loss did not improve from 1.52557\n",
            "252/252 [==============================] - 83s 331ms/step - loss: 2.2793 - accuracy: 0.4506 - val_loss: 1.6684 - val_accuracy: 0.6250\n",
            "Epoch 126/150\n",
            "252/252 [==============================] - ETA: 0s - loss: 2.1966 - accuracy: 0.4809\n",
            "Epoch 00126: val_loss did not improve from 1.52557\n",
            "252/252 [==============================] - 84s 332ms/step - loss: 2.1966 - accuracy: 0.4809 - val_loss: 1.6012 - val_accuracy: 0.6607\n",
            "Epoch 127/150\n",
            "252/252 [==============================] - ETA: 0s - loss: 2.4290 - accuracy: 0.4387\n",
            "Epoch 00127: val_loss did not improve from 1.52557\n",
            "252/252 [==============================] - 84s 332ms/step - loss: 2.4290 - accuracy: 0.4387 - val_loss: 1.7513 - val_accuracy: 0.5625\n",
            "Epoch 128/150\n",
            "252/252 [==============================] - ETA: 0s - loss: 2.2685 - accuracy: 0.4581\n",
            "Epoch 00128: val_loss did not improve from 1.52557\n",
            "252/252 [==============================] - 83s 331ms/step - loss: 2.2685 - accuracy: 0.4581 - val_loss: 1.6538 - val_accuracy: 0.6339\n",
            "Epoch 129/150\n",
            "252/252 [==============================] - ETA: 0s - loss: 2.6504 - accuracy: 0.4273\n",
            "Epoch 00129: val_loss did not improve from 1.52557\n",
            "252/252 [==============================] - 83s 330ms/step - loss: 2.6504 - accuracy: 0.4273 - val_loss: 55.1432 - val_accuracy: 0.5179\n",
            "Epoch 130/150\n",
            "252/252 [==============================] - ETA: 0s - loss: 3.2526 - accuracy: 0.4218\n",
            "Epoch 00130: val_loss did not improve from 1.52557\n",
            "252/252 [==============================] - 83s 330ms/step - loss: 3.2526 - accuracy: 0.4218 - val_loss: 1.8856 - val_accuracy: 0.6250\n",
            "Epoch 131/150\n",
            "252/252 [==============================] - ETA: 0s - loss: 2.4644 - accuracy: 0.4377\n",
            "Epoch 00131: val_loss did not improve from 1.52557\n",
            "252/252 [==============================] - 83s 330ms/step - loss: 2.4644 - accuracy: 0.4377 - val_loss: 1.6605 - val_accuracy: 0.6786\n",
            "Epoch 132/150\n",
            "252/252 [==============================] - ETA: 0s - loss: 2.3665 - accuracy: 0.4442\n",
            "Epoch 00132: val_loss did not improve from 1.52557\n",
            "252/252 [==============================] - 83s 328ms/step - loss: 2.3665 - accuracy: 0.4442 - val_loss: 1.7591 - val_accuracy: 0.6161\n",
            "Epoch 133/150\n",
            "252/252 [==============================] - ETA: 0s - loss: 2.4120 - accuracy: 0.4566\n",
            "Epoch 00133: val_loss did not improve from 1.52557\n",
            "252/252 [==============================] - 82s 326ms/step - loss: 2.4120 - accuracy: 0.4566 - val_loss: 1.6506 - val_accuracy: 0.6696\n",
            "Epoch 134/150\n",
            "252/252 [==============================] - ETA: 0s - loss: 2.3929 - accuracy: 0.4610\n",
            "Epoch 00134: val_loss did not improve from 1.52557\n",
            "252/252 [==============================] - 83s 328ms/step - loss: 2.3929 - accuracy: 0.4610 - val_loss: 2.6325 - val_accuracy: 0.5804\n",
            "Epoch 135/150\n",
            "252/252 [==============================] - ETA: 0s - loss: 2.4339 - accuracy: 0.4422\n",
            "Epoch 00135: val_loss did not improve from 1.52557\n",
            "252/252 [==============================] - 83s 330ms/step - loss: 2.4339 - accuracy: 0.4422 - val_loss: 1.8667 - val_accuracy: 0.5714\n",
            "Epoch 136/150\n",
            "252/252 [==============================] - ETA: 0s - loss: 2.3096 - accuracy: 0.4655\n",
            "Epoch 00136: val_loss did not improve from 1.52557\n",
            "252/252 [==============================] - 83s 330ms/step - loss: 2.3096 - accuracy: 0.4655 - val_loss: 1.8132 - val_accuracy: 0.5982\n",
            "Epoch 137/150\n",
            "252/252 [==============================] - ETA: 0s - loss: 2.3404 - accuracy: 0.4422\n",
            "Epoch 00137: val_loss did not improve from 1.52557\n",
            "252/252 [==============================] - 83s 329ms/step - loss: 2.3404 - accuracy: 0.4422 - val_loss: 1.7262 - val_accuracy: 0.6875\n",
            "Epoch 138/150\n",
            "252/252 [==============================] - ETA: 0s - loss: 2.2384 - accuracy: 0.4824\n",
            "Epoch 00138: val_loss did not improve from 1.52557\n",
            "252/252 [==============================] - 83s 328ms/step - loss: 2.2384 - accuracy: 0.4824 - val_loss: 1.6815 - val_accuracy: 0.6339\n",
            "Epoch 139/150\n",
            "252/252 [==============================] - ETA: 0s - loss: 2.2567 - accuracy: 0.4799\n",
            "Epoch 00139: val_loss improved from 1.52557 to 1.51403, saving model to /content/drive/My Drive/1-piece/GreyScale_Desnet121.h5\n",
            "252/252 [==============================] - 93s 370ms/step - loss: 2.2567 - accuracy: 0.4799 - val_loss: 1.5140 - val_accuracy: 0.6964\n",
            "Epoch 140/150\n",
            "252/252 [==============================] - ETA: 0s - loss: 2.1938 - accuracy: 0.4864\n",
            "Epoch 00140: val_loss did not improve from 1.51403\n",
            "252/252 [==============================] - 85s 338ms/step - loss: 2.1938 - accuracy: 0.4864 - val_loss: 1.6329 - val_accuracy: 0.6964\n",
            "Epoch 141/150\n",
            "252/252 [==============================] - ETA: 0s - loss: 2.1168 - accuracy: 0.4988\n",
            "Epoch 00141: val_loss improved from 1.51403 to 1.50153, saving model to /content/drive/My Drive/1-piece/GreyScale_Desnet121.h5\n",
            "252/252 [==============================] - 92s 363ms/step - loss: 2.1168 - accuracy: 0.4988 - val_loss: 1.5015 - val_accuracy: 0.7054\n",
            "Epoch 142/150\n",
            "252/252 [==============================] - ETA: 0s - loss: 2.6609 - accuracy: 0.4367\n",
            "Epoch 00142: val_loss did not improve from 1.50153\n",
            "252/252 [==============================] - 86s 341ms/step - loss: 2.6609 - accuracy: 0.4367 - val_loss: 1.5691 - val_accuracy: 0.6161\n",
            "Epoch 143/150\n",
            "252/252 [==============================] - ETA: 0s - loss: 2.3177 - accuracy: 0.4605\n",
            "Epoch 00143: val_loss did not improve from 1.50153\n",
            "252/252 [==============================] - 83s 329ms/step - loss: 2.3177 - accuracy: 0.4605 - val_loss: 1.8162 - val_accuracy: 0.6161\n",
            "Epoch 144/150\n",
            "252/252 [==============================] - ETA: 0s - loss: 2.2004 - accuracy: 0.4700\n",
            "Epoch 00144: val_loss did not improve from 1.50153\n",
            "252/252 [==============================] - 83s 328ms/step - loss: 2.2004 - accuracy: 0.4700 - val_loss: 1.6216 - val_accuracy: 0.6250\n",
            "Epoch 145/150\n",
            "252/252 [==============================] - ETA: 0s - loss: 2.3716 - accuracy: 0.4650\n",
            "Epoch 00145: val_loss did not improve from 1.50153\n",
            "252/252 [==============================] - 83s 328ms/step - loss: 2.3716 - accuracy: 0.4650 - val_loss: 1.5099 - val_accuracy: 0.6696\n",
            "Epoch 146/150\n",
            "252/252 [==============================] - ETA: 0s - loss: 2.2775 - accuracy: 0.4700\n",
            "Epoch 00146: val_loss improved from 1.50153 to 1.46694, saving model to /content/drive/My Drive/1-piece/GreyScale_Desnet121.h5\n",
            "252/252 [==============================] - 91s 363ms/step - loss: 2.2775 - accuracy: 0.4700 - val_loss: 1.4669 - val_accuracy: 0.6875\n",
            "Epoch 147/150\n",
            "252/252 [==============================] - ETA: 0s - loss: 2.2317 - accuracy: 0.4854\n",
            "Epoch 00147: val_loss did not improve from 1.46694\n",
            "252/252 [==============================] - 86s 341ms/step - loss: 2.2317 - accuracy: 0.4854 - val_loss: 1.4935 - val_accuracy: 0.6786\n",
            "Epoch 148/150\n",
            "252/252 [==============================] - ETA: 0s - loss: 2.1901 - accuracy: 0.4839\n",
            "Epoch 00148: val_loss did not improve from 1.46694\n",
            "252/252 [==============================] - 84s 332ms/step - loss: 2.1901 - accuracy: 0.4839 - val_loss: 1.5116 - val_accuracy: 0.6696\n",
            "Epoch 149/150\n",
            "252/252 [==============================] - ETA: 0s - loss: 2.0324 - accuracy: 0.5216\n",
            "Epoch 00149: val_loss did not improve from 1.46694\n",
            "252/252 [==============================] - 84s 333ms/step - loss: 2.0324 - accuracy: 0.5216 - val_loss: 1.5221 - val_accuracy: 0.6964\n",
            "Epoch 150/150\n",
            "252/252 [==============================] - ETA: 0s - loss: 2.0098 - accuracy: 0.5256\n",
            "Epoch 00150: val_loss did not improve from 1.46694\n",
            "252/252 [==============================] - 84s 334ms/step - loss: 2.0098 - accuracy: 0.5256 - val_loss: 1.5239 - val_accuracy: 0.6964\n"
          ],
          "name": "stdout"
        }
      ]
    },
    {
      "cell_type": "code",
      "metadata": {
        "id": "p_rxtN88jK4V",
        "colab_type": "code",
        "colab": {
          "base_uri": "https://localhost:8080/",
          "height": 295
        },
        "outputId": "31432adc-3109-42ad-d383-a352a2a1718e"
      },
      "source": [
        "import matplotlib.pyplot as plt\n",
        "plt.plot(hist.history[\"accuracy\"])\n",
        "plt.plot(hist.history['val_accuracy'])\n",
        "plt.title(\"model accuracy\")\n",
        "plt.ylabel(\"Accuracy\")\n",
        "plt.xlabel(\"Epoch\")\n",
        "plt.legend([\"Accuracy\",\"Validation Accuracy\"])\n",
        "plt.show()"
      ],
      "execution_count": null,
      "outputs": [
        {
          "output_type": "display_data",
          "data": {
            "image/png": "[encoded data removed]",
            "text/plain": [
              "<Figure size 432x288 with 1 Axes>"
            ]
          },
          "metadata": {
            "tags": [],
            "needs_background": "light"
          }
        }
      ]
    },
    {
      "cell_type": "code",
      "metadata": {
        "id": "D3kAJVpujRM1",
        "colab_type": "code",
        "colab": {
          "base_uri": "https://localhost:8080/",
          "height": 295
        },
        "outputId": "859c05a9-5d2d-44d1-d422-21e3428d9995"
      },
      "source": [
        "plt.plot(hist.history['loss'])\n",
        "plt.plot(hist.history['val_loss'])\n",
        "plt.title(\"model Loss\")\n",
        "plt.ylabel(\"Loss\")\n",
        "plt.xlabel(\"Epoch\")\n",
        "plt.legend([\"Loss\",\"Validation Loss\"])\n",
        "plt.show()"
      ],
      "execution_count": null,
      "outputs": [
        {
          "output_type": "display_data",
          "data": {
            "image/png": "[encoded data removed]",
            "text/plain": [
              "<Figure size 432x288 with 1 Axes>"
            ]
          },
          "metadata": {
            "tags": [],
            "needs_background": "light"
          }
        }
      ]
    },
    {
      "cell_type": "code",
      "metadata": {
        "id": "64tlbqY4jSgH",
        "colab_type": "code",
        "colab": {
          "base_uri": "https://localhost:8080/",
          "height": 34
        },
        "outputId": "076cb5c7-c9d8-4bfe-839e-1e46da859f4d"
      },
      "source": [
        "GreyTestData = TestGenerator.flow_from_directory('/content/drive/My Drive/1-piece/Test/', target_size=(224,224), batch_size = 8, shuffle = False, color_mode='grayscale')"
      ],
      "execution_count": null,
      "outputs": [
        {
          "output_type": "stream",
          "text": [
            "Found 112 images belonging to 112 classes.\n"
          ],
          "name": "stdout"
        }
      ]
    },
    {
      "cell_type": "code",
      "metadata": {
        "id": "GJjkylqrjUqW",
        "colab_type": "code",
        "colab": {}
      },
      "source": [
        "Grey_predict = model.predict(GreyTestData)"
      ],
      "execution_count": null,
      "outputs": []
    },
    {
      "cell_type": "code",
      "metadata": {
        "id": "3ayBBAJajXJ6",
        "colab_type": "code",
        "colab": {}
      },
      "source": [
        "Grey_predict_classes = np.argmax(Grey_predict, axis=1)"
      ],
      "execution_count": null,
      "outputs": []
    },
    {
      "cell_type": "code",
      "metadata": {
        "id": "kas8QZe-jZMk",
        "colab_type": "code",
        "colab": {
          "base_uri": "https://localhost:8080/",
          "height": 170
        },
        "outputId": "981444ed-8edf-4cec-dd65-063c18f8f4ff"
      },
      "source": [
        "Grey_predict_classes"
      ],
      "execution_count": null,
      "outputs": [
        {
          "output_type": "execute_result",
          "data": {
            "text/plain": [
              "array([ 24,   1,   1,   3,   4,   5,   6,   7,   8,  10,  10,  11,  23,\n",
              "        13,  14,  15,  16,  17,  18,  19,  20,  21,  22,  23,  24,  25,\n",
              "        25,  26,  17,  26,  30,  36,  32,  33,  34,  35,  36,  37,  54,\n",
              "        39,  40,  41,  42,  43,  61,  77,  46,  48,  48,  49,  87,  67,\n",
              "        67,  64,  54,  55,  51,  57,  58,  18,  60,  61,  84,  97,  64,\n",
              "        67,  66,  67,  66,  69,  70,  67,  72,  73,  74,  59,  52,  82,\n",
              "        78,  79,  80,  72,  82,  83,  74, 110,  46,  87,  88,  47, 111,\n",
              "        92,  92,  93,  94,  95,  96,  97,  98,  99, 100, 101, 102, 105,\n",
              "       104, 105,  84, 111, 108,  67,  84, 111])"
            ]
          },
          "metadata": {
            "tags": []
          },
          "execution_count": 28
        }
      ]
    },
    {
      "cell_type": "code",
      "metadata": {
        "id": "DSqjUOrTjbf4",
        "colab_type": "code",
        "colab": {}
      },
      "source": [
        "from sklearn.metrics import accuracy_score\n",
        "from sklearn.metrics import precision_score\n",
        "from sklearn.metrics import recall_score\n",
        "from sklearn.metrics import f1_score\n",
        "from sklearn.metrics import cohen_kappa_score\n",
        "from sklearn.metrics import roc_auc_score"
      ],
      "execution_count": null,
      "outputs": []
    },
    {
      "cell_type": "code",
      "metadata": {
        "id": "WLd0YYfkjejI",
        "colab_type": "code",
        "colab": {
          "base_uri": "https://localhost:8080/",
          "height": 34
        },
        "outputId": "2729f1ee-15f7-46ed-d055-fd08e603c4e5"
      },
      "source": [
        "Grey_accuracy = accuracy_score(GreyTestData.classes, Grey_predict_classes)\n",
        "print(\"Grey Accuracy: \", Grey_accuracy)"
      ],
      "execution_count": null,
      "outputs": [
        {
          "output_type": "stream",
          "text": [
            "Grey Accuracy:  0.6517857142857143\n"
          ],
          "name": "stdout"
        }
      ]
    },
    {
      "cell_type": "code",
      "metadata": {
        "id": "0ltrtnjHjgas",
        "colab_type": "code",
        "colab": {
          "base_uri": "https://localhost:8080/",
          "height": 88
        },
        "outputId": "d048c662-386d-4f42-fbac-2207ba705aed"
      },
      "source": [
        "Grey_precision = precision_score(GreyTestData.classes, Grey_predict_classes,average=\"weighted\")\n",
        "print(\"Grey Precision: \", Grey_precision)"
      ],
      "execution_count": null,
      "outputs": [
        {
          "output_type": "stream",
          "text": [
            "Grey Precision:  0.5446428571428571\n"
          ],
          "name": "stdout"
        },
        {
          "output_type": "stream",
          "text": [
            "/usr/local/lib/python3.6/dist-packages/sklearn/metrics/_classification.py:1272: UndefinedMetricWarning: Precision is ill-defined and being set to 0.0 in labels with no predicted samples. Use `zero_division` parameter to control this behavior.\n",
            "  _warn_prf(average, modifier, msg_start, len(result))\n"
          ],
          "name": "stderr"
        }
      ]
    },
    {
      "cell_type": "code",
      "metadata": {
        "id": "yhML_aPljiQK",
        "colab_type": "code",
        "colab": {
          "base_uri": "https://localhost:8080/",
          "height": 34
        },
        "outputId": "a3c46082-f9d8-4764-b6c1-2054689aeb7e"
      },
      "source": [
        "Grey_recall = recall_score(GreyTestData.classes, Grey_predict_classes, average=\"weighted\")\n",
        "print(\"Grey Recall:\", Grey_recall)"
      ],
      "execution_count": null,
      "outputs": [
        {
          "output_type": "stream",
          "text": [
            "Grey Recall: 0.6517857142857143\n"
          ],
          "name": "stdout"
        }
      ]
    },
    {
      "cell_type": "code",
      "metadata": {
        "id": "qta1SpMbjj7F",
        "colab_type": "code",
        "colab": {
          "base_uri": "https://localhost:8080/",
          "height": 34
        },
        "outputId": "f99d845b-e23d-4ba7-9649-b8952e0a2274"
      },
      "source": [
        "Grey_f1_score = f1_score(GreyTestData.classes, Grey_predict_classes, average=\"weighted\")\n",
        "print(\"F1 score for Grey: \", Grey_f1_score)"
      ],
      "execution_count": null,
      "outputs": [
        {
          "output_type": "stream",
          "text": [
            "F1 score for Grey:  0.5784438775510204\n"
          ],
          "name": "stdout"
        }
      ]
    },
    {
      "cell_type": "markdown",
      "metadata": {
        "id": "xAO6tNo_jtP7",
        "colab_type": "text"
      },
      "source": [
        "**Processing for Colour Data**"
      ]
    },
    {
      "cell_type": "code",
      "metadata": {
        "id": "DDoXH9c9jmFj",
        "colab_type": "code",
        "colab": {
          "base_uri": "https://localhost:8080/",
          "height": 34
        },
        "outputId": "d906cf78-864f-484b-9079-f3da5e1df672"
      },
      "source": [
        "Colour_TrainingData =  DataGenerator.flow_from_directory('/content/drive/My Drive/1-piece/Train/', target_size=(224,224), batch_size=8)"
      ],
      "execution_count": null,
      "outputs": [
        {
          "output_type": "stream",
          "text": [
            "Found 2015 images belonging to 112 classes.\n"
          ],
          "name": "stdout"
        }
      ]
    },
    {
      "cell_type": "code",
      "metadata": {
        "id": "eynfj3bblZTb",
        "colab_type": "code",
        "colab": {
          "base_uri": "https://localhost:8080/",
          "height": 34
        },
        "outputId": "1927411e-4de2-4f76-e7d9-200de866cd7c"
      },
      "source": [
        "Colour_ValidData =  DataGenerator.flow_from_directory('/content/drive/My Drive/1-piece/Valid/', target_size=(224,224), batch_size=8)"
      ],
      "execution_count": null,
      "outputs": [
        {
          "output_type": "stream",
          "text": [
            "Found 112 images belonging to 112 classes.\n"
          ],
          "name": "stdout"
        }
      ]
    },
    {
      "cell_type": "code",
      "metadata": {
        "id": "LnxzE2Idlb94",
        "colab_type": "code",
        "colab": {}
      },
      "source": [
        "conv_base_colour = DenseNet121(weights = 'imagenet', include_top = False)"
      ],
      "execution_count": null,
      "outputs": []
    },
    {
      "cell_type": "code",
      "metadata": {
        "id": "cD3NgJRrloR3",
        "colab_type": "code",
        "colab": {
          "base_uri": "https://localhost:8080/",
          "height": 34
        },
        "outputId": "63ec196c-3afe-4dba-a384-56e2eb185ef8"
      },
      "source": [
        "for layer in conv_base_colour.layers[:299]:\n",
        "  layer.trainable = False\n",
        "for layer in conv_base_colour.layers[299:]:\n",
        "  layer.trainable = True\n",
        "for layer in conv_base_colour.layers:\n",
        "  if isinstance(layer, BatchNormalization):\n",
        "    layer.trainable = True\n",
        "\n",
        "print(\"Done\")"
      ],
      "execution_count": null,
      "outputs": [
        {
          "output_type": "stream",
          "text": [
            "Done\n"
          ],
          "name": "stdout"
        }
      ]
    },
    {
      "cell_type": "code",
      "metadata": {
        "id": "lFg2_mkblswm",
        "colab_type": "code",
        "colab": {
          "base_uri": "https://localhost:8080/",
          "height": 1000
        },
        "outputId": "31ea3a5e-62b0-4d88-e252-d195240285eb"
      },
      "source": [
        "for i, layer in enumerate(conv_base_colour.layers):\n",
        "   print(i, layer.name, layer.trainable)"
      ],
      "execution_count": null,
      "outputs": [
        {
          "output_type": "stream",
          "text": [
            "0 input_3 False\n",
            "1 zero_padding2d_2 False\n",
            "2 conv1/conv False\n",
            "3 conv1/bn True\n",
            "4 conv1/relu False\n",
            "5 zero_padding2d_3 False\n",
            "6 pool1 False\n",
            "7 conv2_block1_0_bn True\n",
            "8 conv2_block1_0_relu False\n",
            "9 conv2_block1_1_conv False\n",
            "10 conv2_block1_1_bn True\n",
            "11 conv2_block1_1_relu False\n",
            "12 conv2_block1_2_conv False\n",
            "13 conv2_block1_concat False\n",
            "14 conv2_block2_0_bn True\n",
            "15 conv2_block2_0_relu False\n",
            "16 conv2_block2_1_conv False\n",
            "17 conv2_block2_1_bn True\n",
            "18 conv2_block2_1_relu False\n",
            "19 conv2_block2_2_conv False\n",
            "20 conv2_block2_concat False\n",
            "21 conv2_block3_0_bn True\n",
            "22 conv2_block3_0_relu False\n",
            "23 conv2_block3_1_conv False\n",
            "24 conv2_block3_1_bn True\n",
            "25 conv2_block3_1_relu False\n",
            "26 conv2_block3_2_conv False\n",
            "27 conv2_block3_concat False\n",
            "28 conv2_block4_0_bn True\n",
            "29 conv2_block4_0_relu False\n",
            "30 conv2_block4_1_conv False\n",
            "31 conv2_block4_1_bn True\n",
            "32 conv2_block4_1_relu False\n",
            "33 conv2_block4_2_conv False\n",
            "34 conv2_block4_concat False\n",
            "35 conv2_block5_0_bn True\n",
            "36 conv2_block5_0_relu False\n",
            "37 conv2_block5_1_conv False\n",
            "38 conv2_block5_1_bn True\n",
            "39 conv2_block5_1_relu False\n",
            "40 conv2_block5_2_conv False\n",
            "41 conv2_block5_concat False\n",
            "42 conv2_block6_0_bn True\n",
            "43 conv2_block6_0_relu False\n",
            "44 conv2_block6_1_conv False\n",
            "45 conv2_block6_1_bn True\n",
            "46 conv2_block6_1_relu False\n",
            "47 conv2_block6_2_conv False\n",
            "48 conv2_block6_concat False\n",
            "49 pool2_bn True\n",
            "50 pool2_relu False\n",
            "51 pool2_conv False\n",
            "52 pool2_pool False\n",
            "53 conv3_block1_0_bn True\n",
            "54 conv3_block1_0_relu False\n",
            "55 conv3_block1_1_conv False\n",
            "56 conv3_block1_1_bn True\n",
            "57 conv3_block1_1_relu False\n",
            "58 conv3_block1_2_conv False\n",
            "59 conv3_block1_concat False\n",
            "60 conv3_block2_0_bn True\n",
            "61 conv3_block2_0_relu False\n",
            "62 conv3_block2_1_conv False\n",
            "63 conv3_block2_1_bn True\n",
            "64 conv3_block2_1_relu False\n",
            "65 conv3_block2_2_conv False\n",
            "66 conv3_block2_concat False\n",
            "67 conv3_block3_0_bn True\n",
            "68 conv3_block3_0_relu False\n",
            "69 conv3_block3_1_conv False\n",
            "70 conv3_block3_1_bn True\n",
            "71 conv3_block3_1_relu False\n",
            "72 conv3_block3_2_conv False\n",
            "73 conv3_block3_concat False\n",
            "74 conv3_block4_0_bn True\n",
            "75 conv3_block4_0_relu False\n",
            "76 conv3_block4_1_conv False\n",
            "77 conv3_block4_1_bn True\n",
            "78 conv3_block4_1_relu False\n",
            "79 conv3_block4_2_conv False\n",
            "80 conv3_block4_concat False\n",
            "81 conv3_block5_0_bn True\n",
            "82 conv3_block5_0_relu False\n",
            "83 conv3_block5_1_conv False\n",
            "84 conv3_block5_1_bn True\n",
            "85 conv3_block5_1_relu False\n",
            "86 conv3_block5_2_conv False\n",
            "87 conv3_block5_concat False\n",
            "88 conv3_block6_0_bn True\n",
            "89 conv3_block6_0_relu False\n",
            "90 conv3_block6_1_conv False\n",
            "91 conv3_block6_1_bn True\n",
            "92 conv3_block6_1_relu False\n",
            "93 conv3_block6_2_conv False\n",
            "94 conv3_block6_concat False\n",
            "95 conv3_block7_0_bn True\n",
            "96 conv3_block7_0_relu False\n",
            "97 conv3_block7_1_conv False\n",
            "98 conv3_block7_1_bn True\n",
            "99 conv3_block7_1_relu False\n",
            "100 conv3_block7_2_conv False\n",
            "101 conv3_block7_concat False\n",
            "102 conv3_block8_0_bn True\n",
            "103 conv3_block8_0_relu False\n",
            "104 conv3_block8_1_conv False\n",
            "105 conv3_block8_1_bn True\n",
            "106 conv3_block8_1_relu False\n",
            "107 conv3_block8_2_conv False\n",
            "108 conv3_block8_concat False\n",
            "109 conv3_block9_0_bn True\n",
            "110 conv3_block9_0_relu False\n",
            "111 conv3_block9_1_conv False\n",
            "112 conv3_block9_1_bn True\n",
            "113 conv3_block9_1_relu False\n",
            "114 conv3_block9_2_conv False\n",
            "115 conv3_block9_concat False\n",
            "116 conv3_block10_0_bn True\n",
            "117 conv3_block10_0_relu False\n",
            "118 conv3_block10_1_conv False\n",
            "119 conv3_block10_1_bn True\n",
            "120 conv3_block10_1_relu False\n",
            "121 conv3_block10_2_conv False\n",
            "122 conv3_block10_concat False\n",
            "123 conv3_block11_0_bn True\n",
            "124 conv3_block11_0_relu False\n",
            "125 conv3_block11_1_conv False\n",
            "126 conv3_block11_1_bn True\n",
            "127 conv3_block11_1_relu False\n",
            "128 conv3_block11_2_conv False\n",
            "129 conv3_block11_concat False\n",
            "130 conv3_block12_0_bn True\n",
            "131 conv3_block12_0_relu False\n",
            "132 conv3_block12_1_conv False\n",
            "133 conv3_block12_1_bn True\n",
            "134 conv3_block12_1_relu False\n",
            "135 conv3_block12_2_conv False\n",
            "136 conv3_block12_concat False\n",
            "137 pool3_bn True\n",
            "138 pool3_relu False\n",
            "139 pool3_conv False\n",
            "140 pool3_pool False\n",
            "141 conv4_block1_0_bn True\n",
            "142 conv4_block1_0_relu False\n",
            "143 conv4_block1_1_conv False\n",
            "144 conv4_block1_1_bn True\n",
            "145 conv4_block1_1_relu False\n",
            "146 conv4_block1_2_conv False\n",
            "147 conv4_block1_concat False\n",
            "148 conv4_block2_0_bn True\n",
            "149 conv4_block2_0_relu False\n",
            "150 conv4_block2_1_conv False\n",
            "151 conv4_block2_1_bn True\n",
            "152 conv4_block2_1_relu False\n",
            "153 conv4_block2_2_conv False\n",
            "154 conv4_block2_concat False\n",
            "155 conv4_block3_0_bn True\n",
            "156 conv4_block3_0_relu False\n",
            "157 conv4_block3_1_conv False\n",
            "158 conv4_block3_1_bn True\n",
            "159 conv4_block3_1_relu False\n",
            "160 conv4_block3_2_conv False\n",
            "161 conv4_block3_concat False\n",
            "162 conv4_block4_0_bn True\n",
            "163 conv4_block4_0_relu False\n",
            "164 conv4_block4_1_conv False\n",
            "165 conv4_block4_1_bn True\n",
            "166 conv4_block4_1_relu False\n",
            "167 conv4_block4_2_conv False\n",
            "168 conv4_block4_concat False\n",
            "169 conv4_block5_0_bn True\n",
            "170 conv4_block5_0_relu False\n",
            "171 conv4_block5_1_conv False\n",
            "172 conv4_block5_1_bn True\n",
            "173 conv4_block5_1_relu False\n",
            "174 conv4_block5_2_conv False\n",
            "175 conv4_block5_concat False\n",
            "176 conv4_block6_0_bn True\n",
            "177 conv4_block6_0_relu False\n",
            "178 conv4_block6_1_conv False\n",
            "179 conv4_block6_1_bn True\n",
            "180 conv4_block6_1_relu False\n",
            "181 conv4_block6_2_conv False\n",
            "182 conv4_block6_concat False\n",
            "183 conv4_block7_0_bn True\n",
            "184 conv4_block7_0_relu False\n",
            "185 conv4_block7_1_conv False\n",
            "186 conv4_block7_1_bn True\n",
            "187 conv4_block7_1_relu False\n",
            "188 conv4_block7_2_conv False\n",
            "189 conv4_block7_concat False\n",
            "190 conv4_block8_0_bn True\n",
            "191 conv4_block8_0_relu False\n",
            "192 conv4_block8_1_conv False\n",
            "193 conv4_block8_1_bn True\n",
            "194 conv4_block8_1_relu False\n",
            "195 conv4_block8_2_conv False\n",
            "196 conv4_block8_concat False\n",
            "197 conv4_block9_0_bn True\n",
            "198 conv4_block9_0_relu False\n",
            "199 conv4_block9_1_conv False\n",
            "200 conv4_block9_1_bn True\n",
            "201 conv4_block9_1_relu False\n",
            "202 conv4_block9_2_conv False\n",
            "203 conv4_block9_concat False\n",
            "204 conv4_block10_0_bn True\n",
            "205 conv4_block10_0_relu False\n",
            "206 conv4_block10_1_conv False\n",
            "207 conv4_block10_1_bn True\n",
            "208 conv4_block10_1_relu False\n",
            "209 conv4_block10_2_conv False\n",
            "210 conv4_block10_concat False\n",
            "211 conv4_block11_0_bn True\n",
            "212 conv4_block11_0_relu False\n",
            "213 conv4_block11_1_conv False\n",
            "214 conv4_block11_1_bn True\n",
            "215 conv4_block11_1_relu False\n",
            "216 conv4_block11_2_conv False\n",
            "217 conv4_block11_concat False\n",
            "218 conv4_block12_0_bn True\n",
            "219 conv4_block12_0_relu False\n",
            "220 conv4_block12_1_conv False\n",
            "221 conv4_block12_1_bn True\n",
            "222 conv4_block12_1_relu False\n",
            "223 conv4_block12_2_conv False\n",
            "224 conv4_block12_concat False\n",
            "225 conv4_block13_0_bn True\n",
            "226 conv4_block13_0_relu False\n",
            "227 conv4_block13_1_conv False\n",
            "228 conv4_block13_1_bn True\n",
            "229 conv4_block13_1_relu False\n",
            "230 conv4_block13_2_conv False\n",
            "231 conv4_block13_concat False\n",
            "232 conv4_block14_0_bn True\n",
            "233 conv4_block14_0_relu False\n",
            "234 conv4_block14_1_conv False\n",
            "235 conv4_block14_1_bn True\n",
            "236 conv4_block14_1_relu False\n",
            "237 conv4_block14_2_conv False\n",
            "238 conv4_block14_concat False\n",
            "239 conv4_block15_0_bn True\n",
            "240 conv4_block15_0_relu False\n",
            "241 conv4_block15_1_conv False\n",
            "242 conv4_block15_1_bn True\n",
            "243 conv4_block15_1_relu False\n",
            "244 conv4_block15_2_conv False\n",
            "245 conv4_block15_concat False\n",
            "246 conv4_block16_0_bn True\n",
            "247 conv4_block16_0_relu False\n",
            "248 conv4_block16_1_conv False\n",
            "249 conv4_block16_1_bn True\n",
            "250 conv4_block16_1_relu False\n",
            "251 conv4_block16_2_conv False\n",
            "252 conv4_block16_concat False\n",
            "253 conv4_block17_0_bn True\n",
            "254 conv4_block17_0_relu False\n",
            "255 conv4_block17_1_conv False\n",
            "256 conv4_block17_1_bn True\n",
            "257 conv4_block17_1_relu False\n",
            "258 conv4_block17_2_conv False\n",
            "259 conv4_block17_concat False\n",
            "260 conv4_block18_0_bn True\n",
            "261 conv4_block18_0_relu False\n",
            "262 conv4_block18_1_conv False\n",
            "263 conv4_block18_1_bn True\n",
            "264 conv4_block18_1_relu False\n",
            "265 conv4_block18_2_conv False\n",
            "266 conv4_block18_concat False\n",
            "267 conv4_block19_0_bn True\n",
            "268 conv4_block19_0_relu False\n",
            "269 conv4_block19_1_conv False\n",
            "270 conv4_block19_1_bn True\n",
            "271 conv4_block19_1_relu False\n",
            "272 conv4_block19_2_conv False\n",
            "273 conv4_block19_concat False\n",
            "274 conv4_block20_0_bn True\n",
            "275 conv4_block20_0_relu False\n",
            "276 conv4_block20_1_conv False\n",
            "277 conv4_block20_1_bn True\n",
            "278 conv4_block20_1_relu False\n",
            "279 conv4_block20_2_conv False\n",
            "280 conv4_block20_concat False\n",
            "281 conv4_block21_0_bn True\n",
            "282 conv4_block21_0_relu False\n",
            "283 conv4_block21_1_conv False\n",
            "284 conv4_block21_1_bn True\n",
            "285 conv4_block21_1_relu False\n",
            "286 conv4_block21_2_conv False\n",
            "287 conv4_block21_concat False\n",
            "288 conv4_block22_0_bn True\n",
            "289 conv4_block22_0_relu False\n",
            "290 conv4_block22_1_conv False\n",
            "291 conv4_block22_1_bn True\n",
            "292 conv4_block22_1_relu False\n",
            "293 conv4_block22_2_conv False\n",
            "294 conv4_block22_concat False\n",
            "295 conv4_block23_0_bn True\n",
            "296 conv4_block23_0_relu False\n",
            "297 conv4_block23_1_conv False\n",
            "298 conv4_block23_1_bn True\n",
            "299 conv4_block23_1_relu True\n",
            "300 conv4_block23_2_conv True\n",
            "301 conv4_block23_concat True\n",
            "302 conv4_block24_0_bn True\n",
            "303 conv4_block24_0_relu True\n",
            "304 conv4_block24_1_conv True\n",
            "305 conv4_block24_1_bn True\n",
            "306 conv4_block24_1_relu True\n",
            "307 conv4_block24_2_conv True\n",
            "308 conv4_block24_concat True\n",
            "309 pool4_bn True\n",
            "310 pool4_relu True\n",
            "311 pool4_conv True\n",
            "312 pool4_pool True\n",
            "313 conv5_block1_0_bn True\n",
            "314 conv5_block1_0_relu True\n",
            "315 conv5_block1_1_conv True\n",
            "316 conv5_block1_1_bn True\n",
            "317 conv5_block1_1_relu True\n",
            "318 conv5_block1_2_conv True\n",
            "319 conv5_block1_concat True\n",
            "320 conv5_block2_0_bn True\n",
            "321 conv5_block2_0_relu True\n",
            "322 conv5_block2_1_conv True\n",
            "323 conv5_block2_1_bn True\n",
            "324 conv5_block2_1_relu True\n",
            "325 conv5_block2_2_conv True\n",
            "326 conv5_block2_concat True\n",
            "327 conv5_block3_0_bn True\n",
            "328 conv5_block3_0_relu True\n",
            "329 conv5_block3_1_conv True\n",
            "330 conv5_block3_1_bn True\n",
            "331 conv5_block3_1_relu True\n",
            "332 conv5_block3_2_conv True\n",
            "333 conv5_block3_concat True\n",
            "334 conv5_block4_0_bn True\n",
            "335 conv5_block4_0_relu True\n",
            "336 conv5_block4_1_conv True\n",
            "337 conv5_block4_1_bn True\n",
            "338 conv5_block4_1_relu True\n",
            "339 conv5_block4_2_conv True\n",
            "340 conv5_block4_concat True\n",
            "341 conv5_block5_0_bn True\n",
            "342 conv5_block5_0_relu True\n",
            "343 conv5_block5_1_conv True\n",
            "344 conv5_block5_1_bn True\n",
            "345 conv5_block5_1_relu True\n",
            "346 conv5_block5_2_conv True\n",
            "347 conv5_block5_concat True\n",
            "348 conv5_block6_0_bn True\n",
            "349 conv5_block6_0_relu True\n",
            "350 conv5_block6_1_conv True\n",
            "351 conv5_block6_1_bn True\n",
            "352 conv5_block6_1_relu True\n",
            "353 conv5_block6_2_conv True\n",
            "354 conv5_block6_concat True\n",
            "355 conv5_block7_0_bn True\n",
            "356 conv5_block7_0_relu True\n",
            "357 conv5_block7_1_conv True\n",
            "358 conv5_block7_1_bn True\n",
            "359 conv5_block7_1_relu True\n",
            "360 conv5_block7_2_conv True\n",
            "361 conv5_block7_concat True\n",
            "362 conv5_block8_0_bn True\n",
            "363 conv5_block8_0_relu True\n",
            "364 conv5_block8_1_conv True\n",
            "365 conv5_block8_1_bn True\n",
            "366 conv5_block8_1_relu True\n",
            "367 conv5_block8_2_conv True\n",
            "368 conv5_block8_concat True\n",
            "369 conv5_block9_0_bn True\n",
            "370 conv5_block9_0_relu True\n",
            "371 conv5_block9_1_conv True\n",
            "372 conv5_block9_1_bn True\n",
            "373 conv5_block9_1_relu True\n",
            "374 conv5_block9_2_conv True\n",
            "375 conv5_block9_concat True\n",
            "376 conv5_block10_0_bn True\n",
            "377 conv5_block10_0_relu True\n",
            "378 conv5_block10_1_conv True\n",
            "379 conv5_block10_1_bn True\n",
            "380 conv5_block10_1_relu True\n",
            "381 conv5_block10_2_conv True\n",
            "382 conv5_block10_concat True\n",
            "383 conv5_block11_0_bn True\n",
            "384 conv5_block11_0_relu True\n",
            "385 conv5_block11_1_conv True\n",
            "386 conv5_block11_1_bn True\n",
            "387 conv5_block11_1_relu True\n",
            "388 conv5_block11_2_conv True\n",
            "389 conv5_block11_concat True\n",
            "390 conv5_block12_0_bn True\n",
            "391 conv5_block12_0_relu True\n",
            "392 conv5_block12_1_conv True\n",
            "393 conv5_block12_1_bn True\n",
            "394 conv5_block12_1_relu True\n",
            "395 conv5_block12_2_conv True\n",
            "396 conv5_block12_concat True\n",
            "397 conv5_block13_0_bn True\n",
            "398 conv5_block13_0_relu True\n",
            "399 conv5_block13_1_conv True\n",
            "400 conv5_block13_1_bn True\n",
            "401 conv5_block13_1_relu True\n",
            "402 conv5_block13_2_conv True\n",
            "403 conv5_block13_concat True\n",
            "404 conv5_block14_0_bn True\n",
            "405 conv5_block14_0_relu True\n",
            "406 conv5_block14_1_conv True\n",
            "407 conv5_block14_1_bn True\n",
            "408 conv5_block14_1_relu True\n",
            "409 conv5_block14_2_conv True\n",
            "410 conv5_block14_concat True\n",
            "411 conv5_block15_0_bn True\n",
            "412 conv5_block15_0_relu True\n",
            "413 conv5_block15_1_conv True\n",
            "414 conv5_block15_1_bn True\n",
            "415 conv5_block15_1_relu True\n",
            "416 conv5_block15_2_conv True\n",
            "417 conv5_block15_concat True\n",
            "418 conv5_block16_0_bn True\n",
            "419 conv5_block16_0_relu True\n",
            "420 conv5_block16_1_conv True\n",
            "421 conv5_block16_1_bn True\n",
            "422 conv5_block16_1_relu True\n",
            "423 conv5_block16_2_conv True\n",
            "424 conv5_block16_concat True\n",
            "425 bn True\n",
            "426 relu True\n"
          ],
          "name": "stdout"
        }
      ]
    },
    {
      "cell_type": "code",
      "metadata": {
        "id": "2tV2jE7Slu3E",
        "colab_type": "code",
        "colab": {}
      },
      "source": [
        "from keras.layers import Input "
      ],
      "execution_count": null,
      "outputs": []
    },
    {
      "cell_type": "code",
      "metadata": {
        "id": "MlCngmCqmC8q",
        "colab_type": "code",
        "colab": {}
      },
      "source": [
        "input_tensor = Input(shape=(224,224,3))"
      ],
      "execution_count": null,
      "outputs": []
    },
    {
      "cell_type": "code",
      "metadata": {
        "id": "k5OcgQMBmDtR",
        "colab_type": "code",
        "colab": {}
      },
      "source": [
        "ouput = conv_base_colour(input_tensor)"
      ],
      "execution_count": null,
      "outputs": []
    },
    {
      "cell_type": "code",
      "metadata": {
        "id": "adYyZ4chmMdK",
        "colab_type": "code",
        "colab": {}
      },
      "source": [
        "models = Model(inputs = input_tensor, outputs = ouput)"
      ],
      "execution_count": null,
      "outputs": []
    },
    {
      "cell_type": "code",
      "metadata": {
        "id": "Unl3HBmgmIQi",
        "colab_type": "code",
        "colab": {}
      },
      "source": [
        "model_colour = Sequential()"
      ],
      "execution_count": null,
      "outputs": []
    },
    {
      "cell_type": "code",
      "metadata": {
        "id": "P9_Gs6dcmUSm",
        "colab_type": "code",
        "colab": {}
      },
      "source": [
        "model_colour.add(models)"
      ],
      "execution_count": null,
      "outputs": []
    },
    {
      "cell_type": "code",
      "metadata": {
        "id": "4cnfOX_mmZWj",
        "colab_type": "code",
        "colab": {}
      },
      "source": [
        "model_colour.add(Flatten())"
      ],
      "execution_count": null,
      "outputs": []
    },
    {
      "cell_type": "code",
      "metadata": {
        "id": "AcUXdFgimdlz",
        "colab_type": "code",
        "colab": {}
      },
      "source": [
        "model_colour.add(Dense(2048, activation='relu', kernel_regularizer=regularizers.l2(0.001)))\n",
        "model_colour.add(Dropout(0.5))\n",
        "model_colour.add(Dense(112, activation='softmax'))"
      ],
      "execution_count": null,
      "outputs": []
    },
    {
      "cell_type": "code",
      "metadata": {
        "id": "sVC7ajTqmkMt",
        "colab_type": "code",
        "colab": {}
      },
      "source": [
        "model_colour.compile(loss='categorical_crossentropy',\n",
        "              optimizer=Adam(lr=0.001),\n",
        "              metrics=['accuracy'])"
      ],
      "execution_count": null,
      "outputs": []
    },
    {
      "cell_type": "code",
      "metadata": {
        "id": "swKejRcBmpJe",
        "colab_type": "code",
        "colab": {}
      },
      "source": [
        "from keras.callbacks import ModelCheckpoint, EarlyStopping, ReduceLROnPlateau\n",
        "checkpoint = ModelCheckpoint(\"/content/drive/My Drive/1-piece/Colour_Desnet121.h5\",\n",
        "                             monitor=\"val_loss\",\n",
        "                             mode=\"min\",\n",
        "                             save_best_only = True,\n",
        "                             verbose=1)\n",
        "\n",
        "earlystop = EarlyStopping(monitor = 'val_loss', \n",
        "                          min_delta = 0, \n",
        "                          patience = 40,\n",
        "                          verbose = 1,\n",
        "                          restore_best_weights = True)\n",
        "\n",
        "reduce_lr = ReduceLROnPlateau(monitor = 'val_loss',\n",
        "                              factor = 0.2,\n",
        "                              patience = 40,\n",
        "                              verbose = 1,\n",
        "                              min_delta = 0.00001)\n",
        "\n",
        "callBacks = [earlystop, checkpoint, reduce_lr]"
      ],
      "execution_count": null,
      "outputs": []
    },
    {
      "cell_type": "code",
      "metadata": {
        "id": "iOdEcPuZm3fM",
        "colab_type": "code",
        "colab": {
          "base_uri": "https://localhost:8080/",
          "height": 1000
        },
        "outputId": "5903daaf-3682-42d0-eae6-8e4866beff7d"
      },
      "source": [
        "hist = model.fit_generator(steps_per_epoch=252,generator= Colour_TrainingData, validation_data= Colour_ValidData, validation_steps=14,epochs=150,callbacks=callBacks)"
      ],
      "execution_count": null,
      "outputs": [
        {
          "output_type": "stream",
          "text": [
            "Epoch 1/150\n",
            "252/252 [==============================] - ETA: 0s - loss: 2.3486 - accuracy: 0.4372\n",
            "Epoch 00001: val_loss improved from inf to 1.58651, saving model to /content/drive/My Drive/1-piece/Colour_Desnet121.h5\n",
            "252/252 [==============================] - 92s 365ms/step - loss: 2.3486 - accuracy: 0.4372 - val_loss: 1.5865 - val_accuracy: 0.6607\n",
            "Epoch 2/150\n",
            "252/252 [==============================] - ETA: 0s - loss: 2.2193 - accuracy: 0.4630\n",
            "Epoch 00002: val_loss improved from 1.58651 to 1.44452, saving model to /content/drive/My Drive/1-piece/Colour_Desnet121.h5\n",
            "252/252 [==============================] - 98s 390ms/step - loss: 2.2193 - accuracy: 0.4630 - val_loss: 1.4445 - val_accuracy: 0.6696\n",
            "Epoch 3/150\n",
            "252/252 [==============================] - ETA: 0s - loss: 2.2347 - accuracy: 0.4784\n",
            "Epoch 00003: val_loss did not improve from 1.44452\n",
            "252/252 [==============================] - 87s 346ms/step - loss: 2.2347 - accuracy: 0.4784 - val_loss: 1.4672 - val_accuracy: 0.6964\n",
            "Epoch 4/150\n",
            "252/252 [==============================] - ETA: 0s - loss: 2.1620 - accuracy: 0.4873\n",
            "Epoch 00004: val_loss improved from 1.44452 to 1.32339, saving model to /content/drive/My Drive/1-piece/Colour_Desnet121.h5\n",
            "252/252 [==============================] - 95s 375ms/step - loss: 2.1620 - accuracy: 0.4873 - val_loss: 1.3234 - val_accuracy: 0.7232\n",
            "Epoch 5/150\n",
            "252/252 [==============================] - ETA: 0s - loss: 2.1533 - accuracy: 0.4744\n",
            "Epoch 00005: val_loss did not improve from 1.32339\n",
            "252/252 [==============================] - 87s 346ms/step - loss: 2.1533 - accuracy: 0.4744 - val_loss: 1.6373 - val_accuracy: 0.6786\n",
            "Epoch 6/150\n",
            "252/252 [==============================] - ETA: 0s - loss: 2.1746 - accuracy: 0.4903\n",
            "Epoch 00006: val_loss did not improve from 1.32339\n",
            "252/252 [==============================] - 85s 336ms/step - loss: 2.1746 - accuracy: 0.4903 - val_loss: 1.4225 - val_accuracy: 0.7321\n",
            "Epoch 7/150\n",
            "252/252 [==============================] - ETA: 0s - loss: 2.0772 - accuracy: 0.4928\n",
            "Epoch 00007: val_loss did not improve from 1.32339\n",
            "252/252 [==============================] - 85s 337ms/step - loss: 2.0772 - accuracy: 0.4928 - val_loss: 1.4120 - val_accuracy: 0.6875\n",
            "Epoch 8/150\n",
            "252/252 [==============================] - ETA: 0s - loss: 2.1283 - accuracy: 0.4720\n",
            "Epoch 00008: val_loss did not improve from 1.32339\n",
            "252/252 [==============================] - 85s 339ms/step - loss: 2.1283 - accuracy: 0.4720 - val_loss: 1.3387 - val_accuracy: 0.7143\n",
            "Epoch 9/150\n",
            "252/252 [==============================] - ETA: 0s - loss: 2.1512 - accuracy: 0.4814\n",
            "Epoch 00009: val_loss did not improve from 1.32339\n",
            "252/252 [==============================] - 85s 336ms/step - loss: 2.1512 - accuracy: 0.4814 - val_loss: 1.6289 - val_accuracy: 0.6429\n",
            "Epoch 10/150\n",
            "252/252 [==============================] - ETA: 0s - loss: 2.2814 - accuracy: 0.4779\n",
            "Epoch 00010: val_loss did not improve from 1.32339\n",
            "252/252 [==============================] - 85s 337ms/step - loss: 2.2814 - accuracy: 0.4779 - val_loss: 1.5742 - val_accuracy: 0.6250\n",
            "Epoch 11/150\n",
            "252/252 [==============================] - ETA: 0s - loss: 2.1589 - accuracy: 0.4878\n",
            "Epoch 00011: val_loss did not improve from 1.32339\n",
            "252/252 [==============================] - 85s 336ms/step - loss: 2.1589 - accuracy: 0.4878 - val_loss: 1.4824 - val_accuracy: 0.6786\n",
            "Epoch 12/150\n",
            "252/252 [==============================] - ETA: 0s - loss: 2.0305 - accuracy: 0.5012\n",
            "Epoch 00012: val_loss did not improve from 1.32339\n",
            "252/252 [==============================] - 85s 338ms/step - loss: 2.0305 - accuracy: 0.5012 - val_loss: 1.3616 - val_accuracy: 0.7143\n",
            "Epoch 13/150\n",
            "252/252 [==============================] - ETA: 0s - loss: 2.1798 - accuracy: 0.5002\n",
            "Epoch 00013: val_loss did not improve from 1.32339\n",
            "252/252 [==============================] - 85s 336ms/step - loss: 2.1798 - accuracy: 0.5002 - val_loss: 1.4990 - val_accuracy: 0.7054\n",
            "Epoch 14/150\n",
            "252/252 [==============================] - ETA: 0s - loss: 2.2548 - accuracy: 0.4918\n",
            "Epoch 00014: val_loss did not improve from 1.32339\n",
            "252/252 [==============================] - 84s 334ms/step - loss: 2.2548 - accuracy: 0.4918 - val_loss: 1.8278 - val_accuracy: 0.6071\n",
            "Epoch 15/150\n",
            "252/252 [==============================] - ETA: 0s - loss: 2.1627 - accuracy: 0.4903\n",
            "Epoch 00015: val_loss did not improve from 1.32339\n",
            "252/252 [==============================] - 84s 335ms/step - loss: 2.1627 - accuracy: 0.4903 - val_loss: 1.5845 - val_accuracy: 0.6875\n",
            "Epoch 16/150\n",
            "252/252 [==============================] - ETA: 0s - loss: 2.1226 - accuracy: 0.5097\n",
            "Epoch 00016: val_loss did not improve from 1.32339\n",
            "252/252 [==============================] - 84s 334ms/step - loss: 2.1226 - accuracy: 0.5097 - val_loss: 1.3304 - val_accuracy: 0.6964\n",
            "Epoch 17/150\n",
            "252/252 [==============================] - ETA: 0s - loss: 2.1684 - accuracy: 0.5062\n",
            "Epoch 00017: val_loss did not improve from 1.32339\n",
            "252/252 [==============================] - 84s 335ms/step - loss: 2.1684 - accuracy: 0.5062 - val_loss: 1.4486 - val_accuracy: 0.7232\n",
            "Epoch 18/150\n",
            "252/252 [==============================] - ETA: 0s - loss: 2.1503 - accuracy: 0.4948\n",
            "Epoch 00018: val_loss did not improve from 1.32339\n",
            "252/252 [==============================] - 85s 336ms/step - loss: 2.1503 - accuracy: 0.4948 - val_loss: 1.5039 - val_accuracy: 0.7321\n",
            "Epoch 19/150\n",
            "252/252 [==============================] - ETA: 0s - loss: 2.1035 - accuracy: 0.5127\n",
            "Epoch 00019: val_loss did not improve from 1.32339\n",
            "252/252 [==============================] - 84s 335ms/step - loss: 2.1035 - accuracy: 0.5127 - val_loss: 1.4743 - val_accuracy: 0.6786\n",
            "Epoch 20/150\n",
            "252/252 [==============================] - ETA: 0s - loss: 2.0287 - accuracy: 0.5231\n",
            "Epoch 00020: val_loss did not improve from 1.32339\n",
            "252/252 [==============================] - 84s 335ms/step - loss: 2.0287 - accuracy: 0.5231 - val_loss: 1.4172 - val_accuracy: 0.7589\n",
            "Epoch 21/150\n",
            "252/252 [==============================] - ETA: 0s - loss: 2.0233 - accuracy: 0.5112\n",
            "Epoch 00021: val_loss did not improve from 1.32339\n",
            "252/252 [==============================] - 84s 335ms/step - loss: 2.0233 - accuracy: 0.5112 - val_loss: 1.3481 - val_accuracy: 0.6696\n",
            "Epoch 22/150\n",
            "252/252 [==============================] - ETA: 0s - loss: 2.0237 - accuracy: 0.5082\n",
            "Epoch 00022: val_loss did not improve from 1.32339\n",
            "252/252 [==============================] - 84s 334ms/step - loss: 2.0237 - accuracy: 0.5082 - val_loss: 1.6889 - val_accuracy: 0.6607\n",
            "Epoch 23/150\n",
            "252/252 [==============================] - ETA: 0s - loss: 2.0597 - accuracy: 0.5201\n",
            "Epoch 00023: val_loss did not improve from 1.32339\n",
            "252/252 [==============================] - 84s 334ms/step - loss: 2.0597 - accuracy: 0.5201 - val_loss: 1.4249 - val_accuracy: 0.7054\n",
            "Epoch 24/150\n",
            "252/252 [==============================] - ETA: 0s - loss: 1.9766 - accuracy: 0.5310\n",
            "Epoch 00024: val_loss did not improve from 1.32339\n",
            "252/252 [==============================] - 84s 335ms/step - loss: 1.9766 - accuracy: 0.5310 - val_loss: 1.3268 - val_accuracy: 0.7589\n",
            "Epoch 25/150\n",
            "252/252 [==============================] - ETA: 0s - loss: 2.3078 - accuracy: 0.4918\n",
            "Epoch 00025: val_loss did not improve from 1.32339\n",
            "252/252 [==============================] - 85s 336ms/step - loss: 2.3078 - accuracy: 0.4918 - val_loss: 1.6040 - val_accuracy: 0.6786\n",
            "Epoch 26/150\n",
            "252/252 [==============================] - ETA: 0s - loss: 2.0827 - accuracy: 0.5082\n",
            "Epoch 00026: val_loss did not improve from 1.32339\n",
            "252/252 [==============================] - 85s 336ms/step - loss: 2.0827 - accuracy: 0.5082 - val_loss: 1.3333 - val_accuracy: 0.7589\n",
            "Epoch 27/150\n",
            "252/252 [==============================] - ETA: 0s - loss: 2.3217 - accuracy: 0.4854\n",
            "Epoch 00027: val_loss did not improve from 1.32339\n",
            "252/252 [==============================] - 84s 334ms/step - loss: 2.3217 - accuracy: 0.4854 - val_loss: 1.4748 - val_accuracy: 0.7143\n",
            "Epoch 28/150\n",
            "252/252 [==============================] - ETA: 0s - loss: 2.0273 - accuracy: 0.5176\n",
            "Epoch 00028: val_loss did not improve from 1.32339\n",
            "252/252 [==============================] - 84s 335ms/step - loss: 2.0273 - accuracy: 0.5176 - val_loss: 1.6273 - val_accuracy: 0.6786\n",
            "Epoch 29/150\n",
            "252/252 [==============================] - ETA: 0s - loss: 2.0611 - accuracy: 0.5171\n",
            "Epoch 00029: val_loss did not improve from 1.32339\n",
            "252/252 [==============================] - 85s 339ms/step - loss: 2.0611 - accuracy: 0.5171 - val_loss: 1.5124 - val_accuracy: 0.6786\n",
            "Epoch 30/150\n",
            "252/252 [==============================] - ETA: 0s - loss: 2.0432 - accuracy: 0.5052\n",
            "Epoch 00030: val_loss did not improve from 1.32339\n",
            "252/252 [==============================] - 85s 337ms/step - loss: 2.0432 - accuracy: 0.5052 - val_loss: 1.4073 - val_accuracy: 0.7232\n",
            "Epoch 31/150\n",
            "252/252 [==============================] - ETA: 0s - loss: 1.9815 - accuracy: 0.5355\n",
            "Epoch 00031: val_loss did not improve from 1.32339\n",
            "252/252 [==============================] - 85s 336ms/step - loss: 1.9815 - accuracy: 0.5355 - val_loss: 1.3570 - val_accuracy: 0.7589\n",
            "Epoch 32/150\n",
            "252/252 [==============================] - ETA: 0s - loss: 1.9637 - accuracy: 0.5355\n",
            "Epoch 00032: val_loss improved from 1.32339 to 1.27114, saving model to /content/drive/My Drive/1-piece/Colour_Desnet121.h5\n",
            "252/252 [==============================] - 94s 372ms/step - loss: 1.9637 - accuracy: 0.5355 - val_loss: 1.2711 - val_accuracy: 0.7679\n",
            "Epoch 33/150\n",
            "252/252 [==============================] - ETA: 0s - loss: 1.9401 - accuracy: 0.5390\n",
            "Epoch 00033: val_loss did not improve from 1.27114\n",
            "252/252 [==============================] - 88s 349ms/step - loss: 1.9401 - accuracy: 0.5390 - val_loss: 1.4456 - val_accuracy: 0.6696\n",
            "Epoch 34/150\n",
            "252/252 [==============================] - ETA: 0s - loss: 1.9531 - accuracy: 0.5395\n",
            "Epoch 00034: val_loss improved from 1.27114 to 1.20454, saving model to /content/drive/My Drive/1-piece/Colour_Desnet121.h5\n",
            "252/252 [==============================] - 93s 371ms/step - loss: 1.9531 - accuracy: 0.5395 - val_loss: 1.2045 - val_accuracy: 0.7411\n",
            "Epoch 35/150\n",
            "252/252 [==============================] - ETA: 0s - loss: 1.9786 - accuracy: 0.5246\n",
            "Epoch 00035: val_loss did not improve from 1.20454\n",
            "252/252 [==============================] - 87s 345ms/step - loss: 1.9786 - accuracy: 0.5246 - val_loss: 1.3169 - val_accuracy: 0.7232\n",
            "Epoch 36/150\n",
            "252/252 [==============================] - ETA: 0s - loss: 2.0368 - accuracy: 0.5390\n",
            "Epoch 00036: val_loss did not improve from 1.20454\n",
            "252/252 [==============================] - 85s 339ms/step - loss: 2.0368 - accuracy: 0.5390 - val_loss: 2.2934 - val_accuracy: 0.5268\n",
            "Epoch 37/150\n",
            "252/252 [==============================] - ETA: 0s - loss: 2.0946 - accuracy: 0.4998\n",
            "Epoch 00037: val_loss did not improve from 1.20454\n",
            "252/252 [==============================] - 86s 343ms/step - loss: 2.0946 - accuracy: 0.4998 - val_loss: 1.4263 - val_accuracy: 0.6875\n",
            "Epoch 38/150\n",
            "252/252 [==============================] - ETA: 0s - loss: 1.9889 - accuracy: 0.5211\n",
            "Epoch 00038: val_loss did not improve from 1.20454\n",
            "252/252 [==============================] - 86s 343ms/step - loss: 1.9889 - accuracy: 0.5211 - val_loss: 1.2911 - val_accuracy: 0.7411\n",
            "Epoch 39/150\n",
            "252/252 [==============================] - ETA: 0s - loss: 1.9088 - accuracy: 0.5340\n",
            "Epoch 00039: val_loss did not improve from 1.20454\n",
            "252/252 [==============================] - 87s 344ms/step - loss: 1.9088 - accuracy: 0.5340 - val_loss: 1.2840 - val_accuracy: 0.6875\n",
            "Epoch 40/150\n",
            "252/252 [==============================] - ETA: 0s - loss: 1.8536 - accuracy: 0.5464\n",
            "Epoch 00040: val_loss did not improve from 1.20454\n",
            "252/252 [==============================] - 85s 338ms/step - loss: 1.8536 - accuracy: 0.5464 - val_loss: 1.3942 - val_accuracy: 0.6875\n",
            "Epoch 41/150\n",
            "252/252 [==============================] - ETA: 0s - loss: 1.9041 - accuracy: 0.5519\n",
            "Epoch 00041: val_loss did not improve from 1.20454\n",
            "252/252 [==============================] - 86s 342ms/step - loss: 1.9041 - accuracy: 0.5519 - val_loss: 1.2545 - val_accuracy: 0.7500\n",
            "Epoch 42/150\n",
            "252/252 [==============================] - ETA: 0s - loss: 1.9067 - accuracy: 0.5340\n",
            "Epoch 00042: val_loss did not improve from 1.20454\n",
            "252/252 [==============================] - 85s 339ms/step - loss: 1.9067 - accuracy: 0.5340 - val_loss: 1.3361 - val_accuracy: 0.7054\n",
            "Epoch 43/150\n",
            "252/252 [==============================] - ETA: 0s - loss: 2.0246 - accuracy: 0.5191\n",
            "Epoch 00043: val_loss did not improve from 1.20454\n",
            "252/252 [==============================] - 84s 334ms/step - loss: 2.0246 - accuracy: 0.5191 - val_loss: 2.8082 - val_accuracy: 0.5625\n",
            "Epoch 44/150\n",
            "252/252 [==============================] - ETA: 0s - loss: 2.1396 - accuracy: 0.5052\n",
            "Epoch 00044: val_loss did not improve from 1.20454\n",
            "252/252 [==============================] - 85s 337ms/step - loss: 2.1396 - accuracy: 0.5052 - val_loss: 1.3217 - val_accuracy: 0.7321\n",
            "Epoch 45/150\n",
            "252/252 [==============================] - ETA: 0s - loss: 1.9464 - accuracy: 0.5335\n",
            "Epoch 00045: val_loss did not improve from 1.20454\n",
            "252/252 [==============================] - 85s 336ms/step - loss: 1.9464 - accuracy: 0.5335 - val_loss: 1.2829 - val_accuracy: 0.7679\n",
            "Epoch 46/150\n",
            "252/252 [==============================] - ETA: 0s - loss: 1.9353 - accuracy: 0.5400\n",
            "Epoch 00046: val_loss did not improve from 1.20454\n",
            "252/252 [==============================] - 85s 337ms/step - loss: 1.9353 - accuracy: 0.5400 - val_loss: 1.3096 - val_accuracy: 0.7232\n",
            "Epoch 47/150\n",
            "252/252 [==============================] - ETA: 0s - loss: 1.9505 - accuracy: 0.5236\n",
            "Epoch 00047: val_loss improved from 1.20454 to 1.19691, saving model to /content/drive/My Drive/1-piece/Colour_Desnet121.h5\n",
            "252/252 [==============================] - 93s 369ms/step - loss: 1.9505 - accuracy: 0.5236 - val_loss: 1.1969 - val_accuracy: 0.7857\n",
            "Epoch 48/150\n",
            "252/252 [==============================] - ETA: 0s - loss: 1.8663 - accuracy: 0.5459\n",
            "Epoch 00048: val_loss improved from 1.19691 to 1.15521, saving model to /content/drive/My Drive/1-piece/Colour_Desnet121.h5\n",
            "252/252 [==============================] - 96s 381ms/step - loss: 1.8663 - accuracy: 0.5459 - val_loss: 1.1552 - val_accuracy: 0.7589\n",
            "Epoch 49/150\n",
            "252/252 [==============================] - ETA: 0s - loss: 1.8483 - accuracy: 0.5558\n",
            "Epoch 00049: val_loss did not improve from 1.15521\n",
            "252/252 [==============================] - 89s 353ms/step - loss: 1.8483 - accuracy: 0.5558 - val_loss: 1.3008 - val_accuracy: 0.6964\n",
            "Epoch 50/150\n",
            "252/252 [==============================] - ETA: 0s - loss: 1.8681 - accuracy: 0.5380\n",
            "Epoch 00050: val_loss did not improve from 1.15521\n",
            "252/252 [==============================] - 86s 340ms/step - loss: 1.8681 - accuracy: 0.5380 - val_loss: 1.2381 - val_accuracy: 0.7768\n",
            "Epoch 51/150\n",
            "252/252 [==============================] - ETA: 0s - loss: 1.7955 - accuracy: 0.5573\n",
            "Epoch 00051: val_loss improved from 1.15521 to 1.11447, saving model to /content/drive/My Drive/1-piece/Colour_Desnet121.h5\n",
            "252/252 [==============================] - 94s 373ms/step - loss: 1.7955 - accuracy: 0.5573 - val_loss: 1.1145 - val_accuracy: 0.7946\n",
            "Epoch 52/150\n",
            "252/252 [==============================] - ETA: 0s - loss: 1.8474 - accuracy: 0.5533\n",
            "Epoch 00052: val_loss did not improve from 1.11447\n",
            "252/252 [==============================] - 87s 347ms/step - loss: 1.8474 - accuracy: 0.5533 - val_loss: 1.2583 - val_accuracy: 0.7589\n",
            "Epoch 53/150\n",
            "252/252 [==============================] - ETA: 0s - loss: 1.8850 - accuracy: 0.5514\n",
            "Epoch 00053: val_loss did not improve from 1.11447\n",
            "252/252 [==============================] - 86s 341ms/step - loss: 1.8850 - accuracy: 0.5514 - val_loss: 1.2263 - val_accuracy: 0.7143\n",
            "Epoch 54/150\n",
            "252/252 [==============================] - ETA: 0s - loss: 1.9574 - accuracy: 0.5285\n",
            "Epoch 00054: val_loss did not improve from 1.11447\n",
            "252/252 [==============================] - 86s 342ms/step - loss: 1.9574 - accuracy: 0.5285 - val_loss: 1.2213 - val_accuracy: 0.7321\n",
            "Epoch 55/150\n",
            "252/252 [==============================] - ETA: 0s - loss: 1.9086 - accuracy: 0.5499\n",
            "Epoch 00055: val_loss did not improve from 1.11447\n",
            "252/252 [==============================] - 87s 343ms/step - loss: 1.9086 - accuracy: 0.5499 - val_loss: 1.2095 - val_accuracy: 0.7679\n",
            "Epoch 56/150\n",
            "252/252 [==============================] - ETA: 0s - loss: 1.9411 - accuracy: 0.5499\n",
            "Epoch 00056: val_loss did not improve from 1.11447\n",
            "252/252 [==============================] - 86s 341ms/step - loss: 1.9411 - accuracy: 0.5499 - val_loss: 1.2277 - val_accuracy: 0.7411\n",
            "Epoch 57/150\n",
            "252/252 [==============================] - ETA: 0s - loss: 1.8132 - accuracy: 0.5742\n",
            "Epoch 00057: val_loss did not improve from 1.11447\n",
            "252/252 [==============================] - 86s 341ms/step - loss: 1.8132 - accuracy: 0.5742 - val_loss: 1.1791 - val_accuracy: 0.7946\n",
            "Epoch 58/150\n",
            "252/252 [==============================] - ETA: 0s - loss: 1.9662 - accuracy: 0.5335\n",
            "Epoch 00058: val_loss did not improve from 1.11447\n",
            "252/252 [==============================] - 86s 342ms/step - loss: 1.9662 - accuracy: 0.5335 - val_loss: 1.6057 - val_accuracy: 0.6786\n",
            "Epoch 59/150\n",
            "252/252 [==============================] - ETA: 0s - loss: 1.9553 - accuracy: 0.5211\n",
            "Epoch 00059: val_loss did not improve from 1.11447\n",
            "252/252 [==============================] - 86s 342ms/step - loss: 1.9553 - accuracy: 0.5211 - val_loss: 1.2880 - val_accuracy: 0.7411\n",
            "Epoch 60/150\n",
            "252/252 [==============================] - ETA: 0s - loss: 1.8487 - accuracy: 0.5588\n",
            "Epoch 00060: val_loss did not improve from 1.11447\n",
            "252/252 [==============================] - 87s 344ms/step - loss: 1.8487 - accuracy: 0.5588 - val_loss: 1.1762 - val_accuracy: 0.7500\n",
            "Epoch 61/150\n",
            "252/252 [==============================] - ETA: 0s - loss: 1.8027 - accuracy: 0.5638\n",
            "Epoch 00061: val_loss did not improve from 1.11447\n",
            "252/252 [==============================] - 85s 339ms/step - loss: 1.8027 - accuracy: 0.5638 - val_loss: 1.2782 - val_accuracy: 0.7143\n",
            "Epoch 62/150\n",
            "252/252 [==============================] - ETA: 0s - loss: 1.8551 - accuracy: 0.5409\n",
            "Epoch 00062: val_loss did not improve from 1.11447\n",
            "252/252 [==============================] - 86s 341ms/step - loss: 1.8551 - accuracy: 0.5409 - val_loss: 1.2283 - val_accuracy: 0.7857\n",
            "Epoch 63/150\n",
            "252/252 [==============================] - ETA: 0s - loss: 1.8568 - accuracy: 0.5553\n",
            "Epoch 00063: val_loss did not improve from 1.11447\n",
            "252/252 [==============================] - 86s 341ms/step - loss: 1.8568 - accuracy: 0.5553 - val_loss: 1.1358 - val_accuracy: 0.7500\n",
            "Epoch 64/150\n",
            "252/252 [==============================] - ETA: 0s - loss: 1.8381 - accuracy: 0.5608\n",
            "Epoch 00064: val_loss did not improve from 1.11447\n",
            "252/252 [==============================] - 85s 337ms/step - loss: 1.8381 - accuracy: 0.5608 - val_loss: 1.7050 - val_accuracy: 0.6250\n",
            "Epoch 65/150\n",
            "252/252 [==============================] - ETA: 0s - loss: 1.9970 - accuracy: 0.5280\n",
            "Epoch 00065: val_loss did not improve from 1.11447\n",
            "252/252 [==============================] - 85s 336ms/step - loss: 1.9970 - accuracy: 0.5280 - val_loss: 1.1699 - val_accuracy: 0.7500\n",
            "Epoch 66/150\n",
            "252/252 [==============================] - ETA: 0s - loss: 1.9242 - accuracy: 0.5538\n",
            "Epoch 00066: val_loss did not improve from 1.11447\n",
            "252/252 [==============================] - 86s 340ms/step - loss: 1.9242 - accuracy: 0.5538 - val_loss: 1.2643 - val_accuracy: 0.7054\n",
            "Epoch 67/150\n",
            "252/252 [==============================] - ETA: 0s - loss: 1.8702 - accuracy: 0.5583\n",
            "Epoch 00067: val_loss did not improve from 1.11447\n",
            "252/252 [==============================] - 85s 339ms/step - loss: 1.8702 - accuracy: 0.5583 - val_loss: 1.1591 - val_accuracy: 0.7768\n",
            "Epoch 68/150\n",
            "252/252 [==============================] - ETA: 0s - loss: 1.7914 - accuracy: 0.5742\n",
            "Epoch 00068: val_loss did not improve from 1.11447\n",
            "252/252 [==============================] - 85s 338ms/step - loss: 1.7914 - accuracy: 0.5742 - val_loss: 1.2285 - val_accuracy: 0.7232\n",
            "Epoch 69/150\n",
            "252/252 [==============================] - ETA: 0s - loss: 1.8138 - accuracy: 0.5489\n",
            "Epoch 00069: val_loss did not improve from 1.11447\n",
            "252/252 [==============================] - 85s 337ms/step - loss: 1.8138 - accuracy: 0.5489 - val_loss: 1.2396 - val_accuracy: 0.7232\n",
            "Epoch 70/150\n",
            "252/252 [==============================] - ETA: 0s - loss: 2.0339 - accuracy: 0.5395\n",
            "Epoch 00070: val_loss did not improve from 1.11447\n",
            "252/252 [==============================] - 85s 338ms/step - loss: 2.0339 - accuracy: 0.5395 - val_loss: 1.2042 - val_accuracy: 0.7143\n",
            "Epoch 71/150\n",
            "252/252 [==============================] - ETA: 0s - loss: 1.8704 - accuracy: 0.5454\n",
            "Epoch 00071: val_loss did not improve from 1.11447\n",
            "252/252 [==============================] - 85s 337ms/step - loss: 1.8704 - accuracy: 0.5454 - val_loss: 1.2129 - val_accuracy: 0.7143\n",
            "Epoch 72/150\n",
            "252/252 [==============================] - ETA: 0s - loss: 1.8205 - accuracy: 0.5682\n",
            "Epoch 00072: val_loss did not improve from 1.11447\n",
            "252/252 [==============================] - 85s 338ms/step - loss: 1.8205 - accuracy: 0.5682 - val_loss: 1.2185 - val_accuracy: 0.7411\n",
            "Epoch 73/150\n",
            "252/252 [==============================] - ETA: 0s - loss: 1.7248 - accuracy: 0.5737\n",
            "Epoch 00073: val_loss improved from 1.11447 to 1.08971, saving model to /content/drive/My Drive/1-piece/Colour_Desnet121.h5\n",
            "252/252 [==============================] - 94s 375ms/step - loss: 1.7248 - accuracy: 0.5737 - val_loss: 1.0897 - val_accuracy: 0.7768\n",
            "Epoch 74/150\n",
            "252/252 [==============================] - ETA: 0s - loss: 1.7449 - accuracy: 0.5841\n",
            "Epoch 00074: val_loss did not improve from 1.08971\n",
            "252/252 [==============================] - 87s 347ms/step - loss: 1.7449 - accuracy: 0.5841 - val_loss: 1.1009 - val_accuracy: 0.7679\n",
            "Epoch 75/150\n",
            "252/252 [==============================] - ETA: 0s - loss: 1.7670 - accuracy: 0.5553\n",
            "Epoch 00075: val_loss did not improve from 1.08971\n",
            "252/252 [==============================] - 85s 336ms/step - loss: 1.7670 - accuracy: 0.5553 - val_loss: 1.2466 - val_accuracy: 0.7411\n",
            "Epoch 76/150\n",
            "252/252 [==============================] - ETA: 0s - loss: 1.7513 - accuracy: 0.5816\n",
            "Epoch 00076: val_loss did not improve from 1.08971\n",
            "252/252 [==============================] - 85s 338ms/step - loss: 1.7513 - accuracy: 0.5816 - val_loss: 1.1389 - val_accuracy: 0.7946\n",
            "Epoch 77/150\n",
            "252/252 [==============================] - ETA: 0s - loss: 1.7622 - accuracy: 0.5682\n",
            "Epoch 00077: val_loss did not improve from 1.08971\n",
            "252/252 [==============================] - 86s 339ms/step - loss: 1.7622 - accuracy: 0.5682 - val_loss: 1.3406 - val_accuracy: 0.7589\n",
            "Epoch 78/150\n",
            "252/252 [==============================] - ETA: 0s - loss: 1.7292 - accuracy: 0.5787\n",
            "Epoch 00078: val_loss did not improve from 1.08971\n",
            "252/252 [==============================] - 86s 342ms/step - loss: 1.7292 - accuracy: 0.5787 - val_loss: 1.1709 - val_accuracy: 0.7857\n",
            "Epoch 79/150\n",
            "252/252 [==============================] - ETA: 0s - loss: 1.8307 - accuracy: 0.5439\n",
            "Epoch 00079: val_loss improved from 1.08971 to 1.07546, saving model to /content/drive/My Drive/1-piece/Colour_Desnet121.h5\n",
            "252/252 [==============================] - 94s 374ms/step - loss: 1.8307 - accuracy: 0.5439 - val_loss: 1.0755 - val_accuracy: 0.7589\n",
            "Epoch 80/150\n",
            "252/252 [==============================] - ETA: 0s - loss: 1.7935 - accuracy: 0.5732\n",
            "Epoch 00080: val_loss did not improve from 1.07546\n",
            "252/252 [==============================] - 88s 351ms/step - loss: 1.7935 - accuracy: 0.5732 - val_loss: 1.1358 - val_accuracy: 0.7321\n",
            "Epoch 81/150\n",
            "252/252 [==============================] - ETA: 0s - loss: 1.9380 - accuracy: 0.5400\n",
            "Epoch 00081: val_loss did not improve from 1.07546\n",
            "252/252 [==============================] - 86s 340ms/step - loss: 1.9380 - accuracy: 0.5400 - val_loss: 1.1650 - val_accuracy: 0.7768\n",
            "Epoch 82/150\n",
            "252/252 [==============================] - ETA: 0s - loss: 2.0516 - accuracy: 0.5290\n",
            "Epoch 00082: val_loss did not improve from 1.07546\n",
            "252/252 [==============================] - 85s 339ms/step - loss: 2.0516 - accuracy: 0.5290 - val_loss: 1.1526 - val_accuracy: 0.7500\n",
            "Epoch 83/150\n",
            "252/252 [==============================] - ETA: 0s - loss: 1.9196 - accuracy: 0.5484\n",
            "Epoch 00083: val_loss did not improve from 1.07546\n",
            "252/252 [==============================] - 86s 341ms/step - loss: 1.9196 - accuracy: 0.5484 - val_loss: 1.2425 - val_accuracy: 0.7768\n",
            "Epoch 84/150\n",
            "252/252 [==============================] - ETA: 0s - loss: 1.8544 - accuracy: 0.5653\n",
            "Epoch 00084: val_loss did not improve from 1.07546\n",
            "252/252 [==============================] - 86s 342ms/step - loss: 1.8544 - accuracy: 0.5653 - val_loss: 1.1631 - val_accuracy: 0.7321\n",
            "Epoch 85/150\n",
            "252/252 [==============================] - ETA: 0s - loss: 1.8796 - accuracy: 0.5533\n",
            "Epoch 00085: val_loss did not improve from 1.07546\n",
            "252/252 [==============================] - 85s 338ms/step - loss: 1.8796 - accuracy: 0.5533 - val_loss: 1.2684 - val_accuracy: 0.7589\n",
            "Epoch 86/150\n",
            "252/252 [==============================] - ETA: 0s - loss: 2.0455 - accuracy: 0.5454\n",
            "Epoch 00086: val_loss did not improve from 1.07546\n",
            "252/252 [==============================] - 85s 338ms/step - loss: 2.0455 - accuracy: 0.5454 - val_loss: 2.1648 - val_accuracy: 0.5625\n",
            "Epoch 87/150\n",
            "252/252 [==============================] - ETA: 0s - loss: 1.9142 - accuracy: 0.5499\n",
            "Epoch 00087: val_loss did not improve from 1.07546\n",
            "252/252 [==============================] - 85s 338ms/step - loss: 1.9142 - accuracy: 0.5499 - val_loss: 1.2640 - val_accuracy: 0.7500\n",
            "Epoch 88/150\n",
            "252/252 [==============================] - ETA: 0s - loss: 2.1709 - accuracy: 0.5067\n",
            "Epoch 00088: val_loss did not improve from 1.07546\n",
            "252/252 [==============================] - 85s 337ms/step - loss: 2.1709 - accuracy: 0.5067 - val_loss: 1.3354 - val_accuracy: 0.7500\n",
            "Epoch 89/150\n",
            "252/252 [==============================] - ETA: 0s - loss: 2.3095 - accuracy: 0.5216\n",
            "Epoch 00089: val_loss did not improve from 1.07546\n",
            "252/252 [==============================] - 85s 337ms/step - loss: 2.3095 - accuracy: 0.5216 - val_loss: 1.9451 - val_accuracy: 0.5893\n",
            "Epoch 90/150\n",
            "252/252 [==============================] - ETA: 0s - loss: 2.4696 - accuracy: 0.4834\n",
            "Epoch 00090: val_loss did not improve from 1.07546\n",
            "252/252 [==============================] - 85s 337ms/step - loss: 2.4696 - accuracy: 0.4834 - val_loss: 1.5602 - val_accuracy: 0.6875\n",
            "Epoch 91/150\n",
            "252/252 [==============================] - ETA: 0s - loss: 2.3587 - accuracy: 0.4978\n",
            "Epoch 00091: val_loss did not improve from 1.07546\n",
            "252/252 [==============================] - 86s 339ms/step - loss: 2.3587 - accuracy: 0.4978 - val_loss: 1.4821 - val_accuracy: 0.7143\n",
            "Epoch 92/150\n",
            "252/252 [==============================] - ETA: 0s - loss: 2.1061 - accuracy: 0.5156\n",
            "Epoch 00092: val_loss did not improve from 1.07546\n",
            "252/252 [==============================] - 85s 336ms/step - loss: 2.1061 - accuracy: 0.5156 - val_loss: 1.8162 - val_accuracy: 0.6518\n",
            "Epoch 93/150\n",
            "252/252 [==============================] - ETA: 0s - loss: 2.1575 - accuracy: 0.5191\n",
            "Epoch 00093: val_loss did not improve from 1.07546\n",
            "252/252 [==============================] - 84s 335ms/step - loss: 2.1575 - accuracy: 0.5191 - val_loss: 1.9410 - val_accuracy: 0.6518\n",
            "Epoch 94/150\n",
            "252/252 [==============================] - ETA: 0s - loss: 2.2659 - accuracy: 0.4923\n",
            "Epoch 00094: val_loss did not improve from 1.07546\n",
            "252/252 [==============================] - 85s 337ms/step - loss: 2.2659 - accuracy: 0.4923 - val_loss: 1.3753 - val_accuracy: 0.7321\n",
            "Epoch 95/150\n",
            "252/252 [==============================] - ETA: 0s - loss: 2.1299 - accuracy: 0.5181\n",
            "Epoch 00095: val_loss did not improve from 1.07546\n",
            "252/252 [==============================] - 85s 337ms/step - loss: 2.1299 - accuracy: 0.5181 - val_loss: 1.3450 - val_accuracy: 0.7321\n",
            "Epoch 96/150\n",
            "252/252 [==============================] - ETA: 0s - loss: 2.0116 - accuracy: 0.5444\n",
            "Epoch 00096: val_loss did not improve from 1.07546\n",
            "252/252 [==============================] - 85s 336ms/step - loss: 2.0116 - accuracy: 0.5444 - val_loss: 1.2598 - val_accuracy: 0.7321\n",
            "Epoch 97/150\n",
            "252/252 [==============================] - ETA: 0s - loss: 2.0507 - accuracy: 0.5310\n",
            "Epoch 00097: val_loss did not improve from 1.07546\n",
            "252/252 [==============================] - 84s 334ms/step - loss: 2.0507 - accuracy: 0.5310 - val_loss: 1.4663 - val_accuracy: 0.6786\n",
            "Epoch 98/150\n",
            "252/252 [==============================] - ETA: 0s - loss: 1.9798 - accuracy: 0.5499\n",
            "Epoch 00098: val_loss did not improve from 1.07546\n",
            "252/252 [==============================] - 85s 336ms/step - loss: 1.9798 - accuracy: 0.5499 - val_loss: 1.2358 - val_accuracy: 0.7321\n",
            "Epoch 99/150\n",
            "252/252 [==============================] - ETA: 0s - loss: 1.9908 - accuracy: 0.5414\n",
            "Epoch 00099: val_loss did not improve from 1.07546\n",
            "252/252 [==============================] - 84s 334ms/step - loss: 1.9908 - accuracy: 0.5414 - val_loss: 1.0913 - val_accuracy: 0.7946\n",
            "Epoch 100/150\n",
            "252/252 [==============================] - ETA: 0s - loss: 2.0121 - accuracy: 0.5335\n",
            "Epoch 00100: val_loss did not improve from 1.07546\n",
            "252/252 [==============================] - 84s 334ms/step - loss: 2.0121 - accuracy: 0.5335 - val_loss: 1.2354 - val_accuracy: 0.7411\n",
            "Epoch 101/150\n",
            "252/252 [==============================] - ETA: 0s - loss: 1.8681 - accuracy: 0.5573\n",
            "Epoch 00101: val_loss did not improve from 1.07546\n",
            "252/252 [==============================] - 84s 333ms/step - loss: 1.8681 - accuracy: 0.5573 - val_loss: 1.2742 - val_accuracy: 0.7321\n",
            "Epoch 102/150\n",
            "252/252 [==============================] - ETA: 0s - loss: 1.8190 - accuracy: 0.5568\n",
            "Epoch 00102: val_loss did not improve from 1.07546\n",
            "252/252 [==============================] - 84s 335ms/step - loss: 1.8190 - accuracy: 0.5568 - val_loss: 1.3182 - val_accuracy: 0.7500\n",
            "Epoch 103/150\n",
            "252/252 [==============================] - ETA: 0s - loss: 1.8100 - accuracy: 0.5697\n",
            "Epoch 00103: val_loss did not improve from 1.07546\n",
            "252/252 [==============================] - 84s 333ms/step - loss: 1.8100 - accuracy: 0.5697 - val_loss: 1.1415 - val_accuracy: 0.7232\n",
            "Epoch 104/150\n",
            "252/252 [==============================] - ETA: 0s - loss: 1.7879 - accuracy: 0.5861\n",
            "Epoch 00104: val_loss did not improve from 1.07546\n",
            "252/252 [==============================] - 84s 334ms/step - loss: 1.7879 - accuracy: 0.5861 - val_loss: 1.2524 - val_accuracy: 0.7768\n",
            "Epoch 105/150\n",
            "252/252 [==============================] - ETA: 0s - loss: 2.0514 - accuracy: 0.5325\n",
            "Epoch 00105: val_loss did not improve from 1.07546\n",
            "252/252 [==============================] - 85s 337ms/step - loss: 2.0514 - accuracy: 0.5325 - val_loss: 1.1449 - val_accuracy: 0.7589\n",
            "Epoch 106/150\n",
            "252/252 [==============================] - ETA: 0s - loss: 1.9139 - accuracy: 0.5672\n",
            "Epoch 00106: val_loss did not improve from 1.07546\n",
            "252/252 [==============================] - 85s 338ms/step - loss: 1.9139 - accuracy: 0.5672 - val_loss: 1.2104 - val_accuracy: 0.7500\n",
            "Epoch 107/150\n",
            "252/252 [==============================] - ETA: 0s - loss: 2.0864 - accuracy: 0.5305\n",
            "Epoch 00107: val_loss did not improve from 1.07546\n",
            "252/252 [==============================] - 84s 335ms/step - loss: 2.0864 - accuracy: 0.5305 - val_loss: 3.8981 - val_accuracy: 0.7411\n",
            "Epoch 108/150\n",
            "252/252 [==============================] - ETA: 0s - loss: 1.8971 - accuracy: 0.5697\n",
            "Epoch 00108: val_loss did not improve from 1.07546\n",
            "252/252 [==============================] - 85s 335ms/step - loss: 1.8971 - accuracy: 0.5697 - val_loss: 1.3820 - val_accuracy: 0.7054\n",
            "Epoch 109/150\n",
            "252/252 [==============================] - ETA: 0s - loss: 2.0231 - accuracy: 0.5583\n",
            "Epoch 00109: val_loss did not improve from 1.07546\n",
            "252/252 [==============================] - 85s 338ms/step - loss: 2.0231 - accuracy: 0.5583 - val_loss: 1.3078 - val_accuracy: 0.7500\n",
            "Epoch 110/150\n",
            "252/252 [==============================] - ETA: 0s - loss: 2.4152 - accuracy: 0.5558\n",
            "Epoch 00110: val_loss did not improve from 1.07546\n",
            "252/252 [==============================] - 85s 337ms/step - loss: 2.4152 - accuracy: 0.5558 - val_loss: 1.7518 - val_accuracy: 0.6696\n",
            "Epoch 111/150\n",
            "252/252 [==============================] - ETA: 0s - loss: 1.9893 - accuracy: 0.5424\n",
            "Epoch 00111: val_loss did not improve from 1.07546\n",
            "252/252 [==============================] - 86s 339ms/step - loss: 1.9893 - accuracy: 0.5424 - val_loss: 1.2609 - val_accuracy: 0.7321\n",
            "Epoch 112/150\n",
            "252/252 [==============================] - ETA: 0s - loss: 1.8611 - accuracy: 0.5568\n",
            "Epoch 00112: val_loss did not improve from 1.07546\n",
            "252/252 [==============================] - 87s 347ms/step - loss: 1.8611 - accuracy: 0.5568 - val_loss: 1.1264 - val_accuracy: 0.8036\n",
            "Epoch 113/150\n",
            "252/252 [==============================] - ETA: 0s - loss: 1.7768 - accuracy: 0.5767\n",
            "Epoch 00113: val_loss did not improve from 1.07546\n",
            "252/252 [==============================] - 88s 351ms/step - loss: 1.7768 - accuracy: 0.5767 - val_loss: 1.1591 - val_accuracy: 0.8125\n",
            "Epoch 114/150\n",
            "252/252 [==============================] - ETA: 0s - loss: 1.9647 - accuracy: 0.5370\n",
            "Epoch 00114: val_loss did not improve from 1.07546\n",
            "252/252 [==============================] - 88s 349ms/step - loss: 1.9647 - accuracy: 0.5370 - val_loss: 2.4178 - val_accuracy: 0.6786\n",
            "Epoch 115/150\n",
            "252/252 [==============================] - ETA: 0s - loss: 1.9239 - accuracy: 0.5613\n",
            "Epoch 00115: val_loss did not improve from 1.07546\n",
            "252/252 [==============================] - 88s 350ms/step - loss: 1.9239 - accuracy: 0.5613 - val_loss: 1.2947 - val_accuracy: 0.6964\n",
            "Epoch 116/150\n",
            "252/252 [==============================] - ETA: 0s - loss: 2.0000 - accuracy: 0.5504\n",
            "Epoch 00116: val_loss did not improve from 1.07546\n",
            "252/252 [==============================] - 90s 357ms/step - loss: 2.0000 - accuracy: 0.5504 - val_loss: 1.4553 - val_accuracy: 0.6964\n",
            "Epoch 117/150\n",
            "252/252 [==============================] - ETA: 0s - loss: 1.9832 - accuracy: 0.5672\n",
            "Epoch 00117: val_loss did not improve from 1.07546\n",
            "252/252 [==============================] - 90s 356ms/step - loss: 1.9832 - accuracy: 0.5672 - val_loss: 1.3321 - val_accuracy: 0.7321\n",
            "Epoch 118/150\n",
            "252/252 [==============================] - ETA: 0s - loss: 1.9137 - accuracy: 0.5568\n",
            "Epoch 00118: val_loss did not improve from 1.07546\n",
            "252/252 [==============================] - 89s 354ms/step - loss: 1.9137 - accuracy: 0.5568 - val_loss: 1.1980 - val_accuracy: 0.7589\n",
            "Epoch 119/150\n",
            "252/252 [==============================] - ETA: 0s - loss: 1.9430 - accuracy: 0.5558Restoring model weights from the end of the best epoch.\n",
            "\n",
            "Epoch 00119: val_loss did not improve from 1.07546\n",
            "\n",
            "Epoch 00119: ReduceLROnPlateau reducing learning rate to 0.00020000000949949026.\n",
            "252/252 [==============================] - 89s 355ms/step - loss: 1.9430 - accuracy: 0.5558 - val_loss: 1.8457 - val_accuracy: 0.7679\n",
            "Epoch 00119: early stopping\n"
          ],
          "name": "stdout"
        }
      ]
    },
    {
      "cell_type": "code",
      "metadata": {
        "id": "-x0Y-OtNnMjw",
        "colab_type": "code",
        "colab": {
          "base_uri": "https://localhost:8080/",
          "height": 295
        },
        "outputId": "4c72d9a4-7767-45df-b06c-64900ec3e53f"
      },
      "source": [
        "import matplotlib.pyplot as plt\n",
        "plt.plot(hist.history[\"accuracy\"])\n",
        "plt.plot(hist.history['val_accuracy'])\n",
        "plt.title(\"model accuracy\")\n",
        "plt.ylabel(\"Accuracy\")\n",
        "plt.xlabel(\"Epoch\")\n",
        "plt.legend([\"Accuracy\",\"Validation Accuracy\"])\n",
        "plt.show()"
      ],
      "execution_count": null,
      "outputs": [
        {
          "output_type": "display_data",
          "data": {
            "image/png": "[encoded data removed]",
            "text/plain": [
              "<Figure size 432x288 with 1 Axes>"
            ]
          },
          "metadata": {
            "tags": [],
            "needs_background": "light"
          }
        }
      ]
    },
    {
      "cell_type": "code",
      "metadata": {
        "id": "6iipFug0nRry",
        "colab_type": "code",
        "colab": {
          "base_uri": "https://localhost:8080/",
          "height": 295
        },
        "outputId": "14c518b4-12f1-4a94-d75c-f6ce9be2bf70"
      },
      "source": [
        "plt.plot(hist.history['loss'])\n",
        "plt.plot(hist.history['val_loss'])\n",
        "plt.title(\"model Loss\")\n",
        "plt.ylabel(\"Loss\")\n",
        "plt.xlabel(\"Epoch\")\n",
        "plt.legend([\"Loss\",\"Validation Loss\"])\n",
        "plt.show()"
      ],
      "execution_count": null,
      "outputs": [
        {
          "output_type": "display_data",
          "data": {
            "image/png": "[encoded data removed]",
            "text/plain": [
              "<Figure size 432x288 with 1 Axes>"
            ]
          },
          "metadata": {
            "tags": [],
            "needs_background": "light"
          }
        }
      ]
    },
    {
      "cell_type": "code",
      "metadata": {
        "id": "GLET5R04nUPj",
        "colab_type": "code",
        "colab": {
          "base_uri": "https://localhost:8080/",
          "height": 34
        },
        "outputId": "4420d634-439e-4979-8925-de9e09c6d784"
      },
      "source": [
        "Colour_TestData = TestGenerator.flow_from_directory('/content/drive/My Drive/1-piece/Test/', target_size=(224,224), batch_size = 8, shuffle = False)"
      ],
      "execution_count": null,
      "outputs": [
        {
          "output_type": "stream",
          "text": [
            "Found 112 images belonging to 112 classes.\n"
          ],
          "name": "stdout"
        }
      ]
    },
    {
      "cell_type": "code",
      "metadata": {
        "id": "WFsNjcaqnWRf",
        "colab_type": "code",
        "colab": {}
      },
      "source": [
        "Colour_predict = model_colour.predict(Colour_TestData)"
      ],
      "execution_count": null,
      "outputs": []
    },
    {
      "cell_type": "code",
      "metadata": {
        "id": "XP0IfdRynYK0",
        "colab_type": "code",
        "colab": {}
      },
      "source": [
        "Colour_predict_classes = np.argmax(Colour_predict, axis=1)"
      ],
      "execution_count": null,
      "outputs": []
    },
    {
      "cell_type": "code",
      "metadata": {
        "id": "cRDRu25Rnhap",
        "colab_type": "code",
        "colab": {
          "base_uri": "https://localhost:8080/"
        },
        "outputId": "9c00e848-2991-4d4c-8678-30d71309b564"
      },
      "source": [
        "Colour_predict_classes"
      ],
      "execution_count": null,
      "outputs": [
        {
          "output_type": "execute_result",
          "data": {
            "text/plain": [
              "array([ 55,  55, 110,  93,  88,  55,  61,  55,  61,  93,  55, 105,  55,\n",
              "        97,  55,  55,  93,  55, 105,  55,  55,  55,  55,  55,  89,  93,\n",
              "        55,  89,  90,  72,  55,  55,  72,  97,  55,  55,  55,  55,  55,\n",
              "        55,  55,  55,  55,  55,  55,  55,  90, 107,  91,  55,  55,  55,\n",
              "        55,  86,  55,  55,  55,  91,  55,  55,  89,  55,  55,  55,  55,\n",
              "        55,  55,  55,  55,  55,  63, 105,  55,  55,  55,  88,  55,  42,\n",
              "        55,  88,  55,  55,  55,  55,  55,  55,  55,  55,  55,  55,  55,\n",
              "       107,  55,  55,  89,  55, 105,  97,  63,  55,  55,  55,  97,  55,\n",
              "        55,  55,  55,  55,  55,  55,  55,  55])"
            ]
          },
          "metadata": {
            "tags": []
          },
          "execution_count": 55
        }
      ]
    },
    {
      "cell_type": "code",
      "metadata": {
        "id": "PSQrpv3TnjOT",
        "colab_type": "code",
        "colab": {
          "base_uri": "https://localhost:8080/"
        },
        "outputId": "4ed3e82a-f498-4106-de18-d7b251693a59"
      },
      "source": [
        "Colour_accuracy = accuracy_score(Colour_TestData.classes, Colour_predict_classes)\n",
        "print(\"Colour Accuracy: \", Colour_accuracy)"
      ],
      "execution_count": null,
      "outputs": [
        {
          "output_type": "stream",
          "text": [
            "Colour Accuracy:  0.017857142857142856\n"
          ],
          "name": "stdout"
        }
      ]
    },
    {
      "cell_type": "code",
      "metadata": {
        "id": "2KnURHVhnlMS",
        "colab_type": "code",
        "colab": {
          "base_uri": "https://localhost:8080/"
        },
        "outputId": "de9a97bc-385c-4807-b9c7-a25e20ba38e0"
      },
      "source": [
        "Colour_precision = precision_score(Colour_TestData.classes, Colour_predict_classes,average=\"weighted\")\n",
        "print(\"Colour Precision: \", Colour_precision)"
      ],
      "execution_count": null,
      "outputs": [
        {
          "output_type": "stream",
          "text": [
            "Colour Precision:  0.0023466117216117215\n"
          ],
          "name": "stdout"
        },
        {
          "output_type": "stream",
          "text": [
            "/usr/local/lib/python3.6/dist-packages/sklearn/metrics/_classification.py:1272: UndefinedMetricWarning: Precision is ill-defined and being set to 0.0 in labels with no predicted samples. Use `zero_division` parameter to control this behavior.\n",
            "  _warn_prf(average, modifier, msg_start, len(result))\n"
          ],
          "name": "stderr"
        }
      ]
    },
    {
      "cell_type": "code",
      "metadata": {
        "id": "sIJkNb0mnnHF",
        "colab_type": "code",
        "colab": {
          "base_uri": "https://localhost:8080/"
        },
        "outputId": "26ee0cdf-0f51-487d-fa26-a1d4e131ee5d"
      },
      "source": [
        "Colour_recall = recall_score(Colour_TestData.classes, Colour_predict_classes, average=\"weighted\")\n",
        "print(\"Colour Recall:\", Colour_recall)"
      ],
      "execution_count": null,
      "outputs": [
        {
          "output_type": "stream",
          "text": [
            "Colour Recall: 0.017857142857142856\n"
          ],
          "name": "stdout"
        }
      ]
    },
    {
      "cell_type": "code",
      "metadata": {
        "id": "JIIfwpmknpK-",
        "colab_type": "code",
        "colab": {
          "base_uri": "https://localhost:8080/"
        },
        "outputId": "315e558e-8356-4514-d986-6ea04d4d2e61"
      },
      "source": [
        "Colour_f1_score = f1_score(Colour_TestData.classes, Colour_predict_classes, average=\"weighted\")\n",
        "print(\"F1 score for colour: \", Colour_f1_score)"
      ],
      "execution_count": null,
      "outputs": [
        {
          "output_type": "stream",
          "text": [
            "F1 score for colour:  0.00379746835443038\n"
          ],
          "name": "stdout"
        }
      ]
    },
    {
      "cell_type": "markdown",
      "metadata": {
        "id": "DT-ONFbTnwU2",
        "colab_type": "text"
      },
      "source": [
        "**Emsemble**"
      ]
    },
    {
      "cell_type": "code",
      "metadata": {
        "id": "SKxllc6Vnqw1",
        "colab_type": "code",
        "colab": {}
      },
      "source": [
        "Final = 0.6* Colour_predict + 0.4* Grey_predict"
      ],
      "execution_count": null,
      "outputs": []
    },
    {
      "cell_type": "code",
      "metadata": {
        "id": "akhdMQd_n0o8",
        "colab_type": "code",
        "colab": {}
      },
      "source": [
        "Final_Predict_classes = np.argmax(Final, axis=1)"
      ],
      "execution_count": null,
      "outputs": []
    },
    {
      "cell_type": "code",
      "metadata": {
        "id": "nVSUUU-fn3ej",
        "colab_type": "code",
        "colab": {
          "base_uri": "https://localhost:8080/"
        },
        "outputId": "93f3b930-9c42-4be5-e97f-39560b459fa9"
      },
      "source": [
        "Final_Predict_classes"
      ],
      "execution_count": null,
      "outputs": [
        {
          "output_type": "execute_result",
          "data": {
            "text/plain": [
              "array([ 24,   1,   1,   3,   4,   5,   6,   7,   8,  10,  10,  11,  23,\n",
              "        13,  14,  15,  16,  17,  18,  19,  20,  21,  22,  23,  24,  25,\n",
              "        25,  26,  17,  26,  30,  36,  32,  33,  34,  35,  36,  37,  54,\n",
              "        39,  40,  41,  55,  55,  61,  55,  46,  48,  48,  49,  87,  55,\n",
              "        55,  64,  54,  55,  55,  57,  58,  55,  60,  61,  55,  55,  64,\n",
              "        55,  66,  55,  66,  69,  70, 105,  72,  73,  55,  72,  55,  82,\n",
              "        78,  79,  80,  55,  82,  83,  55,  55,  55,  87,  88,  47,  55,\n",
              "        92,  92,  93,  94,  95,  96,  97,  98,  99, 100, 101, 102,  55,\n",
              "       104, 105,  55, 111,  55,  55,  55, 111])"
            ]
          },
          "metadata": {
            "tags": []
          },
          "execution_count": 62
        }
      ]
    },
    {
      "cell_type": "code",
      "metadata": {
        "id": "WURTOBtSn5S4",
        "colab_type": "code",
        "colab": {
          "base_uri": "https://localhost:8080/"
        },
        "outputId": "c375a7be-030a-4e43-99f0-b33d1ca656ec"
      },
      "source": [
        "Final_accuracy = accuracy_score(Colour_TestData.classes, Final_Predict_classes)\n",
        "print(\"Colour Accuracy: \", Final_accuracy)"
      ],
      "execution_count": null,
      "outputs": [
        {
          "output_type": "stream",
          "text": [
            "Colour Accuracy:  0.6071428571428571\n"
          ],
          "name": "stdout"
        }
      ]
    },
    {
      "cell_type": "code",
      "metadata": {
        "id": "zGPbH7LEn5-l",
        "colab_type": "code",
        "colab": {
          "base_uri": "https://localhost:8080/"
        },
        "outputId": "65e6436a-1f1f-460a-908e-72f6721d1017"
      },
      "source": [
        "Final_precision = precision_score(Colour_TestData.classes, Final_Predict_classes,average=\"weighted\")\n",
        "print(\"Colour Precision: \", Final_precision)"
      ],
      "execution_count": null,
      "outputs": [
        {
          "output_type": "stream",
          "text": [
            "Colour Precision:  0.5182291666666666\n"
          ],
          "name": "stdout"
        },
        {
          "output_type": "stream",
          "text": [
            "/usr/local/lib/python3.6/dist-packages/sklearn/metrics/_classification.py:1272: UndefinedMetricWarning: Precision is ill-defined and being set to 0.0 in labels with no predicted samples. Use `zero_division` parameter to control this behavior.\n",
            "  _warn_prf(average, modifier, msg_start, len(result))\n"
          ],
          "name": "stderr"
        }
      ]
    },
    {
      "cell_type": "code",
      "metadata": {
        "id": "NNQSHv7On8GD",
        "colab_type": "code",
        "colab": {
          "base_uri": "https://localhost:8080/"
        },
        "outputId": "a934ee26-28ca-4ba4-f046-b48c6ec39072"
      },
      "source": [
        "Final_recall = recall_score(Colour_TestData.classes, Final_Predict_classes, average=\"weighted\")\n",
        "print(\"Colour Recall:\", Final_recall)"
      ],
      "execution_count": null,
      "outputs": [
        {
          "output_type": "stream",
          "text": [
            "Colour Recall: 0.6071428571428571\n"
          ],
          "name": "stdout"
        }
      ]
    },
    {
      "cell_type": "code",
      "metadata": {
        "id": "jLJajLiqn-J0",
        "colab_type": "code",
        "colab": {
          "base_uri": "https://localhost:8080/"
        },
        "outputId": "728fbb04-8e52-4f68-d377-45fed579e5ec"
      },
      "source": [
        "Final_f1_score = f1_score(Colour_TestData.classes, Final_Predict_classes, average=\"weighted\")\n",
        "print(\"F1 score for colour: \", Final_f1_score)"
      ],
      "execution_count": null,
      "outputs": [
        {
          "output_type": "stream",
          "text": [
            "F1 score for colour:  0.5453571428571429\n"
          ],
          "name": "stdout"
        }
      ]
    },
    {
      "cell_type": "code",
      "metadata": {
        "id": "GLANrQLDozcC",
        "colab_type": "code",
        "colab": {}
      },
      "source": [
        "Second_final = 0.5* Colour_predict + 0.5* Grey_predict"
      ],
      "execution_count": null,
      "outputs": []
    },
    {
      "cell_type": "code",
      "metadata": {
        "id": "M5WcGEXqo3Vx",
        "colab_type": "code",
        "colab": {}
      },
      "source": [
        "Second_Final_Predict_classes = np.argmax(Second_final, axis=1)"
      ],
      "execution_count": null,
      "outputs": []
    },
    {
      "cell_type": "code",
      "metadata": {
        "id": "guB_hS3Ko5ZQ",
        "colab_type": "code",
        "colab": {
          "base_uri": "https://localhost:8080/"
        },
        "outputId": "4ae3289c-c137-4a3d-cc34-1af9eafdc59e"
      },
      "source": [
        "Mean_Final_accuracy = accuracy_score(Colour_TestData.classes, Second_Final_Predict_classes)\n",
        "print(\"Colour Accuracy: \", Mean_Final_accuracy)"
      ],
      "execution_count": null,
      "outputs": [
        {
          "output_type": "stream",
          "text": [
            "Colour Accuracy:  0.6339285714285714\n"
          ],
          "name": "stdout"
        }
      ]
    }
  ]
}