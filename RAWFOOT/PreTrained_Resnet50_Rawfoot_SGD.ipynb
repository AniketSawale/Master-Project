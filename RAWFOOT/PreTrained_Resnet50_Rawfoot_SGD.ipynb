{
  "nbformat": 4,
  "nbformat_minor": 0,
  "metadata": {
    "colab": {
      "name": "PreTrained-Resnet50-Rawfoot_SGD.ipynb",
      "provenance": [],
      "collapsed_sections": [],
      "machine_shape": "hm"
    },
    "kernelspec": {
      "name": "python3",
      "display_name": "Python 3"
    },
    "accelerator": "GPU"
  },
  "cells": [
    {
      "cell_type": "code",
      "metadata": {
        "id": "gwrnn9RDGRWn",
        "colab_type": "code",
        "colab": {
          "base_uri": "https://localhost:8080/",
          "height": 122
        },
        "outputId": "bc48bc0a-2416-4e91-99e7-f50403fb712c"
      },
      "source": [
        "from google.colab import drive\n",
        "drive.mount('/content/drive')"
      ],
      "execution_count": null,
      "outputs": [
        {
          "output_type": "stream",
          "text": [
            "Go to this URL in a browser: https://accounts.google.com/o/oauth2/auth?client_id=947318989803-6bn6qk8qdgf4n4g3pfee6491hc0brc4i.apps.googleusercontent.com&redirect_uri=urn%3aietf%3awg%3aoauth%3a2.0%3aoob&scope=email%20https%3a%2f%2fwww.googleapis.com%2fauth%2fdocs.test%20https%3a%2f%2fwww.googleapis.com%2fauth%2fdrive%20https%3a%2f%2fwww.googleapis.com%2fauth%2fdrive.photos.readonly%20https%3a%2f%2fwww.googleapis.com%2fauth%2fpeopleapi.readonly&response_type=code\n",
            "\n",
            "Enter your authorization code:\n",
            "··········\n",
            "Mounted at /content/drive\n"
          ],
          "name": "stdout"
        }
      ]
    },
    {
      "cell_type": "code",
      "metadata": {
        "id": "S1Ru2TIyG8zm",
        "colab_type": "code",
        "colab": {}
      },
      "source": [
        "# Importing the Libraries.\n",
        "import keras\n",
        "import os\n",
        "from keras.models import Sequential\n",
        "from keras.layers import Dense, Conv2D, MaxPool2D, Flatten, Dropout\n",
        "from keras.preprocessing.image import ImageDataGenerator\n",
        "import numpy as np\n",
        "#import keras.backend as K\n",
        "import tensorflow.keras.backend as K\n",
        "import tensorflow.compat.v1 as tf\n",
        "from os import listdir\n",
        "from os.path import isfile, join\n",
        "import numpy as np\n",
        "import sys\n",
        "import os\n",
        "import shutil\n",
        "import pandas as pd\n",
        "from PIL import Image\n",
        "import cv2\n",
        "import keras\n",
        "import glob\n",
        "from PIL import Image\n",
        "from keras.preprocessing.image import img_to_array\n",
        "from sklearn.preprocessing import MultiLabelBinarizer\n",
        "from keras import models, regularizers, layers, optimizers, losses, metrics\n",
        "from keras.applications.resnet50 import ResNet50\n",
        "from keras.preprocessing.image import ImageDataGenerator\n",
        "from keras.models import Sequential\n",
        "from keras.layers import Dense, Dropout, Activation, Flatten, MaxPool2D\n",
        "from keras.layers import Convolution2D, MaxPooling2D, ZeroPadding2D\n",
        "from keras.layers import AveragePooling2D\n",
        "from keras.models import load_model\n",
        "from keras.layers.pooling import GlobalAveragePooling2D\n",
        "from keras.layers.normalization import BatchNormalization\n",
        "from keras.models import Model\n",
        "from keras.optimizers import Adam, SGD\n",
        "from keras.callbacks import ModelCheckpoint, EarlyStopping\n",
        "from sklearn.preprocessing import LabelEncoder, OneHotEncoder\n",
        "from PIL import ImageFile\n",
        "\n",
        "tf.enable_eager_execution()"
      ],
      "execution_count": null,
      "outputs": []
    },
    {
      "cell_type": "code",
      "metadata": {
        "id": "H8uThe6GHIz4",
        "colab_type": "code",
        "colab": {}
      },
      "source": [
        "ImageFile.LOAD_TRUNCATED_IMAGES = True"
      ],
      "execution_count": null,
      "outputs": []
    },
    {
      "cell_type": "code",
      "metadata": {
        "id": "6rFm4Cu0HLWH",
        "colab_type": "code",
        "colab": {}
      },
      "source": [
        "# Data Augmentation.\n",
        "DataGenerator = ImageDataGenerator(horizontal_flip=True, vertical_flip=True, rescale=1./255, brightness_range=[0.2,0.7])"
      ],
      "execution_count": null,
      "outputs": []
    },
    {
      "cell_type": "code",
      "metadata": {
        "id": "FkFMyChNHOhL",
        "colab_type": "code",
        "colab": {}
      },
      "source": [
        "TestGenerator = ImageDataGenerator(rescale=1./255)"
      ],
      "execution_count": null,
      "outputs": []
    },
    {
      "cell_type": "code",
      "metadata": {
        "id": "6RosFDArHQjf",
        "colab_type": "code",
        "colab": {
          "base_uri": "https://localhost:8080/",
          "height": 34
        },
        "outputId": "bb5be3e2-60cc-43e0-dced-de64defa4649"
      },
      "source": [
        "Grey_TrainingData = DataGenerator.flow_from_directory('/content/drive/My Drive/RawFoot_Image/Train/', target_size=(224,224), batch_size=8, color_mode='grayscale')"
      ],
      "execution_count": null,
      "outputs": [
        {
          "output_type": "stream",
          "text": [
            "Found 2788 images belonging to 68 classes.\n"
          ],
          "name": "stdout"
        }
      ]
    },
    {
      "cell_type": "code",
      "metadata": {
        "id": "vbyNJFttHTH8",
        "colab_type": "code",
        "colab": {
          "base_uri": "https://localhost:8080/",
          "height": 34
        },
        "outputId": "c6b13723-4b4e-41fd-ec90-f2d6fa40953e"
      },
      "source": [
        "Grey_ValidData = TestGenerator.flow_from_directory('/content/drive/My Drive/RawFoot_Image/Valid/', target_size=(224,224), batch_size=8, color_mode='grayscale')"
      ],
      "execution_count": null,
      "outputs": [
        {
          "output_type": "stream",
          "text": [
            "Found 136 images belonging to 68 classes.\n"
          ],
          "name": "stdout"
        }
      ]
    },
    {
      "cell_type": "code",
      "metadata": {
        "id": "roMORhNzHatK",
        "colab_type": "code",
        "colab": {}
      },
      "source": [
        "gpu_options = tf.GPUOptions(allow_growth=True)\n",
        "session = tf.InteractiveSession(config=tf.ConfigProto(gpu_options=gpu_options))"
      ],
      "execution_count": null,
      "outputs": []
    },
    {
      "cell_type": "code",
      "metadata": {
        "id": "MhjF0A4pHkdh",
        "colab_type": "code",
        "colab": {}
      },
      "source": [
        "from keras.applications import ResNet50"
      ],
      "execution_count": null,
      "outputs": []
    },
    {
      "cell_type": "code",
      "metadata": {
        "id": "wWL9JBVbICYY",
        "colab_type": "code",
        "colab": {
          "base_uri": "https://localhost:8080/",
          "height": 71
        },
        "outputId": "0f97c24e-dacd-4e1c-c8a4-5c813dc4be66"
      },
      "source": [
        "conv_base = ResNet50(weights='imagenet', include_top = False)"
      ],
      "execution_count": null,
      "outputs": [
        {
          "output_type": "stream",
          "text": [
            "Downloading data from https://storage.googleapis.com/tensorflow/keras-applications/resnet/resnet50_weights_tf_dim_ordering_tf_kernels_notop.h5\n",
            "94773248/94765736 [==============================] - 2s 0us/step\n"
          ],
          "name": "stdout"
        }
      ]
    },
    {
      "cell_type": "code",
      "metadata": {
        "id": "0tw3QqY2IFb1",
        "colab_type": "code",
        "colab": {
          "base_uri": "https://localhost:8080/",
          "height": 34
        },
        "outputId": "4fd61e35-efab-4979-d165-082905b5f344"
      },
      "source": [
        "for layer in conv_base.layers[:299]:\n",
        "  layer.trainable = False\n",
        "for layer in conv_base.layers[299:]:\n",
        "  layer.trainable = True\n",
        "for layer in conv_base.layers:\n",
        "  if isinstance(layer, BatchNormalization):\n",
        "    layer.trainable = True\n",
        "\n",
        "print(\"Done\")"
      ],
      "execution_count": null,
      "outputs": [
        {
          "output_type": "stream",
          "text": [
            "Done\n"
          ],
          "name": "stdout"
        }
      ]
    },
    {
      "cell_type": "code",
      "metadata": {
        "id": "TPqTlCfaIIzT",
        "colab_type": "code",
        "colab": {
          "base_uri": "https://localhost:8080/",
          "height": 1000
        },
        "outputId": "839b01f6-9ea9-4ba1-bc97-3070491bb677"
      },
      "source": [
        "for i, layer in enumerate(conv_base.layers):\n",
        "   print(i, layer.name, layer.trainable)"
      ],
      "execution_count": null,
      "outputs": [
        {
          "output_type": "stream",
          "text": [
            "0 input_1 False\n",
            "1 conv1_pad False\n",
            "2 conv1_conv False\n",
            "3 conv1_bn True\n",
            "4 conv1_relu False\n",
            "5 pool1_pad False\n",
            "6 pool1_pool False\n",
            "7 conv2_block1_1_conv False\n",
            "8 conv2_block1_1_bn True\n",
            "9 conv2_block1_1_relu False\n",
            "10 conv2_block1_2_conv False\n",
            "11 conv2_block1_2_bn True\n",
            "12 conv2_block1_2_relu False\n",
            "13 conv2_block1_0_conv False\n",
            "14 conv2_block1_3_conv False\n",
            "15 conv2_block1_0_bn True\n",
            "16 conv2_block1_3_bn True\n",
            "17 conv2_block1_add False\n",
            "18 conv2_block1_out False\n",
            "19 conv2_block2_1_conv False\n",
            "20 conv2_block2_1_bn True\n",
            "21 conv2_block2_1_relu False\n",
            "22 conv2_block2_2_conv False\n",
            "23 conv2_block2_2_bn True\n",
            "24 conv2_block2_2_relu False\n",
            "25 conv2_block2_3_conv False\n",
            "26 conv2_block2_3_bn True\n",
            "27 conv2_block2_add False\n",
            "28 conv2_block2_out False\n",
            "29 conv2_block3_1_conv False\n",
            "30 conv2_block3_1_bn True\n",
            "31 conv2_block3_1_relu False\n",
            "32 conv2_block3_2_conv False\n",
            "33 conv2_block3_2_bn True\n",
            "34 conv2_block3_2_relu False\n",
            "35 conv2_block3_3_conv False\n",
            "36 conv2_block3_3_bn True\n",
            "37 conv2_block3_add False\n",
            "38 conv2_block3_out False\n",
            "39 conv3_block1_1_conv False\n",
            "40 conv3_block1_1_bn True\n",
            "41 conv3_block1_1_relu False\n",
            "42 conv3_block1_2_conv False\n",
            "43 conv3_block1_2_bn True\n",
            "44 conv3_block1_2_relu False\n",
            "45 conv3_block1_0_conv False\n",
            "46 conv3_block1_3_conv False\n",
            "47 conv3_block1_0_bn True\n",
            "48 conv3_block1_3_bn True\n",
            "49 conv3_block1_add False\n",
            "50 conv3_block1_out False\n",
            "51 conv3_block2_1_conv False\n",
            "52 conv3_block2_1_bn True\n",
            "53 conv3_block2_1_relu False\n",
            "54 conv3_block2_2_conv False\n",
            "55 conv3_block2_2_bn True\n",
            "56 conv3_block2_2_relu False\n",
            "57 conv3_block2_3_conv False\n",
            "58 conv3_block2_3_bn True\n",
            "59 conv3_block2_add False\n",
            "60 conv3_block2_out False\n",
            "61 conv3_block3_1_conv False\n",
            "62 conv3_block3_1_bn True\n",
            "63 conv3_block3_1_relu False\n",
            "64 conv3_block3_2_conv False\n",
            "65 conv3_block3_2_bn True\n",
            "66 conv3_block3_2_relu False\n",
            "67 conv3_block3_3_conv False\n",
            "68 conv3_block3_3_bn True\n",
            "69 conv3_block3_add False\n",
            "70 conv3_block3_out False\n",
            "71 conv3_block4_1_conv False\n",
            "72 conv3_block4_1_bn True\n",
            "73 conv3_block4_1_relu False\n",
            "74 conv3_block4_2_conv False\n",
            "75 conv3_block4_2_bn True\n",
            "76 conv3_block4_2_relu False\n",
            "77 conv3_block4_3_conv False\n",
            "78 conv3_block4_3_bn True\n",
            "79 conv3_block4_add False\n",
            "80 conv3_block4_out False\n",
            "81 conv4_block1_1_conv False\n",
            "82 conv4_block1_1_bn True\n",
            "83 conv4_block1_1_relu False\n",
            "84 conv4_block1_2_conv False\n",
            "85 conv4_block1_2_bn True\n",
            "86 conv4_block1_2_relu False\n",
            "87 conv4_block1_0_conv False\n",
            "88 conv4_block1_3_conv False\n",
            "89 conv4_block1_0_bn True\n",
            "90 conv4_block1_3_bn True\n",
            "91 conv4_block1_add False\n",
            "92 conv4_block1_out False\n",
            "93 conv4_block2_1_conv False\n",
            "94 conv4_block2_1_bn True\n",
            "95 conv4_block2_1_relu False\n",
            "96 conv4_block2_2_conv False\n",
            "97 conv4_block2_2_bn True\n",
            "98 conv4_block2_2_relu False\n",
            "99 conv4_block2_3_conv False\n",
            "100 conv4_block2_3_bn True\n",
            "101 conv4_block2_add False\n",
            "102 conv4_block2_out False\n",
            "103 conv4_block3_1_conv False\n",
            "104 conv4_block3_1_bn True\n",
            "105 conv4_block3_1_relu False\n",
            "106 conv4_block3_2_conv False\n",
            "107 conv4_block3_2_bn True\n",
            "108 conv4_block3_2_relu False\n",
            "109 conv4_block3_3_conv False\n",
            "110 conv4_block3_3_bn True\n",
            "111 conv4_block3_add False\n",
            "112 conv4_block3_out False\n",
            "113 conv4_block4_1_conv False\n",
            "114 conv4_block4_1_bn True\n",
            "115 conv4_block4_1_relu False\n",
            "116 conv4_block4_2_conv False\n",
            "117 conv4_block4_2_bn True\n",
            "118 conv4_block4_2_relu False\n",
            "119 conv4_block4_3_conv False\n",
            "120 conv4_block4_3_bn True\n",
            "121 conv4_block4_add False\n",
            "122 conv4_block4_out False\n",
            "123 conv4_block5_1_conv False\n",
            "124 conv4_block5_1_bn True\n",
            "125 conv4_block5_1_relu False\n",
            "126 conv4_block5_2_conv False\n",
            "127 conv4_block5_2_bn True\n",
            "128 conv4_block5_2_relu False\n",
            "129 conv4_block5_3_conv False\n",
            "130 conv4_block5_3_bn True\n",
            "131 conv4_block5_add False\n",
            "132 conv4_block5_out False\n",
            "133 conv4_block6_1_conv False\n",
            "134 conv4_block6_1_bn True\n",
            "135 conv4_block6_1_relu False\n",
            "136 conv4_block6_2_conv False\n",
            "137 conv4_block6_2_bn True\n",
            "138 conv4_block6_2_relu False\n",
            "139 conv4_block6_3_conv False\n",
            "140 conv4_block6_3_bn True\n",
            "141 conv4_block6_add False\n",
            "142 conv4_block6_out False\n",
            "143 conv5_block1_1_conv False\n",
            "144 conv5_block1_1_bn True\n",
            "145 conv5_block1_1_relu False\n",
            "146 conv5_block1_2_conv False\n",
            "147 conv5_block1_2_bn True\n",
            "148 conv5_block1_2_relu False\n",
            "149 conv5_block1_0_conv False\n",
            "150 conv5_block1_3_conv False\n",
            "151 conv5_block1_0_bn True\n",
            "152 conv5_block1_3_bn True\n",
            "153 conv5_block1_add False\n",
            "154 conv5_block1_out False\n",
            "155 conv5_block2_1_conv False\n",
            "156 conv5_block2_1_bn True\n",
            "157 conv5_block2_1_relu False\n",
            "158 conv5_block2_2_conv False\n",
            "159 conv5_block2_2_bn True\n",
            "160 conv5_block2_2_relu False\n",
            "161 conv5_block2_3_conv False\n",
            "162 conv5_block2_3_bn True\n",
            "163 conv5_block2_add False\n",
            "164 conv5_block2_out False\n",
            "165 conv5_block3_1_conv False\n",
            "166 conv5_block3_1_bn True\n",
            "167 conv5_block3_1_relu False\n",
            "168 conv5_block3_2_conv False\n",
            "169 conv5_block3_2_bn True\n",
            "170 conv5_block3_2_relu False\n",
            "171 conv5_block3_3_conv False\n",
            "172 conv5_block3_3_bn True\n",
            "173 conv5_block3_add False\n",
            "174 conv5_block3_out False\n"
          ],
          "name": "stdout"
        }
      ]
    },
    {
      "cell_type": "code",
      "metadata": {
        "id": "o8Do6bxfMZdV",
        "colab_type": "code",
        "colab": {}
      },
      "source": [
        "model = Sequential()"
      ],
      "execution_count": null,
      "outputs": []
    },
    {
      "cell_type": "code",
      "metadata": {
        "id": "LRgJzzTkILvk",
        "colab_type": "code",
        "colab": {}
      },
      "source": [
        "from keras.layers import Input "
      ],
      "execution_count": null,
      "outputs": []
    },
    {
      "cell_type": "code",
      "metadata": {
        "id": "6XwhmneUIOz4",
        "colab_type": "code",
        "colab": {}
      },
      "source": [
        "input_tensor = Input(shape=(224,224,1))\n",
        "x = Conv2D(3,(3,3), padding='same')(input_tensor)"
      ],
      "execution_count": null,
      "outputs": []
    },
    {
      "cell_type": "code",
      "metadata": {
        "id": "mvfNxm0DMeGD",
        "colab_type": "code",
        "colab": {}
      },
      "source": [
        "out = conv_base(x)"
      ],
      "execution_count": null,
      "outputs": []
    },
    {
      "cell_type": "code",
      "metadata": {
        "id": "h8G5kYBNOART",
        "colab_type": "code",
        "colab": {}
      },
      "source": [
        "models = Model(inputs = input_tensor, outputs = out)"
      ],
      "execution_count": null,
      "outputs": []
    },
    {
      "cell_type": "code",
      "metadata": {
        "id": "0VKE-js9OSPs",
        "colab_type": "code",
        "colab": {}
      },
      "source": [
        "model.add(models)"
      ],
      "execution_count": null,
      "outputs": []
    },
    {
      "cell_type": "code",
      "metadata": {
        "id": "Zkf-k5oOOkyG",
        "colab_type": "code",
        "colab": {}
      },
      "source": [
        "model.add(Flatten())\n",
        "model.add(Dense(2048, activation='relu', kernel_regularizer= regularizers.l2(0.001)))\n",
        "model.add(Dropout(0.5))\n",
        "model.add(Dense(68, activation='softmax'))"
      ],
      "execution_count": null,
      "outputs": []
    },
    {
      "cell_type": "code",
      "metadata": {
        "id": "c234MRM8IhIy",
        "colab_type": "code",
        "colab": {
          "base_uri": "https://localhost:8080/",
          "height": 323
        },
        "outputId": "7a03438b-d7ea-4ca6-deff-b5c93c68bc93"
      },
      "source": [
        "model.summary()"
      ],
      "execution_count": null,
      "outputs": [
        {
          "output_type": "stream",
          "text": [
            "Model: \"sequential\"\n",
            "_________________________________________________________________\n",
            "Layer (type)                 Output Shape              Param #   \n",
            "=================================================================\n",
            "functional_1 (Functional)    (None, 7, 7, 2048)        23587742  \n",
            "_________________________________________________________________\n",
            "flatten (Flatten)            (None, 100352)            0         \n",
            "_________________________________________________________________\n",
            "dense (Dense)                (None, 2048)              205522944 \n",
            "_________________________________________________________________\n",
            "dropout (Dropout)            (None, 2048)              0         \n",
            "_________________________________________________________________\n",
            "dense_1 (Dense)              (None, 68)                139332    \n",
            "=================================================================\n",
            "Total params: 229,250,018\n",
            "Trainable params: 205,715,426\n",
            "Non-trainable params: 23,534,592\n",
            "_________________________________________________________________\n"
          ],
          "name": "stdout"
        }
      ]
    },
    {
      "cell_type": "code",
      "metadata": {
        "id": "YKHF6ZDtIj7X",
        "colab_type": "code",
        "colab": {}
      },
      "source": [
        "model.compile(loss='categorical_crossentropy',\n",
        "              optimizer=SGD(lr=0.001),\n",
        "              metrics=['accuracy'])"
      ],
      "execution_count": null,
      "outputs": []
    },
    {
      "cell_type": "code",
      "metadata": {
        "id": "QFrUnTWdIm1x",
        "colab_type": "code",
        "colab": {}
      },
      "source": [
        "from keras.callbacks import ModelCheckpoint, EarlyStopping, ReduceLROnPlateau\n",
        "checkpoint = ModelCheckpoint(\"/content/drive/My Drive/RawFoot_Image/RawFoot_Image_GreyScale_SGDResnet50.h5\",\n",
        "                             monitor=\"val_loss\",\n",
        "                             mode=\"min\",\n",
        "                             save_best_only = True,\n",
        "                             verbose=1)\n",
        "\n",
        "earlystop = EarlyStopping(monitor = 'val_loss', \n",
        "                          min_delta = 0, \n",
        "                          patience = 40,\n",
        "                          verbose = 1,\n",
        "                          restore_best_weights = True)\n",
        "\n",
        "reduce_lr = ReduceLROnPlateau(monitor = 'val_loss',\n",
        "                              factor = 0.2,\n",
        "                              patience = 40,\n",
        "                              verbose = 1,\n",
        "                              min_delta = 0.00001)\n",
        "\n",
        "callBacks = [earlystop, checkpoint, reduce_lr]"
      ],
      "execution_count": null,
      "outputs": []
    },
    {
      "cell_type": "code",
      "metadata": {
        "id": "Silp66FDJEvF",
        "colab_type": "code",
        "colab": {
          "base_uri": "https://localhost:8080/",
          "height": 1000
        },
        "outputId": "9abb1d21-83a4-4f23-fa67-7274e132d6b5"
      },
      "source": [
        "hist = model.fit_generator(steps_per_epoch=349,generator= Grey_TrainingData, validation_data= Grey_ValidData, validation_steps=17,epochs=150,callbacks=callBacks)"
      ],
      "execution_count": null,
      "outputs": [
        {
          "output_type": "stream",
          "text": [
            "WARNING:tensorflow:From <ipython-input-23-6fa2b9fa51fb>:1: Model.fit_generator (from tensorflow.python.keras.engine.training) is deprecated and will be removed in a future version.\n",
            "Instructions for updating:\n",
            "Please use Model.fit, which supports generators.\n",
            "Epoch 1/150\n",
            "349/349 [==============================] - ETA: 0s - loss: 5.6945 - accuracy: 0.6367\n",
            "Epoch 00001: val_loss improved from inf to 25.71587, saving model to /content/drive/My Drive/RawFoot_Image/RawFoot_Image_GreyScale_SGDResnet50.h5\n",
            "349/349 [==============================] - 1144s 3s/step - loss: 5.6945 - accuracy: 0.6367 - val_loss: 25.7159 - val_accuracy: 0.0000e+00\n",
            "Epoch 2/150\n",
            "349/349 [==============================] - ETA: 0s - loss: 4.3656 - accuracy: 0.8967\n",
            "Epoch 00002: val_loss improved from 25.71587 to 19.78912, saving model to /content/drive/My Drive/RawFoot_Image/RawFoot_Image_GreyScale_SGDResnet50.h5\n",
            "349/349 [==============================] - 100s 285ms/step - loss: 4.3656 - accuracy: 0.8967 - val_loss: 19.7891 - val_accuracy: 0.0147\n",
            "Epoch 3/150\n",
            "349/349 [==============================] - ETA: 0s - loss: 4.1814 - accuracy: 0.9534\n",
            "Epoch 00003: val_loss improved from 19.78912 to 7.58057, saving model to /content/drive/My Drive/RawFoot_Image/RawFoot_Image_GreyScale_SGDResnet50.h5\n",
            "349/349 [==============================] - 99s 285ms/step - loss: 4.1814 - accuracy: 0.9534 - val_loss: 7.5806 - val_accuracy: 0.5147\n",
            "Epoch 4/150\n",
            "349/349 [==============================] - ETA: 0s - loss: 4.1391 - accuracy: 0.9588\n",
            "Epoch 00004: val_loss improved from 7.58057 to 5.06424, saving model to /content/drive/My Drive/RawFoot_Image/RawFoot_Image_GreyScale_SGDResnet50.h5\n",
            "349/349 [==============================] - 99s 284ms/step - loss: 4.1391 - accuracy: 0.9588 - val_loss: 5.0642 - val_accuracy: 0.8456\n",
            "Epoch 5/150\n",
            "349/349 [==============================] - ETA: 0s - loss: 4.0889 - accuracy: 0.9717\n",
            "Epoch 00005: val_loss did not improve from 5.06424\n",
            "349/349 [==============================] - 95s 271ms/step - loss: 4.0889 - accuracy: 0.9717 - val_loss: 5.2171 - val_accuracy: 0.8235\n",
            "Epoch 6/150\n",
            "349/349 [==============================] - ETA: 0s - loss: 4.0981 - accuracy: 0.9670\n",
            "Epoch 00006: val_loss did not improve from 5.06424\n",
            "349/349 [==============================] - 93s 267ms/step - loss: 4.0981 - accuracy: 0.9670 - val_loss: 5.3745 - val_accuracy: 0.8088\n",
            "Epoch 7/150\n",
            "349/349 [==============================] - ETA: 0s - loss: 4.0615 - accuracy: 0.9767\n",
            "Epoch 00007: val_loss did not improve from 5.06424\n",
            "349/349 [==============================] - 94s 268ms/step - loss: 4.0615 - accuracy: 0.9767 - val_loss: 5.4641 - val_accuracy: 0.8162\n",
            "Epoch 8/150\n",
            "349/349 [==============================] - ETA: 0s - loss: 4.0454 - accuracy: 0.9799\n",
            "Epoch 00008: val_loss did not improve from 5.06424\n",
            "349/349 [==============================] - 93s 267ms/step - loss: 4.0454 - accuracy: 0.9799 - val_loss: 5.1849 - val_accuracy: 0.8309\n",
            "Epoch 9/150\n",
            "349/349 [==============================] - ETA: 0s - loss: 4.0150 - accuracy: 0.9889\n",
            "Epoch 00009: val_loss did not improve from 5.06424\n",
            "349/349 [==============================] - 93s 266ms/step - loss: 4.0150 - accuracy: 0.9889 - val_loss: 5.2752 - val_accuracy: 0.8382\n",
            "Epoch 10/150\n",
            "349/349 [==============================] - ETA: 0s - loss: 4.0249 - accuracy: 0.9853\n",
            "Epoch 00010: val_loss did not improve from 5.06424\n",
            "349/349 [==============================] - 93s 266ms/step - loss: 4.0249 - accuracy: 0.9853 - val_loss: 5.4423 - val_accuracy: 0.8456\n",
            "Epoch 11/150\n",
            "349/349 [==============================] - ETA: 0s - loss: 4.0061 - accuracy: 0.9889\n",
            "Epoch 00011: val_loss did not improve from 5.06424\n",
            "349/349 [==============================] - 92s 264ms/step - loss: 4.0061 - accuracy: 0.9889 - val_loss: 5.3358 - val_accuracy: 0.8382\n",
            "Epoch 12/150\n",
            "349/349 [==============================] - ETA: 0s - loss: 3.9876 - accuracy: 0.9939\n",
            "Epoch 00012: val_loss did not improve from 5.06424\n",
            "349/349 [==============================] - 93s 266ms/step - loss: 3.9876 - accuracy: 0.9939 - val_loss: 5.3644 - val_accuracy: 0.8529\n",
            "Epoch 13/150\n",
            "349/349 [==============================] - ETA: 0s - loss: 3.9943 - accuracy: 0.9903\n",
            "Epoch 00013: val_loss did not improve from 5.06424\n",
            "349/349 [==============================] - 93s 265ms/step - loss: 3.9943 - accuracy: 0.9903 - val_loss: 5.2086 - val_accuracy: 0.8456\n",
            "Epoch 14/150\n",
            "349/349 [==============================] - ETA: 0s - loss: 3.9817 - accuracy: 0.9889\n",
            "Epoch 00014: val_loss did not improve from 5.06424\n",
            "349/349 [==============================] - 94s 268ms/step - loss: 3.9817 - accuracy: 0.9889 - val_loss: 5.4711 - val_accuracy: 0.8235\n",
            "Epoch 15/150\n",
            "349/349 [==============================] - ETA: 0s - loss: 3.9816 - accuracy: 0.9874\n",
            "Epoch 00015: val_loss did not improve from 5.06424\n",
            "349/349 [==============================] - 93s 267ms/step - loss: 3.9816 - accuracy: 0.9874 - val_loss: 5.4437 - val_accuracy: 0.8235\n",
            "Epoch 16/150\n",
            "349/349 [==============================] - ETA: 0s - loss: 3.9694 - accuracy: 0.9903\n",
            "Epoch 00016: val_loss did not improve from 5.06424\n",
            "349/349 [==============================] - 93s 267ms/step - loss: 3.9694 - accuracy: 0.9903 - val_loss: 5.2805 - val_accuracy: 0.8309\n",
            "Epoch 17/150\n",
            "349/349 [==============================] - ETA: 0s - loss: 3.9585 - accuracy: 0.9932\n",
            "Epoch 00017: val_loss did not improve from 5.06424\n",
            "349/349 [==============================] - 94s 268ms/step - loss: 3.9585 - accuracy: 0.9932 - val_loss: 5.4531 - val_accuracy: 0.8456\n",
            "Epoch 18/150\n",
            "349/349 [==============================] - ETA: 0s - loss: 3.9603 - accuracy: 0.9914\n",
            "Epoch 00018: val_loss did not improve from 5.06424\n",
            "349/349 [==============================] - 93s 266ms/step - loss: 3.9603 - accuracy: 0.9914 - val_loss: 5.2231 - val_accuracy: 0.8382\n",
            "Epoch 19/150\n",
            "349/349 [==============================] - ETA: 0s - loss: 3.9524 - accuracy: 0.9918\n",
            "Epoch 00019: val_loss did not improve from 5.06424\n",
            "349/349 [==============================] - 93s 265ms/step - loss: 3.9524 - accuracy: 0.9918 - val_loss: 5.2957 - val_accuracy: 0.8456\n",
            "Epoch 20/150\n",
            "349/349 [==============================] - ETA: 0s - loss: 3.9415 - accuracy: 0.9943\n",
            "Epoch 00020: val_loss did not improve from 5.06424\n",
            "349/349 [==============================] - 92s 265ms/step - loss: 3.9415 - accuracy: 0.9943 - val_loss: 5.1236 - val_accuracy: 0.8529\n",
            "Epoch 21/150\n",
            "349/349 [==============================] - ETA: 0s - loss: 3.9289 - accuracy: 0.9943\n",
            "Epoch 00021: val_loss did not improve from 5.06424\n",
            "349/349 [==============================] - 91s 260ms/step - loss: 3.9289 - accuracy: 0.9943 - val_loss: 5.3631 - val_accuracy: 0.8456\n",
            "Epoch 22/150\n",
            "349/349 [==============================] - ETA: 0s - loss: 3.9182 - accuracy: 0.9971\n",
            "Epoch 00022: val_loss did not improve from 5.06424\n",
            "349/349 [==============================] - 90s 259ms/step - loss: 3.9182 - accuracy: 0.9971 - val_loss: 5.2690 - val_accuracy: 0.8382\n",
            "Epoch 23/150\n",
            "349/349 [==============================] - ETA: 0s - loss: 3.9140 - accuracy: 0.9978\n",
            "Epoch 00023: val_loss did not improve from 5.06424\n",
            "349/349 [==============================] - 90s 258ms/step - loss: 3.9140 - accuracy: 0.9978 - val_loss: 5.2634 - val_accuracy: 0.8382\n",
            "Epoch 24/150\n",
            "349/349 [==============================] - ETA: 0s - loss: 3.9132 - accuracy: 0.9950\n",
            "Epoch 00024: val_loss did not improve from 5.06424\n",
            "349/349 [==============================] - 91s 260ms/step - loss: 3.9132 - accuracy: 0.9950 - val_loss: 5.2519 - val_accuracy: 0.8382\n",
            "Epoch 25/150\n",
            "349/349 [==============================] - ETA: 0s - loss: 3.9032 - accuracy: 0.9975\n",
            "Epoch 00025: val_loss did not improve from 5.06424\n",
            "349/349 [==============================] - 90s 258ms/step - loss: 3.9032 - accuracy: 0.9975 - val_loss: 5.2204 - val_accuracy: 0.8456\n",
            "Epoch 26/150\n",
            "349/349 [==============================] - ETA: 0s - loss: 3.8980 - accuracy: 0.9961\n",
            "Epoch 00026: val_loss did not improve from 5.06424\n",
            "349/349 [==============================] - 89s 256ms/step - loss: 3.8980 - accuracy: 0.9961 - val_loss: 5.2642 - val_accuracy: 0.8456\n",
            "Epoch 27/150\n",
            "349/349 [==============================] - ETA: 0s - loss: 3.8945 - accuracy: 0.9968\n",
            "Epoch 00027: val_loss did not improve from 5.06424\n",
            "349/349 [==============================] - 90s 259ms/step - loss: 3.8945 - accuracy: 0.9968 - val_loss: 5.2096 - val_accuracy: 0.8603\n",
            "Epoch 28/150\n",
            "349/349 [==============================] - ETA: 0s - loss: 3.8929 - accuracy: 0.9943\n",
            "Epoch 00028: val_loss did not improve from 5.06424\n",
            "349/349 [==============================] - 90s 257ms/step - loss: 3.8929 - accuracy: 0.9943 - val_loss: 5.1710 - val_accuracy: 0.8456\n",
            "Epoch 29/150\n",
            "349/349 [==============================] - ETA: 0s - loss: 3.8815 - accuracy: 0.9971\n",
            "Epoch 00029: val_loss did not improve from 5.06424\n",
            "349/349 [==============================] - 90s 257ms/step - loss: 3.8815 - accuracy: 0.9971 - val_loss: 5.2330 - val_accuracy: 0.8603\n",
            "Epoch 30/150\n",
            "349/349 [==============================] - ETA: 0s - loss: 3.8737 - accuracy: 0.9971\n",
            "Epoch 00030: val_loss did not improve from 5.06424\n",
            "349/349 [==============================] - 90s 257ms/step - loss: 3.8737 - accuracy: 0.9971 - val_loss: 5.1891 - val_accuracy: 0.8676\n",
            "Epoch 31/150\n",
            "349/349 [==============================] - ETA: 0s - loss: 3.8732 - accuracy: 0.9961\n",
            "Epoch 00031: val_loss did not improve from 5.06424\n",
            "349/349 [==============================] - 90s 258ms/step - loss: 3.8732 - accuracy: 0.9961 - val_loss: 5.1480 - val_accuracy: 0.8603\n",
            "Epoch 32/150\n",
            "349/349 [==============================] - ETA: 0s - loss: 3.8637 - accuracy: 0.9975\n",
            "Epoch 00032: val_loss did not improve from 5.06424\n",
            "349/349 [==============================] - 90s 257ms/step - loss: 3.8637 - accuracy: 0.9975 - val_loss: 5.2348 - val_accuracy: 0.8529\n",
            "Epoch 33/150\n",
            "349/349 [==============================] - ETA: 0s - loss: 3.8589 - accuracy: 0.9978\n",
            "Epoch 00033: val_loss did not improve from 5.06424\n",
            "349/349 [==============================] - 89s 256ms/step - loss: 3.8589 - accuracy: 0.9978 - val_loss: 5.1681 - val_accuracy: 0.8382\n",
            "Epoch 34/150\n",
            "349/349 [==============================] - ETA: 0s - loss: 3.8586 - accuracy: 0.9950\n",
            "Epoch 00034: val_loss did not improve from 5.06424\n",
            "349/349 [==============================] - 90s 258ms/step - loss: 3.8586 - accuracy: 0.9950 - val_loss: 5.0939 - val_accuracy: 0.8529\n",
            "Epoch 35/150\n",
            "349/349 [==============================] - ETA: 0s - loss: 3.8484 - accuracy: 0.9975\n",
            "Epoch 00035: val_loss did not improve from 5.06424\n",
            "349/349 [==============================] - 89s 256ms/step - loss: 3.8484 - accuracy: 0.9975 - val_loss: 5.1057 - val_accuracy: 0.8529\n",
            "Epoch 36/150\n",
            "349/349 [==============================] - ETA: 0s - loss: 3.8461 - accuracy: 0.9968\n",
            "Epoch 00036: val_loss improved from 5.06424 to 5.05761, saving model to /content/drive/My Drive/RawFoot_Image/RawFoot_Image_GreyScale_SGDResnet50.h5\n",
            "349/349 [==============================] - 94s 268ms/step - loss: 3.8461 - accuracy: 0.9968 - val_loss: 5.0576 - val_accuracy: 0.8750\n",
            "Epoch 37/150\n",
            "349/349 [==============================] - ETA: 0s - loss: 3.8352 - accuracy: 0.9978\n",
            "Epoch 00037: val_loss did not improve from 5.05761\n",
            "349/349 [==============================] - 90s 259ms/step - loss: 3.8352 - accuracy: 0.9978 - val_loss: 5.1258 - val_accuracy: 0.8750\n",
            "Epoch 38/150\n",
            "349/349 [==============================] - ETA: 0s - loss: 3.8319 - accuracy: 0.9971\n",
            "Epoch 00038: val_loss did not improve from 5.05761\n",
            "349/349 [==============================] - 90s 257ms/step - loss: 3.8319 - accuracy: 0.9971 - val_loss: 5.1278 - val_accuracy: 0.8456\n",
            "Epoch 39/150\n",
            "349/349 [==============================] - ETA: 0s - loss: 3.8271 - accuracy: 0.9971\n",
            "Epoch 00039: val_loss did not improve from 5.05761\n",
            "349/349 [==============================] - 89s 256ms/step - loss: 3.8271 - accuracy: 0.9971 - val_loss: 5.0876 - val_accuracy: 0.8603\n",
            "Epoch 40/150\n",
            "349/349 [==============================] - ETA: 0s - loss: 3.8233 - accuracy: 0.9968\n",
            "Epoch 00040: val_loss did not improve from 5.05761\n",
            "349/349 [==============================] - 89s 256ms/step - loss: 3.8233 - accuracy: 0.9968 - val_loss: 5.1837 - val_accuracy: 0.8456\n",
            "Epoch 41/150\n",
            "349/349 [==============================] - ETA: 0s - loss: 3.8172 - accuracy: 0.9964\n",
            "Epoch 00041: val_loss did not improve from 5.05761\n",
            "349/349 [==============================] - 90s 257ms/step - loss: 3.8172 - accuracy: 0.9964 - val_loss: 5.1899 - val_accuracy: 0.8382\n",
            "Epoch 42/150\n",
            "349/349 [==============================] - ETA: 0s - loss: 3.8127 - accuracy: 0.9964\n",
            "Epoch 00042: val_loss improved from 5.05761 to 5.01546, saving model to /content/drive/My Drive/RawFoot_Image/RawFoot_Image_GreyScale_SGDResnet50.h5\n",
            "349/349 [==============================] - 93s 268ms/step - loss: 3.8127 - accuracy: 0.9964 - val_loss: 5.0155 - val_accuracy: 0.8603\n",
            "Epoch 43/150\n",
            "349/349 [==============================] - ETA: 0s - loss: 3.8077 - accuracy: 0.9957\n",
            "Epoch 00043: val_loss improved from 5.01546 to 4.93062, saving model to /content/drive/My Drive/RawFoot_Image/RawFoot_Image_GreyScale_SGDResnet50.h5\n",
            "349/349 [==============================] - 94s 270ms/step - loss: 3.8077 - accuracy: 0.9957 - val_loss: 4.9306 - val_accuracy: 0.8824\n",
            "Epoch 44/150\n",
            "349/349 [==============================] - ETA: 0s - loss: 3.8016 - accuracy: 0.9964\n",
            "Epoch 00044: val_loss did not improve from 4.93062\n",
            "349/349 [==============================] - 90s 259ms/step - loss: 3.8016 - accuracy: 0.9964 - val_loss: 4.9691 - val_accuracy: 0.8750\n",
            "Epoch 45/150\n",
            "349/349 [==============================] - ETA: 0s - loss: 3.7914 - accuracy: 0.9989\n",
            "Epoch 00045: val_loss did not improve from 4.93062\n",
            "349/349 [==============================] - 89s 255ms/step - loss: 3.7914 - accuracy: 0.9989 - val_loss: 4.9592 - val_accuracy: 0.8676\n",
            "Epoch 46/150\n",
            "349/349 [==============================] - ETA: 0s - loss: 3.7845 - accuracy: 0.9996\n",
            "Epoch 00046: val_loss did not improve from 4.93062\n",
            "349/349 [==============================] - 89s 255ms/step - loss: 3.7845 - accuracy: 0.9996 - val_loss: 4.9795 - val_accuracy: 0.8603\n",
            "Epoch 47/150\n",
            "349/349 [==============================] - ETA: 0s - loss: 3.7823 - accuracy: 0.9968\n",
            "Epoch 00047: val_loss improved from 4.93062 to 4.89067, saving model to /content/drive/My Drive/RawFoot_Image/RawFoot_Image_GreyScale_SGDResnet50.h5\n",
            "349/349 [==============================] - 95s 272ms/step - loss: 3.7823 - accuracy: 0.9968 - val_loss: 4.8907 - val_accuracy: 0.8676\n",
            "Epoch 48/150\n",
            "349/349 [==============================] - ETA: 0s - loss: 3.7790 - accuracy: 0.9975\n",
            "Epoch 00048: val_loss did not improve from 4.89067\n",
            "349/349 [==============================] - 90s 259ms/step - loss: 3.7790 - accuracy: 0.9975 - val_loss: 5.0316 - val_accuracy: 0.8750\n",
            "Epoch 49/150\n",
            "349/349 [==============================] - ETA: 0s - loss: 3.7689 - accuracy: 0.9986\n",
            "Epoch 00049: val_loss did not improve from 4.89067\n",
            "349/349 [==============================] - 89s 255ms/step - loss: 3.7689 - accuracy: 0.9986 - val_loss: 4.9585 - val_accuracy: 0.8824\n",
            "Epoch 50/150\n",
            "349/349 [==============================] - ETA: 0s - loss: 3.7644 - accuracy: 0.9989\n",
            "Epoch 00050: val_loss did not improve from 4.89067\n",
            "349/349 [==============================] - 89s 255ms/step - loss: 3.7644 - accuracy: 0.9989 - val_loss: 4.9618 - val_accuracy: 0.8971\n",
            "Epoch 51/150\n",
            "349/349 [==============================] - ETA: 0s - loss: 3.7662 - accuracy: 0.9964\n",
            "Epoch 00051: val_loss did not improve from 4.89067\n",
            "349/349 [==============================] - 90s 257ms/step - loss: 3.7662 - accuracy: 0.9964 - val_loss: 5.0108 - val_accuracy: 0.8603\n",
            "Epoch 52/150\n",
            "349/349 [==============================] - ETA: 0s - loss: 3.7559 - accuracy: 0.9971\n",
            "Epoch 00052: val_loss improved from 4.89067 to 4.88133, saving model to /content/drive/My Drive/RawFoot_Image/RawFoot_Image_GreyScale_SGDResnet50.h5\n",
            "349/349 [==============================] - 94s 269ms/step - loss: 3.7559 - accuracy: 0.9971 - val_loss: 4.8813 - val_accuracy: 0.8676\n",
            "Epoch 53/150\n",
            "349/349 [==============================] - ETA: 0s - loss: 3.7503 - accuracy: 0.9982\n",
            "Epoch 00053: val_loss did not improve from 4.88133\n",
            "349/349 [==============================] - 91s 260ms/step - loss: 3.7503 - accuracy: 0.9982 - val_loss: 4.8852 - val_accuracy: 0.8676\n",
            "Epoch 54/150\n",
            "349/349 [==============================] - ETA: 0s - loss: 3.7443 - accuracy: 0.9982\n",
            "Epoch 00054: val_loss improved from 4.88133 to 4.87453, saving model to /content/drive/My Drive/RawFoot_Image/RawFoot_Image_GreyScale_SGDResnet50.h5\n",
            "349/349 [==============================] - 94s 269ms/step - loss: 3.7443 - accuracy: 0.9982 - val_loss: 4.8745 - val_accuracy: 0.8603\n",
            "Epoch 55/150\n",
            "349/349 [==============================] - ETA: 0s - loss: 3.7395 - accuracy: 0.9975\n",
            "Epoch 00055: val_loss improved from 4.87453 to 4.86063, saving model to /content/drive/My Drive/RawFoot_Image/RawFoot_Image_GreyScale_SGDResnet50.h5\n",
            "349/349 [==============================] - 95s 271ms/step - loss: 3.7395 - accuracy: 0.9975 - val_loss: 4.8606 - val_accuracy: 0.8676\n",
            "Epoch 56/150\n",
            "349/349 [==============================] - ETA: 0s - loss: 3.7339 - accuracy: 0.9975\n",
            "Epoch 00056: val_loss improved from 4.86063 to 4.82696, saving model to /content/drive/My Drive/RawFoot_Image/RawFoot_Image_GreyScale_SGDResnet50.h5\n",
            "349/349 [==============================] - 94s 269ms/step - loss: 3.7339 - accuracy: 0.9975 - val_loss: 4.8270 - val_accuracy: 0.8971\n",
            "Epoch 57/150\n",
            "349/349 [==============================] - ETA: 0s - loss: 3.7302 - accuracy: 0.9986\n",
            "Epoch 00057: val_loss did not improve from 4.82696\n",
            "349/349 [==============================] - 90s 258ms/step - loss: 3.7302 - accuracy: 0.9986 - val_loss: 4.8382 - val_accuracy: 0.8971\n",
            "Epoch 58/150\n",
            "349/349 [==============================] - ETA: 0s - loss: 3.7244 - accuracy: 0.9989\n",
            "Epoch 00058: val_loss improved from 4.82696 to 4.79921, saving model to /content/drive/My Drive/RawFoot_Image/RawFoot_Image_GreyScale_SGDResnet50.h5\n",
            "349/349 [==============================] - 94s 268ms/step - loss: 3.7244 - accuracy: 0.9989 - val_loss: 4.7992 - val_accuracy: 0.8824\n",
            "Epoch 59/150\n",
            "349/349 [==============================] - ETA: 0s - loss: 3.7191 - accuracy: 0.9978\n",
            "Epoch 00059: val_loss did not improve from 4.79921\n",
            "349/349 [==============================] - 90s 258ms/step - loss: 3.7191 - accuracy: 0.9978 - val_loss: 4.8381 - val_accuracy: 0.8824\n",
            "Epoch 60/150\n",
            "349/349 [==============================] - ETA: 0s - loss: 3.7106 - accuracy: 0.9993\n",
            "Epoch 00060: val_loss improved from 4.79921 to 4.77494, saving model to /content/drive/My Drive/RawFoot_Image/RawFoot_Image_GreyScale_SGDResnet50.h5\n",
            "349/349 [==============================] - 93s 266ms/step - loss: 3.7106 - accuracy: 0.9993 - val_loss: 4.7749 - val_accuracy: 0.8824\n",
            "Epoch 61/150\n",
            "349/349 [==============================] - ETA: 0s - loss: 3.7076 - accuracy: 0.9982\n",
            "Epoch 00061: val_loss did not improve from 4.77494\n",
            "349/349 [==============================] - 90s 259ms/step - loss: 3.7076 - accuracy: 0.9982 - val_loss: 4.7790 - val_accuracy: 0.8676\n",
            "Epoch 62/150\n",
            "349/349 [==============================] - ETA: 0s - loss: 3.7027 - accuracy: 0.9986\n",
            "Epoch 00062: val_loss improved from 4.77494 to 4.76683, saving model to /content/drive/My Drive/RawFoot_Image/RawFoot_Image_GreyScale_SGDResnet50.h5\n",
            "349/349 [==============================] - 92s 265ms/step - loss: 3.7027 - accuracy: 0.9986 - val_loss: 4.7668 - val_accuracy: 0.8750\n",
            "Epoch 63/150\n",
            "349/349 [==============================] - ETA: 0s - loss: 3.6967 - accuracy: 0.9993\n",
            "Epoch 00063: val_loss improved from 4.76683 to 4.75377, saving model to /content/drive/My Drive/RawFoot_Image/RawFoot_Image_GreyScale_SGDResnet50.h5\n",
            "349/349 [==============================] - 94s 270ms/step - loss: 3.6967 - accuracy: 0.9993 - val_loss: 4.7538 - val_accuracy: 0.8676\n",
            "Epoch 64/150\n",
            "349/349 [==============================] - ETA: 0s - loss: 3.6929 - accuracy: 0.9986\n",
            "Epoch 00064: val_loss improved from 4.75377 to 4.67246, saving model to /content/drive/My Drive/RawFoot_Image/RawFoot_Image_GreyScale_SGDResnet50.h5\n",
            "349/349 [==============================] - 94s 268ms/step - loss: 3.6929 - accuracy: 0.9986 - val_loss: 4.6725 - val_accuracy: 0.8971\n",
            "Epoch 65/150\n",
            "349/349 [==============================] - ETA: 0s - loss: 3.6866 - accuracy: 0.9989\n",
            "Epoch 00065: val_loss did not improve from 4.67246\n",
            "349/349 [==============================] - 90s 258ms/step - loss: 3.6866 - accuracy: 0.9989 - val_loss: 4.7966 - val_accuracy: 0.8676\n",
            "Epoch 66/150\n",
            "349/349 [==============================] - ETA: 0s - loss: 3.6786 - accuracy: 1.0000\n",
            "Epoch 00066: val_loss did not improve from 4.67246\n",
            "349/349 [==============================] - 89s 255ms/step - loss: 3.6786 - accuracy: 1.0000 - val_loss: 4.8280 - val_accuracy: 0.8824\n",
            "Epoch 67/150\n",
            "349/349 [==============================] - ETA: 0s - loss: 3.6772 - accuracy: 0.9975\n",
            "Epoch 00067: val_loss did not improve from 4.67246\n",
            "349/349 [==============================] - 89s 255ms/step - loss: 3.6772 - accuracy: 0.9975 - val_loss: 4.7968 - val_accuracy: 0.8824\n",
            "Epoch 68/150\n",
            "349/349 [==============================] - ETA: 0s - loss: 3.6765 - accuracy: 0.9971\n",
            "Epoch 00068: val_loss did not improve from 4.67246\n",
            "349/349 [==============================] - 89s 256ms/step - loss: 3.6765 - accuracy: 0.9971 - val_loss: 4.8895 - val_accuracy: 0.8529\n",
            "Epoch 69/150\n",
            "349/349 [==============================] - ETA: 0s - loss: 3.6690 - accuracy: 0.9978\n",
            "Epoch 00069: val_loss did not improve from 4.67246\n",
            "349/349 [==============================] - 89s 254ms/step - loss: 3.6690 - accuracy: 0.9978 - val_loss: 4.8039 - val_accuracy: 0.8750\n",
            "Epoch 70/150\n",
            "349/349 [==============================] - ETA: 0s - loss: 3.6617 - accuracy: 0.9986\n",
            "Epoch 00070: val_loss did not improve from 4.67246\n",
            "349/349 [==============================] - 89s 255ms/step - loss: 3.6617 - accuracy: 0.9986 - val_loss: 4.7796 - val_accuracy: 0.8750\n",
            "Epoch 71/150\n",
            "349/349 [==============================] - ETA: 0s - loss: 3.6541 - accuracy: 0.9993\n",
            "Epoch 00071: val_loss did not improve from 4.67246\n",
            "349/349 [==============================] - 89s 256ms/step - loss: 3.6541 - accuracy: 0.9993 - val_loss: 4.7407 - val_accuracy: 0.8824\n",
            "Epoch 72/150\n",
            "349/349 [==============================] - ETA: 0s - loss: 3.6527 - accuracy: 0.9975\n",
            "Epoch 00072: val_loss did not improve from 4.67246\n",
            "349/349 [==============================] - 89s 255ms/step - loss: 3.6527 - accuracy: 0.9975 - val_loss: 4.7603 - val_accuracy: 0.8603\n",
            "Epoch 73/150\n",
            "349/349 [==============================] - ETA: 0s - loss: 3.6457 - accuracy: 0.9978\n",
            "Epoch 00073: val_loss did not improve from 4.67246\n",
            "349/349 [==============================] - 89s 255ms/step - loss: 3.6457 - accuracy: 0.9978 - val_loss: 4.7786 - val_accuracy: 0.8750\n",
            "Epoch 74/150\n",
            "349/349 [==============================] - ETA: 0s - loss: 3.6387 - accuracy: 0.9996\n",
            "Epoch 00074: val_loss did not improve from 4.67246\n",
            "349/349 [==============================] - 89s 255ms/step - loss: 3.6387 - accuracy: 0.9996 - val_loss: 4.7209 - val_accuracy: 0.8676\n",
            "Epoch 75/150\n",
            "349/349 [==============================] - ETA: 0s - loss: 3.6359 - accuracy: 0.9986\n",
            "Epoch 00075: val_loss did not improve from 4.67246\n",
            "349/349 [==============================] - 90s 257ms/step - loss: 3.6359 - accuracy: 0.9986 - val_loss: 4.7883 - val_accuracy: 0.8603\n",
            "Epoch 76/150\n",
            "349/349 [==============================] - ETA: 0s - loss: 3.6316 - accuracy: 0.9986\n",
            "Epoch 00076: val_loss did not improve from 4.67246\n",
            "349/349 [==============================] - 89s 255ms/step - loss: 3.6316 - accuracy: 0.9986 - val_loss: 4.7820 - val_accuracy: 0.8676\n",
            "Epoch 77/150\n",
            "349/349 [==============================] - ETA: 0s - loss: 3.6334 - accuracy: 0.9978\n",
            "Epoch 00077: val_loss did not improve from 4.67246\n",
            "349/349 [==============================] - 89s 256ms/step - loss: 3.6334 - accuracy: 0.9978 - val_loss: 4.7416 - val_accuracy: 0.8750\n",
            "Epoch 78/150\n",
            "349/349 [==============================] - ETA: 0s - loss: 3.6196 - accuracy: 0.9993\n",
            "Epoch 00078: val_loss did not improve from 4.67246\n",
            "349/349 [==============================] - 89s 256ms/step - loss: 3.6196 - accuracy: 0.9993 - val_loss: 4.7165 - val_accuracy: 0.8676\n",
            "Epoch 79/150\n",
            "349/349 [==============================] - ETA: 0s - loss: 3.6178 - accuracy: 0.9982\n",
            "Epoch 00079: val_loss did not improve from 4.67246\n",
            "349/349 [==============================] - 89s 255ms/step - loss: 3.6178 - accuracy: 0.9982 - val_loss: 4.7212 - val_accuracy: 0.8824\n",
            "Epoch 80/150\n",
            "349/349 [==============================] - ETA: 0s - loss: 3.6092 - accuracy: 0.9993\n",
            "Epoch 00080: val_loss did not improve from 4.67246\n",
            "349/349 [==============================] - 89s 254ms/step - loss: 3.6092 - accuracy: 0.9993 - val_loss: 4.6843 - val_accuracy: 0.8676\n",
            "Epoch 81/150\n",
            "349/349 [==============================] - ETA: 0s - loss: 3.6051 - accuracy: 0.9989\n",
            "Epoch 00081: val_loss improved from 4.67246 to 4.63581, saving model to /content/drive/My Drive/RawFoot_Image/RawFoot_Image_GreyScale_SGDResnet50.h5\n",
            "349/349 [==============================] - 93s 266ms/step - loss: 3.6051 - accuracy: 0.9989 - val_loss: 4.6358 - val_accuracy: 0.8897\n",
            "Epoch 82/150\n",
            "349/349 [==============================] - ETA: 0s - loss: 3.6046 - accuracy: 0.9982\n",
            "Epoch 00082: val_loss improved from 4.63581 to 4.62880, saving model to /content/drive/My Drive/RawFoot_Image/RawFoot_Image_GreyScale_SGDResnet50.h5\n",
            "349/349 [==============================] - 95s 271ms/step - loss: 3.6046 - accuracy: 0.9982 - val_loss: 4.6288 - val_accuracy: 0.8529\n",
            "Epoch 83/150\n",
            "349/349 [==============================] - ETA: 0s - loss: 3.5969 - accuracy: 0.9989\n",
            "Epoch 00083: val_loss improved from 4.62880 to 4.60360, saving model to /content/drive/My Drive/RawFoot_Image/RawFoot_Image_GreyScale_SGDResnet50.h5\n",
            "349/349 [==============================] - 93s 268ms/step - loss: 3.5969 - accuracy: 0.9989 - val_loss: 4.6036 - val_accuracy: 0.8603\n",
            "Epoch 84/150\n",
            "349/349 [==============================] - ETA: 0s - loss: 3.5919 - accuracy: 0.9982\n",
            "Epoch 00084: val_loss did not improve from 4.60360\n",
            "349/349 [==============================] - 90s 257ms/step - loss: 3.5919 - accuracy: 0.9982 - val_loss: 4.6578 - val_accuracy: 0.8603\n",
            "Epoch 85/150\n",
            "349/349 [==============================] - ETA: 0s - loss: 3.5892 - accuracy: 0.9978\n",
            "Epoch 00085: val_loss did not improve from 4.60360\n",
            "349/349 [==============================] - 89s 256ms/step - loss: 3.5892 - accuracy: 0.9978 - val_loss: 4.6258 - val_accuracy: 0.8676\n",
            "Epoch 86/150\n",
            "349/349 [==============================] - ETA: 0s - loss: 3.5812 - accuracy: 0.9989\n",
            "Epoch 00086: val_loss did not improve from 4.60360\n",
            "349/349 [==============================] - 89s 254ms/step - loss: 3.5812 - accuracy: 0.9989 - val_loss: 4.6125 - val_accuracy: 0.8750\n",
            "Epoch 87/150\n",
            "349/349 [==============================] - ETA: 0s - loss: 3.5748 - accuracy: 0.9989\n",
            "Epoch 00087: val_loss did not improve from 4.60360\n",
            "349/349 [==============================] - 89s 255ms/step - loss: 3.5748 - accuracy: 0.9989 - val_loss: 4.6838 - val_accuracy: 0.8824\n",
            "Epoch 88/150\n",
            "349/349 [==============================] - ETA: 0s - loss: 3.5703 - accuracy: 0.9986\n",
            "Epoch 00088: val_loss did not improve from 4.60360\n",
            "349/349 [==============================] - 89s 255ms/step - loss: 3.5703 - accuracy: 0.9986 - val_loss: 4.7417 - val_accuracy: 0.8676\n",
            "Epoch 89/150\n",
            "349/349 [==============================] - ETA: 0s - loss: 3.5628 - accuracy: 0.9993\n",
            "Epoch 00089: val_loss did not improve from 4.60360\n",
            "349/349 [==============================] - 89s 256ms/step - loss: 3.5628 - accuracy: 0.9993 - val_loss: 4.6921 - val_accuracy: 0.8750\n",
            "Epoch 90/150\n",
            "349/349 [==============================] - ETA: 0s - loss: 3.5619 - accuracy: 0.9982\n",
            "Epoch 00090: val_loss did not improve from 4.60360\n",
            "349/349 [==============================] - 89s 255ms/step - loss: 3.5619 - accuracy: 0.9982 - val_loss: 4.7484 - val_accuracy: 0.8676\n",
            "Epoch 91/150\n",
            "349/349 [==============================] - ETA: 0s - loss: 3.5578 - accuracy: 0.9982\n",
            "Epoch 00091: val_loss did not improve from 4.60360\n",
            "349/349 [==============================] - 89s 256ms/step - loss: 3.5578 - accuracy: 0.9982 - val_loss: 4.7252 - val_accuracy: 0.8529\n",
            "Epoch 92/150\n",
            "349/349 [==============================] - ETA: 0s - loss: 3.5544 - accuracy: 0.9975\n",
            "Epoch 00092: val_loss did not improve from 4.60360\n",
            "349/349 [==============================] - 89s 256ms/step - loss: 3.5544 - accuracy: 0.9975 - val_loss: 4.8187 - val_accuracy: 0.8456\n",
            "Epoch 93/150\n",
            "349/349 [==============================] - ETA: 0s - loss: 3.5505 - accuracy: 0.9971\n",
            "Epoch 00093: val_loss did not improve from 4.60360\n",
            "349/349 [==============================] - 89s 255ms/step - loss: 3.5505 - accuracy: 0.9971 - val_loss: 4.6980 - val_accuracy: 0.8603\n",
            "Epoch 94/150\n",
            "349/349 [==============================] - ETA: 0s - loss: 3.5408 - accuracy: 0.9989\n",
            "Epoch 00094: val_loss did not improve from 4.60360\n",
            "349/349 [==============================] - 89s 255ms/step - loss: 3.5408 - accuracy: 0.9989 - val_loss: 4.7634 - val_accuracy: 0.8676\n",
            "Epoch 95/150\n",
            "349/349 [==============================] - ETA: 0s - loss: 3.5371 - accuracy: 0.9993\n",
            "Epoch 00095: val_loss did not improve from 4.60360\n",
            "349/349 [==============================] - 89s 255ms/step - loss: 3.5371 - accuracy: 0.9993 - val_loss: 4.8098 - val_accuracy: 0.8456\n",
            "Epoch 96/150\n",
            "349/349 [==============================] - ETA: 0s - loss: 3.5295 - accuracy: 0.9993\n",
            "Epoch 00096: val_loss did not improve from 4.60360\n",
            "349/349 [==============================] - 89s 256ms/step - loss: 3.5295 - accuracy: 0.9993 - val_loss: 4.7243 - val_accuracy: 0.8603\n",
            "Epoch 97/150\n",
            "349/349 [==============================] - ETA: 0s - loss: 3.5253 - accuracy: 0.9989\n",
            "Epoch 00097: val_loss did not improve from 4.60360\n",
            "349/349 [==============================] - 89s 255ms/step - loss: 3.5253 - accuracy: 0.9989 - val_loss: 4.7051 - val_accuracy: 0.8750\n",
            "Epoch 98/150\n",
            "349/349 [==============================] - ETA: 0s - loss: 3.5224 - accuracy: 0.9989\n",
            "Epoch 00098: val_loss did not improve from 4.60360\n",
            "349/349 [==============================] - 89s 255ms/step - loss: 3.5224 - accuracy: 0.9989 - val_loss: 4.6927 - val_accuracy: 0.8824\n",
            "Epoch 99/150\n",
            "349/349 [==============================] - ETA: 0s - loss: 3.5153 - accuracy: 0.9996\n",
            "Epoch 00099: val_loss did not improve from 4.60360\n",
            "349/349 [==============================] - 89s 256ms/step - loss: 3.5153 - accuracy: 0.9996 - val_loss: 4.7015 - val_accuracy: 0.8824\n",
            "Epoch 100/150\n",
            "349/349 [==============================] - ETA: 0s - loss: 3.5098 - accuracy: 0.9996\n",
            "Epoch 00100: val_loss did not improve from 4.60360\n",
            "349/349 [==============================] - 89s 254ms/step - loss: 3.5098 - accuracy: 0.9996 - val_loss: 4.6635 - val_accuracy: 0.8824\n",
            "Epoch 101/150\n",
            "349/349 [==============================] - ETA: 0s - loss: 3.5073 - accuracy: 0.9989\n",
            "Epoch 00101: val_loss did not improve from 4.60360\n",
            "349/349 [==============================] - 89s 255ms/step - loss: 3.5073 - accuracy: 0.9989 - val_loss: 4.6954 - val_accuracy: 0.8750\n",
            "Epoch 102/150\n",
            "349/349 [==============================] - ETA: 0s - loss: 3.5001 - accuracy: 0.9986\n",
            "Epoch 00102: val_loss did not improve from 4.60360\n",
            "349/349 [==============================] - 89s 254ms/step - loss: 3.5001 - accuracy: 0.9986 - val_loss: 4.6538 - val_accuracy: 0.8676\n",
            "Epoch 103/150\n",
            "349/349 [==============================] - ETA: 0s - loss: 3.4981 - accuracy: 0.9986\n",
            "Epoch 00103: val_loss did not improve from 4.60360\n",
            "349/349 [==============================] - 89s 255ms/step - loss: 3.4981 - accuracy: 0.9986 - val_loss: 4.6345 - val_accuracy: 0.8603\n",
            "Epoch 104/150\n",
            "349/349 [==============================] - ETA: 0s - loss: 3.4904 - accuracy: 0.9989\n",
            "Epoch 00104: val_loss did not improve from 4.60360\n",
            "349/349 [==============================] - 89s 254ms/step - loss: 3.4904 - accuracy: 0.9989 - val_loss: 4.6652 - val_accuracy: 0.8750\n",
            "Epoch 105/150\n",
            "349/349 [==============================] - ETA: 0s - loss: 3.4873 - accuracy: 0.9989\n",
            "Epoch 00105: val_loss did not improve from 4.60360\n",
            "349/349 [==============================] - 89s 254ms/step - loss: 3.4873 - accuracy: 0.9989 - val_loss: 4.6661 - val_accuracy: 0.8750\n",
            "Epoch 106/150\n",
            "349/349 [==============================] - ETA: 0s - loss: 3.4813 - accuracy: 0.9993\n",
            "Epoch 00106: val_loss did not improve from 4.60360\n",
            "349/349 [==============================] - 89s 255ms/step - loss: 3.4813 - accuracy: 0.9993 - val_loss: 4.6478 - val_accuracy: 0.8824\n",
            "Epoch 107/150\n",
            "349/349 [==============================] - ETA: 0s - loss: 3.4755 - accuracy: 0.9993\n",
            "Epoch 00107: val_loss improved from 4.60360 to 4.57513, saving model to /content/drive/My Drive/RawFoot_Image/RawFoot_Image_GreyScale_SGDResnet50.h5\n",
            "349/349 [==============================] - 92s 265ms/step - loss: 3.4755 - accuracy: 0.9993 - val_loss: 4.5751 - val_accuracy: 0.8824\n",
            "Epoch 108/150\n",
            "349/349 [==============================] - ETA: 0s - loss: 3.4703 - accuracy: 0.9996\n",
            "Epoch 00108: val_loss did not improve from 4.57513\n",
            "349/349 [==============================] - 90s 257ms/step - loss: 3.4703 - accuracy: 0.9996 - val_loss: 4.6402 - val_accuracy: 0.8824\n",
            "Epoch 109/150\n",
            "349/349 [==============================] - ETA: 0s - loss: 3.4659 - accuracy: 0.9996\n",
            "Epoch 00109: val_loss improved from 4.57513 to 4.54235, saving model to /content/drive/My Drive/RawFoot_Image/RawFoot_Image_GreyScale_SGDResnet50.h5\n",
            "349/349 [==============================] - 94s 268ms/step - loss: 3.4659 - accuracy: 0.9996 - val_loss: 4.5423 - val_accuracy: 0.8897\n",
            "Epoch 110/150\n",
            "349/349 [==============================] - ETA: 0s - loss: 3.4615 - accuracy: 0.9986\n",
            "Epoch 00110: val_loss improved from 4.54235 to 4.50278, saving model to /content/drive/My Drive/RawFoot_Image/RawFoot_Image_GreyScale_SGDResnet50.h5\n",
            "349/349 [==============================] - 95s 272ms/step - loss: 3.4615 - accuracy: 0.9986 - val_loss: 4.5028 - val_accuracy: 0.8750\n",
            "Epoch 111/150\n",
            "349/349 [==============================] - ETA: 0s - loss: 3.4567 - accuracy: 0.9996\n",
            "Epoch 00111: val_loss did not improve from 4.50278\n",
            "349/349 [==============================] - 90s 257ms/step - loss: 3.4567 - accuracy: 0.9996 - val_loss: 4.5340 - val_accuracy: 0.8897\n",
            "Epoch 112/150\n",
            "349/349 [==============================] - ETA: 0s - loss: 3.4508 - accuracy: 1.0000\n",
            "Epoch 00112: val_loss did not improve from 4.50278\n",
            "349/349 [==============================] - 88s 253ms/step - loss: 3.4508 - accuracy: 1.0000 - val_loss: 4.5034 - val_accuracy: 0.8971\n",
            "Epoch 113/150\n",
            "349/349 [==============================] - ETA: 0s - loss: 3.4472 - accuracy: 0.9993\n",
            "Epoch 00113: val_loss did not improve from 4.50278\n",
            "349/349 [==============================] - 89s 255ms/step - loss: 3.4472 - accuracy: 0.9993 - val_loss: 4.5337 - val_accuracy: 0.8897\n",
            "Epoch 114/150\n",
            "349/349 [==============================] - ETA: 0s - loss: 3.4417 - accuracy: 0.9993\n",
            "Epoch 00114: val_loss improved from 4.50278 to 4.45679, saving model to /content/drive/My Drive/RawFoot_Image/RawFoot_Image_GreyScale_SGDResnet50.h5\n",
            "349/349 [==============================] - 93s 266ms/step - loss: 3.4417 - accuracy: 0.9993 - val_loss: 4.4568 - val_accuracy: 0.8897\n",
            "Epoch 115/150\n",
            "349/349 [==============================] - ETA: 0s - loss: 3.4373 - accuracy: 0.9996\n",
            "Epoch 00115: val_loss did not improve from 4.45679\n",
            "349/349 [==============================] - 90s 257ms/step - loss: 3.4373 - accuracy: 0.9996 - val_loss: 4.5165 - val_accuracy: 0.8824\n",
            "Epoch 116/150\n",
            "349/349 [==============================] - ETA: 0s - loss: 3.4319 - accuracy: 0.9996\n",
            "Epoch 00116: val_loss did not improve from 4.45679\n",
            "349/349 [==============================] - 89s 256ms/step - loss: 3.4319 - accuracy: 0.9996 - val_loss: 4.5437 - val_accuracy: 0.8897\n",
            "Epoch 117/150\n",
            "349/349 [==============================] - ETA: 0s - loss: 3.4280 - accuracy: 0.9993\n",
            "Epoch 00117: val_loss did not improve from 4.45679\n",
            "349/349 [==============================] - 89s 255ms/step - loss: 3.4280 - accuracy: 0.9993 - val_loss: 4.5771 - val_accuracy: 0.8750\n",
            "Epoch 118/150\n",
            "349/349 [==============================] - ETA: 0s - loss: 3.4237 - accuracy: 0.9993\n",
            "Epoch 00118: val_loss did not improve from 4.45679\n",
            "349/349 [==============================] - 89s 255ms/step - loss: 3.4237 - accuracy: 0.9993 - val_loss: 4.5812 - val_accuracy: 0.8971\n",
            "Epoch 119/150\n",
            "349/349 [==============================] - ETA: 0s - loss: 3.4192 - accuracy: 0.9993\n",
            "Epoch 00119: val_loss did not improve from 4.45679\n",
            "349/349 [==============================] - 89s 255ms/step - loss: 3.4192 - accuracy: 0.9993 - val_loss: 4.6681 - val_accuracy: 0.8824\n",
            "Epoch 120/150\n",
            "349/349 [==============================] - ETA: 0s - loss: 3.4132 - accuracy: 0.9996\n",
            "Epoch 00120: val_loss did not improve from 4.45679\n",
            "349/349 [==============================] - 89s 256ms/step - loss: 3.4132 - accuracy: 0.9996 - val_loss: 4.6168 - val_accuracy: 0.8750\n",
            "Epoch 121/150\n",
            "349/349 [==============================] - ETA: 0s - loss: 3.4093 - accuracy: 0.9993\n",
            "Epoch 00121: val_loss did not improve from 4.45679\n",
            "349/349 [==============================] - 89s 255ms/step - loss: 3.4093 - accuracy: 0.9993 - val_loss: 4.7403 - val_accuracy: 0.8603\n",
            "Epoch 122/150\n",
            "349/349 [==============================] - ETA: 0s - loss: 3.4037 - accuracy: 0.9996\n",
            "Epoch 00122: val_loss did not improve from 4.45679\n",
            "349/349 [==============================] - 89s 255ms/step - loss: 3.4037 - accuracy: 0.9996 - val_loss: 4.6620 - val_accuracy: 0.8824\n",
            "Epoch 123/150\n",
            "349/349 [==============================] - ETA: 0s - loss: 3.3996 - accuracy: 0.9989\n",
            "Epoch 00123: val_loss did not improve from 4.45679\n",
            "349/349 [==============================] - 90s 257ms/step - loss: 3.3996 - accuracy: 0.9989 - val_loss: 4.5359 - val_accuracy: 0.8897\n",
            "Epoch 124/150\n",
            "349/349 [==============================] - ETA: 0s - loss: 3.3948 - accuracy: 0.9996\n",
            "Epoch 00124: val_loss did not improve from 4.45679\n",
            "349/349 [==============================] - 89s 255ms/step - loss: 3.3948 - accuracy: 0.9996 - val_loss: 4.5598 - val_accuracy: 0.8824\n",
            "Epoch 125/150\n",
            "349/349 [==============================] - ETA: 0s - loss: 3.3907 - accuracy: 0.9996\n",
            "Epoch 00125: val_loss did not improve from 4.45679\n",
            "349/349 [==============================] - 89s 256ms/step - loss: 3.3907 - accuracy: 0.9996 - val_loss: 4.5730 - val_accuracy: 0.8897\n",
            "Epoch 126/150\n",
            "349/349 [==============================] - ETA: 0s - loss: 3.3845 - accuracy: 0.9996\n",
            "Epoch 00126: val_loss did not improve from 4.45679\n",
            "349/349 [==============================] - 89s 255ms/step - loss: 3.3845 - accuracy: 0.9996 - val_loss: 4.5416 - val_accuracy: 0.8897\n",
            "Epoch 127/150\n",
            "349/349 [==============================] - ETA: 0s - loss: 3.3803 - accuracy: 0.9993\n",
            "Epoch 00127: val_loss did not improve from 4.45679\n",
            "349/349 [==============================] - 89s 256ms/step - loss: 3.3803 - accuracy: 0.9993 - val_loss: 4.5471 - val_accuracy: 0.8971\n",
            "Epoch 128/150\n",
            "349/349 [==============================] - ETA: 0s - loss: 3.3803 - accuracy: 0.9986\n",
            "Epoch 00128: val_loss did not improve from 4.45679\n",
            "349/349 [==============================] - 89s 255ms/step - loss: 3.3803 - accuracy: 0.9986 - val_loss: 4.5571 - val_accuracy: 0.8676\n",
            "Epoch 129/150\n",
            "349/349 [==============================] - ETA: 0s - loss: 3.3718 - accuracy: 0.9989\n",
            "Epoch 00129: val_loss did not improve from 4.45679\n",
            "349/349 [==============================] - 89s 255ms/step - loss: 3.3718 - accuracy: 0.9989 - val_loss: 4.5183 - val_accuracy: 0.8603\n",
            "Epoch 130/150\n",
            "349/349 [==============================] - ETA: 0s - loss: 3.3652 - accuracy: 0.9996\n",
            "Epoch 00130: val_loss did not improve from 4.45679\n",
            "349/349 [==============================] - 89s 255ms/step - loss: 3.3652 - accuracy: 0.9996 - val_loss: 4.5704 - val_accuracy: 0.8750\n",
            "Epoch 131/150\n",
            "349/349 [==============================] - ETA: 0s - loss: 3.3611 - accuracy: 0.9996\n",
            "Epoch 00131: val_loss did not improve from 4.45679\n",
            "349/349 [==============================] - 89s 255ms/step - loss: 3.3611 - accuracy: 0.9996 - val_loss: 4.4982 - val_accuracy: 0.8750\n",
            "Epoch 132/150\n",
            "349/349 [==============================] - ETA: 0s - loss: 3.3564 - accuracy: 0.9996\n",
            "Epoch 00132: val_loss did not improve from 4.45679\n",
            "349/349 [==============================] - 89s 255ms/step - loss: 3.3564 - accuracy: 0.9996 - val_loss: 4.4904 - val_accuracy: 0.8897\n",
            "Epoch 133/150\n",
            "349/349 [==============================] - ETA: 0s - loss: 3.3561 - accuracy: 0.9989\n",
            "Epoch 00133: val_loss did not improve from 4.45679\n",
            "349/349 [==============================] - 89s 255ms/step - loss: 3.3561 - accuracy: 0.9989 - val_loss: 4.4610 - val_accuracy: 0.8750\n",
            "Epoch 134/150\n",
            "349/349 [==============================] - ETA: 0s - loss: 3.3504 - accuracy: 0.9986\n",
            "Epoch 00134: val_loss improved from 4.45679 to 4.43078, saving model to /content/drive/My Drive/RawFoot_Image/RawFoot_Image_GreyScale_SGDResnet50.h5\n",
            "349/349 [==============================] - 93s 267ms/step - loss: 3.3504 - accuracy: 0.9986 - val_loss: 4.4308 - val_accuracy: 0.8897\n",
            "Epoch 135/150\n",
            "349/349 [==============================] - ETA: 0s - loss: 3.3422 - accuracy: 1.0000\n",
            "Epoch 00135: val_loss did not improve from 4.43078\n",
            "349/349 [==============================] - 90s 258ms/step - loss: 3.3422 - accuracy: 1.0000 - val_loss: 4.4968 - val_accuracy: 0.8897\n",
            "Epoch 136/150\n",
            "349/349 [==============================] - ETA: 0s - loss: 3.3384 - accuracy: 0.9996\n",
            "Epoch 00136: val_loss did not improve from 4.43078\n",
            "349/349 [==============================] - 89s 255ms/step - loss: 3.3384 - accuracy: 0.9996 - val_loss: 4.4362 - val_accuracy: 0.8971\n",
            "Epoch 137/150\n",
            "349/349 [==============================] - ETA: 0s - loss: 3.3333 - accuracy: 0.9993\n",
            "Epoch 00137: val_loss did not improve from 4.43078\n",
            "349/349 [==============================] - 90s 257ms/step - loss: 3.3333 - accuracy: 0.9993 - val_loss: 4.4791 - val_accuracy: 0.8750\n",
            "Epoch 138/150\n",
            "349/349 [==============================] - ETA: 0s - loss: 3.3305 - accuracy: 0.9986\n",
            "Epoch 00138: val_loss improved from 4.43078 to 4.40527, saving model to /content/drive/My Drive/RawFoot_Image/RawFoot_Image_GreyScale_SGDResnet50.h5\n",
            "349/349 [==============================] - 93s 267ms/step - loss: 3.3305 - accuracy: 0.9986 - val_loss: 4.4053 - val_accuracy: 0.8824\n",
            "Epoch 139/150\n",
            "349/349 [==============================] - ETA: 0s - loss: 3.3246 - accuracy: 0.9993\n",
            "Epoch 00139: val_loss improved from 4.40527 to 4.35596, saving model to /content/drive/My Drive/RawFoot_Image/RawFoot_Image_GreyScale_SGDResnet50.h5\n",
            "349/349 [==============================] - 94s 269ms/step - loss: 3.3246 - accuracy: 0.9993 - val_loss: 4.3560 - val_accuracy: 0.8750\n",
            "Epoch 140/150\n",
            "349/349 [==============================] - ETA: 0s - loss: 3.3199 - accuracy: 0.9996\n",
            "Epoch 00140: val_loss did not improve from 4.35596\n",
            "349/349 [==============================] - 90s 259ms/step - loss: 3.3199 - accuracy: 0.9996 - val_loss: 4.4571 - val_accuracy: 0.8676\n",
            "Epoch 141/150\n",
            "349/349 [==============================] - ETA: 0s - loss: 3.3145 - accuracy: 0.9996\n",
            "Epoch 00141: val_loss did not improve from 4.35596\n",
            "349/349 [==============================] - 89s 255ms/step - loss: 3.3145 - accuracy: 0.9996 - val_loss: 4.4408 - val_accuracy: 0.8750\n",
            "Epoch 142/150\n",
            "349/349 [==============================] - ETA: 0s - loss: 3.3108 - accuracy: 0.9993\n",
            "Epoch 00142: val_loss did not improve from 4.35596\n",
            "349/349 [==============================] - 89s 255ms/step - loss: 3.3108 - accuracy: 0.9993 - val_loss: 4.4501 - val_accuracy: 0.8824\n",
            "Epoch 143/150\n",
            "349/349 [==============================] - ETA: 0s - loss: 3.3052 - accuracy: 1.0000\n",
            "Epoch 00143: val_loss did not improve from 4.35596\n",
            "349/349 [==============================] - 89s 254ms/step - loss: 3.3052 - accuracy: 1.0000 - val_loss: 4.4490 - val_accuracy: 0.8456\n",
            "Epoch 144/150\n",
            "349/349 [==============================] - ETA: 0s - loss: 3.3016 - accuracy: 0.9993\n",
            "Epoch 00144: val_loss did not improve from 4.35596\n",
            "349/349 [==============================] - 89s 255ms/step - loss: 3.3016 - accuracy: 0.9993 - val_loss: 4.4202 - val_accuracy: 0.8456\n",
            "Epoch 145/150\n",
            "349/349 [==============================] - ETA: 0s - loss: 3.2961 - accuracy: 0.9996\n",
            "Epoch 00145: val_loss did not improve from 4.35596\n",
            "349/349 [==============================] - 89s 254ms/step - loss: 3.2961 - accuracy: 0.9996 - val_loss: 4.4331 - val_accuracy: 0.8382\n",
            "Epoch 146/150\n",
            "349/349 [==============================] - ETA: 0s - loss: 3.2920 - accuracy: 1.0000\n",
            "Epoch 00146: val_loss did not improve from 4.35596\n",
            "349/349 [==============================] - 89s 254ms/step - loss: 3.2920 - accuracy: 1.0000 - val_loss: 4.4536 - val_accuracy: 0.8529\n",
            "Epoch 147/150\n",
            "349/349 [==============================] - ETA: 0s - loss: 3.2882 - accuracy: 0.9989\n",
            "Epoch 00147: val_loss did not improve from 4.35596\n",
            "349/349 [==============================] - 89s 256ms/step - loss: 3.2882 - accuracy: 0.9989 - val_loss: 4.5115 - val_accuracy: 0.8529\n",
            "Epoch 148/150\n",
            "349/349 [==============================] - ETA: 0s - loss: 3.2828 - accuracy: 0.9996\n",
            "Epoch 00148: val_loss did not improve from 4.35596\n",
            "349/349 [==============================] - 89s 254ms/step - loss: 3.2828 - accuracy: 0.9996 - val_loss: 4.3994 - val_accuracy: 0.8603\n",
            "Epoch 149/150\n",
            "349/349 [==============================] - ETA: 0s - loss: 3.2791 - accuracy: 0.9993\n",
            "Epoch 00149: val_loss did not improve from 4.35596\n",
            "349/349 [==============================] - 89s 254ms/step - loss: 3.2791 - accuracy: 0.9993 - val_loss: 4.3597 - val_accuracy: 0.8676\n",
            "Epoch 150/150\n",
            "349/349 [==============================] - ETA: 0s - loss: 3.2742 - accuracy: 0.9993\n",
            "Epoch 00150: val_loss did not improve from 4.35596\n",
            "349/349 [==============================] - 89s 255ms/step - loss: 3.2742 - accuracy: 0.9993 - val_loss: 4.4522 - val_accuracy: 0.8676\n"
          ],
          "name": "stdout"
        }
      ]
    },
    {
      "cell_type": "code",
      "metadata": {
        "id": "7rddNBrFJWH5",
        "colab_type": "code",
        "colab": {
          "base_uri": "https://localhost:8080/",
          "height": 295
        },
        "outputId": "2d8a8efd-c615-4ffe-901c-89e310f75ed0"
      },
      "source": [
        "import matplotlib.pyplot as plt\n",
        "plt.plot(hist.history[\"accuracy\"])\n",
        "plt.plot(hist.history['val_accuracy'])\n",
        "plt.title(\"model accuracy\")\n",
        "plt.ylabel(\"Accuracy\")\n",
        "plt.xlabel(\"Epoch\")\n",
        "plt.legend([\"Accuracy\",\"Validation Accuracy\"])\n",
        "plt.show()"
      ],
      "execution_count": null,
      "outputs": [
        {
          "output_type": "display_data",
          "data": {
            "image/png": "[encoded data removed]",
            "text/plain": [
              "<Figure size 432x288 with 1 Axes>"
            ]
          },
          "metadata": {
            "tags": [],
            "needs_background": "light"
          }
        }
      ]
    },
    {
      "cell_type": "code",
      "metadata": {
        "id": "Tk4bvR-UJbm1",
        "colab_type": "code",
        "colab": {
          "base_uri": "https://localhost:8080/",
          "height": 295
        },
        "outputId": "1dafab04-9e38-43ea-e2ce-8156aa8232de"
      },
      "source": [
        "plt.plot(hist.history['loss'])\n",
        "plt.plot(hist.history['val_loss'])\n",
        "plt.title(\"model Loss\")\n",
        "plt.ylabel(\"Loss\")\n",
        "plt.xlabel(\"Epoch\")\n",
        "plt.legend([\"Loss\",\"Validation Loss\"])\n",
        "plt.show()"
      ],
      "execution_count": null,
      "outputs": [
        {
          "output_type": "display_data",
          "data": {
            "image/png": "[encoded data removed]",
            "text/plain": [
              "<Figure size 432x288 with 1 Axes>"
            ]
          },
          "metadata": {
            "tags": [],
            "needs_background": "light"
          }
        }
      ]
    },
    {
      "cell_type": "code",
      "metadata": {
        "id": "YnKgsbT2Jn1K",
        "colab_type": "code",
        "colab": {
          "base_uri": "https://localhost:8080/",
          "height": 34
        },
        "outputId": "2c6649ef-cd0d-4747-b629-21c22aaf343a"
      },
      "source": [
        "GreyTestData = TestGenerator.flow_from_directory('/content/drive/My Drive/RawFoot_Image/Test/', target_size=(224,224), batch_size = 8, shuffle = False, color_mode='grayscale')"
      ],
      "execution_count": null,
      "outputs": [
        {
          "output_type": "stream",
          "text": [
            "Found 204 images belonging to 68 classes.\n"
          ],
          "name": "stdout"
        }
      ]
    },
    {
      "cell_type": "code",
      "metadata": {
        "id": "I8Gg_F49Jw28",
        "colab_type": "code",
        "colab": {}
      },
      "source": [
        "Grey_predict = model.predict(GreyTestData)"
      ],
      "execution_count": null,
      "outputs": []
    },
    {
      "cell_type": "code",
      "metadata": {
        "id": "O37PVgcGJ4YO",
        "colab_type": "code",
        "colab": {}
      },
      "source": [
        "Grey_predict_classes = np.argmax(Grey_predict, axis=1)"
      ],
      "execution_count": null,
      "outputs": []
    },
    {
      "cell_type": "code",
      "metadata": {
        "id": "ssASZqHcKCdz",
        "colab_type": "code",
        "colab": {
          "base_uri": "https://localhost:8080/",
          "height": 221
        },
        "outputId": "f26b5ef0-b110-457f-d888-49412b8cd54b"
      },
      "source": [
        "Grey_predict_classes"
      ],
      "execution_count": null,
      "outputs": [
        {
          "output_type": "execute_result",
          "data": {
            "text/plain": [
              "array([ 0,  0,  0,  1,  1,  1,  2, 52, 52,  3,  3,  3,  4,  4,  4,  5,  5,\n",
              "        5,  6,  6,  6,  7,  7,  7,  8,  8,  8,  9,  9,  9, 10, 10, 10, 52,\n",
              "       52, 52, 52, 65, 65, 13, 13, 13, 14, 14, 14, 15, 15, 15, 16, 16, 16,\n",
              "       17, 17, 17, 18, 18, 18, 19, 19, 19, 20, 20, 20, 21, 21, 21, 22, 22,\n",
              "       22, 23, 23, 23, 24, 24, 60, 51, 25, 51, 26, 26, 26, 27, 27, 27, 28,\n",
              "       28, 60, 29, 29, 29, 30, 30, 30, 31, 31, 31, 32, 32, 32, 33, 33, 33,\n",
              "       34, 34, 34, 52, 65, 65, 36, 52, 36, 37, 52, 37, 38, 38, 38, 39, 16,\n",
              "       39, 40, 40, 40, 20, 52, 41, 42, 42, 42, 43, 43, 43, 44, 44, 44, 45,\n",
              "       45, 45, 46, 46, 46, 51, 51, 52, 48, 48, 48, 49, 49, 49, 50, 50, 50,\n",
              "       51, 65, 51, 51, 51, 52, 53, 53, 53, 54, 54, 54, 55, 55, 55, 56, 56,\n",
              "       56, 57, 57, 57, 58, 58, 58, 59, 59, 15, 65, 52, 52, 61, 61, 61, 62,\n",
              "       65, 62, 51, 51, 51, 64, 64, 64, 52, 65, 51, 66, 66, 66, 67, 67, 67])"
            ]
          },
          "metadata": {
            "tags": []
          },
          "execution_count": 29
        }
      ]
    },
    {
      "cell_type": "code",
      "metadata": {
        "id": "HvCrugUfKG0L",
        "colab_type": "code",
        "colab": {}
      },
      "source": [
        "from sklearn.metrics import accuracy_score\n",
        "from sklearn.metrics import precision_score\n",
        "from sklearn.metrics import recall_score\n",
        "from sklearn.metrics import f1_score\n",
        "from sklearn.metrics import cohen_kappa_score\n",
        "from sklearn.metrics import roc_auc_score"
      ],
      "execution_count": null,
      "outputs": []
    },
    {
      "cell_type": "code",
      "metadata": {
        "id": "eOWWlroCKJXK",
        "colab_type": "code",
        "colab": {
          "base_uri": "https://localhost:8080/",
          "height": 34
        },
        "outputId": "06be06ed-91eb-4af6-97ea-6ead0429b28b"
      },
      "source": [
        "Grey_accuracy = accuracy_score(GreyTestData.classes, Grey_predict_classes)\n",
        "print(\"Grey Accuracy: \", Grey_accuracy)"
      ],
      "execution_count": null,
      "outputs": [
        {
          "output_type": "stream",
          "text": [
            "Grey Accuracy:  0.8235294117647058\n"
          ],
          "name": "stdout"
        }
      ]
    },
    {
      "cell_type": "code",
      "metadata": {
        "id": "qT8GZ8SWKQsZ",
        "colab_type": "code",
        "colab": {
          "base_uri": "https://localhost:8080/",
          "height": 88
        },
        "outputId": "4698e775-b736-4491-bf76-ed56595ac6b3"
      },
      "source": [
        "Grey_precision = precision_score(GreyTestData.classes, Grey_predict_classes,average=\"weighted\")\n",
        "print(\"Grey Precision: \", Grey_precision)"
      ],
      "execution_count": null,
      "outputs": [
        {
          "output_type": "stream",
          "text": [
            "Grey Precision:  0.8618872549019607\n"
          ],
          "name": "stdout"
        },
        {
          "output_type": "stream",
          "text": [
            "/usr/local/lib/python3.6/dist-packages/sklearn/metrics/_classification.py:1272: UndefinedMetricWarning: Precision is ill-defined and being set to 0.0 in labels with no predicted samples. Use `zero_division` parameter to control this behavior.\n",
            "  _warn_prf(average, modifier, msg_start, len(result))\n"
          ],
          "name": "stderr"
        }
      ]
    },
    {
      "cell_type": "code",
      "metadata": {
        "id": "4vaMESfPKXYT",
        "colab_type": "code",
        "colab": {
          "base_uri": "https://localhost:8080/",
          "height": 34
        },
        "outputId": "2eb0bb4d-0fef-4df9-8524-6c450a9e4fd7"
      },
      "source": [
        "Grey_recall = recall_score(GreyTestData.classes, Grey_predict_classes, average=\"weighted\")\n",
        "print(\"Grey Recall:\", Grey_recall)"
      ],
      "execution_count": null,
      "outputs": [
        {
          "output_type": "stream",
          "text": [
            "Grey Recall: 0.8235294117647058\n"
          ],
          "name": "stdout"
        }
      ]
    },
    {
      "cell_type": "code",
      "metadata": {
        "id": "ArX8LkQ3KbDn",
        "colab_type": "code",
        "colab": {
          "base_uri": "https://localhost:8080/",
          "height": 34
        },
        "outputId": "68e0440a-a297-4e27-ff17-9b4ea4057530"
      },
      "source": [
        "Grey_f1_score = f1_score(GreyTestData.classes, Grey_predict_classes, average=\"weighted\")\n",
        "print(\"F1 score for Grey: \", Grey_f1_score)"
      ],
      "execution_count": null,
      "outputs": [
        {
          "output_type": "stream",
          "text": [
            "F1 score for Grey:  0.826926831338596\n"
          ],
          "name": "stdout"
        }
      ]
    },
    {
      "cell_type": "markdown",
      "metadata": {
        "id": "JE2Pmwq4KvbW",
        "colab_type": "text"
      },
      "source": [
        "**Processing for colour Data.**"
      ]
    },
    {
      "cell_type": "code",
      "metadata": {
        "id": "eI7an7B8K1Iy",
        "colab_type": "code",
        "colab": {
          "base_uri": "https://localhost:8080/",
          "height": 34
        },
        "outputId": "d8e6d5c1-0113-4e2e-dde1-07d034e686ec"
      },
      "source": [
        "Colour_TrainingData =  DataGenerator.flow_from_directory('/content/drive/My Drive/RawFoot_Image/Train/', target_size=(224,224), batch_size=8)"
      ],
      "execution_count": null,
      "outputs": [
        {
          "output_type": "stream",
          "text": [
            "Found 2788 images belonging to 68 classes.\n"
          ],
          "name": "stdout"
        }
      ]
    },
    {
      "cell_type": "code",
      "metadata": {
        "id": "XZrczUjKLUa7",
        "colab_type": "code",
        "colab": {
          "base_uri": "https://localhost:8080/",
          "height": 34
        },
        "outputId": "519b4a21-e4c7-443f-a5c1-32b9d4181af5"
      },
      "source": [
        "Colour_ValidData =  TestGenerator.flow_from_directory('/content/drive/My Drive/RawFoot_Image/Valid/', target_size=(224,224), batch_size=8)"
      ],
      "execution_count": null,
      "outputs": [
        {
          "output_type": "stream",
          "text": [
            "Found 136 images belonging to 68 classes.\n"
          ],
          "name": "stdout"
        }
      ]
    },
    {
      "cell_type": "code",
      "metadata": {
        "id": "uOOU7KB1LhAX",
        "colab_type": "code",
        "colab": {}
      },
      "source": [
        "conv_base_colour = ResNet50(weights = 'imagenet', include_top = False, input_shape=(224,224,3))"
      ],
      "execution_count": null,
      "outputs": []
    },
    {
      "cell_type": "code",
      "metadata": {
        "id": "SvVV5qnxLpMI",
        "colab_type": "code",
        "colab": {
          "base_uri": "https://localhost:8080/",
          "height": 34
        },
        "outputId": "d676d048-08ad-4783-e798-628878fcc4b2"
      },
      "source": [
        "for layer in conv_base_colour.layers[:299]:\n",
        "  layer.trainable = False\n",
        "for layer in conv_base_colour.layers[299:]:\n",
        "  layer.trainable = True\n",
        "for layer in conv_base_colour.layers:\n",
        "  if isinstance(layer, BatchNormalization):\n",
        "    layer.trainable = True\n",
        "\n",
        "print(\"Done\")"
      ],
      "execution_count": null,
      "outputs": [
        {
          "output_type": "stream",
          "text": [
            "Done\n"
          ],
          "name": "stdout"
        }
      ]
    },
    {
      "cell_type": "code",
      "metadata": {
        "id": "u4DVU5NALssh",
        "colab_type": "code",
        "colab": {
          "base_uri": "https://localhost:8080/",
          "height": 1000
        },
        "outputId": "6d98dc3b-ba6b-403b-8c58-b37ff358b1ea"
      },
      "source": [
        "for i, layer in enumerate(conv_base_colour.layers):\n",
        "   print(i, layer.name, layer.trainable)"
      ],
      "execution_count": null,
      "outputs": [
        {
          "output_type": "stream",
          "text": [
            "0 input_3 False\n",
            "1 conv1_pad False\n",
            "2 conv1_conv False\n",
            "3 conv1_bn True\n",
            "4 conv1_relu False\n",
            "5 pool1_pad False\n",
            "6 pool1_pool False\n",
            "7 conv2_block1_1_conv False\n",
            "8 conv2_block1_1_bn True\n",
            "9 conv2_block1_1_relu False\n",
            "10 conv2_block1_2_conv False\n",
            "11 conv2_block1_2_bn True\n",
            "12 conv2_block1_2_relu False\n",
            "13 conv2_block1_0_conv False\n",
            "14 conv2_block1_3_conv False\n",
            "15 conv2_block1_0_bn True\n",
            "16 conv2_block1_3_bn True\n",
            "17 conv2_block1_add False\n",
            "18 conv2_block1_out False\n",
            "19 conv2_block2_1_conv False\n",
            "20 conv2_block2_1_bn True\n",
            "21 conv2_block2_1_relu False\n",
            "22 conv2_block2_2_conv False\n",
            "23 conv2_block2_2_bn True\n",
            "24 conv2_block2_2_relu False\n",
            "25 conv2_block2_3_conv False\n",
            "26 conv2_block2_3_bn True\n",
            "27 conv2_block2_add False\n",
            "28 conv2_block2_out False\n",
            "29 conv2_block3_1_conv False\n",
            "30 conv2_block3_1_bn True\n",
            "31 conv2_block3_1_relu False\n",
            "32 conv2_block3_2_conv False\n",
            "33 conv2_block3_2_bn True\n",
            "34 conv2_block3_2_relu False\n",
            "35 conv2_block3_3_conv False\n",
            "36 conv2_block3_3_bn True\n",
            "37 conv2_block3_add False\n",
            "38 conv2_block3_out False\n",
            "39 conv3_block1_1_conv False\n",
            "40 conv3_block1_1_bn True\n",
            "41 conv3_block1_1_relu False\n",
            "42 conv3_block1_2_conv False\n",
            "43 conv3_block1_2_bn True\n",
            "44 conv3_block1_2_relu False\n",
            "45 conv3_block1_0_conv False\n",
            "46 conv3_block1_3_conv False\n",
            "47 conv3_block1_0_bn True\n",
            "48 conv3_block1_3_bn True\n",
            "49 conv3_block1_add False\n",
            "50 conv3_block1_out False\n",
            "51 conv3_block2_1_conv False\n",
            "52 conv3_block2_1_bn True\n",
            "53 conv3_block2_1_relu False\n",
            "54 conv3_block2_2_conv False\n",
            "55 conv3_block2_2_bn True\n",
            "56 conv3_block2_2_relu False\n",
            "57 conv3_block2_3_conv False\n",
            "58 conv3_block2_3_bn True\n",
            "59 conv3_block2_add False\n",
            "60 conv3_block2_out False\n",
            "61 conv3_block3_1_conv False\n",
            "62 conv3_block3_1_bn True\n",
            "63 conv3_block3_1_relu False\n",
            "64 conv3_block3_2_conv False\n",
            "65 conv3_block3_2_bn True\n",
            "66 conv3_block3_2_relu False\n",
            "67 conv3_block3_3_conv False\n",
            "68 conv3_block3_3_bn True\n",
            "69 conv3_block3_add False\n",
            "70 conv3_block3_out False\n",
            "71 conv3_block4_1_conv False\n",
            "72 conv3_block4_1_bn True\n",
            "73 conv3_block4_1_relu False\n",
            "74 conv3_block4_2_conv False\n",
            "75 conv3_block4_2_bn True\n",
            "76 conv3_block4_2_relu False\n",
            "77 conv3_block4_3_conv False\n",
            "78 conv3_block4_3_bn True\n",
            "79 conv3_block4_add False\n",
            "80 conv3_block4_out False\n",
            "81 conv4_block1_1_conv False\n",
            "82 conv4_block1_1_bn True\n",
            "83 conv4_block1_1_relu False\n",
            "84 conv4_block1_2_conv False\n",
            "85 conv4_block1_2_bn True\n",
            "86 conv4_block1_2_relu False\n",
            "87 conv4_block1_0_conv False\n",
            "88 conv4_block1_3_conv False\n",
            "89 conv4_block1_0_bn True\n",
            "90 conv4_block1_3_bn True\n",
            "91 conv4_block1_add False\n",
            "92 conv4_block1_out False\n",
            "93 conv4_block2_1_conv False\n",
            "94 conv4_block2_1_bn True\n",
            "95 conv4_block2_1_relu False\n",
            "96 conv4_block2_2_conv False\n",
            "97 conv4_block2_2_bn True\n",
            "98 conv4_block2_2_relu False\n",
            "99 conv4_block2_3_conv False\n",
            "100 conv4_block2_3_bn True\n",
            "101 conv4_block2_add False\n",
            "102 conv4_block2_out False\n",
            "103 conv4_block3_1_conv False\n",
            "104 conv4_block3_1_bn True\n",
            "105 conv4_block3_1_relu False\n",
            "106 conv4_block3_2_conv False\n",
            "107 conv4_block3_2_bn True\n",
            "108 conv4_block3_2_relu False\n",
            "109 conv4_block3_3_conv False\n",
            "110 conv4_block3_3_bn True\n",
            "111 conv4_block3_add False\n",
            "112 conv4_block3_out False\n",
            "113 conv4_block4_1_conv False\n",
            "114 conv4_block4_1_bn True\n",
            "115 conv4_block4_1_relu False\n",
            "116 conv4_block4_2_conv False\n",
            "117 conv4_block4_2_bn True\n",
            "118 conv4_block4_2_relu False\n",
            "119 conv4_block4_3_conv False\n",
            "120 conv4_block4_3_bn True\n",
            "121 conv4_block4_add False\n",
            "122 conv4_block4_out False\n",
            "123 conv4_block5_1_conv False\n",
            "124 conv4_block5_1_bn True\n",
            "125 conv4_block5_1_relu False\n",
            "126 conv4_block5_2_conv False\n",
            "127 conv4_block5_2_bn True\n",
            "128 conv4_block5_2_relu False\n",
            "129 conv4_block5_3_conv False\n",
            "130 conv4_block5_3_bn True\n",
            "131 conv4_block5_add False\n",
            "132 conv4_block5_out False\n",
            "133 conv4_block6_1_conv False\n",
            "134 conv4_block6_1_bn True\n",
            "135 conv4_block6_1_relu False\n",
            "136 conv4_block6_2_conv False\n",
            "137 conv4_block6_2_bn True\n",
            "138 conv4_block6_2_relu False\n",
            "139 conv4_block6_3_conv False\n",
            "140 conv4_block6_3_bn True\n",
            "141 conv4_block6_add False\n",
            "142 conv4_block6_out False\n",
            "143 conv5_block1_1_conv False\n",
            "144 conv5_block1_1_bn True\n",
            "145 conv5_block1_1_relu False\n",
            "146 conv5_block1_2_conv False\n",
            "147 conv5_block1_2_bn True\n",
            "148 conv5_block1_2_relu False\n",
            "149 conv5_block1_0_conv False\n",
            "150 conv5_block1_3_conv False\n",
            "151 conv5_block1_0_bn True\n",
            "152 conv5_block1_3_bn True\n",
            "153 conv5_block1_add False\n",
            "154 conv5_block1_out False\n",
            "155 conv5_block2_1_conv False\n",
            "156 conv5_block2_1_bn True\n",
            "157 conv5_block2_1_relu False\n",
            "158 conv5_block2_2_conv False\n",
            "159 conv5_block2_2_bn True\n",
            "160 conv5_block2_2_relu False\n",
            "161 conv5_block2_3_conv False\n",
            "162 conv5_block2_3_bn True\n",
            "163 conv5_block2_add False\n",
            "164 conv5_block2_out False\n",
            "165 conv5_block3_1_conv False\n",
            "166 conv5_block3_1_bn True\n",
            "167 conv5_block3_1_relu False\n",
            "168 conv5_block3_2_conv False\n",
            "169 conv5_block3_2_bn True\n",
            "170 conv5_block3_2_relu False\n",
            "171 conv5_block3_3_conv False\n",
            "172 conv5_block3_3_bn True\n",
            "173 conv5_block3_add False\n",
            "174 conv5_block3_out False\n"
          ],
          "name": "stdout"
        }
      ]
    },
    {
      "cell_type": "code",
      "metadata": {
        "id": "yIk-L85IMc2o",
        "colab_type": "code",
        "colab": {
          "base_uri": "https://localhost:8080/",
          "height": 1000
        },
        "outputId": "de7d20cb-e557-40db-97d7-84aff6068c84"
      },
      "source": [
        "conv_base_colour.summary()"
      ],
      "execution_count": null,
      "outputs": [
        {
          "output_type": "stream",
          "text": [
            "Model: \"resnet50\"\n",
            "__________________________________________________________________________________________________\n",
            "Layer (type)                    Output Shape         Param #     Connected to                     \n",
            "==================================================================================================\n",
            "input_3 (InputLayer)            [(None, 224, 224, 3) 0                                            \n",
            "__________________________________________________________________________________________________\n",
            "conv1_pad (ZeroPadding2D)       (None, 230, 230, 3)  0           input_3[0][0]                    \n",
            "__________________________________________________________________________________________________\n",
            "conv1_conv (Conv2D)             (None, 112, 112, 64) 9472        conv1_pad[0][0]                  \n",
            "__________________________________________________________________________________________________\n",
            "conv1_bn (BatchNormalization)   (None, 112, 112, 64) 256         conv1_conv[0][0]                 \n",
            "__________________________________________________________________________________________________\n",
            "conv1_relu (Activation)         (None, 112, 112, 64) 0           conv1_bn[0][0]                   \n",
            "__________________________________________________________________________________________________\n",
            "pool1_pad (ZeroPadding2D)       (None, 114, 114, 64) 0           conv1_relu[0][0]                 \n",
            "__________________________________________________________________________________________________\n",
            "pool1_pool (MaxPooling2D)       (None, 56, 56, 64)   0           pool1_pad[0][0]                  \n",
            "__________________________________________________________________________________________________\n",
            "conv2_block1_1_conv (Conv2D)    (None, 56, 56, 64)   4160        pool1_pool[0][0]                 \n",
            "__________________________________________________________________________________________________\n",
            "conv2_block1_1_bn (BatchNormali (None, 56, 56, 64)   256         conv2_block1_1_conv[0][0]        \n",
            "__________________________________________________________________________________________________\n",
            "conv2_block1_1_relu (Activation (None, 56, 56, 64)   0           conv2_block1_1_bn[0][0]          \n",
            "__________________________________________________________________________________________________\n",
            "conv2_block1_2_conv (Conv2D)    (None, 56, 56, 64)   36928       conv2_block1_1_relu[0][0]        \n",
            "__________________________________________________________________________________________________\n",
            "conv2_block1_2_bn (BatchNormali (None, 56, 56, 64)   256         conv2_block1_2_conv[0][0]        \n",
            "__________________________________________________________________________________________________\n",
            "conv2_block1_2_relu (Activation (None, 56, 56, 64)   0           conv2_block1_2_bn[0][0]          \n",
            "__________________________________________________________________________________________________\n",
            "conv2_block1_0_conv (Conv2D)    (None, 56, 56, 256)  16640       pool1_pool[0][0]                 \n",
            "__________________________________________________________________________________________________\n",
            "conv2_block1_3_conv (Conv2D)    (None, 56, 56, 256)  16640       conv2_block1_2_relu[0][0]        \n",
            "__________________________________________________________________________________________________\n",
            "conv2_block1_0_bn (BatchNormali (None, 56, 56, 256)  1024        conv2_block1_0_conv[0][0]        \n",
            "__________________________________________________________________________________________________\n",
            "conv2_block1_3_bn (BatchNormali (None, 56, 56, 256)  1024        conv2_block1_3_conv[0][0]        \n",
            "__________________________________________________________________________________________________\n",
            "conv2_block1_add (Add)          (None, 56, 56, 256)  0           conv2_block1_0_bn[0][0]          \n",
            "                                                                 conv2_block1_3_bn[0][0]          \n",
            "__________________________________________________________________________________________________\n",
            "conv2_block1_out (Activation)   (None, 56, 56, 256)  0           conv2_block1_add[0][0]           \n",
            "__________________________________________________________________________________________________\n",
            "conv2_block2_1_conv (Conv2D)    (None, 56, 56, 64)   16448       conv2_block1_out[0][0]           \n",
            "__________________________________________________________________________________________________\n",
            "conv2_block2_1_bn (BatchNormali (None, 56, 56, 64)   256         conv2_block2_1_conv[0][0]        \n",
            "__________________________________________________________________________________________________\n",
            "conv2_block2_1_relu (Activation (None, 56, 56, 64)   0           conv2_block2_1_bn[0][0]          \n",
            "__________________________________________________________________________________________________\n",
            "conv2_block2_2_conv (Conv2D)    (None, 56, 56, 64)   36928       conv2_block2_1_relu[0][0]        \n",
            "__________________________________________________________________________________________________\n",
            "conv2_block2_2_bn (BatchNormali (None, 56, 56, 64)   256         conv2_block2_2_conv[0][0]        \n",
            "__________________________________________________________________________________________________\n",
            "conv2_block2_2_relu (Activation (None, 56, 56, 64)   0           conv2_block2_2_bn[0][0]          \n",
            "__________________________________________________________________________________________________\n",
            "conv2_block2_3_conv (Conv2D)    (None, 56, 56, 256)  16640       conv2_block2_2_relu[0][0]        \n",
            "__________________________________________________________________________________________________\n",
            "conv2_block2_3_bn (BatchNormali (None, 56, 56, 256)  1024        conv2_block2_3_conv[0][0]        \n",
            "__________________________________________________________________________________________________\n",
            "conv2_block2_add (Add)          (None, 56, 56, 256)  0           conv2_block1_out[0][0]           \n",
            "                                                                 conv2_block2_3_bn[0][0]          \n",
            "__________________________________________________________________________________________________\n",
            "conv2_block2_out (Activation)   (None, 56, 56, 256)  0           conv2_block2_add[0][0]           \n",
            "__________________________________________________________________________________________________\n",
            "conv2_block3_1_conv (Conv2D)    (None, 56, 56, 64)   16448       conv2_block2_out[0][0]           \n",
            "__________________________________________________________________________________________________\n",
            "conv2_block3_1_bn (BatchNormali (None, 56, 56, 64)   256         conv2_block3_1_conv[0][0]        \n",
            "__________________________________________________________________________________________________\n",
            "conv2_block3_1_relu (Activation (None, 56, 56, 64)   0           conv2_block3_1_bn[0][0]          \n",
            "__________________________________________________________________________________________________\n",
            "conv2_block3_2_conv (Conv2D)    (None, 56, 56, 64)   36928       conv2_block3_1_relu[0][0]        \n",
            "__________________________________________________________________________________________________\n",
            "conv2_block3_2_bn (BatchNormali (None, 56, 56, 64)   256         conv2_block3_2_conv[0][0]        \n",
            "__________________________________________________________________________________________________\n",
            "conv2_block3_2_relu (Activation (None, 56, 56, 64)   0           conv2_block3_2_bn[0][0]          \n",
            "__________________________________________________________________________________________________\n",
            "conv2_block3_3_conv (Conv2D)    (None, 56, 56, 256)  16640       conv2_block3_2_relu[0][0]        \n",
            "__________________________________________________________________________________________________\n",
            "conv2_block3_3_bn (BatchNormali (None, 56, 56, 256)  1024        conv2_block3_3_conv[0][0]        \n",
            "__________________________________________________________________________________________________\n",
            "conv2_block3_add (Add)          (None, 56, 56, 256)  0           conv2_block2_out[0][0]           \n",
            "                                                                 conv2_block3_3_bn[0][0]          \n",
            "__________________________________________________________________________________________________\n",
            "conv2_block3_out (Activation)   (None, 56, 56, 256)  0           conv2_block3_add[0][0]           \n",
            "__________________________________________________________________________________________________\n",
            "conv3_block1_1_conv (Conv2D)    (None, 28, 28, 128)  32896       conv2_block3_out[0][0]           \n",
            "__________________________________________________________________________________________________\n",
            "conv3_block1_1_bn (BatchNormali (None, 28, 28, 128)  512         conv3_block1_1_conv[0][0]        \n",
            "__________________________________________________________________________________________________\n",
            "conv3_block1_1_relu (Activation (None, 28, 28, 128)  0           conv3_block1_1_bn[0][0]          \n",
            "__________________________________________________________________________________________________\n",
            "conv3_block1_2_conv (Conv2D)    (None, 28, 28, 128)  147584      conv3_block1_1_relu[0][0]        \n",
            "__________________________________________________________________________________________________\n",
            "conv3_block1_2_bn (BatchNormali (None, 28, 28, 128)  512         conv3_block1_2_conv[0][0]        \n",
            "__________________________________________________________________________________________________\n",
            "conv3_block1_2_relu (Activation (None, 28, 28, 128)  0           conv3_block1_2_bn[0][0]          \n",
            "__________________________________________________________________________________________________\n",
            "conv3_block1_0_conv (Conv2D)    (None, 28, 28, 512)  131584      conv2_block3_out[0][0]           \n",
            "__________________________________________________________________________________________________\n",
            "conv3_block1_3_conv (Conv2D)    (None, 28, 28, 512)  66048       conv3_block1_2_relu[0][0]        \n",
            "__________________________________________________________________________________________________\n",
            "conv3_block1_0_bn (BatchNormali (None, 28, 28, 512)  2048        conv3_block1_0_conv[0][0]        \n",
            "__________________________________________________________________________________________________\n",
            "conv3_block1_3_bn (BatchNormali (None, 28, 28, 512)  2048        conv3_block1_3_conv[0][0]        \n",
            "__________________________________________________________________________________________________\n",
            "conv3_block1_add (Add)          (None, 28, 28, 512)  0           conv3_block1_0_bn[0][0]          \n",
            "                                                                 conv3_block1_3_bn[0][0]          \n",
            "__________________________________________________________________________________________________\n",
            "conv3_block1_out (Activation)   (None, 28, 28, 512)  0           conv3_block1_add[0][0]           \n",
            "__________________________________________________________________________________________________\n",
            "conv3_block2_1_conv (Conv2D)    (None, 28, 28, 128)  65664       conv3_block1_out[0][0]           \n",
            "__________________________________________________________________________________________________\n",
            "conv3_block2_1_bn (BatchNormali (None, 28, 28, 128)  512         conv3_block2_1_conv[0][0]        \n",
            "__________________________________________________________________________________________________\n",
            "conv3_block2_1_relu (Activation (None, 28, 28, 128)  0           conv3_block2_1_bn[0][0]          \n",
            "__________________________________________________________________________________________________\n",
            "conv3_block2_2_conv (Conv2D)    (None, 28, 28, 128)  147584      conv3_block2_1_relu[0][0]        \n",
            "__________________________________________________________________________________________________\n",
            "conv3_block2_2_bn (BatchNormali (None, 28, 28, 128)  512         conv3_block2_2_conv[0][0]        \n",
            "__________________________________________________________________________________________________\n",
            "conv3_block2_2_relu (Activation (None, 28, 28, 128)  0           conv3_block2_2_bn[0][0]          \n",
            "__________________________________________________________________________________________________\n",
            "conv3_block2_3_conv (Conv2D)    (None, 28, 28, 512)  66048       conv3_block2_2_relu[0][0]        \n",
            "__________________________________________________________________________________________________\n",
            "conv3_block2_3_bn (BatchNormali (None, 28, 28, 512)  2048        conv3_block2_3_conv[0][0]        \n",
            "__________________________________________________________________________________________________\n",
            "conv3_block2_add (Add)          (None, 28, 28, 512)  0           conv3_block1_out[0][0]           \n",
            "                                                                 conv3_block2_3_bn[0][0]          \n",
            "__________________________________________________________________________________________________\n",
            "conv3_block2_out (Activation)   (None, 28, 28, 512)  0           conv3_block2_add[0][0]           \n",
            "__________________________________________________________________________________________________\n",
            "conv3_block3_1_conv (Conv2D)    (None, 28, 28, 128)  65664       conv3_block2_out[0][0]           \n",
            "__________________________________________________________________________________________________\n",
            "conv3_block3_1_bn (BatchNormali (None, 28, 28, 128)  512         conv3_block3_1_conv[0][0]        \n",
            "__________________________________________________________________________________________________\n",
            "conv3_block3_1_relu (Activation (None, 28, 28, 128)  0           conv3_block3_1_bn[0][0]          \n",
            "__________________________________________________________________________________________________\n",
            "conv3_block3_2_conv (Conv2D)    (None, 28, 28, 128)  147584      conv3_block3_1_relu[0][0]        \n",
            "__________________________________________________________________________________________________\n",
            "conv3_block3_2_bn (BatchNormali (None, 28, 28, 128)  512         conv3_block3_2_conv[0][0]        \n",
            "__________________________________________________________________________________________________\n",
            "conv3_block3_2_relu (Activation (None, 28, 28, 128)  0           conv3_block3_2_bn[0][0]          \n",
            "__________________________________________________________________________________________________\n",
            "conv3_block3_3_conv (Conv2D)    (None, 28, 28, 512)  66048       conv3_block3_2_relu[0][0]        \n",
            "__________________________________________________________________________________________________\n",
            "conv3_block3_3_bn (BatchNormali (None, 28, 28, 512)  2048        conv3_block3_3_conv[0][0]        \n",
            "__________________________________________________________________________________________________\n",
            "conv3_block3_add (Add)          (None, 28, 28, 512)  0           conv3_block2_out[0][0]           \n",
            "                                                                 conv3_block3_3_bn[0][0]          \n",
            "__________________________________________________________________________________________________\n",
            "conv3_block3_out (Activation)   (None, 28, 28, 512)  0           conv3_block3_add[0][0]           \n",
            "__________________________________________________________________________________________________\n",
            "conv3_block4_1_conv (Conv2D)    (None, 28, 28, 128)  65664       conv3_block3_out[0][0]           \n",
            "__________________________________________________________________________________________________\n",
            "conv3_block4_1_bn (BatchNormali (None, 28, 28, 128)  512         conv3_block4_1_conv[0][0]        \n",
            "__________________________________________________________________________________________________\n",
            "conv3_block4_1_relu (Activation (None, 28, 28, 128)  0           conv3_block4_1_bn[0][0]          \n",
            "__________________________________________________________________________________________________\n",
            "conv3_block4_2_conv (Conv2D)    (None, 28, 28, 128)  147584      conv3_block4_1_relu[0][0]        \n",
            "__________________________________________________________________________________________________\n",
            "conv3_block4_2_bn (BatchNormali (None, 28, 28, 128)  512         conv3_block4_2_conv[0][0]        \n",
            "__________________________________________________________________________________________________\n",
            "conv3_block4_2_relu (Activation (None, 28, 28, 128)  0           conv3_block4_2_bn[0][0]          \n",
            "__________________________________________________________________________________________________\n",
            "conv3_block4_3_conv (Conv2D)    (None, 28, 28, 512)  66048       conv3_block4_2_relu[0][0]        \n",
            "__________________________________________________________________________________________________\n",
            "conv3_block4_3_bn (BatchNormali (None, 28, 28, 512)  2048        conv3_block4_3_conv[0][0]        \n",
            "__________________________________________________________________________________________________\n",
            "conv3_block4_add (Add)          (None, 28, 28, 512)  0           conv3_block3_out[0][0]           \n",
            "                                                                 conv3_block4_3_bn[0][0]          \n",
            "__________________________________________________________________________________________________\n",
            "conv3_block4_out (Activation)   (None, 28, 28, 512)  0           conv3_block4_add[0][0]           \n",
            "__________________________________________________________________________________________________\n",
            "conv4_block1_1_conv (Conv2D)    (None, 14, 14, 256)  131328      conv3_block4_out[0][0]           \n",
            "__________________________________________________________________________________________________\n",
            "conv4_block1_1_bn (BatchNormali (None, 14, 14, 256)  1024        conv4_block1_1_conv[0][0]        \n",
            "__________________________________________________________________________________________________\n",
            "conv4_block1_1_relu (Activation (None, 14, 14, 256)  0           conv4_block1_1_bn[0][0]          \n",
            "__________________________________________________________________________________________________\n",
            "conv4_block1_2_conv (Conv2D)    (None, 14, 14, 256)  590080      conv4_block1_1_relu[0][0]        \n",
            "__________________________________________________________________________________________________\n",
            "conv4_block1_2_bn (BatchNormali (None, 14, 14, 256)  1024        conv4_block1_2_conv[0][0]        \n",
            "__________________________________________________________________________________________________\n",
            "conv4_block1_2_relu (Activation (None, 14, 14, 256)  0           conv4_block1_2_bn[0][0]          \n",
            "__________________________________________________________________________________________________\n",
            "conv4_block1_0_conv (Conv2D)    (None, 14, 14, 1024) 525312      conv3_block4_out[0][0]           \n",
            "__________________________________________________________________________________________________\n",
            "conv4_block1_3_conv (Conv2D)    (None, 14, 14, 1024) 263168      conv4_block1_2_relu[0][0]        \n",
            "__________________________________________________________________________________________________\n",
            "conv4_block1_0_bn (BatchNormali (None, 14, 14, 1024) 4096        conv4_block1_0_conv[0][0]        \n",
            "__________________________________________________________________________________________________\n",
            "conv4_block1_3_bn (BatchNormali (None, 14, 14, 1024) 4096        conv4_block1_3_conv[0][0]        \n",
            "__________________________________________________________________________________________________\n",
            "conv4_block1_add (Add)          (None, 14, 14, 1024) 0           conv4_block1_0_bn[0][0]          \n",
            "                                                                 conv4_block1_3_bn[0][0]          \n",
            "__________________________________________________________________________________________________\n",
            "conv4_block1_out (Activation)   (None, 14, 14, 1024) 0           conv4_block1_add[0][0]           \n",
            "__________________________________________________________________________________________________\n",
            "conv4_block2_1_conv (Conv2D)    (None, 14, 14, 256)  262400      conv4_block1_out[0][0]           \n",
            "__________________________________________________________________________________________________\n",
            "conv4_block2_1_bn (BatchNormali (None, 14, 14, 256)  1024        conv4_block2_1_conv[0][0]        \n",
            "__________________________________________________________________________________________________\n",
            "conv4_block2_1_relu (Activation (None, 14, 14, 256)  0           conv4_block2_1_bn[0][0]          \n",
            "__________________________________________________________________________________________________\n",
            "conv4_block2_2_conv (Conv2D)    (None, 14, 14, 256)  590080      conv4_block2_1_relu[0][0]        \n",
            "__________________________________________________________________________________________________\n",
            "conv4_block2_2_bn (BatchNormali (None, 14, 14, 256)  1024        conv4_block2_2_conv[0][0]        \n",
            "__________________________________________________________________________________________________\n",
            "conv4_block2_2_relu (Activation (None, 14, 14, 256)  0           conv4_block2_2_bn[0][0]          \n",
            "__________________________________________________________________________________________________\n",
            "conv4_block2_3_conv (Conv2D)    (None, 14, 14, 1024) 263168      conv4_block2_2_relu[0][0]        \n",
            "__________________________________________________________________________________________________\n",
            "conv4_block2_3_bn (BatchNormali (None, 14, 14, 1024) 4096        conv4_block2_3_conv[0][0]        \n",
            "__________________________________________________________________________________________________\n",
            "conv4_block2_add (Add)          (None, 14, 14, 1024) 0           conv4_block1_out[0][0]           \n",
            "                                                                 conv4_block2_3_bn[0][0]          \n",
            "__________________________________________________________________________________________________\n",
            "conv4_block2_out (Activation)   (None, 14, 14, 1024) 0           conv4_block2_add[0][0]           \n",
            "__________________________________________________________________________________________________\n",
            "conv4_block3_1_conv (Conv2D)    (None, 14, 14, 256)  262400      conv4_block2_out[0][0]           \n",
            "__________________________________________________________________________________________________\n",
            "conv4_block3_1_bn (BatchNormali (None, 14, 14, 256)  1024        conv4_block3_1_conv[0][0]        \n",
            "__________________________________________________________________________________________________\n",
            "conv4_block3_1_relu (Activation (None, 14, 14, 256)  0           conv4_block3_1_bn[0][0]          \n",
            "__________________________________________________________________________________________________\n",
            "conv4_block3_2_conv (Conv2D)    (None, 14, 14, 256)  590080      conv4_block3_1_relu[0][0]        \n",
            "__________________________________________________________________________________________________\n",
            "conv4_block3_2_bn (BatchNormali (None, 14, 14, 256)  1024        conv4_block3_2_conv[0][0]        \n",
            "__________________________________________________________________________________________________\n",
            "conv4_block3_2_relu (Activation (None, 14, 14, 256)  0           conv4_block3_2_bn[0][0]          \n",
            "__________________________________________________________________________________________________\n",
            "conv4_block3_3_conv (Conv2D)    (None, 14, 14, 1024) 263168      conv4_block3_2_relu[0][0]        \n",
            "__________________________________________________________________________________________________\n",
            "conv4_block3_3_bn (BatchNormali (None, 14, 14, 1024) 4096        conv4_block3_3_conv[0][0]        \n",
            "__________________________________________________________________________________________________\n",
            "conv4_block3_add (Add)          (None, 14, 14, 1024) 0           conv4_block2_out[0][0]           \n",
            "                                                                 conv4_block3_3_bn[0][0]          \n",
            "__________________________________________________________________________________________________\n",
            "conv4_block3_out (Activation)   (None, 14, 14, 1024) 0           conv4_block3_add[0][0]           \n",
            "__________________________________________________________________________________________________\n",
            "conv4_block4_1_conv (Conv2D)    (None, 14, 14, 256)  262400      conv4_block3_out[0][0]           \n",
            "__________________________________________________________________________________________________\n",
            "conv4_block4_1_bn (BatchNormali (None, 14, 14, 256)  1024        conv4_block4_1_conv[0][0]        \n",
            "__________________________________________________________________________________________________\n",
            "conv4_block4_1_relu (Activation (None, 14, 14, 256)  0           conv4_block4_1_bn[0][0]          \n",
            "__________________________________________________________________________________________________\n",
            "conv4_block4_2_conv (Conv2D)    (None, 14, 14, 256)  590080      conv4_block4_1_relu[0][0]        \n",
            "__________________________________________________________________________________________________\n",
            "conv4_block4_2_bn (BatchNormali (None, 14, 14, 256)  1024        conv4_block4_2_conv[0][0]        \n",
            "__________________________________________________________________________________________________\n",
            "conv4_block4_2_relu (Activation (None, 14, 14, 256)  0           conv4_block4_2_bn[0][0]          \n",
            "__________________________________________________________________________________________________\n",
            "conv4_block4_3_conv (Conv2D)    (None, 14, 14, 1024) 263168      conv4_block4_2_relu[0][0]        \n",
            "__________________________________________________________________________________________________\n",
            "conv4_block4_3_bn (BatchNormali (None, 14, 14, 1024) 4096        conv4_block4_3_conv[0][0]        \n",
            "__________________________________________________________________________________________________\n",
            "conv4_block4_add (Add)          (None, 14, 14, 1024) 0           conv4_block3_out[0][0]           \n",
            "                                                                 conv4_block4_3_bn[0][0]          \n",
            "__________________________________________________________________________________________________\n",
            "conv4_block4_out (Activation)   (None, 14, 14, 1024) 0           conv4_block4_add[0][0]           \n",
            "__________________________________________________________________________________________________\n",
            "conv4_block5_1_conv (Conv2D)    (None, 14, 14, 256)  262400      conv4_block4_out[0][0]           \n",
            "__________________________________________________________________________________________________\n",
            "conv4_block5_1_bn (BatchNormali (None, 14, 14, 256)  1024        conv4_block5_1_conv[0][0]        \n",
            "__________________________________________________________________________________________________\n",
            "conv4_block5_1_relu (Activation (None, 14, 14, 256)  0           conv4_block5_1_bn[0][0]          \n",
            "__________________________________________________________________________________________________\n",
            "conv4_block5_2_conv (Conv2D)    (None, 14, 14, 256)  590080      conv4_block5_1_relu[0][0]        \n",
            "__________________________________________________________________________________________________\n",
            "conv4_block5_2_bn (BatchNormali (None, 14, 14, 256)  1024        conv4_block5_2_conv[0][0]        \n",
            "__________________________________________________________________________________________________\n",
            "conv4_block5_2_relu (Activation (None, 14, 14, 256)  0           conv4_block5_2_bn[0][0]          \n",
            "__________________________________________________________________________________________________\n",
            "conv4_block5_3_conv (Conv2D)    (None, 14, 14, 1024) 263168      conv4_block5_2_relu[0][0]        \n",
            "__________________________________________________________________________________________________\n",
            "conv4_block5_3_bn (BatchNormali (None, 14, 14, 1024) 4096        conv4_block5_3_conv[0][0]        \n",
            "__________________________________________________________________________________________________\n",
            "conv4_block5_add (Add)          (None, 14, 14, 1024) 0           conv4_block4_out[0][0]           \n",
            "                                                                 conv4_block5_3_bn[0][0]          \n",
            "__________________________________________________________________________________________________\n",
            "conv4_block5_out (Activation)   (None, 14, 14, 1024) 0           conv4_block5_add[0][0]           \n",
            "__________________________________________________________________________________________________\n",
            "conv4_block6_1_conv (Conv2D)    (None, 14, 14, 256)  262400      conv4_block5_out[0][0]           \n",
            "__________________________________________________________________________________________________\n",
            "conv4_block6_1_bn (BatchNormali (None, 14, 14, 256)  1024        conv4_block6_1_conv[0][0]        \n",
            "__________________________________________________________________________________________________\n",
            "conv4_block6_1_relu (Activation (None, 14, 14, 256)  0           conv4_block6_1_bn[0][0]          \n",
            "__________________________________________________________________________________________________\n",
            "conv4_block6_2_conv (Conv2D)    (None, 14, 14, 256)  590080      conv4_block6_1_relu[0][0]        \n",
            "__________________________________________________________________________________________________\n",
            "conv4_block6_2_bn (BatchNormali (None, 14, 14, 256)  1024        conv4_block6_2_conv[0][0]        \n",
            "__________________________________________________________________________________________________\n",
            "conv4_block6_2_relu (Activation (None, 14, 14, 256)  0           conv4_block6_2_bn[0][0]          \n",
            "__________________________________________________________________________________________________\n",
            "conv4_block6_3_conv (Conv2D)    (None, 14, 14, 1024) 263168      conv4_block6_2_relu[0][0]        \n",
            "__________________________________________________________________________________________________\n",
            "conv4_block6_3_bn (BatchNormali (None, 14, 14, 1024) 4096        conv4_block6_3_conv[0][0]        \n",
            "__________________________________________________________________________________________________\n",
            "conv4_block6_add (Add)          (None, 14, 14, 1024) 0           conv4_block5_out[0][0]           \n",
            "                                                                 conv4_block6_3_bn[0][0]          \n",
            "__________________________________________________________________________________________________\n",
            "conv4_block6_out (Activation)   (None, 14, 14, 1024) 0           conv4_block6_add[0][0]           \n",
            "__________________________________________________________________________________________________\n",
            "conv5_block1_1_conv (Conv2D)    (None, 7, 7, 512)    524800      conv4_block6_out[0][0]           \n",
            "__________________________________________________________________________________________________\n",
            "conv5_block1_1_bn (BatchNormali (None, 7, 7, 512)    2048        conv5_block1_1_conv[0][0]        \n",
            "__________________________________________________________________________________________________\n",
            "conv5_block1_1_relu (Activation (None, 7, 7, 512)    0           conv5_block1_1_bn[0][0]          \n",
            "__________________________________________________________________________________________________\n",
            "conv5_block1_2_conv (Conv2D)    (None, 7, 7, 512)    2359808     conv5_block1_1_relu[0][0]        \n",
            "__________________________________________________________________________________________________\n",
            "conv5_block1_2_bn (BatchNormali (None, 7, 7, 512)    2048        conv5_block1_2_conv[0][0]        \n",
            "__________________________________________________________________________________________________\n",
            "conv5_block1_2_relu (Activation (None, 7, 7, 512)    0           conv5_block1_2_bn[0][0]          \n",
            "__________________________________________________________________________________________________\n",
            "conv5_block1_0_conv (Conv2D)    (None, 7, 7, 2048)   2099200     conv4_block6_out[0][0]           \n",
            "__________________________________________________________________________________________________\n",
            "conv5_block1_3_conv (Conv2D)    (None, 7, 7, 2048)   1050624     conv5_block1_2_relu[0][0]        \n",
            "__________________________________________________________________________________________________\n",
            "conv5_block1_0_bn (BatchNormali (None, 7, 7, 2048)   8192        conv5_block1_0_conv[0][0]        \n",
            "__________________________________________________________________________________________________\n",
            "conv5_block1_3_bn (BatchNormali (None, 7, 7, 2048)   8192        conv5_block1_3_conv[0][0]        \n",
            "__________________________________________________________________________________________________\n",
            "conv5_block1_add (Add)          (None, 7, 7, 2048)   0           conv5_block1_0_bn[0][0]          \n",
            "                                                                 conv5_block1_3_bn[0][0]          \n",
            "__________________________________________________________________________________________________\n",
            "conv5_block1_out (Activation)   (None, 7, 7, 2048)   0           conv5_block1_add[0][0]           \n",
            "__________________________________________________________________________________________________\n",
            "conv5_block2_1_conv (Conv2D)    (None, 7, 7, 512)    1049088     conv5_block1_out[0][0]           \n",
            "__________________________________________________________________________________________________\n",
            "conv5_block2_1_bn (BatchNormali (None, 7, 7, 512)    2048        conv5_block2_1_conv[0][0]        \n",
            "__________________________________________________________________________________________________\n",
            "conv5_block2_1_relu (Activation (None, 7, 7, 512)    0           conv5_block2_1_bn[0][0]          \n",
            "__________________________________________________________________________________________________\n",
            "conv5_block2_2_conv (Conv2D)    (None, 7, 7, 512)    2359808     conv5_block2_1_relu[0][0]        \n",
            "__________________________________________________________________________________________________\n",
            "conv5_block2_2_bn (BatchNormali (None, 7, 7, 512)    2048        conv5_block2_2_conv[0][0]        \n",
            "__________________________________________________________________________________________________\n",
            "conv5_block2_2_relu (Activation (None, 7, 7, 512)    0           conv5_block2_2_bn[0][0]          \n",
            "__________________________________________________________________________________________________\n",
            "conv5_block2_3_conv (Conv2D)    (None, 7, 7, 2048)   1050624     conv5_block2_2_relu[0][0]        \n",
            "__________________________________________________________________________________________________\n",
            "conv5_block2_3_bn (BatchNormali (None, 7, 7, 2048)   8192        conv5_block2_3_conv[0][0]        \n",
            "__________________________________________________________________________________________________\n",
            "conv5_block2_add (Add)          (None, 7, 7, 2048)   0           conv5_block1_out[0][0]           \n",
            "                                                                 conv5_block2_3_bn[0][0]          \n",
            "__________________________________________________________________________________________________\n",
            "conv5_block2_out (Activation)   (None, 7, 7, 2048)   0           conv5_block2_add[0][0]           \n",
            "__________________________________________________________________________________________________\n",
            "conv5_block3_1_conv (Conv2D)    (None, 7, 7, 512)    1049088     conv5_block2_out[0][0]           \n",
            "__________________________________________________________________________________________________\n",
            "conv5_block3_1_bn (BatchNormali (None, 7, 7, 512)    2048        conv5_block3_1_conv[0][0]        \n",
            "__________________________________________________________________________________________________\n",
            "conv5_block3_1_relu (Activation (None, 7, 7, 512)    0           conv5_block3_1_bn[0][0]          \n",
            "__________________________________________________________________________________________________\n",
            "conv5_block3_2_conv (Conv2D)    (None, 7, 7, 512)    2359808     conv5_block3_1_relu[0][0]        \n",
            "__________________________________________________________________________________________________\n",
            "conv5_block3_2_bn (BatchNormali (None, 7, 7, 512)    2048        conv5_block3_2_conv[0][0]        \n",
            "__________________________________________________________________________________________________\n",
            "conv5_block3_2_relu (Activation (None, 7, 7, 512)    0           conv5_block3_2_bn[0][0]          \n",
            "__________________________________________________________________________________________________\n",
            "conv5_block3_3_conv (Conv2D)    (None, 7, 7, 2048)   1050624     conv5_block3_2_relu[0][0]        \n",
            "__________________________________________________________________________________________________\n",
            "conv5_block3_3_bn (BatchNormali (None, 7, 7, 2048)   8192        conv5_block3_3_conv[0][0]        \n",
            "__________________________________________________________________________________________________\n",
            "conv5_block3_add (Add)          (None, 7, 7, 2048)   0           conv5_block2_out[0][0]           \n",
            "                                                                 conv5_block3_3_bn[0][0]          \n",
            "__________________________________________________________________________________________________\n",
            "conv5_block3_out (Activation)   (None, 7, 7, 2048)   0           conv5_block3_add[0][0]           \n",
            "==================================================================================================\n",
            "Total params: 23,587,712\n",
            "Trainable params: 53,120\n",
            "Non-trainable params: 23,534,592\n",
            "__________________________________________________________________________________________________\n"
          ],
          "name": "stdout"
        }
      ]
    },
    {
      "cell_type": "code",
      "metadata": {
        "id": "LW4AsCBaPbHd",
        "colab_type": "code",
        "colab": {}
      },
      "source": [
        "colour_model = Sequential()"
      ],
      "execution_count": null,
      "outputs": []
    },
    {
      "cell_type": "code",
      "metadata": {
        "id": "j8M3nnPYPvUG",
        "colab_type": "code",
        "colab": {}
      },
      "source": [
        "colour_model.add(conv_base_colour)"
      ],
      "execution_count": null,
      "outputs": []
    },
    {
      "cell_type": "code",
      "metadata": {
        "id": "ZzXnu1-EQLlE",
        "colab_type": "code",
        "colab": {}
      },
      "source": [
        "colour_model.add(Flatten())"
      ],
      "execution_count": null,
      "outputs": []
    },
    {
      "cell_type": "code",
      "metadata": {
        "id": "-mctKBZpQS2F",
        "colab_type": "code",
        "colab": {}
      },
      "source": [
        "colour_model.add(Dense(2048, activation='relu', kernel_regularizer = regularizers.l2(0.001)))\n",
        "colour_model.add(Dropout(0.5))\n",
        "colour_model.add(Dense(68, activation='softmax'))"
      ],
      "execution_count": null,
      "outputs": []
    },
    {
      "cell_type": "code",
      "metadata": {
        "id": "246RLPBOOPSJ",
        "colab_type": "code",
        "colab": {
          "base_uri": "https://localhost:8080/",
          "height": 323
        },
        "outputId": "d6aa806d-bcd4-430e-802e-d3bbc6ee7dda"
      },
      "source": [
        "colour_model.summary()"
      ],
      "execution_count": null,
      "outputs": [
        {
          "output_type": "stream",
          "text": [
            "Model: \"sequential_1\"\n",
            "_________________________________________________________________\n",
            "Layer (type)                 Output Shape              Param #   \n",
            "=================================================================\n",
            "resnet50 (Functional)        (None, 7, 7, 2048)        23587712  \n",
            "_________________________________________________________________\n",
            "flatten_1 (Flatten)          (None, 100352)            0         \n",
            "_________________________________________________________________\n",
            "dense_2 (Dense)              (None, 2048)              205522944 \n",
            "_________________________________________________________________\n",
            "dropout_1 (Dropout)          (None, 2048)              0         \n",
            "_________________________________________________________________\n",
            "dense_3 (Dense)              (None, 68)                139332    \n",
            "=================================================================\n",
            "Total params: 229,249,988\n",
            "Trainable params: 205,715,396\n",
            "Non-trainable params: 23,534,592\n",
            "_________________________________________________________________\n"
          ],
          "name": "stdout"
        }
      ]
    },
    {
      "cell_type": "code",
      "metadata": {
        "id": "cI4OUhkgMQTN",
        "colab_type": "code",
        "colab": {}
      },
      "source": [
        "colour_model.compile(loss='categorical_crossentropy',\n",
        "              optimizer=SGD(lr=0.001),\n",
        "              metrics=['accuracy'])"
      ],
      "execution_count": null,
      "outputs": []
    },
    {
      "cell_type": "code",
      "metadata": {
        "id": "V4v7B5i7Mf33",
        "colab_type": "code",
        "colab": {}
      },
      "source": [
        "from keras.callbacks import ModelCheckpoint, EarlyStopping, ReduceLROnPlateau\n",
        "checkpoint = ModelCheckpoint(\"/content/drive/My Drive/RawFoot_Image/RawFoot_Image_Colour_SGDResnet50.h5\",\n",
        "                             monitor=\"val_loss\",\n",
        "                             mode=\"min\",\n",
        "                             save_best_only = True,\n",
        "                             verbose=1)\n",
        "\n",
        "earlystop = EarlyStopping(monitor = 'val_loss', \n",
        "                          min_delta = 0, \n",
        "                          patience = 40,\n",
        "                          verbose = 1,\n",
        "                          restore_best_weights = True)\n",
        "\n",
        "reduce_lr = ReduceLROnPlateau(monitor = 'val_loss',\n",
        "                              factor = 0.2,\n",
        "                              patience = 40,\n",
        "                              verbose = 1,\n",
        "                              min_delta = 0.00001)\n",
        "\n",
        "callBacks = [earlystop, checkpoint, reduce_lr]"
      ],
      "execution_count": null,
      "outputs": []
    },
    {
      "cell_type": "code",
      "metadata": {
        "id": "yaMZLpsAMz7e",
        "colab_type": "code",
        "colab": {
          "base_uri": "https://localhost:8080/",
          "height": 1000
        },
        "outputId": "5c357df4-6e91-43ca-9586-51b5dd665b66"
      },
      "source": [
        "hist = colour_model.fit_generator(steps_per_epoch=349,generator= Colour_TrainingData, validation_data= Colour_ValidData, validation_steps=17,epochs=150,callbacks=callBacks)"
      ],
      "execution_count": null,
      "outputs": [
        {
          "output_type": "stream",
          "text": [
            "Epoch 1/150\n",
            "349/349 [==============================] - ETA: 0s - loss: 5.6267 - accuracy: 0.6417\n",
            "Epoch 00001: val_loss improved from inf to 17.54018, saving model to /content/drive/My Drive/RawFoot_Image/RawFoot_Image_Colour_SGDResnet50.h5\n",
            "349/349 [==============================] - 96s 274ms/step - loss: 5.6267 - accuracy: 0.6417 - val_loss: 17.5402 - val_accuracy: 0.0147\n",
            "Epoch 2/150\n",
            "349/349 [==============================] - ETA: 0s - loss: 4.3393 - accuracy: 0.9082\n",
            "Epoch 00002: val_loss improved from 17.54018 to 13.15501, saving model to /content/drive/My Drive/RawFoot_Image/RawFoot_Image_Colour_SGDResnet50.h5\n",
            "349/349 [==============================] - 96s 276ms/step - loss: 4.3393 - accuracy: 0.9082 - val_loss: 13.1550 - val_accuracy: 0.0441\n",
            "Epoch 3/150\n",
            "349/349 [==============================] - ETA: 0s - loss: 4.2784 - accuracy: 0.9204\n",
            "Epoch 00003: val_loss improved from 13.15501 to 4.94796, saving model to /content/drive/My Drive/RawFoot_Image/RawFoot_Image_Colour_SGDResnet50.h5\n",
            "349/349 [==============================] - 96s 275ms/step - loss: 4.2784 - accuracy: 0.9204 - val_loss: 4.9480 - val_accuracy: 0.7500\n",
            "Epoch 4/150\n",
            "349/349 [==============================] - ETA: 0s - loss: 4.1512 - accuracy: 0.9555\n",
            "Epoch 00004: val_loss improved from 4.94796 to 4.72107, saving model to /content/drive/My Drive/RawFoot_Image/RawFoot_Image_Colour_SGDResnet50.h5\n",
            "349/349 [==============================] - 96s 275ms/step - loss: 4.1512 - accuracy: 0.9555 - val_loss: 4.7211 - val_accuracy: 0.9485\n",
            "Epoch 5/150\n",
            "349/349 [==============================] - ETA: 0s - loss: 4.1299 - accuracy: 0.9570\n",
            "Epoch 00005: val_loss did not improve from 4.72107\n",
            "349/349 [==============================] - 91s 262ms/step - loss: 4.1299 - accuracy: 0.9570 - val_loss: 5.4987 - val_accuracy: 0.8971\n",
            "Epoch 6/150\n",
            "349/349 [==============================] - ETA: 0s - loss: 4.0838 - accuracy: 0.9724\n",
            "Epoch 00006: val_loss did not improve from 4.72107\n",
            "349/349 [==============================] - 91s 260ms/step - loss: 4.0838 - accuracy: 0.9724 - val_loss: 5.4138 - val_accuracy: 0.9118\n",
            "Epoch 7/150\n",
            "349/349 [==============================] - ETA: 0s - loss: 4.0866 - accuracy: 0.9699\n",
            "Epoch 00007: val_loss did not improve from 4.72107\n",
            "349/349 [==============================] - 90s 259ms/step - loss: 4.0866 - accuracy: 0.9699 - val_loss: 5.5100 - val_accuracy: 0.9044\n",
            "Epoch 8/150\n",
            "349/349 [==============================] - ETA: 0s - loss: 4.0723 - accuracy: 0.9738\n",
            "Epoch 00008: val_loss did not improve from 4.72107\n",
            "349/349 [==============================] - 90s 259ms/step - loss: 4.0723 - accuracy: 0.9738 - val_loss: 5.1027 - val_accuracy: 0.9191\n",
            "Epoch 9/150\n",
            "349/349 [==============================] - ETA: 0s - loss: 4.0430 - accuracy: 0.9799\n",
            "Epoch 00009: val_loss did not improve from 4.72107\n",
            "349/349 [==============================] - 90s 259ms/step - loss: 4.0430 - accuracy: 0.9799 - val_loss: 5.2230 - val_accuracy: 0.9191\n",
            "Epoch 10/150\n",
            "349/349 [==============================] - ETA: 0s - loss: 4.0322 - accuracy: 0.9803\n",
            "Epoch 00010: val_loss did not improve from 4.72107\n",
            "349/349 [==============================] - 91s 259ms/step - loss: 4.0322 - accuracy: 0.9803 - val_loss: 5.2507 - val_accuracy: 0.9044\n",
            "Epoch 11/150\n",
            "349/349 [==============================] - ETA: 0s - loss: 4.0081 - accuracy: 0.9882\n",
            "Epoch 00011: val_loss did not improve from 4.72107\n",
            "349/349 [==============================] - 90s 259ms/step - loss: 4.0081 - accuracy: 0.9882 - val_loss: 5.3288 - val_accuracy: 0.9191\n",
            "Epoch 12/150\n",
            "349/349 [==============================] - ETA: 0s - loss: 4.0168 - accuracy: 0.9839\n",
            "Epoch 00012: val_loss did not improve from 4.72107\n",
            "349/349 [==============================] - 90s 259ms/step - loss: 4.0168 - accuracy: 0.9839 - val_loss: 5.2827 - val_accuracy: 0.9338\n",
            "Epoch 13/150\n",
            "349/349 [==============================] - ETA: 0s - loss: 3.9875 - accuracy: 0.9907\n",
            "Epoch 00013: val_loss did not improve from 4.72107\n",
            "349/349 [==============================] - 91s 260ms/step - loss: 3.9875 - accuracy: 0.9907 - val_loss: 5.2911 - val_accuracy: 0.9338\n",
            "Epoch 14/150\n",
            "349/349 [==============================] - ETA: 0s - loss: 3.9895 - accuracy: 0.9882\n",
            "Epoch 00014: val_loss did not improve from 4.72107\n",
            "349/349 [==============================] - 90s 259ms/step - loss: 3.9895 - accuracy: 0.9882 - val_loss: 5.3666 - val_accuracy: 0.9265\n",
            "Epoch 15/150\n",
            "349/349 [==============================] - ETA: 0s - loss: 4.0120 - accuracy: 0.9810\n",
            "Epoch 00015: val_loss did not improve from 4.72107\n",
            "349/349 [==============================] - 90s 259ms/step - loss: 4.0120 - accuracy: 0.9810 - val_loss: 5.2969 - val_accuracy: 0.9338\n",
            "Epoch 16/150\n",
            "349/349 [==============================] - ETA: 0s - loss: 3.9683 - accuracy: 0.9921\n",
            "Epoch 00016: val_loss did not improve from 4.72107\n",
            "349/349 [==============================] - 90s 259ms/step - loss: 3.9683 - accuracy: 0.9921 - val_loss: 5.0756 - val_accuracy: 0.9412\n",
            "Epoch 17/150\n",
            "349/349 [==============================] - ETA: 0s - loss: 3.9672 - accuracy: 0.9903\n",
            "Epoch 00017: val_loss did not improve from 4.72107\n",
            "349/349 [==============================] - 90s 259ms/step - loss: 3.9672 - accuracy: 0.9903 - val_loss: 5.1814 - val_accuracy: 0.9265\n",
            "Epoch 18/150\n",
            "349/349 [==============================] - ETA: 0s - loss: 3.9692 - accuracy: 0.9878\n",
            "Epoch 00018: val_loss did not improve from 4.72107\n",
            "349/349 [==============================] - 90s 258ms/step - loss: 3.9692 - accuracy: 0.9878 - val_loss: 5.2111 - val_accuracy: 0.9191\n",
            "Epoch 19/150\n",
            "349/349 [==============================] - ETA: 0s - loss: 3.9541 - accuracy: 0.9918\n",
            "Epoch 00019: val_loss did not improve from 4.72107\n",
            "349/349 [==============================] - 90s 258ms/step - loss: 3.9541 - accuracy: 0.9918 - val_loss: 5.3312 - val_accuracy: 0.9338\n",
            "Epoch 20/150\n",
            "349/349 [==============================] - ETA: 0s - loss: 3.9444 - accuracy: 0.9946\n",
            "Epoch 00020: val_loss did not improve from 4.72107\n",
            "349/349 [==============================] - 91s 259ms/step - loss: 3.9444 - accuracy: 0.9946 - val_loss: 5.1155 - val_accuracy: 0.9265\n",
            "Epoch 21/150\n",
            "349/349 [==============================] - ETA: 0s - loss: 3.9391 - accuracy: 0.9932\n",
            "Epoch 00021: val_loss did not improve from 4.72107\n",
            "349/349 [==============================] - 90s 258ms/step - loss: 3.9391 - accuracy: 0.9932 - val_loss: 5.1442 - val_accuracy: 0.9338\n",
            "Epoch 22/150\n",
            "349/349 [==============================] - ETA: 0s - loss: 3.9357 - accuracy: 0.9914\n",
            "Epoch 00022: val_loss did not improve from 4.72107\n",
            "349/349 [==============================] - 90s 257ms/step - loss: 3.9357 - accuracy: 0.9914 - val_loss: 5.0730 - val_accuracy: 0.9338\n",
            "Epoch 23/150\n",
            "349/349 [==============================] - ETA: 0s - loss: 3.9267 - accuracy: 0.9910\n",
            "Epoch 00023: val_loss did not improve from 4.72107\n",
            "349/349 [==============================] - 90s 257ms/step - loss: 3.9267 - accuracy: 0.9910 - val_loss: 5.2556 - val_accuracy: 0.9118\n",
            "Epoch 24/150\n",
            "349/349 [==============================] - ETA: 0s - loss: 3.9243 - accuracy: 0.9932\n",
            "Epoch 00024: val_loss did not improve from 4.72107\n",
            "349/349 [==============================] - 90s 258ms/step - loss: 3.9243 - accuracy: 0.9932 - val_loss: 5.3246 - val_accuracy: 0.9338\n",
            "Epoch 25/150\n",
            "349/349 [==============================] - ETA: 0s - loss: 3.9216 - accuracy: 0.9921\n",
            "Epoch 00025: val_loss did not improve from 4.72107\n",
            "349/349 [==============================] - 89s 256ms/step - loss: 3.9216 - accuracy: 0.9921 - val_loss: 5.3465 - val_accuracy: 0.9338\n",
            "Epoch 26/150\n",
            "349/349 [==============================] - ETA: 0s - loss: 3.9061 - accuracy: 0.9961\n",
            "Epoch 00026: val_loss did not improve from 4.72107\n",
            "349/349 [==============================] - 90s 257ms/step - loss: 3.9061 - accuracy: 0.9961 - val_loss: 5.1180 - val_accuracy: 0.9265\n",
            "Epoch 27/150\n",
            "349/349 [==============================] - ETA: 0s - loss: 3.8936 - accuracy: 0.9975\n",
            "Epoch 00027: val_loss did not improve from 4.72107\n",
            "349/349 [==============================] - 90s 258ms/step - loss: 3.8936 - accuracy: 0.9975 - val_loss: 5.1272 - val_accuracy: 0.9265\n",
            "Epoch 28/150\n",
            "349/349 [==============================] - ETA: 0s - loss: 3.9060 - accuracy: 0.9921\n",
            "Epoch 00028: val_loss did not improve from 4.72107\n",
            "349/349 [==============================] - 90s 257ms/step - loss: 3.9060 - accuracy: 0.9921 - val_loss: 5.0170 - val_accuracy: 0.9265\n",
            "Epoch 29/150\n",
            "349/349 [==============================] - ETA: 0s - loss: 3.9085 - accuracy: 0.9892\n",
            "Epoch 00029: val_loss did not improve from 4.72107\n",
            "349/349 [==============================] - 90s 257ms/step - loss: 3.9085 - accuracy: 0.9892 - val_loss: 5.2875 - val_accuracy: 0.9265\n",
            "Epoch 30/150\n",
            "349/349 [==============================] - ETA: 0s - loss: 3.8959 - accuracy: 0.9896\n",
            "Epoch 00030: val_loss did not improve from 4.72107\n",
            "349/349 [==============================] - 90s 258ms/step - loss: 3.8959 - accuracy: 0.9896 - val_loss: 5.0712 - val_accuracy: 0.9191\n",
            "Epoch 31/150\n",
            "349/349 [==============================] - ETA: 0s - loss: 3.8766 - accuracy: 0.9961\n",
            "Epoch 00031: val_loss did not improve from 4.72107\n",
            "349/349 [==============================] - 90s 257ms/step - loss: 3.8766 - accuracy: 0.9961 - val_loss: 5.0726 - val_accuracy: 0.9265\n",
            "Epoch 32/150\n",
            "349/349 [==============================] - ETA: 0s - loss: 3.8717 - accuracy: 0.9943\n",
            "Epoch 00032: val_loss did not improve from 4.72107\n",
            "349/349 [==============================] - 95s 271ms/step - loss: 3.8717 - accuracy: 0.9943 - val_loss: 5.0436 - val_accuracy: 0.9338\n",
            "Epoch 33/150\n",
            "349/349 [==============================] - ETA: 0s - loss: 3.8643 - accuracy: 0.9953\n",
            "Epoch 00033: val_loss did not improve from 4.72107\n",
            "349/349 [==============================] - 92s 263ms/step - loss: 3.8643 - accuracy: 0.9953 - val_loss: 5.0539 - val_accuracy: 0.9265\n",
            "Epoch 34/150\n",
            "349/349 [==============================] - ETA: 0s - loss: 3.8600 - accuracy: 0.9950\n",
            "Epoch 00034: val_loss did not improve from 4.72107\n",
            "349/349 [==============================] - 91s 260ms/step - loss: 3.8600 - accuracy: 0.9950 - val_loss: 5.0454 - val_accuracy: 0.9338\n",
            "Epoch 35/150\n",
            "349/349 [==============================] - ETA: 0s - loss: 3.8547 - accuracy: 0.9961\n",
            "Epoch 00035: val_loss did not improve from 4.72107\n",
            "349/349 [==============================] - 90s 259ms/step - loss: 3.8547 - accuracy: 0.9961 - val_loss: 5.0953 - val_accuracy: 0.9265\n",
            "Epoch 36/150\n",
            "349/349 [==============================] - ETA: 0s - loss: 3.8475 - accuracy: 0.9957\n",
            "Epoch 00036: val_loss did not improve from 4.72107\n",
            "349/349 [==============================] - 91s 260ms/step - loss: 3.8475 - accuracy: 0.9957 - val_loss: 5.1683 - val_accuracy: 0.9191\n",
            "Epoch 37/150\n",
            "349/349 [==============================] - ETA: 0s - loss: 3.8443 - accuracy: 0.9964\n",
            "Epoch 00037: val_loss did not improve from 4.72107\n",
            "349/349 [==============================] - 91s 261ms/step - loss: 3.8443 - accuracy: 0.9964 - val_loss: 5.2263 - val_accuracy: 0.9191\n",
            "Epoch 38/150\n",
            "349/349 [==============================] - ETA: 0s - loss: 3.8397 - accuracy: 0.9964\n",
            "Epoch 00038: val_loss did not improve from 4.72107\n",
            "349/349 [==============================] - 90s 259ms/step - loss: 3.8397 - accuracy: 0.9964 - val_loss: 5.1865 - val_accuracy: 0.9338\n",
            "Epoch 39/150\n",
            "349/349 [==============================] - ETA: 0s - loss: 3.8373 - accuracy: 0.9935\n",
            "Epoch 00039: val_loss did not improve from 4.72107\n",
            "349/349 [==============================] - 91s 260ms/step - loss: 3.8373 - accuracy: 0.9935 - val_loss: 5.1162 - val_accuracy: 0.9412\n",
            "Epoch 40/150\n",
            "349/349 [==============================] - ETA: 0s - loss: 3.8247 - accuracy: 0.9971\n",
            "Epoch 00040: val_loss did not improve from 4.72107\n",
            "349/349 [==============================] - 90s 259ms/step - loss: 3.8247 - accuracy: 0.9971 - val_loss: 5.1902 - val_accuracy: 0.9412\n",
            "Epoch 41/150\n",
            "349/349 [==============================] - ETA: 0s - loss: 3.8196 - accuracy: 0.9953\n",
            "Epoch 00041: val_loss did not improve from 4.72107\n",
            "349/349 [==============================] - 91s 260ms/step - loss: 3.8196 - accuracy: 0.9953 - val_loss: 5.1633 - val_accuracy: 0.9338\n",
            "Epoch 42/150\n",
            "349/349 [==============================] - ETA: 0s - loss: 3.8141 - accuracy: 0.9968\n",
            "Epoch 00042: val_loss did not improve from 4.72107\n",
            "349/349 [==============================] - 91s 260ms/step - loss: 3.8141 - accuracy: 0.9968 - val_loss: 5.2196 - val_accuracy: 0.9412\n",
            "Epoch 43/150\n",
            "349/349 [==============================] - ETA: 0s - loss: 3.8136 - accuracy: 0.9957\n",
            "Epoch 00043: val_loss did not improve from 4.72107\n",
            "349/349 [==============================] - 91s 260ms/step - loss: 3.8136 - accuracy: 0.9957 - val_loss: 5.3561 - val_accuracy: 0.9412\n",
            "Epoch 44/150\n",
            "349/349 [==============================] - ETA: 0s - loss: 3.8024 - accuracy: 0.9975Restoring model weights from the end of the best epoch.\n",
            "\n",
            "Epoch 00044: val_loss did not improve from 4.72107\n",
            "\n",
            "Epoch 00044: ReduceLROnPlateau reducing learning rate to 0.00020000000949949026.\n",
            "349/349 [==============================] - 91s 262ms/step - loss: 3.8024 - accuracy: 0.9975 - val_loss: 5.2511 - val_accuracy: 0.9412\n",
            "Epoch 00044: early stopping\n"
          ],
          "name": "stdout"
        }
      ]
    },
    {
      "cell_type": "code",
      "metadata": {
        "id": "SZD3o1_jNFdU",
        "colab_type": "code",
        "colab": {
          "base_uri": "https://localhost:8080/",
          "height": 295
        },
        "outputId": "7e37a9e0-1499-4aeb-b65a-ce41f064f2c6"
      },
      "source": [
        "import matplotlib.pyplot as plt\n",
        "plt.plot(hist.history[\"accuracy\"])\n",
        "plt.plot(hist.history['val_accuracy'])\n",
        "plt.title(\"model accuracy\")\n",
        "plt.ylabel(\"Accuracy\")\n",
        "plt.xlabel(\"Epoch\")\n",
        "plt.legend([\"Accuracy\",\"Validation Accuracy\"])\n",
        "plt.show()"
      ],
      "execution_count": null,
      "outputs": [
        {
          "output_type": "display_data",
          "data": {
            "image/png": "[encoded data removed]",
            "text/plain": [
              "<Figure size 432x288 with 1 Axes>"
            ]
          },
          "metadata": {
            "tags": [],
            "needs_background": "light"
          }
        }
      ]
    },
    {
      "cell_type": "code",
      "metadata": {
        "id": "pIX7hNiiNKiC",
        "colab_type": "code",
        "colab": {
          "base_uri": "https://localhost:8080/",
          "height": 295
        },
        "outputId": "feca0d76-2fb3-4d66-effc-5e75f4fde355"
      },
      "source": [
        "plt.plot(hist.history['loss'])\n",
        "plt.plot(hist.history['val_loss'])\n",
        "plt.title(\"model Loss\")\n",
        "plt.ylabel(\"Loss\")\n",
        "plt.xlabel(\"Epoch\")\n",
        "plt.legend([\"Loss\",\"Validation Loss\"])\n",
        "plt.show()"
      ],
      "execution_count": null,
      "outputs": [
        {
          "output_type": "display_data",
          "data": {
            "image/png": "[encoded data removed]",
            "text/plain": [
              "<Figure size 432x288 with 1 Axes>"
            ]
          },
          "metadata": {
            "tags": [],
            "needs_background": "light"
          }
        }
      ]
    },
    {
      "cell_type": "code",
      "metadata": {
        "id": "Ty3i6zFRNMNS",
        "colab_type": "code",
        "colab": {
          "base_uri": "https://localhost:8080/",
          "height": 34
        },
        "outputId": "6b23492c-b8e9-496b-eea5-13fb1cbd730c"
      },
      "source": [
        "Colour_TestData = TestGenerator.flow_from_directory('/content/drive/My Drive/RawFoot_Image/Test/', target_size=(224,224), batch_size = 8, shuffle = False)"
      ],
      "execution_count": null,
      "outputs": [
        {
          "output_type": "stream",
          "text": [
            "Found 204 images belonging to 68 classes.\n"
          ],
          "name": "stdout"
        }
      ]
    },
    {
      "cell_type": "code",
      "metadata": {
        "id": "Nq_iPyotOgaL",
        "colab_type": "code",
        "colab": {}
      },
      "source": [
        "Colour_predict = colour_model.predict(Colour_TestData)"
      ],
      "execution_count": null,
      "outputs": []
    },
    {
      "cell_type": "code",
      "metadata": {
        "id": "TsPBSBl8OndK",
        "colab_type": "code",
        "colab": {}
      },
      "source": [
        "Colour_predict_classes = np.argmax(Colour_predict, axis=1)"
      ],
      "execution_count": null,
      "outputs": []
    },
    {
      "cell_type": "code",
      "metadata": {
        "id": "Rvyl2C1yOqD_",
        "colab_type": "code",
        "colab": {
          "base_uri": "https://localhost:8080/",
          "height": 221
        },
        "outputId": "c34be2fd-df8f-4ea8-e9e3-df62542d43a2"
      },
      "source": [
        "Colour_predict_classes"
      ],
      "execution_count": null,
      "outputs": [
        {
          "output_type": "execute_result",
          "data": {
            "text/plain": [
              "array([ 0,  0,  0,  1,  1,  1,  2, 52, 38,  3,  3,  3,  4,  4,  4,  5,  5,\n",
              "        5,  6,  6,  6,  7,  7,  7,  8,  8,  8,  9,  9,  9, 10, 10, 10, 38,\n",
              "       52, 60, 52, 12, 12, 13, 13, 13, 14, 14, 14, 15, 15, 15, 16, 16, 16,\n",
              "       17, 17, 17, 18, 18, 18, 19, 19, 19, 20, 20, 20, 21, 21, 21, 22, 22,\n",
              "       22, 23, 23, 23, 24, 24, 24, 25, 25, 25, 49, 26, 26, 27, 27, 27, 28,\n",
              "       28, 28, 29, 29, 29, 48, 30, 30, 31, 31, 31, 32, 32, 32, 33, 33, 33,\n",
              "       34, 34, 34, 35, 35, 43, 36, 22, 36, 37, 37, 37, 38, 38, 38, 39, 16,\n",
              "       39, 40, 40, 40, 41, 41, 41, 42, 42, 42, 43, 43, 43, 44, 44, 44, 45,\n",
              "       45, 45, 46, 46, 46, 47, 47, 47, 48, 48, 48, 49, 49, 49, 50, 50, 50,\n",
              "       51, 51, 51, 52, 52, 52, 53, 53, 53, 54, 54, 54, 55, 55, 55, 56, 56,\n",
              "       56, 57, 57, 57, 58, 58, 58, 59, 59, 59, 60, 60, 38, 61, 61, 61, 62,\n",
              "       62, 62, 52, 63, 52, 64, 64, 64,  5, 65, 52, 66, 66, 66, 67, 67, 67])"
            ]
          },
          "metadata": {
            "tags": []
          },
          "execution_count": 54
        }
      ]
    },
    {
      "cell_type": "code",
      "metadata": {
        "id": "meFyvYOrOr9L",
        "colab_type": "code",
        "colab": {
          "base_uri": "https://localhost:8080/",
          "height": 34
        },
        "outputId": "ed4cb43f-633c-4d5d-aada-000803c48272"
      },
      "source": [
        "Colour_accuracy = accuracy_score(Colour_TestData.classes, Colour_predict_classes)\n",
        "print(\"Colour Accuracy: \", Colour_accuracy)"
      ],
      "execution_count": null,
      "outputs": [
        {
          "output_type": "stream",
          "text": [
            "Colour Accuracy:  0.9215686274509803\n"
          ],
          "name": "stdout"
        }
      ]
    },
    {
      "cell_type": "code",
      "metadata": {
        "id": "V-4hFVOkPpsd",
        "colab_type": "code",
        "colab": {
          "base_uri": "https://localhost:8080/",
          "height": 88
        },
        "outputId": "f2473b8e-9f34-4428-b333-7d406eafb0d9"
      },
      "source": [
        "Colour_precision = precision_score(Colour_TestData.classes, Colour_predict_classes,average=\"weighted\")\n",
        "print(\"Colour Precision: \", Colour_precision)"
      ],
      "execution_count": null,
      "outputs": [
        {
          "output_type": "stream",
          "text": [
            "Colour Precision:  0.9411764705882353\n"
          ],
          "name": "stdout"
        },
        {
          "output_type": "stream",
          "text": [
            "/usr/local/lib/python3.6/dist-packages/sklearn/metrics/_classification.py:1272: UndefinedMetricWarning: Precision is ill-defined and being set to 0.0 in labels with no predicted samples. Use `zero_division` parameter to control this behavior.\n",
            "  _warn_prf(average, modifier, msg_start, len(result))\n"
          ],
          "name": "stderr"
        }
      ]
    },
    {
      "cell_type": "code",
      "metadata": {
        "id": "VkgJCVPqPu3t",
        "colab_type": "code",
        "colab": {
          "base_uri": "https://localhost:8080/",
          "height": 34
        },
        "outputId": "84191d8d-09da-44da-9869-c0af656c3de2"
      },
      "source": [
        "Colour_recall = recall_score(Colour_TestData.classes, Colour_predict_classes, average=\"weighted\")\n",
        "print(\"Colour Recall:\", Colour_recall)"
      ],
      "execution_count": null,
      "outputs": [
        {
          "output_type": "stream",
          "text": [
            "Colour Recall: 0.9215686274509803\n"
          ],
          "name": "stdout"
        }
      ]
    },
    {
      "cell_type": "code",
      "metadata": {
        "id": "sGzTOJ5VPydq",
        "colab_type": "code",
        "colab": {
          "base_uri": "https://localhost:8080/",
          "height": 34
        },
        "outputId": "4ec82139-7889-4bc9-ed74-6b42761a5282"
      },
      "source": [
        "Colour_f1_score = f1_score(Colour_TestData.classes, Colour_predict_classes, average=\"weighted\")\n",
        "print(\"F1 score for colour: \", Colour_f1_score)"
      ],
      "execution_count": null,
      "outputs": [
        {
          "output_type": "stream",
          "text": [
            "F1 score for colour:  0.9158263305322129\n"
          ],
          "name": "stdout"
        }
      ]
    },
    {
      "cell_type": "markdown",
      "metadata": {
        "id": "A3QNKcw2P5wD",
        "colab_type": "text"
      },
      "source": [
        "**Emsemble**"
      ]
    },
    {
      "cell_type": "code",
      "metadata": {
        "id": "01-hknWtP-OV",
        "colab_type": "code",
        "colab": {}
      },
      "source": [
        "Final = 0.6* Colour_predict + 0.4* Grey_predict"
      ],
      "execution_count": null,
      "outputs": []
    },
    {
      "cell_type": "code",
      "metadata": {
        "id": "CnzKZmW8QB1Y",
        "colab_type": "code",
        "colab": {}
      },
      "source": [
        "Final_Predict_classes = np.argmax(Final, axis=1)"
      ],
      "execution_count": null,
      "outputs": []
    },
    {
      "cell_type": "code",
      "metadata": {
        "id": "ez9pZ_95QFPT",
        "colab_type": "code",
        "colab": {
          "base_uri": "https://localhost:8080/",
          "height": 221
        },
        "outputId": "d8ce4310-bce6-408a-db6c-a529dd780d52"
      },
      "source": [
        "Final_Predict_classes"
      ],
      "execution_count": null,
      "outputs": [
        {
          "output_type": "execute_result",
          "data": {
            "text/plain": [
              "array([ 0,  0,  0,  1,  1,  1,  2, 52, 52,  3,  3,  3,  4,  4,  4,  5,  5,\n",
              "        5,  6,  6,  6,  7,  7,  7,  8,  8,  8,  9,  9,  9, 10, 10, 10, 38,\n",
              "       52, 52, 52, 12, 12, 13, 13, 13, 14, 14, 14, 15, 15, 15, 16, 16, 16,\n",
              "       17, 17, 17, 18, 18, 18, 19, 19, 19, 20, 20, 20, 21, 21, 21, 22, 22,\n",
              "       22, 23, 23, 23, 24, 24, 24, 25, 25, 25, 26, 26, 26, 27, 27, 27, 28,\n",
              "       28, 28, 29, 29, 29, 30, 30, 30, 31, 31, 31, 32, 32, 32, 33, 33, 33,\n",
              "       34, 34, 34, 35, 65, 43, 36, 52, 36, 37, 37, 37, 38, 38, 38, 39, 16,\n",
              "       39, 40, 40, 40, 41, 41, 41, 42, 42, 42, 43, 43, 43, 44, 44, 44, 45,\n",
              "       45, 45, 46, 46, 46, 51, 47, 47, 48, 48, 48, 49, 49, 49, 50, 50, 50,\n",
              "       51, 51, 51, 52, 52, 52, 53, 53, 53, 54, 54, 54, 55, 55, 55, 56, 56,\n",
              "       56, 57, 57, 57, 58, 58, 58, 59, 59, 59, 60, 60, 38, 61, 61, 61, 62,\n",
              "       62, 62, 52, 63, 52, 64, 64, 64, 52, 65, 52, 66, 66, 66, 67, 67, 67])"
            ]
          },
          "metadata": {
            "tags": []
          },
          "execution_count": 61
        }
      ]
    },
    {
      "cell_type": "code",
      "metadata": {
        "id": "uIIiaLeAQHCz",
        "colab_type": "code",
        "colab": {
          "base_uri": "https://localhost:8080/",
          "height": 34
        },
        "outputId": "067acaf5-4da0-4659-851c-dfbab4a1aa0b"
      },
      "source": [
        "Final_accuracy = accuracy_score(Colour_TestData.classes, Final_Predict_classes)\n",
        "print(\"Colour Accuracy: \", Final_accuracy)"
      ],
      "execution_count": null,
      "outputs": [
        {
          "output_type": "stream",
          "text": [
            "Colour Accuracy:  0.9215686274509803\n"
          ],
          "name": "stdout"
        }
      ]
    },
    {
      "cell_type": "code",
      "metadata": {
        "id": "0xWh0QU4QKfi",
        "colab_type": "code",
        "colab": {
          "base_uri": "https://localhost:8080/",
          "height": 88
        },
        "outputId": "72961c76-cb06-444e-e79b-d3a740624782"
      },
      "source": [
        "Final_precision = precision_score(Colour_TestData.classes, Final_Predict_classes,average=\"weighted\")\n",
        "print(\"Colour Precision: \", Final_precision)"
      ],
      "execution_count": null,
      "outputs": [
        {
          "output_type": "stream",
          "text": [
            "Colour Precision:  0.9497171945701357\n"
          ],
          "name": "stdout"
        },
        {
          "output_type": "stream",
          "text": [
            "/usr/local/lib/python3.6/dist-packages/sklearn/metrics/_classification.py:1272: UndefinedMetricWarning: Precision is ill-defined and being set to 0.0 in labels with no predicted samples. Use `zero_division` parameter to control this behavior.\n",
            "  _warn_prf(average, modifier, msg_start, len(result))\n"
          ],
          "name": "stderr"
        }
      ]
    },
    {
      "cell_type": "code",
      "metadata": {
        "id": "SUe0YMKmQS0f",
        "colab_type": "code",
        "colab": {
          "base_uri": "https://localhost:8080/",
          "height": 34
        },
        "outputId": "ef4dc851-c045-4f9e-9688-d2739718b964"
      },
      "source": [
        "Final_recall = recall_score(Colour_TestData.classes, Final_Predict_classes, average=\"weighted\")\n",
        "print(\"Colour Recall:\", Final_recall)"
      ],
      "execution_count": null,
      "outputs": [
        {
          "output_type": "stream",
          "text": [
            "Colour Recall: 0.9215686274509803\n"
          ],
          "name": "stdout"
        }
      ]
    },
    {
      "cell_type": "code",
      "metadata": {
        "id": "pJraKXWUQVt_",
        "colab_type": "code",
        "colab": {
          "base_uri": "https://localhost:8080/",
          "height": 34
        },
        "outputId": "b9814824-735c-4433-c157-0ecdc3e9c137"
      },
      "source": [
        "Final_f1_score = f1_score(Colour_TestData.classes, Final_Predict_classes, average=\"weighted\")\n",
        "print(\"F1 score for colour: \", Final_f1_score)"
      ],
      "execution_count": null,
      "outputs": [
        {
          "output_type": "stream",
          "text": [
            "F1 score for colour:  0.9205357142857142\n"
          ],
          "name": "stdout"
        }
      ]
    },
    {
      "cell_type": "code",
      "metadata": {
        "id": "0qEgDAK36qj-",
        "colab_type": "code",
        "colab": {}
      },
      "source": [
        "Second_Final = 0.5* Colour_predict + 0.5 * Grey_predict"
      ],
      "execution_count": null,
      "outputs": []
    },
    {
      "cell_type": "code",
      "metadata": {
        "id": "z5J1_SGc63t7",
        "colab_type": "code",
        "colab": {}
      },
      "source": [
        "Second_predict_classes = np.argmax(Second_Final, axis=1)"
      ],
      "execution_count": null,
      "outputs": []
    },
    {
      "cell_type": "code",
      "metadata": {
        "id": "hmdwqtuo7A63",
        "colab_type": "code",
        "colab": {
          "base_uri": "https://localhost:8080/",
          "height": 221
        },
        "outputId": "7006eabc-39c5-4fe7-a2fa-870c7b8815d2"
      },
      "source": [
        "Second_predict_classes"
      ],
      "execution_count": null,
      "outputs": [
        {
          "output_type": "execute_result",
          "data": {
            "text/plain": [
              "array([ 0,  0,  0,  1,  1,  1,  2, 52, 52,  3,  3,  3,  4,  4,  4,  5,  5,\n",
              "        5,  6,  6,  6,  7,  7,  7,  8,  8,  8,  9,  9,  9, 10, 10, 10, 52,\n",
              "       52, 52, 52, 12, 12, 13, 13, 13, 14, 14, 14, 15, 15, 15, 16, 16, 16,\n",
              "       17, 17, 17, 18, 18, 18, 19, 19, 19, 20, 20, 20, 21, 21, 21, 22, 22,\n",
              "       22, 23, 23, 23, 24, 24, 60, 25, 25, 51, 26, 26, 26, 27, 27, 27, 28,\n",
              "       28, 28, 29, 29, 29, 30, 30, 30, 31, 31, 31, 32, 32, 32, 33, 33, 33,\n",
              "       34, 34, 34, 35, 65, 65, 36, 52, 36, 37, 37, 37, 38, 38, 38, 39, 16,\n",
              "       39, 40, 40, 40, 41, 41, 41, 42, 42, 42, 43, 43, 43, 44, 44, 44, 45,\n",
              "       45, 45, 46, 46, 46, 51, 47, 47, 48, 48, 48, 49, 49, 49, 50, 50, 50,\n",
              "       51, 51, 51, 52, 52, 52, 53, 53, 53, 54, 54, 54, 55, 55, 55, 56, 56,\n",
              "       56, 57, 57, 57, 58, 58, 58, 59, 59, 59, 60, 60, 52, 61, 61, 61, 62,\n",
              "       62, 62, 52, 51, 52, 64, 64, 64, 52, 65, 51, 66, 66, 66, 67, 67, 67])"
            ]
          },
          "metadata": {
            "tags": []
          },
          "execution_count": 68
        }
      ]
    },
    {
      "cell_type": "code",
      "metadata": {
        "id": "6hhnNOD07EsP",
        "colab_type": "code",
        "colab": {
          "base_uri": "https://localhost:8080/",
          "height": 34
        },
        "outputId": "ac13e744-fdb4-4957-d818-eb20209c73bb"
      },
      "source": [
        "Second_Final_accuracy = accuracy_score(Colour_TestData.classes, Second_predict_classes)\n",
        "Second_Final_accuracy"
      ],
      "execution_count": null,
      "outputs": [
        {
          "output_type": "execute_result",
          "data": {
            "text/plain": [
              "0.9068627450980392"
            ]
          },
          "metadata": {
            "tags": []
          },
          "execution_count": 69
        }
      ]
    }
  ]
}