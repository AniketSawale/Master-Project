{
  "nbformat": 4,
  "nbformat_minor": 0,
  "metadata": {
    "colab": {
      "name": "Inspectionv3_Rawfoot.ipynb",
      "provenance": [],
      "collapsed_sections": [],
      "machine_shape": "hm"
    },
    "kernelspec": {
      "name": "python3",
      "display_name": "Python 3"
    },
    "accelerator": "GPU"
  },
  "cells": [
    {
      "cell_type": "code",
      "metadata": {
        "id": "gwrnn9RDGRWn",
        "colab_type": "code",
        "colab": {
          "base_uri": "https://localhost:8080/",
          "height": 122
        },
        "outputId": "a69b4538-fb40-43f0-90a4-195d15c41249"
      },
      "source": [
        "from google.colab import drive\n",
        "drive.mount('/content/drive')"
      ],
      "execution_count": null,
      "outputs": [
        {
          "output_type": "stream",
          "text": [
            "Go to this URL in a browser: https://accounts.google.com/o/oauth2/auth?client_id=947318989803-6bn6qk8qdgf4n4g3pfee6491hc0brc4i.apps.googleusercontent.com&redirect_uri=urn%3aietf%3awg%3aoauth%3a2.0%3aoob&scope=email%20https%3a%2f%2fwww.googleapis.com%2fauth%2fdocs.test%20https%3a%2f%2fwww.googleapis.com%2fauth%2fdrive%20https%3a%2f%2fwww.googleapis.com%2fauth%2fdrive.photos.readonly%20https%3a%2f%2fwww.googleapis.com%2fauth%2fpeopleapi.readonly&response_type=code\n",
            "\n",
            "Enter your authorization code:\n",
            "··········\n",
            "Mounted at /content/drive\n"
          ],
          "name": "stdout"
        }
      ]
    },
    {
      "cell_type": "code",
      "metadata": {
        "id": "S1Ru2TIyG8zm",
        "colab_type": "code",
        "colab": {}
      },
      "source": [
        "# Importing the Libraries.\n",
        "import keras\n",
        "import os\n",
        "from keras.models import Sequential\n",
        "from keras.layers import Dense, Conv2D, MaxPool2D, Flatten, Dropout\n",
        "from keras.preprocessing.image import ImageDataGenerator\n",
        "import numpy as np\n",
        "#import keras.backend as K\n",
        "import tensorflow.keras.backend as K\n",
        "import tensorflow.compat.v1 as tf\n",
        "from os import listdir\n",
        "from os.path import isfile, join\n",
        "import numpy as np\n",
        "import sys\n",
        "import os\n",
        "import shutil\n",
        "import pandas as pd\n",
        "from PIL import Image\n",
        "import cv2\n",
        "import keras\n",
        "import glob\n",
        "from PIL import Image\n",
        "from keras.preprocessing.image import img_to_array\n",
        "from sklearn.preprocessing import MultiLabelBinarizer\n",
        "from keras import models, regularizers, layers, optimizers, losses, metrics\n",
        "from keras.applications.resnet50 import ResNet50\n",
        "from keras.preprocessing.image import ImageDataGenerator\n",
        "from keras.models import Sequential\n",
        "from keras.layers import Dense, Dropout, Activation, Flatten, MaxPool2D\n",
        "from keras.layers import Convolution2D, MaxPooling2D, ZeroPadding2D\n",
        "from keras.layers import AveragePooling2D\n",
        "from keras.models import load_model\n",
        "from keras.layers.pooling import GlobalAveragePooling2D\n",
        "from keras.layers.normalization import BatchNormalization\n",
        "from keras.models import Model\n",
        "from keras.optimizers import Adam\n",
        "from keras.callbacks import ModelCheckpoint, EarlyStopping\n",
        "from sklearn.preprocessing import LabelEncoder, OneHotEncoder\n",
        "from PIL import ImageFile\n",
        "\n",
        "tf.enable_eager_execution()"
      ],
      "execution_count": null,
      "outputs": []
    },
    {
      "cell_type": "code",
      "metadata": {
        "id": "H8uThe6GHIz4",
        "colab_type": "code",
        "colab": {}
      },
      "source": [
        "ImageFile.LOAD_TRUNCATED_IMAGES = True"
      ],
      "execution_count": null,
      "outputs": []
    },
    {
      "cell_type": "code",
      "metadata": {
        "id": "6rFm4Cu0HLWH",
        "colab_type": "code",
        "colab": {}
      },
      "source": [
        "# Data Augmentation.\n",
        "DataGenerator = ImageDataGenerator(horizontal_flip=True, vertical_flip=True, rescale=1./255, brightness_range=[0.2,0.7])"
      ],
      "execution_count": null,
      "outputs": []
    },
    {
      "cell_type": "code",
      "metadata": {
        "id": "FkFMyChNHOhL",
        "colab_type": "code",
        "colab": {}
      },
      "source": [
        "TestGenerator = ImageDataGenerator(rescale=1./255)"
      ],
      "execution_count": null,
      "outputs": []
    },
    {
      "cell_type": "code",
      "metadata": {
        "id": "6RosFDArHQjf",
        "colab_type": "code",
        "colab": {
          "base_uri": "https://localhost:8080/",
          "height": 34
        },
        "outputId": "1422b3a0-a668-4c70-8053-9fb1217abaeb"
      },
      "source": [
        "Grey_TrainingData = DataGenerator.flow_from_directory('/content/drive/My Drive/RawFoot_Image/Train/', target_size=(224,224), batch_size=8, color_mode='grayscale')"
      ],
      "execution_count": null,
      "outputs": [
        {
          "output_type": "stream",
          "text": [
            "Found 2788 images belonging to 68 classes.\n"
          ],
          "name": "stdout"
        }
      ]
    },
    {
      "cell_type": "code",
      "metadata": {
        "id": "vbyNJFttHTH8",
        "colab_type": "code",
        "colab": {
          "base_uri": "https://localhost:8080/",
          "height": 34
        },
        "outputId": "824567c6-2525-4ad5-96a1-164975890028"
      },
      "source": [
        "Grey_ValidData = TestGenerator.flow_from_directory('/content/drive/My Drive/RawFoot_Image/Valid/', target_size=(224,224), batch_size=8, color_mode='grayscale')"
      ],
      "execution_count": null,
      "outputs": [
        {
          "output_type": "stream",
          "text": [
            "Found 136 images belonging to 68 classes.\n"
          ],
          "name": "stdout"
        }
      ]
    },
    {
      "cell_type": "code",
      "metadata": {
        "id": "roMORhNzHatK",
        "colab_type": "code",
        "colab": {}
      },
      "source": [
        "gpu_options = tf.GPUOptions(allow_growth=True)\n",
        "session = tf.InteractiveSession(config=tf.ConfigProto(gpu_options=gpu_options))"
      ],
      "execution_count": null,
      "outputs": []
    },
    {
      "cell_type": "code",
      "metadata": {
        "id": "MhjF0A4pHkdh",
        "colab_type": "code",
        "colab": {}
      },
      "source": [
        "from keras.applications.inception_v3 import InceptionV3"
      ],
      "execution_count": null,
      "outputs": []
    },
    {
      "cell_type": "code",
      "metadata": {
        "id": "wWL9JBVbICYY",
        "colab_type": "code",
        "colab": {
          "base_uri": "https://localhost:8080/",
          "height": 51
        },
        "outputId": "80be2c59-a23b-4811-ae56-0df27ac15795"
      },
      "source": [
        "conv_base = InceptionV3(weights = 'imagenet', include_top = False, pooling = 'avg')"
      ],
      "execution_count": null,
      "outputs": [
        {
          "output_type": "stream",
          "text": [
            "Downloading data from https://storage.googleapis.com/tensorflow/keras-applications/inception_v3/inception_v3_weights_tf_dim_ordering_tf_kernels_notop.h5\n",
            "87916544/87910968 [==============================] - 1s 0us/step\n"
          ],
          "name": "stdout"
        }
      ]
    },
    {
      "cell_type": "code",
      "metadata": {
        "id": "0tw3QqY2IFb1",
        "colab_type": "code",
        "colab": {
          "base_uri": "https://localhost:8080/",
          "height": 34
        },
        "outputId": "43b1139d-396b-4cfe-ba01-7622511cc4c5"
      },
      "source": [
        "for layer in conv_base.layers[:299]:\n",
        "  layer.trainable = False\n",
        "for layer in conv_base.layers[299:]:\n",
        "  layer.trainable = True\n",
        "for layer in conv_base.layers:\n",
        "  if isinstance(layer, BatchNormalization):\n",
        "    layer.trainable = True\n",
        "\n",
        "print(\"Done\")"
      ],
      "execution_count": null,
      "outputs": [
        {
          "output_type": "stream",
          "text": [
            "Done\n"
          ],
          "name": "stdout"
        }
      ]
    },
    {
      "cell_type": "code",
      "metadata": {
        "id": "TPqTlCfaIIzT",
        "colab_type": "code",
        "colab": {
          "base_uri": "https://localhost:8080/",
          "height": 1000
        },
        "outputId": "434e73d7-8a89-4539-cea5-d2e75fd06004"
      },
      "source": [
        "for i, layer in enumerate(conv_base.layers):\n",
        "   print(i, layer.name, layer.trainable)"
      ],
      "execution_count": null,
      "outputs": [
        {
          "output_type": "stream",
          "text": [
            "0 input_1 False\n",
            "1 conv2d False\n",
            "2 batch_normalization True\n",
            "3 activation False\n",
            "4 conv2d_1 False\n",
            "5 batch_normalization_1 True\n",
            "6 activation_1 False\n",
            "7 conv2d_2 False\n",
            "8 batch_normalization_2 True\n",
            "9 activation_2 False\n",
            "10 max_pooling2d False\n",
            "11 conv2d_3 False\n",
            "12 batch_normalization_3 True\n",
            "13 activation_3 False\n",
            "14 conv2d_4 False\n",
            "15 batch_normalization_4 True\n",
            "16 activation_4 False\n",
            "17 max_pooling2d_1 False\n",
            "18 conv2d_8 False\n",
            "19 batch_normalization_8 True\n",
            "20 activation_8 False\n",
            "21 conv2d_6 False\n",
            "22 conv2d_9 False\n",
            "23 batch_normalization_6 True\n",
            "24 batch_normalization_9 True\n",
            "25 activation_6 False\n",
            "26 activation_9 False\n",
            "27 average_pooling2d False\n",
            "28 conv2d_5 False\n",
            "29 conv2d_7 False\n",
            "30 conv2d_10 False\n",
            "31 conv2d_11 False\n",
            "32 batch_normalization_5 True\n",
            "33 batch_normalization_7 True\n",
            "34 batch_normalization_10 True\n",
            "35 batch_normalization_11 True\n",
            "36 activation_5 False\n",
            "37 activation_7 False\n",
            "38 activation_10 False\n",
            "39 activation_11 False\n",
            "40 mixed0 False\n",
            "41 conv2d_15 False\n",
            "42 batch_normalization_15 True\n",
            "43 activation_15 False\n",
            "44 conv2d_13 False\n",
            "45 conv2d_16 False\n",
            "46 batch_normalization_13 True\n",
            "47 batch_normalization_16 True\n",
            "48 activation_13 False\n",
            "49 activation_16 False\n",
            "50 average_pooling2d_1 False\n",
            "51 conv2d_12 False\n",
            "52 conv2d_14 False\n",
            "53 conv2d_17 False\n",
            "54 conv2d_18 False\n",
            "55 batch_normalization_12 True\n",
            "56 batch_normalization_14 True\n",
            "57 batch_normalization_17 True\n",
            "58 batch_normalization_18 True\n",
            "59 activation_12 False\n",
            "60 activation_14 False\n",
            "61 activation_17 False\n",
            "62 activation_18 False\n",
            "63 mixed1 False\n",
            "64 conv2d_22 False\n",
            "65 batch_normalization_22 True\n",
            "66 activation_22 False\n",
            "67 conv2d_20 False\n",
            "68 conv2d_23 False\n",
            "69 batch_normalization_20 True\n",
            "70 batch_normalization_23 True\n",
            "71 activation_20 False\n",
            "72 activation_23 False\n",
            "73 average_pooling2d_2 False\n",
            "74 conv2d_19 False\n",
            "75 conv2d_21 False\n",
            "76 conv2d_24 False\n",
            "77 conv2d_25 False\n",
            "78 batch_normalization_19 True\n",
            "79 batch_normalization_21 True\n",
            "80 batch_normalization_24 True\n",
            "81 batch_normalization_25 True\n",
            "82 activation_19 False\n",
            "83 activation_21 False\n",
            "84 activation_24 False\n",
            "85 activation_25 False\n",
            "86 mixed2 False\n",
            "87 conv2d_27 False\n",
            "88 batch_normalization_27 True\n",
            "89 activation_27 False\n",
            "90 conv2d_28 False\n",
            "91 batch_normalization_28 True\n",
            "92 activation_28 False\n",
            "93 conv2d_26 False\n",
            "94 conv2d_29 False\n",
            "95 batch_normalization_26 True\n",
            "96 batch_normalization_29 True\n",
            "97 activation_26 False\n",
            "98 activation_29 False\n",
            "99 max_pooling2d_2 False\n",
            "100 mixed3 False\n",
            "101 conv2d_34 False\n",
            "102 batch_normalization_34 True\n",
            "103 activation_34 False\n",
            "104 conv2d_35 False\n",
            "105 batch_normalization_35 True\n",
            "106 activation_35 False\n",
            "107 conv2d_31 False\n",
            "108 conv2d_36 False\n",
            "109 batch_normalization_31 True\n",
            "110 batch_normalization_36 True\n",
            "111 activation_31 False\n",
            "112 activation_36 False\n",
            "113 conv2d_32 False\n",
            "114 conv2d_37 False\n",
            "115 batch_normalization_32 True\n",
            "116 batch_normalization_37 True\n",
            "117 activation_32 False\n",
            "118 activation_37 False\n",
            "119 average_pooling2d_3 False\n",
            "120 conv2d_30 False\n",
            "121 conv2d_33 False\n",
            "122 conv2d_38 False\n",
            "123 conv2d_39 False\n",
            "124 batch_normalization_30 True\n",
            "125 batch_normalization_33 True\n",
            "126 batch_normalization_38 True\n",
            "127 batch_normalization_39 True\n",
            "128 activation_30 False\n",
            "129 activation_33 False\n",
            "130 activation_38 False\n",
            "131 activation_39 False\n",
            "132 mixed4 False\n",
            "133 conv2d_44 False\n",
            "134 batch_normalization_44 True\n",
            "135 activation_44 False\n",
            "136 conv2d_45 False\n",
            "137 batch_normalization_45 True\n",
            "138 activation_45 False\n",
            "139 conv2d_41 False\n",
            "140 conv2d_46 False\n",
            "141 batch_normalization_41 True\n",
            "142 batch_normalization_46 True\n",
            "143 activation_41 False\n",
            "144 activation_46 False\n",
            "145 conv2d_42 False\n",
            "146 conv2d_47 False\n",
            "147 batch_normalization_42 True\n",
            "148 batch_normalization_47 True\n",
            "149 activation_42 False\n",
            "150 activation_47 False\n",
            "151 average_pooling2d_4 False\n",
            "152 conv2d_40 False\n",
            "153 conv2d_43 False\n",
            "154 conv2d_48 False\n",
            "155 conv2d_49 False\n",
            "156 batch_normalization_40 True\n",
            "157 batch_normalization_43 True\n",
            "158 batch_normalization_48 True\n",
            "159 batch_normalization_49 True\n",
            "160 activation_40 False\n",
            "161 activation_43 False\n",
            "162 activation_48 False\n",
            "163 activation_49 False\n",
            "164 mixed5 False\n",
            "165 conv2d_54 False\n",
            "166 batch_normalization_54 True\n",
            "167 activation_54 False\n",
            "168 conv2d_55 False\n",
            "169 batch_normalization_55 True\n",
            "170 activation_55 False\n",
            "171 conv2d_51 False\n",
            "172 conv2d_56 False\n",
            "173 batch_normalization_51 True\n",
            "174 batch_normalization_56 True\n",
            "175 activation_51 False\n",
            "176 activation_56 False\n",
            "177 conv2d_52 False\n",
            "178 conv2d_57 False\n",
            "179 batch_normalization_52 True\n",
            "180 batch_normalization_57 True\n",
            "181 activation_52 False\n",
            "182 activation_57 False\n",
            "183 average_pooling2d_5 False\n",
            "184 conv2d_50 False\n",
            "185 conv2d_53 False\n",
            "186 conv2d_58 False\n",
            "187 conv2d_59 False\n",
            "188 batch_normalization_50 True\n",
            "189 batch_normalization_53 True\n",
            "190 batch_normalization_58 True\n",
            "191 batch_normalization_59 True\n",
            "192 activation_50 False\n",
            "193 activation_53 False\n",
            "194 activation_58 False\n",
            "195 activation_59 False\n",
            "196 mixed6 False\n",
            "197 conv2d_64 False\n",
            "198 batch_normalization_64 True\n",
            "199 activation_64 False\n",
            "200 conv2d_65 False\n",
            "201 batch_normalization_65 True\n",
            "202 activation_65 False\n",
            "203 conv2d_61 False\n",
            "204 conv2d_66 False\n",
            "205 batch_normalization_61 True\n",
            "206 batch_normalization_66 True\n",
            "207 activation_61 False\n",
            "208 activation_66 False\n",
            "209 conv2d_62 False\n",
            "210 conv2d_67 False\n",
            "211 batch_normalization_62 True\n",
            "212 batch_normalization_67 True\n",
            "213 activation_62 False\n",
            "214 activation_67 False\n",
            "215 average_pooling2d_6 False\n",
            "216 conv2d_60 False\n",
            "217 conv2d_63 False\n",
            "218 conv2d_68 False\n",
            "219 conv2d_69 False\n",
            "220 batch_normalization_60 True\n",
            "221 batch_normalization_63 True\n",
            "222 batch_normalization_68 True\n",
            "223 batch_normalization_69 True\n",
            "224 activation_60 False\n",
            "225 activation_63 False\n",
            "226 activation_68 False\n",
            "227 activation_69 False\n",
            "228 mixed7 False\n",
            "229 conv2d_72 False\n",
            "230 batch_normalization_72 True\n",
            "231 activation_72 False\n",
            "232 conv2d_73 False\n",
            "233 batch_normalization_73 True\n",
            "234 activation_73 False\n",
            "235 conv2d_70 False\n",
            "236 conv2d_74 False\n",
            "237 batch_normalization_70 True\n",
            "238 batch_normalization_74 True\n",
            "239 activation_70 False\n",
            "240 activation_74 False\n",
            "241 conv2d_71 False\n",
            "242 conv2d_75 False\n",
            "243 batch_normalization_71 True\n",
            "244 batch_normalization_75 True\n",
            "245 activation_71 False\n",
            "246 activation_75 False\n",
            "247 max_pooling2d_3 False\n",
            "248 mixed8 False\n",
            "249 conv2d_80 False\n",
            "250 batch_normalization_80 True\n",
            "251 activation_80 False\n",
            "252 conv2d_77 False\n",
            "253 conv2d_81 False\n",
            "254 batch_normalization_77 True\n",
            "255 batch_normalization_81 True\n",
            "256 activation_77 False\n",
            "257 activation_81 False\n",
            "258 conv2d_78 False\n",
            "259 conv2d_79 False\n",
            "260 conv2d_82 False\n",
            "261 conv2d_83 False\n",
            "262 average_pooling2d_7 False\n",
            "263 conv2d_76 False\n",
            "264 batch_normalization_78 True\n",
            "265 batch_normalization_79 True\n",
            "266 batch_normalization_82 True\n",
            "267 batch_normalization_83 True\n",
            "268 conv2d_84 False\n",
            "269 batch_normalization_76 True\n",
            "270 activation_78 False\n",
            "271 activation_79 False\n",
            "272 activation_82 False\n",
            "273 activation_83 False\n",
            "274 batch_normalization_84 True\n",
            "275 activation_76 False\n",
            "276 mixed9_0 False\n",
            "277 concatenate False\n",
            "278 activation_84 False\n",
            "279 mixed9 False\n",
            "280 conv2d_89 False\n",
            "281 batch_normalization_89 True\n",
            "282 activation_89 False\n",
            "283 conv2d_86 False\n",
            "284 conv2d_90 False\n",
            "285 batch_normalization_86 True\n",
            "286 batch_normalization_90 True\n",
            "287 activation_86 False\n",
            "288 activation_90 False\n",
            "289 conv2d_87 False\n",
            "290 conv2d_88 False\n",
            "291 conv2d_91 False\n",
            "292 conv2d_92 False\n",
            "293 average_pooling2d_8 False\n",
            "294 conv2d_85 False\n",
            "295 batch_normalization_87 True\n",
            "296 batch_normalization_88 True\n",
            "297 batch_normalization_91 True\n",
            "298 batch_normalization_92 True\n",
            "299 conv2d_93 True\n",
            "300 batch_normalization_85 True\n",
            "301 activation_87 True\n",
            "302 activation_88 True\n",
            "303 activation_91 True\n",
            "304 activation_92 True\n",
            "305 batch_normalization_93 True\n",
            "306 activation_85 True\n",
            "307 mixed9_1 True\n",
            "308 concatenate_1 True\n",
            "309 activation_93 True\n",
            "310 mixed10 True\n",
            "311 global_average_pooling2d True\n"
          ],
          "name": "stdout"
        }
      ]
    },
    {
      "cell_type": "code",
      "metadata": {
        "id": "LRgJzzTkILvk",
        "colab_type": "code",
        "colab": {}
      },
      "source": [
        "from keras.layers import Input "
      ],
      "execution_count": null,
      "outputs": []
    },
    {
      "cell_type": "code",
      "metadata": {
        "id": "6XwhmneUIOz4",
        "colab_type": "code",
        "colab": {}
      },
      "source": [
        "input_tensor = Input(shape=(224,224,1))\n",
        "x = Conv2D(3,(3,3), padding='same')(input_tensor)"
      ],
      "execution_count": null,
      "outputs": []
    },
    {
      "cell_type": "code",
      "metadata": {
        "id": "im_uZPYCIQ_d",
        "colab_type": "code",
        "colab": {}
      },
      "source": [
        "x = conv_base(x)"
      ],
      "execution_count": null,
      "outputs": []
    },
    {
      "cell_type": "code",
      "metadata": {
        "id": "ATK3uMnWIUdW",
        "colab_type": "code",
        "colab": {}
      },
      "source": [
        "x = Dense(2048, activation='relu', kernel_regularizer= regularizers.l2(0.001))(x)\n",
        "x = Dropout(0.5)(x)"
      ],
      "execution_count": null,
      "outputs": []
    },
    {
      "cell_type": "code",
      "metadata": {
        "id": "ucYVzkNJIWuk",
        "colab_type": "code",
        "colab": {}
      },
      "source": [
        "ouput = Dense(68, activation='softmax')(x)"
      ],
      "execution_count": null,
      "outputs": []
    },
    {
      "cell_type": "code",
      "metadata": {
        "id": "qlek0DDqId2e",
        "colab_type": "code",
        "colab": {}
      },
      "source": [
        "model = Model(inputs = input_tensor, outputs = ouput )"
      ],
      "execution_count": null,
      "outputs": []
    },
    {
      "cell_type": "code",
      "metadata": {
        "id": "c234MRM8IhIy",
        "colab_type": "code",
        "colab": {
          "base_uri": "https://localhost:8080/",
          "height": 357
        },
        "outputId": "bce5d5db-bca0-4ab2-e6d8-f9d75d7e752e"
      },
      "source": [
        "model.summary()"
      ],
      "execution_count": null,
      "outputs": [
        {
          "output_type": "stream",
          "text": [
            "Model: \"model_1\"\n",
            "_________________________________________________________________\n",
            "Layer (type)                 Output Shape              Param #   \n",
            "=================================================================\n",
            "input_2 (InputLayer)         (None, 224, 224, 1)       0         \n",
            "_________________________________________________________________\n",
            "conv2d_95 (Conv2D)           (None, 224, 224, 3)       30        \n",
            "_________________________________________________________________\n",
            "inception_v3 (Model)         (None, 2048)              21802784  \n",
            "_________________________________________________________________\n",
            "dense_1 (Dense)              (None, 2048)              4196352   \n",
            "_________________________________________________________________\n",
            "dropout_1 (Dropout)          (None, 2048)              0         \n",
            "_________________________________________________________________\n",
            "dense_2 (Dense)              (None, 68)                139332    \n",
            "=================================================================\n",
            "Total params: 26,138,498\n",
            "Trainable params: 4,746,146\n",
            "Non-trainable params: 21,392,352\n",
            "_________________________________________________________________\n"
          ],
          "name": "stdout"
        }
      ]
    },
    {
      "cell_type": "code",
      "metadata": {
        "id": "YKHF6ZDtIj7X",
        "colab_type": "code",
        "colab": {}
      },
      "source": [
        "model.compile(loss='categorical_crossentropy',\n",
        "              optimizer=Adam(lr=0.001),\n",
        "              metrics=['accuracy'])"
      ],
      "execution_count": null,
      "outputs": []
    },
    {
      "cell_type": "code",
      "metadata": {
        "id": "QFrUnTWdIm1x",
        "colab_type": "code",
        "colab": {}
      },
      "source": [
        "from keras.callbacks import ModelCheckpoint, EarlyStopping, ReduceLROnPlateau\n",
        "checkpoint = ModelCheckpoint(\"/content/drive/My Drive/RawFoot_Image/RawFoot_Image_GreyScale_Inspectionv3.h5\",\n",
        "                             monitor=\"val_loss\",\n",
        "                             mode=\"min\",\n",
        "                             save_best_only = True,\n",
        "                             verbose=1)\n",
        "\n",
        "earlystop = EarlyStopping(monitor = 'val_loss', \n",
        "                          min_delta = 0, \n",
        "                          patience = 40,\n",
        "                          verbose = 1,\n",
        "                          restore_best_weights = True)\n",
        "\n",
        "reduce_lr = ReduceLROnPlateau(monitor = 'val_loss',\n",
        "                              factor = 0.2,\n",
        "                              patience = 40,\n",
        "                              verbose = 1,\n",
        "                              min_delta = 0.00001)\n",
        "\n",
        "callBacks = [earlystop, checkpoint, reduce_lr]"
      ],
      "execution_count": null,
      "outputs": []
    },
    {
      "cell_type": "code",
      "metadata": {
        "id": "Silp66FDJEvF",
        "colab_type": "code",
        "colab": {
          "base_uri": "https://localhost:8080/",
          "height": 1000
        },
        "outputId": "a566cd7d-88c8-411c-8b50-fc2dbdf4dc10"
      },
      "source": [
        "hist = model.fit_generator(steps_per_epoch=349,generator= Grey_TrainingData, validation_data= Grey_ValidData, validation_steps=17,epochs=150,callbacks=callBacks)"
      ],
      "execution_count": null,
      "outputs": [
        {
          "output_type": "stream",
          "text": [
            "Epoch 1/150\n",
            "349/349 [==============================] - 1132s 3s/step - loss: 4.5416 - accuracy: 0.1905 - val_loss: 3.6293 - val_accuracy: 0.2647\n",
            "\n",
            "Epoch 00001: val_loss improved from inf to 3.62933, saving model to /content/drive/My Drive/RawFoot_Image/RawFoot_Image_GreyScale_Inspectionv3.h5\n",
            "Epoch 2/150\n",
            "349/349 [==============================] - 93s 267ms/step - loss: 2.4127 - accuracy: 0.4523 - val_loss: 8.6400 - val_accuracy: 0.4118\n",
            "\n",
            "Epoch 00002: val_loss did not improve from 3.62933\n",
            "Epoch 3/150\n",
            "349/349 [==============================] - 94s 268ms/step - loss: 1.7486 - accuracy: 0.6155 - val_loss: 0.9556 - val_accuracy: 0.5956\n",
            "\n",
            "Epoch 00003: val_loss improved from 3.62933 to 0.95557, saving model to /content/drive/My Drive/RawFoot_Image/RawFoot_Image_GreyScale_Inspectionv3.h5\n",
            "Epoch 4/150\n",
            "349/349 [==============================] - 95s 271ms/step - loss: 1.4378 - accuracy: 0.6801 - val_loss: 3.0775 - val_accuracy: 0.4779\n",
            "\n",
            "Epoch 00004: val_loss did not improve from 0.95557\n",
            "Epoch 5/150\n",
            "349/349 [==============================] - 95s 272ms/step - loss: 1.2294 - accuracy: 0.7446 - val_loss: 4.5647 - val_accuracy: 0.4853\n",
            "\n",
            "Epoch 00005: val_loss did not improve from 0.95557\n",
            "Epoch 6/150\n",
            "349/349 [==============================] - 95s 271ms/step - loss: 1.1528 - accuracy: 0.7712 - val_loss: 2.6474 - val_accuracy: 0.6250\n",
            "\n",
            "Epoch 00006: val_loss did not improve from 0.95557\n",
            "Epoch 7/150\n",
            "349/349 [==============================] - 95s 272ms/step - loss: 1.0260 - accuracy: 0.8024 - val_loss: 12.5605 - val_accuracy: 0.6985\n",
            "\n",
            "Epoch 00007: val_loss did not improve from 0.95557\n",
            "Epoch 8/150\n",
            "349/349 [==============================] - 95s 271ms/step - loss: 0.9415 - accuracy: 0.8286 - val_loss: 3.5466 - val_accuracy: 0.7279\n",
            "\n",
            "Epoch 00008: val_loss did not improve from 0.95557\n",
            "Epoch 9/150\n",
            "349/349 [==============================] - 96s 274ms/step - loss: 0.9197 - accuracy: 0.8321 - val_loss: 9.0149 - val_accuracy: 0.6838\n",
            "\n",
            "Epoch 00009: val_loss did not improve from 0.95557\n",
            "Epoch 10/150\n",
            "349/349 [==============================] - 94s 270ms/step - loss: 0.8361 - accuracy: 0.8630 - val_loss: 10.9075 - val_accuracy: 0.6985\n",
            "\n",
            "Epoch 00010: val_loss did not improve from 0.95557\n",
            "Epoch 11/150\n",
            "349/349 [==============================] - 93s 267ms/step - loss: 0.8056 - accuracy: 0.8698 - val_loss: 12.7279 - val_accuracy: 0.7647\n",
            "\n",
            "Epoch 00011: val_loss did not improve from 0.95557\n",
            "Epoch 12/150\n",
            "349/349 [==============================] - 93s 267ms/step - loss: 0.7685 - accuracy: 0.8702 - val_loss: 12.9211 - val_accuracy: 0.6838\n",
            "\n",
            "Epoch 00012: val_loss did not improve from 0.95557\n",
            "Epoch 13/150\n",
            "349/349 [==============================] - 94s 270ms/step - loss: 0.7424 - accuracy: 0.8716 - val_loss: 14.6273 - val_accuracy: 0.7353\n",
            "\n",
            "Epoch 00013: val_loss did not improve from 0.95557\n",
            "Epoch 14/150\n",
            "349/349 [==============================] - 96s 275ms/step - loss: 0.6996 - accuracy: 0.8899 - val_loss: 0.9344 - val_accuracy: 0.7574\n",
            "\n",
            "Epoch 00014: val_loss improved from 0.95557 to 0.93439, saving model to /content/drive/My Drive/RawFoot_Image/RawFoot_Image_GreyScale_Inspectionv3.h5\n",
            "Epoch 15/150\n",
            "349/349 [==============================] - 93s 266ms/step - loss: 0.6668 - accuracy: 0.8845 - val_loss: 3.3803 - val_accuracy: 0.7500\n",
            "\n",
            "Epoch 00015: val_loss did not improve from 0.93439\n",
            "Epoch 16/150\n",
            "349/349 [==============================] - 93s 267ms/step - loss: 0.6226 - accuracy: 0.9110 - val_loss: 7.8243 - val_accuracy: 0.7426\n",
            "\n",
            "Epoch 00016: val_loss did not improve from 0.93439\n",
            "Epoch 17/150\n",
            "349/349 [==============================] - 93s 268ms/step - loss: 0.5975 - accuracy: 0.9186 - val_loss: 1.2033 - val_accuracy: 0.7794\n",
            "\n",
            "Epoch 00017: val_loss did not improve from 0.93439\n",
            "Epoch 18/150\n",
            "349/349 [==============================] - 92s 265ms/step - loss: 0.6111 - accuracy: 0.9071 - val_loss: 3.4345 - val_accuracy: 0.7206\n",
            "\n",
            "Epoch 00018: val_loss did not improve from 0.93439\n",
            "Epoch 19/150\n",
            "349/349 [==============================] - 92s 265ms/step - loss: 0.5614 - accuracy: 0.9207 - val_loss: 3.3244 - val_accuracy: 0.7794\n",
            "\n",
            "Epoch 00019: val_loss did not improve from 0.93439\n",
            "Epoch 20/150\n",
            "349/349 [==============================] - 93s 266ms/step - loss: 0.5159 - accuracy: 0.9272 - val_loss: 0.3168 - val_accuracy: 0.8235\n",
            "\n",
            "Epoch 00020: val_loss improved from 0.93439 to 0.31681, saving model to /content/drive/My Drive/RawFoot_Image/RawFoot_Image_GreyScale_Inspectionv3.h5\n",
            "Epoch 21/150\n",
            "349/349 [==============================] - 91s 261ms/step - loss: 0.5360 - accuracy: 0.9247 - val_loss: 5.0619 - val_accuracy: 0.7868\n",
            "\n",
            "Epoch 00021: val_loss did not improve from 0.31681\n",
            "Epoch 22/150\n",
            "349/349 [==============================] - 91s 261ms/step - loss: 0.5366 - accuracy: 0.9189 - val_loss: 3.5628 - val_accuracy: 0.7868\n",
            "\n",
            "Epoch 00022: val_loss did not improve from 0.31681\n",
            "Epoch 23/150\n",
            "349/349 [==============================] - 92s 262ms/step - loss: 0.5321 - accuracy: 0.9225 - val_loss: 0.2968 - val_accuracy: 0.7721\n",
            "\n",
            "Epoch 00023: val_loss improved from 0.31681 to 0.29679, saving model to /content/drive/My Drive/RawFoot_Image/RawFoot_Image_GreyScale_Inspectionv3.h5\n",
            "Epoch 24/150\n",
            "349/349 [==============================] - 91s 260ms/step - loss: 0.4833 - accuracy: 0.9301 - val_loss: 5.0042 - val_accuracy: 0.7794\n",
            "\n",
            "Epoch 00024: val_loss did not improve from 0.29679\n",
            "Epoch 25/150\n",
            "349/349 [==============================] - 91s 260ms/step - loss: 0.4425 - accuracy: 0.9415 - val_loss: 6.5461 - val_accuracy: 0.7426\n",
            "\n",
            "Epoch 00025: val_loss did not improve from 0.29679\n",
            "Epoch 26/150\n",
            "349/349 [==============================] - 91s 260ms/step - loss: 0.4277 - accuracy: 0.9401 - val_loss: 0.2592 - val_accuracy: 0.7794\n",
            "\n",
            "Epoch 00026: val_loss improved from 0.29679 to 0.25915, saving model to /content/drive/My Drive/RawFoot_Image/RawFoot_Image_GreyScale_Inspectionv3.h5\n",
            "Epoch 27/150\n",
            "349/349 [==============================] - 91s 260ms/step - loss: 0.4292 - accuracy: 0.9405 - val_loss: 1.6506 - val_accuracy: 0.7574\n",
            "\n",
            "Epoch 00027: val_loss did not improve from 0.25915\n",
            "Epoch 28/150\n",
            "349/349 [==============================] - 90s 257ms/step - loss: 0.4007 - accuracy: 0.9444 - val_loss: 1.3685 - val_accuracy: 0.8088\n",
            "\n",
            "Epoch 00028: val_loss did not improve from 0.25915\n",
            "Epoch 29/150\n",
            "349/349 [==============================] - 89s 256ms/step - loss: 0.4214 - accuracy: 0.9383 - val_loss: 4.7169 - val_accuracy: 0.7941\n",
            "\n",
            "Epoch 00029: val_loss did not improve from 0.25915\n",
            "Epoch 30/150\n",
            "349/349 [==============================] - 90s 257ms/step - loss: 0.3851 - accuracy: 0.9494 - val_loss: 5.9409 - val_accuracy: 0.8088\n",
            "\n",
            "Epoch 00030: val_loss did not improve from 0.25915\n",
            "Epoch 31/150\n",
            "349/349 [==============================] - 90s 258ms/step - loss: 0.3609 - accuracy: 0.9566 - val_loss: 2.1219 - val_accuracy: 0.7868\n",
            "\n",
            "Epoch 00031: val_loss did not improve from 0.25915\n",
            "Epoch 32/150\n",
            "349/349 [==============================] - 89s 256ms/step - loss: 0.3866 - accuracy: 0.9440 - val_loss: 10.2444 - val_accuracy: 0.7794\n",
            "\n",
            "Epoch 00032: val_loss did not improve from 0.25915\n",
            "Epoch 33/150\n",
            "349/349 [==============================] - 87s 251ms/step - loss: 0.3498 - accuracy: 0.9516 - val_loss: 0.9138 - val_accuracy: 0.8382\n",
            "\n",
            "Epoch 00033: val_loss did not improve from 0.25915\n",
            "Epoch 34/150\n",
            "349/349 [==============================] - 88s 252ms/step - loss: 0.3476 - accuracy: 0.9541 - val_loss: 3.9016 - val_accuracy: 0.7941\n",
            "\n",
            "Epoch 00034: val_loss did not improve from 0.25915\n",
            "Epoch 35/150\n",
            "349/349 [==============================] - 87s 250ms/step - loss: 0.3288 - accuracy: 0.9537 - val_loss: 0.5239 - val_accuracy: 0.8088\n",
            "\n",
            "Epoch 00035: val_loss did not improve from 0.25915\n",
            "Epoch 36/150\n",
            "349/349 [==============================] - 87s 250ms/step - loss: 0.3385 - accuracy: 0.9541 - val_loss: 4.6635 - val_accuracy: 0.7868\n",
            "\n",
            "Epoch 00036: val_loss did not improve from 0.25915\n",
            "Epoch 37/150\n",
            "349/349 [==============================] - 87s 250ms/step - loss: 0.2909 - accuracy: 0.9659 - val_loss: 0.1887 - val_accuracy: 0.8015\n",
            "\n",
            "Epoch 00037: val_loss improved from 0.25915 to 0.18867, saving model to /content/drive/My Drive/RawFoot_Image/RawFoot_Image_GreyScale_Inspectionv3.h5\n",
            "Epoch 38/150\n",
            "349/349 [==============================] - 87s 249ms/step - loss: 0.3034 - accuracy: 0.9605 - val_loss: 1.9480 - val_accuracy: 0.8162\n",
            "\n",
            "Epoch 00038: val_loss did not improve from 0.18867\n",
            "Epoch 39/150\n",
            "349/349 [==============================] - 87s 248ms/step - loss: 0.3011 - accuracy: 0.9598 - val_loss: 0.2336 - val_accuracy: 0.8162\n",
            "\n",
            "Epoch 00039: val_loss did not improve from 0.18867\n",
            "Epoch 40/150\n",
            "349/349 [==============================] - 87s 249ms/step - loss: 0.2956 - accuracy: 0.9609 - val_loss: 1.2718 - val_accuracy: 0.8088\n",
            "\n",
            "Epoch 00040: val_loss did not improve from 0.18867\n",
            "Epoch 41/150\n",
            "349/349 [==============================] - 86s 247ms/step - loss: 0.3047 - accuracy: 0.9602 - val_loss: 11.0583 - val_accuracy: 0.8456\n",
            "\n",
            "Epoch 00041: val_loss did not improve from 0.18867\n",
            "Epoch 42/150\n",
            "349/349 [==============================] - 87s 249ms/step - loss: 0.2585 - accuracy: 0.9756 - val_loss: 10.8526 - val_accuracy: 0.8382\n",
            "\n",
            "Epoch 00042: val_loss did not improve from 0.18867\n",
            "Epoch 43/150\n",
            "349/349 [==============================] - 87s 250ms/step - loss: 0.3006 - accuracy: 0.9573 - val_loss: 13.3370 - val_accuracy: 0.7500\n",
            "\n",
            "Epoch 00043: val_loss did not improve from 0.18867\n",
            "Epoch 44/150\n",
            "349/349 [==============================] - 87s 248ms/step - loss: 0.2636 - accuracy: 0.9695 - val_loss: 14.4130 - val_accuracy: 0.8382\n",
            "\n",
            "Epoch 00044: val_loss did not improve from 0.18867\n",
            "Epoch 45/150\n",
            "349/349 [==============================] - 87s 249ms/step - loss: 0.2773 - accuracy: 0.9688 - val_loss: 11.0138 - val_accuracy: 0.8309\n",
            "\n",
            "Epoch 00045: val_loss did not improve from 0.18867\n",
            "Epoch 46/150\n",
            "349/349 [==============================] - 87s 248ms/step - loss: 0.2950 - accuracy: 0.9598 - val_loss: 3.2211 - val_accuracy: 0.7721\n",
            "\n",
            "Epoch 00046: val_loss did not improve from 0.18867\n",
            "Epoch 47/150\n",
            "349/349 [==============================] - 87s 249ms/step - loss: 0.2603 - accuracy: 0.9709 - val_loss: 1.2100 - val_accuracy: 0.8309\n",
            "\n",
            "Epoch 00047: val_loss did not improve from 0.18867\n",
            "Epoch 48/150\n",
            "349/349 [==============================] - 87s 248ms/step - loss: 0.2520 - accuracy: 0.9713 - val_loss: 8.3685 - val_accuracy: 0.8382\n",
            "\n",
            "Epoch 00048: val_loss did not improve from 0.18867\n",
            "Epoch 49/150\n",
            "349/349 [==============================] - 86s 247ms/step - loss: 0.2578 - accuracy: 0.9681 - val_loss: 5.1988 - val_accuracy: 0.8235\n",
            "\n",
            "Epoch 00049: val_loss did not improve from 0.18867\n",
            "Epoch 50/150\n",
            "349/349 [==============================] - 86s 247ms/step - loss: 0.2371 - accuracy: 0.9724 - val_loss: 4.6389 - val_accuracy: 0.8382\n",
            "\n",
            "Epoch 00050: val_loss did not improve from 0.18867\n",
            "Epoch 51/150\n",
            "349/349 [==============================] - 86s 247ms/step - loss: 0.2743 - accuracy: 0.9620 - val_loss: 7.2637 - val_accuracy: 0.8015\n",
            "\n",
            "Epoch 00051: val_loss did not improve from 0.18867\n",
            "Epoch 52/150\n",
            "349/349 [==============================] - 86s 248ms/step - loss: 0.2604 - accuracy: 0.9699 - val_loss: 0.1482 - val_accuracy: 0.8309\n",
            "\n",
            "Epoch 00052: val_loss improved from 0.18867 to 0.14824, saving model to /content/drive/My Drive/RawFoot_Image/RawFoot_Image_GreyScale_Inspectionv3.h5\n",
            "Epoch 53/150\n",
            "349/349 [==============================] - 87s 248ms/step - loss: 0.2497 - accuracy: 0.9713 - val_loss: 1.6366 - val_accuracy: 0.8456\n",
            "\n",
            "Epoch 00053: val_loss did not improve from 0.14824\n",
            "Epoch 54/150\n",
            "349/349 [==============================] - 87s 249ms/step - loss: 0.2397 - accuracy: 0.9702 - val_loss: 0.4158 - val_accuracy: 0.8162\n",
            "\n",
            "Epoch 00054: val_loss did not improve from 0.14824\n",
            "Epoch 55/150\n",
            "349/349 [==============================] - 87s 248ms/step - loss: 0.2290 - accuracy: 0.9724 - val_loss: 1.4186 - val_accuracy: 0.8382\n",
            "\n",
            "Epoch 00055: val_loss did not improve from 0.14824\n",
            "Epoch 56/150\n",
            "349/349 [==============================] - 87s 249ms/step - loss: 0.2082 - accuracy: 0.9803 - val_loss: 2.4741 - val_accuracy: 0.8088\n",
            "\n",
            "Epoch 00056: val_loss did not improve from 0.14824\n",
            "Epoch 57/150\n",
            "349/349 [==============================] - 87s 248ms/step - loss: 0.2354 - accuracy: 0.9652 - val_loss: 1.7283 - val_accuracy: 0.8456\n",
            "\n",
            "Epoch 00057: val_loss did not improve from 0.14824\n",
            "Epoch 58/150\n",
            "349/349 [==============================] - 87s 248ms/step - loss: 0.2240 - accuracy: 0.9713 - val_loss: 2.9754 - val_accuracy: 0.8015\n",
            "\n",
            "Epoch 00058: val_loss did not improve from 0.14824\n",
            "Epoch 59/150\n",
            "349/349 [==============================] - 87s 249ms/step - loss: 0.2449 - accuracy: 0.9648 - val_loss: 17.4177 - val_accuracy: 0.8235\n",
            "\n",
            "Epoch 00059: val_loss did not improve from 0.14824\n",
            "Epoch 60/150\n",
            "349/349 [==============================] - 87s 248ms/step - loss: 0.2414 - accuracy: 0.9684 - val_loss: 15.5539 - val_accuracy: 0.8309\n",
            "\n",
            "Epoch 00060: val_loss did not improve from 0.14824\n",
            "Epoch 61/150\n",
            "349/349 [==============================] - 87s 249ms/step - loss: 0.2087 - accuracy: 0.9763 - val_loss: 1.5459 - val_accuracy: 0.8309\n",
            "\n",
            "Epoch 00061: val_loss did not improve from 0.14824\n",
            "Epoch 62/150\n",
            "349/349 [==============================] - 87s 248ms/step - loss: 0.1798 - accuracy: 0.9813 - val_loss: 7.0824 - val_accuracy: 0.8235\n",
            "\n",
            "Epoch 00062: val_loss did not improve from 0.14824\n",
            "Epoch 63/150\n",
            "349/349 [==============================] - 87s 250ms/step - loss: 0.2137 - accuracy: 0.9717 - val_loss: 4.4946 - val_accuracy: 0.8309\n",
            "\n",
            "Epoch 00063: val_loss did not improve from 0.14824\n",
            "Epoch 64/150\n",
            "349/349 [==============================] - 87s 249ms/step - loss: 0.2106 - accuracy: 0.9724 - val_loss: 17.9229 - val_accuracy: 0.8088\n",
            "\n",
            "Epoch 00064: val_loss did not improve from 0.14824\n",
            "Epoch 65/150\n",
            "349/349 [==============================] - 87s 249ms/step - loss: 0.2253 - accuracy: 0.9720 - val_loss: 15.2742 - val_accuracy: 0.8529\n",
            "\n",
            "Epoch 00065: val_loss did not improve from 0.14824\n",
            "Epoch 66/150\n",
            "349/349 [==============================] - 87s 250ms/step - loss: 0.2259 - accuracy: 0.9727 - val_loss: 0.1302 - val_accuracy: 0.8382\n",
            "\n",
            "Epoch 00066: val_loss improved from 0.14824 to 0.13024, saving model to /content/drive/My Drive/RawFoot_Image/RawFoot_Image_GreyScale_Inspectionv3.h5\n",
            "Epoch 67/150\n",
            "349/349 [==============================] - 86s 248ms/step - loss: 0.2261 - accuracy: 0.9742 - val_loss: 5.1217 - val_accuracy: 0.8382\n",
            "\n",
            "Epoch 00067: val_loss did not improve from 0.13024\n",
            "Epoch 68/150\n",
            "349/349 [==============================] - 87s 249ms/step - loss: 0.2003 - accuracy: 0.9778 - val_loss: 1.8905 - val_accuracy: 0.8456\n",
            "\n",
            "Epoch 00068: val_loss did not improve from 0.13024\n",
            "Epoch 69/150\n",
            "349/349 [==============================] - 89s 256ms/step - loss: 0.1986 - accuracy: 0.9767 - val_loss: 1.5894 - val_accuracy: 0.8456\n",
            "\n",
            "Epoch 00069: val_loss did not improve from 0.13024\n",
            "Epoch 70/150\n",
            "349/349 [==============================] - 88s 251ms/step - loss: 0.2159 - accuracy: 0.9742 - val_loss: 2.3220 - val_accuracy: 0.8235\n",
            "\n",
            "Epoch 00070: val_loss did not improve from 0.13024\n",
            "Epoch 71/150\n",
            "349/349 [==============================] - 86s 248ms/step - loss: 0.2068 - accuracy: 0.9745 - val_loss: 2.0158 - val_accuracy: 0.8162\n",
            "\n",
            "Epoch 00071: val_loss did not improve from 0.13024\n",
            "Epoch 72/150\n",
            "349/349 [==============================] - 87s 249ms/step - loss: 0.2100 - accuracy: 0.9731 - val_loss: 0.1832 - val_accuracy: 0.8456\n",
            "\n",
            "Epoch 00072: val_loss did not improve from 0.13024\n",
            "Epoch 73/150\n",
            "349/349 [==============================] - 87s 249ms/step - loss: 0.1974 - accuracy: 0.9778 - val_loss: 1.1618 - val_accuracy: 0.8235\n",
            "\n",
            "Epoch 00073: val_loss did not improve from 0.13024\n",
            "Epoch 74/150\n",
            "349/349 [==============================] - 87s 248ms/step - loss: 0.1553 - accuracy: 0.9864 - val_loss: 0.5028 - val_accuracy: 0.8456\n",
            "\n",
            "Epoch 00074: val_loss did not improve from 0.13024\n",
            "Epoch 75/150\n",
            "349/349 [==============================] - 87s 248ms/step - loss: 0.1868 - accuracy: 0.9778 - val_loss: 5.6257 - val_accuracy: 0.8382\n",
            "\n",
            "Epoch 00075: val_loss did not improve from 0.13024\n",
            "Epoch 76/150\n",
            "349/349 [==============================] - 87s 248ms/step - loss: 0.1852 - accuracy: 0.9788 - val_loss: 0.1104 - val_accuracy: 0.8309\n",
            "\n",
            "Epoch 00076: val_loss improved from 0.13024 to 0.11037, saving model to /content/drive/My Drive/RawFoot_Image/RawFoot_Image_GreyScale_Inspectionv3.h5\n",
            "Epoch 77/150\n",
            "349/349 [==============================] - 87s 249ms/step - loss: 0.1675 - accuracy: 0.9835 - val_loss: 2.8595 - val_accuracy: 0.8162\n",
            "\n",
            "Epoch 00077: val_loss did not improve from 0.11037\n",
            "Epoch 78/150\n",
            "349/349 [==============================] - 87s 249ms/step - loss: 0.1896 - accuracy: 0.9770 - val_loss: 4.8466 - val_accuracy: 0.8529\n",
            "\n",
            "Epoch 00078: val_loss did not improve from 0.11037\n",
            "Epoch 79/150\n",
            "349/349 [==============================] - 87s 249ms/step - loss: 0.2122 - accuracy: 0.9681 - val_loss: 0.1564 - val_accuracy: 0.8529\n",
            "\n",
            "Epoch 00079: val_loss did not improve from 0.11037\n",
            "Epoch 80/150\n",
            "349/349 [==============================] - 87s 248ms/step - loss: 0.1836 - accuracy: 0.9770 - val_loss: 4.8219 - val_accuracy: 0.8309\n",
            "\n",
            "Epoch 00080: val_loss did not improve from 0.11037\n",
            "Epoch 81/150\n",
            "349/349 [==============================] - 87s 250ms/step - loss: 0.2208 - accuracy: 0.9695 - val_loss: 6.6121 - val_accuracy: 0.8235\n",
            "\n",
            "Epoch 00081: val_loss did not improve from 0.11037\n",
            "Epoch 82/150\n",
            "349/349 [==============================] - 87s 248ms/step - loss: 0.1711 - accuracy: 0.9842 - val_loss: 0.1356 - val_accuracy: 0.8603\n",
            "\n",
            "Epoch 00082: val_loss did not improve from 0.11037\n",
            "Epoch 83/150\n",
            "349/349 [==============================] - 86s 248ms/step - loss: 0.1845 - accuracy: 0.9803 - val_loss: 0.7237 - val_accuracy: 0.8382\n",
            "\n",
            "Epoch 00083: val_loss did not improve from 0.11037\n",
            "Epoch 84/150\n",
            "349/349 [==============================] - 87s 249ms/step - loss: 0.2107 - accuracy: 0.9713 - val_loss: 1.0583 - val_accuracy: 0.8235\n",
            "\n",
            "Epoch 00084: val_loss did not improve from 0.11037\n",
            "Epoch 85/150\n",
            "349/349 [==============================] - 86s 248ms/step - loss: 0.1583 - accuracy: 0.9853 - val_loss: 16.5586 - val_accuracy: 0.8603\n",
            "\n",
            "Epoch 00085: val_loss did not improve from 0.11037\n",
            "Epoch 86/150\n",
            "349/349 [==============================] - 86s 248ms/step - loss: 0.1589 - accuracy: 0.9842 - val_loss: 3.5482 - val_accuracy: 0.8603\n",
            "\n",
            "Epoch 00086: val_loss did not improve from 0.11037\n",
            "Epoch 87/150\n",
            "349/349 [==============================] - 87s 248ms/step - loss: 0.1690 - accuracy: 0.9796 - val_loss: 0.1049 - val_accuracy: 0.8750\n",
            "\n",
            "Epoch 00087: val_loss improved from 0.11037 to 0.10490, saving model to /content/drive/My Drive/RawFoot_Image/RawFoot_Image_GreyScale_Inspectionv3.h5\n",
            "Epoch 88/150\n",
            "349/349 [==============================] - 87s 249ms/step - loss: 0.1648 - accuracy: 0.9810 - val_loss: 7.1120 - val_accuracy: 0.8676\n",
            "\n",
            "Epoch 00088: val_loss did not improve from 0.10490\n",
            "Epoch 89/150\n",
            "349/349 [==============================] - 87s 249ms/step - loss: 0.1655 - accuracy: 0.9817 - val_loss: 3.6247 - val_accuracy: 0.8529\n",
            "\n",
            "Epoch 00089: val_loss did not improve from 0.10490\n",
            "Epoch 90/150\n",
            "349/349 [==============================] - 87s 249ms/step - loss: 0.1551 - accuracy: 0.9864 - val_loss: 2.7125 - val_accuracy: 0.8088\n",
            "\n",
            "Epoch 00090: val_loss did not improve from 0.10490\n",
            "Epoch 91/150\n",
            "349/349 [==============================] - 88s 251ms/step - loss: 0.1713 - accuracy: 0.9824 - val_loss: 1.6019 - val_accuracy: 0.8382\n",
            "\n",
            "Epoch 00091: val_loss did not improve from 0.10490\n",
            "Epoch 92/150\n",
            "349/349 [==============================] - 87s 250ms/step - loss: 0.1542 - accuracy: 0.9835 - val_loss: 0.1045 - val_accuracy: 0.8088\n",
            "\n",
            "Epoch 00092: val_loss improved from 0.10490 to 0.10448, saving model to /content/drive/My Drive/RawFoot_Image/RawFoot_Image_GreyScale_Inspectionv3.h5\n",
            "Epoch 93/150\n",
            "349/349 [==============================] - 89s 254ms/step - loss: 0.1907 - accuracy: 0.9742 - val_loss: 3.0275 - val_accuracy: 0.8603\n",
            "\n",
            "Epoch 00093: val_loss did not improve from 0.10448\n",
            "Epoch 94/150\n",
            "349/349 [==============================] - 87s 249ms/step - loss: 0.1536 - accuracy: 0.9813 - val_loss: 9.3519 - val_accuracy: 0.8529\n",
            "\n",
            "Epoch 00094: val_loss did not improve from 0.10448\n",
            "Epoch 95/150\n",
            "349/349 [==============================] - 87s 251ms/step - loss: 0.1812 - accuracy: 0.9767 - val_loss: 0.1243 - val_accuracy: 0.8529\n",
            "\n",
            "Epoch 00095: val_loss did not improve from 0.10448\n",
            "Epoch 96/150\n",
            "349/349 [==============================] - 89s 255ms/step - loss: 0.1721 - accuracy: 0.9813 - val_loss: 10.8232 - val_accuracy: 0.8456\n",
            "\n",
            "Epoch 00096: val_loss did not improve from 0.10448\n",
            "Epoch 97/150\n",
            "349/349 [==============================] - 92s 263ms/step - loss: 0.1633 - accuracy: 0.9806 - val_loss: 1.6397 - val_accuracy: 0.8529\n",
            "\n",
            "Epoch 00097: val_loss did not improve from 0.10448\n",
            "Epoch 98/150\n",
            "349/349 [==============================] - 91s 261ms/step - loss: 0.1896 - accuracy: 0.9770 - val_loss: 0.5628 - val_accuracy: 0.8456\n",
            "\n",
            "Epoch 00098: val_loss did not improve from 0.10448\n",
            "Epoch 99/150\n",
            "349/349 [==============================] - 88s 252ms/step - loss: 0.1642 - accuracy: 0.9835 - val_loss: 0.1017 - val_accuracy: 0.8456\n",
            "\n",
            "Epoch 00099: val_loss improved from 0.10448 to 0.10173, saving model to /content/drive/My Drive/RawFoot_Image/RawFoot_Image_GreyScale_Inspectionv3.h5\n",
            "Epoch 100/150\n",
            "349/349 [==============================] - 87s 250ms/step - loss: 0.1589 - accuracy: 0.9860 - val_loss: 0.0994 - val_accuracy: 0.8529\n",
            "\n",
            "Epoch 00100: val_loss improved from 0.10173 to 0.09942, saving model to /content/drive/My Drive/RawFoot_Image/RawFoot_Image_GreyScale_Inspectionv3.h5\n",
            "Epoch 101/150\n",
            "349/349 [==============================] - 87s 248ms/step - loss: 0.1508 - accuracy: 0.9860 - val_loss: 0.4474 - val_accuracy: 0.8529\n",
            "\n",
            "Epoch 00101: val_loss did not improve from 0.09942\n",
            "Epoch 102/150\n",
            "349/349 [==============================] - 87s 249ms/step - loss: 0.1558 - accuracy: 0.9821 - val_loss: 2.1193 - val_accuracy: 0.8456\n",
            "\n",
            "Epoch 00102: val_loss did not improve from 0.09942\n",
            "Epoch 103/150\n",
            "349/349 [==============================] - 87s 248ms/step - loss: 0.1726 - accuracy: 0.9803 - val_loss: 0.1292 - val_accuracy: 0.8603\n",
            "\n",
            "Epoch 00103: val_loss did not improve from 0.09942\n",
            "Epoch 104/150\n",
            "349/349 [==============================] - 89s 255ms/step - loss: 0.1604 - accuracy: 0.9828 - val_loss: 0.3085 - val_accuracy: 0.8603\n",
            "\n",
            "Epoch 00104: val_loss did not improve from 0.09942\n",
            "Epoch 105/150\n",
            "349/349 [==============================] - 89s 256ms/step - loss: 0.1533 - accuracy: 0.9857 - val_loss: 5.7391 - val_accuracy: 0.8382\n",
            "\n",
            "Epoch 00105: val_loss did not improve from 0.09942\n",
            "Epoch 106/150\n",
            "349/349 [==============================] - 87s 250ms/step - loss: 0.1584 - accuracy: 0.9813 - val_loss: 11.3836 - val_accuracy: 0.8529\n",
            "\n",
            "Epoch 00106: val_loss did not improve from 0.09942\n",
            "Epoch 107/150\n",
            "349/349 [==============================] - 88s 251ms/step - loss: 0.1359 - accuracy: 0.9878 - val_loss: 7.6758 - val_accuracy: 0.8676\n",
            "\n",
            "Epoch 00107: val_loss did not improve from 0.09942\n",
            "Epoch 108/150\n",
            "349/349 [==============================] - 87s 250ms/step - loss: 0.1615 - accuracy: 0.9828 - val_loss: 4.8284 - val_accuracy: 0.8456\n",
            "\n",
            "Epoch 00108: val_loss did not improve from 0.09942\n",
            "Epoch 109/150\n",
            "349/349 [==============================] - 87s 251ms/step - loss: 0.1498 - accuracy: 0.9835 - val_loss: 1.1672 - val_accuracy: 0.8603\n",
            "\n",
            "Epoch 00109: val_loss did not improve from 0.09942\n",
            "Epoch 110/150\n",
            "349/349 [==============================] - 87s 250ms/step - loss: 0.1628 - accuracy: 0.9803 - val_loss: 4.9193 - val_accuracy: 0.8603\n",
            "\n",
            "Epoch 00110: val_loss did not improve from 0.09942\n",
            "Epoch 111/150\n",
            "349/349 [==============================] - 88s 252ms/step - loss: 0.1579 - accuracy: 0.9842 - val_loss: 0.7972 - val_accuracy: 0.8309\n",
            "\n",
            "Epoch 00111: val_loss did not improve from 0.09942\n",
            "Epoch 112/150\n",
            "349/349 [==============================] - 89s 254ms/step - loss: 0.1485 - accuracy: 0.9821 - val_loss: 4.8057 - val_accuracy: 0.8676\n",
            "\n",
            "Epoch 00112: val_loss did not improve from 0.09942\n",
            "Epoch 113/150\n",
            "349/349 [==============================] - 87s 250ms/step - loss: 0.1533 - accuracy: 0.9810 - val_loss: 2.4792 - val_accuracy: 0.8382\n",
            "\n",
            "Epoch 00113: val_loss did not improve from 0.09942\n",
            "Epoch 114/150\n",
            "349/349 [==============================] - 87s 251ms/step - loss: 0.1547 - accuracy: 0.9839 - val_loss: 0.0944 - val_accuracy: 0.8529\n",
            "\n",
            "Epoch 00114: val_loss improved from 0.09942 to 0.09441, saving model to /content/drive/My Drive/RawFoot_Image/RawFoot_Image_GreyScale_Inspectionv3.h5\n",
            "Epoch 115/150\n",
            "349/349 [==============================] - 87s 250ms/step - loss: 0.1421 - accuracy: 0.9846 - val_loss: 5.9242 - val_accuracy: 0.8676\n",
            "\n",
            "Epoch 00115: val_loss did not improve from 0.09441\n",
            "Epoch 116/150\n",
            "349/349 [==============================] - 88s 252ms/step - loss: 0.1673 - accuracy: 0.9810 - val_loss: 0.0972 - val_accuracy: 0.8529\n",
            "\n",
            "Epoch 00116: val_loss did not improve from 0.09441\n",
            "Epoch 117/150\n",
            "349/349 [==============================] - 87s 250ms/step - loss: 0.1617 - accuracy: 0.9817 - val_loss: 8.7261 - val_accuracy: 0.8603\n",
            "\n",
            "Epoch 00117: val_loss did not improve from 0.09441\n",
            "Epoch 118/150\n",
            "349/349 [==============================] - 87s 249ms/step - loss: 0.1617 - accuracy: 0.9792 - val_loss: 6.5172 - val_accuracy: 0.8309\n",
            "\n",
            "Epoch 00118: val_loss did not improve from 0.09441\n",
            "Epoch 119/150\n",
            "349/349 [==============================] - 87s 250ms/step - loss: 0.1554 - accuracy: 0.9839 - val_loss: 5.0069 - val_accuracy: 0.8529\n",
            "\n",
            "Epoch 00119: val_loss did not improve from 0.09441\n",
            "Epoch 120/150\n",
            "349/349 [==============================] - 87s 249ms/step - loss: 0.1375 - accuracy: 0.9860 - val_loss: 0.0927 - val_accuracy: 0.8603\n",
            "\n",
            "Epoch 00120: val_loss improved from 0.09441 to 0.09266, saving model to /content/drive/My Drive/RawFoot_Image/RawFoot_Image_GreyScale_Inspectionv3.h5\n",
            "Epoch 121/150\n",
            "349/349 [==============================] - 87s 249ms/step - loss: 0.1498 - accuracy: 0.9813 - val_loss: 3.3114 - val_accuracy: 0.8824\n",
            "\n",
            "Epoch 00121: val_loss did not improve from 0.09266\n",
            "Epoch 122/150\n",
            "349/349 [==============================] - 87s 249ms/step - loss: 0.1368 - accuracy: 0.9867 - val_loss: 0.7158 - val_accuracy: 0.8603\n",
            "\n",
            "Epoch 00122: val_loss did not improve from 0.09266\n",
            "Epoch 123/150\n",
            "349/349 [==============================] - 87s 251ms/step - loss: 0.1529 - accuracy: 0.9810 - val_loss: 1.8731 - val_accuracy: 0.8676\n",
            "\n",
            "Epoch 00123: val_loss did not improve from 0.09266\n",
            "Epoch 124/150\n",
            "349/349 [==============================] - 87s 248ms/step - loss: 0.1525 - accuracy: 0.9828 - val_loss: 2.5887 - val_accuracy: 0.8456\n",
            "\n",
            "Epoch 00124: val_loss did not improve from 0.09266\n",
            "Epoch 125/150\n",
            "349/349 [==============================] - 88s 251ms/step - loss: 0.1307 - accuracy: 0.9892 - val_loss: 3.5152 - val_accuracy: 0.8456\n",
            "\n",
            "Epoch 00125: val_loss did not improve from 0.09266\n",
            "Epoch 126/150\n",
            "349/349 [==============================] - 87s 250ms/step - loss: 0.1349 - accuracy: 0.9874 - val_loss: 0.0895 - val_accuracy: 0.8529\n",
            "\n",
            "Epoch 00126: val_loss improved from 0.09266 to 0.08952, saving model to /content/drive/My Drive/RawFoot_Image/RawFoot_Image_GreyScale_Inspectionv3.h5\n",
            "Epoch 127/150\n",
            "349/349 [==============================] - 89s 256ms/step - loss: 0.1336 - accuracy: 0.9871 - val_loss: 3.6072 - val_accuracy: 0.8529\n",
            "\n",
            "Epoch 00127: val_loss did not improve from 0.08952\n",
            "Epoch 128/150\n",
            "349/349 [==============================] - 91s 261ms/step - loss: 0.1493 - accuracy: 0.9831 - val_loss: 0.0935 - val_accuracy: 0.8676\n",
            "\n",
            "Epoch 00128: val_loss did not improve from 0.08952\n",
            "Epoch 129/150\n",
            "349/349 [==============================] - 89s 255ms/step - loss: 0.1466 - accuracy: 0.9846 - val_loss: 1.3271 - val_accuracy: 0.8529\n",
            "\n",
            "Epoch 00129: val_loss did not improve from 0.08952\n",
            "Epoch 130/150\n",
            "349/349 [==============================] - 89s 256ms/step - loss: 0.1428 - accuracy: 0.9849 - val_loss: 9.1302 - val_accuracy: 0.8750\n",
            "\n",
            "Epoch 00130: val_loss did not improve from 0.08952\n",
            "Epoch 131/150\n",
            "349/349 [==============================] - 89s 255ms/step - loss: 0.1453 - accuracy: 0.9813 - val_loss: 3.3636 - val_accuracy: 0.8603\n",
            "\n",
            "Epoch 00131: val_loss did not improve from 0.08952\n",
            "Epoch 132/150\n",
            "349/349 [==============================] - 89s 254ms/step - loss: 0.1270 - accuracy: 0.9867 - val_loss: 9.8866 - val_accuracy: 0.8676\n",
            "\n",
            "Epoch 00132: val_loss did not improve from 0.08952\n",
            "Epoch 133/150\n",
            "349/349 [==============================] - 89s 254ms/step - loss: 0.1311 - accuracy: 0.9878 - val_loss: 5.4587 - val_accuracy: 0.8603\n",
            "\n",
            "Epoch 00133: val_loss did not improve from 0.08952\n",
            "Epoch 134/150\n",
            "349/349 [==============================] - 88s 253ms/step - loss: 0.1409 - accuracy: 0.9864 - val_loss: 9.2742 - val_accuracy: 0.8088\n",
            "\n",
            "Epoch 00134: val_loss did not improve from 0.08952\n",
            "Epoch 135/150\n",
            "349/349 [==============================] - 88s 252ms/step - loss: 0.1234 - accuracy: 0.9892 - val_loss: 0.8199 - val_accuracy: 0.8456\n",
            "\n",
            "Epoch 00135: val_loss did not improve from 0.08952\n",
            "Epoch 136/150\n",
            "349/349 [==============================] - 88s 252ms/step - loss: 0.1166 - accuracy: 0.9910 - val_loss: 9.3724 - val_accuracy: 0.8382\n",
            "\n",
            "Epoch 00136: val_loss did not improve from 0.08952\n",
            "Epoch 137/150\n",
            "349/349 [==============================] - 89s 254ms/step - loss: 0.1362 - accuracy: 0.9842 - val_loss: 0.0868 - val_accuracy: 0.8603\n",
            "\n",
            "Epoch 00137: val_loss improved from 0.08952 to 0.08679, saving model to /content/drive/My Drive/RawFoot_Image/RawFoot_Image_GreyScale_Inspectionv3.h5\n",
            "Epoch 138/150\n",
            "349/349 [==============================] - 88s 252ms/step - loss: 0.1469 - accuracy: 0.9839 - val_loss: 2.8216 - val_accuracy: 0.8529\n",
            "\n",
            "Epoch 00138: val_loss did not improve from 0.08679\n",
            "Epoch 139/150\n",
            "349/349 [==============================] - 88s 251ms/step - loss: 0.1538 - accuracy: 0.9817 - val_loss: 0.0930 - val_accuracy: 0.8529\n",
            "\n",
            "Epoch 00139: val_loss did not improve from 0.08679\n",
            "Epoch 140/150\n",
            "349/349 [==============================] - 87s 250ms/step - loss: 0.1256 - accuracy: 0.9896 - val_loss: 5.1961 - val_accuracy: 0.8456\n",
            "\n",
            "Epoch 00140: val_loss did not improve from 0.08679\n",
            "Epoch 141/150\n",
            "349/349 [==============================] - 88s 252ms/step - loss: 0.1169 - accuracy: 0.9907 - val_loss: 20.7265 - val_accuracy: 0.8676\n",
            "\n",
            "Epoch 00141: val_loss did not improve from 0.08679\n",
            "Epoch 142/150\n",
            "349/349 [==============================] - 87s 250ms/step - loss: 0.1344 - accuracy: 0.9821 - val_loss: 0.1751 - val_accuracy: 0.8529\n",
            "\n",
            "Epoch 00142: val_loss did not improve from 0.08679\n",
            "Epoch 143/150\n",
            "349/349 [==============================] - 87s 249ms/step - loss: 0.1306 - accuracy: 0.9889 - val_loss: 7.2222 - val_accuracy: 0.8529\n",
            "\n",
            "Epoch 00143: val_loss did not improve from 0.08679\n",
            "Epoch 144/150\n",
            "349/349 [==============================] - 88s 251ms/step - loss: 0.1273 - accuracy: 0.9871 - val_loss: 2.8170 - val_accuracy: 0.8676\n",
            "\n",
            "Epoch 00144: val_loss did not improve from 0.08679\n",
            "Epoch 145/150\n",
            "349/349 [==============================] - 87s 249ms/step - loss: 0.1127 - accuracy: 0.9907 - val_loss: 0.0832 - val_accuracy: 0.8676\n",
            "\n",
            "Epoch 00145: val_loss improved from 0.08679 to 0.08323, saving model to /content/drive/My Drive/RawFoot_Image/RawFoot_Image_GreyScale_Inspectionv3.h5\n",
            "Epoch 146/150\n",
            "349/349 [==============================] - 87s 249ms/step - loss: 0.1289 - accuracy: 0.9853 - val_loss: 0.8304 - val_accuracy: 0.8676\n",
            "\n",
            "Epoch 00146: val_loss did not improve from 0.08323\n",
            "Epoch 147/150\n",
            "349/349 [==============================] - 87s 249ms/step - loss: 0.1221 - accuracy: 0.9885 - val_loss: 3.9163 - val_accuracy: 0.8603\n",
            "\n",
            "Epoch 00147: val_loss did not improve from 0.08323\n",
            "Epoch 148/150\n",
            "349/349 [==============================] - 87s 251ms/step - loss: 0.1214 - accuracy: 0.9889 - val_loss: 7.7626 - val_accuracy: 0.8750\n",
            "\n",
            "Epoch 00148: val_loss did not improve from 0.08323\n",
            "Epoch 149/150\n",
            "349/349 [==============================] - 87s 250ms/step - loss: 0.1462 - accuracy: 0.9824 - val_loss: 0.0906 - val_accuracy: 0.8676\n",
            "\n",
            "Epoch 00149: val_loss did not improve from 0.08323\n",
            "Epoch 150/150\n",
            "349/349 [==============================] - 87s 249ms/step - loss: 0.1442 - accuracy: 0.9842 - val_loss: 0.0893 - val_accuracy: 0.8529\n",
            "\n",
            "Epoch 00150: val_loss did not improve from 0.08323\n"
          ],
          "name": "stdout"
        }
      ]
    },
    {
      "cell_type": "code",
      "metadata": {
        "id": "7rddNBrFJWH5",
        "colab_type": "code",
        "colab": {
          "base_uri": "https://localhost:8080/",
          "height": 295
        },
        "outputId": "b7c111b6-84c3-486e-d0f6-508376682392"
      },
      "source": [
        "import matplotlib.pyplot as plt\n",
        "plt.plot(hist.history[\"accuracy\"])\n",
        "plt.plot(hist.history['val_accuracy'])\n",
        "plt.title(\"model accuracy\")\n",
        "plt.ylabel(\"Accuracy\")\n",
        "plt.xlabel(\"Epoch\")\n",
        "plt.legend([\"Accuracy\",\"Validation Accuracy\"])\n",
        "plt.show()"
      ],
      "execution_count": null,
      "outputs": [
        {
          "output_type": "display_data",
          "data": {
            "image/png": "[encoded data removed]",
            "text/plain": [
              "<Figure size 432x288 with 1 Axes>"
            ]
          },
          "metadata": {
            "tags": [],
            "needs_background": "light"
          }
        }
      ]
    },
    {
      "cell_type": "code",
      "metadata": {
        "id": "Tk4bvR-UJbm1",
        "colab_type": "code",
        "colab": {
          "base_uri": "https://localhost:8080/",
          "height": 295
        },
        "outputId": "35a9a7b6-4c04-4a66-8cea-5d936c04220b"
      },
      "source": [
        "plt.plot(hist.history['loss'])\n",
        "plt.plot(hist.history['val_loss'])\n",
        "plt.title(\"model Loss\")\n",
        "plt.ylabel(\"Loss\")\n",
        "plt.xlabel(\"Epoch\")\n",
        "plt.legend([\"Loss\",\"Validation Loss\"])\n",
        "plt.show()"
      ],
      "execution_count": null,
      "outputs": [
        {
          "output_type": "display_data",
          "data": {
            "image/png": "[encoded data removed]",
            "text/plain": [
              "<Figure size 432x288 with 1 Axes>"
            ]
          },
          "metadata": {
            "tags": [],
            "needs_background": "light"
          }
        }
      ]
    },
    {
      "cell_type": "code",
      "metadata": {
        "id": "YnKgsbT2Jn1K",
        "colab_type": "code",
        "colab": {
          "base_uri": "https://localhost:8080/",
          "height": 34
        },
        "outputId": "ae076b7f-917a-42b2-ae2e-8d3a0ed30a9d"
      },
      "source": [
        "GreyTestData = TestGenerator.flow_from_directory('/content/drive/My Drive/RawFoot_Image/Test/', target_size=(224,224), batch_size = 8, shuffle = False, color_mode='grayscale')"
      ],
      "execution_count": null,
      "outputs": [
        {
          "output_type": "stream",
          "text": [
            "Found 204 images belonging to 68 classes.\n"
          ],
          "name": "stdout"
        }
      ]
    },
    {
      "cell_type": "code",
      "metadata": {
        "id": "PMNg8yEbK8UZ",
        "colab_type": "code",
        "colab": {}
      },
      "source": [
        "model.load_weights('/content/drive/My Drive/RawFoot_Image/RawFoot_Image_GreyScale_Inspectionv3.h5')"
      ],
      "execution_count": null,
      "outputs": []
    },
    {
      "cell_type": "code",
      "metadata": {
        "id": "I8Gg_F49Jw28",
        "colab_type": "code",
        "colab": {}
      },
      "source": [
        "Grey_predict = model.predict(GreyTestData)"
      ],
      "execution_count": null,
      "outputs": []
    },
    {
      "cell_type": "code",
      "metadata": {
        "id": "O37PVgcGJ4YO",
        "colab_type": "code",
        "colab": {}
      },
      "source": [
        "Grey_predict_classes = np.argmax(Grey_predict, axis=1)"
      ],
      "execution_count": null,
      "outputs": []
    },
    {
      "cell_type": "code",
      "metadata": {
        "id": "ssASZqHcKCdz",
        "colab_type": "code",
        "colab": {
          "base_uri": "https://localhost:8080/",
          "height": 221
        },
        "outputId": "5357b232-9cc4-4263-e35e-fb919dc1b780"
      },
      "source": [
        "Grey_predict_classes"
      ],
      "execution_count": null,
      "outputs": [
        {
          "output_type": "execute_result",
          "data": {
            "text/plain": [
              "array([ 0,  0,  0,  1,  1,  1,  2, 51, 51,  3,  3,  3,  4,  4,  4,  5,  5,\n",
              "        5,  6,  6,  6,  7,  7,  7,  8,  8,  8,  9,  9,  9, 10, 10, 10, 51,\n",
              "       47, 47, 51, 36,  3, 13, 13, 36, 16, 14, 14, 15, 15, 15, 16, 16, 16,\n",
              "       17, 17, 17, 18, 18, 18, 60, 60, 19, 20, 20, 20, 21, 21, 21, 22, 22,\n",
              "       22, 23, 23, 23, 24, 24, 60, 60, 25, 25, 26, 26, 26, 27, 27, 27, 28,\n",
              "       28, 35, 16, 29, 29, 51, 51, 30, 31, 31, 31, 32, 32, 32, 33, 33, 33,\n",
              "       34, 34, 60, 16, 35, 60, 36, 60, 36, 37, 60, 37, 38, 38, 38, 39, 39,\n",
              "       39, 40, 40, 40, 60, 47, 41, 42, 42, 42, 43, 43, 43, 60, 44, 44, 45,\n",
              "       45, 45, 46, 46, 46, 60, 60, 47, 60, 48, 48, 49, 49, 49, 50, 50, 50,\n",
              "       51, 51, 51, 60, 35, 36, 53, 53, 53, 54, 54, 54, 55, 55, 55, 56, 56,\n",
              "       56, 57, 57, 57, 58, 58, 58, 59, 59, 60, 60, 16, 51, 61, 61, 61, 62,\n",
              "       62, 62, 60, 35, 60, 64, 64, 64, 52, 65, 35, 43, 66, 66, 67, 67, 67])"
            ]
          },
          "metadata": {
            "tags": []
          },
          "execution_count": 28
        }
      ]
    },
    {
      "cell_type": "code",
      "metadata": {
        "id": "HvCrugUfKG0L",
        "colab_type": "code",
        "colab": {}
      },
      "source": [
        "from sklearn.metrics import accuracy_score\n",
        "from sklearn.metrics import precision_score\n",
        "from sklearn.metrics import recall_score\n",
        "from sklearn.metrics import f1_score\n",
        "from sklearn.metrics import cohen_kappa_score\n",
        "from sklearn.metrics import roc_auc_score"
      ],
      "execution_count": null,
      "outputs": []
    },
    {
      "cell_type": "code",
      "metadata": {
        "id": "eOWWlroCKJXK",
        "colab_type": "code",
        "colab": {
          "base_uri": "https://localhost:8080/",
          "height": 34
        },
        "outputId": "820122ff-6846-45f3-8d4d-4c1042dcfba6"
      },
      "source": [
        "Grey_accuracy = accuracy_score(GreyTestData.classes, Grey_predict_classes)\n",
        "print(\"Grey Accuracy: \", Grey_accuracy)"
      ],
      "execution_count": null,
      "outputs": [
        {
          "output_type": "stream",
          "text": [
            "Grey Accuracy:  0.7990196078431373\n"
          ],
          "name": "stdout"
        }
      ]
    },
    {
      "cell_type": "code",
      "metadata": {
        "id": "qT8GZ8SWKQsZ",
        "colab_type": "code",
        "colab": {
          "base_uri": "https://localhost:8080/",
          "height": 88
        },
        "outputId": "7d99e9b5-91fe-4969-f4de-617b27bc0e64"
      },
      "source": [
        "Grey_precision = precision_score(GreyTestData.classes, Grey_predict_classes,average=\"weighted\")\n",
        "print(\"Grey Precision: \", Grey_precision)"
      ],
      "execution_count": null,
      "outputs": [
        {
          "output_type": "stream",
          "text": [
            "Grey Precision:  0.8696195144724557\n"
          ],
          "name": "stdout"
        },
        {
          "output_type": "stream",
          "text": [
            "/usr/local/lib/python3.6/dist-packages/sklearn/metrics/_classification.py:1272: UndefinedMetricWarning: Precision is ill-defined and being set to 0.0 in labels with no predicted samples. Use `zero_division` parameter to control this behavior.\n",
            "  _warn_prf(average, modifier, msg_start, len(result))\n"
          ],
          "name": "stderr"
        }
      ]
    },
    {
      "cell_type": "code",
      "metadata": {
        "id": "4vaMESfPKXYT",
        "colab_type": "code",
        "colab": {
          "base_uri": "https://localhost:8080/",
          "height": 34
        },
        "outputId": "9b216ade-7959-46af-948c-9deb18bbe079"
      },
      "source": [
        "Grey_recall = recall_score(GreyTestData.classes, Grey_predict_classes, average=\"weighted\")\n",
        "print(\"Grey Recall:\", Grey_recall)"
      ],
      "execution_count": null,
      "outputs": [
        {
          "output_type": "stream",
          "text": [
            "Grey Recall: 0.7990196078431373\n"
          ],
          "name": "stdout"
        }
      ]
    },
    {
      "cell_type": "code",
      "metadata": {
        "id": "ArX8LkQ3KbDn",
        "colab_type": "code",
        "colab": {
          "base_uri": "https://localhost:8080/",
          "height": 34
        },
        "outputId": "6ed6bcf8-4924-4bc7-afd2-8603d81f38ce"
      },
      "source": [
        "Grey_f1_score = f1_score(GreyTestData.classes, Grey_predict_classes, average=\"weighted\")\n",
        "print(\"F1 score for Grey: \", Grey_f1_score)"
      ],
      "execution_count": null,
      "outputs": [
        {
          "output_type": "stream",
          "text": [
            "F1 score for Grey:  0.8089231846584789\n"
          ],
          "name": "stdout"
        }
      ]
    },
    {
      "cell_type": "markdown",
      "metadata": {
        "id": "JE2Pmwq4KvbW",
        "colab_type": "text"
      },
      "source": [
        "**Processing for colour Data.**"
      ]
    },
    {
      "cell_type": "code",
      "metadata": {
        "id": "eI7an7B8K1Iy",
        "colab_type": "code",
        "colab": {
          "base_uri": "https://localhost:8080/",
          "height": 34
        },
        "outputId": "4739cc9e-a17c-4a53-ece9-8ba0d973601d"
      },
      "source": [
        "Colour_TrainingData =  DataGenerator.flow_from_directory('/content/drive/My Drive/RawFoot_Image/Train/', target_size=(224,224), batch_size=8)"
      ],
      "execution_count": null,
      "outputs": [
        {
          "output_type": "stream",
          "text": [
            "Found 2788 images belonging to 68 classes.\n"
          ],
          "name": "stdout"
        }
      ]
    },
    {
      "cell_type": "code",
      "metadata": {
        "id": "XZrczUjKLUa7",
        "colab_type": "code",
        "colab": {
          "base_uri": "https://localhost:8080/",
          "height": 34
        },
        "outputId": "6eea7361-6c40-4c24-e123-085da5058d5e"
      },
      "source": [
        "Colour_ValidData =  TestGenerator.flow_from_directory('/content/drive/My Drive/RawFoot_Image/Valid/', target_size=(224,224), batch_size=8)"
      ],
      "execution_count": null,
      "outputs": [
        {
          "output_type": "stream",
          "text": [
            "Found 136 images belonging to 68 classes.\n"
          ],
          "name": "stdout"
        }
      ]
    },
    {
      "cell_type": "code",
      "metadata": {
        "id": "uOOU7KB1LhAX",
        "colab_type": "code",
        "colab": {}
      },
      "source": [
        "conv_base_colour = InceptionV3(weights = 'imagenet', include_top = False, pooling = 'avg')"
      ],
      "execution_count": null,
      "outputs": []
    },
    {
      "cell_type": "code",
      "metadata": {
        "id": "SvVV5qnxLpMI",
        "colab_type": "code",
        "colab": {
          "base_uri": "https://localhost:8080/",
          "height": 34
        },
        "outputId": "a4555cbe-c0ca-48f5-c625-41c7bd6cb2df"
      },
      "source": [
        "for layer in conv_base_colour.layers[:299]:\n",
        "  layer.trainable = False\n",
        "for layer in conv_base_colour.layers[299:]:\n",
        "  layer.trainable = True\n",
        "for layer in conv_base_colour.layers:\n",
        "  if isinstance(layer, BatchNormalization):\n",
        "    layer.trainable = True\n",
        "\n",
        "print(\"Done\")"
      ],
      "execution_count": null,
      "outputs": [
        {
          "output_type": "stream",
          "text": [
            "Done\n"
          ],
          "name": "stdout"
        }
      ]
    },
    {
      "cell_type": "code",
      "metadata": {
        "id": "u4DVU5NALssh",
        "colab_type": "code",
        "colab": {
          "base_uri": "https://localhost:8080/",
          "height": 1000
        },
        "outputId": "8424245c-6172-4532-a40e-8f535e285059"
      },
      "source": [
        "for i, layer in enumerate(conv_base_colour.layers):\n",
        "   print(i, layer.name, layer.trainable)"
      ],
      "execution_count": null,
      "outputs": [
        {
          "output_type": "stream",
          "text": [
            "0 input_5 False\n",
            "1 conv2d_189 False\n",
            "2 batch_normalization_188 True\n",
            "3 activation_188 False\n",
            "4 conv2d_190 False\n",
            "5 batch_normalization_189 True\n",
            "6 activation_189 False\n",
            "7 conv2d_191 False\n",
            "8 batch_normalization_190 True\n",
            "9 activation_190 False\n",
            "10 max_pooling2d_8 False\n",
            "11 conv2d_192 False\n",
            "12 batch_normalization_191 True\n",
            "13 activation_191 False\n",
            "14 conv2d_193 False\n",
            "15 batch_normalization_192 True\n",
            "16 activation_192 False\n",
            "17 max_pooling2d_9 False\n",
            "18 conv2d_197 False\n",
            "19 batch_normalization_196 True\n",
            "20 activation_196 False\n",
            "21 conv2d_195 False\n",
            "22 conv2d_198 False\n",
            "23 batch_normalization_194 True\n",
            "24 batch_normalization_197 True\n",
            "25 activation_194 False\n",
            "26 activation_197 False\n",
            "27 average_pooling2d_18 False\n",
            "28 conv2d_194 False\n",
            "29 conv2d_196 False\n",
            "30 conv2d_199 False\n",
            "31 conv2d_200 False\n",
            "32 batch_normalization_193 True\n",
            "33 batch_normalization_195 True\n",
            "34 batch_normalization_198 True\n",
            "35 batch_normalization_199 True\n",
            "36 activation_193 False\n",
            "37 activation_195 False\n",
            "38 activation_198 False\n",
            "39 activation_199 False\n",
            "40 mixed0 False\n",
            "41 conv2d_204 False\n",
            "42 batch_normalization_203 True\n",
            "43 activation_203 False\n",
            "44 conv2d_202 False\n",
            "45 conv2d_205 False\n",
            "46 batch_normalization_201 True\n",
            "47 batch_normalization_204 True\n",
            "48 activation_201 False\n",
            "49 activation_204 False\n",
            "50 average_pooling2d_19 False\n",
            "51 conv2d_201 False\n",
            "52 conv2d_203 False\n",
            "53 conv2d_206 False\n",
            "54 conv2d_207 False\n",
            "55 batch_normalization_200 True\n",
            "56 batch_normalization_202 True\n",
            "57 batch_normalization_205 True\n",
            "58 batch_normalization_206 True\n",
            "59 activation_200 False\n",
            "60 activation_202 False\n",
            "61 activation_205 False\n",
            "62 activation_206 False\n",
            "63 mixed1 False\n",
            "64 conv2d_211 False\n",
            "65 batch_normalization_210 True\n",
            "66 activation_210 False\n",
            "67 conv2d_209 False\n",
            "68 conv2d_212 False\n",
            "69 batch_normalization_208 True\n",
            "70 batch_normalization_211 True\n",
            "71 activation_208 False\n",
            "72 activation_211 False\n",
            "73 average_pooling2d_20 False\n",
            "74 conv2d_208 False\n",
            "75 conv2d_210 False\n",
            "76 conv2d_213 False\n",
            "77 conv2d_214 False\n",
            "78 batch_normalization_207 True\n",
            "79 batch_normalization_209 True\n",
            "80 batch_normalization_212 True\n",
            "81 batch_normalization_213 True\n",
            "82 activation_207 False\n",
            "83 activation_209 False\n",
            "84 activation_212 False\n",
            "85 activation_213 False\n",
            "86 mixed2 False\n",
            "87 conv2d_216 False\n",
            "88 batch_normalization_215 True\n",
            "89 activation_215 False\n",
            "90 conv2d_217 False\n",
            "91 batch_normalization_216 True\n",
            "92 activation_216 False\n",
            "93 conv2d_215 False\n",
            "94 conv2d_218 False\n",
            "95 batch_normalization_214 True\n",
            "96 batch_normalization_217 True\n",
            "97 activation_214 False\n",
            "98 activation_217 False\n",
            "99 max_pooling2d_10 False\n",
            "100 mixed3 False\n",
            "101 conv2d_223 False\n",
            "102 batch_normalization_222 True\n",
            "103 activation_222 False\n",
            "104 conv2d_224 False\n",
            "105 batch_normalization_223 True\n",
            "106 activation_223 False\n",
            "107 conv2d_220 False\n",
            "108 conv2d_225 False\n",
            "109 batch_normalization_219 True\n",
            "110 batch_normalization_224 True\n",
            "111 activation_219 False\n",
            "112 activation_224 False\n",
            "113 conv2d_221 False\n",
            "114 conv2d_226 False\n",
            "115 batch_normalization_220 True\n",
            "116 batch_normalization_225 True\n",
            "117 activation_220 False\n",
            "118 activation_225 False\n",
            "119 average_pooling2d_21 False\n",
            "120 conv2d_219 False\n",
            "121 conv2d_222 False\n",
            "122 conv2d_227 False\n",
            "123 conv2d_228 False\n",
            "124 batch_normalization_218 True\n",
            "125 batch_normalization_221 True\n",
            "126 batch_normalization_226 True\n",
            "127 batch_normalization_227 True\n",
            "128 activation_218 False\n",
            "129 activation_221 False\n",
            "130 activation_226 False\n",
            "131 activation_227 False\n",
            "132 mixed4 False\n",
            "133 conv2d_233 False\n",
            "134 batch_normalization_232 True\n",
            "135 activation_232 False\n",
            "136 conv2d_234 False\n",
            "137 batch_normalization_233 True\n",
            "138 activation_233 False\n",
            "139 conv2d_230 False\n",
            "140 conv2d_235 False\n",
            "141 batch_normalization_229 True\n",
            "142 batch_normalization_234 True\n",
            "143 activation_229 False\n",
            "144 activation_234 False\n",
            "145 conv2d_231 False\n",
            "146 conv2d_236 False\n",
            "147 batch_normalization_230 True\n",
            "148 batch_normalization_235 True\n",
            "149 activation_230 False\n",
            "150 activation_235 False\n",
            "151 average_pooling2d_22 False\n",
            "152 conv2d_229 False\n",
            "153 conv2d_232 False\n",
            "154 conv2d_237 False\n",
            "155 conv2d_238 False\n",
            "156 batch_normalization_228 True\n",
            "157 batch_normalization_231 True\n",
            "158 batch_normalization_236 True\n",
            "159 batch_normalization_237 True\n",
            "160 activation_228 False\n",
            "161 activation_231 False\n",
            "162 activation_236 False\n",
            "163 activation_237 False\n",
            "164 mixed5 False\n",
            "165 conv2d_243 False\n",
            "166 batch_normalization_242 True\n",
            "167 activation_242 False\n",
            "168 conv2d_244 False\n",
            "169 batch_normalization_243 True\n",
            "170 activation_243 False\n",
            "171 conv2d_240 False\n",
            "172 conv2d_245 False\n",
            "173 batch_normalization_239 True\n",
            "174 batch_normalization_244 True\n",
            "175 activation_239 False\n",
            "176 activation_244 False\n",
            "177 conv2d_241 False\n",
            "178 conv2d_246 False\n",
            "179 batch_normalization_240 True\n",
            "180 batch_normalization_245 True\n",
            "181 activation_240 False\n",
            "182 activation_245 False\n",
            "183 average_pooling2d_23 False\n",
            "184 conv2d_239 False\n",
            "185 conv2d_242 False\n",
            "186 conv2d_247 False\n",
            "187 conv2d_248 False\n",
            "188 batch_normalization_238 True\n",
            "189 batch_normalization_241 True\n",
            "190 batch_normalization_246 True\n",
            "191 batch_normalization_247 True\n",
            "192 activation_238 False\n",
            "193 activation_241 False\n",
            "194 activation_246 False\n",
            "195 activation_247 False\n",
            "196 mixed6 False\n",
            "197 conv2d_253 False\n",
            "198 batch_normalization_252 True\n",
            "199 activation_252 False\n",
            "200 conv2d_254 False\n",
            "201 batch_normalization_253 True\n",
            "202 activation_253 False\n",
            "203 conv2d_250 False\n",
            "204 conv2d_255 False\n",
            "205 batch_normalization_249 True\n",
            "206 batch_normalization_254 True\n",
            "207 activation_249 False\n",
            "208 activation_254 False\n",
            "209 conv2d_251 False\n",
            "210 conv2d_256 False\n",
            "211 batch_normalization_250 True\n",
            "212 batch_normalization_255 True\n",
            "213 activation_250 False\n",
            "214 activation_255 False\n",
            "215 average_pooling2d_24 False\n",
            "216 conv2d_249 False\n",
            "217 conv2d_252 False\n",
            "218 conv2d_257 False\n",
            "219 conv2d_258 False\n",
            "220 batch_normalization_248 True\n",
            "221 batch_normalization_251 True\n",
            "222 batch_normalization_256 True\n",
            "223 batch_normalization_257 True\n",
            "224 activation_248 False\n",
            "225 activation_251 False\n",
            "226 activation_256 False\n",
            "227 activation_257 False\n",
            "228 mixed7 False\n",
            "229 conv2d_261 False\n",
            "230 batch_normalization_260 True\n",
            "231 activation_260 False\n",
            "232 conv2d_262 False\n",
            "233 batch_normalization_261 True\n",
            "234 activation_261 False\n",
            "235 conv2d_259 False\n",
            "236 conv2d_263 False\n",
            "237 batch_normalization_258 True\n",
            "238 batch_normalization_262 True\n",
            "239 activation_258 False\n",
            "240 activation_262 False\n",
            "241 conv2d_260 False\n",
            "242 conv2d_264 False\n",
            "243 batch_normalization_259 True\n",
            "244 batch_normalization_263 True\n",
            "245 activation_259 False\n",
            "246 activation_263 False\n",
            "247 max_pooling2d_11 False\n",
            "248 mixed8 False\n",
            "249 conv2d_269 False\n",
            "250 batch_normalization_268 True\n",
            "251 activation_268 False\n",
            "252 conv2d_266 False\n",
            "253 conv2d_270 False\n",
            "254 batch_normalization_265 True\n",
            "255 batch_normalization_269 True\n",
            "256 activation_265 False\n",
            "257 activation_269 False\n",
            "258 conv2d_267 False\n",
            "259 conv2d_268 False\n",
            "260 conv2d_271 False\n",
            "261 conv2d_272 False\n",
            "262 average_pooling2d_25 False\n",
            "263 conv2d_265 False\n",
            "264 batch_normalization_266 True\n",
            "265 batch_normalization_267 True\n",
            "266 batch_normalization_270 True\n",
            "267 batch_normalization_271 True\n",
            "268 conv2d_273 False\n",
            "269 batch_normalization_264 True\n",
            "270 activation_266 False\n",
            "271 activation_267 False\n",
            "272 activation_270 False\n",
            "273 activation_271 False\n",
            "274 batch_normalization_272 True\n",
            "275 activation_264 False\n",
            "276 mixed9_0 False\n",
            "277 concatenate_4 False\n",
            "278 activation_272 False\n",
            "279 mixed9 False\n",
            "280 conv2d_278 False\n",
            "281 batch_normalization_277 True\n",
            "282 activation_277 False\n",
            "283 conv2d_275 False\n",
            "284 conv2d_279 False\n",
            "285 batch_normalization_274 True\n",
            "286 batch_normalization_278 True\n",
            "287 activation_274 False\n",
            "288 activation_278 False\n",
            "289 conv2d_276 False\n",
            "290 conv2d_277 False\n",
            "291 conv2d_280 False\n",
            "292 conv2d_281 False\n",
            "293 average_pooling2d_26 False\n",
            "294 conv2d_274 False\n",
            "295 batch_normalization_275 True\n",
            "296 batch_normalization_276 True\n",
            "297 batch_normalization_279 True\n",
            "298 batch_normalization_280 True\n",
            "299 conv2d_282 True\n",
            "300 batch_normalization_273 True\n",
            "301 activation_275 True\n",
            "302 activation_276 True\n",
            "303 activation_279 True\n",
            "304 activation_280 True\n",
            "305 batch_normalization_281 True\n",
            "306 activation_273 True\n",
            "307 mixed9_1 True\n",
            "308 concatenate_5 True\n",
            "309 activation_281 True\n",
            "310 mixed10 True\n",
            "311 global_average_pooling2d_2 True\n"
          ],
          "name": "stdout"
        }
      ]
    },
    {
      "cell_type": "code",
      "metadata": {
        "id": "lPX3WjtrL6rb",
        "colab_type": "code",
        "colab": {}
      },
      "source": [
        "from keras.layers import Input "
      ],
      "execution_count": null,
      "outputs": []
    },
    {
      "cell_type": "code",
      "metadata": {
        "id": "KBEiiUIqL80Y",
        "colab_type": "code",
        "colab": {}
      },
      "source": [
        "input_tensor = Input(shape=(224,224,3))\n",
        "x = conv_base_colour(input_tensor)"
      ],
      "execution_count": null,
      "outputs": []
    },
    {
      "cell_type": "code",
      "metadata": {
        "id": "q3uttgFYMEQj",
        "colab_type": "code",
        "colab": {}
      },
      "source": [
        "x = Dense(2048, activation='relu', kernel_regularizer= regularizers.l2(0.001))(x)\n",
        "x = Dropout(0.5)(x)"
      ],
      "execution_count": null,
      "outputs": []
    },
    {
      "cell_type": "code",
      "metadata": {
        "id": "H9XGPFSfMHfI",
        "colab_type": "code",
        "colab": {}
      },
      "source": [
        "ouput = Dense(68, activation='softmax')(x)"
      ],
      "execution_count": null,
      "outputs": []
    },
    {
      "cell_type": "code",
      "metadata": {
        "id": "yklGm-IGMLKi",
        "colab_type": "code",
        "colab": {}
      },
      "source": [
        "colour_model = Model(inputs = input_tensor, outputs = ouput )"
      ],
      "execution_count": null,
      "outputs": []
    },
    {
      "cell_type": "code",
      "metadata": {
        "id": "cI4OUhkgMQTN",
        "colab_type": "code",
        "colab": {}
      },
      "source": [
        "colour_model.compile(loss='categorical_crossentropy',\n",
        "              optimizer=Adam(lr=0.001),\n",
        "              metrics=['accuracy'])"
      ],
      "execution_count": null,
      "outputs": []
    },
    {
      "cell_type": "code",
      "metadata": {
        "id": "V4v7B5i7Mf33",
        "colab_type": "code",
        "colab": {}
      },
      "source": [
        "from keras.callbacks import ModelCheckpoint, EarlyStopping, ReduceLROnPlateau\n",
        "checkpoint = ModelCheckpoint(\"/content/drive/My Drive/RawFoot_Image/RawFoot_Image_Colour_Inspectionv3.h5\",\n",
        "                             monitor=\"val_loss\",\n",
        "                             mode=\"min\",\n",
        "                             save_best_only = True,\n",
        "                             verbose=1)\n",
        "\n",
        "earlystop = EarlyStopping(monitor = 'val_loss', \n",
        "                          min_delta = 0, \n",
        "                          patience = 40,\n",
        "                          verbose = 1,\n",
        "                          restore_best_weights = True)\n",
        "\n",
        "reduce_lr = ReduceLROnPlateau(monitor = 'val_loss',\n",
        "                              factor = 0.2,\n",
        "                              patience = 40,\n",
        "                              verbose = 1,\n",
        "                              min_delta = 0.00001)\n",
        "\n",
        "callBacks = [earlystop, checkpoint, reduce_lr]"
      ],
      "execution_count": null,
      "outputs": []
    },
    {
      "cell_type": "code",
      "metadata": {
        "id": "yaMZLpsAMz7e",
        "colab_type": "code",
        "colab": {
          "base_uri": "https://localhost:8080/",
          "height": 1000
        },
        "outputId": "5a4dc70b-146f-4d6a-cc2c-61a3e7ab0fa2"
      },
      "source": [
        "hist = colour_model.fit_generator(steps_per_epoch=349,generator= Colour_TrainingData, validation_data= Colour_ValidData, validation_steps=17,epochs=150,callbacks=callBacks)"
      ],
      "execution_count": null,
      "outputs": [
        {
          "output_type": "stream",
          "text": [
            "Epoch 1/150\n",
            "349/349 [==============================] - 103s 295ms/step - loss: 4.2380 - accuracy: 0.2611 - val_loss: 2.3198 - val_accuracy: 0.6985\n",
            "\n",
            "Epoch 00001: val_loss improved from inf to 2.31982, saving model to /content/drive/My Drive/RawFoot_Image/RawFoot_Image_Colour_Inspectionv3.h5\n",
            "Epoch 2/150\n",
            "349/349 [==============================] - 87s 249ms/step - loss: 2.0455 - accuracy: 0.5843 - val_loss: 2.7929 - val_accuracy: 0.7574\n",
            "\n",
            "Epoch 00002: val_loss did not improve from 2.31982\n",
            "Epoch 3/150\n",
            "349/349 [==============================] - 88s 252ms/step - loss: 1.4948 - accuracy: 0.7059 - val_loss: 1.1650 - val_accuracy: 0.7941\n",
            "\n",
            "Epoch 00003: val_loss improved from 2.31982 to 1.16498, saving model to /content/drive/My Drive/RawFoot_Image/RawFoot_Image_Colour_Inspectionv3.h5\n",
            "Epoch 4/150\n",
            "349/349 [==============================] - 88s 253ms/step - loss: 1.3094 - accuracy: 0.7478 - val_loss: 1.8652 - val_accuracy: 0.7868\n",
            "\n",
            "Epoch 00004: val_loss did not improve from 1.16498\n",
            "Epoch 5/150\n",
            "349/349 [==============================] - 89s 256ms/step - loss: 1.0971 - accuracy: 0.8153 - val_loss: 0.4828 - val_accuracy: 0.7941\n",
            "\n",
            "Epoch 00005: val_loss improved from 1.16498 to 0.48280, saving model to /content/drive/My Drive/RawFoot_Image/RawFoot_Image_Colour_Inspectionv3.h5\n",
            "Epoch 6/150\n",
            "349/349 [==============================] - 90s 257ms/step - loss: 1.0043 - accuracy: 0.8293 - val_loss: 2.8674 - val_accuracy: 0.8235\n",
            "\n",
            "Epoch 00006: val_loss did not improve from 0.48280\n",
            "Epoch 7/150\n",
            "349/349 [==============================] - 90s 258ms/step - loss: 0.9040 - accuracy: 0.8587 - val_loss: 1.6094 - val_accuracy: 0.8088\n",
            "\n",
            "Epoch 00007: val_loss did not improve from 0.48280\n",
            "Epoch 8/150\n",
            "349/349 [==============================] - 89s 255ms/step - loss: 0.8965 - accuracy: 0.8565 - val_loss: 4.0297 - val_accuracy: 0.8015\n",
            "\n",
            "Epoch 00008: val_loss did not improve from 0.48280\n",
            "Epoch 9/150\n",
            "349/349 [==============================] - 88s 253ms/step - loss: 0.8569 - accuracy: 0.8666 - val_loss: 1.5883 - val_accuracy: 0.8015\n",
            "\n",
            "Epoch 00009: val_loss did not improve from 0.48280\n",
            "Epoch 10/150\n",
            "349/349 [==============================] - 89s 255ms/step - loss: 0.8405 - accuracy: 0.8659 - val_loss: 0.4185 - val_accuracy: 0.8015\n",
            "\n",
            "Epoch 00010: val_loss improved from 0.48280 to 0.41853, saving model to /content/drive/My Drive/RawFoot_Image/RawFoot_Image_Colour_Inspectionv3.h5\n",
            "Epoch 11/150\n",
            "349/349 [==============================] - 87s 250ms/step - loss: 0.7729 - accuracy: 0.8870 - val_loss: 2.1049 - val_accuracy: 0.8235\n",
            "\n",
            "Epoch 00011: val_loss did not improve from 0.41853\n",
            "Epoch 12/150\n",
            "349/349 [==============================] - 87s 250ms/step - loss: 0.7104 - accuracy: 0.8992 - val_loss: 2.1740 - val_accuracy: 0.8309\n",
            "\n",
            "Epoch 00012: val_loss did not improve from 0.41853\n",
            "Epoch 13/150\n",
            "349/349 [==============================] - 87s 249ms/step - loss: 0.6867 - accuracy: 0.9035 - val_loss: 2.7001 - val_accuracy: 0.8235\n",
            "\n",
            "Epoch 00013: val_loss did not improve from 0.41853\n",
            "Epoch 14/150\n",
            "349/349 [==============================] - 88s 251ms/step - loss: 0.6538 - accuracy: 0.9075 - val_loss: 0.3617 - val_accuracy: 0.8309\n",
            "\n",
            "Epoch 00014: val_loss improved from 0.41853 to 0.36165, saving model to /content/drive/My Drive/RawFoot_Image/RawFoot_Image_Colour_Inspectionv3.h5\n",
            "Epoch 15/150\n",
            "349/349 [==============================] - 87s 249ms/step - loss: 0.6692 - accuracy: 0.9057 - val_loss: 0.3552 - val_accuracy: 0.8235\n",
            "\n",
            "Epoch 00015: val_loss improved from 0.36165 to 0.35517, saving model to /content/drive/My Drive/RawFoot_Image/RawFoot_Image_Colour_Inspectionv3.h5\n",
            "Epoch 16/150\n",
            "349/349 [==============================] - 87s 250ms/step - loss: 0.5983 - accuracy: 0.9200 - val_loss: 2.2659 - val_accuracy: 0.8162\n",
            "\n",
            "Epoch 00016: val_loss did not improve from 0.35517\n",
            "Epoch 17/150\n",
            "349/349 [==============================] - 88s 252ms/step - loss: 0.5816 - accuracy: 0.9207 - val_loss: 0.6926 - val_accuracy: 0.8088\n",
            "\n",
            "Epoch 00017: val_loss did not improve from 0.35517\n",
            "Epoch 18/150\n",
            "349/349 [==============================] - 88s 251ms/step - loss: 0.5688 - accuracy: 0.9229 - val_loss: 1.6419 - val_accuracy: 0.8309\n",
            "\n",
            "Epoch 00018: val_loss did not improve from 0.35517\n",
            "Epoch 19/150\n",
            "349/349 [==============================] - 88s 251ms/step - loss: 0.5199 - accuracy: 0.9333 - val_loss: 0.5901 - val_accuracy: 0.8309\n",
            "\n",
            "Epoch 00019: val_loss did not improve from 0.35517\n",
            "Epoch 20/150\n",
            "349/349 [==============================] - 87s 250ms/step - loss: 0.5736 - accuracy: 0.9218 - val_loss: 1.4018 - val_accuracy: 0.8088\n",
            "\n",
            "Epoch 00020: val_loss did not improve from 0.35517\n",
            "Epoch 21/150\n",
            "349/349 [==============================] - 88s 253ms/step - loss: 0.5423 - accuracy: 0.9304 - val_loss: 1.6565 - val_accuracy: 0.8382\n",
            "\n",
            "Epoch 00021: val_loss did not improve from 0.35517\n",
            "Epoch 22/150\n",
            "349/349 [==============================] - 87s 250ms/step - loss: 0.4864 - accuracy: 0.9408 - val_loss: 1.4077 - val_accuracy: 0.8309\n",
            "\n",
            "Epoch 00022: val_loss did not improve from 0.35517\n",
            "Epoch 23/150\n",
            "349/349 [==============================] - 88s 251ms/step - loss: 0.4979 - accuracy: 0.9333 - val_loss: 3.6513 - val_accuracy: 0.8456\n",
            "\n",
            "Epoch 00023: val_loss did not improve from 0.35517\n",
            "Epoch 24/150\n",
            "349/349 [==============================] - 88s 252ms/step - loss: 0.4402 - accuracy: 0.9523 - val_loss: 0.2557 - val_accuracy: 0.8382\n",
            "\n",
            "Epoch 00024: val_loss improved from 0.35517 to 0.25571, saving model to /content/drive/My Drive/RawFoot_Image/RawFoot_Image_Colour_Inspectionv3.h5\n",
            "Epoch 25/150\n",
            "349/349 [==============================] - 87s 250ms/step - loss: 0.4364 - accuracy: 0.9494 - val_loss: 0.3875 - val_accuracy: 0.8529\n",
            "\n",
            "Epoch 00025: val_loss did not improve from 0.25571\n",
            "Epoch 26/150\n",
            "349/349 [==============================] - 88s 251ms/step - loss: 0.4269 - accuracy: 0.9448 - val_loss: 1.1667 - val_accuracy: 0.8456\n",
            "\n",
            "Epoch 00026: val_loss did not improve from 0.25571\n",
            "Epoch 27/150\n",
            "349/349 [==============================] - 87s 250ms/step - loss: 0.3975 - accuracy: 0.9512 - val_loss: 0.2260 - val_accuracy: 0.8088\n",
            "\n",
            "Epoch 00027: val_loss improved from 0.25571 to 0.22600, saving model to /content/drive/My Drive/RawFoot_Image/RawFoot_Image_Colour_Inspectionv3.h5\n",
            "Epoch 28/150\n",
            "349/349 [==============================] - 88s 252ms/step - loss: 0.4239 - accuracy: 0.9387 - val_loss: 0.2331 - val_accuracy: 0.8309\n",
            "\n",
            "Epoch 00028: val_loss did not improve from 0.22600\n",
            "Epoch 29/150\n",
            "349/349 [==============================] - 87s 250ms/step - loss: 0.3899 - accuracy: 0.9534 - val_loss: 1.8221 - val_accuracy: 0.8603\n",
            "\n",
            "Epoch 00029: val_loss did not improve from 0.22600\n",
            "Epoch 30/150\n",
            "349/349 [==============================] - 87s 250ms/step - loss: 0.3525 - accuracy: 0.9566 - val_loss: 4.8418 - val_accuracy: 0.8382\n",
            "\n",
            "Epoch 00030: val_loss did not improve from 0.22600\n",
            "Epoch 31/150\n",
            "349/349 [==============================] - 88s 252ms/step - loss: 0.3738 - accuracy: 0.9534 - val_loss: 5.3297 - val_accuracy: 0.8235\n",
            "\n",
            "Epoch 00031: val_loss did not improve from 0.22600\n",
            "Epoch 32/150\n",
            "349/349 [==============================] - 88s 251ms/step - loss: 0.3658 - accuracy: 0.9534 - val_loss: 0.2104 - val_accuracy: 0.8162\n",
            "\n",
            "Epoch 00032: val_loss improved from 0.22600 to 0.21038, saving model to /content/drive/My Drive/RawFoot_Image/RawFoot_Image_Colour_Inspectionv3.h5\n",
            "Epoch 33/150\n",
            "349/349 [==============================] - 87s 250ms/step - loss: 0.3246 - accuracy: 0.9645 - val_loss: 1.7219 - val_accuracy: 0.8456\n",
            "\n",
            "Epoch 00033: val_loss did not improve from 0.21038\n",
            "Epoch 34/150\n",
            "349/349 [==============================] - 87s 250ms/step - loss: 0.3362 - accuracy: 0.9598 - val_loss: 4.7198 - val_accuracy: 0.8382\n",
            "\n",
            "Epoch 00034: val_loss did not improve from 0.21038\n",
            "Epoch 35/150\n",
            "349/349 [==============================] - 88s 252ms/step - loss: 0.3305 - accuracy: 0.9584 - val_loss: 3.6950 - val_accuracy: 0.8235\n",
            "\n",
            "Epoch 00035: val_loss did not improve from 0.21038\n",
            "Epoch 36/150\n",
            "349/349 [==============================] - 88s 251ms/step - loss: 0.3350 - accuracy: 0.9552 - val_loss: 0.1881 - val_accuracy: 0.8235\n",
            "\n",
            "Epoch 00036: val_loss improved from 0.21038 to 0.18811, saving model to /content/drive/My Drive/RawFoot_Image/RawFoot_Image_Colour_Inspectionv3.h5\n",
            "Epoch 37/150\n",
            "349/349 [==============================] - 87s 250ms/step - loss: 0.3341 - accuracy: 0.9580 - val_loss: 1.4937 - val_accuracy: 0.8309\n",
            "\n",
            "Epoch 00037: val_loss did not improve from 0.18811\n",
            "Epoch 38/150\n",
            "349/349 [==============================] - 88s 253ms/step - loss: 0.3198 - accuracy: 0.9588 - val_loss: 3.1666 - val_accuracy: 0.8162\n",
            "\n",
            "Epoch 00038: val_loss did not improve from 0.18811\n",
            "Epoch 39/150\n",
            "349/349 [==============================] - 88s 251ms/step - loss: 0.3131 - accuracy: 0.9631 - val_loss: 0.1876 - val_accuracy: 0.8529\n",
            "\n",
            "Epoch 00039: val_loss improved from 0.18811 to 0.18762, saving model to /content/drive/My Drive/RawFoot_Image/RawFoot_Image_Colour_Inspectionv3.h5\n",
            "Epoch 40/150\n",
            "349/349 [==============================] - 87s 250ms/step - loss: 0.2921 - accuracy: 0.9706 - val_loss: 0.1753 - val_accuracy: 0.8750\n",
            "\n",
            "Epoch 00040: val_loss improved from 0.18762 to 0.17526, saving model to /content/drive/My Drive/RawFoot_Image/RawFoot_Image_Colour_Inspectionv3.h5\n",
            "Epoch 41/150\n",
            "349/349 [==============================] - 88s 251ms/step - loss: 0.2976 - accuracy: 0.9638 - val_loss: 2.5027 - val_accuracy: 0.8382\n",
            "\n",
            "Epoch 00041: val_loss did not improve from 0.17526\n",
            "Epoch 42/150\n",
            "349/349 [==============================] - 91s 262ms/step - loss: 0.2926 - accuracy: 0.9717 - val_loss: 3.3859 - val_accuracy: 0.8382\n",
            "\n",
            "Epoch 00042: val_loss did not improve from 0.17526\n",
            "Epoch 43/150\n",
            "349/349 [==============================] - 90s 258ms/step - loss: 0.3013 - accuracy: 0.9598 - val_loss: 1.1643 - val_accuracy: 0.8382\n",
            "\n",
            "Epoch 00043: val_loss did not improve from 0.17526\n",
            "Epoch 44/150\n",
            "349/349 [==============================] - 92s 265ms/step - loss: 0.2947 - accuracy: 0.9666 - val_loss: 1.6218 - val_accuracy: 0.8529\n",
            "\n",
            "Epoch 00044: val_loss did not improve from 0.17526\n",
            "Epoch 45/150\n",
            "349/349 [==============================] - 89s 256ms/step - loss: 0.2644 - accuracy: 0.9709 - val_loss: 0.1624 - val_accuracy: 0.8309\n",
            "\n",
            "Epoch 00045: val_loss improved from 0.17526 to 0.16244, saving model to /content/drive/My Drive/RawFoot_Image/RawFoot_Image_Colour_Inspectionv3.h5\n",
            "Epoch 46/150\n",
            "349/349 [==============================] - 89s 254ms/step - loss: 0.2345 - accuracy: 0.9788 - val_loss: 3.0977 - val_accuracy: 0.8529\n",
            "\n",
            "Epoch 00046: val_loss did not improve from 0.16244\n",
            "Epoch 47/150\n",
            "349/349 [==============================] - 88s 253ms/step - loss: 0.2722 - accuracy: 0.9674 - val_loss: 2.5238 - val_accuracy: 0.8235\n",
            "\n",
            "Epoch 00047: val_loss did not improve from 0.16244\n",
            "Epoch 48/150\n",
            "349/349 [==============================] - 89s 254ms/step - loss: 0.2814 - accuracy: 0.9674 - val_loss: 2.1510 - val_accuracy: 0.8456\n",
            "\n",
            "Epoch 00048: val_loss did not improve from 0.16244\n",
            "Epoch 49/150\n",
            "349/349 [==============================] - 89s 255ms/step - loss: 0.2803 - accuracy: 0.9670 - val_loss: 3.4790 - val_accuracy: 0.8456\n",
            "\n",
            "Epoch 00049: val_loss did not improve from 0.16244\n",
            "Epoch 50/150\n",
            "349/349 [==============================] - 89s 254ms/step - loss: 0.2878 - accuracy: 0.9613 - val_loss: 0.7187 - val_accuracy: 0.8235\n",
            "\n",
            "Epoch 00050: val_loss did not improve from 0.16244\n",
            "Epoch 51/150\n",
            "349/349 [==============================] - 88s 253ms/step - loss: 0.2215 - accuracy: 0.9796 - val_loss: 0.1445 - val_accuracy: 0.8088\n",
            "\n",
            "Epoch 00051: val_loss improved from 0.16244 to 0.14453, saving model to /content/drive/My Drive/RawFoot_Image/RawFoot_Image_Colour_Inspectionv3.h5\n",
            "Epoch 52/150\n",
            "349/349 [==============================] - 88s 253ms/step - loss: 0.2662 - accuracy: 0.9681 - val_loss: 0.8149 - val_accuracy: 0.8382\n",
            "\n",
            "Epoch 00052: val_loss did not improve from 0.14453\n",
            "Epoch 53/150\n",
            "349/349 [==============================] - 88s 252ms/step - loss: 0.2295 - accuracy: 0.9745 - val_loss: 0.1518 - val_accuracy: 0.8456\n",
            "\n",
            "Epoch 00053: val_loss did not improve from 0.14453\n",
            "Epoch 54/150\n",
            "349/349 [==============================] - 88s 252ms/step - loss: 0.2712 - accuracy: 0.9638 - val_loss: 0.1571 - val_accuracy: 0.8309\n",
            "\n",
            "Epoch 00054: val_loss did not improve from 0.14453\n",
            "Epoch 55/150\n",
            "349/349 [==============================] - 88s 253ms/step - loss: 0.2596 - accuracy: 0.9677 - val_loss: 5.0043 - val_accuracy: 0.8235\n",
            "\n",
            "Epoch 00055: val_loss did not improve from 0.14453\n",
            "Epoch 56/150\n",
            "349/349 [==============================] - 89s 255ms/step - loss: 0.2199 - accuracy: 0.9788 - val_loss: 2.1519 - val_accuracy: 0.8309\n",
            "\n",
            "Epoch 00056: val_loss did not improve from 0.14453\n",
            "Epoch 57/150\n",
            "349/349 [==============================] - 88s 253ms/step - loss: 0.2492 - accuracy: 0.9681 - val_loss: 1.0437 - val_accuracy: 0.8235\n",
            "\n",
            "Epoch 00057: val_loss did not improve from 0.14453\n",
            "Epoch 58/150\n",
            "349/349 [==============================] - 88s 253ms/step - loss: 0.2038 - accuracy: 0.9813 - val_loss: 3.9256 - val_accuracy: 0.8456\n",
            "\n",
            "Epoch 00058: val_loss did not improve from 0.14453\n",
            "Epoch 59/150\n",
            "349/349 [==============================] - 89s 255ms/step - loss: 0.2223 - accuracy: 0.9745 - val_loss: 0.1444 - val_accuracy: 0.8382\n",
            "\n",
            "Epoch 00059: val_loss improved from 0.14453 to 0.14436, saving model to /content/drive/My Drive/RawFoot_Image/RawFoot_Image_Colour_Inspectionv3.h5\n",
            "Epoch 60/150\n",
            "349/349 [==============================] - 89s 254ms/step - loss: 0.2236 - accuracy: 0.9770 - val_loss: 6.1087 - val_accuracy: 0.8382\n",
            "\n",
            "Epoch 00060: val_loss did not improve from 0.14436\n",
            "Epoch 61/150\n",
            "349/349 [==============================] - 88s 253ms/step - loss: 0.2176 - accuracy: 0.9792 - val_loss: 0.5514 - val_accuracy: 0.8456\n",
            "\n",
            "Epoch 00061: val_loss did not improve from 0.14436\n",
            "Epoch 62/150\n",
            "349/349 [==============================] - 89s 254ms/step - loss: 0.1974 - accuracy: 0.9806 - val_loss: 0.9318 - val_accuracy: 0.8309\n",
            "\n",
            "Epoch 00062: val_loss did not improve from 0.14436\n",
            "Epoch 63/150\n",
            "349/349 [==============================] - 89s 255ms/step - loss: 0.2386 - accuracy: 0.9720 - val_loss: 0.9009 - val_accuracy: 0.8235\n",
            "\n",
            "Epoch 00063: val_loss did not improve from 0.14436\n",
            "Epoch 64/150\n",
            "349/349 [==============================] - 88s 253ms/step - loss: 0.2183 - accuracy: 0.9753 - val_loss: 0.2326 - val_accuracy: 0.8382\n",
            "\n",
            "Epoch 00064: val_loss did not improve from 0.14436\n",
            "Epoch 65/150\n",
            "349/349 [==============================] - 88s 253ms/step - loss: 0.2207 - accuracy: 0.9731 - val_loss: 0.1397 - val_accuracy: 0.8235\n",
            "\n",
            "Epoch 00065: val_loss improved from 0.14436 to 0.13967, saving model to /content/drive/My Drive/RawFoot_Image/RawFoot_Image_Colour_Inspectionv3.h5\n",
            "Epoch 66/150\n",
            "349/349 [==============================] - 88s 253ms/step - loss: 0.2243 - accuracy: 0.9720 - val_loss: 0.1395 - val_accuracy: 0.8456\n",
            "\n",
            "Epoch 00066: val_loss improved from 0.13967 to 0.13954, saving model to /content/drive/My Drive/RawFoot_Image/RawFoot_Image_Colour_Inspectionv3.h5\n",
            "Epoch 67/150\n",
            "349/349 [==============================] - 88s 253ms/step - loss: 0.2136 - accuracy: 0.9742 - val_loss: 0.9953 - val_accuracy: 0.8382\n",
            "\n",
            "Epoch 00067: val_loss did not improve from 0.13954\n",
            "Epoch 68/150\n",
            "349/349 [==============================] - 88s 253ms/step - loss: 0.2061 - accuracy: 0.9792 - val_loss: 15.0012 - val_accuracy: 0.8088\n",
            "\n",
            "Epoch 00068: val_loss did not improve from 0.13954\n",
            "Epoch 69/150\n",
            "349/349 [==============================] - 88s 253ms/step - loss: 0.2432 - accuracy: 0.9677 - val_loss: 1.7838 - val_accuracy: 0.8015\n",
            "\n",
            "Epoch 00069: val_loss did not improve from 0.13954\n",
            "Epoch 70/150\n",
            "349/349 [==============================] - 89s 255ms/step - loss: 0.2103 - accuracy: 0.9799 - val_loss: 0.1286 - val_accuracy: 0.8382\n",
            "\n",
            "Epoch 00070: val_loss improved from 0.13954 to 0.12860, saving model to /content/drive/My Drive/RawFoot_Image/RawFoot_Image_Colour_Inspectionv3.h5\n",
            "Epoch 71/150\n",
            "349/349 [==============================] - 88s 252ms/step - loss: 0.2025 - accuracy: 0.9806 - val_loss: 0.3611 - val_accuracy: 0.8382\n",
            "\n",
            "Epoch 00071: val_loss did not improve from 0.12860\n",
            "Epoch 72/150\n",
            "349/349 [==============================] - 88s 253ms/step - loss: 0.2255 - accuracy: 0.9688 - val_loss: 3.8957 - val_accuracy: 0.8382\n",
            "\n",
            "Epoch 00072: val_loss did not improve from 0.12860\n",
            "Epoch 73/150\n",
            "349/349 [==============================] - 89s 255ms/step - loss: 0.2131 - accuracy: 0.9760 - val_loss: 5.7373 - val_accuracy: 0.8309\n",
            "\n",
            "Epoch 00073: val_loss did not improve from 0.12860\n",
            "Epoch 74/150\n",
            "349/349 [==============================] - 88s 252ms/step - loss: 0.2096 - accuracy: 0.9792 - val_loss: 10.2592 - val_accuracy: 0.8382\n",
            "\n",
            "Epoch 00074: val_loss did not improve from 0.12860\n",
            "Epoch 75/150\n",
            "349/349 [==============================] - 89s 256ms/step - loss: 0.1928 - accuracy: 0.9785 - val_loss: 5.5550 - val_accuracy: 0.8382\n",
            "\n",
            "Epoch 00075: val_loss did not improve from 0.12860\n",
            "Epoch 76/150\n",
            "349/349 [==============================] - 89s 255ms/step - loss: 0.1999 - accuracy: 0.9763 - val_loss: 0.1291 - val_accuracy: 0.8456\n",
            "\n",
            "Epoch 00076: val_loss did not improve from 0.12860\n",
            "Epoch 77/150\n",
            "349/349 [==============================] - 89s 256ms/step - loss: 0.1958 - accuracy: 0.9781 - val_loss: 12.5989 - val_accuracy: 0.8382\n",
            "\n",
            "Epoch 00077: val_loss did not improve from 0.12860\n",
            "Epoch 78/150\n",
            "349/349 [==============================] - 88s 253ms/step - loss: 0.1987 - accuracy: 0.9760 - val_loss: 3.7148 - val_accuracy: 0.8382\n",
            "\n",
            "Epoch 00078: val_loss did not improve from 0.12860\n",
            "Epoch 79/150\n",
            "349/349 [==============================] - 88s 252ms/step - loss: 0.2039 - accuracy: 0.9767 - val_loss: 0.1413 - val_accuracy: 0.8235\n",
            "\n",
            "Epoch 00079: val_loss did not improve from 0.12860\n",
            "Epoch 80/150\n",
            "349/349 [==============================] - 88s 253ms/step - loss: 0.1879 - accuracy: 0.9813 - val_loss: 16.7605 - val_accuracy: 0.8309\n",
            "\n",
            "Epoch 00080: val_loss did not improve from 0.12860\n",
            "Epoch 81/150\n",
            "349/349 [==============================] - 88s 251ms/step - loss: 0.1739 - accuracy: 0.9821 - val_loss: 2.6529 - val_accuracy: 0.8456\n",
            "\n",
            "Epoch 00081: val_loss did not improve from 0.12860\n",
            "Epoch 82/150\n",
            "349/349 [==============================] - 88s 252ms/step - loss: 0.1775 - accuracy: 0.9817 - val_loss: 1.8911 - val_accuracy: 0.8235\n",
            "\n",
            "Epoch 00082: val_loss did not improve from 0.12860\n",
            "Epoch 83/150\n",
            "349/349 [==============================] - 88s 252ms/step - loss: 0.2039 - accuracy: 0.9778 - val_loss: 3.6599 - val_accuracy: 0.8162\n",
            "\n",
            "Epoch 00083: val_loss did not improve from 0.12860\n",
            "Epoch 84/150\n",
            "349/349 [==============================] - 89s 254ms/step - loss: 0.1957 - accuracy: 0.9788 - val_loss: 16.4463 - val_accuracy: 0.8235\n",
            "\n",
            "Epoch 00084: val_loss did not improve from 0.12860\n",
            "Epoch 85/150\n",
            "349/349 [==============================] - 88s 253ms/step - loss: 0.1816 - accuracy: 0.9831 - val_loss: 6.0087 - val_accuracy: 0.8235\n",
            "\n",
            "Epoch 00085: val_loss did not improve from 0.12860\n",
            "Epoch 86/150\n",
            "349/349 [==============================] - 89s 254ms/step - loss: 0.1698 - accuracy: 0.9824 - val_loss: 14.5472 - val_accuracy: 0.8162\n",
            "\n",
            "Epoch 00086: val_loss did not improve from 0.12860\n",
            "Epoch 87/150\n",
            "349/349 [==============================] - 89s 255ms/step - loss: 0.1697 - accuracy: 0.9853 - val_loss: 0.1103 - val_accuracy: 0.8309\n",
            "\n",
            "Epoch 00087: val_loss improved from 0.12860 to 0.11028, saving model to /content/drive/My Drive/RawFoot_Image/RawFoot_Image_Colour_Inspectionv3.h5\n",
            "Epoch 88/150\n",
            "349/349 [==============================] - 88s 251ms/step - loss: 0.1833 - accuracy: 0.9770 - val_loss: 4.5669 - val_accuracy: 0.8235\n",
            "\n",
            "Epoch 00088: val_loss did not improve from 0.11028\n",
            "Epoch 89/150\n",
            "349/349 [==============================] - 89s 255ms/step - loss: 0.1687 - accuracy: 0.9842 - val_loss: 3.4197 - val_accuracy: 0.8162\n",
            "\n",
            "Epoch 00089: val_loss did not improve from 0.11028\n",
            "Epoch 90/150\n",
            "349/349 [==============================] - 89s 254ms/step - loss: 0.1880 - accuracy: 0.9806 - val_loss: 18.3951 - val_accuracy: 0.8015\n",
            "\n",
            "Epoch 00090: val_loss did not improve from 0.11028\n",
            "Epoch 91/150\n",
            "349/349 [==============================] - 89s 256ms/step - loss: 0.1870 - accuracy: 0.9803 - val_loss: 10.7880 - val_accuracy: 0.8162\n",
            "\n",
            "Epoch 00091: val_loss did not improve from 0.11028\n",
            "Epoch 92/150\n",
            "349/349 [==============================] - 89s 256ms/step - loss: 0.1852 - accuracy: 0.9799 - val_loss: 10.8907 - val_accuracy: 0.8015\n",
            "\n",
            "Epoch 00092: val_loss did not improve from 0.11028\n",
            "Epoch 93/150\n",
            "349/349 [==============================] - 90s 258ms/step - loss: 0.1941 - accuracy: 0.9760 - val_loss: 2.4390 - val_accuracy: 0.8235\n",
            "\n",
            "Epoch 00093: val_loss did not improve from 0.11028\n",
            "Epoch 94/150\n",
            "349/349 [==============================] - 90s 259ms/step - loss: 0.1612 - accuracy: 0.9849 - val_loss: 8.0995 - val_accuracy: 0.8235\n",
            "\n",
            "Epoch 00094: val_loss did not improve from 0.11028\n",
            "Epoch 95/150\n",
            "349/349 [==============================] - 90s 258ms/step - loss: 0.1913 - accuracy: 0.9763 - val_loss: 0.1154 - val_accuracy: 0.8162\n",
            "\n",
            "Epoch 00095: val_loss did not improve from 0.11028\n",
            "Epoch 96/150\n",
            "349/349 [==============================] - 90s 257ms/step - loss: 0.1786 - accuracy: 0.9821 - val_loss: 10.7568 - val_accuracy: 0.8235\n",
            "\n",
            "Epoch 00096: val_loss did not improve from 0.11028\n",
            "Epoch 97/150\n",
            "349/349 [==============================] - 91s 260ms/step - loss: 0.1545 - accuracy: 0.9849 - val_loss: 0.1044 - val_accuracy: 0.8382\n",
            "\n",
            "Epoch 00097: val_loss improved from 0.11028 to 0.10441, saving model to /content/drive/My Drive/RawFoot_Image/RawFoot_Image_Colour_Inspectionv3.h5\n",
            "Epoch 98/150\n",
            "349/349 [==============================] - 90s 259ms/step - loss: 0.1494 - accuracy: 0.9828 - val_loss: 3.2727 - val_accuracy: 0.8309\n",
            "\n",
            "Epoch 00098: val_loss did not improve from 0.10441\n",
            "Epoch 99/150\n",
            "349/349 [==============================] - 90s 258ms/step - loss: 0.1637 - accuracy: 0.9839 - val_loss: 5.3235 - val_accuracy: 0.8235\n",
            "\n",
            "Epoch 00099: val_loss did not improve from 0.10441\n",
            "Epoch 100/150\n",
            "349/349 [==============================] - 90s 259ms/step - loss: 0.1775 - accuracy: 0.9796 - val_loss: 3.8722 - val_accuracy: 0.8309\n",
            "\n",
            "Epoch 00100: val_loss did not improve from 0.10441\n",
            "Epoch 101/150\n",
            "349/349 [==============================] - 91s 260ms/step - loss: 0.1795 - accuracy: 0.9799 - val_loss: 0.2987 - val_accuracy: 0.8235\n",
            "\n",
            "Epoch 00101: val_loss did not improve from 0.10441\n",
            "Epoch 102/150\n",
            "349/349 [==============================] - 92s 262ms/step - loss: 0.1569 - accuracy: 0.9842 - val_loss: 2.4301 - val_accuracy: 0.8235\n",
            "\n",
            "Epoch 00102: val_loss did not improve from 0.10441\n",
            "Epoch 103/150\n",
            "349/349 [==============================] - 91s 260ms/step - loss: 0.1524 - accuracy: 0.9864 - val_loss: 3.8220 - val_accuracy: 0.8309\n",
            "\n",
            "Epoch 00103: val_loss did not improve from 0.10441\n",
            "Epoch 104/150\n",
            "349/349 [==============================] - 91s 261ms/step - loss: 0.1748 - accuracy: 0.9785 - val_loss: 10.0561 - val_accuracy: 0.8235\n",
            "\n",
            "Epoch 00104: val_loss did not improve from 0.10441\n",
            "Epoch 105/150\n",
            "349/349 [==============================] - 92s 265ms/step - loss: 0.1715 - accuracy: 0.9821 - val_loss: 11.3018 - val_accuracy: 0.8309\n",
            "\n",
            "Epoch 00105: val_loss did not improve from 0.10441\n",
            "Epoch 106/150\n",
            "349/349 [==============================] - 91s 262ms/step - loss: 0.1472 - accuracy: 0.9874 - val_loss: 0.1245 - val_accuracy: 0.8309\n",
            "\n",
            "Epoch 00106: val_loss did not improve from 0.10441\n",
            "Epoch 107/150\n",
            "349/349 [==============================] - 92s 264ms/step - loss: 0.1804 - accuracy: 0.9785 - val_loss: 3.2382 - val_accuracy: 0.8382\n",
            "\n",
            "Epoch 00107: val_loss did not improve from 0.10441\n",
            "Epoch 108/150\n",
            "349/349 [==============================] - 92s 264ms/step - loss: 0.1754 - accuracy: 0.9821 - val_loss: 6.4547 - val_accuracy: 0.8309\n",
            "\n",
            "Epoch 00108: val_loss did not improve from 0.10441\n",
            "Epoch 109/150\n",
            "349/349 [==============================] - 91s 262ms/step - loss: 0.1515 - accuracy: 0.9874 - val_loss: 4.4344 - val_accuracy: 0.8309\n",
            "\n",
            "Epoch 00109: val_loss did not improve from 0.10441\n",
            "Epoch 110/150\n",
            "349/349 [==============================] - 92s 263ms/step - loss: 0.1572 - accuracy: 0.9842 - val_loss: 0.1103 - val_accuracy: 0.8235\n",
            "\n",
            "Epoch 00110: val_loss did not improve from 0.10441\n",
            "Epoch 111/150\n",
            "349/349 [==============================] - 92s 264ms/step - loss: 0.1664 - accuracy: 0.9810 - val_loss: 3.9549 - val_accuracy: 0.8162\n",
            "\n",
            "Epoch 00111: val_loss did not improve from 0.10441\n",
            "Epoch 112/150\n",
            "349/349 [==============================] - 91s 262ms/step - loss: 0.1709 - accuracy: 0.9839 - val_loss: 0.1109 - val_accuracy: 0.8235\n",
            "\n",
            "Epoch 00112: val_loss did not improve from 0.10441\n",
            "Epoch 113/150\n",
            "349/349 [==============================] - 91s 262ms/step - loss: 0.1558 - accuracy: 0.9860 - val_loss: 8.7280 - val_accuracy: 0.8235\n",
            "\n",
            "Epoch 00113: val_loss did not improve from 0.10441\n",
            "Epoch 114/150\n",
            "349/349 [==============================] - 91s 260ms/step - loss: 0.1562 - accuracy: 0.9842 - val_loss: 1.2228 - val_accuracy: 0.8235\n",
            "\n",
            "Epoch 00114: val_loss did not improve from 0.10441\n",
            "Epoch 115/150\n",
            "349/349 [==============================] - 91s 261ms/step - loss: 0.1417 - accuracy: 0.9878 - val_loss: 8.5078 - val_accuracy: 0.8382\n",
            "\n",
            "Epoch 00115: val_loss did not improve from 0.10441\n",
            "Epoch 116/150\n",
            "349/349 [==============================] - 90s 258ms/step - loss: 0.1495 - accuracy: 0.9849 - val_loss: 0.1031 - val_accuracy: 0.8235\n",
            "\n",
            "Epoch 00116: val_loss improved from 0.10441 to 0.10315, saving model to /content/drive/My Drive/RawFoot_Image/RawFoot_Image_Colour_Inspectionv3.h5\n",
            "Epoch 117/150\n",
            "349/349 [==============================] - 90s 257ms/step - loss: 0.1688 - accuracy: 0.9781 - val_loss: 2.6587 - val_accuracy: 0.8235\n",
            "\n",
            "Epoch 00117: val_loss did not improve from 0.10315\n",
            "Epoch 118/150\n",
            "349/349 [==============================] - 91s 261ms/step - loss: 0.1567 - accuracy: 0.9853 - val_loss: 0.4406 - val_accuracy: 0.8162\n",
            "\n",
            "Epoch 00118: val_loss did not improve from 0.10315\n",
            "Epoch 119/150\n",
            "349/349 [==============================] - 90s 258ms/step - loss: 0.1445 - accuracy: 0.9867 - val_loss: 3.0043 - val_accuracy: 0.8088\n",
            "\n",
            "Epoch 00119: val_loss did not improve from 0.10315\n",
            "Epoch 120/150\n",
            "349/349 [==============================] - 90s 259ms/step - loss: 0.1608 - accuracy: 0.9831 - val_loss: 10.5084 - val_accuracy: 0.8309\n",
            "\n",
            "Epoch 00120: val_loss did not improve from 0.10315\n",
            "Epoch 121/150\n",
            "349/349 [==============================] - 90s 258ms/step - loss: 0.1491 - accuracy: 0.9853 - val_loss: 6.0266 - val_accuracy: 0.8309\n",
            "\n",
            "Epoch 00121: val_loss did not improve from 0.10315\n",
            "Epoch 122/150\n",
            "349/349 [==============================] - 91s 261ms/step - loss: 0.1444 - accuracy: 0.9889 - val_loss: 5.2341 - val_accuracy: 0.8235\n",
            "\n",
            "Epoch 00122: val_loss did not improve from 0.10315\n",
            "Epoch 123/150\n",
            "349/349 [==============================] - 91s 261ms/step - loss: 0.1545 - accuracy: 0.9810 - val_loss: 3.4198 - val_accuracy: 0.8309\n",
            "\n",
            "Epoch 00123: val_loss did not improve from 0.10315\n",
            "Epoch 124/150\n",
            "349/349 [==============================] - 91s 259ms/step - loss: 0.1519 - accuracy: 0.9857 - val_loss: 9.1338 - val_accuracy: 0.8235\n",
            "\n",
            "Epoch 00124: val_loss did not improve from 0.10315\n",
            "Epoch 125/150\n",
            "349/349 [==============================] - 91s 262ms/step - loss: 0.1612 - accuracy: 0.9813 - val_loss: 9.6575 - val_accuracy: 0.8309\n",
            "\n",
            "Epoch 00125: val_loss did not improve from 0.10315\n",
            "Epoch 126/150\n",
            "349/349 [==============================] - 91s 261ms/step - loss: 0.1645 - accuracy: 0.9796 - val_loss: 1.2111 - val_accuracy: 0.8162\n",
            "\n",
            "Epoch 00126: val_loss did not improve from 0.10315\n",
            "Epoch 127/150\n",
            "349/349 [==============================] - 89s 256ms/step - loss: 0.1718 - accuracy: 0.9803 - val_loss: 2.1213 - val_accuracy: 0.8309\n",
            "\n",
            "Epoch 00127: val_loss did not improve from 0.10315\n",
            "Epoch 128/150\n",
            "349/349 [==============================] - 90s 257ms/step - loss: 0.1512 - accuracy: 0.9860 - val_loss: 1.1687 - val_accuracy: 0.8309\n",
            "\n",
            "Epoch 00128: val_loss did not improve from 0.10315\n",
            "Epoch 129/150\n",
            "349/349 [==============================] - 89s 256ms/step - loss: 0.1440 - accuracy: 0.9892 - val_loss: 1.7747 - val_accuracy: 0.8529\n",
            "\n",
            "Epoch 00129: val_loss did not improve from 0.10315\n",
            "Epoch 130/150\n",
            "349/349 [==============================] - 89s 256ms/step - loss: 0.1504 - accuracy: 0.9864 - val_loss: 1.3930 - val_accuracy: 0.8235\n",
            "\n",
            "Epoch 00130: val_loss did not improve from 0.10315\n",
            "Epoch 131/150\n",
            "349/349 [==============================] - 89s 255ms/step - loss: 0.1436 - accuracy: 0.9849 - val_loss: 2.2119 - val_accuracy: 0.8529\n",
            "\n",
            "Epoch 00131: val_loss did not improve from 0.10315\n",
            "Epoch 132/150\n",
            "349/349 [==============================] - 89s 255ms/step - loss: 0.1514 - accuracy: 0.9846 - val_loss: 7.6400 - val_accuracy: 0.8309\n",
            "\n",
            "Epoch 00132: val_loss did not improve from 0.10315\n",
            "Epoch 133/150\n",
            "349/349 [==============================] - 89s 255ms/step - loss: 0.1467 - accuracy: 0.9831 - val_loss: 4.9739 - val_accuracy: 0.8309\n",
            "\n",
            "Epoch 00133: val_loss did not improve from 0.10315\n",
            "Epoch 134/150\n",
            "349/349 [==============================] - 89s 256ms/step - loss: 0.1380 - accuracy: 0.9871 - val_loss: 0.0952 - val_accuracy: 0.8382\n",
            "\n",
            "Epoch 00134: val_loss improved from 0.10315 to 0.09519, saving model to /content/drive/My Drive/RawFoot_Image/RawFoot_Image_Colour_Inspectionv3.h5\n",
            "Epoch 135/150\n",
            "349/349 [==============================] - 89s 256ms/step - loss: 0.1451 - accuracy: 0.9842 - val_loss: 1.2816 - val_accuracy: 0.8162\n",
            "\n",
            "Epoch 00135: val_loss did not improve from 0.09519\n",
            "Epoch 136/150\n",
            "349/349 [==============================] - 88s 253ms/step - loss: 0.1471 - accuracy: 0.9878 - val_loss: 13.7968 - val_accuracy: 0.8162\n",
            "\n",
            "Epoch 00136: val_loss did not improve from 0.09519\n",
            "Epoch 137/150\n",
            "349/349 [==============================] - 89s 254ms/step - loss: 0.1444 - accuracy: 0.9842 - val_loss: 9.4068 - val_accuracy: 0.8235\n",
            "\n",
            "Epoch 00137: val_loss did not improve from 0.09519\n",
            "Epoch 138/150\n",
            "349/349 [==============================] - 88s 252ms/step - loss: 0.1542 - accuracy: 0.9853 - val_loss: 11.1103 - val_accuracy: 0.8235\n",
            "\n",
            "Epoch 00138: val_loss did not improve from 0.09519\n",
            "Epoch 139/150\n",
            "349/349 [==============================] - 88s 252ms/step - loss: 0.1356 - accuracy: 0.9885 - val_loss: 17.0965 - val_accuracy: 0.8309\n",
            "\n",
            "Epoch 00139: val_loss did not improve from 0.09519\n",
            "Epoch 140/150\n",
            "349/349 [==============================] - 88s 251ms/step - loss: 0.1350 - accuracy: 0.9878 - val_loss: 0.0954 - val_accuracy: 0.8235\n",
            "\n",
            "Epoch 00140: val_loss did not improve from 0.09519\n",
            "Epoch 141/150\n",
            "349/349 [==============================] - 88s 251ms/step - loss: 0.1687 - accuracy: 0.9810 - val_loss: 1.4762 - val_accuracy: 0.8235\n",
            "\n",
            "Epoch 00141: val_loss did not improve from 0.09519\n",
            "Epoch 142/150\n",
            "349/349 [==============================] - 88s 252ms/step - loss: 0.1383 - accuracy: 0.9885 - val_loss: 0.0965 - val_accuracy: 0.8309\n",
            "\n",
            "Epoch 00142: val_loss did not improve from 0.09519\n",
            "Epoch 143/150\n",
            "349/349 [==============================] - 88s 252ms/step - loss: 0.1443 - accuracy: 0.9867 - val_loss: 0.0952 - val_accuracy: 0.8382\n",
            "\n",
            "Epoch 00143: val_loss did not improve from 0.09519\n",
            "Epoch 144/150\n",
            "349/349 [==============================] - 88s 251ms/step - loss: 0.1413 - accuracy: 0.9857 - val_loss: 1.6262 - val_accuracy: 0.8162\n",
            "\n",
            "Epoch 00144: val_loss did not improve from 0.09519\n",
            "Epoch 145/150\n",
            "349/349 [==============================] - 88s 251ms/step - loss: 0.1411 - accuracy: 0.9867 - val_loss: 0.0942 - val_accuracy: 0.8235\n",
            "\n",
            "Epoch 00145: val_loss improved from 0.09519 to 0.09423, saving model to /content/drive/My Drive/RawFoot_Image/RawFoot_Image_Colour_Inspectionv3.h5\n",
            "Epoch 146/150\n",
            "349/349 [==============================] - 88s 252ms/step - loss: 0.1378 - accuracy: 0.9864 - val_loss: 6.9702 - val_accuracy: 0.8309\n",
            "\n",
            "Epoch 00146: val_loss did not improve from 0.09423\n",
            "Epoch 147/150\n",
            "349/349 [==============================] - 88s 252ms/step - loss: 0.1370 - accuracy: 0.9889 - val_loss: 8.4782 - val_accuracy: 0.8382\n",
            "\n",
            "Epoch 00147: val_loss did not improve from 0.09423\n",
            "Epoch 148/150\n",
            "349/349 [==============================] - 88s 251ms/step - loss: 0.1350 - accuracy: 0.9860 - val_loss: 8.1957 - val_accuracy: 0.8382\n",
            "\n",
            "Epoch 00148: val_loss did not improve from 0.09423\n",
            "Epoch 149/150\n",
            "349/349 [==============================] - 88s 251ms/step - loss: 0.1449 - accuracy: 0.9860 - val_loss: 2.8306 - val_accuracy: 0.8382\n",
            "\n",
            "Epoch 00149: val_loss did not improve from 0.09423\n",
            "Epoch 150/150\n",
            "349/349 [==============================] - 88s 251ms/step - loss: 0.1536 - accuracy: 0.9842 - val_loss: 0.0976 - val_accuracy: 0.8235\n",
            "\n",
            "Epoch 00150: val_loss did not improve from 0.09423\n"
          ],
          "name": "stdout"
        }
      ]
    },
    {
      "cell_type": "code",
      "metadata": {
        "id": "SZD3o1_jNFdU",
        "colab_type": "code",
        "colab": {
          "base_uri": "https://localhost:8080/",
          "height": 295
        },
        "outputId": "7eb52a2e-0d17-4f1d-d91c-6a50c156ce09"
      },
      "source": [
        "import matplotlib.pyplot as plt\n",
        "plt.plot(hist.history[\"accuracy\"])\n",
        "plt.plot(hist.history['val_accuracy'])\n",
        "plt.title(\"model accuracy\")\n",
        "plt.ylabel(\"Accuracy\")\n",
        "plt.xlabel(\"Epoch\")\n",
        "plt.legend([\"Accuracy\",\"Validation Accuracy\"])\n",
        "plt.show()"
      ],
      "execution_count": null,
      "outputs": [
        {
          "output_type": "display_data",
          "data": {
            "image/png": "[encoded data removed]",
            "text/plain": [
              "<Figure size 432x288 with 1 Axes>"
            ]
          },
          "metadata": {
            "tags": [],
            "needs_background": "light"
          }
        }
      ]
    },
    {
      "cell_type": "code",
      "metadata": {
        "id": "pIX7hNiiNKiC",
        "colab_type": "code",
        "colab": {
          "base_uri": "https://localhost:8080/",
          "height": 295
        },
        "outputId": "9819f455-7451-4dde-da3b-43341ad8f52d"
      },
      "source": [
        "plt.plot(hist.history['loss'])\n",
        "plt.plot(hist.history['val_loss'])\n",
        "plt.title(\"model Loss\")\n",
        "plt.ylabel(\"Loss\")\n",
        "plt.xlabel(\"Epoch\")\n",
        "plt.legend([\"Loss\",\"Validation Loss\"])\n",
        "plt.show()"
      ],
      "execution_count": null,
      "outputs": [
        {
          "output_type": "display_data",
          "data": {
            "image/png": "[encoded data removed]",
            "text/plain": [
              "<Figure size 432x288 with 1 Axes>"
            ]
          },
          "metadata": {
            "tags": [],
            "needs_background": "light"
          }
        }
      ]
    },
    {
      "cell_type": "code",
      "metadata": {
        "id": "Ty3i6zFRNMNS",
        "colab_type": "code",
        "colab": {
          "base_uri": "https://localhost:8080/",
          "height": 34
        },
        "outputId": "334e42ca-96c9-4e68-b9df-4b4846e42a75"
      },
      "source": [
        "Colour_TestData = TestGenerator.flow_from_directory('/content/drive/My Drive/RawFoot_Image/Test/', target_size=(224,224), batch_size = 8, shuffle = False)"
      ],
      "execution_count": null,
      "outputs": [
        {
          "output_type": "stream",
          "text": [
            "Found 204 images belonging to 68 classes.\n"
          ],
          "name": "stdout"
        }
      ]
    },
    {
      "cell_type": "code",
      "metadata": {
        "id": "qgzjvIC9LPJ1",
        "colab_type": "code",
        "colab": {}
      },
      "source": [
        "colour_model.load_weights('/content/drive/My Drive/RawFoot_Image/RawFoot_Image_Colour_Inspectionv3.h5')"
      ],
      "execution_count": null,
      "outputs": []
    },
    {
      "cell_type": "code",
      "metadata": {
        "id": "Nq_iPyotOgaL",
        "colab_type": "code",
        "colab": {}
      },
      "source": [
        "Colour_predict = colour_model.predict(Colour_TestData)"
      ],
      "execution_count": null,
      "outputs": []
    },
    {
      "cell_type": "code",
      "metadata": {
        "id": "TsPBSBl8OndK",
        "colab_type": "code",
        "colab": {}
      },
      "source": [
        "Colour_predict_classes = np.argmax(Colour_predict, axis=1)"
      ],
      "execution_count": null,
      "outputs": []
    },
    {
      "cell_type": "code",
      "metadata": {
        "id": "Rvyl2C1yOqD_",
        "colab_type": "code",
        "colab": {
          "base_uri": "https://localhost:8080/",
          "height": 221
        },
        "outputId": "ea6316b6-35a7-4160-9307-5524ebff2aca"
      },
      "source": [
        "Colour_predict_classes"
      ],
      "execution_count": null,
      "outputs": [
        {
          "output_type": "execute_result",
          "data": {
            "text/plain": [
              "array([ 0,  0,  0,  1,  1, 52,  2, 28, 28,  3, 27,  3,  4,  4,  4, 64, 29,\n",
              "        5,  6,  6,  6,  7,  7,  7,  8,  8, 15,  9,  9,  9, 10, 10, 10, 41,\n",
              "       66, 29, 41, 12, 12, 13, 13, 61, 29, 14, 14, 15, 15, 15, 16, 16, 29,\n",
              "       17, 17, 33, 39, 16, 18, 29, 16, 19, 20, 20, 20, 21, 21, 21, 22, 22,\n",
              "       22, 23, 23, 23, 24, 24, 24, 25, 25, 25, 16, 16, 26, 27, 27, 27, 28,\n",
              "       28, 28, 64, 64, 29, 66, 66, 30, 31, 31, 31, 32, 32, 32, 33, 33, 33,\n",
              "       34, 34, 16, 29, 35, 66, 36, 16, 36, 37, 16, 37, 38, 38, 38, 39, 16,\n",
              "       39, 40, 40, 40, 29, 29, 41, 42, 42, 42, 43, 43, 43, 29, 44, 44, 45,\n",
              "       45, 45, 46, 46, 46, 47, 47, 47, 29, 48, 48, 49, 49, 49, 50, 50, 50,\n",
              "       51, 51, 51, 52, 52, 52, 53, 53, 53, 54, 54, 54, 55, 55, 55, 56, 56,\n",
              "       56, 57, 57,  3, 58, 58, 58, 59, 59, 59, 60, 66, 45, 61, 61, 61, 62,\n",
              "       62, 62, 63, 63, 63, 64, 64, 64, 41, 65, 28, 66, 66, 66, 67, 67, 67])"
            ]
          },
          "metadata": {
            "tags": []
          },
          "execution_count": 52
        }
      ]
    },
    {
      "cell_type": "code",
      "metadata": {
        "id": "meFyvYOrOr9L",
        "colab_type": "code",
        "colab": {
          "base_uri": "https://localhost:8080/",
          "height": 34
        },
        "outputId": "fcffaa63-1763-489c-f373-31ebfe59a482"
      },
      "source": [
        "Colour_accuracy = accuracy_score(Colour_TestData.classes, Colour_predict_classes)\n",
        "print(\"Colour Accuracy: \", Colour_accuracy)"
      ],
      "execution_count": null,
      "outputs": [
        {
          "output_type": "stream",
          "text": [
            "Colour Accuracy:  0.803921568627451\n"
          ],
          "name": "stdout"
        }
      ]
    },
    {
      "cell_type": "code",
      "metadata": {
        "id": "V-4hFVOkPpsd",
        "colab_type": "code",
        "colab": {
          "base_uri": "https://localhost:8080/",
          "height": 88
        },
        "outputId": "60d71002-8c3a-49d5-b0b4-39e48b9209c0"
      },
      "source": [
        "Colour_precision = precision_score(Colour_TestData.classes, Colour_predict_classes,average=\"weighted\")\n",
        "print(\"Colour Precision: \", Colour_precision)"
      ],
      "execution_count": null,
      "outputs": [
        {
          "output_type": "stream",
          "text": [
            "Colour Precision:  0.8933712121212122\n"
          ],
          "name": "stdout"
        },
        {
          "output_type": "stream",
          "text": [
            "/usr/local/lib/python3.6/dist-packages/sklearn/metrics/_classification.py:1272: UndefinedMetricWarning: Precision is ill-defined and being set to 0.0 in labels with no predicted samples. Use `zero_division` parameter to control this behavior.\n",
            "  _warn_prf(average, modifier, msg_start, len(result))\n"
          ],
          "name": "stderr"
        }
      ]
    },
    {
      "cell_type": "code",
      "metadata": {
        "id": "VkgJCVPqPu3t",
        "colab_type": "code",
        "colab": {
          "base_uri": "https://localhost:8080/",
          "height": 34
        },
        "outputId": "2325aedf-4b54-4034-fecb-1a91b0b53bf4"
      },
      "source": [
        "Colour_recall = recall_score(Colour_TestData.classes, Colour_predict_classes, average=\"weighted\")\n",
        "print(\"Colour Recall:\", Colour_recall)"
      ],
      "execution_count": null,
      "outputs": [
        {
          "output_type": "stream",
          "text": [
            "Colour Recall: 0.803921568627451\n"
          ],
          "name": "stdout"
        }
      ]
    },
    {
      "cell_type": "code",
      "metadata": {
        "id": "sGzTOJ5VPydq",
        "colab_type": "code",
        "colab": {
          "base_uri": "https://localhost:8080/",
          "height": 34
        },
        "outputId": "6745a6a7-a97a-458f-ff41-8044accc94d9"
      },
      "source": [
        "Colour_f1_score = f1_score(Colour_TestData.classes, Colour_predict_classes, average=\"weighted\")\n",
        "print(\"F1 score for colour: \", Colour_f1_score)"
      ],
      "execution_count": null,
      "outputs": [
        {
          "output_type": "stream",
          "text": [
            "F1 score for colour:  0.8116359131065013\n"
          ],
          "name": "stdout"
        }
      ]
    },
    {
      "cell_type": "markdown",
      "metadata": {
        "id": "A3QNKcw2P5wD",
        "colab_type": "text"
      },
      "source": [
        "**Emsemble**"
      ]
    },
    {
      "cell_type": "code",
      "metadata": {
        "id": "01-hknWtP-OV",
        "colab_type": "code",
        "colab": {}
      },
      "source": [
        "Final = 0.6* Colour_predict + 0.4* Grey_predict"
      ],
      "execution_count": null,
      "outputs": []
    },
    {
      "cell_type": "code",
      "metadata": {
        "id": "CnzKZmW8QB1Y",
        "colab_type": "code",
        "colab": {}
      },
      "source": [
        "Final_Predict_classes = np.argmax(Final, axis=1)"
      ],
      "execution_count": null,
      "outputs": []
    },
    {
      "cell_type": "code",
      "metadata": {
        "id": "ez9pZ_95QFPT",
        "colab_type": "code",
        "colab": {
          "base_uri": "https://localhost:8080/",
          "height": 221
        },
        "outputId": "2e3a782a-7453-4d99-e744-fffd2310692f"
      },
      "source": [
        "Final_Predict_classes"
      ],
      "execution_count": null,
      "outputs": [
        {
          "output_type": "execute_result",
          "data": {
            "text/plain": [
              "array([ 0,  0,  0,  1,  1, 52,  2, 51, 51,  3,  3,  3,  4,  4,  4, 64, 29,\n",
              "        5,  6,  6,  6,  7,  7,  7,  8,  8, 15,  9,  9,  9, 10, 10, 10, 41,\n",
              "       66, 29, 41, 12, 12, 13, 13, 61, 29, 14, 14, 15, 15, 15, 16, 16, 29,\n",
              "       17, 17, 33, 18, 16, 18, 29, 16, 19, 20, 20, 20, 21, 21, 21, 22, 22,\n",
              "       22, 23, 23, 23, 24, 24, 24, 25, 25, 25, 16, 16, 26, 27, 27, 27, 28,\n",
              "       28, 28, 64, 64, 29, 66, 66, 30, 31, 31, 31, 32, 32, 32, 33, 33, 33,\n",
              "       34, 34, 16, 16, 35, 66, 36, 16, 36, 37, 16, 37, 38, 38, 38, 39, 16,\n",
              "       39, 40, 40, 40, 29, 29, 41, 42, 42, 42, 43, 43, 43, 60, 44, 44, 45,\n",
              "       45, 45, 46, 46, 46, 47, 47, 47, 29, 48, 48, 49, 49, 49, 50, 50, 50,\n",
              "       51, 51, 51, 52, 52, 52, 53, 53, 53, 54, 54, 54, 55, 55, 55, 56, 56,\n",
              "       56, 57, 57, 57, 58, 58, 58, 59, 59, 59, 60, 66, 51, 61, 61, 61, 62,\n",
              "       62, 62, 63, 63, 63, 64, 64, 64, 41, 65, 28, 66, 66, 66, 67, 67, 67])"
            ]
          },
          "metadata": {
            "tags": []
          },
          "execution_count": 59
        }
      ]
    },
    {
      "cell_type": "code",
      "metadata": {
        "id": "uIIiaLeAQHCz",
        "colab_type": "code",
        "colab": {
          "base_uri": "https://localhost:8080/",
          "height": 34
        },
        "outputId": "c10e7784-de7d-4a1c-be79-31745110c73c"
      },
      "source": [
        "Final_accuracy = accuracy_score(Colour_TestData.classes, Final_Predict_classes)\n",
        "print(\"Colour Accuracy: \", Final_accuracy)"
      ],
      "execution_count": null,
      "outputs": [
        {
          "output_type": "stream",
          "text": [
            "Colour Accuracy:  0.8186274509803921\n"
          ],
          "name": "stdout"
        }
      ]
    },
    {
      "cell_type": "code",
      "metadata": {
        "id": "0xWh0QU4QKfi",
        "colab_type": "code",
        "colab": {
          "base_uri": "https://localhost:8080/",
          "height": 88
        },
        "outputId": "42a0e83f-cc09-441c-aaab-c0096c3c1eff"
      },
      "source": [
        "Final_precision = precision_score(Colour_TestData.classes, Final_Predict_classes,average=\"weighted\")\n",
        "print(\"Colour Precision: \", Final_precision)"
      ],
      "execution_count": null,
      "outputs": [
        {
          "output_type": "stream",
          "text": [
            "Colour Precision:  0.8995283719548425\n"
          ],
          "name": "stdout"
        },
        {
          "output_type": "stream",
          "text": [
            "/usr/local/lib/python3.6/dist-packages/sklearn/metrics/_classification.py:1272: UndefinedMetricWarning: Precision is ill-defined and being set to 0.0 in labels with no predicted samples. Use `zero_division` parameter to control this behavior.\n",
            "  _warn_prf(average, modifier, msg_start, len(result))\n"
          ],
          "name": "stderr"
        }
      ]
    },
    {
      "cell_type": "code",
      "metadata": {
        "id": "SUe0YMKmQS0f",
        "colab_type": "code",
        "colab": {
          "base_uri": "https://localhost:8080/",
          "height": 34
        },
        "outputId": "645bdfa2-13e7-4fa1-fbf4-e64be360306f"
      },
      "source": [
        "Final_recall = recall_score(Colour_TestData.classes, Final_Predict_classes, average=\"weighted\")\n",
        "print(\"Colour Recall:\", Final_recall)"
      ],
      "execution_count": null,
      "outputs": [
        {
          "output_type": "stream",
          "text": [
            "Colour Recall: 0.8186274509803921\n"
          ],
          "name": "stdout"
        }
      ]
    },
    {
      "cell_type": "code",
      "metadata": {
        "id": "pJraKXWUQVt_",
        "colab_type": "code",
        "colab": {
          "base_uri": "https://localhost:8080/",
          "height": 34
        },
        "outputId": "13b624f1-7f1a-49f9-909a-350f7ae2b386"
      },
      "source": [
        "Final_f1_score = f1_score(Colour_TestData.classes, Final_Predict_classes, average=\"weighted\")\n",
        "print(\"F1 score for colour: \", Final_f1_score)"
      ],
      "execution_count": null,
      "outputs": [
        {
          "output_type": "stream",
          "text": [
            "F1 score for colour:  0.8265087853323146\n"
          ],
          "name": "stdout"
        }
      ]
    },
    {
      "cell_type": "code",
      "metadata": {
        "id": "0qEgDAK36qj-",
        "colab_type": "code",
        "colab": {}
      },
      "source": [
        "Second_Final = 0.5* Colour_predict + 0.5 * Grey_predict"
      ],
      "execution_count": null,
      "outputs": []
    },
    {
      "cell_type": "code",
      "metadata": {
        "id": "z5J1_SGc63t7",
        "colab_type": "code",
        "colab": {}
      },
      "source": [
        "Second_predict_classes = np.argmax(Second_Final, axis=1)"
      ],
      "execution_count": null,
      "outputs": []
    },
    {
      "cell_type": "code",
      "metadata": {
        "id": "hmdwqtuo7A63",
        "colab_type": "code",
        "colab": {
          "base_uri": "https://localhost:8080/",
          "height": 221
        },
        "outputId": "a8c4a879-8cdc-41da-8440-2ea3d6e2f954"
      },
      "source": [
        "Second_predict_classes"
      ],
      "execution_count": null,
      "outputs": [
        {
          "output_type": "execute_result",
          "data": {
            "text/plain": [
              "array([ 0,  0,  0,  1,  1,  1,  2, 51, 51,  3,  3,  3,  4,  4,  4, 64, 29,\n",
              "        5,  6,  6,  6,  7,  7,  7,  8,  8,  8,  9,  9,  9, 10, 10, 10, 41,\n",
              "       66, 29, 51, 12, 12, 13, 13, 61, 29, 14, 14, 15, 15, 15, 16, 16, 16,\n",
              "       17, 17, 17, 18, 18, 18, 29, 60, 19, 20, 20, 20, 21, 21, 21, 22, 22,\n",
              "       22, 23, 23, 23, 24, 24, 24, 25, 25, 25, 26, 26, 26, 27, 27, 27, 28,\n",
              "       28, 28, 64, 64, 29, 66, 66, 30, 31, 31, 31, 32, 32, 32, 33, 33, 33,\n",
              "       34, 34, 60, 16, 35, 60, 36, 16, 36, 37, 16, 37, 38, 38, 38, 39, 16,\n",
              "       39, 40, 40, 40, 29, 29, 41, 42, 42, 42, 43, 43, 43, 60, 44, 44, 45,\n",
              "       45, 45, 46, 46, 46, 47, 47, 47, 60, 48, 48, 49, 49, 49, 50, 50, 50,\n",
              "       51, 51, 51, 52, 52, 52, 53, 53, 53, 54, 54, 54, 55, 55, 55, 56, 56,\n",
              "       56, 57, 57, 57, 58, 58, 58, 59, 59, 59, 60, 66, 51, 61, 61, 61, 62,\n",
              "       62, 62, 60, 35, 60, 64, 64, 64, 41, 65, 35, 66, 66, 66, 67, 67, 67])"
            ]
          },
          "metadata": {
            "tags": []
          },
          "execution_count": 67
        }
      ]
    },
    {
      "cell_type": "code",
      "metadata": {
        "id": "6hhnNOD07EsP",
        "colab_type": "code",
        "colab": {
          "base_uri": "https://localhost:8080/",
          "height": 34
        },
        "outputId": "c759f58b-f8d2-4539-944d-bf26fadd7070"
      },
      "source": [
        "Second_Final_accuracy = accuracy_score(Colour_TestData.classes, Second_predict_classes)\n",
        "Second_Final_accuracy"
      ],
      "execution_count": null,
      "outputs": [
        {
          "output_type": "execute_result",
          "data": {
            "text/plain": [
              "0.8382352941176471"
            ]
          },
          "metadata": {
            "tags": []
          },
          "execution_count": 68
        }
      ]
    },
    {
      "cell_type": "code",
      "metadata": {
        "id": "0COjF7MDLZu3",
        "colab_type": "code",
        "colab": {}
      },
      "source": [
        "Final = 0.8* Colour_predict + 0.2* Grey_predict"
      ],
      "execution_count": null,
      "outputs": []
    },
    {
      "cell_type": "code",
      "metadata": {
        "id": "oLmxQ4HbLxgN",
        "colab_type": "code",
        "colab": {}
      },
      "source": [
        "Final_Predict_classes = np.argmax(Final, axis=1)"
      ],
      "execution_count": null,
      "outputs": []
    },
    {
      "cell_type": "code",
      "metadata": {
        "id": "96gWYHycLyy7",
        "colab_type": "code",
        "colab": {
          "base_uri": "https://localhost:8080/",
          "height": 34
        },
        "outputId": "00c468a4-cb25-46bf-c05d-a97e90642f0f"
      },
      "source": [
        "Final_accuracy = accuracy_score(Colour_TestData.classes, Final_Predict_classes)\n",
        "print(\"Colour Accuracy: \", Final_accuracy)"
      ],
      "execution_count": null,
      "outputs": [
        {
          "output_type": "stream",
          "text": [
            "Colour Accuracy:  0.7941176470588235\n"
          ],
          "name": "stdout"
        }
      ]
    }
  ]
}