{
  "nbformat": 4,
  "nbformat_minor": 0,
  "metadata": {
    "colab": {
      "name": "Desnet121_Rawfoot.ipynb",
      "provenance": [],
      "collapsed_sections": [],
      "machine_shape": "hm"
    },
    "kernelspec": {
      "name": "python3",
      "display_name": "Python 3"
    },
    "accelerator": "GPU"
  },
  "cells": [
    {
      "cell_type": "code",
      "metadata": {
        "id": "ZbEigGjef9Ja",
        "colab_type": "code",
        "colab": {
          "base_uri": "https://localhost:8080/",
          "height": 122
        },
        "outputId": "6617ca4e-4809-401d-d60e-cab2f7ba702d"
      },
      "source": [
        "from google.colab import drive\n",
        "drive.mount('/content/drive')"
      ],
      "execution_count": null,
      "outputs": [
        {
          "output_type": "stream",
          "text": [
            "Go to this URL in a browser: https://accounts.google.com/o/oauth2/auth?client_id=947318989803-6bn6qk8qdgf4n4g3pfee6491hc0brc4i.apps.googleusercontent.com&redirect_uri=urn%3aietf%3awg%3aoauth%3a2.0%3aoob&scope=email%20https%3a%2f%2fwww.googleapis.com%2fauth%2fdocs.test%20https%3a%2f%2fwww.googleapis.com%2fauth%2fdrive%20https%3a%2f%2fwww.googleapis.com%2fauth%2fdrive.photos.readonly%20https%3a%2f%2fwww.googleapis.com%2fauth%2fpeopleapi.readonly&response_type=code\n",
            "\n",
            "Enter your authorization code:\n",
            "··········\n",
            "Mounted at /content/drive\n"
          ],
          "name": "stdout"
        }
      ]
    },
    {
      "cell_type": "code",
      "metadata": {
        "id": "KnyJREU_gLYM",
        "colab_type": "code",
        "colab": {}
      },
      "source": [
        "# Importing the Libraries.\n",
        "import keras\n",
        "import os\n",
        "from keras.models import Sequential\n",
        "from keras.layers import Dense, Conv2D, MaxPool2D, Flatten, Dropout\n",
        "from keras.preprocessing.image import ImageDataGenerator\n",
        "import numpy as np\n",
        "#import keras.backend as K\n",
        "import tensorflow.keras.backend as K\n",
        "import tensorflow.compat.v1 as tf\n",
        "from os import listdir\n",
        "from os.path import isfile, join\n",
        "import numpy as np\n",
        "import sys\n",
        "import os\n",
        "import shutil\n",
        "import pandas as pd\n",
        "from PIL import Image\n",
        "import cv2\n",
        "import keras\n",
        "import glob\n",
        "from PIL import Image\n",
        "from keras.preprocessing.image import img_to_array\n",
        "from sklearn.preprocessing import MultiLabelBinarizer\n",
        "from keras import models, regularizers, layers, optimizers, losses, metrics\n",
        "from keras.applications.resnet50 import ResNet50\n",
        "from keras.preprocessing.image import ImageDataGenerator\n",
        "from keras.models import Sequential\n",
        "from keras.layers import Dense, Dropout, Activation, Flatten, MaxPool2D\n",
        "from keras.layers import Convolution2D, MaxPooling2D, ZeroPadding2D\n",
        "from keras.layers import AveragePooling2D\n",
        "from keras.models import load_model\n",
        "from keras.layers.pooling import GlobalAveragePooling2D\n",
        "from keras.layers.normalization import BatchNormalization\n",
        "from keras.models import Model\n",
        "from keras.optimizers import Adam\n",
        "from keras.callbacks import ModelCheckpoint, EarlyStopping\n",
        "from sklearn.preprocessing import LabelEncoder, OneHotEncoder\n",
        "from PIL import ImageFile\n",
        "\n",
        "tf.enable_eager_execution()"
      ],
      "execution_count": null,
      "outputs": []
    },
    {
      "cell_type": "code",
      "metadata": {
        "id": "D5e1TTYggOt6",
        "colab_type": "code",
        "colab": {}
      },
      "source": [
        "ImageFile.LOAD_TRUNCATED_IMAGES = True"
      ],
      "execution_count": null,
      "outputs": []
    },
    {
      "cell_type": "code",
      "metadata": {
        "id": "VRkFteL3gR4c",
        "colab_type": "code",
        "colab": {}
      },
      "source": [
        "# Data Augmentation.\n",
        "DataGenerator = ImageDataGenerator(horizontal_flip=True, vertical_flip=True, brightness_range=[0.2,0.7], rescale=1./255)"
      ],
      "execution_count": null,
      "outputs": []
    },
    {
      "cell_type": "code",
      "metadata": {
        "id": "73iL17ZXgUJZ",
        "colab_type": "code",
        "colab": {}
      },
      "source": [
        "TestGenerator = ImageDataGenerator(rescale=1./255)"
      ],
      "execution_count": null,
      "outputs": []
    },
    {
      "cell_type": "code",
      "metadata": {
        "id": "RqekEiM9gWPJ",
        "colab_type": "code",
        "colab": {
          "base_uri": "https://localhost:8080/",
          "height": 34
        },
        "outputId": "74a4ed47-a1af-4eba-afeb-d415035183aa"
      },
      "source": [
        "Grey_TrainingData = DataGenerator.flow_from_directory('/content/drive/My Drive/RawFoot_Image/Train/', target_size=(224,224), batch_size=8, color_mode='grayscale')"
      ],
      "execution_count": null,
      "outputs": [
        {
          "output_type": "stream",
          "text": [
            "Found 2788 images belonging to 68 classes.\n"
          ],
          "name": "stdout"
        }
      ]
    },
    {
      "cell_type": "code",
      "metadata": {
        "id": "abA3AKFmgaza",
        "colab_type": "code",
        "colab": {
          "base_uri": "https://localhost:8080/",
          "height": 34
        },
        "outputId": "c87b8e7c-268b-4a23-8465-bd0e2fa7ffad"
      },
      "source": [
        "Grey_ValidData = TestGenerator.flow_from_directory('/content/drive/My Drive/RawFoot_Image/Valid/', target_size=(224,224), batch_size=8, color_mode='grayscale')"
      ],
      "execution_count": null,
      "outputs": [
        {
          "output_type": "stream",
          "text": [
            "Found 136 images belonging to 68 classes.\n"
          ],
          "name": "stdout"
        }
      ]
    },
    {
      "cell_type": "code",
      "metadata": {
        "id": "45PgK4Dbgc65",
        "colab_type": "code",
        "colab": {}
      },
      "source": [
        "gpu_options = tf.GPUOptions(allow_growth=True)\n",
        "session = tf.InteractiveSession(config=tf.ConfigProto(gpu_options=gpu_options))"
      ],
      "execution_count": null,
      "outputs": []
    },
    {
      "cell_type": "code",
      "metadata": {
        "id": "Cv9Weo3yhFkC",
        "colab_type": "code",
        "colab": {}
      },
      "source": [
        "from keras.applications.densenet import DenseNet121"
      ],
      "execution_count": null,
      "outputs": []
    },
    {
      "cell_type": "code",
      "metadata": {
        "id": "RfDXgPlQhL2C",
        "colab_type": "code",
        "colab": {
          "base_uri": "https://localhost:8080/",
          "height": 51
        },
        "outputId": "e23db1ea-90fd-4969-dfb2-87b745ab2305"
      },
      "source": [
        "conv_base = DenseNet121(weights = 'imagenet', include_top = False)"
      ],
      "execution_count": null,
      "outputs": [
        {
          "output_type": "stream",
          "text": [
            "Downloading data from https://storage.googleapis.com/tensorflow/keras-applications/densenet/densenet121_weights_tf_dim_ordering_tf_kernels_notop.h5\n",
            "29089792/29084464 [==============================] - 0s 0us/step\n"
          ],
          "name": "stdout"
        }
      ]
    },
    {
      "cell_type": "code",
      "metadata": {
        "id": "JRm3SMiJhPcq",
        "colab_type": "code",
        "colab": {}
      },
      "source": [
        "# Make last block of the conv_base trainable:\n",
        "\n",
        "for layer in conv_base.layers[:411]:\n",
        "   layer.trainable = False\n",
        "for layer in conv_base.layers[411:]:\n",
        "   layer.trainable = True\n",
        "for layer in conv_base.layers:\n",
        "  if isinstance(layer, BatchNormalization):\n",
        "    layer.trainable = True"
      ],
      "execution_count": null,
      "outputs": []
    },
    {
      "cell_type": "code",
      "metadata": {
        "id": "ACNV_ItVhQbN",
        "colab_type": "code",
        "colab": {
          "base_uri": "https://localhost:8080/",
          "height": 1000
        },
        "outputId": "edcfaf29-4506-4b1f-9c28-243173eb210f"
      },
      "source": [
        "for i, layer in enumerate(conv_base.layers):\n",
        "   print(i, layer.name, layer.trainable)"
      ],
      "execution_count": null,
      "outputs": [
        {
          "output_type": "stream",
          "text": [
            "0 input_1 False\n",
            "1 zero_padding2d False\n",
            "2 conv1/conv False\n",
            "3 conv1/bn True\n",
            "4 conv1/relu False\n",
            "5 zero_padding2d_1 False\n",
            "6 pool1 False\n",
            "7 conv2_block1_0_bn True\n",
            "8 conv2_block1_0_relu False\n",
            "9 conv2_block1_1_conv False\n",
            "10 conv2_block1_1_bn True\n",
            "11 conv2_block1_1_relu False\n",
            "12 conv2_block1_2_conv False\n",
            "13 conv2_block1_concat False\n",
            "14 conv2_block2_0_bn True\n",
            "15 conv2_block2_0_relu False\n",
            "16 conv2_block2_1_conv False\n",
            "17 conv2_block2_1_bn True\n",
            "18 conv2_block2_1_relu False\n",
            "19 conv2_block2_2_conv False\n",
            "20 conv2_block2_concat False\n",
            "21 conv2_block3_0_bn True\n",
            "22 conv2_block3_0_relu False\n",
            "23 conv2_block3_1_conv False\n",
            "24 conv2_block3_1_bn True\n",
            "25 conv2_block3_1_relu False\n",
            "26 conv2_block3_2_conv False\n",
            "27 conv2_block3_concat False\n",
            "28 conv2_block4_0_bn True\n",
            "29 conv2_block4_0_relu False\n",
            "30 conv2_block4_1_conv False\n",
            "31 conv2_block4_1_bn True\n",
            "32 conv2_block4_1_relu False\n",
            "33 conv2_block4_2_conv False\n",
            "34 conv2_block4_concat False\n",
            "35 conv2_block5_0_bn True\n",
            "36 conv2_block5_0_relu False\n",
            "37 conv2_block5_1_conv False\n",
            "38 conv2_block5_1_bn True\n",
            "39 conv2_block5_1_relu False\n",
            "40 conv2_block5_2_conv False\n",
            "41 conv2_block5_concat False\n",
            "42 conv2_block6_0_bn True\n",
            "43 conv2_block6_0_relu False\n",
            "44 conv2_block6_1_conv False\n",
            "45 conv2_block6_1_bn True\n",
            "46 conv2_block6_1_relu False\n",
            "47 conv2_block6_2_conv False\n",
            "48 conv2_block6_concat False\n",
            "49 pool2_bn True\n",
            "50 pool2_relu False\n",
            "51 pool2_conv False\n",
            "52 pool2_pool False\n",
            "53 conv3_block1_0_bn True\n",
            "54 conv3_block1_0_relu False\n",
            "55 conv3_block1_1_conv False\n",
            "56 conv3_block1_1_bn True\n",
            "57 conv3_block1_1_relu False\n",
            "58 conv3_block1_2_conv False\n",
            "59 conv3_block1_concat False\n",
            "60 conv3_block2_0_bn True\n",
            "61 conv3_block2_0_relu False\n",
            "62 conv3_block2_1_conv False\n",
            "63 conv3_block2_1_bn True\n",
            "64 conv3_block2_1_relu False\n",
            "65 conv3_block2_2_conv False\n",
            "66 conv3_block2_concat False\n",
            "67 conv3_block3_0_bn True\n",
            "68 conv3_block3_0_relu False\n",
            "69 conv3_block3_1_conv False\n",
            "70 conv3_block3_1_bn True\n",
            "71 conv3_block3_1_relu False\n",
            "72 conv3_block3_2_conv False\n",
            "73 conv3_block3_concat False\n",
            "74 conv3_block4_0_bn True\n",
            "75 conv3_block4_0_relu False\n",
            "76 conv3_block4_1_conv False\n",
            "77 conv3_block4_1_bn True\n",
            "78 conv3_block4_1_relu False\n",
            "79 conv3_block4_2_conv False\n",
            "80 conv3_block4_concat False\n",
            "81 conv3_block5_0_bn True\n",
            "82 conv3_block5_0_relu False\n",
            "83 conv3_block5_1_conv False\n",
            "84 conv3_block5_1_bn True\n",
            "85 conv3_block5_1_relu False\n",
            "86 conv3_block5_2_conv False\n",
            "87 conv3_block5_concat False\n",
            "88 conv3_block6_0_bn True\n",
            "89 conv3_block6_0_relu False\n",
            "90 conv3_block6_1_conv False\n",
            "91 conv3_block6_1_bn True\n",
            "92 conv3_block6_1_relu False\n",
            "93 conv3_block6_2_conv False\n",
            "94 conv3_block6_concat False\n",
            "95 conv3_block7_0_bn True\n",
            "96 conv3_block7_0_relu False\n",
            "97 conv3_block7_1_conv False\n",
            "98 conv3_block7_1_bn True\n",
            "99 conv3_block7_1_relu False\n",
            "100 conv3_block7_2_conv False\n",
            "101 conv3_block7_concat False\n",
            "102 conv3_block8_0_bn True\n",
            "103 conv3_block8_0_relu False\n",
            "104 conv3_block8_1_conv False\n",
            "105 conv3_block8_1_bn True\n",
            "106 conv3_block8_1_relu False\n",
            "107 conv3_block8_2_conv False\n",
            "108 conv3_block8_concat False\n",
            "109 conv3_block9_0_bn True\n",
            "110 conv3_block9_0_relu False\n",
            "111 conv3_block9_1_conv False\n",
            "112 conv3_block9_1_bn True\n",
            "113 conv3_block9_1_relu False\n",
            "114 conv3_block9_2_conv False\n",
            "115 conv3_block9_concat False\n",
            "116 conv3_block10_0_bn True\n",
            "117 conv3_block10_0_relu False\n",
            "118 conv3_block10_1_conv False\n",
            "119 conv3_block10_1_bn True\n",
            "120 conv3_block10_1_relu False\n",
            "121 conv3_block10_2_conv False\n",
            "122 conv3_block10_concat False\n",
            "123 conv3_block11_0_bn True\n",
            "124 conv3_block11_0_relu False\n",
            "125 conv3_block11_1_conv False\n",
            "126 conv3_block11_1_bn True\n",
            "127 conv3_block11_1_relu False\n",
            "128 conv3_block11_2_conv False\n",
            "129 conv3_block11_concat False\n",
            "130 conv3_block12_0_bn True\n",
            "131 conv3_block12_0_relu False\n",
            "132 conv3_block12_1_conv False\n",
            "133 conv3_block12_1_bn True\n",
            "134 conv3_block12_1_relu False\n",
            "135 conv3_block12_2_conv False\n",
            "136 conv3_block12_concat False\n",
            "137 pool3_bn True\n",
            "138 pool3_relu False\n",
            "139 pool3_conv False\n",
            "140 pool3_pool False\n",
            "141 conv4_block1_0_bn True\n",
            "142 conv4_block1_0_relu False\n",
            "143 conv4_block1_1_conv False\n",
            "144 conv4_block1_1_bn True\n",
            "145 conv4_block1_1_relu False\n",
            "146 conv4_block1_2_conv False\n",
            "147 conv4_block1_concat False\n",
            "148 conv4_block2_0_bn True\n",
            "149 conv4_block2_0_relu False\n",
            "150 conv4_block2_1_conv False\n",
            "151 conv4_block2_1_bn True\n",
            "152 conv4_block2_1_relu False\n",
            "153 conv4_block2_2_conv False\n",
            "154 conv4_block2_concat False\n",
            "155 conv4_block3_0_bn True\n",
            "156 conv4_block3_0_relu False\n",
            "157 conv4_block3_1_conv False\n",
            "158 conv4_block3_1_bn True\n",
            "159 conv4_block3_1_relu False\n",
            "160 conv4_block3_2_conv False\n",
            "161 conv4_block3_concat False\n",
            "162 conv4_block4_0_bn True\n",
            "163 conv4_block4_0_relu False\n",
            "164 conv4_block4_1_conv False\n",
            "165 conv4_block4_1_bn True\n",
            "166 conv4_block4_1_relu False\n",
            "167 conv4_block4_2_conv False\n",
            "168 conv4_block4_concat False\n",
            "169 conv4_block5_0_bn True\n",
            "170 conv4_block5_0_relu False\n",
            "171 conv4_block5_1_conv False\n",
            "172 conv4_block5_1_bn True\n",
            "173 conv4_block5_1_relu False\n",
            "174 conv4_block5_2_conv False\n",
            "175 conv4_block5_concat False\n",
            "176 conv4_block6_0_bn True\n",
            "177 conv4_block6_0_relu False\n",
            "178 conv4_block6_1_conv False\n",
            "179 conv4_block6_1_bn True\n",
            "180 conv4_block6_1_relu False\n",
            "181 conv4_block6_2_conv False\n",
            "182 conv4_block6_concat False\n",
            "183 conv4_block7_0_bn True\n",
            "184 conv4_block7_0_relu False\n",
            "185 conv4_block7_1_conv False\n",
            "186 conv4_block7_1_bn True\n",
            "187 conv4_block7_1_relu False\n",
            "188 conv4_block7_2_conv False\n",
            "189 conv4_block7_concat False\n",
            "190 conv4_block8_0_bn True\n",
            "191 conv4_block8_0_relu False\n",
            "192 conv4_block8_1_conv False\n",
            "193 conv4_block8_1_bn True\n",
            "194 conv4_block8_1_relu False\n",
            "195 conv4_block8_2_conv False\n",
            "196 conv4_block8_concat False\n",
            "197 conv4_block9_0_bn True\n",
            "198 conv4_block9_0_relu False\n",
            "199 conv4_block9_1_conv False\n",
            "200 conv4_block9_1_bn True\n",
            "201 conv4_block9_1_relu False\n",
            "202 conv4_block9_2_conv False\n",
            "203 conv4_block9_concat False\n",
            "204 conv4_block10_0_bn True\n",
            "205 conv4_block10_0_relu False\n",
            "206 conv4_block10_1_conv False\n",
            "207 conv4_block10_1_bn True\n",
            "208 conv4_block10_1_relu False\n",
            "209 conv4_block10_2_conv False\n",
            "210 conv4_block10_concat False\n",
            "211 conv4_block11_0_bn True\n",
            "212 conv4_block11_0_relu False\n",
            "213 conv4_block11_1_conv False\n",
            "214 conv4_block11_1_bn True\n",
            "215 conv4_block11_1_relu False\n",
            "216 conv4_block11_2_conv False\n",
            "217 conv4_block11_concat False\n",
            "218 conv4_block12_0_bn True\n",
            "219 conv4_block12_0_relu False\n",
            "220 conv4_block12_1_conv False\n",
            "221 conv4_block12_1_bn True\n",
            "222 conv4_block12_1_relu False\n",
            "223 conv4_block12_2_conv False\n",
            "224 conv4_block12_concat False\n",
            "225 conv4_block13_0_bn True\n",
            "226 conv4_block13_0_relu False\n",
            "227 conv4_block13_1_conv False\n",
            "228 conv4_block13_1_bn True\n",
            "229 conv4_block13_1_relu False\n",
            "230 conv4_block13_2_conv False\n",
            "231 conv4_block13_concat False\n",
            "232 conv4_block14_0_bn True\n",
            "233 conv4_block14_0_relu False\n",
            "234 conv4_block14_1_conv False\n",
            "235 conv4_block14_1_bn True\n",
            "236 conv4_block14_1_relu False\n",
            "237 conv4_block14_2_conv False\n",
            "238 conv4_block14_concat False\n",
            "239 conv4_block15_0_bn True\n",
            "240 conv4_block15_0_relu False\n",
            "241 conv4_block15_1_conv False\n",
            "242 conv4_block15_1_bn True\n",
            "243 conv4_block15_1_relu False\n",
            "244 conv4_block15_2_conv False\n",
            "245 conv4_block15_concat False\n",
            "246 conv4_block16_0_bn True\n",
            "247 conv4_block16_0_relu False\n",
            "248 conv4_block16_1_conv False\n",
            "249 conv4_block16_1_bn True\n",
            "250 conv4_block16_1_relu False\n",
            "251 conv4_block16_2_conv False\n",
            "252 conv4_block16_concat False\n",
            "253 conv4_block17_0_bn True\n",
            "254 conv4_block17_0_relu False\n",
            "255 conv4_block17_1_conv False\n",
            "256 conv4_block17_1_bn True\n",
            "257 conv4_block17_1_relu False\n",
            "258 conv4_block17_2_conv False\n",
            "259 conv4_block17_concat False\n",
            "260 conv4_block18_0_bn True\n",
            "261 conv4_block18_0_relu False\n",
            "262 conv4_block18_1_conv False\n",
            "263 conv4_block18_1_bn True\n",
            "264 conv4_block18_1_relu False\n",
            "265 conv4_block18_2_conv False\n",
            "266 conv4_block18_concat False\n",
            "267 conv4_block19_0_bn True\n",
            "268 conv4_block19_0_relu False\n",
            "269 conv4_block19_1_conv False\n",
            "270 conv4_block19_1_bn True\n",
            "271 conv4_block19_1_relu False\n",
            "272 conv4_block19_2_conv False\n",
            "273 conv4_block19_concat False\n",
            "274 conv4_block20_0_bn True\n",
            "275 conv4_block20_0_relu False\n",
            "276 conv4_block20_1_conv False\n",
            "277 conv4_block20_1_bn True\n",
            "278 conv4_block20_1_relu False\n",
            "279 conv4_block20_2_conv False\n",
            "280 conv4_block20_concat False\n",
            "281 conv4_block21_0_bn True\n",
            "282 conv4_block21_0_relu False\n",
            "283 conv4_block21_1_conv False\n",
            "284 conv4_block21_1_bn True\n",
            "285 conv4_block21_1_relu False\n",
            "286 conv4_block21_2_conv False\n",
            "287 conv4_block21_concat False\n",
            "288 conv4_block22_0_bn True\n",
            "289 conv4_block22_0_relu False\n",
            "290 conv4_block22_1_conv False\n",
            "291 conv4_block22_1_bn True\n",
            "292 conv4_block22_1_relu False\n",
            "293 conv4_block22_2_conv False\n",
            "294 conv4_block22_concat False\n",
            "295 conv4_block23_0_bn True\n",
            "296 conv4_block23_0_relu False\n",
            "297 conv4_block23_1_conv False\n",
            "298 conv4_block23_1_bn True\n",
            "299 conv4_block23_1_relu False\n",
            "300 conv4_block23_2_conv False\n",
            "301 conv4_block23_concat False\n",
            "302 conv4_block24_0_bn True\n",
            "303 conv4_block24_0_relu False\n",
            "304 conv4_block24_1_conv False\n",
            "305 conv4_block24_1_bn True\n",
            "306 conv4_block24_1_relu False\n",
            "307 conv4_block24_2_conv False\n",
            "308 conv4_block24_concat False\n",
            "309 pool4_bn True\n",
            "310 pool4_relu False\n",
            "311 pool4_conv False\n",
            "312 pool4_pool False\n",
            "313 conv5_block1_0_bn True\n",
            "314 conv5_block1_0_relu False\n",
            "315 conv5_block1_1_conv False\n",
            "316 conv5_block1_1_bn True\n",
            "317 conv5_block1_1_relu False\n",
            "318 conv5_block1_2_conv False\n",
            "319 conv5_block1_concat False\n",
            "320 conv5_block2_0_bn True\n",
            "321 conv5_block2_0_relu False\n",
            "322 conv5_block2_1_conv False\n",
            "323 conv5_block2_1_bn True\n",
            "324 conv5_block2_1_relu False\n",
            "325 conv5_block2_2_conv False\n",
            "326 conv5_block2_concat False\n",
            "327 conv5_block3_0_bn True\n",
            "328 conv5_block3_0_relu False\n",
            "329 conv5_block3_1_conv False\n",
            "330 conv5_block3_1_bn True\n",
            "331 conv5_block3_1_relu False\n",
            "332 conv5_block3_2_conv False\n",
            "333 conv5_block3_concat False\n",
            "334 conv5_block4_0_bn True\n",
            "335 conv5_block4_0_relu False\n",
            "336 conv5_block4_1_conv False\n",
            "337 conv5_block4_1_bn True\n",
            "338 conv5_block4_1_relu False\n",
            "339 conv5_block4_2_conv False\n",
            "340 conv5_block4_concat False\n",
            "341 conv5_block5_0_bn True\n",
            "342 conv5_block5_0_relu False\n",
            "343 conv5_block5_1_conv False\n",
            "344 conv5_block5_1_bn True\n",
            "345 conv5_block5_1_relu False\n",
            "346 conv5_block5_2_conv False\n",
            "347 conv5_block5_concat False\n",
            "348 conv5_block6_0_bn True\n",
            "349 conv5_block6_0_relu False\n",
            "350 conv5_block6_1_conv False\n",
            "351 conv5_block6_1_bn True\n",
            "352 conv5_block6_1_relu False\n",
            "353 conv5_block6_2_conv False\n",
            "354 conv5_block6_concat False\n",
            "355 conv5_block7_0_bn True\n",
            "356 conv5_block7_0_relu False\n",
            "357 conv5_block7_1_conv False\n",
            "358 conv5_block7_1_bn True\n",
            "359 conv5_block7_1_relu False\n",
            "360 conv5_block7_2_conv False\n",
            "361 conv5_block7_concat False\n",
            "362 conv5_block8_0_bn True\n",
            "363 conv5_block8_0_relu False\n",
            "364 conv5_block8_1_conv False\n",
            "365 conv5_block8_1_bn True\n",
            "366 conv5_block8_1_relu False\n",
            "367 conv5_block8_2_conv False\n",
            "368 conv5_block8_concat False\n",
            "369 conv5_block9_0_bn True\n",
            "370 conv5_block9_0_relu False\n",
            "371 conv5_block9_1_conv False\n",
            "372 conv5_block9_1_bn True\n",
            "373 conv5_block9_1_relu False\n",
            "374 conv5_block9_2_conv False\n",
            "375 conv5_block9_concat False\n",
            "376 conv5_block10_0_bn True\n",
            "377 conv5_block10_0_relu False\n",
            "378 conv5_block10_1_conv False\n",
            "379 conv5_block10_1_bn True\n",
            "380 conv5_block10_1_relu False\n",
            "381 conv5_block10_2_conv False\n",
            "382 conv5_block10_concat False\n",
            "383 conv5_block11_0_bn True\n",
            "384 conv5_block11_0_relu False\n",
            "385 conv5_block11_1_conv False\n",
            "386 conv5_block11_1_bn True\n",
            "387 conv5_block11_1_relu False\n",
            "388 conv5_block11_2_conv False\n",
            "389 conv5_block11_concat False\n",
            "390 conv5_block12_0_bn True\n",
            "391 conv5_block12_0_relu False\n",
            "392 conv5_block12_1_conv False\n",
            "393 conv5_block12_1_bn True\n",
            "394 conv5_block12_1_relu False\n",
            "395 conv5_block12_2_conv False\n",
            "396 conv5_block12_concat False\n",
            "397 conv5_block13_0_bn True\n",
            "398 conv5_block13_0_relu False\n",
            "399 conv5_block13_1_conv False\n",
            "400 conv5_block13_1_bn True\n",
            "401 conv5_block13_1_relu False\n",
            "402 conv5_block13_2_conv False\n",
            "403 conv5_block13_concat False\n",
            "404 conv5_block14_0_bn True\n",
            "405 conv5_block14_0_relu False\n",
            "406 conv5_block14_1_conv False\n",
            "407 conv5_block14_1_bn True\n",
            "408 conv5_block14_1_relu False\n",
            "409 conv5_block14_2_conv False\n",
            "410 conv5_block14_concat False\n",
            "411 conv5_block15_0_bn True\n",
            "412 conv5_block15_0_relu True\n",
            "413 conv5_block15_1_conv True\n",
            "414 conv5_block15_1_bn True\n",
            "415 conv5_block15_1_relu True\n",
            "416 conv5_block15_2_conv True\n",
            "417 conv5_block15_concat True\n",
            "418 conv5_block16_0_bn True\n",
            "419 conv5_block16_0_relu True\n",
            "420 conv5_block16_1_conv True\n",
            "421 conv5_block16_1_bn True\n",
            "422 conv5_block16_1_relu True\n",
            "423 conv5_block16_2_conv True\n",
            "424 conv5_block16_concat True\n",
            "425 bn True\n",
            "426 relu True\n"
          ],
          "name": "stdout"
        }
      ]
    },
    {
      "cell_type": "code",
      "metadata": {
        "id": "OTJy383BhYbl",
        "colab_type": "code",
        "colab": {}
      },
      "source": [
        "model = Sequential()"
      ],
      "execution_count": null,
      "outputs": []
    },
    {
      "cell_type": "code",
      "metadata": {
        "id": "mCayGh02hbaM",
        "colab_type": "code",
        "colab": {}
      },
      "source": [
        "from keras.layers import Input"
      ],
      "execution_count": null,
      "outputs": []
    },
    {
      "cell_type": "code",
      "metadata": {
        "id": "9V4rGItRhdUS",
        "colab_type": "code",
        "colab": {}
      },
      "source": [
        "input_tensor = Input(shape=(224,224,1))\n",
        "x = Conv2D(3, (3,3), padding='same')(input_tensor)\n",
        "ouput = conv_base(x)\n",
        "models = Model(inputs = input_tensor, outputs = ouput )"
      ],
      "execution_count": null,
      "outputs": []
    },
    {
      "cell_type": "code",
      "metadata": {
        "id": "mdGFv5Q7iQQa",
        "colab_type": "code",
        "colab": {}
      },
      "source": [
        "model.add(models)"
      ],
      "execution_count": null,
      "outputs": []
    },
    {
      "cell_type": "code",
      "metadata": {
        "id": "uu3k69vQiZPs",
        "colab_type": "code",
        "colab": {}
      },
      "source": [
        "model.add(Flatten())"
      ],
      "execution_count": null,
      "outputs": []
    },
    {
      "cell_type": "code",
      "metadata": {
        "id": "nRW1UOzzicei",
        "colab_type": "code",
        "colab": {}
      },
      "source": [
        "model.add(Dense(2048, activation='relu', kernel_regularizer=regularizers.l2(0.001)))\n",
        "model.add(BatchNormalization())\n",
        "model.add(Dropout(0.5))\n",
        "model.add(Dense(68, activation='softmax'))"
      ],
      "execution_count": null,
      "outputs": []
    },
    {
      "cell_type": "code",
      "metadata": {
        "id": "rqr2bsNaig0K",
        "colab_type": "code",
        "colab": {
          "base_uri": "https://localhost:8080/",
          "height": 357
        },
        "outputId": "53c0bd8a-baf5-46e1-fb0d-3022aa519587"
      },
      "source": [
        "model.summary()"
      ],
      "execution_count": null,
      "outputs": [
        {
          "output_type": "stream",
          "text": [
            "Model: \"sequential_2\"\n",
            "_________________________________________________________________\n",
            "Layer (type)                 Output Shape              Param #   \n",
            "=================================================================\n",
            "model_1 (Model)              (None, 7, 7, 1024)        7037534   \n",
            "_________________________________________________________________\n",
            "flatten_2 (Flatten)          (None, 50176)             0         \n",
            "_________________________________________________________________\n",
            "dense_3 (Dense)              (None, 2048)              102762496 \n",
            "_________________________________________________________________\n",
            "batch_normalization_1 (Batch (None, 2048)              8192      \n",
            "_________________________________________________________________\n",
            "dropout_2 (Dropout)          (None, 2048)              0         \n",
            "_________________________________________________________________\n",
            "dense_4 (Dense)              (None, 68)                139332    \n",
            "=================================================================\n",
            "Total params: 109,947,554\n",
            "Trainable params: 103,313,186\n",
            "Non-trainable params: 6,634,368\n",
            "_________________________________________________________________\n"
          ],
          "name": "stdout"
        }
      ]
    },
    {
      "cell_type": "code",
      "metadata": {
        "id": "WPzvO6nEikYX",
        "colab_type": "code",
        "colab": {}
      },
      "source": [
        "model.compile(loss='categorical_crossentropy',\n",
        "              optimizer=Adam(lr=0.001),\n",
        "              metrics=['accuracy'])"
      ],
      "execution_count": null,
      "outputs": []
    },
    {
      "cell_type": "code",
      "metadata": {
        "id": "DI3DOP_jinH8",
        "colab_type": "code",
        "colab": {}
      },
      "source": [
        "from keras.callbacks import ModelCheckpoint, EarlyStopping, ReduceLROnPlateau\n",
        "checkpoint = ModelCheckpoint(\"/content/drive/My Drive/RawFoot_Image/RawFoot_Image_GreyScale_Desnet121.h5\",\n",
        "                             monitor=\"val_loss\",\n",
        "                             mode=\"min\",\n",
        "                             save_best_only = True,\n",
        "                             verbose=1)\n",
        "\n",
        "earlystop = EarlyStopping(monitor = 'val_loss', \n",
        "                          min_delta = 0, \n",
        "                          patience = 40,\n",
        "                          verbose = 1,\n",
        "                          restore_best_weights = True)\n",
        "\n",
        "reduce_lr = ReduceLROnPlateau(monitor = 'val_loss',\n",
        "                              factor = 0.2,\n",
        "                              patience = 40,\n",
        "                              verbose = 1,\n",
        "                              min_delta = 0.00001)\n",
        "\n",
        "callBacks = [earlystop, checkpoint, reduce_lr]"
      ],
      "execution_count": null,
      "outputs": []
    },
    {
      "cell_type": "code",
      "metadata": {
        "id": "XbWY1aIqi6-f",
        "colab_type": "code",
        "colab": {
          "base_uri": "https://localhost:8080/",
          "height": 1000
        },
        "outputId": "845de569-165d-44dd-fcfa-cb8db8edee3a"
      },
      "source": [
        "hist = model.fit_generator(steps_per_epoch=349,generator= Grey_TrainingData, validation_data= Grey_ValidData, validation_steps=17,epochs=150,callbacks=callBacks)"
      ],
      "execution_count": null,
      "outputs": [
        {
          "output_type": "stream",
          "text": [
            "Epoch 1/150\n",
            "349/349 [==============================] - 1065s 3s/step - loss: 4.2907 - accuracy: 0.7726 - val_loss: 10.4078 - val_accuracy: 0.1691\n",
            "\n",
            "Epoch 00001: val_loss improved from inf to 10.40777, saving model to /content/drive/My Drive/RawFoot_Image/RawFoot_Image_GreyScale_Desnet121.h5\n",
            "Epoch 2/150\n",
            "349/349 [==============================] - 145s 415ms/step - loss: 2.9801 - accuracy: 0.9340 - val_loss: 4.3525 - val_accuracy: 0.5294\n",
            "\n",
            "Epoch 00002: val_loss improved from 10.40777 to 4.35253, saving model to /content/drive/My Drive/RawFoot_Image/RawFoot_Image_GreyScale_Desnet121.h5\n",
            "Epoch 3/150\n",
            "349/349 [==============================] - 140s 401ms/step - loss: 2.8602 - accuracy: 0.9401 - val_loss: 3.2540 - val_accuracy: 0.7353\n",
            "\n",
            "Epoch 00003: val_loss improved from 4.35253 to 3.25403, saving model to /content/drive/My Drive/RawFoot_Image/RawFoot_Image_GreyScale_Desnet121.h5\n",
            "Epoch 4/150\n",
            "349/349 [==============================] - 138s 395ms/step - loss: 2.4834 - accuracy: 0.9695 - val_loss: 3.6446 - val_accuracy: 0.5882\n",
            "\n",
            "Epoch 00004: val_loss did not improve from 3.25403\n",
            "Epoch 5/150\n",
            "349/349 [==============================] - 128s 367ms/step - loss: 2.4634 - accuracy: 0.9620 - val_loss: 2.8637 - val_accuracy: 0.7868\n",
            "\n",
            "Epoch 00005: val_loss improved from 3.25403 to 2.86367, saving model to /content/drive/My Drive/RawFoot_Image/RawFoot_Image_GreyScale_Desnet121.h5\n",
            "Epoch 6/150\n",
            "349/349 [==============================] - 135s 386ms/step - loss: 2.3706 - accuracy: 0.9684 - val_loss: 4.0641 - val_accuracy: 0.7059\n",
            "\n",
            "Epoch 00006: val_loss did not improve from 2.86367\n",
            "Epoch 7/150\n",
            "349/349 [==============================] - 128s 367ms/step - loss: 2.2511 - accuracy: 0.9713 - val_loss: 4.8984 - val_accuracy: 0.6912\n",
            "\n",
            "Epoch 00007: val_loss did not improve from 2.86367\n",
            "Epoch 8/150\n",
            "349/349 [==============================] - 128s 366ms/step - loss: 2.4709 - accuracy: 0.9674 - val_loss: 2.4356 - val_accuracy: 0.8603\n",
            "\n",
            "Epoch 00008: val_loss improved from 2.86367 to 2.43560, saving model to /content/drive/My Drive/RawFoot_Image/RawFoot_Image_GreyScale_Desnet121.h5\n",
            "Epoch 9/150\n",
            "349/349 [==============================] - 134s 383ms/step - loss: 2.1058 - accuracy: 0.9770 - val_loss: 5.2101 - val_accuracy: 0.6103\n",
            "\n",
            "Epoch 00009: val_loss did not improve from 2.43560\n",
            "Epoch 10/150\n",
            "349/349 [==============================] - 127s 365ms/step - loss: 2.0016 - accuracy: 0.9796 - val_loss: 3.2124 - val_accuracy: 0.7574\n",
            "\n",
            "Epoch 00010: val_loss did not improve from 2.43560\n",
            "Epoch 11/150\n",
            "349/349 [==============================] - 129s 368ms/step - loss: 2.2085 - accuracy: 0.9681 - val_loss: 3.4125 - val_accuracy: 0.7941\n",
            "\n",
            "Epoch 00011: val_loss did not improve from 2.43560\n",
            "Epoch 12/150\n",
            "349/349 [==============================] - 127s 365ms/step - loss: 1.8795 - accuracy: 0.9781 - val_loss: 4.0593 - val_accuracy: 0.5662\n",
            "\n",
            "Epoch 00012: val_loss did not improve from 2.43560\n",
            "Epoch 13/150\n",
            "349/349 [==============================] - 128s 366ms/step - loss: 2.0001 - accuracy: 0.9717 - val_loss: 4.4827 - val_accuracy: 0.6912\n",
            "\n",
            "Epoch 00013: val_loss did not improve from 2.43560\n",
            "Epoch 14/150\n",
            "349/349 [==============================] - 128s 367ms/step - loss: 2.2138 - accuracy: 0.9699 - val_loss: 6.4527 - val_accuracy: 0.7941\n",
            "\n",
            "Epoch 00014: val_loss did not improve from 2.43560\n",
            "Epoch 15/150\n",
            "349/349 [==============================] - 128s 366ms/step - loss: 2.4467 - accuracy: 0.9577 - val_loss: 9.5256 - val_accuracy: 0.3971\n",
            "\n",
            "Epoch 00015: val_loss did not improve from 2.43560\n",
            "Epoch 16/150\n",
            "349/349 [==============================] - 127s 363ms/step - loss: 2.3871 - accuracy: 0.9623 - val_loss: 2.0464 - val_accuracy: 0.7941\n",
            "\n",
            "Epoch 00016: val_loss improved from 2.43560 to 2.04644, saving model to /content/drive/My Drive/RawFoot_Image/RawFoot_Image_GreyScale_Desnet121.h5\n",
            "Epoch 17/150\n",
            "349/349 [==============================] - 129s 369ms/step - loss: 1.9416 - accuracy: 0.9720 - val_loss: 3.5462 - val_accuracy: 0.6912\n",
            "\n",
            "Epoch 00017: val_loss did not improve from 2.04644\n",
            "Epoch 18/150\n",
            "349/349 [==============================] - 128s 366ms/step - loss: 2.0326 - accuracy: 0.9756 - val_loss: 4.8066 - val_accuracy: 0.5588\n",
            "\n",
            "Epoch 00018: val_loss did not improve from 2.04644\n",
            "Epoch 19/150\n",
            "349/349 [==============================] - 127s 364ms/step - loss: 1.8090 - accuracy: 0.9756 - val_loss: 118.0650 - val_accuracy: 0.0294\n",
            "\n",
            "Epoch 00019: val_loss did not improve from 2.04644\n",
            "Epoch 20/150\n",
            "349/349 [==============================] - 127s 364ms/step - loss: 1.5447 - accuracy: 0.9871 - val_loss: 177.5491 - val_accuracy: 0.0147\n",
            "\n",
            "Epoch 00020: val_loss did not improve from 2.04644\n",
            "Epoch 21/150\n",
            "349/349 [==============================] - 128s 366ms/step - loss: 1.7724 - accuracy: 0.9774 - val_loss: 2.7712 - val_accuracy: 0.8824\n",
            "\n",
            "Epoch 00021: val_loss did not improve from 2.04644\n",
            "Epoch 22/150\n",
            "349/349 [==============================] - 128s 367ms/step - loss: 1.5666 - accuracy: 0.9857 - val_loss: 3.6589 - val_accuracy: 0.5956\n",
            "\n",
            "Epoch 00022: val_loss did not improve from 2.04644\n",
            "Epoch 23/150\n",
            "349/349 [==============================] - 128s 367ms/step - loss: 2.2253 - accuracy: 0.9541 - val_loss: 6.3898 - val_accuracy: 0.4779\n",
            "\n",
            "Epoch 00023: val_loss did not improve from 2.04644\n",
            "Epoch 24/150\n",
            "349/349 [==============================] - 128s 366ms/step - loss: 1.5107 - accuracy: 0.9821 - val_loss: 4.0149 - val_accuracy: 0.5956\n",
            "\n",
            "Epoch 00024: val_loss did not improve from 2.04644\n",
            "Epoch 25/150\n",
            "349/349 [==============================] - 127s 363ms/step - loss: 1.5106 - accuracy: 0.9867 - val_loss: 16.2535 - val_accuracy: 0.2941\n",
            "\n",
            "Epoch 00025: val_loss did not improve from 2.04644\n",
            "Epoch 26/150\n",
            "349/349 [==============================] - 127s 363ms/step - loss: 1.5533 - accuracy: 0.9796 - val_loss: 1.6719 - val_accuracy: 0.8750\n",
            "\n",
            "Epoch 00026: val_loss improved from 2.04644 to 1.67189, saving model to /content/drive/My Drive/RawFoot_Image/RawFoot_Image_GreyScale_Desnet121.h5\n",
            "Epoch 27/150\n",
            "349/349 [==============================] - 129s 369ms/step - loss: 1.3880 - accuracy: 0.9889 - val_loss: 2.2561 - val_accuracy: 0.7647\n",
            "\n",
            "Epoch 00027: val_loss did not improve from 1.67189\n",
            "Epoch 28/150\n",
            "349/349 [==============================] - 128s 366ms/step - loss: 1.6169 - accuracy: 0.9763 - val_loss: 1.2513 - val_accuracy: 0.8456\n",
            "\n",
            "Epoch 00028: val_loss improved from 1.67189 to 1.25127, saving model to /content/drive/My Drive/RawFoot_Image/RawFoot_Image_GreyScale_Desnet121.h5\n",
            "Epoch 29/150\n",
            "349/349 [==============================] - 134s 385ms/step - loss: 1.8627 - accuracy: 0.9692 - val_loss: 15.7853 - val_accuracy: 0.2279\n",
            "\n",
            "Epoch 00029: val_loss did not improve from 1.25127\n",
            "Epoch 30/150\n",
            "349/349 [==============================] - 129s 370ms/step - loss: 1.6749 - accuracy: 0.9745 - val_loss: 4.3135 - val_accuracy: 0.5809\n",
            "\n",
            "Epoch 00030: val_loss did not improve from 1.25127\n",
            "Epoch 31/150\n",
            "349/349 [==============================] - 130s 372ms/step - loss: 1.4408 - accuracy: 0.9803 - val_loss: 191.1338 - val_accuracy: 0.0221\n",
            "\n",
            "Epoch 00031: val_loss did not improve from 1.25127\n",
            "Epoch 32/150\n",
            "349/349 [==============================] - 131s 376ms/step - loss: 1.4411 - accuracy: 0.9839 - val_loss: 153.4788 - val_accuracy: 0.0294\n",
            "\n",
            "Epoch 00032: val_loss did not improve from 1.25127\n",
            "Epoch 33/150\n",
            "349/349 [==============================] - 133s 382ms/step - loss: 1.4477 - accuracy: 0.9799 - val_loss: 1.2964 - val_accuracy: 0.8088\n",
            "\n",
            "Epoch 00033: val_loss did not improve from 1.25127\n",
            "Epoch 34/150\n",
            "349/349 [==============================] - 132s 379ms/step - loss: 1.3657 - accuracy: 0.9810 - val_loss: 1.3115 - val_accuracy: 0.8971\n",
            "\n",
            "Epoch 00034: val_loss did not improve from 1.25127\n",
            "Epoch 35/150\n",
            "349/349 [==============================] - 133s 381ms/step - loss: 1.2962 - accuracy: 0.9767 - val_loss: 1.9029 - val_accuracy: 0.6765\n",
            "\n",
            "Epoch 00035: val_loss did not improve from 1.25127\n",
            "Epoch 36/150\n",
            "349/349 [==============================] - 133s 381ms/step - loss: 1.4252 - accuracy: 0.9810 - val_loss: 1.4093 - val_accuracy: 0.6029\n",
            "\n",
            "Epoch 00036: val_loss did not improve from 1.25127\n",
            "Epoch 37/150\n",
            "349/349 [==============================] - 133s 382ms/step - loss: 1.3070 - accuracy: 0.9824 - val_loss: 16.4423 - val_accuracy: 0.1250\n",
            "\n",
            "Epoch 00037: val_loss did not improve from 1.25127\n",
            "Epoch 38/150\n",
            "349/349 [==============================] - 134s 384ms/step - loss: 1.4309 - accuracy: 0.9742 - val_loss: 2.8206 - val_accuracy: 0.7574\n",
            "\n",
            "Epoch 00038: val_loss did not improve from 1.25127\n",
            "Epoch 39/150\n",
            "349/349 [==============================] - 134s 385ms/step - loss: 1.3833 - accuracy: 0.9824 - val_loss: 4.2490 - val_accuracy: 0.3309\n",
            "\n",
            "Epoch 00039: val_loss did not improve from 1.25127\n",
            "Epoch 40/150\n",
            "349/349 [==============================] - 135s 388ms/step - loss: 1.4453 - accuracy: 0.9745 - val_loss: 1.2197 - val_accuracy: 0.6912\n",
            "\n",
            "Epoch 00040: val_loss improved from 1.25127 to 1.21975, saving model to /content/drive/My Drive/RawFoot_Image/RawFoot_Image_GreyScale_Desnet121.h5\n",
            "Epoch 41/150\n",
            "349/349 [==============================] - 138s 396ms/step - loss: 1.2339 - accuracy: 0.9857 - val_loss: 2.1279 - val_accuracy: 0.8603\n",
            "\n",
            "Epoch 00041: val_loss did not improve from 1.21975\n",
            "Epoch 42/150\n",
            "349/349 [==============================] - 135s 386ms/step - loss: 1.4363 - accuracy: 0.9796 - val_loss: 2.0091 - val_accuracy: 0.7941\n",
            "\n",
            "Epoch 00042: val_loss did not improve from 1.21975\n",
            "Epoch 43/150\n",
            "349/349 [==============================] - 136s 388ms/step - loss: 1.4685 - accuracy: 0.9763 - val_loss: 8.0899 - val_accuracy: 0.4191\n",
            "\n",
            "Epoch 00043: val_loss did not improve from 1.21975\n",
            "Epoch 44/150\n",
            "349/349 [==============================] - 137s 393ms/step - loss: 1.5138 - accuracy: 0.9785 - val_loss: 3.5813 - val_accuracy: 0.9191\n",
            "\n",
            "Epoch 00044: val_loss did not improve from 1.21975\n",
            "Epoch 45/150\n",
            "349/349 [==============================] - 136s 390ms/step - loss: 1.3378 - accuracy: 0.9835 - val_loss: 4.8035 - val_accuracy: 0.4485\n",
            "\n",
            "Epoch 00045: val_loss did not improve from 1.21975\n",
            "Epoch 46/150\n",
            "349/349 [==============================] - 135s 388ms/step - loss: 1.1758 - accuracy: 0.9842 - val_loss: 6.0506 - val_accuracy: 0.4559\n",
            "\n",
            "Epoch 00046: val_loss did not improve from 1.21975\n",
            "Epoch 47/150\n",
            "349/349 [==============================] - 136s 391ms/step - loss: 1.3413 - accuracy: 0.9756 - val_loss: 2.2631 - val_accuracy: 0.8676\n",
            "\n",
            "Epoch 00047: val_loss did not improve from 1.21975\n",
            "Epoch 48/150\n",
            "349/349 [==============================] - 136s 390ms/step - loss: 1.2029 - accuracy: 0.9857 - val_loss: 1.5174 - val_accuracy: 0.8750\n",
            "\n",
            "Epoch 00048: val_loss did not improve from 1.21975\n",
            "Epoch 49/150\n",
            "349/349 [==============================] - 133s 382ms/step - loss: 1.0987 - accuracy: 0.9839 - val_loss: 1.6002 - val_accuracy: 0.7132\n",
            "\n",
            "Epoch 00049: val_loss did not improve from 1.21975\n",
            "Epoch 50/150\n",
            "349/349 [==============================] - 133s 381ms/step - loss: 1.3790 - accuracy: 0.9796 - val_loss: 1.8645 - val_accuracy: 0.7279\n",
            "\n",
            "Epoch 00050: val_loss did not improve from 1.21975\n",
            "Epoch 51/150\n",
            "349/349 [==============================] - 133s 382ms/step - loss: 1.3378 - accuracy: 0.9806 - val_loss: 8.0868 - val_accuracy: 0.3235\n",
            "\n",
            "Epoch 00051: val_loss did not improve from 1.21975\n",
            "Epoch 52/150\n",
            "349/349 [==============================] - 132s 378ms/step - loss: 1.1993 - accuracy: 0.9846 - val_loss: 8.8031 - val_accuracy: 0.3529\n",
            "\n",
            "Epoch 00052: val_loss did not improve from 1.21975\n",
            "Epoch 53/150\n",
            "349/349 [==============================] - 132s 379ms/step - loss: 1.2861 - accuracy: 0.9803 - val_loss: 5.7370 - val_accuracy: 0.5662\n",
            "\n",
            "Epoch 00053: val_loss did not improve from 1.21975\n",
            "Epoch 54/150\n",
            "349/349 [==============================] - 134s 383ms/step - loss: 1.1264 - accuracy: 0.9853 - val_loss: 3.5514 - val_accuracy: 0.6176\n",
            "\n",
            "Epoch 00054: val_loss did not improve from 1.21975\n",
            "Epoch 55/150\n",
            "349/349 [==============================] - 133s 380ms/step - loss: 1.2036 - accuracy: 0.9760 - val_loss: 13.2531 - val_accuracy: 0.1691\n",
            "\n",
            "Epoch 00055: val_loss did not improve from 1.21975\n",
            "Epoch 56/150\n",
            "349/349 [==============================] - 135s 386ms/step - loss: 1.2077 - accuracy: 0.9849 - val_loss: 1.7057 - val_accuracy: 0.7868\n",
            "\n",
            "Epoch 00056: val_loss did not improve from 1.21975\n",
            "Epoch 57/150\n",
            "349/349 [==============================] - 132s 379ms/step - loss: 1.1503 - accuracy: 0.9864 - val_loss: 2.3110 - val_accuracy: 0.8676\n",
            "\n",
            "Epoch 00057: val_loss did not improve from 1.21975\n",
            "Epoch 58/150\n",
            "349/349 [==============================] - 132s 378ms/step - loss: 0.9892 - accuracy: 0.9864 - val_loss: 2.8604 - val_accuracy: 0.4191\n",
            "\n",
            "Epoch 00058: val_loss did not improve from 1.21975\n",
            "Epoch 59/150\n",
            "349/349 [==============================] - 133s 381ms/step - loss: 1.1603 - accuracy: 0.9831 - val_loss: 15.2244 - val_accuracy: 0.1912\n",
            "\n",
            "Epoch 00059: val_loss did not improve from 1.21975\n",
            "Epoch 60/150\n",
            "349/349 [==============================] - 133s 382ms/step - loss: 1.1587 - accuracy: 0.9799 - val_loss: 1.1636 - val_accuracy: 0.8088\n",
            "\n",
            "Epoch 00060: val_loss improved from 1.21975 to 1.16358, saving model to /content/drive/My Drive/RawFoot_Image/RawFoot_Image_GreyScale_Desnet121.h5\n",
            "Epoch 61/150\n",
            "349/349 [==============================] - 135s 386ms/step - loss: 1.1572 - accuracy: 0.9839 - val_loss: 4.3276 - val_accuracy: 0.5809\n",
            "\n",
            "Epoch 00061: val_loss did not improve from 1.16358\n",
            "Epoch 62/150\n",
            "349/349 [==============================] - 133s 380ms/step - loss: 1.0536 - accuracy: 0.9824 - val_loss: 6.7420 - val_accuracy: 0.3529\n",
            "\n",
            "Epoch 00062: val_loss did not improve from 1.16358\n",
            "Epoch 63/150\n",
            "349/349 [==============================] - 132s 377ms/step - loss: 1.2073 - accuracy: 0.9835 - val_loss: 1.7585 - val_accuracy: 0.8971\n",
            "\n",
            "Epoch 00063: val_loss did not improve from 1.16358\n",
            "Epoch 64/150\n",
            "349/349 [==============================] - 131s 377ms/step - loss: 1.1385 - accuracy: 0.9792 - val_loss: 4.9437 - val_accuracy: 0.7059\n",
            "\n",
            "Epoch 00064: val_loss did not improve from 1.16358\n",
            "Epoch 65/150\n",
            "349/349 [==============================] - 133s 382ms/step - loss: 1.1882 - accuracy: 0.9878 - val_loss: 66.0199 - val_accuracy: 0.0956\n",
            "\n",
            "Epoch 00065: val_loss did not improve from 1.16358\n",
            "Epoch 66/150\n",
            "349/349 [==============================] - 132s 379ms/step - loss: 0.9735 - accuracy: 0.9849 - val_loss: 1.0033 - val_accuracy: 0.7794\n",
            "\n",
            "Epoch 00066: val_loss improved from 1.16358 to 1.00327, saving model to /content/drive/My Drive/RawFoot_Image/RawFoot_Image_GreyScale_Desnet121.h5\n",
            "Epoch 67/150\n",
            "349/349 [==============================] - 139s 398ms/step - loss: 1.1765 - accuracy: 0.9770 - val_loss: 1.7076 - val_accuracy: 0.8088\n",
            "\n",
            "Epoch 00067: val_loss did not improve from 1.00327\n",
            "Epoch 68/150\n",
            "349/349 [==============================] - 132s 378ms/step - loss: 1.0348 - accuracy: 0.9846 - val_loss: 1.6674 - val_accuracy: 0.8309\n",
            "\n",
            "Epoch 00068: val_loss did not improve from 1.00327\n",
            "Epoch 69/150\n",
            "349/349 [==============================] - 132s 378ms/step - loss: 0.9135 - accuracy: 0.9885 - val_loss: 1.0571 - val_accuracy: 0.9559\n",
            "\n",
            "Epoch 00069: val_loss did not improve from 1.00327\n",
            "Epoch 70/150\n",
            "349/349 [==============================] - 131s 375ms/step - loss: 1.0493 - accuracy: 0.9778 - val_loss: 1.0067 - val_accuracy: 0.9118\n",
            "\n",
            "Epoch 00070: val_loss did not improve from 1.00327\n",
            "Epoch 71/150\n",
            "349/349 [==============================] - 132s 379ms/step - loss: 1.0146 - accuracy: 0.9828 - val_loss: 91.6795 - val_accuracy: 0.0221\n",
            "\n",
            "Epoch 00071: val_loss did not improve from 1.00327\n",
            "Epoch 72/150\n",
            "349/349 [==============================] - 132s 378ms/step - loss: 0.9685 - accuracy: 0.9835 - val_loss: 3.7283 - val_accuracy: 0.6103\n",
            "\n",
            "Epoch 00072: val_loss did not improve from 1.00327\n",
            "Epoch 73/150\n",
            "349/349 [==============================] - 130s 372ms/step - loss: 1.1065 - accuracy: 0.9857 - val_loss: 16.5216 - val_accuracy: 0.2794\n",
            "\n",
            "Epoch 00073: val_loss did not improve from 1.00327\n",
            "Epoch 74/150\n",
            "349/349 [==============================] - 129s 371ms/step - loss: 1.0948 - accuracy: 0.9799 - val_loss: 6.3360 - val_accuracy: 0.3897\n",
            "\n",
            "Epoch 00074: val_loss did not improve from 1.00327\n",
            "Epoch 75/150\n",
            "349/349 [==============================] - 130s 372ms/step - loss: 1.0332 - accuracy: 0.9839 - val_loss: 29.2506 - val_accuracy: 0.0882\n",
            "\n",
            "Epoch 00075: val_loss did not improve from 1.00327\n",
            "Epoch 76/150\n",
            "349/349 [==============================] - 128s 366ms/step - loss: 1.2530 - accuracy: 0.9767 - val_loss: 2.6561 - val_accuracy: 0.8162\n",
            "\n",
            "Epoch 00076: val_loss did not improve from 1.00327\n",
            "Epoch 77/150\n",
            "349/349 [==============================] - 128s 367ms/step - loss: 1.1342 - accuracy: 0.9763 - val_loss: 1.0655 - val_accuracy: 0.9044\n",
            "\n",
            "Epoch 00077: val_loss did not improve from 1.00327\n",
            "Epoch 78/150\n",
            "349/349 [==============================] - 129s 369ms/step - loss: 0.8714 - accuracy: 0.9910 - val_loss: 0.8044 - val_accuracy: 0.9559\n",
            "\n",
            "Epoch 00078: val_loss improved from 1.00327 to 0.80436, saving model to /content/drive/My Drive/RawFoot_Image/RawFoot_Image_GreyScale_Desnet121.h5\n",
            "Epoch 79/150\n",
            "349/349 [==============================] - 134s 384ms/step - loss: 0.9422 - accuracy: 0.9831 - val_loss: 3.4687 - val_accuracy: 0.8676\n",
            "\n",
            "Epoch 00079: val_loss did not improve from 0.80436\n",
            "Epoch 80/150\n",
            "349/349 [==============================] - 129s 371ms/step - loss: 0.9454 - accuracy: 0.9864 - val_loss: 0.8013 - val_accuracy: 0.8676\n",
            "\n",
            "Epoch 00080: val_loss improved from 0.80436 to 0.80126, saving model to /content/drive/My Drive/RawFoot_Image/RawFoot_Image_GreyScale_Desnet121.h5\n",
            "Epoch 81/150\n",
            "349/349 [==============================] - 135s 387ms/step - loss: 0.8977 - accuracy: 0.9874 - val_loss: 1.0280 - val_accuracy: 0.8015\n",
            "\n",
            "Epoch 00081: val_loss did not improve from 0.80126\n",
            "Epoch 82/150\n",
            "349/349 [==============================] - 129s 370ms/step - loss: 1.1184 - accuracy: 0.9821 - val_loss: 1.5196 - val_accuracy: 0.9559\n",
            "\n",
            "Epoch 00082: val_loss did not improve from 0.80126\n",
            "Epoch 83/150\n",
            "349/349 [==============================] - 130s 372ms/step - loss: 0.8395 - accuracy: 0.9874 - val_loss: 3.7563 - val_accuracy: 0.6838\n",
            "\n",
            "Epoch 00083: val_loss did not improve from 0.80126\n",
            "Epoch 84/150\n",
            "349/349 [==============================] - 129s 370ms/step - loss: 0.9073 - accuracy: 0.9860 - val_loss: 2.3411 - val_accuracy: 0.8824\n",
            "\n",
            "Epoch 00084: val_loss did not improve from 0.80126\n",
            "Epoch 85/150\n",
            "349/349 [==============================] - 128s 368ms/step - loss: 0.9952 - accuracy: 0.9821 - val_loss: 0.9309 - val_accuracy: 0.8897\n",
            "\n",
            "Epoch 00085: val_loss did not improve from 0.80126\n",
            "Epoch 86/150\n",
            "349/349 [==============================] - 129s 370ms/step - loss: 0.7634 - accuracy: 0.9921 - val_loss: 0.6537 - val_accuracy: 0.9412\n",
            "\n",
            "Epoch 00086: val_loss improved from 0.80126 to 0.65365, saving model to /content/drive/My Drive/RawFoot_Image/RawFoot_Image_GreyScale_Desnet121.h5\n",
            "Epoch 87/150\n",
            "349/349 [==============================] - 134s 385ms/step - loss: 0.8914 - accuracy: 0.9821 - val_loss: 2.4384 - val_accuracy: 0.8456\n",
            "\n",
            "Epoch 00087: val_loss did not improve from 0.65365\n",
            "Epoch 88/150\n",
            "349/349 [==============================] - 130s 372ms/step - loss: 0.8540 - accuracy: 0.9849 - val_loss: 1.4866 - val_accuracy: 0.9191\n",
            "\n",
            "Epoch 00088: val_loss did not improve from 0.65365\n",
            "Epoch 89/150\n",
            "349/349 [==============================] - 130s 372ms/step - loss: 0.8812 - accuracy: 0.9839 - val_loss: 1.7344 - val_accuracy: 0.9044\n",
            "\n",
            "Epoch 00089: val_loss did not improve from 0.65365\n",
            "Epoch 90/150\n",
            "349/349 [==============================] - 131s 375ms/step - loss: 0.8689 - accuracy: 0.9853 - val_loss: 1.7420 - val_accuracy: 0.8162\n",
            "\n",
            "Epoch 00090: val_loss did not improve from 0.65365\n",
            "Epoch 91/150\n",
            "349/349 [==============================] - 130s 373ms/step - loss: 0.7641 - accuracy: 0.9900 - val_loss: 0.6721 - val_accuracy: 0.9338\n",
            "\n",
            "Epoch 00091: val_loss did not improve from 0.65365\n",
            "Epoch 92/150\n",
            "349/349 [==============================] - 130s 372ms/step - loss: 0.7777 - accuracy: 0.9878 - val_loss: 303.8042 - val_accuracy: 0.0147\n",
            "\n",
            "Epoch 00092: val_loss did not improve from 0.65365\n",
            "Epoch 93/150\n",
            "349/349 [==============================] - 130s 371ms/step - loss: 0.9502 - accuracy: 0.9813 - val_loss: 2.2885 - val_accuracy: 0.6544\n",
            "\n",
            "Epoch 00093: val_loss did not improve from 0.65365\n",
            "Epoch 94/150\n",
            "349/349 [==============================] - 129s 369ms/step - loss: 0.9072 - accuracy: 0.9839 - val_loss: 357.5951 - val_accuracy: 0.0147\n",
            "\n",
            "Epoch 00094: val_loss did not improve from 0.65365\n",
            "Epoch 95/150\n",
            "349/349 [==============================] - 130s 372ms/step - loss: 0.9050 - accuracy: 0.9817 - val_loss: 1.9327 - val_accuracy: 0.4485\n",
            "\n",
            "Epoch 00095: val_loss did not improve from 0.65365\n",
            "Epoch 96/150\n",
            "349/349 [==============================] - 129s 371ms/step - loss: 0.9094 - accuracy: 0.9849 - val_loss: 9.9817 - val_accuracy: 0.4926\n",
            "\n",
            "Epoch 00096: val_loss did not improve from 0.65365\n",
            "Epoch 97/150\n",
            "349/349 [==============================] - 129s 370ms/step - loss: 0.8615 - accuracy: 0.9860 - val_loss: 2.0437 - val_accuracy: 0.4853\n",
            "\n",
            "Epoch 00097: val_loss did not improve from 0.65365\n",
            "Epoch 98/150\n",
            "349/349 [==============================] - 130s 372ms/step - loss: 0.9145 - accuracy: 0.9835 - val_loss: 10.4783 - val_accuracy: 0.3088\n",
            "\n",
            "Epoch 00098: val_loss did not improve from 0.65365\n",
            "Epoch 99/150\n",
            "349/349 [==============================] - 132s 377ms/step - loss: 1.0476 - accuracy: 0.9753 - val_loss: 4.8396 - val_accuracy: 0.4926\n",
            "\n",
            "Epoch 00099: val_loss did not improve from 0.65365\n",
            "Epoch 100/150\n",
            "349/349 [==============================] - 130s 373ms/step - loss: 0.7622 - accuracy: 0.9914 - val_loss: 3.5371 - val_accuracy: 0.3897\n",
            "\n",
            "Epoch 00100: val_loss did not improve from 0.65365\n",
            "Epoch 101/150\n",
            "349/349 [==============================] - 130s 373ms/step - loss: 0.8385 - accuracy: 0.9817 - val_loss: 36.0794 - val_accuracy: 0.0882\n",
            "\n",
            "Epoch 00101: val_loss did not improve from 0.65365\n",
            "Epoch 102/150\n",
            "349/349 [==============================] - 129s 371ms/step - loss: 0.7992 - accuracy: 0.9903 - val_loss: 2.3797 - val_accuracy: 0.8235\n",
            "\n",
            "Epoch 00102: val_loss did not improve from 0.65365\n",
            "Epoch 103/150\n",
            "349/349 [==============================] - 131s 375ms/step - loss: 0.8176 - accuracy: 0.9860 - val_loss: 3.7074 - val_accuracy: 0.6324\n",
            "\n",
            "Epoch 00103: val_loss did not improve from 0.65365\n",
            "Epoch 104/150\n",
            "349/349 [==============================] - 129s 371ms/step - loss: 0.7848 - accuracy: 0.9860 - val_loss: 6.9136 - val_accuracy: 0.5956\n",
            "\n",
            "Epoch 00104: val_loss did not improve from 0.65365\n",
            "Epoch 105/150\n",
            "349/349 [==============================] - 129s 371ms/step - loss: 0.8573 - accuracy: 0.9849 - val_loss: 142.9141 - val_accuracy: 0.0441\n",
            "\n",
            "Epoch 00105: val_loss did not improve from 0.65365\n",
            "Epoch 106/150\n",
            "349/349 [==============================] - 129s 370ms/step - loss: 0.8380 - accuracy: 0.9896 - val_loss: 2.2610 - val_accuracy: 0.6176\n",
            "\n",
            "Epoch 00106: val_loss did not improve from 0.65365\n",
            "Epoch 107/150\n",
            "349/349 [==============================] - 130s 373ms/step - loss: 0.8686 - accuracy: 0.9860 - val_loss: 46.1249 - val_accuracy: 0.0809\n",
            "\n",
            "Epoch 00107: val_loss did not improve from 0.65365\n",
            "Epoch 108/150\n",
            "349/349 [==============================] - 129s 369ms/step - loss: 0.9488 - accuracy: 0.9810 - val_loss: 0.8689 - val_accuracy: 0.9632\n",
            "\n",
            "Epoch 00108: val_loss did not improve from 0.65365\n",
            "Epoch 109/150\n",
            "349/349 [==============================] - 128s 367ms/step - loss: 0.8030 - accuracy: 0.9882 - val_loss: 27.3643 - val_accuracy: 0.1765\n",
            "\n",
            "Epoch 00109: val_loss did not improve from 0.65365\n",
            "Epoch 110/150\n",
            "349/349 [==============================] - 130s 371ms/step - loss: 0.8273 - accuracy: 0.9860 - val_loss: 0.7745 - val_accuracy: 0.8971\n",
            "\n",
            "Epoch 00110: val_loss did not improve from 0.65365\n",
            "Epoch 111/150\n",
            "349/349 [==============================] - 128s 367ms/step - loss: 0.8406 - accuracy: 0.9817 - val_loss: 46.5404 - val_accuracy: 0.0588\n",
            "\n",
            "Epoch 00111: val_loss did not improve from 0.65365\n",
            "Epoch 112/150\n",
            "349/349 [==============================] - 129s 369ms/step - loss: 1.1850 - accuracy: 0.9727 - val_loss: 2.6255 - val_accuracy: 0.9412\n",
            "\n",
            "Epoch 00112: val_loss did not improve from 0.65365\n",
            "Epoch 113/150\n",
            "349/349 [==============================] - 128s 367ms/step - loss: 0.8422 - accuracy: 0.9882 - val_loss: 11.6789 - val_accuracy: 0.4044\n",
            "\n",
            "Epoch 00113: val_loss did not improve from 0.65365\n",
            "Epoch 114/150\n",
            "349/349 [==============================] - 127s 363ms/step - loss: 0.6733 - accuracy: 0.9935 - val_loss: 3.4309 - val_accuracy: 0.8529\n",
            "\n",
            "Epoch 00114: val_loss did not improve from 0.65365\n",
            "Epoch 115/150\n",
            "349/349 [==============================] - 128s 367ms/step - loss: 0.7735 - accuracy: 0.9828 - val_loss: 9.5460 - val_accuracy: 0.3824\n",
            "\n",
            "Epoch 00115: val_loss did not improve from 0.65365\n",
            "Epoch 116/150\n",
            "349/349 [==============================] - 128s 366ms/step - loss: 0.8032 - accuracy: 0.9914 - val_loss: 1.1008 - val_accuracy: 0.9559\n",
            "\n",
            "Epoch 00116: val_loss did not improve from 0.65365\n",
            "Epoch 117/150\n",
            "349/349 [==============================] - 128s 366ms/step - loss: 0.7179 - accuracy: 0.9867 - val_loss: 5.4322 - val_accuracy: 0.8382\n",
            "\n",
            "Epoch 00117: val_loss did not improve from 0.65365\n",
            "Epoch 118/150\n",
            "349/349 [==============================] - 127s 365ms/step - loss: 0.7056 - accuracy: 0.9910 - val_loss: 1.8763 - val_accuracy: 0.6618\n",
            "\n",
            "Epoch 00118: val_loss did not improve from 0.65365\n",
            "Epoch 119/150\n",
            "349/349 [==============================] - 127s 365ms/step - loss: 1.0985 - accuracy: 0.9670 - val_loss: 6.1844 - val_accuracy: 0.5735\n",
            "\n",
            "Epoch 00119: val_loss did not improve from 0.65365\n",
            "Epoch 120/150\n",
            "349/349 [==============================] - 128s 366ms/step - loss: 0.8670 - accuracy: 0.9896 - val_loss: 0.8578 - val_accuracy: 0.9338\n",
            "\n",
            "Epoch 00120: val_loss did not improve from 0.65365\n",
            "Epoch 121/150\n",
            "349/349 [==============================] - 128s 366ms/step - loss: 0.7457 - accuracy: 0.9871 - val_loss: 4.1417 - val_accuracy: 0.8824\n",
            "\n",
            "Epoch 00121: val_loss did not improve from 0.65365\n",
            "Epoch 122/150\n",
            "349/349 [==============================] - 128s 366ms/step - loss: 0.6102 - accuracy: 0.9925 - val_loss: 74.3545 - val_accuracy: 0.0368\n",
            "\n",
            "Epoch 00122: val_loss did not improve from 0.65365\n",
            "Epoch 123/150\n",
            "349/349 [==============================] - 127s 365ms/step - loss: 0.8010 - accuracy: 0.9857 - val_loss: 2.9260 - val_accuracy: 0.7721\n",
            "\n",
            "Epoch 00123: val_loss did not improve from 0.65365\n",
            "Epoch 124/150\n",
            "349/349 [==============================] - 132s 377ms/step - loss: 0.6287 - accuracy: 0.9903 - val_loss: 7.3473 - val_accuracy: 0.6103\n",
            "\n",
            "Epoch 00124: val_loss did not improve from 0.65365\n",
            "Epoch 125/150\n",
            "349/349 [==============================] - 133s 381ms/step - loss: 0.7392 - accuracy: 0.9900 - val_loss: 0.6408 - val_accuracy: 0.9853\n",
            "\n",
            "Epoch 00125: val_loss improved from 0.65365 to 0.64078, saving model to /content/drive/My Drive/RawFoot_Image/RawFoot_Image_GreyScale_Desnet121.h5\n",
            "Epoch 126/150\n",
            "349/349 [==============================] - 139s 397ms/step - loss: 0.8228 - accuracy: 0.9857 - val_loss: 13.4232 - val_accuracy: 0.2647\n",
            "\n",
            "Epoch 00126: val_loss did not improve from 0.64078\n",
            "Epoch 127/150\n",
            "349/349 [==============================] - 136s 389ms/step - loss: 0.7895 - accuracy: 0.9849 - val_loss: 3.9288 - val_accuracy: 0.8235\n",
            "\n",
            "Epoch 00127: val_loss did not improve from 0.64078\n",
            "Epoch 128/150\n",
            "349/349 [==============================] - 135s 386ms/step - loss: 0.7457 - accuracy: 0.9857 - val_loss: 4.8249 - val_accuracy: 0.7426\n",
            "\n",
            "Epoch 00128: val_loss did not improve from 0.64078\n",
            "Epoch 129/150\n",
            "349/349 [==============================] - 135s 387ms/step - loss: 0.7493 - accuracy: 0.9857 - val_loss: 0.6385 - val_accuracy: 0.9779\n",
            "\n",
            "Epoch 00129: val_loss improved from 0.64078 to 0.63850, saving model to /content/drive/My Drive/RawFoot_Image/RawFoot_Image_GreyScale_Desnet121.h5\n",
            "Epoch 130/150\n",
            "349/349 [==============================] - 136s 390ms/step - loss: 0.7044 - accuracy: 0.9871 - val_loss: 6.1272 - val_accuracy: 0.6324\n",
            "\n",
            "Epoch 00130: val_loss did not improve from 0.63850\n",
            "Epoch 131/150\n",
            "349/349 [==============================] - 135s 388ms/step - loss: 0.7598 - accuracy: 0.9871 - val_loss: 0.8336 - val_accuracy: 0.9338\n",
            "\n",
            "Epoch 00131: val_loss did not improve from 0.63850\n",
            "Epoch 132/150\n",
            "349/349 [==============================] - 135s 388ms/step - loss: 0.6830 - accuracy: 0.9889 - val_loss: 3.4709 - val_accuracy: 0.7868\n",
            "\n",
            "Epoch 00132: val_loss did not improve from 0.63850\n",
            "Epoch 133/150\n",
            "349/349 [==============================] - 136s 388ms/step - loss: 0.7828 - accuracy: 0.9857 - val_loss: 2.4263 - val_accuracy: 0.8897\n",
            "\n",
            "Epoch 00133: val_loss did not improve from 0.63850\n",
            "Epoch 134/150\n",
            "349/349 [==============================] - 135s 387ms/step - loss: 0.7734 - accuracy: 0.9842 - val_loss: 2.9211 - val_accuracy: 0.9118\n",
            "\n",
            "Epoch 00134: val_loss did not improve from 0.63850\n",
            "Epoch 135/150\n",
            "349/349 [==============================] - 135s 387ms/step - loss: 0.7774 - accuracy: 0.9835 - val_loss: 2.3890 - val_accuracy: 0.8088\n",
            "\n",
            "Epoch 00135: val_loss did not improve from 0.63850\n",
            "Epoch 136/150\n",
            "349/349 [==============================] - 136s 389ms/step - loss: 0.8128 - accuracy: 0.9839 - val_loss: 1.1399 - val_accuracy: 0.8529\n",
            "\n",
            "Epoch 00136: val_loss did not improve from 0.63850\n",
            "Epoch 137/150\n",
            "349/349 [==============================] - 137s 394ms/step - loss: 0.6395 - accuracy: 0.9889 - val_loss: 2.0950 - val_accuracy: 0.5294\n",
            "\n",
            "Epoch 00137: val_loss did not improve from 0.63850\n",
            "Epoch 138/150\n",
            "349/349 [==============================] - 135s 388ms/step - loss: 0.7572 - accuracy: 0.9796 - val_loss: 5.8229 - val_accuracy: 0.7132\n",
            "\n",
            "Epoch 00138: val_loss did not improve from 0.63850\n",
            "Epoch 139/150\n",
            "349/349 [==============================] - 135s 386ms/step - loss: 0.6421 - accuracy: 0.9903 - val_loss: 0.5581 - val_accuracy: 0.8676\n",
            "\n",
            "Epoch 00139: val_loss improved from 0.63850 to 0.55814, saving model to /content/drive/My Drive/RawFoot_Image/RawFoot_Image_GreyScale_Desnet121.h5\n",
            "Epoch 140/150\n",
            "349/349 [==============================] - 137s 393ms/step - loss: 0.6237 - accuracy: 0.9864 - val_loss: 33.5879 - val_accuracy: 0.1691\n",
            "\n",
            "Epoch 00140: val_loss did not improve from 0.55814\n",
            "Epoch 141/150\n",
            "349/349 [==============================] - 135s 387ms/step - loss: 0.7203 - accuracy: 0.9867 - val_loss: 11.8283 - val_accuracy: 0.3529\n",
            "\n",
            "Epoch 00141: val_loss did not improve from 0.55814\n",
            "Epoch 142/150\n",
            "349/349 [==============================] - 135s 386ms/step - loss: 0.8044 - accuracy: 0.9788 - val_loss: 1.2081 - val_accuracy: 0.9338\n",
            "\n",
            "Epoch 00142: val_loss did not improve from 0.55814\n",
            "Epoch 143/150\n",
            "349/349 [==============================] - 136s 390ms/step - loss: 0.7572 - accuracy: 0.9892 - val_loss: 5.2694 - val_accuracy: 0.7279\n",
            "\n",
            "Epoch 00143: val_loss did not improve from 0.55814\n",
            "Epoch 144/150\n",
            "349/349 [==============================] - 136s 389ms/step - loss: 0.5965 - accuracy: 0.9939 - val_loss: 0.6274 - val_accuracy: 0.8676\n",
            "\n",
            "Epoch 00144: val_loss did not improve from 0.55814\n",
            "Epoch 145/150\n",
            "349/349 [==============================] - 135s 388ms/step - loss: 0.6392 - accuracy: 0.9892 - val_loss: 11.0272 - val_accuracy: 0.2206\n",
            "\n",
            "Epoch 00145: val_loss did not improve from 0.55814\n",
            "Epoch 146/150\n",
            "349/349 [==============================] - 136s 389ms/step - loss: 0.5968 - accuracy: 0.9925 - val_loss: 0.9654 - val_accuracy: 0.8750\n",
            "\n",
            "Epoch 00146: val_loss did not improve from 0.55814\n",
            "Epoch 147/150\n",
            "349/349 [==============================] - 136s 388ms/step - loss: 0.7117 - accuracy: 0.9871 - val_loss: 0.6504 - val_accuracy: 0.9779\n",
            "\n",
            "Epoch 00147: val_loss did not improve from 0.55814\n",
            "Epoch 148/150\n",
            "349/349 [==============================] - 136s 391ms/step - loss: 0.7159 - accuracy: 0.9867 - val_loss: 1.2440 - val_accuracy: 0.8456\n",
            "\n",
            "Epoch 00148: val_loss did not improve from 0.55814\n",
            "Epoch 149/150\n",
            "349/349 [==============================] - 136s 390ms/step - loss: 0.6081 - accuracy: 0.9907 - val_loss: 0.6355 - val_accuracy: 0.9632\n",
            "\n",
            "Epoch 00149: val_loss did not improve from 0.55814\n",
            "Epoch 150/150\n",
            "349/349 [==============================] - 137s 392ms/step - loss: 0.5769 - accuracy: 0.9896 - val_loss: 305.7314 - val_accuracy: 0.0294\n",
            "\n",
            "Epoch 00150: val_loss did not improve from 0.55814\n"
          ],
          "name": "stdout"
        }
      ]
    },
    {
      "cell_type": "code",
      "metadata": {
        "id": "p_rxtN88jK4V",
        "colab_type": "code",
        "colab": {
          "base_uri": "https://localhost:8080/",
          "height": 295
        },
        "outputId": "7fed6a52-871f-4c7c-859e-31d08318c1db"
      },
      "source": [
        "import matplotlib.pyplot as plt\n",
        "plt.plot(hist.history[\"accuracy\"])\n",
        "plt.plot(hist.history['val_accuracy'])\n",
        "plt.title(\"model accuracy\")\n",
        "plt.ylabel(\"Accuracy\")\n",
        "plt.xlabel(\"Epoch\")\n",
        "plt.legend([\"Accuracy\",\"Validation Accuracy\"])\n",
        "plt.show()"
      ],
      "execution_count": null,
      "outputs": [
        {
          "output_type": "display_data",
          "data": {
            "image/png": "[encoded data removed]",
            "text/plain": [
              "<Figure size 432x288 with 1 Axes>"
            ]
          },
          "metadata": {
            "tags": [],
            "needs_background": "light"
          }
        }
      ]
    },
    {
      "cell_type": "code",
      "metadata": {
        "id": "D3kAJVpujRM1",
        "colab_type": "code",
        "colab": {
          "base_uri": "https://localhost:8080/",
          "height": 295
        },
        "outputId": "048f575d-bc32-4652-cbb9-10e966a0a483"
      },
      "source": [
        "plt.plot(hist.history['loss'])\n",
        "plt.plot(hist.history['val_loss'])\n",
        "plt.title(\"model Loss\")\n",
        "plt.ylabel(\"Loss\")\n",
        "plt.xlabel(\"Epoch\")\n",
        "plt.legend([\"Loss\",\"Validation Loss\"])\n",
        "plt.show()"
      ],
      "execution_count": null,
      "outputs": [
        {
          "output_type": "display_data",
          "data": {
            "image/png": "[encoded data removed]",
            "text/plain": [
              "<Figure size 432x288 with 1 Axes>"
            ]
          },
          "metadata": {
            "tags": [],
            "needs_background": "light"
          }
        }
      ]
    },
    {
      "cell_type": "code",
      "metadata": {
        "id": "64tlbqY4jSgH",
        "colab_type": "code",
        "colab": {
          "base_uri": "https://localhost:8080/",
          "height": 34
        },
        "outputId": "65b60a4e-aaac-4c63-cf76-54c3e86cea4d"
      },
      "source": [
        "GreyTestData = TestGenerator.flow_from_directory('/content/drive/My Drive/RawFoot_Image/Test/', target_size=(224,224), batch_size = 8, shuffle = False, color_mode='grayscale')"
      ],
      "execution_count": null,
      "outputs": [
        {
          "output_type": "stream",
          "text": [
            "Found 204 images belonging to 68 classes.\n"
          ],
          "name": "stdout"
        }
      ]
    },
    {
      "cell_type": "code",
      "metadata": {
        "id": "fq4_B6VkHezY",
        "colab_type": "code",
        "colab": {}
      },
      "source": [
        "model.load_weights('/content/drive/My Drive/RawFoot_Image/RawFoot_Image_GreyScale_Desnet121.h5')"
      ],
      "execution_count": null,
      "outputs": []
    },
    {
      "cell_type": "code",
      "metadata": {
        "id": "GJjkylqrjUqW",
        "colab_type": "code",
        "colab": {}
      },
      "source": [
        "Grey_predict = model.predict(GreyTestData)"
      ],
      "execution_count": null,
      "outputs": []
    },
    {
      "cell_type": "code",
      "metadata": {
        "id": "3ayBBAJajXJ6",
        "colab_type": "code",
        "colab": {}
      },
      "source": [
        "Grey_predict_classes = np.argmax(Grey_predict, axis=1)"
      ],
      "execution_count": null,
      "outputs": []
    },
    {
      "cell_type": "code",
      "metadata": {
        "id": "kas8QZe-jZMk",
        "colab_type": "code",
        "colab": {
          "base_uri": "https://localhost:8080/",
          "height": 221
        },
        "outputId": "c4d2c930-cacb-497a-cd2e-cf566b7b0c8f"
      },
      "source": [
        "Grey_predict_classes"
      ],
      "execution_count": null,
      "outputs": [
        {
          "output_type": "execute_result",
          "data": {
            "text/plain": [
              "array([21, 21, 21, 21, 21, 21, 21, 21, 21, 21, 21, 21, 21, 21, 21, 13, 13,\n",
              "       13, 21, 21, 21, 21, 21, 21, 13, 21, 21, 21, 21, 21, 13, 21, 21, 21,\n",
              "       21, 21, 21, 21, 21, 13, 13, 13, 21, 21, 21, 21, 21, 21, 21, 21, 21,\n",
              "       13, 13, 13, 21, 21, 21, 21, 21, 21, 21, 21, 21, 21, 21, 21, 21, 21,\n",
              "       21, 13, 21, 21, 21, 21, 21, 21, 21, 21, 21, 21, 21, 21, 21, 21, 21,\n",
              "       21, 21, 21, 21, 13, 21, 21, 21, 21, 21, 21, 21, 21, 21, 21, 21, 21,\n",
              "       13, 21, 21, 21, 21, 21, 21, 21, 21, 21, 21, 13, 21, 21, 21, 21, 21,\n",
              "       21, 21, 21, 21, 21, 21, 13, 21, 21, 21, 21, 21, 21, 21, 21, 21, 21,\n",
              "       21, 21, 21, 21, 21, 21, 21, 21, 13, 21, 13, 21, 21, 21, 21, 21, 21,\n",
              "       21, 21, 21, 21, 21, 21, 21, 21, 21, 21, 21, 21, 21, 21, 21, 21, 21,\n",
              "       21, 21, 21, 21, 21, 21, 21, 21, 21, 21, 21, 21, 21, 21, 13, 13, 21,\n",
              "       21, 21, 21, 21, 21, 21, 21, 21, 13, 21, 21, 21, 21, 21, 21, 21, 21])"
            ]
          },
          "metadata": {
            "tags": []
          },
          "execution_count": 33
        }
      ]
    },
    {
      "cell_type": "code",
      "metadata": {
        "id": "DSqjUOrTjbf4",
        "colab_type": "code",
        "colab": {}
      },
      "source": [
        "from sklearn.metrics import accuracy_score\n",
        "from sklearn.metrics import precision_score\n",
        "from sklearn.metrics import recall_score\n",
        "from sklearn.metrics import f1_score\n",
        "from sklearn.metrics import cohen_kappa_score\n",
        "from sklearn.metrics import roc_auc_score"
      ],
      "execution_count": null,
      "outputs": []
    },
    {
      "cell_type": "code",
      "metadata": {
        "id": "WLd0YYfkjejI",
        "colab_type": "code",
        "colab": {
          "base_uri": "https://localhost:8080/",
          "height": 34
        },
        "outputId": "03cfc93c-2db5-4ab3-8e8f-bb6da1fb2c37"
      },
      "source": [
        "Grey_accuracy = accuracy_score(GreyTestData.classes, Grey_predict_classes)\n",
        "print(\"Grey Accuracy: \", Grey_accuracy)"
      ],
      "execution_count": null,
      "outputs": [
        {
          "output_type": "stream",
          "text": [
            "Grey Accuracy:  0.029411764705882353\n"
          ],
          "name": "stdout"
        }
      ]
    },
    {
      "cell_type": "code",
      "metadata": {
        "id": "0ltrtnjHjgas",
        "colab_type": "code",
        "colab": {
          "base_uri": "https://localhost:8080/",
          "height": 88
        },
        "outputId": "48e431e8-1781-408a-e186-1a4de81deefd"
      },
      "source": [
        "Grey_precision = precision_score(GreyTestData.classes, Grey_predict_classes,average=\"weighted\")\n",
        "print(\"Grey Precision: \", Grey_precision)"
      ],
      "execution_count": null,
      "outputs": [
        {
          "output_type": "stream",
          "text": [
            "Grey Precision:  0.00234192037470726\n"
          ],
          "name": "stdout"
        },
        {
          "output_type": "stream",
          "text": [
            "/usr/local/lib/python3.6/dist-packages/sklearn/metrics/_classification.py:1272: UndefinedMetricWarning: Precision is ill-defined and being set to 0.0 in labels with no predicted samples. Use `zero_division` parameter to control this behavior.\n",
            "  _warn_prf(average, modifier, msg_start, len(result))\n"
          ],
          "name": "stderr"
        }
      ]
    },
    {
      "cell_type": "code",
      "metadata": {
        "id": "yhML_aPljiQK",
        "colab_type": "code",
        "colab": {
          "base_uri": "https://localhost:8080/",
          "height": 34
        },
        "outputId": "9b49dde2-288b-404e-941a-a66a182ff4a0"
      },
      "source": [
        "Grey_recall = recall_score(GreyTestData.classes, Grey_predict_classes, average=\"weighted\")\n",
        "print(\"Grey Recall:\", Grey_recall)"
      ],
      "execution_count": null,
      "outputs": [
        {
          "output_type": "stream",
          "text": [
            "Grey Recall: 0.029411764705882353\n"
          ],
          "name": "stdout"
        }
      ]
    },
    {
      "cell_type": "code",
      "metadata": {
        "id": "qta1SpMbjj7F",
        "colab_type": "code",
        "colab": {
          "base_uri": "https://localhost:8080/",
          "height": 34
        },
        "outputId": "55a55333-ebb5-40b3-dc93-07b2a7728857"
      },
      "source": [
        "Grey_f1_score = f1_score(GreyTestData.classes, Grey_predict_classes, average=\"weighted\")\n",
        "print(\"F1 score for Grey: \", Grey_f1_score)"
      ],
      "execution_count": null,
      "outputs": [
        {
          "output_type": "stream",
          "text": [
            "F1 score for Grey:  0.0041508538899430744\n"
          ],
          "name": "stdout"
        }
      ]
    },
    {
      "cell_type": "markdown",
      "metadata": {
        "id": "xAO6tNo_jtP7",
        "colab_type": "text"
      },
      "source": [
        "**Processing for Colour Data**"
      ]
    },
    {
      "cell_type": "code",
      "metadata": {
        "id": "DDoXH9c9jmFj",
        "colab_type": "code",
        "colab": {
          "base_uri": "https://localhost:8080/",
          "height": 34
        },
        "outputId": "f82a8228-140e-4882-86dc-965ae797e9dc"
      },
      "source": [
        "Colour_TrainingData =  DataGenerator.flow_from_directory('/content/drive/My Drive/RawFoot_Image/Train/', target_size=(224,224), batch_size=8)"
      ],
      "execution_count": null,
      "outputs": [
        {
          "output_type": "stream",
          "text": [
            "Found 2788 images belonging to 68 classes.\n"
          ],
          "name": "stdout"
        }
      ]
    },
    {
      "cell_type": "code",
      "metadata": {
        "id": "eynfj3bblZTb",
        "colab_type": "code",
        "colab": {
          "base_uri": "https://localhost:8080/",
          "height": 34
        },
        "outputId": "80fb1d0a-e5ff-4e4f-9d7d-57dcc1320e95"
      },
      "source": [
        "Colour_ValidData =  TestGenerator.flow_from_directory('/content/drive/My Drive/RawFoot_Image/Valid/', target_size=(224,224), batch_size=8)"
      ],
      "execution_count": null,
      "outputs": [
        {
          "output_type": "stream",
          "text": [
            "Found 136 images belonging to 68 classes.\n"
          ],
          "name": "stdout"
        }
      ]
    },
    {
      "cell_type": "code",
      "metadata": {
        "id": "LnxzE2Idlb94",
        "colab_type": "code",
        "colab": {}
      },
      "source": [
        "conv_base_colour = DenseNet121(weights = 'imagenet', include_top = False)"
      ],
      "execution_count": null,
      "outputs": []
    },
    {
      "cell_type": "code",
      "metadata": {
        "id": "cD3NgJRrloR3",
        "colab_type": "code",
        "colab": {
          "base_uri": "https://localhost:8080/",
          "height": 34
        },
        "outputId": "0bb3eac2-220e-4258-dbee-9260cdf25c30"
      },
      "source": [
        "for layer in conv_base_colour.layers[:299]:\n",
        "  layer.trainable = False\n",
        "for layer in conv_base_colour.layers[299:]:\n",
        "  layer.trainable = True\n",
        "for layer in conv_base_colour.layers:\n",
        "  if isinstance(layer, BatchNormalization):\n",
        "    layer.trainable = True\n",
        "\n",
        "print(\"Done\")"
      ],
      "execution_count": null,
      "outputs": [
        {
          "output_type": "stream",
          "text": [
            "Done\n"
          ],
          "name": "stdout"
        }
      ]
    },
    {
      "cell_type": "code",
      "metadata": {
        "id": "lFg2_mkblswm",
        "colab_type": "code",
        "colab": {
          "base_uri": "https://localhost:8080/",
          "height": 1000
        },
        "outputId": "1b6ffd06-e2df-409e-8567-ff0bdbd5d161"
      },
      "source": [
        "for i, layer in enumerate(conv_base_colour.layers):\n",
        "   print(i, layer.name, layer.trainable)"
      ],
      "execution_count": null,
      "outputs": [
        {
          "output_type": "stream",
          "text": [
            "0 input_4 False\n",
            "1 zero_padding2d_2 False\n",
            "2 conv1/conv False\n",
            "3 conv1/bn True\n",
            "4 conv1/relu False\n",
            "5 zero_padding2d_3 False\n",
            "6 pool1 False\n",
            "7 conv2_block1_0_bn True\n",
            "8 conv2_block1_0_relu False\n",
            "9 conv2_block1_1_conv False\n",
            "10 conv2_block1_1_bn True\n",
            "11 conv2_block1_1_relu False\n",
            "12 conv2_block1_2_conv False\n",
            "13 conv2_block1_concat False\n",
            "14 conv2_block2_0_bn True\n",
            "15 conv2_block2_0_relu False\n",
            "16 conv2_block2_1_conv False\n",
            "17 conv2_block2_1_bn True\n",
            "18 conv2_block2_1_relu False\n",
            "19 conv2_block2_2_conv False\n",
            "20 conv2_block2_concat False\n",
            "21 conv2_block3_0_bn True\n",
            "22 conv2_block3_0_relu False\n",
            "23 conv2_block3_1_conv False\n",
            "24 conv2_block3_1_bn True\n",
            "25 conv2_block3_1_relu False\n",
            "26 conv2_block3_2_conv False\n",
            "27 conv2_block3_concat False\n",
            "28 conv2_block4_0_bn True\n",
            "29 conv2_block4_0_relu False\n",
            "30 conv2_block4_1_conv False\n",
            "31 conv2_block4_1_bn True\n",
            "32 conv2_block4_1_relu False\n",
            "33 conv2_block4_2_conv False\n",
            "34 conv2_block4_concat False\n",
            "35 conv2_block5_0_bn True\n",
            "36 conv2_block5_0_relu False\n",
            "37 conv2_block5_1_conv False\n",
            "38 conv2_block5_1_bn True\n",
            "39 conv2_block5_1_relu False\n",
            "40 conv2_block5_2_conv False\n",
            "41 conv2_block5_concat False\n",
            "42 conv2_block6_0_bn True\n",
            "43 conv2_block6_0_relu False\n",
            "44 conv2_block6_1_conv False\n",
            "45 conv2_block6_1_bn True\n",
            "46 conv2_block6_1_relu False\n",
            "47 conv2_block6_2_conv False\n",
            "48 conv2_block6_concat False\n",
            "49 pool2_bn True\n",
            "50 pool2_relu False\n",
            "51 pool2_conv False\n",
            "52 pool2_pool False\n",
            "53 conv3_block1_0_bn True\n",
            "54 conv3_block1_0_relu False\n",
            "55 conv3_block1_1_conv False\n",
            "56 conv3_block1_1_bn True\n",
            "57 conv3_block1_1_relu False\n",
            "58 conv3_block1_2_conv False\n",
            "59 conv3_block1_concat False\n",
            "60 conv3_block2_0_bn True\n",
            "61 conv3_block2_0_relu False\n",
            "62 conv3_block2_1_conv False\n",
            "63 conv3_block2_1_bn True\n",
            "64 conv3_block2_1_relu False\n",
            "65 conv3_block2_2_conv False\n",
            "66 conv3_block2_concat False\n",
            "67 conv3_block3_0_bn True\n",
            "68 conv3_block3_0_relu False\n",
            "69 conv3_block3_1_conv False\n",
            "70 conv3_block3_1_bn True\n",
            "71 conv3_block3_1_relu False\n",
            "72 conv3_block3_2_conv False\n",
            "73 conv3_block3_concat False\n",
            "74 conv3_block4_0_bn True\n",
            "75 conv3_block4_0_relu False\n",
            "76 conv3_block4_1_conv False\n",
            "77 conv3_block4_1_bn True\n",
            "78 conv3_block4_1_relu False\n",
            "79 conv3_block4_2_conv False\n",
            "80 conv3_block4_concat False\n",
            "81 conv3_block5_0_bn True\n",
            "82 conv3_block5_0_relu False\n",
            "83 conv3_block5_1_conv False\n",
            "84 conv3_block5_1_bn True\n",
            "85 conv3_block5_1_relu False\n",
            "86 conv3_block5_2_conv False\n",
            "87 conv3_block5_concat False\n",
            "88 conv3_block6_0_bn True\n",
            "89 conv3_block6_0_relu False\n",
            "90 conv3_block6_1_conv False\n",
            "91 conv3_block6_1_bn True\n",
            "92 conv3_block6_1_relu False\n",
            "93 conv3_block6_2_conv False\n",
            "94 conv3_block6_concat False\n",
            "95 conv3_block7_0_bn True\n",
            "96 conv3_block7_0_relu False\n",
            "97 conv3_block7_1_conv False\n",
            "98 conv3_block7_1_bn True\n",
            "99 conv3_block7_1_relu False\n",
            "100 conv3_block7_2_conv False\n",
            "101 conv3_block7_concat False\n",
            "102 conv3_block8_0_bn True\n",
            "103 conv3_block8_0_relu False\n",
            "104 conv3_block8_1_conv False\n",
            "105 conv3_block8_1_bn True\n",
            "106 conv3_block8_1_relu False\n",
            "107 conv3_block8_2_conv False\n",
            "108 conv3_block8_concat False\n",
            "109 conv3_block9_0_bn True\n",
            "110 conv3_block9_0_relu False\n",
            "111 conv3_block9_1_conv False\n",
            "112 conv3_block9_1_bn True\n",
            "113 conv3_block9_1_relu False\n",
            "114 conv3_block9_2_conv False\n",
            "115 conv3_block9_concat False\n",
            "116 conv3_block10_0_bn True\n",
            "117 conv3_block10_0_relu False\n",
            "118 conv3_block10_1_conv False\n",
            "119 conv3_block10_1_bn True\n",
            "120 conv3_block10_1_relu False\n",
            "121 conv3_block10_2_conv False\n",
            "122 conv3_block10_concat False\n",
            "123 conv3_block11_0_bn True\n",
            "124 conv3_block11_0_relu False\n",
            "125 conv3_block11_1_conv False\n",
            "126 conv3_block11_1_bn True\n",
            "127 conv3_block11_1_relu False\n",
            "128 conv3_block11_2_conv False\n",
            "129 conv3_block11_concat False\n",
            "130 conv3_block12_0_bn True\n",
            "131 conv3_block12_0_relu False\n",
            "132 conv3_block12_1_conv False\n",
            "133 conv3_block12_1_bn True\n",
            "134 conv3_block12_1_relu False\n",
            "135 conv3_block12_2_conv False\n",
            "136 conv3_block12_concat False\n",
            "137 pool3_bn True\n",
            "138 pool3_relu False\n",
            "139 pool3_conv False\n",
            "140 pool3_pool False\n",
            "141 conv4_block1_0_bn True\n",
            "142 conv4_block1_0_relu False\n",
            "143 conv4_block1_1_conv False\n",
            "144 conv4_block1_1_bn True\n",
            "145 conv4_block1_1_relu False\n",
            "146 conv4_block1_2_conv False\n",
            "147 conv4_block1_concat False\n",
            "148 conv4_block2_0_bn True\n",
            "149 conv4_block2_0_relu False\n",
            "150 conv4_block2_1_conv False\n",
            "151 conv4_block2_1_bn True\n",
            "152 conv4_block2_1_relu False\n",
            "153 conv4_block2_2_conv False\n",
            "154 conv4_block2_concat False\n",
            "155 conv4_block3_0_bn True\n",
            "156 conv4_block3_0_relu False\n",
            "157 conv4_block3_1_conv False\n",
            "158 conv4_block3_1_bn True\n",
            "159 conv4_block3_1_relu False\n",
            "160 conv4_block3_2_conv False\n",
            "161 conv4_block3_concat False\n",
            "162 conv4_block4_0_bn True\n",
            "163 conv4_block4_0_relu False\n",
            "164 conv4_block4_1_conv False\n",
            "165 conv4_block4_1_bn True\n",
            "166 conv4_block4_1_relu False\n",
            "167 conv4_block4_2_conv False\n",
            "168 conv4_block4_concat False\n",
            "169 conv4_block5_0_bn True\n",
            "170 conv4_block5_0_relu False\n",
            "171 conv4_block5_1_conv False\n",
            "172 conv4_block5_1_bn True\n",
            "173 conv4_block5_1_relu False\n",
            "174 conv4_block5_2_conv False\n",
            "175 conv4_block5_concat False\n",
            "176 conv4_block6_0_bn True\n",
            "177 conv4_block6_0_relu False\n",
            "178 conv4_block6_1_conv False\n",
            "179 conv4_block6_1_bn True\n",
            "180 conv4_block6_1_relu False\n",
            "181 conv4_block6_2_conv False\n",
            "182 conv4_block6_concat False\n",
            "183 conv4_block7_0_bn True\n",
            "184 conv4_block7_0_relu False\n",
            "185 conv4_block7_1_conv False\n",
            "186 conv4_block7_1_bn True\n",
            "187 conv4_block7_1_relu False\n",
            "188 conv4_block7_2_conv False\n",
            "189 conv4_block7_concat False\n",
            "190 conv4_block8_0_bn True\n",
            "191 conv4_block8_0_relu False\n",
            "192 conv4_block8_1_conv False\n",
            "193 conv4_block8_1_bn True\n",
            "194 conv4_block8_1_relu False\n",
            "195 conv4_block8_2_conv False\n",
            "196 conv4_block8_concat False\n",
            "197 conv4_block9_0_bn True\n",
            "198 conv4_block9_0_relu False\n",
            "199 conv4_block9_1_conv False\n",
            "200 conv4_block9_1_bn True\n",
            "201 conv4_block9_1_relu False\n",
            "202 conv4_block9_2_conv False\n",
            "203 conv4_block9_concat False\n",
            "204 conv4_block10_0_bn True\n",
            "205 conv4_block10_0_relu False\n",
            "206 conv4_block10_1_conv False\n",
            "207 conv4_block10_1_bn True\n",
            "208 conv4_block10_1_relu False\n",
            "209 conv4_block10_2_conv False\n",
            "210 conv4_block10_concat False\n",
            "211 conv4_block11_0_bn True\n",
            "212 conv4_block11_0_relu False\n",
            "213 conv4_block11_1_conv False\n",
            "214 conv4_block11_1_bn True\n",
            "215 conv4_block11_1_relu False\n",
            "216 conv4_block11_2_conv False\n",
            "217 conv4_block11_concat False\n",
            "218 conv4_block12_0_bn True\n",
            "219 conv4_block12_0_relu False\n",
            "220 conv4_block12_1_conv False\n",
            "221 conv4_block12_1_bn True\n",
            "222 conv4_block12_1_relu False\n",
            "223 conv4_block12_2_conv False\n",
            "224 conv4_block12_concat False\n",
            "225 conv4_block13_0_bn True\n",
            "226 conv4_block13_0_relu False\n",
            "227 conv4_block13_1_conv False\n",
            "228 conv4_block13_1_bn True\n",
            "229 conv4_block13_1_relu False\n",
            "230 conv4_block13_2_conv False\n",
            "231 conv4_block13_concat False\n",
            "232 conv4_block14_0_bn True\n",
            "233 conv4_block14_0_relu False\n",
            "234 conv4_block14_1_conv False\n",
            "235 conv4_block14_1_bn True\n",
            "236 conv4_block14_1_relu False\n",
            "237 conv4_block14_2_conv False\n",
            "238 conv4_block14_concat False\n",
            "239 conv4_block15_0_bn True\n",
            "240 conv4_block15_0_relu False\n",
            "241 conv4_block15_1_conv False\n",
            "242 conv4_block15_1_bn True\n",
            "243 conv4_block15_1_relu False\n",
            "244 conv4_block15_2_conv False\n",
            "245 conv4_block15_concat False\n",
            "246 conv4_block16_0_bn True\n",
            "247 conv4_block16_0_relu False\n",
            "248 conv4_block16_1_conv False\n",
            "249 conv4_block16_1_bn True\n",
            "250 conv4_block16_1_relu False\n",
            "251 conv4_block16_2_conv False\n",
            "252 conv4_block16_concat False\n",
            "253 conv4_block17_0_bn True\n",
            "254 conv4_block17_0_relu False\n",
            "255 conv4_block17_1_conv False\n",
            "256 conv4_block17_1_bn True\n",
            "257 conv4_block17_1_relu False\n",
            "258 conv4_block17_2_conv False\n",
            "259 conv4_block17_concat False\n",
            "260 conv4_block18_0_bn True\n",
            "261 conv4_block18_0_relu False\n",
            "262 conv4_block18_1_conv False\n",
            "263 conv4_block18_1_bn True\n",
            "264 conv4_block18_1_relu False\n",
            "265 conv4_block18_2_conv False\n",
            "266 conv4_block18_concat False\n",
            "267 conv4_block19_0_bn True\n",
            "268 conv4_block19_0_relu False\n",
            "269 conv4_block19_1_conv False\n",
            "270 conv4_block19_1_bn True\n",
            "271 conv4_block19_1_relu False\n",
            "272 conv4_block19_2_conv False\n",
            "273 conv4_block19_concat False\n",
            "274 conv4_block20_0_bn True\n",
            "275 conv4_block20_0_relu False\n",
            "276 conv4_block20_1_conv False\n",
            "277 conv4_block20_1_bn True\n",
            "278 conv4_block20_1_relu False\n",
            "279 conv4_block20_2_conv False\n",
            "280 conv4_block20_concat False\n",
            "281 conv4_block21_0_bn True\n",
            "282 conv4_block21_0_relu False\n",
            "283 conv4_block21_1_conv False\n",
            "284 conv4_block21_1_bn True\n",
            "285 conv4_block21_1_relu False\n",
            "286 conv4_block21_2_conv False\n",
            "287 conv4_block21_concat False\n",
            "288 conv4_block22_0_bn True\n",
            "289 conv4_block22_0_relu False\n",
            "290 conv4_block22_1_conv False\n",
            "291 conv4_block22_1_bn True\n",
            "292 conv4_block22_1_relu False\n",
            "293 conv4_block22_2_conv False\n",
            "294 conv4_block22_concat False\n",
            "295 conv4_block23_0_bn True\n",
            "296 conv4_block23_0_relu False\n",
            "297 conv4_block23_1_conv False\n",
            "298 conv4_block23_1_bn True\n",
            "299 conv4_block23_1_relu True\n",
            "300 conv4_block23_2_conv True\n",
            "301 conv4_block23_concat True\n",
            "302 conv4_block24_0_bn True\n",
            "303 conv4_block24_0_relu True\n",
            "304 conv4_block24_1_conv True\n",
            "305 conv4_block24_1_bn True\n",
            "306 conv4_block24_1_relu True\n",
            "307 conv4_block24_2_conv True\n",
            "308 conv4_block24_concat True\n",
            "309 pool4_bn True\n",
            "310 pool4_relu True\n",
            "311 pool4_conv True\n",
            "312 pool4_pool True\n",
            "313 conv5_block1_0_bn True\n",
            "314 conv5_block1_0_relu True\n",
            "315 conv5_block1_1_conv True\n",
            "316 conv5_block1_1_bn True\n",
            "317 conv5_block1_1_relu True\n",
            "318 conv5_block1_2_conv True\n",
            "319 conv5_block1_concat True\n",
            "320 conv5_block2_0_bn True\n",
            "321 conv5_block2_0_relu True\n",
            "322 conv5_block2_1_conv True\n",
            "323 conv5_block2_1_bn True\n",
            "324 conv5_block2_1_relu True\n",
            "325 conv5_block2_2_conv True\n",
            "326 conv5_block2_concat True\n",
            "327 conv5_block3_0_bn True\n",
            "328 conv5_block3_0_relu True\n",
            "329 conv5_block3_1_conv True\n",
            "330 conv5_block3_1_bn True\n",
            "331 conv5_block3_1_relu True\n",
            "332 conv5_block3_2_conv True\n",
            "333 conv5_block3_concat True\n",
            "334 conv5_block4_0_bn True\n",
            "335 conv5_block4_0_relu True\n",
            "336 conv5_block4_1_conv True\n",
            "337 conv5_block4_1_bn True\n",
            "338 conv5_block4_1_relu True\n",
            "339 conv5_block4_2_conv True\n",
            "340 conv5_block4_concat True\n",
            "341 conv5_block5_0_bn True\n",
            "342 conv5_block5_0_relu True\n",
            "343 conv5_block5_1_conv True\n",
            "344 conv5_block5_1_bn True\n",
            "345 conv5_block5_1_relu True\n",
            "346 conv5_block5_2_conv True\n",
            "347 conv5_block5_concat True\n",
            "348 conv5_block6_0_bn True\n",
            "349 conv5_block6_0_relu True\n",
            "350 conv5_block6_1_conv True\n",
            "351 conv5_block6_1_bn True\n",
            "352 conv5_block6_1_relu True\n",
            "353 conv5_block6_2_conv True\n",
            "354 conv5_block6_concat True\n",
            "355 conv5_block7_0_bn True\n",
            "356 conv5_block7_0_relu True\n",
            "357 conv5_block7_1_conv True\n",
            "358 conv5_block7_1_bn True\n",
            "359 conv5_block7_1_relu True\n",
            "360 conv5_block7_2_conv True\n",
            "361 conv5_block7_concat True\n",
            "362 conv5_block8_0_bn True\n",
            "363 conv5_block8_0_relu True\n",
            "364 conv5_block8_1_conv True\n",
            "365 conv5_block8_1_bn True\n",
            "366 conv5_block8_1_relu True\n",
            "367 conv5_block8_2_conv True\n",
            "368 conv5_block8_concat True\n",
            "369 conv5_block9_0_bn True\n",
            "370 conv5_block9_0_relu True\n",
            "371 conv5_block9_1_conv True\n",
            "372 conv5_block9_1_bn True\n",
            "373 conv5_block9_1_relu True\n",
            "374 conv5_block9_2_conv True\n",
            "375 conv5_block9_concat True\n",
            "376 conv5_block10_0_bn True\n",
            "377 conv5_block10_0_relu True\n",
            "378 conv5_block10_1_conv True\n",
            "379 conv5_block10_1_bn True\n",
            "380 conv5_block10_1_relu True\n",
            "381 conv5_block10_2_conv True\n",
            "382 conv5_block10_concat True\n",
            "383 conv5_block11_0_bn True\n",
            "384 conv5_block11_0_relu True\n",
            "385 conv5_block11_1_conv True\n",
            "386 conv5_block11_1_bn True\n",
            "387 conv5_block11_1_relu True\n",
            "388 conv5_block11_2_conv True\n",
            "389 conv5_block11_concat True\n",
            "390 conv5_block12_0_bn True\n",
            "391 conv5_block12_0_relu True\n",
            "392 conv5_block12_1_conv True\n",
            "393 conv5_block12_1_bn True\n",
            "394 conv5_block12_1_relu True\n",
            "395 conv5_block12_2_conv True\n",
            "396 conv5_block12_concat True\n",
            "397 conv5_block13_0_bn True\n",
            "398 conv5_block13_0_relu True\n",
            "399 conv5_block13_1_conv True\n",
            "400 conv5_block13_1_bn True\n",
            "401 conv5_block13_1_relu True\n",
            "402 conv5_block13_2_conv True\n",
            "403 conv5_block13_concat True\n",
            "404 conv5_block14_0_bn True\n",
            "405 conv5_block14_0_relu True\n",
            "406 conv5_block14_1_conv True\n",
            "407 conv5_block14_1_bn True\n",
            "408 conv5_block14_1_relu True\n",
            "409 conv5_block14_2_conv True\n",
            "410 conv5_block14_concat True\n",
            "411 conv5_block15_0_bn True\n",
            "412 conv5_block15_0_relu True\n",
            "413 conv5_block15_1_conv True\n",
            "414 conv5_block15_1_bn True\n",
            "415 conv5_block15_1_relu True\n",
            "416 conv5_block15_2_conv True\n",
            "417 conv5_block15_concat True\n",
            "418 conv5_block16_0_bn True\n",
            "419 conv5_block16_0_relu True\n",
            "420 conv5_block16_1_conv True\n",
            "421 conv5_block16_1_bn True\n",
            "422 conv5_block16_1_relu True\n",
            "423 conv5_block16_2_conv True\n",
            "424 conv5_block16_concat True\n",
            "425 bn True\n",
            "426 relu True\n"
          ],
          "name": "stdout"
        }
      ]
    },
    {
      "cell_type": "code",
      "metadata": {
        "id": "2tV2jE7Slu3E",
        "colab_type": "code",
        "colab": {}
      },
      "source": [
        "from keras.layers import Input "
      ],
      "execution_count": null,
      "outputs": []
    },
    {
      "cell_type": "code",
      "metadata": {
        "id": "MlCngmCqmC8q",
        "colab_type": "code",
        "colab": {}
      },
      "source": [
        "input_tensor = Input(shape=(224,224,3))"
      ],
      "execution_count": null,
      "outputs": []
    },
    {
      "cell_type": "code",
      "metadata": {
        "id": "k5OcgQMBmDtR",
        "colab_type": "code",
        "colab": {}
      },
      "source": [
        "ouput = conv_base_colour(input_tensor)"
      ],
      "execution_count": null,
      "outputs": []
    },
    {
      "cell_type": "code",
      "metadata": {
        "id": "adYyZ4chmMdK",
        "colab_type": "code",
        "colab": {}
      },
      "source": [
        "models = Model(inputs = input_tensor, outputs = ouput)"
      ],
      "execution_count": null,
      "outputs": []
    },
    {
      "cell_type": "code",
      "metadata": {
        "id": "Unl3HBmgmIQi",
        "colab_type": "code",
        "colab": {}
      },
      "source": [
        "model_colour = Sequential()"
      ],
      "execution_count": null,
      "outputs": []
    },
    {
      "cell_type": "code",
      "metadata": {
        "id": "P9_Gs6dcmUSm",
        "colab_type": "code",
        "colab": {}
      },
      "source": [
        "model_colour.add(models)"
      ],
      "execution_count": null,
      "outputs": []
    },
    {
      "cell_type": "code",
      "metadata": {
        "id": "4cnfOX_mmZWj",
        "colab_type": "code",
        "colab": {}
      },
      "source": [
        "model_colour.add(Flatten())"
      ],
      "execution_count": null,
      "outputs": []
    },
    {
      "cell_type": "code",
      "metadata": {
        "id": "AcUXdFgimdlz",
        "colab_type": "code",
        "colab": {}
      },
      "source": [
        "model_colour.add(Dense(2048, activation='relu', kernel_regularizer=regularizers.l2(0.001)))\n",
        "model_colour.add(Dropout(0.5))\n",
        "model_colour.add(Dense(68, activation='softmax'))"
      ],
      "execution_count": null,
      "outputs": []
    },
    {
      "cell_type": "code",
      "metadata": {
        "id": "sVC7ajTqmkMt",
        "colab_type": "code",
        "colab": {}
      },
      "source": [
        "model_colour.compile(loss='categorical_crossentropy',\n",
        "              optimizer=Adam(lr=0.001),\n",
        "              metrics=['accuracy'])"
      ],
      "execution_count": null,
      "outputs": []
    },
    {
      "cell_type": "code",
      "metadata": {
        "id": "swKejRcBmpJe",
        "colab_type": "code",
        "colab": {}
      },
      "source": [
        "from keras.callbacks import ModelCheckpoint, EarlyStopping, ReduceLROnPlateau\n",
        "checkpoint = ModelCheckpoint(\"/content/drive/My Drive/RawFoot_Image/RawFoot_Image_Colour_Desnet121.h5\",\n",
        "                             monitor=\"val_loss\",\n",
        "                             mode=\"min\",\n",
        "                             save_best_only = True,\n",
        "                             verbose=1)\n",
        "\n",
        "earlystop = EarlyStopping(monitor = 'val_loss', \n",
        "                          min_delta = 0, \n",
        "                          patience = 40,\n",
        "                          verbose = 1,\n",
        "                          restore_best_weights = True)\n",
        "\n",
        "reduce_lr = ReduceLROnPlateau(monitor = 'val_loss',\n",
        "                              factor = 0.2,\n",
        "                              patience = 40,\n",
        "                              verbose = 1,\n",
        "                              min_delta = 0.00001)\n",
        "\n",
        "callBacks = [earlystop, checkpoint, reduce_lr]"
      ],
      "execution_count": null,
      "outputs": []
    },
    {
      "cell_type": "code",
      "metadata": {
        "id": "iOdEcPuZm3fM",
        "colab_type": "code",
        "colab": {
          "base_uri": "https://localhost:8080/",
          "height": 1000
        },
        "outputId": "f0b41db7-dfdc-4279-dbed-16932d8ac271"
      },
      "source": [
        "hist = model_colour.fit_generator(steps_per_epoch=349,generator= Colour_TrainingData, validation_data= Colour_ValidData, validation_steps=17,epochs=150,callbacks=callBacks)"
      ],
      "execution_count": null,
      "outputs": [
        {
          "output_type": "stream",
          "text": [
            "Epoch 1/150\n",
            "349/349 [==============================] - 180s 514ms/step - loss: 15.4802 - accuracy: 0.1076 - val_loss: 5.4283 - val_accuracy: 0.3676\n",
            "\n",
            "Epoch 00001: val_loss improved from inf to 5.42828, saving model to /content/drive/My Drive/RawFoot_Image/RawFoot_Image_Colour_Desnet121.h5\n",
            "Epoch 2/150\n",
            "349/349 [==============================] - 151s 434ms/step - loss: 4.4507 - accuracy: 0.3228 - val_loss: 4.3292 - val_accuracy: 0.5882\n",
            "\n",
            "Epoch 00002: val_loss improved from 5.42828 to 4.32918, saving model to /content/drive/My Drive/RawFoot_Image/RawFoot_Image_Colour_Desnet121.h5\n",
            "Epoch 3/150\n",
            "349/349 [==============================] - 151s 432ms/step - loss: 3.4815 - accuracy: 0.4595 - val_loss: 1.7383 - val_accuracy: 0.6544\n",
            "\n",
            "Epoch 00003: val_loss improved from 4.32918 to 1.73835, saving model to /content/drive/My Drive/RawFoot_Image/RawFoot_Image_Colour_Desnet121.h5\n",
            "Epoch 4/150\n",
            "349/349 [==============================] - 150s 431ms/step - loss: 2.9228 - accuracy: 0.5653 - val_loss: 2.6532 - val_accuracy: 0.7206\n",
            "\n",
            "Epoch 00004: val_loss did not improve from 1.73835\n",
            "Epoch 5/150\n",
            "349/349 [==============================] - 138s 395ms/step - loss: 2.8088 - accuracy: 0.5890 - val_loss: 1.8633 - val_accuracy: 0.8015\n",
            "\n",
            "Epoch 00005: val_loss did not improve from 1.73835\n",
            "Epoch 6/150\n",
            "349/349 [==============================] - 139s 397ms/step - loss: 2.7490 - accuracy: 0.6216 - val_loss: 2.0958 - val_accuracy: 0.7279\n",
            "\n",
            "Epoch 00006: val_loss did not improve from 1.73835\n",
            "Epoch 7/150\n",
            "349/349 [==============================] - 137s 392ms/step - loss: 2.4711 - accuracy: 0.6679 - val_loss: 2.5668 - val_accuracy: 0.7500\n",
            "\n",
            "Epoch 00007: val_loss did not improve from 1.73835\n",
            "Epoch 8/150\n",
            "349/349 [==============================] - 136s 390ms/step - loss: 2.5803 - accuracy: 0.6790 - val_loss: 3.1667 - val_accuracy: 0.7794\n",
            "\n",
            "Epoch 00008: val_loss did not improve from 1.73835\n",
            "Epoch 9/150\n",
            "349/349 [==============================] - 137s 392ms/step - loss: 2.6581 - accuracy: 0.6786 - val_loss: 2.5966 - val_accuracy: 0.7721\n",
            "\n",
            "Epoch 00009: val_loss did not improve from 1.73835\n",
            "Epoch 10/150\n",
            "349/349 [==============================] - 135s 388ms/step - loss: 2.5392 - accuracy: 0.6955 - val_loss: 1.7850 - val_accuracy: 0.7868\n",
            "\n",
            "Epoch 00010: val_loss did not improve from 1.73835\n",
            "Epoch 11/150\n",
            "349/349 [==============================] - 135s 386ms/step - loss: 2.3662 - accuracy: 0.7113 - val_loss: 1.5993 - val_accuracy: 0.8309\n",
            "\n",
            "Epoch 00011: val_loss improved from 1.73835 to 1.59929, saving model to /content/drive/My Drive/RawFoot_Image/RawFoot_Image_Colour_Desnet121.h5\n",
            "Epoch 12/150\n",
            "349/349 [==============================] - 152s 436ms/step - loss: 2.6600 - accuracy: 0.6858 - val_loss: 2.4044 - val_accuracy: 0.7794\n",
            "\n",
            "Epoch 00012: val_loss did not improve from 1.59929\n",
            "Epoch 13/150\n",
            "349/349 [==============================] - 140s 402ms/step - loss: 2.4262 - accuracy: 0.7288 - val_loss: 2.6883 - val_accuracy: 0.7794\n",
            "\n",
            "Epoch 00013: val_loss did not improve from 1.59929\n",
            "Epoch 14/150\n",
            "349/349 [==============================] - 139s 400ms/step - loss: 2.0362 - accuracy: 0.7658 - val_loss: 2.1720 - val_accuracy: 0.8456\n",
            "\n",
            "Epoch 00014: val_loss did not improve from 1.59929\n",
            "Epoch 15/150\n",
            "349/349 [==============================] - 136s 391ms/step - loss: 2.0187 - accuracy: 0.7755 - val_loss: 6.0908 - val_accuracy: 0.8015\n",
            "\n",
            "Epoch 00015: val_loss did not improve from 1.59929\n",
            "Epoch 16/150\n",
            "349/349 [==============================] - 137s 391ms/step - loss: 2.3640 - accuracy: 0.7299 - val_loss: 1.5700 - val_accuracy: 0.8456\n",
            "\n",
            "Epoch 00016: val_loss improved from 1.59929 to 1.57004, saving model to /content/drive/My Drive/RawFoot_Image/RawFoot_Image_Colour_Desnet121.h5\n",
            "Epoch 17/150\n",
            "349/349 [==============================] - 150s 430ms/step - loss: 1.8318 - accuracy: 0.7916 - val_loss: 1.2099 - val_accuracy: 0.8676\n",
            "\n",
            "Epoch 00017: val_loss improved from 1.57004 to 1.20988, saving model to /content/drive/My Drive/RawFoot_Image/RawFoot_Image_Colour_Desnet121.h5\n",
            "Epoch 18/150\n",
            "349/349 [==============================] - 145s 415ms/step - loss: 2.9910 - accuracy: 0.6836 - val_loss: 1.9344 - val_accuracy: 0.7721\n",
            "\n",
            "Epoch 00018: val_loss did not improve from 1.20988\n",
            "Epoch 19/150\n",
            "349/349 [==============================] - 135s 387ms/step - loss: 2.2250 - accuracy: 0.7665 - val_loss: 1.1715 - val_accuracy: 0.8750\n",
            "\n",
            "Epoch 00019: val_loss improved from 1.20988 to 1.17151, saving model to /content/drive/My Drive/RawFoot_Image/RawFoot_Image_Colour_Desnet121.h5\n",
            "Epoch 20/150\n",
            "349/349 [==============================] - 152s 437ms/step - loss: 1.7716 - accuracy: 0.8092 - val_loss: 1.3436 - val_accuracy: 0.8603\n",
            "\n",
            "Epoch 00020: val_loss did not improve from 1.17151\n",
            "Epoch 21/150\n",
            "349/349 [==============================] - 139s 398ms/step - loss: 1.5565 - accuracy: 0.8375 - val_loss: 4.1509 - val_accuracy: 0.9265\n",
            "\n",
            "Epoch 00021: val_loss did not improve from 1.17151\n",
            "Epoch 22/150\n",
            "349/349 [==============================] - 136s 391ms/step - loss: 1.2138 - accuracy: 0.8974 - val_loss: 0.9000 - val_accuracy: 0.9412\n",
            "\n",
            "Epoch 00022: val_loss improved from 1.17151 to 0.90004, saving model to /content/drive/My Drive/RawFoot_Image/RawFoot_Image_Colour_Desnet121.h5\n",
            "Epoch 23/150\n",
            "349/349 [==============================] - 153s 439ms/step - loss: 1.0478 - accuracy: 0.9236 - val_loss: 0.7467 - val_accuracy: 0.9485\n",
            "\n",
            "Epoch 00023: val_loss improved from 0.90004 to 0.74665, saving model to /content/drive/My Drive/RawFoot_Image/RawFoot_Image_Colour_Desnet121.h5\n",
            "Epoch 24/150\n",
            "349/349 [==============================] - 145s 417ms/step - loss: 0.8764 - accuracy: 0.9473 - val_loss: 0.6699 - val_accuracy: 0.9632\n",
            "\n",
            "Epoch 00024: val_loss improved from 0.74665 to 0.66993, saving model to /content/drive/My Drive/RawFoot_Image/RawFoot_Image_Colour_Desnet121.h5\n",
            "Epoch 25/150\n",
            "349/349 [==============================] - 145s 414ms/step - loss: 0.7775 - accuracy: 0.9580 - val_loss: 0.6372 - val_accuracy: 0.9485\n",
            "\n",
            "Epoch 00025: val_loss improved from 0.66993 to 0.63722, saving model to /content/drive/My Drive/RawFoot_Image/RawFoot_Image_Colour_Desnet121.h5\n",
            "Epoch 26/150\n",
            "349/349 [==============================] - 145s 415ms/step - loss: 0.6619 - accuracy: 0.9652 - val_loss: 0.5243 - val_accuracy: 0.9559\n",
            "\n",
            "Epoch 00026: val_loss improved from 0.63722 to 0.52429, saving model to /content/drive/My Drive/RawFoot_Image/RawFoot_Image_Colour_Desnet121.h5\n",
            "Epoch 27/150\n",
            "349/349 [==============================] - 145s 415ms/step - loss: 0.7799 - accuracy: 0.9512 - val_loss: 0.6370 - val_accuracy: 0.9632\n",
            "\n",
            "Epoch 00027: val_loss did not improve from 0.52429\n",
            "Epoch 28/150\n",
            "349/349 [==============================] - 136s 391ms/step - loss: 0.7945 - accuracy: 0.9566 - val_loss: 0.6220 - val_accuracy: 0.9632\n",
            "\n",
            "Epoch 00028: val_loss did not improve from 0.52429\n",
            "Epoch 29/150\n",
            "349/349 [==============================] - 135s 387ms/step - loss: 0.6919 - accuracy: 0.9656 - val_loss: 0.5990 - val_accuracy: 0.9485\n",
            "\n",
            "Epoch 00029: val_loss did not improve from 0.52429\n",
            "Epoch 30/150\n",
            "349/349 [==============================] - 135s 387ms/step - loss: 0.6284 - accuracy: 0.9749 - val_loss: 0.5121 - val_accuracy: 0.9559\n",
            "\n",
            "Epoch 00030: val_loss improved from 0.52429 to 0.51205, saving model to /content/drive/My Drive/RawFoot_Image/RawFoot_Image_Colour_Desnet121.h5\n",
            "Epoch 31/150\n",
            "349/349 [==============================] - 156s 446ms/step - loss: 0.6530 - accuracy: 0.9641 - val_loss: 0.5153 - val_accuracy: 0.9779\n",
            "\n",
            "Epoch 00031: val_loss did not improve from 0.51205\n",
            "Epoch 32/150\n",
            "349/349 [==============================] - 143s 409ms/step - loss: 0.6187 - accuracy: 0.9677 - val_loss: 0.5528 - val_accuracy: 0.9632\n",
            "\n",
            "Epoch 00032: val_loss did not improve from 0.51205\n",
            "Epoch 33/150\n",
            "349/349 [==============================] - 139s 397ms/step - loss: 0.6304 - accuracy: 0.9763 - val_loss: 0.5026 - val_accuracy: 0.9779\n",
            "\n",
            "Epoch 00033: val_loss improved from 0.51205 to 0.50265, saving model to /content/drive/My Drive/RawFoot_Image/RawFoot_Image_Colour_Desnet121.h5\n",
            "Epoch 34/150\n",
            "349/349 [==============================] - 154s 442ms/step - loss: 0.6192 - accuracy: 0.9706 - val_loss: 0.5327 - val_accuracy: 0.9559\n",
            "\n",
            "Epoch 00034: val_loss did not improve from 0.50265\n",
            "Epoch 35/150\n",
            "349/349 [==============================] - 141s 405ms/step - loss: 0.5479 - accuracy: 0.9796 - val_loss: 0.4611 - val_accuracy: 0.9926\n",
            "\n",
            "Epoch 00035: val_loss improved from 0.50265 to 0.46108, saving model to /content/drive/My Drive/RawFoot_Image/RawFoot_Image_Colour_Desnet121.h5\n",
            "Epoch 36/150\n",
            "349/349 [==============================] - 155s 445ms/step - loss: 0.5554 - accuracy: 0.9713 - val_loss: 4.4190 - val_accuracy: 0.9485\n",
            "\n",
            "Epoch 00036: val_loss did not improve from 0.46108\n",
            "Epoch 37/150\n",
            "349/349 [==============================] - 140s 402ms/step - loss: 0.4847 - accuracy: 0.9817 - val_loss: 0.4393 - val_accuracy: 0.9632\n",
            "\n",
            "Epoch 00037: val_loss improved from 0.46108 to 0.43932, saving model to /content/drive/My Drive/RawFoot_Image/RawFoot_Image_Colour_Desnet121.h5\n",
            "Epoch 38/150\n",
            "349/349 [==============================] - 157s 449ms/step - loss: 0.4374 - accuracy: 0.9835 - val_loss: 0.4244 - val_accuracy: 0.9779\n",
            "\n",
            "Epoch 00038: val_loss improved from 0.43932 to 0.42438, saving model to /content/drive/My Drive/RawFoot_Image/RawFoot_Image_Colour_Desnet121.h5\n",
            "Epoch 39/150\n",
            "349/349 [==============================] - 148s 424ms/step - loss: 0.4996 - accuracy: 0.9738 - val_loss: 0.3919 - val_accuracy: 0.9706\n",
            "\n",
            "Epoch 00039: val_loss improved from 0.42438 to 0.39189, saving model to /content/drive/My Drive/RawFoot_Image/RawFoot_Image_Colour_Desnet121.h5\n",
            "Epoch 40/150\n",
            "349/349 [==============================] - 144s 414ms/step - loss: 0.4537 - accuracy: 0.9806 - val_loss: 3.8344 - val_accuracy: 0.9559\n",
            "\n",
            "Epoch 00040: val_loss did not improve from 0.39189\n",
            "Epoch 41/150\n",
            "349/349 [==============================] - 132s 378ms/step - loss: 0.4273 - accuracy: 0.9853 - val_loss: 0.3587 - val_accuracy: 0.9926\n",
            "\n",
            "Epoch 00041: val_loss improved from 0.39189 to 0.35869, saving model to /content/drive/My Drive/RawFoot_Image/RawFoot_Image_Colour_Desnet121.h5\n",
            "Epoch 42/150\n",
            "349/349 [==============================] - 148s 424ms/step - loss: 0.4716 - accuracy: 0.9749 - val_loss: 0.4620 - val_accuracy: 0.9853\n",
            "\n",
            "Epoch 00042: val_loss did not improve from 0.35869\n",
            "Epoch 43/150\n",
            "349/349 [==============================] - 136s 388ms/step - loss: 0.5458 - accuracy: 0.9774 - val_loss: 0.4490 - val_accuracy: 0.9853\n",
            "\n",
            "Epoch 00043: val_loss did not improve from 0.35869\n",
            "Epoch 44/150\n",
            "349/349 [==============================] - 133s 381ms/step - loss: 0.5411 - accuracy: 0.9699 - val_loss: 0.4575 - val_accuracy: 0.9485\n",
            "\n",
            "Epoch 00044: val_loss did not improve from 0.35869\n",
            "Epoch 45/150\n",
            "349/349 [==============================] - 132s 377ms/step - loss: 0.5299 - accuracy: 0.9799 - val_loss: 1.9913 - val_accuracy: 0.9338\n",
            "\n",
            "Epoch 00045: val_loss did not improve from 0.35869\n",
            "Epoch 46/150\n",
            "349/349 [==============================] - 133s 382ms/step - loss: 0.4669 - accuracy: 0.9810 - val_loss: 10.0384 - val_accuracy: 0.9779\n",
            "\n",
            "Epoch 00046: val_loss did not improve from 0.35869\n",
            "Epoch 47/150\n",
            "349/349 [==============================] - 133s 382ms/step - loss: 0.5179 - accuracy: 0.9821 - val_loss: 0.4053 - val_accuracy: 0.9706\n",
            "\n",
            "Epoch 00047: val_loss did not improve from 0.35869\n",
            "Epoch 48/150\n",
            "349/349 [==============================] - 133s 381ms/step - loss: 0.4152 - accuracy: 0.9882 - val_loss: 0.3480 - val_accuracy: 0.9706\n",
            "\n",
            "Epoch 00048: val_loss improved from 0.35869 to 0.34796, saving model to /content/drive/My Drive/RawFoot_Image/RawFoot_Image_Colour_Desnet121.h5\n",
            "Epoch 49/150\n",
            "349/349 [==============================] - 151s 432ms/step - loss: 0.4247 - accuracy: 0.9828 - val_loss: 0.3639 - val_accuracy: 0.9926\n",
            "\n",
            "Epoch 00049: val_loss did not improve from 0.34796\n",
            "Epoch 50/150\n",
            "349/349 [==============================] - 136s 389ms/step - loss: 0.4363 - accuracy: 0.9824 - val_loss: 0.3704 - val_accuracy: 0.9853\n",
            "\n",
            "Epoch 00050: val_loss did not improve from 0.34796\n",
            "Epoch 51/150\n",
            "349/349 [==============================] - 132s 380ms/step - loss: 0.4412 - accuracy: 0.9781 - val_loss: 0.3932 - val_accuracy: 0.9853\n",
            "\n",
            "Epoch 00051: val_loss did not improve from 0.34796\n",
            "Epoch 52/150\n",
            "349/349 [==============================] - 129s 369ms/step - loss: 0.4314 - accuracy: 0.9839 - val_loss: 0.3456 - val_accuracy: 0.9926\n",
            "\n",
            "Epoch 00052: val_loss improved from 0.34796 to 0.34556, saving model to /content/drive/My Drive/RawFoot_Image/RawFoot_Image_Colour_Desnet121.h5\n",
            "Epoch 53/150\n",
            "349/349 [==============================] - 148s 423ms/step - loss: 0.3522 - accuracy: 0.9910 - val_loss: 0.3288 - val_accuracy: 0.9779\n",
            "\n",
            "Epoch 00053: val_loss improved from 0.34556 to 0.32877, saving model to /content/drive/My Drive/RawFoot_Image/RawFoot_Image_Colour_Desnet121.h5\n",
            "Epoch 54/150\n",
            "349/349 [==============================] - 140s 400ms/step - loss: 0.4314 - accuracy: 0.9828 - val_loss: 0.3955 - val_accuracy: 0.9632\n",
            "\n",
            "Epoch 00054: val_loss did not improve from 0.32877\n",
            "Epoch 55/150\n",
            "349/349 [==============================] - 128s 367ms/step - loss: 0.4811 - accuracy: 0.9799 - val_loss: 0.3925 - val_accuracy: 1.0000\n",
            "\n",
            "Epoch 00055: val_loss did not improve from 0.32877\n",
            "Epoch 56/150\n",
            "349/349 [==============================] - 128s 368ms/step - loss: 0.4256 - accuracy: 0.9853 - val_loss: 69.6580 - val_accuracy: 0.8235\n",
            "\n",
            "Epoch 00056: val_loss did not improve from 0.32877\n",
            "Epoch 57/150\n",
            "349/349 [==============================] - 130s 374ms/step - loss: 0.4588 - accuracy: 0.9849 - val_loss: 0.4053 - val_accuracy: 0.9926\n",
            "\n",
            "Epoch 00057: val_loss did not improve from 0.32877\n",
            "Epoch 58/150\n",
            "349/349 [==============================] - 130s 373ms/step - loss: 0.3678 - accuracy: 0.9950 - val_loss: 0.2917 - val_accuracy: 0.9853\n",
            "\n",
            "Epoch 00058: val_loss improved from 0.32877 to 0.29174, saving model to /content/drive/My Drive/RawFoot_Image/RawFoot_Image_Colour_Desnet121.h5\n",
            "Epoch 59/150\n",
            "349/349 [==============================] - 145s 417ms/step - loss: 0.3711 - accuracy: 0.9821 - val_loss: 0.3752 - val_accuracy: 0.9338\n",
            "\n",
            "Epoch 00059: val_loss did not improve from 0.29174\n",
            "Epoch 60/150\n",
            "349/349 [==============================] - 130s 373ms/step - loss: 0.3831 - accuracy: 0.9878 - val_loss: 0.3193 - val_accuracy: 0.9485\n",
            "\n",
            "Epoch 00060: val_loss did not improve from 0.29174\n",
            "Epoch 61/150\n",
            "349/349 [==============================] - 129s 369ms/step - loss: 0.3302 - accuracy: 0.9914 - val_loss: 0.2761 - val_accuracy: 0.9706\n",
            "\n",
            "Epoch 00061: val_loss improved from 0.29174 to 0.27614, saving model to /content/drive/My Drive/RawFoot_Image/RawFoot_Image_Colour_Desnet121.h5\n",
            "Epoch 62/150\n",
            "349/349 [==============================] - 149s 427ms/step - loss: 0.3677 - accuracy: 0.9821 - val_loss: 1.7073 - val_accuracy: 0.9632\n",
            "\n",
            "Epoch 00062: val_loss did not improve from 0.27614\n",
            "Epoch 63/150\n",
            "349/349 [==============================] - 135s 386ms/step - loss: 0.4055 - accuracy: 0.9867 - val_loss: 0.3234 - val_accuracy: 1.0000\n",
            "\n",
            "Epoch 00063: val_loss did not improve from 0.27614\n",
            "Epoch 64/150\n",
            "349/349 [==============================] - 131s 375ms/step - loss: 0.3020 - accuracy: 0.9953 - val_loss: 0.7969 - val_accuracy: 0.9706\n",
            "\n",
            "Epoch 00064: val_loss did not improve from 0.27614\n",
            "Epoch 65/150\n",
            "349/349 [==============================] - 130s 373ms/step - loss: 0.2969 - accuracy: 0.9910 - val_loss: 0.3083 - val_accuracy: 0.9632\n",
            "\n",
            "Epoch 00065: val_loss did not improve from 0.27614\n",
            "Epoch 66/150\n",
            "349/349 [==============================] - 128s 366ms/step - loss: 0.3086 - accuracy: 0.9874 - val_loss: 21.8850 - val_accuracy: 0.8456\n",
            "\n",
            "Epoch 00066: val_loss did not improve from 0.27614\n",
            "Epoch 67/150\n",
            "349/349 [==============================] - 127s 363ms/step - loss: 0.3275 - accuracy: 0.9857 - val_loss: 0.3090 - val_accuracy: 0.9926\n",
            "\n",
            "Epoch 00067: val_loss did not improve from 0.27614\n",
            "Epoch 68/150\n",
            "349/349 [==============================] - 127s 363ms/step - loss: 0.3521 - accuracy: 0.9846 - val_loss: 0.2894 - val_accuracy: 0.9926\n",
            "\n",
            "Epoch 00068: val_loss did not improve from 0.27614\n",
            "Epoch 69/150\n",
            "349/349 [==============================] - 127s 364ms/step - loss: 0.3219 - accuracy: 0.9882 - val_loss: 0.2819 - val_accuracy: 0.9632\n",
            "\n",
            "Epoch 00069: val_loss did not improve from 0.27614\n",
            "Epoch 70/150\n",
            "349/349 [==============================] - 128s 367ms/step - loss: 0.3252 - accuracy: 0.9885 - val_loss: 3.5599 - val_accuracy: 0.9412\n",
            "\n",
            "Epoch 00070: val_loss did not improve from 0.27614\n",
            "Epoch 71/150\n",
            "349/349 [==============================] - 128s 366ms/step - loss: 0.3030 - accuracy: 0.9921 - val_loss: 0.2522 - val_accuracy: 0.9559\n",
            "\n",
            "Epoch 00071: val_loss improved from 0.27614 to 0.25220, saving model to /content/drive/My Drive/RawFoot_Image/RawFoot_Image_Colour_Desnet121.h5\n",
            "Epoch 72/150\n",
            "349/349 [==============================] - 141s 403ms/step - loss: 0.2858 - accuracy: 0.9907 - val_loss: 0.2581 - val_accuracy: 0.9706\n",
            "\n",
            "Epoch 00072: val_loss did not improve from 0.25220\n",
            "Epoch 73/150\n",
            "349/349 [==============================] - 132s 379ms/step - loss: 0.3716 - accuracy: 0.9824 - val_loss: 0.3397 - val_accuracy: 0.9265\n",
            "\n",
            "Epoch 00073: val_loss did not improve from 0.25220\n",
            "Epoch 74/150\n",
            "349/349 [==============================] - 131s 374ms/step - loss: 0.3413 - accuracy: 0.9910 - val_loss: 0.2689 - val_accuracy: 0.9632\n",
            "\n",
            "Epoch 00074: val_loss did not improve from 0.25220\n",
            "Epoch 75/150\n",
            "349/349 [==============================] - 130s 372ms/step - loss: 0.2459 - accuracy: 0.9975 - val_loss: 0.2118 - val_accuracy: 0.9706\n",
            "\n",
            "Epoch 00075: val_loss improved from 0.25220 to 0.21181, saving model to /content/drive/My Drive/RawFoot_Image/RawFoot_Image_Colour_Desnet121.h5\n",
            "Epoch 76/150\n",
            "349/349 [==============================] - 148s 425ms/step - loss: 0.2477 - accuracy: 0.9914 - val_loss: 0.2286 - val_accuracy: 0.9485\n",
            "\n",
            "Epoch 00076: val_loss did not improve from 0.21181\n",
            "Epoch 77/150\n",
            "349/349 [==============================] - 136s 391ms/step - loss: 0.2651 - accuracy: 0.9889 - val_loss: 0.2498 - val_accuracy: 1.0000\n",
            "\n",
            "Epoch 00077: val_loss did not improve from 0.21181\n",
            "Epoch 78/150\n",
            "349/349 [==============================] - 130s 374ms/step - loss: 0.2976 - accuracy: 0.9889 - val_loss: 0.2886 - val_accuracy: 0.9853\n",
            "\n",
            "Epoch 00078: val_loss did not improve from 0.21181\n",
            "Epoch 79/150\n",
            "349/349 [==============================] - 129s 371ms/step - loss: 0.3634 - accuracy: 0.9853 - val_loss: 0.3064 - val_accuracy: 1.0000\n",
            "\n",
            "Epoch 00079: val_loss did not improve from 0.21181\n",
            "Epoch 80/150\n",
            "349/349 [==============================] - 127s 363ms/step - loss: 0.3650 - accuracy: 0.9874 - val_loss: 0.3006 - val_accuracy: 0.9926\n",
            "\n",
            "Epoch 00080: val_loss did not improve from 0.21181\n",
            "Epoch 81/150\n",
            "349/349 [==============================] - 128s 367ms/step - loss: 0.2836 - accuracy: 0.9950 - val_loss: 0.2343 - val_accuracy: 1.0000\n",
            "\n",
            "Epoch 00081: val_loss did not improve from 0.21181\n",
            "Epoch 82/150\n",
            "349/349 [==============================] - 131s 377ms/step - loss: 0.2488 - accuracy: 0.9928 - val_loss: 0.2522 - val_accuracy: 1.0000\n",
            "\n",
            "Epoch 00082: val_loss did not improve from 0.21181\n",
            "Epoch 83/150\n",
            "349/349 [==============================] - 131s 374ms/step - loss: 0.2944 - accuracy: 0.9910 - val_loss: 0.2507 - val_accuracy: 1.0000\n",
            "\n",
            "Epoch 00083: val_loss did not improve from 0.21181\n",
            "Epoch 84/150\n",
            "349/349 [==============================] - 129s 370ms/step - loss: 0.2919 - accuracy: 0.9932 - val_loss: 0.2473 - val_accuracy: 1.0000\n",
            "\n",
            "Epoch 00084: val_loss did not improve from 0.21181\n",
            "Epoch 85/150\n",
            "349/349 [==============================] - 129s 370ms/step - loss: 0.2179 - accuracy: 0.9982 - val_loss: 3.6442 - val_accuracy: 0.9706\n",
            "\n",
            "Epoch 00085: val_loss did not improve from 0.21181\n",
            "Epoch 86/150\n",
            "349/349 [==============================] - 131s 375ms/step - loss: 0.2627 - accuracy: 0.9878 - val_loss: 0.2635 - val_accuracy: 0.9853\n",
            "\n",
            "Epoch 00086: val_loss did not improve from 0.21181\n",
            "Epoch 87/150\n",
            "349/349 [==============================] - 131s 374ms/step - loss: 0.2888 - accuracy: 0.9903 - val_loss: 1.3134 - val_accuracy: 0.9706\n",
            "\n",
            "Epoch 00087: val_loss did not improve from 0.21181\n",
            "Epoch 88/150\n",
            "349/349 [==============================] - 129s 370ms/step - loss: 0.3341 - accuracy: 0.9853 - val_loss: 0.2796 - val_accuracy: 0.9706\n",
            "\n",
            "Epoch 00088: val_loss did not improve from 0.21181\n",
            "Epoch 89/150\n",
            "349/349 [==============================] - 133s 380ms/step - loss: 0.3333 - accuracy: 0.9892 - val_loss: 0.2826 - val_accuracy: 1.0000\n",
            "\n",
            "Epoch 00089: val_loss did not improve from 0.21181\n",
            "Epoch 90/150\n",
            "349/349 [==============================] - 137s 392ms/step - loss: 0.2746 - accuracy: 0.9939 - val_loss: 0.2278 - val_accuracy: 1.0000\n",
            "\n",
            "Epoch 00090: val_loss did not improve from 0.21181\n",
            "Epoch 91/150\n",
            "349/349 [==============================] - 138s 394ms/step - loss: 0.2529 - accuracy: 0.9939 - val_loss: 0.2436 - val_accuracy: 0.9779\n",
            "\n",
            "Epoch 00091: val_loss did not improve from 0.21181\n",
            "Epoch 92/150\n",
            "349/349 [==============================] - 134s 385ms/step - loss: 0.2331 - accuracy: 0.9953 - val_loss: 0.1880 - val_accuracy: 1.0000\n",
            "\n",
            "Epoch 00092: val_loss improved from 0.21181 to 0.18803, saving model to /content/drive/My Drive/RawFoot_Image/RawFoot_Image_Colour_Desnet121.h5\n",
            "Epoch 93/150\n",
            "349/349 [==============================] - 144s 413ms/step - loss: 0.2438 - accuracy: 0.9882 - val_loss: 0.2350 - val_accuracy: 0.9926\n",
            "\n",
            "Epoch 00093: val_loss did not improve from 0.18803\n",
            "Epoch 94/150\n",
            "349/349 [==============================] - 135s 386ms/step - loss: 0.3042 - accuracy: 0.9878 - val_loss: 0.2491 - val_accuracy: 1.0000\n",
            "\n",
            "Epoch 00094: val_loss did not improve from 0.18803\n",
            "Epoch 95/150\n",
            "349/349 [==============================] - 131s 374ms/step - loss: 0.2981 - accuracy: 0.9907 - val_loss: 0.2346 - val_accuracy: 1.0000\n",
            "\n",
            "Epoch 00095: val_loss did not improve from 0.18803\n",
            "Epoch 96/150\n",
            "349/349 [==============================] - 128s 368ms/step - loss: 0.2377 - accuracy: 0.9935 - val_loss: 0.2207 - val_accuracy: 0.9926\n",
            "\n",
            "Epoch 00096: val_loss did not improve from 0.18803\n",
            "Epoch 97/150\n",
            "349/349 [==============================] - 128s 367ms/step - loss: 0.2233 - accuracy: 0.9957 - val_loss: 0.1890 - val_accuracy: 0.9853\n",
            "\n",
            "Epoch 00097: val_loss did not improve from 0.18803\n",
            "Epoch 98/150\n",
            "349/349 [==============================] - 126s 362ms/step - loss: 0.1818 - accuracy: 0.9968 - val_loss: 2.9811 - val_accuracy: 0.9853\n",
            "\n",
            "Epoch 00098: val_loss did not improve from 0.18803\n",
            "Epoch 99/150\n",
            "349/349 [==============================] - 125s 359ms/step - loss: 0.1791 - accuracy: 0.9953 - val_loss: 0.1655 - val_accuracy: 0.9853\n",
            "\n",
            "Epoch 00099: val_loss improved from 0.18803 to 0.16555, saving model to /content/drive/My Drive/RawFoot_Image/RawFoot_Image_Colour_Desnet121.h5\n",
            "Epoch 100/150\n",
            "349/349 [==============================] - 144s 413ms/step - loss: 0.1747 - accuracy: 0.9939 - val_loss: 0.1878 - val_accuracy: 0.9853\n",
            "\n",
            "Epoch 00100: val_loss did not improve from 0.16555\n",
            "Epoch 101/150\n",
            "349/349 [==============================] - 133s 380ms/step - loss: 0.3087 - accuracy: 0.9824 - val_loss: 0.2643 - val_accuracy: 0.9853\n",
            "\n",
            "Epoch 00101: val_loss did not improve from 0.16555\n",
            "Epoch 102/150\n",
            "349/349 [==============================] - 130s 372ms/step - loss: 0.2629 - accuracy: 0.9939 - val_loss: 0.2231 - val_accuracy: 0.9926\n",
            "\n",
            "Epoch 00102: val_loss did not improve from 0.16555\n",
            "Epoch 103/150\n",
            "349/349 [==============================] - 129s 370ms/step - loss: 0.3499 - accuracy: 0.9817 - val_loss: 0.3050 - val_accuracy: 1.0000\n",
            "\n",
            "Epoch 00103: val_loss did not improve from 0.16555\n",
            "Epoch 104/150\n",
            "349/349 [==============================] - 127s 362ms/step - loss: 0.3094 - accuracy: 0.9928 - val_loss: 0.2543 - val_accuracy: 1.0000\n",
            "\n",
            "Epoch 00104: val_loss did not improve from 0.16555\n",
            "Epoch 105/150\n",
            "349/349 [==============================] - 124s 356ms/step - loss: 0.2329 - accuracy: 0.9968 - val_loss: 0.1952 - val_accuracy: 1.0000\n",
            "\n",
            "Epoch 00105: val_loss did not improve from 0.16555\n",
            "Epoch 106/150\n",
            "349/349 [==============================] - 124s 356ms/step - loss: 0.2244 - accuracy: 0.9925 - val_loss: 0.2021 - val_accuracy: 1.0000\n",
            "\n",
            "Epoch 00106: val_loss did not improve from 0.16555\n",
            "Epoch 107/150\n",
            "349/349 [==============================] - 124s 356ms/step - loss: 0.2155 - accuracy: 0.9943 - val_loss: 0.1806 - val_accuracy: 1.0000\n",
            "\n",
            "Epoch 00107: val_loss did not improve from 0.16555\n",
            "Epoch 108/150\n",
            "349/349 [==============================] - 127s 363ms/step - loss: 0.1686 - accuracy: 0.9986 - val_loss: 0.1459 - val_accuracy: 1.0000\n",
            "\n",
            "Epoch 00108: val_loss improved from 0.16555 to 0.14590, saving model to /content/drive/My Drive/RawFoot_Image/RawFoot_Image_Colour_Desnet121.h5\n",
            "Epoch 109/150\n",
            "349/349 [==============================] - 142s 406ms/step - loss: 0.1683 - accuracy: 0.9964 - val_loss: 0.4968 - val_accuracy: 0.9632\n",
            "\n",
            "Epoch 00109: val_loss did not improve from 0.14590\n",
            "Epoch 110/150\n",
            "349/349 [==============================] - 132s 378ms/step - loss: 0.2094 - accuracy: 0.9928 - val_loss: 0.1916 - val_accuracy: 1.0000\n",
            "\n",
            "Epoch 00110: val_loss did not improve from 0.14590\n",
            "Epoch 111/150\n",
            "349/349 [==============================] - 128s 367ms/step - loss: 0.1959 - accuracy: 0.9957 - val_loss: 0.1677 - val_accuracy: 0.9632\n",
            "\n",
            "Epoch 00111: val_loss did not improve from 0.14590\n",
            "Epoch 112/150\n",
            "349/349 [==============================] - 126s 362ms/step - loss: 0.2186 - accuracy: 0.9914 - val_loss: 0.2021 - val_accuracy: 1.0000\n",
            "\n",
            "Epoch 00112: val_loss did not improve from 0.14590\n",
            "Epoch 113/150\n",
            "349/349 [==============================] - 128s 367ms/step - loss: 0.2582 - accuracy: 0.9871 - val_loss: 0.2747 - val_accuracy: 1.0000\n",
            "\n",
            "Epoch 00113: val_loss did not improve from 0.14590\n",
            "Epoch 114/150\n",
            "349/349 [==============================] - 128s 366ms/step - loss: 0.3289 - accuracy: 0.9871 - val_loss: 0.3026 - val_accuracy: 0.9926\n",
            "\n",
            "Epoch 00114: val_loss did not improve from 0.14590\n",
            "Epoch 115/150\n",
            "349/349 [==============================] - 129s 370ms/step - loss: 0.2907 - accuracy: 0.9935 - val_loss: 0.2365 - val_accuracy: 0.9559\n",
            "\n",
            "Epoch 00115: val_loss did not improve from 0.14590\n",
            "Epoch 116/150\n",
            "349/349 [==============================] - 127s 365ms/step - loss: 0.2264 - accuracy: 0.9964 - val_loss: 0.1828 - val_accuracy: 0.9632\n",
            "\n",
            "Epoch 00116: val_loss did not improve from 0.14590\n",
            "Epoch 117/150\n",
            "349/349 [==============================] - 128s 368ms/step - loss: 0.1601 - accuracy: 0.9986 - val_loss: 0.1375 - val_accuracy: 0.9853\n",
            "\n",
            "Epoch 00117: val_loss improved from 0.14590 to 0.13750, saving model to /content/drive/My Drive/RawFoot_Image/RawFoot_Image_Colour_Desnet121.h5\n",
            "Epoch 118/150\n",
            "349/349 [==============================] - 145s 414ms/step - loss: 0.1942 - accuracy: 0.9907 - val_loss: 0.2019 - val_accuracy: 1.0000\n",
            "\n",
            "Epoch 00118: val_loss did not improve from 0.13750\n",
            "Epoch 119/150\n",
            "349/349 [==============================] - 137s 394ms/step - loss: 0.2586 - accuracy: 0.9892 - val_loss: 0.2287 - val_accuracy: 0.9853\n",
            "\n",
            "Epoch 00119: val_loss did not improve from 0.13750\n",
            "Epoch 120/150\n",
            "349/349 [==============================] - 133s 380ms/step - loss: 0.2214 - accuracy: 0.9964 - val_loss: 0.1900 - val_accuracy: 0.9926\n",
            "\n",
            "Epoch 00120: val_loss did not improve from 0.13750\n",
            "Epoch 121/150\n",
            "349/349 [==============================] - 130s 372ms/step - loss: 0.1837 - accuracy: 0.9964 - val_loss: 0.1517 - val_accuracy: 1.0000\n",
            "\n",
            "Epoch 00121: val_loss did not improve from 0.13750\n",
            "Epoch 122/150\n",
            "349/349 [==============================] - 130s 373ms/step - loss: 0.1517 - accuracy: 0.9971 - val_loss: 0.1386 - val_accuracy: 1.0000\n",
            "\n",
            "Epoch 00122: val_loss did not improve from 0.13750\n",
            "Epoch 123/150\n",
            "349/349 [==============================] - 128s 368ms/step - loss: 0.1601 - accuracy: 0.9950 - val_loss: 0.1581 - val_accuracy: 0.9926\n",
            "\n",
            "Epoch 00123: val_loss did not improve from 0.13750\n",
            "Epoch 124/150\n",
            "349/349 [==============================] - 128s 368ms/step - loss: 0.1775 - accuracy: 0.9946 - val_loss: 3.0504 - val_accuracy: 0.9485\n",
            "\n",
            "Epoch 00124: val_loss did not improve from 0.13750\n",
            "Epoch 125/150\n",
            "349/349 [==============================] - 128s 367ms/step - loss: 0.3060 - accuracy: 0.9860 - val_loss: 0.2448 - val_accuracy: 0.9412\n",
            "\n",
            "Epoch 00125: val_loss did not improve from 0.13750\n",
            "Epoch 126/150\n",
            "349/349 [==============================] - 128s 367ms/step - loss: 0.2540 - accuracy: 0.9928 - val_loss: 4.6715 - val_accuracy: 0.9779\n",
            "\n",
            "Epoch 00126: val_loss did not improve from 0.13750\n",
            "Epoch 127/150\n",
            "349/349 [==============================] - 129s 369ms/step - loss: 0.2482 - accuracy: 0.9953 - val_loss: 0.2375 - val_accuracy: 0.9853\n",
            "\n",
            "Epoch 00127: val_loss did not improve from 0.13750\n",
            "Epoch 128/150\n",
            "349/349 [==============================] - 129s 369ms/step - loss: 0.2382 - accuracy: 0.9932 - val_loss: 0.1931 - val_accuracy: 1.0000\n",
            "\n",
            "Epoch 00128: val_loss did not improve from 0.13750\n",
            "Epoch 129/150\n",
            "349/349 [==============================] - 130s 371ms/step - loss: 0.2163 - accuracy: 0.9946 - val_loss: 0.1851 - val_accuracy: 1.0000\n",
            "\n",
            "Epoch 00129: val_loss did not improve from 0.13750\n",
            "Epoch 130/150\n",
            "349/349 [==============================] - 128s 368ms/step - loss: 0.1820 - accuracy: 0.9975 - val_loss: 0.1530 - val_accuracy: 1.0000\n",
            "\n",
            "Epoch 00130: val_loss did not improve from 0.13750\n",
            "Epoch 131/150\n",
            "349/349 [==============================] - 129s 370ms/step - loss: 0.1519 - accuracy: 0.9986 - val_loss: 0.1244 - val_accuracy: 0.9926\n",
            "\n",
            "Epoch 00131: val_loss improved from 0.13750 to 0.12439, saving model to /content/drive/My Drive/RawFoot_Image/RawFoot_Image_Colour_Desnet121.h5\n",
            "Epoch 132/150\n",
            "349/349 [==============================] - 150s 431ms/step - loss: 0.1260 - accuracy: 0.9971 - val_loss: 0.1209 - val_accuracy: 0.9853\n",
            "\n",
            "Epoch 00132: val_loss improved from 0.12439 to 0.12092, saving model to /content/drive/My Drive/RawFoot_Image/RawFoot_Image_Colour_Desnet121.h5\n",
            "Epoch 133/150\n",
            "349/349 [==============================] - 149s 426ms/step - loss: 0.1347 - accuracy: 0.9968 - val_loss: 0.1236 - val_accuracy: 1.0000\n",
            "\n",
            "Epoch 00133: val_loss did not improve from 0.12092\n",
            "Epoch 134/150\n",
            "349/349 [==============================] - 134s 384ms/step - loss: 0.2263 - accuracy: 0.9885 - val_loss: 0.1967 - val_accuracy: 0.9118\n",
            "\n",
            "Epoch 00134: val_loss did not improve from 0.12092\n",
            "Epoch 135/150\n",
            "349/349 [==============================] - 134s 383ms/step - loss: 0.2064 - accuracy: 0.9946 - val_loss: 23.3417 - val_accuracy: 0.9632\n",
            "\n",
            "Epoch 00135: val_loss did not improve from 0.12092\n",
            "Epoch 136/150\n",
            "349/349 [==============================] - 136s 391ms/step - loss: 0.1989 - accuracy: 0.9950 - val_loss: 0.1811 - val_accuracy: 0.9412\n",
            "\n",
            "Epoch 00136: val_loss did not improve from 0.12092\n",
            "Epoch 137/150\n",
            "349/349 [==============================] - 134s 383ms/step - loss: 0.2611 - accuracy: 0.9878 - val_loss: 0.2230 - val_accuracy: 0.9706\n",
            "\n",
            "Epoch 00137: val_loss did not improve from 0.12092\n",
            "Epoch 138/150\n",
            "349/349 [==============================] - 131s 377ms/step - loss: 0.2270 - accuracy: 0.9946 - val_loss: 0.1960 - val_accuracy: 0.9485\n",
            "\n",
            "Epoch 00138: val_loss did not improve from 0.12092\n",
            "Epoch 139/150\n",
            "349/349 [==============================] - 131s 377ms/step - loss: 0.1829 - accuracy: 0.9982 - val_loss: 2.8213 - val_accuracy: 0.9485\n",
            "\n",
            "Epoch 00139: val_loss did not improve from 0.12092\n",
            "Epoch 140/150\n",
            "349/349 [==============================] - 133s 382ms/step - loss: 0.1529 - accuracy: 0.9978 - val_loss: 0.1304 - val_accuracy: 0.9706\n",
            "\n",
            "Epoch 00140: val_loss did not improve from 0.12092\n",
            "Epoch 141/150\n",
            "349/349 [==============================] - 130s 372ms/step - loss: 0.1660 - accuracy: 0.9935 - val_loss: 0.1627 - val_accuracy: 0.9632\n",
            "\n",
            "Epoch 00141: val_loss did not improve from 0.12092\n",
            "Epoch 142/150\n",
            "349/349 [==============================] - 130s 373ms/step - loss: 0.1866 - accuracy: 0.9928 - val_loss: 36.7994 - val_accuracy: 0.9485\n",
            "\n",
            "Epoch 00142: val_loss did not improve from 0.12092\n",
            "Epoch 143/150\n",
            "349/349 [==============================] - 131s 374ms/step - loss: 0.2119 - accuracy: 0.9903 - val_loss: 0.1919 - val_accuracy: 0.9632\n",
            "\n",
            "Epoch 00143: val_loss did not improve from 0.12092\n",
            "Epoch 144/150\n",
            "349/349 [==============================] - 130s 373ms/step - loss: 0.2629 - accuracy: 0.9921 - val_loss: 0.2098 - val_accuracy: 0.9853\n",
            "\n",
            "Epoch 00144: val_loss did not improve from 0.12092\n",
            "Epoch 145/150\n",
            "349/349 [==============================] - 131s 374ms/step - loss: 0.2411 - accuracy: 0.9928 - val_loss: 0.1951 - val_accuracy: 0.9853\n",
            "\n",
            "Epoch 00145: val_loss did not improve from 0.12092\n",
            "Epoch 146/150\n",
            "349/349 [==============================] - 130s 371ms/step - loss: 0.1692 - accuracy: 0.9989 - val_loss: 0.1506 - val_accuracy: 0.9632\n",
            "\n",
            "Epoch 00146: val_loss did not improve from 0.12092\n",
            "Epoch 147/150\n",
            "349/349 [==============================] - 130s 373ms/step - loss: 0.1798 - accuracy: 0.9925 - val_loss: 0.1631 - val_accuracy: 0.9853\n",
            "\n",
            "Epoch 00147: val_loss did not improve from 0.12092\n",
            "Epoch 148/150\n",
            "349/349 [==============================] - 130s 373ms/step - loss: 0.1647 - accuracy: 0.9946 - val_loss: 0.1482 - val_accuracy: 0.9485\n",
            "\n",
            "Epoch 00148: val_loss did not improve from 0.12092\n",
            "Epoch 149/150\n",
            "349/349 [==============================] - 131s 375ms/step - loss: 0.1740 - accuracy: 0.9964 - val_loss: 0.1459 - val_accuracy: 0.9779\n",
            "\n",
            "Epoch 00149: val_loss did not improve from 0.12092\n",
            "Epoch 150/150\n",
            "349/349 [==============================] - 132s 379ms/step - loss: 0.1339 - accuracy: 0.9986 - val_loss: 0.1129 - val_accuracy: 0.9779\n",
            "\n",
            "Epoch 00150: val_loss improved from 0.12092 to 0.11290, saving model to /content/drive/My Drive/RawFoot_Image/RawFoot_Image_Colour_Desnet121.h5\n"
          ],
          "name": "stdout"
        }
      ]
    },
    {
      "cell_type": "code",
      "metadata": {
        "id": "-x0Y-OtNnMjw",
        "colab_type": "code",
        "colab": {
          "base_uri": "https://localhost:8080/",
          "height": 295
        },
        "outputId": "73bb6e7c-c29e-469c-96d3-663e2d37739b"
      },
      "source": [
        "import matplotlib.pyplot as plt\n",
        "plt.plot(hist.history[\"accuracy\"])\n",
        "plt.plot(hist.history['val_accuracy'])\n",
        "plt.title(\"model accuracy\")\n",
        "plt.ylabel(\"Accuracy\")\n",
        "plt.xlabel(\"Epoch\")\n",
        "plt.legend([\"Accuracy\",\"Validation Accuracy\"])\n",
        "plt.show()"
      ],
      "execution_count": null,
      "outputs": [
        {
          "output_type": "display_data",
          "data": {
            "image/png": "[encoded data removed]",
            "text/plain": [
              "<Figure size 432x288 with 1 Axes>"
            ]
          },
          "metadata": {
            "tags": [],
            "needs_background": "light"
          }
        }
      ]
    },
    {
      "cell_type": "code",
      "metadata": {
        "id": "6iipFug0nRry",
        "colab_type": "code",
        "colab": {
          "base_uri": "https://localhost:8080/",
          "height": 295
        },
        "outputId": "c15a5d5d-e258-4b5c-c23e-53980d517fcc"
      },
      "source": [
        "plt.plot(hist.history['loss'])\n",
        "plt.plot(hist.history['val_loss'])\n",
        "plt.title(\"model Loss\")\n",
        "plt.ylabel(\"Loss\")\n",
        "plt.xlabel(\"Epoch\")\n",
        "plt.legend([\"Loss\",\"Validation Loss\"])\n",
        "plt.show()"
      ],
      "execution_count": null,
      "outputs": [
        {
          "output_type": "display_data",
          "data": {
            "image/png": "[encoded data removed]",
            "text/plain": [
              "<Figure size 432x288 with 1 Axes>"
            ]
          },
          "metadata": {
            "tags": [],
            "needs_background": "light"
          }
        }
      ]
    },
    {
      "cell_type": "code",
      "metadata": {
        "id": "GLET5R04nUPj",
        "colab_type": "code",
        "colab": {
          "base_uri": "https://localhost:8080/",
          "height": 34
        },
        "outputId": "53ea6fc7-b2fd-4316-b42f-11644f26f9be"
      },
      "source": [
        "Colour_TestData = TestGenerator.flow_from_directory('/content/drive/My Drive/RawFoot_Image/Test/', target_size=(224,224), batch_size = 8, shuffle = False)"
      ],
      "execution_count": null,
      "outputs": [
        {
          "output_type": "stream",
          "text": [
            "Found 204 images belonging to 68 classes.\n"
          ],
          "name": "stdout"
        }
      ]
    },
    {
      "cell_type": "code",
      "metadata": {
        "id": "FEu6K_IpHyZB",
        "colab_type": "code",
        "colab": {}
      },
      "source": [
        "model_colour.load_weights('/content/drive/My Drive/RawFoot_Image/RawFoot_Image_Colour_Desnet121.h5')"
      ],
      "execution_count": null,
      "outputs": []
    },
    {
      "cell_type": "code",
      "metadata": {
        "id": "WFsNjcaqnWRf",
        "colab_type": "code",
        "colab": {}
      },
      "source": [
        "Colour_predict = model_colour.predict(Colour_TestData)"
      ],
      "execution_count": null,
      "outputs": []
    },
    {
      "cell_type": "code",
      "metadata": {
        "id": "XP0IfdRynYK0",
        "colab_type": "code",
        "colab": {}
      },
      "source": [
        "Colour_predict_classes = np.argmax(Colour_predict, axis=1)"
      ],
      "execution_count": null,
      "outputs": []
    },
    {
      "cell_type": "code",
      "metadata": {
        "id": "cRDRu25Rnhap",
        "colab_type": "code",
        "colab": {
          "base_uri": "https://localhost:8080/",
          "height": 221
        },
        "outputId": "c9fb4432-3785-44b2-ef2b-9ef81a864224"
      },
      "source": [
        "Colour_predict_classes"
      ],
      "execution_count": null,
      "outputs": [
        {
          "output_type": "execute_result",
          "data": {
            "text/plain": [
              "array([ 9,  0,  9,  1,  1,  1,  2,  2,  2,  3,  3,  3,  4,  4,  4,  5,  5,\n",
              "        5,  6,  6,  6,  7,  7,  7,  8,  8,  8,  9,  9,  9, 10, 10, 10, 11,\n",
              "       11, 11, 12, 12, 12, 13, 13, 13, 14, 14, 14, 15, 15, 15, 16, 16, 16,\n",
              "       17, 17, 17, 18, 18, 18, 19, 19, 19, 20, 20, 20, 21, 21, 21, 22, 22,\n",
              "       22, 23, 23, 23, 24, 24, 24, 25, 25, 25, 26, 26, 26, 27, 27, 27, 28,\n",
              "       28, 28, 29, 29, 29, 30, 30, 30, 31, 31, 31, 32, 32, 32, 33, 33, 33,\n",
              "       34, 34, 34, 35, 35, 35, 36, 36, 36, 37, 37, 37, 38, 38, 38, 39, 39,\n",
              "       39, 40, 40, 40, 41, 41, 41, 42, 42, 42, 43, 43, 43, 44, 44, 44, 45,\n",
              "       45, 45, 46, 46, 46, 47, 47, 47, 48, 48, 48, 49, 49, 49, 50, 50, 50,\n",
              "       51, 51, 51, 52, 52, 52, 53, 53, 53, 54, 54, 54, 55, 55, 55, 56, 56,\n",
              "       56, 57, 57, 57, 58, 58, 58, 59, 59, 59, 60, 60, 60, 61, 61, 61, 62,\n",
              "       62, 62, 63, 63, 63, 64, 64, 64, 65, 65, 65, 66, 66, 66, 67, 67, 67])"
            ]
          },
          "metadata": {
            "tags": []
          },
          "execution_count": 83
        }
      ]
    },
    {
      "cell_type": "code",
      "metadata": {
        "id": "PSQrpv3TnjOT",
        "colab_type": "code",
        "colab": {
          "base_uri": "https://localhost:8080/",
          "height": 34
        },
        "outputId": "a10de859-aa64-4d3a-e8ad-9ec1b2707d6e"
      },
      "source": [
        "Colour_accuracy = accuracy_score(Colour_TestData.classes, Colour_predict_classes)\n",
        "print(\"Colour Accuracy: \", Colour_accuracy)"
      ],
      "execution_count": null,
      "outputs": [
        {
          "output_type": "stream",
          "text": [
            "Colour Accuracy:  0.9901960784313726\n"
          ],
          "name": "stdout"
        }
      ]
    },
    {
      "cell_type": "code",
      "metadata": {
        "id": "2KnURHVhnlMS",
        "colab_type": "code",
        "colab": {
          "base_uri": "https://localhost:8080/",
          "height": 34
        },
        "outputId": "76db89cf-1827-46f8-f706-6dc1d4525228"
      },
      "source": [
        "Colour_precision = precision_score(Colour_TestData.classes, Colour_predict_classes,average=\"weighted\")\n",
        "print(\"Colour Precision: \", Colour_precision)"
      ],
      "execution_count": null,
      "outputs": [
        {
          "output_type": "stream",
          "text": [
            "Colour Precision:  0.9941176470588236\n"
          ],
          "name": "stdout"
        }
      ]
    },
    {
      "cell_type": "code",
      "metadata": {
        "id": "sIJkNb0mnnHF",
        "colab_type": "code",
        "colab": {
          "base_uri": "https://localhost:8080/",
          "height": 34
        },
        "outputId": "0e37e833-0ce7-42ba-edde-7fbd98992c6c"
      },
      "source": [
        "Colour_recall = recall_score(Colour_TestData.classes, Colour_predict_classes, average=\"weighted\")\n",
        "print(\"Colour Recall:\", Colour_recall)"
      ],
      "execution_count": null,
      "outputs": [
        {
          "output_type": "stream",
          "text": [
            "Colour Recall: 0.9901960784313726\n"
          ],
          "name": "stdout"
        }
      ]
    },
    {
      "cell_type": "code",
      "metadata": {
        "id": "JIIfwpmknpK-",
        "colab_type": "code",
        "colab": {
          "base_uri": "https://localhost:8080/",
          "height": 34
        },
        "outputId": "00ef2bb7-1e99-4376-e2ba-6d834fa69c5a"
      },
      "source": [
        "Colour_f1_score = f1_score(Colour_TestData.classes, Colour_predict_classes, average=\"weighted\")\n",
        "print(\"F1 score for colour: \", Colour_f1_score)"
      ],
      "execution_count": null,
      "outputs": [
        {
          "output_type": "stream",
          "text": [
            "F1 score for colour:  0.9889705882352942\n"
          ],
          "name": "stdout"
        }
      ]
    },
    {
      "cell_type": "markdown",
      "metadata": {
        "id": "DT-ONFbTnwU2",
        "colab_type": "text"
      },
      "source": [
        "**Emsemble**"
      ]
    },
    {
      "cell_type": "code",
      "metadata": {
        "id": "SKxllc6Vnqw1",
        "colab_type": "code",
        "colab": {}
      },
      "source": [
        "Final = 0.6* Colour_predict + 0.4* Grey_predict"
      ],
      "execution_count": null,
      "outputs": []
    },
    {
      "cell_type": "code",
      "metadata": {
        "id": "akhdMQd_n0o8",
        "colab_type": "code",
        "colab": {}
      },
      "source": [
        "Final_Predict_classes = np.argmax(Final, axis=1)"
      ],
      "execution_count": null,
      "outputs": []
    },
    {
      "cell_type": "code",
      "metadata": {
        "id": "nVSUUU-fn3ej",
        "colab_type": "code",
        "colab": {
          "base_uri": "https://localhost:8080/",
          "height": 221
        },
        "outputId": "f6c0a4d5-e7ab-4852-ed31-323e652434fd"
      },
      "source": [
        "Final_Predict_classes"
      ],
      "execution_count": null,
      "outputs": [
        {
          "output_type": "execute_result",
          "data": {
            "text/plain": [
              "array([ 9,  0,  9,  1,  1,  1,  2,  2,  2,  3,  3,  3,  4,  4,  4,  5,  5,\n",
              "        5,  6,  6,  6,  7,  7,  7,  8,  8,  8,  9,  9,  9, 10, 10, 10, 11,\n",
              "       11, 11, 12, 12, 12, 13, 13, 13, 14, 14, 14, 15, 15, 15, 16, 16, 16,\n",
              "       17, 17, 17, 18, 18, 18, 19, 19, 19, 20, 20, 20, 21, 21, 21, 22, 22,\n",
              "       22, 23, 23, 23, 24, 24, 24, 25, 25, 25, 26, 26, 26, 27, 27, 27, 28,\n",
              "       28, 28, 29, 29, 29, 30, 30, 30, 31, 31, 31, 32, 32, 32, 33, 33, 33,\n",
              "       34, 34, 34, 35, 35, 35, 36, 36, 36, 37, 37, 37, 38, 38, 38, 39, 39,\n",
              "       39, 40, 40, 40, 41, 41, 41, 42, 42, 42, 43, 43, 43, 44, 44, 44, 45,\n",
              "       45, 45, 46, 46, 46, 47, 47, 47, 48, 48, 48, 49, 49, 49, 50, 50, 50,\n",
              "       51, 51, 51, 52, 52, 52, 53, 53, 53, 54, 54, 54, 55, 55, 55, 56, 56,\n",
              "       56, 57, 57, 57, 58, 58, 58, 59, 59, 59, 60, 60, 60, 61, 61, 61, 62,\n",
              "       62, 62, 63, 63, 63, 64, 64, 64, 65, 65, 65, 66, 66, 66, 67, 67, 67])"
            ]
          },
          "metadata": {
            "tags": []
          },
          "execution_count": 90
        }
      ]
    },
    {
      "cell_type": "code",
      "metadata": {
        "id": "WURTOBtSn5S4",
        "colab_type": "code",
        "colab": {
          "base_uri": "https://localhost:8080/",
          "height": 34
        },
        "outputId": "37573e51-94ac-4c79-ecf3-930dfe5d802c"
      },
      "source": [
        "Final_accuracy = accuracy_score(Colour_TestData.classes, Final_Predict_classes)\n",
        "print(\"Colour Accuracy: \", Final_accuracy)"
      ],
      "execution_count": null,
      "outputs": [
        {
          "output_type": "stream",
          "text": [
            "Colour Accuracy:  0.9901960784313726\n"
          ],
          "name": "stdout"
        }
      ]
    },
    {
      "cell_type": "code",
      "metadata": {
        "id": "zGPbH7LEn5-l",
        "colab_type": "code",
        "colab": {
          "base_uri": "https://localhost:8080/",
          "height": 34
        },
        "outputId": "87019d64-a793-4cd4-9b84-b9fca6f50857"
      },
      "source": [
        "Final_precision = precision_score(Colour_TestData.classes, Final_Predict_classes,average=\"weighted\")\n",
        "print(\"Colour Precision: \", Final_precision)"
      ],
      "execution_count": null,
      "outputs": [
        {
          "output_type": "stream",
          "text": [
            "Colour Precision:  0.9941176470588236\n"
          ],
          "name": "stdout"
        }
      ]
    },
    {
      "cell_type": "code",
      "metadata": {
        "id": "NNQSHv7On8GD",
        "colab_type": "code",
        "colab": {
          "base_uri": "https://localhost:8080/",
          "height": 34
        },
        "outputId": "3b58e966-851c-4fa6-872e-a9452aa246b8"
      },
      "source": [
        "Final_recall = recall_score(Colour_TestData.classes, Final_Predict_classes, average=\"weighted\")\n",
        "print(\"Colour Recall:\", Final_recall)"
      ],
      "execution_count": null,
      "outputs": [
        {
          "output_type": "stream",
          "text": [
            "Colour Recall: 0.9901960784313726\n"
          ],
          "name": "stdout"
        }
      ]
    },
    {
      "cell_type": "code",
      "metadata": {
        "id": "jLJajLiqn-J0",
        "colab_type": "code",
        "colab": {
          "base_uri": "https://localhost:8080/",
          "height": 34
        },
        "outputId": "68cb9242-fa5c-4455-da64-aee648642ec5"
      },
      "source": [
        "Final_f1_score = f1_score(Colour_TestData.classes, Final_Predict_classes, average=\"weighted\")\n",
        "print(\"F1 score for colour: \", Final_f1_score)"
      ],
      "execution_count": null,
      "outputs": [
        {
          "output_type": "stream",
          "text": [
            "F1 score for colour:  0.9889705882352942\n"
          ],
          "name": "stdout"
        }
      ]
    },
    {
      "cell_type": "code",
      "metadata": {
        "id": "-ql8Js1RvHJq",
        "colab_type": "code",
        "colab": {}
      },
      "source": [
        "Second_Final = 0.5* Colour_predict + 0.5 * Grey_predict"
      ],
      "execution_count": null,
      "outputs": []
    },
    {
      "cell_type": "code",
      "metadata": {
        "id": "3B3YHfUvvK8Z",
        "colab_type": "code",
        "colab": {}
      },
      "source": [
        "Second_predict_classes = np.argmax(Second_Final, axis=1)"
      ],
      "execution_count": null,
      "outputs": []
    },
    {
      "cell_type": "code",
      "metadata": {
        "id": "OOK23ZusvOFV",
        "colab_type": "code",
        "colab": {
          "base_uri": "https://localhost:8080/",
          "height": 221
        },
        "outputId": "38e20d5f-3c05-4729-b444-ae230778df06"
      },
      "source": [
        "Second_predict_classes"
      ],
      "execution_count": null,
      "outputs": [
        {
          "output_type": "execute_result",
          "data": {
            "text/plain": [
              "array([ 9,  0,  9, 21,  1, 21,  2,  2,  2,  3,  3,  3,  4,  4,  4,  5,  5,\n",
              "       13,  6,  6,  6,  7,  7,  7,  8,  8,  8,  9,  9,  9, 10, 10, 10, 21,\n",
              "       21, 21, 12, 12, 12, 13, 13, 13, 14, 14, 14, 15, 15, 15, 16, 16, 16,\n",
              "       17, 17, 17, 18, 18, 18, 19, 19, 19, 20, 20, 20, 21, 21, 21, 21, 21,\n",
              "       21, 23, 23, 23, 24, 24, 21, 21, 21, 21, 26, 26, 26, 21, 27, 27, 28,\n",
              "       28, 21, 29, 29, 29, 30, 30, 30, 21, 21, 31, 32, 32, 32, 21, 21, 33,\n",
              "       34, 34, 34, 35, 35, 21, 36, 36, 36, 37, 37, 37, 38, 38, 38, 39, 39,\n",
              "       39, 40, 40, 40, 41, 41, 41, 42, 42, 42, 43, 43, 43, 44, 44, 44, 45,\n",
              "       45, 45, 46, 46, 46, 47, 47, 47, 48, 48, 48, 49, 49, 21, 50, 50, 50,\n",
              "       21, 21, 51, 52, 52, 21, 53, 53, 53, 54, 54, 54, 55, 55, 55, 56, 56,\n",
              "       56, 21, 21, 21, 21, 21, 21, 59, 59, 59, 60, 60, 60, 61, 61, 61, 62,\n",
              "       62, 62, 63, 63, 63, 64, 64, 64, 65, 65, 65, 66, 66, 66, 67, 67, 67])"
            ]
          },
          "metadata": {
            "tags": []
          },
          "execution_count": 97
        }
      ]
    },
    {
      "cell_type": "code",
      "metadata": {
        "id": "DtjYtAzuvQpi",
        "colab_type": "code",
        "colab": {
          "base_uri": "https://localhost:8080/",
          "height": 34
        },
        "outputId": "4a897e4a-a420-4e4e-c1ee-a09f756bb4bd"
      },
      "source": [
        "Second_Final_accuracy = accuracy_score(Colour_TestData.classes, Second_predict_classes)\n",
        "Second_Final_accuracy"
      ],
      "execution_count": null,
      "outputs": [
        {
          "output_type": "execute_result",
          "data": {
            "text/plain": [
              "0.8431372549019608"
            ]
          },
          "metadata": {
            "tags": []
          },
          "execution_count": 98
        }
      ]
    },
    {
      "cell_type": "code",
      "metadata": {
        "id": "u6hy6luwH5aQ",
        "colab_type": "code",
        "colab": {}
      },
      "source": [
        "Final = 0.8* Colour_predict + 0.2* Grey_predict"
      ],
      "execution_count": null,
      "outputs": []
    },
    {
      "cell_type": "code",
      "metadata": {
        "id": "ncY-2tKdH-mF",
        "colab_type": "code",
        "colab": {}
      },
      "source": [
        "Final_Predict_classes = np.argmax(Final, axis=1)"
      ],
      "execution_count": null,
      "outputs": []
    },
    {
      "cell_type": "code",
      "metadata": {
        "id": "TNHLRegcH_2X",
        "colab_type": "code",
        "colab": {
          "base_uri": "https://localhost:8080/",
          "height": 34
        },
        "outputId": "1a0f1d5c-8e05-4861-9159-dbdc63e00f77"
      },
      "source": [
        "Final_accuracy = accuracy_score(Colour_TestData.classes, Final_Predict_classes)\n",
        "print(\"Colour Accuracy: \", Final_accuracy)"
      ],
      "execution_count": null,
      "outputs": [
        {
          "output_type": "stream",
          "text": [
            "Colour Accuracy:  0.9901960784313726\n"
          ],
          "name": "stdout"
        }
      ]
    }
  ]
}